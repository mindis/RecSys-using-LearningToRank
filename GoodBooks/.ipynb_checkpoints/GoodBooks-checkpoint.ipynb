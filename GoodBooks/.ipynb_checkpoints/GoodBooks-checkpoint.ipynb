{
 "cells": [
  {
   "cell_type": "code",
   "execution_count": 8,
   "metadata": {
    "ExecuteTime": {
     "end_time": "2020-09-02T19:59:27.506526Z",
     "start_time": "2020-09-02T19:59:27.502537Z"
    }
   },
   "outputs": [],
   "source": [
    "import pandas as pd\n",
    "import numpy as np\n",
    "import matplotlib.pyplot as plt\n",
    "from spotlight.factorization.implicit import ImplicitFactorizationModel\n",
    "from spotlight.interactions import Interactions\n",
    "from spotlight.cross_validation import random_train_test_split"
   ]
  },
  {
   "cell_type": "code",
   "execution_count": 9,
   "metadata": {
    "ExecuteTime": {
     "end_time": "2020-09-02T19:59:29.603798Z",
     "start_time": "2020-09-02T19:59:27.666485Z"
    }
   },
   "outputs": [],
   "source": [
    "ratings_df = pd.read_csv('C:/Users/papad/Desktop/goodbooks-10k-master/goodbooks-10k-master/ratings.csv')\n",
    "books_df = pd.read_csv('C:/Users/papad/Desktop/goodbooks-10k-master/goodbooks-10k-master/books.csv')\n",
    "to_read_df = pd.read_csv('C:/Users/papad/Desktop/goodbooks-10k-master/goodbooks-10k-master/to_read.csv')\n",
    "book_tags_df = pd.read_csv('C:/Users/papad/Desktop/goodbooks-10k-master/goodbooks-10k-master/book_tags.csv')\n",
    "tags_df = pd.read_csv('C:/Users/papad/Desktop/goodbooks-10k-master/goodbooks-10k-master/tags.csv')"
   ]
  },
  {
   "cell_type": "markdown",
   "metadata": {},
   "source": [
    "# Dataset"
   ]
  },
  {
   "cell_type": "code",
   "execution_count": 10,
   "metadata": {
    "ExecuteTime": {
     "end_time": "2020-09-02T19:59:29.610514Z",
     "start_time": "2020-09-02T19:59:29.606296Z"
    },
    "cell_style": "center"
   },
   "outputs": [],
   "source": [
    "percentage = 1.7\n",
    "ratings_df = ratings_df.head(int(len(ratings_df)*(percentage/100)))"
   ]
  },
  {
   "cell_type": "code",
   "execution_count": 11,
   "metadata": {
    "ExecuteTime": {
     "end_time": "2020-09-02T19:59:29.637968Z",
     "start_time": "2020-09-02T19:59:29.613007Z"
    },
    "cell_style": "center"
   },
   "outputs": [
    {
     "data": {
      "text/html": [
       "<div>\n",
       "<style scoped>\n",
       "    .dataframe tbody tr th:only-of-type {\n",
       "        vertical-align: middle;\n",
       "    }\n",
       "\n",
       "    .dataframe tbody tr th {\n",
       "        vertical-align: top;\n",
       "    }\n",
       "\n",
       "    .dataframe thead th {\n",
       "        text-align: right;\n",
       "    }\n",
       "</style>\n",
       "<table border=\"1\" class=\"dataframe\">\n",
       "  <thead>\n",
       "    <tr style=\"text-align: right;\">\n",
       "      <th></th>\n",
       "      <th>book_id</th>\n",
       "      <th>goodreads_book_id</th>\n",
       "      <th>best_book_id</th>\n",
       "      <th>work_id</th>\n",
       "      <th>books_count</th>\n",
       "      <th>isbn</th>\n",
       "      <th>isbn13</th>\n",
       "      <th>authors</th>\n",
       "      <th>original_publication_year</th>\n",
       "      <th>original_title</th>\n",
       "      <th>...</th>\n",
       "      <th>ratings_count</th>\n",
       "      <th>work_ratings_count</th>\n",
       "      <th>work_text_reviews_count</th>\n",
       "      <th>ratings_1</th>\n",
       "      <th>ratings_2</th>\n",
       "      <th>ratings_3</th>\n",
       "      <th>ratings_4</th>\n",
       "      <th>ratings_5</th>\n",
       "      <th>image_url</th>\n",
       "      <th>small_image_url</th>\n",
       "    </tr>\n",
       "  </thead>\n",
       "  <tbody>\n",
       "    <tr>\n",
       "      <th>9438</th>\n",
       "      <td>9439</td>\n",
       "      <td>35539</td>\n",
       "      <td>35539</td>\n",
       "      <td>1654509</td>\n",
       "      <td>17</td>\n",
       "      <td>316013315</td>\n",
       "      <td>9.780316e+12</td>\n",
       "      <td>Bob Spitz</td>\n",
       "      <td>2005.0</td>\n",
       "      <td>The Beatles: The Biography</td>\n",
       "      <td>...</td>\n",
       "      <td>8120</td>\n",
       "      <td>8464</td>\n",
       "      <td>390</td>\n",
       "      <td>205</td>\n",
       "      <td>314</td>\n",
       "      <td>1270</td>\n",
       "      <td>3020</td>\n",
       "      <td>3655</td>\n",
       "      <td>https://images.gr-assets.com/books/1327951066m...</td>\n",
       "      <td>https://images.gr-assets.com/books/1327951066s...</td>\n",
       "    </tr>\n",
       "  </tbody>\n",
       "</table>\n",
       "<p>1 rows × 23 columns</p>\n",
       "</div>"
      ],
      "text/plain": [
       "      book_id  goodreads_book_id  best_book_id  work_id  books_count  \\\n",
       "9438     9439              35539         35539  1654509           17   \n",
       "\n",
       "           isbn        isbn13    authors  original_publication_year  \\\n",
       "9438  316013315  9.780316e+12  Bob Spitz                     2005.0   \n",
       "\n",
       "                  original_title  ... ratings_count work_ratings_count  \\\n",
       "9438  The Beatles: The Biography  ...          8120               8464   \n",
       "\n",
       "      work_text_reviews_count  ratings_1  ratings_2  ratings_3  ratings_4  \\\n",
       "9438                      390        205        314       1270       3020   \n",
       "\n",
       "      ratings_5                                          image_url  \\\n",
       "9438       3655  https://images.gr-assets.com/books/1327951066m...   \n",
       "\n",
       "                                        small_image_url  \n",
       "9438  https://images.gr-assets.com/books/1327951066s...  \n",
       "\n",
       "[1 rows x 23 columns]"
      ]
     },
     "execution_count": 11,
     "metadata": {},
     "output_type": "execute_result"
    }
   ],
   "source": [
    "books_df[books_df['book_id']==9439]"
   ]
  },
  {
   "cell_type": "code",
   "execution_count": 12,
   "metadata": {
    "ExecuteTime": {
     "end_time": "2020-09-02T19:59:29.652274Z",
     "start_time": "2020-09-02T19:59:29.640466Z"
    }
   },
   "outputs": [
    {
     "data": {
      "text/html": [
       "<div>\n",
       "<style scoped>\n",
       "    .dataframe tbody tr th:only-of-type {\n",
       "        vertical-align: middle;\n",
       "    }\n",
       "\n",
       "    .dataframe tbody tr th {\n",
       "        vertical-align: top;\n",
       "    }\n",
       "\n",
       "    .dataframe thead th {\n",
       "        text-align: right;\n",
       "    }\n",
       "</style>\n",
       "<table border=\"1\" class=\"dataframe\">\n",
       "  <thead>\n",
       "    <tr style=\"text-align: right;\">\n",
       "      <th></th>\n",
       "      <th>user_id</th>\n",
       "      <th>book_id</th>\n",
       "      <th>rating</th>\n",
       "    </tr>\n",
       "  </thead>\n",
       "  <tbody>\n",
       "    <tr>\n",
       "      <th>0</th>\n",
       "      <td>1</td>\n",
       "      <td>258</td>\n",
       "      <td>5</td>\n",
       "    </tr>\n",
       "    <tr>\n",
       "      <th>1</th>\n",
       "      <td>2</td>\n",
       "      <td>4081</td>\n",
       "      <td>4</td>\n",
       "    </tr>\n",
       "    <tr>\n",
       "      <th>2</th>\n",
       "      <td>2</td>\n",
       "      <td>260</td>\n",
       "      <td>5</td>\n",
       "    </tr>\n",
       "    <tr>\n",
       "      <th>3</th>\n",
       "      <td>2</td>\n",
       "      <td>9296</td>\n",
       "      <td>5</td>\n",
       "    </tr>\n",
       "    <tr>\n",
       "      <th>4</th>\n",
       "      <td>2</td>\n",
       "      <td>2318</td>\n",
       "      <td>3</td>\n",
       "    </tr>\n",
       "    <tr>\n",
       "      <th>...</th>\n",
       "      <td>...</td>\n",
       "      <td>...</td>\n",
       "      <td>...</td>\n",
       "    </tr>\n",
       "    <tr>\n",
       "      <th>101595</th>\n",
       "      <td>344</td>\n",
       "      <td>27</td>\n",
       "      <td>3</td>\n",
       "    </tr>\n",
       "    <tr>\n",
       "      <th>101596</th>\n",
       "      <td>344</td>\n",
       "      <td>21</td>\n",
       "      <td>3</td>\n",
       "    </tr>\n",
       "    <tr>\n",
       "      <th>101597</th>\n",
       "      <td>344</td>\n",
       "      <td>25</td>\n",
       "      <td>3</td>\n",
       "    </tr>\n",
       "    <tr>\n",
       "      <th>101598</th>\n",
       "      <td>344</td>\n",
       "      <td>23</td>\n",
       "      <td>3</td>\n",
       "    </tr>\n",
       "    <tr>\n",
       "      <th>101599</th>\n",
       "      <td>2951</td>\n",
       "      <td>5779</td>\n",
       "      <td>4</td>\n",
       "    </tr>\n",
       "  </tbody>\n",
       "</table>\n",
       "<p>101600 rows × 3 columns</p>\n",
       "</div>"
      ],
      "text/plain": [
       "        user_id  book_id  rating\n",
       "0             1      258       5\n",
       "1             2     4081       4\n",
       "2             2      260       5\n",
       "3             2     9296       5\n",
       "4             2     2318       3\n",
       "...         ...      ...     ...\n",
       "101595      344       27       3\n",
       "101596      344       21       3\n",
       "101597      344       25       3\n",
       "101598      344       23       3\n",
       "101599     2951     5779       4\n",
       "\n",
       "[101600 rows x 3 columns]"
      ]
     },
     "execution_count": 12,
     "metadata": {},
     "output_type": "execute_result"
    }
   ],
   "source": [
    "ratings_df"
   ]
  },
  {
   "cell_type": "code",
   "execution_count": 13,
   "metadata": {
    "ExecuteTime": {
     "end_time": "2020-09-02T19:59:29.666236Z",
     "start_time": "2020-09-02T19:59:29.654268Z"
    },
    "scrolled": true
   },
   "outputs": [
    {
     "name": "stdout",
     "output_type": "stream",
     "text": [
      "1823\n",
      "5050\n"
     ]
    }
   ],
   "source": [
    "num_users = ratings_df['user_id'].unique()\n",
    "print(len(num_users))\n",
    "num_items = ratings_df['book_id'].unique()\n",
    "print(len(num_items))"
   ]
  },
  {
   "cell_type": "markdown",
   "metadata": {},
   "source": [
    "# Spotlight"
   ]
  },
  {
   "cell_type": "markdown",
   "metadata": {},
   "source": [
    "Spotlight users and items ids should be consecutive. For that purpose in the cell below, the defaultdict function from the collections library is used to provide, the uid_map and iid_map. These variables contain consecutive numbers equal to the number of users and items respectively. These are necessary to create the interaction objects, which are the fundamental objects of the Spotlight platform, and are required in order to build a Spotlight recommender. \n",
    "\n",
    "Then I keep the reveresed mapped user and item ids, to take the real predicted item ids when i finish the process with the Spotlight model."
   ]
  },
  {
   "cell_type": "code",
   "execution_count": 7,
   "metadata": {
    "ExecuteTime": {
     "end_time": "2020-08-31T14:01:11.192677Z",
     "start_time": "2020-08-31T14:01:11.024393Z"
    }
   },
   "outputs": [
    {
     "name": "stdout",
     "output_type": "stream",
     "text": [
      "userId 556 got uid 1157\n",
      "movieId 54001 got iid 4477\n"
     ]
    }
   ],
   "source": [
    "from collections import defaultdict\n",
    "from itertools import count\n",
    "uid_map = defaultdict(count().__next__)\n",
    "iid_map = defaultdict(count().__next__)\n",
    "uids = np.array([uid_map[uid] for uid in ratings_df[\"user_id\"].values ], dtype=np.int32)\n",
    "iids = np.array([iid_map[iid] for iid in ratings_df[\"book_id\"].values ], dtype=np.int32)\n",
    "\n",
    "uid_rev_map = {v: k for k, v in uid_map.items()}\n",
    "iid_rev_map = {v: k for k, v in iid_map.items()}\n",
    "\n",
    "\n",
    "print(\"userId %d got uid %d\" % (556, uid_map[556]))\n",
    "print(\"movieId %d got iid %d\" % (54001, iid_map[54001]))"
   ]
  },
  {
   "cell_type": "markdown",
   "metadata": {},
   "source": [
    "Interactions refer, to the user-item interactions. Each interaction contains a user-item pair interaction, and it can be added a timestamp, and for explicit models, a rating.\n",
    "\n",
    "After creating the Interactions object I split the data using the random_train_test_split function from the Spotlight library. I firstly split my dataset into train set, test set, validation set. \n",
    "Having in mind that a lightGBM that combines the knowledge extracted from a few baseline models, I split the training set into features and label sets, to use them to formulate the data in order to train the lightGBM model later."
   ]
  },
  {
   "cell_type": "code",
   "execution_count": 8,
   "metadata": {
    "ExecuteTime": {
     "end_time": "2020-08-31T14:01:11.267152Z",
     "start_time": "2020-08-31T14:01:11.203753Z"
    }
   },
   "outputs": [],
   "source": [
    "from spotlight.interactions import Interactions\n",
    "from spotlight.cross_validation import random_train_test_split\n",
    "from spotlight.factorization.implicit import ImplicitFactorizationModel\n",
    "import time  \n",
    "\n",
    "\n",
    "#pecify the ids of the users and items for all the pairs of user-item interactions\n",
    "implicit_interaction = Interactions(user_ids=uids,\n",
    "                                   item_ids=iids)\n",
    "\n",
    "\n",
    "#lets initialise the seed, so that its repeatable and reproducible \n",
    "implicit_train_tmp, implicit_test = random_train_test_split(implicit_interaction, random_state=np.random.seed(42))\n",
    "implicit_train, implicit_val = random_train_test_split(implicit_train_tmp, random_state=np.random.seed(42))\n",
    "implicit_train_features, implicit_train_labels = random_train_test_split(implicit_train, random_state=np.random.seed(42))"
   ]
  },
  {
   "cell_type": "code",
   "execution_count": 9,
   "metadata": {
    "ExecuteTime": {
     "end_time": "2020-08-31T14:01:11.298872Z",
     "start_time": "2020-08-31T14:01:11.281198Z"
    }
   },
   "outputs": [
    {
     "name": "stdout",
     "output_type": "stream",
     "text": [
      "<Interactions dataset (1157 users x 4477 items x 38248 interactions)>\n",
      "<Interactions dataset (1157 users x 4477 items x 11953 interactions)>\n",
      "<Interactions dataset (1157 users x 4477 items x 9563 interactions)>\n",
      "<Interactions dataset (1157 users x 4477 items x 30598 interactions)>\n",
      "<Interactions dataset (1157 users x 4477 items x 7650 interactions)>\n"
     ]
    }
   ],
   "source": [
    "print(implicit_train)\n",
    "print(implicit_test)\n",
    "print(implicit_val)\n",
    "print(implicit_train_features)\n",
    "print(implicit_train_labels)"
   ]
  },
  {
   "cell_type": "markdown",
   "metadata": {},
   "source": [
    "Apart from a Spotlight model, an SVD model is trained, so the conversion of the Interaction objects to dataframes is thought as necessary, as the same data should be used for all the model, to provide fair comparisons."
   ]
  },
  {
   "cell_type": "code",
   "execution_count": 10,
   "metadata": {
    "ExecuteTime": {
     "end_time": "2020-08-31T14:01:11.342334Z",
     "start_time": "2020-08-31T14:01:11.307851Z"
    }
   },
   "outputs": [],
   "source": [
    "def interactionToDataFrame(dataset):\n",
    "    converted_users = []\n",
    "    converted_books = []\n",
    "    rating = []\n",
    "    for i in range(len(dataset.user_ids)):\n",
    "        converted_users.append(uid_rev_map[dataset.user_ids[i]])\n",
    "        converted_books.append(iid_rev_map[dataset.item_ids[i]])\n",
    "        rating.append(float(ratings_df['rating'][(ratings_df['book_id'] == converted_books[i]) & (\n",
    "            ratings_df['user_id'] == converted_users[i])].values))\n",
    "    df = pd.DataFrame({'user_id': converted_users,\n",
    "                       'book_id': converted_books, 'rating': rating})\n",
    "    return df"
   ]
  },
  {
   "cell_type": "code",
   "execution_count": 11,
   "metadata": {
    "ExecuteTime": {
     "end_time": "2020-08-31T14:04:44.444493Z",
     "start_time": "2020-08-31T14:01:11.350626Z"
    }
   },
   "outputs": [],
   "source": [
    "train_df = interactionToDataFrame(implicit_train)\n",
    "val_df = interactionToDataFrame(implicit_val)\n",
    "test_df = interactionToDataFrame(implicit_test)\n",
    "train_features_df = interactionToDataFrame(implicit_train_features)\n",
    "train_labels_df = interactionToDataFrame(implicit_train_labels)"
   ]
  },
  {
   "cell_type": "markdown",
   "metadata": {},
   "source": [
    "## Implicit Factorization model"
   ]
  },
  {
   "cell_type": "markdown",
   "metadata": {},
   "source": [
    "The model form the Spotlight, that is used is the Implicit Factorization model. This is a model used to address implicit feedback from the users. To make it clear, the implicit feedback in a movie platform could be the movie that a user watched but did not gave a rating. Given, that he/ she watched some movies, knowledge can be extracted about his/her preferences, without having ratings."
   ]
  },
  {
   "cell_type": "code",
   "execution_count": 12,
   "metadata": {
    "ExecuteTime": {
     "end_time": "2020-08-31T14:05:23.226562Z",
     "start_time": "2020-08-31T14:04:44.448359Z"
    }
   },
   "outputs": [
    {
     "name": "stdout",
     "output_type": "stream",
     "text": [
      "Epoch 0: loss 0.8884793090820312\n",
      "Epoch 1: loss 0.5257788654168447\n",
      "Epoch 2: loss 0.4345852353175481\n",
      "Epoch 3: loss 0.3761194217205048\n",
      "Epoch 4: loss 0.33019956866900124\n",
      "Training took 38 second\n"
     ]
    }
   ],
   "source": [
    "implicit_model = ImplicitFactorizationModel(n_iter=5)\n",
    "\n",
    "current = time.time()\n",
    "\n",
    "implicit_model.fit(implicit_train, verbose=True)\n",
    "\n",
    "end = time.time()\n",
    "diff = end - current\n",
    "print('Training took %d second' % (diff))"
   ]
  },
  {
   "cell_type": "markdown",
   "metadata": {},
   "source": [
    "### Top - K"
   ]
  },
  {
   "cell_type": "markdown",
   "metadata": {},
   "source": [
    "The idea is to provide the top-K(100) recommendations for each user and then evaluate the results using the NDCG evaluation metric. \n",
    "\n",
    "For this purpose on the cell below, the topK recommendations for a user are calculated.\n",
    "\n",
    "The function below, topK_implicit, has been introduced on the lab of the course Recommender Systems."
   ]
  },
  {
   "cell_type": "code",
   "execution_count": 13,
   "metadata": {
    "ExecuteTime": {
     "end_time": "2020-08-31T14:05:23.280824Z",
     "start_time": "2020-08-31T14:05:23.234070Z"
    },
    "cell_style": "split"
   },
   "outputs": [
    {
     "name": "stdout",
     "output_type": "stream",
     "text": [
      "[26, 33, 301, 18, 27, 21, 2, 23, 24, 35, 287, 58, 111, 5, 8, 65, 45, 14, 55, 13, 1796, 867, 50, 87, 32, 28, 495, 11, 101, 344, 122, 9, 81, 60, 238, 570, 181, 119, 213, 407, 10, 171, 94, 516, 233, 115, 177, 4, 483, 100, 92, 401, 131, 662, 284, 378, 323, 860, 130, 78, 186, 150, 66, 114, 132, 22, 7, 75, 121, 272, 217, 80, 228, 43, 57, 273, 172, 125, 138, 29, 118, 178, 354, 108, 955, 64, 383, 127, 714, 38, 916, 225, 523, 40, 410, 44, 25, 170, 104, 67]\n"
     ]
    }
   ],
   "source": [
    "import scipy.stats as st\n",
    "k = 100\n",
    "def topK_implicit(user, model, k=100):\n",
    "  a= list()\n",
    "  ranks = st.rankdata(-model.predict(user))   \n",
    "  for iid in np.argwhere(ranks <= k):\n",
    "    a.append(iid_rev_map[iid.item(0)])\n",
    "  return a\n",
    "\n",
    "rec_forUser = topK_implicit(0,implicit_model)\n",
    "print(rec_forUser)"
   ]
  },
  {
   "cell_type": "markdown",
   "metadata": {},
   "source": [
    "The topK recommendations for all users are needed, so the function below returns the topK recommendations for all the users, taking advantage of the function above."
   ]
  },
  {
   "cell_type": "code",
   "execution_count": 14,
   "metadata": {
    "ExecuteTime": {
     "end_time": "2020-08-31T14:05:23.317186Z",
     "start_time": "2020-08-31T14:05:23.287645Z"
    },
    "cell_style": "split"
   },
   "outputs": [],
   "source": [
    "def allUsers_topK_implicit(model):\n",
    "    a = []\n",
    "    for i in range(len(num_users)):\n",
    "       a.append(topK_implicit(i,model))\n",
    "    return a"
   ]
  },
  {
   "cell_type": "markdown",
   "metadata": {},
   "source": [
    "### NDCG Score"
   ]
  },
  {
   "cell_type": "code",
   "execution_count": 15,
   "metadata": {
    "ExecuteTime": {
     "end_time": "2020-08-31T14:05:29.305127Z",
     "start_time": "2020-08-31T14:05:23.324732Z"
    }
   },
   "outputs": [],
   "source": [
    "allUsers_topK_imp = allUsers_topK_implicit(implicit_model)"
   ]
  },
  {
   "cell_type": "markdown",
   "metadata": {},
   "source": [
    "To provide the NDCG value it is necessary to compute the relevance for each user. The relevance containes 0s and 1s, based on which of the topK recommended movies the user has actually watched. For every recommended movie that the user has actually watched, the value of 1 is assigned. \n",
    "\n",
    "The function below returns a list that contains a relevance list for each user."
   ]
  },
  {
   "cell_type": "code",
   "execution_count": 16,
   "metadata": {
    "ExecuteTime": {
     "end_time": "2020-08-31T14:05:29.338002Z",
     "start_time": "2020-08-31T14:05:29.311418Z"
    }
   },
   "outputs": [],
   "source": [
    "def relevance_spotlight_implicit(allUsers_topK):\n",
    "    relevance_implicit_full = []\n",
    "    helper = []\n",
    "    count = 0\n",
    "    for i in range(1,len(num_users)+1):\n",
    "        for j in range(len(allUsers_topK[count])):\n",
    "            if allUsers_topK[count][j] in test_df['book_id'][test_df['user_id'] == i].values.tolist():\n",
    "                helper.append(1)\n",
    "            else:\n",
    "                helper.append(0)\n",
    "        relevance_implicit_full.append(helper)\n",
    "        helper = []\n",
    "        count += 1\n",
    "    return relevance_implicit_full"
   ]
  },
  {
   "cell_type": "markdown",
   "metadata": {},
   "source": [
    "The relevance_implicit_full variable contains the relevance list of each user for the implicit factorization model results."
   ]
  },
  {
   "cell_type": "code",
   "execution_count": 17,
   "metadata": {
    "ExecuteTime": {
     "end_time": "2020-08-31T14:07:45.057078Z",
     "start_time": "2020-08-31T14:05:29.345303Z"
    }
   },
   "outputs": [],
   "source": [
    "relevance_implicit_full = relevance_spotlight_implicit(allUsers_topK_imp)"
   ]
  },
  {
   "cell_type": "markdown",
   "metadata": {},
   "source": [
    "The dcg and ideal_dcg functions are taken form https://github.com/lezzago/LambdaMart/blob/master/lambdamart.py. They are necessary to compute the desired NDCG evaluation metric."
   ]
  },
  {
   "cell_type": "code",
   "execution_count": 18,
   "metadata": {
    "ExecuteTime": {
     "end_time": "2020-08-31T14:07:45.101220Z",
     "start_time": "2020-08-31T14:07:45.070699Z"
    }
   },
   "outputs": [],
   "source": [
    "def dcg(scores):\n",
    "    \"\"\"\n",
    "    Returns the DCG value of the list of scores.\n",
    "    Parameters\n",
    "    ----------\n",
    "    scores : list\n",
    "        Contains labels in a certain ranked order\n",
    "\n",
    "    Returns\n",
    "    -------\n",
    "    DCG_val: int\n",
    "        This is the value of the DCG on the given scores\n",
    "    \"\"\"\n",
    "    return np.sum([\n",
    "                    (np.power(2, scores[i]) - 1) / np.log2(i + 2)\n",
    "                    for i in range(len(scores))\n",
    "                ])"
   ]
  },
  {
   "cell_type": "code",
   "execution_count": 19,
   "metadata": {
    "ExecuteTime": {
     "end_time": "2020-08-31T14:07:45.119993Z",
     "start_time": "2020-08-31T14:07:45.110198Z"
    }
   },
   "outputs": [],
   "source": [
    "def ideal_dcg(scores):\n",
    "    \"\"\"\n",
    "    Returns the Ideal DCG value of the list of scores.\n",
    "    Parameters\n",
    "    ----------\n",
    "    scores : list\n",
    "        Contains labels in a certain ranked order\n",
    "\n",
    "    Returns\n",
    "    -------\n",
    "    Ideal_DCG_val: int\n",
    "        This is the value of the Ideal DCG on the given scores\n",
    "    \"\"\"\n",
    "    scores = [score for score in sorted(scores)[::-1]]\n",
    "    return dcg(scores)"
   ]
  },
  {
   "cell_type": "markdown",
   "metadata": {},
   "source": [
    "The function below, NDCG_forUser, given a relevance list, returns the NDCG value. In simpler words, it returns the NDCG value for a user."
   ]
  },
  {
   "cell_type": "code",
   "execution_count": 20,
   "metadata": {
    "ExecuteTime": {
     "end_time": "2020-08-31T14:07:45.135489Z",
     "start_time": "2020-08-31T14:07:45.124270Z"
    }
   },
   "outputs": [],
   "source": [
    "def NDCG_forUser(relevance):\n",
    "    return dcg(relevance) / ideal_dcg(relevance)"
   ]
  },
  {
   "cell_type": "markdown",
   "metadata": {},
   "source": [
    "The function below, allUsers_ndcg, returns a list that contains the NDCG score for each user."
   ]
  },
  {
   "cell_type": "code",
   "execution_count": 21,
   "metadata": {
    "ExecuteTime": {
     "end_time": "2020-08-31T14:07:45.147509Z",
     "start_time": "2020-08-31T14:07:45.138567Z"
    }
   },
   "outputs": [],
   "source": [
    "def allUsers_ndcg(relevance):\n",
    "    allUsers_implicit_ndcg = []\n",
    "    for i in range(len(num_users)):\n",
    "        allUsers_implicit_ndcg.append(NDCG_forUser(relevance[i]))\n",
    "    return allUsers_implicit_ndcg"
   ]
  },
  {
   "cell_type": "code",
   "execution_count": 22,
   "metadata": {
    "ExecuteTime": {
     "end_time": "2020-08-31T14:07:49.181795Z",
     "start_time": "2020-08-31T14:07:45.150501Z"
    }
   },
   "outputs": [
    {
     "name": "stderr",
     "output_type": "stream",
     "text": [
      "C:\\Users\\papad\\Anaconda3\\lib\\site-packages\\ipykernel_launcher.py:2: RuntimeWarning: invalid value encountered in double_scalars\n",
      "  \n"
     ]
    }
   ],
   "source": [
    "allUsers_implicit_ndcg = allUsers_ndcg(relevance_implicit_full)"
   ]
  },
  {
   "cell_type": "markdown",
   "metadata": {},
   "source": [
    "Fill the nan values with 0s."
   ]
  },
  {
   "cell_type": "code",
   "execution_count": 23,
   "metadata": {
    "ExecuteTime": {
     "end_time": "2020-08-31T14:07:49.205860Z",
     "start_time": "2020-08-31T14:07:49.195226Z"
    }
   },
   "outputs": [],
   "source": [
    "allUsers_implicit_ndcg = pd.Series(allUsers_implicit_ndcg).fillna(0).tolist()"
   ]
  },
  {
   "cell_type": "markdown",
   "metadata": {},
   "source": [
    "Compute the mean value of the NDCG scores."
   ]
  },
  {
   "cell_type": "code",
   "execution_count": 24,
   "metadata": {
    "ExecuteTime": {
     "end_time": "2020-08-31T14:07:49.275621Z",
     "start_time": "2020-08-31T14:07:49.213816Z"
    }
   },
   "outputs": [
    {
     "data": {
      "text/plain": [
       "0.1536967026264128"
      ]
     },
     "execution_count": 24,
     "metadata": {},
     "output_type": "execute_result"
    }
   ],
   "source": [
    "np.array(allUsers_implicit_ndcg).mean()"
   ]
  },
  {
   "cell_type": "markdown",
   "metadata": {},
   "source": [
    "# SVD"
   ]
  },
  {
   "cell_type": "markdown",
   "metadata": {},
   "source": [
    "On this section (Section 3), an SVD model is implemented, aiming to provide the top-K recommendations for each user and evaluate the results using the NDCG evaluation metric."
   ]
  },
  {
   "cell_type": "markdown",
   "metadata": {},
   "source": [
    "Pivot is used to have a matrix that has as rows the userIDs and as columns the movieIDs. The unrated, by a user, movies are assigned the value 0 instead of null. Pivot organizes a DataFrame by giving index and column values. It is helpful in the recommender systems approach, as it provides a dataframe in which, it can be seen directly any user-item rating."
   ]
  },
  {
   "cell_type": "code",
   "execution_count": 25,
   "metadata": {
    "ExecuteTime": {
     "end_time": "2020-08-31T14:07:49.490574Z",
     "start_time": "2020-08-31T14:07:49.280105Z"
    }
   },
   "outputs": [],
   "source": [
    "df_book_features = train_df.pivot(\n",
    "    index='user_id',\n",
    "    columns='book_id',\n",
    "    values='rating'\n",
    ").fillna(0)"
   ]
  },
  {
   "cell_type": "code",
   "execution_count": 26,
   "metadata": {
    "ExecuteTime": {
     "end_time": "2020-08-31T14:07:49.681039Z",
     "start_time": "2020-08-31T14:07:49.494920Z"
    }
   },
   "outputs": [
    {
     "data": {
      "text/html": [
       "<div>\n",
       "<style scoped>\n",
       "    .dataframe tbody tr th:only-of-type {\n",
       "        vertical-align: middle;\n",
       "    }\n",
       "\n",
       "    .dataframe tbody tr th {\n",
       "        vertical-align: top;\n",
       "    }\n",
       "\n",
       "    .dataframe thead th {\n",
       "        text-align: right;\n",
       "    }\n",
       "</style>\n",
       "<table border=\"1\" class=\"dataframe\">\n",
       "  <thead>\n",
       "    <tr style=\"text-align: right;\">\n",
       "      <th>book_id</th>\n",
       "      <th>2</th>\n",
       "      <th>3</th>\n",
       "      <th>4</th>\n",
       "      <th>5</th>\n",
       "      <th>7</th>\n",
       "      <th>8</th>\n",
       "      <th>9</th>\n",
       "      <th>10</th>\n",
       "      <th>11</th>\n",
       "      <th>13</th>\n",
       "      <th>...</th>\n",
       "      <th>9966</th>\n",
       "      <th>9972</th>\n",
       "      <th>9974</th>\n",
       "      <th>9978</th>\n",
       "      <th>9981</th>\n",
       "      <th>9985</th>\n",
       "      <th>9988</th>\n",
       "      <th>9990</th>\n",
       "      <th>9991</th>\n",
       "      <th>9995</th>\n",
       "    </tr>\n",
       "    <tr>\n",
       "      <th>user_id</th>\n",
       "      <th></th>\n",
       "      <th></th>\n",
       "      <th></th>\n",
       "      <th></th>\n",
       "      <th></th>\n",
       "      <th></th>\n",
       "      <th></th>\n",
       "      <th></th>\n",
       "      <th></th>\n",
       "      <th></th>\n",
       "      <th></th>\n",
       "      <th></th>\n",
       "      <th></th>\n",
       "      <th></th>\n",
       "      <th></th>\n",
       "      <th></th>\n",
       "      <th></th>\n",
       "      <th></th>\n",
       "      <th></th>\n",
       "      <th></th>\n",
       "      <th></th>\n",
       "    </tr>\n",
       "  </thead>\n",
       "  <tbody>\n",
       "    <tr>\n",
       "      <th>1</th>\n",
       "      <td>0.0</td>\n",
       "      <td>0.0</td>\n",
       "      <td>0.0</td>\n",
       "      <td>0.0</td>\n",
       "      <td>0.0</td>\n",
       "      <td>0.0</td>\n",
       "      <td>0.0</td>\n",
       "      <td>0.0</td>\n",
       "      <td>0.0</td>\n",
       "      <td>0.0</td>\n",
       "      <td>...</td>\n",
       "      <td>0.0</td>\n",
       "      <td>0.0</td>\n",
       "      <td>0.0</td>\n",
       "      <td>0.0</td>\n",
       "      <td>0.0</td>\n",
       "      <td>0.0</td>\n",
       "      <td>0.0</td>\n",
       "      <td>0.0</td>\n",
       "      <td>0.0</td>\n",
       "      <td>0.0</td>\n",
       "    </tr>\n",
       "    <tr>\n",
       "      <th>2</th>\n",
       "      <td>0.0</td>\n",
       "      <td>0.0</td>\n",
       "      <td>0.0</td>\n",
       "      <td>0.0</td>\n",
       "      <td>0.0</td>\n",
       "      <td>0.0</td>\n",
       "      <td>0.0</td>\n",
       "      <td>0.0</td>\n",
       "      <td>0.0</td>\n",
       "      <td>0.0</td>\n",
       "      <td>...</td>\n",
       "      <td>0.0</td>\n",
       "      <td>0.0</td>\n",
       "      <td>0.0</td>\n",
       "      <td>0.0</td>\n",
       "      <td>0.0</td>\n",
       "      <td>0.0</td>\n",
       "      <td>0.0</td>\n",
       "      <td>0.0</td>\n",
       "      <td>0.0</td>\n",
       "      <td>0.0</td>\n",
       "    </tr>\n",
       "    <tr>\n",
       "      <th>4</th>\n",
       "      <td>5.0</td>\n",
       "      <td>0.0</td>\n",
       "      <td>0.0</td>\n",
       "      <td>0.0</td>\n",
       "      <td>0.0</td>\n",
       "      <td>4.0</td>\n",
       "      <td>0.0</td>\n",
       "      <td>5.0</td>\n",
       "      <td>0.0</td>\n",
       "      <td>4.0</td>\n",
       "      <td>...</td>\n",
       "      <td>0.0</td>\n",
       "      <td>0.0</td>\n",
       "      <td>0.0</td>\n",
       "      <td>0.0</td>\n",
       "      <td>0.0</td>\n",
       "      <td>0.0</td>\n",
       "      <td>0.0</td>\n",
       "      <td>0.0</td>\n",
       "      <td>0.0</td>\n",
       "      <td>0.0</td>\n",
       "    </tr>\n",
       "    <tr>\n",
       "      <th>6</th>\n",
       "      <td>0.0</td>\n",
       "      <td>0.0</td>\n",
       "      <td>0.0</td>\n",
       "      <td>0.0</td>\n",
       "      <td>0.0</td>\n",
       "      <td>0.0</td>\n",
       "      <td>0.0</td>\n",
       "      <td>0.0</td>\n",
       "      <td>0.0</td>\n",
       "      <td>0.0</td>\n",
       "      <td>...</td>\n",
       "      <td>0.0</td>\n",
       "      <td>0.0</td>\n",
       "      <td>0.0</td>\n",
       "      <td>0.0</td>\n",
       "      <td>0.0</td>\n",
       "      <td>0.0</td>\n",
       "      <td>0.0</td>\n",
       "      <td>0.0</td>\n",
       "      <td>0.0</td>\n",
       "      <td>0.0</td>\n",
       "    </tr>\n",
       "    <tr>\n",
       "      <th>7</th>\n",
       "      <td>0.0</td>\n",
       "      <td>0.0</td>\n",
       "      <td>0.0</td>\n",
       "      <td>0.0</td>\n",
       "      <td>0.0</td>\n",
       "      <td>2.0</td>\n",
       "      <td>0.0</td>\n",
       "      <td>0.0</td>\n",
       "      <td>0.0</td>\n",
       "      <td>0.0</td>\n",
       "      <td>...</td>\n",
       "      <td>0.0</td>\n",
       "      <td>0.0</td>\n",
       "      <td>0.0</td>\n",
       "      <td>0.0</td>\n",
       "      <td>0.0</td>\n",
       "      <td>0.0</td>\n",
       "      <td>0.0</td>\n",
       "      <td>0.0</td>\n",
       "      <td>0.0</td>\n",
       "      <td>0.0</td>\n",
       "    </tr>\n",
       "    <tr>\n",
       "      <th>...</th>\n",
       "      <td>...</td>\n",
       "      <td>...</td>\n",
       "      <td>...</td>\n",
       "      <td>...</td>\n",
       "      <td>...</td>\n",
       "      <td>...</td>\n",
       "      <td>...</td>\n",
       "      <td>...</td>\n",
       "      <td>...</td>\n",
       "      <td>...</td>\n",
       "      <td>...</td>\n",
       "      <td>...</td>\n",
       "      <td>...</td>\n",
       "      <td>...</td>\n",
       "      <td>...</td>\n",
       "      <td>...</td>\n",
       "      <td>...</td>\n",
       "      <td>...</td>\n",
       "      <td>...</td>\n",
       "      <td>...</td>\n",
       "      <td>...</td>\n",
       "    </tr>\n",
       "    <tr>\n",
       "      <th>1939</th>\n",
       "      <td>0.0</td>\n",
       "      <td>0.0</td>\n",
       "      <td>0.0</td>\n",
       "      <td>0.0</td>\n",
       "      <td>0.0</td>\n",
       "      <td>0.0</td>\n",
       "      <td>0.0</td>\n",
       "      <td>0.0</td>\n",
       "      <td>4.0</td>\n",
       "      <td>0.0</td>\n",
       "      <td>...</td>\n",
       "      <td>0.0</td>\n",
       "      <td>0.0</td>\n",
       "      <td>0.0</td>\n",
       "      <td>0.0</td>\n",
       "      <td>0.0</td>\n",
       "      <td>0.0</td>\n",
       "      <td>0.0</td>\n",
       "      <td>0.0</td>\n",
       "      <td>0.0</td>\n",
       "      <td>0.0</td>\n",
       "    </tr>\n",
       "    <tr>\n",
       "      <th>1941</th>\n",
       "      <td>0.0</td>\n",
       "      <td>0.0</td>\n",
       "      <td>0.0</td>\n",
       "      <td>0.0</td>\n",
       "      <td>0.0</td>\n",
       "      <td>0.0</td>\n",
       "      <td>0.0</td>\n",
       "      <td>0.0</td>\n",
       "      <td>0.0</td>\n",
       "      <td>0.0</td>\n",
       "      <td>...</td>\n",
       "      <td>0.0</td>\n",
       "      <td>0.0</td>\n",
       "      <td>0.0</td>\n",
       "      <td>0.0</td>\n",
       "      <td>0.0</td>\n",
       "      <td>0.0</td>\n",
       "      <td>0.0</td>\n",
       "      <td>0.0</td>\n",
       "      <td>0.0</td>\n",
       "      <td>0.0</td>\n",
       "    </tr>\n",
       "    <tr>\n",
       "      <th>1942</th>\n",
       "      <td>0.0</td>\n",
       "      <td>5.0</td>\n",
       "      <td>0.0</td>\n",
       "      <td>0.0</td>\n",
       "      <td>0.0</td>\n",
       "      <td>0.0</td>\n",
       "      <td>3.0</td>\n",
       "      <td>5.0</td>\n",
       "      <td>0.0</td>\n",
       "      <td>0.0</td>\n",
       "      <td>...</td>\n",
       "      <td>0.0</td>\n",
       "      <td>0.0</td>\n",
       "      <td>0.0</td>\n",
       "      <td>0.0</td>\n",
       "      <td>0.0</td>\n",
       "      <td>0.0</td>\n",
       "      <td>0.0</td>\n",
       "      <td>0.0</td>\n",
       "      <td>0.0</td>\n",
       "      <td>0.0</td>\n",
       "    </tr>\n",
       "    <tr>\n",
       "      <th>1947</th>\n",
       "      <td>0.0</td>\n",
       "      <td>0.0</td>\n",
       "      <td>0.0</td>\n",
       "      <td>0.0</td>\n",
       "      <td>3.0</td>\n",
       "      <td>0.0</td>\n",
       "      <td>0.0</td>\n",
       "      <td>0.0</td>\n",
       "      <td>0.0</td>\n",
       "      <td>0.0</td>\n",
       "      <td>...</td>\n",
       "      <td>0.0</td>\n",
       "      <td>0.0</td>\n",
       "      <td>0.0</td>\n",
       "      <td>0.0</td>\n",
       "      <td>0.0</td>\n",
       "      <td>0.0</td>\n",
       "      <td>0.0</td>\n",
       "      <td>0.0</td>\n",
       "      <td>0.0</td>\n",
       "      <td>0.0</td>\n",
       "    </tr>\n",
       "    <tr>\n",
       "      <th>1956</th>\n",
       "      <td>0.0</td>\n",
       "      <td>0.0</td>\n",
       "      <td>0.0</td>\n",
       "      <td>0.0</td>\n",
       "      <td>0.0</td>\n",
       "      <td>0.0</td>\n",
       "      <td>0.0</td>\n",
       "      <td>0.0</td>\n",
       "      <td>0.0</td>\n",
       "      <td>0.0</td>\n",
       "      <td>...</td>\n",
       "      <td>0.0</td>\n",
       "      <td>0.0</td>\n",
       "      <td>0.0</td>\n",
       "      <td>0.0</td>\n",
       "      <td>0.0</td>\n",
       "      <td>0.0</td>\n",
       "      <td>0.0</td>\n",
       "      <td>0.0</td>\n",
       "      <td>0.0</td>\n",
       "      <td>0.0</td>\n",
       "    </tr>\n",
       "  </tbody>\n",
       "</table>\n",
       "<p>1145 rows × 4043 columns</p>\n",
       "</div>"
      ],
      "text/plain": [
       "book_id  2     3     4     5     7     8     9     10    11    13    ...  \\\n",
       "user_id                                                              ...   \n",
       "1         0.0   0.0   0.0   0.0   0.0   0.0   0.0   0.0   0.0   0.0  ...   \n",
       "2         0.0   0.0   0.0   0.0   0.0   0.0   0.0   0.0   0.0   0.0  ...   \n",
       "4         5.0   0.0   0.0   0.0   0.0   4.0   0.0   5.0   0.0   4.0  ...   \n",
       "6         0.0   0.0   0.0   0.0   0.0   0.0   0.0   0.0   0.0   0.0  ...   \n",
       "7         0.0   0.0   0.0   0.0   0.0   2.0   0.0   0.0   0.0   0.0  ...   \n",
       "...       ...   ...   ...   ...   ...   ...   ...   ...   ...   ...  ...   \n",
       "1939      0.0   0.0   0.0   0.0   0.0   0.0   0.0   0.0   4.0   0.0  ...   \n",
       "1941      0.0   0.0   0.0   0.0   0.0   0.0   0.0   0.0   0.0   0.0  ...   \n",
       "1942      0.0   5.0   0.0   0.0   0.0   0.0   3.0   5.0   0.0   0.0  ...   \n",
       "1947      0.0   0.0   0.0   0.0   3.0   0.0   0.0   0.0   0.0   0.0  ...   \n",
       "1956      0.0   0.0   0.0   0.0   0.0   0.0   0.0   0.0   0.0   0.0  ...   \n",
       "\n",
       "book_id  9966  9972  9974  9978  9981  9985  9988  9990  9991  9995  \n",
       "user_id                                                              \n",
       "1         0.0   0.0   0.0   0.0   0.0   0.0   0.0   0.0   0.0   0.0  \n",
       "2         0.0   0.0   0.0   0.0   0.0   0.0   0.0   0.0   0.0   0.0  \n",
       "4         0.0   0.0   0.0   0.0   0.0   0.0   0.0   0.0   0.0   0.0  \n",
       "6         0.0   0.0   0.0   0.0   0.0   0.0   0.0   0.0   0.0   0.0  \n",
       "7         0.0   0.0   0.0   0.0   0.0   0.0   0.0   0.0   0.0   0.0  \n",
       "...       ...   ...   ...   ...   ...   ...   ...   ...   ...   ...  \n",
       "1939      0.0   0.0   0.0   0.0   0.0   0.0   0.0   0.0   0.0   0.0  \n",
       "1941      0.0   0.0   0.0   0.0   0.0   0.0   0.0   0.0   0.0   0.0  \n",
       "1942      0.0   0.0   0.0   0.0   0.0   0.0   0.0   0.0   0.0   0.0  \n",
       "1947      0.0   0.0   0.0   0.0   0.0   0.0   0.0   0.0   0.0   0.0  \n",
       "1956      0.0   0.0   0.0   0.0   0.0   0.0   0.0   0.0   0.0   0.0  \n",
       "\n",
       "[1145 rows x 4043 columns]"
      ]
     },
     "execution_count": 26,
     "metadata": {},
     "output_type": "execute_result"
    }
   ],
   "source": [
    "df_book_features"
   ]
  },
  {
   "cell_type": "markdown",
   "metadata": {},
   "source": [
    "## SVD implementation"
   ]
  },
  {
   "cell_type": "code",
   "execution_count": 27,
   "metadata": {
    "ExecuteTime": {
     "end_time": "2020-08-31T14:07:50.071748Z",
     "start_time": "2020-08-31T14:07:49.683572Z"
    }
   },
   "outputs": [],
   "source": [
    "from scipy.sparse.linalg import svds\n",
    "U, sigma, Vt = svds(df_book_features)"
   ]
  },
  {
   "cell_type": "markdown",
   "metadata": {},
   "source": [
    "## Predictions"
   ]
  },
  {
   "cell_type": "markdown",
   "metadata": {},
   "source": [
    "To get the prediction of a rating of an item dj, we can calculate the dot product of the two vectors.\n",
    "The sigma variable has just the values, so I have to convert to a diagonal matrix in orded to implement the matrix multiplication."
   ]
  },
  {
   "cell_type": "code",
   "execution_count": 28,
   "metadata": {
    "ExecuteTime": {
     "end_time": "2020-08-31T14:07:50.141894Z",
     "start_time": "2020-08-31T14:07:50.075923Z"
    }
   },
   "outputs": [],
   "source": [
    "sigma = np.diag(sigma)\n",
    "svd_predictions_score = np.dot(np.dot(U, sigma), Vt)\n",
    "svd_predictions_score_df = pd.DataFrame(svd_predictions_score, columns = df_book_features.columns)\n"
   ]
  },
  {
   "cell_type": "code",
   "execution_count": 29,
   "metadata": {
    "ExecuteTime": {
     "end_time": "2020-08-31T14:07:50.270669Z",
     "start_time": "2020-08-31T14:07:50.145271Z"
    }
   },
   "outputs": [
    {
     "data": {
      "text/html": [
       "<div>\n",
       "<style scoped>\n",
       "    .dataframe tbody tr th:only-of-type {\n",
       "        vertical-align: middle;\n",
       "    }\n",
       "\n",
       "    .dataframe tbody tr th {\n",
       "        vertical-align: top;\n",
       "    }\n",
       "\n",
       "    .dataframe thead th {\n",
       "        text-align: right;\n",
       "    }\n",
       "</style>\n",
       "<table border=\"1\" class=\"dataframe\">\n",
       "  <thead>\n",
       "    <tr style=\"text-align: right;\">\n",
       "      <th>book_id</th>\n",
       "      <th>2</th>\n",
       "      <th>3</th>\n",
       "      <th>4</th>\n",
       "      <th>5</th>\n",
       "      <th>7</th>\n",
       "      <th>8</th>\n",
       "      <th>9</th>\n",
       "      <th>10</th>\n",
       "      <th>11</th>\n",
       "      <th>13</th>\n",
       "      <th>...</th>\n",
       "      <th>9966</th>\n",
       "      <th>9972</th>\n",
       "      <th>9974</th>\n",
       "      <th>9978</th>\n",
       "      <th>9981</th>\n",
       "      <th>9985</th>\n",
       "      <th>9988</th>\n",
       "      <th>9990</th>\n",
       "      <th>9991</th>\n",
       "      <th>9995</th>\n",
       "    </tr>\n",
       "  </thead>\n",
       "  <tbody>\n",
       "    <tr>\n",
       "      <th>0</th>\n",
       "      <td>-0.017455</td>\n",
       "      <td>-0.001515</td>\n",
       "      <td>0.050331</td>\n",
       "      <td>0.052745</td>\n",
       "      <td>-0.033695</td>\n",
       "      <td>0.037934</td>\n",
       "      <td>0.010390</td>\n",
       "      <td>0.026964</td>\n",
       "      <td>0.073122</td>\n",
       "      <td>-0.001999</td>\n",
       "      <td>...</td>\n",
       "      <td>0.001903</td>\n",
       "      <td>-0.000394</td>\n",
       "      <td>0.000056</td>\n",
       "      <td>-0.000907</td>\n",
       "      <td>0.000815</td>\n",
       "      <td>-1.754186e-05</td>\n",
       "      <td>-0.000661</td>\n",
       "      <td>0.000795</td>\n",
       "      <td>0.002423</td>\n",
       "      <td>-0.000368</td>\n",
       "    </tr>\n",
       "    <tr>\n",
       "      <th>1</th>\n",
       "      <td>-0.001614</td>\n",
       "      <td>0.000302</td>\n",
       "      <td>0.004419</td>\n",
       "      <td>-0.001005</td>\n",
       "      <td>0.007396</td>\n",
       "      <td>-0.000887</td>\n",
       "      <td>0.004430</td>\n",
       "      <td>0.001443</td>\n",
       "      <td>0.002486</td>\n",
       "      <td>-0.000718</td>\n",
       "      <td>...</td>\n",
       "      <td>-0.000247</td>\n",
       "      <td>-0.000332</td>\n",
       "      <td>0.000052</td>\n",
       "      <td>0.000014</td>\n",
       "      <td>0.000060</td>\n",
       "      <td>1.849593e-05</td>\n",
       "      <td>0.000086</td>\n",
       "      <td>-0.000098</td>\n",
       "      <td>-0.000225</td>\n",
       "      <td>0.000026</td>\n",
       "    </tr>\n",
       "    <tr>\n",
       "      <th>2</th>\n",
       "      <td>3.849454</td>\n",
       "      <td>0.112768</td>\n",
       "      <td>1.658002</td>\n",
       "      <td>1.557440</td>\n",
       "      <td>1.672078</td>\n",
       "      <td>1.979167</td>\n",
       "      <td>0.796537</td>\n",
       "      <td>1.328552</td>\n",
       "      <td>0.403837</td>\n",
       "      <td>2.029649</td>\n",
       "      <td>...</td>\n",
       "      <td>0.041932</td>\n",
       "      <td>0.185939</td>\n",
       "      <td>0.027752</td>\n",
       "      <td>0.063716</td>\n",
       "      <td>-0.009722</td>\n",
       "      <td>-1.030917e-04</td>\n",
       "      <td>0.018998</td>\n",
       "      <td>0.010440</td>\n",
       "      <td>0.019181</td>\n",
       "      <td>0.041334</td>\n",
       "    </tr>\n",
       "    <tr>\n",
       "      <th>3</th>\n",
       "      <td>-0.000626</td>\n",
       "      <td>-0.000102</td>\n",
       "      <td>0.002429</td>\n",
       "      <td>0.002598</td>\n",
       "      <td>-0.000845</td>\n",
       "      <td>0.002723</td>\n",
       "      <td>-0.000042</td>\n",
       "      <td>0.001276</td>\n",
       "      <td>0.002041</td>\n",
       "      <td>0.001074</td>\n",
       "      <td>...</td>\n",
       "      <td>0.000103</td>\n",
       "      <td>-0.000015</td>\n",
       "      <td>-0.000011</td>\n",
       "      <td>0.000013</td>\n",
       "      <td>0.000026</td>\n",
       "      <td>-3.098268e-07</td>\n",
       "      <td>-0.000003</td>\n",
       "      <td>0.000019</td>\n",
       "      <td>0.000100</td>\n",
       "      <td>-0.000034</td>\n",
       "    </tr>\n",
       "    <tr>\n",
       "      <th>4</th>\n",
       "      <td>-0.083200</td>\n",
       "      <td>0.034611</td>\n",
       "      <td>0.945283</td>\n",
       "      <td>0.463547</td>\n",
       "      <td>2.253105</td>\n",
       "      <td>1.216248</td>\n",
       "      <td>0.239510</td>\n",
       "      <td>0.247593</td>\n",
       "      <td>-0.367294</td>\n",
       "      <td>1.516744</td>\n",
       "      <td>...</td>\n",
       "      <td>0.023008</td>\n",
       "      <td>0.152818</td>\n",
       "      <td>0.008016</td>\n",
       "      <td>0.068222</td>\n",
       "      <td>-0.025327</td>\n",
       "      <td>2.370912e-03</td>\n",
       "      <td>0.053958</td>\n",
       "      <td>-0.006830</td>\n",
       "      <td>-0.008167</td>\n",
       "      <td>0.033255</td>\n",
       "    </tr>\n",
       "    <tr>\n",
       "      <th>...</th>\n",
       "      <td>...</td>\n",
       "      <td>...</td>\n",
       "      <td>...</td>\n",
       "      <td>...</td>\n",
       "      <td>...</td>\n",
       "      <td>...</td>\n",
       "      <td>...</td>\n",
       "      <td>...</td>\n",
       "      <td>...</td>\n",
       "      <td>...</td>\n",
       "      <td>...</td>\n",
       "      <td>...</td>\n",
       "      <td>...</td>\n",
       "      <td>...</td>\n",
       "      <td>...</td>\n",
       "      <td>...</td>\n",
       "      <td>...</td>\n",
       "      <td>...</td>\n",
       "      <td>...</td>\n",
       "      <td>...</td>\n",
       "      <td>...</td>\n",
       "    </tr>\n",
       "    <tr>\n",
       "      <th>1140</th>\n",
       "      <td>0.251917</td>\n",
       "      <td>-0.022533</td>\n",
       "      <td>1.166826</td>\n",
       "      <td>1.033472</td>\n",
       "      <td>-0.352679</td>\n",
       "      <td>0.831270</td>\n",
       "      <td>0.612273</td>\n",
       "      <td>0.644032</td>\n",
       "      <td>2.238336</td>\n",
       "      <td>-0.131467</td>\n",
       "      <td>...</td>\n",
       "      <td>0.038015</td>\n",
       "      <td>0.048774</td>\n",
       "      <td>0.008908</td>\n",
       "      <td>-0.019945</td>\n",
       "      <td>0.001733</td>\n",
       "      <td>2.585383e-04</td>\n",
       "      <td>-0.017269</td>\n",
       "      <td>0.020149</td>\n",
       "      <td>0.027642</td>\n",
       "      <td>-0.002355</td>\n",
       "    </tr>\n",
       "    <tr>\n",
       "      <th>1141</th>\n",
       "      <td>0.032994</td>\n",
       "      <td>0.002253</td>\n",
       "      <td>-0.050669</td>\n",
       "      <td>-0.035706</td>\n",
       "      <td>0.023541</td>\n",
       "      <td>-0.031798</td>\n",
       "      <td>-0.010256</td>\n",
       "      <td>-0.024701</td>\n",
       "      <td>-0.053161</td>\n",
       "      <td>0.008626</td>\n",
       "      <td>...</td>\n",
       "      <td>-0.000460</td>\n",
       "      <td>0.005642</td>\n",
       "      <td>0.000374</td>\n",
       "      <td>0.000739</td>\n",
       "      <td>-0.001203</td>\n",
       "      <td>-5.239600e-05</td>\n",
       "      <td>0.000540</td>\n",
       "      <td>0.000189</td>\n",
       "      <td>-0.000779</td>\n",
       "      <td>0.001643</td>\n",
       "    </tr>\n",
       "    <tr>\n",
       "      <th>1142</th>\n",
       "      <td>0.358116</td>\n",
       "      <td>0.036171</td>\n",
       "      <td>1.310905</td>\n",
       "      <td>0.730774</td>\n",
       "      <td>0.686997</td>\n",
       "      <td>0.720426</td>\n",
       "      <td>0.554902</td>\n",
       "      <td>0.725293</td>\n",
       "      <td>0.530283</td>\n",
       "      <td>0.416280</td>\n",
       "      <td>...</td>\n",
       "      <td>-0.007361</td>\n",
       "      <td>-0.068892</td>\n",
       "      <td>0.005568</td>\n",
       "      <td>0.009801</td>\n",
       "      <td>0.024332</td>\n",
       "      <td>1.806628e-03</td>\n",
       "      <td>0.007684</td>\n",
       "      <td>-0.009410</td>\n",
       "      <td>0.004719</td>\n",
       "      <td>-0.004828</td>\n",
       "    </tr>\n",
       "    <tr>\n",
       "      <th>1143</th>\n",
       "      <td>1.806776</td>\n",
       "      <td>0.042165</td>\n",
       "      <td>0.666855</td>\n",
       "      <td>0.413391</td>\n",
       "      <td>0.383797</td>\n",
       "      <td>0.501376</td>\n",
       "      <td>0.508996</td>\n",
       "      <td>0.613926</td>\n",
       "      <td>0.383042</td>\n",
       "      <td>0.353137</td>\n",
       "      <td>...</td>\n",
       "      <td>-0.008535</td>\n",
       "      <td>-0.017707</td>\n",
       "      <td>0.008814</td>\n",
       "      <td>0.008885</td>\n",
       "      <td>0.007097</td>\n",
       "      <td>5.137072e-04</td>\n",
       "      <td>-0.007193</td>\n",
       "      <td>-0.004727</td>\n",
       "      <td>-0.015177</td>\n",
       "      <td>-0.004555</td>\n",
       "    </tr>\n",
       "    <tr>\n",
       "      <th>1144</th>\n",
       "      <td>0.001258</td>\n",
       "      <td>-0.002469</td>\n",
       "      <td>0.294621</td>\n",
       "      <td>0.342309</td>\n",
       "      <td>-0.015582</td>\n",
       "      <td>0.332058</td>\n",
       "      <td>0.000735</td>\n",
       "      <td>0.160656</td>\n",
       "      <td>0.179488</td>\n",
       "      <td>0.209371</td>\n",
       "      <td>...</td>\n",
       "      <td>0.014276</td>\n",
       "      <td>0.014645</td>\n",
       "      <td>0.000650</td>\n",
       "      <td>0.003889</td>\n",
       "      <td>0.002597</td>\n",
       "      <td>-1.684872e-04</td>\n",
       "      <td>0.001927</td>\n",
       "      <td>0.003991</td>\n",
       "      <td>0.016214</td>\n",
       "      <td>0.002406</td>\n",
       "    </tr>\n",
       "  </tbody>\n",
       "</table>\n",
       "<p>1145 rows × 4043 columns</p>\n",
       "</div>"
      ],
      "text/plain": [
       "book_id      2         3         4         5         7         8         9     \\\n",
       "0       -0.017455 -0.001515  0.050331  0.052745 -0.033695  0.037934  0.010390   \n",
       "1       -0.001614  0.000302  0.004419 -0.001005  0.007396 -0.000887  0.004430   \n",
       "2        3.849454  0.112768  1.658002  1.557440  1.672078  1.979167  0.796537   \n",
       "3       -0.000626 -0.000102  0.002429  0.002598 -0.000845  0.002723 -0.000042   \n",
       "4       -0.083200  0.034611  0.945283  0.463547  2.253105  1.216248  0.239510   \n",
       "...           ...       ...       ...       ...       ...       ...       ...   \n",
       "1140     0.251917 -0.022533  1.166826  1.033472 -0.352679  0.831270  0.612273   \n",
       "1141     0.032994  0.002253 -0.050669 -0.035706  0.023541 -0.031798 -0.010256   \n",
       "1142     0.358116  0.036171  1.310905  0.730774  0.686997  0.720426  0.554902   \n",
       "1143     1.806776  0.042165  0.666855  0.413391  0.383797  0.501376  0.508996   \n",
       "1144     0.001258 -0.002469  0.294621  0.342309 -0.015582  0.332058  0.000735   \n",
       "\n",
       "book_id      10        11        13    ...      9966      9972      9974  \\\n",
       "0        0.026964  0.073122 -0.001999  ...  0.001903 -0.000394  0.000056   \n",
       "1        0.001443  0.002486 -0.000718  ... -0.000247 -0.000332  0.000052   \n",
       "2        1.328552  0.403837  2.029649  ...  0.041932  0.185939  0.027752   \n",
       "3        0.001276  0.002041  0.001074  ...  0.000103 -0.000015 -0.000011   \n",
       "4        0.247593 -0.367294  1.516744  ...  0.023008  0.152818  0.008016   \n",
       "...           ...       ...       ...  ...       ...       ...       ...   \n",
       "1140     0.644032  2.238336 -0.131467  ...  0.038015  0.048774  0.008908   \n",
       "1141    -0.024701 -0.053161  0.008626  ... -0.000460  0.005642  0.000374   \n",
       "1142     0.725293  0.530283  0.416280  ... -0.007361 -0.068892  0.005568   \n",
       "1143     0.613926  0.383042  0.353137  ... -0.008535 -0.017707  0.008814   \n",
       "1144     0.160656  0.179488  0.209371  ...  0.014276  0.014645  0.000650   \n",
       "\n",
       "book_id      9978      9981          9985      9988      9990      9991  \\\n",
       "0       -0.000907  0.000815 -1.754186e-05 -0.000661  0.000795  0.002423   \n",
       "1        0.000014  0.000060  1.849593e-05  0.000086 -0.000098 -0.000225   \n",
       "2        0.063716 -0.009722 -1.030917e-04  0.018998  0.010440  0.019181   \n",
       "3        0.000013  0.000026 -3.098268e-07 -0.000003  0.000019  0.000100   \n",
       "4        0.068222 -0.025327  2.370912e-03  0.053958 -0.006830 -0.008167   \n",
       "...           ...       ...           ...       ...       ...       ...   \n",
       "1140    -0.019945  0.001733  2.585383e-04 -0.017269  0.020149  0.027642   \n",
       "1141     0.000739 -0.001203 -5.239600e-05  0.000540  0.000189 -0.000779   \n",
       "1142     0.009801  0.024332  1.806628e-03  0.007684 -0.009410  0.004719   \n",
       "1143     0.008885  0.007097  5.137072e-04 -0.007193 -0.004727 -0.015177   \n",
       "1144     0.003889  0.002597 -1.684872e-04  0.001927  0.003991  0.016214   \n",
       "\n",
       "book_id      9995  \n",
       "0       -0.000368  \n",
       "1        0.000026  \n",
       "2        0.041334  \n",
       "3       -0.000034  \n",
       "4        0.033255  \n",
       "...           ...  \n",
       "1140    -0.002355  \n",
       "1141     0.001643  \n",
       "1142    -0.004828  \n",
       "1143    -0.004555  \n",
       "1144     0.002406  \n",
       "\n",
       "[1145 rows x 4043 columns]"
      ]
     },
     "execution_count": 29,
     "metadata": {},
     "output_type": "execute_result"
    }
   ],
   "source": [
    "svd_predictions_score_df"
   ]
  },
  {
   "cell_type": "code",
   "execution_count": 30,
   "metadata": {
    "ExecuteTime": {
     "end_time": "2020-08-31T14:07:50.337030Z",
     "start_time": "2020-08-31T14:07:50.275304Z"
    }
   },
   "outputs": [
    {
     "data": {
      "text/html": [
       "<div>\n",
       "<style scoped>\n",
       "    .dataframe tbody tr th:only-of-type {\n",
       "        vertical-align: middle;\n",
       "    }\n",
       "\n",
       "    .dataframe tbody tr th {\n",
       "        vertical-align: top;\n",
       "    }\n",
       "\n",
       "    .dataframe thead th {\n",
       "        text-align: right;\n",
       "    }\n",
       "</style>\n",
       "<table border=\"1\" class=\"dataframe\">\n",
       "  <thead>\n",
       "    <tr style=\"text-align: right;\">\n",
       "      <th>book_id</th>\n",
       "      <th>2</th>\n",
       "      <th>3</th>\n",
       "      <th>4</th>\n",
       "      <th>5</th>\n",
       "      <th>7</th>\n",
       "      <th>8</th>\n",
       "      <th>9</th>\n",
       "      <th>10</th>\n",
       "      <th>11</th>\n",
       "      <th>13</th>\n",
       "      <th>...</th>\n",
       "      <th>9966</th>\n",
       "      <th>9972</th>\n",
       "      <th>9974</th>\n",
       "      <th>9978</th>\n",
       "      <th>9981</th>\n",
       "      <th>9985</th>\n",
       "      <th>9988</th>\n",
       "      <th>9990</th>\n",
       "      <th>9991</th>\n",
       "      <th>9995</th>\n",
       "    </tr>\n",
       "  </thead>\n",
       "  <tbody>\n",
       "    <tr>\n",
       "      <th>1137</th>\n",
       "      <td>-0.110217</td>\n",
       "      <td>0.030743</td>\n",
       "      <td>0.669496</td>\n",
       "      <td>0.284043</td>\n",
       "      <td>0.215431</td>\n",
       "      <td>-0.082184</td>\n",
       "      <td>0.678284</td>\n",
       "      <td>0.298014</td>\n",
       "      <td>1.371991</td>\n",
       "      <td>-0.406187</td>\n",
       "      <td>...</td>\n",
       "      <td>-0.003757</td>\n",
       "      <td>0.018544</td>\n",
       "      <td>0.013231</td>\n",
       "      <td>-0.022132</td>\n",
       "      <td>0.006734</td>\n",
       "      <td>0.000996</td>\n",
       "      <td>-0.006257</td>\n",
       "      <td>0.009587</td>\n",
       "      <td>0.005257</td>\n",
       "      <td>0.01462</td>\n",
       "    </tr>\n",
       "  </tbody>\n",
       "</table>\n",
       "<p>1 rows × 4043 columns</p>\n",
       "</div>"
      ],
      "text/plain": [
       "book_id      2         3         4         5         7         8         9     \\\n",
       "1137    -0.110217  0.030743  0.669496  0.284043  0.215431 -0.082184  0.678284   \n",
       "\n",
       "book_id      10        11        13    ...      9966      9972      9974  \\\n",
       "1137     0.298014  1.371991 -0.406187  ... -0.003757  0.018544  0.013231   \n",
       "\n",
       "book_id      9978      9981      9985      9988      9990      9991     9995  \n",
       "1137    -0.022132  0.006734  0.000996 -0.006257  0.009587  0.005257  0.01462  \n",
       "\n",
       "[1 rows x 4043 columns]"
      ]
     },
     "execution_count": 30,
     "metadata": {},
     "output_type": "execute_result"
    }
   ],
   "source": [
    "svd_predictions_score_df[svd_predictions_score_df.index == 1137]"
   ]
  },
  {
   "cell_type": "markdown",
   "metadata": {},
   "source": [
    "## Top-K recommendations"
   ]
  },
  {
   "cell_type": "markdown",
   "metadata": {},
   "source": [
    "The function below returns a list that contains the top-100 recommendations for each user"
   ]
  },
  {
   "cell_type": "code",
   "execution_count": 31,
   "metadata": {
    "ExecuteTime": {
     "end_time": "2020-08-31T14:07:50.352596Z",
     "start_time": "2020-08-31T14:07:50.340340Z"
    }
   },
   "outputs": [],
   "source": [
    "def SVD_topK_first(score_df):\n",
    "    topK_svd_rec = []\n",
    "    c = 0\n",
    "    for i in range(len(svd_predictions_score_df)):\n",
    "        svd_h_df = pd.DataFrame({'book_id': score_df[score_df.index == i].columns,\n",
    "                                 'score': score_df[score_df.index == i].values[0]})\n",
    "        svd_h_df = svd_h_df.sort_values('score', ascending=False)\n",
    "        svd_h_df = svd_h_df.head(100)\n",
    "        topK_svd_rec.append(svd_h_df['book_id'].values)\n",
    "    return topK_svd_rec"
   ]
  },
  {
   "cell_type": "markdown",
   "metadata": {},
   "source": [
    "## NDCG Score"
   ]
  },
  {
   "cell_type": "markdown",
   "metadata": {},
   "source": [
    "The function below returns the relevance list of a list of movies."
   ]
  },
  {
   "cell_type": "code",
   "execution_count": 32,
   "metadata": {
    "ExecuteTime": {
     "end_time": "2020-08-31T14:07:50.366852Z",
     "start_time": "2020-08-31T14:07:50.355033Z"
    }
   },
   "outputs": [],
   "source": [
    "def SVD_relevance_first(score_df):\n",
    "    svd_topK = SVD_topK_first(score_df)\n",
    "    relevance_svd_full = []\n",
    "    helper = []\n",
    "    count = 0\n",
    "    for i in range(1,len(svd_predictions_score_df)+1):\n",
    "        for j in range(len(svd_topK[count])):\n",
    "            if svd_topK[count][j] in test_df['book_id'][test_df['user_id'] == i].values.tolist():\n",
    "                helper.append(1)\n",
    "            else:\n",
    "                helper.append(0)\n",
    "        relevance_svd_full.append(helper)\n",
    "        helper = []\n",
    "        count += 1\n",
    "    return relevance_svd_full"
   ]
  },
  {
   "cell_type": "code",
   "execution_count": 33,
   "metadata": {
    "ExecuteTime": {
     "end_time": "2020-08-31T14:09:53.251858Z",
     "start_time": "2020-08-31T14:07:50.370320Z"
    }
   },
   "outputs": [],
   "source": [
    "relevance_first = SVD_relevance_first(svd_predictions_score_df)"
   ]
  },
  {
   "cell_type": "code",
   "execution_count": 34,
   "metadata": {
    "ExecuteTime": {
     "end_time": "2020-08-31T14:09:53.280003Z",
     "start_time": "2020-08-31T14:09:53.255016Z"
    }
   },
   "outputs": [
    {
     "data": {
      "text/plain": [
       "(1145, 100)"
      ]
     },
     "execution_count": 34,
     "metadata": {},
     "output_type": "execute_result"
    }
   ],
   "source": [
    "np.asarray(relevance_first).shape"
   ]
  },
  {
   "cell_type": "code",
   "execution_count": 35,
   "metadata": {
    "ExecuteTime": {
     "end_time": "2020-08-31T14:09:53.321200Z",
     "start_time": "2020-08-31T14:09:53.284253Z"
    }
   },
   "outputs": [
    {
     "name": "stderr",
     "output_type": "stream",
     "text": [
      "C:\\Users\\papad\\Anaconda3\\lib\\site-packages\\ipykernel_launcher.py:2: RuntimeWarning: invalid value encountered in double_scalars\n",
      "  \n"
     ]
    }
   ],
   "source": [
    "n_f = NDCG_forUser(relevance_first[0])"
   ]
  },
  {
   "cell_type": "code",
   "execution_count": 36,
   "metadata": {
    "ExecuteTime": {
     "end_time": "2020-08-31T14:09:53.331402Z",
     "start_time": "2020-08-31T14:09:53.324703Z"
    }
   },
   "outputs": [
    {
     "data": {
      "text/plain": [
       "nan"
      ]
     },
     "execution_count": 36,
     "metadata": {},
     "output_type": "execute_result"
    }
   ],
   "source": [
    "n_f"
   ]
  },
  {
   "cell_type": "markdown",
   "metadata": {},
   "source": [
    "Below is the NDCG scores of each user"
   ]
  },
  {
   "cell_type": "code",
   "execution_count": 37,
   "metadata": {
    "ExecuteTime": {
     "end_time": "2020-08-31T14:09:56.230707Z",
     "start_time": "2020-08-31T14:09:53.333907Z"
    }
   },
   "outputs": [
    {
     "name": "stderr",
     "output_type": "stream",
     "text": [
      "C:\\Users\\papad\\Anaconda3\\lib\\site-packages\\ipykernel_launcher.py:2: RuntimeWarning: invalid value encountered in double_scalars\n",
      "  \n"
     ]
    }
   ],
   "source": [
    "def allUsers_ndcg_svd(relevance):\n",
    "    allUsers_implicit_ndcg = []\n",
    "    for i in range(len(svd_predictions_score_df)):\n",
    "        allUsers_implicit_ndcg.append(NDCG_forUser(relevance[i]))\n",
    "    return allUsers_implicit_ndcg\n",
    "all_ndcg_f = allUsers_ndcg_svd(relevance_first)"
   ]
  },
  {
   "cell_type": "code",
   "execution_count": 38,
   "metadata": {
    "ExecuteTime": {
     "end_time": "2020-08-31T14:09:56.245435Z",
     "start_time": "2020-08-31T14:09:56.235070Z"
    }
   },
   "outputs": [],
   "source": [
    "all_ndcg_f = pd.Series(all_ndcg_f).fillna(0).tolist()"
   ]
  },
  {
   "cell_type": "code",
   "execution_count": 39,
   "metadata": {
    "ExecuteTime": {
     "end_time": "2020-08-31T14:09:56.258430Z",
     "start_time": "2020-08-31T14:09:56.248033Z"
    }
   },
   "outputs": [
    {
     "data": {
      "text/plain": [
       "0.13970337091012314"
      ]
     },
     "execution_count": 39,
     "metadata": {},
     "output_type": "execute_result"
    }
   ],
   "source": [
    "np.asarray(all_ndcg_f).mean()"
   ]
  },
  {
   "cell_type": "markdown",
   "metadata": {},
   "source": [
    "# Feature engineering"
   ]
  },
  {
   "cell_type": "markdown",
   "metadata": {},
   "source": [
    "##  Feature 1 (Implicit factorization model scores)"
   ]
  },
  {
   "cell_type": "markdown",
   "metadata": {},
   "source": [
    "Train an implicit factorization model using the train_features dataset"
   ]
  },
  {
   "cell_type": "code",
   "execution_count": 40,
   "metadata": {
    "ExecuteTime": {
     "end_time": "2020-08-31T14:10:14.079251Z",
     "start_time": "2020-08-31T14:09:56.262392Z"
    }
   },
   "outputs": [
    {
     "name": "stdout",
     "output_type": "stream",
     "text": [
      "Epoch 0: loss 0.9358363171418508\n",
      "Epoch 1: loss 0.5963205330073833\n",
      "Epoch 2: loss 0.4488706881801287\n",
      "Epoch 3: loss 0.3914698469142119\n",
      "Epoch 4: loss 0.32816403011480966\n",
      "Training took 17 second\n"
     ]
    }
   ],
   "source": [
    "f1_model = ImplicitFactorizationModel(n_iter = 5)\n",
    "\n",
    "current = time.time()\n",
    "\n",
    "f1_model.fit(implicit_train_features,verbose = True)\n",
    "\n",
    "end = time.time()\n",
    "diff = end - current\n",
    "print('Training took %d second'%(diff))"
   ]
  },
  {
   "cell_type": "markdown",
   "metadata": {},
   "source": [
    "### Target Movies"
   ]
  },
  {
   "cell_type": "code",
   "execution_count": 59,
   "metadata": {
    "ExecuteTime": {
     "end_time": "2020-08-31T19:36:27.457152Z",
     "start_time": "2020-08-31T19:36:27.441298Z"
    }
   },
   "outputs": [],
   "source": [
    "def getImplicitTop():\n",
    "    moviePerUser = []\n",
    "    rev = []\n",
    "    for user in range(len(num_users)):\n",
    "        pred = f1_model.predict(user)\n",
    "        #sort by score in descending order oscer\n",
    "        predMovieId = np.argsort(-pred)\n",
    "        #keep top 100\n",
    "        predMovieId = predMovieId[:100]\n",
    "        #reverse the mapping to get the original movieIDs\n",
    "        for movie in predMovieId:\n",
    "            rev.append(iid_rev_map[movie])\n",
    "        moviePerUser.append(rev)\n",
    "        rev = []\n",
    "    return moviePerUser"
   ]
  },
  {
   "cell_type": "code",
   "execution_count": 60,
   "metadata": {
    "ExecuteTime": {
     "end_time": "2020-08-31T19:36:30.386585Z",
     "start_time": "2020-08-31T19:36:27.618937Z"
    }
   },
   "outputs": [],
   "source": [
    "target_positive = getImplicitTop()"
   ]
  },
  {
   "cell_type": "markdown",
   "metadata": {},
   "source": [
    "Add negative samples to the target movies"
   ]
  },
  {
   "cell_type": "code",
   "execution_count": 42,
   "metadata": {
    "ExecuteTime": {
     "end_time": "2020-08-31T14:10:18.275746Z",
     "start_time": "2020-08-31T14:10:18.261944Z"
    }
   },
   "outputs": [
    {
     "data": {
      "text/plain": [
       "1145"
      ]
     },
     "execution_count": 42,
     "metadata": {},
     "output_type": "execute_result"
    }
   ],
   "source": [
    "len(train_df['user_id'].unique())"
   ]
  },
  {
   "cell_type": "code",
   "execution_count": 62,
   "metadata": {
    "ExecuteTime": {
     "end_time": "2020-08-31T19:36:47.974955Z",
     "start_time": "2020-08-31T19:36:47.898204Z"
    }
   },
   "outputs": [],
   "source": [
    "import random\n",
    "target_negative = []\n",
    "for i in range(1,len(num_users)+1):\n",
    "    #get 50 random movieIDs for each user\n",
    "    target_negative.append(random.choices(train_features_df['book_id'].values, k = 50))"
   ]
  },
  {
   "cell_type": "code",
   "execution_count": 63,
   "metadata": {
    "ExecuteTime": {
     "end_time": "2020-08-31T19:37:04.640863Z",
     "start_time": "2020-08-31T19:37:04.625006Z"
    }
   },
   "outputs": [],
   "source": [
    "target_movies = []\n",
    "for i in range(len(num_users)):\n",
    "    target_movies.append(target_positive[i] + target_negative[i])"
   ]
  },
  {
   "cell_type": "markdown",
   "metadata": {},
   "source": [
    "Map the target movies to pick the correct predictions based on the item id"
   ]
  },
  {
   "cell_type": "code",
   "execution_count": 64,
   "metadata": {
    "ExecuteTime": {
     "end_time": "2020-08-31T19:37:10.622253Z",
     "start_time": "2020-08-31T19:37:10.606570Z"
    }
   },
   "outputs": [],
   "source": [
    "def map_movies(target_movies):\n",
    "    map_target_movies = []\n",
    "    map_help = []\n",
    "    for movies in target_movies:\n",
    "        for movie in movies:\n",
    "            map_help.append(iid_map[movie])\n",
    "        map_target_movies.append(map_help)\n",
    "        map_help = []\n",
    "    return map_target_movies"
   ]
  },
  {
   "cell_type": "markdown",
   "metadata": {},
   "source": [
    "Implicit Factorization model Scores"
   ]
  },
  {
   "cell_type": "markdown",
   "metadata": {},
   "source": [
    "Train implicit on implicit_features_train! and take these scores."
   ]
  },
  {
   "cell_type": "code",
   "execution_count": 65,
   "metadata": {
    "ExecuteTime": {
     "end_time": "2020-08-31T19:37:11.798679Z",
     "start_time": "2020-08-31T19:37:11.791970Z"
    }
   },
   "outputs": [],
   "source": [
    "def give_movies_implicit_scores(map_movies):\n",
    "    implicit_scores = 0\n",
    "    feature = []\n",
    "    for i in range(len(num_users)):\n",
    "        #for movies in map_target_movies:\n",
    "        my_list = map_movies[i]\n",
    "        my_array = np.array(my_list)\n",
    "        implicit_scores = f1_model.predict(user_ids = i,item_ids = my_array)\n",
    "        feature.append(implicit_scores)\n",
    "    return feature"
   ]
  },
  {
   "cell_type": "code",
   "execution_count": 66,
   "metadata": {
    "ExecuteTime": {
     "end_time": "2020-08-31T19:37:19.610241Z",
     "start_time": "2020-08-31T19:37:18.951940Z"
    }
   },
   "outputs": [
    {
     "data": {
      "text/plain": [
       "(1157, 150)"
      ]
     },
     "execution_count": 66,
     "metadata": {},
     "output_type": "execute_result"
    }
   ],
   "source": [
    "map_target_movies = map_movies(target_movies)\n",
    "feature1 = give_movies_implicit_scores(map_target_movies)\n",
    "feature1 = np.asarray(feature1)\n",
    "feature1.shape"
   ]
  },
  {
   "cell_type": "code",
   "execution_count": 67,
   "metadata": {
    "ExecuteTime": {
     "end_time": "2020-08-31T19:37:26.413167Z",
     "start_time": "2020-08-31T19:37:26.355291Z"
    }
   },
   "outputs": [
    {
     "data": {
      "text/plain": [
       "array([ 9.516431  ,  9.101404  ,  8.972198  ,  8.943448  ,  8.937172  ,\n",
       "        8.874731  ,  8.746431  ,  8.567189  ,  8.561559  ,  8.546211  ,\n",
       "        8.46651   ,  8.422235  ,  8.383978  ,  8.265129  ,  8.2099085 ,\n",
       "        8.204773  ,  8.2002125 ,  8.178185  ,  8.177673  ,  8.127718  ,\n",
       "        8.113931  ,  8.06932   ,  8.061887  ,  8.018593  ,  7.9616294 ,\n",
       "        7.9164124 ,  7.912512  ,  7.8891816 ,  7.841817  ,  7.8412337 ,\n",
       "        7.8384867 ,  7.828294  ,  7.8015904 ,  7.736866  ,  7.646708  ,\n",
       "        7.6425004 ,  7.636322  ,  7.5865817 ,  7.5842657 ,  7.541096  ,\n",
       "        7.462632  ,  7.4609046 ,  7.4018383 ,  7.3510857 ,  7.341598  ,\n",
       "        7.331588  ,  7.326401  ,  7.3144817 ,  7.305494  ,  7.2572136 ,\n",
       "        7.2230725 ,  7.2216926 ,  7.175812  ,  7.1735387 ,  7.1717134 ,\n",
       "        7.1619887 ,  7.10519   ,  7.0970535 ,  7.0966277 ,  7.0930104 ,\n",
       "        7.078827  ,  7.0782866 ,  7.0771775 ,  7.068073  ,  7.0252495 ,\n",
       "        7.0058913 ,  6.999884  ,  6.97893   ,  6.9419746 ,  6.9204245 ,\n",
       "        6.916558  ,  6.910164  ,  6.8883705 ,  6.868741  ,  6.8675523 ,\n",
       "        6.864839  ,  6.8592005 ,  6.851735  ,  6.8231564 ,  6.819151  ,\n",
       "        6.799075  ,  6.764085  ,  6.7563024 ,  6.717371  ,  6.7011285 ,\n",
       "        6.6672597 ,  6.6317863 ,  6.6157413 ,  6.575356  ,  6.5705557 ,\n",
       "        6.5678554 ,  6.56013   ,  6.544487  ,  6.5332794 ,  6.500505  ,\n",
       "        6.4659076 ,  6.4563427 ,  6.4513807 ,  6.4513106 ,  6.4438844 ,\n",
       "       -3.1160927 ,  2.6886723 ,  3.5005758 ,  8.061887  , -3.197416  ,\n",
       "        6.9419746 , -0.6177325 , -0.55953306, -2.6970382 ,  5.798794  ,\n",
       "       -3.2673094 ,  1.898377  ,  8.972198  ,  6.799075  ,  6.864839  ,\n",
       "        5.845769  ,  4.507644  ,  7.0771775 ,  7.2230725 , -3.2293694 ,\n",
       "        5.914904  ,  5.8423586 ,  2.3728647 ,  8.546211  , -4.3783884 ,\n",
       "        5.8485336 ,  2.3281906 ,  4.418814  , -4.7119174 ,  8.018593  ,\n",
       "        8.422235  , -1.5010641 ,  7.841817  ,  5.7372565 ,  8.937172  ,\n",
       "        6.3911877 , -1.2726811 , -2.7735236 ,  8.2099085 ,  1.8378948 ,\n",
       "       -1.9777646 ,  4.5406866 ,  5.7778664 ,  5.0022507 ,  8.937172  ,\n",
       "        0.65520614, -3.1022968 ,  5.3155966 ,  2.6715152 ,  6.9419746 ],\n",
       "      dtype=float32)"
      ]
     },
     "execution_count": 67,
     "metadata": {},
     "output_type": "execute_result"
    }
   ],
   "source": [
    "feature1[0]"
   ]
  },
  {
   "cell_type": "markdown",
   "metadata": {},
   "source": [
    "## Feature 2 (Rank)"
   ]
  },
  {
   "cell_type": "code",
   "execution_count": 68,
   "metadata": {
    "ExecuteTime": {
     "end_time": "2020-08-31T19:39:26.630058Z",
     "start_time": "2020-08-31T19:38:03.075371Z"
    }
   },
   "outputs": [],
   "source": [
    "feature2 = []\n",
    "for i in range(len(num_users)):\n",
    "    feature2 = (st.rankdata(-f1_model.predict(i)))\n",
    "    feature2 = feature2[map_target_movies]\n",
    "    feature2.sort()"
   ]
  },
  {
   "cell_type": "code",
   "execution_count": 50,
   "metadata": {
    "ExecuteTime": {
     "end_time": "2020-08-31T14:10:19.779948Z",
     "start_time": "2020-08-31T14:10:19.767724Z"
    }
   },
   "outputs": [
    {
     "data": {
      "text/plain": [
       "(1157, 100)"
      ]
     },
     "execution_count": 50,
     "metadata": {},
     "output_type": "execute_result"
    }
   ],
   "source": [
    "np.array(feature2).shape"
   ]
  },
  {
   "cell_type": "code",
   "execution_count": 69,
   "metadata": {
    "ExecuteTime": {
     "end_time": "2020-08-31T19:39:28.682697Z",
     "start_time": "2020-08-31T19:39:28.660026Z"
    }
   },
   "outputs": [
    {
     "data": {
      "text/plain": [
       "array([1.000e+00, 2.000e+00, 3.000e+00, 4.000e+00, 7.000e+00, 1.100e+01,\n",
       "       1.300e+01, 1.400e+01, 1.700e+01, 1.800e+01, 2.000e+01, 2.000e+01,\n",
       "       2.100e+01, 2.200e+01, 2.300e+01, 3.100e+01, 3.100e+01, 3.200e+01,\n",
       "       3.500e+01, 3.800e+01, 3.900e+01, 3.900e+01, 4.000e+01, 4.000e+01,\n",
       "       4.600e+01, 5.400e+01, 5.600e+01, 5.600e+01, 5.800e+01, 6.200e+01,\n",
       "       7.300e+01, 8.100e+01, 8.200e+01, 8.300e+01, 8.700e+01, 8.700e+01,\n",
       "       8.900e+01, 9.000e+01, 9.300e+01, 9.900e+01, 9.900e+01, 9.900e+01,\n",
       "       1.000e+02, 1.040e+02, 1.100e+02, 1.110e+02, 1.190e+02, 1.230e+02,\n",
       "       1.300e+02, 1.360e+02, 1.410e+02, 1.430e+02, 1.510e+02, 1.530e+02,\n",
       "       1.560e+02, 1.580e+02, 1.580e+02, 1.620e+02, 1.620e+02, 1.630e+02,\n",
       "       1.700e+02, 1.710e+02, 1.730e+02, 1.750e+02, 1.760e+02, 1.790e+02,\n",
       "       1.850e+02, 1.870e+02, 1.910e+02, 1.940e+02, 1.970e+02, 2.070e+02,\n",
       "       2.080e+02, 2.100e+02, 2.160e+02, 2.180e+02, 2.290e+02, 2.330e+02,\n",
       "       2.440e+02, 2.450e+02, 2.450e+02, 2.520e+02, 2.570e+02, 2.580e+02,\n",
       "       2.590e+02, 2.630e+02, 2.790e+02, 2.870e+02, 2.910e+02, 2.910e+02,\n",
       "       2.920e+02, 2.940e+02, 2.960e+02, 3.060e+02, 3.110e+02, 3.150e+02,\n",
       "       3.230e+02, 3.260e+02, 3.290e+02, 3.400e+02, 3.510e+02, 3.510e+02,\n",
       "       3.540e+02, 3.710e+02, 3.810e+02, 3.820e+02, 4.010e+02, 4.080e+02,\n",
       "       4.090e+02, 4.120e+02, 4.400e+02, 4.420e+02, 4.420e+02, 4.420e+02,\n",
       "       4.510e+02, 4.540e+02, 4.700e+02, 4.730e+02, 5.010e+02, 5.020e+02,\n",
       "       5.100e+02, 5.160e+02, 5.330e+02, 5.500e+02, 6.380e+02, 7.580e+02,\n",
       "       7.750e+02, 7.910e+02, 8.450e+02, 8.640e+02, 9.060e+02, 9.430e+02,\n",
       "       1.116e+03, 1.127e+03, 1.160e+03, 1.240e+03, 1.477e+03, 1.569e+03,\n",
       "       1.655e+03, 1.744e+03, 2.055e+03, 2.176e+03, 2.285e+03, 3.423e+03,\n",
       "       3.505e+03, 3.534e+03, 4.030e+03, 4.142e+03, 4.255e+03, 4.452e+03])"
      ]
     },
     "execution_count": 69,
     "metadata": {},
     "output_type": "execute_result"
    }
   ],
   "source": [
    "feature2[0]"
   ]
  },
  {
   "cell_type": "markdown",
   "metadata": {},
   "source": [
    "## Feature 3 (SVD scores)"
   ]
  },
  {
   "cell_type": "markdown",
   "metadata": {},
   "source": [
    "SVD model Scores. Take advantage of the DataFrame containing the scores to extract the predicted scores for the desired movies."
   ]
  },
  {
   "cell_type": "code",
   "execution_count": 51,
   "metadata": {
    "ExecuteTime": {
     "end_time": "2020-08-31T14:10:19.979458Z",
     "start_time": "2020-08-31T14:10:19.783056Z"
    }
   },
   "outputs": [],
   "source": [
    "df_movie_features1 = train_features_df.pivot(\n",
    "    index='user_id',\n",
    "    columns='book_id',\n",
    "    values='rating'\n",
    ").fillna(0)"
   ]
  },
  {
   "cell_type": "code",
   "execution_count": 52,
   "metadata": {
    "ExecuteTime": {
     "end_time": "2020-08-31T14:10:20.361706Z",
     "start_time": "2020-08-31T14:10:19.981784Z"
    }
   },
   "outputs": [],
   "source": [
    "U1, sigma1, Vt1 = svds(df_movie_features1)\n",
    "sigma1 = np.diag(sigma1)\n",
    "svd_predictions_score1 = np.dot(np.dot(U1, sigma1), Vt1)\n",
    "svd_predictions_score_df1 = pd.DataFrame(svd_predictions_score1, columns = df_movie_features1.columns)"
   ]
  },
  {
   "cell_type": "code",
   "execution_count": 53,
   "metadata": {
    "ExecuteTime": {
     "end_time": "2020-08-31T14:10:20.383801Z",
     "start_time": "2020-08-31T14:10:20.366354Z"
    }
   },
   "outputs": [
    {
     "data": {
      "text/plain": [
       "301"
      ]
     },
     "execution_count": 53,
     "metadata": {},
     "output_type": "execute_result"
    }
   ],
   "source": [
    "target_movies[0][2]"
   ]
  },
  {
   "cell_type": "code",
   "execution_count": 54,
   "metadata": {
    "ExecuteTime": {
     "end_time": "2020-08-31T14:10:20.495318Z",
     "start_time": "2020-08-31T14:10:20.387236Z"
    }
   },
   "outputs": [
    {
     "data": {
      "text/html": [
       "<div>\n",
       "<style scoped>\n",
       "    .dataframe tbody tr th:only-of-type {\n",
       "        vertical-align: middle;\n",
       "    }\n",
       "\n",
       "    .dataframe tbody tr th {\n",
       "        vertical-align: top;\n",
       "    }\n",
       "\n",
       "    .dataframe thead th {\n",
       "        text-align: right;\n",
       "    }\n",
       "</style>\n",
       "<table border=\"1\" class=\"dataframe\">\n",
       "  <thead>\n",
       "    <tr style=\"text-align: right;\">\n",
       "      <th>book_id</th>\n",
       "      <th>2</th>\n",
       "      <th>3</th>\n",
       "      <th>4</th>\n",
       "      <th>5</th>\n",
       "      <th>7</th>\n",
       "      <th>8</th>\n",
       "      <th>9</th>\n",
       "      <th>10</th>\n",
       "      <th>11</th>\n",
       "      <th>13</th>\n",
       "      <th>...</th>\n",
       "      <th>9966</th>\n",
       "      <th>9972</th>\n",
       "      <th>9974</th>\n",
       "      <th>9978</th>\n",
       "      <th>9981</th>\n",
       "      <th>9985</th>\n",
       "      <th>9988</th>\n",
       "      <th>9990</th>\n",
       "      <th>9991</th>\n",
       "      <th>9995</th>\n",
       "    </tr>\n",
       "  </thead>\n",
       "  <tbody>\n",
       "    <tr>\n",
       "      <th>0</th>\n",
       "      <td>-0.003803</td>\n",
       "      <td>-0.000947</td>\n",
       "      <td>0.039469</td>\n",
       "      <td>0.034202</td>\n",
       "      <td>-0.031163</td>\n",
       "      <td>0.024672</td>\n",
       "      <td>0.004871</td>\n",
       "      <td>0.027775</td>\n",
       "      <td>0.053842</td>\n",
       "      <td>0.000344</td>\n",
       "      <td>...</td>\n",
       "      <td>0.001509</td>\n",
       "      <td>0.000897</td>\n",
       "      <td>0.000042</td>\n",
       "      <td>-0.000582</td>\n",
       "      <td>0.000632</td>\n",
       "      <td>0.000019</td>\n",
       "      <td>-0.000746</td>\n",
       "      <td>0.000456</td>\n",
       "      <td>0.001204</td>\n",
       "      <td>-0.000152</td>\n",
       "    </tr>\n",
       "  </tbody>\n",
       "</table>\n",
       "<p>1 rows × 3815 columns</p>\n",
       "</div>"
      ],
      "text/plain": [
       "book_id      2         3         4         5         7         8         9     \\\n",
       "0       -0.003803 -0.000947  0.039469  0.034202 -0.031163  0.024672  0.004871   \n",
       "\n",
       "book_id      10        11        13    ...      9966      9972      9974  \\\n",
       "0        0.027775  0.053842  0.000344  ...  0.001509  0.000897  0.000042   \n",
       "\n",
       "book_id      9978      9981      9985      9988      9990      9991      9995  \n",
       "0       -0.000582  0.000632  0.000019 -0.000746  0.000456  0.001204 -0.000152  \n",
       "\n",
       "[1 rows x 3815 columns]"
      ]
     },
     "execution_count": 54,
     "metadata": {},
     "output_type": "execute_result"
    }
   ],
   "source": [
    "svd_predictions_score_df1[svd_predictions_score_df1.index == 0]"
   ]
  },
  {
   "cell_type": "code",
   "execution_count": 55,
   "metadata": {
    "ExecuteTime": {
     "end_time": "2020-08-31T14:10:20.514069Z",
     "start_time": "2020-08-31T14:10:20.498900Z"
    }
   },
   "outputs": [
    {
     "data": {
      "text/plain": [
       "0.029890038382440833"
      ]
     },
     "execution_count": 55,
     "metadata": {},
     "output_type": "execute_result"
    }
   ],
   "source": [
    "float(svd_predictions_score_df1[svd_predictions_score_df1.index == 0][target_movies[0][0]].values)"
   ]
  },
  {
   "cell_type": "code",
   "execution_count": 56,
   "metadata": {
    "ExecuteTime": {
     "end_time": "2020-08-31T14:10:23.041956Z",
     "start_time": "2020-08-31T14:10:20.518831Z"
    }
   },
   "outputs": [
    {
     "name": "stdout",
     "output_type": "stream",
     "text": [
      "book_id      2         3         4         5         7         8         9     \\\n",
      "0       -0.003803 -0.000947  0.039469  0.034202 -0.031163  0.024672  0.004871   \n",
      "\n",
      "book_id      10        11        13        14        15        18        19    \\\n",
      "0        0.027775  0.053842  0.000344 -0.008217  0.007827 -0.018395 -0.024396   \n",
      "\n",
      "book_id      21        22        23        24        25       26        27    \\\n",
      "0       -0.013431  0.035654 -0.013833 -0.000136  0.006278  0.02989 -0.009358   \n",
      "\n",
      "book_id     28        29        32        33        35        36        37    \\\n",
      "0       -0.00059  0.002453  0.013451  0.044615  0.017398  0.006528 -0.005179   \n",
      "\n",
      "book_id      38        39        40        41        42        43        44    \\\n",
      "0        0.032792 -0.010436  0.008961  0.000565  0.006298  0.005667  0.003016   \n",
      "\n",
      "book_id      45        46        47        48        49        50       51    \\\n",
      "0        0.033224  0.013759  0.001376 -0.004219 -0.000799  0.014246 -0.00014   \n",
      "\n",
      "book_id      52        53        54        55        57        58        59    \\\n",
      "0       -0.000543 -0.004289 -0.011933  0.004095  0.036227  0.008007 -0.001111   \n",
      "\n",
      "book_id     60        62        63        64        65        66        67    \\\n",
      "0        0.02929 -0.003812  0.004996  0.011064  0.012033  0.000123  0.014533   \n",
      "\n",
      "book_id      68        70       71        72        74        75        76    \\\n",
      "0        0.003713 -0.013009 -0.00012 -0.007513 -0.000012  0.008051  0.003867   \n",
      "\n",
      "book_id      77        78        79       80        81        82        83    \\\n",
      "0        0.000376  0.009326 -0.002812  0.00011  0.016311  0.004821 -0.004333   \n",
      "\n",
      "book_id      84        85        86        87       89        90        92    \\\n",
      "0       -0.004206  0.003508  0.002789  0.018902 -0.01016  0.001079  0.007471   \n",
      "\n",
      "book_id     93        94        95        97        100       101       102   \\\n",
      "0       -0.00157  0.036492 -0.000952 -0.002238  0.026928  0.026446  0.005803   \n",
      "\n",
      "book_id      103       104       107       108       109       110       111   \\\n",
      "0       -0.004718  0.003489  0.001003  0.004286 -0.004385 -0.005407  0.015886   \n",
      "\n",
      "book_id      113      114       115       116       117       118       119   \\\n",
      "0       -0.000815  0.01026  0.056822  0.003453 -0.004046  0.010623  0.011905   \n",
      "\n",
      "book_id      120      121       122       123       125       126       127   \\\n",
      "0        0.000058  0.02203  0.017262 -0.002842 -0.000506 -0.010932  0.004401   \n",
      "\n",
      "book_id      129       130       131       132       133       135       136   \\\n",
      "0        0.006086  0.002216  0.007316  0.003374  0.001864 -0.003935  0.008562   \n",
      "\n",
      "book_id      137      138      142       145       148       150       151   \\\n",
      "0       -0.000656  0.00208  0.00193 -0.001203  0.006699  0.022942  0.000171   \n",
      "\n",
      "book_id     152       154       155       156       157       158       160   \\\n",
      "0       -0.00033 -0.005859 -0.018148  0.003674 -0.003751  0.005008 -0.001829   \n",
      "\n",
      "book_id      161       162       165       167       168       170       171   \\\n",
      "0       -0.018771  0.004689 -0.004478 -0.006178 -0.016137  0.000464  0.010968   \n",
      "\n",
      "book_id      172       173       176      177    178       179       180   \\\n",
      "0        0.010524 -0.000954 -0.012963  0.00494  0.014  0.009606  0.001535   \n",
      "\n",
      "book_id      181       184       186       187      189       191       194   \\\n",
      "0        0.011284  0.002592  0.014512  0.000499 -0.00961 -0.005932 -0.000061   \n",
      "\n",
      "book_id      196       197       198       199       200       204       205   \\\n",
      "0        0.001834 -0.000448  0.009105  0.004541  0.000981 -0.003318 -0.011192   \n",
      "\n",
      "book_id      207       209       211       212      213       217       219   \\\n",
      "0        0.002016 -0.002205  0.003211  0.008983  0.00203  0.016975 -0.003109   \n",
      "\n",
      "book_id      221       222       223       225       227       228       229   \\\n",
      "0        0.001262  0.000548 -0.000428  0.012996  0.000892  0.011313 -0.006423   \n",
      "\n",
      "book_id      230       232      233       234       236       237       238   \\\n",
      "0        0.003292 -0.012152  0.02526 -0.000638  0.000794 -0.005276  0.022773   \n",
      "\n",
      "book_id      239       241       242       243       245       247       248   \\\n",
      "0       -0.000232  0.002546 -0.001576 -0.002615 -0.003578 -0.000057 -0.001783   \n",
      "\n",
      "book_id      249       251       255       256       257    258       260   \\\n",
      "0        0.007949 -0.002078  0.004952 -0.000605 -0.001678  0.003 -0.000175   \n",
      "\n",
      "book_id      261       263       264      265       266       268       269   \\\n",
      "0        0.000929 -0.000756  0.009869  0.00401 -0.001311  0.003321  0.001163   \n",
      "\n",
      "book_id      270       271       272       273      274       275       276   \\\n",
      "0        0.001198  0.004747  0.004595  0.008442 -0.00355  0.000356 -0.006785   \n",
      "\n",
      "book_id      278       281       282       283       284       287       288   \\\n",
      "0        0.004921 -0.001099 -0.001609 -0.009039  0.004201 -0.000512 -0.005811   \n",
      "\n",
      "book_id      289       292       293       296       297       298       301   \\\n",
      "0       -0.003039 -0.007106 -0.000566 -0.000194  0.004352 -0.002973  0.001325   \n",
      "\n",
      "book_id      303      304       305       306       308       310     311   \\\n",
      "0        0.000156  0.01289 -0.005649  0.020291  0.001543  0.005086 -0.0016   \n",
      "\n",
      "book_id      314       315       316       317       321       322       323   \\\n",
      "0       -0.000959 -0.000318  0.005188  0.005069  0.000031 -0.005008  0.013694   \n",
      "\n",
      "book_id      325       326       328       330       331       332       335   \\\n",
      "0        0.009945  0.008355  0.002419 -0.007665  0.004255 -0.006798  0.002586   \n",
      "\n",
      "book_id      336       337     339       341       343      344      345   \\\n",
      "0        0.001034 -0.012993  0.0019 -0.003227 -0.002015  0.01832 -0.00137   \n",
      "\n",
      "book_id      346      347       349       350       353      354       356   \\\n",
      "0        0.001134 -0.00595 -0.005644 -0.001716  0.005346  0.01791 -0.001811   \n",
      "\n",
      "book_id      357       358       360      361       362      364       365   \\\n",
      "0        0.001517  0.001396 -0.001659 -0.00184 -0.004869 -0.00185 -0.002387   \n",
      "\n",
      "book_id      366       367       368       369       371       372       373   \\\n",
      "0        0.000105 -0.001461 -0.002495  0.000308 -0.004829  0.013077  0.006248   \n",
      "\n",
      "book_id      374       375       377       378       380       381       383   \\\n",
      "0       -0.001705 -0.000529 -0.003275  0.027112  0.001435  0.004925  0.013041   \n",
      "\n",
      "book_id      386       387       388       390       391       395       397   \\\n",
      "0        0.002607  0.004198 -0.002643 -0.000515 -0.000614  0.004739  0.002752   \n",
      "\n",
      "book_id      398       400       401       402       403      405       406   \\\n",
      "0        0.008673 -0.003017  0.007345  0.000978 -0.002986  0.00141  0.000151   \n",
      "\n",
      "book_id      407       408       409       410       411       412       413   \\\n",
      "0        0.013159 -0.000789  0.001459  0.005572  0.001495 -0.000303 -0.002965   \n",
      "\n",
      "book_id      416       417       420       422       424       425       426   \\\n",
      "0        0.003648  0.001129  0.001393  0.000319  0.001586 -0.000394  0.006572   \n",
      "\n",
      "book_id      427       429       430       431       432       436       439   \\\n",
      "0       -0.000311 -0.003883  0.004918 -0.001114 -0.008827  0.007827 -0.004113   \n",
      "\n",
      "book_id      442       443       444       448       450       451       453   \\\n",
      "0       -0.006737  0.000034 -0.001524  0.000166 -0.000548  0.002369  0.009175   \n",
      "\n",
      "book_id      454      455      456       457       461       463       464   \\\n",
      "0       -0.000852  0.00279  0.00424  0.004634  0.002029 -0.001169 -0.000111   \n",
      "\n",
      "book_id      465       468       469       471       472       474       476   \\\n",
      "0        0.004472  0.010154 -0.000372  0.001234 -0.000724  0.000442  0.008369   \n",
      "\n",
      "book_id      478       479       480      481       483      484     485   \\\n",
      "0       -0.000603 -0.006936 -0.000558 -0.00976  0.017483  0.00406  0.0028   \n",
      "\n",
      "book_id      486       487       488       489       490       492       493   \\\n",
      "0        0.000009 -0.005362 -0.012471  0.001579 -0.002583 -0.006249 -0.005605   \n",
      "\n",
      "book_id      494      495       496       497       498      499       500   \\\n",
      "0        0.006471  0.02227 -0.000555 -0.000592  0.001099  0.00107 -0.000439   \n",
      "\n",
      "book_id      501       502      503       504       505       508       510   \\\n",
      "0        0.002098 -0.000642 -0.00231 -0.000088 -0.001377  0.009717 -0.010016   \n",
      "\n",
      "book_id     511       512       513       514       515       516       518   \\\n",
      "0        0.00054 -0.000275  0.000304 -0.000681  0.005954  0.014513 -0.000709   \n",
      "\n",
      "book_id      519      520       521     522       523      527       528   \\\n",
      "0        0.000284  0.00758 -0.001049  0.0033  0.004828 -0.00022 -0.003398   \n",
      "\n",
      "book_id      529       530       531       532       538       540       541   \\\n",
      "0       -0.003574 -0.000674 -0.002233 -0.000339  0.004788 -0.001052  0.000291   \n",
      "\n",
      "book_id      542       544       545       546       547       549       550   \\\n",
      "0       -0.006509 -0.000364 -0.001276  0.000091 -0.001378 -0.000416  0.001367   \n",
      "\n",
      "book_id      552       553       554       556       557      558       559   \\\n",
      "0        0.000387 -0.008458 -0.000136 -0.002458  0.011039 -0.00043 -0.000507   \n",
      "\n",
      "book_id     560       561       563       564      568       569       570   \\\n",
      "0        0.00253 -0.003351 -0.000397  0.000523 -0.00137  0.000557  0.000643   \n",
      "\n",
      "book_id      571       572       573       574       575       576       577   \\\n",
      "0       -0.000025  0.001729 -0.000288  0.003178 -0.004631  0.001448 -0.000839   \n",
      "\n",
      "book_id      578       579       582       585       586       587       588   \\\n",
      "0       -0.005975 -0.000414 -0.000591 -0.000174 -0.000977  0.008832 -0.000037   \n",
      "\n",
      "book_id      590       592       593       594       595     596       597   \\\n",
      "0       -0.000014  0.002522 -0.001444  0.000423 -0.000816 -0.0008 -0.000067   \n",
      "\n",
      "book_id      598     599       602       604       606       608       609   \\\n",
      "0       -0.002311 -0.0079 -0.005989  0.003875  0.000734  0.000237 -0.005782   \n",
      "\n",
      "book_id      611       612       614       615       616       618       620   \\\n",
      "0       -0.006427 -0.009585  0.001713  0.000034  0.005637 -0.002185 -0.002587   \n",
      "\n",
      "book_id      621      622      624       625       626       627       628   \\\n",
      "0        0.005987  0.00084 -0.00021  0.006641 -0.000258 -0.000335 -0.002028   \n",
      "\n",
      "book_id      629      631       633       635       637       639       640   \\\n",
      "0        0.000162 -0.00022 -0.009267  0.003355 -0.006102 -0.000215 -0.002626   \n",
      "\n",
      "book_id      641       646       647       650       651       652       653   \\\n",
      "0       -0.004787  0.000296  0.001356 -0.000255  0.000044 -0.000618  0.005389   \n",
      "\n",
      "book_id      658       659       660       661      662       663      664   \\\n",
      "0        0.008484  0.002314 -0.001577 -0.000618  0.02266  0.002846  0.00488   \n",
      "\n",
      "book_id      666       669       670      671       672       674       675   \\\n",
      "0       -0.005362  0.007223 -0.007904 -0.00019 -0.001576  0.001989 -0.003291   \n",
      "\n",
      "book_id      679      681       682       683       686       687       688   \\\n",
      "0        0.000301  0.00083  0.002558  0.000668 -0.000011  0.001169  0.007157   \n",
      "\n",
      "book_id      690       691       693       696       699       700       701   \\\n",
      "0        0.004341 -0.006172 -0.006565 -0.010937 -0.000695  0.003115  0.002183   \n",
      "\n",
      "book_id      703       704      705       706       707       708       709   \\\n",
      "0       -0.005335  0.004923 -0.00357  0.000297  0.000219 -0.000088  0.007491   \n",
      "\n",
      "book_id      710       712       714       715       716       718       720   \\\n",
      "0        0.004094 -0.000821 -0.000839  0.000282 -0.000254  0.006256  0.000098   \n",
      "\n",
      "book_id      722       723       725       726       727       728       729   \\\n",
      "0       -0.006546  0.000318 -0.011542  0.000155  0.002381  0.000596 -0.003994   \n",
      "\n",
      "book_id      730       731       733       734       735       736       737   \\\n",
      "0       -0.003397 -0.000903  0.007941  0.000191 -0.000262  0.006951  0.008398   \n",
      "\n",
      "book_id      738       739       740       741       743       744      747   \\\n",
      "0       -0.002229 -0.008185  0.001633  0.005978 -0.000244 -0.000209 -0.00123   \n",
      "\n",
      "book_id      751       753       755       757       758       760       762   \\\n",
      "0       -0.008256 -0.000509 -0.007015 -0.001649  0.002435 -0.011879  0.001763   \n",
      "\n",
      "book_id      763       765       766       767       768       769       770   \\\n",
      "0        0.012441  0.000626 -0.002834  0.001694  0.000814 -0.001601 -0.000586   \n",
      "\n",
      "book_id      772       773       776       777       778       779       782   \\\n",
      "0       -0.006171  0.000667  0.000343  0.003969 -0.000758  0.004656  0.005138   \n",
      "\n",
      "book_id      784       785       786       788       789       790       792   \\\n",
      "0        0.002331 -0.003006  0.000073  0.000049 -0.006869  0.001159  0.000006   \n",
      "\n",
      "book_id      793      795       798      799      800       803       804   \\\n",
      "0       -0.000036  0.00496 -0.000864 -0.00282  0.00016  0.000098 -0.003537   \n",
      "\n",
      "book_id      806       809       810       815       817       818       819   \\\n",
      "0       -0.008901  0.000565  0.000059  0.000467 -0.002029 -0.005491 -0.000847   \n",
      "\n",
      "book_id      820       823       824       826       828       829       833   \\\n",
      "0        0.002548 -0.000447  0.000036 -0.001162  0.000934  0.001861 -0.000888   \n",
      "\n",
      "book_id      838       839       840       841       846       847       848   \\\n",
      "0       -0.005974  0.003109 -0.000616  0.000118  0.000239  0.001382  0.004282   \n",
      "\n",
      "book_id     849       851       853       854       855       856       857   \\\n",
      "0        0.00044  0.000062 -0.000204 -0.000035  0.000896 -0.000334  0.002333   \n",
      "\n",
      "book_id     860       864       865       866       867       868       870   \\\n",
      "0        0.01275 -0.002285 -0.003233 -0.000117  0.007364 -0.001157 -0.000131   \n",
      "\n",
      "book_id      872       873       875       876       877       878       879   \\\n",
      "0        0.003886 -0.000481  0.000098  0.000008 -0.000031 -0.000396  0.002202   \n",
      "\n",
      "book_id      881       883       885       887       888       889       890   \\\n",
      "0        0.002192  0.005831  0.003595  0.004429  0.000364  0.000118 -0.008038   \n",
      "\n",
      "book_id      891       894       895       896       897       898       899   \\\n",
      "0       -0.000297 -0.004628  0.009022  0.000755 -0.001279 -0.003231  0.004857   \n",
      "\n",
      "book_id      900       901       902       903       905       908       910   \\\n",
      "0        0.000432  0.002523 -0.000197  0.002209 -0.001822  0.004208 -0.000377   \n",
      "\n",
      "book_id      911       912       913       914      915       916       918   \\\n",
      "0       -0.001756  0.001378  0.000256 -0.000204 -0.00222  0.005819  0.000269   \n",
      "\n",
      "book_id     919       925       927      932       934       935       936   \\\n",
      "0        0.00334  0.002061  0.000153  0.00048 -0.003011  0.000866 -0.006458   \n",
      "\n",
      "book_id      937       941       943       944      948       949       951   \\\n",
      "0       -0.000415  0.006354  0.007337 -0.003651  0.01007 -0.002379 -0.000274   \n",
      "\n",
      "book_id      952       953       955       956       958       959       961   \\\n",
      "0        0.001834 -0.007762  0.003272 -0.002162  0.002104  0.003119  0.003909   \n",
      "\n",
      "book_id      963       964       966       967       969       972       974   \\\n",
      "0       -0.000692 -0.000125  0.000036 -0.004444 -0.000144  0.000107 -0.000233   \n",
      "\n",
      "book_id      975      976       977      982       984       986       989   \\\n",
      "0       -0.000067 -0.00246  0.002432  0.00141 -0.000961 -0.004125  0.000705   \n",
      "\n",
      "book_id      994       996       997       998       999       1003      1005  \\\n",
      "0        0.000237  0.001438  0.000456 -0.001567 -0.001078 -0.001357  0.015814   \n",
      "\n",
      "book_id     1007      1010      1014      1015     1016      1018      1019  \\\n",
      "0        0.00078 -0.000993 -0.009949 -0.004204 -0.00025 -0.001108 -0.000798   \n",
      "\n",
      "book_id      1020     1021      1023      1025      1026     1031      1033  \\\n",
      "0       -0.000922  0.00073 -0.005689 -0.001104 -0.000943  0.00392  0.000779   \n",
      "\n",
      "book_id      1034      1037      1038      1041      1042      1048      1049  \\\n",
      "0       -0.001115 -0.000273 -0.000175  0.002154 -0.010826  0.000379 -0.000053   \n",
      "\n",
      "book_id      1051      1053      1055      1056      1057      1058      1061  \\\n",
      "0        0.003163 -0.006257  0.003803 -0.000003  0.000357 -0.000065 -0.000659   \n",
      "\n",
      "book_id      1063      1064      1067      1068     1071      1073      1074  \\\n",
      "0        0.003338  0.000578  0.000136  0.002926 -0.00509  0.000873 -0.000512   \n",
      "\n",
      "book_id      1075      1077      1078      1079      1083      1084      1085  \\\n",
      "0       -0.004752 -0.000591  0.000575  0.000757  0.002958  0.003427 -0.000042   \n",
      "\n",
      "book_id      1086      1088      1089      1090      1094      1096     1097  \\\n",
      "0       -0.001399  0.001402 -0.006146 -0.001202  0.001586  0.000868 -0.00063   \n",
      "\n",
      "book_id      1099      1100      1102      1103      1105      1106      1107  \\\n",
      "0        0.000483  0.000654  0.007206  0.000689 -0.004385 -0.002536  0.003112   \n",
      "\n",
      "book_id      1108      1111      1112      1113      1114      1117      1119  \\\n",
      "0       -0.000018  0.001279 -0.001373 -0.000216 -0.000132 -0.002041 -0.008924   \n",
      "\n",
      "book_id    1120     1121      1123      1124      1127      1128      1131  \\\n",
      "0       -0.0002  0.00093 -0.006503  0.001834 -0.000232 -0.000406  0.001251   \n",
      "\n",
      "book_id      1133      1135      1137      1138      1139      1142      1144  \\\n",
      "0        0.004041  0.002171 -0.000018 -0.000336 -0.006769 -0.006405  0.008169   \n",
      "\n",
      "book_id      1145      1146      1149      1150      1151      1153      1154  \\\n",
      "0        0.004652  0.000099  0.006001  0.000519  0.000193 -0.000784  0.000262   \n",
      "\n",
      "book_id      1155      1158      1159      1160      1161      1163     1167  \\\n",
      "0        0.000209 -0.000706  0.002599  0.000604  0.001991 -0.000328 -0.00078   \n",
      "\n",
      "book_id      1168      1171      1175      1176      1178      1179      1181  \\\n",
      "0       -0.000027  0.004154 -0.001031  0.000509 -0.001345 -0.002567  0.000097   \n",
      "\n",
      "book_id      1184      1185     1186      1189      1191      1193      1196  \\\n",
      "0        0.002708 -0.000008  0.00325  0.000235 -0.003284 -0.001059 -0.003599   \n",
      "\n",
      "book_id      1199      1202      1204      1205      1206      1207     1208  \\\n",
      "0       -0.001984  0.002967 -0.000254  0.000975  0.000206  0.000096 -0.00781   \n",
      "\n",
      "book_id     1210      1213      1214      1216      1217      1218      1221  \\\n",
      "0       -0.00126 -0.005421 -0.000438  0.000241 -0.004615 -0.000206  0.006221   \n",
      "\n",
      "book_id      1222      1223      1224      1225      1226      1228      1232  \\\n",
      "0       -0.001338 -0.002457 -0.000242 -0.000936  0.000793 -0.000307  0.000149   \n",
      "\n",
      "book_id      1233      1234      1235      1236      1238      1239      1245  \\\n",
      "0       -0.000479 -0.000674 -0.001394 -0.000245  0.001849  0.000948 -0.001816   \n",
      "\n",
      "book_id      1246     1247      1248      1249      1250      1253    1255  \\\n",
      "0       -0.002293 -0.00093 -0.003656 -0.002478  0.002797  0.000076  0.0008   \n",
      "\n",
      "book_id      1258      1260      1261      1262      1265      1267      1269  \\\n",
      "0        0.000829  0.001017 -0.007824 -0.006086  0.000472 -0.000081 -0.001731   \n",
      "\n",
      "book_id     1270      1272      1273     1277      1278      1279      1280  \\\n",
      "0        0.00175  0.004346 -0.000994 -0.00063 -0.004984  0.000397 -0.000198   \n",
      "\n",
      "book_id      1282     1283      1286      1288      1289      1290      1294  \\\n",
      "0        0.000735  0.00054  0.000249 -0.003686 -0.000411 -0.000176  0.001335   \n",
      "\n",
      "book_id     1296      1298      1299      1300      1301      1303     1304  \\\n",
      "0       -0.00069 -0.000288  0.004365  0.000466  0.000285  0.000774 -0.00287   \n",
      "\n",
      "book_id      1305      1311      1312      1313    1314      1315      1317  \\\n",
      "0       -0.000615  0.007944  0.003719  0.000439  0.0011  0.000675  0.005899   \n",
      "\n",
      "book_id      1318      1319      1320      1322      1323      1324      1327  \\\n",
      "0       -0.000818  0.000725  0.000205 -0.000923 -0.000039  0.000207 -0.000063   \n",
      "\n",
      "book_id      1329      1330      1332     1337      1338      1340      1342  \\\n",
      "0        0.002537 -0.000812 -0.006172 -0.00345 -0.000111 -0.000516 -0.005859   \n",
      "\n",
      "book_id      1343      1348      1350      1351      1354      1357      1362  \\\n",
      "0       -0.003419  0.000258 -0.000745  0.000715  0.000107 -0.000903 -0.004404   \n",
      "\n",
      "book_id      1363      1364     1365      1367      1368      1369     1370  \\\n",
      "0       -0.004031 -0.000769  0.00092 -0.000865 -0.004918 -0.000033  0.00061   \n",
      "\n",
      "book_id      1373      1378      1379      1380     1381      1383     1384  \\\n",
      "0       -0.001017  0.000283  0.000446  0.001112  0.00038  0.000518 -0.00065   \n",
      "\n",
      "book_id     1386      1388      1389      1390      1391    1392      1393  \\\n",
      "0        0.00348 -0.001754  0.001564 -0.000079 -0.000806  0.0012 -0.000226   \n",
      "\n",
      "book_id      1394      1401      1402      1407      1410      1411      1414  \\\n",
      "0       -0.001349  0.000019  0.000257 -0.001332 -0.000025  0.003649 -0.000903   \n",
      "\n",
      "book_id     1418      1420      1421      1422      1423      1426      1427  \\\n",
      "0       -0.00233  0.000036  0.002319  0.000394 -0.001304  0.001696  0.000816   \n",
      "\n",
      "book_id      1430      1431      1432      1434      1435      1436      1438  \\\n",
      "0        0.001131 -0.000737 -0.000592 -0.001997  0.000054  0.001517 -0.000025   \n",
      "\n",
      "book_id      1441      1444      1445      1449      1452      1454      1457  \\\n",
      "0        0.000502  0.001118 -0.000023 -0.000042 -0.001027  0.000111  0.004489   \n",
      "\n",
      "book_id      1458      1459      1460      1461      1463      1465      1466  \\\n",
      "0        0.000525  0.000257  0.001328 -0.000062 -0.001938  0.000967 -0.000355   \n",
      "\n",
      "book_id      1469      1476      1477      1479      1480      1484      1485  \\\n",
      "0        0.001616 -0.000159  0.000747 -0.000885 -0.000213 -0.000834  0.001236   \n",
      "\n",
      "book_id      1486      1487      1488      1489      1492      1493      1495  \\\n",
      "0       -0.000715  0.001499  0.001135 -0.001628  0.001766 -0.001481 -0.000516   \n",
      "\n",
      "book_id      1497      1498      1500      1501      1503      1506      1509  \\\n",
      "0       -0.000449 -0.006871  0.001919  0.001787  0.000234  0.000481  0.000921   \n",
      "\n",
      "book_id      1514      1515      1518      1519      1520      1521      1525  \\\n",
      "0       -0.000095  0.001009 -0.000355 -0.006312 -0.001314 -0.000962 -0.003403   \n",
      "\n",
      "book_id      1526      1528      1530      1533     1534      1535      1536  \\\n",
      "0       -0.001016 -0.000883 -0.001394 -0.006582  0.00073 -0.000033 -0.008054   \n",
      "\n",
      "book_id     1537      1544      1545      1547      1548      1549      1552  \\\n",
      "0        0.00227  0.007029 -0.000693  0.004092  0.000111 -0.000721 -0.001302   \n",
      "\n",
      "book_id      1553      1554      1555      1561      1564      1566      1567  \\\n",
      "0       -0.000075 -0.000255 -0.000616  0.000473  0.000304  0.004416  0.001556   \n",
      "\n",
      "book_id      1569      1570      1571      1572      1573      1574      1578  \\\n",
      "0        0.001892 -0.000823  0.000682 -0.003229  0.000792 -0.002337 -0.000275   \n",
      "\n",
      "book_id     1580      1581      1582      1584      1586      1589      1590  \\\n",
      "0        0.00201  0.000026  0.001029  0.001523  0.000502 -0.004834 -0.000149   \n",
      "\n",
      "book_id      1591      1592      1593      1594      1597      1598      1600  \\\n",
      "0       -0.001867 -0.000601 -0.001146  0.000041  0.004491  0.000106  0.000401   \n",
      "\n",
      "book_id      1601      1603      1605      1606      1607      1617      1618  \\\n",
      "0        0.000129 -0.000045 -0.000824  0.000189 -0.001278  0.000401  0.000042   \n",
      "\n",
      "book_id      1620      1622      1623      1624      1625      1627      1629  \\\n",
      "0       -0.001015 -0.000655 -0.000527 -0.000011 -0.000696  0.000183 -0.002424   \n",
      "\n",
      "book_id      1631     1633      1635      1638      1639      1641      1642  \\\n",
      "0       -0.000049 -0.00763 -0.000153 -0.003705  0.000605 -0.001041  0.005356   \n",
      "\n",
      "book_id      1643      1644      1645      1646      1648      1649      1650  \\\n",
      "0       -0.002112  0.004458 -0.000835 -0.004802  0.000506  0.004049 -0.000149   \n",
      "\n",
      "book_id      1656     1657      1659      1662      1663     1664      1666  \\\n",
      "0       -0.000564 -0.00011  0.000174 -0.000625 -0.000528  0.00856 -0.000689   \n",
      "\n",
      "book_id      1670      1672      1675     1676      1677      1678      1679  \\\n",
      "0        0.000065  0.003363  0.002389  0.00215 -0.001501  0.000144  0.000217   \n",
      "\n",
      "book_id      1680      1681      1683      1684     1685      1686      1687  \\\n",
      "0       -0.000561  0.000512  0.001293  0.000151  0.00253 -0.001306 -0.000694   \n",
      "\n",
      "book_id      1691      1692     1693      1694      1697      1698     1701  \\\n",
      "0        0.000741  0.000383 -0.00115 -0.000093  0.000054 -0.002998 -0.00004   \n",
      "\n",
      "book_id     1703      1704      1705      1706      1707      1709     1711  \\\n",
      "0        0.00048  0.001267 -0.000409 -0.002139  0.000046 -0.002997  0.00169   \n",
      "\n",
      "book_id      1713      1714      1718      1719      1721      1722     1725  \\\n",
      "0        0.001665  0.007993  0.000873 -0.000876 -0.000388 -0.001837  0.00014   \n",
      "\n",
      "book_id      1726     1727      1732      1733      1734      1735      1739  \\\n",
      "0       -0.000427 -0.00911  0.000015 -0.001153 -0.000549 -0.000745  0.005272   \n",
      "\n",
      "book_id      1741      1742      1746      1748      1751      1752      1755  \\\n",
      "0        0.000517 -0.000336 -0.000407  0.002978 -0.000171  0.003514 -0.000291   \n",
      "\n",
      "book_id      1757      1758      1759      1762      1763    1765      1768  \\\n",
      "0        0.000216  0.002016 -0.002858  0.001674  0.000118 -0.0002 -0.008892   \n",
      "\n",
      "book_id      1771      1774     1775      1779      1781      1783      1784  \\\n",
      "0        0.001491 -0.000412 -0.00035 -0.000427  0.000019 -0.000077 -0.000029   \n",
      "\n",
      "book_id      1785      1788      1789     1791      1792     1793      1795  \\\n",
      "0        0.001016 -0.001178  0.000139 -0.00021  0.001378 -0.00013 -0.002112   \n",
      "\n",
      "book_id      1796      1797      1800      1801      1802      1806      1809  \\\n",
      "0        0.004393  0.002239 -0.000623 -0.001123 -0.002466  0.002435 -0.000057   \n",
      "\n",
      "book_id      1812      1817      1825      1826      1827      1833      1835  \\\n",
      "0       -0.001146 -0.001166 -0.001319 -0.000658 -0.000026  0.000521  0.000405   \n",
      "\n",
      "book_id      1842      1843      1845      1847      1853      1856      1857  \\\n",
      "0        0.001513  0.007037  0.002988  0.000941  0.003943  0.002279 -0.000855   \n",
      "\n",
      "book_id      1858      1859      1862      1863      1864      1865      1868  \\\n",
      "0       -0.000374  0.003729 -0.003995 -0.000128  0.000006  0.000058 -0.000582   \n",
      "\n",
      "book_id      1869      1871     1872      1873      1877      1878      1880  \\\n",
      "0       -0.000735 -0.000181  0.00039  0.000828  0.000006 -0.000666 -0.000867   \n",
      "\n",
      "book_id      1881      1884      1885     1888      1892      1895      1897  \\\n",
      "0        0.000035  0.000797 -0.000173  0.00723  0.002219 -0.003606 -0.000105   \n",
      "\n",
      "book_id      1900      1907      1908     1910      1913      1914      1915  \\\n",
      "0       -0.006965 -0.000365  0.000132  0.00057  0.001229 -0.006294 -0.000303   \n",
      "\n",
      "book_id      1916      1918      1921      1922      1923     1924      1925  \\\n",
      "0       -0.001398 -0.001309  0.000497 -0.001707  0.002765 -0.00184 -0.001397   \n",
      "\n",
      "book_id      1927      1928      1930      1931      1936      1937     1938  \\\n",
      "0        0.000192  0.004158 -0.000037 -0.001052  0.005736 -0.005251  0.00032   \n",
      "\n",
      "book_id      1940      1944      1949      1953      1954      1955      1956  \\\n",
      "0        0.000005 -0.000453  0.001544 -0.000898  0.000394  0.000435 -0.000079   \n",
      "\n",
      "book_id      1957      1960      1961      1963     1964      1966      1967  \\\n",
      "0        0.000846  0.000632  0.000286 -0.001601 -0.00021 -0.000384 -0.000199   \n",
      "\n",
      "book_id      1968      1969      1970      1972      1973      1975      1976  \\\n",
      "0       -0.000073 -0.000378  0.001494  0.000364  0.000102 -0.000044  0.000855   \n",
      "\n",
      "book_id    1977      1978      1980      1984      1986     1987      1989  \\\n",
      "0       -0.0002  0.003703 -0.001247  0.000539 -0.000427 -0.00328 -0.006011   \n",
      "\n",
      "book_id      1993      1996      1999      2004      2007      2009      2010  \\\n",
      "0       -0.005979  0.000287 -0.000255  0.000278 -0.000094 -0.000996  0.001385   \n",
      "\n",
      "book_id      2012      2013      2014      2015     2020      2022      2023  \\\n",
      "0       -0.000561  0.002344 -0.000626  0.003523  0.00046  0.000125 -0.000322   \n",
      "\n",
      "book_id      2024      2025     2026      2027      2028      2029      2030  \\\n",
      "0        0.000039  0.001763  0.00041  0.002235 -0.001306  0.001817 -0.000225   \n",
      "\n",
      "book_id      2031      2032      2034      2039      2041      2043      2045  \\\n",
      "0        0.000012  0.000598 -0.000592  0.000002 -0.000762 -0.007062 -0.003967   \n",
      "\n",
      "book_id      2047      2049      2051      2052      2053     2054      2056  \\\n",
      "0       -0.001628 -0.000162  0.002114 -0.002592  0.002538  0.00091 -0.002386   \n",
      "\n",
      "book_id      2062      2063      2064      2068      2069      2072      2073  \\\n",
      "0        0.001089  0.000998  0.000193 -0.000602 -0.000454  0.000153 -0.000278   \n",
      "\n",
      "book_id      2074      2075      2076      2079      2082      2086      2087  \\\n",
      "0       -0.000208  0.000184 -0.000144  0.002381 -0.001371 -0.007325  0.000887   \n",
      "\n",
      "book_id      2089      2090     2091      2095      2096      2097      2098  \\\n",
      "0        0.003721 -0.001199 -0.00039 -0.000227  0.000052  0.000471  0.000847   \n",
      "\n",
      "book_id      2101      2103      2107      2109      2110     2115      2122  \\\n",
      "0        0.000338  0.001063  0.005014 -0.003205 -0.000034 -0.00093  0.000277   \n",
      "\n",
      "book_id      2123      2124      2125      2127      2128      2129      2131  \\\n",
      "0        0.000354  0.001632 -0.002963 -0.000113  0.001128 -0.000126  0.000251   \n",
      "\n",
      "book_id      2132      2135      2136      2142      2143      2144      2145  \\\n",
      "0        0.000112  0.000214  0.000356  0.000572 -0.000693  0.000297  0.000063   \n",
      "\n",
      "book_id      2148      2150      2155      2156      2157      2159      2163  \\\n",
      "0        0.000499 -0.000331 -0.003399 -0.000117  0.002908  0.000121  0.001075   \n",
      "\n",
      "book_id      2165      2170      2172    2176      2177      2181      2184  \\\n",
      "0        0.000597 -0.000575  0.002372 -0.0001 -0.001454 -0.000225 -0.000692   \n",
      "\n",
      "book_id      2186      2187      2188     2190      2192      2193      2196  \\\n",
      "0        0.000081 -0.000657  0.004785 -0.00007  0.000339  0.004373 -0.001698   \n",
      "\n",
      "book_id      2197      2198     2199     2202      2203      2209      2210  \\\n",
      "0        0.000818 -0.002207  0.00005 -0.00021  0.000028 -0.000329 -0.001115   \n",
      "\n",
      "book_id      2211      2213      2214      2215      2219      2220      2224  \\\n",
      "0        0.000689 -0.002033 -0.001982  0.001894 -0.007589  0.000112 -0.002234   \n",
      "\n",
      "book_id      2226      2229      2230      2233      2235     2236      2238  \\\n",
      "0       -0.001188  0.001078 -0.001635  0.000431  0.000759 -0.00038 -0.000084   \n",
      "\n",
      "book_id      2239      2240      2241      2242      2250      2252     2255  \\\n",
      "0       -0.000637  0.000223  0.000306 -0.001202 -0.000375  0.000317  0.00021   \n",
      "\n",
      "book_id      2257      2259      2260      2261      2262      2266      2269  \\\n",
      "0        0.000498 -0.000654 -0.000301 -0.000425 -0.001862 -0.000235  0.000085   \n",
      "\n",
      "book_id      2270      2271      2274      2277      2278      2279      2280  \\\n",
      "0        0.000141 -0.004511  0.003384 -0.000558 -0.000301  0.000252 -0.000615   \n",
      "\n",
      "book_id      2284      2285      2286      2288      2289      2295      2296  \\\n",
      "0        0.003926 -0.000587 -0.000516  0.002193  0.000031 -0.000493  0.000044   \n",
      "\n",
      "book_id      2297      2298      2299     2302      2303    2304      2306  \\\n",
      "0       -0.000652  0.000882 -0.000612  0.00178 -0.001013  0.0029 -0.001462   \n",
      "\n",
      "book_id     2309      2311      2312      2314      2315      2318      2320  \\\n",
      "0       -0.00083 -0.000661 -0.001938  0.001668 -0.001084 -0.000358 -0.001982   \n",
      "\n",
      "book_id      2321      2323      2324      2328      2336      2337     2338  \\\n",
      "0       -0.000254 -0.000281 -0.000521 -0.000448 -0.000775  0.000701 -0.00008   \n",
      "\n",
      "book_id      2339      2340      2341     2342      2343      2344      2347  \\\n",
      "0        0.003397  0.001125 -0.000188 -0.00129 -0.000381  0.000395 -0.000373   \n",
      "\n",
      "book_id      2351      2352      2353      2354      2355      2357      2361  \\\n",
      "0        0.000459 -0.004444 -0.004709 -0.000565  0.000527 -0.000355  0.000715   \n",
      "\n",
      "book_id      2362      2365      2366      2367     2368      2371      2373  \\\n",
      "0        0.000712 -0.001186 -0.001633  0.003111  0.00021  0.002167  0.000158   \n",
      "\n",
      "book_id      2374      2379      2380      2382      2383      2385      2387  \\\n",
      "0        0.001541  0.003395  0.000388 -0.000577  0.000182 -0.002624  0.000148   \n",
      "\n",
      "book_id      2392      2398      2399      2400      2403      2405      2406  \\\n",
      "0       -0.000183 -0.001103 -0.001052 -0.000945  0.002943  0.000115 -0.000829   \n",
      "\n",
      "book_id      2408      2411      2415      2416      2419      2425      2426  \\\n",
      "0        0.000805 -0.000514 -0.000572 -0.001856  0.004262 -0.000108 -0.001242   \n",
      "\n",
      "book_id      2433      2439      2440      2445      2446      2451      2452  \\\n",
      "0        0.002568 -0.000498  0.001592  0.000475 -0.000141  0.004645 -0.000479   \n",
      "\n",
      "book_id      2453      2456      2458      2461     2462    2464      2465  \\\n",
      "0       -0.000139  0.000095 -0.001502 -0.003007  0.00019  0.0005  0.000655   \n",
      "\n",
      "book_id      2466      2468      2469      2470      2475      2485      2487  \\\n",
      "0        0.000194 -0.000483 -0.003053 -0.004199 -0.000087 -0.000066 -0.001945   \n",
      "\n",
      "book_id      2489      2491      2497      2499      2501      2506      2508  \\\n",
      "0       -0.001656 -0.002811  0.000528 -0.000325 -0.005396 -0.000113  0.005465   \n",
      "\n",
      "book_id      2512      2513      2514      2515      2519      2521      2522  \\\n",
      "0       -0.000419 -0.004086 -0.001203  0.000478 -0.000344  0.000087  0.000401   \n",
      "\n",
      "book_id      2523      2524      2536      2539      2540      2544      2546  \\\n",
      "0       -0.000475  0.001422 -0.001831  0.000351  0.000387 -0.000088  0.000729   \n",
      "\n",
      "book_id      2547      2549      2550      2552      2553      2554     2555  \\\n",
      "0       -0.002362 -0.000077 -0.000177  0.000306 -0.001211 -0.005126  0.00118   \n",
      "\n",
      "book_id      2556    2557      2559      2561     2564      2568      2571  \\\n",
      "0       -0.000138 -0.0004  0.002489  0.007455 -0.00321  0.000308 -0.000284   \n",
      "\n",
      "book_id      2573      2574      2577      2578      2579      2584      2592  \\\n",
      "0        0.000053  0.000528 -0.000306  0.002406  0.000411  0.000454 -0.000117   \n",
      "\n",
      "book_id      2594      2595      2597      2600      2601      2603      2604  \\\n",
      "0       -0.000687  0.000264 -0.001044 -0.000472 -0.000328  0.001191 -0.003426   \n",
      "\n",
      "book_id      2605      2608      2610      2611      2612      2615      2616  \\\n",
      "0       -0.001098 -0.001664  0.002177 -0.000964  0.000243  0.001833 -0.000547   \n",
      "\n",
      "book_id      2618      2619      2620      2621      2623      2624      2625  \\\n",
      "0       -0.000021 -0.000427 -0.001364  0.001104 -0.001133 -0.006451 -0.000387   \n",
      "\n",
      "book_id     2632      2633      2637      2640      2642      2643      2644  \\\n",
      "0       -0.00071  0.000151 -0.000267 -0.001902 -0.000208  0.001246  0.002288   \n",
      "\n",
      "book_id      2645      2646      2648      2650      2651      2657      2658  \\\n",
      "0       -0.006151 -0.000488 -0.000501  0.000539  0.000227 -0.000959 -0.001332   \n",
      "\n",
      "book_id      2666      2668      2669      2671      2673      2674      2677  \\\n",
      "0       -0.000442 -0.000017 -0.001462  0.001809 -0.001887 -0.000474 -0.004295   \n",
      "\n",
      "book_id      2678      2679      2680          2684      2691      2693  \\\n",
      "0       -0.000354  0.006804 -0.000795  5.901361e-20 -0.000721 -0.000899   \n",
      "\n",
      "book_id      2695      2696      2698      2701      2703      2705     2709  \\\n",
      "0       -0.000034 -0.000046  0.001041 -0.003079  0.000018 -0.000401  0.00027   \n",
      "\n",
      "book_id      2710      2716      2718      2722      2724      2727      2729  \\\n",
      "0        0.002379 -0.000271 -0.004514 -0.000014  0.000033 -0.000292  0.003353   \n",
      "\n",
      "book_id     2730      2732      2735      2737      2738      2740      2741  \\\n",
      "0        0.00003 -0.000034 -0.000752 -0.000457  0.003664 -0.000569  0.001419   \n",
      "\n",
      "book_id      2745      2746      2747      2750      2751      2754      2755  \\\n",
      "0        0.000981 -0.000945  0.002228  0.000731 -0.000197  0.000403 -0.001363   \n",
      "\n",
      "book_id      2757      2760      2761      2763      2766      2770      2781  \\\n",
      "0        0.002092 -0.000481 -0.000306 -0.000325  0.000273  0.002688 -0.001674   \n",
      "\n",
      "book_id     2782      2783      2786     2787      2789      2794      2798  \\\n",
      "0       -0.00067 -0.002466 -0.000314  0.00213 -0.000243 -0.000497  0.000691   \n",
      "\n",
      "book_id      2806      2807      2808      2809      2810      2811      2812  \\\n",
      "0        0.000556 -0.000797 -0.000867  0.004145  0.000563 -0.000964  0.000257   \n",
      "\n",
      "book_id      2817      2820      2821      2822      2823      2825      2827  \\\n",
      "0       -0.005241  0.001034 -0.000063 -0.000036  0.000148 -0.001019 -0.000248   \n",
      "\n",
      "book_id      2830      2835      2844      2846      2852      2854      2857  \\\n",
      "0        0.000287  0.000082  0.001201 -0.000613 -0.000215 -0.000256  0.000411   \n",
      "\n",
      "book_id      2859      2860      2862      2863      2865      2869      2870  \\\n",
      "0       -0.001464 -0.000553 -0.003728  0.000021 -0.000198  0.001965  0.000026   \n",
      "\n",
      "book_id      2873      2874      2875     2878      2883     2887      2890  \\\n",
      "0       -0.000208 -0.000409  0.000503 -0.00013  0.000494 -0.00022  0.000312   \n",
      "\n",
      "book_id      2892      2897      2898      2901      2902      2903      2910  \\\n",
      "0       -0.000635  0.001339 -0.000454 -0.000008 -0.000248 -0.000822 -0.000003   \n",
      "\n",
      "book_id      2911      2914      2920      2921      2923      2926      2927  \\\n",
      "0       -0.000507  0.004181 -0.000003 -0.001003  0.000337  0.003649  0.000815   \n",
      "\n",
      "book_id     2931      2934      2936     2937     2938      2939      2940  \\\n",
      "0       -0.00141  0.000089 -0.003535 -0.00466 -0.00005  0.002079  0.000042   \n",
      "\n",
      "book_id     2942      2944      2947      2950      2952      2954      2957  \\\n",
      "0        0.00061 -0.004967 -0.000988  0.000818 -0.000114 -0.000143 -0.000108   \n",
      "\n",
      "book_id      2958      2959      2960      2963     2965      2967      2970  \\\n",
      "0        0.000174 -0.000944 -0.000263 -0.000061 -0.00092  0.002673 -0.000226   \n",
      "\n",
      "book_id      2975      2976      2977      2980      2982      2985      2988  \\\n",
      "0        0.000505  0.000639 -0.002188 -0.000005  0.000186  0.000428 -0.000069   \n",
      "\n",
      "book_id      2989      2991      2994      2995      3000     3002      3003  \\\n",
      "0        0.000012  0.001211  0.001561 -0.000933 -0.004908  0.00113  0.000402   \n",
      "\n",
      "book_id      3006      3007      3009      3011      3016      3018      3019  \\\n",
      "0       -0.000913  0.000074  0.000199  0.001742  0.001711  0.000202 -0.000996   \n",
      "\n",
      "book_id      3020      3021      3022      3024      3025      3027      3028  \\\n",
      "0        0.000608  0.002445  0.000647 -0.000021 -0.000319  0.001199 -0.000385   \n",
      "\n",
      "book_id      3029      3033      3034      3036      3042      3047      3048  \\\n",
      "0        0.000287 -0.000604  0.000546 -0.000122  0.000022 -0.000444  0.000704   \n",
      "\n",
      "book_id      3049      3055      3056      3058      3061      3063      3065  \\\n",
      "0        0.000029 -0.001615  0.000483 -0.000019 -0.000688 -0.001407 -0.002252   \n",
      "\n",
      "book_id     3066      3068      3070      3071      3072      3076      3078  \\\n",
      "0       -0.00066 -0.000787  0.000084 -0.000009 -0.004281 -0.000937 -0.000445   \n",
      "\n",
      "book_id      3079      3080      3082      3084      3085      3086      3090  \\\n",
      "0        0.000485 -0.000003 -0.002823 -0.000426  0.001269 -0.003812  0.000805   \n",
      "\n",
      "book_id      3091      3092      3096      3098      3100      3101      3106  \\\n",
      "0       -0.001334 -0.000488 -0.001045 -0.000062 -0.000046 -0.000405  0.000801   \n",
      "\n",
      "book_id      3108      3109     3111      3115      3119      3120      3122  \\\n",
      "0       -0.000355 -0.000134 -0.00148  0.000118 -0.001795 -0.001319  0.000976   \n",
      "\n",
      "book_id      3123      3124      3125      3126      3127    3128      3131  \\\n",
      "0        0.001078  0.000076 -0.000225 -0.000434 -0.000285 -0.0021 -0.000383   \n",
      "\n",
      "book_id      3133      3136      3137     3138      3139      3140      3141  \\\n",
      "0       -0.002456  0.000402 -0.000535 -0.00051  0.000932  0.000108  0.004065   \n",
      "\n",
      "book_id      3142      3149      3156     3158      3160      3163      3166  \\\n",
      "0       -0.000041  0.000196  0.003368 -0.00025 -0.000006  0.000058 -0.000102   \n",
      "\n",
      "book_id      3169      3171      3172      3174      3177      3182      3187  \\\n",
      "0        0.000077 -0.000104  0.001016 -0.000596 -0.001809 -0.001045  0.001226   \n",
      "\n",
      "book_id     3197      3198      3200      3202      3205      3206      3208  \\\n",
      "0       -0.00027  0.000474 -0.002652 -0.000673 -0.000366  0.000142 -0.000253   \n",
      "\n",
      "book_id      3210      3212      3213      3217      3219      3223      3224  \\\n",
      "0        0.000904  0.000143 -0.000242  0.000578  0.002904  0.000191  0.000015   \n",
      "\n",
      "book_id      3229      3234      3237      3240      3243      3244      3246  \\\n",
      "0        0.000242 -0.000408  0.002489  0.000135 -0.000128 -0.000492 -0.000861   \n",
      "\n",
      "book_id      3247      3250      3252      3254      3255      3256      3258  \\\n",
      "0       -0.002231 -0.000886  0.000087 -0.000625  0.000622 -0.000408 -0.000099   \n",
      "\n",
      "book_id      3262      3264      3273      3274      3277      3278     3280  \\\n",
      "0        0.000061  0.000255 -0.000121 -0.000543 -0.000137 -0.001505 -0.00142   \n",
      "\n",
      "book_id      3284      3286      3291      3293      3296      3298      3302  \\\n",
      "0        0.001309 -0.001549 -0.001394  0.002873  0.000535 -0.001505 -0.000187   \n",
      "\n",
      "book_id      3304      3306      3307      3308      3310      3311      3314  \\\n",
      "0        0.001011 -0.000392  0.000312  0.001639  0.000707  0.002006 -0.001682   \n",
      "\n",
      "book_id      3316      3320      3321     3322      3330      3331     3333  \\\n",
      "0        0.000444  0.000277  0.001032  0.00001 -0.000748  0.000626 -0.00145   \n",
      "\n",
      "book_id      3338      3340      3342      3346      3348      3349      3351  \\\n",
      "0        0.000593 -0.006005  0.001464 -0.000053  0.000039 -0.000379 -0.000122   \n",
      "\n",
      "book_id      3352      3357      3358      3359      3360      3362      3363  \\\n",
      "0        0.001751  0.000038 -0.000447 -0.004167 -0.000277 -0.001854 -0.000227   \n",
      "\n",
      "book_id      3364      3366      3367      3370      3374      3375      3377  \\\n",
      "0        0.002155 -0.000143 -0.000376 -0.000329 -0.000144 -0.000169  0.000064   \n",
      "\n",
      "book_id      3379      3381      3387      3388      3390     3392      3395  \\\n",
      "0        0.000323  0.000425  0.000559  0.001989 -0.000013 -0.00024 -0.004999   \n",
      "\n",
      "book_id      3396      3397      3398      3399     3400      3403      3404  \\\n",
      "0       -0.003844 -0.000039 -0.001241  0.000449  0.00017 -0.001005 -0.000549   \n",
      "\n",
      "book_id      3406      3407      3412     3414      3415      3417      3419  \\\n",
      "0        0.000264  0.000101  0.002855 -0.00004  0.000128  0.005504  0.001612   \n",
      "\n",
      "book_id      3425      3428      3439      3443      3451      3452      3455  \\\n",
      "0        0.002781  0.000551 -0.000066  0.000055  0.002016 -0.000187 -0.001716   \n",
      "\n",
      "book_id      3457      3459      3464      3465      3468      3469      3470  \\\n",
      "0       -0.000321  0.000512 -0.000172  0.000255  0.001675 -0.000088  0.000478   \n",
      "\n",
      "book_id      3472      3476      3477      3479      3480      3482      3488  \\\n",
      "0        0.001584  0.000735 -0.002283  0.000052 -0.000466  0.000041 -0.000176   \n",
      "\n",
      "book_id     3489      3492      3493      3497      3500      3501      3504  \\\n",
      "0       -0.00038 -0.000549 -0.000037 -0.000341 -0.001672  0.002115  0.005174   \n",
      "\n",
      "book_id      3505      3506      3508      3510      3511      3513      3518  \\\n",
      "0        0.000477  0.000059  0.000749 -0.000921  0.001485 -0.001841  0.000019   \n",
      "\n",
      "book_id      3519      3520      3521      3523      3524      3530      3533  \\\n",
      "0        0.001313 -0.000377  0.000137  0.000398 -0.002713 -0.001105  0.000489   \n",
      "\n",
      "book_id      3535      3536      3540      3541      3543      3546     3547  \\\n",
      "0       -0.000701  0.000185  0.001664 -0.000298 -0.000592  0.001291 -0.00237   \n",
      "\n",
      "book_id     3548      3551      3552      3556      3557      3560     3561  \\\n",
      "0       -0.00001  0.000506 -0.000081  0.000852  0.000223  0.002154  0.00178   \n",
      "\n",
      "book_id      3562      3565      3566      3567      3568      3569      3570  \\\n",
      "0       -0.000546 -0.000154  0.000232  0.001686 -0.000335 -0.000126  0.000137   \n",
      "\n",
      "book_id      3572      3573      3577      3578      3579      3580      3581  \\\n",
      "0        0.000053 -0.000861 -0.000424 -0.000545  0.001316 -0.000628  0.000353   \n",
      "\n",
      "book_id      3582      3583      3584      3585      3588      3590      3591  \\\n",
      "0        0.000273 -0.000243 -0.001201  0.000437  0.005194  0.002542 -0.000027   \n",
      "\n",
      "book_id      3595      3597      3598      3600      3601      3604      3605  \\\n",
      "0       -0.001416  0.001975  0.000312  0.002754 -0.000259  0.000588 -0.000232   \n",
      "\n",
      "book_id      3608      3610      3612      3613      3614      3620      3625  \\\n",
      "0       -0.001087  0.000844 -0.000225  0.001215 -0.000411  0.000056  0.000503   \n",
      "\n",
      "book_id      3628      3629      3631      3634      3635      3638      3640  \\\n",
      "0        0.000076 -0.000062 -0.000391  0.000377 -0.000494  0.003151  0.000183   \n",
      "\n",
      "book_id      3642      3643     3644      3646      3648      3650      3656  \\\n",
      "0        0.000133  0.002997 -0.00045  0.003177 -0.000128  0.000493  0.001005   \n",
      "\n",
      "book_id      3657      3658     3660      3663      3671      3672      3674  \\\n",
      "0       -0.000253 -0.000183 -0.00234 -0.000535 -0.000128 -0.000992  0.000413   \n",
      "\n",
      "book_id      3675      3676      3678      3680      3688      3692      3696  \\\n",
      "0       -0.000147  0.000466  0.000576 -0.000122 -0.000047  0.001531 -0.001197   \n",
      "\n",
      "book_id      3699     3700      3703      3705      3708      3710      3712  \\\n",
      "0        0.000432 -0.00016  0.002908 -0.001385  0.004051 -0.000006  0.000463   \n",
      "\n",
      "book_id      3713      3715      3717      3720      3721      3728      3735  \\\n",
      "0        0.000287 -0.000365 -0.000216 -0.001845 -0.000001  0.000004 -0.000322   \n",
      "\n",
      "book_id      3737      3739      3752      3753      3754      3755      3758  \\\n",
      "0        0.000229 -0.001654 -0.000216  0.001932 -0.004863  0.002658 -0.001028   \n",
      "\n",
      "book_id      3760      3761      3762      3763      3764      3767      3769  \\\n",
      "0        0.000018  0.000304 -0.000376  0.000064  0.001249  0.000552 -0.000342   \n",
      "\n",
      "book_id      3771      3779      3780      3785      3787      3791     3792  \\\n",
      "0       -0.001642  0.000028  0.000014  0.000424  0.000102  0.000598  0.00063   \n",
      "\n",
      "book_id      3794      3795      3797      3802      3804      3806      3808  \\\n",
      "0        0.001969 -0.003964 -0.002415  0.000278 -0.000791 -0.001115  0.000539   \n",
      "\n",
      "book_id      3811      3817      3818          3821     3826      3828  \\\n",
      "0        0.001204 -0.001996 -0.000618 -2.626530e-07 -0.00125  0.001103   \n",
      "\n",
      "book_id      3830      3831      3832      3833      3834      3835      3836  \\\n",
      "0        0.000213  0.000541 -0.000733  0.000224 -0.001234 -0.000159  0.000249   \n",
      "\n",
      "book_id      3837      3844      3851      3853      3856      3857     3858  \\\n",
      "0        0.003318  0.000026  0.000182 -0.000757  0.003386  0.000022 -0.00156   \n",
      "\n",
      "book_id      3868      3869      3870      3871      3872      3874      3876  \\\n",
      "0       -0.000377  0.000802 -0.000158  0.001403 -0.000144 -0.000608  0.000524   \n",
      "\n",
      "book_id      3883      3884      3886      3889      3894      3896      3899  \\\n",
      "0       -0.000228 -0.001746  0.000301  0.001382  0.000172  0.000375 -0.000427   \n",
      "\n",
      "book_id      3903      3904      3907      3911      3913      3916      3918  \\\n",
      "0        0.000114 -0.000573 -0.000957  0.000923  0.002878  0.000887 -0.000955   \n",
      "\n",
      "book_id      3919      3921      3923      3924      3925      3928     3929  \\\n",
      "0        0.000153 -0.001771 -0.001504 -0.001176  0.000301  0.000304 -0.00004   \n",
      "\n",
      "book_id      3930      3933      3934      3936      3938      3941      3942  \\\n",
      "0       -0.001284 -0.000008  0.000191  0.000756 -0.000296 -0.000312 -0.000025   \n",
      "\n",
      "book_id      3948      3949      3951      3954      3957     3960      3963  \\\n",
      "0       -0.000455 -0.002493 -0.000477  0.000284 -0.000447 -0.00072  0.002982   \n",
      "\n",
      "book_id      3964      3965      3966      3971      3973      3974      3978  \\\n",
      "0        0.000035 -0.000197  0.001677 -0.000942 -0.000044 -0.000397 -0.000978   \n",
      "\n",
      "book_id      3979      3982      3985      3986      3989      3991      3995  \\\n",
      "0       -0.000342 -0.001274  0.000401  0.000668 -0.000184  0.000429 -0.000941   \n",
      "\n",
      "book_id      3997      3998      4004      4005      4009      4014      4015  \\\n",
      "0        0.004456  0.001512  0.000551  0.000163  0.001116 -0.000462 -0.000098   \n",
      "\n",
      "book_id      4016      4018      4019      4025      4026      4027      4031  \\\n",
      "0       -0.000712 -0.000417 -0.000837 -0.000626 -0.000993  0.000264  0.000119   \n",
      "\n",
      "book_id     4035      4040      4042      4044      4047      4052      4054  \\\n",
      "0       -0.00024  0.000032  0.000463 -0.000189  0.000287 -0.000586  0.000853   \n",
      "\n",
      "book_id      4055     4057      4059      4062      4064      4065      4067  \\\n",
      "0        0.000155  0.00442 -0.000047 -0.000704  0.000387 -0.000226 -0.000181   \n",
      "\n",
      "book_id      4068      4069      4070      4071      4078      4079      4081  \\\n",
      "0       -0.000037  0.000218 -0.000297  0.000884 -0.000448  0.000087  0.002916   \n",
      "\n",
      "book_id      4083      4085     4089     4090      4091      4092      4095  \\\n",
      "0       -0.000071 -0.002509  0.00009  0.00001  0.000031  0.000157  0.000085   \n",
      "\n",
      "book_id      4096     4101     4103      4104      4106      4108      4110  \\\n",
      "0        0.003366 -0.00127  0.00081  0.000613  0.001772  0.000945  0.000205   \n",
      "\n",
      "book_id      4112     4114      4117      4118     4119     4120     4121  \\\n",
      "0       -0.000701 -0.00002 -0.000024 -0.002357 -0.00012  0.00118  0.00007   \n",
      "\n",
      "book_id     4124      4129      4130      4131      4138      4139      4149  \\\n",
      "0       -0.00167  0.000976  0.002912  0.000378 -0.003729  0.003682 -0.000534   \n",
      "\n",
      "book_id      4160      4166      4167    4171      4173      4175      4182  \\\n",
      "0        0.000265  0.000199  0.000122  0.0007 -0.000012 -0.000103 -0.002133   \n",
      "\n",
      "book_id      4188      4189      4190      4192      4194      4196      4197  \\\n",
      "0       -0.000049  0.000951 -0.001912 -0.001242 -0.000406 -0.001098  0.000729   \n",
      "\n",
      "book_id      4199      4205      4206      4215      4220      4222      4228  \\\n",
      "0       -0.000053  0.000153 -0.000183  0.000228  0.002936 -0.000258  0.000129   \n",
      "\n",
      "book_id      4231      4232      4236      4237      4238      4240      4244  \\\n",
      "0        0.000888  0.000948 -0.000346  0.002125 -0.000226  0.000422 -0.000242   \n",
      "\n",
      "book_id      4250      4251      4253      4257      4258      4260      4261  \\\n",
      "0        0.000891 -0.007303  0.000137 -0.001288 -0.000595  0.000281 -0.000354   \n",
      "\n",
      "book_id      4265      4266      4268      4270      4273      4275      4277  \\\n",
      "0       -0.000075 -0.000712  0.000067 -0.000052 -0.001185 -0.000592 -0.000306   \n",
      "\n",
      "book_id      4284      4286      4287     4288      4289      4291      4293  \\\n",
      "0       -0.001189 -0.000408  0.000017  0.00037 -0.000717 -0.000018 -0.000183   \n",
      "\n",
      "book_id      4296     4298    4301      4308      4309      4315      4316  \\\n",
      "0        0.000092  0.00211  0.0009  0.000015  0.001608  0.000323 -0.000248   \n",
      "\n",
      "book_id      4317      4319      4320      4325      4326      4327      4330  \\\n",
      "0        0.000216  0.000156  0.000042  0.000053  0.000023  0.000608 -0.000755   \n",
      "\n",
      "book_id     4331      4332      4336      4337      4342      4345      4348  \\\n",
      "0       -0.00028  0.000503 -0.000078  0.001807 -0.000784 -0.000102  0.000195   \n",
      "\n",
      "book_id      4353      4357      4359      4360      4363      4369      4371  \\\n",
      "0       -0.000162 -0.000036  0.001735  0.000173  0.001834 -0.000119 -0.000697   \n",
      "\n",
      "book_id      4383      4387      4388      4390      4391      4392      4394  \\\n",
      "0        0.000216 -0.000321  0.000032  0.001167  0.002326  0.001053  0.001257   \n",
      "\n",
      "book_id      4396      4400      4404      4411      4416      4418      4419  \\\n",
      "0       -0.000314  0.000822  0.000015  0.000151 -0.000127  0.001651 -0.000495   \n",
      "\n",
      "book_id      4421      4422      4427      4429      4431      4434      4435  \\\n",
      "0        0.000475 -0.000949  0.000112 -0.000331 -0.000155 -0.000113 -0.002437   \n",
      "\n",
      "book_id      4440      4441     4443      4444      4445      4447      4452  \\\n",
      "0       -0.002196 -0.000508 -0.00011 -0.000078 -0.001484 -0.000048 -0.000256   \n",
      "\n",
      "book_id      4455      4459      4460      4468      4471      4473      4475  \\\n",
      "0        0.000951 -0.001878 -0.000316  0.000936  0.000438  0.002736  0.000285   \n",
      "\n",
      "book_id      4476      4481      4483     4485      4487      4503      4504  \\\n",
      "0        0.000005 -0.000188 -0.000412  0.00033  0.000146 -0.000122  0.000456   \n",
      "\n",
      "book_id      4506     4508      4510      4512      4513      4514      4515  \\\n",
      "0        0.000337 -0.00005 -0.000769 -0.000847  0.000465 -0.000424 -0.000622   \n",
      "\n",
      "book_id      4517      4524      4525      4526      4527      4528      4530  \\\n",
      "0       -0.000003 -0.000862 -0.000182  0.000679  0.000304 -0.000043 -0.003576   \n",
      "\n",
      "book_id     4531      4534      4535      4537      4542     4544      4548  \\\n",
      "0        0.00217 -0.000645 -0.000357 -0.001306 -0.000748  0.00202 -0.000937   \n",
      "\n",
      "book_id      4551      4553      4555      4560      4561      4565     4567  \\\n",
      "0        0.000885 -0.001787  0.000002 -0.000437  0.000454 -0.000588  0.00018   \n",
      "\n",
      "book_id      4571      4574      4578      4579      4582      4584      4590  \\\n",
      "0       -0.000259  0.000172 -0.000278 -0.003386 -0.000386  0.001854 -0.000158   \n",
      "\n",
      "book_id      4592      4597      4598      4602     4605      4606      4608  \\\n",
      "0       -0.001805 -0.000066  0.000017  0.000666 -0.00048 -0.000093 -0.000938   \n",
      "\n",
      "book_id      4609      4612      4614      4616     4619      4622      4630  \\\n",
      "0        0.000448 -0.000061  0.001584 -0.000023  0.00006  0.001085 -0.000204   \n",
      "\n",
      "book_id      4632     4634      4638      4639      4640      4642     4645  \\\n",
      "0       -0.000186  0.00094  0.000497 -0.000026  0.000552 -0.001535 -0.00121   \n",
      "\n",
      "book_id     4646      4650      4653      4658      4660      4671      4672  \\\n",
      "0       -0.00032 -0.001033  0.000098 -0.000254  0.004174  0.001359  0.000141   \n",
      "\n",
      "book_id      4678      4680      4682      4683     4684      4686      4691  \\\n",
      "0       -0.000172 -0.000037  0.000103 -0.000855 -0.00095 -0.000997  0.000366   \n",
      "\n",
      "book_id      4695      4698     4699      4700      4711      4712      4713  \\\n",
      "0        0.000229  0.000171  0.00011 -0.002539 -0.000048 -0.000102 -0.001963   \n",
      "\n",
      "book_id      4716      4720      4722      4723      4726      4727      4728  \\\n",
      "0        0.000213  0.000463  0.000094  0.000817 -0.002265 -0.000763  0.000309   \n",
      "\n",
      "book_id      4729      4731      4733      4746      4753     4754     4755  \\\n",
      "0       -0.000292  0.000773  0.000091 -0.000149 -0.000651  0.00009  0.00195   \n",
      "\n",
      "book_id      4756      4758      4759      4763      4772      4777      4778  \\\n",
      "0       -0.000215  0.000298  0.000113  0.000326 -0.000021  0.000153  0.000093   \n",
      "\n",
      "book_id     4779      4788     4793      4795      4796     4799      4800  \\\n",
      "0       -0.00016  0.005795  0.00171 -0.000577  0.000236 -0.00085 -0.000139   \n",
      "\n",
      "book_id      4806      4810      4811      4813      4815      4820      4822  \\\n",
      "0       -0.000739  0.000255  0.000085  0.000417  0.000852  0.000268  0.000655   \n",
      "\n",
      "book_id      4835      4836      4842      4848      4850      4861     4862  \\\n",
      "0        0.000679  0.000051  0.001017  0.000306 -0.000062 -0.001165 -0.00016   \n",
      "\n",
      "book_id      4863      4865      4870      4871      4872     4874      4877  \\\n",
      "0        0.000015  0.001159 -0.000297  0.000107  0.001032  0.00009 -0.000121   \n",
      "\n",
      "book_id      4880     4888      4894      4898      4899      4901      4905  \\\n",
      "0       -0.000775 -0.00024  0.000159  0.001086  0.000719 -0.000141 -0.000121   \n",
      "\n",
      "book_id      4909      4915      4919      4924      4931      4933      4936  \\\n",
      "0       -0.000225 -0.000099  0.000054 -0.000219 -0.002762 -0.001099 -0.000104   \n",
      "\n",
      "book_id      4937      4938      4939      4941      4942      4944      4955  \\\n",
      "0       -0.000205  0.001641  0.000028 -0.000346  0.000518 -0.000053 -0.000035   \n",
      "\n",
      "book_id      4960      4965     4972      4973      4974      4976      4979  \\\n",
      "0        0.000773 -0.000781  0.00317 -0.000531  0.000677 -0.000971 -0.000634   \n",
      "\n",
      "book_id      4983      4985      4989      4993      4994      4996      4999  \\\n",
      "0        0.001732 -0.000865 -0.000308 -0.000863 -0.000096  0.000134 -0.000142   \n",
      "\n",
      "book_id      5007      5009     5010      5013      5014      5019      5024  \\\n",
      "0        0.000001  0.000064 -0.00221  0.000182  0.000371 -0.000233  0.002241   \n",
      "\n",
      "book_id      5027      5028      5029     5030      5035    5037      5044  \\\n",
      "0       -0.000697  0.000065 -0.000017 -0.00138  0.000079 -0.0001  0.000105   \n",
      "\n",
      "book_id      5045      5046      5047          5048      5049      5051  \\\n",
      "0        0.000342 -0.000777 -0.001249  9.835602e-20 -0.000936 -0.000498   \n",
      "\n",
      "book_id      5052      5055     5057      5061      5068      5072      5076  \\\n",
      "0       -0.000388 -0.001785  0.00002 -0.000182 -0.000265 -0.000223  0.000599   \n",
      "\n",
      "book_id     5077      5080      5081      5084      5088      5089      5092  \\\n",
      "0        0.00088 -0.000188  0.000305  0.000428 -0.000306 -0.000371 -0.000593   \n",
      "\n",
      "book_id      5095      5099      5100      5101      5109      5114      5116  \\\n",
      "0        0.000887 -0.001513 -0.000272  0.001315 -0.000878 -0.000857  0.000017   \n",
      "\n",
      "book_id      5120      5121      5122     5123      5128      5130      5134  \\\n",
      "0        0.000975 -0.000019  0.000557  0.00017  0.000098 -0.000164 -0.000063   \n",
      "\n",
      "book_id      5138     5141      5144      5145      5146      5147      5150  \\\n",
      "0        0.000046 -0.00088 -0.000345 -0.000028  0.001151 -0.000809  0.000716   \n",
      "\n",
      "book_id      5152      5155      5157      5158      5160      5162      5167  \\\n",
      "0        0.000101  0.000102  0.000269  0.000124 -0.002297  0.000148 -0.000023   \n",
      "\n",
      "book_id     5168      5173      5176      5180     5187      5192     5195  \\\n",
      "0       -0.00052  0.000073 -0.000225  0.000114  0.00015  0.000683 -0.00101   \n",
      "\n",
      "book_id      5198      5201      5203     5206      5207      5210    5211  \\\n",
      "0        0.000703 -0.001337 -0.001295  0.00061 -0.000493 -0.000511 -0.0002   \n",
      "\n",
      "book_id      5215      5216      5220      5228      5229     5232      5237  \\\n",
      "0        0.001717  0.001499  0.001681 -0.000011 -0.003852 -0.00048 -0.000408   \n",
      "\n",
      "book_id      5238      5239      5241      5243      5244      5252      5253  \\\n",
      "0        0.002254 -0.000447  0.000397 -0.000664  0.000928 -0.000004 -0.000053   \n",
      "\n",
      "book_id      5254      5257      5260      5263      5265      5269      5273  \\\n",
      "0        0.000377  0.000895 -0.000569 -0.000024 -0.000174  0.000238 -0.000231   \n",
      "\n",
      "book_id      5274      5277      5283      5287      5290      5293     5294  \\\n",
      "0       -0.001079  0.000197 -0.001062 -0.001253 -0.003261 -0.000224  0.00057   \n",
      "\n",
      "book_id      5295     5297      5303      5304      5306      5311      5315  \\\n",
      "0       -0.000491 -0.00049 -0.000001 -0.001982 -0.000644 -0.000073  0.000173   \n",
      "\n",
      "book_id      5316      5317      5318      5322     5325      5326      5327  \\\n",
      "0       -0.000141 -0.000021  0.000042 -0.000403 -0.00009  0.000055  0.001462   \n",
      "\n",
      "book_id      5329     5330      5332     5337      5341      5343      5346  \\\n",
      "0       -0.000242 -0.00035  0.000017 -0.00093 -0.001195 -0.002963  0.000664   \n",
      "\n",
      "book_id      5347      5349      5355      5357      5367      5369  \\\n",
      "0       -0.000187  0.001258  0.000567 -0.000139 -0.000148  0.000013   \n",
      "\n",
      "book_id          5372      5374      5378      5380      5381          5383  \\\n",
      "0        7.868482e-20  0.002621  0.000677 -0.000193 -0.001947  7.868482e-20   \n",
      "\n",
      "book_id      5385      5386      5388      5389      5392      5394      5395  \\\n",
      "0        0.006849 -0.000013 -0.002414 -0.000176  0.000471 -0.000566  0.000883   \n",
      "\n",
      "book_id      5397      5398      5399     5401      5402      5404      5411  \\\n",
      "0        0.000018 -0.000135  0.000616 -0.00003 -0.000025  0.000312  0.000172   \n",
      "\n",
      "book_id      5413      5417      5420    5421      5423      5425      5427  \\\n",
      "0        0.000315  0.000263 -0.001213  0.0008 -0.000414  0.000881  0.001023   \n",
      "\n",
      "book_id      5430     5431      5434     5437      5438      5439      5441  \\\n",
      "0        0.001343  0.00008  0.000126  0.00003  0.000026 -0.000783 -0.000248   \n",
      "\n",
      "book_id      5443     5445      5446      5448      5449      5456      5458  \\\n",
      "0       -0.001851 -0.00014 -0.001516  0.001684  0.000508  0.002493  0.000337   \n",
      "\n",
      "book_id    5460      5463      5464      5468      5469      5470      5478  \\\n",
      "0        0.0002 -0.001932  0.000053  0.000312 -0.000927 -0.001491  0.000064   \n",
      "\n",
      "book_id      5480      5482      5483      5491      5493      5495      5496  \\\n",
      "0       -0.000497  0.000008 -0.000513  0.000065  0.000016 -0.000277 -0.000616   \n",
      "\n",
      "book_id      5498      5500      5505      5507      5508      5509      5514  \\\n",
      "0       -0.001939  0.000246 -0.000118 -0.000138 -0.001475 -0.000189 -0.000256   \n",
      "\n",
      "book_id    5517      5522      5524      5525      5526      5527     5536  \\\n",
      "0        0.0002  0.000172  0.000893  0.000307 -0.001195  0.001331 -0.00035   \n",
      "\n",
      "book_id      5537      5540      5543      5545      5548      5550      5551  \\\n",
      "0       -0.000186 -0.002275  0.000478  0.000338  0.000158  0.000142 -0.000244   \n",
      "\n",
      "book_id      5552      5554      5556      5558      5560      5564      5567  \\\n",
      "0       -0.000122 -0.000409 -0.000313 -0.000478 -0.000535 -0.000697 -0.000502   \n",
      "\n",
      "book_id      5568      5570      5575      5580      5582      5583      5586  \\\n",
      "0       -0.000049  0.000159 -0.000461 -0.000003  0.000042  0.000092  0.000097   \n",
      "\n",
      "book_id      5588      5589      5591      5599      5604      5609      5615  \\\n",
      "0       -0.000222 -0.000371 -0.001109 -0.000139  0.001918 -0.000682 -0.000477   \n",
      "\n",
      "book_id      5617     5621      5626      5627      5629      5630      5632  \\\n",
      "0        0.000362 -0.00011  0.001147  0.000476  0.001712 -0.001652 -0.000402   \n",
      "\n",
      "book_id      5639      5643      5646      5648      5655      5657      5658  \\\n",
      "0       -0.000153 -0.000192 -0.000112  0.000195 -0.001773 -0.002111 -0.000146   \n",
      "\n",
      "book_id      5661      5665      5667      5668      5670      5672      5673  \\\n",
      "0       -0.001704 -0.000154  0.002364  0.000116  0.000197 -0.000875 -0.000456   \n",
      "\n",
      "book_id      5676      5678      5684      5691      5699      5700      5704  \\\n",
      "0       -0.000757 -0.000389 -0.000491  0.000056  0.000139  0.000652  0.000798   \n",
      "\n",
      "book_id     5705      5707      5714     5730      5734      5739      5740  \\\n",
      "0       -0.00025 -0.000644 -0.000651  0.00065  0.000767 -0.001618 -0.000085   \n",
      "\n",
      "book_id      5742      5743     5745      5747      5748      5751      5752  \\\n",
      "0       -0.000385 -0.000175 -0.00024 -0.001438  0.000042  0.000529 -0.000105   \n",
      "\n",
      "book_id      5754     5755      5758      5764      5773      5774      5775  \\\n",
      "0       -0.000477 -0.00014 -0.000023 -0.003016  0.000053  0.000517 -0.002454   \n",
      "\n",
      "book_id      5777      5781      5782      5785      5792      5794      5795  \\\n",
      "0        0.000165 -0.000019 -0.000692 -0.000139  0.002131  0.000626 -0.000189   \n",
      "\n",
      "book_id      5798      5799      5800      5801      5802      5804      5808  \\\n",
      "0        0.000247 -0.000023 -0.000459  0.000351  0.000223 -0.000227 -0.000433   \n",
      "\n",
      "book_id      5809      5812      5814      5826      5827      5830      5833  \\\n",
      "0        0.000119  0.000084 -0.000141 -0.000028 -0.000752 -0.001516 -0.000377   \n",
      "\n",
      "book_id      5840      5858      5860      5861      5863      5865      5867  \\\n",
      "0       -0.000952  0.000434  0.000189 -0.000502  0.001446  0.000053 -0.000419   \n",
      "\n",
      "book_id      5870      5877      5879      5885      5889      5890     5898  \\\n",
      "0       -0.000049 -0.000975 -0.000105  0.001196  0.000115  0.000179 -0.00011   \n",
      "\n",
      "book_id      5903      5905      5906      5907      5908      5909      5911  \\\n",
      "0       -0.003594 -0.000034  0.000567  0.000076  0.000301  0.000032 -0.000428   \n",
      "\n",
      "book_id      5915      5918     5923      5926      5928      5929      5930  \\\n",
      "0       -0.000026  0.000181 -0.00044  0.000099 -0.002077  0.000006  0.000342   \n",
      "\n",
      "book_id      5932      5934    5935      5936      5940      5945      5947  \\\n",
      "0        0.000991 -0.000222 -0.0004 -0.001177 -0.000082 -0.001418  0.000379   \n",
      "\n",
      "book_id      5948      5950      5953      5957      5961      5968      5969  \\\n",
      "0       -0.001309  0.001531  0.000317 -0.000139  0.000011 -0.000366  0.000051   \n",
      "\n",
      "book_id      5972      5973      5978     5982      5983      5992      5994  \\\n",
      "0       -0.000571  0.000199  0.000625 -0.00078  0.000345 -0.000241  0.000058   \n",
      "\n",
      "book_id      5995      5999      6002      6003      6005      6006      6011  \\\n",
      "0        0.000085 -0.000312 -0.001468 -0.000815 -0.001133 -0.000112 -0.000038   \n",
      "\n",
      "book_id     6013      6014      6018      6019      6021      6029      6030  \\\n",
      "0       -0.00045 -0.000396  0.000776 -0.000028 -0.000099  0.000077  0.000237   \n",
      "\n",
      "book_id      6042      6045      6048      6055     6057      6063      6064  \\\n",
      "0        0.000699 -0.000061 -0.000491 -0.001253 -0.00008 -0.000775  0.000356   \n",
      "\n",
      "book_id      6066      6067      6069      6070      6073      6078      6079  \\\n",
      "0       -0.000144 -0.000112  0.000126 -0.000157 -0.001604 -0.000026 -0.001791   \n",
      "\n",
      "book_id      6087      6089      6096      6097      6101      6104      6109  \\\n",
      "0        0.000113 -0.000183 -0.000104  0.000008 -0.000367  0.001029 -0.000789   \n",
      "\n",
      "book_id      6113      6119      6121      6122      6123      6125      6128  \\\n",
      "0       -0.000208  0.000978 -0.000158  0.000186 -0.000612  0.000676  0.001239   \n",
      "\n",
      "book_id      6132      6135      6138      6139      6144      6146      6148  \\\n",
      "0       -0.000147 -0.000768 -0.000069 -0.000357 -0.005778  0.000169  0.000009   \n",
      "\n",
      "book_id      6153      6154      6156      6157      6158      6160      6166  \\\n",
      "0       -0.000225  0.000012 -0.000297  0.000254  0.000584  0.000313 -0.000567   \n",
      "\n",
      "book_id      6169     6173     6174      6180      6181      6182      6183  \\\n",
      "0       -0.000184  0.00055 -0.00001  0.000727  0.001087 -0.000375  0.000061   \n",
      "\n",
      "book_id      6189      6192      6195      6200      6201      6204      6211  \\\n",
      "0        0.000052 -0.000003  0.000126 -0.000296 -0.000002  0.000162  0.000475   \n",
      "\n",
      "book_id      6212      6218      6219      6220      6223      6225      6229  \\\n",
      "0        0.000422 -0.000003 -0.000109  0.000938 -0.000479  0.000585  0.000148   \n",
      "\n",
      "book_id      6230      6233      6234      6235      6242      6249      6252  \\\n",
      "0       -0.000118  0.000061 -0.000007  0.000092  0.001203  0.000195 -0.001306   \n",
      "\n",
      "book_id      6261     6267      6272      6273      6274      6276      6283  \\\n",
      "0        0.000648 -0.00011  0.000135  0.000112  0.002389  0.000018  0.000167   \n",
      "\n",
      "book_id      6285     6291      6293      6296      6298      6299      6306  \\\n",
      "0        0.000102  0.00033 -0.000019 -0.000208  0.000566  0.002357  0.000028   \n",
      "\n",
      "book_id      6307      6313      6316      6318      6319      6320      6322  \\\n",
      "0        0.000392 -0.000028 -0.000061 -0.003494 -0.000592 -0.000027  0.002283   \n",
      "\n",
      "book_id      6323      6324      6326      6330     6333      6334      6335  \\\n",
      "0       -0.000032 -0.000288  0.000569 -0.000703 -0.00081  0.000651 -0.000251   \n",
      "\n",
      "book_id      6342      6348      6351      6361      6362      6364      6368  \\\n",
      "0        0.000107  0.000021  0.000644 -0.000467  0.000036  0.000926 -0.000102   \n",
      "\n",
      "book_id     6369      6374     6377      6378      6380      6382      6383  \\\n",
      "0       -0.00003 -0.000102 -0.00093  0.000059 -0.000694  0.000441  0.000119   \n",
      "\n",
      "book_id      6389     6390      6391      6393      6395      6397      6398  \\\n",
      "0        0.002557  0.00054 -0.000367  0.000083  0.000126 -0.000706 -0.000197   \n",
      "\n",
      "book_id      6399      6400      6410      6411      6417      6425      6427  \\\n",
      "0       -0.000041  0.000021 -0.000444 -0.000076 -0.001946  0.000321  0.000247   \n",
      "\n",
      "book_id     6438      6439      6440      6442      6444      6445      6447  \\\n",
      "0       -0.00001 -0.000044 -0.000696 -0.000519 -0.000174 -0.001757 -0.000241   \n",
      "\n",
      "book_id      6448     6453      6454     6456      6457      6467      6469  \\\n",
      "0        0.000042  0.00007  0.001895 -0.00001 -0.000419  0.000708 -0.000006   \n",
      "\n",
      "book_id      6472      6475     6481      6484     6487      6492      6496  \\\n",
      "0       -0.001295  0.000004  0.00015 -0.000437  0.00128 -0.000675 -0.000407   \n",
      "\n",
      "book_id      6498      6500      6501      6503      6509      6510      6512  \\\n",
      "0       -0.000192  0.001548  0.000011  0.000092 -0.001357 -0.000019 -0.000459   \n",
      "\n",
      "book_id      6516      6524     6526      6528      6530      6532      6533  \\\n",
      "0        0.000689 -0.000634  0.00002  0.000005  0.000045 -0.000024  0.000138   \n",
      "\n",
      "book_id      6535      6536     6547      6551      6552      6553      6554  \\\n",
      "0       -0.000175 -0.000186 -0.00042 -0.000344  0.000164  0.000176 -0.000403   \n",
      "\n",
      "book_id      6556      6559     6566      6568      6574      6575      6578  \\\n",
      "0        0.000006 -0.000783  0.00038  0.000254 -0.000147 -0.000081 -0.000246   \n",
      "\n",
      "book_id     6579      6581      6588      6589      6590      6591      6593  \\\n",
      "0        0.00038 -0.001288  0.000852 -0.001014 -0.000914  0.000337  0.000515   \n",
      "\n",
      "book_id      6594      6598      6600      6601      6604      6615      6620  \\\n",
      "0       -0.000052 -0.000169  0.001342 -0.000768 -0.000415  0.000176  0.000108   \n",
      "\n",
      "book_id      6627      6628      6629      6632      6633    6634      6644  \\\n",
      "0        0.000051 -0.000027  0.000061  0.000062  0.000132 -0.0002  0.002149   \n",
      "\n",
      "book_id      6648      6658      6664      6665     6675      6678      6684  \\\n",
      "0        0.000095 -0.000393  0.001555 -0.003748  0.00119 -0.000296  0.000426   \n",
      "\n",
      "book_id     6688      6690      6692      6695      6696      6701      6704  \\\n",
      "0        0.00101 -0.000697 -0.000403  0.000382  0.000347 -0.002305  0.000985   \n",
      "\n",
      "book_id      6712      6715      6716      6726      6727      6728      6729  \\\n",
      "0        0.000806  0.000091 -0.000221  0.004621 -0.000673 -0.001962 -0.000388   \n",
      "\n",
      "book_id      6732      6738      6742      6744      6745      6746      6752  \\\n",
      "0        0.000076 -0.000312  0.000658 -0.000867  0.000231 -0.000547 -0.000481   \n",
      "\n",
      "book_id      6755      6758      6761      6768      6770      6772      6777  \\\n",
      "0       -0.000521  0.000007 -0.000127  0.001231 -0.000537  0.000033  0.000887   \n",
      "\n",
      "book_id      6780      6787      6800      6802      6806      6807      6808  \\\n",
      "0        0.000061 -0.000196 -0.000565  0.000082  0.000083 -0.000703  0.001605   \n",
      "\n",
      "book_id      6813      6816      6820      6822      6823      6825      6829  \\\n",
      "0       -0.000287 -0.000959  0.000257  0.000089 -0.001013 -0.000736  0.001495   \n",
      "\n",
      "book_id      6833      6838     6840      6842      6844      6845      6857  \\\n",
      "0       -0.001722 -0.000384 -0.00012 -0.000715  0.000351 -0.001172 -0.000894   \n",
      "\n",
      "book_id    6863      6865      6867      6870      6873      6876      6880  \\\n",
      "0        0.0009 -0.000681 -0.000178  0.001862 -0.000048  0.000394  0.000405   \n",
      "\n",
      "book_id    6885      6887      6889      6891      6892      6895      6896  \\\n",
      "0        0.0004  0.000022  0.002908  0.000032  0.000997  0.002379 -0.002162   \n",
      "\n",
      "book_id      6909      6914      6916      6917     6920      6921      6928  \\\n",
      "0        0.000222 -0.000548  0.000057  0.000789 -0.00095  0.000443  0.000099   \n",
      "\n",
      "book_id      6932      6934      6935     6944      6954      6959      6973  \\\n",
      "0       -0.000125  0.001891 -0.000094  0.00001 -0.000131 -0.000029 -0.000521   \n",
      "\n",
      "book_id      6975      6980      6982     6994      6995      6996      6998  \\\n",
      "0        0.000165  0.001371 -0.001045  0.00009 -0.000004 -0.000489  0.000355   \n",
      "\n",
      "book_id      6999      7003      7006      7008      7011      7012      7014  \\\n",
      "0        0.000426 -0.001737 -0.000182  0.000848 -0.000513 -0.001007 -0.000105   \n",
      "\n",
      "book_id      7022      7025      7026      7030      7032      7037      7045  \\\n",
      "0        0.000209 -0.000091  0.000047 -0.000307  0.000817 -0.000825 -0.000142   \n",
      "\n",
      "book_id      7047      7052      7053      7059    7063      7068      7074  \\\n",
      "0       -0.000424  0.000168  0.000008  0.000043 -0.0002 -0.000136  0.001554   \n",
      "\n",
      "book_id      7080      7081      7082      7089      7090      7092      7103  \\\n",
      "0       -0.000701 -0.000371 -0.000312  0.000017  0.000628  0.000061 -0.001033   \n",
      "\n",
      "book_id      7104      7106      7117      7123      7124      7126      7127  \\\n",
      "0       -0.000178  0.000193 -0.000192 -0.000592 -0.000571 -0.000015 -0.000404   \n",
      "\n",
      "book_id      7135      7137      7138      7142      7143      7145      7149  \\\n",
      "0        0.000105  0.000191  0.001275 -0.001394 -0.000783  0.000158  0.000035   \n",
      "\n",
      "book_id      7151      7155      7158      7162      7169      7170      7173  \\\n",
      "0        0.000395  0.001346 -0.000014 -0.000697  0.000404 -0.001384  0.000193   \n",
      "\n",
      "book_id     7180      7186    7187      7198     7204      7205      7208  \\\n",
      "0        0.00042 -0.000206 -0.0011 -0.000032  0.00018  0.000523  0.000449   \n",
      "\n",
      "book_id     7214      7217      7226      7227      7231      7232      7233  \\\n",
      "0       -0.00063 -0.000174 -0.000274  0.000813 -0.000985  0.000207  0.000082   \n",
      "\n",
      "book_id      7238      7239    7241      7242      7246      7251      7254  \\\n",
      "0       -0.000484  0.001087 -0.0002  0.000232  0.000098  0.000277 -0.001125   \n",
      "\n",
      "book_id      7260     7262      7263      7266      7274      7277     7282  \\\n",
      "0       -0.002634  0.00115 -0.001089 -0.000408 -0.000768  0.001104 -0.00069   \n",
      "\n",
      "book_id      7292      7296     7297      7298      7302      7309      7311  \\\n",
      "0        0.000242 -0.000352  0.00016 -0.001014  0.000253  0.001051  0.000574   \n",
      "\n",
      "book_id      7316      7325      7327      7333      7336      7338      7345  \\\n",
      "0       -0.000135 -0.002214 -0.000049  0.000023 -0.000187  0.000508 -0.000382   \n",
      "\n",
      "book_id      7347      7348      7351      7353      7357      7370      7372  \\\n",
      "0       -0.000323 -0.000023 -0.000565  0.000486 -0.000475  0.000366  0.000275   \n",
      "\n",
      "book_id      7377      7379      7384      7387      7392      7393      7395  \\\n",
      "0       -0.001193  0.000622  0.000527  0.000206  0.000197 -0.000125  0.000822   \n",
      "\n",
      "book_id      7396      7398      7399      7407      7409      7410    7416  \\\n",
      "0        0.000419 -0.000056  0.000839  0.000541  0.001316  0.000024  0.0001   \n",
      "\n",
      "book_id      7418      7426      7427      7429      7430      7436      7444  \\\n",
      "0        0.000223  0.000004 -0.000365 -0.000137 -0.000499 -0.000216  0.000341   \n",
      "\n",
      "book_id    7453      7454      7458      7462      7463      7465      7468  \\\n",
      "0        0.0004  0.000628  0.000055 -0.000186  0.000136  0.000012 -0.000636   \n",
      "\n",
      "book_id      7469      7476      7479      7481      7484      7485      7490  \\\n",
      "0       -0.000745 -0.001375 -0.000487  0.000831  0.000196 -0.000005 -0.002149   \n",
      "\n",
      "book_id      7491      7495      7496      7498      7501      7506      7509  \\\n",
      "0       -0.000113  0.000706  0.000194  0.000017  0.000053 -0.001267 -0.000565   \n",
      "\n",
      "book_id      7513      7516     7517      7519      7521      7522      7538  \\\n",
      "0       -0.002414  0.000098 -0.00062 -0.001074 -0.000064 -0.000184 -0.000364   \n",
      "\n",
      "book_id      7540     7541      7543      7546      7547      7549      7551  \\\n",
      "0        0.000453 -0.00042 -0.000067 -0.000257  0.000038 -0.000225 -0.000039   \n",
      "\n",
      "book_id      7558      7563      7575      7579      7592     7594      7596  \\\n",
      "0       -0.000084  0.000279  0.000086  0.000763  0.000484 -0.00062 -0.000141   \n",
      "\n",
      "book_id      7603      7606      7614      7615      7616      7619     7622  \\\n",
      "0       -0.000586 -0.000012 -0.000338  0.000164 -0.000192  0.000217 -0.00015   \n",
      "\n",
      "book_id      7631      7635      7638      7639      7646      7647      7651  \\\n",
      "0       -0.000311 -0.000153 -0.000422  0.000152  0.000095  0.000389  0.001761   \n",
      "\n",
      "book_id      7652      7654      7660      7662      7664      7667      7668  \\\n",
      "0        0.000441 -0.000026 -0.000076 -0.001566  0.000528  0.000008  0.000215   \n",
      "\n",
      "book_id      7669      7681      7683      7684      7686      7690      7696  \\\n",
      "0       -0.000301  0.000033  0.000619  0.000296 -0.000063 -0.000301  0.000913   \n",
      "\n",
      "book_id      7704      7706      7715      7716     7721      7748      7749  \\\n",
      "0       -0.000127  0.000129  0.000078  0.000391 -0.00056  0.000578  0.000005   \n",
      "\n",
      "book_id      7755      7759      7763      7769      7771      7783      7784  \\\n",
      "0        0.000683 -0.000037  0.000335  0.000158  0.001876 -0.000072 -0.000423   \n",
      "\n",
      "book_id      7785      7787      7788      7789      7794      7795     7796  \\\n",
      "0       -0.000289 -0.000181 -0.000073  0.000028  0.000303  0.000344  0.00046   \n",
      "\n",
      "book_id      7797      7806      7807      7810      7812      7817     7820  \\\n",
      "0        0.000117  0.000252 -0.000116  0.002556 -0.001036 -0.000193  0.00001   \n",
      "\n",
      "book_id      7822      7826      7830      7832      7836      7838      7840  \\\n",
      "0       -0.000697  0.000493 -0.000745 -0.000513  0.000053  0.000078 -0.000452   \n",
      "\n",
      "book_id      7841     7842      7848     7852      7856      7859      7868  \\\n",
      "0        0.000414  0.00039  0.000188 -0.00024  0.001401 -0.000356  0.001911   \n",
      "\n",
      "book_id      7872      7874      7886      7887      7895      7904      7906  \\\n",
      "0        0.000176  0.001061 -0.000014 -0.001286 -0.000273 -0.001545 -0.000487   \n",
      "\n",
      "book_id      7907      7910     7916      7923      7927      7934      7942  \\\n",
      "0       -0.000359  0.000065  0.00026  0.000848 -0.000006 -0.000545 -0.000091   \n",
      "\n",
      "book_id      7946      7949      7952      7955      7960      7961      7963  \\\n",
      "0        0.000271 -0.000256  0.000409  0.000013 -0.000198 -0.000376  0.000314   \n",
      "\n",
      "book_id      7965      7968      7969      7970      7982      7990      7991  \\\n",
      "0        0.000319 -0.000323  0.000215  0.000413  0.000011 -0.000775  0.000668   \n",
      "\n",
      "book_id      7994      7997      8010    8011      8015      8018      8023  \\\n",
      "0        0.000015  0.000244 -0.000371 -0.0005  0.000501  0.000205  0.000241   \n",
      "\n",
      "book_id      8025      8026     8030      8032    8033      8035     8038  \\\n",
      "0        0.000004 -0.001759  0.00019  0.000231 -0.0005 -0.000977 -0.00073   \n",
      "\n",
      "book_id      8039      8045      8047      8049      8053      8055      8062  \\\n",
      "0       -0.000265  0.002153 -0.000143 -0.004081 -0.000417  0.000008 -0.000186   \n",
      "\n",
      "book_id      8068     8071      8074      8075      8079      8080      8084  \\\n",
      "0       -0.000732 -0.00001 -0.000176  0.000128  0.000852  0.001343  0.001239   \n",
      "\n",
      "book_id      8087      8093      8099      8103     8107      8111      8114  \\\n",
      "0        0.000165 -0.000211 -0.000141  0.000182  0.00062  0.000372  0.000235   \n",
      "\n",
      "book_id      8117      8120      8127      8128      8131      8132      8133  \\\n",
      "0       -0.001075  0.000128  0.001742 -0.000174 -0.000745 -0.000935 -0.000181   \n",
      "\n",
      "book_id      8141      8143      8149      8150      8152      8153      8154  \\\n",
      "0        0.000304 -0.000019 -0.000067  0.000008 -0.000378 -0.000371  0.000228   \n",
      "\n",
      "book_id      8156      8160     8161     8162      8163      8165      8168  \\\n",
      "0       -0.000059  0.000191 -0.00012 -0.00062  0.000669 -0.000064 -0.000207   \n",
      "\n",
      "book_id      8175      8185      8186      8189      8192      8194      8195  \\\n",
      "0       -0.000043 -0.000039  0.000913 -0.000544 -0.000045 -0.000139  0.002007   \n",
      "\n",
      "book_id      8207    8209      8210      8212      8214      8215      8216  \\\n",
      "0       -0.000221  0.0002 -0.000151  0.000593 -0.001072  0.000011  0.000415   \n",
      "\n",
      "book_id      8218      8221      8222      8225      8229      8232     8233  \\\n",
      "0        0.000822  0.000176 -0.000173 -0.000051 -0.000513  0.000777 -0.00016   \n",
      "\n",
      "book_id      8239      8249      8264      8269     8275      8276      8281  \\\n",
      "0        0.000706  0.000151 -0.000745 -0.000742 -0.00104  0.001472  0.000028   \n",
      "\n",
      "book_id     8285     8289      8290      8295      8302      8305      8309  \\\n",
      "0       -0.00003 -0.00012 -0.000113  0.001055 -0.000338 -0.000192 -0.000094   \n",
      "\n",
      "book_id      8312      8316      8317      8329      8332      8334      8336  \\\n",
      "0        0.000046 -0.000506 -0.000403  0.001717 -0.000102 -0.000484  0.000382   \n",
      "\n",
      "book_id     8349      8355      8356      8361      8366      8367     8375  \\\n",
      "0        0.00089  0.000542 -0.000006  0.000321  0.000465  0.001734 -0.00041   \n",
      "\n",
      "book_id      8386      8388      8390      8396      8398      8399      8401  \\\n",
      "0       -0.000121 -0.000768 -0.000016 -0.000348 -0.000077  0.000408 -0.000365   \n",
      "\n",
      "book_id      8403      8404      8411      8412      8413      8416      8423  \\\n",
      "0        0.000102  0.000298 -0.000032  0.000503 -0.000885  0.000243  0.000153   \n",
      "\n",
      "book_id     8431      8432      8433     8439      8440      8445     8446  \\\n",
      "0       -0.00001 -0.001033  0.000026  0.00023  0.000137 -0.000365 -0.00139   \n",
      "\n",
      "book_id      8448      8452      8455      8456      8457      8460      8464  \\\n",
      "0       -0.001082 -0.000955 -0.000014  0.001087  0.000588 -0.000158  0.000088   \n",
      "\n",
      "book_id      8465     8469      8470      8471      8484      8491      8503  \\\n",
      "0       -0.000676  0.00011  0.000409  0.000173 -0.000263 -0.000911 -0.000055   \n",
      "\n",
      "book_id      8508      8512      8514      8516      8519      8523      8529  \\\n",
      "0       -0.000064 -0.000211  0.000033  0.000161  0.000414  0.000309 -0.000013   \n",
      "\n",
      "book_id      8531     8532      8537      8538      8539      8541      8543  \\\n",
      "0       -0.000403  0.00085  0.000755  0.000197 -0.001179  0.000632  0.000024   \n",
      "\n",
      "book_id      8545      8552      8555      8556      8558      8559      8564  \\\n",
      "0       -0.000008  0.000056 -0.001332  0.000689 -0.000269  0.000012  0.000107   \n",
      "\n",
      "book_id      8565      8567      8570      8578      8585      8588  \\\n",
      "0        0.000001 -0.000116  0.000155  0.000323  0.000352  0.000293   \n",
      "\n",
      "book_id          8589      8591      8598      8609      8611      8617  \\\n",
      "0        5.957475e-07 -0.000525  0.000189  0.000075 -0.000023 -0.000293   \n",
      "\n",
      "book_id      8623      8625      8626      8631      8633      8640      8647  \\\n",
      "0       -0.000775  0.001066 -0.000071 -0.000357 -0.000459 -0.000189 -0.000342   \n",
      "\n",
      "book_id      8651      8656      8662      8666      8675      8677      8680  \\\n",
      "0       -0.002213  0.000341  0.000089  0.000004 -0.000317  0.000327  0.000073   \n",
      "\n",
      "book_id      8681      8687      8688      8692      8696      8697      8703  \\\n",
      "0        0.001245 -0.000152  0.000309  0.001751  0.000814  0.000608  0.001655   \n",
      "\n",
      "book_id      8704     8707     8716      8728      8729      8731      8735  \\\n",
      "0       -0.000227 -0.00015 -0.00025  0.000054 -0.001721  0.001417  0.000423   \n",
      "\n",
      "book_id      8737      8740      8742      8745      8750     8752      8760  \\\n",
      "0        0.000573 -0.000241 -0.000039 -0.000023 -0.000702 -0.00231  0.000999   \n",
      "\n",
      "book_id      8763      8766     8767      8779     8781      8782      8783  \\\n",
      "0       -0.000011 -0.003704  0.00001  0.000695 -0.00024  0.000473 -0.000159   \n",
      "\n",
      "book_id      8787      8788      8790      8791      8792      8795      8801  \\\n",
      "0       -0.000048 -0.000222 -0.000751  0.000017  0.000222 -0.000166  0.000832   \n",
      "\n",
      "book_id      8802      8805      8811      8814      8815      8817      8818  \\\n",
      "0        0.000153 -0.000784  0.000084  0.000356  0.000192 -0.000109  0.000965   \n",
      "\n",
      "book_id      8819      8823      8824      8830      8831      8832      8837  \\\n",
      "0        0.000506 -0.000493 -0.000746  0.000033  0.000253 -0.001649 -0.000456   \n",
      "\n",
      "book_id      8840      8847     8848      8849      8853      8854      8856  \\\n",
      "0       -0.000168  0.000476  0.00002 -0.000245 -0.000934  0.000107  0.000151   \n",
      "\n",
      "book_id      8857      8859      8860      8864      8867      8868      8870  \\\n",
      "0       -0.000899 -0.001297  0.000197 -0.000114 -0.000463 -0.000407 -0.001071   \n",
      "\n",
      "book_id      8878      8879      8880      8882      8891     8893     8896  \\\n",
      "0       -0.000012  0.000329 -0.000423  0.000939 -0.000074 -0.00184  0.00005   \n",
      "\n",
      "book_id      8898      8899      8902      8903      8906      8907      8915  \\\n",
      "0       -0.000244 -0.000173  0.000016 -0.000513 -0.000401  0.000116 -0.000105   \n",
      "\n",
      "book_id      8920      8923      8924      8928      8930      8931      8937  \\\n",
      "0       -0.000002  0.000091 -0.000466  0.000114 -0.000212  0.000323 -0.000032   \n",
      "\n",
      "book_id      8944      8946      8949      8951      8956      8972      8973  \\\n",
      "0       -0.001875  0.000577  0.000533  0.000623 -0.000012  0.000249  0.001143   \n",
      "\n",
      "book_id      8975      8976      8978      8979      8987      8996      8998  \\\n",
      "0        0.000597 -0.000322 -0.000101 -0.000062 -0.000928  0.000389  0.001328   \n",
      "\n",
      "book_id      9000      9006      9008      9017      9019      9021      9022  \\\n",
      "0        0.000169 -0.000219  0.000513 -0.000059 -0.001711  0.000695  0.000509   \n",
      "\n",
      "book_id      9024      9025      9026      9032      9033      9036     9045  \\\n",
      "0        0.000072  0.001203 -0.000389 -0.000193 -0.000014  0.000742  0.00072   \n",
      "\n",
      "book_id      9048      9049      9063      9070      9078     9081      9083  \\\n",
      "0       -0.001103  0.000657  0.000005  0.000053  0.001716  0.00048 -0.000011   \n",
      "\n",
      "book_id      9088      9092      9100      9102      9103      9111      9113  \\\n",
      "0       -0.000193 -0.000174  0.000039  0.001901 -0.001536  0.001159  0.000229   \n",
      "\n",
      "book_id      9114      9116      9117      9119     9123     9127      9129  \\\n",
      "0       -0.000675  0.000405  0.000276  0.000085  0.00011 -0.00036 -0.000014   \n",
      "\n",
      "book_id      9132      9144      9158      9170      9171      9172      9175  \\\n",
      "0       -0.000004 -0.000173  0.000188  0.000272 -0.000098  0.000039 -0.000337   \n",
      "\n",
      "book_id      9178      9180      9188      9191      9197      9198      9199  \\\n",
      "0        0.001184 -0.000063  0.000525  0.001529  0.000017 -0.000994  0.000069   \n",
      "\n",
      "book_id      9204      9213      9214      9215      9216      9217      9222  \\\n",
      "0        0.001015 -0.000101 -0.000054  0.000758 -0.000054 -0.000227  0.000818   \n",
      "\n",
      "book_id    9230      9232      9236      9237      9239     9240      9243  \\\n",
      "0       -0.0001  0.000336 -0.000045  0.000099 -0.000371  0.00056  0.000382   \n",
      "\n",
      "book_id      9247      9251      9253      9255      9267      9272      9277  \\\n",
      "0       -0.000048  0.000049  0.000096 -0.000371 -0.000086 -0.000013 -0.001306   \n",
      "\n",
      "book_id      9280      9287      9290      9291      9295      9296      9300  \\\n",
      "0       -0.000549 -0.001397 -0.000031  0.000025  0.000269 -0.000002 -0.000167   \n",
      "\n",
      "book_id      9303      9304      9308      9311      9316      9317      9357  \\\n",
      "0        0.000152 -0.000279 -0.000542 -0.000016 -0.000084  0.000445  0.000277   \n",
      "\n",
      "book_id      9359      9361      9363      9371      9378      9386      9388  \\\n",
      "0        0.000633  0.000122 -0.000388 -0.000048  0.000176  0.000155 -0.000181   \n",
      "\n",
      "book_id      9391      9395      9397      9404      9405      9408      9409  \\\n",
      "0        0.000243 -0.000018 -0.000706 -0.000001  0.000127 -0.002178  0.000155   \n",
      "\n",
      "book_id      9424      9429      9430      9432      9439      9440      9442  \\\n",
      "0       -0.001593 -0.001393 -0.000142 -0.000192  0.000297 -0.000215 -0.000251   \n",
      "\n",
      "book_id      9447      9452      9454      9460      9461      9468      9469  \\\n",
      "0       -0.000194 -0.000017 -0.000697  0.000177 -0.000034 -0.001262  0.000343   \n",
      "\n",
      "book_id     9471      9473      9478     9480      9481      9493      9497  \\\n",
      "0        0.00037 -0.000006 -0.000376 -0.00023 -0.000702  0.000107  0.000148   \n",
      "\n",
      "book_id      9499      9503      9513      9516     9519      9525      9533  \\\n",
      "0       -0.000488 -0.000089 -0.000213  0.000272  0.00017 -0.001286  0.001291   \n",
      "\n",
      "book_id      9540      9542      9554      9563      9566      9575    9576  \\\n",
      "0       -0.000752  0.000576  0.000332  0.000452 -0.000464 -0.000338 -0.0003   \n",
      "\n",
      "book_id      9579     9587      9588      9606      9609      9617      9620  \\\n",
      "0        0.000844  0.00018 -0.000098  0.000424 -0.001607  0.000071  0.001522   \n",
      "\n",
      "book_id      9622      9624      9625      9626      9628      9629      9630  \\\n",
      "0       -0.000251  0.000067  0.000911 -0.000594  0.000095 -0.000113  0.000261   \n",
      "\n",
      "book_id      9631      9632      9636      9639     9642      9645      9647  \\\n",
      "0       -0.000177  0.000155  0.000658 -0.000061  0.00028  0.000657  0.001048   \n",
      "\n",
      "book_id     9648      9655      9657     9663      9664      9667      9670  \\\n",
      "0        0.00028 -0.000884 -0.000181  0.00018 -0.001329 -0.000099  0.000759   \n",
      "\n",
      "book_id      9686      9689      9691      9699      9707      9714      9717  \\\n",
      "0       -0.000057  0.000091  0.001023 -0.001647  0.000081  0.000189  0.000037   \n",
      "\n",
      "book_id      9721      9722      9731     9732      9743      9748     9749  \\\n",
      "0        0.000082  0.000479 -0.001233 -0.00062  0.000781 -0.001775 -0.00093   \n",
      "\n",
      "book_id      9754      9759      9761      9766      9768      9772     9779  \\\n",
      "0        0.000487  0.000201 -0.000322  0.000203  0.000028  0.000821 -0.00003   \n",
      "\n",
      "book_id      9784      9789      9790      9793      9794      9801      9803  \\\n",
      "0       -0.000136 -0.000745  0.000821  0.000223  0.001431  0.000121  0.000756   \n",
      "\n",
      "book_id      9813      9819      9824      9830      9834      9839      9841  \\\n",
      "0        0.000207 -0.000059 -0.000084  0.000089  0.000475 -0.000007  0.000135   \n",
      "\n",
      "book_id      9854      9857      9858      9860      9864      9866      9871  \\\n",
      "0        0.000984  0.000301  0.000197  0.000101  0.000528  0.000228  0.000002   \n",
      "\n",
      "book_id      9874      9881      9890      9905      9911      9919      9921  \\\n",
      "0        0.000405 -0.000023 -0.000292 -0.000183 -0.000039  0.000133  0.000647   \n",
      "\n",
      "book_id      9922     9927      9928      9935      9936      9940      9946  \\\n",
      "0       -0.001215 -0.00049  0.000238 -0.000697 -0.000069 -0.000283  0.001116   \n",
      "\n",
      "book_id      9948      9960      9962      9963      9966      9972      9974  \\\n",
      "0        0.000098  0.000177 -0.000278 -0.000093  0.001509  0.000897  0.000042   \n",
      "\n",
      "book_id      9978      9981      9985      9988      9990      9991      9995  \n",
      "0       -0.000582  0.000632  0.000019 -0.000746  0.000456  0.001204 -0.000152  \n"
     ]
    }
   ],
   "source": [
    "\n",
    "with pd.option_context('display.max_rows', None, 'display.max_columns', None):  # more options can be specified also\n",
    "    print(svd_predictions_score_df1[svd_predictions_score_df1.index == 0])"
   ]
  },
  {
   "cell_type": "code",
   "execution_count": 57,
   "metadata": {
    "ExecuteTime": {
     "end_time": "2020-08-31T14:11:50.950257Z",
     "start_time": "2020-08-31T14:10:23.046559Z"
    }
   },
   "outputs": [
    {
     "ename": "KeyError",
     "evalue": "5194",
     "output_type": "error",
     "traceback": [
      "\u001b[1;31m---------------------------------------------------------------------------\u001b[0m",
      "\u001b[1;31mKeyError\u001b[0m                                  Traceback (most recent call last)",
      "\u001b[1;32m~\\Anaconda3\\lib\\site-packages\\pandas\\core\\indexes\\base.py\u001b[0m in \u001b[0;36mget_loc\u001b[1;34m(self, key, method, tolerance)\u001b[0m\n\u001b[0;32m   2645\u001b[0m             \u001b[1;32mtry\u001b[0m\u001b[1;33m:\u001b[0m\u001b[1;33m\u001b[0m\u001b[1;33m\u001b[0m\u001b[0m\n\u001b[1;32m-> 2646\u001b[1;33m                 \u001b[1;32mreturn\u001b[0m \u001b[0mself\u001b[0m\u001b[1;33m.\u001b[0m\u001b[0m_engine\u001b[0m\u001b[1;33m.\u001b[0m\u001b[0mget_loc\u001b[0m\u001b[1;33m(\u001b[0m\u001b[0mkey\u001b[0m\u001b[1;33m)\u001b[0m\u001b[1;33m\u001b[0m\u001b[1;33m\u001b[0m\u001b[0m\n\u001b[0m\u001b[0;32m   2647\u001b[0m             \u001b[1;32mexcept\u001b[0m \u001b[0mKeyError\u001b[0m\u001b[1;33m:\u001b[0m\u001b[1;33m\u001b[0m\u001b[1;33m\u001b[0m\u001b[0m\n",
      "\u001b[1;32mpandas\\_libs\\index.pyx\u001b[0m in \u001b[0;36mpandas._libs.index.IndexEngine.get_loc\u001b[1;34m()\u001b[0m\n",
      "\u001b[1;32mpandas\\_libs\\index.pyx\u001b[0m in \u001b[0;36mpandas._libs.index.IndexEngine.get_loc\u001b[1;34m()\u001b[0m\n",
      "\u001b[1;32mpandas\\_libs\\hashtable_class_helper.pxi\u001b[0m in \u001b[0;36mpandas._libs.hashtable.Int64HashTable.get_item\u001b[1;34m()\u001b[0m\n",
      "\u001b[1;32mpandas\\_libs\\hashtable_class_helper.pxi\u001b[0m in \u001b[0;36mpandas._libs.hashtable.Int64HashTable.get_item\u001b[1;34m()\u001b[0m\n",
      "\u001b[1;31mKeyError\u001b[0m: 5194",
      "\nDuring handling of the above exception, another exception occurred:\n",
      "\u001b[1;31mKeyError\u001b[0m                                  Traceback (most recent call last)",
      "\u001b[1;32m<ipython-input-57-a3c6a1a15ecd>\u001b[0m in \u001b[0;36m<module>\u001b[1;34m\u001b[0m\n\u001b[0;32m      4\u001b[0m \u001b[1;32mfor\u001b[0m \u001b[0mi\u001b[0m \u001b[1;32min\u001b[0m \u001b[0mrange\u001b[0m\u001b[1;33m(\u001b[0m\u001b[0mlen\u001b[0m\u001b[1;33m(\u001b[0m\u001b[0mnum_users\u001b[0m\u001b[1;33m)\u001b[0m\u001b[1;33m)\u001b[0m\u001b[1;33m:\u001b[0m\u001b[1;33m\u001b[0m\u001b[1;33m\u001b[0m\u001b[0m\n\u001b[0;32m      5\u001b[0m     \u001b[1;32mfor\u001b[0m \u001b[0mj\u001b[0m \u001b[1;32min\u001b[0m \u001b[0mrange\u001b[0m\u001b[1;33m(\u001b[0m\u001b[0mlen\u001b[0m\u001b[1;33m(\u001b[0m\u001b[0mtarget_movies\u001b[0m\u001b[1;33m[\u001b[0m\u001b[0mi\u001b[0m\u001b[1;33m]\u001b[0m\u001b[1;33m)\u001b[0m\u001b[1;33m)\u001b[0m\u001b[1;33m:\u001b[0m\u001b[1;33m\u001b[0m\u001b[1;33m\u001b[0m\u001b[0m\n\u001b[1;32m----> 6\u001b[1;33m         \u001b[0mfeature3_user\u001b[0m\u001b[1;33m.\u001b[0m\u001b[0mappend\u001b[0m\u001b[1;33m(\u001b[0m\u001b[0mfloat\u001b[0m\u001b[1;33m(\u001b[0m\u001b[0msvd_predictions_score_df1\u001b[0m\u001b[1;33m[\u001b[0m\u001b[0msvd_predictions_score_df1\u001b[0m\u001b[1;33m.\u001b[0m\u001b[0mindex\u001b[0m \u001b[1;33m==\u001b[0m \u001b[0mi\u001b[0m\u001b[1;33m]\u001b[0m\u001b[1;33m[\u001b[0m\u001b[0mtarget_movies\u001b[0m\u001b[1;33m[\u001b[0m\u001b[0mi\u001b[0m\u001b[1;33m]\u001b[0m\u001b[1;33m[\u001b[0m\u001b[0mj\u001b[0m\u001b[1;33m]\u001b[0m\u001b[1;33m]\u001b[0m\u001b[1;33m.\u001b[0m\u001b[0mvalues\u001b[0m\u001b[1;33m)\u001b[0m\u001b[1;33m)\u001b[0m\u001b[1;33m\u001b[0m\u001b[1;33m\u001b[0m\u001b[0m\n\u001b[0m\u001b[0;32m      7\u001b[0m     \u001b[0mfeature3\u001b[0m\u001b[1;33m.\u001b[0m\u001b[0mappend\u001b[0m\u001b[1;33m(\u001b[0m\u001b[0mfeature3_user\u001b[0m\u001b[1;33m)\u001b[0m\u001b[1;33m\u001b[0m\u001b[1;33m\u001b[0m\u001b[0m\n\u001b[0;32m      8\u001b[0m     \u001b[0mfeature3_user\u001b[0m \u001b[1;33m=\u001b[0m \u001b[1;33m[\u001b[0m\u001b[1;33m]\u001b[0m\u001b[1;33m\u001b[0m\u001b[1;33m\u001b[0m\u001b[0m\n",
      "\u001b[1;32m~\\Anaconda3\\lib\\site-packages\\pandas\\core\\frame.py\u001b[0m in \u001b[0;36m__getitem__\u001b[1;34m(self, key)\u001b[0m\n\u001b[0;32m   2798\u001b[0m             \u001b[1;32mif\u001b[0m \u001b[0mself\u001b[0m\u001b[1;33m.\u001b[0m\u001b[0mcolumns\u001b[0m\u001b[1;33m.\u001b[0m\u001b[0mnlevels\u001b[0m \u001b[1;33m>\u001b[0m \u001b[1;36m1\u001b[0m\u001b[1;33m:\u001b[0m\u001b[1;33m\u001b[0m\u001b[1;33m\u001b[0m\u001b[0m\n\u001b[0;32m   2799\u001b[0m                 \u001b[1;32mreturn\u001b[0m \u001b[0mself\u001b[0m\u001b[1;33m.\u001b[0m\u001b[0m_getitem_multilevel\u001b[0m\u001b[1;33m(\u001b[0m\u001b[0mkey\u001b[0m\u001b[1;33m)\u001b[0m\u001b[1;33m\u001b[0m\u001b[1;33m\u001b[0m\u001b[0m\n\u001b[1;32m-> 2800\u001b[1;33m             \u001b[0mindexer\u001b[0m \u001b[1;33m=\u001b[0m \u001b[0mself\u001b[0m\u001b[1;33m.\u001b[0m\u001b[0mcolumns\u001b[0m\u001b[1;33m.\u001b[0m\u001b[0mget_loc\u001b[0m\u001b[1;33m(\u001b[0m\u001b[0mkey\u001b[0m\u001b[1;33m)\u001b[0m\u001b[1;33m\u001b[0m\u001b[1;33m\u001b[0m\u001b[0m\n\u001b[0m\u001b[0;32m   2801\u001b[0m             \u001b[1;32mif\u001b[0m \u001b[0mis_integer\u001b[0m\u001b[1;33m(\u001b[0m\u001b[0mindexer\u001b[0m\u001b[1;33m)\u001b[0m\u001b[1;33m:\u001b[0m\u001b[1;33m\u001b[0m\u001b[1;33m\u001b[0m\u001b[0m\n\u001b[0;32m   2802\u001b[0m                 \u001b[0mindexer\u001b[0m \u001b[1;33m=\u001b[0m \u001b[1;33m[\u001b[0m\u001b[0mindexer\u001b[0m\u001b[1;33m]\u001b[0m\u001b[1;33m\u001b[0m\u001b[1;33m\u001b[0m\u001b[0m\n",
      "\u001b[1;32m~\\Anaconda3\\lib\\site-packages\\pandas\\core\\indexes\\base.py\u001b[0m in \u001b[0;36mget_loc\u001b[1;34m(self, key, method, tolerance)\u001b[0m\n\u001b[0;32m   2646\u001b[0m                 \u001b[1;32mreturn\u001b[0m \u001b[0mself\u001b[0m\u001b[1;33m.\u001b[0m\u001b[0m_engine\u001b[0m\u001b[1;33m.\u001b[0m\u001b[0mget_loc\u001b[0m\u001b[1;33m(\u001b[0m\u001b[0mkey\u001b[0m\u001b[1;33m)\u001b[0m\u001b[1;33m\u001b[0m\u001b[1;33m\u001b[0m\u001b[0m\n\u001b[0;32m   2647\u001b[0m             \u001b[1;32mexcept\u001b[0m \u001b[0mKeyError\u001b[0m\u001b[1;33m:\u001b[0m\u001b[1;33m\u001b[0m\u001b[1;33m\u001b[0m\u001b[0m\n\u001b[1;32m-> 2648\u001b[1;33m                 \u001b[1;32mreturn\u001b[0m \u001b[0mself\u001b[0m\u001b[1;33m.\u001b[0m\u001b[0m_engine\u001b[0m\u001b[1;33m.\u001b[0m\u001b[0mget_loc\u001b[0m\u001b[1;33m(\u001b[0m\u001b[0mself\u001b[0m\u001b[1;33m.\u001b[0m\u001b[0m_maybe_cast_indexer\u001b[0m\u001b[1;33m(\u001b[0m\u001b[0mkey\u001b[0m\u001b[1;33m)\u001b[0m\u001b[1;33m)\u001b[0m\u001b[1;33m\u001b[0m\u001b[1;33m\u001b[0m\u001b[0m\n\u001b[0m\u001b[0;32m   2649\u001b[0m         \u001b[0mindexer\u001b[0m \u001b[1;33m=\u001b[0m \u001b[0mself\u001b[0m\u001b[1;33m.\u001b[0m\u001b[0mget_indexer\u001b[0m\u001b[1;33m(\u001b[0m\u001b[1;33m[\u001b[0m\u001b[0mkey\u001b[0m\u001b[1;33m]\u001b[0m\u001b[1;33m,\u001b[0m \u001b[0mmethod\u001b[0m\u001b[1;33m=\u001b[0m\u001b[0mmethod\u001b[0m\u001b[1;33m,\u001b[0m \u001b[0mtolerance\u001b[0m\u001b[1;33m=\u001b[0m\u001b[0mtolerance\u001b[0m\u001b[1;33m)\u001b[0m\u001b[1;33m\u001b[0m\u001b[1;33m\u001b[0m\u001b[0m\n\u001b[0;32m   2650\u001b[0m         \u001b[1;32mif\u001b[0m \u001b[0mindexer\u001b[0m\u001b[1;33m.\u001b[0m\u001b[0mndim\u001b[0m \u001b[1;33m>\u001b[0m \u001b[1;36m1\u001b[0m \u001b[1;32mor\u001b[0m \u001b[0mindexer\u001b[0m\u001b[1;33m.\u001b[0m\u001b[0msize\u001b[0m \u001b[1;33m>\u001b[0m \u001b[1;36m1\u001b[0m\u001b[1;33m:\u001b[0m\u001b[1;33m\u001b[0m\u001b[1;33m\u001b[0m\u001b[0m\n",
      "\u001b[1;32mpandas\\_libs\\index.pyx\u001b[0m in \u001b[0;36mpandas._libs.index.IndexEngine.get_loc\u001b[1;34m()\u001b[0m\n",
      "\u001b[1;32mpandas\\_libs\\index.pyx\u001b[0m in \u001b[0;36mpandas._libs.index.IndexEngine.get_loc\u001b[1;34m()\u001b[0m\n",
      "\u001b[1;32mpandas\\_libs\\hashtable_class_helper.pxi\u001b[0m in \u001b[0;36mpandas._libs.hashtable.Int64HashTable.get_item\u001b[1;34m()\u001b[0m\n",
      "\u001b[1;32mpandas\\_libs\\hashtable_class_helper.pxi\u001b[0m in \u001b[0;36mpandas._libs.hashtable.Int64HashTable.get_item\u001b[1;34m()\u001b[0m\n",
      "\u001b[1;31mKeyError\u001b[0m: 5194"
     ]
    }
   ],
   "source": [
    "feature3 = []\n",
    "feature3_user = []\n",
    "count = 0\n",
    "for i in range(len(num_users)):\n",
    "    for j in range(len(target_movies[i])):\n",
    "        feature3_user.append(float(svd_predictions_score_df1[svd_predictions_score_df1.index == i][target_movies[i][j]].values))\n",
    "    feature3.append(feature3_user)\n",
    "    feature3_user = []"
   ]
  },
  {
   "cell_type": "code",
   "execution_count": null,
   "metadata": {
    "ExecuteTime": {
     "end_time": "2020-08-31T14:11:50.955186Z",
     "start_time": "2020-08-31T14:00:59.738Z"
    }
   },
   "outputs": [],
   "source": [
    "type(feature3)"
   ]
  },
  {
   "cell_type": "markdown",
   "metadata": {},
   "source": [
    "## Feature 4 (Genre)"
   ]
  },
  {
   "cell_type": "code",
   "execution_count": null,
   "metadata": {
    "ExecuteTime": {
     "end_time": "2020-08-31T14:11:50.956183Z",
     "start_time": "2020-08-31T14:00:59.747Z"
    }
   },
   "outputs": [],
   "source": [
    "def create_genre_feature(genre):\n",
    "    feature = []\n",
    "    genre_per_user = []\n",
    "    for i in range(len(num_users)):\n",
    "        for j in range(len(target_movies[i])):\n",
    "            a =  movies_df[movies_df['movieId'] == target_movies[i][j]]['genres']\n",
    "            a = a.tolist()\n",
    "            a = str(a[0])\n",
    "            a = a.split('|')\n",
    "            if genre in a:\n",
    "                genre_per_user.append(1)\n",
    "            else:\n",
    "                genre_per_user.append(0)\n",
    "        feature.append(genre_per_user)\n",
    "        genre_per_user = []\n",
    "    return feature"
   ]
  },
  {
   "cell_type": "code",
   "execution_count": null,
   "metadata": {
    "ExecuteTime": {
     "end_time": "2020-08-31T14:11:50.958380Z",
     "start_time": "2020-08-31T14:00:59.753Z"
    }
   },
   "outputs": [],
   "source": [
    "feature4 = create_genre_feature('Comedy')"
   ]
  },
  {
   "cell_type": "markdown",
   "metadata": {},
   "source": [
    "### Features 8-15 (genres)"
   ]
  },
  {
   "cell_type": "code",
   "execution_count": null,
   "metadata": {
    "ExecuteTime": {
     "end_time": "2020-08-31T14:11:50.959377Z",
     "start_time": "2020-08-31T14:00:59.763Z"
    }
   },
   "outputs": [],
   "source": [
    "feature8 = create_genre_feature('Adventure')\n",
    "feature9 = create_genre_feature('Drama')\n",
    "feature10 = create_genre_feature('Romance')\n",
    "feature11 = create_genre_feature('Fantasy')\n",
    "feature12 = create_genre_feature('Thriller')\n",
    "feature13 = create_genre_feature('Animation')\n",
    "feature14 = create_genre_feature('Children')\n",
    "feature15 = create_genre_feature('Horror')"
   ]
  },
  {
   "cell_type": "markdown",
   "metadata": {},
   "source": [
    "## Feature 5 (#Users watched each target movie)"
   ]
  },
  {
   "cell_type": "code",
   "execution_count": 87,
   "metadata": {
    "ExecuteTime": {
     "end_time": "2020-08-31T19:51:30.732708Z",
     "start_time": "2020-08-31T19:47:36.116166Z"
    }
   },
   "outputs": [],
   "source": [
    "number_views = []\n",
    "number_view_per_movie = []\n",
    "for i in range(len(num_users)):\n",
    "    for j in range(len(target_movies[i])):\n",
    "        a = len(ratings_df[ratings_df['book_id'] == target_movies[i][j]]['user_id'])\n",
    "        number_view_per_movie.append(a)\n",
    "    number_views.append(number_view_per_movie)\n",
    "    number_view_per_movie = []\n"
   ]
  },
  {
   "cell_type": "code",
   "execution_count": 88,
   "metadata": {
    "ExecuteTime": {
     "end_time": "2020-08-31T19:51:30.747823Z",
     "start_time": "2020-08-31T19:51:30.738677Z"
    }
   },
   "outputs": [],
   "source": [
    "feature5 = number_views"
   ]
  },
  {
   "cell_type": "code",
   "execution_count": 89,
   "metadata": {
    "ExecuteTime": {
     "end_time": "2020-08-31T19:51:30.856631Z",
     "start_time": "2020-08-31T19:51:30.756300Z"
    }
   },
   "outputs": [
    {
     "data": {
      "text/plain": [
       "(1157, 150)"
      ]
     },
     "execution_count": 89,
     "metadata": {},
     "output_type": "execute_result"
    }
   ],
   "source": [
    "np.array(feature5).shape"
   ]
  },
  {
   "cell_type": "markdown",
   "metadata": {},
   "source": [
    "## Feature 6 (New user)"
   ]
  },
  {
   "cell_type": "code",
   "execution_count": null,
   "metadata": {
    "ExecuteTime": {
     "end_time": "2020-08-31T14:11:50.965361Z",
     "start_time": "2020-08-31T14:00:59.790Z"
    }
   },
   "outputs": [],
   "source": [
    "len(ratings_df[ratings_df['user_id']==1]) > 10"
   ]
  },
  {
   "cell_type": "code",
   "execution_count": null,
   "metadata": {
    "ExecuteTime": {
     "end_time": "2020-08-31T14:11:50.967387Z",
     "start_time": "2020-08-31T14:00:59.797Z"
    }
   },
   "outputs": [],
   "source": [
    "new_users_binary = []\n",
    "binary_per_user = []\n",
    "for i in range(len(num_users)):\n",
    "    for j in range(len(target_movies[i])):\n",
    "        a = len(ratings_df[ratings_df['user_id']==1]) > 10\n",
    "        if a:\n",
    "            binary_per_user.append(1)\n",
    "        else:\n",
    "            binary_per_user.append(0)\n",
    "    new_users_binary.append(binary_per_user)\n",
    "    binary_per_user = []"
   ]
  },
  {
   "cell_type": "code",
   "execution_count": null,
   "metadata": {
    "ExecuteTime": {
     "end_time": "2020-08-31T14:11:50.969352Z",
     "start_time": "2020-08-31T14:00:59.803Z"
    }
   },
   "outputs": [],
   "source": [
    "#rankings of old/new users"
   ]
  },
  {
   "cell_type": "code",
   "execution_count": null,
   "metadata": {
    "ExecuteTime": {
     "end_time": "2020-08-31T14:11:50.970348Z",
     "start_time": "2020-08-31T14:00:59.810Z"
    }
   },
   "outputs": [],
   "source": [
    "feature6 = new_users_binary"
   ]
  },
  {
   "cell_type": "code",
   "execution_count": null,
   "metadata": {
    "ExecuteTime": {
     "end_time": "2020-08-31T14:11:50.972343Z",
     "start_time": "2020-08-31T14:00:59.817Z"
    }
   },
   "outputs": [],
   "source": [
    "np.array(feature6).shape"
   ]
  },
  {
   "cell_type": "markdown",
   "metadata": {},
   "source": [
    "## Feature 7(Embeddings) x32"
   ]
  },
  {
   "cell_type": "code",
   "execution_count": null,
   "metadata": {
    "ExecuteTime": {
     "end_time": "2020-08-31T14:11:50.973108Z",
     "start_time": "2020-08-31T14:00:59.824Z"
    }
   },
   "outputs": [],
   "source": [
    "emb = f1_model._net.item_embeddings"
   ]
  },
  {
   "cell_type": "code",
   "execution_count": null,
   "metadata": {
    "ExecuteTime": {
     "end_time": "2020-08-31T14:11:50.974108Z",
     "start_time": "2020-08-31T14:00:59.830Z"
    }
   },
   "outputs": [],
   "source": [
    "emb_features = []\n",
    "helper = []\n",
    "for i in range(32):\n",
    "    for j in range(len(num_items)):\n",
    "        helper.append(emb.weight[j][i].item())\n",
    "    emb_features.append(helper)\n",
    "    helper = []"
   ]
  },
  {
   "cell_type": "code",
   "execution_count": null,
   "metadata": {
    "ExecuteTime": {
     "end_time": "2020-08-31T14:11:50.976132Z",
     "start_time": "2020-08-31T14:00:59.837Z"
    }
   },
   "outputs": [],
   "source": [
    "a = []\n",
    "b = []\n",
    "feature7 = []\n",
    "for i in range(32):\n",
    "    for user in range(len(num_users)):\n",
    "        for movie in map_target_movies[user]:\n",
    "            a.append(emb_features[0][movie])\n",
    "        b.append(a)\n",
    "        a = []\n",
    "    feature7.append(b)\n",
    "    b = []"
   ]
  },
  {
   "cell_type": "code",
   "execution_count": null,
   "metadata": {
    "ExecuteTime": {
     "end_time": "2020-08-31T14:11:50.977098Z",
     "start_time": "2020-08-31T14:00:59.843Z"
    }
   },
   "outputs": [],
   "source": [
    "np.array(feature7).shape"
   ]
  },
  {
   "cell_type": "code",
   "execution_count": null,
   "metadata": {
    "ExecuteTime": {
     "end_time": "2020-08-31T14:11:50.979092Z",
     "start_time": "2020-08-31T14:00:59.849Z"
    }
   },
   "outputs": [],
   "source": [
    "np.array(feature7[0]).shape"
   ]
  },
  {
   "cell_type": "markdown",
   "metadata": {},
   "source": [
    "## Features stack"
   ]
  },
  {
   "cell_type": "code",
   "execution_count": null,
   "metadata": {
    "ExecuteTime": {
     "end_time": "2020-08-31T14:11:50.980037Z",
     "start_time": "2020-08-31T14:00:59.857Z"
    }
   },
   "outputs": [],
   "source": [
    "'''features = np.stack((feature1,feature2,feature3,feature4,feature5,feature6,\n",
    "                     feature7[0], feature7[1],feature7[2], feature7[3],\n",
    "                     feature7[4], feature7[5],feature7[6], feature7[7],\n",
    "                     feature7[8], feature7[9],feature7[10], feature7[11],\n",
    "                     feature7[12], feature7[13],feature7[14], feature7[15],\n",
    "                     feature7[16], feature7[17],feature7[18], feature7[19],\n",
    "                     feature7[20], feature7[21],feature7[22], feature7[23],\n",
    "                     feature7[24], feature7[25],feature7[26], feature7[27],\n",
    "                     feature7[28], feature7[29],feature7[30], feature7[31],\n",
    "                     feature8,feature9,feature10,feature11,feature12,\n",
    "                    feature13,feature14,feature15))'''\n",
    "features = np.stack((feature1,feature2,feature5,feature6,\n",
    "                     feature7[0], feature7[1],feature7[2], feature7[3],\n",
    "                     feature7[4], feature7[5],feature7[6], feature7[7],\n",
    "                     feature7[8], feature7[9],feature7[10], feature7[11],\n",
    "                     feature7[12], feature7[13],feature7[14], feature7[15],\n",
    "                     feature7[16], feature7[17],feature7[18], feature7[19],\n",
    "                     feature7[20], feature7[21],feature7[22], feature7[23],\n",
    "                     feature7[24], feature7[25],feature7[26], feature7[27],\n",
    "                     feature7[28], feature7[29],feature7[30], feature7[31]))"
   ]
  },
  {
   "cell_type": "code",
   "execution_count": 90,
   "metadata": {
    "ExecuteTime": {
     "end_time": "2020-08-31T19:51:30.916450Z",
     "start_time": "2020-08-31T19:51:30.862970Z"
    }
   },
   "outputs": [],
   "source": [
    "features = np.stack((feature1, feature2,feature5))"
   ]
  },
  {
   "cell_type": "code",
   "execution_count": 91,
   "metadata": {
    "ExecuteTime": {
     "end_time": "2020-08-31T19:51:30.935805Z",
     "start_time": "2020-08-31T19:51:30.923242Z"
    }
   },
   "outputs": [
    {
     "data": {
      "text/plain": [
       "3"
      ]
     },
     "execution_count": 91,
     "metadata": {},
     "output_type": "execute_result"
    }
   ],
   "source": [
    "len(features)"
   ]
  },
  {
   "cell_type": "markdown",
   "metadata": {},
   "source": [
    "## Labels"
   ]
  },
  {
   "cell_type": "markdown",
   "metadata": {},
   "source": [
    "Below are the movies that each user watched"
   ]
  },
  {
   "cell_type": "code",
   "execution_count": 70,
   "metadata": {
    "ExecuteTime": {
     "end_time": "2020-08-31T19:44:36.021177Z",
     "start_time": "2020-08-31T19:44:36.006886Z"
    }
   },
   "outputs": [],
   "source": [
    "def watched_movies(df):\n",
    "    watched = []\n",
    "    #for i in range(len(num_users)):\n",
    "    for u in uid_rev_map:\n",
    "        watched.append(df[df[\"user_id\"]==uid_rev_map.get(u)].groupby(\"book_id\")[\"book_id\"].count().index.tolist())  \n",
    "    return watched "
   ]
  },
  {
   "cell_type": "code",
   "execution_count": 71,
   "metadata": {
    "ExecuteTime": {
     "end_time": "2020-08-31T19:44:47.299051Z",
     "start_time": "2020-08-31T19:44:37.511190Z"
    }
   },
   "outputs": [],
   "source": [
    "#train_labels_df\n",
    "#test_df\n",
    "#val_df\n",
    "train_watched = watched_movies(train_labels_df)\n",
    "test_watched = watched_movies(test_df)\n",
    "val_watched = watched_movies(val_df)"
   ]
  },
  {
   "cell_type": "markdown",
   "metadata": {},
   "source": [
    "Creation of the target list. It containes 0s and 1s for the 100 recommended movies for each user. Based on the watched movies it assigns the values. If the user watched the recommended movie, then the value of the target is equal to 1, otherwise it is 0."
   ]
  },
  {
   "cell_type": "code",
   "execution_count": 77,
   "metadata": {
    "ExecuteTime": {
     "end_time": "2020-08-31T19:46:00.180346Z",
     "start_time": "2020-08-31T19:46:00.165109Z"
    }
   },
   "outputs": [],
   "source": [
    "def create_target(watched):\n",
    "    user_target = []\n",
    "    target = []\n",
    "    for i in range(len(num_users)):\n",
    "        for target_movie in target_movies[i]:\n",
    "            if target_movie in watched[i]:\n",
    "                user_target.append(1)\n",
    "            else:\n",
    "                user_target.append(0)\n",
    "        target.append(user_target)\n",
    "        user_target = []\n",
    "    return target"
   ]
  },
  {
   "cell_type": "code",
   "execution_count": 78,
   "metadata": {
    "ExecuteTime": {
     "end_time": "2020-08-31T19:46:02.861323Z",
     "start_time": "2020-08-31T19:46:00.368532Z"
    }
   },
   "outputs": [],
   "source": [
    "label_train = create_target(train_watched)\n",
    "label_test = create_target(test_watched)\n",
    "label_val = create_target(val_watched)\n",
    "#y_train = y_test = y_val"
   ]
  },
  {
   "cell_type": "markdown",
   "metadata": {},
   "source": [
    "## LightGBM model"
   ]
  },
  {
   "cell_type": "code",
   "execution_count": 92,
   "metadata": {
    "ExecuteTime": {
     "end_time": "2020-08-31T19:51:30.959839Z",
     "start_time": "2020-08-31T19:51:30.940429Z"
    }
   },
   "outputs": [],
   "source": [
    "k = len(target_movies[0])\n",
    "\n",
    "X = np.array(features)\n",
    "#X = X.reshape(len(num_users)*k,len(features))\n",
    "X = X.reshape(len(features), len(num_users)*k)\n",
    "X = np.transpose(X)\n",
    "label_train = np.array(label_train)\n",
    "label_test = np.array(label_test)\n",
    "label_val = np.array(label_val)"
   ]
  },
  {
   "cell_type": "code",
   "execution_count": 93,
   "metadata": {
    "ExecuteTime": {
     "end_time": "2020-08-31T19:51:30.969726Z",
     "start_time": "2020-08-31T19:51:30.963209Z"
    }
   },
   "outputs": [],
   "source": [
    "y_train = label_train.reshape(len(num_users)*k,)\n",
    "y_test = label_test.reshape(len(num_users)*k,)\n",
    "y_val = label_val.reshape(len(num_users)*k,)"
   ]
  },
  {
   "cell_type": "code",
   "execution_count": 94,
   "metadata": {
    "ExecuteTime": {
     "end_time": "2020-08-31T19:51:30.990852Z",
     "start_time": "2020-08-31T19:51:30.976298Z"
    }
   },
   "outputs": [
    {
     "data": {
      "text/plain": [
       "LGBMRanker(metric='ndcg', min_data_in_leaf=1, min_sum_hessian_in_leaf=100,\n",
       "           ndcg_eval_at=[1, 5, 10, 20], num_leaves=255, num_threads=2,\n",
       "           objective='lambdarank', task='train')"
      ]
     },
     "execution_count": 94,
     "metadata": {},
     "output_type": "execute_result"
    }
   ],
   "source": [
    "import lightgbm as lgb\n",
    "param = {\n",
    "    \"task\": \"train\",\n",
    "    \"num_leaves\": 255,\n",
    "    \"min_data_in_leaf\": 1,\n",
    "    \"min_sum_hessian_in_leaf\": 100,\n",
    "    \"objective\": \"lambdarank\",\n",
    "    \"metric\": \"ndcg\",\n",
    "    \"ndcg_eval_at\": [1, 5, 10, 20],\n",
    "    \"learning_rate\": .1,\n",
    "    \"num_threads\": 2\n",
    "}\n",
    "gbm = lgb.LGBMRanker()\n",
    "gbm.set_params(**param)"
   ]
  },
  {
   "cell_type": "markdown",
   "metadata": {},
   "source": [
    "target movies\n",
    "train_df\n",
    "feature1\n",
    "feature2"
   ]
  },
  {
   "cell_type": "markdown",
   "metadata": {},
   "source": [
    "X_train\n",
    "X_test\n",
    "X_val\n",
    "y_train\n",
    "y_test\n",
    "y_val"
   ]
  },
  {
   "cell_type": "code",
   "execution_count": 95,
   "metadata": {
    "ExecuteTime": {
     "end_time": "2020-08-31T19:51:30.999830Z",
     "start_time": "2020-08-31T19:51:30.995838Z"
    }
   },
   "outputs": [],
   "source": [
    "X_train = X\n",
    "X_test = X\n",
    "X_val = X"
   ]
  },
  {
   "cell_type": "code",
   "execution_count": 96,
   "metadata": {
    "ExecuteTime": {
     "end_time": "2020-08-31T19:51:31.007642Z",
     "start_time": "2020-08-31T19:51:31.003245Z"
    }
   },
   "outputs": [],
   "source": [
    "#from sklearn.model_selection import train_test_split\n",
    "#X_train, X_test, y_train, y_test = train_test_split(X, y, test_size=0.2, random_state=1)\n",
    "#X_train, X_val, y_train, y_val = train_test_split(X_train, y_train, test_size=0.2, random_state=1)"
   ]
  },
  {
   "cell_type": "code",
   "execution_count": 97,
   "metadata": {
    "ExecuteTime": {
     "end_time": "2020-08-31T19:51:31.025769Z",
     "start_time": "2020-08-31T19:51:31.012985Z"
    }
   },
   "outputs": [
    {
     "name": "stdout",
     "output_type": "stream",
     "text": [
      "[173550]\n",
      "[173550]\n",
      "[173550]\n"
     ]
    }
   ],
   "source": [
    "query_train = [X_train.shape[0]]\n",
    "query_val = [X_val.shape[0]]\n",
    "query_test = [X_test.shape[0]]\n",
    "group_train = []\n",
    "group_val = []\n",
    "print(query_train)\n",
    "print(query_val)\n",
    "print(query_test)\n",
    "'''\n",
    "for i in range(390):\n",
    "    group_train.append(100)\n",
    "group_train.append(40)\n",
    "group_val.append(60)\n",
    "for i in range(97):\n",
    "    group_val.append(100)'''\n",
    "\n",
    "for i in range(len(num_users)):\n",
    "    group_train.append(k)\n",
    "    group_val.append(k)\n"
   ]
  },
  {
   "cell_type": "code",
   "execution_count": 98,
   "metadata": {
    "ExecuteTime": {
     "end_time": "2020-08-31T19:51:38.211875Z",
     "start_time": "2020-08-31T19:51:31.030793Z"
    },
    "code_folding": []
   },
   "outputs": [
    {
     "name": "stdout",
     "output_type": "stream",
     "text": [
      "[1]\tvalid_0's ndcg@1: 0.297321\tvalid_0's ndcg@3: 0.297532\tvalid_0's ndcg@5: 0.300917\tvalid_0's ndcg@10: 0.319767\n",
      "Training until validation scores don't improve for 50 rounds\n",
      "[2]\tvalid_0's ndcg@1: 0.284356\tvalid_0's ndcg@3: 0.2887\tvalid_0's ndcg@5: 0.297721\tvalid_0's ndcg@10: 0.319024\n",
      "[3]\tvalid_0's ndcg@1: 0.288678\tvalid_0's ndcg@3: 0.292544\tvalid_0's ndcg@5: 0.294971\tvalid_0's ndcg@10: 0.31696\n",
      "[4]\tvalid_0's ndcg@1: 0.293863\tvalid_0's ndcg@3: 0.297492\tvalid_0's ndcg@5: 0.302732\tvalid_0's ndcg@10: 0.322549\n",
      "[5]\tvalid_0's ndcg@1: 0.286949\tvalid_0's ndcg@3: 0.297337\tvalid_0's ndcg@5: 0.30322\tvalid_0's ndcg@10: 0.323135\n",
      "[6]\tvalid_0's ndcg@1: 0.28522\tvalid_0's ndcg@3: 0.294137\tvalid_0's ndcg@5: 0.301629\tvalid_0's ndcg@10: 0.321857\n",
      "[7]\tvalid_0's ndcg@1: 0.288678\tvalid_0's ndcg@3: 0.293817\tvalid_0's ndcg@5: 0.300199\tvalid_0's ndcg@10: 0.321374\n",
      "[8]\tvalid_0's ndcg@1: 0.290406\tvalid_0's ndcg@3: 0.295197\tvalid_0's ndcg@5: 0.301638\tvalid_0's ndcg@10: 0.322753\n",
      "[9]\tvalid_0's ndcg@1: 0.292135\tvalid_0's ndcg@3: 0.296511\tvalid_0's ndcg@5: 0.303165\tvalid_0's ndcg@10: 0.321941\n",
      "[10]\tvalid_0's ndcg@1: 0.297321\tvalid_0's ndcg@3: 0.298074\tvalid_0's ndcg@5: 0.3036\tvalid_0's ndcg@10: 0.323465\n",
      "[11]\tvalid_0's ndcg@1: 0.300778\tvalid_0's ndcg@3: 0.297145\tvalid_0's ndcg@5: 0.303717\tvalid_0's ndcg@10: 0.32338\n",
      "[12]\tvalid_0's ndcg@1: 0.299914\tvalid_0's ndcg@3: 0.296174\tvalid_0's ndcg@5: 0.302374\tvalid_0's ndcg@10: 0.321677\n",
      "[13]\tvalid_0's ndcg@1: 0.300778\tvalid_0's ndcg@3: 0.298265\tvalid_0's ndcg@5: 0.302423\tvalid_0's ndcg@10: 0.322994\n",
      "[14]\tvalid_0's ndcg@1: 0.299914\tvalid_0's ndcg@3: 0.298121\tvalid_0's ndcg@5: 0.302826\tvalid_0's ndcg@10: 0.323444\n",
      "[15]\tvalid_0's ndcg@1: 0.301642\tvalid_0's ndcg@3: 0.298082\tvalid_0's ndcg@5: 0.303587\tvalid_0's ndcg@10: 0.323451\n",
      "[16]\tvalid_0's ndcg@1: 0.299914\tvalid_0's ndcg@3: 0.29771\tvalid_0's ndcg@5: 0.303112\tvalid_0's ndcg@10: 0.322445\n",
      "[17]\tvalid_0's ndcg@1: 0.300778\tvalid_0's ndcg@3: 0.29691\tvalid_0's ndcg@5: 0.303425\tvalid_0's ndcg@10: 0.323296\n",
      "[18]\tvalid_0's ndcg@1: 0.299914\tvalid_0's ndcg@3: 0.296551\tvalid_0's ndcg@5: 0.303568\tvalid_0's ndcg@10: 0.324098\n",
      "[19]\tvalid_0's ndcg@1: 0.304235\tvalid_0's ndcg@3: 0.296249\tvalid_0's ndcg@5: 0.303608\tvalid_0's ndcg@10: 0.323467\n",
      "[20]\tvalid_0's ndcg@1: 0.304235\tvalid_0's ndcg@3: 0.295041\tvalid_0's ndcg@5: 0.302359\tvalid_0's ndcg@10: 0.322896\n",
      "[21]\tvalid_0's ndcg@1: 0.304235\tvalid_0's ndcg@3: 0.296743\tvalid_0's ndcg@5: 0.301529\tvalid_0's ndcg@10: 0.323545\n",
      "[22]\tvalid_0's ndcg@1: 0.302506\tvalid_0's ndcg@3: 0.295489\tvalid_0's ndcg@5: 0.303655\tvalid_0's ndcg@10: 0.322127\n",
      "[23]\tvalid_0's ndcg@1: 0.299049\tvalid_0's ndcg@3: 0.295421\tvalid_0's ndcg@5: 0.303467\tvalid_0's ndcg@10: 0.323237\n",
      "[24]\tvalid_0's ndcg@1: 0.295592\tvalid_0's ndcg@3: 0.294753\tvalid_0's ndcg@5: 0.300739\tvalid_0's ndcg@10: 0.322272\n",
      "[25]\tvalid_0's ndcg@1: 0.294728\tvalid_0's ndcg@3: 0.295306\tvalid_0's ndcg@5: 0.300148\tvalid_0's ndcg@10: 0.323103\n",
      "[26]\tvalid_0's ndcg@1: 0.295592\tvalid_0's ndcg@3: 0.294916\tvalid_0's ndcg@5: 0.301208\tvalid_0's ndcg@10: 0.322195\n",
      "[27]\tvalid_0's ndcg@1: 0.292135\tvalid_0's ndcg@3: 0.293644\tvalid_0's ndcg@5: 0.300224\tvalid_0's ndcg@10: 0.323263\n",
      "[28]\tvalid_0's ndcg@1: 0.291271\tvalid_0's ndcg@3: 0.293212\tvalid_0's ndcg@5: 0.300096\tvalid_0's ndcg@10: 0.323871\n",
      "[29]\tvalid_0's ndcg@1: 0.293863\tvalid_0's ndcg@3: 0.293911\tvalid_0's ndcg@5: 0.301304\tvalid_0's ndcg@10: 0.322673\n",
      "[30]\tvalid_0's ndcg@1: 0.293863\tvalid_0's ndcg@3: 0.293814\tvalid_0's ndcg@5: 0.30125\tvalid_0's ndcg@10: 0.321949\n",
      "[31]\tvalid_0's ndcg@1: 0.295592\tvalid_0's ndcg@3: 0.29427\tvalid_0's ndcg@5: 0.301888\tvalid_0's ndcg@10: 0.322986\n",
      "[32]\tvalid_0's ndcg@1: 0.297321\tvalid_0's ndcg@3: 0.295672\tvalid_0's ndcg@5: 0.302086\tvalid_0's ndcg@10: 0.323157\n",
      "[33]\tvalid_0's ndcg@1: 0.297321\tvalid_0's ndcg@3: 0.295441\tvalid_0's ndcg@5: 0.302367\tvalid_0's ndcg@10: 0.322695\n",
      "[34]\tvalid_0's ndcg@1: 0.300778\tvalid_0's ndcg@3: 0.297224\tvalid_0's ndcg@5: 0.303096\tvalid_0's ndcg@10: 0.322959\n",
      "[35]\tvalid_0's ndcg@1: 0.299914\tvalid_0's ndcg@3: 0.297698\tvalid_0's ndcg@5: 0.303178\tvalid_0's ndcg@10: 0.323692\n",
      "[36]\tvalid_0's ndcg@1: 0.296456\tvalid_0's ndcg@3: 0.295884\tvalid_0's ndcg@5: 0.30349\tvalid_0's ndcg@10: 0.322871\n",
      "[37]\tvalid_0's ndcg@1: 0.297321\tvalid_0's ndcg@3: 0.297783\tvalid_0's ndcg@5: 0.302555\tvalid_0's ndcg@10: 0.323153\n",
      "[38]\tvalid_0's ndcg@1: 0.296456\tvalid_0's ndcg@3: 0.297283\tvalid_0's ndcg@5: 0.303084\tvalid_0's ndcg@10: 0.323192\n",
      "[39]\tvalid_0's ndcg@1: 0.299914\tvalid_0's ndcg@3: 0.298722\tvalid_0's ndcg@5: 0.303581\tvalid_0's ndcg@10: 0.323599\n",
      "[40]\tvalid_0's ndcg@1: 0.299049\tvalid_0's ndcg@3: 0.299107\tvalid_0's ndcg@5: 0.303929\tvalid_0's ndcg@10: 0.323943\n",
      "[41]\tvalid_0's ndcg@1: 0.300778\tvalid_0's ndcg@3: 0.30075\tvalid_0's ndcg@5: 0.304121\tvalid_0's ndcg@10: 0.324393\n",
      "[42]\tvalid_0's ndcg@1: 0.297321\tvalid_0's ndcg@3: 0.299211\tvalid_0's ndcg@5: 0.302085\tvalid_0's ndcg@10: 0.322709\n",
      "[43]\tvalid_0's ndcg@1: 0.298185\tvalid_0's ndcg@3: 0.299574\tvalid_0's ndcg@5: 0.302943\tvalid_0's ndcg@10: 0.323851\n",
      "[44]\tvalid_0's ndcg@1: 0.300778\tvalid_0's ndcg@3: 0.299034\tvalid_0's ndcg@5: 0.302474\tvalid_0's ndcg@10: 0.323827\n",
      "[45]\tvalid_0's ndcg@1: 0.301642\tvalid_0's ndcg@3: 0.299316\tvalid_0's ndcg@5: 0.302343\tvalid_0's ndcg@10: 0.322701\n",
      "[46]\tvalid_0's ndcg@1: 0.301642\tvalid_0's ndcg@3: 0.298662\tvalid_0's ndcg@5: 0.302333\tvalid_0's ndcg@10: 0.322446\n",
      "[47]\tvalid_0's ndcg@1: 0.300778\tvalid_0's ndcg@3: 0.297939\tvalid_0's ndcg@5: 0.302239\tvalid_0's ndcg@10: 0.324226\n",
      "[48]\tvalid_0's ndcg@1: 0.302506\tvalid_0's ndcg@3: 0.299631\tvalid_0's ndcg@5: 0.303138\tvalid_0's ndcg@10: 0.322829\n",
      "[49]\tvalid_0's ndcg@1: 0.300778\tvalid_0's ndcg@3: 0.300859\tvalid_0's ndcg@5: 0.303882\tvalid_0's ndcg@10: 0.323872\n",
      "[50]\tvalid_0's ndcg@1: 0.299049\tvalid_0's ndcg@3: 0.300328\tvalid_0's ndcg@5: 0.303493\tvalid_0's ndcg@10: 0.322873\n",
      "[51]\tvalid_0's ndcg@1: 0.298185\tvalid_0's ndcg@3: 0.298792\tvalid_0's ndcg@5: 0.302553\tvalid_0's ndcg@10: 0.32326\n",
      "[52]\tvalid_0's ndcg@1: 0.299049\tvalid_0's ndcg@3: 0.297684\tvalid_0's ndcg@5: 0.302132\tvalid_0's ndcg@10: 0.322768\n",
      "[53]\tvalid_0's ndcg@1: 0.299914\tvalid_0's ndcg@3: 0.2983\tvalid_0's ndcg@5: 0.303033\tvalid_0's ndcg@10: 0.321958\n",
      "[54]\tvalid_0's ndcg@1: 0.297321\tvalid_0's ndcg@3: 0.298398\tvalid_0's ndcg@5: 0.302598\tvalid_0's ndcg@10: 0.322698\n",
      "[55]\tvalid_0's ndcg@1: 0.299049\tvalid_0's ndcg@3: 0.298452\tvalid_0's ndcg@5: 0.302796\tvalid_0's ndcg@10: 0.323054\n",
      "[56]\tvalid_0's ndcg@1: 0.299049\tvalid_0's ndcg@3: 0.298144\tvalid_0's ndcg@5: 0.302531\tvalid_0's ndcg@10: 0.323164\n",
      "[57]\tvalid_0's ndcg@1: 0.295592\tvalid_0's ndcg@3: 0.298347\tvalid_0's ndcg@5: 0.30125\tvalid_0's ndcg@10: 0.322884\n",
      "[58]\tvalid_0's ndcg@1: 0.295592\tvalid_0's ndcg@3: 0.297289\tvalid_0's ndcg@5: 0.300249\tvalid_0's ndcg@10: 0.322009\n",
      "[59]\tvalid_0's ndcg@1: 0.295592\tvalid_0's ndcg@3: 0.296388\tvalid_0's ndcg@5: 0.30189\tvalid_0's ndcg@10: 0.321908\n",
      "[60]\tvalid_0's ndcg@1: 0.294728\tvalid_0's ndcg@3: 0.29688\tvalid_0's ndcg@5: 0.302127\tvalid_0's ndcg@10: 0.322215\n",
      "[61]\tvalid_0's ndcg@1: 0.293863\tvalid_0's ndcg@3: 0.295901\tvalid_0's ndcg@5: 0.300519\tvalid_0's ndcg@10: 0.321652\n",
      "[62]\tvalid_0's ndcg@1: 0.296456\tvalid_0's ndcg@3: 0.297208\tvalid_0's ndcg@5: 0.301751\tvalid_0's ndcg@10: 0.322761\n",
      "[63]\tvalid_0's ndcg@1: 0.293863\tvalid_0's ndcg@3: 0.296192\tvalid_0's ndcg@5: 0.301581\tvalid_0's ndcg@10: 0.322268\n",
      "[64]\tvalid_0's ndcg@1: 0.293863\tvalid_0's ndcg@3: 0.296663\tvalid_0's ndcg@5: 0.301757\tvalid_0's ndcg@10: 0.32186\n",
      "[65]\tvalid_0's ndcg@1: 0.295592\tvalid_0's ndcg@3: 0.296564\tvalid_0's ndcg@5: 0.302334\tvalid_0's ndcg@10: 0.321997\n",
      "[66]\tvalid_0's ndcg@1: 0.294728\tvalid_0's ndcg@3: 0.296061\tvalid_0's ndcg@5: 0.302945\tvalid_0's ndcg@10: 0.322681\n",
      "[67]\tvalid_0's ndcg@1: 0.298185\tvalid_0's ndcg@3: 0.298347\tvalid_0's ndcg@5: 0.302776\tvalid_0's ndcg@10: 0.323662\n",
      "[68]\tvalid_0's ndcg@1: 0.293863\tvalid_0's ndcg@3: 0.297679\tvalid_0's ndcg@5: 0.301136\tvalid_0's ndcg@10: 0.322617\n",
      "[69]\tvalid_0's ndcg@1: 0.293863\tvalid_0's ndcg@3: 0.297094\tvalid_0's ndcg@5: 0.300829\tvalid_0's ndcg@10: 0.32267\n",
      "Early stopping, best iteration is:\n",
      "[19]\tvalid_0's ndcg@1: 0.304235\tvalid_0's ndcg@3: 0.296249\tvalid_0's ndcg@5: 0.303608\tvalid_0's ndcg@10: 0.323467\n"
     ]
    },
    {
     "data": {
      "text/plain": [
       "LGBMRanker(metric='ndcg', min_data_in_leaf=1, min_sum_hessian_in_leaf=100,\n",
       "           ndcg_eval_at=[1, 5, 10, 20], num_leaves=255, num_threads=2,\n",
       "           objective='lambdarank', task='train')"
      ]
     },
     "execution_count": 98,
     "metadata": {},
     "output_type": "execute_result"
    }
   ],
   "source": [
    "gbm.fit(X_train, y_train, group=group_train,\n",
    "        eval_set=[(X_val, y_val)], eval_group=[group_val],\n",
    "        eval_at=[1, 3, 5, 10], early_stopping_rounds=50, eval_metric='ndcg')\n",
    "#no early stopping"
   ]
  },
  {
   "cell_type": "code",
   "execution_count": 99,
   "metadata": {
    "ExecuteTime": {
     "end_time": "2020-08-31T19:51:38.230843Z",
     "start_time": "2020-08-31T19:51:38.218225Z"
    }
   },
   "outputs": [
    {
     "data": {
      "text/plain": [
       "19"
      ]
     },
     "execution_count": 99,
     "metadata": {},
     "output_type": "execute_result"
    }
   ],
   "source": [
    "gbm.best_iteration_"
   ]
  },
  {
   "cell_type": "code",
   "execution_count": 100,
   "metadata": {
    "ExecuteTime": {
     "end_time": "2020-08-31T19:51:38.897679Z",
     "start_time": "2020-08-31T19:51:38.237961Z"
    }
   },
   "outputs": [
    {
     "data": {
      "text/plain": [
       "array([ 0.20982217,  0.48232015,  0.22800856, ..., -1.16299677,\n",
       "       -1.20102401, -1.20102401])"
      ]
     },
     "execution_count": 100,
     "metadata": {},
     "output_type": "execute_result"
    }
   ],
   "source": [
    "test_pred = gbm.predict(X_test)\n",
    "test_pred"
   ]
  },
  {
   "cell_type": "markdown",
   "metadata": {},
   "source": [
    "## NDCG Score"
   ]
  },
  {
   "cell_type": "code",
   "execution_count": 115,
   "metadata": {
    "ExecuteTime": {
     "end_time": "2020-08-31T19:54:47.633042Z",
     "start_time": "2020-08-31T19:54:47.619896Z"
    }
   },
   "outputs": [],
   "source": [
    "p = 0\n",
    "m = 150\n",
    "lgbm_pred_per_user = []\n",
    "for i in range(len(num_users)):\n",
    "    lgbm_pred_per_user.append(test_pred[p:m])\n",
    "    p += 150\n",
    "    m += 150"
   ]
  },
  {
   "cell_type": "markdown",
   "metadata": {},
   "source": [
    "### NDCG IFM on this data"
   ]
  },
  {
   "cell_type": "code",
   "execution_count": null,
   "metadata": {
    "ExecuteTime": {
     "end_time": "2020-08-31T14:11:50.999256Z",
     "start_time": "2020-08-31T14:00:59.970Z"
    }
   },
   "outputs": [],
   "source": [
    "np.array(feature7[0][609]).shape"
   ]
  },
  {
   "cell_type": "code",
   "execution_count": null,
   "metadata": {
    "ExecuteTime": {
     "end_time": "2020-08-31T14:11:51.000253Z",
     "start_time": "2020-08-31T14:00:59.976Z"
    }
   },
   "outputs": [],
   "source": [
    "feature1.shape"
   ]
  },
  {
   "cell_type": "code",
   "execution_count": null,
   "metadata": {
    "ExecuteTime": {
     "end_time": "2020-08-31T14:11:51.001986Z",
     "start_time": "2020-08-31T14:00:59.982Z"
    }
   },
   "outputs": [],
   "source": [
    "lgbm_NDCG = []\n",
    "IFM_NDCG = []\n",
    "#SVD_NDCG = []\n",
    "for i in range(len(num_users)):\n",
    "    excel_df = pd.DataFrame({'movie_id': target_movies[i], 'model1_score': feature1[i],\n",
    "                             'rank': feature2[i], '#users_watched': feature5[i],\n",
    "                             'new_user': feature6[i],\n",
    "                             'emedding1': feature7[0][i], 'emedding2': feature7[1][i], 'emedding3': feature7[2][i],\n",
    "                             'emedding4': feature7[3][i], 'emedding5': feature7[4][i], 'emedding6': feature7[5][i],\n",
    "                             'emedding7': feature7[6][i], 'emedding8': feature7[7][i], 'emedding9': feature7[8][i],\n",
    "                             'emedding10': feature7[9][i], 'emedding11': feature7[10][i], 'emedding12': feature7[11][i],\n",
    "                             'emedding13': feature7[12][i], 'emedding14': feature7[13][i], 'emedding15': feature7[14][i],\n",
    "                             'emedding16': feature7[15][i], 'emedding17': feature7[16][i], 'emedding18': feature7[17][i],\n",
    "                             'emedding19': feature7[18][i], 'emedding20': feature7[19][i], 'emedding21': feature7[20][i],\n",
    "                             'emedding22': feature7[21][i], 'emedding23': feature7[22][i], 'emedding24': feature7[23][i],\n",
    "                             'emedding25': feature7[24][i], 'emedding26': feature7[25][i], 'emedding27': feature7[26][i],\n",
    "                             'emedding28': feature7[27][i], 'emedding29': feature7[28][i], 'emedding30': feature7[29][i],\n",
    "                             'emedding31': feature7[30][i], 'emedding32': feature7[31][i],\n",
    "                             'train_label': label_train[i], 'test_label': label_test[i],\n",
    "                             'y_val': label_val[i], 'LGBM Score': lgbm_pred_per_user[i]})\n",
    "    excel_df = excel_df.sort_values('LGBM Score', ascending=False)\n",
    "    relevance_lgbm_user = excel_df['test_label'].values.tolist()\n",
    "    lgbm_NDCG.append(NDCG_forUser(relevance_lgbm_user))\n",
    "    excel_df = excel_df.sort_values('model1_score', ascending=False)\n",
    "    ifm_relevance = excel_df['test_label'].values.tolist()\n",
    "    IFM_NDCG.append(NDCG_forUser(ifm_relevance))\n",
    "    #excel_df = excel_df.sort_values('model2_score', ascending=False)\n",
    "    #svd_relevance_h = excel_df['test_label'].values.tolist()\n",
    "    #SVD_NDCG.append(NDCG_forUser(svd_relevance_h))"
   ]
  },
  {
   "cell_type": "code",
   "execution_count": 116,
   "metadata": {
    "ExecuteTime": {
     "end_time": "2020-08-31T19:54:52.781112Z",
     "start_time": "2020-08-31T19:54:52.767998Z"
    }
   },
   "outputs": [
    {
     "data": {
      "text/plain": [
       "(1157, 150)"
      ]
     },
     "execution_count": 116,
     "metadata": {},
     "output_type": "execute_result"
    }
   ],
   "source": [
    "np.array(lgbm_pred_per_user).shape"
   ]
  },
  {
   "cell_type": "code",
   "execution_count": 117,
   "metadata": {
    "ExecuteTime": {
     "end_time": "2020-08-31T19:55:09.187626Z",
     "start_time": "2020-08-31T19:54:54.601354Z"
    }
   },
   "outputs": [
    {
     "name": "stderr",
     "output_type": "stream",
     "text": [
      "C:\\Users\\papad\\Anaconda3\\lib\\site-packages\\ipykernel_launcher.py:2: RuntimeWarning: invalid value encountered in double_scalars\n",
      "  \n"
     ]
    }
   ],
   "source": [
    "lgbm_NDCG = []\n",
    "IFM_NDCG = []\n",
    "#SVD_NDCG = []\n",
    "for i in range(len(num_users)):\n",
    "    excel_df = pd.DataFrame({'movie_id': target_movies[i], 'model1_score': feature1[i],\n",
    "                             'rank': feature2[i], '#users_watched': feature5[i],\n",
    "                             'train_label': label_train[i], 'test_label': label_test[i],\n",
    "                             'y_val': label_val[i], 'LGBM Score': lgbm_pred_per_user[i]})\n",
    "    excel_df = excel_df.sort_values('LGBM Score', ascending=False)\n",
    "    relevance_lgbm_user = excel_df['test_label'].values.tolist()\n",
    "    lgbm_NDCG.append(NDCG_forUser(relevance_lgbm_user))\n",
    "    excel_df = excel_df.sort_values('model1_score', ascending=False)\n",
    "    ifm_relevance = excel_df['test_label'].values.tolist()\n",
    "    IFM_NDCG.append(NDCG_forUser(ifm_relevance))\n",
    "    #excel_df = excel_df.sort_values('model2_score', ascending=False)\n",
    "    #svd_relevance_h = excel_df['test_label'].values.tolist()\n",
    "    #SVD_NDCG.append(NDCG_forUser(svd_relevance_h))"
   ]
  },
  {
   "cell_type": "code",
   "execution_count": 118,
   "metadata": {
    "ExecuteTime": {
     "end_time": "2020-08-31T19:55:09.254263Z",
     "start_time": "2020-08-31T19:55:09.193138Z"
    }
   },
   "outputs": [],
   "source": [
    "lgbm_NDCG = pd.Series(lgbm_NDCG).fillna(0).tolist()\n",
    "IFM_NDCG = pd.Series(IFM_NDCG).fillna(0).tolist()\n",
    "#SVD_NDCG = pd.Series(SVD_NDCG).fillna(0).tolist()"
   ]
  },
  {
   "cell_type": "markdown",
   "metadata": {},
   "source": [
    "## NDCG Comparison"
   ]
  },
  {
   "cell_type": "code",
   "execution_count": 119,
   "metadata": {
    "ExecuteTime": {
     "end_time": "2020-08-31T19:55:39.816781Z",
     "start_time": "2020-08-31T19:55:39.803729Z"
    }
   },
   "outputs": [
    {
     "data": {
      "text/plain": [
       "0.0"
      ]
     },
     "execution_count": 119,
     "metadata": {},
     "output_type": "execute_result"
    }
   ],
   "source": [
    "allUsers_implicit_ndcg[0]"
   ]
  },
  {
   "cell_type": "code",
   "execution_count": 120,
   "metadata": {
    "ExecuteTime": {
     "end_time": "2020-08-31T19:55:42.387478Z",
     "start_time": "2020-08-31T19:55:42.371903Z"
    }
   },
   "outputs": [],
   "source": [
    "ndcg_df = pd.DataFrame({'Implicit FM': allUsers_implicit_ndcg, 'LightGBM': lgbm_NDCG, 'IFM_this': IFM_NDCG})"
   ]
  },
  {
   "cell_type": "code",
   "execution_count": 121,
   "metadata": {
    "ExecuteTime": {
     "end_time": "2020-08-31T19:55:48.079633Z",
     "start_time": "2020-08-31T19:55:48.023873Z"
    }
   },
   "outputs": [
    {
     "data": {
      "text/html": [
       "<div>\n",
       "<style scoped>\n",
       "    .dataframe tbody tr th:only-of-type {\n",
       "        vertical-align: middle;\n",
       "    }\n",
       "\n",
       "    .dataframe tbody tr th {\n",
       "        vertical-align: top;\n",
       "    }\n",
       "\n",
       "    .dataframe thead th {\n",
       "        text-align: right;\n",
       "    }\n",
       "</style>\n",
       "<table border=\"1\" class=\"dataframe\">\n",
       "  <thead>\n",
       "    <tr style=\"text-align: right;\">\n",
       "      <th></th>\n",
       "      <th>Implicit FM</th>\n",
       "      <th>LightGBM</th>\n",
       "      <th>IFM_this</th>\n",
       "    </tr>\n",
       "  </thead>\n",
       "  <tbody>\n",
       "    <tr>\n",
       "      <th>0</th>\n",
       "      <td>0.000000</td>\n",
       "      <td>0.000000</td>\n",
       "      <td>0.000000</td>\n",
       "    </tr>\n",
       "    <tr>\n",
       "      <th>1</th>\n",
       "      <td>0.000000</td>\n",
       "      <td>0.000000</td>\n",
       "      <td>0.000000</td>\n",
       "    </tr>\n",
       "    <tr>\n",
       "      <th>2</th>\n",
       "      <td>0.000000</td>\n",
       "      <td>0.642889</td>\n",
       "      <td>0.434471</td>\n",
       "    </tr>\n",
       "    <tr>\n",
       "      <th>3</th>\n",
       "      <td>0.000000</td>\n",
       "      <td>0.000000</td>\n",
       "      <td>0.000000</td>\n",
       "    </tr>\n",
       "    <tr>\n",
       "      <th>4</th>\n",
       "      <td>0.000000</td>\n",
       "      <td>0.351835</td>\n",
       "      <td>0.273095</td>\n",
       "    </tr>\n",
       "    <tr>\n",
       "      <th>...</th>\n",
       "      <td>...</td>\n",
       "      <td>...</td>\n",
       "      <td>...</td>\n",
       "    </tr>\n",
       "    <tr>\n",
       "      <th>1152</th>\n",
       "      <td>0.000000</td>\n",
       "      <td>0.000000</td>\n",
       "      <td>0.000000</td>\n",
       "    </tr>\n",
       "    <tr>\n",
       "      <th>1153</th>\n",
       "      <td>0.000000</td>\n",
       "      <td>0.180031</td>\n",
       "      <td>0.189200</td>\n",
       "    </tr>\n",
       "    <tr>\n",
       "      <th>1154</th>\n",
       "      <td>0.240540</td>\n",
       "      <td>0.000000</td>\n",
       "      <td>0.000000</td>\n",
       "    </tr>\n",
       "    <tr>\n",
       "      <th>1155</th>\n",
       "      <td>0.000000</td>\n",
       "      <td>0.203795</td>\n",
       "      <td>0.178104</td>\n",
       "    </tr>\n",
       "    <tr>\n",
       "      <th>1156</th>\n",
       "      <td>0.508677</td>\n",
       "      <td>0.159099</td>\n",
       "      <td>0.227670</td>\n",
       "    </tr>\n",
       "  </tbody>\n",
       "</table>\n",
       "<p>1157 rows × 3 columns</p>\n",
       "</div>"
      ],
      "text/plain": [
       "      Implicit FM  LightGBM  IFM_this\n",
       "0        0.000000  0.000000  0.000000\n",
       "1        0.000000  0.000000  0.000000\n",
       "2        0.000000  0.642889  0.434471\n",
       "3        0.000000  0.000000  0.000000\n",
       "4        0.000000  0.351835  0.273095\n",
       "...           ...       ...       ...\n",
       "1152     0.000000  0.000000  0.000000\n",
       "1153     0.000000  0.180031  0.189200\n",
       "1154     0.240540  0.000000  0.000000\n",
       "1155     0.000000  0.203795  0.178104\n",
       "1156     0.508677  0.159099  0.227670\n",
       "\n",
       "[1157 rows x 3 columns]"
      ]
     },
     "execution_count": 121,
     "metadata": {},
     "output_type": "execute_result"
    }
   ],
   "source": [
    "ndcg_df"
   ]
  },
  {
   "cell_type": "code",
   "execution_count": 122,
   "metadata": {
    "ExecuteTime": {
     "end_time": "2020-08-31T19:55:48.489108Z",
     "start_time": "2020-08-31T19:55:48.437068Z"
    }
   },
   "outputs": [
    {
     "data": {
      "text/plain": [
       "0.15369670262641288"
      ]
     },
     "execution_count": 122,
     "metadata": {},
     "output_type": "execute_result"
    }
   ],
   "source": [
    "ndcg_df['Implicit FM'].mean()"
   ]
  },
  {
   "cell_type": "code",
   "execution_count": 123,
   "metadata": {
    "ExecuteTime": {
     "end_time": "2020-08-31T19:55:50.886345Z",
     "start_time": "2020-08-31T19:55:50.872181Z"
    }
   },
   "outputs": [
    {
     "data": {
      "text/plain": [
       "0.2808607274416536"
      ]
     },
     "execution_count": 123,
     "metadata": {},
     "output_type": "execute_result"
    }
   ],
   "source": [
    "lgbm_mean = ndcg_df['LightGBM'].mean()\n",
    "lgbm_mean"
   ]
  },
  {
   "cell_type": "code",
   "execution_count": 124,
   "metadata": {
    "ExecuteTime": {
     "end_time": "2020-08-31T19:55:55.172775Z",
     "start_time": "2020-08-31T19:55:55.158459Z"
    }
   },
   "outputs": [
    {
     "data": {
      "text/plain": [
       "0.2869945347978676"
      ]
     },
     "execution_count": 124,
     "metadata": {},
     "output_type": "execute_result"
    }
   ],
   "source": [
    "ifm_mean = ndcg_df['IFM_this'].mean()\n",
    "ifm_mean"
   ]
  },
  {
   "cell_type": "code",
   "execution_count": null,
   "metadata": {
    "ExecuteTime": {
     "end_time": "2020-08-31T14:11:51.032298Z",
     "start_time": "2020-08-31T14:01:00.096Z"
    }
   },
   "outputs": [],
   "source": [
    "#svd_mean = ndcg_df['SVD_this'].mean()\n",
    "#svd_mean"
   ]
  },
  {
   "cell_type": "markdown",
   "metadata": {},
   "source": [
    "## Visualization"
   ]
  },
  {
   "cell_type": "code",
   "execution_count": null,
   "metadata": {},
   "outputs": [],
   "source": []
  },
  {
   "cell_type": "code",
   "execution_count": null,
   "metadata": {},
   "outputs": [],
   "source": []
  },
  {
   "cell_type": "markdown",
   "metadata": {},
   "source": [
    "## Excel-Like"
   ]
  },
  {
   "cell_type": "code",
   "execution_count": null,
   "metadata": {
    "ExecuteTime": {
     "end_time": "2020-08-31T14:11:51.004981Z",
     "start_time": "2020-08-31T14:00:59.997Z"
    }
   },
   "outputs": [],
   "source": [
    "excel1_df = pd.DataFrame({'movie_id': target_movies[0],'model1_score':feature1[0], 'model2_score':feature3[0],'is_comedy':feature4[0],\n",
    "                            '#users_watched':feature5[0], 'train_label':label_train[0], 'test_label':label_test[0],\n",
    "                            'label_val':label_val[0],'LGBM Score':lgbm_pred_per_user[0]})"
   ]
  },
  {
   "cell_type": "code",
   "execution_count": null,
   "metadata": {
    "ExecuteTime": {
     "end_time": "2020-08-31T14:11:51.007905Z",
     "start_time": "2020-08-31T14:01:00.007Z"
    }
   },
   "outputs": [],
   "source": [
    "excel1_df.head(10)"
   ]
  },
  {
   "cell_type": "code",
   "execution_count": null,
   "metadata": {
    "ExecuteTime": {
     "end_time": "2020-08-31T14:11:51.010009Z",
     "start_time": "2020-08-31T14:01:00.015Z"
    }
   },
   "outputs": [],
   "source": [
    "excel1_df = excel1_df.sort_values('LGBM Score',ascending = False)\n",
    "excel1_df.head(10)"
   ]
  },
  {
   "cell_type": "code",
   "execution_count": null,
   "metadata": {
    "ExecuteTime": {
     "end_time": "2020-08-31T14:11:51.012256Z",
     "start_time": "2020-08-31T14:01:00.024Z"
    }
   },
   "outputs": [],
   "source": [
    "relevance_lgbm_firstUser = excel1_df['test_label'].values.tolist()"
   ]
  },
  {
   "cell_type": "code",
   "execution_count": null,
   "metadata": {
    "ExecuteTime": {
     "end_time": "2020-08-31T14:11:51.014376Z",
     "start_time": "2020-08-31T14:01:00.032Z"
    }
   },
   "outputs": [],
   "source": [
    "L1GBM_ndcg = NDCG_forUser(relevance_lgbm_firstUser)\n",
    "L1GBM_ndcg"
   ]
  },
  {
   "cell_type": "code",
   "execution_count": null,
   "metadata": {},
   "outputs": [],
   "source": []
  },
  {
   "cell_type": "code",
   "execution_count": null,
   "metadata": {},
   "outputs": [],
   "source": []
  }
 ],
 "metadata": {
  "kernelspec": {
   "display_name": "Python 3",
   "language": "python",
   "name": "python3"
  },
  "language_info": {
   "codemirror_mode": {
    "name": "ipython",
    "version": 3
   },
   "file_extension": ".py",
   "mimetype": "text/x-python",
   "name": "python",
   "nbconvert_exporter": "python",
   "pygments_lexer": "ipython3",
   "version": "3.7.7"
  },
  "toc": {
   "base_numbering": 1,
   "nav_menu": {},
   "number_sections": true,
   "sideBar": true,
   "skip_h1_title": false,
   "title_cell": "Table of Contents",
   "title_sidebar": "Contents",
   "toc_cell": false,
   "toc_position": {
    "height": "calc(100% - 180px)",
    "left": "10px",
    "top": "150px",
    "width": "307.2px"
   },
   "toc_section_display": true,
   "toc_window_display": true
  },
  "varInspector": {
   "cols": {
    "lenName": 16,
    "lenType": 16,
    "lenVar": 40
   },
   "kernels_config": {
    "python": {
     "delete_cmd_postfix": "",
     "delete_cmd_prefix": "del ",
     "library": "var_list.py",
     "varRefreshCmd": "print(var_dic_list())"
    },
    "r": {
     "delete_cmd_postfix": ") ",
     "delete_cmd_prefix": "rm(",
     "library": "var_list.r",
     "varRefreshCmd": "cat(var_dic_list()) "
    }
   },
   "types_to_exclude": [
    "module",
    "function",
    "builtin_function_or_method",
    "instance",
    "_Feature"
   ],
   "window_display": false
  }
 },
 "nbformat": 4,
 "nbformat_minor": 4
}
