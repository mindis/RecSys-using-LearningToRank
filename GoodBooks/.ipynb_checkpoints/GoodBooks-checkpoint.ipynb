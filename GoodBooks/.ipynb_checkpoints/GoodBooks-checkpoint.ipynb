{
 "cells": [
  {
   "cell_type": "code",
   "execution_count": 1,
   "metadata": {
    "ExecuteTime": {
     "end_time": "2020-09-09T08:29:46.488999Z",
     "start_time": "2020-09-09T08:29:45.049183Z"
    }
   },
   "outputs": [],
   "source": [
    "import pandas as pd\n",
    "import numpy as np\n",
    "import matplotlib.pyplot as plt\n",
    "from spotlight.factorization.implicit import ImplicitFactorizationModel\n",
    "from spotlight.interactions import Interactions\n",
    "from spotlight.cross_validation import random_train_test_split"
   ]
  },
  {
   "cell_type": "code",
   "execution_count": 2,
   "metadata": {
    "ExecuteTime": {
     "end_time": "2020-09-09T08:29:48.302230Z",
     "start_time": "2020-09-09T08:29:46.488999Z"
    }
   },
   "outputs": [],
   "source": [
    "ratings_df = pd.read_csv('C:/Users/papad/Desktop/goodbooks-10k-master/goodbooks-10k-master/ratings.csv')\n",
    "books_df = pd.read_csv('C:/Users/papad/Desktop/goodbooks-10k-master/goodbooks-10k-master/books.csv')\n",
    "to_read_df = pd.read_csv('C:/Users/papad/Desktop/goodbooks-10k-master/goodbooks-10k-master/to_read.csv')\n",
    "book_tags_df = pd.read_csv('C:/Users/papad/Desktop/goodbooks-10k-master/goodbooks-10k-master/book_tags.csv')\n",
    "tags_df = pd.read_csv('C:/Users/papad/Desktop/goodbooks-10k-master/goodbooks-10k-master/tags.csv')"
   ]
  },
  {
   "cell_type": "markdown",
   "metadata": {},
   "source": [
    "# Dataset"
   ]
  },
  {
   "cell_type": "code",
   "execution_count": 3,
   "metadata": {
    "ExecuteTime": {
     "end_time": "2020-09-09T08:29:48.309050Z",
     "start_time": "2020-09-09T08:29:48.304063Z"
    },
    "cell_style": "center"
   },
   "outputs": [],
   "source": [
    "percentage = 1.7\n",
    "ratings_df = ratings_df.head(int(len(ratings_df)*(percentage/100)))"
   ]
  },
  {
   "cell_type": "code",
   "execution_count": 4,
   "metadata": {
    "ExecuteTime": {
     "end_time": "2020-09-09T08:29:48.339001Z",
     "start_time": "2020-09-09T08:29:48.311044Z"
    },
    "cell_style": "center"
   },
   "outputs": [
    {
     "data": {
      "text/html": [
       "<div>\n",
       "<style scoped>\n",
       "    .dataframe tbody tr th:only-of-type {\n",
       "        vertical-align: middle;\n",
       "    }\n",
       "\n",
       "    .dataframe tbody tr th {\n",
       "        vertical-align: top;\n",
       "    }\n",
       "\n",
       "    .dataframe thead th {\n",
       "        text-align: right;\n",
       "    }\n",
       "</style>\n",
       "<table border=\"1\" class=\"dataframe\">\n",
       "  <thead>\n",
       "    <tr style=\"text-align: right;\">\n",
       "      <th></th>\n",
       "      <th>book_id</th>\n",
       "      <th>goodreads_book_id</th>\n",
       "      <th>best_book_id</th>\n",
       "      <th>work_id</th>\n",
       "      <th>books_count</th>\n",
       "      <th>isbn</th>\n",
       "      <th>isbn13</th>\n",
       "      <th>authors</th>\n",
       "      <th>original_publication_year</th>\n",
       "      <th>original_title</th>\n",
       "      <th>...</th>\n",
       "      <th>ratings_count</th>\n",
       "      <th>work_ratings_count</th>\n",
       "      <th>work_text_reviews_count</th>\n",
       "      <th>ratings_1</th>\n",
       "      <th>ratings_2</th>\n",
       "      <th>ratings_3</th>\n",
       "      <th>ratings_4</th>\n",
       "      <th>ratings_5</th>\n",
       "      <th>image_url</th>\n",
       "      <th>small_image_url</th>\n",
       "    </tr>\n",
       "  </thead>\n",
       "  <tbody>\n",
       "    <tr>\n",
       "      <th>9438</th>\n",
       "      <td>9439</td>\n",
       "      <td>35539</td>\n",
       "      <td>35539</td>\n",
       "      <td>1654509</td>\n",
       "      <td>17</td>\n",
       "      <td>316013315</td>\n",
       "      <td>9.780316e+12</td>\n",
       "      <td>Bob Spitz</td>\n",
       "      <td>2005.0</td>\n",
       "      <td>The Beatles: The Biography</td>\n",
       "      <td>...</td>\n",
       "      <td>8120</td>\n",
       "      <td>8464</td>\n",
       "      <td>390</td>\n",
       "      <td>205</td>\n",
       "      <td>314</td>\n",
       "      <td>1270</td>\n",
       "      <td>3020</td>\n",
       "      <td>3655</td>\n",
       "      <td>https://images.gr-assets.com/books/1327951066m...</td>\n",
       "      <td>https://images.gr-assets.com/books/1327951066s...</td>\n",
       "    </tr>\n",
       "  </tbody>\n",
       "</table>\n",
       "<p>1 rows × 23 columns</p>\n",
       "</div>"
      ],
      "text/plain": [
       "      book_id  goodreads_book_id  best_book_id  work_id  books_count  \\\n",
       "9438     9439              35539         35539  1654509           17   \n",
       "\n",
       "           isbn        isbn13    authors  original_publication_year  \\\n",
       "9438  316013315  9.780316e+12  Bob Spitz                     2005.0   \n",
       "\n",
       "                  original_title  ... ratings_count work_ratings_count  \\\n",
       "9438  The Beatles: The Biography  ...          8120               8464   \n",
       "\n",
       "      work_text_reviews_count  ratings_1  ratings_2  ratings_3  ratings_4  \\\n",
       "9438                      390        205        314       1270       3020   \n",
       "\n",
       "      ratings_5                                          image_url  \\\n",
       "9438       3655  https://images.gr-assets.com/books/1327951066m...   \n",
       "\n",
       "                                        small_image_url  \n",
       "9438  https://images.gr-assets.com/books/1327951066s...  \n",
       "\n",
       "[1 rows x 23 columns]"
      ]
     },
     "execution_count": 4,
     "metadata": {},
     "output_type": "execute_result"
    }
   ],
   "source": [
    "books_df[books_df['book_id']==9439]"
   ]
  },
  {
   "cell_type": "code",
   "execution_count": 5,
   "metadata": {
    "ExecuteTime": {
     "end_time": "2020-09-09T08:29:48.350939Z",
     "start_time": "2020-09-09T08:29:48.340966Z"
    }
   },
   "outputs": [
    {
     "data": {
      "text/html": [
       "<div>\n",
       "<style scoped>\n",
       "    .dataframe tbody tr th:only-of-type {\n",
       "        vertical-align: middle;\n",
       "    }\n",
       "\n",
       "    .dataframe tbody tr th {\n",
       "        vertical-align: top;\n",
       "    }\n",
       "\n",
       "    .dataframe thead th {\n",
       "        text-align: right;\n",
       "    }\n",
       "</style>\n",
       "<table border=\"1\" class=\"dataframe\">\n",
       "  <thead>\n",
       "    <tr style=\"text-align: right;\">\n",
       "      <th></th>\n",
       "      <th>user_id</th>\n",
       "      <th>book_id</th>\n",
       "      <th>rating</th>\n",
       "    </tr>\n",
       "  </thead>\n",
       "  <tbody>\n",
       "    <tr>\n",
       "      <th>0</th>\n",
       "      <td>1</td>\n",
       "      <td>258</td>\n",
       "      <td>5</td>\n",
       "    </tr>\n",
       "    <tr>\n",
       "      <th>1</th>\n",
       "      <td>2</td>\n",
       "      <td>4081</td>\n",
       "      <td>4</td>\n",
       "    </tr>\n",
       "    <tr>\n",
       "      <th>2</th>\n",
       "      <td>2</td>\n",
       "      <td>260</td>\n",
       "      <td>5</td>\n",
       "    </tr>\n",
       "    <tr>\n",
       "      <th>3</th>\n",
       "      <td>2</td>\n",
       "      <td>9296</td>\n",
       "      <td>5</td>\n",
       "    </tr>\n",
       "    <tr>\n",
       "      <th>4</th>\n",
       "      <td>2</td>\n",
       "      <td>2318</td>\n",
       "      <td>3</td>\n",
       "    </tr>\n",
       "    <tr>\n",
       "      <th>...</th>\n",
       "      <td>...</td>\n",
       "      <td>...</td>\n",
       "      <td>...</td>\n",
       "    </tr>\n",
       "    <tr>\n",
       "      <th>101595</th>\n",
       "      <td>344</td>\n",
       "      <td>27</td>\n",
       "      <td>3</td>\n",
       "    </tr>\n",
       "    <tr>\n",
       "      <th>101596</th>\n",
       "      <td>344</td>\n",
       "      <td>21</td>\n",
       "      <td>3</td>\n",
       "    </tr>\n",
       "    <tr>\n",
       "      <th>101597</th>\n",
       "      <td>344</td>\n",
       "      <td>25</td>\n",
       "      <td>3</td>\n",
       "    </tr>\n",
       "    <tr>\n",
       "      <th>101598</th>\n",
       "      <td>344</td>\n",
       "      <td>23</td>\n",
       "      <td>3</td>\n",
       "    </tr>\n",
       "    <tr>\n",
       "      <th>101599</th>\n",
       "      <td>2951</td>\n",
       "      <td>5779</td>\n",
       "      <td>4</td>\n",
       "    </tr>\n",
       "  </tbody>\n",
       "</table>\n",
       "<p>101600 rows × 3 columns</p>\n",
       "</div>"
      ],
      "text/plain": [
       "        user_id  book_id  rating\n",
       "0             1      258       5\n",
       "1             2     4081       4\n",
       "2             2      260       5\n",
       "3             2     9296       5\n",
       "4             2     2318       3\n",
       "...         ...      ...     ...\n",
       "101595      344       27       3\n",
       "101596      344       21       3\n",
       "101597      344       25       3\n",
       "101598      344       23       3\n",
       "101599     2951     5779       4\n",
       "\n",
       "[101600 rows x 3 columns]"
      ]
     },
     "execution_count": 5,
     "metadata": {},
     "output_type": "execute_result"
    }
   ],
   "source": [
    "ratings_df"
   ]
  },
  {
   "cell_type": "code",
   "execution_count": 6,
   "metadata": {
    "ExecuteTime": {
     "end_time": "2020-09-09T08:29:48.365302Z",
     "start_time": "2020-09-09T08:29:48.354354Z"
    },
    "scrolled": true
   },
   "outputs": [
    {
     "name": "stdout",
     "output_type": "stream",
     "text": [
      "1823\n",
      "5050\n"
     ]
    }
   ],
   "source": [
    "num_users = ratings_df['user_id'].unique()\n",
    "print(len(num_users))\n",
    "num_items = ratings_df['book_id'].unique()\n",
    "print(len(num_items))"
   ]
  },
  {
   "cell_type": "markdown",
   "metadata": {},
   "source": [
    "# Spotlight"
   ]
  },
  {
   "cell_type": "markdown",
   "metadata": {},
   "source": [
    "Spotlight users and items ids should be consecutive. For that purpose in the cell below, the defaultdict function from the collections library is used to provide, the uid_map and iid_map. These variables contain consecutive numbers equal to the number of users and items respectively. These are necessary to create the interaction objects, which are the fundamental objects of the Spotlight platform, and are required in order to build a Spotlight recommender. \n",
    "\n",
    "Then I keep the reveresed mapped user and item ids, to take the real predicted item ids when i finish the process with the Spotlight model."
   ]
  },
  {
   "cell_type": "code",
   "execution_count": 7,
   "metadata": {
    "ExecuteTime": {
     "end_time": "2020-09-09T08:29:48.437152Z",
     "start_time": "2020-09-09T08:29:48.367298Z"
    }
   },
   "outputs": [
    {
     "name": "stdout",
     "output_type": "stream",
     "text": [
      "userId 556 got uid 1823\n",
      "movieId 54001 got iid 5050\n"
     ]
    }
   ],
   "source": [
    "from collections import defaultdict\n",
    "from itertools import count\n",
    "uid_map = defaultdict(count().__next__)\n",
    "iid_map = defaultdict(count().__next__)\n",
    "uids = np.array([uid_map[uid] for uid in ratings_df[\"user_id\"].values ], dtype=np.int32)\n",
    "iids = np.array([iid_map[iid] for iid in ratings_df[\"book_id\"].values ], dtype=np.int32)\n",
    "\n",
    "uid_rev_map = {v: k for k, v in uid_map.items()}\n",
    "iid_rev_map = {v: k for k, v in iid_map.items()}\n",
    "\n",
    "\n",
    "print(\"userId %d got uid %d\" % (556, uid_map[556]))\n",
    "print(\"movieId %d got iid %d\" % (54001, iid_map[54001]))"
   ]
  },
  {
   "cell_type": "markdown",
   "metadata": {},
   "source": [
    "Interactions refer, to the user-item interactions. Each interaction contains a user-item pair interaction, and it can be added a timestamp, and for explicit models, a rating.\n",
    "\n",
    "After creating the Interactions object I split the data using the random_train_test_split function from the Spotlight library. I firstly split my dataset into train set, test set, validation set. \n",
    "Having in mind that a lightGBM that combines the knowledge extracted from a few baseline models, I split the training set into features and label sets, to use them to formulate the data in order to train the lightGBM model later."
   ]
  },
  {
   "cell_type": "code",
   "execution_count": 8,
   "metadata": {
    "ExecuteTime": {
     "end_time": "2020-09-09T08:29:48.458085Z",
     "start_time": "2020-09-09T08:29:48.441098Z"
    }
   },
   "outputs": [],
   "source": [
    "from spotlight.interactions import Interactions\n",
    "from spotlight.cross_validation import random_train_test_split\n",
    "from spotlight.factorization.implicit import ImplicitFactorizationModel\n",
    "import time  \n",
    "\n",
    "\n",
    "#pecify the ids of the users and items for all the pairs of user-item interactions\n",
    "implicit_interaction = Interactions(user_ids=uids,\n",
    "                                   item_ids=iids)\n",
    "\n",
    "\n",
    "#lets initialise the seed, so that its repeatable and reproducible \n",
    "implicit_train_tmp, implicit_test = random_train_test_split(implicit_interaction, random_state=np.random.seed(42))\n",
    "implicit_train, implicit_val = random_train_test_split(implicit_train_tmp, random_state=np.random.seed(42))\n",
    "implicit_train_features, implicit_train_labels = random_train_test_split(implicit_train, random_state=np.random.seed(42))"
   ]
  },
  {
   "cell_type": "code",
   "execution_count": 9,
   "metadata": {
    "ExecuteTime": {
     "end_time": "2020-09-09T08:29:48.464037Z",
     "start_time": "2020-09-09T08:29:48.460047Z"
    }
   },
   "outputs": [
    {
     "name": "stdout",
     "output_type": "stream",
     "text": [
      "<Interactions dataset (1823 users x 5050 items x 65024 interactions)>\n",
      "<Interactions dataset (1823 users x 5050 items x 20320 interactions)>\n",
      "<Interactions dataset (1823 users x 5050 items x 16256 interactions)>\n",
      "<Interactions dataset (1823 users x 5050 items x 52019 interactions)>\n",
      "<Interactions dataset (1823 users x 5050 items x 13005 interactions)>\n"
     ]
    }
   ],
   "source": [
    "print(implicit_train)\n",
    "print(implicit_test)\n",
    "print(implicit_val)\n",
    "print(implicit_train_features)\n",
    "print(implicit_train_labels)"
   ]
  },
  {
   "cell_type": "markdown",
   "metadata": {},
   "source": [
    "Apart from a Spotlight model, an SVD model is trained, so the conversion of the Interaction objects to dataframes is thought as necessary, as the same data should be used for all the model, to provide fair comparisons."
   ]
  },
  {
   "cell_type": "code",
   "execution_count": 10,
   "metadata": {
    "ExecuteTime": {
     "end_time": "2020-09-09T08:29:48.479005Z",
     "start_time": "2020-09-09T08:29:48.467028Z"
    }
   },
   "outputs": [],
   "source": [
    "def interactionToDataFrame(dataset):\n",
    "    converted_users = []\n",
    "    converted_books = []\n",
    "    rating = []\n",
    "    for i in range(len(dataset.user_ids)):\n",
    "        converted_users.append(uid_rev_map[dataset.user_ids[i]])\n",
    "        converted_books.append(iid_rev_map[dataset.item_ids[i]])\n",
    "        rating.append(float(ratings_df['rating'][(ratings_df['book_id'] == converted_books[i]) & (\n",
    "            ratings_df['user_id'] == converted_users[i])].values))\n",
    "    df = pd.DataFrame({'user_id': converted_users,\n",
    "                       'book_id': converted_books, 'rating': rating})\n",
    "    return df"
   ]
  },
  {
   "cell_type": "code",
   "execution_count": 11,
   "metadata": {
    "ExecuteTime": {
     "end_time": "2020-09-09T08:32:24.259212Z",
     "start_time": "2020-09-09T08:29:48.482987Z"
    }
   },
   "outputs": [],
   "source": [
    "train_df = interactionToDataFrame(implicit_train)\n",
    "val_df = interactionToDataFrame(implicit_val)\n",
    "test_df = interactionToDataFrame(implicit_test)\n",
    "train_features_df = interactionToDataFrame(implicit_train_features)\n",
    "train_labels_df = interactionToDataFrame(implicit_train_labels)"
   ]
  },
  {
   "cell_type": "markdown",
   "metadata": {},
   "source": [
    "## Implicit Factorization model"
   ]
  },
  {
   "cell_type": "markdown",
   "metadata": {},
   "source": [
    "The model form the Spotlight, that is used is the Implicit Factorization model. This is a model used to address implicit feedback from the users. To make it clear, the implicit feedback in a movie platform could be the movie that a user watched but did not gave a rating. Given, that he/ she watched some movies, knowledge can be extracted about his/her preferences, without having ratings."
   ]
  },
  {
   "cell_type": "code",
   "execution_count": 12,
   "metadata": {
    "ExecuteTime": {
     "end_time": "2020-09-09T08:32:53.496995Z",
     "start_time": "2020-09-09T08:32:24.261050Z"
    }
   },
   "outputs": [
    {
     "name": "stdout",
     "output_type": "stream",
     "text": [
      "Epoch 0: loss 0.7867393846821598\n",
      "Epoch 1: loss 0.46553867128421\n",
      "Epoch 2: loss 0.40211350488381126\n",
      "Epoch 3: loss 0.3483975711535281\n",
      "Epoch 4: loss 0.30795419978813865\n",
      "Training took 31 second\n"
     ]
    }
   ],
   "source": [
    "implicit_model = ImplicitFactorizationModel(n_iter=5)\n",
    "\n",
    "current = time.time()\n",
    "\n",
    "implicit_model.fit(implicit_train, verbose=True)\n",
    "\n",
    "end = time.time()\n",
    "diff = end - current\n",
    "print('Training took %d second' % (diff))"
   ]
  },
  {
   "cell_type": "markdown",
   "metadata": {},
   "source": [
    "### Top - K"
   ]
  },
  {
   "cell_type": "markdown",
   "metadata": {},
   "source": [
    "The idea is to provide the top-K(100) recommendations for each user and then evaluate the results using the NDCG evaluation metric. \n",
    "\n",
    "For this purpose on the cell below, the topK recommendations for a user are calculated.\n",
    "\n",
    "The function below, topK_implicit, has been introduced on the lab of the course Recommender Systems."
   ]
  },
  {
   "cell_type": "code",
   "execution_count": 13,
   "metadata": {
    "ExecuteTime": {
     "end_time": "2020-09-09T08:32:53.518936Z",
     "start_time": "2020-09-09T08:32:53.500985Z"
    },
    "cell_style": "split"
   },
   "outputs": [
    {
     "name": "stdout",
     "output_type": "stream",
     "text": [
      "[26, 33, 301, 70, 18, 27, 21, 2, 23, 24, 255, 35, 287, 84, 58, 111, 5, 8, 65, 45, 113, 325, 14, 55, 36, 13, 50, 32, 28, 42, 249, 158, 184, 495, 350, 219, 11, 658, 101, 344, 372, 122, 9, 81, 60, 238, 795, 119, 587, 10, 76, 171, 94, 516, 115, 177, 4, 483, 326, 100, 92, 68, 557, 131, 284, 378, 130, 136, 78, 186, 398, 150, 114, 22, 7, 121, 217, 80, 228, 43, 57, 161, 155, 59, 29, 118, 354, 117, 19, 127, 38, 485, 335, 15, 457, 44, 25, 170, 46, 67]\n"
     ]
    }
   ],
   "source": [
    "import scipy.stats as st\n",
    "k = 100\n",
    "def topK_implicit(user, model, k=100):\n",
    "  a= list()\n",
    "  ranks = st.rankdata(-model.predict(user))   \n",
    "  for iid in np.argwhere(ranks <= k):\n",
    "    a.append(iid_rev_map[iid.item(0)])\n",
    "  return a\n",
    "\n",
    "rec_forUser = topK_implicit(0,implicit_model)\n",
    "print(rec_forUser)"
   ]
  },
  {
   "cell_type": "markdown",
   "metadata": {},
   "source": [
    "The topK recommendations for all users are needed, so the function below returns the topK recommendations for all the users, taking advantage of the function above."
   ]
  },
  {
   "cell_type": "code",
   "execution_count": 14,
   "metadata": {
    "ExecuteTime": {
     "end_time": "2020-09-09T08:32:53.529911Z",
     "start_time": "2020-09-09T08:32:53.522926Z"
    },
    "cell_style": "split"
   },
   "outputs": [],
   "source": [
    "def allUsers_topK_implicit(model):\n",
    "    a = []\n",
    "    for i in range(len(num_users)):\n",
    "       a.append(topK_implicit(i,model))\n",
    "    return a"
   ]
  },
  {
   "cell_type": "markdown",
   "metadata": {},
   "source": [
    "### NDCG Score"
   ]
  },
  {
   "cell_type": "code",
   "execution_count": 15,
   "metadata": {
    "ExecuteTime": {
     "end_time": "2020-09-09T08:32:57.214999Z",
     "start_time": "2020-09-09T08:32:53.533897Z"
    }
   },
   "outputs": [],
   "source": [
    "allUsers_topK_imp = allUsers_topK_implicit(implicit_model)"
   ]
  },
  {
   "cell_type": "markdown",
   "metadata": {},
   "source": [
    "To provide the NDCG value it is necessary to compute the relevance for each user. The relevance containes 0s and 1s, based on which of the topK recommended movies the user has actually watched. For every recommended movie that the user has actually watched, the value of 1 is assigned. \n",
    "\n",
    "The function below returns a list that contains a relevance list for each user."
   ]
  },
  {
   "cell_type": "code",
   "execution_count": 16,
   "metadata": {
    "ExecuteTime": {
     "end_time": "2020-09-09T08:32:57.231955Z",
     "start_time": "2020-09-09T08:32:57.217993Z"
    }
   },
   "outputs": [],
   "source": [
    "def relevance_spotlight_implicit(allUsers_topK):\n",
    "    relevance_implicit_full = []\n",
    "    helper = []\n",
    "    count = 0\n",
    "    for i in range(1,len(num_users)+1):\n",
    "        for j in range(len(allUsers_topK[count])):\n",
    "            if allUsers_topK[count][j] in test_df['book_id'][test_df['user_id'] == i].values.tolist():\n",
    "                helper.append(1)\n",
    "            else:\n",
    "                helper.append(0)\n",
    "        relevance_implicit_full.append(helper)\n",
    "        helper = []\n",
    "        count += 1\n",
    "    return relevance_implicit_full"
   ]
  },
  {
   "cell_type": "markdown",
   "metadata": {},
   "source": [
    "The relevance_implicit_full variable contains the relevance list of each user for the implicit factorization model results."
   ]
  },
  {
   "cell_type": "code",
   "execution_count": 17,
   "metadata": {
    "ExecuteTime": {
     "end_time": "2020-09-09T08:34:25.415592Z",
     "start_time": "2020-09-09T08:32:57.235945Z"
    }
   },
   "outputs": [],
   "source": [
    "relevance_implicit_full = relevance_spotlight_implicit(allUsers_topK_imp)"
   ]
  },
  {
   "cell_type": "markdown",
   "metadata": {},
   "source": [
    "The dcg and ideal_dcg functions are taken form https://github.com/lezzago/LambdaMart/blob/master/lambdamart.py. They are necessary to compute the desired NDCG evaluation metric."
   ]
  },
  {
   "cell_type": "code",
   "execution_count": 18,
   "metadata": {
    "ExecuteTime": {
     "end_time": "2020-09-09T08:34:25.422739Z",
     "start_time": "2020-09-09T08:34:25.417746Z"
    }
   },
   "outputs": [],
   "source": [
    "def dcg(scores):\n",
    "    \"\"\"\n",
    "    Returns the DCG value of the list of scores.\n",
    "    Parameters\n",
    "    ----------\n",
    "    scores : list\n",
    "        Contains labels in a certain ranked order\n",
    "\n",
    "    Returns\n",
    "    -------\n",
    "    DCG_val: int\n",
    "        This is the value of the DCG on the given scores\n",
    "    \"\"\"\n",
    "    return np.sum([\n",
    "                    (np.power(2, scores[i]) - 1) / np.log2(i + 2)\n",
    "                    for i in range(len(scores))\n",
    "                ])"
   ]
  },
  {
   "cell_type": "code",
   "execution_count": 19,
   "metadata": {
    "ExecuteTime": {
     "end_time": "2020-09-09T08:34:25.432267Z",
     "start_time": "2020-09-09T08:34:25.422739Z"
    }
   },
   "outputs": [],
   "source": [
    "def ideal_dcg(scores):\n",
    "    \"\"\"\n",
    "    Returns the Ideal DCG value of the list of scores.\n",
    "    Parameters\n",
    "    ----------\n",
    "    scores : list\n",
    "        Contains labels in a certain ranked order\n",
    "\n",
    "    Returns\n",
    "    -------\n",
    "    Ideal_DCG_val: int\n",
    "        This is the value of the Ideal DCG on the given scores\n",
    "    \"\"\"\n",
    "    scores = [score for score in sorted(scores)[::-1]]\n",
    "    return dcg(scores)"
   ]
  },
  {
   "cell_type": "markdown",
   "metadata": {},
   "source": [
    "The function below, NDCG_forUser, given a relevance list, returns the NDCG value. In simpler words, it returns the NDCG value for a user."
   ]
  },
  {
   "cell_type": "code",
   "execution_count": 20,
   "metadata": {
    "ExecuteTime": {
     "end_time": "2020-09-09T08:34:25.439747Z",
     "start_time": "2020-09-09T08:34:25.432267Z"
    }
   },
   "outputs": [],
   "source": [
    "def NDCG_forUser(relevance):\n",
    "    return dcg(relevance) / ideal_dcg(relevance)"
   ]
  },
  {
   "cell_type": "markdown",
   "metadata": {},
   "source": [
    "The function below, allUsers_ndcg, returns a list that contains the NDCG score for each user."
   ]
  },
  {
   "cell_type": "code",
   "execution_count": 21,
   "metadata": {
    "ExecuteTime": {
     "end_time": "2020-09-09T08:34:25.449277Z",
     "start_time": "2020-09-09T08:34:25.441797Z"
    }
   },
   "outputs": [],
   "source": [
    "def allUsers_ndcg(relevance):\n",
    "    allUsers_implicit_ndcg = []\n",
    "    for i in range(len(num_users)):\n",
    "        allUsers_implicit_ndcg.append(NDCG_forUser(relevance[i]))\n",
    "    return allUsers_implicit_ndcg"
   ]
  },
  {
   "cell_type": "code",
   "execution_count": 22,
   "metadata": {
    "ExecuteTime": {
     "end_time": "2020-09-09T08:34:27.747952Z",
     "start_time": "2020-09-09T08:34:25.451942Z"
    }
   },
   "outputs": [
    {
     "name": "stderr",
     "output_type": "stream",
     "text": [
      "C:\\Users\\papad\\Anaconda3\\lib\\site-packages\\ipykernel_launcher.py:2: RuntimeWarning: invalid value encountered in double_scalars\n",
      "  \n"
     ]
    }
   ],
   "source": [
    "allUsers_implicit_ndcg = allUsers_ndcg(relevance_implicit_full)"
   ]
  },
  {
   "cell_type": "markdown",
   "metadata": {},
   "source": [
    "Fill the nan values with 0s."
   ]
  },
  {
   "cell_type": "code",
   "execution_count": 23,
   "metadata": {
    "ExecuteTime": {
     "end_time": "2020-09-09T08:34:27.758489Z",
     "start_time": "2020-09-09T08:34:27.753496Z"
    }
   },
   "outputs": [],
   "source": [
    "allUsers_implicit_ndcg = pd.Series(allUsers_implicit_ndcg).fillna(0).tolist()"
   ]
  },
  {
   "cell_type": "markdown",
   "metadata": {},
   "source": [
    "Compute the mean value of the NDCG scores."
   ]
  },
  {
   "cell_type": "code",
   "execution_count": 24,
   "metadata": {
    "ExecuteTime": {
     "end_time": "2020-09-09T08:34:27.769419Z",
     "start_time": "2020-09-09T08:34:27.761474Z"
    }
   },
   "outputs": [
    {
     "data": {
      "text/plain": [
       "0.1606677310602764"
      ]
     },
     "execution_count": 24,
     "metadata": {},
     "output_type": "execute_result"
    }
   ],
   "source": [
    "np.array(allUsers_implicit_ndcg).mean()"
   ]
  },
  {
   "cell_type": "markdown",
   "metadata": {},
   "source": [
    "### MRR Score"
   ]
  },
  {
   "cell_type": "code",
   "execution_count": 25,
   "metadata": {
    "ExecuteTime": {
     "end_time": "2020-09-09T07:28:48.014210Z",
     "start_time": "2020-09-09T07:28:48.009223Z"
    }
   },
   "outputs": [],
   "source": [
    "#Calculate reciprocal rank. Where is the first relevant item?\n",
    "def RR_forUsers(relevance):\n",
    "    count = 0\n",
    "    reciprocal_rank_perUser = []\n",
    "    #for each user\n",
    "    first_perUser = 0\n",
    "    for rel in relevance:\n",
    "        #for each item in a relevance list\n",
    "        for r in rel:\n",
    "            count += 1\n",
    "            if r == 1:\n",
    "                #1/position\n",
    "                first_perUser = 1/count\n",
    "                #stop the iteration. Only care about the first relevant item\n",
    "                break\n",
    "        reciprocal_rank_perUser.append(first_perUser)\n",
    "        count = 0\n",
    "    return reciprocal_rank_perUser"
   ]
  },
  {
   "cell_type": "code",
   "execution_count": 26,
   "metadata": {
    "ExecuteTime": {
     "end_time": "2020-09-09T07:28:48.025218Z",
     "start_time": "2020-09-09T07:28:48.017200Z"
    }
   },
   "outputs": [],
   "source": [
    "rr_implicit = RR_forUsers(relevance_implicit_full)"
   ]
  },
  {
   "cell_type": "code",
   "execution_count": 27,
   "metadata": {
    "ExecuteTime": {
     "end_time": "2020-09-09T07:28:48.032160Z",
     "start_time": "2020-09-09T07:28:48.027173Z"
    }
   },
   "outputs": [],
   "source": [
    "def calculate_mrr(rr):    \n",
    "    #or np.array(rr).mean()\n",
    "    return np.array(rr).sum()/len(rr)"
   ]
  },
  {
   "cell_type": "code",
   "execution_count": 28,
   "metadata": {
    "ExecuteTime": {
     "end_time": "2020-09-09T07:28:48.043132Z",
     "start_time": "2020-09-09T07:28:48.036150Z"
    }
   },
   "outputs": [],
   "source": [
    "implicit_mrr = calculate_mrr(rr_implicit)"
   ]
  },
  {
   "cell_type": "code",
   "execution_count": 29,
   "metadata": {
    "ExecuteTime": {
     "end_time": "2020-09-09T07:28:48.055102Z",
     "start_time": "2020-09-09T07:28:48.047121Z"
    }
   },
   "outputs": [
    {
     "data": {
      "text/plain": [
       "0.1828667735353554"
      ]
     },
     "execution_count": 29,
     "metadata": {},
     "output_type": "execute_result"
    }
   ],
   "source": [
    "implicit_mrr"
   ]
  },
  {
   "cell_type": "markdown",
   "metadata": {},
   "source": [
    "### MAP Score"
   ]
  },
  {
   "cell_type": "code",
   "execution_count": 30,
   "metadata": {
    "ExecuteTime": {
     "end_time": "2020-09-09T07:28:48.065072Z",
     "start_time": "2020-09-09T07:28:48.058093Z"
    }
   },
   "outputs": [],
   "source": [
    "#calculate average precision.\n",
    "def calculate_averagePrecision(relevance):\n",
    "    count_positive = 0\n",
    "    positives = []\n",
    "    ap_perUser = []\n",
    "    count = 0\n",
    "    #for each user\n",
    "    for rel in relevance:\n",
    "        #for each item in a relevance list\n",
    "        for r in rel:\n",
    "            count += 1\n",
    "            if r == 1:\n",
    "                count_positive += 1\n",
    "                #First, second, etc. relevant item/ position\n",
    "                positives.append(count_positive/count)\n",
    "        #mean of relevant item/position\n",
    "        ap_perUser.append(np.array(positives).sum()/count_positive)\n",
    "        count_positive = 0\n",
    "        positives = []\n",
    "        count = 0\n",
    "    return ap_perUser"
   ]
  },
  {
   "cell_type": "code",
   "execution_count": 31,
   "metadata": {
    "ExecuteTime": {
     "end_time": "2020-09-09T07:28:48.101975Z",
     "start_time": "2020-09-09T07:28:48.067066Z"
    }
   },
   "outputs": [
    {
     "name": "stderr",
     "output_type": "stream",
     "text": [
      "C:\\Users\\papad\\Anaconda3\\lib\\site-packages\\ipykernel_launcher.py:17: RuntimeWarning: invalid value encountered in double_scalars\n"
     ]
    }
   ],
   "source": [
    "implicit_ap = calculate_averagePrecision(relevance_implicit_full)\n",
    "implicit_ap = pd.Series(implicit_ap).fillna(0).tolist()"
   ]
  },
  {
   "cell_type": "code",
   "execution_count": 32,
   "metadata": {
    "ExecuteTime": {
     "end_time": "2020-09-09T07:28:48.107958Z",
     "start_time": "2020-09-09T07:28:48.104005Z"
    }
   },
   "outputs": [],
   "source": [
    "def calculate_MAP(ap):\n",
    "    #or np.array(ap).mean()\n",
    "    return np.array(ap).sum()/len(ap)"
   ]
  },
  {
   "cell_type": "code",
   "execution_count": 33,
   "metadata": {
    "ExecuteTime": {
     "end_time": "2020-09-09T07:28:48.115969Z",
     "start_time": "2020-09-09T07:28:48.109952Z"
    }
   },
   "outputs": [
    {
     "data": {
      "text/plain": [
       "0.05452826072426923"
      ]
     },
     "execution_count": 33,
     "metadata": {},
     "output_type": "execute_result"
    }
   ],
   "source": [
    "implicit_map = calculate_MAP(implicit_ap)\n",
    "implicit_map"
   ]
  },
  {
   "cell_type": "markdown",
   "metadata": {},
   "source": [
    "# SVD"
   ]
  },
  {
   "cell_type": "markdown",
   "metadata": {},
   "source": [
    "On this section (Section 3), an SVD model is implemented, aiming to provide the top-K recommendations for each user and evaluate the results using the NDCG evaluation metric."
   ]
  },
  {
   "cell_type": "markdown",
   "metadata": {},
   "source": [
    "Pivot is used to have a matrix that has as rows the userIDs and as columns the movieIDs. The unrated, by a user, movies are assigned the value 0 instead of null. Pivot organizes a DataFrame by giving index and column values. It is helpful in the recommender systems approach, as it provides a dataframe in which, it can be seen directly any user-item rating."
   ]
  },
  {
   "cell_type": "code",
   "execution_count": 34,
   "metadata": {
    "ExecuteTime": {
     "end_time": "2020-09-09T08:34:27.969670Z",
     "start_time": "2020-09-09T08:34:27.771413Z"
    }
   },
   "outputs": [],
   "source": [
    "df_book_features = train_df.pivot(\n",
    "    index='user_id',\n",
    "    columns='book_id',\n",
    "    values='rating'\n",
    ").fillna(0)"
   ]
  },
  {
   "cell_type": "code",
   "execution_count": 35,
   "metadata": {
    "ExecuteTime": {
     "end_time": "2020-09-09T08:34:27.998599Z",
     "start_time": "2020-09-09T08:34:27.970635Z"
    }
   },
   "outputs": [
    {
     "data": {
      "text/html": [
       "<div>\n",
       "<style scoped>\n",
       "    .dataframe tbody tr th:only-of-type {\n",
       "        vertical-align: middle;\n",
       "    }\n",
       "\n",
       "    .dataframe tbody tr th {\n",
       "        vertical-align: top;\n",
       "    }\n",
       "\n",
       "    .dataframe thead th {\n",
       "        text-align: right;\n",
       "    }\n",
       "</style>\n",
       "<table border=\"1\" class=\"dataframe\">\n",
       "  <thead>\n",
       "    <tr style=\"text-align: right;\">\n",
       "      <th>book_id</th>\n",
       "      <th>2</th>\n",
       "      <th>3</th>\n",
       "      <th>4</th>\n",
       "      <th>5</th>\n",
       "      <th>7</th>\n",
       "      <th>8</th>\n",
       "      <th>9</th>\n",
       "      <th>10</th>\n",
       "      <th>11</th>\n",
       "      <th>13</th>\n",
       "      <th>...</th>\n",
       "      <th>9981</th>\n",
       "      <th>9984</th>\n",
       "      <th>9985</th>\n",
       "      <th>9988</th>\n",
       "      <th>9990</th>\n",
       "      <th>9991</th>\n",
       "      <th>9995</th>\n",
       "      <th>9997</th>\n",
       "      <th>9998</th>\n",
       "      <th>10000</th>\n",
       "    </tr>\n",
       "    <tr>\n",
       "      <th>user_id</th>\n",
       "      <th></th>\n",
       "      <th></th>\n",
       "      <th></th>\n",
       "      <th></th>\n",
       "      <th></th>\n",
       "      <th></th>\n",
       "      <th></th>\n",
       "      <th></th>\n",
       "      <th></th>\n",
       "      <th></th>\n",
       "      <th></th>\n",
       "      <th></th>\n",
       "      <th></th>\n",
       "      <th></th>\n",
       "      <th></th>\n",
       "      <th></th>\n",
       "      <th></th>\n",
       "      <th></th>\n",
       "      <th></th>\n",
       "      <th></th>\n",
       "      <th></th>\n",
       "    </tr>\n",
       "  </thead>\n",
       "  <tbody>\n",
       "    <tr>\n",
       "      <th>1</th>\n",
       "      <td>0.0</td>\n",
       "      <td>0.0</td>\n",
       "      <td>0.0</td>\n",
       "      <td>0.0</td>\n",
       "      <td>0.0</td>\n",
       "      <td>0.0</td>\n",
       "      <td>0.0</td>\n",
       "      <td>0.0</td>\n",
       "      <td>0.0</td>\n",
       "      <td>0.0</td>\n",
       "      <td>...</td>\n",
       "      <td>0.0</td>\n",
       "      <td>0.0</td>\n",
       "      <td>0.0</td>\n",
       "      <td>0.0</td>\n",
       "      <td>0.0</td>\n",
       "      <td>0.0</td>\n",
       "      <td>0.0</td>\n",
       "      <td>0.0</td>\n",
       "      <td>0.0</td>\n",
       "      <td>0.0</td>\n",
       "    </tr>\n",
       "    <tr>\n",
       "      <th>2</th>\n",
       "      <td>0.0</td>\n",
       "      <td>0.0</td>\n",
       "      <td>0.0</td>\n",
       "      <td>0.0</td>\n",
       "      <td>0.0</td>\n",
       "      <td>0.0</td>\n",
       "      <td>0.0</td>\n",
       "      <td>0.0</td>\n",
       "      <td>0.0</td>\n",
       "      <td>0.0</td>\n",
       "      <td>...</td>\n",
       "      <td>0.0</td>\n",
       "      <td>0.0</td>\n",
       "      <td>0.0</td>\n",
       "      <td>0.0</td>\n",
       "      <td>0.0</td>\n",
       "      <td>0.0</td>\n",
       "      <td>0.0</td>\n",
       "      <td>0.0</td>\n",
       "      <td>0.0</td>\n",
       "      <td>0.0</td>\n",
       "    </tr>\n",
       "    <tr>\n",
       "      <th>3</th>\n",
       "      <td>0.0</td>\n",
       "      <td>0.0</td>\n",
       "      <td>3.0</td>\n",
       "      <td>0.0</td>\n",
       "      <td>0.0</td>\n",
       "      <td>0.0</td>\n",
       "      <td>0.0</td>\n",
       "      <td>0.0</td>\n",
       "      <td>0.0</td>\n",
       "      <td>2.0</td>\n",
       "      <td>...</td>\n",
       "      <td>0.0</td>\n",
       "      <td>0.0</td>\n",
       "      <td>0.0</td>\n",
       "      <td>0.0</td>\n",
       "      <td>0.0</td>\n",
       "      <td>0.0</td>\n",
       "      <td>0.0</td>\n",
       "      <td>0.0</td>\n",
       "      <td>0.0</td>\n",
       "      <td>0.0</td>\n",
       "    </tr>\n",
       "    <tr>\n",
       "      <th>4</th>\n",
       "      <td>5.0</td>\n",
       "      <td>0.0</td>\n",
       "      <td>4.0</td>\n",
       "      <td>4.0</td>\n",
       "      <td>0.0</td>\n",
       "      <td>4.0</td>\n",
       "      <td>0.0</td>\n",
       "      <td>5.0</td>\n",
       "      <td>4.0</td>\n",
       "      <td>0.0</td>\n",
       "      <td>...</td>\n",
       "      <td>0.0</td>\n",
       "      <td>0.0</td>\n",
       "      <td>0.0</td>\n",
       "      <td>0.0</td>\n",
       "      <td>0.0</td>\n",
       "      <td>0.0</td>\n",
       "      <td>0.0</td>\n",
       "      <td>0.0</td>\n",
       "      <td>0.0</td>\n",
       "      <td>0.0</td>\n",
       "    </tr>\n",
       "    <tr>\n",
       "      <th>6</th>\n",
       "      <td>0.0</td>\n",
       "      <td>0.0</td>\n",
       "      <td>0.0</td>\n",
       "      <td>0.0</td>\n",
       "      <td>0.0</td>\n",
       "      <td>0.0</td>\n",
       "      <td>0.0</td>\n",
       "      <td>0.0</td>\n",
       "      <td>0.0</td>\n",
       "      <td>0.0</td>\n",
       "      <td>...</td>\n",
       "      <td>0.0</td>\n",
       "      <td>0.0</td>\n",
       "      <td>0.0</td>\n",
       "      <td>0.0</td>\n",
       "      <td>0.0</td>\n",
       "      <td>0.0</td>\n",
       "      <td>0.0</td>\n",
       "      <td>0.0</td>\n",
       "      <td>0.0</td>\n",
       "      <td>0.0</td>\n",
       "    </tr>\n",
       "    <tr>\n",
       "      <th>...</th>\n",
       "      <td>...</td>\n",
       "      <td>...</td>\n",
       "      <td>...</td>\n",
       "      <td>...</td>\n",
       "      <td>...</td>\n",
       "      <td>...</td>\n",
       "      <td>...</td>\n",
       "      <td>...</td>\n",
       "      <td>...</td>\n",
       "      <td>...</td>\n",
       "      <td>...</td>\n",
       "      <td>...</td>\n",
       "      <td>...</td>\n",
       "      <td>...</td>\n",
       "      <td>...</td>\n",
       "      <td>...</td>\n",
       "      <td>...</td>\n",
       "      <td>...</td>\n",
       "      <td>...</td>\n",
       "      <td>...</td>\n",
       "      <td>...</td>\n",
       "    </tr>\n",
       "    <tr>\n",
       "      <th>2995</th>\n",
       "      <td>1.0</td>\n",
       "      <td>5.0</td>\n",
       "      <td>0.0</td>\n",
       "      <td>0.0</td>\n",
       "      <td>0.0</td>\n",
       "      <td>0.0</td>\n",
       "      <td>3.0</td>\n",
       "      <td>0.0</td>\n",
       "      <td>0.0</td>\n",
       "      <td>0.0</td>\n",
       "      <td>...</td>\n",
       "      <td>0.0</td>\n",
       "      <td>0.0</td>\n",
       "      <td>0.0</td>\n",
       "      <td>0.0</td>\n",
       "      <td>0.0</td>\n",
       "      <td>0.0</td>\n",
       "      <td>0.0</td>\n",
       "      <td>0.0</td>\n",
       "      <td>0.0</td>\n",
       "      <td>0.0</td>\n",
       "    </tr>\n",
       "    <tr>\n",
       "      <th>2996</th>\n",
       "      <td>5.0</td>\n",
       "      <td>0.0</td>\n",
       "      <td>0.0</td>\n",
       "      <td>0.0</td>\n",
       "      <td>0.0</td>\n",
       "      <td>0.0</td>\n",
       "      <td>5.0</td>\n",
       "      <td>3.0</td>\n",
       "      <td>0.0</td>\n",
       "      <td>3.0</td>\n",
       "      <td>...</td>\n",
       "      <td>0.0</td>\n",
       "      <td>0.0</td>\n",
       "      <td>0.0</td>\n",
       "      <td>0.0</td>\n",
       "      <td>0.0</td>\n",
       "      <td>0.0</td>\n",
       "      <td>0.0</td>\n",
       "      <td>0.0</td>\n",
       "      <td>0.0</td>\n",
       "      <td>0.0</td>\n",
       "    </tr>\n",
       "    <tr>\n",
       "      <th>2998</th>\n",
       "      <td>0.0</td>\n",
       "      <td>0.0</td>\n",
       "      <td>0.0</td>\n",
       "      <td>0.0</td>\n",
       "      <td>0.0</td>\n",
       "      <td>0.0</td>\n",
       "      <td>0.0</td>\n",
       "      <td>0.0</td>\n",
       "      <td>0.0</td>\n",
       "      <td>0.0</td>\n",
       "      <td>...</td>\n",
       "      <td>0.0</td>\n",
       "      <td>0.0</td>\n",
       "      <td>0.0</td>\n",
       "      <td>0.0</td>\n",
       "      <td>0.0</td>\n",
       "      <td>0.0</td>\n",
       "      <td>0.0</td>\n",
       "      <td>0.0</td>\n",
       "      <td>0.0</td>\n",
       "      <td>0.0</td>\n",
       "    </tr>\n",
       "    <tr>\n",
       "      <th>3000</th>\n",
       "      <td>0.0</td>\n",
       "      <td>0.0</td>\n",
       "      <td>0.0</td>\n",
       "      <td>0.0</td>\n",
       "      <td>0.0</td>\n",
       "      <td>0.0</td>\n",
       "      <td>0.0</td>\n",
       "      <td>0.0</td>\n",
       "      <td>0.0</td>\n",
       "      <td>0.0</td>\n",
       "      <td>...</td>\n",
       "      <td>0.0</td>\n",
       "      <td>0.0</td>\n",
       "      <td>0.0</td>\n",
       "      <td>0.0</td>\n",
       "      <td>0.0</td>\n",
       "      <td>0.0</td>\n",
       "      <td>0.0</td>\n",
       "      <td>0.0</td>\n",
       "      <td>0.0</td>\n",
       "      <td>0.0</td>\n",
       "    </tr>\n",
       "    <tr>\n",
       "      <th>3004</th>\n",
       "      <td>5.0</td>\n",
       "      <td>0.0</td>\n",
       "      <td>0.0</td>\n",
       "      <td>0.0</td>\n",
       "      <td>0.0</td>\n",
       "      <td>0.0</td>\n",
       "      <td>0.0</td>\n",
       "      <td>0.0</td>\n",
       "      <td>0.0</td>\n",
       "      <td>0.0</td>\n",
       "      <td>...</td>\n",
       "      <td>0.0</td>\n",
       "      <td>0.0</td>\n",
       "      <td>0.0</td>\n",
       "      <td>0.0</td>\n",
       "      <td>0.0</td>\n",
       "      <td>0.0</td>\n",
       "      <td>0.0</td>\n",
       "      <td>0.0</td>\n",
       "      <td>0.0</td>\n",
       "      <td>0.0</td>\n",
       "    </tr>\n",
       "  </tbody>\n",
       "</table>\n",
       "<p>1805 rows × 4706 columns</p>\n",
       "</div>"
      ],
      "text/plain": [
       "book_id  2      3      4      5      7      8      9      10     11     13     \\\n",
       "user_id                                                                         \n",
       "1          0.0    0.0    0.0    0.0    0.0    0.0    0.0    0.0    0.0    0.0   \n",
       "2          0.0    0.0    0.0    0.0    0.0    0.0    0.0    0.0    0.0    0.0   \n",
       "3          0.0    0.0    3.0    0.0    0.0    0.0    0.0    0.0    0.0    2.0   \n",
       "4          5.0    0.0    4.0    4.0    0.0    4.0    0.0    5.0    4.0    0.0   \n",
       "6          0.0    0.0    0.0    0.0    0.0    0.0    0.0    0.0    0.0    0.0   \n",
       "...        ...    ...    ...    ...    ...    ...    ...    ...    ...    ...   \n",
       "2995       1.0    5.0    0.0    0.0    0.0    0.0    3.0    0.0    0.0    0.0   \n",
       "2996       5.0    0.0    0.0    0.0    0.0    0.0    5.0    3.0    0.0    3.0   \n",
       "2998       0.0    0.0    0.0    0.0    0.0    0.0    0.0    0.0    0.0    0.0   \n",
       "3000       0.0    0.0    0.0    0.0    0.0    0.0    0.0    0.0    0.0    0.0   \n",
       "3004       5.0    0.0    0.0    0.0    0.0    0.0    0.0    0.0    0.0    0.0   \n",
       "\n",
       "book_id  ...  9981   9984   9985   9988   9990   9991   9995   9997   9998   \\\n",
       "user_id  ...                                                                  \n",
       "1        ...    0.0    0.0    0.0    0.0    0.0    0.0    0.0    0.0    0.0   \n",
       "2        ...    0.0    0.0    0.0    0.0    0.0    0.0    0.0    0.0    0.0   \n",
       "3        ...    0.0    0.0    0.0    0.0    0.0    0.0    0.0    0.0    0.0   \n",
       "4        ...    0.0    0.0    0.0    0.0    0.0    0.0    0.0    0.0    0.0   \n",
       "6        ...    0.0    0.0    0.0    0.0    0.0    0.0    0.0    0.0    0.0   \n",
       "...      ...    ...    ...    ...    ...    ...    ...    ...    ...    ...   \n",
       "2995     ...    0.0    0.0    0.0    0.0    0.0    0.0    0.0    0.0    0.0   \n",
       "2996     ...    0.0    0.0    0.0    0.0    0.0    0.0    0.0    0.0    0.0   \n",
       "2998     ...    0.0    0.0    0.0    0.0    0.0    0.0    0.0    0.0    0.0   \n",
       "3000     ...    0.0    0.0    0.0    0.0    0.0    0.0    0.0    0.0    0.0   \n",
       "3004     ...    0.0    0.0    0.0    0.0    0.0    0.0    0.0    0.0    0.0   \n",
       "\n",
       "book_id  10000  \n",
       "user_id         \n",
       "1          0.0  \n",
       "2          0.0  \n",
       "3          0.0  \n",
       "4          0.0  \n",
       "6          0.0  \n",
       "...        ...  \n",
       "2995       0.0  \n",
       "2996       0.0  \n",
       "2998       0.0  \n",
       "3000       0.0  \n",
       "3004       0.0  \n",
       "\n",
       "[1805 rows x 4706 columns]"
      ]
     },
     "execution_count": 35,
     "metadata": {},
     "output_type": "execute_result"
    }
   ],
   "source": [
    "df_book_features"
   ]
  },
  {
   "cell_type": "markdown",
   "metadata": {},
   "source": [
    "## SVD implementation"
   ]
  },
  {
   "cell_type": "code",
   "execution_count": 36,
   "metadata": {
    "ExecuteTime": {
     "end_time": "2020-09-09T08:34:28.482725Z",
     "start_time": "2020-09-09T08:34:28.000558Z"
    }
   },
   "outputs": [],
   "source": [
    "from scipy.sparse.linalg import svds\n",
    "U, sigma, Vt = svds(df_book_features)"
   ]
  },
  {
   "cell_type": "markdown",
   "metadata": {},
   "source": [
    "## Predictions"
   ]
  },
  {
   "cell_type": "markdown",
   "metadata": {},
   "source": [
    "To get the prediction of a rating of an item dj, we can calculate the dot product of the two vectors.\n",
    "The sigma variable has just the values, so I have to convert to a diagonal matrix in orded to implement the matrix multiplication."
   ]
  },
  {
   "cell_type": "code",
   "execution_count": 37,
   "metadata": {
    "ExecuteTime": {
     "end_time": "2020-09-09T08:34:28.558076Z",
     "start_time": "2020-09-09T08:34:28.485187Z"
    }
   },
   "outputs": [],
   "source": [
    "sigma = np.diag(sigma)\n",
    "svd_predictions_score = np.dot(np.dot(U, sigma), Vt)\n",
    "svd_predictions_score_df = pd.DataFrame(svd_predictions_score, columns = df_book_features.columns)\n"
   ]
  },
  {
   "cell_type": "code",
   "execution_count": 38,
   "metadata": {
    "ExecuteTime": {
     "end_time": "2020-09-09T08:34:28.613480Z",
     "start_time": "2020-09-09T08:34:28.560038Z"
    }
   },
   "outputs": [
    {
     "data": {
      "text/html": [
       "<div>\n",
       "<style scoped>\n",
       "    .dataframe tbody tr th:only-of-type {\n",
       "        vertical-align: middle;\n",
       "    }\n",
       "\n",
       "    .dataframe tbody tr th {\n",
       "        vertical-align: top;\n",
       "    }\n",
       "\n",
       "    .dataframe thead th {\n",
       "        text-align: right;\n",
       "    }\n",
       "</style>\n",
       "<table border=\"1\" class=\"dataframe\">\n",
       "  <thead>\n",
       "    <tr style=\"text-align: right;\">\n",
       "      <th>book_id</th>\n",
       "      <th>2</th>\n",
       "      <th>3</th>\n",
       "      <th>4</th>\n",
       "      <th>5</th>\n",
       "      <th>7</th>\n",
       "      <th>8</th>\n",
       "      <th>9</th>\n",
       "      <th>10</th>\n",
       "      <th>11</th>\n",
       "      <th>13</th>\n",
       "      <th>...</th>\n",
       "      <th>9981</th>\n",
       "      <th>9984</th>\n",
       "      <th>9985</th>\n",
       "      <th>9988</th>\n",
       "      <th>9990</th>\n",
       "      <th>9991</th>\n",
       "      <th>9995</th>\n",
       "      <th>9997</th>\n",
       "      <th>9998</th>\n",
       "      <th>10000</th>\n",
       "    </tr>\n",
       "  </thead>\n",
       "  <tbody>\n",
       "    <tr>\n",
       "      <th>0</th>\n",
       "      <td>-1.714901e-03</td>\n",
       "      <td>1.215575e-04</td>\n",
       "      <td>-3.784375e-03</td>\n",
       "      <td>3.443688e-03</td>\n",
       "      <td>-3.939518e-03</td>\n",
       "      <td>3.197004e-03</td>\n",
       "      <td>-6.412489e-03</td>\n",
       "      <td>2.883366e-03</td>\n",
       "      <td>2.624190e-03</td>\n",
       "      <td>6.574947e-04</td>\n",
       "      <td>...</td>\n",
       "      <td>-9.970195e-05</td>\n",
       "      <td>-2.618302e-05</td>\n",
       "      <td>-1.182617e-04</td>\n",
       "      <td>-4.813396e-05</td>\n",
       "      <td>3.251818e-04</td>\n",
       "      <td>5.365072e-04</td>\n",
       "      <td>-1.062902e-04</td>\n",
       "      <td>2.135709e-05</td>\n",
       "      <td>3.665985e-05</td>\n",
       "      <td>-1.159335e-04</td>\n",
       "    </tr>\n",
       "    <tr>\n",
       "      <th>1</th>\n",
       "      <td>1.845206e-01</td>\n",
       "      <td>2.049052e-02</td>\n",
       "      <td>5.402305e-01</td>\n",
       "      <td>3.668301e-01</td>\n",
       "      <td>6.588254e-02</td>\n",
       "      <td>2.706324e-01</td>\n",
       "      <td>4.546532e-01</td>\n",
       "      <td>2.596974e-01</td>\n",
       "      <td>6.882387e-01</td>\n",
       "      <td>8.672763e-02</td>\n",
       "      <td>...</td>\n",
       "      <td>5.283505e-03</td>\n",
       "      <td>8.544035e-04</td>\n",
       "      <td>2.145540e-03</td>\n",
       "      <td>6.206460e-04</td>\n",
       "      <td>-7.288590e-04</td>\n",
       "      <td>2.055434e-03</td>\n",
       "      <td>3.437636e-03</td>\n",
       "      <td>-1.497639e-03</td>\n",
       "      <td>-2.067276e-03</td>\n",
       "      <td>2.497192e-03</td>\n",
       "    </tr>\n",
       "    <tr>\n",
       "      <th>2</th>\n",
       "      <td>3.858824e-02</td>\n",
       "      <td>4.184528e-03</td>\n",
       "      <td>7.357355e-01</td>\n",
       "      <td>6.389618e-01</td>\n",
       "      <td>3.038125e-01</td>\n",
       "      <td>6.718963e-01</td>\n",
       "      <td>1.800304e-01</td>\n",
       "      <td>4.049813e-01</td>\n",
       "      <td>2.514332e-01</td>\n",
       "      <td>5.312598e-01</td>\n",
       "      <td>...</td>\n",
       "      <td>3.209888e-03</td>\n",
       "      <td>1.254914e-03</td>\n",
       "      <td>2.826666e-04</td>\n",
       "      <td>1.069873e-02</td>\n",
       "      <td>7.905426e-04</td>\n",
       "      <td>1.146772e-02</td>\n",
       "      <td>1.085957e-02</td>\n",
       "      <td>1.787829e-03</td>\n",
       "      <td>2.203760e-03</td>\n",
       "      <td>7.642004e-03</td>\n",
       "    </tr>\n",
       "    <tr>\n",
       "      <th>3</th>\n",
       "      <td>3.582741e+00</td>\n",
       "      <td>2.195288e-01</td>\n",
       "      <td>3.163711e+00</td>\n",
       "      <td>2.652613e+00</td>\n",
       "      <td>1.708479e+00</td>\n",
       "      <td>2.408267e+00</td>\n",
       "      <td>1.664894e+00</td>\n",
       "      <td>2.387558e+00</td>\n",
       "      <td>1.553215e+00</td>\n",
       "      <td>1.949136e+00</td>\n",
       "      <td>...</td>\n",
       "      <td>1.792970e-02</td>\n",
       "      <td>3.348778e-03</td>\n",
       "      <td>1.024907e-02</td>\n",
       "      <td>2.526156e-02</td>\n",
       "      <td>-6.822548e-03</td>\n",
       "      <td>3.118388e-02</td>\n",
       "      <td>3.214809e-02</td>\n",
       "      <td>1.533192e-03</td>\n",
       "      <td>2.503057e-03</td>\n",
       "      <td>1.758384e-02</td>\n",
       "    </tr>\n",
       "    <tr>\n",
       "      <th>4</th>\n",
       "      <td>-6.186907e-17</td>\n",
       "      <td>-7.814040e-19</td>\n",
       "      <td>-5.142970e-17</td>\n",
       "      <td>-3.621171e-17</td>\n",
       "      <td>-6.938045e-17</td>\n",
       "      <td>-7.140410e-17</td>\n",
       "      <td>-1.127844e-17</td>\n",
       "      <td>-1.203244e-17</td>\n",
       "      <td>1.188742e-18</td>\n",
       "      <td>-8.006518e-17</td>\n",
       "      <td>...</td>\n",
       "      <td>1.622784e-19</td>\n",
       "      <td>1.840553e-21</td>\n",
       "      <td>-3.678623e-19</td>\n",
       "      <td>-1.367362e-18</td>\n",
       "      <td>-2.129330e-19</td>\n",
       "      <td>5.865715e-20</td>\n",
       "      <td>-1.769882e-19</td>\n",
       "      <td>-2.366450e-19</td>\n",
       "      <td>-2.754279e-19</td>\n",
       "      <td>-1.494404e-18</td>\n",
       "    </tr>\n",
       "    <tr>\n",
       "      <th>...</th>\n",
       "      <td>...</td>\n",
       "      <td>...</td>\n",
       "      <td>...</td>\n",
       "      <td>...</td>\n",
       "      <td>...</td>\n",
       "      <td>...</td>\n",
       "      <td>...</td>\n",
       "      <td>...</td>\n",
       "      <td>...</td>\n",
       "      <td>...</td>\n",
       "      <td>...</td>\n",
       "      <td>...</td>\n",
       "      <td>...</td>\n",
       "      <td>...</td>\n",
       "      <td>...</td>\n",
       "      <td>...</td>\n",
       "      <td>...</td>\n",
       "      <td>...</td>\n",
       "      <td>...</td>\n",
       "      <td>...</td>\n",
       "      <td>...</td>\n",
       "    </tr>\n",
       "    <tr>\n",
       "      <th>1800</th>\n",
       "      <td>2.189988e+00</td>\n",
       "      <td>1.199031e-01</td>\n",
       "      <td>3.877836e-01</td>\n",
       "      <td>3.062871e-01</td>\n",
       "      <td>1.827993e-01</td>\n",
       "      <td>-5.381448e-02</td>\n",
       "      <td>6.147459e-01</td>\n",
       "      <td>6.234350e-01</td>\n",
       "      <td>2.549936e-01</td>\n",
       "      <td>-8.694499e-03</td>\n",
       "      <td>...</td>\n",
       "      <td>5.736662e-03</td>\n",
       "      <td>-6.174308e-04</td>\n",
       "      <td>5.739633e-03</td>\n",
       "      <td>-7.393718e-03</td>\n",
       "      <td>-1.285378e-02</td>\n",
       "      <td>-9.347094e-03</td>\n",
       "      <td>-3.160116e-03</td>\n",
       "      <td>-3.553395e-03</td>\n",
       "      <td>-4.171631e-03</td>\n",
       "      <td>-3.410775e-03</td>\n",
       "    </tr>\n",
       "    <tr>\n",
       "      <th>1801</th>\n",
       "      <td>3.089146e+00</td>\n",
       "      <td>1.239018e-01</td>\n",
       "      <td>1.540623e+00</td>\n",
       "      <td>8.946599e-01</td>\n",
       "      <td>1.479798e+00</td>\n",
       "      <td>1.140228e+00</td>\n",
       "      <td>1.152468e+00</td>\n",
       "      <td>7.474185e-01</td>\n",
       "      <td>4.553886e-01</td>\n",
       "      <td>1.325050e+00</td>\n",
       "      <td>...</td>\n",
       "      <td>7.836667e-03</td>\n",
       "      <td>6.196484e-04</td>\n",
       "      <td>1.612972e-02</td>\n",
       "      <td>1.762671e-02</td>\n",
       "      <td>-1.822335e-02</td>\n",
       "      <td>-2.633840e-02</td>\n",
       "      <td>4.544058e-03</td>\n",
       "      <td>-6.669086e-04</td>\n",
       "      <td>-1.355283e-03</td>\n",
       "      <td>2.652066e-02</td>\n",
       "    </tr>\n",
       "    <tr>\n",
       "      <th>1802</th>\n",
       "      <td>6.490578e-02</td>\n",
       "      <td>1.545460e-02</td>\n",
       "      <td>7.043176e-01</td>\n",
       "      <td>8.349777e-01</td>\n",
       "      <td>1.956146e-01</td>\n",
       "      <td>1.058020e+00</td>\n",
       "      <td>2.899179e-01</td>\n",
       "      <td>3.597657e-01</td>\n",
       "      <td>1.534942e+00</td>\n",
       "      <td>6.117508e-01</td>\n",
       "      <td>...</td>\n",
       "      <td>-2.203006e-03</td>\n",
       "      <td>-1.038647e-03</td>\n",
       "      <td>-3.021055e-03</td>\n",
       "      <td>4.931797e-03</td>\n",
       "      <td>3.089203e-02</td>\n",
       "      <td>4.058547e-02</td>\n",
       "      <td>-7.659890e-03</td>\n",
       "      <td>2.372366e-04</td>\n",
       "      <td>3.132019e-04</td>\n",
       "      <td>7.011052e-03</td>\n",
       "    </tr>\n",
       "    <tr>\n",
       "      <th>1803</th>\n",
       "      <td>-7.136772e-03</td>\n",
       "      <td>1.183635e-03</td>\n",
       "      <td>2.992666e-03</td>\n",
       "      <td>7.644987e-06</td>\n",
       "      <td>-4.466118e-03</td>\n",
       "      <td>-1.452245e-03</td>\n",
       "      <td>2.020400e-02</td>\n",
       "      <td>8.710841e-04</td>\n",
       "      <td>5.542319e-02</td>\n",
       "      <td>-1.491002e-02</td>\n",
       "      <td>...</td>\n",
       "      <td>8.088281e-05</td>\n",
       "      <td>-9.271159e-06</td>\n",
       "      <td>-4.239476e-06</td>\n",
       "      <td>-4.756597e-04</td>\n",
       "      <td>6.667653e-04</td>\n",
       "      <td>4.656600e-04</td>\n",
       "      <td>-3.177350e-04</td>\n",
       "      <td>-1.348962e-04</td>\n",
       "      <td>-1.663891e-04</td>\n",
       "      <td>-3.880456e-04</td>\n",
       "    </tr>\n",
       "    <tr>\n",
       "      <th>1804</th>\n",
       "      <td>2.303564e+00</td>\n",
       "      <td>9.723626e-02</td>\n",
       "      <td>-5.508571e-02</td>\n",
       "      <td>-8.781545e-01</td>\n",
       "      <td>1.826183e+00</td>\n",
       "      <td>-3.916586e-03</td>\n",
       "      <td>9.382516e-01</td>\n",
       "      <td>-5.467207e-01</td>\n",
       "      <td>3.102166e-01</td>\n",
       "      <td>5.124500e-01</td>\n",
       "      <td>...</td>\n",
       "      <td>-3.280142e-03</td>\n",
       "      <td>-1.085032e-03</td>\n",
       "      <td>1.931059e-02</td>\n",
       "      <td>2.637818e-04</td>\n",
       "      <td>-3.425520e-03</td>\n",
       "      <td>-5.744195e-02</td>\n",
       "      <td>-1.630948e-02</td>\n",
       "      <td>-1.722935e-03</td>\n",
       "      <td>-2.585577e-03</td>\n",
       "      <td>1.052657e-02</td>\n",
       "    </tr>\n",
       "  </tbody>\n",
       "</table>\n",
       "<p>1805 rows × 4706 columns</p>\n",
       "</div>"
      ],
      "text/plain": [
       "book_id         2             3             4             5             7      \\\n",
       "0       -1.714901e-03  1.215575e-04 -3.784375e-03  3.443688e-03 -3.939518e-03   \n",
       "1        1.845206e-01  2.049052e-02  5.402305e-01  3.668301e-01  6.588254e-02   \n",
       "2        3.858824e-02  4.184528e-03  7.357355e-01  6.389618e-01  3.038125e-01   \n",
       "3        3.582741e+00  2.195288e-01  3.163711e+00  2.652613e+00  1.708479e+00   \n",
       "4       -6.186907e-17 -7.814040e-19 -5.142970e-17 -3.621171e-17 -6.938045e-17   \n",
       "...               ...           ...           ...           ...           ...   \n",
       "1800     2.189988e+00  1.199031e-01  3.877836e-01  3.062871e-01  1.827993e-01   \n",
       "1801     3.089146e+00  1.239018e-01  1.540623e+00  8.946599e-01  1.479798e+00   \n",
       "1802     6.490578e-02  1.545460e-02  7.043176e-01  8.349777e-01  1.956146e-01   \n",
       "1803    -7.136772e-03  1.183635e-03  2.992666e-03  7.644987e-06 -4.466118e-03   \n",
       "1804     2.303564e+00  9.723626e-02 -5.508571e-02 -8.781545e-01  1.826183e+00   \n",
       "\n",
       "book_id         8             9             10            11            13     \\\n",
       "0        3.197004e-03 -6.412489e-03  2.883366e-03  2.624190e-03  6.574947e-04   \n",
       "1        2.706324e-01  4.546532e-01  2.596974e-01  6.882387e-01  8.672763e-02   \n",
       "2        6.718963e-01  1.800304e-01  4.049813e-01  2.514332e-01  5.312598e-01   \n",
       "3        2.408267e+00  1.664894e+00  2.387558e+00  1.553215e+00  1.949136e+00   \n",
       "4       -7.140410e-17 -1.127844e-17 -1.203244e-17  1.188742e-18 -8.006518e-17   \n",
       "...               ...           ...           ...           ...           ...   \n",
       "1800    -5.381448e-02  6.147459e-01  6.234350e-01  2.549936e-01 -8.694499e-03   \n",
       "1801     1.140228e+00  1.152468e+00  7.474185e-01  4.553886e-01  1.325050e+00   \n",
       "1802     1.058020e+00  2.899179e-01  3.597657e-01  1.534942e+00  6.117508e-01   \n",
       "1803    -1.452245e-03  2.020400e-02  8.710841e-04  5.542319e-02 -1.491002e-02   \n",
       "1804    -3.916586e-03  9.382516e-01 -5.467207e-01  3.102166e-01  5.124500e-01   \n",
       "\n",
       "book_id  ...         9981          9984          9985          9988   \\\n",
       "0        ... -9.970195e-05 -2.618302e-05 -1.182617e-04 -4.813396e-05   \n",
       "1        ...  5.283505e-03  8.544035e-04  2.145540e-03  6.206460e-04   \n",
       "2        ...  3.209888e-03  1.254914e-03  2.826666e-04  1.069873e-02   \n",
       "3        ...  1.792970e-02  3.348778e-03  1.024907e-02  2.526156e-02   \n",
       "4        ...  1.622784e-19  1.840553e-21 -3.678623e-19 -1.367362e-18   \n",
       "...      ...           ...           ...           ...           ...   \n",
       "1800     ...  5.736662e-03 -6.174308e-04  5.739633e-03 -7.393718e-03   \n",
       "1801     ...  7.836667e-03  6.196484e-04  1.612972e-02  1.762671e-02   \n",
       "1802     ... -2.203006e-03 -1.038647e-03 -3.021055e-03  4.931797e-03   \n",
       "1803     ...  8.088281e-05 -9.271159e-06 -4.239476e-06 -4.756597e-04   \n",
       "1804     ... -3.280142e-03 -1.085032e-03  1.931059e-02  2.637818e-04   \n",
       "\n",
       "book_id         9990          9991          9995          9997          9998   \\\n",
       "0        3.251818e-04  5.365072e-04 -1.062902e-04  2.135709e-05  3.665985e-05   \n",
       "1       -7.288590e-04  2.055434e-03  3.437636e-03 -1.497639e-03 -2.067276e-03   \n",
       "2        7.905426e-04  1.146772e-02  1.085957e-02  1.787829e-03  2.203760e-03   \n",
       "3       -6.822548e-03  3.118388e-02  3.214809e-02  1.533192e-03  2.503057e-03   \n",
       "4       -2.129330e-19  5.865715e-20 -1.769882e-19 -2.366450e-19 -2.754279e-19   \n",
       "...               ...           ...           ...           ...           ...   \n",
       "1800    -1.285378e-02 -9.347094e-03 -3.160116e-03 -3.553395e-03 -4.171631e-03   \n",
       "1801    -1.822335e-02 -2.633840e-02  4.544058e-03 -6.669086e-04 -1.355283e-03   \n",
       "1802     3.089203e-02  4.058547e-02 -7.659890e-03  2.372366e-04  3.132019e-04   \n",
       "1803     6.667653e-04  4.656600e-04 -3.177350e-04 -1.348962e-04 -1.663891e-04   \n",
       "1804    -3.425520e-03 -5.744195e-02 -1.630948e-02 -1.722935e-03 -2.585577e-03   \n",
       "\n",
       "book_id         10000  \n",
       "0       -1.159335e-04  \n",
       "1        2.497192e-03  \n",
       "2        7.642004e-03  \n",
       "3        1.758384e-02  \n",
       "4       -1.494404e-18  \n",
       "...               ...  \n",
       "1800    -3.410775e-03  \n",
       "1801     2.652066e-02  \n",
       "1802     7.011052e-03  \n",
       "1803    -3.880456e-04  \n",
       "1804     1.052657e-02  \n",
       "\n",
       "[1805 rows x 4706 columns]"
      ]
     },
     "execution_count": 38,
     "metadata": {},
     "output_type": "execute_result"
    }
   ],
   "source": [
    "svd_predictions_score_df"
   ]
  },
  {
   "cell_type": "code",
   "execution_count": 39,
   "metadata": {
    "ExecuteTime": {
     "end_time": "2020-09-09T08:34:28.643138Z",
     "start_time": "2020-09-09T08:34:28.615633Z"
    }
   },
   "outputs": [
    {
     "data": {
      "text/html": [
       "<div>\n",
       "<style scoped>\n",
       "    .dataframe tbody tr th:only-of-type {\n",
       "        vertical-align: middle;\n",
       "    }\n",
       "\n",
       "    .dataframe tbody tr th {\n",
       "        vertical-align: top;\n",
       "    }\n",
       "\n",
       "    .dataframe thead th {\n",
       "        text-align: right;\n",
       "    }\n",
       "</style>\n",
       "<table border=\"1\" class=\"dataframe\">\n",
       "  <thead>\n",
       "    <tr style=\"text-align: right;\">\n",
       "      <th>book_id</th>\n",
       "      <th>2</th>\n",
       "      <th>3</th>\n",
       "      <th>4</th>\n",
       "      <th>5</th>\n",
       "      <th>7</th>\n",
       "      <th>8</th>\n",
       "      <th>9</th>\n",
       "      <th>10</th>\n",
       "      <th>11</th>\n",
       "      <th>13</th>\n",
       "      <th>...</th>\n",
       "      <th>9981</th>\n",
       "      <th>9984</th>\n",
       "      <th>9985</th>\n",
       "      <th>9988</th>\n",
       "      <th>9990</th>\n",
       "      <th>9991</th>\n",
       "      <th>9995</th>\n",
       "      <th>9997</th>\n",
       "      <th>9998</th>\n",
       "      <th>10000</th>\n",
       "    </tr>\n",
       "  </thead>\n",
       "  <tbody>\n",
       "    <tr>\n",
       "      <th>1137</th>\n",
       "      <td>1.652007</td>\n",
       "      <td>0.079335</td>\n",
       "      <td>0.787275</td>\n",
       "      <td>0.795693</td>\n",
       "      <td>0.432822</td>\n",
       "      <td>0.775529</td>\n",
       "      <td>0.436242</td>\n",
       "      <td>0.658725</td>\n",
       "      <td>0.605262</td>\n",
       "      <td>0.667633</td>\n",
       "      <td>...</td>\n",
       "      <td>0.001694</td>\n",
       "      <td>-0.000835</td>\n",
       "      <td>0.00281</td>\n",
       "      <td>0.005437</td>\n",
       "      <td>0.004378</td>\n",
       "      <td>0.014053</td>\n",
       "      <td>-0.002693</td>\n",
       "      <td>-0.000455</td>\n",
       "      <td>-0.000442</td>\n",
       "      <td>0.008502</td>\n",
       "    </tr>\n",
       "  </tbody>\n",
       "</table>\n",
       "<p>1 rows × 4706 columns</p>\n",
       "</div>"
      ],
      "text/plain": [
       "book_id     2         3         4         5         7         8         9      \\\n",
       "1137     1.652007  0.079335  0.787275  0.795693  0.432822  0.775529  0.436242   \n",
       "\n",
       "book_id     10        11        13     ...     9981      9984     9985   \\\n",
       "1137     0.658725  0.605262  0.667633  ...  0.001694 -0.000835  0.00281   \n",
       "\n",
       "book_id     9988      9990      9991      9995      9997      9998      10000  \n",
       "1137     0.005437  0.004378  0.014053 -0.002693 -0.000455 -0.000442  0.008502  \n",
       "\n",
       "[1 rows x 4706 columns]"
      ]
     },
     "execution_count": 39,
     "metadata": {},
     "output_type": "execute_result"
    }
   ],
   "source": [
    "svd_predictions_score_df[svd_predictions_score_df.index == 1137]"
   ]
  },
  {
   "cell_type": "markdown",
   "metadata": {},
   "source": [
    "## Top-K recommendations"
   ]
  },
  {
   "cell_type": "markdown",
   "metadata": {},
   "source": [
    "The function below returns a list that contains the top-100 recommendations for each user"
   ]
  },
  {
   "cell_type": "code",
   "execution_count": 40,
   "metadata": {
    "ExecuteTime": {
     "end_time": "2020-09-09T08:34:28.656028Z",
     "start_time": "2020-09-09T08:34:28.645634Z"
    }
   },
   "outputs": [],
   "source": [
    "def SVD_topK_first(score_df):\n",
    "    topK_svd_rec = []\n",
    "    c = 0\n",
    "    for i in range(len(svd_predictions_score_df)):\n",
    "        svd_h_df = pd.DataFrame({'book_id': score_df[score_df.index == i].columns,\n",
    "                                 'score': score_df[score_df.index == i].values[0]})\n",
    "        svd_h_df = svd_h_df.sort_values('score', ascending=False)\n",
    "        svd_h_df = svd_h_df.head(100)\n",
    "        topK_svd_rec.append(svd_h_df['book_id'].values)\n",
    "    return topK_svd_rec"
   ]
  },
  {
   "cell_type": "markdown",
   "metadata": {},
   "source": [
    "## NDCG Score"
   ]
  },
  {
   "cell_type": "markdown",
   "metadata": {},
   "source": [
    "The function below returns the relevance list of a list of movies."
   ]
  },
  {
   "cell_type": "code",
   "execution_count": 41,
   "metadata": {
    "ExecuteTime": {
     "end_time": "2020-09-09T08:34:28.672798Z",
     "start_time": "2020-09-09T08:34:28.658055Z"
    }
   },
   "outputs": [],
   "source": [
    "def SVD_relevance_first(score_df):\n",
    "    svd_topK = SVD_topK_first(score_df)\n",
    "    relevance_svd_full = []\n",
    "    helper = []\n",
    "    count = 0\n",
    "    for i in range(1,len(svd_predictions_score_df)+1):\n",
    "        for j in range(len(svd_topK[count])):\n",
    "            if svd_topK[count][j] in test_df['book_id'][test_df['user_id'] == i].values.tolist():\n",
    "                helper.append(1)\n",
    "            else:\n",
    "                helper.append(0)\n",
    "        relevance_svd_full.append(helper)\n",
    "        helper = []\n",
    "        count += 1\n",
    "    return relevance_svd_full"
   ]
  },
  {
   "cell_type": "code",
   "execution_count": 42,
   "metadata": {
    "ExecuteTime": {
     "end_time": "2020-09-09T08:36:04.810413Z",
     "start_time": "2020-09-09T08:34:28.675293Z"
    }
   },
   "outputs": [],
   "source": [
    "relevance_first = SVD_relevance_first(svd_predictions_score_df)"
   ]
  },
  {
   "cell_type": "code",
   "execution_count": 43,
   "metadata": {
    "ExecuteTime": {
     "end_time": "2020-09-09T08:36:04.836342Z",
     "start_time": "2020-09-09T08:36:04.814402Z"
    }
   },
   "outputs": [
    {
     "data": {
      "text/plain": [
       "(1805, 100)"
      ]
     },
     "execution_count": 43,
     "metadata": {},
     "output_type": "execute_result"
    }
   ],
   "source": [
    "np.asarray(relevance_first).shape"
   ]
  },
  {
   "cell_type": "code",
   "execution_count": 44,
   "metadata": {
    "ExecuteTime": {
     "end_time": "2020-09-09T08:36:04.856292Z",
     "start_time": "2020-09-09T08:36:04.841329Z"
    }
   },
   "outputs": [],
   "source": [
    "n_f = NDCG_forUser(relevance_first[0])"
   ]
  },
  {
   "cell_type": "code",
   "execution_count": 45,
   "metadata": {
    "ExecuteTime": {
     "end_time": "2020-09-09T08:36:04.872246Z",
     "start_time": "2020-09-09T08:36:04.862274Z"
    }
   },
   "outputs": [
    {
     "data": {
      "text/plain": [
       "0.19271668197307076"
      ]
     },
     "execution_count": 45,
     "metadata": {},
     "output_type": "execute_result"
    }
   ],
   "source": [
    "n_f"
   ]
  },
  {
   "cell_type": "markdown",
   "metadata": {},
   "source": [
    "Below is the NDCG scores of each user"
   ]
  },
  {
   "cell_type": "code",
   "execution_count": 46,
   "metadata": {
    "ExecuteTime": {
     "end_time": "2020-09-09T08:36:07.563126Z",
     "start_time": "2020-09-09T08:36:04.875239Z"
    }
   },
   "outputs": [
    {
     "name": "stderr",
     "output_type": "stream",
     "text": [
      "C:\\Users\\papad\\Anaconda3\\lib\\site-packages\\ipykernel_launcher.py:2: RuntimeWarning: invalid value encountered in double_scalars\n",
      "  \n"
     ]
    }
   ],
   "source": [
    "def allUsers_ndcg_svd(relevance):\n",
    "    allUsers_implicit_ndcg = []\n",
    "    for i in range(len(svd_predictions_score_df)):\n",
    "        allUsers_implicit_ndcg.append(NDCG_forUser(relevance[i]))\n",
    "    return allUsers_implicit_ndcg\n",
    "all_ndcg_f = allUsers_ndcg_svd(relevance_first)"
   ]
  },
  {
   "cell_type": "code",
   "execution_count": 47,
   "metadata": {
    "ExecuteTime": {
     "end_time": "2020-09-09T08:36:07.571110Z",
     "start_time": "2020-09-09T08:36:07.566121Z"
    }
   },
   "outputs": [],
   "source": [
    "all_ndcg_f = pd.Series(all_ndcg_f).fillna(0).tolist()"
   ]
  },
  {
   "cell_type": "code",
   "execution_count": 48,
   "metadata": {
    "ExecuteTime": {
     "end_time": "2020-09-09T08:36:07.583078Z",
     "start_time": "2020-09-09T08:36:07.573104Z"
    }
   },
   "outputs": [
    {
     "data": {
      "text/plain": [
       "0.15446558092324822"
      ]
     },
     "execution_count": 48,
     "metadata": {},
     "output_type": "execute_result"
    }
   ],
   "source": [
    "np.asarray(all_ndcg_f).mean()"
   ]
  },
  {
   "cell_type": "markdown",
   "metadata": {},
   "source": [
    "## MRR Score"
   ]
  },
  {
   "cell_type": "code",
   "execution_count": 49,
   "metadata": {
    "ExecuteTime": {
     "end_time": "2020-09-09T07:31:06.286040Z",
     "start_time": "2020-09-09T07:31:06.276030Z"
    }
   },
   "outputs": [
    {
     "data": {
      "text/plain": [
       "0.1818898492629772"
      ]
     },
     "execution_count": 49,
     "metadata": {},
     "output_type": "execute_result"
    }
   ],
   "source": [
    "svd_rr = RR_forUsers(relevance_first)\n",
    "svd_mrr = calculate_mrr(svd_rr)\n",
    "svd_mrr"
   ]
  },
  {
   "cell_type": "markdown",
   "metadata": {},
   "source": [
    "## MAP Score"
   ]
  },
  {
   "cell_type": "code",
   "execution_count": 50,
   "metadata": {
    "ExecuteTime": {
     "end_time": "2020-09-09T07:31:06.322903Z",
     "start_time": "2020-09-09T07:31:06.287993Z"
    }
   },
   "outputs": [
    {
     "name": "stderr",
     "output_type": "stream",
     "text": [
      "C:\\Users\\papad\\Anaconda3\\lib\\site-packages\\ipykernel_launcher.py:17: RuntimeWarning: invalid value encountered in double_scalars\n"
     ]
    },
    {
     "data": {
      "text/plain": [
       "0.05281206366121188"
      ]
     },
     "execution_count": 50,
     "metadata": {},
     "output_type": "execute_result"
    }
   ],
   "source": [
    "svd_ap = calculate_averagePrecision(relevance_first)\n",
    "svd_ap = pd.Series(svd_ap).fillna(0).tolist()\n",
    "svd_map = calculate_MAP(svd_ap)\n",
    "svd_map"
   ]
  },
  {
   "cell_type": "markdown",
   "metadata": {},
   "source": [
    "# Feature engineering"
   ]
  },
  {
   "cell_type": "markdown",
   "metadata": {},
   "source": [
    "##  Feature 1 (Implicit factorization model scores)"
   ]
  },
  {
   "cell_type": "markdown",
   "metadata": {},
   "source": [
    "Train an implicit factorization model using the train_features dataset"
   ]
  },
  {
   "cell_type": "code",
   "execution_count": 51,
   "metadata": {
    "ExecuteTime": {
     "end_time": "2020-09-09T08:36:35.097884Z",
     "start_time": "2020-09-09T08:36:07.586069Z"
    }
   },
   "outputs": [
    {
     "name": "stdout",
     "output_type": "stream",
     "text": [
      "Epoch 0: loss 0.844803140443914\n",
      "Epoch 1: loss 0.49322137411902933\n",
      "Epoch 2: loss 0.4191049173766491\n",
      "Epoch 3: loss 0.3634341267101905\n",
      "Epoch 4: loss 0.31827477782088165\n",
      "Training took 24 second\n"
     ]
    }
   ],
   "source": [
    "f1_model = ImplicitFactorizationModel(n_iter = 5)\n",
    "\n",
    "current = time.time()\n",
    "\n",
    "f1_model.fit(implicit_train_features,verbose = True)\n",
    "\n",
    "end = time.time()\n",
    "diff = end - current\n",
    "print('Training took %d second'%(diff))"
   ]
  },
  {
   "cell_type": "markdown",
   "metadata": {},
   "source": [
    "### Target Movies"
   ]
  },
  {
   "cell_type": "code",
   "execution_count": 52,
   "metadata": {
    "ExecuteTime": {
     "end_time": "2020-09-09T08:36:35.116888Z",
     "start_time": "2020-09-09T08:36:35.101873Z"
    }
   },
   "outputs": [],
   "source": [
    "def getImplicitTop():\n",
    "    moviePerUser = []\n",
    "    rev = []\n",
    "    for user in range(len(num_users)):\n",
    "        pred = f1_model.predict(user)\n",
    "        #sort by score in descending order oscer\n",
    "        predMovieId = np.argsort(-pred)\n",
    "        #keep top 100\n",
    "        predMovieId = predMovieId[:100]\n",
    "        #reverse the mapping to get the original movieIDs\n",
    "        for movie in predMovieId:\n",
    "            rev.append(iid_rev_map[movie])\n",
    "        moviePerUser.append(rev)\n",
    "        rev = []\n",
    "    return moviePerUser"
   ]
  },
  {
   "cell_type": "code",
   "execution_count": 53,
   "metadata": {
    "ExecuteTime": {
     "end_time": "2020-09-09T08:36:38.662248Z",
     "start_time": "2020-09-09T08:36:35.121875Z"
    }
   },
   "outputs": [],
   "source": [
    "target_positive = getImplicitTop()"
   ]
  },
  {
   "cell_type": "markdown",
   "metadata": {},
   "source": [
    "Add negative samples to the target movies"
   ]
  },
  {
   "cell_type": "code",
   "execution_count": 54,
   "metadata": {
    "ExecuteTime": {
     "end_time": "2020-09-09T08:36:38.679203Z",
     "start_time": "2020-09-09T08:36:38.665243Z"
    }
   },
   "outputs": [
    {
     "data": {
      "text/plain": [
       "1805"
      ]
     },
     "execution_count": 54,
     "metadata": {},
     "output_type": "execute_result"
    }
   ],
   "source": [
    "len(train_df['user_id'].unique())"
   ]
  },
  {
   "cell_type": "code",
   "execution_count": 55,
   "metadata": {
    "ExecuteTime": {
     "end_time": "2020-09-09T08:36:38.786074Z",
     "start_time": "2020-09-09T08:36:38.682199Z"
    }
   },
   "outputs": [],
   "source": [
    "import random\n",
    "target_negative = []\n",
    "for i in range(1,len(num_users)+1):\n",
    "    #get 50 random movieIDs for each user\n",
    "    target_negative.append(random.choices(train_features_df['book_id'].values, k = 50))"
   ]
  },
  {
   "cell_type": "code",
   "execution_count": 56,
   "metadata": {
    "ExecuteTime": {
     "end_time": "2020-09-09T08:36:38.806934Z",
     "start_time": "2020-09-09T08:36:38.790980Z"
    }
   },
   "outputs": [],
   "source": [
    "target_movies = []\n",
    "for i in range(len(num_users)):\n",
    "    target_movies.append(target_positive[i] + target_negative[i])"
   ]
  },
  {
   "cell_type": "markdown",
   "metadata": {},
   "source": [
    "Map the target movies to pick the correct predictions based on the item id"
   ]
  },
  {
   "cell_type": "code",
   "execution_count": 57,
   "metadata": {
    "ExecuteTime": {
     "end_time": "2020-09-09T08:36:38.820900Z",
     "start_time": "2020-09-09T08:36:38.809927Z"
    }
   },
   "outputs": [],
   "source": [
    "def map_movies(target_movies):\n",
    "    map_target_movies = []\n",
    "    map_help = []\n",
    "    for movies in target_movies:\n",
    "        for movie in movies:\n",
    "            map_help.append(iid_map[movie])\n",
    "        map_target_movies.append(map_help)\n",
    "        map_help = []\n",
    "    return map_target_movies"
   ]
  },
  {
   "cell_type": "markdown",
   "metadata": {},
   "source": [
    "Implicit Factorization model Scores"
   ]
  },
  {
   "cell_type": "markdown",
   "metadata": {},
   "source": [
    "Train implicit on implicit_features_train! and take these scores."
   ]
  },
  {
   "cell_type": "code",
   "execution_count": 58,
   "metadata": {
    "ExecuteTime": {
     "end_time": "2020-09-09T08:36:38.839846Z",
     "start_time": "2020-09-09T08:36:38.824887Z"
    }
   },
   "outputs": [],
   "source": [
    "def give_movies_implicit_scores(map_movies):\n",
    "    implicit_scores = 0\n",
    "    feature = []\n",
    "    for i in range(len(num_users)):\n",
    "        #for movies in map_target_movies:\n",
    "        my_list = map_movies[i]\n",
    "        my_array = np.array(my_list)\n",
    "        implicit_scores = f1_model.predict(user_ids = i,item_ids = my_array)\n",
    "        feature.append(implicit_scores)\n",
    "    return feature"
   ]
  },
  {
   "cell_type": "code",
   "execution_count": 59,
   "metadata": {
    "ExecuteTime": {
     "end_time": "2020-09-09T08:36:39.496126Z",
     "start_time": "2020-09-09T08:36:38.842839Z"
    }
   },
   "outputs": [
    {
     "data": {
      "text/plain": [
       "(1823, 150)"
      ]
     },
     "execution_count": 59,
     "metadata": {},
     "output_type": "execute_result"
    }
   ],
   "source": [
    "map_target_movies = map_movies(target_movies)\n",
    "feature1 = give_movies_implicit_scores(map_target_movies)\n",
    "feature1 = np.asarray(feature1)\n",
    "feature1.shape"
   ]
  },
  {
   "cell_type": "code",
   "execution_count": 60,
   "metadata": {
    "ExecuteTime": {
     "end_time": "2020-09-09T08:36:39.508093Z",
     "start_time": "2020-09-09T08:36:39.497088Z"
    }
   },
   "outputs": [
    {
     "data": {
      "text/plain": [
       "array([ 5.7252107 ,  5.463154  ,  5.3625426 ,  5.2988486 ,  5.2024007 ,\n",
       "        5.1950197 ,  5.181392  ,  5.1166663 ,  5.0921307 ,  5.0090494 ,\n",
       "        4.943444  ,  4.933306  ,  4.9086337 ,  4.8967314 ,  4.8740783 ,\n",
       "        4.8738894 ,  4.867943  ,  4.853584  ,  4.8298182 ,  4.8093824 ,\n",
       "        4.8084803 ,  4.789267  ,  4.742272  ,  4.7388964 ,  4.7267437 ,\n",
       "        4.7245817 ,  4.7147336 ,  4.6966    ,  4.6939993 ,  4.6892467 ,\n",
       "        4.6745224 ,  4.6740704 ,  4.6652994 ,  4.636307  ,  4.6350555 ,\n",
       "        4.631917  ,  4.614517  ,  4.6036577 ,  4.6024575 ,  4.5977716 ,\n",
       "        4.588028  ,  4.5773554 ,  4.573977  ,  4.5606613 ,  4.556697  ,\n",
       "        4.5555725 ,  4.52922   ,  4.519529  ,  4.5115204 ,  4.5095925 ,\n",
       "        4.5060353 ,  4.504498  ,  4.4972725 ,  4.4899745 ,  4.4782844 ,\n",
       "        4.4598026 ,  4.4561143 ,  4.45506   ,  4.447013  ,  4.442402  ,\n",
       "        4.428132  ,  4.420966  ,  4.417607  ,  4.417477  ,  4.4174476 ,\n",
       "        4.4094987 ,  4.399986  ,  4.398423  ,  4.3931866 ,  4.390126  ,\n",
       "        4.3834863 ,  4.3629217 ,  4.362113  ,  4.354373  ,  4.3510995 ,\n",
       "        4.3385677 ,  4.3277736 ,  4.32353   ,  4.3150735 ,  4.309185  ,\n",
       "        4.3035803 ,  4.3011646 ,  4.2979517 ,  4.2932086 ,  4.2693024 ,\n",
       "        4.258859  ,  4.256849  ,  4.248495  ,  4.2212067 ,  4.195789  ,\n",
       "        4.194024  ,  4.1860056 ,  4.151937  ,  4.144277  ,  4.1353602 ,\n",
       "        4.1308455 ,  4.117955  ,  4.105797  ,  4.0755672 ,  4.0741267 ,\n",
       "        2.552938  , -0.53688884, -0.98611873,  3.4159255 ,  4.399986  ,\n",
       "       -1.9761004 ,  1.2931323 ,  3.4558089 , -2.1165125 , -2.6681666 ,\n",
       "        4.354373  , -2.3965888 ,  4.8298182 ,  2.3393419 ,  4.4094987 ,\n",
       "        3.3192093 , -3.9280624 ,  3.4256163 ,  4.631917  , -1.5598472 ,\n",
       "        1.0660179 , -0.99777293,  4.519529  ,  4.399986  , -1.3663464 ,\n",
       "        2.2361326 ,  4.5060353 ,  4.5115204 ,  1.8183914 ,  3.523253  ,\n",
       "        3.4409256 , -1.838428  , -1.3757173 ,  2.8131318 ,  3.9701624 ,\n",
       "       -1.0487256 , -2.2582035 , -0.20773953,  1.97423   ,  1.3963823 ,\n",
       "        3.8878114 ,  2.3458614 ,  3.4182587 , -3.2979352 ,  5.181392  ,\n",
       "       -3.8670423 ,  3.9709995 , -2.47569   ,  3.5786757 , -3.0066833 ],\n",
       "      dtype=float32)"
      ]
     },
     "execution_count": 60,
     "metadata": {},
     "output_type": "execute_result"
    }
   ],
   "source": [
    "feature1[0]"
   ]
  },
  {
   "cell_type": "markdown",
   "metadata": {},
   "source": [
    "## Feature 2 (Rank)"
   ]
  },
  {
   "cell_type": "code",
   "execution_count": 61,
   "metadata": {
    "ExecuteTime": {
     "end_time": "2020-09-09T08:38:56.884182Z",
     "start_time": "2020-09-09T08:36:39.510058Z"
    }
   },
   "outputs": [],
   "source": [
    "feature2 = []\n",
    "for i in range(len(num_users)):\n",
    "    feature2 = (st.rankdata(-f1_model.predict(i)))\n",
    "    feature2 = feature2[map_target_movies]\n",
    "    feature2.sort()"
   ]
  },
  {
   "cell_type": "code",
   "execution_count": 62,
   "metadata": {
    "ExecuteTime": {
     "end_time": "2020-09-09T08:38:56.901137Z",
     "start_time": "2020-09-09T08:38:56.887174Z"
    }
   },
   "outputs": [
    {
     "data": {
      "text/plain": [
       "(1823, 150)"
      ]
     },
     "execution_count": 62,
     "metadata": {},
     "output_type": "execute_result"
    }
   ],
   "source": [
    "np.array(feature2).shape"
   ]
  },
  {
   "cell_type": "code",
   "execution_count": 63,
   "metadata": {
    "ExecuteTime": {
     "end_time": "2020-09-09T08:38:56.918091Z",
     "start_time": "2020-09-09T08:38:56.905126Z"
    }
   },
   "outputs": [
    {
     "data": {
      "text/plain": [
       "array([1.000e+00, 2.000e+00, 3.000e+00, 4.000e+00, 5.000e+00, 6.000e+00,\n",
       "       8.000e+00, 9.000e+00, 1.000e+01, 1.100e+01, 1.200e+01, 1.300e+01,\n",
       "       1.500e+01, 1.600e+01, 1.700e+01, 1.800e+01, 1.800e+01, 1.900e+01,\n",
       "       2.100e+01, 2.200e+01, 2.300e+01, 2.400e+01, 2.500e+01, 2.500e+01,\n",
       "       2.600e+01, 2.800e+01, 3.000e+01, 3.200e+01, 3.300e+01, 3.600e+01,\n",
       "       3.700e+01, 3.700e+01, 3.700e+01, 4.000e+01, 4.100e+01, 4.200e+01,\n",
       "       4.200e+01, 4.500e+01, 4.600e+01, 4.700e+01, 5.100e+01, 5.200e+01,\n",
       "       5.500e+01, 5.600e+01, 5.700e+01, 6.000e+01, 6.000e+01, 6.100e+01,\n",
       "       6.300e+01, 6.400e+01, 6.500e+01, 6.700e+01, 7.100e+01, 7.300e+01,\n",
       "       8.500e+01, 8.900e+01, 9.600e+01, 9.900e+01, 1.000e+02, 1.010e+02,\n",
       "       1.090e+02, 1.100e+02, 1.120e+02, 1.150e+02, 1.210e+02, 1.220e+02,\n",
       "       1.250e+02, 1.260e+02, 1.270e+02, 1.290e+02, 1.400e+02, 1.440e+02,\n",
       "       1.520e+02, 1.520e+02, 1.540e+02, 1.590e+02, 1.640e+02, 1.650e+02,\n",
       "       1.680e+02, 1.700e+02, 1.740e+02, 1.900e+02, 1.910e+02, 1.940e+02,\n",
       "       2.010e+02, 2.020e+02, 2.160e+02, 2.190e+02, 2.190e+02, 2.260e+02,\n",
       "       2.260e+02, 2.320e+02, 2.320e+02, 2.330e+02, 2.380e+02, 2.410e+02,\n",
       "       2.490e+02, 2.520e+02, 2.550e+02, 2.600e+02, 2.700e+02, 2.710e+02,\n",
       "       2.750e+02, 2.810e+02, 2.840e+02, 2.940e+02, 2.970e+02, 3.150e+02,\n",
       "       3.250e+02, 3.400e+02, 3.460e+02, 3.570e+02, 3.610e+02, 3.640e+02,\n",
       "       3.680e+02, 3.740e+02, 3.760e+02, 3.860e+02, 3.940e+02, 3.950e+02,\n",
       "       3.980e+02, 4.070e+02, 4.160e+02, 4.350e+02, 4.750e+02, 4.780e+02,\n",
       "       5.300e+02, 5.380e+02, 5.690e+02, 6.040e+02, 6.110e+02, 6.360e+02,\n",
       "       7.030e+02, 1.024e+03, 1.095e+03, 1.136e+03, 1.400e+03, 1.552e+03,\n",
       "       1.614e+03, 1.723e+03, 1.865e+03, 1.942e+03, 2.021e+03, 2.071e+03,\n",
       "       2.106e+03, 2.518e+03, 2.830e+03, 3.063e+03, 4.131e+03, 4.530e+03])"
      ]
     },
     "execution_count": 63,
     "metadata": {},
     "output_type": "execute_result"
    }
   ],
   "source": [
    "feature2[0]"
   ]
  },
  {
   "cell_type": "markdown",
   "metadata": {},
   "source": [
    "## Feature 3 (SVD scores)"
   ]
  },
  {
   "cell_type": "markdown",
   "metadata": {},
   "source": [
    "SVD model Scores. Take advantage of the DataFrame containing the scores to extract the predicted scores for the desired movies."
   ]
  },
  {
   "cell_type": "code",
   "execution_count": 64,
   "metadata": {
    "ExecuteTime": {
     "end_time": "2020-09-09T08:38:57.260739Z",
     "start_time": "2020-09-09T08:38:56.922081Z"
    }
   },
   "outputs": [],
   "source": [
    "df_movie_features1 = train_features_df.pivot(\n",
    "    index='user_id',\n",
    "    columns='book_id',\n",
    "    values='rating'\n",
    ").fillna(0)"
   ]
  },
  {
   "cell_type": "code",
   "execution_count": 72,
   "metadata": {},
   "outputs": [
    {
     "data": {
      "text/plain": [
       "1792"
      ]
     },
     "execution_count": 72,
     "metadata": {},
     "output_type": "execute_result"
    }
   ],
   "source": [
    "len(df_movie_features1)"
   ]
  },
  {
   "cell_type": "code",
   "execution_count": 65,
   "metadata": {},
   "outputs": [
    {
     "data": {
      "text/html": [
       "<div>\n",
       "<style scoped>\n",
       "    .dataframe tbody tr th:only-of-type {\n",
       "        vertical-align: middle;\n",
       "    }\n",
       "\n",
       "    .dataframe tbody tr th {\n",
       "        vertical-align: top;\n",
       "    }\n",
       "\n",
       "    .dataframe thead th {\n",
       "        text-align: right;\n",
       "    }\n",
       "</style>\n",
       "<table border=\"1\" class=\"dataframe\">\n",
       "  <thead>\n",
       "    <tr style=\"text-align: right;\">\n",
       "      <th>book_id</th>\n",
       "      <th>2</th>\n",
       "      <th>3</th>\n",
       "      <th>4</th>\n",
       "      <th>5</th>\n",
       "      <th>7</th>\n",
       "      <th>8</th>\n",
       "      <th>9</th>\n",
       "      <th>10</th>\n",
       "      <th>11</th>\n",
       "      <th>13</th>\n",
       "      <th>...</th>\n",
       "      <th>9981</th>\n",
       "      <th>9984</th>\n",
       "      <th>9985</th>\n",
       "      <th>9988</th>\n",
       "      <th>9990</th>\n",
       "      <th>9991</th>\n",
       "      <th>9995</th>\n",
       "      <th>9997</th>\n",
       "      <th>9998</th>\n",
       "      <th>10000</th>\n",
       "    </tr>\n",
       "    <tr>\n",
       "      <th>user_id</th>\n",
       "      <th></th>\n",
       "      <th></th>\n",
       "      <th></th>\n",
       "      <th></th>\n",
       "      <th></th>\n",
       "      <th></th>\n",
       "      <th></th>\n",
       "      <th></th>\n",
       "      <th></th>\n",
       "      <th></th>\n",
       "      <th></th>\n",
       "      <th></th>\n",
       "      <th></th>\n",
       "      <th></th>\n",
       "      <th></th>\n",
       "      <th></th>\n",
       "      <th></th>\n",
       "      <th></th>\n",
       "      <th></th>\n",
       "      <th></th>\n",
       "      <th></th>\n",
       "    </tr>\n",
       "  </thead>\n",
       "  <tbody>\n",
       "    <tr>\n",
       "      <th>1</th>\n",
       "      <td>0.0</td>\n",
       "      <td>0.0</td>\n",
       "      <td>0.0</td>\n",
       "      <td>0.0</td>\n",
       "      <td>0.0</td>\n",
       "      <td>0.0</td>\n",
       "      <td>0.0</td>\n",
       "      <td>0.0</td>\n",
       "      <td>0.0</td>\n",
       "      <td>0.0</td>\n",
       "      <td>...</td>\n",
       "      <td>0.0</td>\n",
       "      <td>0.0</td>\n",
       "      <td>0.0</td>\n",
       "      <td>0.0</td>\n",
       "      <td>0.0</td>\n",
       "      <td>0.0</td>\n",
       "      <td>0.0</td>\n",
       "      <td>0.0</td>\n",
       "      <td>0.0</td>\n",
       "      <td>0.0</td>\n",
       "    </tr>\n",
       "    <tr>\n",
       "      <th>2</th>\n",
       "      <td>0.0</td>\n",
       "      <td>0.0</td>\n",
       "      <td>0.0</td>\n",
       "      <td>0.0</td>\n",
       "      <td>0.0</td>\n",
       "      <td>0.0</td>\n",
       "      <td>0.0</td>\n",
       "      <td>0.0</td>\n",
       "      <td>0.0</td>\n",
       "      <td>0.0</td>\n",
       "      <td>...</td>\n",
       "      <td>0.0</td>\n",
       "      <td>0.0</td>\n",
       "      <td>0.0</td>\n",
       "      <td>0.0</td>\n",
       "      <td>0.0</td>\n",
       "      <td>0.0</td>\n",
       "      <td>0.0</td>\n",
       "      <td>0.0</td>\n",
       "      <td>0.0</td>\n",
       "      <td>0.0</td>\n",
       "    </tr>\n",
       "    <tr>\n",
       "      <th>3</th>\n",
       "      <td>0.0</td>\n",
       "      <td>0.0</td>\n",
       "      <td>3.0</td>\n",
       "      <td>0.0</td>\n",
       "      <td>0.0</td>\n",
       "      <td>0.0</td>\n",
       "      <td>0.0</td>\n",
       "      <td>0.0</td>\n",
       "      <td>0.0</td>\n",
       "      <td>2.0</td>\n",
       "      <td>...</td>\n",
       "      <td>0.0</td>\n",
       "      <td>0.0</td>\n",
       "      <td>0.0</td>\n",
       "      <td>0.0</td>\n",
       "      <td>0.0</td>\n",
       "      <td>0.0</td>\n",
       "      <td>0.0</td>\n",
       "      <td>0.0</td>\n",
       "      <td>0.0</td>\n",
       "      <td>0.0</td>\n",
       "    </tr>\n",
       "    <tr>\n",
       "      <th>4</th>\n",
       "      <td>5.0</td>\n",
       "      <td>0.0</td>\n",
       "      <td>4.0</td>\n",
       "      <td>4.0</td>\n",
       "      <td>0.0</td>\n",
       "      <td>4.0</td>\n",
       "      <td>0.0</td>\n",
       "      <td>5.0</td>\n",
       "      <td>4.0</td>\n",
       "      <td>0.0</td>\n",
       "      <td>...</td>\n",
       "      <td>0.0</td>\n",
       "      <td>0.0</td>\n",
       "      <td>0.0</td>\n",
       "      <td>0.0</td>\n",
       "      <td>0.0</td>\n",
       "      <td>0.0</td>\n",
       "      <td>0.0</td>\n",
       "      <td>0.0</td>\n",
       "      <td>0.0</td>\n",
       "      <td>0.0</td>\n",
       "    </tr>\n",
       "    <tr>\n",
       "      <th>6</th>\n",
       "      <td>0.0</td>\n",
       "      <td>0.0</td>\n",
       "      <td>0.0</td>\n",
       "      <td>0.0</td>\n",
       "      <td>0.0</td>\n",
       "      <td>0.0</td>\n",
       "      <td>0.0</td>\n",
       "      <td>0.0</td>\n",
       "      <td>0.0</td>\n",
       "      <td>0.0</td>\n",
       "      <td>...</td>\n",
       "      <td>0.0</td>\n",
       "      <td>0.0</td>\n",
       "      <td>0.0</td>\n",
       "      <td>0.0</td>\n",
       "      <td>0.0</td>\n",
       "      <td>0.0</td>\n",
       "      <td>0.0</td>\n",
       "      <td>0.0</td>\n",
       "      <td>0.0</td>\n",
       "      <td>0.0</td>\n",
       "    </tr>\n",
       "    <tr>\n",
       "      <th>...</th>\n",
       "      <td>...</td>\n",
       "      <td>...</td>\n",
       "      <td>...</td>\n",
       "      <td>...</td>\n",
       "      <td>...</td>\n",
       "      <td>...</td>\n",
       "      <td>...</td>\n",
       "      <td>...</td>\n",
       "      <td>...</td>\n",
       "      <td>...</td>\n",
       "      <td>...</td>\n",
       "      <td>...</td>\n",
       "      <td>...</td>\n",
       "      <td>...</td>\n",
       "      <td>...</td>\n",
       "      <td>...</td>\n",
       "      <td>...</td>\n",
       "      <td>...</td>\n",
       "      <td>...</td>\n",
       "      <td>...</td>\n",
       "      <td>...</td>\n",
       "    </tr>\n",
       "    <tr>\n",
       "      <th>2992</th>\n",
       "      <td>0.0</td>\n",
       "      <td>0.0</td>\n",
       "      <td>0.0</td>\n",
       "      <td>0.0</td>\n",
       "      <td>0.0</td>\n",
       "      <td>0.0</td>\n",
       "      <td>0.0</td>\n",
       "      <td>0.0</td>\n",
       "      <td>0.0</td>\n",
       "      <td>0.0</td>\n",
       "      <td>...</td>\n",
       "      <td>0.0</td>\n",
       "      <td>0.0</td>\n",
       "      <td>0.0</td>\n",
       "      <td>0.0</td>\n",
       "      <td>0.0</td>\n",
       "      <td>0.0</td>\n",
       "      <td>0.0</td>\n",
       "      <td>0.0</td>\n",
       "      <td>0.0</td>\n",
       "      <td>0.0</td>\n",
       "    </tr>\n",
       "    <tr>\n",
       "      <th>2995</th>\n",
       "      <td>1.0</td>\n",
       "      <td>5.0</td>\n",
       "      <td>0.0</td>\n",
       "      <td>0.0</td>\n",
       "      <td>0.0</td>\n",
       "      <td>0.0</td>\n",
       "      <td>0.0</td>\n",
       "      <td>0.0</td>\n",
       "      <td>0.0</td>\n",
       "      <td>0.0</td>\n",
       "      <td>...</td>\n",
       "      <td>0.0</td>\n",
       "      <td>0.0</td>\n",
       "      <td>0.0</td>\n",
       "      <td>0.0</td>\n",
       "      <td>0.0</td>\n",
       "      <td>0.0</td>\n",
       "      <td>0.0</td>\n",
       "      <td>0.0</td>\n",
       "      <td>0.0</td>\n",
       "      <td>0.0</td>\n",
       "    </tr>\n",
       "    <tr>\n",
       "      <th>2996</th>\n",
       "      <td>5.0</td>\n",
       "      <td>0.0</td>\n",
       "      <td>0.0</td>\n",
       "      <td>0.0</td>\n",
       "      <td>0.0</td>\n",
       "      <td>0.0</td>\n",
       "      <td>5.0</td>\n",
       "      <td>0.0</td>\n",
       "      <td>0.0</td>\n",
       "      <td>3.0</td>\n",
       "      <td>...</td>\n",
       "      <td>0.0</td>\n",
       "      <td>0.0</td>\n",
       "      <td>0.0</td>\n",
       "      <td>0.0</td>\n",
       "      <td>0.0</td>\n",
       "      <td>0.0</td>\n",
       "      <td>0.0</td>\n",
       "      <td>0.0</td>\n",
       "      <td>0.0</td>\n",
       "      <td>0.0</td>\n",
       "    </tr>\n",
       "    <tr>\n",
       "      <th>2998</th>\n",
       "      <td>0.0</td>\n",
       "      <td>0.0</td>\n",
       "      <td>0.0</td>\n",
       "      <td>0.0</td>\n",
       "      <td>0.0</td>\n",
       "      <td>0.0</td>\n",
       "      <td>0.0</td>\n",
       "      <td>0.0</td>\n",
       "      <td>0.0</td>\n",
       "      <td>0.0</td>\n",
       "      <td>...</td>\n",
       "      <td>0.0</td>\n",
       "      <td>0.0</td>\n",
       "      <td>0.0</td>\n",
       "      <td>0.0</td>\n",
       "      <td>0.0</td>\n",
       "      <td>0.0</td>\n",
       "      <td>0.0</td>\n",
       "      <td>0.0</td>\n",
       "      <td>0.0</td>\n",
       "      <td>0.0</td>\n",
       "    </tr>\n",
       "    <tr>\n",
       "      <th>3004</th>\n",
       "      <td>5.0</td>\n",
       "      <td>0.0</td>\n",
       "      <td>0.0</td>\n",
       "      <td>0.0</td>\n",
       "      <td>0.0</td>\n",
       "      <td>0.0</td>\n",
       "      <td>0.0</td>\n",
       "      <td>0.0</td>\n",
       "      <td>0.0</td>\n",
       "      <td>0.0</td>\n",
       "      <td>...</td>\n",
       "      <td>0.0</td>\n",
       "      <td>0.0</td>\n",
       "      <td>0.0</td>\n",
       "      <td>0.0</td>\n",
       "      <td>0.0</td>\n",
       "      <td>0.0</td>\n",
       "      <td>0.0</td>\n",
       "      <td>0.0</td>\n",
       "      <td>0.0</td>\n",
       "      <td>0.0</td>\n",
       "    </tr>\n",
       "  </tbody>\n",
       "</table>\n",
       "<p>1792 rows × 4518 columns</p>\n",
       "</div>"
      ],
      "text/plain": [
       "book_id  2      3      4      5      7      8      9      10     11     13     \\\n",
       "user_id                                                                         \n",
       "1          0.0    0.0    0.0    0.0    0.0    0.0    0.0    0.0    0.0    0.0   \n",
       "2          0.0    0.0    0.0    0.0    0.0    0.0    0.0    0.0    0.0    0.0   \n",
       "3          0.0    0.0    3.0    0.0    0.0    0.0    0.0    0.0    0.0    2.0   \n",
       "4          5.0    0.0    4.0    4.0    0.0    4.0    0.0    5.0    4.0    0.0   \n",
       "6          0.0    0.0    0.0    0.0    0.0    0.0    0.0    0.0    0.0    0.0   \n",
       "...        ...    ...    ...    ...    ...    ...    ...    ...    ...    ...   \n",
       "2992       0.0    0.0    0.0    0.0    0.0    0.0    0.0    0.0    0.0    0.0   \n",
       "2995       1.0    5.0    0.0    0.0    0.0    0.0    0.0    0.0    0.0    0.0   \n",
       "2996       5.0    0.0    0.0    0.0    0.0    0.0    5.0    0.0    0.0    3.0   \n",
       "2998       0.0    0.0    0.0    0.0    0.0    0.0    0.0    0.0    0.0    0.0   \n",
       "3004       5.0    0.0    0.0    0.0    0.0    0.0    0.0    0.0    0.0    0.0   \n",
       "\n",
       "book_id  ...  9981   9984   9985   9988   9990   9991   9995   9997   9998   \\\n",
       "user_id  ...                                                                  \n",
       "1        ...    0.0    0.0    0.0    0.0    0.0    0.0    0.0    0.0    0.0   \n",
       "2        ...    0.0    0.0    0.0    0.0    0.0    0.0    0.0    0.0    0.0   \n",
       "3        ...    0.0    0.0    0.0    0.0    0.0    0.0    0.0    0.0    0.0   \n",
       "4        ...    0.0    0.0    0.0    0.0    0.0    0.0    0.0    0.0    0.0   \n",
       "6        ...    0.0    0.0    0.0    0.0    0.0    0.0    0.0    0.0    0.0   \n",
       "...      ...    ...    ...    ...    ...    ...    ...    ...    ...    ...   \n",
       "2992     ...    0.0    0.0    0.0    0.0    0.0    0.0    0.0    0.0    0.0   \n",
       "2995     ...    0.0    0.0    0.0    0.0    0.0    0.0    0.0    0.0    0.0   \n",
       "2996     ...    0.0    0.0    0.0    0.0    0.0    0.0    0.0    0.0    0.0   \n",
       "2998     ...    0.0    0.0    0.0    0.0    0.0    0.0    0.0    0.0    0.0   \n",
       "3004     ...    0.0    0.0    0.0    0.0    0.0    0.0    0.0    0.0    0.0   \n",
       "\n",
       "book_id  10000  \n",
       "user_id         \n",
       "1          0.0  \n",
       "2          0.0  \n",
       "3          0.0  \n",
       "4          0.0  \n",
       "6          0.0  \n",
       "...        ...  \n",
       "2992       0.0  \n",
       "2995       0.0  \n",
       "2996       0.0  \n",
       "2998       0.0  \n",
       "3004       0.0  \n",
       "\n",
       "[1792 rows x 4518 columns]"
      ]
     },
     "execution_count": 65,
     "metadata": {},
     "output_type": "execute_result"
    }
   ],
   "source": [
    "df_movie_features1"
   ]
  },
  {
   "cell_type": "code",
   "execution_count": 66,
   "metadata": {
    "ExecuteTime": {
     "end_time": "2020-09-09T08:38:57.953396Z",
     "start_time": "2020-09-09T08:38:57.261697Z"
    }
   },
   "outputs": [],
   "source": [
    "U1, sigma1, Vt1 = svds(df_movie_features1)\n",
    "sigma1 = np.diag(sigma1)\n",
    "svd_predictions_score1 = np.dot(np.dot(U1, sigma1), Vt1)\n",
    "svd_predictions_score_df1 = pd.DataFrame(svd_predictions_score1, columns = df_movie_features1.columns)"
   ]
  },
  {
   "cell_type": "code",
   "execution_count": 67,
   "metadata": {
    "ExecuteTime": {
     "end_time": "2020-09-09T08:38:58.014203Z",
     "start_time": "2020-09-09T08:38:57.964334Z"
    }
   },
   "outputs": [
    {
     "data": {
      "text/html": [
       "<div>\n",
       "<style scoped>\n",
       "    .dataframe tbody tr th:only-of-type {\n",
       "        vertical-align: middle;\n",
       "    }\n",
       "\n",
       "    .dataframe tbody tr th {\n",
       "        vertical-align: top;\n",
       "    }\n",
       "\n",
       "    .dataframe thead th {\n",
       "        text-align: right;\n",
       "    }\n",
       "</style>\n",
       "<table border=\"1\" class=\"dataframe\">\n",
       "  <thead>\n",
       "    <tr style=\"text-align: right;\">\n",
       "      <th>book_id</th>\n",
       "      <th>2</th>\n",
       "      <th>3</th>\n",
       "      <th>4</th>\n",
       "      <th>5</th>\n",
       "      <th>7</th>\n",
       "      <th>8</th>\n",
       "      <th>9</th>\n",
       "      <th>10</th>\n",
       "      <th>11</th>\n",
       "      <th>13</th>\n",
       "      <th>...</th>\n",
       "      <th>9981</th>\n",
       "      <th>9984</th>\n",
       "      <th>9985</th>\n",
       "      <th>9988</th>\n",
       "      <th>9990</th>\n",
       "      <th>9991</th>\n",
       "      <th>9995</th>\n",
       "      <th>9997</th>\n",
       "      <th>9998</th>\n",
       "      <th>10000</th>\n",
       "    </tr>\n",
       "  </thead>\n",
       "  <tbody>\n",
       "    <tr>\n",
       "      <th>1</th>\n",
       "      <td>0.029234</td>\n",
       "      <td>0.011712</td>\n",
       "      <td>0.199912</td>\n",
       "      <td>0.19072</td>\n",
       "      <td>-0.003823</td>\n",
       "      <td>0.131809</td>\n",
       "      <td>0.156415</td>\n",
       "      <td>0.146184</td>\n",
       "      <td>0.340464</td>\n",
       "      <td>0.018474</td>\n",
       "      <td>...</td>\n",
       "      <td>0.002272</td>\n",
       "      <td>0.000317</td>\n",
       "      <td>0.000044</td>\n",
       "      <td>0.000845</td>\n",
       "      <td>0.001792</td>\n",
       "      <td>0.002402</td>\n",
       "      <td>0.001326</td>\n",
       "      <td>-0.000704</td>\n",
       "      <td>-0.000686</td>\n",
       "      <td>-0.000649</td>\n",
       "    </tr>\n",
       "  </tbody>\n",
       "</table>\n",
       "<p>1 rows × 4518 columns</p>\n",
       "</div>"
      ],
      "text/plain": [
       "book_id     2         3         4        5         7         8         9      \\\n",
       "1        0.029234  0.011712  0.199912  0.19072 -0.003823  0.131809  0.156415   \n",
       "\n",
       "book_id     10        11        13     ...     9981      9984      9985   \\\n",
       "1        0.146184  0.340464  0.018474  ...  0.002272  0.000317  0.000044   \n",
       "\n",
       "book_id     9988      9990      9991      9995      9997      9998      10000  \n",
       "1        0.000845  0.001792  0.002402  0.001326 -0.000704 -0.000686 -0.000649  \n",
       "\n",
       "[1 rows x 4518 columns]"
      ]
     },
     "execution_count": 67,
     "metadata": {},
     "output_type": "execute_result"
    }
   ],
   "source": [
    "svd_predictions_score_df1[svd_predictions_score_df1.index == 1]"
   ]
  },
  {
   "cell_type": "code",
   "execution_count": 68,
   "metadata": {},
   "outputs": [
    {
     "data": {
      "text/plain": [
       "1823"
      ]
     },
     "execution_count": 68,
     "metadata": {},
     "output_type": "execute_result"
    }
   ],
   "source": [
    "len(num_users)"
   ]
  },
  {
   "cell_type": "code",
   "execution_count": 69,
   "metadata": {
    "ExecuteTime": {
     "end_time": "2020-09-09T08:38:58.029165Z",
     "start_time": "2020-09-09T08:38:58.017193Z"
    }
   },
   "outputs": [
    {
     "data": {
      "text/plain": [
       "0.004980873082265228"
      ]
     },
     "execution_count": 69,
     "metadata": {},
     "output_type": "execute_result"
    }
   ],
   "source": [
    "float(svd_predictions_score_df1[svd_predictions_score_df1.index == 0][target_movies[0][0]].values)"
   ]
  },
  {
   "cell_type": "code",
   "execution_count": 73,
   "metadata": {
    "ExecuteTime": {
     "end_time": "2020-09-09T08:40:26.257544Z",
     "start_time": "2020-09-09T08:38:59.699262Z"
    }
   },
   "outputs": [],
   "source": [
    "feature3 = []\n",
    "feature3_user = []\n",
    "count = 0\n",
    "for i in range(len(num_users)):\n",
    "    for j in range(len(target_movies[i])):\n",
    "        if (target_movies[i][j] not in svd_predictions_score_df1[svd_predictions_score_df1.index == i]) or (i >= len(df_movie_features1)):\n",
    "            feature3_user.append(0)\n",
    "        else:\n",
    "            feature3_user.append(float(svd_predictions_score_df1[svd_predictions_score_df1.index == i][target_movies[i][j]].values))\n",
    "    feature3.append(feature3_user)\n",
    "    feature3_user = []"
   ]
  },
  {
   "cell_type": "code",
   "execution_count": 74,
   "metadata": {
    "ExecuteTime": {
     "end_time": "2020-09-09T08:40:26.261568Z",
     "start_time": "2020-09-09T08:29:45.318Z"
    }
   },
   "outputs": [
    {
     "data": {
      "text/plain": [
       "(1823, 150)"
      ]
     },
     "execution_count": 74,
     "metadata": {},
     "output_type": "execute_result"
    }
   ],
   "source": [
    "np.array(feature3).shape"
   ]
  },
  {
   "cell_type": "markdown",
   "metadata": {},
   "source": [
    "## Feature 5 (#Users watched each target movie)"
   ]
  },
  {
   "cell_type": "code",
   "execution_count": 75,
   "metadata": {
    "ExecuteTime": {
     "end_time": "2020-09-09T08:40:26.269515Z",
     "start_time": "2020-09-09T08:29:45.339Z"
    }
   },
   "outputs": [],
   "source": [
    "number_views = []\n",
    "number_view_per_movie = []\n",
    "for i in range(len(num_users)):\n",
    "    for j in range(len(target_movies[i])):\n",
    "        a = len(ratings_df[ratings_df['book_id'] == target_movies[i][j]]['user_id'])\n",
    "        number_view_per_movie.append(a)\n",
    "    number_views.append(number_view_per_movie)\n",
    "    number_view_per_movie = []\n"
   ]
  },
  {
   "cell_type": "code",
   "execution_count": 76,
   "metadata": {
    "ExecuteTime": {
     "end_time": "2020-09-09T08:40:26.272504Z",
     "start_time": "2020-09-09T08:29:45.343Z"
    }
   },
   "outputs": [],
   "source": [
    "feature5 = number_views"
   ]
  },
  {
   "cell_type": "code",
   "execution_count": 77,
   "metadata": {
    "ExecuteTime": {
     "end_time": "2020-09-09T08:40:26.273502Z",
     "start_time": "2020-09-09T08:29:45.346Z"
    }
   },
   "outputs": [
    {
     "data": {
      "text/plain": [
       "(1823, 150)"
      ]
     },
     "execution_count": 77,
     "metadata": {},
     "output_type": "execute_result"
    }
   ],
   "source": [
    "np.array(feature5).shape"
   ]
  },
  {
   "cell_type": "markdown",
   "metadata": {},
   "source": [
    "## Feature 6 (New user)"
   ]
  },
  {
   "cell_type": "code",
   "execution_count": 78,
   "metadata": {
    "ExecuteTime": {
     "end_time": "2020-09-09T08:40:26.274501Z",
     "start_time": "2020-09-09T08:29:45.351Z"
    }
   },
   "outputs": [
    {
     "data": {
      "text/plain": [
       "False"
      ]
     },
     "execution_count": 78,
     "metadata": {},
     "output_type": "execute_result"
    }
   ],
   "source": [
    "len(ratings_df[ratings_df['user_id']==1]) > 10"
   ]
  },
  {
   "cell_type": "code",
   "execution_count": 79,
   "metadata": {
    "ExecuteTime": {
     "end_time": "2020-09-09T08:40:26.275496Z",
     "start_time": "2020-09-09T08:29:45.355Z"
    }
   },
   "outputs": [],
   "source": [
    "new_users_binary = []\n",
    "binary_per_user = []\n",
    "for i in range(len(num_users)):\n",
    "    for j in range(len(target_movies[i])):\n",
    "        a = len(ratings_df[ratings_df['user_id']==1]) > 10\n",
    "        if a:\n",
    "            binary_per_user.append(1)\n",
    "        else:\n",
    "            binary_per_user.append(0)\n",
    "    new_users_binary.append(binary_per_user)\n",
    "    binary_per_user = []"
   ]
  },
  {
   "cell_type": "code",
   "execution_count": 80,
   "metadata": {
    "ExecuteTime": {
     "end_time": "2020-09-09T08:40:26.276494Z",
     "start_time": "2020-09-09T08:29:45.359Z"
    }
   },
   "outputs": [],
   "source": [
    "#rankings of old/new users"
   ]
  },
  {
   "cell_type": "code",
   "execution_count": 81,
   "metadata": {
    "ExecuteTime": {
     "end_time": "2020-09-09T08:40:26.278488Z",
     "start_time": "2020-09-09T08:29:45.364Z"
    }
   },
   "outputs": [],
   "source": [
    "feature6 = new_users_binary"
   ]
  },
  {
   "cell_type": "code",
   "execution_count": 82,
   "metadata": {
    "ExecuteTime": {
     "end_time": "2020-09-09T08:40:26.279484Z",
     "start_time": "2020-09-09T08:29:45.367Z"
    }
   },
   "outputs": [
    {
     "data": {
      "text/plain": [
       "(1823, 150)"
      ]
     },
     "execution_count": 82,
     "metadata": {},
     "output_type": "execute_result"
    }
   ],
   "source": [
    "np.array(feature6).shape"
   ]
  },
  {
   "cell_type": "markdown",
   "metadata": {},
   "source": [
    "## Feature 7(Embeddings) x32"
   ]
  },
  {
   "cell_type": "code",
   "execution_count": 83,
   "metadata": {
    "ExecuteTime": {
     "end_time": "2020-09-09T08:40:26.281484Z",
     "start_time": "2020-09-09T08:29:45.372Z"
    }
   },
   "outputs": [],
   "source": [
    "emb = f1_model._net.item_embeddings"
   ]
  },
  {
   "cell_type": "code",
   "execution_count": 84,
   "metadata": {
    "ExecuteTime": {
     "end_time": "2020-09-09T08:40:26.283474Z",
     "start_time": "2020-09-09T08:29:45.375Z"
    }
   },
   "outputs": [],
   "source": [
    "emb_features = []\n",
    "helper = []\n",
    "for i in range(32):\n",
    "    for j in range(len(num_items)):\n",
    "        helper.append(emb.weight[j][i].item())\n",
    "    emb_features.append(helper)\n",
    "    helper = []"
   ]
  },
  {
   "cell_type": "code",
   "execution_count": 85,
   "metadata": {
    "ExecuteTime": {
     "end_time": "2020-09-09T08:40:26.284472Z",
     "start_time": "2020-09-09T08:29:45.379Z"
    }
   },
   "outputs": [],
   "source": [
    "a = []\n",
    "b = []\n",
    "feature7 = []\n",
    "for i in range(32):\n",
    "    for user in range(len(num_users)):\n",
    "        for movie in map_target_movies[user]:\n",
    "            a.append(emb_features[0][movie])\n",
    "        b.append(a)\n",
    "        a = []\n",
    "    feature7.append(b)\n",
    "    b = []"
   ]
  },
  {
   "cell_type": "code",
   "execution_count": 86,
   "metadata": {
    "ExecuteTime": {
     "end_time": "2020-09-09T08:40:26.286466Z",
     "start_time": "2020-09-09T08:29:45.383Z"
    }
   },
   "outputs": [
    {
     "data": {
      "text/plain": [
       "(32, 1823, 150)"
      ]
     },
     "execution_count": 86,
     "metadata": {},
     "output_type": "execute_result"
    }
   ],
   "source": [
    "np.array(feature7).shape"
   ]
  },
  {
   "cell_type": "code",
   "execution_count": 87,
   "metadata": {
    "ExecuteTime": {
     "end_time": "2020-09-09T08:40:26.288495Z",
     "start_time": "2020-09-09T08:29:45.386Z"
    }
   },
   "outputs": [
    {
     "data": {
      "text/plain": [
       "(1823, 150)"
      ]
     },
     "execution_count": 87,
     "metadata": {},
     "output_type": "execute_result"
    }
   ],
   "source": [
    "np.array(feature7[0]).shape"
   ]
  },
  {
   "cell_type": "markdown",
   "metadata": {},
   "source": [
    "## Feature 47 (SVD Rank)"
   ]
  },
  {
   "cell_type": "code",
   "execution_count": 88,
   "metadata": {
    "ExecuteTime": {
     "end_time": "2020-09-09T08:12:17.898214Z",
     "start_time": "2020-09-09T08:10:34.008696Z"
    }
   },
   "outputs": [],
   "source": [
    "feature47 = []\n",
    "for i in range(len(num_users)):\n",
    "    feature47.append((st.rankdata(-np.array(feature3[i]))))"
   ]
  },
  {
   "cell_type": "code",
   "execution_count": 89,
   "metadata": {
    "ExecuteTime": {
     "end_time": "2020-09-09T08:12:17.910187Z",
     "start_time": "2020-09-09T08:12:17.900213Z"
    }
   },
   "outputs": [
    {
     "data": {
      "text/plain": [
       "(1823, 150)"
      ]
     },
     "execution_count": 89,
     "metadata": {},
     "output_type": "execute_result"
    }
   ],
   "source": [
    "np.array(feature47).shape"
   ]
  },
  {
   "cell_type": "code",
   "execution_count": 90,
   "metadata": {
    "ExecuteTime": {
     "end_time": "2020-09-09T08:12:17.921186Z",
     "start_time": "2020-09-09T08:12:17.913177Z"
    }
   },
   "outputs": [
    {
     "data": {
      "text/plain": [
       "array([ 24. ,  37. ,  77. ,  18. ,  42. , 140. ,   8.5, 145. ,  38. ,\n",
       "        95. ,  10. ,  68. , 141. ,  16. ,  20. ,   2. ,  12. ,  19. ,\n",
       "         5.5, 146. ,  76. ,  35. ,  62. ,  31. ,  36. , 150. ,  91. ,\n",
       "        27. ,  80. ,  87. ,  61. ,  96. ,  81. ,  15. ,  21. ,  13.5,\n",
       "        67. ,   3. ,  55. ,  26. ,  90. ,  45. ,  93. ,  11. ,  46. ,\n",
       "       144. ,  79. ,  53.5,  85.5,  72. , 142.5,  65. ,  97. ,   1. ,\n",
       "        88. , 102. ,   7. ,  51. ,  52. ,  34. ,  92. , 147. ,  69. ,\n",
       "        17. , 134. ,  40.5, 100. ,  78. ,  30. ,  82. ,  63. ,  58. ,\n",
       "        32. ,  73.5,  56. , 149. ,  23. ,  48. , 106. ,  22. , 127. ,\n",
       "       107. ,  28. ,  57. , 104. ,  50. ,  70. ,  25. ,  29. ,  64. ,\n",
       "       109. ,  33. ,  66. ,  44. ,  59. , 111. ,  43. ,   4. ,  39. ,\n",
       "        47. , 105. , 136. , 137. ,  49. , 100. , 123. , 110. ,  84. ,\n",
       "       138. , 126. ,  73.5, 124. ,   5.5, 135. ,  40.5,  89. , 118. ,\n",
       "        60. ,  13.5, 115. , 108. , 114. ,  53.5, 100. , 117. , 133. ,\n",
       "       142.5,  85.5, 132. ,  71. ,  83. , 121. , 128. , 103. ,  94. ,\n",
       "       130. , 131. , 139. , 112. , 113. ,  98. , 125. ,  75. , 120. ,\n",
       "         8.5, 122. , 129. , 116. , 148. , 119. ])"
      ]
     },
     "execution_count": 90,
     "metadata": {},
     "output_type": "execute_result"
    }
   ],
   "source": [
    "feature47[0]"
   ]
  },
  {
   "cell_type": "markdown",
   "metadata": {},
   "source": [
    "## Features stack"
   ]
  },
  {
   "cell_type": "code",
   "execution_count": 91,
   "metadata": {
    "ExecuteTime": {
     "end_time": "2020-09-09T08:40:26.289460Z",
     "start_time": "2020-09-09T08:29:45.391Z"
    }
   },
   "outputs": [],
   "source": [
    "\n",
    "features = np.stack((feature1,feature2,feature3,feature5,feature6,\n",
    "                     feature7[0], feature7[1],feature7[2], feature7[3],\n",
    "                     feature7[4], feature7[5],feature7[6], feature7[7],\n",
    "                     feature7[8], feature7[9],feature7[10], feature7[11],\n",
    "                     feature7[12], feature7[13],feature7[14], feature7[15],\n",
    "                     feature7[16], feature7[17],feature7[18], feature7[19],\n",
    "                     feature7[20], feature7[21],feature7[22], feature7[23],\n",
    "                     feature7[24], feature7[25],feature7[26], feature7[27],\n",
    "                     feature7[28], feature7[29],feature7[30], feature7[31], feature47))"
   ]
  },
  {
   "cell_type": "code",
   "execution_count": 92,
   "metadata": {
    "ExecuteTime": {
     "end_time": "2020-09-09T08:40:26.291454Z",
     "start_time": "2020-09-09T08:29:45.395Z"
    }
   },
   "outputs": [],
   "source": [
    "#features = np.stack((feature1, feature2,feature5))"
   ]
  },
  {
   "cell_type": "code",
   "execution_count": 93,
   "metadata": {
    "ExecuteTime": {
     "end_time": "2020-09-09T08:40:26.292484Z",
     "start_time": "2020-09-09T08:29:45.400Z"
    }
   },
   "outputs": [
    {
     "data": {
      "text/plain": [
       "38"
      ]
     },
     "execution_count": 93,
     "metadata": {},
     "output_type": "execute_result"
    }
   ],
   "source": [
    "len(features)"
   ]
  },
  {
   "cell_type": "markdown",
   "metadata": {},
   "source": [
    "## Labels"
   ]
  },
  {
   "cell_type": "markdown",
   "metadata": {},
   "source": [
    "Below are the movies that each user watched"
   ]
  },
  {
   "cell_type": "code",
   "execution_count": 94,
   "metadata": {
    "ExecuteTime": {
     "end_time": "2020-09-09T08:40:26.293448Z",
     "start_time": "2020-09-09T08:29:45.406Z"
    }
   },
   "outputs": [],
   "source": [
    "def watched_movies(df):\n",
    "    watched = []\n",
    "    #for i in range(len(num_users)):\n",
    "    for u in uid_rev_map:\n",
    "        watched.append(df[df[\"user_id\"]==uid_rev_map.get(u)].groupby(\"book_id\")[\"book_id\"].count().index.tolist())  \n",
    "    return watched "
   ]
  },
  {
   "cell_type": "code",
   "execution_count": 95,
   "metadata": {
    "ExecuteTime": {
     "end_time": "2020-09-09T08:40:26.295442Z",
     "start_time": "2020-09-09T08:29:45.409Z"
    }
   },
   "outputs": [],
   "source": [
    "#train_labels_df\n",
    "#test_df\n",
    "#val_df\n",
    "train_watched = watched_movies(train_labels_df)\n",
    "test_watched = watched_movies(test_df)\n",
    "val_watched = watched_movies(val_df)"
   ]
  },
  {
   "cell_type": "markdown",
   "metadata": {},
   "source": [
    "Creation of the target list. It containes 0s and 1s for the 100 recommended movies for each user. Based on the watched movies it assigns the values. If the user watched the recommended movie, then the value of the target is equal to 1, otherwise it is 0."
   ]
  },
  {
   "cell_type": "code",
   "execution_count": 96,
   "metadata": {
    "ExecuteTime": {
     "end_time": "2020-09-09T08:40:26.297441Z",
     "start_time": "2020-09-09T08:29:45.415Z"
    }
   },
   "outputs": [],
   "source": [
    "def create_target(watched):\n",
    "    user_target = []\n",
    "    target = []\n",
    "    for i in range(len(num_users)):\n",
    "        for target_movie in target_movies[i]:\n",
    "            if target_movie in watched[i]:\n",
    "                user_target.append(1)\n",
    "            else:\n",
    "                user_target.append(0)\n",
    "        target.append(user_target)\n",
    "        user_target = []\n",
    "    return target"
   ]
  },
  {
   "cell_type": "code",
   "execution_count": 97,
   "metadata": {
    "ExecuteTime": {
     "end_time": "2020-09-09T08:40:26.299434Z",
     "start_time": "2020-09-09T08:29:45.418Z"
    }
   },
   "outputs": [],
   "source": [
    "label_train = create_target(train_watched)\n",
    "label_test = create_target(test_watched)\n",
    "label_val = create_target(val_watched)\n",
    "#y_train = y_test = y_val"
   ]
  },
  {
   "cell_type": "markdown",
   "metadata": {},
   "source": [
    "# LightGBM model"
   ]
  },
  {
   "cell_type": "markdown",
   "metadata": {},
   "source": [
    "## Prepare X, y"
   ]
  },
  {
   "cell_type": "code",
   "execution_count": 98,
   "metadata": {
    "ExecuteTime": {
     "end_time": "2020-09-09T08:40:26.301426Z",
     "start_time": "2020-09-09T08:29:45.423Z"
    }
   },
   "outputs": [],
   "source": [
    "k = len(target_movies[0])\n",
    "\n",
    "X = np.array(features)\n",
    "#X = X.reshape(len(num_users)*k,len(features))\n",
    "X = X.reshape(len(features), len(num_users)*k)\n",
    "X = np.transpose(X)\n",
    "label_train = np.array(label_train)\n",
    "label_test = np.array(label_test)\n",
    "label_val = np.array(label_val)"
   ]
  },
  {
   "cell_type": "code",
   "execution_count": 99,
   "metadata": {
    "ExecuteTime": {
     "end_time": "2020-09-09T08:40:26.302426Z",
     "start_time": "2020-09-09T08:29:45.427Z"
    }
   },
   "outputs": [],
   "source": [
    "y_train = label_train.reshape(len(num_users)*k,)\n",
    "y_test = label_test.reshape(len(num_users)*k,)\n",
    "y_val = label_val.reshape(len(num_users)*k,)"
   ]
  },
  {
   "cell_type": "markdown",
   "metadata": {},
   "source": [
    "X_train\n",
    "X_test\n",
    "X_val\n",
    "y_train\n",
    "y_test\n",
    "y_val"
   ]
  },
  {
   "cell_type": "code",
   "execution_count": 101,
   "metadata": {
    "ExecuteTime": {
     "end_time": "2020-09-09T08:40:26.307409Z",
     "start_time": "2020-09-09T08:29:45.436Z"
    }
   },
   "outputs": [],
   "source": [
    "X_train = X\n",
    "X_test = X\n",
    "X_val = X"
   ]
  },
  {
   "cell_type": "markdown",
   "metadata": {},
   "source": [
    "## Classifier"
   ]
  },
  {
   "cell_type": "code",
   "execution_count": 102,
   "metadata": {
    "ExecuteTime": {
     "end_time": "2020-09-09T08:12:31.332339Z",
     "start_time": "2020-09-09T08:12:29.634837Z"
    }
   },
   "outputs": [],
   "source": [
    "import lightgbm as lgb\n",
    "clf = lgb.LGBMClassifier()\n",
    "clf.fit(X_train, y_train)\n",
    "y_pred=clf.predict(X_test)"
   ]
  },
  {
   "cell_type": "code",
   "execution_count": 103,
   "metadata": {
    "ExecuteTime": {
     "end_time": "2020-09-09T08:12:31.348296Z",
     "start_time": "2020-09-09T08:12:31.335332Z"
    }
   },
   "outputs": [],
   "source": [
    "p = 0\n",
    "m = k\n",
    "clf_pred_per_user = []\n",
    "for i in range(len(num_users)):\n",
    "    clf_pred_per_user.append(y_pred[p:m])\n",
    "    p += k\n",
    "    m += k"
   ]
  },
  {
   "cell_type": "code",
   "execution_count": 104,
   "metadata": {
    "ExecuteTime": {
     "end_time": "2020-09-09T08:12:31.421102Z",
     "start_time": "2020-09-09T08:12:31.351289Z"
    }
   },
   "outputs": [
    {
     "name": "stdout",
     "output_type": "stream",
     "text": [
      "LightGBM Model accuracy score: 0.9739\n"
     ]
    }
   ],
   "source": [
    "from sklearn.metrics import accuracy_score\n",
    "accuracy=accuracy_score(y_pred, y_test)\n",
    "print('LightGBM Model accuracy score: {0:0.4f}'.format(accuracy_score(y_test, y_pred)))"
   ]
  },
  {
   "cell_type": "code",
   "execution_count": 105,
   "metadata": {
    "ExecuteTime": {
     "end_time": "2020-09-09T08:12:31.834996Z",
     "start_time": "2020-09-09T08:12:31.423097Z"
    }
   },
   "outputs": [
    {
     "name": "stdout",
     "output_type": "stream",
     "text": [
      "              precision    recall  f1-score   support\n",
      "\n",
      "           0       0.97      1.00      0.99    266330\n",
      "           1       0.00      0.00      0.00      7120\n",
      "\n",
      "    accuracy                           0.97    273450\n",
      "   macro avg       0.49      0.50      0.49    273450\n",
      "weighted avg       0.95      0.97      0.96    273450\n",
      "\n"
     ]
    }
   ],
   "source": [
    "from sklearn.metrics import classification_report\n",
    "print(classification_report(y_test, y_pred))"
   ]
  },
  {
   "cell_type": "code",
   "execution_count": 106,
   "metadata": {
    "ExecuteTime": {
     "end_time": "2020-09-09T08:12:32.805826Z",
     "start_time": "2020-09-09T08:12:31.835992Z"
    }
   },
   "outputs": [
    {
     "name": "stdout",
     "output_type": "stream",
     "text": [
      "Training set score: 0.9831\n",
      "Test set score: 0.9739\n"
     ]
    }
   ],
   "source": [
    "print('Training set score: {:.4f}'.format(clf.score(X_train, y_train)))\n",
    "\n",
    "print('Test set score: {:.4f}'.format(clf.score(X_test, y_test)))"
   ]
  },
  {
   "cell_type": "markdown",
   "metadata": {},
   "source": [
    "The training and test set accuracy are quite comparable. So, we cannot say there is overfitting."
   ]
  },
  {
   "cell_type": "code",
   "execution_count": 107,
   "metadata": {
    "ExecuteTime": {
     "end_time": "2020-09-09T08:12:36.681466Z",
     "start_time": "2020-09-09T08:12:32.808816Z"
    }
   },
   "outputs": [],
   "source": [
    "lgbm_clf_ndcg = NDCG_forUser(y_pred)"
   ]
  },
  {
   "cell_type": "code",
   "execution_count": 108,
   "metadata": {
    "ExecuteTime": {
     "end_time": "2020-09-09T08:12:36.689441Z",
     "start_time": "2020-09-09T08:12:36.683457Z"
    }
   },
   "outputs": [
    {
     "data": {
      "text/plain": [
       "0.15915801972875068"
      ]
     },
     "execution_count": 108,
     "metadata": {},
     "output_type": "execute_result"
    }
   ],
   "source": [
    "lgbm_clf_ndcg"
   ]
  },
  {
   "cell_type": "code",
   "execution_count": 109,
   "metadata": {
    "ExecuteTime": {
     "end_time": "2020-09-09T08:12:36.784187Z",
     "start_time": "2020-09-09T08:12:36.691436Z"
    },
    "scrolled": true
   },
   "outputs": [],
   "source": [
    "clf_rr = RR_forUsers(clf_pred_per_user)\n",
    "clf_rr = pd.Series(clf_rr).fillna(0).tolist()"
   ]
  },
  {
   "cell_type": "code",
   "execution_count": 110,
   "metadata": {
    "ExecuteTime": {
     "end_time": "2020-09-09T08:12:36.790171Z",
     "start_time": "2020-09-09T08:12:36.786185Z"
    }
   },
   "outputs": [],
   "source": [
    "clf_MRR = calculate_mrr(clf_rr)"
   ]
  },
  {
   "cell_type": "code",
   "execution_count": 111,
   "metadata": {
    "ExecuteTime": {
     "end_time": "2020-09-09T08:12:36.801142Z",
     "start_time": "2020-09-09T08:12:36.792164Z"
    }
   },
   "outputs": [
    {
     "data": {
      "text/plain": [
       "0.022252643497624087"
      ]
     },
     "execution_count": 111,
     "metadata": {},
     "output_type": "execute_result"
    }
   ],
   "source": [
    "clf_MRR"
   ]
  },
  {
   "cell_type": "code",
   "execution_count": 112,
   "metadata": {
    "ExecuteTime": {
     "end_time": "2020-09-09T08:12:36.909882Z",
     "start_time": "2020-09-09T08:12:36.803135Z"
    }
   },
   "outputs": [
    {
     "name": "stderr",
     "output_type": "stream",
     "text": [
      "C:\\Users\\papad\\Anaconda3\\lib\\site-packages\\ipykernel_launcher.py:17: RuntimeWarning: invalid value encountered in double_scalars\n"
     ]
    }
   ],
   "source": [
    "clf_ap = calculate_averagePrecision(clf_pred_per_user)"
   ]
  },
  {
   "cell_type": "code",
   "execution_count": 113,
   "metadata": {
    "ExecuteTime": {
     "end_time": "2020-09-09T08:12:36.917829Z",
     "start_time": "2020-09-09T08:12:36.911844Z"
    }
   },
   "outputs": [
    {
     "data": {
      "text/plain": [
       "0.00017017964645347046"
      ]
     },
     "execution_count": 113,
     "metadata": {},
     "output_type": "execute_result"
    }
   ],
   "source": [
    "clf_ap = pd.Series(clf_ap).fillna(0).tolist()\n",
    "clf_map = calculate_MAP(clf_ap)\n",
    "clf_map"
   ]
  },
  {
   "cell_type": "markdown",
   "metadata": {},
   "source": [
    "## Ranker"
   ]
  },
  {
   "cell_type": "code",
   "execution_count": 114,
   "metadata": {
    "ExecuteTime": {
     "end_time": "2020-09-09T08:40:26.304418Z",
     "start_time": "2020-09-09T08:29:45.431Z"
    }
   },
   "outputs": [
    {
     "data": {
      "text/plain": [
       "LGBMRanker(metric='ndcg', min_data_in_leaf=1, min_sum_hessian_in_leaf=100,\n",
       "           ndcg_eval_at=[1, 5, 10, 20], num_leaves=255, num_threads=2,\n",
       "           objective='lambdarank', task='train')"
      ]
     },
     "execution_count": 114,
     "metadata": {},
     "output_type": "execute_result"
    }
   ],
   "source": [
    "import lightgbm as lgb\n",
    "param = {\n",
    "    \"task\": \"train\",\n",
    "    \"num_leaves\": 255,\n",
    "    \"min_data_in_leaf\": 1,\n",
    "    \"min_sum_hessian_in_leaf\": 100,\n",
    "    \"objective\": \"lambdarank\",\n",
    "    \"metric\": \"ndcg\",\n",
    "    \"ndcg_eval_at\": [1, 5, 10, 20],\n",
    "    \"learning_rate\": .1,\n",
    "    \"num_threads\": 2\n",
    "}\n",
    "gbm = lgb.LGBMRanker()\n",
    "gbm.set_params(**param)"
   ]
  },
  {
   "cell_type": "markdown",
   "metadata": {},
   "source": [
    "target movies\n",
    "train_df\n",
    "feature1\n",
    "feature2"
   ]
  },
  {
   "cell_type": "code",
   "execution_count": 115,
   "metadata": {
    "ExecuteTime": {
     "end_time": "2020-09-09T08:40:26.309405Z",
     "start_time": "2020-09-09T08:29:45.440Z"
    }
   },
   "outputs": [],
   "source": [
    "#from sklearn.model_selection import train_test_split\n",
    "#X_train, X_test, y_train, y_test = train_test_split(X, y, test_size=0.2, random_state=1)\n",
    "#X_train, X_val, y_train, y_val = train_test_split(X_train, y_train, test_size=0.2, random_state=1)"
   ]
  },
  {
   "cell_type": "code",
   "execution_count": 116,
   "metadata": {
    "ExecuteTime": {
     "end_time": "2020-09-09T08:40:26.310401Z",
     "start_time": "2020-09-09T08:29:45.443Z"
    }
   },
   "outputs": [
    {
     "name": "stdout",
     "output_type": "stream",
     "text": [
      "[273450]\n",
      "[273450]\n",
      "[273450]\n"
     ]
    }
   ],
   "source": [
    "query_train = [X_train.shape[0]]\n",
    "query_val = [X_val.shape[0]]\n",
    "query_test = [X_test.shape[0]]\n",
    "group_train = []\n",
    "group_val = []\n",
    "print(query_train)\n",
    "print(query_val)\n",
    "print(query_test)\n",
    "'''\n",
    "for i in range(390):\n",
    "    group_train.append(100)\n",
    "group_train.append(40)\n",
    "group_val.append(60)\n",
    "for i in range(97):\n",
    "    group_val.append(100)'''\n",
    "\n",
    "for i in range(len(num_users)):\n",
    "    group_train.append(k)\n",
    "    group_val.append(k)\n"
   ]
  },
  {
   "cell_type": "code",
   "execution_count": 117,
   "metadata": {
    "ExecuteTime": {
     "end_time": "2020-09-09T08:40:26.312396Z",
     "start_time": "2020-09-09T08:29:45.447Z"
    },
    "code_folding": []
   },
   "outputs": [
    {
     "name": "stdout",
     "output_type": "stream",
     "text": [
      "[1]\tvalid_0's ndcg@1: 0.270433\tvalid_0's ndcg@3: 0.275507\tvalid_0's ndcg@5: 0.279999\tvalid_0's ndcg@10: 0.29761\n",
      "[2]\tvalid_0's ndcg@1: 0.272079\tvalid_0's ndcg@3: 0.277654\tvalid_0's ndcg@5: 0.283458\tvalid_0's ndcg@10: 0.30536\n",
      "[3]\tvalid_0's ndcg@1: 0.280856\tvalid_0's ndcg@3: 0.280704\tvalid_0's ndcg@5: 0.286518\tvalid_0's ndcg@10: 0.304025\n",
      "[4]\tvalid_0's ndcg@1: 0.28305\tvalid_0's ndcg@3: 0.282292\tvalid_0's ndcg@5: 0.287883\tvalid_0's ndcg@10: 0.306509\n",
      "[5]\tvalid_0's ndcg@1: 0.282501\tvalid_0's ndcg@3: 0.280933\tvalid_0's ndcg@5: 0.288988\tvalid_0's ndcg@10: 0.307618\n",
      "[6]\tvalid_0's ndcg@1: 0.285793\tvalid_0's ndcg@3: 0.283814\tvalid_0's ndcg@5: 0.288482\tvalid_0's ndcg@10: 0.308783\n",
      "[7]\tvalid_0's ndcg@1: 0.277564\tvalid_0's ndcg@3: 0.28244\tvalid_0's ndcg@5: 0.288036\tvalid_0's ndcg@10: 0.308137\n",
      "[8]\tvalid_0's ndcg@1: 0.273725\tvalid_0's ndcg@3: 0.279511\tvalid_0's ndcg@5: 0.285058\tvalid_0's ndcg@10: 0.305638\n",
      "[9]\tvalid_0's ndcg@1: 0.277016\tvalid_0's ndcg@3: 0.277936\tvalid_0's ndcg@5: 0.286592\tvalid_0's ndcg@10: 0.305665\n",
      "[10]\tvalid_0's ndcg@1: 0.272628\tvalid_0's ndcg@3: 0.278862\tvalid_0's ndcg@5: 0.286361\tvalid_0's ndcg@10: 0.307095\n",
      "[11]\tvalid_0's ndcg@1: 0.270433\tvalid_0's ndcg@3: 0.278586\tvalid_0's ndcg@5: 0.285016\tvalid_0's ndcg@10: 0.305724\n",
      "[12]\tvalid_0's ndcg@1: 0.275919\tvalid_0's ndcg@3: 0.280958\tvalid_0's ndcg@5: 0.287031\tvalid_0's ndcg@10: 0.306895\n",
      "[13]\tvalid_0's ndcg@1: 0.27921\tvalid_0's ndcg@3: 0.281541\tvalid_0's ndcg@5: 0.287401\tvalid_0's ndcg@10: 0.306953\n",
      "[14]\tvalid_0's ndcg@1: 0.273176\tvalid_0's ndcg@3: 0.278319\tvalid_0's ndcg@5: 0.285551\tvalid_0's ndcg@10: 0.304584\n",
      "[15]\tvalid_0's ndcg@1: 0.274822\tvalid_0's ndcg@3: 0.279587\tvalid_0's ndcg@5: 0.284205\tvalid_0's ndcg@10: 0.304856\n",
      "[16]\tvalid_0's ndcg@1: 0.27537\tvalid_0's ndcg@3: 0.278717\tvalid_0's ndcg@5: 0.284063\tvalid_0's ndcg@10: 0.305606\n",
      "[17]\tvalid_0's ndcg@1: 0.272628\tvalid_0's ndcg@3: 0.276196\tvalid_0's ndcg@5: 0.282207\tvalid_0's ndcg@10: 0.305392\n",
      "[18]\tvalid_0's ndcg@1: 0.272628\tvalid_0's ndcg@3: 0.277264\tvalid_0's ndcg@5: 0.283412\tvalid_0's ndcg@10: 0.304932\n",
      "[19]\tvalid_0's ndcg@1: 0.27537\tvalid_0's ndcg@3: 0.277294\tvalid_0's ndcg@5: 0.284204\tvalid_0's ndcg@10: 0.305266\n",
      "[20]\tvalid_0's ndcg@1: 0.27537\tvalid_0's ndcg@3: 0.277972\tvalid_0's ndcg@5: 0.284286\tvalid_0's ndcg@10: 0.30548\n",
      "[21]\tvalid_0's ndcg@1: 0.277016\tvalid_0's ndcg@3: 0.278413\tvalid_0's ndcg@5: 0.283929\tvalid_0's ndcg@10: 0.305983\n",
      "[22]\tvalid_0's ndcg@1: 0.277564\tvalid_0's ndcg@3: 0.279543\tvalid_0's ndcg@5: 0.284742\tvalid_0's ndcg@10: 0.307347\n",
      "[23]\tvalid_0's ndcg@1: 0.274822\tvalid_0's ndcg@3: 0.278479\tvalid_0's ndcg@5: 0.284979\tvalid_0's ndcg@10: 0.307234\n",
      "[24]\tvalid_0's ndcg@1: 0.275919\tvalid_0's ndcg@3: 0.279167\tvalid_0's ndcg@5: 0.285044\tvalid_0's ndcg@10: 0.306712\n",
      "[25]\tvalid_0's ndcg@1: 0.272628\tvalid_0's ndcg@3: 0.278386\tvalid_0's ndcg@5: 0.283992\tvalid_0's ndcg@10: 0.304903\n",
      "[26]\tvalid_0's ndcg@1: 0.266594\tvalid_0's ndcg@3: 0.277819\tvalid_0's ndcg@5: 0.283682\tvalid_0's ndcg@10: 0.304548\n",
      "[27]\tvalid_0's ndcg@1: 0.268788\tvalid_0's ndcg@3: 0.277601\tvalid_0's ndcg@5: 0.283563\tvalid_0's ndcg@10: 0.303679\n",
      "[28]\tvalid_0's ndcg@1: 0.27153\tvalid_0's ndcg@3: 0.277353\tvalid_0's ndcg@5: 0.283074\tvalid_0's ndcg@10: 0.303027\n",
      "[29]\tvalid_0's ndcg@1: 0.27153\tvalid_0's ndcg@3: 0.27789\tvalid_0's ndcg@5: 0.283228\tvalid_0's ndcg@10: 0.303674\n",
      "[30]\tvalid_0's ndcg@1: 0.274273\tvalid_0's ndcg@3: 0.279\tvalid_0's ndcg@5: 0.282985\tvalid_0's ndcg@10: 0.30327\n",
      "[31]\tvalid_0's ndcg@1: 0.273176\tvalid_0's ndcg@3: 0.278083\tvalid_0's ndcg@5: 0.281475\tvalid_0's ndcg@10: 0.303548\n",
      "[32]\tvalid_0's ndcg@1: 0.272079\tvalid_0's ndcg@3: 0.278236\tvalid_0's ndcg@5: 0.28208\tvalid_0's ndcg@10: 0.304104\n",
      "[33]\tvalid_0's ndcg@1: 0.274273\tvalid_0's ndcg@3: 0.27865\tvalid_0's ndcg@5: 0.282027\tvalid_0's ndcg@10: 0.301863\n",
      "[34]\tvalid_0's ndcg@1: 0.269885\tvalid_0's ndcg@3: 0.27742\tvalid_0's ndcg@5: 0.281764\tvalid_0's ndcg@10: 0.301909\n",
      "[35]\tvalid_0's ndcg@1: 0.269336\tvalid_0's ndcg@3: 0.276315\tvalid_0's ndcg@5: 0.280836\tvalid_0's ndcg@10: 0.3021\n",
      "[36]\tvalid_0's ndcg@1: 0.273176\tvalid_0's ndcg@3: 0.276489\tvalid_0's ndcg@5: 0.281284\tvalid_0's ndcg@10: 0.302446\n",
      "[37]\tvalid_0's ndcg@1: 0.27153\tvalid_0's ndcg@3: 0.275195\tvalid_0's ndcg@5: 0.28042\tvalid_0's ndcg@10: 0.301883\n",
      "[38]\tvalid_0's ndcg@1: 0.269336\tvalid_0's ndcg@3: 0.274785\tvalid_0's ndcg@5: 0.280801\tvalid_0's ndcg@10: 0.302136\n",
      "[39]\tvalid_0's ndcg@1: 0.269336\tvalid_0's ndcg@3: 0.275403\tvalid_0's ndcg@5: 0.280293\tvalid_0's ndcg@10: 0.302264\n",
      "[40]\tvalid_0's ndcg@1: 0.268788\tvalid_0's ndcg@3: 0.275737\tvalid_0's ndcg@5: 0.280156\tvalid_0's ndcg@10: 0.302435\n",
      "[41]\tvalid_0's ndcg@1: 0.269336\tvalid_0's ndcg@3: 0.276412\tvalid_0's ndcg@5: 0.280251\tvalid_0's ndcg@10: 0.301766\n",
      "[42]\tvalid_0's ndcg@1: 0.267142\tvalid_0's ndcg@3: 0.274828\tvalid_0's ndcg@5: 0.278886\tvalid_0's ndcg@10: 0.301658\n",
      "[43]\tvalid_0's ndcg@1: 0.268239\tvalid_0's ndcg@3: 0.274698\tvalid_0's ndcg@5: 0.280507\tvalid_0's ndcg@10: 0.30218\n",
      "[44]\tvalid_0's ndcg@1: 0.269885\tvalid_0's ndcg@3: 0.275823\tvalid_0's ndcg@5: 0.280622\tvalid_0's ndcg@10: 0.302069\n",
      "[45]\tvalid_0's ndcg@1: 0.269885\tvalid_0's ndcg@3: 0.275796\tvalid_0's ndcg@5: 0.280395\tvalid_0's ndcg@10: 0.302121\n",
      "[46]\tvalid_0's ndcg@1: 0.268239\tvalid_0's ndcg@3: 0.274977\tvalid_0's ndcg@5: 0.279805\tvalid_0's ndcg@10: 0.302233\n",
      "[47]\tvalid_0's ndcg@1: 0.268788\tvalid_0's ndcg@3: 0.276344\tvalid_0's ndcg@5: 0.279323\tvalid_0's ndcg@10: 0.30234\n",
      "[48]\tvalid_0's ndcg@1: 0.270433\tvalid_0's ndcg@3: 0.275942\tvalid_0's ndcg@5: 0.280625\tvalid_0's ndcg@10: 0.302484\n",
      "[49]\tvalid_0's ndcg@1: 0.268239\tvalid_0's ndcg@3: 0.274995\tvalid_0's ndcg@5: 0.28116\tvalid_0's ndcg@10: 0.302623\n",
      "[50]\tvalid_0's ndcg@1: 0.266594\tvalid_0's ndcg@3: 0.27387\tvalid_0's ndcg@5: 0.279837\tvalid_0's ndcg@10: 0.30222\n",
      "[51]\tvalid_0's ndcg@1: 0.265496\tvalid_0's ndcg@3: 0.274172\tvalid_0's ndcg@5: 0.280036\tvalid_0's ndcg@10: 0.301717\n",
      "[52]\tvalid_0's ndcg@1: 0.264399\tvalid_0's ndcg@3: 0.274048\tvalid_0's ndcg@5: 0.279708\tvalid_0's ndcg@10: 0.301106\n",
      "[53]\tvalid_0's ndcg@1: 0.267142\tvalid_0's ndcg@3: 0.275456\tvalid_0's ndcg@5: 0.280976\tvalid_0's ndcg@10: 0.302245\n",
      "[54]\tvalid_0's ndcg@1: 0.266045\tvalid_0's ndcg@3: 0.275128\tvalid_0's ndcg@5: 0.280254\tvalid_0's ndcg@10: 0.302019\n",
      "[55]\tvalid_0's ndcg@1: 0.266045\tvalid_0's ndcg@3: 0.27538\tvalid_0's ndcg@5: 0.279941\tvalid_0's ndcg@10: 0.301346\n",
      "[56]\tvalid_0's ndcg@1: 0.261657\tvalid_0's ndcg@3: 0.273977\tvalid_0's ndcg@5: 0.279673\tvalid_0's ndcg@10: 0.301278\n",
      "[57]\tvalid_0's ndcg@1: 0.262754\tvalid_0's ndcg@3: 0.273703\tvalid_0's ndcg@5: 0.280105\tvalid_0's ndcg@10: 0.301772\n",
      "[58]\tvalid_0's ndcg@1: 0.263302\tvalid_0's ndcg@3: 0.27345\tvalid_0's ndcg@5: 0.27977\tvalid_0's ndcg@10: 0.301488\n",
      "[59]\tvalid_0's ndcg@1: 0.26056\tvalid_0's ndcg@3: 0.272857\tvalid_0's ndcg@5: 0.27972\tvalid_0's ndcg@10: 0.301231\n",
      "[60]\tvalid_0's ndcg@1: 0.262205\tvalid_0's ndcg@3: 0.272309\tvalid_0's ndcg@5: 0.27921\tvalid_0's ndcg@10: 0.30057\n",
      "[61]\tvalid_0's ndcg@1: 0.262754\tvalid_0's ndcg@3: 0.272753\tvalid_0's ndcg@5: 0.279045\tvalid_0's ndcg@10: 0.300501\n",
      "[62]\tvalid_0's ndcg@1: 0.261657\tvalid_0's ndcg@3: 0.272024\tvalid_0's ndcg@5: 0.279389\tvalid_0's ndcg@10: 0.300916\n",
      "[63]\tvalid_0's ndcg@1: 0.26056\tvalid_0's ndcg@3: 0.272564\tvalid_0's ndcg@5: 0.278749\tvalid_0's ndcg@10: 0.300808\n",
      "[64]\tvalid_0's ndcg@1: 0.262205\tvalid_0's ndcg@3: 0.273495\tvalid_0's ndcg@5: 0.278768\tvalid_0's ndcg@10: 0.300467\n",
      "[65]\tvalid_0's ndcg@1: 0.263302\tvalid_0's ndcg@3: 0.274673\tvalid_0's ndcg@5: 0.27956\tvalid_0's ndcg@10: 0.30142\n",
      "[66]\tvalid_0's ndcg@1: 0.264948\tvalid_0's ndcg@3: 0.274047\tvalid_0's ndcg@5: 0.279492\tvalid_0's ndcg@10: 0.301413\n",
      "[67]\tvalid_0's ndcg@1: 0.263851\tvalid_0's ndcg@3: 0.272867\tvalid_0's ndcg@5: 0.279577\tvalid_0's ndcg@10: 0.301469\n",
      "[68]\tvalid_0's ndcg@1: 0.264948\tvalid_0's ndcg@3: 0.273583\tvalid_0's ndcg@5: 0.279399\tvalid_0's ndcg@10: 0.30129\n",
      "[69]\tvalid_0's ndcg@1: 0.265496\tvalid_0's ndcg@3: 0.272244\tvalid_0's ndcg@5: 0.279641\tvalid_0's ndcg@10: 0.299722\n",
      "[70]\tvalid_0's ndcg@1: 0.267691\tvalid_0's ndcg@3: 0.27262\tvalid_0's ndcg@5: 0.279719\tvalid_0's ndcg@10: 0.300297\n",
      "[71]\tvalid_0's ndcg@1: 0.266045\tvalid_0's ndcg@3: 0.27392\tvalid_0's ndcg@5: 0.27918\tvalid_0's ndcg@10: 0.299749\n",
      "[72]\tvalid_0's ndcg@1: 0.268788\tvalid_0's ndcg@3: 0.274366\tvalid_0's ndcg@5: 0.279912\tvalid_0's ndcg@10: 0.300201\n",
      "[73]\tvalid_0's ndcg@1: 0.268788\tvalid_0's ndcg@3: 0.27355\tvalid_0's ndcg@5: 0.27964\tvalid_0's ndcg@10: 0.300161\n",
      "[74]\tvalid_0's ndcg@1: 0.267691\tvalid_0's ndcg@3: 0.273976\tvalid_0's ndcg@5: 0.278996\tvalid_0's ndcg@10: 0.300047\n",
      "[75]\tvalid_0's ndcg@1: 0.269885\tvalid_0's ndcg@3: 0.274127\tvalid_0's ndcg@5: 0.279728\tvalid_0's ndcg@10: 0.301464\n",
      "[76]\tvalid_0's ndcg@1: 0.268239\tvalid_0's ndcg@3: 0.27477\tvalid_0's ndcg@5: 0.279249\tvalid_0's ndcg@10: 0.301305\n",
      "[77]\tvalid_0's ndcg@1: 0.268788\tvalid_0's ndcg@3: 0.274611\tvalid_0's ndcg@5: 0.280204\tvalid_0's ndcg@10: 0.301322\n",
      "[78]\tvalid_0's ndcg@1: 0.269336\tvalid_0's ndcg@3: 0.27485\tvalid_0's ndcg@5: 0.280508\tvalid_0's ndcg@10: 0.301669\n",
      "[79]\tvalid_0's ndcg@1: 0.270433\tvalid_0's ndcg@3: 0.274945\tvalid_0's ndcg@5: 0.280202\tvalid_0's ndcg@10: 0.301951\n",
      "[80]\tvalid_0's ndcg@1: 0.268239\tvalid_0's ndcg@3: 0.27489\tvalid_0's ndcg@5: 0.280122\tvalid_0's ndcg@10: 0.301417\n",
      "[81]\tvalid_0's ndcg@1: 0.268239\tvalid_0's ndcg@3: 0.274785\tvalid_0's ndcg@5: 0.279816\tvalid_0's ndcg@10: 0.301024\n",
      "[82]\tvalid_0's ndcg@1: 0.269885\tvalid_0's ndcg@3: 0.275004\tvalid_0's ndcg@5: 0.280472\tvalid_0's ndcg@10: 0.301794\n",
      "[83]\tvalid_0's ndcg@1: 0.266045\tvalid_0's ndcg@3: 0.27382\tvalid_0's ndcg@5: 0.279893\tvalid_0's ndcg@10: 0.301152\n",
      "[84]\tvalid_0's ndcg@1: 0.265496\tvalid_0's ndcg@3: 0.273016\tvalid_0's ndcg@5: 0.278885\tvalid_0's ndcg@10: 0.300523\n",
      "[85]\tvalid_0's ndcg@1: 0.266045\tvalid_0's ndcg@3: 0.272984\tvalid_0's ndcg@5: 0.27902\tvalid_0's ndcg@10: 0.30044\n",
      "[86]\tvalid_0's ndcg@1: 0.265496\tvalid_0's ndcg@3: 0.273249\tvalid_0's ndcg@5: 0.279573\tvalid_0's ndcg@10: 0.300767\n",
      "[87]\tvalid_0's ndcg@1: 0.264399\tvalid_0's ndcg@3: 0.271979\tvalid_0's ndcg@5: 0.279431\tvalid_0's ndcg@10: 0.300431\n",
      "[88]\tvalid_0's ndcg@1: 0.267142\tvalid_0's ndcg@3: 0.272124\tvalid_0's ndcg@5: 0.279149\tvalid_0's ndcg@10: 0.30005\n",
      "[89]\tvalid_0's ndcg@1: 0.267142\tvalid_0's ndcg@3: 0.272835\tvalid_0's ndcg@5: 0.279166\tvalid_0's ndcg@10: 0.300401\n",
      "[90]\tvalid_0's ndcg@1: 0.267691\tvalid_0's ndcg@3: 0.271351\tvalid_0's ndcg@5: 0.279216\tvalid_0's ndcg@10: 0.300503\n",
      "[91]\tvalid_0's ndcg@1: 0.266594\tvalid_0's ndcg@3: 0.271166\tvalid_0's ndcg@5: 0.27918\tvalid_0's ndcg@10: 0.300502\n",
      "[92]\tvalid_0's ndcg@1: 0.266045\tvalid_0's ndcg@3: 0.27162\tvalid_0's ndcg@5: 0.278467\tvalid_0's ndcg@10: 0.299814\n",
      "[93]\tvalid_0's ndcg@1: 0.264948\tvalid_0's ndcg@3: 0.271121\tvalid_0's ndcg@5: 0.278576\tvalid_0's ndcg@10: 0.299425\n",
      "[94]\tvalid_0's ndcg@1: 0.266045\tvalid_0's ndcg@3: 0.270428\tvalid_0's ndcg@5: 0.279225\tvalid_0's ndcg@10: 0.300051\n",
      "[95]\tvalid_0's ndcg@1: 0.264948\tvalid_0's ndcg@3: 0.271633\tvalid_0's ndcg@5: 0.278626\tvalid_0's ndcg@10: 0.299223\n",
      "[96]\tvalid_0's ndcg@1: 0.265496\tvalid_0's ndcg@3: 0.27165\tvalid_0's ndcg@5: 0.278887\tvalid_0's ndcg@10: 0.299955\n",
      "[97]\tvalid_0's ndcg@1: 0.265496\tvalid_0's ndcg@3: 0.27108\tvalid_0's ndcg@5: 0.279152\tvalid_0's ndcg@10: 0.299426\n",
      "[98]\tvalid_0's ndcg@1: 0.265496\tvalid_0's ndcg@3: 0.270508\tvalid_0's ndcg@5: 0.27974\tvalid_0's ndcg@10: 0.298995\n",
      "[99]\tvalid_0's ndcg@1: 0.265496\tvalid_0's ndcg@3: 0.270586\tvalid_0's ndcg@5: 0.279398\tvalid_0's ndcg@10: 0.298456\n",
      "[100]\tvalid_0's ndcg@1: 0.265496\tvalid_0's ndcg@3: 0.270132\tvalid_0's ndcg@5: 0.278197\tvalid_0's ndcg@10: 0.297757\n"
     ]
    },
    {
     "data": {
      "text/plain": [
       "LGBMRanker(metric='ndcg', min_data_in_leaf=1, min_sum_hessian_in_leaf=100,\n",
       "           ndcg_eval_at=[1, 5, 10, 20], num_leaves=255, num_threads=2,\n",
       "           objective='lambdarank', task='train')"
      ]
     },
     "execution_count": 117,
     "metadata": {},
     "output_type": "execute_result"
    }
   ],
   "source": [
    "gbm.fit(X_train, y_train, group=group_train,\n",
    "        eval_set=[(X_val, y_val)], eval_group=[group_val],\n",
    "        eval_at=[1, 3, 5, 10], eval_metric='ndcg')\n",
    "#no early stopping"
   ]
  },
  {
   "cell_type": "code",
   "execution_count": 118,
   "metadata": {
    "ExecuteTime": {
     "end_time": "2020-09-09T08:40:26.314393Z",
     "start_time": "2020-09-09T08:29:45.451Z"
    }
   },
   "outputs": [],
   "source": [
    "gbm.best_iteration_"
   ]
  },
  {
   "cell_type": "code",
   "execution_count": 119,
   "metadata": {
    "ExecuteTime": {
     "end_time": "2020-09-09T08:40:26.315391Z",
     "start_time": "2020-09-09T08:29:45.455Z"
    }
   },
   "outputs": [
    {
     "data": {
      "text/plain": [
       "array([-0.52151633, -0.89638419, -0.7744866 , ...,  0.46900885,\n",
       "       -0.24932478, -2.31191023])"
      ]
     },
     "execution_count": 119,
     "metadata": {},
     "output_type": "execute_result"
    }
   ],
   "source": [
    "test_pred = gbm.predict(X_test)\n",
    "test_pred"
   ]
  },
  {
   "cell_type": "markdown",
   "metadata": {},
   "source": [
    "## NDCG Score"
   ]
  },
  {
   "cell_type": "code",
   "execution_count": 120,
   "metadata": {
    "ExecuteTime": {
     "end_time": "2020-09-09T08:40:26.316430Z",
     "start_time": "2020-09-09T08:29:45.459Z"
    }
   },
   "outputs": [],
   "source": [
    "p = 0\n",
    "m = 150\n",
    "lgbm_pred_per_user = []\n",
    "for i in range(len(num_users)):\n",
    "    lgbm_pred_per_user.append(test_pred[p:m])\n",
    "    p += 150\n",
    "    m += 150"
   ]
  },
  {
   "cell_type": "markdown",
   "metadata": {},
   "source": [
    "### NDCG IFM on this data"
   ]
  },
  {
   "cell_type": "code",
   "execution_count": 121,
   "metadata": {
    "ExecuteTime": {
     "end_time": "2020-09-09T08:40:26.320378Z",
     "start_time": "2020-09-09T08:29:45.472Z"
    }
   },
   "outputs": [
    {
     "name": "stderr",
     "output_type": "stream",
     "text": [
      "C:\\Users\\papad\\Anaconda3\\lib\\site-packages\\ipykernel_launcher.py:2: RuntimeWarning: invalid value encountered in double_scalars\n",
      "  \n"
     ]
    }
   ],
   "source": [
    "lgbm_NDCG = []\n",
    "IFM_NDCG = []\n",
    "SVD_NDCG = []\n",
    "ifm_relevance_list = []\n",
    "svd_relevance_list = []\n",
    "lgbm_relevance_list = []\n",
    "for i in range(len(num_users)):\n",
    "    excel_df = pd.DataFrame({'movie_id': target_movies[i], 'implicit_score': feature1[i],\n",
    "                             'implicit_rank': feature2[i], 'svd_score':feature3[i], '#users_watched': feature5[i],\n",
    "                             'new_user': feature6[i],\n",
    "                             'emedding1': feature7[0][i], 'emedding2': feature7[1][i], 'emedding3': feature7[2][i],\n",
    "                             'emedding4': feature7[3][i], 'emedding5': feature7[4][i], 'emedding6': feature7[5][i],\n",
    "                             'emedding7': feature7[6][i], 'emedding8': feature7[7][i], 'emedding9': feature7[8][i],\n",
    "                             'emedding10': feature7[9][i], 'emedding11': feature7[10][i], 'emedding12': feature7[11][i],\n",
    "                             'emedding13': feature7[12][i], 'emedding14': feature7[13][i], 'emedding15': feature7[14][i],\n",
    "                             'emedding16': feature7[15][i], 'emedding17': feature7[16][i], 'emedding18': feature7[17][i],\n",
    "                             'emedding19': feature7[18][i], 'emedding20': feature7[19][i], 'emedding21': feature7[20][i],\n",
    "                             'emedding22': feature7[21][i], 'emedding23': feature7[22][i], 'emedding24': feature7[23][i],\n",
    "                             'emedding25': feature7[24][i], 'emedding26': feature7[25][i], 'emedding27': feature7[26][i],\n",
    "                             'emedding28': feature7[27][i], 'emedding29': feature7[28][i], 'emedding30': feature7[29][i],\n",
    "                             'emedding31': feature7[30][i], 'emedding32': feature7[31][i], 'svd_rank': feature47[i],\n",
    "                             'train_label': label_train[i], 'test_label': label_test[i],\n",
    "                             'y_val': label_val[i], 'LGBM Score': lgbm_pred_per_user[i]})\n",
    "    excel_df = excel_df.sort_values('LGBM Score', ascending=False)\n",
    "    relevance_lgbm_user = excel_df['test_label'].values.tolist()\n",
    "    lgbm_relevance_list.append(relevance_lgbm_user)\n",
    "    lgbm_NDCG.append(NDCG_forUser(relevance_lgbm_user))\n",
    "    excel_df = excel_df.sort_values('implicit_score', ascending=False)\n",
    "    ifm_relevance = excel_df['test_label'].values.tolist()\n",
    "    ifm_relevance_list.append(ifm_relevance)\n",
    "    IFM_NDCG.append(NDCG_forUser(ifm_relevance))\n",
    "    excel_df = excel_df.sort_values('svd_score', ascending=False)\n",
    "    svd_relevance_h = excel_df['test_label'].values.tolist()\n",
    "    svd_relevance_list.append(svd_relevance_h)\n",
    "    SVD_NDCG.append(NDCG_forUser(svd_relevance_h))"
   ]
  },
  {
   "cell_type": "code",
   "execution_count": 122,
   "metadata": {},
   "outputs": [],
   "source": [
    "lgbm_NDCG = pd.Series(lgbm_NDCG).fillna(0).tolist()\n",
    "IFM_NDCG = pd.Series(IFM_NDCG).fillna(0).tolist()\n",
    "SVD_NDCG = pd.Series(SVD_NDCG).fillna(0).tolist()"
   ]
  },
  {
   "cell_type": "markdown",
   "metadata": {},
   "source": [
    "# Comparisons"
   ]
  },
  {
   "cell_type": "markdown",
   "metadata": {},
   "source": [
    "## NDCG "
   ]
  },
  {
   "cell_type": "code",
   "execution_count": 123,
   "metadata": {
    "ExecuteTime": {
     "end_time": "2020-09-09T08:13:03.122101Z",
     "start_time": "2020-09-09T08:13:03.112088Z"
    }
   },
   "outputs": [],
   "source": [
    "ndcg_df = pd.DataFrame({'LightGBM': lgbm_NDCG, 'IFM_this': IFM_NDCG, 'SVD_this': SVD_NDCG})"
   ]
  },
  {
   "cell_type": "code",
   "execution_count": 124,
   "metadata": {
    "ExecuteTime": {
     "end_time": "2020-09-09T08:13:03.135068Z",
     "start_time": "2020-09-09T08:13:03.124055Z"
    }
   },
   "outputs": [
    {
     "data": {
      "text/html": [
       "<div>\n",
       "<style scoped>\n",
       "    .dataframe tbody tr th:only-of-type {\n",
       "        vertical-align: middle;\n",
       "    }\n",
       "\n",
       "    .dataframe tbody tr th {\n",
       "        vertical-align: top;\n",
       "    }\n",
       "\n",
       "    .dataframe thead th {\n",
       "        text-align: right;\n",
       "    }\n",
       "</style>\n",
       "<table border=\"1\" class=\"dataframe\">\n",
       "  <thead>\n",
       "    <tr style=\"text-align: right;\">\n",
       "      <th></th>\n",
       "      <th>LightGBM</th>\n",
       "      <th>IFM_this</th>\n",
       "      <th>SVD_this</th>\n",
       "    </tr>\n",
       "  </thead>\n",
       "  <tbody>\n",
       "    <tr>\n",
       "      <th>0</th>\n",
       "      <td>0.183570</td>\n",
       "      <td>0.222665</td>\n",
       "      <td>0.196749</td>\n",
       "    </tr>\n",
       "    <tr>\n",
       "      <th>1</th>\n",
       "      <td>0.000000</td>\n",
       "      <td>0.000000</td>\n",
       "      <td>0.000000</td>\n",
       "    </tr>\n",
       "    <tr>\n",
       "      <th>2</th>\n",
       "      <td>0.477413</td>\n",
       "      <td>0.440223</td>\n",
       "      <td>0.346619</td>\n",
       "    </tr>\n",
       "    <tr>\n",
       "      <th>3</th>\n",
       "      <td>0.000000</td>\n",
       "      <td>0.000000</td>\n",
       "      <td>0.000000</td>\n",
       "    </tr>\n",
       "    <tr>\n",
       "      <th>4</th>\n",
       "      <td>0.244881</td>\n",
       "      <td>0.378002</td>\n",
       "      <td>0.179973</td>\n",
       "    </tr>\n",
       "    <tr>\n",
       "      <th>...</th>\n",
       "      <td>...</td>\n",
       "      <td>...</td>\n",
       "      <td>...</td>\n",
       "    </tr>\n",
       "    <tr>\n",
       "      <th>1818</th>\n",
       "      <td>0.274440</td>\n",
       "      <td>0.257033</td>\n",
       "      <td>0.242369</td>\n",
       "    </tr>\n",
       "    <tr>\n",
       "      <th>1819</th>\n",
       "      <td>0.376200</td>\n",
       "      <td>0.367470</td>\n",
       "      <td>0.305542</td>\n",
       "    </tr>\n",
       "    <tr>\n",
       "      <th>1820</th>\n",
       "      <td>0.000000</td>\n",
       "      <td>0.000000</td>\n",
       "      <td>0.000000</td>\n",
       "    </tr>\n",
       "    <tr>\n",
       "      <th>1821</th>\n",
       "      <td>0.000000</td>\n",
       "      <td>0.000000</td>\n",
       "      <td>0.000000</td>\n",
       "    </tr>\n",
       "    <tr>\n",
       "      <th>1822</th>\n",
       "      <td>0.563611</td>\n",
       "      <td>0.840564</td>\n",
       "      <td>0.578458</td>\n",
       "    </tr>\n",
       "  </tbody>\n",
       "</table>\n",
       "<p>1823 rows × 3 columns</p>\n",
       "</div>"
      ],
      "text/plain": [
       "      LightGBM  IFM_this  SVD_this\n",
       "0     0.183570  0.222665  0.196749\n",
       "1     0.000000  0.000000  0.000000\n",
       "2     0.477413  0.440223  0.346619\n",
       "3     0.000000  0.000000  0.000000\n",
       "4     0.244881  0.378002  0.179973\n",
       "...        ...       ...       ...\n",
       "1818  0.274440  0.257033  0.242369\n",
       "1819  0.376200  0.367470  0.305542\n",
       "1820  0.000000  0.000000  0.000000\n",
       "1821  0.000000  0.000000  0.000000\n",
       "1822  0.563611  0.840564  0.578458\n",
       "\n",
       "[1823 rows x 3 columns]"
      ]
     },
     "execution_count": 124,
     "metadata": {},
     "output_type": "execute_result"
    }
   ],
   "source": [
    "ndcg_df"
   ]
  },
  {
   "cell_type": "code",
   "execution_count": 125,
   "metadata": {
    "ExecuteTime": {
     "end_time": "2020-09-09T08:13:03.141042Z",
     "start_time": "2020-09-09T08:13:03.137021Z"
    }
   },
   "outputs": [
    {
     "data": {
      "text/plain": [
       "0.2811663685293966"
      ]
     },
     "execution_count": 125,
     "metadata": {},
     "output_type": "execute_result"
    }
   ],
   "source": [
    "lgbm_mean = ndcg_df['LightGBM'].mean()\n",
    "lgbm_mean"
   ]
  },
  {
   "cell_type": "code",
   "execution_count": 126,
   "metadata": {
    "ExecuteTime": {
     "end_time": "2020-09-09T08:13:03.148025Z",
     "start_time": "2020-09-09T08:13:03.143004Z"
    }
   },
   "outputs": [
    {
     "data": {
      "text/plain": [
       "0.28514917913054344"
      ]
     },
     "execution_count": 126,
     "metadata": {},
     "output_type": "execute_result"
    }
   ],
   "source": [
    "ifm_mean = ndcg_df['IFM_this'].mean()\n",
    "ifm_mean"
   ]
  },
  {
   "cell_type": "code",
   "execution_count": 127,
   "metadata": {
    "ExecuteTime": {
     "end_time": "2020-09-09T08:13:03.154009Z",
     "start_time": "2020-09-09T08:13:03.149988Z"
    },
    "scrolled": true
   },
   "outputs": [
    {
     "data": {
      "text/plain": [
       "0.26793787783209794"
      ]
     },
     "execution_count": 127,
     "metadata": {},
     "output_type": "execute_result"
    }
   ],
   "source": [
    "svd_mean = ndcg_df['SVD_this'].mean()\n",
    "svd_mean"
   ]
  },
  {
   "cell_type": "markdown",
   "metadata": {},
   "source": [
    "## MRR"
   ]
  },
  {
   "cell_type": "code",
   "execution_count": 128,
   "metadata": {
    "ExecuteTime": {
     "end_time": "2020-09-09T08:13:03.299619Z",
     "start_time": "2020-09-09T08:13:03.155970Z"
    }
   },
   "outputs": [],
   "source": [
    "ifm_rr = RR_forUsers(ifm_relevance_list)\n",
    "ifm_mrr = calculate_mrr(ifm_rr)\n",
    "svd_rr = RR_forUsers(svd_relevance_list)\n",
    "svd_mrr = calculate_mrr(svd_rr)\n",
    "lgbm_rr = RR_forUsers(lgbm_relevance_list)\n",
    "lgbm_mrr = calculate_mrr(lgbm_rr)"
   ]
  },
  {
   "cell_type": "code",
   "execution_count": 129,
   "metadata": {
    "ExecuteTime": {
     "end_time": "2020-09-09T08:13:03.316541Z",
     "start_time": "2020-09-09T07:16:12.700Z"
    }
   },
   "outputs": [
    {
     "name": "stdout",
     "output_type": "stream",
     "text": [
      "IFM: 0.1677689930442386\n",
      "SVD: 0.15799582386281288\n",
      "LightGBM: 0.17635027322320065\n"
     ]
    }
   ],
   "source": [
    "print('IFM:',ifm_mrr)\n",
    "print('SVD:',svd_mrr)\n",
    "print('LightGBM:',lgbm_mrr)"
   ]
  },
  {
   "cell_type": "markdown",
   "metadata": {},
   "source": [
    "## MAP"
   ]
  },
  {
   "cell_type": "code",
   "execution_count": 130,
   "metadata": {
    "ExecuteTime": {
     "end_time": "2020-09-09T08:13:03.317538Z",
     "start_time": "2020-09-09T07:16:12.711Z"
    }
   },
   "outputs": [
    {
     "name": "stderr",
     "output_type": "stream",
     "text": [
      "C:\\Users\\papad\\Anaconda3\\lib\\site-packages\\ipykernel_launcher.py:17: RuntimeWarning: invalid value encountered in double_scalars\n"
     ]
    }
   ],
   "source": [
    "ifm_ap = calculate_averagePrecision(ifm_relevance_list)\n",
    "ifm_ap = pd.Series(ifm_ap).fillna(0).tolist()\n",
    "ifm_map = calculate_MAP(ifm_ap)\n",
    "svd_ap = calculate_averagePrecision(svd_relevance_list)\n",
    "svd_ap = pd.Series(svd_ap).fillna(0).tolist()\n",
    "svd_map = calculate_MAP(svd_ap)\n",
    "lgbm_ap = calculate_averagePrecision(lgbm_relevance_list)\n",
    "lgbm_ap = pd.Series(lgbm_ap).fillna(0).tolist()\n",
    "lgbm_map = calculate_MAP(lgbm_ap)"
   ]
  },
  {
   "cell_type": "code",
   "execution_count": 131,
   "metadata": {
    "ExecuteTime": {
     "end_time": "2020-09-09T08:13:03.318537Z",
     "start_time": "2020-09-09T07:16:12.720Z"
    }
   },
   "outputs": [
    {
     "name": "stdout",
     "output_type": "stream",
     "text": [
      "IFM: 0.09082615297760298\n",
      "SVD: 0.0757962267994511\n",
      "LightGBM: 0.08461781563540655\n"
     ]
    }
   ],
   "source": [
    "print('IFM:',ifm_map)\n",
    "print('SVD:',svd_map)\n",
    "print('LightGBM:',lgbm_map)"
   ]
  },
  {
   "cell_type": "markdown",
   "metadata": {},
   "source": [
    "## Visualization"
   ]
  },
  {
   "cell_type": "code",
   "execution_count": 132,
   "metadata": {
    "ExecuteTime": {
     "end_time": "2020-09-09T08:13:03.319539Z",
     "start_time": "2020-09-09T07:16:12.731Z"
    }
   },
   "outputs": [
    {
     "data": {
      "text/plain": [
       "<matplotlib.legend.Legend at 0x1cf2008a248>"
      ]
     },
     "execution_count": 132,
     "metadata": {},
     "output_type": "execute_result"
    },
    {
     "data": {
      "image/png": "[encoded data removed]",
      "text/plain": [
       "<Figure size 432x288 with 1 Axes>"
      ]
     },
     "metadata": {
      "needs_background": "light"
     },
     "output_type": "display_data"
    }
   ],
   "source": [
    "plt.scatter(len(num_users),lgbm_mean,label = 'Light GBM')\n",
    "plt.scatter(len(num_users),svd_mean, label = 'SVD')\n",
    "plt.scatter(len(num_users),ifm_mean, label = 'Implicit FM')\n",
    "plt.xlabel('Number of Users')\n",
    "plt.ylabel('NDCG mean score')\n",
    "plt.title('LGBM - Mean NDCG score by number of users')\n",
    "plt.legend()"
   ]
  },
  {
   "cell_type": "code",
   "execution_count": 133,
   "metadata": {
    "ExecuteTime": {
     "end_time": "2020-09-09T08:13:03.321527Z",
     "start_time": "2020-09-09T07:16:12.742Z"
    }
   },
   "outputs": [
    {
     "data": {
      "text/plain": [
       "<matplotlib.legend.Legend at 0x1cf20149208>"
      ]
     },
     "execution_count": 133,
     "metadata": {},
     "output_type": "execute_result"
    },
    {
     "data": {
      "image/png": "[encoded data removed]",
      "text/plain": [
       "<Figure size 432x288 with 1 Axes>"
      ]
     },
     "metadata": {
      "needs_background": "light"
     },
     "output_type": "display_data"
    }
   ],
   "source": [
    "plt.scatter(len(num_users),lgbm_mrr,label = 'Light GBM')\n",
    "plt.scatter(len(num_users),svd_mrr, label = 'SVD')\n",
    "plt.scatter(len(num_users),ifm_mrr, label = 'Implicit FM')\n",
    "plt.xlabel('Number of Users')\n",
    "plt.ylabel('MRR Score')\n",
    "plt.title('MRR Scores')\n",
    "plt.legend()"
   ]
  },
  {
   "cell_type": "code",
   "execution_count": 134,
   "metadata": {
    "ExecuteTime": {
     "end_time": "2020-09-09T08:13:03.322526Z",
     "start_time": "2020-09-09T07:16:12.751Z"
    }
   },
   "outputs": [
    {
     "data": {
      "text/plain": [
       "<matplotlib.legend.Legend at 0x1cf201b9088>"
      ]
     },
     "execution_count": 134,
     "metadata": {},
     "output_type": "execute_result"
    },
    {
     "data": {
      "image/png": "[encoded data removed]",
      "text/plain": [
       "<Figure size 432x288 with 1 Axes>"
      ]
     },
     "metadata": {
      "needs_background": "light"
     },
     "output_type": "display_data"
    }
   ],
   "source": [
    "plt.scatter(len(num_users),lgbm_map,label = 'Light GBM')\n",
    "plt.scatter(len(num_users),svd_map, label = 'SVD')\n",
    "plt.scatter(len(num_users),ifm_map, label = 'Implicit FM')\n",
    "plt.xlabel('Number of Users')\n",
    "plt.ylabel('MAP Score')\n",
    "plt.title('MAP Scores')\n",
    "plt.legend()"
   ]
  },
  {
   "cell_type": "markdown",
   "metadata": {},
   "source": [
    "## Feature Importance"
   ]
  },
  {
   "cell_type": "code",
   "execution_count": 135,
   "metadata": {
    "ExecuteTime": {
     "end_time": "2020-09-09T08:13:03.324526Z",
     "start_time": "2020-09-09T07:16:12.764Z"
    }
   },
   "outputs": [],
   "source": [
    "feature_names = excel_df.columns.values[1:39]"
   ]
  },
  {
   "cell_type": "code",
   "execution_count": 136,
   "metadata": {
    "ExecuteTime": {
     "end_time": "2020-09-09T08:13:03.325549Z",
     "start_time": "2020-09-09T07:16:12.773Z"
    }
   },
   "outputs": [
    {
     "data": {
      "text/plain": [
       "38"
      ]
     },
     "execution_count": 136,
     "metadata": {},
     "output_type": "execute_result"
    }
   ],
   "source": [
    "len(feature_names)"
   ]
  },
  {
   "cell_type": "code",
   "execution_count": 137,
   "metadata": {},
   "outputs": [
    {
     "data": {
      "text/plain": [
       "38"
      ]
     },
     "execution_count": 137,
     "metadata": {},
     "output_type": "execute_result"
    }
   ],
   "source": [
    "len(gbm.feature_importances_)"
   ]
  },
  {
   "cell_type": "code",
   "execution_count": 138,
   "metadata": {
    "ExecuteTime": {
     "end_time": "2020-09-09T08:13:03.327512Z",
     "start_time": "2020-09-09T07:16:12.781Z"
    }
   },
   "outputs": [
    {
     "data": {
      "text/plain": [
       "Text(0.5, 1.0, 'Importance of Features')"
      ]
     },
     "execution_count": 138,
     "metadata": {},
     "output_type": "execute_result"
    },
    {
     "data": {
      "image/png": "[encoded data removed]",
      "text/plain": [
       "<Figure size 1000x400 with 1 Axes>"
      ]
     },
     "metadata": {
      "needs_background": "light"
     },
     "output_type": "display_data"
    }
   ],
   "source": [
    "from matplotlib.pyplot import figure\n",
    "figure(figsize=(10, 4),dpi=100)\n",
    "plt.bar(feature_names,gbm.feature_importances_)\n",
    "plt.xticks(rotation='vertical')\n",
    "plt.ylabel('Importance')\n",
    "plt.xlabel('Feature name')\n",
    "plt.title('Importance of Features')"
   ]
  },
  {
   "cell_type": "code",
   "execution_count": 139,
   "metadata": {
    "ExecuteTime": {
     "end_time": "2020-09-09T08:13:03.328509Z",
     "start_time": "2020-09-09T07:16:12.790Z"
    }
   },
   "outputs": [
    {
     "data": {
      "text/plain": [
       "array([565, 400, 538, 362,   0, 369,   0,   0,   0,   0,   0,   0,   0,\n",
       "         0,   0,   0,   0,   0,   0,   0,   0,   0,   0,   0,   0,   0,\n",
       "         0,   0,   0,   0,   0,   0,   0,   0,   0,   0,   0, 501])"
      ]
     },
     "execution_count": 139,
     "metadata": {},
     "output_type": "execute_result"
    }
   ],
   "source": [
    "gbm.feature_importances_"
   ]
  },
  {
   "cell_type": "markdown",
   "metadata": {},
   "source": [
    "# Research Questions"
   ]
  },
  {
   "cell_type": "markdown",
   "metadata": {},
   "source": [
    "## Research Question functions"
   ]
  },
  {
   "cell_type": "code",
   "execution_count": 140,
   "metadata": {
    "ExecuteTime": {
     "end_time": "2020-09-09T08:13:03.333495Z",
     "start_time": "2020-09-09T07:16:12.839Z"
    }
   },
   "outputs": [],
   "source": [
    "def prepareXY(features):\n",
    "    X = np.array(features)\n",
    "    #X = X.reshape(len(num_users)*k,len(features))\n",
    "    X = X.reshape(len(features), len(num_users)*k)\n",
    "    X = np.transpose(X)\n",
    "    X_train = X\n",
    "    X_test = X\n",
    "    X_val = X\n",
    "    return X_train, X_test, X_val"
   ]
  },
  {
   "cell_type": "code",
   "execution_count": 141,
   "metadata": {
    "ExecuteTime": {
     "end_time": "2020-09-09T08:13:03.334494Z",
     "start_time": "2020-09-09T07:16:12.849Z"
    }
   },
   "outputs": [],
   "source": [
    "def lgbm_fit_predict(X_train, y_train, group_train, X_val, y_val, group_val, X_test):\n",
    "    gbm.fit(X_train, y_train, group=group_train,\n",
    "            eval_set=[(X_val, y_val)], eval_group=[group_val],\n",
    "            eval_at=[1, 3, 5, 10], eval_metric='ndcg',verbose=0)\n",
    "    #print(gbm.best_iteration_)\n",
    "    test_pred = gbm.predict(X_test)\n",
    "    p = 0\n",
    "    m = k\n",
    "    lgbm_pred_per_user = []\n",
    "    for i in range(len(num_users)):\n",
    "        lgbm_pred_per_user.append(test_pred[p:m])\n",
    "        p += k\n",
    "        m += k\n",
    "    return lgbm_pred_per_user,gbm.feature_importances_"
   ]
  },
  {
   "cell_type": "code",
   "execution_count": 142,
   "metadata": {
    "ExecuteTime": {
     "end_time": "2020-09-09T08:13:03.336524Z",
     "start_time": "2020-09-09T07:16:12.859Z"
    }
   },
   "outputs": [],
   "source": [
    "def plot_feature_importances(features, importances):\n",
    "    feature_names = excel_df.columns[1:len(features)+1]\n",
    "    print(feature_names)\n",
    "    print(len(feature_names))\n",
    "    print(len(importances))\n",
    "    df=pd.DataFrame({'allvarlist': feature_names,'importances':importances})\n",
    "    df.sort_values('importances',inplace=True, ascending = False)\n",
    "    figure(figsize=(10, 4), dpi=100)\n",
    "    plt.bar(df['allvarlist'], df['importances'])\n",
    "    plt.xticks(rotation='vertical')\n",
    "    plt.ylabel('Importance')\n",
    "    plt.xlabel('Feature name')\n",
    "    plt.title('Importance of Features')"
   ]
  },
  {
   "cell_type": "code",
   "execution_count": 261,
   "metadata": {
    "ExecuteTime": {
     "end_time": "2020-09-09T08:13:03.337522Z",
     "start_time": "2020-09-09T07:16:12.868Z"
    }
   },
   "outputs": [],
   "source": [
    "def mrr_map(lgbm_relevance_list):\n",
    "    lgbm_rr = RR_forUsers(lgbm_relevance_list)\n",
    "    lgbm_mrr = calculate_mrr(lgbm_rr)\n",
    "    lgbm_ap = calculate_averagePrecision(lgbm_relevance_list)\n",
    "    lgbm_ap = pd.Series(lgbm_ap).fillna(0).tolist()\n",
    "    lgbm_map = calculate_MAP(lgbm_ap)\n",
    "    return lgbm_mrr, lgbm_map, lgbm_rr, lgbm_ap"
   ]
  },
  {
   "cell_type": "code",
   "execution_count": 144,
   "metadata": {
    "ExecuteTime": {
     "end_time": "2020-09-09T08:13:03.338482Z",
     "start_time": "2020-09-09T07:16:12.878Z"
    }
   },
   "outputs": [],
   "source": [
    "def compare_metrics(lgbm_NDCG, lgbm_MRR, lgbm_MAP):\n",
    "    df = pd.DataFrame({'LightGBM_NDCG': lgbm_NDCG, 'IFM_NDCG': ifm_mean, 'SVD_NDCG': svd_mean,\n",
    "                            'LightGBM_MRR': lgbm_MRR, 'IFM_MRR': ifm_mrr, 'SVD_MRR': svd_mrr,\n",
    "                            'LightGBM_MAP': lgbm_MAP, 'IFM_MAP': ifm_map, 'SVD_MAP': svd_map},index=[0])\n",
    "    return df"
   ]
  },
  {
   "cell_type": "markdown",
   "metadata": {},
   "source": [
    "## All features"
   ]
  },
  {
   "cell_type": "code",
   "execution_count": 288,
   "metadata": {
    "ExecuteTime": {
     "end_time": "2020-09-09T08:13:03.593837Z",
     "start_time": "2020-09-09T07:16:14.980Z"
    }
   },
   "outputs": [],
   "source": [
    "import scipy.stats as st\n",
    "features = np.stack((feature1, feature2, feature3, feature5, feature6,\n",
    "                     feature7[0], feature7[1], feature7[2], feature7[3],\n",
    "                     feature7[4], feature7[5], feature7[6], feature7[7],\n",
    "                     feature7[8], feature7[9], feature7[10], feature7[11],\n",
    "                     feature7[12], feature7[13], feature7[14], feature7[15],\n",
    "                     feature7[16], feature7[17], feature7[18], feature7[19],\n",
    "                     feature7[20], feature7[21], feature7[22], feature7[23],\n",
    "                     feature7[24], feature7[25], feature7[26], feature7[27],\n",
    "                     feature7[28], feature7[29], feature7[30], feature7[31],\n",
    "                     feature47))"
   ]
  },
  {
   "cell_type": "code",
   "execution_count": 272,
   "metadata": {
    "ExecuteTime": {
     "end_time": "2020-09-09T08:13:03.594797Z",
     "start_time": "2020-09-09T07:16:14.990Z"
    }
   },
   "outputs": [
    {
     "data": {
      "text/plain": [
       "38"
      ]
     },
     "execution_count": 272,
     "metadata": {},
     "output_type": "execute_result"
    }
   ],
   "source": [
    "len(features)"
   ]
  },
  {
   "cell_type": "code",
   "execution_count": 273,
   "metadata": {
    "ExecuteTime": {
     "end_time": "2020-09-09T08:13:03.595794Z",
     "start_time": "2020-09-09T07:16:14.999Z"
    }
   },
   "outputs": [],
   "source": [
    "X_train, X_test, X_val = prepareXY(features)\n",
    "lgbm_pred_per_user, importances = lgbm_fit_predict(X_train, y_train, group_train, X_val, y_val, group_val, X_test)"
   ]
  },
  {
   "cell_type": "code",
   "execution_count": 274,
   "metadata": {
    "ExecuteTime": {
     "end_time": "2020-09-09T08:13:03.596792Z",
     "start_time": "2020-09-09T07:16:15.009Z"
    }
   },
   "outputs": [
    {
     "name": "stderr",
     "output_type": "stream",
     "text": [
      "C:\\Users\\papad\\Anaconda3\\lib\\site-packages\\ipykernel_launcher.py:2: RuntimeWarning: invalid value encountered in double_scalars\n",
      "  \n"
     ]
    },
    {
     "data": {
      "text/plain": [
       "0.2811663685293966"
      ]
     },
     "execution_count": 274,
     "metadata": {},
     "output_type": "execute_result"
    }
   ],
   "source": [
    "lgbm_NDCG = []\n",
    "lgbm_relevance_list = []\n",
    "for i in range(len(num_users)):\n",
    "    excel_df = pd.DataFrame({'movie_id': target_movies[i], 'implicit_score': feature1[i],\n",
    "                         'implicit_rank': feature2[i], 'svd_score': feature3[i],\n",
    "                         '#users_watched': feature5[i],\n",
    "                         'new_user': feature6[i],\n",
    "                         'emedding1': feature7[0][i], 'emedding2': feature7[1][i], 'emedding3': feature7[2][i],\n",
    "                         'emedding4': feature7[3][i], 'emedding5': feature7[4][i], 'emedding6': feature7[5][i],\n",
    "                         'emedding7': feature7[6][i], 'emedding8': feature7[7][i], 'emedding9': feature7[8][i],\n",
    "                         'emedding10': feature7[9][i], 'emedding11': feature7[10][i], 'emedding12': feature7[11][i],\n",
    "                         'emedding13': feature7[12][i], 'emedding14': feature7[13][i], 'emedding15': feature7[14][i],\n",
    "                         'emedding16': feature7[15][i], 'emedding17': feature7[16][i], 'emedding18': feature7[17][i],\n",
    "                         'emedding19': feature7[18][i], 'emedding20': feature7[19][i], 'emedding21': feature7[20][i],\n",
    "                         'emedding22': feature7[21][i], 'emedding23': feature7[22][i], 'emedding24': feature7[23][i],\n",
    "                         'emedding25': feature7[24][i], 'emedding26': feature7[25][i], 'emedding27': feature7[26][i],\n",
    "                         'emedding28': feature7[27][i], 'emedding29': feature7[28][i], 'emedding30': feature7[29][i],\n",
    "                         'emedding31': feature7[30][i], 'emedding32': feature7[31][i], 'svd_rank': feature47[i],\n",
    "                         'train_label': label_train[i], 'test_label': label_test[i],\n",
    "                         'y_val': label_val[i], 'LGBM Score': lgbm_pred_per_user[i]})\n",
    "    excel_df = excel_df.sort_values('LGBM Score', ascending=False)\n",
    "    relevance_lgbm_user = excel_df['test_label'].values.tolist()\n",
    "    lgbm_relevance_list.append(relevance_lgbm_user)\n",
    "    lgbm_NDCG.append(NDCG_forUser(relevance_lgbm_user))\n",
    "lgbm_NDCG = pd.Series(lgbm_NDCG).fillna(0).tolist()\n",
    "ndcg_list_all_features = lgbm_NDCG\n",
    "lgbm_NDCG = np.mean(lgbm_NDCG)\n",
    "lgbm_NDCG"
   ]
  },
  {
   "cell_type": "code",
   "execution_count": 275,
   "metadata": {
    "ExecuteTime": {
     "end_time": "2020-09-09T08:13:03.597791Z",
     "start_time": "2020-09-09T07:16:15.018Z"
    }
   },
   "outputs": [
    {
     "name": "stderr",
     "output_type": "stream",
     "text": [
      "C:\\Users\\papad\\Anaconda3\\lib\\site-packages\\ipykernel_launcher.py:17: RuntimeWarning: invalid value encountered in double_scalars\n"
     ]
    }
   ],
   "source": [
    "lgbm_mrr, lgbm_map, lgbm_rr_all_features, lgbm_ap_all_features = mrr_map(lgbm_relevance_list)"
   ]
  },
  {
   "cell_type": "code",
   "execution_count": 276,
   "metadata": {
    "ExecuteTime": {
     "end_time": "2020-09-09T08:13:03.599819Z",
     "start_time": "2020-09-09T07:16:15.027Z"
    }
   },
   "outputs": [],
   "source": [
    "metrics_df = compare_metrics(lgbm_NDCG, lgbm_mrr, lgbm_map)"
   ]
  },
  {
   "cell_type": "code",
   "execution_count": 277,
   "metadata": {
    "ExecuteTime": {
     "end_time": "2020-09-09T08:13:03.600781Z",
     "start_time": "2020-09-09T07:16:15.036Z"
    }
   },
   "outputs": [
    {
     "data": {
      "text/html": [
       "<div>\n",
       "<style scoped>\n",
       "    .dataframe tbody tr th:only-of-type {\n",
       "        vertical-align: middle;\n",
       "    }\n",
       "\n",
       "    .dataframe tbody tr th {\n",
       "        vertical-align: top;\n",
       "    }\n",
       "\n",
       "    .dataframe thead th {\n",
       "        text-align: right;\n",
       "    }\n",
       "</style>\n",
       "<table border=\"1\" class=\"dataframe\">\n",
       "  <thead>\n",
       "    <tr style=\"text-align: right;\">\n",
       "      <th></th>\n",
       "      <th>LightGBM_NDCG</th>\n",
       "      <th>IFM_NDCG</th>\n",
       "      <th>SVD_NDCG</th>\n",
       "      <th>LightGBM_MRR</th>\n",
       "      <th>IFM_MRR</th>\n",
       "      <th>SVD_MRR</th>\n",
       "      <th>LightGBM_MAP</th>\n",
       "      <th>IFM_MAP</th>\n",
       "      <th>SVD_MAP</th>\n",
       "    </tr>\n",
       "  </thead>\n",
       "  <tbody>\n",
       "    <tr>\n",
       "      <th>0</th>\n",
       "      <td>0.281166</td>\n",
       "      <td>0.285149</td>\n",
       "      <td>0.267938</td>\n",
       "      <td>0.17635</td>\n",
       "      <td>0.167769</td>\n",
       "      <td>0.157996</td>\n",
       "      <td>0.084618</td>\n",
       "      <td>0.090826</td>\n",
       "      <td>0.075796</td>\n",
       "    </tr>\n",
       "  </tbody>\n",
       "</table>\n",
       "</div>"
      ],
      "text/plain": [
       "   LightGBM_NDCG  IFM_NDCG  SVD_NDCG  LightGBM_MRR   IFM_MRR   SVD_MRR  \\\n",
       "0       0.281166  0.285149  0.267938       0.17635  0.167769  0.157996   \n",
       "\n",
       "   LightGBM_MAP   IFM_MAP   SVD_MAP  \n",
       "0      0.084618  0.090826  0.075796  "
      ]
     },
     "execution_count": 277,
     "metadata": {},
     "output_type": "execute_result"
    }
   ],
   "source": [
    "metrics_df"
   ]
  },
  {
   "cell_type": "code",
   "execution_count": 278,
   "metadata": {
    "ExecuteTime": {
     "end_time": "2020-09-09T08:13:03.602775Z",
     "start_time": "2020-09-09T07:16:15.045Z"
    }
   },
   "outputs": [],
   "source": [
    "metrics_df.to_csv(r'C:\\Users\\papad\\Desktop\\DISS WRITE\\d.csv', index = False)"
   ]
  },
  {
   "cell_type": "code",
   "execution_count": 279,
   "metadata": {
    "ExecuteTime": {
     "end_time": "2020-09-09T08:13:03.603773Z",
     "start_time": "2020-09-09T07:16:15.054Z"
    },
    "scrolled": true
   },
   "outputs": [
    {
     "name": "stdout",
     "output_type": "stream",
     "text": [
      "Index(['implicit_score', 'implicit_rank', 'svd_score', '#users_watched',\n",
      "       'new_user', 'emedding1', 'emedding2', 'emedding3', 'emedding4',\n",
      "       'emedding5', 'emedding6', 'emedding7', 'emedding8', 'emedding9',\n",
      "       'emedding10', 'emedding11', 'emedding12', 'emedding13', 'emedding14',\n",
      "       'emedding15', 'emedding16', 'emedding17', 'emedding18', 'emedding19',\n",
      "       'emedding20', 'emedding21', 'emedding22', 'emedding23', 'emedding24',\n",
      "       'emedding25', 'emedding26', 'emedding27', 'emedding28', 'emedding29',\n",
      "       'emedding30', 'emedding31', 'emedding32', 'svd_rank'],\n",
      "      dtype='object')\n",
      "38\n",
      "38\n"
     ]
    },
    {
     "data": {
      "image/png": "[encoded data removed]",
      "text/plain": [
       "<Figure size 1000x400 with 1 Axes>"
      ]
     },
     "metadata": {
      "needs_background": "light"
     },
     "output_type": "display_data"
    }
   ],
   "source": [
    "plot_feature_importances(features, importances)"
   ]
  },
  {
   "cell_type": "code",
   "execution_count": 280,
   "metadata": {
    "ExecuteTime": {
     "end_time": "2020-09-09T08:13:03.604770Z",
     "start_time": "2020-09-09T07:16:15.063Z"
    }
   },
   "outputs": [
    {
     "data": {
      "text/plain": [
       "array([565, 400, 538, 362,   0, 369,   0,   0,   0,   0,   0,   0,   0,\n",
       "         0,   0,   0,   0,   0,   0,   0,   0,   0,   0,   0,   0,   0,\n",
       "         0,   0,   0,   0,   0,   0,   0,   0,   0,   0,   0, 501])"
      ]
     },
     "execution_count": 280,
     "metadata": {},
     "output_type": "execute_result"
    }
   ],
   "source": [
    "importances"
   ]
  },
  {
   "cell_type": "markdown",
   "metadata": {},
   "source": [
    "## What is the impact of items' embeddings features on the effectiveness of a model for item recommendations?"
   ]
  },
  {
   "cell_type": "markdown",
   "metadata": {},
   "source": [
    "1. Post-hoc analysis\n",
    "2. Spearman correlation\n",
    "try different features, see what happens, and analyze it to explain. \n"
   ]
  },
  {
   "cell_type": "markdown",
   "metadata": {
    "ExecuteTime": {
     "end_time": "2020-08-13T18:16:18.212676Z",
     "start_time": "2020-08-13T18:16:18.181880Z"
    }
   },
   "source": [
    "### No item embeddings features"
   ]
  },
  {
   "cell_type": "code",
   "execution_count": 297,
   "metadata": {
    "ExecuteTime": {
     "end_time": "2020-09-09T08:13:03.495063Z",
     "start_time": "2020-09-09T07:16:14.245Z"
    }
   },
   "outputs": [],
   "source": [
    "features = np.stack((feature1,feature2,feature3,feature5,feature6,feature47))"
   ]
  },
  {
   "cell_type": "code",
   "execution_count": 298,
   "metadata": {
    "ExecuteTime": {
     "end_time": "2020-09-09T08:13:03.496063Z",
     "start_time": "2020-09-09T07:16:14.256Z"
    }
   },
   "outputs": [
    {
     "data": {
      "text/plain": [
       "6"
      ]
     },
     "execution_count": 298,
     "metadata": {},
     "output_type": "execute_result"
    }
   ],
   "source": [
    "len(features)"
   ]
  },
  {
   "cell_type": "code",
   "execution_count": 299,
   "metadata": {
    "ExecuteTime": {
     "end_time": "2020-09-09T08:13:03.497060Z",
     "start_time": "2020-09-09T07:16:14.267Z"
    }
   },
   "outputs": [],
   "source": [
    "X_train, X_test, X_val = prepareXY(features)"
   ]
  },
  {
   "cell_type": "code",
   "execution_count": 300,
   "metadata": {},
   "outputs": [],
   "source": [
    "lgbm_pred_per_user, importances = lgbm_fit_predict(X_train, y_train, group_train, X_val, y_val, group_val, X_test)"
   ]
  },
  {
   "cell_type": "code",
   "execution_count": 301,
   "metadata": {
    "ExecuteTime": {
     "end_time": "2020-09-09T08:13:03.498057Z",
     "start_time": "2020-09-09T07:16:14.278Z"
    }
   },
   "outputs": [
    {
     "name": "stderr",
     "output_type": "stream",
     "text": [
      "C:\\Users\\papad\\Anaconda3\\lib\\site-packages\\ipykernel_launcher.py:2: RuntimeWarning: invalid value encountered in double_scalars\n",
      "  \n"
     ]
    },
    {
     "data": {
      "text/plain": [
       "0.28074010208307504"
      ]
     },
     "execution_count": 301,
     "metadata": {},
     "output_type": "execute_result"
    }
   ],
   "source": [
    "lgbm_NDCG = []\n",
    "lgbm_relevance_list = []\n",
    "for i in range(len(num_users)):\n",
    "    excel_df = pd.DataFrame({'movie_id': target_movies[i], 'implicit_score': feature1[i],\n",
    "                         'implicit_rank': feature2[i], 'svd_score': feature3[i],\n",
    "                         '#users_watched': feature5[i], 'new_user': feature6[i],\n",
    "                         'svd_rank': feature47[i],\n",
    "                         'train_label': label_train[i], 'test_label': label_test[i],\n",
    "                         'y_val': label_val[i], 'LGBM Score': lgbm_pred_per_user[i]})\n",
    "    excel_df = excel_df.sort_values('LGBM Score', ascending=False)\n",
    "    relevance_lgbm_user = excel_df['test_label'].values.tolist()\n",
    "    lgbm_relevance_list.append(relevance_lgbm_user)\n",
    "    lgbm_NDCG.append(NDCG_forUser(relevance_lgbm_user))\n",
    "lgbm_NDCG = pd.Series(lgbm_NDCG).fillna(0).tolist()\n",
    "ndcg_list_noemb = lgbm_NDCG\n",
    "lgbm_NDCG = np.mean(lgbm_NDCG)\n",
    "lgbm_NDCG"
   ]
  },
  {
   "cell_type": "code",
   "execution_count": 302,
   "metadata": {
    "ExecuteTime": {
     "end_time": "2020-09-09T08:13:03.500050Z",
     "start_time": "2020-09-09T07:16:14.290Z"
    }
   },
   "outputs": [
    {
     "name": "stderr",
     "output_type": "stream",
     "text": [
      "C:\\Users\\papad\\Anaconda3\\lib\\site-packages\\ipykernel_launcher.py:17: RuntimeWarning: invalid value encountered in double_scalars\n"
     ]
    }
   ],
   "source": [
    "lgbm_mrr, lgbm_map, lgbm_rr_noemb, lgbm_ap_noemb = mrr_map(lgbm_relevance_list)"
   ]
  },
  {
   "cell_type": "code",
   "execution_count": 303,
   "metadata": {},
   "outputs": [
    {
     "name": "stdout",
     "output_type": "stream",
     "text": [
      "Ttest_relResult(statistic=-0.8119393448537856, pvalue=0.41693249914870245)\n"
     ]
    }
   ],
   "source": [
    "print(st.ttest_rel(lgbm_rr_noemb,lgbm_rr_all_features))"
   ]
  },
  {
   "cell_type": "code",
   "execution_count": 304,
   "metadata": {},
   "outputs": [
    {
     "name": "stdout",
     "output_type": "stream",
     "text": [
      "Ttest_relResult(statistic=0.07464873500275705, pvalue=0.9405023919350155)\n"
     ]
    }
   ],
   "source": [
    "print(st.ttest_rel(lgbm_ap_noemb,lgbm_ap_all_features))"
   ]
  },
  {
   "cell_type": "code",
   "execution_count": 305,
   "metadata": {},
   "outputs": [
    {
     "name": "stdout",
     "output_type": "stream",
     "text": [
      "Ttest_relResult(statistic=-0.2931206455464255, pvalue=0.7694633166745466)\n"
     ]
    }
   ],
   "source": [
    "print(st.ttest_rel(ndcg_list_noemb,ndcg_list_all_features))"
   ]
  },
  {
   "cell_type": "code",
   "execution_count": 306,
   "metadata": {
    "ExecuteTime": {
     "end_time": "2020-09-09T08:13:03.501047Z",
     "start_time": "2020-09-09T07:16:14.301Z"
    }
   },
   "outputs": [],
   "source": [
    "metrics_df = compare_metrics(lgbm_NDCG, lgbm_mrr, lgbm_map)"
   ]
  },
  {
   "cell_type": "code",
   "execution_count": 307,
   "metadata": {
    "ExecuteTime": {
     "end_time": "2020-09-09T08:13:03.502047Z",
     "start_time": "2020-09-09T07:16:14.314Z"
    }
   },
   "outputs": [
    {
     "data": {
      "text/html": [
       "<div>\n",
       "<style scoped>\n",
       "    .dataframe tbody tr th:only-of-type {\n",
       "        vertical-align: middle;\n",
       "    }\n",
       "\n",
       "    .dataframe tbody tr th {\n",
       "        vertical-align: top;\n",
       "    }\n",
       "\n",
       "    .dataframe thead th {\n",
       "        text-align: right;\n",
       "    }\n",
       "</style>\n",
       "<table border=\"1\" class=\"dataframe\">\n",
       "  <thead>\n",
       "    <tr style=\"text-align: right;\">\n",
       "      <th></th>\n",
       "      <th>LightGBM_NDCG</th>\n",
       "      <th>IFM_NDCG</th>\n",
       "      <th>SVD_NDCG</th>\n",
       "      <th>LightGBM_MRR</th>\n",
       "      <th>IFM_MRR</th>\n",
       "      <th>SVD_MRR</th>\n",
       "      <th>LightGBM_MAP</th>\n",
       "      <th>IFM_MAP</th>\n",
       "      <th>SVD_MAP</th>\n",
       "    </tr>\n",
       "  </thead>\n",
       "  <tbody>\n",
       "    <tr>\n",
       "      <th>0</th>\n",
       "      <td>0.28074</td>\n",
       "      <td>0.285149</td>\n",
       "      <td>0.267938</td>\n",
       "      <td>0.172811</td>\n",
       "      <td>0.167769</td>\n",
       "      <td>0.157996</td>\n",
       "      <td>0.084726</td>\n",
       "      <td>0.090826</td>\n",
       "      <td>0.075796</td>\n",
       "    </tr>\n",
       "  </tbody>\n",
       "</table>\n",
       "</div>"
      ],
      "text/plain": [
       "   LightGBM_NDCG  IFM_NDCG  SVD_NDCG  LightGBM_MRR   IFM_MRR   SVD_MRR  \\\n",
       "0        0.28074  0.285149  0.267938      0.172811  0.167769  0.157996   \n",
       "\n",
       "   LightGBM_MAP   IFM_MAP   SVD_MAP  \n",
       "0      0.084726  0.090826  0.075796  "
      ]
     },
     "execution_count": 307,
     "metadata": {},
     "output_type": "execute_result"
    }
   ],
   "source": [
    "metrics_df"
   ]
  },
  {
   "cell_type": "code",
   "execution_count": 308,
   "metadata": {
    "ExecuteTime": {
     "end_time": "2020-09-09T08:13:03.503044Z",
     "start_time": "2020-09-09T07:16:14.325Z"
    }
   },
   "outputs": [],
   "source": [
    "metrics_df.to_csv(r'C:\\Users\\papad\\Desktop\\DISS WRITE\\d.csv', index = False)"
   ]
  },
  {
   "cell_type": "code",
   "execution_count": 309,
   "metadata": {
    "ExecuteTime": {
     "end_time": "2020-09-09T08:13:03.505037Z",
     "start_time": "2020-09-09T07:16:14.336Z"
    },
    "scrolled": true
   },
   "outputs": [
    {
     "name": "stdout",
     "output_type": "stream",
     "text": [
      "Index(['implicit_score', 'implicit_rank', 'svd_score', '#users_watched',\n",
      "       'new_user', 'svd_rank'],\n",
      "      dtype='object')\n",
      "6\n",
      "6\n"
     ]
    },
    {
     "data": {
      "image/png": "[encoded data removed]",
      "text/plain": [
       "<Figure size 1000x400 with 1 Axes>"
      ]
     },
     "metadata": {
      "needs_background": "light"
     },
     "output_type": "display_data"
    }
   ],
   "source": [
    "plot_feature_importances(features, importances)"
   ]
  },
  {
   "cell_type": "code",
   "execution_count": 310,
   "metadata": {
    "ExecuteTime": {
     "end_time": "2020-09-09T08:13:03.506033Z",
     "start_time": "2020-09-09T07:16:14.347Z"
    }
   },
   "outputs": [
    {
     "data": {
      "text/plain": [
       "array([615, 481, 598, 497,   0, 572])"
      ]
     },
     "execution_count": 310,
     "metadata": {},
     "output_type": "execute_result"
    }
   ],
   "source": [
    "importances"
   ]
  },
  {
   "cell_type": "markdown",
   "metadata": {
    "ExecuteTime": {
     "end_time": "2020-09-04T05:53:35.518838Z",
     "start_time": "2020-09-04T05:53:34.694949Z"
    }
   },
   "source": [
    "### First Embedding only"
   ]
  },
  {
   "cell_type": "code",
   "execution_count": 156,
   "metadata": {
    "ExecuteTime": {
     "end_time": "2020-09-09T08:13:03.509026Z",
     "start_time": "2020-09-09T07:16:14.361Z"
    }
   },
   "outputs": [],
   "source": [
    "features = np.stack((feature1, feature2, feature3, feature5, feature6,\n",
    "                     feature7[0], feature47))"
   ]
  },
  {
   "cell_type": "code",
   "execution_count": 157,
   "metadata": {
    "ExecuteTime": {
     "end_time": "2020-09-09T08:13:03.510026Z",
     "start_time": "2020-09-09T07:16:14.369Z"
    }
   },
   "outputs": [],
   "source": [
    "X_train, X_test, X_val = prepareXY(features)\n",
    "lgbm_pred_per_user, importances = lgbm_fit_predict(X_train, y_train, group_train, X_val, y_val, group_val, X_test)"
   ]
  },
  {
   "cell_type": "code",
   "execution_count": 158,
   "metadata": {
    "ExecuteTime": {
     "end_time": "2020-09-09T08:13:03.512018Z",
     "start_time": "2020-09-09T07:16:14.380Z"
    }
   },
   "outputs": [
    {
     "name": "stderr",
     "output_type": "stream",
     "text": [
      "C:\\Users\\papad\\Anaconda3\\lib\\site-packages\\ipykernel_launcher.py:2: RuntimeWarning: invalid value encountered in double_scalars\n",
      "  \n"
     ]
    },
    {
     "data": {
      "text/plain": [
       "0.2811663685293966"
      ]
     },
     "execution_count": 158,
     "metadata": {},
     "output_type": "execute_result"
    }
   ],
   "source": [
    "lgbm_NDCG = []\n",
    "lgbm_relevance_list = []\n",
    "for i in range(len(num_users)):\n",
    "    excel_df = pd.DataFrame({'movie_id': target_movies[i], 'implicit_score': feature1[i],\n",
    "                         'implicit_rank': feature2[i], 'svd_score': feature3[i],\n",
    "                         '#users_watched': feature5[i], 'new_user': feature6[i],\n",
    "                         'emedding1': feature7[0][i], 'svd_rank': feature47[i],\n",
    "                         'train_label': label_train[i], 'test_label': label_test[i],\n",
    "                         'y_val': label_val[i], 'LGBM Score': lgbm_pred_per_user[i]})\n",
    "    excel_df = excel_df.sort_values('LGBM Score', ascending=False)\n",
    "    relevance_lgbm_user = excel_df['test_label'].values.tolist()\n",
    "    lgbm_relevance_list.append(relevance_lgbm_user)\n",
    "    lgbm_NDCG.append(NDCG_forUser(relevance_lgbm_user))\n",
    "lgbm_NDCG = pd.Series(lgbm_NDCG).fillna(0).tolist()\n",
    "lgbm_NDCG = np.mean(lgbm_NDCG)\n",
    "lgbm_NDCG"
   ]
  },
  {
   "cell_type": "code",
   "execution_count": 159,
   "metadata": {
    "ExecuteTime": {
     "end_time": "2020-09-09T08:13:03.513016Z",
     "start_time": "2020-09-09T07:16:14.390Z"
    }
   },
   "outputs": [
    {
     "name": "stderr",
     "output_type": "stream",
     "text": [
      "C:\\Users\\papad\\Anaconda3\\lib\\site-packages\\ipykernel_launcher.py:17: RuntimeWarning: invalid value encountered in double_scalars\n"
     ]
    }
   ],
   "source": [
    "lgbm_mrr, lgbm_map = mrr_map(lgbm_relevance_list)"
   ]
  },
  {
   "cell_type": "code",
   "execution_count": 160,
   "metadata": {
    "ExecuteTime": {
     "end_time": "2020-09-09T08:13:03.514013Z",
     "start_time": "2020-09-09T07:16:14.399Z"
    }
   },
   "outputs": [],
   "source": [
    "metrics_df = compare_metrics(lgbm_NDCG, lgbm_mrr, lgbm_map)"
   ]
  },
  {
   "cell_type": "code",
   "execution_count": 161,
   "metadata": {
    "ExecuteTime": {
     "end_time": "2020-09-09T08:13:03.515010Z",
     "start_time": "2020-09-09T07:16:14.408Z"
    }
   },
   "outputs": [
    {
     "data": {
      "text/html": [
       "<div>\n",
       "<style scoped>\n",
       "    .dataframe tbody tr th:only-of-type {\n",
       "        vertical-align: middle;\n",
       "    }\n",
       "\n",
       "    .dataframe tbody tr th {\n",
       "        vertical-align: top;\n",
       "    }\n",
       "\n",
       "    .dataframe thead th {\n",
       "        text-align: right;\n",
       "    }\n",
       "</style>\n",
       "<table border=\"1\" class=\"dataframe\">\n",
       "  <thead>\n",
       "    <tr style=\"text-align: right;\">\n",
       "      <th></th>\n",
       "      <th>LightGBM_NDCG</th>\n",
       "      <th>IFM_NDCG</th>\n",
       "      <th>SVD_NDCG</th>\n",
       "      <th>LightGBM_MRR</th>\n",
       "      <th>IFM_MRR</th>\n",
       "      <th>SVD_MRR</th>\n",
       "      <th>LightGBM_MAP</th>\n",
       "      <th>IFM_MAP</th>\n",
       "      <th>SVD_MAP</th>\n",
       "    </tr>\n",
       "  </thead>\n",
       "  <tbody>\n",
       "    <tr>\n",
       "      <th>0</th>\n",
       "      <td>0.281166</td>\n",
       "      <td>0.285149</td>\n",
       "      <td>0.267938</td>\n",
       "      <td>0.17635</td>\n",
       "      <td>0.167769</td>\n",
       "      <td>0.157996</td>\n",
       "      <td>0.084618</td>\n",
       "      <td>0.090826</td>\n",
       "      <td>0.075796</td>\n",
       "    </tr>\n",
       "  </tbody>\n",
       "</table>\n",
       "</div>"
      ],
      "text/plain": [
       "   LightGBM_NDCG  IFM_NDCG  SVD_NDCG  LightGBM_MRR   IFM_MRR   SVD_MRR  \\\n",
       "0       0.281166  0.285149  0.267938       0.17635  0.167769  0.157996   \n",
       "\n",
       "   LightGBM_MAP   IFM_MAP   SVD_MAP  \n",
       "0      0.084618  0.090826  0.075796  "
      ]
     },
     "execution_count": 161,
     "metadata": {},
     "output_type": "execute_result"
    }
   ],
   "source": [
    "metrics_df"
   ]
  },
  {
   "cell_type": "code",
   "execution_count": 162,
   "metadata": {
    "ExecuteTime": {
     "end_time": "2020-09-09T08:13:03.516007Z",
     "start_time": "2020-09-09T07:16:14.417Z"
    }
   },
   "outputs": [],
   "source": [
    "metrics_df.to_csv(r'C:\\Users\\papad\\Desktop\\DISS WRITE\\d.csv', index = False)"
   ]
  },
  {
   "cell_type": "code",
   "execution_count": 163,
   "metadata": {
    "ExecuteTime": {
     "end_time": "2020-09-09T08:13:03.518031Z",
     "start_time": "2020-09-09T07:16:14.426Z"
    },
    "scrolled": true
   },
   "outputs": [
    {
     "name": "stdout",
     "output_type": "stream",
     "text": [
      "Index(['implicit_score', 'implicit_rank', 'svd_score', '#users_watched',\n",
      "       'new_user', 'emedding1', 'svd_rank'],\n",
      "      dtype='object')\n",
      "7\n",
      "7\n"
     ]
    },
    {
     "data": {
      "image/png": "[encoded data removed]",
      "text/plain": [
       "<Figure size 1000x400 with 1 Axes>"
      ]
     },
     "metadata": {
      "needs_background": "light"
     },
     "output_type": "display_data"
    }
   ],
   "source": [
    "plot_feature_importances(features, importances)"
   ]
  },
  {
   "cell_type": "code",
   "execution_count": 164,
   "metadata": {
    "ExecuteTime": {
     "end_time": "2020-09-09T08:13:03.519001Z",
     "start_time": "2020-09-09T07:16:14.435Z"
    }
   },
   "outputs": [
    {
     "data": {
      "text/plain": [
       "array([565, 400, 538, 362,   0, 369, 501])"
      ]
     },
     "execution_count": 164,
     "metadata": {},
     "output_type": "execute_result"
    }
   ],
   "source": [
    "importances"
   ]
  },
  {
   "cell_type": "markdown",
   "metadata": {},
   "source": [
    "## What is the impact of the items’rank on the effectiveness of amodel for item recommendations?"
   ]
  },
  {
   "cell_type": "markdown",
   "metadata": {
    "ExecuteTime": {
     "end_time": "2020-08-13T18:16:18.212676Z",
     "start_time": "2020-08-13T18:16:18.181880Z"
    }
   },
   "source": [
    "### No models' rank features"
   ]
  },
  {
   "cell_type": "code",
   "execution_count": 311,
   "metadata": {
    "ExecuteTime": {
     "end_time": "2020-09-09T08:13:03.519997Z",
     "start_time": "2020-09-09T07:16:14.451Z"
    }
   },
   "outputs": [],
   "source": [
    "features = np.stack((feature1, feature3, feature5, feature6,\n",
    "                     feature7[0], feature7[1], feature7[2], feature7[3],\n",
    "                     feature7[4], feature7[5], feature7[6], feature7[7],\n",
    "                     feature7[8], feature7[9], feature7[10], feature7[11],\n",
    "                     feature7[12], feature7[13], feature7[14], feature7[15],\n",
    "                     feature7[16], feature7[17], feature7[18], feature7[19],\n",
    "                     feature7[20], feature7[21], feature7[22], feature7[23],\n",
    "                     feature7[24], feature7[25], feature7[26], feature7[27],\n",
    "                     feature7[28], feature7[29], feature7[30], feature7[31]))"
   ]
  },
  {
   "cell_type": "code",
   "execution_count": 312,
   "metadata": {
    "ExecuteTime": {
     "end_time": "2020-09-09T08:13:03.520994Z",
     "start_time": "2020-09-09T07:16:14.461Z"
    }
   },
   "outputs": [],
   "source": [
    "X_train, X_test, X_val = prepareXY(features)\n",
    "lgbm_pred_per_user, importances = lgbm_fit_predict(X_train, y_train, group_train, X_val, y_val, group_val, X_test)"
   ]
  },
  {
   "cell_type": "code",
   "execution_count": 313,
   "metadata": {
    "ExecuteTime": {
     "end_time": "2020-09-09T08:13:03.521991Z",
     "start_time": "2020-09-09T07:16:14.471Z"
    }
   },
   "outputs": [
    {
     "name": "stderr",
     "output_type": "stream",
     "text": [
      "C:\\Users\\papad\\Anaconda3\\lib\\site-packages\\ipykernel_launcher.py:2: RuntimeWarning: invalid value encountered in double_scalars\n",
      "  \n"
     ]
    },
    {
     "data": {
      "text/plain": [
       "0.28347312798500546"
      ]
     },
     "execution_count": 313,
     "metadata": {},
     "output_type": "execute_result"
    }
   ],
   "source": [
    "lgbm_NDCG = []\n",
    "lgbm_relevance_list = []\n",
    "for i in range(len(num_users)):\n",
    "    excel_df = pd.DataFrame({'movie_id': target_movies[i], 'implicit_score': feature1[i],\n",
    "                         'svd_score': feature3[i], '#users_watched': feature5[i],\n",
    "                         'new_user': feature6[i],\n",
    "                         'emedding1': feature7[0][i], 'emedding2': feature7[1][i], 'emedding3': feature7[2][i],\n",
    "                         'emedding4': feature7[3][i], 'emedding5': feature7[4][i], 'emedding6': feature7[5][i],\n",
    "                         'emedding7': feature7[6][i], 'emedding8': feature7[7][i], 'emedding9': feature7[8][i],\n",
    "                         'emedding10': feature7[9][i], 'emedding11': feature7[10][i], 'emedding12': feature7[11][i],\n",
    "                         'emedding13': feature7[12][i], 'emedding14': feature7[13][i], 'emedding15': feature7[14][i],\n",
    "                         'emedding16': feature7[15][i], 'emedding17': feature7[16][i], 'emedding18': feature7[17][i],\n",
    "                         'emedding19': feature7[18][i], 'emedding20': feature7[19][i], 'emedding21': feature7[20][i],\n",
    "                         'emedding22': feature7[21][i], 'emedding23': feature7[22][i], 'emedding24': feature7[23][i],\n",
    "                         'emedding25': feature7[24][i], 'emedding26': feature7[25][i], 'emedding27': feature7[26][i],\n",
    "                         'emedding28': feature7[27][i], 'emedding29': feature7[28][i], 'emedding30': feature7[29][i],\n",
    "                         'emedding31': feature7[30][i], 'emedding32': feature7[31][i],\n",
    "                         'train_label': label_train[i], 'test_label': label_test[i],\n",
    "                         'y_val': label_val[i], 'LGBM Score': lgbm_pred_per_user[i]})\n",
    "    excel_df = excel_df.sort_values('LGBM Score', ascending=False)\n",
    "    relevance_lgbm_user = excel_df['test_label'].values.tolist()\n",
    "    lgbm_relevance_list.append(relevance_lgbm_user)\n",
    "    lgbm_NDCG.append(NDCG_forUser(relevance_lgbm_user))\n",
    "lgbm_NDCG = pd.Series(lgbm_NDCG).fillna(0).tolist()\n",
    "ndcg_list_no_rank = lgbm_NDCG\n",
    "lgbm_NDCG = np.mean(lgbm_NDCG)\n",
    "lgbm_NDCG"
   ]
  },
  {
   "cell_type": "code",
   "execution_count": 314,
   "metadata": {
    "ExecuteTime": {
     "end_time": "2020-09-09T08:13:03.523986Z",
     "start_time": "2020-09-09T07:16:14.480Z"
    }
   },
   "outputs": [
    {
     "name": "stderr",
     "output_type": "stream",
     "text": [
      "C:\\Users\\papad\\Anaconda3\\lib\\site-packages\\ipykernel_launcher.py:17: RuntimeWarning: invalid value encountered in double_scalars\n"
     ]
    }
   ],
   "source": [
    "lgbm_mrr, lgbm_map,lgbm_rr_no_rank, lgbm_ap_no_rank = mrr_map(lgbm_relevance_list)"
   ]
  },
  {
   "cell_type": "code",
   "execution_count": 315,
   "metadata": {},
   "outputs": [
    {
     "name": "stdout",
     "output_type": "stream",
     "text": [
      "Ttest_relResult(statistic=-0.19944935737281705, pvalue=0.8419335098493094)\n"
     ]
    }
   ],
   "source": [
    "print(st.ttest_rel(lgbm_rr_no_rank,lgbm_rr_all_features))"
   ]
  },
  {
   "cell_type": "code",
   "execution_count": 316,
   "metadata": {},
   "outputs": [
    {
     "name": "stdout",
     "output_type": "stream",
     "text": [
      "Ttest_relResult(statistic=2.2577555751407328, pvalue=0.024078815418160666)\n"
     ]
    }
   ],
   "source": [
    "print(st.ttest_rel(lgbm_ap_no_rank,lgbm_ap_all_features))"
   ]
  },
  {
   "cell_type": "code",
   "execution_count": 317,
   "metadata": {},
   "outputs": [
    {
     "name": "stdout",
     "output_type": "stream",
     "text": [
      "Ttest_relResult(statistic=1.2766837337160026, pvalue=0.20187661674275845)\n"
     ]
    }
   ],
   "source": [
    "print(st.ttest_rel(ndcg_list_no_rank,ndcg_list_all_features))"
   ]
  },
  {
   "cell_type": "code",
   "execution_count": 318,
   "metadata": {
    "ExecuteTime": {
     "end_time": "2020-09-09T08:13:03.524983Z",
     "start_time": "2020-09-09T07:16:14.490Z"
    }
   },
   "outputs": [],
   "source": [
    "metrics_df = compare_metrics(lgbm_NDCG, lgbm_mrr, lgbm_map)"
   ]
  },
  {
   "cell_type": "code",
   "execution_count": 319,
   "metadata": {
    "ExecuteTime": {
     "end_time": "2020-09-09T08:13:03.525981Z",
     "start_time": "2020-09-09T07:16:14.500Z"
    }
   },
   "outputs": [
    {
     "data": {
      "text/html": [
       "<div>\n",
       "<style scoped>\n",
       "    .dataframe tbody tr th:only-of-type {\n",
       "        vertical-align: middle;\n",
       "    }\n",
       "\n",
       "    .dataframe tbody tr th {\n",
       "        vertical-align: top;\n",
       "    }\n",
       "\n",
       "    .dataframe thead th {\n",
       "        text-align: right;\n",
       "    }\n",
       "</style>\n",
       "<table border=\"1\" class=\"dataframe\">\n",
       "  <thead>\n",
       "    <tr style=\"text-align: right;\">\n",
       "      <th></th>\n",
       "      <th>LightGBM_NDCG</th>\n",
       "      <th>IFM_NDCG</th>\n",
       "      <th>SVD_NDCG</th>\n",
       "      <th>LightGBM_MRR</th>\n",
       "      <th>IFM_MRR</th>\n",
       "      <th>SVD_MRR</th>\n",
       "      <th>LightGBM_MAP</th>\n",
       "      <th>IFM_MAP</th>\n",
       "      <th>SVD_MAP</th>\n",
       "    </tr>\n",
       "  </thead>\n",
       "  <tbody>\n",
       "    <tr>\n",
       "      <th>0</th>\n",
       "      <td>0.283473</td>\n",
       "      <td>0.285149</td>\n",
       "      <td>0.267938</td>\n",
       "      <td>0.175323</td>\n",
       "      <td>0.167769</td>\n",
       "      <td>0.157996</td>\n",
       "      <td>0.08882</td>\n",
       "      <td>0.090826</td>\n",
       "      <td>0.075796</td>\n",
       "    </tr>\n",
       "  </tbody>\n",
       "</table>\n",
       "</div>"
      ],
      "text/plain": [
       "   LightGBM_NDCG  IFM_NDCG  SVD_NDCG  LightGBM_MRR   IFM_MRR   SVD_MRR  \\\n",
       "0       0.283473  0.285149  0.267938      0.175323  0.167769  0.157996   \n",
       "\n",
       "   LightGBM_MAP   IFM_MAP   SVD_MAP  \n",
       "0       0.08882  0.090826  0.075796  "
      ]
     },
     "execution_count": 319,
     "metadata": {},
     "output_type": "execute_result"
    }
   ],
   "source": [
    "metrics_df"
   ]
  },
  {
   "cell_type": "code",
   "execution_count": 320,
   "metadata": {
    "ExecuteTime": {
     "end_time": "2020-09-09T08:13:03.527977Z",
     "start_time": "2020-09-09T07:16:14.510Z"
    }
   },
   "outputs": [],
   "source": [
    "metrics_df.to_csv(r'C:\\Users\\papad\\Desktop\\DISS WRITE\\d.csv', index = False)"
   ]
  },
  {
   "cell_type": "code",
   "execution_count": 321,
   "metadata": {
    "ExecuteTime": {
     "end_time": "2020-09-09T08:13:03.528974Z",
     "start_time": "2020-09-09T07:16:14.518Z"
    },
    "scrolled": true
   },
   "outputs": [
    {
     "name": "stdout",
     "output_type": "stream",
     "text": [
      "Index(['implicit_score', 'svd_score', '#users_watched', 'new_user',\n",
      "       'emedding1', 'emedding2', 'emedding3', 'emedding4', 'emedding5',\n",
      "       'emedding6', 'emedding7', 'emedding8', 'emedding9', 'emedding10',\n",
      "       'emedding11', 'emedding12', 'emedding13', 'emedding14', 'emedding15',\n",
      "       'emedding16', 'emedding17', 'emedding18', 'emedding19', 'emedding20',\n",
      "       'emedding21', 'emedding22', 'emedding23', 'emedding24', 'emedding25',\n",
      "       'emedding26', 'emedding27', 'emedding28', 'emedding29', 'emedding30',\n",
      "       'emedding31', 'emedding32'],\n",
      "      dtype='object')\n",
      "36\n",
      "36\n"
     ]
    },
    {
     "data": {
      "image/png": "[encoded data removed]",
      "text/plain": [
       "<Figure size 1000x400 with 1 Axes>"
      ]
     },
     "metadata": {
      "needs_background": "light"
     },
     "output_type": "display_data"
    }
   ],
   "source": [
    "plot_feature_importances(features, importances)"
   ]
  },
  {
   "cell_type": "code",
   "execution_count": 322,
   "metadata": {
    "ExecuteTime": {
     "end_time": "2020-09-09T08:13:03.529971Z",
     "start_time": "2020-09-09T07:16:14.528Z"
    }
   },
   "outputs": [
    {
     "data": {
      "text/plain": [
       "array([782, 955, 465,   0, 585,   0,   0,   0,   0,   0,   0,   0,   0,\n",
       "         0,   0,   0,   0,   0,   0,   0,   0,   0,   0,   0,   0,   0,\n",
       "         0,   0,   0,   0,   0,   0,   0,   0,   0,   0])"
      ]
     },
     "execution_count": 322,
     "metadata": {},
     "output_type": "execute_result"
    }
   ],
   "source": [
    "importances"
   ]
  },
  {
   "cell_type": "markdown",
   "metadata": {},
   "source": [
    "### Without Implicit Rank"
   ]
  },
  {
   "cell_type": "code",
   "execution_count": 323,
   "metadata": {
    "ExecuteTime": {
     "end_time": "2020-09-09T08:13:03.530969Z",
     "start_time": "2020-09-09T07:16:14.541Z"
    }
   },
   "outputs": [],
   "source": [
    "features = np.stack((feature1, feature3, feature5, feature6,\n",
    "                     feature7[0], feature7[1], feature7[2], feature7[3],\n",
    "                     feature7[4], feature7[5], feature7[6], feature7[7],\n",
    "                     feature7[8], feature7[9], feature7[10], feature7[11],\n",
    "                     feature7[12], feature7[13], feature7[14], feature7[15],\n",
    "                     feature7[16], feature7[17], feature7[18], feature7[19],\n",
    "                     feature7[20], feature7[21], feature7[22], feature7[23],\n",
    "                     feature7[24], feature7[25], feature7[26], feature7[27],\n",
    "                     feature7[28], feature7[29], feature7[30], feature7[31],\n",
    "                     feature47))"
   ]
  },
  {
   "cell_type": "code",
   "execution_count": 324,
   "metadata": {
    "ExecuteTime": {
     "end_time": "2020-09-09T08:13:03.532964Z",
     "start_time": "2020-09-09T07:16:14.552Z"
    }
   },
   "outputs": [],
   "source": [
    "X_train, X_test, X_val = prepareXY(features)\n",
    "lgbm_pred_per_user, importances = lgbm_fit_predict(X_train, y_train, group_train, X_val, y_val, group_val, X_test)"
   ]
  },
  {
   "cell_type": "code",
   "execution_count": 325,
   "metadata": {
    "ExecuteTime": {
     "end_time": "2020-09-09T08:13:03.533961Z",
     "start_time": "2020-09-09T07:16:14.561Z"
    }
   },
   "outputs": [
    {
     "name": "stderr",
     "output_type": "stream",
     "text": [
      "C:\\Users\\papad\\Anaconda3\\lib\\site-packages\\ipykernel_launcher.py:2: RuntimeWarning: invalid value encountered in double_scalars\n",
      "  \n"
     ]
    },
    {
     "data": {
      "text/plain": [
       "0.28364032549151047"
      ]
     },
     "execution_count": 325,
     "metadata": {},
     "output_type": "execute_result"
    }
   ],
   "source": [
    "lgbm_NDCG = []\n",
    "lgbm_relevance_list = []\n",
    "for i in range(len(num_users)):\n",
    "    excel_df = pd.DataFrame({'movie_id': target_movies[i], 'implicit_score': feature1[i],\n",
    "                         'svd_score': feature3[i],\n",
    "                         '#users_watched': feature5[i],\n",
    "                         'new_user': feature6[i],\n",
    "                         'emedding1': feature7[0][i], 'emedding2': feature7[1][i], 'emedding3': feature7[2][i],\n",
    "                         'emedding4': feature7[3][i], 'emedding5': feature7[4][i], 'emedding6': feature7[5][i],\n",
    "                         'emedding7': feature7[6][i], 'emedding8': feature7[7][i], 'emedding9': feature7[8][i],\n",
    "                         'emedding10': feature7[9][i], 'emedding11': feature7[10][i], 'emedding12': feature7[11][i],\n",
    "                         'emedding13': feature7[12][i], 'emedding14': feature7[13][i], 'emedding15': feature7[14][i],\n",
    "                         'emedding16': feature7[15][i], 'emedding17': feature7[16][i], 'emedding18': feature7[17][i],\n",
    "                         'emedding19': feature7[18][i], 'emedding20': feature7[19][i], 'emedding21': feature7[20][i],\n",
    "                         'emedding22': feature7[21][i], 'emedding23': feature7[22][i], 'emedding24': feature7[23][i],\n",
    "                         'emedding25': feature7[24][i], 'emedding26': feature7[25][i], 'emedding27': feature7[26][i],\n",
    "                         'emedding28': feature7[27][i], 'emedding29': feature7[28][i], 'emedding30': feature7[29][i],\n",
    "                         'emedding31': feature7[30][i], 'emedding32': feature7[31][i],\n",
    "                         'SVD_rank':feature47[i],\n",
    "                         'train_label': label_train[i], 'test_label': label_test[i],\n",
    "                         'y_val': label_val[i], 'LGBM Score': lgbm_pred_per_user[i]})\n",
    "    excel_df = excel_df.sort_values('LGBM Score', ascending=False)\n",
    "    relevance_lgbm_user = excel_df['test_label'].values.tolist()\n",
    "    lgbm_relevance_list.append(relevance_lgbm_user)\n",
    "    lgbm_NDCG.append(NDCG_forUser(relevance_lgbm_user))\n",
    "lgbm_NDCG = pd.Series(lgbm_NDCG).fillna(0).tolist()\n",
    "ndcg_list_no_implicit = lgbm_NDCG\n",
    "lgbm_NDCG = np.mean(lgbm_NDCG)\n",
    "lgbm_NDCG"
   ]
  },
  {
   "cell_type": "code",
   "execution_count": 326,
   "metadata": {
    "ExecuteTime": {
     "end_time": "2020-09-09T08:13:03.535957Z",
     "start_time": "2020-09-09T07:16:14.572Z"
    }
   },
   "outputs": [
    {
     "name": "stderr",
     "output_type": "stream",
     "text": [
      "C:\\Users\\papad\\Anaconda3\\lib\\site-packages\\ipykernel_launcher.py:17: RuntimeWarning: invalid value encountered in double_scalars\n"
     ]
    }
   ],
   "source": [
    "lgbm_mrr, lgbm_map, lgbm_rr_no_implicit, lgbm_ap_no_implicit = mrr_map(lgbm_relevance_list)"
   ]
  },
  {
   "cell_type": "code",
   "execution_count": 327,
   "metadata": {},
   "outputs": [
    {
     "name": "stdout",
     "output_type": "stream",
     "text": [
      "Ttest_relResult(statistic=0.5829557467177501, pvalue=0.5599952326466867)\n"
     ]
    }
   ],
   "source": [
    "print(st.ttest_rel(lgbm_rr_no_implicit,lgbm_rr_all_features))"
   ]
  },
  {
   "cell_type": "code",
   "execution_count": 328,
   "metadata": {},
   "outputs": [
    {
     "name": "stdout",
     "output_type": "stream",
     "text": [
      "Ttest_relResult(statistic=2.109711629580896, pvalue=0.035019255010061076)\n"
     ]
    }
   ],
   "source": [
    "print(st.ttest_rel(lgbm_ap_no_implicit,lgbm_ap_all_features))"
   ]
  },
  {
   "cell_type": "code",
   "execution_count": 329,
   "metadata": {},
   "outputs": [
    {
     "name": "stdout",
     "output_type": "stream",
     "text": [
      "Ttest_relResult(statistic=1.4384393376162414, pvalue=0.1504811813461165)\n"
     ]
    }
   ],
   "source": [
    "print(st.ttest_rel(ndcg_list_no_implicit,ndcg_list_all_features))"
   ]
  },
  {
   "cell_type": "code",
   "execution_count": 330,
   "metadata": {
    "ExecuteTime": {
     "end_time": "2020-09-09T08:13:03.536952Z",
     "start_time": "2020-09-09T07:16:14.581Z"
    }
   },
   "outputs": [],
   "source": [
    "metrics_df = compare_metrics(lgbm_NDCG, lgbm_mrr, lgbm_map)"
   ]
  },
  {
   "cell_type": "code",
   "execution_count": 331,
   "metadata": {
    "ExecuteTime": {
     "end_time": "2020-09-09T08:13:03.537949Z",
     "start_time": "2020-09-09T07:16:14.589Z"
    }
   },
   "outputs": [
    {
     "data": {
      "text/html": [
       "<div>\n",
       "<style scoped>\n",
       "    .dataframe tbody tr th:only-of-type {\n",
       "        vertical-align: middle;\n",
       "    }\n",
       "\n",
       "    .dataframe tbody tr th {\n",
       "        vertical-align: top;\n",
       "    }\n",
       "\n",
       "    .dataframe thead th {\n",
       "        text-align: right;\n",
       "    }\n",
       "</style>\n",
       "<table border=\"1\" class=\"dataframe\">\n",
       "  <thead>\n",
       "    <tr style=\"text-align: right;\">\n",
       "      <th></th>\n",
       "      <th>LightGBM_NDCG</th>\n",
       "      <th>IFM_NDCG</th>\n",
       "      <th>SVD_NDCG</th>\n",
       "      <th>LightGBM_MRR</th>\n",
       "      <th>IFM_MRR</th>\n",
       "      <th>SVD_MRR</th>\n",
       "      <th>LightGBM_MAP</th>\n",
       "      <th>IFM_MAP</th>\n",
       "      <th>SVD_MAP</th>\n",
       "    </tr>\n",
       "  </thead>\n",
       "  <tbody>\n",
       "    <tr>\n",
       "      <th>0</th>\n",
       "      <td>0.28364</td>\n",
       "      <td>0.285149</td>\n",
       "      <td>0.267938</td>\n",
       "      <td>0.179187</td>\n",
       "      <td>0.167769</td>\n",
       "      <td>0.157996</td>\n",
       "      <td>0.088419</td>\n",
       "      <td>0.090826</td>\n",
       "      <td>0.075796</td>\n",
       "    </tr>\n",
       "  </tbody>\n",
       "</table>\n",
       "</div>"
      ],
      "text/plain": [
       "   LightGBM_NDCG  IFM_NDCG  SVD_NDCG  LightGBM_MRR   IFM_MRR   SVD_MRR  \\\n",
       "0        0.28364  0.285149  0.267938      0.179187  0.167769  0.157996   \n",
       "\n",
       "   LightGBM_MAP   IFM_MAP   SVD_MAP  \n",
       "0      0.088419  0.090826  0.075796  "
      ]
     },
     "execution_count": 331,
     "metadata": {},
     "output_type": "execute_result"
    }
   ],
   "source": [
    "metrics_df"
   ]
  },
  {
   "cell_type": "code",
   "execution_count": 332,
   "metadata": {
    "ExecuteTime": {
     "end_time": "2020-09-09T08:13:03.539946Z",
     "start_time": "2020-09-09T07:16:14.598Z"
    }
   },
   "outputs": [],
   "source": [
    "metrics_df.to_csv(r'C:\\Users\\papad\\Desktop\\DISS WRITE\\d.csv', index = False)"
   ]
  },
  {
   "cell_type": "code",
   "execution_count": 333,
   "metadata": {
    "ExecuteTime": {
     "end_time": "2020-09-09T08:13:03.540943Z",
     "start_time": "2020-09-09T07:16:14.607Z"
    },
    "scrolled": true
   },
   "outputs": [
    {
     "name": "stdout",
     "output_type": "stream",
     "text": [
      "Index(['implicit_score', 'svd_score', '#users_watched', 'new_user',\n",
      "       'emedding1', 'emedding2', 'emedding3', 'emedding4', 'emedding5',\n",
      "       'emedding6', 'emedding7', 'emedding8', 'emedding9', 'emedding10',\n",
      "       'emedding11', 'emedding12', 'emedding13', 'emedding14', 'emedding15',\n",
      "       'emedding16', 'emedding17', 'emedding18', 'emedding19', 'emedding20',\n",
      "       'emedding21', 'emedding22', 'emedding23', 'emedding24', 'emedding25',\n",
      "       'emedding26', 'emedding27', 'emedding28', 'emedding29', 'emedding30',\n",
      "       'emedding31', 'emedding32', 'SVD_rank'],\n",
      "      dtype='object')\n",
      "37\n",
      "37\n"
     ]
    },
    {
     "data": {
      "image/png": "[encoded data removed]",
      "text/plain": [
       "<Figure size 1000x400 with 1 Axes>"
      ]
     },
     "metadata": {
      "needs_background": "light"
     },
     "output_type": "display_data"
    }
   ],
   "source": [
    "plot_feature_importances(features, importances)"
   ]
  },
  {
   "cell_type": "code",
   "execution_count": 334,
   "metadata": {
    "ExecuteTime": {
     "end_time": "2020-09-09T08:13:03.542937Z",
     "start_time": "2020-09-09T07:16:14.616Z"
    }
   },
   "outputs": [
    {
     "data": {
      "text/plain": [
       "array([629, 666, 418,   0, 470,   0,   0,   0,   0,   0,   0,   0,   0,\n",
       "         0,   0,   0,   0,   0,   0,   0,   0,   0,   0,   0,   0,   0,\n",
       "         0,   0,   0,   0,   0,   0,   0,   0,   0,   0, 618])"
      ]
     },
     "execution_count": 334,
     "metadata": {},
     "output_type": "execute_result"
    }
   ],
   "source": [
    "importances"
   ]
  },
  {
   "cell_type": "markdown",
   "metadata": {},
   "source": [
    "### Without SVD Rank"
   ]
  },
  {
   "cell_type": "code",
   "execution_count": 335,
   "metadata": {
    "ExecuteTime": {
     "end_time": "2020-09-09T08:13:03.544948Z",
     "start_time": "2020-09-09T07:16:14.626Z"
    }
   },
   "outputs": [],
   "source": [
    "features = np.stack((feature1, feature2, feature3, feature5, feature6,\n",
    "                     feature7[0], feature7[1], feature7[2], feature7[3],\n",
    "                     feature7[4], feature7[5], feature7[6], feature7[7],\n",
    "                     feature7[8], feature7[9], feature7[10], feature7[11],\n",
    "                     feature7[12], feature7[13], feature7[14], feature7[15],\n",
    "                     feature7[16], feature7[17], feature7[18], feature7[19],\n",
    "                     feature7[20], feature7[21], feature7[22], feature7[23],\n",
    "                     feature7[24], feature7[25], feature7[26], feature7[27],\n",
    "                     feature7[28], feature7[29], feature7[30], feature7[31]))"
   ]
  },
  {
   "cell_type": "code",
   "execution_count": 336,
   "metadata": {
    "ExecuteTime": {
     "end_time": "2020-09-09T08:13:03.545961Z",
     "start_time": "2020-09-09T07:16:14.634Z"
    }
   },
   "outputs": [],
   "source": [
    "X_train, X_test, X_val = prepareXY(features)\n",
    "lgbm_pred_per_user, importances = lgbm_fit_predict(X_train, y_train, group_train, X_val, y_val, group_val, X_test)"
   ]
  },
  {
   "cell_type": "code",
   "execution_count": 337,
   "metadata": {
    "ExecuteTime": {
     "end_time": "2020-09-09T08:13:03.546928Z",
     "start_time": "2020-09-09T07:16:14.644Z"
    }
   },
   "outputs": [
    {
     "name": "stderr",
     "output_type": "stream",
     "text": [
      "C:\\Users\\papad\\Anaconda3\\lib\\site-packages\\ipykernel_launcher.py:2: RuntimeWarning: invalid value encountered in double_scalars\n",
      "  \n"
     ]
    },
    {
     "data": {
      "text/plain": [
       "0.280374037600624"
      ]
     },
     "execution_count": 337,
     "metadata": {},
     "output_type": "execute_result"
    }
   ],
   "source": [
    "lgbm_NDCG = []\n",
    "lgbm_relevance_list = []\n",
    "for i in range(len(num_users)):\n",
    "    excel_df = pd.DataFrame({'movie_id': target_movies[i], 'implicit_score': feature1[i],\n",
    "                             'implicit_rank': feature2[i], 'svd_score': feature3[i],\n",
    "                             '#users_watched': feature5[i],\n",
    "                             'new_user': feature6[i],\n",
    "                             'emedding1': feature7[0][i], 'emedding2': feature7[1][i], 'emedding3': feature7[2][i],\n",
    "                             'emedding4': feature7[3][i], 'emedding5': feature7[4][i], 'emedding6': feature7[5][i],\n",
    "                             'emedding7': feature7[6][i], 'emedding8': feature7[7][i], 'emedding9': feature7[8][i],\n",
    "                             'emedding10': feature7[9][i], 'emedding11': feature7[10][i], 'emedding12': feature7[11][i],\n",
    "                             'emedding13': feature7[12][i], 'emedding14': feature7[13][i], 'emedding15': feature7[14][i],\n",
    "                             'emedding16': feature7[15][i], 'emedding17': feature7[16][i], 'emedding18': feature7[17][i],\n",
    "                             'emedding19': feature7[18][i], 'emedding20': feature7[19][i], 'emedding21': feature7[20][i],\n",
    "                             'emedding22': feature7[21][i], 'emedding23': feature7[22][i], 'emedding24': feature7[23][i],\n",
    "                             'emedding25': feature7[24][i], 'emedding26': feature7[25][i], 'emedding27': feature7[26][i],\n",
    "                             'emedding28': feature7[27][i], 'emedding29': feature7[28][i], 'emedding30': feature7[29][i],\n",
    "                             'emedding31': feature7[30][i], 'emedding32': feature7[31][i],\n",
    "                             'train_label': label_train[i], 'test_label': label_test[i],\n",
    "                             'y_val': label_val[i], 'LGBM Score': lgbm_pred_per_user[i]})\n",
    "    excel_df = excel_df.sort_values('LGBM Score', ascending=False)\n",
    "    relevance_lgbm_user = excel_df['test_label'].values.tolist()\n",
    "    lgbm_relevance_list.append(relevance_lgbm_user)\n",
    "    lgbm_NDCG.append(NDCG_forUser(relevance_lgbm_user))\n",
    "lgbm_NDCG = pd.Series(lgbm_NDCG).fillna(0).tolist()\n",
    "ndcg_list_no_svd = lgbm_NDCG\n",
    "lgbm_NDCG = np.mean(lgbm_NDCG)\n",
    "lgbm_NDCG"
   ]
  },
  {
   "cell_type": "code",
   "execution_count": 338,
   "metadata": {
    "ExecuteTime": {
     "end_time": "2020-09-09T08:13:03.547922Z",
     "start_time": "2020-09-09T07:16:14.653Z"
    }
   },
   "outputs": [
    {
     "name": "stderr",
     "output_type": "stream",
     "text": [
      "C:\\Users\\papad\\Anaconda3\\lib\\site-packages\\ipykernel_launcher.py:17: RuntimeWarning: invalid value encountered in double_scalars\n"
     ]
    }
   ],
   "source": [
    "lgbm_mrr, lgbm_map, lgbm_rr_no_svd, lgbm_ap_no_svd = mrr_map(lgbm_relevance_list)"
   ]
  },
  {
   "cell_type": "code",
   "execution_count": 339,
   "metadata": {},
   "outputs": [
    {
     "name": "stdout",
     "output_type": "stream",
     "text": [
      "Ttest_relResult(statistic=-1.415599472036354, pvalue=0.15706371243404443)\n"
     ]
    }
   ],
   "source": [
    "print(st.ttest_rel(lgbm_rr_no_svd,lgbm_rr_all_features))"
   ]
  },
  {
   "cell_type": "code",
   "execution_count": 340,
   "metadata": {},
   "outputs": [
    {
     "name": "stdout",
     "output_type": "stream",
     "text": [
      "Ttest_relResult(statistic=-0.15703605034885085, pvalue=0.8752338355493859)\n"
     ]
    }
   ],
   "source": [
    "print(st.ttest_rel(lgbm_ap_no_svd,lgbm_ap_all_features))"
   ]
  },
  {
   "cell_type": "code",
   "execution_count": 341,
   "metadata": {},
   "outputs": [
    {
     "name": "stdout",
     "output_type": "stream",
     "text": [
      "Ttest_relResult(statistic=-0.6029039537271631, pvalue=0.5466476200305761)\n"
     ]
    }
   ],
   "source": [
    "print(st.ttest_rel(ndcg_list_no_svd,ndcg_list_all_features))"
   ]
  },
  {
   "cell_type": "code",
   "execution_count": 342,
   "metadata": {
    "ExecuteTime": {
     "end_time": "2020-09-09T08:13:03.548920Z",
     "start_time": "2020-09-09T07:16:14.661Z"
    }
   },
   "outputs": [],
   "source": [
    "metrics_df = compare_metrics(lgbm_NDCG, lgbm_mrr, lgbm_map)"
   ]
  },
  {
   "cell_type": "code",
   "execution_count": 343,
   "metadata": {
    "ExecuteTime": {
     "end_time": "2020-09-09T08:13:03.550915Z",
     "start_time": "2020-09-09T07:16:14.669Z"
    }
   },
   "outputs": [
    {
     "data": {
      "text/html": [
       "<div>\n",
       "<style scoped>\n",
       "    .dataframe tbody tr th:only-of-type {\n",
       "        vertical-align: middle;\n",
       "    }\n",
       "\n",
       "    .dataframe tbody tr th {\n",
       "        vertical-align: top;\n",
       "    }\n",
       "\n",
       "    .dataframe thead th {\n",
       "        text-align: right;\n",
       "    }\n",
       "</style>\n",
       "<table border=\"1\" class=\"dataframe\">\n",
       "  <thead>\n",
       "    <tr style=\"text-align: right;\">\n",
       "      <th></th>\n",
       "      <th>LightGBM_NDCG</th>\n",
       "      <th>IFM_NDCG</th>\n",
       "      <th>SVD_NDCG</th>\n",
       "      <th>LightGBM_MRR</th>\n",
       "      <th>IFM_MRR</th>\n",
       "      <th>SVD_MRR</th>\n",
       "      <th>LightGBM_MAP</th>\n",
       "      <th>IFM_MAP</th>\n",
       "      <th>SVD_MAP</th>\n",
       "    </tr>\n",
       "  </thead>\n",
       "  <tbody>\n",
       "    <tr>\n",
       "      <th>0</th>\n",
       "      <td>0.280374</td>\n",
       "      <td>0.285149</td>\n",
       "      <td>0.267938</td>\n",
       "      <td>0.170174</td>\n",
       "      <td>0.167769</td>\n",
       "      <td>0.157996</td>\n",
       "      <td>0.084418</td>\n",
       "      <td>0.090826</td>\n",
       "      <td>0.075796</td>\n",
       "    </tr>\n",
       "  </tbody>\n",
       "</table>\n",
       "</div>"
      ],
      "text/plain": [
       "   LightGBM_NDCG  IFM_NDCG  SVD_NDCG  LightGBM_MRR   IFM_MRR   SVD_MRR  \\\n",
       "0       0.280374  0.285149  0.267938      0.170174  0.167769  0.157996   \n",
       "\n",
       "   LightGBM_MAP   IFM_MAP   SVD_MAP  \n",
       "0      0.084418  0.090826  0.075796  "
      ]
     },
     "execution_count": 343,
     "metadata": {},
     "output_type": "execute_result"
    }
   ],
   "source": [
    "metrics_df"
   ]
  },
  {
   "cell_type": "code",
   "execution_count": 344,
   "metadata": {
    "ExecuteTime": {
     "end_time": "2020-09-09T08:13:03.551912Z",
     "start_time": "2020-09-09T07:16:14.679Z"
    }
   },
   "outputs": [],
   "source": [
    "metrics_df.to_csv(r'C:\\Users\\papad\\Desktop\\DISS WRITE\\d.csv', index = False)"
   ]
  },
  {
   "cell_type": "code",
   "execution_count": 345,
   "metadata": {
    "ExecuteTime": {
     "end_time": "2020-09-09T08:13:03.552910Z",
     "start_time": "2020-09-09T07:16:14.689Z"
    },
    "scrolled": true
   },
   "outputs": [
    {
     "name": "stdout",
     "output_type": "stream",
     "text": [
      "Index(['implicit_score', 'implicit_rank', 'svd_score', '#users_watched',\n",
      "       'new_user', 'emedding1', 'emedding2', 'emedding3', 'emedding4',\n",
      "       'emedding5', 'emedding6', 'emedding7', 'emedding8', 'emedding9',\n",
      "       'emedding10', 'emedding11', 'emedding12', 'emedding13', 'emedding14',\n",
      "       'emedding15', 'emedding16', 'emedding17', 'emedding18', 'emedding19',\n",
      "       'emedding20', 'emedding21', 'emedding22', 'emedding23', 'emedding24',\n",
      "       'emedding25', 'emedding26', 'emedding27', 'emedding28', 'emedding29',\n",
      "       'emedding30', 'emedding31', 'emedding32'],\n",
      "      dtype='object')\n",
      "37\n",
      "37\n"
     ]
    },
    {
     "data": {
      "image/png": "[encoded data removed]",
      "text/plain": [
       "<Figure size 1000x400 with 1 Axes>"
      ]
     },
     "metadata": {
      "needs_background": "light"
     },
     "output_type": "display_data"
    }
   ],
   "source": [
    "plot_feature_importances(features, importances)"
   ]
  },
  {
   "cell_type": "code",
   "execution_count": 346,
   "metadata": {
    "ExecuteTime": {
     "end_time": "2020-09-09T08:13:03.554903Z",
     "start_time": "2020-09-09T07:16:14.697Z"
    }
   },
   "outputs": [
    {
     "data": {
      "text/plain": [
       "array([652, 493, 721, 418,   0, 447,   0,   0,   0,   0,   0,   0,   0,\n",
       "         0,   0,   0,   0,   0,   0,   0,   0,   0,   0,   0,   0,   0,\n",
       "         0,   0,   0,   0,   0,   0,   0,   0,   0,   0,   0])"
      ]
     },
     "execution_count": 346,
     "metadata": {},
     "output_type": "execute_result"
    }
   ],
   "source": [
    "importances"
   ]
  },
  {
   "cell_type": "markdown",
   "metadata": {},
   "source": [
    "## What is the impact of the baseline scores?"
   ]
  },
  {
   "cell_type": "markdown",
   "metadata": {},
   "source": [
    "### No models' scores"
   ]
  },
  {
   "cell_type": "code",
   "execution_count": 192,
   "metadata": {
    "ExecuteTime": {
     "end_time": "2020-09-09T08:13:03.555903Z",
     "start_time": "2020-09-09T07:16:14.710Z"
    }
   },
   "outputs": [],
   "source": [
    "features = np.stack((feature2, feature5, feature6,\n",
    "                     feature7[0], feature7[1], feature7[2], feature7[3],\n",
    "                     feature7[4], feature7[5], feature7[6], feature7[7],\n",
    "                     feature7[8], feature7[9], feature7[10], feature7[11],\n",
    "                     feature7[12], feature7[13], feature7[14], feature7[15],\n",
    "                     feature7[16], feature7[17], feature7[18], feature7[19],\n",
    "                     feature7[20], feature7[21], feature7[22], feature7[23],\n",
    "                     feature7[24], feature7[25], feature7[26], feature7[27],\n",
    "                     feature7[28], feature7[29], feature7[30], feature7[31],\n",
    "                     feature47))"
   ]
  },
  {
   "cell_type": "code",
   "execution_count": 193,
   "metadata": {
    "ExecuteTime": {
     "end_time": "2020-09-09T08:13:03.556898Z",
     "start_time": "2020-09-09T07:16:14.719Z"
    }
   },
   "outputs": [],
   "source": [
    "X_train, X_test, X_val = prepareXY(features)\n",
    "lgbm_pred_per_user, importances = lgbm_fit_predict(X_train, y_train, group_train, X_val, y_val, group_val, X_test)"
   ]
  },
  {
   "cell_type": "code",
   "execution_count": 194,
   "metadata": {
    "ExecuteTime": {
     "end_time": "2020-09-09T08:13:03.558893Z",
     "start_time": "2020-09-09T07:16:14.728Z"
    }
   },
   "outputs": [
    {
     "name": "stderr",
     "output_type": "stream",
     "text": [
      "C:\\Users\\papad\\Anaconda3\\lib\\site-packages\\ipykernel_launcher.py:2: RuntimeWarning: invalid value encountered in double_scalars\n",
      "  \n"
     ]
    },
    {
     "data": {
      "text/plain": [
       "0.2806943628512255"
      ]
     },
     "execution_count": 194,
     "metadata": {},
     "output_type": "execute_result"
    }
   ],
   "source": [
    "lgbm_NDCG = []\n",
    "lgbm_relevance_list = []\n",
    "for i in range(len(num_users)):\n",
    "    excel_df = pd.DataFrame({'movie_id': target_movies[i], 'IFM_rank': feature2[i],\n",
    "                             '#users_watched': feature5[i],\n",
    "                             'new_user': feature6[i],\n",
    "                             'emedding1': feature7[0][i], 'emedding2': feature7[1][i], 'emedding3': feature7[2][i],\n",
    "                             'emedding4': feature7[3][i], 'emedding5': feature7[4][i], 'emedding6': feature7[5][i],\n",
    "                             'emedding7': feature7[6][i], 'emedding8': feature7[7][i], 'emedding9': feature7[8][i],\n",
    "                             'emedding10': feature7[9][i], 'emedding11': feature7[10][i], 'emedding12': feature7[11][i],\n",
    "                             'emedding13': feature7[12][i], 'emedding14': feature7[13][i], 'emedding15': feature7[14][i],\n",
    "                             'emedding16': feature7[15][i], 'emedding17': feature7[16][i], 'emedding18': feature7[17][i],\n",
    "                             'emedding19': feature7[18][i], 'emedding20': feature7[19][i], 'emedding21': feature7[20][i],\n",
    "                             'emedding22': feature7[21][i], 'emedding23': feature7[22][i], 'emedding24': feature7[23][i],\n",
    "                             'emedding25': feature7[24][i], 'emedding26': feature7[25][i], 'emedding27': feature7[26][i],\n",
    "                             'emedding28': feature7[27][i], 'emedding29': feature7[28][i], 'emedding30': feature7[29][i],\n",
    "                             'emedding31': feature7[30][i], 'emedding32': feature7[31][i],\n",
    "                             'SVD_rank':feature47[i],\n",
    "                             'train_label': label_train[i], 'test_label': label_test[i],\n",
    "                             'y_val': label_val[i], 'LGBM Score': lgbm_pred_per_user[i]})\n",
    "    excel_df = excel_df.sort_values('LGBM Score', ascending=False)\n",
    "    relevance_lgbm_user = excel_df['test_label'].values.tolist()\n",
    "    lgbm_relevance_list.append(relevance_lgbm_user)\n",
    "    lgbm_NDCG.append(NDCG_forUser(relevance_lgbm_user))\n",
    "lgbm_NDCG = pd.Series(lgbm_NDCG).fillna(0).tolist()\n",
    "lgbm_NDCG = np.mean(lgbm_NDCG)\n",
    "lgbm_NDCG"
   ]
  },
  {
   "cell_type": "code",
   "execution_count": 195,
   "metadata": {
    "ExecuteTime": {
     "end_time": "2020-09-09T08:13:03.559890Z",
     "start_time": "2020-09-09T07:16:14.736Z"
    }
   },
   "outputs": [
    {
     "name": "stderr",
     "output_type": "stream",
     "text": [
      "C:\\Users\\papad\\Anaconda3\\lib\\site-packages\\ipykernel_launcher.py:17: RuntimeWarning: invalid value encountered in double_scalars\n"
     ]
    }
   ],
   "source": [
    "lgbm_mrr, lgbm_map = mrr_map(lgbm_relevance_list)"
   ]
  },
  {
   "cell_type": "code",
   "execution_count": 196,
   "metadata": {
    "ExecuteTime": {
     "end_time": "2020-09-09T08:13:03.560888Z",
     "start_time": "2020-09-09T07:16:14.745Z"
    }
   },
   "outputs": [],
   "source": [
    "metrics_df = compare_metrics(lgbm_NDCG, lgbm_mrr, lgbm_map)"
   ]
  },
  {
   "cell_type": "code",
   "execution_count": 197,
   "metadata": {
    "ExecuteTime": {
     "end_time": "2020-09-09T08:13:03.561885Z",
     "start_time": "2020-09-09T07:16:14.755Z"
    }
   },
   "outputs": [
    {
     "data": {
      "text/html": [
       "<div>\n",
       "<style scoped>\n",
       "    .dataframe tbody tr th:only-of-type {\n",
       "        vertical-align: middle;\n",
       "    }\n",
       "\n",
       "    .dataframe tbody tr th {\n",
       "        vertical-align: top;\n",
       "    }\n",
       "\n",
       "    .dataframe thead th {\n",
       "        text-align: right;\n",
       "    }\n",
       "</style>\n",
       "<table border=\"1\" class=\"dataframe\">\n",
       "  <thead>\n",
       "    <tr style=\"text-align: right;\">\n",
       "      <th></th>\n",
       "      <th>LightGBM_NDCG</th>\n",
       "      <th>IFM_NDCG</th>\n",
       "      <th>SVD_NDCG</th>\n",
       "      <th>LightGBM_MRR</th>\n",
       "      <th>IFM_MRR</th>\n",
       "      <th>SVD_MRR</th>\n",
       "      <th>LightGBM_MAP</th>\n",
       "      <th>IFM_MAP</th>\n",
       "      <th>SVD_MAP</th>\n",
       "    </tr>\n",
       "  </thead>\n",
       "  <tbody>\n",
       "    <tr>\n",
       "      <th>0</th>\n",
       "      <td>0.280694</td>\n",
       "      <td>0.285149</td>\n",
       "      <td>0.267938</td>\n",
       "      <td>0.178989</td>\n",
       "      <td>0.167769</td>\n",
       "      <td>0.157996</td>\n",
       "      <td>0.083397</td>\n",
       "      <td>0.090826</td>\n",
       "      <td>0.075796</td>\n",
       "    </tr>\n",
       "  </tbody>\n",
       "</table>\n",
       "</div>"
      ],
      "text/plain": [
       "   LightGBM_NDCG  IFM_NDCG  SVD_NDCG  LightGBM_MRR   IFM_MRR   SVD_MRR  \\\n",
       "0       0.280694  0.285149  0.267938      0.178989  0.167769  0.157996   \n",
       "\n",
       "   LightGBM_MAP   IFM_MAP   SVD_MAP  \n",
       "0      0.083397  0.090826  0.075796  "
      ]
     },
     "execution_count": 197,
     "metadata": {},
     "output_type": "execute_result"
    }
   ],
   "source": [
    "metrics_df"
   ]
  },
  {
   "cell_type": "code",
   "execution_count": 198,
   "metadata": {
    "ExecuteTime": {
     "end_time": "2020-09-09T08:13:03.563880Z",
     "start_time": "2020-09-09T07:16:14.764Z"
    }
   },
   "outputs": [],
   "source": [
    "metrics_df.to_csv(r'C:\\Users\\papad\\Desktop\\DISS WRITE\\d.csv', index = False)"
   ]
  },
  {
   "cell_type": "code",
   "execution_count": 199,
   "metadata": {
    "ExecuteTime": {
     "end_time": "2020-09-09T08:13:03.565877Z",
     "start_time": "2020-09-09T07:16:14.774Z"
    },
    "scrolled": true
   },
   "outputs": [
    {
     "name": "stdout",
     "output_type": "stream",
     "text": [
      "Index(['IFM_rank', '#users_watched', 'new_user', 'emedding1', 'emedding2',\n",
      "       'emedding3', 'emedding4', 'emedding5', 'emedding6', 'emedding7',\n",
      "       'emedding8', 'emedding9', 'emedding10', 'emedding11', 'emedding12',\n",
      "       'emedding13', 'emedding14', 'emedding15', 'emedding16', 'emedding17',\n",
      "       'emedding18', 'emedding19', 'emedding20', 'emedding21', 'emedding22',\n",
      "       'emedding23', 'emedding24', 'emedding25', 'emedding26', 'emedding27',\n",
      "       'emedding28', 'emedding29', 'emedding30', 'emedding31', 'emedding32',\n",
      "       'SVD_rank'],\n",
      "      dtype='object')\n",
      "36\n",
      "36\n"
     ]
    },
    {
     "data": {
      "image/png": "[encoded data removed]",
      "text/plain": [
       "<Figure size 1000x400 with 1 Axes>"
      ]
     },
     "metadata": {
      "needs_background": "light"
     },
     "output_type": "display_data"
    }
   ],
   "source": [
    "plot_feature_importances(features, importances)"
   ]
  },
  {
   "cell_type": "code",
   "execution_count": 200,
   "metadata": {
    "ExecuteTime": {
     "end_time": "2020-09-09T08:13:03.567905Z",
     "start_time": "2020-09-09T07:16:14.783Z"
    }
   },
   "outputs": [
    {
     "data": {
      "text/plain": [
       "array([771, 535,   0, 491,   0,   0,   0,   0,   0,   0,   0,   0,   0,\n",
       "         0,   0,   0,   0,   0,   0,   0,   0,   0,   0,   0,   0,   0,\n",
       "         0,   0,   0,   0,   0,   0,   0,   0,   0, 954])"
      ]
     },
     "execution_count": 200,
     "metadata": {},
     "output_type": "execute_result"
    }
   ],
   "source": [
    "importances"
   ]
  },
  {
   "cell_type": "markdown",
   "metadata": {},
   "source": [
    "### Without IFM's score"
   ]
  },
  {
   "cell_type": "code",
   "execution_count": 229,
   "metadata": {
    "ExecuteTime": {
     "end_time": "2020-09-09T08:13:03.568867Z",
     "start_time": "2020-09-09T07:16:14.795Z"
    }
   },
   "outputs": [],
   "source": [
    "features = np.stack((feature2, feature3,feature5, feature6,\n",
    "                     feature7[0], feature7[1], feature7[2], feature7[3],\n",
    "                     feature7[4], feature7[5], feature7[6], feature7[7],\n",
    "                     feature7[8], feature7[9], feature7[10], feature7[11],\n",
    "                     feature7[12], feature7[13], feature7[14], feature7[15],\n",
    "                     feature7[16], feature7[17], feature7[18], feature7[19],\n",
    "                     feature7[20], feature7[21], feature7[22], feature7[23],\n",
    "                     feature7[24], feature7[25], feature7[26], feature7[27],\n",
    "                     feature7[28], feature7[29], feature7[30], feature7[31],\n",
    "                     feature47))"
   ]
  },
  {
   "cell_type": "code",
   "execution_count": 230,
   "metadata": {
    "ExecuteTime": {
     "end_time": "2020-09-09T08:13:03.569867Z",
     "start_time": "2020-09-09T07:16:14.805Z"
    }
   },
   "outputs": [],
   "source": [
    "X_train, X_test, X_val = prepareXY(features)\n",
    "lgbm_pred_per_user, importances = lgbm_fit_predict(X_train, y_train, group_train, X_val, y_val, group_val, X_test)"
   ]
  },
  {
   "cell_type": "code",
   "execution_count": 231,
   "metadata": {
    "ExecuteTime": {
     "end_time": "2020-09-09T08:13:03.570864Z",
     "start_time": "2020-09-09T07:16:14.814Z"
    }
   },
   "outputs": [
    {
     "name": "stderr",
     "output_type": "stream",
     "text": [
      "C:\\Users\\papad\\Anaconda3\\lib\\site-packages\\ipykernel_launcher.py:2: RuntimeWarning: invalid value encountered in double_scalars\n",
      "  \n"
     ]
    },
    {
     "data": {
      "text/plain": [
       "0.2800660425969678"
      ]
     },
     "execution_count": 231,
     "metadata": {},
     "output_type": "execute_result"
    }
   ],
   "source": [
    "lgbm_NDCG = []\n",
    "lgbm_relevance_list = []\n",
    "for i in range(len(num_users)):\n",
    "    excel_df = pd.DataFrame({'movie_id': target_movies[i], 'ifm_rank':feature2[i],\n",
    "                         'svd_score': feature3[i],\n",
    "                         '#users_watched': feature5[i],\n",
    "                         'new_user': feature6[i],\n",
    "                         'emedding1': feature7[0][i], 'emedding2': feature7[1][i], 'emedding3': feature7[2][i],\n",
    "                         'emedding4': feature7[3][i], 'emedding5': feature7[4][i], 'emedding6': feature7[5][i],\n",
    "                         'emedding7': feature7[6][i], 'emedding8': feature7[7][i], 'emedding9': feature7[8][i],\n",
    "                         'emedding10': feature7[9][i], 'emedding11': feature7[10][i], 'emedding12': feature7[11][i],\n",
    "                         'emedding13': feature7[12][i], 'emedding14': feature7[13][i], 'emedding15': feature7[14][i],\n",
    "                         'emedding16': feature7[15][i], 'emedding17': feature7[16][i], 'emedding18': feature7[17][i],\n",
    "                         'emedding19': feature7[18][i], 'emedding20': feature7[19][i], 'emedding21': feature7[20][i],\n",
    "                         'emedding22': feature7[21][i], 'emedding23': feature7[22][i], 'emedding24': feature7[23][i],\n",
    "                         'emedding25': feature7[24][i], 'emedding26': feature7[25][i], 'emedding27': feature7[26][i],\n",
    "                         'emedding28': feature7[27][i], 'emedding29': feature7[28][i], 'emedding30': feature7[29][i],\n",
    "                         'emedding31': feature7[30][i], 'emedding32': feature7[31][i],\n",
    "                         'SVD_rank':feature47[i],\n",
    "                         'train_label': label_train[i], 'test_label': label_test[i],\n",
    "                         'y_val': label_val[i], 'LGBM Score': lgbm_pred_per_user[i]})\n",
    "    excel_df = excel_df.sort_values('LGBM Score', ascending=False)\n",
    "    relevance_lgbm_user = excel_df['test_label'].values.tolist()\n",
    "    lgbm_relevance_list.append(relevance_lgbm_user)\n",
    "    lgbm_NDCG.append(NDCG_forUser(relevance_lgbm_user))\n",
    "lgbm_NDCG = pd.Series(lgbm_NDCG).fillna(0).tolist()\n",
    "lgbm_NDCG = np.mean(lgbm_NDCG)\n",
    "lgbm_NDCG"
   ]
  },
  {
   "cell_type": "code",
   "execution_count": 232,
   "metadata": {
    "ExecuteTime": {
     "end_time": "2020-09-09T08:13:03.572856Z",
     "start_time": "2020-09-09T07:16:14.826Z"
    }
   },
   "outputs": [
    {
     "name": "stderr",
     "output_type": "stream",
     "text": [
      "C:\\Users\\papad\\Anaconda3\\lib\\site-packages\\ipykernel_launcher.py:17: RuntimeWarning: invalid value encountered in double_scalars\n"
     ]
    }
   ],
   "source": [
    "lgbm_mrr, lgbm_map = mrr_map(lgbm_relevance_list)"
   ]
  },
  {
   "cell_type": "code",
   "execution_count": 233,
   "metadata": {
    "ExecuteTime": {
     "end_time": "2020-09-09T08:13:03.574851Z",
     "start_time": "2020-09-09T07:16:14.836Z"
    }
   },
   "outputs": [],
   "source": [
    "metrics_df = compare_metrics(lgbm_NDCG, lgbm_mrr, lgbm_map)"
   ]
  },
  {
   "cell_type": "code",
   "execution_count": 234,
   "metadata": {
    "ExecuteTime": {
     "end_time": "2020-09-09T08:13:03.575848Z",
     "start_time": "2020-09-09T07:16:14.847Z"
    }
   },
   "outputs": [
    {
     "data": {
      "text/html": [
       "<div>\n",
       "<style scoped>\n",
       "    .dataframe tbody tr th:only-of-type {\n",
       "        vertical-align: middle;\n",
       "    }\n",
       "\n",
       "    .dataframe tbody tr th {\n",
       "        vertical-align: top;\n",
       "    }\n",
       "\n",
       "    .dataframe thead th {\n",
       "        text-align: right;\n",
       "    }\n",
       "</style>\n",
       "<table border=\"1\" class=\"dataframe\">\n",
       "  <thead>\n",
       "    <tr style=\"text-align: right;\">\n",
       "      <th></th>\n",
       "      <th>LightGBM_NDCG</th>\n",
       "      <th>IFM_NDCG</th>\n",
       "      <th>SVD_NDCG</th>\n",
       "      <th>LightGBM_MRR</th>\n",
       "      <th>IFM_MRR</th>\n",
       "      <th>SVD_MRR</th>\n",
       "      <th>LightGBM_MAP</th>\n",
       "      <th>IFM_MAP</th>\n",
       "      <th>SVD_MAP</th>\n",
       "    </tr>\n",
       "  </thead>\n",
       "  <tbody>\n",
       "    <tr>\n",
       "      <th>0</th>\n",
       "      <td>0.280066</td>\n",
       "      <td>0.285149</td>\n",
       "      <td>0.267938</td>\n",
       "      <td>0.176439</td>\n",
       "      <td>0.167769</td>\n",
       "      <td>0.157996</td>\n",
       "      <td>0.083201</td>\n",
       "      <td>0.090826</td>\n",
       "      <td>0.075796</td>\n",
       "    </tr>\n",
       "  </tbody>\n",
       "</table>\n",
       "</div>"
      ],
      "text/plain": [
       "   LightGBM_NDCG  IFM_NDCG  SVD_NDCG  LightGBM_MRR   IFM_MRR   SVD_MRR  \\\n",
       "0       0.280066  0.285149  0.267938      0.176439  0.167769  0.157996   \n",
       "\n",
       "   LightGBM_MAP   IFM_MAP   SVD_MAP  \n",
       "0      0.083201  0.090826  0.075796  "
      ]
     },
     "execution_count": 234,
     "metadata": {},
     "output_type": "execute_result"
    }
   ],
   "source": [
    "metrics_df"
   ]
  },
  {
   "cell_type": "code",
   "execution_count": 235,
   "metadata": {
    "ExecuteTime": {
     "end_time": "2020-09-09T08:13:03.576845Z",
     "start_time": "2020-09-09T07:16:14.858Z"
    }
   },
   "outputs": [],
   "source": [
    "metrics_df.to_csv(r'C:\\Users\\papad\\Desktop\\DISS WRITE\\d.csv', index = False)"
   ]
  },
  {
   "cell_type": "code",
   "execution_count": 236,
   "metadata": {
    "ExecuteTime": {
     "end_time": "2020-09-09T08:13:03.578842Z",
     "start_time": "2020-09-09T07:16:14.869Z"
    },
    "scrolled": true
   },
   "outputs": [
    {
     "name": "stdout",
     "output_type": "stream",
     "text": [
      "Index(['ifm_rank', 'svd_score', '#users_watched', 'new_user', 'emedding1',\n",
      "       'emedding2', 'emedding3', 'emedding4', 'emedding5', 'emedding6',\n",
      "       'emedding7', 'emedding8', 'emedding9', 'emedding10', 'emedding11',\n",
      "       'emedding12', 'emedding13', 'emedding14', 'emedding15', 'emedding16',\n",
      "       'emedding17', 'emedding18', 'emedding19', 'emedding20', 'emedding21',\n",
      "       'emedding22', 'emedding23', 'emedding24', 'emedding25', 'emedding26',\n",
      "       'emedding27', 'emedding28', 'emedding29', 'emedding30', 'emedding31',\n",
      "       'emedding32', 'SVD_rank'],\n",
      "      dtype='object')\n",
      "37\n",
      "37\n"
     ]
    },
    {
     "data": {
      "image/png": "[encoded data removed]",
      "text/plain": [
       "<Figure size 1000x400 with 1 Axes>"
      ]
     },
     "metadata": {
      "needs_background": "light"
     },
     "output_type": "display_data"
    }
   ],
   "source": [
    "plot_feature_importances(features, importances)"
   ]
  },
  {
   "cell_type": "code",
   "execution_count": 209,
   "metadata": {
    "ExecuteTime": {
     "end_time": "2020-09-09T08:13:03.579837Z",
     "start_time": "2020-09-09T07:16:14.879Z"
    }
   },
   "outputs": [
    {
     "data": {
      "text/plain": [
       "array([517, 692, 453,   0, 412,   0,   0,   0,   0,   0,   0,   0,   0,\n",
       "         0,   0,   0,   0,   0,   0,   0,   0,   0,   0,   0,   0,   0,\n",
       "         0,   0,   0,   0,   0,   0,   0,   0,   0,   0, 649])"
      ]
     },
     "execution_count": 209,
     "metadata": {},
     "output_type": "execute_result"
    }
   ],
   "source": [
    "importances"
   ]
  },
  {
   "cell_type": "markdown",
   "metadata": {},
   "source": [
    "### Without SVD's score"
   ]
  },
  {
   "cell_type": "code",
   "execution_count": 237,
   "metadata": {
    "ExecuteTime": {
     "end_time": "2020-09-09T08:13:03.580835Z",
     "start_time": "2020-09-09T07:16:14.891Z"
    }
   },
   "outputs": [],
   "source": [
    "features = np.stack((feature1, feature2, feature5, feature6,\n",
    "                     feature7[0], feature7[1], feature7[2], feature7[3],\n",
    "                     feature7[4], feature7[5], feature7[6], feature7[7],\n",
    "                     feature7[8], feature7[9], feature7[10], feature7[11],\n",
    "                     feature7[12], feature7[13], feature7[14], feature7[15],\n",
    "                     feature7[16], feature7[17], feature7[18], feature7[19],\n",
    "                     feature7[20], feature7[21], feature7[22], feature7[23],\n",
    "                     feature7[24], feature7[25], feature7[26], feature7[27],\n",
    "                     feature7[28], feature7[29], feature7[30], feature7[31],\n",
    "                     feature47))"
   ]
  },
  {
   "cell_type": "code",
   "execution_count": 238,
   "metadata": {
    "ExecuteTime": {
     "end_time": "2020-09-09T08:13:03.582863Z",
     "start_time": "2020-09-09T07:16:14.900Z"
    }
   },
   "outputs": [],
   "source": [
    "X_train, X_test, X_val = prepareXY(features)\n",
    "lgbm_pred_per_user, importances = lgbm_fit_predict(X_train, y_train, group_train, X_val, y_val, group_val, X_test)"
   ]
  },
  {
   "cell_type": "code",
   "execution_count": 239,
   "metadata": {
    "ExecuteTime": {
     "end_time": "2020-09-09T08:13:03.584826Z",
     "start_time": "2020-09-09T07:16:14.911Z"
    }
   },
   "outputs": [
    {
     "name": "stderr",
     "output_type": "stream",
     "text": [
      "C:\\Users\\papad\\Anaconda3\\lib\\site-packages\\ipykernel_launcher.py:2: RuntimeWarning: invalid value encountered in double_scalars\n",
      "  \n"
     ]
    },
    {
     "data": {
      "text/plain": [
       "0.2805953231426194"
      ]
     },
     "execution_count": 239,
     "metadata": {},
     "output_type": "execute_result"
    }
   ],
   "source": [
    "lgbm_NDCG = []\n",
    "lgbm_relevance_list = []\n",
    "for i in range(len(num_users)):\n",
    "    excel_df = pd.DataFrame({'movie_id': target_movies[i], 'implicit_score': feature1[i], \n",
    "                         'ifm_rank': feature2[i],\n",
    "                         '#users_watched': feature5[i],\n",
    "                         'new_user': feature6[i],\n",
    "                         'emedding1': feature7[0][i], 'emedding2': feature7[1][i], 'emedding3': feature7[2][i],\n",
    "                         'emedding4': feature7[3][i], 'emedding5': feature7[4][i], 'emedding6': feature7[5][i],\n",
    "                         'emedding7': feature7[6][i], 'emedding8': feature7[7][i], 'emedding9': feature7[8][i],\n",
    "                         'emedding10': feature7[9][i], 'emedding11': feature7[10][i], 'emedding12': feature7[11][i],\n",
    "                         'emedding13': feature7[12][i], 'emedding14': feature7[13][i], 'emedding15': feature7[14][i],\n",
    "                         'emedding16': feature7[15][i], 'emedding17': feature7[16][i], 'emedding18': feature7[17][i],\n",
    "                         'emedding19': feature7[18][i], 'emedding20': feature7[19][i], 'emedding21': feature7[20][i],\n",
    "                         'emedding22': feature7[21][i], 'emedding23': feature7[22][i], 'emedding24': feature7[23][i],\n",
    "                         'emedding25': feature7[24][i], 'emedding26': feature7[25][i], 'emedding27': feature7[26][i],\n",
    "                         'emedding28': feature7[27][i], 'emedding29': feature7[28][i], 'emedding30': feature7[29][i],\n",
    "                         'emedding31': feature7[30][i], 'emedding32': feature7[31][i],\n",
    "                         'svd_rank':feature47[i],\n",
    "                         'train_label': label_train[i], 'test_label': label_test[i],\n",
    "                         'y_val': label_val[i], 'LGBM Score': lgbm_pred_per_user[i]})\n",
    "    excel_df = excel_df.sort_values('LGBM Score', ascending=False)\n",
    "    relevance_lgbm_user = excel_df['test_label'].values.tolist()\n",
    "    lgbm_relevance_list.append(relevance_lgbm_user)\n",
    "    lgbm_NDCG.append(NDCG_forUser(relevance_lgbm_user))\n",
    "lgbm_NDCG = pd.Series(lgbm_NDCG).fillna(0).tolist()\n",
    "lgbm_NDCG = np.mean(lgbm_NDCG)\n",
    "lgbm_NDCG"
   ]
  },
  {
   "cell_type": "code",
   "execution_count": 240,
   "metadata": {
    "ExecuteTime": {
     "end_time": "2020-09-09T08:13:03.585821Z",
     "start_time": "2020-09-09T07:16:14.920Z"
    }
   },
   "outputs": [
    {
     "name": "stderr",
     "output_type": "stream",
     "text": [
      "C:\\Users\\papad\\Anaconda3\\lib\\site-packages\\ipykernel_launcher.py:17: RuntimeWarning: invalid value encountered in double_scalars\n"
     ]
    }
   ],
   "source": [
    "lgbm_mrr, lgbm_map = mrr_map(lgbm_relevance_list)"
   ]
  },
  {
   "cell_type": "code",
   "execution_count": 241,
   "metadata": {
    "ExecuteTime": {
     "end_time": "2020-09-09T08:13:03.586820Z",
     "start_time": "2020-09-09T07:16:14.930Z"
    }
   },
   "outputs": [],
   "source": [
    "metrics_df = compare_metrics(lgbm_NDCG, lgbm_mrr, lgbm_map)"
   ]
  },
  {
   "cell_type": "code",
   "execution_count": 242,
   "metadata": {
    "ExecuteTime": {
     "end_time": "2020-09-09T08:13:03.587849Z",
     "start_time": "2020-09-09T07:16:14.939Z"
    }
   },
   "outputs": [
    {
     "data": {
      "text/html": [
       "<div>\n",
       "<style scoped>\n",
       "    .dataframe tbody tr th:only-of-type {\n",
       "        vertical-align: middle;\n",
       "    }\n",
       "\n",
       "    .dataframe tbody tr th {\n",
       "        vertical-align: top;\n",
       "    }\n",
       "\n",
       "    .dataframe thead th {\n",
       "        text-align: right;\n",
       "    }\n",
       "</style>\n",
       "<table border=\"1\" class=\"dataframe\">\n",
       "  <thead>\n",
       "    <tr style=\"text-align: right;\">\n",
       "      <th></th>\n",
       "      <th>LightGBM_NDCG</th>\n",
       "      <th>IFM_NDCG</th>\n",
       "      <th>SVD_NDCG</th>\n",
       "      <th>LightGBM_MRR</th>\n",
       "      <th>IFM_MRR</th>\n",
       "      <th>SVD_MRR</th>\n",
       "      <th>LightGBM_MAP</th>\n",
       "      <th>IFM_MAP</th>\n",
       "      <th>SVD_MAP</th>\n",
       "    </tr>\n",
       "  </thead>\n",
       "  <tbody>\n",
       "    <tr>\n",
       "      <th>0</th>\n",
       "      <td>0.280595</td>\n",
       "      <td>0.285149</td>\n",
       "      <td>0.267938</td>\n",
       "      <td>0.170515</td>\n",
       "      <td>0.167769</td>\n",
       "      <td>0.157996</td>\n",
       "      <td>0.083978</td>\n",
       "      <td>0.090826</td>\n",
       "      <td>0.075796</td>\n",
       "    </tr>\n",
       "  </tbody>\n",
       "</table>\n",
       "</div>"
      ],
      "text/plain": [
       "   LightGBM_NDCG  IFM_NDCG  SVD_NDCG  LightGBM_MRR   IFM_MRR   SVD_MRR  \\\n",
       "0       0.280595  0.285149  0.267938      0.170515  0.167769  0.157996   \n",
       "\n",
       "   LightGBM_MAP   IFM_MAP   SVD_MAP  \n",
       "0      0.083978  0.090826  0.075796  "
      ]
     },
     "execution_count": 242,
     "metadata": {},
     "output_type": "execute_result"
    }
   ],
   "source": [
    "metrics_df"
   ]
  },
  {
   "cell_type": "code",
   "execution_count": 243,
   "metadata": {
    "ExecuteTime": {
     "end_time": "2020-09-09T08:13:03.589811Z",
     "start_time": "2020-09-09T07:16:14.948Z"
    }
   },
   "outputs": [],
   "source": [
    "metrics_df.to_csv(r'C:\\Users\\papad\\Desktop\\DISS WRITE\\d.csv', index = False)"
   ]
  },
  {
   "cell_type": "code",
   "execution_count": 244,
   "metadata": {
    "ExecuteTime": {
     "end_time": "2020-09-09T08:13:03.590810Z",
     "start_time": "2020-09-09T07:16:14.958Z"
    },
    "scrolled": true
   },
   "outputs": [
    {
     "name": "stdout",
     "output_type": "stream",
     "text": [
      "Index(['implicit_score', 'ifm_rank', '#users_watched', 'new_user', 'emedding1',\n",
      "       'emedding2', 'emedding3', 'emedding4', 'emedding5', 'emedding6',\n",
      "       'emedding7', 'emedding8', 'emedding9', 'emedding10', 'emedding11',\n",
      "       'emedding12', 'emedding13', 'emedding14', 'emedding15', 'emedding16',\n",
      "       'emedding17', 'emedding18', 'emedding19', 'emedding20', 'emedding21',\n",
      "       'emedding22', 'emedding23', 'emedding24', 'emedding25', 'emedding26',\n",
      "       'emedding27', 'emedding28', 'emedding29', 'emedding30', 'emedding31',\n",
      "       'emedding32', 'svd_rank'],\n",
      "      dtype='object')\n",
      "37\n",
      "37\n"
     ]
    },
    {
     "data": {
      "image/png": "[encoded data removed]",
      "text/plain": [
       "<Figure size 1000x400 with 1 Axes>"
      ]
     },
     "metadata": {
      "needs_background": "light"
     },
     "output_type": "display_data"
    }
   ],
   "source": [
    "plot_feature_importances(features, importances)"
   ]
  },
  {
   "cell_type": "code",
   "execution_count": 218,
   "metadata": {
    "ExecuteTime": {
     "end_time": "2020-09-09T08:13:03.591808Z",
     "start_time": "2020-09-09T07:16:14.967Z"
    }
   },
   "outputs": [
    {
     "data": {
      "text/plain": [
       "array([696, 511, 402,   0, 446,   0,   0,   0,   0,   0,   0,   0,   0,\n",
       "         0,   0,   0,   0,   0,   0,   0,   0,   0,   0,   0,   0,   0,\n",
       "         0,   0,   0,   0,   0,   0,   0,   0,   0,   0, 692])"
      ]
     },
     "execution_count": 218,
     "metadata": {},
     "output_type": "execute_result"
    }
   ],
   "source": [
    "importances"
   ]
  },
  {
   "cell_type": "markdown",
   "metadata": {},
   "source": [
    "# Significance Test"
   ]
  },
  {
   "cell_type": "markdown",
   "metadata": {},
   "source": [
    "The difference of MAP values of two systems can identify which one is better "
   ]
  },
  {
   "cell_type": "code",
   "execution_count": null,
   "metadata": {},
   "outputs": [],
   "source": [
    "from scipy import stats\n",
    "rvs1 = stats.norm.rvs(loc = 5,scale = 10,size = 500)\n",
    "rvs2 = stats.norm.rvs(loc = 1,scale = 1,size = 5)\n",
    "print(stats.ttest_ind(rvs1,rvs2))"
   ]
  },
  {
   "cell_type": "code",
   "execution_count": null,
   "metadata": {},
   "outputs": [],
   "source": [
    "rvs2"
   ]
  },
  {
   "cell_type": "code",
   "execution_count": null,
   "metadata": {},
   "outputs": [],
   "source": [
    "print(stats.ttest_1samp(1,2))"
   ]
  },
  {
   "cell_type": "code",
   "execution_count": null,
   "metadata": {},
   "outputs": [],
   "source": [
    "from scipy import stats\n",
    "rvs = stats.norm.rvs(loc = 5, scale = 10, size = (50,2))\n",
    "print(stats.ttest_1samp(rvs,5.0))"
   ]
  },
  {
   "cell_type": "code",
   "execution_count": null,
   "metadata": {},
   "outputs": [],
   "source": [
    "from scipy.stats import wilcoxon\n",
    "d = [0.084083, 0.102764, 0.073226]\n",
    "w, p = wilcoxon(d)\n",
    "w, p"
   ]
  },
  {
   "cell_type": "markdown",
   "metadata": {},
   "source": [
    "# Draft"
   ]
  },
  {
   "cell_type": "code",
   "execution_count": null,
   "metadata": {},
   "outputs": [],
   "source": [
    "df = pd.DataFrame({'a':['a','b','c'], 'b':[4,2,7] })\n",
    "\n",
    "df.groupby(['a']).median().sort_values(\"b\", ascending = False).plot.bar()"
   ]
  },
  {
   "cell_type": "code",
   "execution_count": null,
   "metadata": {},
   "outputs": [],
   "source": [
    "feature_names = excel_df.columns[1:len(features)+1]\n",
    "df=pd.DataFrame({'allvarlist': feature_names,'importances':importances})\n",
    "df.sort_values('importances',inplace=True)\n",
    "df.plot(kind='barh',y='importances',x='allvarlist',color='r')"
   ]
  },
  {
   "cell_type": "code",
   "execution_count": 255,
   "metadata": {},
   "outputs": [
    {
     "ename": "NameError",
     "evalue": "name 'feature4' is not defined",
     "output_type": "error",
     "traceback": [
      "\u001b[1;31m---------------------------------------------------------------------------\u001b[0m",
      "\u001b[1;31mNameError\u001b[0m                                 Traceback (most recent call last)",
      "\u001b[1;32m<ipython-input-255-23e22ff2ebea>\u001b[0m in \u001b[0;36m<module>\u001b[1;34m\u001b[0m\n\u001b[0;32m      1\u001b[0m \u001b[1;32mfor\u001b[0m \u001b[0mu\u001b[0m \u001b[1;32min\u001b[0m \u001b[0mrange\u001b[0m\u001b[1;33m(\u001b[0m\u001b[0mlen\u001b[0m\u001b[1;33m(\u001b[0m\u001b[0mnum_users\u001b[0m\u001b[1;33m)\u001b[0m\u001b[1;33m)\u001b[0m\u001b[1;33m:\u001b[0m\u001b[1;33m\u001b[0m\u001b[1;33m\u001b[0m\u001b[0m\n\u001b[0;32m      2\u001b[0m     \u001b[1;32mfor\u001b[0m \u001b[0mi\u001b[0m \u001b[1;32min\u001b[0m \u001b[0mrange\u001b[0m\u001b[1;33m(\u001b[0m\u001b[1;36m150\u001b[0m\u001b[1;33m)\u001b[0m\u001b[1;33m:\u001b[0m\u001b[1;33m\u001b[0m\u001b[1;33m\u001b[0m\u001b[0m\n\u001b[1;32m----> 3\u001b[1;33m         \u001b[1;32mif\u001b[0m \u001b[0mfeature4\u001b[0m\u001b[1;33m[\u001b[0m\u001b[0mj\u001b[0m\u001b[1;33m]\u001b[0m\u001b[1;33m[\u001b[0m\u001b[0mi\u001b[0m\u001b[1;33m]\u001b[0m \u001b[1;33m==\u001b[0m \u001b[1;36m1\u001b[0m\u001b[1;33m:\u001b[0m\u001b[1;33m\u001b[0m\u001b[1;33m\u001b[0m\u001b[0m\n\u001b[0m\u001b[0;32m      4\u001b[0m             \u001b[0mcount\u001b[0m \u001b[1;33m+=\u001b[0m \u001b[1;36m1\u001b[0m\u001b[1;33m\u001b[0m\u001b[1;33m\u001b[0m\u001b[0m\n",
      "\u001b[1;31mNameError\u001b[0m: name 'feature4' is not defined"
     ]
    }
   ],
   "source": []
  },
  {
   "cell_type": "code",
   "execution_count": null,
   "metadata": {},
   "outputs": [],
   "source": []
  }
 ],
 "metadata": {
  "kernelspec": {
   "display_name": "Python 3",
   "language": "python",
   "name": "python3"
  },
  "language_info": {
   "codemirror_mode": {
    "name": "ipython",
    "version": 3
   },
   "file_extension": ".py",
   "mimetype": "text/x-python",
   "name": "python",
   "nbconvert_exporter": "python",
   "pygments_lexer": "ipython3",
   "version": "3.7.7"
  },
  "toc": {
   "base_numbering": 1,
   "nav_menu": {},
   "number_sections": true,
   "sideBar": true,
   "skip_h1_title": false,
   "title_cell": "Table of Contents",
   "title_sidebar": "Contents",
   "toc_cell": false,
   "toc_position": {
    "height": "calc(100% - 180px)",
    "left": "10px",
    "top": "150px",
    "width": "307.2px"
   },
   "toc_section_display": true,
   "toc_window_display": true
  },
  "toc-autonumbering": true,
  "varInspector": {
   "cols": {
    "lenName": 16,
    "lenType": 16,
    "lenVar": 40
   },
   "kernels_config": {
    "python": {
     "delete_cmd_postfix": "",
     "delete_cmd_prefix": "del ",
     "library": "var_list.py",
     "varRefreshCmd": "print(var_dic_list())"
    },
    "r": {
     "delete_cmd_postfix": ") ",
     "delete_cmd_prefix": "rm(",
     "library": "var_list.r",
     "varRefreshCmd": "cat(var_dic_list()) "
    }
   },
   "types_to_exclude": [
    "module",
    "function",
    "builtin_function_or_method",
    "instance",
    "_Feature"
   ],
   "window_display": false
  }
 },
 "nbformat": 4,
 "nbformat_minor": 4
}
