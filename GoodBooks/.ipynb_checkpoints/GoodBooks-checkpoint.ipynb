{
 "cells": [
  {
   "cell_type": "code",
   "execution_count": 1,
   "metadata": {
    "ExecuteTime": {
     "end_time": "2020-09-09T08:29:46.488999Z",
     "start_time": "2020-09-09T08:29:45.049183Z"
    }
   },
   "outputs": [],
   "source": [
    "import pandas as pd\n",
    "import numpy as np\n",
    "import matplotlib.pyplot as plt\n",
    "from spotlight.factorization.implicit import ImplicitFactorizationModel\n",
    "from spotlight.interactions import Interactions\n",
    "from spotlight.cross_validation import random_train_test_split"
   ]
  },
  {
   "cell_type": "code",
   "execution_count": 2,
   "metadata": {
    "ExecuteTime": {
     "end_time": "2020-09-09T08:29:48.302230Z",
     "start_time": "2020-09-09T08:29:46.488999Z"
    }
   },
   "outputs": [],
   "source": [
    "ratings_df = pd.read_csv('C:/Users/papad/Desktop/goodbooks-10k-master/goodbooks-10k-master/ratings.csv')\n",
    "books_df = pd.read_csv('C:/Users/papad/Desktop/goodbooks-10k-master/goodbooks-10k-master/books.csv')\n",
    "to_read_df = pd.read_csv('C:/Users/papad/Desktop/goodbooks-10k-master/goodbooks-10k-master/to_read.csv')\n",
    "book_tags_df = pd.read_csv('C:/Users/papad/Desktop/goodbooks-10k-master/goodbooks-10k-master/book_tags.csv')\n",
    "tags_df = pd.read_csv('C:/Users/papad/Desktop/goodbooks-10k-master/goodbooks-10k-master/tags.csv')"
   ]
  },
  {
   "cell_type": "markdown",
   "metadata": {},
   "source": [
    "# Dataset"
   ]
  },
  {
   "cell_type": "code",
   "execution_count": 3,
   "metadata": {
    "ExecuteTime": {
     "end_time": "2020-09-09T08:29:48.309050Z",
     "start_time": "2020-09-09T08:29:48.304063Z"
    },
    "cell_style": "center"
   },
   "outputs": [],
   "source": [
    "percentage = 1.7\n",
    "ratings_df = ratings_df.head(int(len(ratings_df)*(percentage/100)))"
   ]
  },
  {
   "cell_type": "code",
   "execution_count": 4,
   "metadata": {
    "ExecuteTime": {
     "end_time": "2020-09-09T08:29:48.339001Z",
     "start_time": "2020-09-09T08:29:48.311044Z"
    },
    "cell_style": "center"
   },
   "outputs": [
    {
     "data": {
      "text/html": [
       "<div>\n",
       "<style scoped>\n",
       "    .dataframe tbody tr th:only-of-type {\n",
       "        vertical-align: middle;\n",
       "    }\n",
       "\n",
       "    .dataframe tbody tr th {\n",
       "        vertical-align: top;\n",
       "    }\n",
       "\n",
       "    .dataframe thead th {\n",
       "        text-align: right;\n",
       "    }\n",
       "</style>\n",
       "<table border=\"1\" class=\"dataframe\">\n",
       "  <thead>\n",
       "    <tr style=\"text-align: right;\">\n",
       "      <th></th>\n",
       "      <th>book_id</th>\n",
       "      <th>goodreads_book_id</th>\n",
       "      <th>best_book_id</th>\n",
       "      <th>work_id</th>\n",
       "      <th>books_count</th>\n",
       "      <th>isbn</th>\n",
       "      <th>isbn13</th>\n",
       "      <th>authors</th>\n",
       "      <th>original_publication_year</th>\n",
       "      <th>original_title</th>\n",
       "      <th>...</th>\n",
       "      <th>ratings_count</th>\n",
       "      <th>work_ratings_count</th>\n",
       "      <th>work_text_reviews_count</th>\n",
       "      <th>ratings_1</th>\n",
       "      <th>ratings_2</th>\n",
       "      <th>ratings_3</th>\n",
       "      <th>ratings_4</th>\n",
       "      <th>ratings_5</th>\n",
       "      <th>image_url</th>\n",
       "      <th>small_image_url</th>\n",
       "    </tr>\n",
       "  </thead>\n",
       "  <tbody>\n",
       "    <tr>\n",
       "      <th>9438</th>\n",
       "      <td>9439</td>\n",
       "      <td>35539</td>\n",
       "      <td>35539</td>\n",
       "      <td>1654509</td>\n",
       "      <td>17</td>\n",
       "      <td>316013315</td>\n",
       "      <td>9.780316e+12</td>\n",
       "      <td>Bob Spitz</td>\n",
       "      <td>2005.0</td>\n",
       "      <td>The Beatles: The Biography</td>\n",
       "      <td>...</td>\n",
       "      <td>8120</td>\n",
       "      <td>8464</td>\n",
       "      <td>390</td>\n",
       "      <td>205</td>\n",
       "      <td>314</td>\n",
       "      <td>1270</td>\n",
       "      <td>3020</td>\n",
       "      <td>3655</td>\n",
       "      <td>https://images.gr-assets.com/books/1327951066m...</td>\n",
       "      <td>https://images.gr-assets.com/books/1327951066s...</td>\n",
       "    </tr>\n",
       "  </tbody>\n",
       "</table>\n",
       "<p>1 rows × 23 columns</p>\n",
       "</div>"
      ],
      "text/plain": [
       "      book_id  goodreads_book_id  best_book_id  work_id  books_count  \\\n",
       "9438     9439              35539         35539  1654509           17   \n",
       "\n",
       "           isbn        isbn13    authors  original_publication_year  \\\n",
       "9438  316013315  9.780316e+12  Bob Spitz                     2005.0   \n",
       "\n",
       "                  original_title  ... ratings_count work_ratings_count  \\\n",
       "9438  The Beatles: The Biography  ...          8120               8464   \n",
       "\n",
       "      work_text_reviews_count  ratings_1  ratings_2  ratings_3  ratings_4  \\\n",
       "9438                      390        205        314       1270       3020   \n",
       "\n",
       "      ratings_5                                          image_url  \\\n",
       "9438       3655  https://images.gr-assets.com/books/1327951066m...   \n",
       "\n",
       "                                        small_image_url  \n",
       "9438  https://images.gr-assets.com/books/1327951066s...  \n",
       "\n",
       "[1 rows x 23 columns]"
      ]
     },
     "execution_count": 4,
     "metadata": {},
     "output_type": "execute_result"
    }
   ],
   "source": [
    "books_df[books_df['book_id']==9439]"
   ]
  },
  {
   "cell_type": "code",
   "execution_count": 5,
   "metadata": {
    "ExecuteTime": {
     "end_time": "2020-09-09T08:29:48.350939Z",
     "start_time": "2020-09-09T08:29:48.340966Z"
    }
   },
   "outputs": [
    {
     "data": {
      "text/html": [
       "<div>\n",
       "<style scoped>\n",
       "    .dataframe tbody tr th:only-of-type {\n",
       "        vertical-align: middle;\n",
       "    }\n",
       "\n",
       "    .dataframe tbody tr th {\n",
       "        vertical-align: top;\n",
       "    }\n",
       "\n",
       "    .dataframe thead th {\n",
       "        text-align: right;\n",
       "    }\n",
       "</style>\n",
       "<table border=\"1\" class=\"dataframe\">\n",
       "  <thead>\n",
       "    <tr style=\"text-align: right;\">\n",
       "      <th></th>\n",
       "      <th>user_id</th>\n",
       "      <th>book_id</th>\n",
       "      <th>rating</th>\n",
       "    </tr>\n",
       "  </thead>\n",
       "  <tbody>\n",
       "    <tr>\n",
       "      <th>0</th>\n",
       "      <td>1</td>\n",
       "      <td>258</td>\n",
       "      <td>5</td>\n",
       "    </tr>\n",
       "    <tr>\n",
       "      <th>1</th>\n",
       "      <td>2</td>\n",
       "      <td>4081</td>\n",
       "      <td>4</td>\n",
       "    </tr>\n",
       "    <tr>\n",
       "      <th>2</th>\n",
       "      <td>2</td>\n",
       "      <td>260</td>\n",
       "      <td>5</td>\n",
       "    </tr>\n",
       "    <tr>\n",
       "      <th>3</th>\n",
       "      <td>2</td>\n",
       "      <td>9296</td>\n",
       "      <td>5</td>\n",
       "    </tr>\n",
       "    <tr>\n",
       "      <th>4</th>\n",
       "      <td>2</td>\n",
       "      <td>2318</td>\n",
       "      <td>3</td>\n",
       "    </tr>\n",
       "    <tr>\n",
       "      <th>...</th>\n",
       "      <td>...</td>\n",
       "      <td>...</td>\n",
       "      <td>...</td>\n",
       "    </tr>\n",
       "    <tr>\n",
       "      <th>101595</th>\n",
       "      <td>344</td>\n",
       "      <td>27</td>\n",
       "      <td>3</td>\n",
       "    </tr>\n",
       "    <tr>\n",
       "      <th>101596</th>\n",
       "      <td>344</td>\n",
       "      <td>21</td>\n",
       "      <td>3</td>\n",
       "    </tr>\n",
       "    <tr>\n",
       "      <th>101597</th>\n",
       "      <td>344</td>\n",
       "      <td>25</td>\n",
       "      <td>3</td>\n",
       "    </tr>\n",
       "    <tr>\n",
       "      <th>101598</th>\n",
       "      <td>344</td>\n",
       "      <td>23</td>\n",
       "      <td>3</td>\n",
       "    </tr>\n",
       "    <tr>\n",
       "      <th>101599</th>\n",
       "      <td>2951</td>\n",
       "      <td>5779</td>\n",
       "      <td>4</td>\n",
       "    </tr>\n",
       "  </tbody>\n",
       "</table>\n",
       "<p>101600 rows × 3 columns</p>\n",
       "</div>"
      ],
      "text/plain": [
       "        user_id  book_id  rating\n",
       "0             1      258       5\n",
       "1             2     4081       4\n",
       "2             2      260       5\n",
       "3             2     9296       5\n",
       "4             2     2318       3\n",
       "...         ...      ...     ...\n",
       "101595      344       27       3\n",
       "101596      344       21       3\n",
       "101597      344       25       3\n",
       "101598      344       23       3\n",
       "101599     2951     5779       4\n",
       "\n",
       "[101600 rows x 3 columns]"
      ]
     },
     "execution_count": 5,
     "metadata": {},
     "output_type": "execute_result"
    }
   ],
   "source": [
    "ratings_df"
   ]
  },
  {
   "cell_type": "code",
   "execution_count": 394,
   "metadata": {
    "ExecuteTime": {
     "end_time": "2020-09-09T08:29:48.365302Z",
     "start_time": "2020-09-09T08:29:48.354354Z"
    },
    "scrolled": true
   },
   "outputs": [
    {
     "name": "stdout",
     "output_type": "stream",
     "text": [
      "1823\n",
      "5050\n"
     ]
    }
   ],
   "source": [
    "num_users = ratings_df['user_id'].unique()\n",
    "print(len(num_users))\n",
    "num_items = ratings_df['book_id'].unique()\n",
    "print(len(num_items))"
   ]
  },
  {
   "cell_type": "markdown",
   "metadata": {},
   "source": [
    "# Spotlight"
   ]
  },
  {
   "cell_type": "markdown",
   "metadata": {},
   "source": [
    "Spotlight users and items ids should be consecutive. For that purpose in the cell below, the defaultdict function from the collections library is used to provide, the uid_map and iid_map. These variables contain consecutive numbers equal to the number of users and items respectively. These are necessary to create the interaction objects, which are the fundamental objects of the Spotlight platform, and are required in order to build a Spotlight recommender. \n",
    "\n",
    "Then I keep the reveresed mapped user and item ids, to take the real predicted item ids when i finish the process with the Spotlight model."
   ]
  },
  {
   "cell_type": "code",
   "execution_count": 7,
   "metadata": {
    "ExecuteTime": {
     "end_time": "2020-09-09T08:29:48.437152Z",
     "start_time": "2020-09-09T08:29:48.367298Z"
    }
   },
   "outputs": [
    {
     "name": "stdout",
     "output_type": "stream",
     "text": [
      "userId 556 got uid 1823\n",
      "movieId 54001 got iid 5050\n"
     ]
    }
   ],
   "source": [
    "from collections import defaultdict\n",
    "from itertools import count\n",
    "uid_map = defaultdict(count().__next__)\n",
    "iid_map = defaultdict(count().__next__)\n",
    "uids = np.array([uid_map[uid] for uid in ratings_df[\"user_id\"].values ], dtype=np.int32)\n",
    "iids = np.array([iid_map[iid] for iid in ratings_df[\"book_id\"].values ], dtype=np.int32)\n",
    "\n",
    "uid_rev_map = {v: k for k, v in uid_map.items()}\n",
    "iid_rev_map = {v: k for k, v in iid_map.items()}\n",
    "\n",
    "\n",
    "print(\"userId %d got uid %d\" % (556, uid_map[556]))\n",
    "print(\"movieId %d got iid %d\" % (54001, iid_map[54001]))"
   ]
  },
  {
   "cell_type": "markdown",
   "metadata": {},
   "source": [
    "Interactions refer, to the user-item interactions. Each interaction contains a user-item pair interaction, and it can be added a timestamp, and for explicit models, a rating.\n",
    "\n",
    "After creating the Interactions object I split the data using the random_train_test_split function from the Spotlight library. I firstly split my dataset into train set, test set, validation set. \n",
    "Having in mind that a lightGBM that combines the knowledge extracted from a few baseline models, I split the training set into features and label sets, to use them to formulate the data in order to train the lightGBM model later."
   ]
  },
  {
   "cell_type": "code",
   "execution_count": 8,
   "metadata": {
    "ExecuteTime": {
     "end_time": "2020-09-09T08:29:48.458085Z",
     "start_time": "2020-09-09T08:29:48.441098Z"
    }
   },
   "outputs": [],
   "source": [
    "from spotlight.interactions import Interactions\n",
    "from spotlight.cross_validation import random_train_test_split\n",
    "from spotlight.factorization.implicit import ImplicitFactorizationModel\n",
    "import time  \n",
    "\n",
    "\n",
    "#pecify the ids of the users and items for all the pairs of user-item interactions\n",
    "implicit_interaction = Interactions(user_ids=uids,\n",
    "                                   item_ids=iids)\n",
    "\n",
    "\n",
    "#lets initialise the seed, so that its repeatable and reproducible \n",
    "implicit_train_tmp, implicit_test = random_train_test_split(implicit_interaction, random_state=np.random.seed(42))\n",
    "implicit_train, implicit_val = random_train_test_split(implicit_train_tmp, random_state=np.random.seed(42))\n",
    "implicit_train_features, implicit_train_labels = random_train_test_split(implicit_train, random_state=np.random.seed(42))"
   ]
  },
  {
   "cell_type": "code",
   "execution_count": 9,
   "metadata": {
    "ExecuteTime": {
     "end_time": "2020-09-09T08:29:48.464037Z",
     "start_time": "2020-09-09T08:29:48.460047Z"
    }
   },
   "outputs": [
    {
     "name": "stdout",
     "output_type": "stream",
     "text": [
      "<Interactions dataset (1823 users x 5050 items x 65024 interactions)>\n",
      "<Interactions dataset (1823 users x 5050 items x 20320 interactions)>\n",
      "<Interactions dataset (1823 users x 5050 items x 16256 interactions)>\n",
      "<Interactions dataset (1823 users x 5050 items x 52019 interactions)>\n",
      "<Interactions dataset (1823 users x 5050 items x 13005 interactions)>\n"
     ]
    }
   ],
   "source": [
    "print(implicit_train)\n",
    "print(implicit_test)\n",
    "print(implicit_val)\n",
    "print(implicit_train_features)\n",
    "print(implicit_train_labels)"
   ]
  },
  {
   "cell_type": "markdown",
   "metadata": {},
   "source": [
    "Apart from a Spotlight model, an SVD model is trained, so the conversion of the Interaction objects to dataframes is thought as necessary, as the same data should be used for all the model, to provide fair comparisons."
   ]
  },
  {
   "cell_type": "code",
   "execution_count": 10,
   "metadata": {
    "ExecuteTime": {
     "end_time": "2020-09-09T08:29:48.479005Z",
     "start_time": "2020-09-09T08:29:48.467028Z"
    }
   },
   "outputs": [],
   "source": [
    "def interactionToDataFrame(dataset):\n",
    "    converted_users = []\n",
    "    converted_books = []\n",
    "    rating = []\n",
    "    for i in range(len(dataset.user_ids)):\n",
    "        converted_users.append(uid_rev_map[dataset.user_ids[i]])\n",
    "        converted_books.append(iid_rev_map[dataset.item_ids[i]])\n",
    "        rating.append(float(ratings_df['rating'][(ratings_df['book_id'] == converted_books[i]) & (\n",
    "            ratings_df['user_id'] == converted_users[i])].values))\n",
    "    df = pd.DataFrame({'user_id': converted_users,\n",
    "                       'book_id': converted_books, 'rating': rating})\n",
    "    return df"
   ]
  },
  {
   "cell_type": "code",
   "execution_count": 11,
   "metadata": {
    "ExecuteTime": {
     "end_time": "2020-09-09T08:32:24.259212Z",
     "start_time": "2020-09-09T08:29:48.482987Z"
    }
   },
   "outputs": [],
   "source": [
    "train_df = interactionToDataFrame(implicit_train)\n",
    "val_df = interactionToDataFrame(implicit_val)\n",
    "test_df = interactionToDataFrame(implicit_test)\n",
    "train_features_df = interactionToDataFrame(implicit_train_features)\n",
    "train_labels_df = interactionToDataFrame(implicit_train_labels)"
   ]
  },
  {
   "cell_type": "markdown",
   "metadata": {},
   "source": [
    "## Implicit Factorization model"
   ]
  },
  {
   "cell_type": "markdown",
   "metadata": {},
   "source": [
    "The model form the Spotlight, that is used is the Implicit Factorization model. This is a model used to address implicit feedback from the users. To make it clear, the implicit feedback in a movie platform could be the movie that a user watched but did not gave a rating. Given, that he/ she watched some movies, knowledge can be extracted about his/her preferences, without having ratings."
   ]
  },
  {
   "cell_type": "code",
   "execution_count": 12,
   "metadata": {
    "ExecuteTime": {
     "end_time": "2020-09-09T08:32:53.496995Z",
     "start_time": "2020-09-09T08:32:24.261050Z"
    }
   },
   "outputs": [
    {
     "name": "stdout",
     "output_type": "stream",
     "text": [
      "Epoch 0: loss 0.7959021454251657\n",
      "Epoch 1: loss 0.4680700894650512\n",
      "Epoch 2: loss 0.4003485198330691\n",
      "Epoch 3: loss 0.3442567611538519\n",
      "Epoch 4: loss 0.3025937486938604\n",
      "Training took 30 second\n"
     ]
    }
   ],
   "source": [
    "implicit_model = ImplicitFactorizationModel(n_iter=5)\n",
    "\n",
    "current = time.time()\n",
    "\n",
    "implicit_model.fit(implicit_train, verbose=True)\n",
    "\n",
    "end = time.time()\n",
    "diff = end - current\n",
    "print('Training took %d second' % (diff))"
   ]
  },
  {
   "cell_type": "markdown",
   "metadata": {},
   "source": [
    "### Top - K"
   ]
  },
  {
   "cell_type": "markdown",
   "metadata": {},
   "source": [
    "The idea is to provide the top-K(100) recommendations for each user and then evaluate the results using the NDCG evaluation metric. \n",
    "\n",
    "For this purpose on the cell below, the topK recommendations for a user are calculated.\n",
    "\n",
    "The function below, topK_implicit, has been introduced on the lab of the course Recommender Systems."
   ]
  },
  {
   "cell_type": "code",
   "execution_count": 13,
   "metadata": {
    "ExecuteTime": {
     "end_time": "2020-09-09T08:32:53.518936Z",
     "start_time": "2020-09-09T08:32:53.500985Z"
    },
    "cell_style": "split"
   },
   "outputs": [
    {
     "name": "stdout",
     "output_type": "stream",
     "text": [
      "[26, 33, 301, 18, 27, 21, 2, 23, 24, 35, 58, 111, 5, 8, 297, 45, 113, 14, 36, 102, 13, 268, 867, 50, 87, 32, 28, 42, 249, 184, 219, 11, 426, 101, 344, 372, 122, 9, 60, 238, 119, 587, 10, 171, 94, 408, 233, 115, 177, 4, 483, 100, 306, 92, 71, 48, 131, 662, 378, 860, 136, 78, 186, 150, 66, 236, 114, 132, 22, 7, 85, 217, 270, 80, 228, 43, 57, 155, 59, 138, 154, 29, 248, 178, 718, 468, 383, 127, 278, 38, 335, 1255, 1005, 40, 265, 44, 82, 25, 46, 67]\n"
     ]
    }
   ],
   "source": [
    "import scipy.stats as st\n",
    "k = 100\n",
    "def topK_implicit(user, model, k=100):\n",
    "  a= list()\n",
    "  ranks = st.rankdata(-model.predict(user))   \n",
    "  for iid in np.argwhere(ranks <= k):\n",
    "    a.append(iid_rev_map[iid.item(0)])\n",
    "  return a\n",
    "\n",
    "rec_forUser = topK_implicit(0,implicit_model)\n",
    "print(rec_forUser)"
   ]
  },
  {
   "cell_type": "markdown",
   "metadata": {},
   "source": [
    "The topK recommendations for all users are needed, so the function below returns the topK recommendations for all the users, taking advantage of the function above."
   ]
  },
  {
   "cell_type": "code",
   "execution_count": 14,
   "metadata": {
    "ExecuteTime": {
     "end_time": "2020-09-09T08:32:53.529911Z",
     "start_time": "2020-09-09T08:32:53.522926Z"
    },
    "cell_style": "split"
   },
   "outputs": [],
   "source": [
    "def allUsers_topK_implicit(model):\n",
    "    a = []\n",
    "    for i in range(len(num_users)):\n",
    "       a.append(topK_implicit(i,model))\n",
    "    return a"
   ]
  },
  {
   "cell_type": "markdown",
   "metadata": {},
   "source": [
    "### NDCG Score"
   ]
  },
  {
   "cell_type": "code",
   "execution_count": 15,
   "metadata": {
    "ExecuteTime": {
     "end_time": "2020-09-09T08:32:57.214999Z",
     "start_time": "2020-09-09T08:32:53.533897Z"
    }
   },
   "outputs": [],
   "source": [
    "allUsers_topK_imp = allUsers_topK_implicit(implicit_model)"
   ]
  },
  {
   "cell_type": "markdown",
   "metadata": {},
   "source": [
    "To provide the NDCG value it is necessary to compute the relevance for each user. The relevance containes 0s and 1s, based on which of the topK recommended movies the user has actually watched. For every recommended movie that the user has actually watched, the value of 1 is assigned. \n",
    "\n",
    "The function below returns a list that contains a relevance list for each user."
   ]
  },
  {
   "cell_type": "code",
   "execution_count": 16,
   "metadata": {
    "ExecuteTime": {
     "end_time": "2020-09-09T08:32:57.231955Z",
     "start_time": "2020-09-09T08:32:57.217993Z"
    }
   },
   "outputs": [],
   "source": [
    "def relevance_spotlight_implicit(allUsers_topK):\n",
    "    relevance_implicit_full = []\n",
    "    helper = []\n",
    "    count = 0\n",
    "    for i in range(1,len(num_users)+1):\n",
    "        for j in range(len(allUsers_topK[count])):\n",
    "            if allUsers_topK[count][j] in test_df['book_id'][test_df['user_id'] == i].values.tolist():\n",
    "                helper.append(1)\n",
    "            else:\n",
    "                helper.append(0)\n",
    "        relevance_implicit_full.append(helper)\n",
    "        helper = []\n",
    "        count += 1\n",
    "    return relevance_implicit_full"
   ]
  },
  {
   "cell_type": "markdown",
   "metadata": {},
   "source": [
    "The relevance_implicit_full variable contains the relevance list of each user for the implicit factorization model results."
   ]
  },
  {
   "cell_type": "code",
   "execution_count": 17,
   "metadata": {
    "ExecuteTime": {
     "end_time": "2020-09-09T08:34:25.415592Z",
     "start_time": "2020-09-09T08:32:57.235945Z"
    }
   },
   "outputs": [],
   "source": [
    "relevance_implicit_full = relevance_spotlight_implicit(allUsers_topK_imp)"
   ]
  },
  {
   "cell_type": "markdown",
   "metadata": {},
   "source": [
    "The dcg and ideal_dcg functions are taken form https://github.com/lezzago/LambdaMart/blob/master/lambdamart.py. They are necessary to compute the desired NDCG evaluation metric."
   ]
  },
  {
   "cell_type": "code",
   "execution_count": 18,
   "metadata": {
    "ExecuteTime": {
     "end_time": "2020-09-09T08:34:25.422739Z",
     "start_time": "2020-09-09T08:34:25.417746Z"
    }
   },
   "outputs": [],
   "source": [
    "def dcg(scores):\n",
    "    \"\"\"\n",
    "    Returns the DCG value of the list of scores.\n",
    "    Parameters\n",
    "    ----------\n",
    "    scores : list\n",
    "        Contains labels in a certain ranked order\n",
    "\n",
    "    Returns\n",
    "    -------\n",
    "    DCG_val: int\n",
    "        This is the value of the DCG on the given scores\n",
    "    \"\"\"\n",
    "    return np.sum([\n",
    "                    (np.power(2, scores[i]) - 1) / np.log2(i + 2)\n",
    "                    for i in range(len(scores))\n",
    "                ])"
   ]
  },
  {
   "cell_type": "code",
   "execution_count": 19,
   "metadata": {
    "ExecuteTime": {
     "end_time": "2020-09-09T08:34:25.432267Z",
     "start_time": "2020-09-09T08:34:25.422739Z"
    }
   },
   "outputs": [],
   "source": [
    "def ideal_dcg(scores):\n",
    "    \"\"\"\n",
    "    Returns the Ideal DCG value of the list of scores.\n",
    "    Parameters\n",
    "    ----------\n",
    "    scores : list\n",
    "        Contains labels in a certain ranked order\n",
    "\n",
    "    Returns\n",
    "    -------\n",
    "    Ideal_DCG_val: int\n",
    "        This is the value of the Ideal DCG on the given scores\n",
    "    \"\"\"\n",
    "    scores = [score for score in sorted(scores)[::-1]]\n",
    "    return dcg(scores)"
   ]
  },
  {
   "cell_type": "markdown",
   "metadata": {},
   "source": [
    "The function below, NDCG_forUser, given a relevance list, returns the NDCG value. In simpler words, it returns the NDCG value for a user."
   ]
  },
  {
   "cell_type": "code",
   "execution_count": 20,
   "metadata": {
    "ExecuteTime": {
     "end_time": "2020-09-09T08:34:25.439747Z",
     "start_time": "2020-09-09T08:34:25.432267Z"
    }
   },
   "outputs": [],
   "source": [
    "def NDCG_forUser(relevance):\n",
    "    return dcg(relevance) / ideal_dcg(relevance)"
   ]
  },
  {
   "cell_type": "markdown",
   "metadata": {},
   "source": [
    "The function below, allUsers_ndcg, returns a list that contains the NDCG score for each user."
   ]
  },
  {
   "cell_type": "code",
   "execution_count": 21,
   "metadata": {
    "ExecuteTime": {
     "end_time": "2020-09-09T08:34:25.449277Z",
     "start_time": "2020-09-09T08:34:25.441797Z"
    }
   },
   "outputs": [],
   "source": [
    "def allUsers_ndcg(relevance):\n",
    "    allUsers_implicit_ndcg = []\n",
    "    for i in range(len(num_users)):\n",
    "        allUsers_implicit_ndcg.append(NDCG_forUser(relevance[i]))\n",
    "    return allUsers_implicit_ndcg"
   ]
  },
  {
   "cell_type": "code",
   "execution_count": 22,
   "metadata": {
    "ExecuteTime": {
     "end_time": "2020-09-09T08:34:27.747952Z",
     "start_time": "2020-09-09T08:34:25.451942Z"
    }
   },
   "outputs": [
    {
     "name": "stderr",
     "output_type": "stream",
     "text": [
      "C:\\Users\\papad\\Anaconda3\\lib\\site-packages\\ipykernel_launcher.py:2: RuntimeWarning: invalid value encountered in double_scalars\n",
      "  \n"
     ]
    }
   ],
   "source": [
    "allUsers_implicit_ndcg = allUsers_ndcg(relevance_implicit_full)"
   ]
  },
  {
   "cell_type": "markdown",
   "metadata": {},
   "source": [
    "Fill the nan values with 0s."
   ]
  },
  {
   "cell_type": "code",
   "execution_count": 23,
   "metadata": {
    "ExecuteTime": {
     "end_time": "2020-09-09T08:34:27.758489Z",
     "start_time": "2020-09-09T08:34:27.753496Z"
    }
   },
   "outputs": [],
   "source": [
    "allUsers_implicit_ndcg = pd.Series(allUsers_implicit_ndcg).fillna(0).tolist()"
   ]
  },
  {
   "cell_type": "markdown",
   "metadata": {},
   "source": [
    "Compute the mean value of the NDCG scores."
   ]
  },
  {
   "cell_type": "code",
   "execution_count": 24,
   "metadata": {
    "ExecuteTime": {
     "end_time": "2020-09-09T08:34:27.769419Z",
     "start_time": "2020-09-09T08:34:27.761474Z"
    }
   },
   "outputs": [
    {
     "data": {
      "text/plain": [
       "0.1677385720610451"
      ]
     },
     "execution_count": 24,
     "metadata": {},
     "output_type": "execute_result"
    }
   ],
   "source": [
    "np.array(allUsers_implicit_ndcg).mean()"
   ]
  },
  {
   "cell_type": "markdown",
   "metadata": {},
   "source": [
    "### MRR Score"
   ]
  },
  {
   "cell_type": "code",
   "execution_count": 168,
   "metadata": {
    "ExecuteTime": {
     "end_time": "2020-09-09T07:28:48.014210Z",
     "start_time": "2020-09-09T07:28:48.009223Z"
    }
   },
   "outputs": [],
   "source": [
    "#Calculate reciprocal rank. Where is the first relevant item?\n",
    "def RR_forUsers(relevance):\n",
    "    count = 0\n",
    "    reciprocal_rank_perUser = []\n",
    "    #for each user\n",
    "    first_perUser = 0\n",
    "    for rel in relevance:\n",
    "        #for each item in a relevance list\n",
    "        for r in rel:\n",
    "            count += 1\n",
    "            if r == 1:\n",
    "                #1/position\n",
    "                first_perUser = 1/count\n",
    "                #stop the iteration. Only care about the first relevant item\n",
    "                break\n",
    "        reciprocal_rank_perUser.append(first_perUser)\n",
    "        count = 0\n",
    "    return reciprocal_rank_perUser"
   ]
  },
  {
   "cell_type": "code",
   "execution_count": 169,
   "metadata": {
    "ExecuteTime": {
     "end_time": "2020-09-09T07:28:48.025218Z",
     "start_time": "2020-09-09T07:28:48.017200Z"
    }
   },
   "outputs": [],
   "source": [
    "rr_implicit = RR_forUsers(relevance_implicit_full)"
   ]
  },
  {
   "cell_type": "code",
   "execution_count": 170,
   "metadata": {
    "ExecuteTime": {
     "end_time": "2020-09-09T07:28:48.032160Z",
     "start_time": "2020-09-09T07:28:48.027173Z"
    }
   },
   "outputs": [],
   "source": [
    "def calculate_mrr(rr):    \n",
    "    #or np.array(rr).mean()\n",
    "    return np.array(rr).sum()/len(rr)"
   ]
  },
  {
   "cell_type": "code",
   "execution_count": 171,
   "metadata": {
    "ExecuteTime": {
     "end_time": "2020-09-09T07:28:48.043132Z",
     "start_time": "2020-09-09T07:28:48.036150Z"
    }
   },
   "outputs": [],
   "source": [
    "implicit_mrr = calculate_mrr(rr_implicit)"
   ]
  },
  {
   "cell_type": "code",
   "execution_count": 172,
   "metadata": {
    "ExecuteTime": {
     "end_time": "2020-09-09T07:28:48.055102Z",
     "start_time": "2020-09-09T07:28:48.047121Z"
    }
   },
   "outputs": [
    {
     "data": {
      "text/plain": [
       "0.17451026835040548"
      ]
     },
     "execution_count": 172,
     "metadata": {},
     "output_type": "execute_result"
    }
   ],
   "source": [
    "implicit_mrr"
   ]
  },
  {
   "cell_type": "markdown",
   "metadata": {},
   "source": [
    "### MAP Score"
   ]
  },
  {
   "cell_type": "code",
   "execution_count": 173,
   "metadata": {
    "ExecuteTime": {
     "end_time": "2020-09-09T07:28:48.065072Z",
     "start_time": "2020-09-09T07:28:48.058093Z"
    }
   },
   "outputs": [],
   "source": [
    "#calculate average precision.\n",
    "def calculate_averagePrecision(relevance):\n",
    "    count_positive = 0\n",
    "    positives = []\n",
    "    ap_perUser = []\n",
    "    count = 0\n",
    "    #for each user\n",
    "    for rel in relevance:\n",
    "        #for each item in a relevance list\n",
    "        for r in rel:\n",
    "            count += 1\n",
    "            if r == 1:\n",
    "                count_positive += 1\n",
    "                #First, second, etc. relevant item/ position\n",
    "                positives.append(count_positive/count)\n",
    "        #mean of relevant item/position\n",
    "        ap_perUser.append(np.array(positives).sum()/count_positive)\n",
    "        count_positive = 0\n",
    "        positives = []\n",
    "        count = 0\n",
    "    return ap_perUser"
   ]
  },
  {
   "cell_type": "code",
   "execution_count": 174,
   "metadata": {
    "ExecuteTime": {
     "end_time": "2020-09-09T07:28:48.101975Z",
     "start_time": "2020-09-09T07:28:48.067066Z"
    }
   },
   "outputs": [
    {
     "name": "stderr",
     "output_type": "stream",
     "text": [
      "C:\\Users\\papad\\Anaconda3\\lib\\site-packages\\ipykernel_launcher.py:17: RuntimeWarning: invalid value encountered in double_scalars\n"
     ]
    }
   ],
   "source": [
    "implicit_ap = calculate_averagePrecision(relevance_implicit_full)\n",
    "implicit_ap = pd.Series(implicit_ap).fillna(0).tolist()"
   ]
  },
  {
   "cell_type": "code",
   "execution_count": 175,
   "metadata": {
    "ExecuteTime": {
     "end_time": "2020-09-09T07:28:48.107958Z",
     "start_time": "2020-09-09T07:28:48.104005Z"
    }
   },
   "outputs": [],
   "source": [
    "def calculate_MAP(ap):\n",
    "    #or np.array(ap).mean()\n",
    "    return np.array(ap).sum()/len(ap)"
   ]
  },
  {
   "cell_type": "code",
   "execution_count": 176,
   "metadata": {
    "ExecuteTime": {
     "end_time": "2020-09-09T07:28:48.115969Z",
     "start_time": "2020-09-09T07:28:48.109952Z"
    }
   },
   "outputs": [
    {
     "data": {
      "text/plain": [
       "0.057487890799555894"
      ]
     },
     "execution_count": 176,
     "metadata": {},
     "output_type": "execute_result"
    }
   ],
   "source": [
    "implicit_map = calculate_MAP(implicit_ap)\n",
    "implicit_map"
   ]
  },
  {
   "cell_type": "markdown",
   "metadata": {},
   "source": [
    "# SVD"
   ]
  },
  {
   "cell_type": "markdown",
   "metadata": {},
   "source": [
    "On this section (Section 3), an SVD model is implemented, aiming to provide the top-K recommendations for each user and evaluate the results using the NDCG evaluation metric."
   ]
  },
  {
   "cell_type": "markdown",
   "metadata": {},
   "source": [
    "Pivot is used to have a matrix that has as rows the userIDs and as columns the movieIDs. The unrated, by a user, movies are assigned the value 0 instead of null. Pivot organizes a DataFrame by giving index and column values. It is helpful in the recommender systems approach, as it provides a dataframe in which, it can be seen directly any user-item rating."
   ]
  },
  {
   "cell_type": "code",
   "execution_count": 25,
   "metadata": {
    "ExecuteTime": {
     "end_time": "2020-09-09T08:34:27.969670Z",
     "start_time": "2020-09-09T08:34:27.771413Z"
    }
   },
   "outputs": [],
   "source": [
    "df_book_features = train_df.pivot(\n",
    "    index='user_id',\n",
    "    columns='book_id',\n",
    "    values='rating'\n",
    ").fillna(0)"
   ]
  },
  {
   "cell_type": "code",
   "execution_count": 26,
   "metadata": {
    "ExecuteTime": {
     "end_time": "2020-09-09T08:34:27.998599Z",
     "start_time": "2020-09-09T08:34:27.970635Z"
    }
   },
   "outputs": [
    {
     "data": {
      "text/html": [
       "<div>\n",
       "<style scoped>\n",
       "    .dataframe tbody tr th:only-of-type {\n",
       "        vertical-align: middle;\n",
       "    }\n",
       "\n",
       "    .dataframe tbody tr th {\n",
       "        vertical-align: top;\n",
       "    }\n",
       "\n",
       "    .dataframe thead th {\n",
       "        text-align: right;\n",
       "    }\n",
       "</style>\n",
       "<table border=\"1\" class=\"dataframe\">\n",
       "  <thead>\n",
       "    <tr style=\"text-align: right;\">\n",
       "      <th>book_id</th>\n",
       "      <th>2</th>\n",
       "      <th>3</th>\n",
       "      <th>4</th>\n",
       "      <th>5</th>\n",
       "      <th>7</th>\n",
       "      <th>8</th>\n",
       "      <th>9</th>\n",
       "      <th>10</th>\n",
       "      <th>11</th>\n",
       "      <th>13</th>\n",
       "      <th>...</th>\n",
       "      <th>9978</th>\n",
       "      <th>9984</th>\n",
       "      <th>9985</th>\n",
       "      <th>9988</th>\n",
       "      <th>9990</th>\n",
       "      <th>9991</th>\n",
       "      <th>9995</th>\n",
       "      <th>9997</th>\n",
       "      <th>9998</th>\n",
       "      <th>10000</th>\n",
       "    </tr>\n",
       "    <tr>\n",
       "      <th>user_id</th>\n",
       "      <th></th>\n",
       "      <th></th>\n",
       "      <th></th>\n",
       "      <th></th>\n",
       "      <th></th>\n",
       "      <th></th>\n",
       "      <th></th>\n",
       "      <th></th>\n",
       "      <th></th>\n",
       "      <th></th>\n",
       "      <th></th>\n",
       "      <th></th>\n",
       "      <th></th>\n",
       "      <th></th>\n",
       "      <th></th>\n",
       "      <th></th>\n",
       "      <th></th>\n",
       "      <th></th>\n",
       "      <th></th>\n",
       "      <th></th>\n",
       "      <th></th>\n",
       "    </tr>\n",
       "  </thead>\n",
       "  <tbody>\n",
       "    <tr>\n",
       "      <th>1</th>\n",
       "      <td>0.0</td>\n",
       "      <td>0.0</td>\n",
       "      <td>0.0</td>\n",
       "      <td>0.0</td>\n",
       "      <td>0.0</td>\n",
       "      <td>0.0</td>\n",
       "      <td>0.0</td>\n",
       "      <td>0.0</td>\n",
       "      <td>0.0</td>\n",
       "      <td>0.0</td>\n",
       "      <td>...</td>\n",
       "      <td>0.0</td>\n",
       "      <td>0.0</td>\n",
       "      <td>0.0</td>\n",
       "      <td>0.0</td>\n",
       "      <td>0.0</td>\n",
       "      <td>0.0</td>\n",
       "      <td>0.0</td>\n",
       "      <td>0.0</td>\n",
       "      <td>0.0</td>\n",
       "      <td>0.0</td>\n",
       "    </tr>\n",
       "    <tr>\n",
       "      <th>2</th>\n",
       "      <td>0.0</td>\n",
       "      <td>0.0</td>\n",
       "      <td>0.0</td>\n",
       "      <td>0.0</td>\n",
       "      <td>0.0</td>\n",
       "      <td>0.0</td>\n",
       "      <td>0.0</td>\n",
       "      <td>0.0</td>\n",
       "      <td>0.0</td>\n",
       "      <td>0.0</td>\n",
       "      <td>...</td>\n",
       "      <td>0.0</td>\n",
       "      <td>0.0</td>\n",
       "      <td>0.0</td>\n",
       "      <td>0.0</td>\n",
       "      <td>0.0</td>\n",
       "      <td>0.0</td>\n",
       "      <td>0.0</td>\n",
       "      <td>0.0</td>\n",
       "      <td>0.0</td>\n",
       "      <td>0.0</td>\n",
       "    </tr>\n",
       "    <tr>\n",
       "      <th>3</th>\n",
       "      <td>0.0</td>\n",
       "      <td>0.0</td>\n",
       "      <td>0.0</td>\n",
       "      <td>0.0</td>\n",
       "      <td>0.0</td>\n",
       "      <td>0.0</td>\n",
       "      <td>0.0</td>\n",
       "      <td>0.0</td>\n",
       "      <td>0.0</td>\n",
       "      <td>2.0</td>\n",
       "      <td>...</td>\n",
       "      <td>0.0</td>\n",
       "      <td>0.0</td>\n",
       "      <td>0.0</td>\n",
       "      <td>0.0</td>\n",
       "      <td>0.0</td>\n",
       "      <td>0.0</td>\n",
       "      <td>0.0</td>\n",
       "      <td>0.0</td>\n",
       "      <td>0.0</td>\n",
       "      <td>0.0</td>\n",
       "    </tr>\n",
       "    <tr>\n",
       "      <th>4</th>\n",
       "      <td>5.0</td>\n",
       "      <td>0.0</td>\n",
       "      <td>4.0</td>\n",
       "      <td>4.0</td>\n",
       "      <td>0.0</td>\n",
       "      <td>4.0</td>\n",
       "      <td>0.0</td>\n",
       "      <td>5.0</td>\n",
       "      <td>0.0</td>\n",
       "      <td>0.0</td>\n",
       "      <td>...</td>\n",
       "      <td>0.0</td>\n",
       "      <td>0.0</td>\n",
       "      <td>0.0</td>\n",
       "      <td>0.0</td>\n",
       "      <td>0.0</td>\n",
       "      <td>0.0</td>\n",
       "      <td>0.0</td>\n",
       "      <td>0.0</td>\n",
       "      <td>0.0</td>\n",
       "      <td>0.0</td>\n",
       "    </tr>\n",
       "    <tr>\n",
       "      <th>6</th>\n",
       "      <td>0.0</td>\n",
       "      <td>0.0</td>\n",
       "      <td>0.0</td>\n",
       "      <td>0.0</td>\n",
       "      <td>0.0</td>\n",
       "      <td>0.0</td>\n",
       "      <td>0.0</td>\n",
       "      <td>0.0</td>\n",
       "      <td>0.0</td>\n",
       "      <td>0.0</td>\n",
       "      <td>...</td>\n",
       "      <td>0.0</td>\n",
       "      <td>0.0</td>\n",
       "      <td>0.0</td>\n",
       "      <td>0.0</td>\n",
       "      <td>0.0</td>\n",
       "      <td>0.0</td>\n",
       "      <td>0.0</td>\n",
       "      <td>0.0</td>\n",
       "      <td>0.0</td>\n",
       "      <td>0.0</td>\n",
       "    </tr>\n",
       "    <tr>\n",
       "      <th>...</th>\n",
       "      <td>...</td>\n",
       "      <td>...</td>\n",
       "      <td>...</td>\n",
       "      <td>...</td>\n",
       "      <td>...</td>\n",
       "      <td>...</td>\n",
       "      <td>...</td>\n",
       "      <td>...</td>\n",
       "      <td>...</td>\n",
       "      <td>...</td>\n",
       "      <td>...</td>\n",
       "      <td>...</td>\n",
       "      <td>...</td>\n",
       "      <td>...</td>\n",
       "      <td>...</td>\n",
       "      <td>...</td>\n",
       "      <td>...</td>\n",
       "      <td>...</td>\n",
       "      <td>...</td>\n",
       "      <td>...</td>\n",
       "      <td>...</td>\n",
       "    </tr>\n",
       "    <tr>\n",
       "      <th>2992</th>\n",
       "      <td>0.0</td>\n",
       "      <td>0.0</td>\n",
       "      <td>0.0</td>\n",
       "      <td>0.0</td>\n",
       "      <td>0.0</td>\n",
       "      <td>0.0</td>\n",
       "      <td>0.0</td>\n",
       "      <td>0.0</td>\n",
       "      <td>0.0</td>\n",
       "      <td>0.0</td>\n",
       "      <td>...</td>\n",
       "      <td>0.0</td>\n",
       "      <td>0.0</td>\n",
       "      <td>0.0</td>\n",
       "      <td>0.0</td>\n",
       "      <td>0.0</td>\n",
       "      <td>0.0</td>\n",
       "      <td>0.0</td>\n",
       "      <td>0.0</td>\n",
       "      <td>0.0</td>\n",
       "      <td>0.0</td>\n",
       "    </tr>\n",
       "    <tr>\n",
       "      <th>2995</th>\n",
       "      <td>0.0</td>\n",
       "      <td>5.0</td>\n",
       "      <td>0.0</td>\n",
       "      <td>0.0</td>\n",
       "      <td>0.0</td>\n",
       "      <td>0.0</td>\n",
       "      <td>3.0</td>\n",
       "      <td>0.0</td>\n",
       "      <td>0.0</td>\n",
       "      <td>0.0</td>\n",
       "      <td>...</td>\n",
       "      <td>0.0</td>\n",
       "      <td>0.0</td>\n",
       "      <td>0.0</td>\n",
       "      <td>0.0</td>\n",
       "      <td>0.0</td>\n",
       "      <td>0.0</td>\n",
       "      <td>0.0</td>\n",
       "      <td>0.0</td>\n",
       "      <td>0.0</td>\n",
       "      <td>0.0</td>\n",
       "    </tr>\n",
       "    <tr>\n",
       "      <th>2996</th>\n",
       "      <td>5.0</td>\n",
       "      <td>0.0</td>\n",
       "      <td>0.0</td>\n",
       "      <td>0.0</td>\n",
       "      <td>5.0</td>\n",
       "      <td>0.0</td>\n",
       "      <td>0.0</td>\n",
       "      <td>3.0</td>\n",
       "      <td>0.0</td>\n",
       "      <td>3.0</td>\n",
       "      <td>...</td>\n",
       "      <td>0.0</td>\n",
       "      <td>0.0</td>\n",
       "      <td>0.0</td>\n",
       "      <td>0.0</td>\n",
       "      <td>0.0</td>\n",
       "      <td>0.0</td>\n",
       "      <td>0.0</td>\n",
       "      <td>0.0</td>\n",
       "      <td>0.0</td>\n",
       "      <td>0.0</td>\n",
       "    </tr>\n",
       "    <tr>\n",
       "      <th>2998</th>\n",
       "      <td>0.0</td>\n",
       "      <td>0.0</td>\n",
       "      <td>0.0</td>\n",
       "      <td>0.0</td>\n",
       "      <td>0.0</td>\n",
       "      <td>0.0</td>\n",
       "      <td>0.0</td>\n",
       "      <td>0.0</td>\n",
       "      <td>0.0</td>\n",
       "      <td>0.0</td>\n",
       "      <td>...</td>\n",
       "      <td>0.0</td>\n",
       "      <td>0.0</td>\n",
       "      <td>0.0</td>\n",
       "      <td>0.0</td>\n",
       "      <td>0.0</td>\n",
       "      <td>0.0</td>\n",
       "      <td>0.0</td>\n",
       "      <td>0.0</td>\n",
       "      <td>0.0</td>\n",
       "      <td>0.0</td>\n",
       "    </tr>\n",
       "    <tr>\n",
       "      <th>3004</th>\n",
       "      <td>5.0</td>\n",
       "      <td>0.0</td>\n",
       "      <td>0.0</td>\n",
       "      <td>0.0</td>\n",
       "      <td>0.0</td>\n",
       "      <td>0.0</td>\n",
       "      <td>0.0</td>\n",
       "      <td>0.0</td>\n",
       "      <td>0.0</td>\n",
       "      <td>0.0</td>\n",
       "      <td>...</td>\n",
       "      <td>0.0</td>\n",
       "      <td>0.0</td>\n",
       "      <td>0.0</td>\n",
       "      <td>0.0</td>\n",
       "      <td>0.0</td>\n",
       "      <td>0.0</td>\n",
       "      <td>0.0</td>\n",
       "      <td>0.0</td>\n",
       "      <td>0.0</td>\n",
       "      <td>0.0</td>\n",
       "    </tr>\n",
       "  </tbody>\n",
       "</table>\n",
       "<p>1806 rows × 4707 columns</p>\n",
       "</div>"
      ],
      "text/plain": [
       "book_id  2      3      4      5      7      8      9      10     11     13     \\\n",
       "user_id                                                                         \n",
       "1          0.0    0.0    0.0    0.0    0.0    0.0    0.0    0.0    0.0    0.0   \n",
       "2          0.0    0.0    0.0    0.0    0.0    0.0    0.0    0.0    0.0    0.0   \n",
       "3          0.0    0.0    0.0    0.0    0.0    0.0    0.0    0.0    0.0    2.0   \n",
       "4          5.0    0.0    4.0    4.0    0.0    4.0    0.0    5.0    0.0    0.0   \n",
       "6          0.0    0.0    0.0    0.0    0.0    0.0    0.0    0.0    0.0    0.0   \n",
       "...        ...    ...    ...    ...    ...    ...    ...    ...    ...    ...   \n",
       "2992       0.0    0.0    0.0    0.0    0.0    0.0    0.0    0.0    0.0    0.0   \n",
       "2995       0.0    5.0    0.0    0.0    0.0    0.0    3.0    0.0    0.0    0.0   \n",
       "2996       5.0    0.0    0.0    0.0    5.0    0.0    0.0    3.0    0.0    3.0   \n",
       "2998       0.0    0.0    0.0    0.0    0.0    0.0    0.0    0.0    0.0    0.0   \n",
       "3004       5.0    0.0    0.0    0.0    0.0    0.0    0.0    0.0    0.0    0.0   \n",
       "\n",
       "book_id  ...  9978   9984   9985   9988   9990   9991   9995   9997   9998   \\\n",
       "user_id  ...                                                                  \n",
       "1        ...    0.0    0.0    0.0    0.0    0.0    0.0    0.0    0.0    0.0   \n",
       "2        ...    0.0    0.0    0.0    0.0    0.0    0.0    0.0    0.0    0.0   \n",
       "3        ...    0.0    0.0    0.0    0.0    0.0    0.0    0.0    0.0    0.0   \n",
       "4        ...    0.0    0.0    0.0    0.0    0.0    0.0    0.0    0.0    0.0   \n",
       "6        ...    0.0    0.0    0.0    0.0    0.0    0.0    0.0    0.0    0.0   \n",
       "...      ...    ...    ...    ...    ...    ...    ...    ...    ...    ...   \n",
       "2992     ...    0.0    0.0    0.0    0.0    0.0    0.0    0.0    0.0    0.0   \n",
       "2995     ...    0.0    0.0    0.0    0.0    0.0    0.0    0.0    0.0    0.0   \n",
       "2996     ...    0.0    0.0    0.0    0.0    0.0    0.0    0.0    0.0    0.0   \n",
       "2998     ...    0.0    0.0    0.0    0.0    0.0    0.0    0.0    0.0    0.0   \n",
       "3004     ...    0.0    0.0    0.0    0.0    0.0    0.0    0.0    0.0    0.0   \n",
       "\n",
       "book_id  10000  \n",
       "user_id         \n",
       "1          0.0  \n",
       "2          0.0  \n",
       "3          0.0  \n",
       "4          0.0  \n",
       "6          0.0  \n",
       "...        ...  \n",
       "2992       0.0  \n",
       "2995       0.0  \n",
       "2996       0.0  \n",
       "2998       0.0  \n",
       "3004       0.0  \n",
       "\n",
       "[1806 rows x 4707 columns]"
      ]
     },
     "execution_count": 26,
     "metadata": {},
     "output_type": "execute_result"
    }
   ],
   "source": [
    "df_book_features"
   ]
  },
  {
   "cell_type": "markdown",
   "metadata": {},
   "source": [
    "## SVD implementation"
   ]
  },
  {
   "cell_type": "code",
   "execution_count": 27,
   "metadata": {
    "ExecuteTime": {
     "end_time": "2020-09-09T08:34:28.482725Z",
     "start_time": "2020-09-09T08:34:28.000558Z"
    }
   },
   "outputs": [],
   "source": [
    "from scipy.sparse.linalg import svds\n",
    "U, sigma, Vt = svds(df_book_features)"
   ]
  },
  {
   "cell_type": "markdown",
   "metadata": {},
   "source": [
    "## Predictions"
   ]
  },
  {
   "cell_type": "markdown",
   "metadata": {},
   "source": [
    "To get the prediction of a rating of an item dj, we can calculate the dot product of the two vectors.\n",
    "The sigma variable has just the values, so I have to convert to a diagonal matrix in orded to implement the matrix multiplication."
   ]
  },
  {
   "cell_type": "code",
   "execution_count": 28,
   "metadata": {
    "ExecuteTime": {
     "end_time": "2020-09-09T08:34:28.558076Z",
     "start_time": "2020-09-09T08:34:28.485187Z"
    }
   },
   "outputs": [],
   "source": [
    "sigma = np.diag(sigma)\n",
    "svd_predictions_score = np.dot(np.dot(U, sigma), Vt)\n",
    "svd_predictions_score_df = pd.DataFrame(svd_predictions_score, columns = df_book_features.columns)\n"
   ]
  },
  {
   "cell_type": "code",
   "execution_count": 29,
   "metadata": {
    "ExecuteTime": {
     "end_time": "2020-09-09T08:34:28.613480Z",
     "start_time": "2020-09-09T08:34:28.560038Z"
    }
   },
   "outputs": [
    {
     "data": {
      "text/html": [
       "<div>\n",
       "<style scoped>\n",
       "    .dataframe tbody tr th:only-of-type {\n",
       "        vertical-align: middle;\n",
       "    }\n",
       "\n",
       "    .dataframe tbody tr th {\n",
       "        vertical-align: top;\n",
       "    }\n",
       "\n",
       "    .dataframe thead th {\n",
       "        text-align: right;\n",
       "    }\n",
       "</style>\n",
       "<table border=\"1\" class=\"dataframe\">\n",
       "  <thead>\n",
       "    <tr style=\"text-align: right;\">\n",
       "      <th>book_id</th>\n",
       "      <th>2</th>\n",
       "      <th>3</th>\n",
       "      <th>4</th>\n",
       "      <th>5</th>\n",
       "      <th>7</th>\n",
       "      <th>8</th>\n",
       "      <th>9</th>\n",
       "      <th>10</th>\n",
       "      <th>11</th>\n",
       "      <th>13</th>\n",
       "      <th>...</th>\n",
       "      <th>9978</th>\n",
       "      <th>9984</th>\n",
       "      <th>9985</th>\n",
       "      <th>9988</th>\n",
       "      <th>9990</th>\n",
       "      <th>9991</th>\n",
       "      <th>9995</th>\n",
       "      <th>9997</th>\n",
       "      <th>9998</th>\n",
       "      <th>10000</th>\n",
       "    </tr>\n",
       "  </thead>\n",
       "  <tbody>\n",
       "    <tr>\n",
       "      <th>0</th>\n",
       "      <td>-0.028812</td>\n",
       "      <td>0.000681</td>\n",
       "      <td>-0.010548</td>\n",
       "      <td>0.020091</td>\n",
       "      <td>-0.062429</td>\n",
       "      <td>0.021447</td>\n",
       "      <td>0.013237</td>\n",
       "      <td>0.025751</td>\n",
       "      <td>0.150616</td>\n",
       "      <td>-0.044965</td>\n",
       "      <td>...</td>\n",
       "      <td>-0.003201</td>\n",
       "      <td>-1.070324e-04</td>\n",
       "      <td>-0.001324</td>\n",
       "      <td>-2.065736e-03</td>\n",
       "      <td>0.001657</td>\n",
       "      <td>0.002214</td>\n",
       "      <td>-0.000204</td>\n",
       "      <td>-0.000097</td>\n",
       "      <td>-0.000143</td>\n",
       "      <td>-0.000120</td>\n",
       "    </tr>\n",
       "    <tr>\n",
       "      <th>1</th>\n",
       "      <td>0.160578</td>\n",
       "      <td>0.033000</td>\n",
       "      <td>0.598224</td>\n",
       "      <td>0.398861</td>\n",
       "      <td>0.084727</td>\n",
       "      <td>0.337987</td>\n",
       "      <td>0.388989</td>\n",
       "      <td>0.329202</td>\n",
       "      <td>0.527516</td>\n",
       "      <td>0.075959</td>\n",
       "      <td>...</td>\n",
       "      <td>-0.002799</td>\n",
       "      <td>3.087057e-04</td>\n",
       "      <td>0.003079</td>\n",
       "      <td>2.428205e-03</td>\n",
       "      <td>-0.000057</td>\n",
       "      <td>0.003479</td>\n",
       "      <td>0.000655</td>\n",
       "      <td>-0.001562</td>\n",
       "      <td>-0.000506</td>\n",
       "      <td>0.002024</td>\n",
       "    </tr>\n",
       "    <tr>\n",
       "      <th>2</th>\n",
       "      <td>0.018088</td>\n",
       "      <td>0.003146</td>\n",
       "      <td>0.278895</td>\n",
       "      <td>0.341046</td>\n",
       "      <td>0.243566</td>\n",
       "      <td>0.381658</td>\n",
       "      <td>-0.085983</td>\n",
       "      <td>0.214399</td>\n",
       "      <td>-0.071049</td>\n",
       "      <td>0.425108</td>\n",
       "      <td>...</td>\n",
       "      <td>0.013166</td>\n",
       "      <td>8.623847e-04</td>\n",
       "      <td>-0.001452</td>\n",
       "      <td>6.475052e-03</td>\n",
       "      <td>0.000776</td>\n",
       "      <td>0.007940</td>\n",
       "      <td>0.006646</td>\n",
       "      <td>0.001579</td>\n",
       "      <td>0.001493</td>\n",
       "      <td>-0.000779</td>\n",
       "    </tr>\n",
       "    <tr>\n",
       "      <th>3</th>\n",
       "      <td>2.932754</td>\n",
       "      <td>0.188967</td>\n",
       "      <td>2.795035</td>\n",
       "      <td>2.174772</td>\n",
       "      <td>1.839899</td>\n",
       "      <td>2.443893</td>\n",
       "      <td>1.005819</td>\n",
       "      <td>1.952350</td>\n",
       "      <td>0.918303</td>\n",
       "      <td>2.292574</td>\n",
       "      <td>...</td>\n",
       "      <td>0.058474</td>\n",
       "      <td>2.721435e-03</td>\n",
       "      <td>0.006624</td>\n",
       "      <td>1.829642e-02</td>\n",
       "      <td>0.002828</td>\n",
       "      <td>0.037315</td>\n",
       "      <td>0.025294</td>\n",
       "      <td>0.002924</td>\n",
       "      <td>0.003716</td>\n",
       "      <td>0.005235</td>\n",
       "    </tr>\n",
       "    <tr>\n",
       "      <th>4</th>\n",
       "      <td>-0.001329</td>\n",
       "      <td>0.000145</td>\n",
       "      <td>0.003227</td>\n",
       "      <td>0.002097</td>\n",
       "      <td>-0.000487</td>\n",
       "      <td>0.001584</td>\n",
       "      <td>0.003108</td>\n",
       "      <td>0.001427</td>\n",
       "      <td>0.005841</td>\n",
       "      <td>-0.000869</td>\n",
       "      <td>...</td>\n",
       "      <td>-0.000109</td>\n",
       "      <td>-1.424322e-07</td>\n",
       "      <td>0.000020</td>\n",
       "      <td>1.154336e-07</td>\n",
       "      <td>0.000016</td>\n",
       "      <td>0.000011</td>\n",
       "      <td>-0.000011</td>\n",
       "      <td>-0.000015</td>\n",
       "      <td>-0.000008</td>\n",
       "      <td>0.000016</td>\n",
       "    </tr>\n",
       "    <tr>\n",
       "      <th>...</th>\n",
       "      <td>...</td>\n",
       "      <td>...</td>\n",
       "      <td>...</td>\n",
       "      <td>...</td>\n",
       "      <td>...</td>\n",
       "      <td>...</td>\n",
       "      <td>...</td>\n",
       "      <td>...</td>\n",
       "      <td>...</td>\n",
       "      <td>...</td>\n",
       "      <td>...</td>\n",
       "      <td>...</td>\n",
       "      <td>...</td>\n",
       "      <td>...</td>\n",
       "      <td>...</td>\n",
       "      <td>...</td>\n",
       "      <td>...</td>\n",
       "      <td>...</td>\n",
       "      <td>...</td>\n",
       "      <td>...</td>\n",
       "      <td>...</td>\n",
       "    </tr>\n",
       "    <tr>\n",
       "      <th>1801</th>\n",
       "      <td>0.019185</td>\n",
       "      <td>-0.011492</td>\n",
       "      <td>0.204760</td>\n",
       "      <td>0.266269</td>\n",
       "      <td>-0.067852</td>\n",
       "      <td>0.376464</td>\n",
       "      <td>0.011849</td>\n",
       "      <td>0.152231</td>\n",
       "      <td>0.483628</td>\n",
       "      <td>0.171430</td>\n",
       "      <td>...</td>\n",
       "      <td>-0.001766</td>\n",
       "      <td>-7.763669e-04</td>\n",
       "      <td>-0.003811</td>\n",
       "      <td>-2.449088e-03</td>\n",
       "      <td>0.006005</td>\n",
       "      <td>0.009508</td>\n",
       "      <td>-0.000141</td>\n",
       "      <td>0.000627</td>\n",
       "      <td>-0.000079</td>\n",
       "      <td>0.001767</td>\n",
       "    </tr>\n",
       "    <tr>\n",
       "      <th>1802</th>\n",
       "      <td>1.355342</td>\n",
       "      <td>0.096793</td>\n",
       "      <td>0.631924</td>\n",
       "      <td>0.195467</td>\n",
       "      <td>0.179653</td>\n",
       "      <td>0.113632</td>\n",
       "      <td>0.670149</td>\n",
       "      <td>0.483051</td>\n",
       "      <td>0.450869</td>\n",
       "      <td>-0.110600</td>\n",
       "      <td>...</td>\n",
       "      <td>-0.002391</td>\n",
       "      <td>-1.954711e-04</td>\n",
       "      <td>0.005635</td>\n",
       "      <td>-8.037883e-03</td>\n",
       "      <td>-0.002844</td>\n",
       "      <td>-0.000358</td>\n",
       "      <td>-0.003417</td>\n",
       "      <td>-0.003129</td>\n",
       "      <td>-0.001707</td>\n",
       "      <td>0.002657</td>\n",
       "    </tr>\n",
       "    <tr>\n",
       "      <th>1803</th>\n",
       "      <td>4.224175</td>\n",
       "      <td>0.194341</td>\n",
       "      <td>1.531368</td>\n",
       "      <td>0.402540</td>\n",
       "      <td>1.642853</td>\n",
       "      <td>0.789033</td>\n",
       "      <td>1.328587</td>\n",
       "      <td>0.852514</td>\n",
       "      <td>0.308311</td>\n",
       "      <td>1.186235</td>\n",
       "      <td>...</td>\n",
       "      <td>0.027044</td>\n",
       "      <td>-1.646656e-03</td>\n",
       "      <td>0.021670</td>\n",
       "      <td>-4.481326e-03</td>\n",
       "      <td>-0.006039</td>\n",
       "      <td>-0.010937</td>\n",
       "      <td>-0.002228</td>\n",
       "      <td>-0.001062</td>\n",
       "      <td>-0.001940</td>\n",
       "      <td>0.011236</td>\n",
       "    </tr>\n",
       "    <tr>\n",
       "      <th>1804</th>\n",
       "      <td>0.171503</td>\n",
       "      <td>0.011671</td>\n",
       "      <td>1.102545</td>\n",
       "      <td>1.026265</td>\n",
       "      <td>0.123595</td>\n",
       "      <td>1.230634</td>\n",
       "      <td>0.459069</td>\n",
       "      <td>0.660032</td>\n",
       "      <td>1.612251</td>\n",
       "      <td>0.612317</td>\n",
       "      <td>...</td>\n",
       "      <td>-0.005922</td>\n",
       "      <td>-1.002765e-03</td>\n",
       "      <td>-0.003438</td>\n",
       "      <td>2.988541e-04</td>\n",
       "      <td>0.013203</td>\n",
       "      <td>0.023130</td>\n",
       "      <td>0.002852</td>\n",
       "      <td>0.000303</td>\n",
       "      <td>-0.000327</td>\n",
       "      <td>0.005743</td>\n",
       "    </tr>\n",
       "    <tr>\n",
       "      <th>1805</th>\n",
       "      <td>3.041768</td>\n",
       "      <td>0.152109</td>\n",
       "      <td>-0.123047</td>\n",
       "      <td>-1.154839</td>\n",
       "      <td>2.122429</td>\n",
       "      <td>-0.614056</td>\n",
       "      <td>1.524548</td>\n",
       "      <td>-0.608482</td>\n",
       "      <td>0.600743</td>\n",
       "      <td>0.722800</td>\n",
       "      <td>...</td>\n",
       "      <td>-0.031326</td>\n",
       "      <td>-1.992693e-03</td>\n",
       "      <td>0.037158</td>\n",
       "      <td>-7.017380e-03</td>\n",
       "      <td>-0.002034</td>\n",
       "      <td>-0.055485</td>\n",
       "      <td>-0.005975</td>\n",
       "      <td>-0.000486</td>\n",
       "      <td>-0.004239</td>\n",
       "      <td>0.009048</td>\n",
       "    </tr>\n",
       "  </tbody>\n",
       "</table>\n",
       "<p>1806 rows × 4707 columns</p>\n",
       "</div>"
      ],
      "text/plain": [
       "book_id     2         3         4         5         7         8         9      \\\n",
       "0       -0.028812  0.000681 -0.010548  0.020091 -0.062429  0.021447  0.013237   \n",
       "1        0.160578  0.033000  0.598224  0.398861  0.084727  0.337987  0.388989   \n",
       "2        0.018088  0.003146  0.278895  0.341046  0.243566  0.381658 -0.085983   \n",
       "3        2.932754  0.188967  2.795035  2.174772  1.839899  2.443893  1.005819   \n",
       "4       -0.001329  0.000145  0.003227  0.002097 -0.000487  0.001584  0.003108   \n",
       "...           ...       ...       ...       ...       ...       ...       ...   \n",
       "1801     0.019185 -0.011492  0.204760  0.266269 -0.067852  0.376464  0.011849   \n",
       "1802     1.355342  0.096793  0.631924  0.195467  0.179653  0.113632  0.670149   \n",
       "1803     4.224175  0.194341  1.531368  0.402540  1.642853  0.789033  1.328587   \n",
       "1804     0.171503  0.011671  1.102545  1.026265  0.123595  1.230634  0.459069   \n",
       "1805     3.041768  0.152109 -0.123047 -1.154839  2.122429 -0.614056  1.524548   \n",
       "\n",
       "book_id     10        11        13     ...     9978          9984      9985   \\\n",
       "0        0.025751  0.150616 -0.044965  ... -0.003201 -1.070324e-04 -0.001324   \n",
       "1        0.329202  0.527516  0.075959  ... -0.002799  3.087057e-04  0.003079   \n",
       "2        0.214399 -0.071049  0.425108  ...  0.013166  8.623847e-04 -0.001452   \n",
       "3        1.952350  0.918303  2.292574  ...  0.058474  2.721435e-03  0.006624   \n",
       "4        0.001427  0.005841 -0.000869  ... -0.000109 -1.424322e-07  0.000020   \n",
       "...           ...       ...       ...  ...       ...           ...       ...   \n",
       "1801     0.152231  0.483628  0.171430  ... -0.001766 -7.763669e-04 -0.003811   \n",
       "1802     0.483051  0.450869 -0.110600  ... -0.002391 -1.954711e-04  0.005635   \n",
       "1803     0.852514  0.308311  1.186235  ...  0.027044 -1.646656e-03  0.021670   \n",
       "1804     0.660032  1.612251  0.612317  ... -0.005922 -1.002765e-03 -0.003438   \n",
       "1805    -0.608482  0.600743  0.722800  ... -0.031326 -1.992693e-03  0.037158   \n",
       "\n",
       "book_id         9988      9990      9991      9995      9997      9998   \\\n",
       "0       -2.065736e-03  0.001657  0.002214 -0.000204 -0.000097 -0.000143   \n",
       "1        2.428205e-03 -0.000057  0.003479  0.000655 -0.001562 -0.000506   \n",
       "2        6.475052e-03  0.000776  0.007940  0.006646  0.001579  0.001493   \n",
       "3        1.829642e-02  0.002828  0.037315  0.025294  0.002924  0.003716   \n",
       "4        1.154336e-07  0.000016  0.000011 -0.000011 -0.000015 -0.000008   \n",
       "...               ...       ...       ...       ...       ...       ...   \n",
       "1801    -2.449088e-03  0.006005  0.009508 -0.000141  0.000627 -0.000079   \n",
       "1802    -8.037883e-03 -0.002844 -0.000358 -0.003417 -0.003129 -0.001707   \n",
       "1803    -4.481326e-03 -0.006039 -0.010937 -0.002228 -0.001062 -0.001940   \n",
       "1804     2.988541e-04  0.013203  0.023130  0.002852  0.000303 -0.000327   \n",
       "1805    -7.017380e-03 -0.002034 -0.055485 -0.005975 -0.000486 -0.004239   \n",
       "\n",
       "book_id     10000  \n",
       "0       -0.000120  \n",
       "1        0.002024  \n",
       "2       -0.000779  \n",
       "3        0.005235  \n",
       "4        0.000016  \n",
       "...           ...  \n",
       "1801     0.001767  \n",
       "1802     0.002657  \n",
       "1803     0.011236  \n",
       "1804     0.005743  \n",
       "1805     0.009048  \n",
       "\n",
       "[1806 rows x 4707 columns]"
      ]
     },
     "execution_count": 29,
     "metadata": {},
     "output_type": "execute_result"
    }
   ],
   "source": [
    "svd_predictions_score_df"
   ]
  },
  {
   "cell_type": "code",
   "execution_count": 30,
   "metadata": {
    "ExecuteTime": {
     "end_time": "2020-09-09T08:34:28.643138Z",
     "start_time": "2020-09-09T08:34:28.615633Z"
    }
   },
   "outputs": [
    {
     "data": {
      "text/html": [
       "<div>\n",
       "<style scoped>\n",
       "    .dataframe tbody tr th:only-of-type {\n",
       "        vertical-align: middle;\n",
       "    }\n",
       "\n",
       "    .dataframe tbody tr th {\n",
       "        vertical-align: top;\n",
       "    }\n",
       "\n",
       "    .dataframe thead th {\n",
       "        text-align: right;\n",
       "    }\n",
       "</style>\n",
       "<table border=\"1\" class=\"dataframe\">\n",
       "  <thead>\n",
       "    <tr style=\"text-align: right;\">\n",
       "      <th>book_id</th>\n",
       "      <th>2</th>\n",
       "      <th>3</th>\n",
       "      <th>4</th>\n",
       "      <th>5</th>\n",
       "      <th>7</th>\n",
       "      <th>8</th>\n",
       "      <th>9</th>\n",
       "      <th>10</th>\n",
       "      <th>11</th>\n",
       "      <th>13</th>\n",
       "      <th>...</th>\n",
       "      <th>9978</th>\n",
       "      <th>9984</th>\n",
       "      <th>9985</th>\n",
       "      <th>9988</th>\n",
       "      <th>9990</th>\n",
       "      <th>9991</th>\n",
       "      <th>9995</th>\n",
       "      <th>9997</th>\n",
       "      <th>9998</th>\n",
       "      <th>10000</th>\n",
       "    </tr>\n",
       "  </thead>\n",
       "  <tbody>\n",
       "    <tr>\n",
       "      <th>1137</th>\n",
       "      <td>1.127539</td>\n",
       "      <td>0.060511</td>\n",
       "      <td>0.658596</td>\n",
       "      <td>0.321714</td>\n",
       "      <td>0.244138</td>\n",
       "      <td>0.370702</td>\n",
       "      <td>0.474295</td>\n",
       "      <td>0.425815</td>\n",
       "      <td>0.415424</td>\n",
       "      <td>0.198164</td>\n",
       "      <td>...</td>\n",
       "      <td>0.004138</td>\n",
       "      <td>-0.000624</td>\n",
       "      <td>0.00389</td>\n",
       "      <td>-0.003606</td>\n",
       "      <td>-0.00032</td>\n",
       "      <td>0.002953</td>\n",
       "      <td>-0.00205</td>\n",
       "      <td>-0.001391</td>\n",
       "      <td>-0.000986</td>\n",
       "      <td>0.003829</td>\n",
       "    </tr>\n",
       "  </tbody>\n",
       "</table>\n",
       "<p>1 rows × 4707 columns</p>\n",
       "</div>"
      ],
      "text/plain": [
       "book_id     2         3         4         5         7         8         9      \\\n",
       "1137     1.127539  0.060511  0.658596  0.321714  0.244138  0.370702  0.474295   \n",
       "\n",
       "book_id     10        11        13     ...     9978      9984     9985   \\\n",
       "1137     0.425815  0.415424  0.198164  ...  0.004138 -0.000624  0.00389   \n",
       "\n",
       "book_id     9988     9990      9991     9995      9997      9998      10000  \n",
       "1137    -0.003606 -0.00032  0.002953 -0.00205 -0.001391 -0.000986  0.003829  \n",
       "\n",
       "[1 rows x 4707 columns]"
      ]
     },
     "execution_count": 30,
     "metadata": {},
     "output_type": "execute_result"
    }
   ],
   "source": [
    "svd_predictions_score_df[svd_predictions_score_df.index == 1137]"
   ]
  },
  {
   "cell_type": "markdown",
   "metadata": {},
   "source": [
    "## Top-K recommendations"
   ]
  },
  {
   "cell_type": "markdown",
   "metadata": {},
   "source": [
    "The function below returns a list that contains the top-100 recommendations for each user"
   ]
  },
  {
   "cell_type": "code",
   "execution_count": 31,
   "metadata": {
    "ExecuteTime": {
     "end_time": "2020-09-09T08:34:28.656028Z",
     "start_time": "2020-09-09T08:34:28.645634Z"
    }
   },
   "outputs": [],
   "source": [
    "def SVD_topK_first(score_df):\n",
    "    topK_svd_rec = []\n",
    "    c = 0\n",
    "    for i in range(len(svd_predictions_score_df)):\n",
    "        svd_h_df = pd.DataFrame({'book_id': score_df[score_df.index == i].columns,\n",
    "                                 'score': score_df[score_df.index == i].values[0]})\n",
    "        svd_h_df = svd_h_df.sort_values('score', ascending=False)\n",
    "        svd_h_df = svd_h_df.head(100)\n",
    "        topK_svd_rec.append(svd_h_df['book_id'].values)\n",
    "    return topK_svd_rec"
   ]
  },
  {
   "cell_type": "markdown",
   "metadata": {},
   "source": [
    "## NDCG Score"
   ]
  },
  {
   "cell_type": "markdown",
   "metadata": {},
   "source": [
    "The function below returns the relevance list of a list of movies."
   ]
  },
  {
   "cell_type": "code",
   "execution_count": 32,
   "metadata": {
    "ExecuteTime": {
     "end_time": "2020-09-09T08:34:28.672798Z",
     "start_time": "2020-09-09T08:34:28.658055Z"
    }
   },
   "outputs": [],
   "source": [
    "def SVD_relevance_first(score_df):\n",
    "    svd_topK = SVD_topK_first(score_df)\n",
    "    relevance_svd_full = []\n",
    "    helper = []\n",
    "    count = 0\n",
    "    for i in range(1,len(svd_predictions_score_df)+1):\n",
    "        for j in range(len(svd_topK[count])):\n",
    "            if svd_topK[count][j] in test_df['book_id'][test_df['user_id'] == i].values.tolist():\n",
    "                helper.append(1)\n",
    "            else:\n",
    "                helper.append(0)\n",
    "        relevance_svd_full.append(helper)\n",
    "        helper = []\n",
    "        count += 1\n",
    "    return relevance_svd_full"
   ]
  },
  {
   "cell_type": "code",
   "execution_count": 33,
   "metadata": {
    "ExecuteTime": {
     "end_time": "2020-09-09T08:36:04.810413Z",
     "start_time": "2020-09-09T08:34:28.675293Z"
    }
   },
   "outputs": [],
   "source": [
    "relevance_first = SVD_relevance_first(svd_predictions_score_df)"
   ]
  },
  {
   "cell_type": "code",
   "execution_count": 34,
   "metadata": {
    "ExecuteTime": {
     "end_time": "2020-09-09T08:36:04.836342Z",
     "start_time": "2020-09-09T08:36:04.814402Z"
    }
   },
   "outputs": [
    {
     "data": {
      "text/plain": [
       "(1806, 100)"
      ]
     },
     "execution_count": 34,
     "metadata": {},
     "output_type": "execute_result"
    }
   ],
   "source": [
    "np.asarray(relevance_first).shape"
   ]
  },
  {
   "cell_type": "code",
   "execution_count": 35,
   "metadata": {
    "ExecuteTime": {
     "end_time": "2020-09-09T08:36:04.856292Z",
     "start_time": "2020-09-09T08:36:04.841329Z"
    }
   },
   "outputs": [
    {
     "name": "stderr",
     "output_type": "stream",
     "text": [
      "C:\\Users\\papad\\Anaconda3\\lib\\site-packages\\ipykernel_launcher.py:2: RuntimeWarning: invalid value encountered in double_scalars\n",
      "  \n"
     ]
    }
   ],
   "source": [
    "n_f = NDCG_forUser(relevance_first[0])"
   ]
  },
  {
   "cell_type": "code",
   "execution_count": 36,
   "metadata": {
    "ExecuteTime": {
     "end_time": "2020-09-09T08:36:04.872246Z",
     "start_time": "2020-09-09T08:36:04.862274Z"
    }
   },
   "outputs": [
    {
     "data": {
      "text/plain": [
       "nan"
      ]
     },
     "execution_count": 36,
     "metadata": {},
     "output_type": "execute_result"
    }
   ],
   "source": [
    "n_f"
   ]
  },
  {
   "cell_type": "markdown",
   "metadata": {},
   "source": [
    "Below is the NDCG scores of each user"
   ]
  },
  {
   "cell_type": "code",
   "execution_count": 37,
   "metadata": {
    "ExecuteTime": {
     "end_time": "2020-09-09T08:36:07.563126Z",
     "start_time": "2020-09-09T08:36:04.875239Z"
    }
   },
   "outputs": [
    {
     "name": "stderr",
     "output_type": "stream",
     "text": [
      "C:\\Users\\papad\\Anaconda3\\lib\\site-packages\\ipykernel_launcher.py:2: RuntimeWarning: invalid value encountered in double_scalars\n",
      "  \n"
     ]
    }
   ],
   "source": [
    "def allUsers_ndcg_svd(relevance):\n",
    "    allUsers_implicit_ndcg = []\n",
    "    for i in range(len(svd_predictions_score_df)):\n",
    "        allUsers_implicit_ndcg.append(NDCG_forUser(relevance[i]))\n",
    "    return allUsers_implicit_ndcg\n",
    "all_ndcg_f = allUsers_ndcg_svd(relevance_first)"
   ]
  },
  {
   "cell_type": "code",
   "execution_count": 38,
   "metadata": {
    "ExecuteTime": {
     "end_time": "2020-09-09T08:36:07.571110Z",
     "start_time": "2020-09-09T08:36:07.566121Z"
    }
   },
   "outputs": [],
   "source": [
    "all_ndcg_f = pd.Series(all_ndcg_f).fillna(0).tolist()"
   ]
  },
  {
   "cell_type": "code",
   "execution_count": 39,
   "metadata": {
    "ExecuteTime": {
     "end_time": "2020-09-09T08:36:07.583078Z",
     "start_time": "2020-09-09T08:36:07.573104Z"
    }
   },
   "outputs": [
    {
     "data": {
      "text/plain": [
       "0.1589109515971587"
      ]
     },
     "execution_count": 39,
     "metadata": {},
     "output_type": "execute_result"
    }
   ],
   "source": [
    "np.asarray(all_ndcg_f).mean()"
   ]
  },
  {
   "cell_type": "markdown",
   "metadata": {},
   "source": [
    "## MRR Score"
   ]
  },
  {
   "cell_type": "code",
   "execution_count": 177,
   "metadata": {
    "ExecuteTime": {
     "end_time": "2020-09-09T07:31:06.286040Z",
     "start_time": "2020-09-09T07:31:06.276030Z"
    }
   },
   "outputs": [
    {
     "data": {
      "text/plain": [
       "0.19862363234942249"
      ]
     },
     "execution_count": 177,
     "metadata": {},
     "output_type": "execute_result"
    }
   ],
   "source": [
    "svd_rr = RR_forUsers(relevance_first)\n",
    "svd_mrr = calculate_mrr(svd_rr)\n",
    "svd_mrr"
   ]
  },
  {
   "cell_type": "markdown",
   "metadata": {},
   "source": [
    "## MAP Score"
   ]
  },
  {
   "cell_type": "code",
   "execution_count": 178,
   "metadata": {
    "ExecuteTime": {
     "end_time": "2020-09-09T07:31:06.322903Z",
     "start_time": "2020-09-09T07:31:06.287993Z"
    }
   },
   "outputs": [
    {
     "name": "stderr",
     "output_type": "stream",
     "text": [
      "C:\\Users\\papad\\Anaconda3\\lib\\site-packages\\ipykernel_launcher.py:17: RuntimeWarning: invalid value encountered in double_scalars\n"
     ]
    },
    {
     "data": {
      "text/plain": [
       "0.05732798438754227"
      ]
     },
     "execution_count": 178,
     "metadata": {},
     "output_type": "execute_result"
    }
   ],
   "source": [
    "svd_ap = calculate_averagePrecision(relevance_first)\n",
    "svd_ap = pd.Series(svd_ap).fillna(0).tolist()\n",
    "svd_map = calculate_MAP(svd_ap)\n",
    "svd_map"
   ]
  },
  {
   "cell_type": "markdown",
   "metadata": {},
   "source": [
    "# Feature engineering"
   ]
  },
  {
   "cell_type": "markdown",
   "metadata": {},
   "source": [
    "##  Feature 1 (Implicit factorization model scores)"
   ]
  },
  {
   "cell_type": "markdown",
   "metadata": {},
   "source": [
    "Train an implicit factorization model using the train_features dataset"
   ]
  },
  {
   "cell_type": "code",
   "execution_count": 86,
   "metadata": {
    "ExecuteTime": {
     "end_time": "2020-09-09T08:36:35.097884Z",
     "start_time": "2020-09-09T08:36:07.586069Z"
    }
   },
   "outputs": [
    {
     "name": "stdout",
     "output_type": "stream",
     "text": [
      "Epoch 0: loss 0.8429608724865258\n",
      "Epoch 1: loss 0.49004099269707996\n",
      "Epoch 2: loss 0.4160367192006579\n",
      "Epoch 3: loss 0.3672144053613438\n",
      "Epoch 4: loss 0.3146825079240051\n",
      "Training took 34 second\n"
     ]
    }
   ],
   "source": [
    "f1_model = ImplicitFactorizationModel(n_iter = 5)\n",
    "\n",
    "current = time.time()\n",
    "\n",
    "f1_model.fit(implicit_train_features,verbose = True)\n",
    "\n",
    "end = time.time()\n",
    "diff = end - current\n",
    "print('Training took %d second'%(diff))"
   ]
  },
  {
   "cell_type": "markdown",
   "metadata": {},
   "source": [
    "### Target Movies"
   ]
  },
  {
   "cell_type": "code",
   "execution_count": 87,
   "metadata": {
    "ExecuteTime": {
     "end_time": "2020-09-09T08:36:35.116888Z",
     "start_time": "2020-09-09T08:36:35.101873Z"
    }
   },
   "outputs": [],
   "source": [
    "def getImplicitTop():\n",
    "    moviePerUser = []\n",
    "    rev = []\n",
    "    for user in range(len(num_users)):\n",
    "        pred = f1_model.predict(user)\n",
    "        #sort by score in descending order oscer\n",
    "        predMovieId = np.argsort(-pred)\n",
    "        #keep top 100\n",
    "        predMovieId = predMovieId[:100]\n",
    "        #reverse the mapping to get the original movieIDs\n",
    "        for movie in predMovieId:\n",
    "            rev.append(iid_rev_map[movie])\n",
    "        moviePerUser.append(rev)\n",
    "        rev = []\n",
    "    return moviePerUser"
   ]
  },
  {
   "cell_type": "code",
   "execution_count": 88,
   "metadata": {
    "ExecuteTime": {
     "end_time": "2020-09-09T08:36:38.662248Z",
     "start_time": "2020-09-09T08:36:35.121875Z"
    }
   },
   "outputs": [],
   "source": [
    "target_positive = getImplicitTop()"
   ]
  },
  {
   "cell_type": "markdown",
   "metadata": {},
   "source": [
    "Add negative samples to the target movies"
   ]
  },
  {
   "cell_type": "code",
   "execution_count": 89,
   "metadata": {
    "ExecuteTime": {
     "end_time": "2020-09-09T08:36:38.679203Z",
     "start_time": "2020-09-09T08:36:38.665243Z"
    }
   },
   "outputs": [
    {
     "data": {
      "text/plain": [
       "1806"
      ]
     },
     "execution_count": 89,
     "metadata": {},
     "output_type": "execute_result"
    }
   ],
   "source": [
    "len(train_df['user_id'].unique())"
   ]
  },
  {
   "cell_type": "code",
   "execution_count": 90,
   "metadata": {
    "ExecuteTime": {
     "end_time": "2020-09-09T08:36:38.786074Z",
     "start_time": "2020-09-09T08:36:38.682199Z"
    }
   },
   "outputs": [],
   "source": [
    "import random\n",
    "target_negative = []\n",
    "for i in range(1,len(num_users)+1):\n",
    "    #get 50 random movieIDs for each user\n",
    "    target_negative.append(random.choices(train_features_df['book_id'].values, k = 50))"
   ]
  },
  {
   "cell_type": "code",
   "execution_count": 91,
   "metadata": {
    "ExecuteTime": {
     "end_time": "2020-09-09T08:36:38.806934Z",
     "start_time": "2020-09-09T08:36:38.790980Z"
    }
   },
   "outputs": [],
   "source": [
    "target_movies = []\n",
    "for i in range(len(num_users)):\n",
    "    target_movies.append(target_positive[i] + target_negative[i])"
   ]
  },
  {
   "cell_type": "markdown",
   "metadata": {},
   "source": [
    "Map the target movies to pick the correct predictions based on the item id"
   ]
  },
  {
   "cell_type": "code",
   "execution_count": 92,
   "metadata": {
    "ExecuteTime": {
     "end_time": "2020-09-09T08:36:38.820900Z",
     "start_time": "2020-09-09T08:36:38.809927Z"
    }
   },
   "outputs": [],
   "source": [
    "def map_movies(target_movies):\n",
    "    map_target_movies = []\n",
    "    map_help = []\n",
    "    for movies in target_movies:\n",
    "        for movie in movies:\n",
    "            map_help.append(iid_map[movie])\n",
    "        map_target_movies.append(map_help)\n",
    "        map_help = []\n",
    "    return map_target_movies"
   ]
  },
  {
   "cell_type": "markdown",
   "metadata": {},
   "source": [
    "Implicit Factorization model Scores"
   ]
  },
  {
   "cell_type": "markdown",
   "metadata": {},
   "source": [
    "Train implicit on implicit_features_train! and take these scores."
   ]
  },
  {
   "cell_type": "code",
   "execution_count": 93,
   "metadata": {
    "ExecuteTime": {
     "end_time": "2020-09-09T08:36:38.839846Z",
     "start_time": "2020-09-09T08:36:38.824887Z"
    }
   },
   "outputs": [],
   "source": [
    "def give_movies_implicit_scores(map_movies):\n",
    "    implicit_scores = 0\n",
    "    feature = []\n",
    "    for i in range(len(num_users)):\n",
    "        #for movies in map_target_movies:\n",
    "        my_list = map_movies[i]\n",
    "        my_array = np.array(my_list)\n",
    "        implicit_scores = f1_model.predict(user_ids = i,item_ids = my_array)\n",
    "        feature.append(implicit_scores)\n",
    "    return feature"
   ]
  },
  {
   "cell_type": "code",
   "execution_count": 94,
   "metadata": {
    "ExecuteTime": {
     "end_time": "2020-09-09T08:36:39.496126Z",
     "start_time": "2020-09-09T08:36:38.842839Z"
    }
   },
   "outputs": [
    {
     "data": {
      "text/plain": [
       "(1823, 150)"
      ]
     },
     "execution_count": 94,
     "metadata": {},
     "output_type": "execute_result"
    }
   ],
   "source": [
    "map_target_movies = map_movies(target_movies)\n",
    "feature1 = give_movies_implicit_scores(map_target_movies)\n",
    "feature1 = np.asarray(feature1)\n",
    "feature1.shape"
   ]
  },
  {
   "cell_type": "code",
   "execution_count": 95,
   "metadata": {
    "ExecuteTime": {
     "end_time": "2020-09-09T08:36:39.508093Z",
     "start_time": "2020-09-09T08:36:39.497088Z"
    }
   },
   "outputs": [
    {
     "data": {
      "text/plain": [
       "array([ 9.857508  ,  9.799822  ,  9.59178   ,  9.556304  ,  9.46209   ,\n",
       "        9.4078865 ,  9.237171  ,  9.162461  ,  9.047543  ,  9.023994  ,\n",
       "        9.001459  ,  8.935864  ,  8.856335  ,  8.83253   ,  8.7928295 ,\n",
       "        8.778137  ,  8.713159  ,  8.6963625 ,  8.587671  ,  8.571149  ,\n",
       "        8.462747  ,  8.427811  ,  8.385925  ,  8.379377  ,  8.336738  ,\n",
       "        8.308235  ,  8.296275  ,  8.208003  ,  8.207144  ,  8.14279   ,\n",
       "        8.128415  ,  8.105442  ,  8.093662  ,  8.087017  ,  8.0794325 ,\n",
       "        8.023066  ,  8.0004    ,  7.970021  ,  7.9694967 ,  7.9616423 ,\n",
       "        7.956483  ,  7.928035  ,  7.8478627 ,  7.7394414 ,  7.7269263 ,\n",
       "        7.7170205 ,  7.716877  ,  7.689235  ,  7.658609  ,  7.6470456 ,\n",
       "        7.6157084 ,  7.599123  ,  7.573821  ,  7.5501223 ,  7.526513  ,\n",
       "        7.525595  ,  7.4837594 ,  7.478139  ,  7.4649124 ,  7.4638996 ,\n",
       "        7.445488  ,  7.4254737 ,  7.4075413 ,  7.389901  ,  7.349497  ,\n",
       "        7.3465877 ,  7.338819  ,  7.334536  ,  7.3308215 ,  7.316497  ,\n",
       "        7.316137  ,  7.3074217 ,  7.298859  ,  7.280596  ,  7.247131  ,\n",
       "        7.235141  ,  7.225226  ,  7.209056  ,  7.20827   ,  7.2047086 ,\n",
       "        7.204358  ,  7.2023835 ,  7.2004194 ,  7.195069  ,  7.1906004 ,\n",
       "        7.1851726 ,  7.177263  ,  7.1767836 ,  7.1727886 ,  7.1484547 ,\n",
       "        7.1322904 ,  7.116635  ,  7.107088  ,  7.0999374 ,  7.0842333 ,\n",
       "        7.083728  ,  7.082546  ,  7.0816307 ,  7.079248  ,  7.078181  ,\n",
       "        5.0898657 , -6.016737  ,  8.385925  ,  8.296275  ,  1.2076347 ,\n",
       "        8.308235  ,  6.3785954 , -3.98618   ,  9.237171  , -1.7511768 ,\n",
       "        2.851256  ,  2.1252358 ,  4.7335315 ,  7.6470456 , -1.4051422 ,\n",
       "        6.1191845 ,  6.477074  ,  7.338819  ,  1.4287236 , -2.9376652 ,\n",
       "        7.0589776 ,  6.788999  ,  5.8063602 ,  9.799822  , -0.2075864 ,\n",
       "        4.2293024 ,  6.032073  ,  7.00436   ,  0.1935697 , -4.2803426 ,\n",
       "       -0.11734053,  0.85875946,  7.3465877 , -1.084799  ,  5.0539594 ,\n",
       "       -3.4116952 ,  4.3363185 ,  9.59178   ,  6.563346  ,  2.6350398 ,\n",
       "        6.4239764 ,  5.8439083 ,  5.8646164 ,  0.79954654,  8.856335  ,\n",
       "        7.928035  ,  8.14279   , -5.407898  ,  7.928035  ,  3.6475677 ],\n",
       "      dtype=float32)"
      ]
     },
     "execution_count": 95,
     "metadata": {},
     "output_type": "execute_result"
    }
   ],
   "source": [
    "feature1[0]"
   ]
  },
  {
   "cell_type": "markdown",
   "metadata": {},
   "source": [
    "## Feature 2 (Rank)"
   ]
  },
  {
   "cell_type": "code",
   "execution_count": 96,
   "metadata": {
    "ExecuteTime": {
     "end_time": "2020-09-09T08:38:56.884182Z",
     "start_time": "2020-09-09T08:36:39.510058Z"
    }
   },
   "outputs": [],
   "source": [
    "feature2 = []\n",
    "for i in range(len(num_users)):\n",
    "    feature2 = (st.rankdata(-f1_model.predict(i)))\n",
    "    feature2 = feature2[map_target_movies]\n",
    "    feature2.sort()"
   ]
  },
  {
   "cell_type": "code",
   "execution_count": 97,
   "metadata": {
    "ExecuteTime": {
     "end_time": "2020-09-09T08:38:56.901137Z",
     "start_time": "2020-09-09T08:38:56.887174Z"
    }
   },
   "outputs": [
    {
     "data": {
      "text/plain": [
       "(1823, 150)"
      ]
     },
     "execution_count": 97,
     "metadata": {},
     "output_type": "execute_result"
    }
   ],
   "source": [
    "np.array(feature2).shape"
   ]
  },
  {
   "cell_type": "code",
   "execution_count": 98,
   "metadata": {
    "ExecuteTime": {
     "end_time": "2020-09-09T08:38:56.918091Z",
     "start_time": "2020-09-09T08:38:56.905126Z"
    }
   },
   "outputs": [
    {
     "data": {
      "text/plain": [
       "array([1.000e+00, 1.000e+00, 2.000e+00, 3.000e+00, 4.000e+00, 5.000e+00,\n",
       "       6.000e+00, 7.000e+00, 9.000e+00, 9.000e+00, 1.100e+01, 1.100e+01,\n",
       "       1.100e+01, 1.200e+01, 1.300e+01, 1.500e+01, 1.600e+01, 1.700e+01,\n",
       "       1.800e+01, 2.000e+01, 2.000e+01, 2.100e+01, 2.300e+01, 2.300e+01,\n",
       "       2.400e+01, 2.500e+01, 2.700e+01, 2.900e+01, 3.000e+01, 3.000e+01,\n",
       "       3.100e+01, 3.300e+01, 3.400e+01, 3.700e+01, 3.700e+01, 3.800e+01,\n",
       "       3.900e+01, 4.000e+01, 4.100e+01, 4.100e+01, 4.600e+01, 4.800e+01,\n",
       "       5.400e+01, 5.800e+01, 5.900e+01, 6.000e+01, 6.100e+01, 6.300e+01,\n",
       "       6.700e+01, 6.800e+01, 7.100e+01, 7.200e+01, 7.600e+01, 7.700e+01,\n",
       "       7.900e+01, 8.900e+01, 9.100e+01, 9.400e+01, 9.500e+01, 9.700e+01,\n",
       "       9.800e+01, 1.020e+02, 1.020e+02, 1.070e+02, 1.130e+02, 1.140e+02,\n",
       "       1.180e+02, 1.200e+02, 1.210e+02, 1.230e+02, 1.240e+02, 1.270e+02,\n",
       "       1.280e+02, 1.350e+02, 1.430e+02, 1.450e+02, 1.460e+02, 1.500e+02,\n",
       "       1.510e+02, 1.540e+02, 1.560e+02, 1.560e+02, 1.670e+02, 1.730e+02,\n",
       "       1.740e+02, 1.750e+02, 1.780e+02, 1.870e+02, 1.910e+02, 1.950e+02,\n",
       "       1.980e+02, 2.100e+02, 2.120e+02, 2.150e+02, 2.160e+02, 2.270e+02,\n",
       "       2.370e+02, 2.400e+02, 2.560e+02, 2.570e+02, 2.590e+02, 2.660e+02,\n",
       "       2.690e+02, 2.720e+02, 2.750e+02, 2.800e+02, 2.810e+02, 2.880e+02,\n",
       "       2.880e+02, 2.980e+02, 3.020e+02, 3.020e+02, 3.110e+02, 3.150e+02,\n",
       "       3.160e+02, 3.360e+02, 3.610e+02, 3.640e+02, 3.980e+02, 4.000e+02,\n",
       "       4.100e+02, 4.160e+02, 4.620e+02, 4.640e+02, 5.050e+02, 5.180e+02,\n",
       "       5.450e+02, 6.000e+02, 6.020e+02, 6.250e+02, 6.290e+02, 6.520e+02,\n",
       "       7.520e+02, 7.670e+02, 8.420e+02, 8.890e+02, 1.008e+03, 1.445e+03,\n",
       "       1.626e+03, 1.693e+03, 1.695e+03, 1.769e+03, 1.788e+03, 2.019e+03,\n",
       "       2.186e+03, 3.439e+03, 4.029e+03, 4.065e+03, 4.536e+03, 4.769e+03])"
      ]
     },
     "execution_count": 98,
     "metadata": {},
     "output_type": "execute_result"
    }
   ],
   "source": [
    "feature2[0]"
   ]
  },
  {
   "cell_type": "markdown",
   "metadata": {},
   "source": [
    "## Feature 3 (SVD scores)"
   ]
  },
  {
   "cell_type": "markdown",
   "metadata": {},
   "source": [
    "SVD model Scores. Take advantage of the DataFrame containing the scores to extract the predicted scores for the desired movies."
   ]
  },
  {
   "cell_type": "code",
   "execution_count": 99,
   "metadata": {
    "ExecuteTime": {
     "end_time": "2020-09-09T08:38:57.260739Z",
     "start_time": "2020-09-09T08:38:56.922081Z"
    }
   },
   "outputs": [],
   "source": [
    "df_movie_features1 = train_features_df.pivot(\n",
    "    index='user_id',\n",
    "    columns='book_id',\n",
    "    values='rating'\n",
    ").fillna(0)"
   ]
  },
  {
   "cell_type": "code",
   "execution_count": 100,
   "metadata": {},
   "outputs": [
    {
     "data": {
      "text/html": [
       "<div>\n",
       "<style scoped>\n",
       "    .dataframe tbody tr th:only-of-type {\n",
       "        vertical-align: middle;\n",
       "    }\n",
       "\n",
       "    .dataframe tbody tr th {\n",
       "        vertical-align: top;\n",
       "    }\n",
       "\n",
       "    .dataframe thead th {\n",
       "        text-align: right;\n",
       "    }\n",
       "</style>\n",
       "<table border=\"1\" class=\"dataframe\">\n",
       "  <thead>\n",
       "    <tr style=\"text-align: right;\">\n",
       "      <th>book_id</th>\n",
       "      <th>2</th>\n",
       "      <th>3</th>\n",
       "      <th>4</th>\n",
       "      <th>5</th>\n",
       "      <th>7</th>\n",
       "      <th>8</th>\n",
       "      <th>9</th>\n",
       "      <th>10</th>\n",
       "      <th>11</th>\n",
       "      <th>13</th>\n",
       "      <th>...</th>\n",
       "      <th>9974</th>\n",
       "      <th>9977</th>\n",
       "      <th>9978</th>\n",
       "      <th>9985</th>\n",
       "      <th>9988</th>\n",
       "      <th>9990</th>\n",
       "      <th>9991</th>\n",
       "      <th>9995</th>\n",
       "      <th>9997</th>\n",
       "      <th>9998</th>\n",
       "    </tr>\n",
       "    <tr>\n",
       "      <th>user_id</th>\n",
       "      <th></th>\n",
       "      <th></th>\n",
       "      <th></th>\n",
       "      <th></th>\n",
       "      <th></th>\n",
       "      <th></th>\n",
       "      <th></th>\n",
       "      <th></th>\n",
       "      <th></th>\n",
       "      <th></th>\n",
       "      <th></th>\n",
       "      <th></th>\n",
       "      <th></th>\n",
       "      <th></th>\n",
       "      <th></th>\n",
       "      <th></th>\n",
       "      <th></th>\n",
       "      <th></th>\n",
       "      <th></th>\n",
       "      <th></th>\n",
       "      <th></th>\n",
       "    </tr>\n",
       "  </thead>\n",
       "  <tbody>\n",
       "    <tr>\n",
       "      <th>1</th>\n",
       "      <td>0.0</td>\n",
       "      <td>0.0</td>\n",
       "      <td>0.0</td>\n",
       "      <td>0.0</td>\n",
       "      <td>0.0</td>\n",
       "      <td>0.0</td>\n",
       "      <td>0.0</td>\n",
       "      <td>0.0</td>\n",
       "      <td>0.0</td>\n",
       "      <td>0.0</td>\n",
       "      <td>...</td>\n",
       "      <td>0.0</td>\n",
       "      <td>0.0</td>\n",
       "      <td>0.0</td>\n",
       "      <td>0.0</td>\n",
       "      <td>0.0</td>\n",
       "      <td>0.0</td>\n",
       "      <td>0.0</td>\n",
       "      <td>0.0</td>\n",
       "      <td>0.0</td>\n",
       "      <td>0.0</td>\n",
       "    </tr>\n",
       "    <tr>\n",
       "      <th>2</th>\n",
       "      <td>0.0</td>\n",
       "      <td>0.0</td>\n",
       "      <td>0.0</td>\n",
       "      <td>0.0</td>\n",
       "      <td>0.0</td>\n",
       "      <td>0.0</td>\n",
       "      <td>0.0</td>\n",
       "      <td>0.0</td>\n",
       "      <td>0.0</td>\n",
       "      <td>0.0</td>\n",
       "      <td>...</td>\n",
       "      <td>0.0</td>\n",
       "      <td>0.0</td>\n",
       "      <td>0.0</td>\n",
       "      <td>0.0</td>\n",
       "      <td>0.0</td>\n",
       "      <td>0.0</td>\n",
       "      <td>0.0</td>\n",
       "      <td>0.0</td>\n",
       "      <td>0.0</td>\n",
       "      <td>0.0</td>\n",
       "    </tr>\n",
       "    <tr>\n",
       "      <th>3</th>\n",
       "      <td>0.0</td>\n",
       "      <td>0.0</td>\n",
       "      <td>0.0</td>\n",
       "      <td>0.0</td>\n",
       "      <td>0.0</td>\n",
       "      <td>0.0</td>\n",
       "      <td>0.0</td>\n",
       "      <td>0.0</td>\n",
       "      <td>0.0</td>\n",
       "      <td>2.0</td>\n",
       "      <td>...</td>\n",
       "      <td>0.0</td>\n",
       "      <td>0.0</td>\n",
       "      <td>0.0</td>\n",
       "      <td>0.0</td>\n",
       "      <td>0.0</td>\n",
       "      <td>0.0</td>\n",
       "      <td>0.0</td>\n",
       "      <td>0.0</td>\n",
       "      <td>0.0</td>\n",
       "      <td>0.0</td>\n",
       "    </tr>\n",
       "    <tr>\n",
       "      <th>4</th>\n",
       "      <td>5.0</td>\n",
       "      <td>0.0</td>\n",
       "      <td>4.0</td>\n",
       "      <td>4.0</td>\n",
       "      <td>0.0</td>\n",
       "      <td>4.0</td>\n",
       "      <td>0.0</td>\n",
       "      <td>5.0</td>\n",
       "      <td>0.0</td>\n",
       "      <td>0.0</td>\n",
       "      <td>...</td>\n",
       "      <td>0.0</td>\n",
       "      <td>0.0</td>\n",
       "      <td>0.0</td>\n",
       "      <td>0.0</td>\n",
       "      <td>0.0</td>\n",
       "      <td>0.0</td>\n",
       "      <td>0.0</td>\n",
       "      <td>0.0</td>\n",
       "      <td>0.0</td>\n",
       "      <td>0.0</td>\n",
       "    </tr>\n",
       "    <tr>\n",
       "      <th>6</th>\n",
       "      <td>0.0</td>\n",
       "      <td>0.0</td>\n",
       "      <td>0.0</td>\n",
       "      <td>0.0</td>\n",
       "      <td>0.0</td>\n",
       "      <td>0.0</td>\n",
       "      <td>0.0</td>\n",
       "      <td>0.0</td>\n",
       "      <td>0.0</td>\n",
       "      <td>0.0</td>\n",
       "      <td>...</td>\n",
       "      <td>0.0</td>\n",
       "      <td>0.0</td>\n",
       "      <td>0.0</td>\n",
       "      <td>0.0</td>\n",
       "      <td>0.0</td>\n",
       "      <td>0.0</td>\n",
       "      <td>0.0</td>\n",
       "      <td>0.0</td>\n",
       "      <td>0.0</td>\n",
       "      <td>0.0</td>\n",
       "    </tr>\n",
       "    <tr>\n",
       "      <th>...</th>\n",
       "      <td>...</td>\n",
       "      <td>...</td>\n",
       "      <td>...</td>\n",
       "      <td>...</td>\n",
       "      <td>...</td>\n",
       "      <td>...</td>\n",
       "      <td>...</td>\n",
       "      <td>...</td>\n",
       "      <td>...</td>\n",
       "      <td>...</td>\n",
       "      <td>...</td>\n",
       "      <td>...</td>\n",
       "      <td>...</td>\n",
       "      <td>...</td>\n",
       "      <td>...</td>\n",
       "      <td>...</td>\n",
       "      <td>...</td>\n",
       "      <td>...</td>\n",
       "      <td>...</td>\n",
       "      <td>...</td>\n",
       "      <td>...</td>\n",
       "    </tr>\n",
       "    <tr>\n",
       "      <th>2992</th>\n",
       "      <td>0.0</td>\n",
       "      <td>0.0</td>\n",
       "      <td>0.0</td>\n",
       "      <td>0.0</td>\n",
       "      <td>0.0</td>\n",
       "      <td>0.0</td>\n",
       "      <td>0.0</td>\n",
       "      <td>0.0</td>\n",
       "      <td>0.0</td>\n",
       "      <td>0.0</td>\n",
       "      <td>...</td>\n",
       "      <td>0.0</td>\n",
       "      <td>0.0</td>\n",
       "      <td>0.0</td>\n",
       "      <td>0.0</td>\n",
       "      <td>0.0</td>\n",
       "      <td>0.0</td>\n",
       "      <td>0.0</td>\n",
       "      <td>0.0</td>\n",
       "      <td>0.0</td>\n",
       "      <td>0.0</td>\n",
       "    </tr>\n",
       "    <tr>\n",
       "      <th>2995</th>\n",
       "      <td>0.0</td>\n",
       "      <td>5.0</td>\n",
       "      <td>0.0</td>\n",
       "      <td>0.0</td>\n",
       "      <td>0.0</td>\n",
       "      <td>0.0</td>\n",
       "      <td>3.0</td>\n",
       "      <td>0.0</td>\n",
       "      <td>0.0</td>\n",
       "      <td>0.0</td>\n",
       "      <td>...</td>\n",
       "      <td>0.0</td>\n",
       "      <td>0.0</td>\n",
       "      <td>0.0</td>\n",
       "      <td>0.0</td>\n",
       "      <td>0.0</td>\n",
       "      <td>0.0</td>\n",
       "      <td>0.0</td>\n",
       "      <td>0.0</td>\n",
       "      <td>0.0</td>\n",
       "      <td>0.0</td>\n",
       "    </tr>\n",
       "    <tr>\n",
       "      <th>2996</th>\n",
       "      <td>5.0</td>\n",
       "      <td>0.0</td>\n",
       "      <td>0.0</td>\n",
       "      <td>0.0</td>\n",
       "      <td>5.0</td>\n",
       "      <td>0.0</td>\n",
       "      <td>0.0</td>\n",
       "      <td>3.0</td>\n",
       "      <td>0.0</td>\n",
       "      <td>3.0</td>\n",
       "      <td>...</td>\n",
       "      <td>0.0</td>\n",
       "      <td>0.0</td>\n",
       "      <td>0.0</td>\n",
       "      <td>0.0</td>\n",
       "      <td>0.0</td>\n",
       "      <td>0.0</td>\n",
       "      <td>0.0</td>\n",
       "      <td>0.0</td>\n",
       "      <td>0.0</td>\n",
       "      <td>0.0</td>\n",
       "    </tr>\n",
       "    <tr>\n",
       "      <th>2998</th>\n",
       "      <td>0.0</td>\n",
       "      <td>0.0</td>\n",
       "      <td>0.0</td>\n",
       "      <td>0.0</td>\n",
       "      <td>0.0</td>\n",
       "      <td>0.0</td>\n",
       "      <td>0.0</td>\n",
       "      <td>0.0</td>\n",
       "      <td>0.0</td>\n",
       "      <td>0.0</td>\n",
       "      <td>...</td>\n",
       "      <td>0.0</td>\n",
       "      <td>0.0</td>\n",
       "      <td>0.0</td>\n",
       "      <td>0.0</td>\n",
       "      <td>0.0</td>\n",
       "      <td>0.0</td>\n",
       "      <td>0.0</td>\n",
       "      <td>0.0</td>\n",
       "      <td>0.0</td>\n",
       "      <td>0.0</td>\n",
       "    </tr>\n",
       "    <tr>\n",
       "      <th>3004</th>\n",
       "      <td>5.0</td>\n",
       "      <td>0.0</td>\n",
       "      <td>0.0</td>\n",
       "      <td>0.0</td>\n",
       "      <td>0.0</td>\n",
       "      <td>0.0</td>\n",
       "      <td>0.0</td>\n",
       "      <td>0.0</td>\n",
       "      <td>0.0</td>\n",
       "      <td>0.0</td>\n",
       "      <td>...</td>\n",
       "      <td>0.0</td>\n",
       "      <td>0.0</td>\n",
       "      <td>0.0</td>\n",
       "      <td>0.0</td>\n",
       "      <td>0.0</td>\n",
       "      <td>0.0</td>\n",
       "      <td>0.0</td>\n",
       "      <td>0.0</td>\n",
       "      <td>0.0</td>\n",
       "      <td>0.0</td>\n",
       "    </tr>\n",
       "  </tbody>\n",
       "</table>\n",
       "<p>1794 rows × 4518 columns</p>\n",
       "</div>"
      ],
      "text/plain": [
       "book_id  2     3     4     5     7     8     9     10    11    13    ...  \\\n",
       "user_id                                                              ...   \n",
       "1         0.0   0.0   0.0   0.0   0.0   0.0   0.0   0.0   0.0   0.0  ...   \n",
       "2         0.0   0.0   0.0   0.0   0.0   0.0   0.0   0.0   0.0   0.0  ...   \n",
       "3         0.0   0.0   0.0   0.0   0.0   0.0   0.0   0.0   0.0   2.0  ...   \n",
       "4         5.0   0.0   4.0   4.0   0.0   4.0   0.0   5.0   0.0   0.0  ...   \n",
       "6         0.0   0.0   0.0   0.0   0.0   0.0   0.0   0.0   0.0   0.0  ...   \n",
       "...       ...   ...   ...   ...   ...   ...   ...   ...   ...   ...  ...   \n",
       "2992      0.0   0.0   0.0   0.0   0.0   0.0   0.0   0.0   0.0   0.0  ...   \n",
       "2995      0.0   5.0   0.0   0.0   0.0   0.0   3.0   0.0   0.0   0.0  ...   \n",
       "2996      5.0   0.0   0.0   0.0   5.0   0.0   0.0   3.0   0.0   3.0  ...   \n",
       "2998      0.0   0.0   0.0   0.0   0.0   0.0   0.0   0.0   0.0   0.0  ...   \n",
       "3004      5.0   0.0   0.0   0.0   0.0   0.0   0.0   0.0   0.0   0.0  ...   \n",
       "\n",
       "book_id  9974  9977  9978  9985  9988  9990  9991  9995  9997  9998  \n",
       "user_id                                                              \n",
       "1         0.0   0.0   0.0   0.0   0.0   0.0   0.0   0.0   0.0   0.0  \n",
       "2         0.0   0.0   0.0   0.0   0.0   0.0   0.0   0.0   0.0   0.0  \n",
       "3         0.0   0.0   0.0   0.0   0.0   0.0   0.0   0.0   0.0   0.0  \n",
       "4         0.0   0.0   0.0   0.0   0.0   0.0   0.0   0.0   0.0   0.0  \n",
       "6         0.0   0.0   0.0   0.0   0.0   0.0   0.0   0.0   0.0   0.0  \n",
       "...       ...   ...   ...   ...   ...   ...   ...   ...   ...   ...  \n",
       "2992      0.0   0.0   0.0   0.0   0.0   0.0   0.0   0.0   0.0   0.0  \n",
       "2995      0.0   0.0   0.0   0.0   0.0   0.0   0.0   0.0   0.0   0.0  \n",
       "2996      0.0   0.0   0.0   0.0   0.0   0.0   0.0   0.0   0.0   0.0  \n",
       "2998      0.0   0.0   0.0   0.0   0.0   0.0   0.0   0.0   0.0   0.0  \n",
       "3004      0.0   0.0   0.0   0.0   0.0   0.0   0.0   0.0   0.0   0.0  \n",
       "\n",
       "[1794 rows x 4518 columns]"
      ]
     },
     "execution_count": 100,
     "metadata": {},
     "output_type": "execute_result"
    }
   ],
   "source": [
    "df_movie_features1"
   ]
  },
  {
   "cell_type": "code",
   "execution_count": 101,
   "metadata": {
    "ExecuteTime": {
     "end_time": "2020-09-09T08:38:57.953396Z",
     "start_time": "2020-09-09T08:38:57.261697Z"
    }
   },
   "outputs": [],
   "source": [
    "U1, sigma1, Vt1 = svds(df_movie_features1)\n",
    "sigma1 = np.diag(sigma1)\n",
    "svd_predictions_score1 = np.dot(np.dot(U1, sigma1), Vt1)\n",
    "svd_predictions_score_df1 = pd.DataFrame(svd_predictions_score1, columns = df_movie_features1.columns)"
   ]
  },
  {
   "cell_type": "code",
   "execution_count": 102,
   "metadata": {
    "ExecuteTime": {
     "end_time": "2020-09-09T08:38:58.014203Z",
     "start_time": "2020-09-09T08:38:57.964334Z"
    }
   },
   "outputs": [
    {
     "data": {
      "text/html": [
       "<div>\n",
       "<style scoped>\n",
       "    .dataframe tbody tr th:only-of-type {\n",
       "        vertical-align: middle;\n",
       "    }\n",
       "\n",
       "    .dataframe tbody tr th {\n",
       "        vertical-align: top;\n",
       "    }\n",
       "\n",
       "    .dataframe thead th {\n",
       "        text-align: right;\n",
       "    }\n",
       "</style>\n",
       "<table border=\"1\" class=\"dataframe\">\n",
       "  <thead>\n",
       "    <tr style=\"text-align: right;\">\n",
       "      <th>book_id</th>\n",
       "      <th>2</th>\n",
       "      <th>3</th>\n",
       "      <th>4</th>\n",
       "      <th>5</th>\n",
       "      <th>7</th>\n",
       "      <th>8</th>\n",
       "      <th>9</th>\n",
       "      <th>10</th>\n",
       "      <th>11</th>\n",
       "      <th>13</th>\n",
       "      <th>...</th>\n",
       "      <th>9974</th>\n",
       "      <th>9977</th>\n",
       "      <th>9978</th>\n",
       "      <th>9985</th>\n",
       "      <th>9988</th>\n",
       "      <th>9990</th>\n",
       "      <th>9991</th>\n",
       "      <th>9995</th>\n",
       "      <th>9997</th>\n",
       "      <th>9998</th>\n",
       "    </tr>\n",
       "  </thead>\n",
       "  <tbody>\n",
       "    <tr>\n",
       "      <th>1</th>\n",
       "      <td>0.184537</td>\n",
       "      <td>0.027987</td>\n",
       "      <td>0.512995</td>\n",
       "      <td>0.214563</td>\n",
       "      <td>0.130145</td>\n",
       "      <td>0.215045</td>\n",
       "      <td>0.230735</td>\n",
       "      <td>0.141262</td>\n",
       "      <td>0.200343</td>\n",
       "      <td>-0.014454</td>\n",
       "      <td>...</td>\n",
       "      <td>0.001622</td>\n",
       "      <td>0.006019</td>\n",
       "      <td>-0.001776</td>\n",
       "      <td>0.002513</td>\n",
       "      <td>0.000587</td>\n",
       "      <td>-0.000185</td>\n",
       "      <td>0.001908</td>\n",
       "      <td>-0.000236</td>\n",
       "      <td>-0.001164</td>\n",
       "      <td>-0.000133</td>\n",
       "    </tr>\n",
       "  </tbody>\n",
       "</table>\n",
       "<p>1 rows × 4518 columns</p>\n",
       "</div>"
      ],
      "text/plain": [
       "book_id      2         3         4         5         7         8         9     \\\n",
       "1        0.184537  0.027987  0.512995  0.214563  0.130145  0.215045  0.230735   \n",
       "\n",
       "book_id      10        11        13    ...      9974      9977      9978  \\\n",
       "1        0.141262  0.200343 -0.014454  ...  0.001622  0.006019 -0.001776   \n",
       "\n",
       "book_id      9985      9988      9990      9991      9995      9997      9998  \n",
       "1        0.002513  0.000587 -0.000185  0.001908 -0.000236 -0.001164 -0.000133  \n",
       "\n",
       "[1 rows x 4518 columns]"
      ]
     },
     "execution_count": 102,
     "metadata": {},
     "output_type": "execute_result"
    }
   ],
   "source": [
    "svd_predictions_score_df1[svd_predictions_score_df1.index == 1]"
   ]
  },
  {
   "cell_type": "code",
   "execution_count": 118,
   "metadata": {},
   "outputs": [
    {
     "data": {
      "text/plain": [
       "1823"
      ]
     },
     "execution_count": 118,
     "metadata": {},
     "output_type": "execute_result"
    }
   ],
   "source": [
    "len(num_users)"
   ]
  },
  {
   "cell_type": "code",
   "execution_count": 103,
   "metadata": {
    "ExecuteTime": {
     "end_time": "2020-09-09T08:38:58.029165Z",
     "start_time": "2020-09-09T08:38:58.017193Z"
    }
   },
   "outputs": [
    {
     "data": {
      "text/plain": [
       "0.09296641564461731"
      ]
     },
     "execution_count": 103,
     "metadata": {},
     "output_type": "execute_result"
    }
   ],
   "source": [
    "float(svd_predictions_score_df1[svd_predictions_score_df1.index == 0][target_movies[0][0]].values)"
   ]
  },
  {
   "cell_type": "code",
   "execution_count": 123,
   "metadata": {
    "ExecuteTime": {
     "end_time": "2020-09-09T08:40:26.257544Z",
     "start_time": "2020-09-09T08:38:59.699262Z"
    }
   },
   "outputs": [],
   "source": [
    "feature3 = []\n",
    "feature3_user = []\n",
    "count = 0\n",
    "for i in range(len(num_users)):\n",
    "    for j in range(len(target_movies[i])):\n",
    "        if (target_movies[i][j] not in svd_predictions_score_df1[svd_predictions_score_df1.index == i]) or (i >= 1794):\n",
    "            feature3_user.append(0)\n",
    "        else:\n",
    "            feature3_user.append(float(svd_predictions_score_df1[svd_predictions_score_df1.index == i][target_movies[i][j]].values))\n",
    "    feature3.append(feature3_user)\n",
    "    feature3_user = []"
   ]
  },
  {
   "cell_type": "code",
   "execution_count": 124,
   "metadata": {
    "ExecuteTime": {
     "end_time": "2020-09-09T08:40:26.261568Z",
     "start_time": "2020-09-09T08:29:45.318Z"
    }
   },
   "outputs": [
    {
     "data": {
      "text/plain": [
       "(1823, 150)"
      ]
     },
     "execution_count": 124,
     "metadata": {},
     "output_type": "execute_result"
    }
   ],
   "source": [
    "np.array(feature3).shape"
   ]
  },
  {
   "cell_type": "markdown",
   "metadata": {},
   "source": [
    "## Feature 5 (#Users watched each target movie)"
   ]
  },
  {
   "cell_type": "code",
   "execution_count": 125,
   "metadata": {
    "ExecuteTime": {
     "end_time": "2020-09-09T08:40:26.269515Z",
     "start_time": "2020-09-09T08:29:45.339Z"
    }
   },
   "outputs": [],
   "source": [
    "number_views = []\n",
    "number_view_per_movie = []\n",
    "for i in range(len(num_users)):\n",
    "    for j in range(len(target_movies[i])):\n",
    "        a = len(ratings_df[ratings_df['book_id'] == target_movies[i][j]]['user_id'])\n",
    "        number_view_per_movie.append(a)\n",
    "    number_views.append(number_view_per_movie)\n",
    "    number_view_per_movie = []\n"
   ]
  },
  {
   "cell_type": "code",
   "execution_count": 126,
   "metadata": {
    "ExecuteTime": {
     "end_time": "2020-09-09T08:40:26.272504Z",
     "start_time": "2020-09-09T08:29:45.343Z"
    }
   },
   "outputs": [],
   "source": [
    "feature5 = number_views"
   ]
  },
  {
   "cell_type": "code",
   "execution_count": 127,
   "metadata": {
    "ExecuteTime": {
     "end_time": "2020-09-09T08:40:26.273502Z",
     "start_time": "2020-09-09T08:29:45.346Z"
    }
   },
   "outputs": [
    {
     "data": {
      "text/plain": [
       "(1823, 150)"
      ]
     },
     "execution_count": 127,
     "metadata": {},
     "output_type": "execute_result"
    }
   ],
   "source": [
    "np.array(feature5).shape"
   ]
  },
  {
   "cell_type": "markdown",
   "metadata": {},
   "source": [
    "## Feature 6 (New user)"
   ]
  },
  {
   "cell_type": "code",
   "execution_count": 128,
   "metadata": {
    "ExecuteTime": {
     "end_time": "2020-09-09T08:40:26.274501Z",
     "start_time": "2020-09-09T08:29:45.351Z"
    }
   },
   "outputs": [
    {
     "data": {
      "text/plain": [
       "False"
      ]
     },
     "execution_count": 128,
     "metadata": {},
     "output_type": "execute_result"
    }
   ],
   "source": [
    "len(ratings_df[ratings_df['user_id']==1]) > 10"
   ]
  },
  {
   "cell_type": "code",
   "execution_count": 129,
   "metadata": {
    "ExecuteTime": {
     "end_time": "2020-09-09T08:40:26.275496Z",
     "start_time": "2020-09-09T08:29:45.355Z"
    }
   },
   "outputs": [],
   "source": [
    "new_users_binary = []\n",
    "binary_per_user = []\n",
    "for i in range(len(num_users)):\n",
    "    for j in range(len(target_movies[i])):\n",
    "        a = len(ratings_df[ratings_df['user_id']==1]) > 10\n",
    "        if a:\n",
    "            binary_per_user.append(1)\n",
    "        else:\n",
    "            binary_per_user.append(0)\n",
    "    new_users_binary.append(binary_per_user)\n",
    "    binary_per_user = []"
   ]
  },
  {
   "cell_type": "code",
   "execution_count": 130,
   "metadata": {
    "ExecuteTime": {
     "end_time": "2020-09-09T08:40:26.276494Z",
     "start_time": "2020-09-09T08:29:45.359Z"
    }
   },
   "outputs": [],
   "source": [
    "#rankings of old/new users"
   ]
  },
  {
   "cell_type": "code",
   "execution_count": 131,
   "metadata": {
    "ExecuteTime": {
     "end_time": "2020-09-09T08:40:26.278488Z",
     "start_time": "2020-09-09T08:29:45.364Z"
    }
   },
   "outputs": [],
   "source": [
    "feature6 = new_users_binary"
   ]
  },
  {
   "cell_type": "code",
   "execution_count": 132,
   "metadata": {
    "ExecuteTime": {
     "end_time": "2020-09-09T08:40:26.279484Z",
     "start_time": "2020-09-09T08:29:45.367Z"
    }
   },
   "outputs": [
    {
     "data": {
      "text/plain": [
       "(1823, 150)"
      ]
     },
     "execution_count": 132,
     "metadata": {},
     "output_type": "execute_result"
    }
   ],
   "source": [
    "np.array(feature6).shape"
   ]
  },
  {
   "cell_type": "markdown",
   "metadata": {},
   "source": [
    "## Feature 7(Embeddings) x32"
   ]
  },
  {
   "cell_type": "code",
   "execution_count": 133,
   "metadata": {
    "ExecuteTime": {
     "end_time": "2020-09-09T08:40:26.281484Z",
     "start_time": "2020-09-09T08:29:45.372Z"
    }
   },
   "outputs": [],
   "source": [
    "emb = f1_model._net.item_embeddings"
   ]
  },
  {
   "cell_type": "code",
   "execution_count": 134,
   "metadata": {
    "ExecuteTime": {
     "end_time": "2020-09-09T08:40:26.283474Z",
     "start_time": "2020-09-09T08:29:45.375Z"
    }
   },
   "outputs": [],
   "source": [
    "emb_features = []\n",
    "helper = []\n",
    "for i in range(32):\n",
    "    for j in range(len(num_items)):\n",
    "        helper.append(emb.weight[j][i].item())\n",
    "    emb_features.append(helper)\n",
    "    helper = []"
   ]
  },
  {
   "cell_type": "code",
   "execution_count": 135,
   "metadata": {
    "ExecuteTime": {
     "end_time": "2020-09-09T08:40:26.284472Z",
     "start_time": "2020-09-09T08:29:45.379Z"
    }
   },
   "outputs": [],
   "source": [
    "a = []\n",
    "b = []\n",
    "feature7 = []\n",
    "for i in range(32):\n",
    "    for user in range(len(num_users)):\n",
    "        for movie in map_target_movies[user]:\n",
    "            a.append(emb_features[0][movie])\n",
    "        b.append(a)\n",
    "        a = []\n",
    "    feature7.append(b)\n",
    "    b = []"
   ]
  },
  {
   "cell_type": "code",
   "execution_count": 136,
   "metadata": {
    "ExecuteTime": {
     "end_time": "2020-09-09T08:40:26.286466Z",
     "start_time": "2020-09-09T08:29:45.383Z"
    }
   },
   "outputs": [
    {
     "data": {
      "text/plain": [
       "(32, 1823, 150)"
      ]
     },
     "execution_count": 136,
     "metadata": {},
     "output_type": "execute_result"
    }
   ],
   "source": [
    "np.array(feature7).shape"
   ]
  },
  {
   "cell_type": "code",
   "execution_count": 137,
   "metadata": {
    "ExecuteTime": {
     "end_time": "2020-09-09T08:40:26.288495Z",
     "start_time": "2020-09-09T08:29:45.386Z"
    }
   },
   "outputs": [
    {
     "data": {
      "text/plain": [
       "(1823, 150)"
      ]
     },
     "execution_count": 137,
     "metadata": {},
     "output_type": "execute_result"
    }
   ],
   "source": [
    "np.array(feature7[0]).shape"
   ]
  },
  {
   "cell_type": "markdown",
   "metadata": {},
   "source": [
    "## Feature 47 (SVD Rank)"
   ]
  },
  {
   "cell_type": "code",
   "execution_count": 139,
   "metadata": {
    "ExecuteTime": {
     "end_time": "2020-09-09T08:12:17.898214Z",
     "start_time": "2020-09-09T08:10:34.008696Z"
    }
   },
   "outputs": [],
   "source": [
    "feature47 = []\n",
    "for i in range(len(num_users)):\n",
    "    feature47.append((st.rankdata(-np.array(feature3[i]))))"
   ]
  },
  {
   "cell_type": "code",
   "execution_count": 140,
   "metadata": {
    "ExecuteTime": {
     "end_time": "2020-09-09T08:12:17.910187Z",
     "start_time": "2020-09-09T08:12:17.900213Z"
    }
   },
   "outputs": [
    {
     "data": {
      "text/plain": [
       "(1823, 150)"
      ]
     },
     "execution_count": 140,
     "metadata": {},
     "output_type": "execute_result"
    }
   ],
   "source": [
    "np.array(feature47).shape"
   ]
  },
  {
   "cell_type": "code",
   "execution_count": 141,
   "metadata": {
    "ExecuteTime": {
     "end_time": "2020-09-09T08:12:17.921186Z",
     "start_time": "2020-09-09T08:12:17.913177Z"
    }
   },
   "outputs": [
    {
     "data": {
      "text/plain": [
       "array([  2. ,  13.5, 149.5,  10. ,   3. ,  12. ,   4.5,  68. ,   6. ,\n",
       "         1. , 139. , 127. ,   7.5,  34. ,  18. , 110. ,  17. ,  22. ,\n",
       "        21. , 112. , 133. ,  49. ,  36.5,  90. ,  28. , 137.5,  19.5,\n",
       "         9. ,  25. ,  38.5,  76. ,  11. ,  92. ,  45. ,  30. , 140. ,\n",
       "       144. ,  63. ,  58. ,  23. ,  33. , 147. ,  60. ,  74. ,  64. ,\n",
       "        16. ,  78. ,  56. ,  86. , 141.5,  15. , 101. ,  55. , 132. ,\n",
       "        99. ,  32. , 143. ,  26. ,  57. ,  52. ,  24. ,  73. ,  82. ,\n",
       "        94. ,  27. , 108.5, 117.5,  41. , 129. ,  62. ,  71. ,  72. ,\n",
       "        35. , 136. , 104. ,  97. ,  29. ,  40. ,  46. ,  89. ,  51. ,\n",
       "        70. ,  47. ,  88. ,  80. ,  42. ,  44. ,  65. ,  96. , 100. ,\n",
       "       134. ,  59. ,  53. ,  95. ,  50. ,  43. ,  48. , 106. ,  75. ,\n",
       "        31. ,  54. , 121. ,  36.5,  19.5, 131. , 137.5,  79. , 125. ,\n",
       "         4.5, 102. , 114. ,  67. , 135. , 141.5,  98. , 145. ,  69. ,\n",
       "       117.5,  85. , 113. ,  77. ,  84. ,  81. ,  13.5, 115. , 124. ,\n",
       "        61. ,  91. , 130. , 126. , 128. , 116. , 108.5, 111. ,  93. ,\n",
       "       120. , 122. , 149.5, 103. , 105. ,  66. , 119. ,  83. , 123. ,\n",
       "         7.5, 147. ,  38.5, 107. , 147. ,  87. ])"
      ]
     },
     "execution_count": 141,
     "metadata": {},
     "output_type": "execute_result"
    }
   ],
   "source": [
    "feature47[0]"
   ]
  },
  {
   "cell_type": "markdown",
   "metadata": {},
   "source": [
    "## Features stack"
   ]
  },
  {
   "cell_type": "code",
   "execution_count": 580,
   "metadata": {
    "ExecuteTime": {
     "end_time": "2020-09-09T08:40:26.289460Z",
     "start_time": "2020-09-09T08:29:45.391Z"
    }
   },
   "outputs": [],
   "source": [
    "\n",
    "features = np.stack((feature1,feature2,feature3,feature5,feature6,\n",
    "                     feature7[0], feature7[1],feature7[2], feature7[3],\n",
    "                     feature7[4], feature7[5],feature7[6], feature7[7],\n",
    "                     feature7[8], feature7[9],feature7[10], feature7[11],\n",
    "                     feature7[12], feature7[13],feature7[14], feature7[15],\n",
    "                     feature7[16], feature7[17],feature7[18], feature7[19],\n",
    "                     feature7[20], feature7[21],feature7[22], feature7[23],\n",
    "                     feature7[24], feature7[25],feature7[26], feature7[27],\n",
    "                     feature7[28], feature7[29],feature7[30], feature7[31], feature47))"
   ]
  },
  {
   "cell_type": "code",
   "execution_count": 581,
   "metadata": {
    "ExecuteTime": {
     "end_time": "2020-09-09T08:40:26.291454Z",
     "start_time": "2020-09-09T08:29:45.395Z"
    }
   },
   "outputs": [],
   "source": [
    "#features = np.stack((feature1, feature2,feature5))"
   ]
  },
  {
   "cell_type": "code",
   "execution_count": 582,
   "metadata": {
    "ExecuteTime": {
     "end_time": "2020-09-09T08:40:26.292484Z",
     "start_time": "2020-09-09T08:29:45.400Z"
    }
   },
   "outputs": [
    {
     "data": {
      "text/plain": [
       "38"
      ]
     },
     "execution_count": 582,
     "metadata": {},
     "output_type": "execute_result"
    }
   ],
   "source": [
    "len(features)"
   ]
  },
  {
   "cell_type": "markdown",
   "metadata": {},
   "source": [
    "## Labels"
   ]
  },
  {
   "cell_type": "markdown",
   "metadata": {},
   "source": [
    "Below are the movies that each user watched"
   ]
  },
  {
   "cell_type": "code",
   "execution_count": 583,
   "metadata": {
    "ExecuteTime": {
     "end_time": "2020-09-09T08:40:26.293448Z",
     "start_time": "2020-09-09T08:29:45.406Z"
    }
   },
   "outputs": [],
   "source": [
    "def watched_movies(df):\n",
    "    watched = []\n",
    "    #for i in range(len(num_users)):\n",
    "    for u in uid_rev_map:\n",
    "        watched.append(df[df[\"user_id\"]==uid_rev_map.get(u)].groupby(\"book_id\")[\"book_id\"].count().index.tolist())  \n",
    "    return watched "
   ]
  },
  {
   "cell_type": "code",
   "execution_count": 584,
   "metadata": {
    "ExecuteTime": {
     "end_time": "2020-09-09T08:40:26.295442Z",
     "start_time": "2020-09-09T08:29:45.409Z"
    }
   },
   "outputs": [],
   "source": [
    "#train_labels_df\n",
    "#test_df\n",
    "#val_df\n",
    "train_watched = watched_movies(train_labels_df)\n",
    "test_watched = watched_movies(test_df)\n",
    "val_watched = watched_movies(val_df)"
   ]
  },
  {
   "cell_type": "markdown",
   "metadata": {},
   "source": [
    "Creation of the target list. It containes 0s and 1s for the 100 recommended movies for each user. Based on the watched movies it assigns the values. If the user watched the recommended movie, then the value of the target is equal to 1, otherwise it is 0."
   ]
  },
  {
   "cell_type": "code",
   "execution_count": 585,
   "metadata": {
    "ExecuteTime": {
     "end_time": "2020-09-09T08:40:26.297441Z",
     "start_time": "2020-09-09T08:29:45.415Z"
    }
   },
   "outputs": [],
   "source": [
    "def create_target(watched):\n",
    "    user_target = []\n",
    "    target = []\n",
    "    for i in range(len(num_users)):\n",
    "        for target_movie in target_movies[i]:\n",
    "            if target_movie in watched[i]:\n",
    "                user_target.append(1)\n",
    "            else:\n",
    "                user_target.append(0)\n",
    "        target.append(user_target)\n",
    "        user_target = []\n",
    "    return target"
   ]
  },
  {
   "cell_type": "code",
   "execution_count": 586,
   "metadata": {
    "ExecuteTime": {
     "end_time": "2020-09-09T08:40:26.299434Z",
     "start_time": "2020-09-09T08:29:45.418Z"
    }
   },
   "outputs": [],
   "source": [
    "label_train = create_target(train_watched)\n",
    "label_test = create_target(test_watched)\n",
    "label_val = create_target(val_watched)\n",
    "#y_train = y_test = y_val"
   ]
  },
  {
   "cell_type": "markdown",
   "metadata": {},
   "source": [
    "# LightGBM model"
   ]
  },
  {
   "cell_type": "markdown",
   "metadata": {},
   "source": [
    "## Prepare X, y"
   ]
  },
  {
   "cell_type": "code",
   "execution_count": 587,
   "metadata": {
    "ExecuteTime": {
     "end_time": "2020-09-09T08:40:26.301426Z",
     "start_time": "2020-09-09T08:29:45.423Z"
    }
   },
   "outputs": [],
   "source": [
    "k = len(target_movies[0])\n",
    "\n",
    "X = np.array(features)\n",
    "#X = X.reshape(len(num_users)*k,len(features))\n",
    "X = X.reshape(len(features), len(num_users)*k)\n",
    "X = np.transpose(X)\n",
    "label_train = np.array(label_train)\n",
    "label_test = np.array(label_test)\n",
    "label_val = np.array(label_val)"
   ]
  },
  {
   "cell_type": "code",
   "execution_count": 588,
   "metadata": {
    "ExecuteTime": {
     "end_time": "2020-09-09T08:40:26.302426Z",
     "start_time": "2020-09-09T08:29:45.427Z"
    }
   },
   "outputs": [],
   "source": [
    "y_train = label_train.reshape(len(num_users)*k,)\n",
    "y_test = label_test.reshape(len(num_users)*k,)\n",
    "y_val = label_val.reshape(len(num_users)*k,)"
   ]
  },
  {
   "cell_type": "markdown",
   "metadata": {},
   "source": [
    "## Classifier"
   ]
  },
  {
   "cell_type": "code",
   "execution_count": 589,
   "metadata": {
    "ExecuteTime": {
     "end_time": "2020-09-09T08:12:31.332339Z",
     "start_time": "2020-09-09T08:12:29.634837Z"
    }
   },
   "outputs": [],
   "source": [
    "import lightgbm as lgb\n",
    "clf = lgb.LGBMClassifier()\n",
    "clf.fit(X_train, y_train)\n",
    "y_pred=clf.predict(X_test)"
   ]
  },
  {
   "cell_type": "code",
   "execution_count": 590,
   "metadata": {
    "ExecuteTime": {
     "end_time": "2020-09-09T08:12:31.348296Z",
     "start_time": "2020-09-09T08:12:31.335332Z"
    }
   },
   "outputs": [],
   "source": [
    "p = 0\n",
    "m = k\n",
    "clf_pred_per_user = []\n",
    "for i in range(len(num_users)):\n",
    "    clf_pred_per_user.append(y_pred[p:m])\n",
    "    p += k\n",
    "    m += k"
   ]
  },
  {
   "cell_type": "code",
   "execution_count": 591,
   "metadata": {
    "ExecuteTime": {
     "end_time": "2020-09-09T08:12:31.421102Z",
     "start_time": "2020-09-09T08:12:31.351289Z"
    }
   },
   "outputs": [
    {
     "name": "stdout",
     "output_type": "stream",
     "text": [
      "LightGBM Model accuracy score: 0.9740\n"
     ]
    }
   ],
   "source": [
    "from sklearn.metrics import accuracy_score\n",
    "accuracy=accuracy_score(y_pred, y_test)\n",
    "print('LightGBM Model accuracy score: {0:0.4f}'.format(accuracy_score(y_test, y_pred)))"
   ]
  },
  {
   "cell_type": "code",
   "execution_count": 592,
   "metadata": {
    "ExecuteTime": {
     "end_time": "2020-09-09T08:12:31.834996Z",
     "start_time": "2020-09-09T08:12:31.423097Z"
    }
   },
   "outputs": [
    {
     "name": "stdout",
     "output_type": "stream",
     "text": [
      "              precision    recall  f1-score   support\n",
      "\n",
      "           0       0.97      1.00      0.99    266359\n",
      "           1       0.00      0.00      0.00      7091\n",
      "\n",
      "    accuracy                           0.97    273450\n",
      "   macro avg       0.49      0.50      0.49    273450\n",
      "weighted avg       0.95      0.97      0.96    273450\n",
      "\n"
     ]
    }
   ],
   "source": [
    "from sklearn.metrics import classification_report\n",
    "print(classification_report(y_test, y_pred))"
   ]
  },
  {
   "cell_type": "code",
   "execution_count": 593,
   "metadata": {
    "ExecuteTime": {
     "end_time": "2020-09-09T08:12:32.805826Z",
     "start_time": "2020-09-09T08:12:31.835992Z"
    }
   },
   "outputs": [
    {
     "name": "stdout",
     "output_type": "stream",
     "text": [
      "Training set score: 0.9828\n",
      "Test set score: 0.9740\n"
     ]
    }
   ],
   "source": [
    "print('Training set score: {:.4f}'.format(clf.score(X_train, y_train)))\n",
    "\n",
    "print('Test set score: {:.4f}'.format(clf.score(X_test, y_test)))"
   ]
  },
  {
   "cell_type": "markdown",
   "metadata": {},
   "source": [
    "The training and test set accuracy are quite comparable. So, we cannot say there is overfitting."
   ]
  },
  {
   "cell_type": "code",
   "execution_count": 594,
   "metadata": {
    "ExecuteTime": {
     "end_time": "2020-09-09T08:12:36.681466Z",
     "start_time": "2020-09-09T08:12:32.808816Z"
    }
   },
   "outputs": [],
   "source": [
    "lgbm_clf_ndcg = NDCG_forUser(y_pred)"
   ]
  },
  {
   "cell_type": "code",
   "execution_count": 595,
   "metadata": {
    "ExecuteTime": {
     "end_time": "2020-09-09T08:12:36.689441Z",
     "start_time": "2020-09-09T08:12:36.683457Z"
    }
   },
   "outputs": [
    {
     "data": {
      "text/plain": [
       "0.1940294542263978"
      ]
     },
     "execution_count": 595,
     "metadata": {},
     "output_type": "execute_result"
    }
   ],
   "source": [
    "lgbm_clf_ndcg"
   ]
  },
  {
   "cell_type": "code",
   "execution_count": 596,
   "metadata": {
    "ExecuteTime": {
     "end_time": "2020-09-09T08:12:36.784187Z",
     "start_time": "2020-09-09T08:12:36.691436Z"
    },
    "scrolled": true
   },
   "outputs": [],
   "source": [
    "clf_rr = RR_forUsers(clf_pred_per_user)\n",
    "clf_rr = pd.Series(clf_rr).fillna(0).tolist()"
   ]
  },
  {
   "cell_type": "code",
   "execution_count": 597,
   "metadata": {
    "ExecuteTime": {
     "end_time": "2020-09-09T08:12:36.790171Z",
     "start_time": "2020-09-09T08:12:36.786185Z"
    }
   },
   "outputs": [],
   "source": [
    "clf_MRR = calculate_mrr(clf_rr)"
   ]
  },
  {
   "cell_type": "code",
   "execution_count": 598,
   "metadata": {
    "ExecuteTime": {
     "end_time": "2020-09-09T08:12:36.801142Z",
     "start_time": "2020-09-09T08:12:36.792164Z"
    }
   },
   "outputs": [
    {
     "data": {
      "text/plain": [
       "0.008236258366468501"
      ]
     },
     "execution_count": 598,
     "metadata": {},
     "output_type": "execute_result"
    }
   ],
   "source": [
    "clf_MRR"
   ]
  },
  {
   "cell_type": "code",
   "execution_count": 599,
   "metadata": {
    "ExecuteTime": {
     "end_time": "2020-09-09T08:12:36.909882Z",
     "start_time": "2020-09-09T08:12:36.803135Z"
    }
   },
   "outputs": [
    {
     "name": "stderr",
     "output_type": "stream",
     "text": [
      "C:\\Users\\papad\\Anaconda3\\lib\\site-packages\\ipykernel_launcher.py:17: RuntimeWarning: invalid value encountered in double_scalars\n"
     ]
    }
   ],
   "source": [
    "clf_ap = calculate_averagePrecision(clf_pred_per_user)"
   ]
  },
  {
   "cell_type": "code",
   "execution_count": 600,
   "metadata": {
    "ExecuteTime": {
     "end_time": "2020-09-09T08:12:36.917829Z",
     "start_time": "2020-09-09T08:12:36.911844Z"
    }
   },
   "outputs": [
    {
     "data": {
      "text/plain": [
       "0.0001388684441079648"
      ]
     },
     "execution_count": 600,
     "metadata": {},
     "output_type": "execute_result"
    }
   ],
   "source": [
    "clf_ap = pd.Series(clf_ap).fillna(0).tolist()\n",
    "clf_map = calculate_MAP(clf_ap)\n",
    "clf_map"
   ]
  },
  {
   "cell_type": "markdown",
   "metadata": {},
   "source": [
    "## Ranker"
   ]
  },
  {
   "cell_type": "code",
   "execution_count": 217,
   "metadata": {
    "ExecuteTime": {
     "end_time": "2020-09-09T08:40:26.304418Z",
     "start_time": "2020-09-09T08:29:45.431Z"
    }
   },
   "outputs": [
    {
     "data": {
      "text/plain": [
       "LGBMRanker(metric='ndcg', min_data_in_leaf=1, min_sum_hessian_in_leaf=100,\n",
       "           ndcg_eval_at=[1, 5, 10, 20], num_leaves=255, num_threads=2,\n",
       "           objective='lambdarank', task='train')"
      ]
     },
     "execution_count": 217,
     "metadata": {},
     "output_type": "execute_result"
    }
   ],
   "source": [
    "import lightgbm as lgb\n",
    "param = {\n",
    "    \"task\": \"train\",\n",
    "    \"num_leaves\": 255,\n",
    "    \"min_data_in_leaf\": 1,\n",
    "    \"min_sum_hessian_in_leaf\": 100,\n",
    "    \"objective\": \"lambdarank\",\n",
    "    \"metric\": \"ndcg\",\n",
    "    \"ndcg_eval_at\": [1, 5, 10, 20],\n",
    "    \"learning_rate\": .1,\n",
    "    \"num_threads\": 2\n",
    "}\n",
    "gbm = lgb.LGBMRanker()\n",
    "gbm.set_params(**param)"
   ]
  },
  {
   "cell_type": "markdown",
   "metadata": {},
   "source": [
    "target movies\n",
    "train_df\n",
    "feature1\n",
    "feature2"
   ]
  },
  {
   "cell_type": "markdown",
   "metadata": {},
   "source": [
    "X_train\n",
    "X_test\n",
    "X_val\n",
    "y_train\n",
    "y_test\n",
    "y_val"
   ]
  },
  {
   "cell_type": "code",
   "execution_count": 218,
   "metadata": {
    "ExecuteTime": {
     "end_time": "2020-09-09T08:40:26.307409Z",
     "start_time": "2020-09-09T08:29:45.436Z"
    }
   },
   "outputs": [],
   "source": [
    "X_train = X\n",
    "X_test = X\n",
    "X_val = X"
   ]
  },
  {
   "cell_type": "code",
   "execution_count": 219,
   "metadata": {
    "ExecuteTime": {
     "end_time": "2020-09-09T08:40:26.309405Z",
     "start_time": "2020-09-09T08:29:45.440Z"
    }
   },
   "outputs": [],
   "source": [
    "#from sklearn.model_selection import train_test_split\n",
    "#X_train, X_test, y_train, y_test = train_test_split(X, y, test_size=0.2, random_state=1)\n",
    "#X_train, X_val, y_train, y_val = train_test_split(X_train, y_train, test_size=0.2, random_state=1)"
   ]
  },
  {
   "cell_type": "code",
   "execution_count": 220,
   "metadata": {
    "ExecuteTime": {
     "end_time": "2020-09-09T08:40:26.310401Z",
     "start_time": "2020-09-09T08:29:45.443Z"
    }
   },
   "outputs": [
    {
     "name": "stdout",
     "output_type": "stream",
     "text": [
      "[273450]\n",
      "[273450]\n",
      "[273450]\n"
     ]
    }
   ],
   "source": [
    "query_train = [X_train.shape[0]]\n",
    "query_val = [X_val.shape[0]]\n",
    "query_test = [X_test.shape[0]]\n",
    "group_train = []\n",
    "group_val = []\n",
    "print(query_train)\n",
    "print(query_val)\n",
    "print(query_test)\n",
    "'''\n",
    "for i in range(390):\n",
    "    group_train.append(100)\n",
    "group_train.append(40)\n",
    "group_val.append(60)\n",
    "for i in range(97):\n",
    "    group_val.append(100)'''\n",
    "\n",
    "for i in range(len(num_users)):\n",
    "    group_train.append(k)\n",
    "    group_val.append(k)\n"
   ]
  },
  {
   "cell_type": "code",
   "execution_count": 221,
   "metadata": {
    "ExecuteTime": {
     "end_time": "2020-09-09T08:40:26.312396Z",
     "start_time": "2020-09-09T08:29:45.447Z"
    },
    "code_folding": []
   },
   "outputs": [
    {
     "name": "stdout",
     "output_type": "stream",
     "text": [
      "[1]\tvalid_0's ndcg@1: 0.272628\tvalid_0's ndcg@3: 0.275141\tvalid_0's ndcg@5: 0.281207\tvalid_0's ndcg@10: 0.300071\n",
      "[2]\tvalid_0's ndcg@1: 0.272628\tvalid_0's ndcg@3: 0.272934\tvalid_0's ndcg@5: 0.27907\tvalid_0's ndcg@10: 0.297982\n",
      "[3]\tvalid_0's ndcg@1: 0.275919\tvalid_0's ndcg@3: 0.277024\tvalid_0's ndcg@5: 0.28469\tvalid_0's ndcg@10: 0.305317\n",
      "[4]\tvalid_0's ndcg@1: 0.274273\tvalid_0's ndcg@3: 0.277341\tvalid_0's ndcg@5: 0.283674\tvalid_0's ndcg@10: 0.305856\n",
      "[5]\tvalid_0's ndcg@1: 0.270433\tvalid_0's ndcg@3: 0.276091\tvalid_0's ndcg@5: 0.283263\tvalid_0's ndcg@10: 0.303982\n",
      "[6]\tvalid_0's ndcg@1: 0.27153\tvalid_0's ndcg@3: 0.276771\tvalid_0's ndcg@5: 0.284349\tvalid_0's ndcg@10: 0.305712\n",
      "[7]\tvalid_0's ndcg@1: 0.270982\tvalid_0's ndcg@3: 0.277731\tvalid_0's ndcg@5: 0.285479\tvalid_0's ndcg@10: 0.306781\n",
      "[8]\tvalid_0's ndcg@1: 0.269336\tvalid_0's ndcg@3: 0.274197\tvalid_0's ndcg@5: 0.283153\tvalid_0's ndcg@10: 0.304534\n",
      "[9]\tvalid_0's ndcg@1: 0.268239\tvalid_0's ndcg@3: 0.274887\tvalid_0's ndcg@5: 0.282598\tvalid_0's ndcg@10: 0.304883\n",
      "[10]\tvalid_0's ndcg@1: 0.268788\tvalid_0's ndcg@3: 0.274874\tvalid_0's ndcg@5: 0.283707\tvalid_0's ndcg@10: 0.305628\n",
      "[11]\tvalid_0's ndcg@1: 0.269885\tvalid_0's ndcg@3: 0.277343\tvalid_0's ndcg@5: 0.28323\tvalid_0's ndcg@10: 0.306882\n",
      "[12]\tvalid_0's ndcg@1: 0.269336\tvalid_0's ndcg@3: 0.275423\tvalid_0's ndcg@5: 0.283232\tvalid_0's ndcg@10: 0.305477\n",
      "[13]\tvalid_0's ndcg@1: 0.269885\tvalid_0's ndcg@3: 0.275911\tvalid_0's ndcg@5: 0.283795\tvalid_0's ndcg@10: 0.305064\n",
      "[14]\tvalid_0's ndcg@1: 0.269885\tvalid_0's ndcg@3: 0.276744\tvalid_0's ndcg@5: 0.284414\tvalid_0's ndcg@10: 0.304538\n",
      "[15]\tvalid_0's ndcg@1: 0.268788\tvalid_0's ndcg@3: 0.275108\tvalid_0's ndcg@5: 0.283186\tvalid_0's ndcg@10: 0.30481\n",
      "[16]\tvalid_0's ndcg@1: 0.268788\tvalid_0's ndcg@3: 0.273813\tvalid_0's ndcg@5: 0.284151\tvalid_0's ndcg@10: 0.304656\n",
      "[17]\tvalid_0's ndcg@1: 0.270433\tvalid_0's ndcg@3: 0.274527\tvalid_0's ndcg@5: 0.284782\tvalid_0's ndcg@10: 0.305179\n",
      "[18]\tvalid_0's ndcg@1: 0.266045\tvalid_0's ndcg@3: 0.273971\tvalid_0's ndcg@5: 0.283839\tvalid_0's ndcg@10: 0.304588\n",
      "[19]\tvalid_0's ndcg@1: 0.264948\tvalid_0's ndcg@3: 0.272795\tvalid_0's ndcg@5: 0.282581\tvalid_0's ndcg@10: 0.304634\n",
      "[20]\tvalid_0's ndcg@1: 0.264948\tvalid_0's ndcg@3: 0.273135\tvalid_0's ndcg@5: 0.282479\tvalid_0's ndcg@10: 0.304622\n",
      "[21]\tvalid_0's ndcg@1: 0.268788\tvalid_0's ndcg@3: 0.272844\tvalid_0's ndcg@5: 0.28207\tvalid_0's ndcg@10: 0.304049\n",
      "[22]\tvalid_0's ndcg@1: 0.266045\tvalid_0's ndcg@3: 0.271544\tvalid_0's ndcg@5: 0.282547\tvalid_0's ndcg@10: 0.303536\n",
      "[23]\tvalid_0's ndcg@1: 0.264399\tvalid_0's ndcg@3: 0.270447\tvalid_0's ndcg@5: 0.281977\tvalid_0's ndcg@10: 0.304267\n",
      "[24]\tvalid_0's ndcg@1: 0.261657\tvalid_0's ndcg@3: 0.272155\tvalid_0's ndcg@5: 0.282974\tvalid_0's ndcg@10: 0.30454\n",
      "[25]\tvalid_0's ndcg@1: 0.262205\tvalid_0's ndcg@3: 0.272202\tvalid_0's ndcg@5: 0.281791\tvalid_0's ndcg@10: 0.304565\n",
      "[26]\tvalid_0's ndcg@1: 0.262205\tvalid_0's ndcg@3: 0.272839\tvalid_0's ndcg@5: 0.281214\tvalid_0's ndcg@10: 0.30385\n",
      "[27]\tvalid_0's ndcg@1: 0.260011\tvalid_0's ndcg@3: 0.272053\tvalid_0's ndcg@5: 0.281162\tvalid_0's ndcg@10: 0.304199\n",
      "[28]\tvalid_0's ndcg@1: 0.261108\tvalid_0's ndcg@3: 0.271495\tvalid_0's ndcg@5: 0.279065\tvalid_0's ndcg@10: 0.30289\n",
      "[29]\tvalid_0's ndcg@1: 0.258365\tvalid_0's ndcg@3: 0.271899\tvalid_0's ndcg@5: 0.27901\tvalid_0's ndcg@10: 0.302524\n",
      "[30]\tvalid_0's ndcg@1: 0.259462\tvalid_0's ndcg@3: 0.271109\tvalid_0's ndcg@5: 0.278872\tvalid_0's ndcg@10: 0.302054\n",
      "[31]\tvalid_0's ndcg@1: 0.261657\tvalid_0's ndcg@3: 0.272038\tvalid_0's ndcg@5: 0.279069\tvalid_0's ndcg@10: 0.30256\n",
      "[32]\tvalid_0's ndcg@1: 0.263302\tvalid_0's ndcg@3: 0.272521\tvalid_0's ndcg@5: 0.279599\tvalid_0's ndcg@10: 0.30205\n",
      "[33]\tvalid_0's ndcg@1: 0.263851\tvalid_0's ndcg@3: 0.272772\tvalid_0's ndcg@5: 0.279714\tvalid_0's ndcg@10: 0.30251\n",
      "[34]\tvalid_0's ndcg@1: 0.262205\tvalid_0's ndcg@3: 0.271869\tvalid_0's ndcg@5: 0.278545\tvalid_0's ndcg@10: 0.30172\n",
      "[35]\tvalid_0's ndcg@1: 0.262205\tvalid_0's ndcg@3: 0.269815\tvalid_0's ndcg@5: 0.277414\tvalid_0's ndcg@10: 0.301198\n",
      "[36]\tvalid_0's ndcg@1: 0.259462\tvalid_0's ndcg@3: 0.269995\tvalid_0's ndcg@5: 0.278468\tvalid_0's ndcg@10: 0.3012\n",
      "[37]\tvalid_0's ndcg@1: 0.26056\tvalid_0's ndcg@3: 0.27179\tvalid_0's ndcg@5: 0.278402\tvalid_0's ndcg@10: 0.302235\n",
      "[38]\tvalid_0's ndcg@1: 0.260011\tvalid_0's ndcg@3: 0.271717\tvalid_0's ndcg@5: 0.278735\tvalid_0's ndcg@10: 0.302494\n",
      "[39]\tvalid_0's ndcg@1: 0.260011\tvalid_0's ndcg@3: 0.271836\tvalid_0's ndcg@5: 0.279145\tvalid_0's ndcg@10: 0.302396\n",
      "[40]\tvalid_0's ndcg@1: 0.262754\tvalid_0's ndcg@3: 0.272706\tvalid_0's ndcg@5: 0.280106\tvalid_0's ndcg@10: 0.303162\n",
      "[41]\tvalid_0's ndcg@1: 0.264399\tvalid_0's ndcg@3: 0.272713\tvalid_0's ndcg@5: 0.280472\tvalid_0's ndcg@10: 0.30306\n",
      "[42]\tvalid_0's ndcg@1: 0.262205\tvalid_0's ndcg@3: 0.271381\tvalid_0's ndcg@5: 0.279454\tvalid_0's ndcg@10: 0.302417\n",
      "[43]\tvalid_0's ndcg@1: 0.264399\tvalid_0's ndcg@3: 0.273245\tvalid_0's ndcg@5: 0.279204\tvalid_0's ndcg@10: 0.301201\n",
      "[44]\tvalid_0's ndcg@1: 0.264948\tvalid_0's ndcg@3: 0.272866\tvalid_0's ndcg@5: 0.279318\tvalid_0's ndcg@10: 0.301034\n",
      "[45]\tvalid_0's ndcg@1: 0.262205\tvalid_0's ndcg@3: 0.2719\tvalid_0's ndcg@5: 0.279016\tvalid_0's ndcg@10: 0.301127\n",
      "[46]\tvalid_0's ndcg@1: 0.262754\tvalid_0's ndcg@3: 0.271432\tvalid_0's ndcg@5: 0.278181\tvalid_0's ndcg@10: 0.301422\n",
      "[47]\tvalid_0's ndcg@1: 0.264399\tvalid_0's ndcg@3: 0.273435\tvalid_0's ndcg@5: 0.279451\tvalid_0's ndcg@10: 0.301648\n",
      "[48]\tvalid_0's ndcg@1: 0.262754\tvalid_0's ndcg@3: 0.271996\tvalid_0's ndcg@5: 0.278292\tvalid_0's ndcg@10: 0.300586\n",
      "[49]\tvalid_0's ndcg@1: 0.265496\tvalid_0's ndcg@3: 0.272875\tvalid_0's ndcg@5: 0.279864\tvalid_0's ndcg@10: 0.301346\n",
      "[50]\tvalid_0's ndcg@1: 0.262754\tvalid_0's ndcg@3: 0.270932\tvalid_0's ndcg@5: 0.278498\tvalid_0's ndcg@10: 0.300718\n",
      "[51]\tvalid_0's ndcg@1: 0.263851\tvalid_0's ndcg@3: 0.271375\tvalid_0's ndcg@5: 0.279226\tvalid_0's ndcg@10: 0.301089\n",
      "[52]\tvalid_0's ndcg@1: 0.262754\tvalid_0's ndcg@3: 0.271376\tvalid_0's ndcg@5: 0.280569\tvalid_0's ndcg@10: 0.300776\n",
      "[53]\tvalid_0's ndcg@1: 0.264399\tvalid_0's ndcg@3: 0.271576\tvalid_0's ndcg@5: 0.280452\tvalid_0's ndcg@10: 0.300321\n",
      "[54]\tvalid_0's ndcg@1: 0.264399\tvalid_0's ndcg@3: 0.270293\tvalid_0's ndcg@5: 0.279361\tvalid_0's ndcg@10: 0.300697\n",
      "[55]\tvalid_0's ndcg@1: 0.264399\tvalid_0's ndcg@3: 0.27077\tvalid_0's ndcg@5: 0.280028\tvalid_0's ndcg@10: 0.301536\n",
      "[56]\tvalid_0's ndcg@1: 0.266594\tvalid_0's ndcg@3: 0.271141\tvalid_0's ndcg@5: 0.279901\tvalid_0's ndcg@10: 0.301295\n",
      "[57]\tvalid_0's ndcg@1: 0.264948\tvalid_0's ndcg@3: 0.269906\tvalid_0's ndcg@5: 0.279509\tvalid_0's ndcg@10: 0.300812\n",
      "[58]\tvalid_0's ndcg@1: 0.262205\tvalid_0's ndcg@3: 0.270228\tvalid_0's ndcg@5: 0.278897\tvalid_0's ndcg@10: 0.300515\n",
      "[59]\tvalid_0's ndcg@1: 0.263851\tvalid_0's ndcg@3: 0.271696\tvalid_0's ndcg@5: 0.279549\tvalid_0's ndcg@10: 0.300907\n",
      "[60]\tvalid_0's ndcg@1: 0.264948\tvalid_0's ndcg@3: 0.270683\tvalid_0's ndcg@5: 0.279698\tvalid_0's ndcg@10: 0.300915\n",
      "[61]\tvalid_0's ndcg@1: 0.263302\tvalid_0's ndcg@3: 0.271685\tvalid_0's ndcg@5: 0.279072\tvalid_0's ndcg@10: 0.301011\n",
      "[62]\tvalid_0's ndcg@1: 0.263851\tvalid_0's ndcg@3: 0.270253\tvalid_0's ndcg@5: 0.27924\tvalid_0's ndcg@10: 0.300882\n",
      "[63]\tvalid_0's ndcg@1: 0.264399\tvalid_0's ndcg@3: 0.273096\tvalid_0's ndcg@5: 0.280045\tvalid_0's ndcg@10: 0.301774\n",
      "[64]\tvalid_0's ndcg@1: 0.261657\tvalid_0's ndcg@3: 0.270474\tvalid_0's ndcg@5: 0.279303\tvalid_0's ndcg@10: 0.301357\n",
      "[65]\tvalid_0's ndcg@1: 0.264399\tvalid_0's ndcg@3: 0.270352\tvalid_0's ndcg@5: 0.278885\tvalid_0's ndcg@10: 0.301075\n",
      "[66]\tvalid_0's ndcg@1: 0.263851\tvalid_0's ndcg@3: 0.269792\tvalid_0's ndcg@5: 0.278644\tvalid_0's ndcg@10: 0.300465\n",
      "[67]\tvalid_0's ndcg@1: 0.263851\tvalid_0's ndcg@3: 0.269715\tvalid_0's ndcg@5: 0.278912\tvalid_0's ndcg@10: 0.300914\n",
      "[68]\tvalid_0's ndcg@1: 0.264948\tvalid_0's ndcg@3: 0.270609\tvalid_0's ndcg@5: 0.279758\tvalid_0's ndcg@10: 0.301024\n",
      "[69]\tvalid_0's ndcg@1: 0.262205\tvalid_0's ndcg@3: 0.269468\tvalid_0's ndcg@5: 0.279477\tvalid_0's ndcg@10: 0.299503\n",
      "[70]\tvalid_0's ndcg@1: 0.261108\tvalid_0's ndcg@3: 0.268533\tvalid_0's ndcg@5: 0.278323\tvalid_0's ndcg@10: 0.298618\n",
      "[71]\tvalid_0's ndcg@1: 0.262754\tvalid_0's ndcg@3: 0.26897\tvalid_0's ndcg@5: 0.278109\tvalid_0's ndcg@10: 0.299377\n",
      "[72]\tvalid_0's ndcg@1: 0.262205\tvalid_0's ndcg@3: 0.268326\tvalid_0's ndcg@5: 0.277459\tvalid_0's ndcg@10: 0.29925\n",
      "[73]\tvalid_0's ndcg@1: 0.262754\tvalid_0's ndcg@3: 0.269737\tvalid_0's ndcg@5: 0.277774\tvalid_0's ndcg@10: 0.298946\n",
      "[74]\tvalid_0's ndcg@1: 0.262205\tvalid_0's ndcg@3: 0.269853\tvalid_0's ndcg@5: 0.277737\tvalid_0's ndcg@10: 0.29879\n",
      "[75]\tvalid_0's ndcg@1: 0.262205\tvalid_0's ndcg@3: 0.269592\tvalid_0's ndcg@5: 0.277555\tvalid_0's ndcg@10: 0.298656\n",
      "[76]\tvalid_0's ndcg@1: 0.264399\tvalid_0's ndcg@3: 0.270242\tvalid_0's ndcg@5: 0.278223\tvalid_0's ndcg@10: 0.299011\n",
      "[77]\tvalid_0's ndcg@1: 0.262754\tvalid_0's ndcg@3: 0.269804\tvalid_0's ndcg@5: 0.277508\tvalid_0's ndcg@10: 0.298913\n",
      "[78]\tvalid_0's ndcg@1: 0.261657\tvalid_0's ndcg@3: 0.26962\tvalid_0's ndcg@5: 0.27833\tvalid_0's ndcg@10: 0.299523\n",
      "[79]\tvalid_0's ndcg@1: 0.263302\tvalid_0's ndcg@3: 0.270168\tvalid_0's ndcg@5: 0.278208\tvalid_0's ndcg@10: 0.299484\n",
      "[80]\tvalid_0's ndcg@1: 0.259462\tvalid_0's ndcg@3: 0.269928\tvalid_0's ndcg@5: 0.277854\tvalid_0's ndcg@10: 0.298943\n",
      "[81]\tvalid_0's ndcg@1: 0.258914\tvalid_0's ndcg@3: 0.269558\tvalid_0's ndcg@5: 0.277739\tvalid_0's ndcg@10: 0.298877\n",
      "[82]\tvalid_0's ndcg@1: 0.25672\tvalid_0's ndcg@3: 0.268379\tvalid_0's ndcg@5: 0.276953\tvalid_0's ndcg@10: 0.298703\n",
      "[83]\tvalid_0's ndcg@1: 0.256171\tvalid_0's ndcg@3: 0.268219\tvalid_0's ndcg@5: 0.276875\tvalid_0's ndcg@10: 0.298904\n",
      "[84]\tvalid_0's ndcg@1: 0.257268\tvalid_0's ndcg@3: 0.26823\tvalid_0's ndcg@5: 0.277058\tvalid_0's ndcg@10: 0.298607\n",
      "[85]\tvalid_0's ndcg@1: 0.258914\tvalid_0's ndcg@3: 0.269274\tvalid_0's ndcg@5: 0.277232\tvalid_0's ndcg@10: 0.298932\n",
      "[86]\tvalid_0's ndcg@1: 0.258914\tvalid_0's ndcg@3: 0.269278\tvalid_0's ndcg@5: 0.27758\tvalid_0's ndcg@10: 0.298816\n",
      "[87]\tvalid_0's ndcg@1: 0.259462\tvalid_0's ndcg@3: 0.269055\tvalid_0's ndcg@5: 0.277408\tvalid_0's ndcg@10: 0.299206\n",
      "[88]\tvalid_0's ndcg@1: 0.258365\tvalid_0's ndcg@3: 0.268252\tvalid_0's ndcg@5: 0.277115\tvalid_0's ndcg@10: 0.298476\n",
      "[89]\tvalid_0's ndcg@1: 0.254526\tvalid_0's ndcg@3: 0.266573\tvalid_0's ndcg@5: 0.27556\tvalid_0's ndcg@10: 0.298082\n",
      "[90]\tvalid_0's ndcg@1: 0.257268\tvalid_0's ndcg@3: 0.266886\tvalid_0's ndcg@5: 0.276381\tvalid_0's ndcg@10: 0.297593\n",
      "[91]\tvalid_0's ndcg@1: 0.257817\tvalid_0's ndcg@3: 0.265496\tvalid_0's ndcg@5: 0.276384\tvalid_0's ndcg@10: 0.298204\n",
      "[92]\tvalid_0's ndcg@1: 0.257268\tvalid_0's ndcg@3: 0.266278\tvalid_0's ndcg@5: 0.27686\tvalid_0's ndcg@10: 0.297793\n",
      "[93]\tvalid_0's ndcg@1: 0.255623\tvalid_0's ndcg@3: 0.266577\tvalid_0's ndcg@5: 0.275923\tvalid_0's ndcg@10: 0.297993\n",
      "[94]\tvalid_0's ndcg@1: 0.254526\tvalid_0's ndcg@3: 0.266414\tvalid_0's ndcg@5: 0.275845\tvalid_0's ndcg@10: 0.297634\n",
      "[95]\tvalid_0's ndcg@1: 0.258365\tvalid_0's ndcg@3: 0.266864\tvalid_0's ndcg@5: 0.275924\tvalid_0's ndcg@10: 0.298436\n",
      "[96]\tvalid_0's ndcg@1: 0.255623\tvalid_0's ndcg@3: 0.266651\tvalid_0's ndcg@5: 0.275893\tvalid_0's ndcg@10: 0.298477\n",
      "[97]\tvalid_0's ndcg@1: 0.255623\tvalid_0's ndcg@3: 0.265667\tvalid_0's ndcg@5: 0.275458\tvalid_0's ndcg@10: 0.29785\n",
      "[98]\tvalid_0's ndcg@1: 0.256171\tvalid_0's ndcg@3: 0.266421\tvalid_0's ndcg@5: 0.275436\tvalid_0's ndcg@10: 0.298063\n",
      "[99]\tvalid_0's ndcg@1: 0.257268\tvalid_0's ndcg@3: 0.266677\tvalid_0's ndcg@5: 0.275658\tvalid_0's ndcg@10: 0.297897\n",
      "[100]\tvalid_0's ndcg@1: 0.257268\tvalid_0's ndcg@3: 0.265583\tvalid_0's ndcg@5: 0.275828\tvalid_0's ndcg@10: 0.298087\n"
     ]
    },
    {
     "data": {
      "text/plain": [
       "LGBMRanker(metric='ndcg', min_data_in_leaf=1, min_sum_hessian_in_leaf=100,\n",
       "           ndcg_eval_at=[1, 5, 10, 20], num_leaves=255, num_threads=2,\n",
       "           objective='lambdarank', task='train')"
      ]
     },
     "execution_count": 221,
     "metadata": {},
     "output_type": "execute_result"
    }
   ],
   "source": [
    "gbm.fit(X_train, y_train, group=group_train,\n",
    "        eval_set=[(X_val, y_val)], eval_group=[group_val],\n",
    "        eval_at=[1, 3, 5, 10], eval_metric='ndcg')\n",
    "#no early stopping"
   ]
  },
  {
   "cell_type": "code",
   "execution_count": 224,
   "metadata": {
    "ExecuteTime": {
     "end_time": "2020-09-09T08:40:26.314393Z",
     "start_time": "2020-09-09T08:29:45.451Z"
    }
   },
   "outputs": [],
   "source": [
    "gbm.best_iteration_"
   ]
  },
  {
   "cell_type": "code",
   "execution_count": 225,
   "metadata": {
    "ExecuteTime": {
     "end_time": "2020-09-09T08:40:26.315391Z",
     "start_time": "2020-09-09T08:29:45.455Z"
    }
   },
   "outputs": [
    {
     "data": {
      "text/plain": [
       "array([ 0.13865934,  0.05497075, -0.1067782 , ..., -0.82742661,\n",
       "       -1.09340493,  0.01983074])"
      ]
     },
     "execution_count": 225,
     "metadata": {},
     "output_type": "execute_result"
    }
   ],
   "source": [
    "test_pred = gbm.predict(X_test)\n",
    "test_pred"
   ]
  },
  {
   "cell_type": "markdown",
   "metadata": {},
   "source": [
    "## NDCG Score"
   ]
  },
  {
   "cell_type": "code",
   "execution_count": 226,
   "metadata": {
    "ExecuteTime": {
     "end_time": "2020-09-09T08:40:26.316430Z",
     "start_time": "2020-09-09T08:29:45.459Z"
    }
   },
   "outputs": [],
   "source": [
    "p = 0\n",
    "m = 150\n",
    "lgbm_pred_per_user = []\n",
    "for i in range(len(num_users)):\n",
    "    lgbm_pred_per_user.append(test_pred[p:m])\n",
    "    p += 150\n",
    "    m += 150"
   ]
  },
  {
   "cell_type": "markdown",
   "metadata": {},
   "source": [
    "### NDCG IFM on this data"
   ]
  },
  {
   "cell_type": "code",
   "execution_count": 227,
   "metadata": {
    "ExecuteTime": {
     "end_time": "2020-09-09T08:40:26.320378Z",
     "start_time": "2020-09-09T08:29:45.472Z"
    }
   },
   "outputs": [
    {
     "name": "stderr",
     "output_type": "stream",
     "text": [
      "C:\\Users\\papad\\Anaconda3\\lib\\site-packages\\ipykernel_launcher.py:2: RuntimeWarning: invalid value encountered in double_scalars\n",
      "  \n"
     ]
    }
   ],
   "source": [
    "lgbm_NDCG = []\n",
    "IFM_NDCG = []\n",
    "SVD_NDCG = []\n",
    "ifm_relevance_list = []\n",
    "svd_relevance_list = []\n",
    "lgbm_relevance_list = []\n",
    "for i in range(len(num_users)):\n",
    "    excel_df = pd.DataFrame({'movie_id': target_movies[i], 'implicit_score': feature1[i],\n",
    "                             'implicit_rank': feature2[i], 'svd_score':feature3[i], '#users_watched': feature5[i],\n",
    "                             'new_user': feature6[i],\n",
    "                             'emedding1': feature7[0][i], 'emedding2': feature7[1][i], 'emedding3': feature7[2][i],\n",
    "                             'emedding4': feature7[3][i], 'emedding5': feature7[4][i], 'emedding6': feature7[5][i],\n",
    "                             'emedding7': feature7[6][i], 'emedding8': feature7[7][i], 'emedding9': feature7[8][i],\n",
    "                             'emedding10': feature7[9][i], 'emedding11': feature7[10][i], 'emedding12': feature7[11][i],\n",
    "                             'emedding13': feature7[12][i], 'emedding14': feature7[13][i], 'emedding15': feature7[14][i],\n",
    "                             'emedding16': feature7[15][i], 'emedding17': feature7[16][i], 'emedding18': feature7[17][i],\n",
    "                             'emedding19': feature7[18][i], 'emedding20': feature7[19][i], 'emedding21': feature7[20][i],\n",
    "                             'emedding22': feature7[21][i], 'emedding23': feature7[22][i], 'emedding24': feature7[23][i],\n",
    "                             'emedding25': feature7[24][i], 'emedding26': feature7[25][i], 'emedding27': feature7[26][i],\n",
    "                             'emedding28': feature7[27][i], 'emedding29': feature7[28][i], 'emedding30': feature7[29][i],\n",
    "                             'emedding31': feature7[30][i], 'emedding32': feature7[31][i], 'svd_rank': feature47[i],\n",
    "                             'train_label': label_train[i], 'test_label': label_test[i],\n",
    "                             'y_val': label_val[i], 'LGBM Score': lgbm_pred_per_user[i]})\n",
    "    excel_df = excel_df.sort_values('LGBM Score', ascending=False)\n",
    "    relevance_lgbm_user = excel_df['test_label'].values.tolist()\n",
    "    lgbm_relevance_list.append(relevance_lgbm_user)\n",
    "    lgbm_NDCG.append(NDCG_forUser(relevance_lgbm_user))\n",
    "    excel_df = excel_df.sort_values('implicit_score', ascending=False)\n",
    "    ifm_relevance = excel_df['test_label'].values.tolist()\n",
    "    ifm_relevance_list.append(ifm_relevance)\n",
    "    IFM_NDCG.append(NDCG_forUser(ifm_relevance))\n",
    "    excel_df = excel_df.sort_values('svd_score', ascending=False)\n",
    "    svd_relevance_h = excel_df['test_label'].values.tolist()\n",
    "    svd_relevance_list.append(svd_relevance_h)\n",
    "    SVD_NDCG.append(NDCG_forUser(svd_relevance_h))"
   ]
  },
  {
   "cell_type": "code",
   "execution_count": 228,
   "metadata": {},
   "outputs": [],
   "source": [
    "lgbm_NDCG = pd.Series(lgbm_NDCG).fillna(0).tolist()\n",
    "IFM_NDCG = pd.Series(IFM_NDCG).fillna(0).tolist()\n",
    "SVD_NDCG = pd.Series(SVD_NDCG).fillna(0).tolist()"
   ]
  },
  {
   "cell_type": "markdown",
   "metadata": {},
   "source": [
    "# Comparisons"
   ]
  },
  {
   "cell_type": "markdown",
   "metadata": {},
   "source": [
    "## NDCG "
   ]
  },
  {
   "cell_type": "code",
   "execution_count": 229,
   "metadata": {
    "ExecuteTime": {
     "end_time": "2020-09-09T08:13:03.122101Z",
     "start_time": "2020-09-09T08:13:03.112088Z"
    }
   },
   "outputs": [],
   "source": [
    "ndcg_df = pd.DataFrame({'LightGBM': lgbm_NDCG, 'IFM_this': IFM_NDCG, 'SVD_this': SVD_NDCG})"
   ]
  },
  {
   "cell_type": "code",
   "execution_count": 230,
   "metadata": {
    "ExecuteTime": {
     "end_time": "2020-09-09T08:13:03.135068Z",
     "start_time": "2020-09-09T08:13:03.124055Z"
    }
   },
   "outputs": [
    {
     "data": {
      "text/html": [
       "<div>\n",
       "<style scoped>\n",
       "    .dataframe tbody tr th:only-of-type {\n",
       "        vertical-align: middle;\n",
       "    }\n",
       "\n",
       "    .dataframe tbody tr th {\n",
       "        vertical-align: top;\n",
       "    }\n",
       "\n",
       "    .dataframe thead th {\n",
       "        text-align: right;\n",
       "    }\n",
       "</style>\n",
       "<table border=\"1\" class=\"dataframe\">\n",
       "  <thead>\n",
       "    <tr style=\"text-align: right;\">\n",
       "      <th></th>\n",
       "      <th>LightGBM</th>\n",
       "      <th>IFM_this</th>\n",
       "      <th>SVD_this</th>\n",
       "    </tr>\n",
       "  </thead>\n",
       "  <tbody>\n",
       "    <tr>\n",
       "      <th>0</th>\n",
       "      <td>0.000000</td>\n",
       "      <td>0.000000</td>\n",
       "      <td>0.000000</td>\n",
       "    </tr>\n",
       "    <tr>\n",
       "      <th>1</th>\n",
       "      <td>0.000000</td>\n",
       "      <td>0.000000</td>\n",
       "      <td>0.000000</td>\n",
       "    </tr>\n",
       "    <tr>\n",
       "      <th>2</th>\n",
       "      <td>0.473102</td>\n",
       "      <td>0.785669</td>\n",
       "      <td>0.363127</td>\n",
       "    </tr>\n",
       "    <tr>\n",
       "      <th>3</th>\n",
       "      <td>0.000000</td>\n",
       "      <td>0.000000</td>\n",
       "      <td>0.000000</td>\n",
       "    </tr>\n",
       "    <tr>\n",
       "      <th>4</th>\n",
       "      <td>0.000000</td>\n",
       "      <td>0.000000</td>\n",
       "      <td>0.000000</td>\n",
       "    </tr>\n",
       "    <tr>\n",
       "      <th>...</th>\n",
       "      <td>...</td>\n",
       "      <td>...</td>\n",
       "      <td>...</td>\n",
       "    </tr>\n",
       "    <tr>\n",
       "      <th>1818</th>\n",
       "      <td>0.342723</td>\n",
       "      <td>0.277973</td>\n",
       "      <td>0.259903</td>\n",
       "    </tr>\n",
       "    <tr>\n",
       "      <th>1819</th>\n",
       "      <td>0.339912</td>\n",
       "      <td>0.287465</td>\n",
       "      <td>0.338899</td>\n",
       "    </tr>\n",
       "    <tr>\n",
       "      <th>1820</th>\n",
       "      <td>0.000000</td>\n",
       "      <td>0.000000</td>\n",
       "      <td>0.000000</td>\n",
       "    </tr>\n",
       "    <tr>\n",
       "      <th>1821</th>\n",
       "      <td>0.000000</td>\n",
       "      <td>0.000000</td>\n",
       "      <td>0.000000</td>\n",
       "    </tr>\n",
       "    <tr>\n",
       "      <th>1822</th>\n",
       "      <td>0.422790</td>\n",
       "      <td>0.388958</td>\n",
       "      <td>0.183020</td>\n",
       "    </tr>\n",
       "  </tbody>\n",
       "</table>\n",
       "<p>1823 rows × 3 columns</p>\n",
       "</div>"
      ],
      "text/plain": [
       "      LightGBM  IFM_this  SVD_this\n",
       "0     0.000000  0.000000  0.000000\n",
       "1     0.000000  0.000000  0.000000\n",
       "2     0.473102  0.785669  0.363127\n",
       "3     0.000000  0.000000  0.000000\n",
       "4     0.000000  0.000000  0.000000\n",
       "...        ...       ...       ...\n",
       "1818  0.342723  0.277973  0.259903\n",
       "1819  0.339912  0.287465  0.338899\n",
       "1820  0.000000  0.000000  0.000000\n",
       "1821  0.000000  0.000000  0.000000\n",
       "1822  0.422790  0.388958  0.183020\n",
       "\n",
       "[1823 rows x 3 columns]"
      ]
     },
     "execution_count": 230,
     "metadata": {},
     "output_type": "execute_result"
    }
   ],
   "source": [
    "ndcg_df"
   ]
  },
  {
   "cell_type": "code",
   "execution_count": 231,
   "metadata": {
    "ExecuteTime": {
     "end_time": "2020-09-09T08:13:03.141042Z",
     "start_time": "2020-09-09T08:13:03.137021Z"
    }
   },
   "outputs": [
    {
     "data": {
      "text/plain": [
       "0.28714730680063905"
      ]
     },
     "execution_count": 231,
     "metadata": {},
     "output_type": "execute_result"
    }
   ],
   "source": [
    "lgbm_mean = ndcg_df['LightGBM'].mean()\n",
    "lgbm_mean"
   ]
  },
  {
   "cell_type": "code",
   "execution_count": 232,
   "metadata": {
    "ExecuteTime": {
     "end_time": "2020-09-09T08:13:03.148025Z",
     "start_time": "2020-09-09T08:13:03.143004Z"
    }
   },
   "outputs": [
    {
     "data": {
      "text/plain": [
       "0.30157190705522596"
      ]
     },
     "execution_count": 232,
     "metadata": {},
     "output_type": "execute_result"
    }
   ],
   "source": [
    "ifm_mean = ndcg_df['IFM_this'].mean()\n",
    "ifm_mean"
   ]
  },
  {
   "cell_type": "code",
   "execution_count": 233,
   "metadata": {
    "ExecuteTime": {
     "end_time": "2020-09-09T08:13:03.154009Z",
     "start_time": "2020-09-09T08:13:03.149988Z"
    },
    "scrolled": true
   },
   "outputs": [
    {
     "data": {
      "text/plain": [
       "0.26740206297168206"
      ]
     },
     "execution_count": 233,
     "metadata": {},
     "output_type": "execute_result"
    }
   ],
   "source": [
    "svd_mean = ndcg_df['SVD_this'].mean()\n",
    "svd_mean"
   ]
  },
  {
   "cell_type": "markdown",
   "metadata": {},
   "source": [
    "## MRR"
   ]
  },
  {
   "cell_type": "code",
   "execution_count": 234,
   "metadata": {
    "ExecuteTime": {
     "end_time": "2020-09-09T08:13:03.299619Z",
     "start_time": "2020-09-09T08:13:03.155970Z"
    }
   },
   "outputs": [],
   "source": [
    "ifm_rr = RR_forUsers(ifm_relevance_list)\n",
    "ifm_mrr = calculate_mrr(ifm_rr)\n",
    "svd_rr = RR_forUsers(svd_relevance_list)\n",
    "svd_mrr = calculate_mrr(svd_rr)\n",
    "lgbm_rr = RR_forUsers(lgbm_relevance_list)\n",
    "lgbm_mrr = calculate_mrr(lgbm_rr)"
   ]
  },
  {
   "cell_type": "code",
   "execution_count": 235,
   "metadata": {
    "ExecuteTime": {
     "end_time": "2020-09-09T08:13:03.316541Z",
     "start_time": "2020-09-09T07:16:12.700Z"
    }
   },
   "outputs": [
    {
     "name": "stdout",
     "output_type": "stream",
     "text": [
      "IFM: 0.2061254266425516\n",
      "SVD: 0.14213743730374181\n",
      "LightGBM: 0.18500025567474968\n"
     ]
    }
   ],
   "source": [
    "print('IFM:',ifm_mrr)\n",
    "print('SVD:',svd_mrr)\n",
    "print('LightGBM:',lgbm_mrr)"
   ]
  },
  {
   "cell_type": "markdown",
   "metadata": {},
   "source": [
    "## MAP"
   ]
  },
  {
   "cell_type": "code",
   "execution_count": 236,
   "metadata": {
    "ExecuteTime": {
     "end_time": "2020-09-09T08:13:03.317538Z",
     "start_time": "2020-09-09T07:16:12.711Z"
    }
   },
   "outputs": [
    {
     "name": "stderr",
     "output_type": "stream",
     "text": [
      "C:\\Users\\papad\\Anaconda3\\lib\\site-packages\\ipykernel_launcher.py:17: RuntimeWarning: invalid value encountered in double_scalars\n"
     ]
    }
   ],
   "source": [
    "ifm_ap = calculate_averagePrecision(ifm_relevance_list)\n",
    "ifm_ap = pd.Series(ifm_ap).fillna(0).tolist()\n",
    "ifm_map = calculate_MAP(ifm_ap)\n",
    "svd_ap = calculate_averagePrecision(svd_relevance_list)\n",
    "svd_ap = pd.Series(svd_ap).fillna(0).tolist()\n",
    "svd_map = calculate_MAP(svd_ap)\n",
    "lgbm_ap = calculate_averagePrecision(lgbm_relevance_list)\n",
    "lgbm_ap = pd.Series(lgbm_ap).fillna(0).tolist()\n",
    "lgbm_map = calculate_MAP(lgbm_ap)"
   ]
  },
  {
   "cell_type": "code",
   "execution_count": 237,
   "metadata": {
    "ExecuteTime": {
     "end_time": "2020-09-09T08:13:03.318537Z",
     "start_time": "2020-09-09T07:16:12.720Z"
    }
   },
   "outputs": [
    {
     "name": "stdout",
     "output_type": "stream",
     "text": [
      "IFM: 0.10276416415394628\n",
      "SVD: 0.07322645641402487\n",
      "LightGBM: 0.08513511590335214\n"
     ]
    }
   ],
   "source": [
    "print('IFM:',ifm_map)\n",
    "print('SVD:',svd_map)\n",
    "print('LightGBM:',lgbm_map)"
   ]
  },
  {
   "cell_type": "markdown",
   "metadata": {},
   "source": [
    "## Visualization"
   ]
  },
  {
   "cell_type": "code",
   "execution_count": 238,
   "metadata": {
    "ExecuteTime": {
     "end_time": "2020-09-09T08:13:03.319539Z",
     "start_time": "2020-09-09T07:16:12.731Z"
    }
   },
   "outputs": [
    {
     "data": {
      "text/plain": [
       "<matplotlib.legend.Legend at 0x2180b397688>"
      ]
     },
     "execution_count": 238,
     "metadata": {},
     "output_type": "execute_result"
    },
    {
     "data": {
      "image/png": "[encoded data removed]",
      "text/plain": [
       "<Figure size 432x288 with 1 Axes>"
      ]
     },
     "metadata": {
      "needs_background": "light"
     },
     "output_type": "display_data"
    }
   ],
   "source": [
    "plt.scatter(len(num_users),lgbm_mean,label = 'Light GBM')\n",
    "plt.scatter(len(num_users),svd_mean, label = 'SVD')\n",
    "plt.scatter(len(num_users),ifm_mean, label = 'Implicit FM')\n",
    "plt.xlabel('Number of Users')\n",
    "plt.ylabel('NDCG mean score')\n",
    "plt.title('LGBM - Mean NDCG score by number of users')\n",
    "plt.legend()"
   ]
  },
  {
   "cell_type": "code",
   "execution_count": 239,
   "metadata": {
    "ExecuteTime": {
     "end_time": "2020-09-09T08:13:03.321527Z",
     "start_time": "2020-09-09T07:16:12.742Z"
    }
   },
   "outputs": [
    {
     "data": {
      "text/plain": [
       "<matplotlib.legend.Legend at 0x21809e62088>"
      ]
     },
     "execution_count": 239,
     "metadata": {},
     "output_type": "execute_result"
    },
    {
     "data": {
      "image/png": "[encoded data removed]",
      "text/plain": [
       "<Figure size 432x288 with 1 Axes>"
      ]
     },
     "metadata": {
      "needs_background": "light"
     },
     "output_type": "display_data"
    }
   ],
   "source": [
    "plt.scatter(len(num_users),lgbm_mrr,label = 'Light GBM')\n",
    "plt.scatter(len(num_users),svd_mrr, label = 'SVD')\n",
    "plt.scatter(len(num_users),ifm_mrr, label = 'Implicit FM')\n",
    "plt.xlabel('Number of Users')\n",
    "plt.ylabel('MRR Score')\n",
    "plt.title('MRR Scores')\n",
    "plt.legend()"
   ]
  },
  {
   "cell_type": "code",
   "execution_count": 240,
   "metadata": {
    "ExecuteTime": {
     "end_time": "2020-09-09T08:13:03.322526Z",
     "start_time": "2020-09-09T07:16:12.751Z"
    }
   },
   "outputs": [
    {
     "data": {
      "text/plain": [
       "<matplotlib.legend.Legend at 0x21809edcb88>"
      ]
     },
     "execution_count": 240,
     "metadata": {},
     "output_type": "execute_result"
    },
    {
     "data": {
      "image/png": "[encoded data removed]",
      "text/plain": [
       "<Figure size 432x288 with 1 Axes>"
      ]
     },
     "metadata": {
      "needs_background": "light"
     },
     "output_type": "display_data"
    }
   ],
   "source": [
    "plt.scatter(len(num_users),lgbm_map,label = 'Light GBM')\n",
    "plt.scatter(len(num_users),svd_map, label = 'SVD')\n",
    "plt.scatter(len(num_users),ifm_map, label = 'Implicit FM')\n",
    "plt.xlabel('Number of Users')\n",
    "plt.ylabel('MAP Score')\n",
    "plt.title('MAP Scores')\n",
    "plt.legend()"
   ]
  },
  {
   "cell_type": "markdown",
   "metadata": {},
   "source": [
    "## Feature Importance"
   ]
  },
  {
   "cell_type": "code",
   "execution_count": 241,
   "metadata": {
    "ExecuteTime": {
     "end_time": "2020-09-09T08:13:03.324526Z",
     "start_time": "2020-09-09T07:16:12.764Z"
    }
   },
   "outputs": [],
   "source": [
    "feature_names = excel_df.columns.values[1:39]"
   ]
  },
  {
   "cell_type": "code",
   "execution_count": 242,
   "metadata": {
    "ExecuteTime": {
     "end_time": "2020-09-09T08:13:03.325549Z",
     "start_time": "2020-09-09T07:16:12.773Z"
    }
   },
   "outputs": [
    {
     "data": {
      "text/plain": [
       "38"
      ]
     },
     "execution_count": 242,
     "metadata": {},
     "output_type": "execute_result"
    }
   ],
   "source": [
    "len(feature_names)"
   ]
  },
  {
   "cell_type": "code",
   "execution_count": 243,
   "metadata": {},
   "outputs": [
    {
     "data": {
      "text/plain": [
       "38"
      ]
     },
     "execution_count": 243,
     "metadata": {},
     "output_type": "execute_result"
    }
   ],
   "source": [
    "len(gbm.feature_importances_)"
   ]
  },
  {
   "cell_type": "code",
   "execution_count": 244,
   "metadata": {
    "ExecuteTime": {
     "end_time": "2020-09-09T08:13:03.327512Z",
     "start_time": "2020-09-09T07:16:12.781Z"
    }
   },
   "outputs": [
    {
     "data": {
      "text/plain": [
       "Text(0.5, 1.0, 'Importance of Features')"
      ]
     },
     "execution_count": 244,
     "metadata": {},
     "output_type": "execute_result"
    },
    {
     "data": {
      "image/png": "[encoded data removed]",
      "text/plain": [
       "<Figure size 1000x400 with 1 Axes>"
      ]
     },
     "metadata": {
      "needs_background": "light"
     },
     "output_type": "display_data"
    }
   ],
   "source": [
    "from matplotlib.pyplot import figure\n",
    "figure(figsize=(10, 4),dpi=100)\n",
    "plt.bar(feature_names,gbm.feature_importances_)\n",
    "plt.xticks(rotation='vertical')\n",
    "plt.ylabel('Importance')\n",
    "plt.xlabel('Feature name')\n",
    "plt.title('Importance of Features')"
   ]
  },
  {
   "cell_type": "code",
   "execution_count": 245,
   "metadata": {
    "ExecuteTime": {
     "end_time": "2020-09-09T08:13:03.328509Z",
     "start_time": "2020-09-09T07:16:12.790Z"
    }
   },
   "outputs": [
    {
     "data": {
      "text/plain": [
       "array([573, 455, 522, 363,   0, 374,   0,   0,   0,   0,   0,   0,   0,\n",
       "         0,   0,   0,   0,   0,   0,   0,   0,   0,   0,   0,   0,   0,\n",
       "         0,   0,   0,   0,   0,   0,   0,   0,   0,   0,   0, 562])"
      ]
     },
     "execution_count": 245,
     "metadata": {},
     "output_type": "execute_result"
    }
   ],
   "source": [
    "gbm.feature_importances_"
   ]
  },
  {
   "cell_type": "markdown",
   "metadata": {},
   "source": [
    "# Research Questions"
   ]
  },
  {
   "cell_type": "markdown",
   "metadata": {},
   "source": [
    "## Research Question functions"
   ]
  },
  {
   "cell_type": "code",
   "execution_count": 488,
   "metadata": {
    "ExecuteTime": {
     "end_time": "2020-09-09T08:13:03.333495Z",
     "start_time": "2020-09-09T07:16:12.839Z"
    }
   },
   "outputs": [],
   "source": [
    "def prepareXY(features):\n",
    "    X = np.array(features)\n",
    "    #X = X.reshape(len(num_users)*k,len(features))\n",
    "    X = X.reshape(len(features), len(num_users)*k)\n",
    "    X = np.transpose(X)\n",
    "    X_train = X\n",
    "    X_test = X\n",
    "    X_val = X\n",
    "    return X_train, X_test, X_val"
   ]
  },
  {
   "cell_type": "code",
   "execution_count": 489,
   "metadata": {
    "ExecuteTime": {
     "end_time": "2020-09-09T08:13:03.334494Z",
     "start_time": "2020-09-09T07:16:12.849Z"
    }
   },
   "outputs": [],
   "source": [
    "def lgbm_fit_predict(X_train, y_train, group_train, X_val, y_val, group_val, X_test):\n",
    "    gbm.fit(X_train, y_train, group=group_train,\n",
    "            eval_set=[(X_val, y_val)], eval_group=[group_val],\n",
    "            eval_at=[1, 3, 5, 10], eval_metric='ndcg',verbose=0)\n",
    "    #print(gbm.best_iteration_)\n",
    "    test_pred = gbm.predict(X_test)\n",
    "    p = 0\n",
    "    m = k\n",
    "    lgbm_pred_per_user = []\n",
    "    for i in range(len(num_users)):\n",
    "        lgbm_pred_per_user.append(test_pred[p:m])\n",
    "        p += k\n",
    "        m += k\n",
    "    return lgbm_pred_per_user,gbm.feature_importances_"
   ]
  },
  {
   "cell_type": "code",
   "execution_count": 490,
   "metadata": {
    "ExecuteTime": {
     "end_time": "2020-09-09T08:13:03.336524Z",
     "start_time": "2020-09-09T07:16:12.859Z"
    }
   },
   "outputs": [],
   "source": [
    "def plot_feature_importances(features, importances):\n",
    "    feature_names = excel_df.columns[1:len(features)+1]\n",
    "    print(feature_names)\n",
    "    print(len(feature_names))\n",
    "    print(len(importances))\n",
    "    df=pd.DataFrame({'allvarlist': feature_names,'importances':importances})\n",
    "    df.sort_values('importances',inplace=True, ascending = False)\n",
    "    figure(figsize=(10, 4), dpi=100)\n",
    "    plt.bar(df['allvarlist'], df['importances'])\n",
    "    plt.xticks(rotation='vertical')\n",
    "    plt.ylabel('Importance')\n",
    "    plt.xlabel('Feature name')\n",
    "    plt.title('Importance of Features')"
   ]
  },
  {
   "cell_type": "code",
   "execution_count": 491,
   "metadata": {
    "ExecuteTime": {
     "end_time": "2020-09-09T08:13:03.337522Z",
     "start_time": "2020-09-09T07:16:12.868Z"
    }
   },
   "outputs": [],
   "source": [
    "def mrr_map(lgbm_relevance_list):\n",
    "    lgbm_rr = RR_forUsers(lgbm_relevance_list)\n",
    "    lgbm_mrr = calculate_mrr(lgbm_rr)\n",
    "    lgbm_ap = calculate_averagePrecision(lgbm_relevance_list)\n",
    "    lgbm_ap = pd.Series(lgbm_ap).fillna(0).tolist()\n",
    "    lgbm_map = calculate_MAP(lgbm_ap)\n",
    "    return lgbm_mrr, lgbm_map"
   ]
  },
  {
   "cell_type": "code",
   "execution_count": 492,
   "metadata": {
    "ExecuteTime": {
     "end_time": "2020-09-09T08:13:03.338482Z",
     "start_time": "2020-09-09T07:16:12.878Z"
    }
   },
   "outputs": [],
   "source": [
    "def compare_metrics(lgbm_NDCG, lgbm_MRR, lgbm_MAP):\n",
    "    df = pd.DataFrame({'LightGBM_NDCG': lgbm_NDCG, 'IFM_NDCG': ifm_mean, 'SVD_NDCG': svd_mean,\n",
    "                            'LightGBM_MRR': lgbm_MRR, 'IFM_MRR': ifm_mrr, 'SVD_MRR': svd_mrr,\n",
    "                            'LightGBM_MAP': lgbm_MAP, 'IFM_MAP': ifm_map, 'SVD_MAP': svd_map},index=[0])\n",
    "    return df"
   ]
  },
  {
   "cell_type": "markdown",
   "metadata": {},
   "source": [
    "## What is the impact of items' embeddings features on the effectiveness of a model for item recommendations?"
   ]
  },
  {
   "cell_type": "markdown",
   "metadata": {},
   "source": [
    "1. Post-hoc analysis\n",
    "2. Spearman correlation\n",
    "try different features, see what happens, and analyze it to explain. \n"
   ]
  },
  {
   "cell_type": "markdown",
   "metadata": {
    "ExecuteTime": {
     "end_time": "2020-08-13T18:16:18.212676Z",
     "start_time": "2020-08-13T18:16:18.181880Z"
    }
   },
   "source": [
    "### No item embeddings features"
   ]
  },
  {
   "cell_type": "code",
   "execution_count": 493,
   "metadata": {
    "ExecuteTime": {
     "end_time": "2020-09-09T08:13:03.495063Z",
     "start_time": "2020-09-09T07:16:14.245Z"
    }
   },
   "outputs": [],
   "source": [
    "features = np.stack((feature1,feature2,feature3,feature5,feature6,feature47))"
   ]
  },
  {
   "cell_type": "code",
   "execution_count": 494,
   "metadata": {
    "ExecuteTime": {
     "end_time": "2020-09-09T08:13:03.496063Z",
     "start_time": "2020-09-09T07:16:14.256Z"
    }
   },
   "outputs": [
    {
     "data": {
      "text/plain": [
       "6"
      ]
     },
     "execution_count": 494,
     "metadata": {},
     "output_type": "execute_result"
    }
   ],
   "source": [
    "len(features)"
   ]
  },
  {
   "cell_type": "code",
   "execution_count": 495,
   "metadata": {
    "ExecuteTime": {
     "end_time": "2020-09-09T08:13:03.497060Z",
     "start_time": "2020-09-09T07:16:14.267Z"
    }
   },
   "outputs": [],
   "source": [
    "X_train, X_test, X_val = prepareXY(features)"
   ]
  },
  {
   "cell_type": "code",
   "execution_count": 496,
   "metadata": {},
   "outputs": [],
   "source": [
    "lgbm_pred_per_user, importances = lgbm_fit_predict(X_train, y_train, group_train, X_val, y_val, group_val, X_test)"
   ]
  },
  {
   "cell_type": "code",
   "execution_count": 497,
   "metadata": {
    "ExecuteTime": {
     "end_time": "2020-09-09T08:13:03.498057Z",
     "start_time": "2020-09-09T07:16:14.278Z"
    }
   },
   "outputs": [
    {
     "name": "stderr",
     "output_type": "stream",
     "text": [
      "C:\\Users\\papad\\Anaconda3\\lib\\site-packages\\ipykernel_launcher.py:2: RuntimeWarning: invalid value encountered in double_scalars\n",
      "  \n"
     ]
    },
    {
     "data": {
      "text/plain": [
       "0.28630206270406494"
      ]
     },
     "execution_count": 497,
     "metadata": {},
     "output_type": "execute_result"
    }
   ],
   "source": [
    "lgbm_NDCG = []\n",
    "lgbm_relevance_list = []\n",
    "for i in range(len(num_users)):\n",
    "    excel_df = pd.DataFrame({'movie_id': target_movies[i], 'implicit_score': feature1[i],\n",
    "                         'implicit_rank': feature2[i], 'svd_score': feature3[i],\n",
    "                         '#users_watched': feature5[i], 'new_user': feature6[i],\n",
    "                         'svd_rank': feature47[i],\n",
    "                         'train_label': label_train[i], 'test_label': label_test[i],\n",
    "                         'y_val': label_val[i], 'LGBM Score': lgbm_pred_per_user[i]})\n",
    "    excel_df = excel_df.sort_values('LGBM Score', ascending=False)\n",
    "    relevance_lgbm_user = excel_df['test_label'].values.tolist()\n",
    "    lgbm_relevance_list.append(relevance_lgbm_user)\n",
    "    lgbm_NDCG.append(NDCG_forUser(relevance_lgbm_user))\n",
    "lgbm_NDCG = pd.Series(lgbm_NDCG).fillna(0).tolist()\n",
    "lgbm_NDCG = np.mean(lgbm_NDCG)\n",
    "lgbm_NDCG"
   ]
  },
  {
   "cell_type": "code",
   "execution_count": 498,
   "metadata": {
    "ExecuteTime": {
     "end_time": "2020-09-09T08:13:03.500050Z",
     "start_time": "2020-09-09T07:16:14.290Z"
    }
   },
   "outputs": [
    {
     "name": "stderr",
     "output_type": "stream",
     "text": [
      "C:\\Users\\papad\\Anaconda3\\lib\\site-packages\\ipykernel_launcher.py:17: RuntimeWarning: invalid value encountered in double_scalars\n"
     ]
    }
   ],
   "source": [
    "lgbm_mrr, lgbm_map = mrr_map(lgbm_relevance_list)"
   ]
  },
  {
   "cell_type": "code",
   "execution_count": 499,
   "metadata": {
    "ExecuteTime": {
     "end_time": "2020-09-09T08:13:03.501047Z",
     "start_time": "2020-09-09T07:16:14.301Z"
    }
   },
   "outputs": [],
   "source": [
    "metrics_df = compare_metrics(lgbm_NDCG, lgbm_mrr, lgbm_map)"
   ]
  },
  {
   "cell_type": "code",
   "execution_count": 500,
   "metadata": {
    "ExecuteTime": {
     "end_time": "2020-09-09T08:13:03.502047Z",
     "start_time": "2020-09-09T07:16:14.314Z"
    }
   },
   "outputs": [
    {
     "data": {
      "text/html": [
       "<div>\n",
       "<style scoped>\n",
       "    .dataframe tbody tr th:only-of-type {\n",
       "        vertical-align: middle;\n",
       "    }\n",
       "\n",
       "    .dataframe tbody tr th {\n",
       "        vertical-align: top;\n",
       "    }\n",
       "\n",
       "    .dataframe thead th {\n",
       "        text-align: right;\n",
       "    }\n",
       "</style>\n",
       "<table border=\"1\" class=\"dataframe\">\n",
       "  <thead>\n",
       "    <tr style=\"text-align: right;\">\n",
       "      <th></th>\n",
       "      <th>LightGBM_NDCG</th>\n",
       "      <th>IFM_NDCG</th>\n",
       "      <th>SVD_NDCG</th>\n",
       "      <th>LightGBM_MRR</th>\n",
       "      <th>IFM_MRR</th>\n",
       "      <th>SVD_MRR</th>\n",
       "      <th>LightGBM_MAP</th>\n",
       "      <th>IFM_MAP</th>\n",
       "      <th>SVD_MAP</th>\n",
       "    </tr>\n",
       "  </thead>\n",
       "  <tbody>\n",
       "    <tr>\n",
       "      <th>0</th>\n",
       "      <td>0.286302</td>\n",
       "      <td>0.301572</td>\n",
       "      <td>0.267402</td>\n",
       "      <td>0.180296</td>\n",
       "      <td>0.206125</td>\n",
       "      <td>0.142137</td>\n",
       "      <td>0.084233</td>\n",
       "      <td>0.102764</td>\n",
       "      <td>0.073226</td>\n",
       "    </tr>\n",
       "  </tbody>\n",
       "</table>\n",
       "</div>"
      ],
      "text/plain": [
       "   LightGBM_NDCG  IFM_NDCG  SVD_NDCG  LightGBM_MRR   IFM_MRR   SVD_MRR  \\\n",
       "0       0.286302  0.301572  0.267402      0.180296  0.206125  0.142137   \n",
       "\n",
       "   LightGBM_MAP   IFM_MAP   SVD_MAP  \n",
       "0      0.084233  0.102764  0.073226  "
      ]
     },
     "execution_count": 500,
     "metadata": {},
     "output_type": "execute_result"
    }
   ],
   "source": [
    "metrics_df"
   ]
  },
  {
   "cell_type": "code",
   "execution_count": 501,
   "metadata": {
    "ExecuteTime": {
     "end_time": "2020-09-09T08:13:03.503044Z",
     "start_time": "2020-09-09T07:16:14.325Z"
    }
   },
   "outputs": [],
   "source": [
    "metrics_df.to_csv(r'C:\\Users\\papad\\Desktop\\DISS WRITE\\d.csv', index = False)"
   ]
  },
  {
   "cell_type": "code",
   "execution_count": 502,
   "metadata": {
    "ExecuteTime": {
     "end_time": "2020-09-09T08:13:03.505037Z",
     "start_time": "2020-09-09T07:16:14.336Z"
    },
    "scrolled": true
   },
   "outputs": [
    {
     "name": "stdout",
     "output_type": "stream",
     "text": [
      "Index(['implicit_score', 'implicit_rank', 'svd_score', '#users_watched',\n",
      "       'new_user', 'svd_rank'],\n",
      "      dtype='object')\n",
      "6\n",
      "6\n",
      "a\n",
      "a\n"
     ]
    },
    {
     "data": {
      "image/png": "[encoded data removed]",
      "text/plain": [
       "<Figure size 1000x400 with 1 Axes>"
      ]
     },
     "metadata": {
      "needs_background": "light"
     },
     "output_type": "display_data"
    }
   ],
   "source": [
    "plot_feature_importances(features, importances)"
   ]
  },
  {
   "cell_type": "code",
   "execution_count": 503,
   "metadata": {
    "ExecuteTime": {
     "end_time": "2020-09-09T08:13:03.506033Z",
     "start_time": "2020-09-09T07:16:14.347Z"
    }
   },
   "outputs": [
    {
     "data": {
      "text/plain": [
       "array([613, 487, 610, 484,   0, 663])"
      ]
     },
     "execution_count": 503,
     "metadata": {},
     "output_type": "execute_result"
    }
   ],
   "source": [
    "importances"
   ]
  },
  {
   "cell_type": "markdown",
   "metadata": {
    "ExecuteTime": {
     "end_time": "2020-09-04T05:53:35.518838Z",
     "start_time": "2020-09-04T05:53:34.694949Z"
    }
   },
   "source": [
    "### First Embedding only"
   ]
  },
  {
   "cell_type": "code",
   "execution_count": 504,
   "metadata": {
    "ExecuteTime": {
     "end_time": "2020-09-09T08:13:03.509026Z",
     "start_time": "2020-09-09T07:16:14.361Z"
    }
   },
   "outputs": [],
   "source": [
    "features = np.stack((feature1, feature2, feature3, feature5, feature6,\n",
    "                     feature7[0], feature47))"
   ]
  },
  {
   "cell_type": "code",
   "execution_count": 505,
   "metadata": {
    "ExecuteTime": {
     "end_time": "2020-09-09T08:13:03.510026Z",
     "start_time": "2020-09-09T07:16:14.369Z"
    }
   },
   "outputs": [],
   "source": [
    "X_train, X_test, X_val = prepareXY(features)\n",
    "lgbm_pred_per_user, importances = lgbm_fit_predict(X_train, y_train, group_train, X_val, y_val, group_val, X_test)"
   ]
  },
  {
   "cell_type": "code",
   "execution_count": 506,
   "metadata": {
    "ExecuteTime": {
     "end_time": "2020-09-09T08:13:03.512018Z",
     "start_time": "2020-09-09T07:16:14.380Z"
    }
   },
   "outputs": [
    {
     "name": "stderr",
     "output_type": "stream",
     "text": [
      "C:\\Users\\papad\\Anaconda3\\lib\\site-packages\\ipykernel_launcher.py:2: RuntimeWarning: invalid value encountered in double_scalars\n",
      "  \n"
     ]
    },
    {
     "data": {
      "text/plain": [
       "0.28714730680063927"
      ]
     },
     "execution_count": 506,
     "metadata": {},
     "output_type": "execute_result"
    }
   ],
   "source": [
    "lgbm_NDCG = []\n",
    "lgbm_relevance_list = []\n",
    "for i in range(len(num_users)):\n",
    "    excel_df = pd.DataFrame({'movie_id': target_movies[i], 'implicit_score': feature1[i],\n",
    "                         'implicit_rank': feature2[i], 'svd_score': feature3[i],\n",
    "                         '#users_watched': feature5[i], 'new_user': feature6[i],\n",
    "                         'emedding1': feature7[0][i], 'svd_rank': feature47[i],\n",
    "                         'train_label': label_train[i], 'test_label': label_test[i],\n",
    "                         'y_val': label_val[i], 'LGBM Score': lgbm_pred_per_user[i]})\n",
    "    excel_df = excel_df.sort_values('LGBM Score', ascending=False)\n",
    "    relevance_lgbm_user = excel_df['test_label'].values.tolist()\n",
    "    lgbm_relevance_list.append(relevance_lgbm_user)\n",
    "    lgbm_NDCG.append(NDCG_forUser(relevance_lgbm_user))\n",
    "lgbm_NDCG = pd.Series(lgbm_NDCG).fillna(0).tolist()\n",
    "lgbm_NDCG = np.mean(lgbm_NDCG)\n",
    "lgbm_NDCG"
   ]
  },
  {
   "cell_type": "code",
   "execution_count": 507,
   "metadata": {
    "ExecuteTime": {
     "end_time": "2020-09-09T08:13:03.513016Z",
     "start_time": "2020-09-09T07:16:14.390Z"
    }
   },
   "outputs": [
    {
     "name": "stderr",
     "output_type": "stream",
     "text": [
      "C:\\Users\\papad\\Anaconda3\\lib\\site-packages\\ipykernel_launcher.py:17: RuntimeWarning: invalid value encountered in double_scalars\n"
     ]
    }
   ],
   "source": [
    "lgbm_mrr, lgbm_map = mrr_map(lgbm_relevance_list)"
   ]
  },
  {
   "cell_type": "code",
   "execution_count": 508,
   "metadata": {
    "ExecuteTime": {
     "end_time": "2020-09-09T08:13:03.514013Z",
     "start_time": "2020-09-09T07:16:14.399Z"
    }
   },
   "outputs": [],
   "source": [
    "metrics_df = compare_metrics(lgbm_NDCG, lgbm_mrr, lgbm_map)"
   ]
  },
  {
   "cell_type": "code",
   "execution_count": 509,
   "metadata": {
    "ExecuteTime": {
     "end_time": "2020-09-09T08:13:03.515010Z",
     "start_time": "2020-09-09T07:16:14.408Z"
    }
   },
   "outputs": [
    {
     "data": {
      "text/html": [
       "<div>\n",
       "<style scoped>\n",
       "    .dataframe tbody tr th:only-of-type {\n",
       "        vertical-align: middle;\n",
       "    }\n",
       "\n",
       "    .dataframe tbody tr th {\n",
       "        vertical-align: top;\n",
       "    }\n",
       "\n",
       "    .dataframe thead th {\n",
       "        text-align: right;\n",
       "    }\n",
       "</style>\n",
       "<table border=\"1\" class=\"dataframe\">\n",
       "  <thead>\n",
       "    <tr style=\"text-align: right;\">\n",
       "      <th></th>\n",
       "      <th>LightGBM_NDCG</th>\n",
       "      <th>IFM_NDCG</th>\n",
       "      <th>SVD_NDCG</th>\n",
       "      <th>LightGBM_MRR</th>\n",
       "      <th>IFM_MRR</th>\n",
       "      <th>SVD_MRR</th>\n",
       "      <th>LightGBM_MAP</th>\n",
       "      <th>IFM_MAP</th>\n",
       "      <th>SVD_MAP</th>\n",
       "    </tr>\n",
       "  </thead>\n",
       "  <tbody>\n",
       "    <tr>\n",
       "      <th>0</th>\n",
       "      <td>0.287147</td>\n",
       "      <td>0.301572</td>\n",
       "      <td>0.267402</td>\n",
       "      <td>0.185</td>\n",
       "      <td>0.206125</td>\n",
       "      <td>0.142137</td>\n",
       "      <td>0.085135</td>\n",
       "      <td>0.102764</td>\n",
       "      <td>0.073226</td>\n",
       "    </tr>\n",
       "  </tbody>\n",
       "</table>\n",
       "</div>"
      ],
      "text/plain": [
       "   LightGBM_NDCG  IFM_NDCG  SVD_NDCG  LightGBM_MRR   IFM_MRR   SVD_MRR  \\\n",
       "0       0.287147  0.301572  0.267402         0.185  0.206125  0.142137   \n",
       "\n",
       "   LightGBM_MAP   IFM_MAP   SVD_MAP  \n",
       "0      0.085135  0.102764  0.073226  "
      ]
     },
     "execution_count": 509,
     "metadata": {},
     "output_type": "execute_result"
    }
   ],
   "source": [
    "metrics_df"
   ]
  },
  {
   "cell_type": "code",
   "execution_count": 510,
   "metadata": {
    "ExecuteTime": {
     "end_time": "2020-09-09T08:13:03.516007Z",
     "start_time": "2020-09-09T07:16:14.417Z"
    }
   },
   "outputs": [],
   "source": [
    "metrics_df.to_csv(r'C:\\Users\\papad\\Desktop\\DISS WRITE\\d.csv', index = False)"
   ]
  },
  {
   "cell_type": "code",
   "execution_count": 511,
   "metadata": {
    "ExecuteTime": {
     "end_time": "2020-09-09T08:13:03.518031Z",
     "start_time": "2020-09-09T07:16:14.426Z"
    },
    "scrolled": true
   },
   "outputs": [
    {
     "name": "stdout",
     "output_type": "stream",
     "text": [
      "Index(['implicit_score', 'implicit_rank', 'svd_score', '#users_watched',\n",
      "       'new_user', 'emedding1', 'svd_rank'],\n",
      "      dtype='object')\n",
      "7\n",
      "7\n",
      "a\n",
      "a\n"
     ]
    },
    {
     "data": {
      "image/png": "[encoded data removed]",
      "text/plain": [
       "<Figure size 1000x400 with 1 Axes>"
      ]
     },
     "metadata": {
      "needs_background": "light"
     },
     "output_type": "display_data"
    }
   ],
   "source": [
    "plot_feature_importances(features, importances)"
   ]
  },
  {
   "cell_type": "code",
   "execution_count": 512,
   "metadata": {
    "ExecuteTime": {
     "end_time": "2020-09-09T08:13:03.519001Z",
     "start_time": "2020-09-09T07:16:14.435Z"
    }
   },
   "outputs": [
    {
     "data": {
      "text/plain": [
       "array([573, 455, 522, 363,   0, 374, 562])"
      ]
     },
     "execution_count": 512,
     "metadata": {},
     "output_type": "execute_result"
    }
   ],
   "source": [
    "importances"
   ]
  },
  {
   "cell_type": "markdown",
   "metadata": {},
   "source": [
    "## What is the impact of the items’rank on the effectiveness of amodel for item recommendations?"
   ]
  },
  {
   "cell_type": "markdown",
   "metadata": {
    "ExecuteTime": {
     "end_time": "2020-08-13T18:16:18.212676Z",
     "start_time": "2020-08-13T18:16:18.181880Z"
    }
   },
   "source": [
    "### No models' rank features"
   ]
  },
  {
   "cell_type": "code",
   "execution_count": 513,
   "metadata": {
    "ExecuteTime": {
     "end_time": "2020-09-09T08:13:03.519997Z",
     "start_time": "2020-09-09T07:16:14.451Z"
    }
   },
   "outputs": [],
   "source": [
    "features = np.stack((feature1, feature3, feature5, feature6,\n",
    "                     feature7[0], feature7[1], feature7[2], feature7[3],\n",
    "                     feature7[4], feature7[5], feature7[6], feature7[7],\n",
    "                     feature7[8], feature7[9], feature7[10], feature7[11],\n",
    "                     feature7[12], feature7[13], feature7[14], feature7[15],\n",
    "                     feature7[16], feature7[17], feature7[18], feature7[19],\n",
    "                     feature7[20], feature7[21], feature7[22], feature7[23],\n",
    "                     feature7[24], feature7[25], feature7[26], feature7[27],\n",
    "                     feature7[28], feature7[29], feature7[30], feature7[31]))"
   ]
  },
  {
   "cell_type": "code",
   "execution_count": 514,
   "metadata": {
    "ExecuteTime": {
     "end_time": "2020-09-09T08:13:03.520994Z",
     "start_time": "2020-09-09T07:16:14.461Z"
    }
   },
   "outputs": [],
   "source": [
    "X_train, X_test, X_val = prepareXY(features)\n",
    "lgbm_pred_per_user, importances = lgbm_fit_predict(X_train, y_train, group_train, X_val, y_val, group_val, X_test)"
   ]
  },
  {
   "cell_type": "code",
   "execution_count": 515,
   "metadata": {
    "ExecuteTime": {
     "end_time": "2020-09-09T08:13:03.521991Z",
     "start_time": "2020-09-09T07:16:14.471Z"
    }
   },
   "outputs": [
    {
     "name": "stderr",
     "output_type": "stream",
     "text": [
      "C:\\Users\\papad\\Anaconda3\\lib\\site-packages\\ipykernel_launcher.py:2: RuntimeWarning: invalid value encountered in double_scalars\n",
      "  \n"
     ]
    },
    {
     "data": {
      "text/plain": [
       "0.2861885461528827"
      ]
     },
     "execution_count": 515,
     "metadata": {},
     "output_type": "execute_result"
    }
   ],
   "source": [
    "lgbm_NDCG = []\n",
    "lgbm_relevance_list = []\n",
    "for i in range(len(num_users)):\n",
    "    excel_df = pd.DataFrame({'movie_id': target_movies[i], 'implicit_score': feature1[i],\n",
    "                         'svd_score': feature3[i], '#users_watched': feature5[i],\n",
    "                         'new_user': feature6[i],\n",
    "                         'emedding1': feature7[0][i], 'emedding2': feature7[1][i], 'emedding3': feature7[2][i],\n",
    "                         'emedding4': feature7[3][i], 'emedding5': feature7[4][i], 'emedding6': feature7[5][i],\n",
    "                         'emedding7': feature7[6][i], 'emedding8': feature7[7][i], 'emedding9': feature7[8][i],\n",
    "                         'emedding10': feature7[9][i], 'emedding11': feature7[10][i], 'emedding12': feature7[11][i],\n",
    "                         'emedding13': feature7[12][i], 'emedding14': feature7[13][i], 'emedding15': feature7[14][i],\n",
    "                         'emedding16': feature7[15][i], 'emedding17': feature7[16][i], 'emedding18': feature7[17][i],\n",
    "                         'emedding19': feature7[18][i], 'emedding20': feature7[19][i], 'emedding21': feature7[20][i],\n",
    "                         'emedding22': feature7[21][i], 'emedding23': feature7[22][i], 'emedding24': feature7[23][i],\n",
    "                         'emedding25': feature7[24][i], 'emedding26': feature7[25][i], 'emedding27': feature7[26][i],\n",
    "                         'emedding28': feature7[27][i], 'emedding29': feature7[28][i], 'emedding30': feature7[29][i],\n",
    "                         'emedding31': feature7[30][i], 'emedding32': feature7[31][i],\n",
    "                         'train_label': label_train[i], 'test_label': label_test[i],\n",
    "                         'y_val': label_val[i], 'LGBM Score': lgbm_pred_per_user[i]})\n",
    "    excel_df = excel_df.sort_values('LGBM Score', ascending=False)\n",
    "    relevance_lgbm_user = excel_df['test_label'].values.tolist()\n",
    "    lgbm_relevance_list.append(relevance_lgbm_user)\n",
    "    lgbm_NDCG.append(NDCG_forUser(relevance_lgbm_user))\n",
    "lgbm_NDCG = pd.Series(lgbm_NDCG).fillna(0).tolist()\n",
    "lgbm_NDCG = np.mean(lgbm_NDCG)\n",
    "lgbm_NDCG"
   ]
  },
  {
   "cell_type": "code",
   "execution_count": 516,
   "metadata": {
    "ExecuteTime": {
     "end_time": "2020-09-09T08:13:03.523986Z",
     "start_time": "2020-09-09T07:16:14.480Z"
    }
   },
   "outputs": [
    {
     "name": "stderr",
     "output_type": "stream",
     "text": [
      "C:\\Users\\papad\\Anaconda3\\lib\\site-packages\\ipykernel_launcher.py:17: RuntimeWarning: invalid value encountered in double_scalars\n"
     ]
    }
   ],
   "source": [
    "lgbm_mrr, lgbm_map = mrr_map(lgbm_relevance_list)"
   ]
  },
  {
   "cell_type": "code",
   "execution_count": 517,
   "metadata": {
    "ExecuteTime": {
     "end_time": "2020-09-09T08:13:03.524983Z",
     "start_time": "2020-09-09T07:16:14.490Z"
    }
   },
   "outputs": [],
   "source": [
    "metrics_df = compare_metrics(lgbm_NDCG, lgbm_mrr, lgbm_map)"
   ]
  },
  {
   "cell_type": "code",
   "execution_count": 518,
   "metadata": {
    "ExecuteTime": {
     "end_time": "2020-09-09T08:13:03.525981Z",
     "start_time": "2020-09-09T07:16:14.500Z"
    }
   },
   "outputs": [
    {
     "data": {
      "text/html": [
       "<div>\n",
       "<style scoped>\n",
       "    .dataframe tbody tr th:only-of-type {\n",
       "        vertical-align: middle;\n",
       "    }\n",
       "\n",
       "    .dataframe tbody tr th {\n",
       "        vertical-align: top;\n",
       "    }\n",
       "\n",
       "    .dataframe thead th {\n",
       "        text-align: right;\n",
       "    }\n",
       "</style>\n",
       "<table border=\"1\" class=\"dataframe\">\n",
       "  <thead>\n",
       "    <tr style=\"text-align: right;\">\n",
       "      <th></th>\n",
       "      <th>LightGBM_NDCG</th>\n",
       "      <th>IFM_NDCG</th>\n",
       "      <th>SVD_NDCG</th>\n",
       "      <th>LightGBM_MRR</th>\n",
       "      <th>IFM_MRR</th>\n",
       "      <th>SVD_MRR</th>\n",
       "      <th>LightGBM_MAP</th>\n",
       "      <th>IFM_MAP</th>\n",
       "      <th>SVD_MAP</th>\n",
       "    </tr>\n",
       "  </thead>\n",
       "  <tbody>\n",
       "    <tr>\n",
       "      <th>0</th>\n",
       "      <td>0.286189</td>\n",
       "      <td>0.301572</td>\n",
       "      <td>0.267402</td>\n",
       "      <td>0.159261</td>\n",
       "      <td>0.206125</td>\n",
       "      <td>0.142137</td>\n",
       "      <td>0.087879</td>\n",
       "      <td>0.102764</td>\n",
       "      <td>0.073226</td>\n",
       "    </tr>\n",
       "  </tbody>\n",
       "</table>\n",
       "</div>"
      ],
      "text/plain": [
       "   LightGBM_NDCG  IFM_NDCG  SVD_NDCG  LightGBM_MRR   IFM_MRR   SVD_MRR  \\\n",
       "0       0.286189  0.301572  0.267402      0.159261  0.206125  0.142137   \n",
       "\n",
       "   LightGBM_MAP   IFM_MAP   SVD_MAP  \n",
       "0      0.087879  0.102764  0.073226  "
      ]
     },
     "execution_count": 518,
     "metadata": {},
     "output_type": "execute_result"
    }
   ],
   "source": [
    "metrics_df"
   ]
  },
  {
   "cell_type": "code",
   "execution_count": 519,
   "metadata": {
    "ExecuteTime": {
     "end_time": "2020-09-09T08:13:03.527977Z",
     "start_time": "2020-09-09T07:16:14.510Z"
    }
   },
   "outputs": [],
   "source": [
    "metrics_df.to_csv(r'C:\\Users\\papad\\Desktop\\DISS WRITE\\d.csv', index = False)"
   ]
  },
  {
   "cell_type": "code",
   "execution_count": 520,
   "metadata": {
    "ExecuteTime": {
     "end_time": "2020-09-09T08:13:03.528974Z",
     "start_time": "2020-09-09T07:16:14.518Z"
    },
    "scrolled": true
   },
   "outputs": [
    {
     "name": "stdout",
     "output_type": "stream",
     "text": [
      "Index(['implicit_score', 'svd_score', '#users_watched', 'new_user',\n",
      "       'emedding1', 'emedding2', 'emedding3', 'emedding4', 'emedding5',\n",
      "       'emedding6', 'emedding7', 'emedding8', 'emedding9', 'emedding10',\n",
      "       'emedding11', 'emedding12', 'emedding13', 'emedding14', 'emedding15',\n",
      "       'emedding16', 'emedding17', 'emedding18', 'emedding19', 'emedding20',\n",
      "       'emedding21', 'emedding22', 'emedding23', 'emedding24', 'emedding25',\n",
      "       'emedding26', 'emedding27', 'emedding28', 'emedding29', 'emedding30',\n",
      "       'emedding31', 'emedding32'],\n",
      "      dtype='object')\n",
      "36\n",
      "36\n",
      "a\n",
      "a\n"
     ]
    },
    {
     "data": {
      "image/png": "[encoded data removed]",
      "text/plain": [
       "<Figure size 1000x400 with 1 Axes>"
      ]
     },
     "metadata": {
      "needs_background": "light"
     },
     "output_type": "display_data"
    }
   ],
   "source": [
    "plot_feature_importances(features, importances)"
   ]
  },
  {
   "cell_type": "code",
   "execution_count": 521,
   "metadata": {
    "ExecuteTime": {
     "end_time": "2020-09-09T08:13:03.529971Z",
     "start_time": "2020-09-09T07:16:14.528Z"
    }
   },
   "outputs": [
    {
     "data": {
      "text/plain": [
       "array([ 803, 1005,  585,    0,  586,    0,    0,    0,    0,    0,    0,\n",
       "          0,    0,    0,    0,    0,    0,    0,    0,    0,    0,    0,\n",
       "          0,    0,    0,    0,    0,    0,    0,    0,    0,    0,    0,\n",
       "          0,    0,    0])"
      ]
     },
     "execution_count": 521,
     "metadata": {},
     "output_type": "execute_result"
    }
   ],
   "source": [
    "importances"
   ]
  },
  {
   "cell_type": "markdown",
   "metadata": {},
   "source": [
    "### Without Implicit Rank"
   ]
  },
  {
   "cell_type": "code",
   "execution_count": 522,
   "metadata": {
    "ExecuteTime": {
     "end_time": "2020-09-09T08:13:03.530969Z",
     "start_time": "2020-09-09T07:16:14.541Z"
    }
   },
   "outputs": [],
   "source": [
    "features = np.stack((feature1, feature3, feature5, feature6,\n",
    "                     feature7[0], feature7[1], feature7[2], feature7[3],\n",
    "                     feature7[4], feature7[5], feature7[6], feature7[7],\n",
    "                     feature7[8], feature7[9], feature7[10], feature7[11],\n",
    "                     feature7[12], feature7[13], feature7[14], feature7[15],\n",
    "                     feature7[16], feature7[17], feature7[18], feature7[19],\n",
    "                     feature7[20], feature7[21], feature7[22], feature7[23],\n",
    "                     feature7[24], feature7[25], feature7[26], feature7[27],\n",
    "                     feature7[28], feature7[29], feature7[30], feature7[31],\n",
    "                     feature47))"
   ]
  },
  {
   "cell_type": "code",
   "execution_count": 523,
   "metadata": {
    "ExecuteTime": {
     "end_time": "2020-09-09T08:13:03.532964Z",
     "start_time": "2020-09-09T07:16:14.552Z"
    }
   },
   "outputs": [],
   "source": [
    "X_train, X_test, X_val = prepareXY(features)\n",
    "lgbm_pred_per_user, importances = lgbm_fit_predict(X_train, y_train, group_train, X_val, y_val, group_val, X_test)"
   ]
  },
  {
   "cell_type": "code",
   "execution_count": 524,
   "metadata": {
    "ExecuteTime": {
     "end_time": "2020-09-09T08:13:03.533961Z",
     "start_time": "2020-09-09T07:16:14.561Z"
    }
   },
   "outputs": [
    {
     "name": "stderr",
     "output_type": "stream",
     "text": [
      "C:\\Users\\papad\\Anaconda3\\lib\\site-packages\\ipykernel_launcher.py:2: RuntimeWarning: invalid value encountered in double_scalars\n",
      "  \n"
     ]
    },
    {
     "data": {
      "text/plain": [
       "0.287673332121986"
      ]
     },
     "execution_count": 524,
     "metadata": {},
     "output_type": "execute_result"
    }
   ],
   "source": [
    "lgbm_NDCG = []\n",
    "lgbm_relevance_list = []\n",
    "for i in range(len(num_users)):\n",
    "    excel_df = pd.DataFrame({'movie_id': target_movies[i], 'implicit_score': feature1[i],\n",
    "                         'svd_score': feature3[i],\n",
    "                         '#users_watched': feature5[i],\n",
    "                         'new_user': feature6[i],\n",
    "                         'emedding1': feature7[0][i], 'emedding2': feature7[1][i], 'emedding3': feature7[2][i],\n",
    "                         'emedding4': feature7[3][i], 'emedding5': feature7[4][i], 'emedding6': feature7[5][i],\n",
    "                         'emedding7': feature7[6][i], 'emedding8': feature7[7][i], 'emedding9': feature7[8][i],\n",
    "                         'emedding10': feature7[9][i], 'emedding11': feature7[10][i], 'emedding12': feature7[11][i],\n",
    "                         'emedding13': feature7[12][i], 'emedding14': feature7[13][i], 'emedding15': feature7[14][i],\n",
    "                         'emedding16': feature7[15][i], 'emedding17': feature7[16][i], 'emedding18': feature7[17][i],\n",
    "                         'emedding19': feature7[18][i], 'emedding20': feature7[19][i], 'emedding21': feature7[20][i],\n",
    "                         'emedding22': feature7[21][i], 'emedding23': feature7[22][i], 'emedding24': feature7[23][i],\n",
    "                         'emedding25': feature7[24][i], 'emedding26': feature7[25][i], 'emedding27': feature7[26][i],\n",
    "                         'emedding28': feature7[27][i], 'emedding29': feature7[28][i], 'emedding30': feature7[29][i],\n",
    "                         'emedding31': feature7[30][i], 'emedding32': feature7[31][i],\n",
    "                         'SVD_rank':feature47[i],\n",
    "                         'train_label': label_train[i], 'test_label': label_test[i],\n",
    "                         'y_val': label_val[i], 'LGBM Score': lgbm_pred_per_user[i]})\n",
    "    excel_df = excel_df.sort_values('LGBM Score', ascending=False)\n",
    "    relevance_lgbm_user = excel_df['test_label'].values.tolist()\n",
    "    lgbm_relevance_list.append(relevance_lgbm_user)\n",
    "    lgbm_NDCG.append(NDCG_forUser(relevance_lgbm_user))\n",
    "lgbm_NDCG = pd.Series(lgbm_NDCG).fillna(0).tolist()\n",
    "lgbm_NDCG = np.mean(lgbm_NDCG)\n",
    "lgbm_NDCG"
   ]
  },
  {
   "cell_type": "code",
   "execution_count": 525,
   "metadata": {
    "ExecuteTime": {
     "end_time": "2020-09-09T08:13:03.535957Z",
     "start_time": "2020-09-09T07:16:14.572Z"
    }
   },
   "outputs": [
    {
     "name": "stderr",
     "output_type": "stream",
     "text": [
      "C:\\Users\\papad\\Anaconda3\\lib\\site-packages\\ipykernel_launcher.py:17: RuntimeWarning: invalid value encountered in double_scalars\n"
     ]
    }
   ],
   "source": [
    "lgbm_mrr, lgbm_map = mrr_map(lgbm_relevance_list)"
   ]
  },
  {
   "cell_type": "code",
   "execution_count": 526,
   "metadata": {
    "ExecuteTime": {
     "end_time": "2020-09-09T08:13:03.536952Z",
     "start_time": "2020-09-09T07:16:14.581Z"
    }
   },
   "outputs": [],
   "source": [
    "metrics_df = compare_metrics(lgbm_NDCG, lgbm_mrr, lgbm_map)"
   ]
  },
  {
   "cell_type": "code",
   "execution_count": 527,
   "metadata": {
    "ExecuteTime": {
     "end_time": "2020-09-09T08:13:03.537949Z",
     "start_time": "2020-09-09T07:16:14.589Z"
    }
   },
   "outputs": [
    {
     "data": {
      "text/html": [
       "<div>\n",
       "<style scoped>\n",
       "    .dataframe tbody tr th:only-of-type {\n",
       "        vertical-align: middle;\n",
       "    }\n",
       "\n",
       "    .dataframe tbody tr th {\n",
       "        vertical-align: top;\n",
       "    }\n",
       "\n",
       "    .dataframe thead th {\n",
       "        text-align: right;\n",
       "    }\n",
       "</style>\n",
       "<table border=\"1\" class=\"dataframe\">\n",
       "  <thead>\n",
       "    <tr style=\"text-align: right;\">\n",
       "      <th></th>\n",
       "      <th>LightGBM_NDCG</th>\n",
       "      <th>IFM_NDCG</th>\n",
       "      <th>SVD_NDCG</th>\n",
       "      <th>LightGBM_MRR</th>\n",
       "      <th>IFM_MRR</th>\n",
       "      <th>SVD_MRR</th>\n",
       "      <th>LightGBM_MAP</th>\n",
       "      <th>IFM_MAP</th>\n",
       "      <th>SVD_MAP</th>\n",
       "    </tr>\n",
       "  </thead>\n",
       "  <tbody>\n",
       "    <tr>\n",
       "      <th>0</th>\n",
       "      <td>0.287673</td>\n",
       "      <td>0.301572</td>\n",
       "      <td>0.267402</td>\n",
       "      <td>0.169355</td>\n",
       "      <td>0.206125</td>\n",
       "      <td>0.142137</td>\n",
       "      <td>0.088477</td>\n",
       "      <td>0.102764</td>\n",
       "      <td>0.073226</td>\n",
       "    </tr>\n",
       "  </tbody>\n",
       "</table>\n",
       "</div>"
      ],
      "text/plain": [
       "   LightGBM_NDCG  IFM_NDCG  SVD_NDCG  LightGBM_MRR   IFM_MRR   SVD_MRR  \\\n",
       "0       0.287673  0.301572  0.267402      0.169355  0.206125  0.142137   \n",
       "\n",
       "   LightGBM_MAP   IFM_MAP   SVD_MAP  \n",
       "0      0.088477  0.102764  0.073226  "
      ]
     },
     "execution_count": 527,
     "metadata": {},
     "output_type": "execute_result"
    }
   ],
   "source": [
    "metrics_df"
   ]
  },
  {
   "cell_type": "code",
   "execution_count": 528,
   "metadata": {
    "ExecuteTime": {
     "end_time": "2020-09-09T08:13:03.539946Z",
     "start_time": "2020-09-09T07:16:14.598Z"
    }
   },
   "outputs": [],
   "source": [
    "metrics_df.to_csv(r'C:\\Users\\papad\\Desktop\\DISS WRITE\\d.csv', index = False)"
   ]
  },
  {
   "cell_type": "code",
   "execution_count": 529,
   "metadata": {
    "ExecuteTime": {
     "end_time": "2020-09-09T08:13:03.540943Z",
     "start_time": "2020-09-09T07:16:14.607Z"
    },
    "scrolled": true
   },
   "outputs": [
    {
     "name": "stdout",
     "output_type": "stream",
     "text": [
      "Index(['implicit_score', 'svd_score', '#users_watched', 'new_user',\n",
      "       'emedding1', 'emedding2', 'emedding3', 'emedding4', 'emedding5',\n",
      "       'emedding6', 'emedding7', 'emedding8', 'emedding9', 'emedding10',\n",
      "       'emedding11', 'emedding12', 'emedding13', 'emedding14', 'emedding15',\n",
      "       'emedding16', 'emedding17', 'emedding18', 'emedding19', 'emedding20',\n",
      "       'emedding21', 'emedding22', 'emedding23', 'emedding24', 'emedding25',\n",
      "       'emedding26', 'emedding27', 'emedding28', 'emedding29', 'emedding30',\n",
      "       'emedding31', 'emedding32', 'SVD_rank'],\n",
      "      dtype='object')\n",
      "37\n",
      "37\n",
      "a\n",
      "a\n"
     ]
    },
    {
     "data": {
      "image/png": "[encoded data removed]",
      "text/plain": [
       "<Figure size 1000x400 with 1 Axes>"
      ]
     },
     "metadata": {
      "needs_background": "light"
     },
     "output_type": "display_data"
    }
   ],
   "source": [
    "plot_feature_importances(features, importances)"
   ]
  },
  {
   "cell_type": "code",
   "execution_count": 530,
   "metadata": {
    "ExecuteTime": {
     "end_time": "2020-09-09T08:13:03.542937Z",
     "start_time": "2020-09-09T07:16:14.616Z"
    }
   },
   "outputs": [
    {
     "data": {
      "text/plain": [
       "array([643, 684, 465,   0, 468,   0,   0,   0,   0,   0,   0,   0,   0,\n",
       "         0,   0,   0,   0,   0,   0,   0,   0,   0,   0,   0,   0,   0,\n",
       "         0,   0,   0,   0,   0,   0,   0,   0,   0,   0, 751])"
      ]
     },
     "execution_count": 530,
     "metadata": {},
     "output_type": "execute_result"
    }
   ],
   "source": [
    "importances"
   ]
  },
  {
   "cell_type": "markdown",
   "metadata": {},
   "source": [
    "### Without SVD Rank"
   ]
  },
  {
   "cell_type": "code",
   "execution_count": 531,
   "metadata": {
    "ExecuteTime": {
     "end_time": "2020-09-09T08:13:03.544948Z",
     "start_time": "2020-09-09T07:16:14.626Z"
    }
   },
   "outputs": [],
   "source": [
    "features = np.stack((feature1, feature2, feature3, feature5, feature6,\n",
    "                     feature7[0], feature7[1], feature7[2], feature7[3],\n",
    "                     feature7[4], feature7[5], feature7[6], feature7[7],\n",
    "                     feature7[8], feature7[9], feature7[10], feature7[11],\n",
    "                     feature7[12], feature7[13], feature7[14], feature7[15],\n",
    "                     feature7[16], feature7[17], feature7[18], feature7[19],\n",
    "                     feature7[20], feature7[21], feature7[22], feature7[23],\n",
    "                     feature7[24], feature7[25], feature7[26], feature7[27],\n",
    "                     feature7[28], feature7[29], feature7[30], feature7[31]))"
   ]
  },
  {
   "cell_type": "code",
   "execution_count": 532,
   "metadata": {
    "ExecuteTime": {
     "end_time": "2020-09-09T08:13:03.545961Z",
     "start_time": "2020-09-09T07:16:14.634Z"
    }
   },
   "outputs": [],
   "source": [
    "X_train, X_test, X_val = prepareXY(features)\n",
    "lgbm_pred_per_user, importances = lgbm_fit_predict(X_train, y_train, group_train, X_val, y_val, group_val, X_test)"
   ]
  },
  {
   "cell_type": "code",
   "execution_count": 533,
   "metadata": {
    "ExecuteTime": {
     "end_time": "2020-09-09T08:13:03.546928Z",
     "start_time": "2020-09-09T07:16:14.644Z"
    }
   },
   "outputs": [
    {
     "name": "stderr",
     "output_type": "stream",
     "text": [
      "C:\\Users\\papad\\Anaconda3\\lib\\site-packages\\ipykernel_launcher.py:2: RuntimeWarning: invalid value encountered in double_scalars\n",
      "  \n"
     ]
    },
    {
     "data": {
      "text/plain": [
       "0.28788183137600193"
      ]
     },
     "execution_count": 533,
     "metadata": {},
     "output_type": "execute_result"
    }
   ],
   "source": [
    "lgbm_NDCG = []\n",
    "lgbm_relevance_list = []\n",
    "for i in range(len(num_users)):\n",
    "    excel_df = pd.DataFrame({'movie_id': target_movies[i], 'implicit_score': feature1[i],\n",
    "                             'implicit_rank': feature2[i], 'svd_score': feature3[i],\n",
    "                             '#users_watched': feature5[i],\n",
    "                             'new_user': feature6[i],\n",
    "                             'emedding1': feature7[0][i], 'emedding2': feature7[1][i], 'emedding3': feature7[2][i],\n",
    "                             'emedding4': feature7[3][i], 'emedding5': feature7[4][i], 'emedding6': feature7[5][i],\n",
    "                             'emedding7': feature7[6][i], 'emedding8': feature7[7][i], 'emedding9': feature7[8][i],\n",
    "                             'emedding10': feature7[9][i], 'emedding11': feature7[10][i], 'emedding12': feature7[11][i],\n",
    "                             'emedding13': feature7[12][i], 'emedding14': feature7[13][i], 'emedding15': feature7[14][i],\n",
    "                             'emedding16': feature7[15][i], 'emedding17': feature7[16][i], 'emedding18': feature7[17][i],\n",
    "                             'emedding19': feature7[18][i], 'emedding20': feature7[19][i], 'emedding21': feature7[20][i],\n",
    "                             'emedding22': feature7[21][i], 'emedding23': feature7[22][i], 'emedding24': feature7[23][i],\n",
    "                             'emedding25': feature7[24][i], 'emedding26': feature7[25][i], 'emedding27': feature7[26][i],\n",
    "                             'emedding28': feature7[27][i], 'emedding29': feature7[28][i], 'emedding30': feature7[29][i],\n",
    "                             'emedding31': feature7[30][i], 'emedding32': feature7[31][i],\n",
    "                             'train_label': label_train[i], 'test_label': label_test[i],\n",
    "                             'y_val': label_val[i], 'LGBM Score': lgbm_pred_per_user[i]})\n",
    "    excel_df = excel_df.sort_values('LGBM Score', ascending=False)\n",
    "    relevance_lgbm_user = excel_df['test_label'].values.tolist()\n",
    "    lgbm_relevance_list.append(relevance_lgbm_user)\n",
    "    lgbm_NDCG.append(NDCG_forUser(relevance_lgbm_user))\n",
    "lgbm_NDCG = pd.Series(lgbm_NDCG).fillna(0).tolist()\n",
    "lgbm_NDCG = np.mean(lgbm_NDCG)\n",
    "lgbm_NDCG"
   ]
  },
  {
   "cell_type": "code",
   "execution_count": 534,
   "metadata": {
    "ExecuteTime": {
     "end_time": "2020-09-09T08:13:03.547922Z",
     "start_time": "2020-09-09T07:16:14.653Z"
    }
   },
   "outputs": [
    {
     "name": "stderr",
     "output_type": "stream",
     "text": [
      "C:\\Users\\papad\\Anaconda3\\lib\\site-packages\\ipykernel_launcher.py:17: RuntimeWarning: invalid value encountered in double_scalars\n"
     ]
    }
   ],
   "source": [
    "lgbm_mrr, lgbm_map = mrr_map(lgbm_relevance_list)"
   ]
  },
  {
   "cell_type": "code",
   "execution_count": 535,
   "metadata": {
    "ExecuteTime": {
     "end_time": "2020-09-09T08:13:03.548920Z",
     "start_time": "2020-09-09T07:16:14.661Z"
    }
   },
   "outputs": [],
   "source": [
    "metrics_df = compare_metrics(lgbm_NDCG, lgbm_mrr, lgbm_map)"
   ]
  },
  {
   "cell_type": "code",
   "execution_count": 536,
   "metadata": {
    "ExecuteTime": {
     "end_time": "2020-09-09T08:13:03.550915Z",
     "start_time": "2020-09-09T07:16:14.669Z"
    }
   },
   "outputs": [
    {
     "data": {
      "text/html": [
       "<div>\n",
       "<style scoped>\n",
       "    .dataframe tbody tr th:only-of-type {\n",
       "        vertical-align: middle;\n",
       "    }\n",
       "\n",
       "    .dataframe tbody tr th {\n",
       "        vertical-align: top;\n",
       "    }\n",
       "\n",
       "    .dataframe thead th {\n",
       "        text-align: right;\n",
       "    }\n",
       "</style>\n",
       "<table border=\"1\" class=\"dataframe\">\n",
       "  <thead>\n",
       "    <tr style=\"text-align: right;\">\n",
       "      <th></th>\n",
       "      <th>LightGBM_NDCG</th>\n",
       "      <th>IFM_NDCG</th>\n",
       "      <th>SVD_NDCG</th>\n",
       "      <th>LightGBM_MRR</th>\n",
       "      <th>IFM_MRR</th>\n",
       "      <th>SVD_MRR</th>\n",
       "      <th>LightGBM_MAP</th>\n",
       "      <th>IFM_MAP</th>\n",
       "      <th>SVD_MAP</th>\n",
       "    </tr>\n",
       "  </thead>\n",
       "  <tbody>\n",
       "    <tr>\n",
       "      <th>0</th>\n",
       "      <td>0.287882</td>\n",
       "      <td>0.301572</td>\n",
       "      <td>0.267402</td>\n",
       "      <td>0.180427</td>\n",
       "      <td>0.206125</td>\n",
       "      <td>0.142137</td>\n",
       "      <td>0.0863</td>\n",
       "      <td>0.102764</td>\n",
       "      <td>0.073226</td>\n",
       "    </tr>\n",
       "  </tbody>\n",
       "</table>\n",
       "</div>"
      ],
      "text/plain": [
       "   LightGBM_NDCG  IFM_NDCG  SVD_NDCG  LightGBM_MRR   IFM_MRR   SVD_MRR  \\\n",
       "0       0.287882  0.301572  0.267402      0.180427  0.206125  0.142137   \n",
       "\n",
       "   LightGBM_MAP   IFM_MAP   SVD_MAP  \n",
       "0        0.0863  0.102764  0.073226  "
      ]
     },
     "execution_count": 536,
     "metadata": {},
     "output_type": "execute_result"
    }
   ],
   "source": [
    "metrics_df"
   ]
  },
  {
   "cell_type": "code",
   "execution_count": 537,
   "metadata": {
    "ExecuteTime": {
     "end_time": "2020-09-09T08:13:03.551912Z",
     "start_time": "2020-09-09T07:16:14.679Z"
    }
   },
   "outputs": [],
   "source": [
    "metrics_df.to_csv(r'C:\\Users\\papad\\Desktop\\DISS WRITE\\d.csv', index = False)"
   ]
  },
  {
   "cell_type": "code",
   "execution_count": 538,
   "metadata": {
    "ExecuteTime": {
     "end_time": "2020-09-09T08:13:03.552910Z",
     "start_time": "2020-09-09T07:16:14.689Z"
    },
    "scrolled": true
   },
   "outputs": [
    {
     "name": "stdout",
     "output_type": "stream",
     "text": [
      "Index(['implicit_score', 'implicit_rank', 'svd_score', '#users_watched',\n",
      "       'new_user', 'emedding1', 'emedding2', 'emedding3', 'emedding4',\n",
      "       'emedding5', 'emedding6', 'emedding7', 'emedding8', 'emedding9',\n",
      "       'emedding10', 'emedding11', 'emedding12', 'emedding13', 'emedding14',\n",
      "       'emedding15', 'emedding16', 'emedding17', 'emedding18', 'emedding19',\n",
      "       'emedding20', 'emedding21', 'emedding22', 'emedding23', 'emedding24',\n",
      "       'emedding25', 'emedding26', 'emedding27', 'emedding28', 'emedding29',\n",
      "       'emedding30', 'emedding31', 'emedding32'],\n",
      "      dtype='object')\n",
      "37\n",
      "37\n",
      "a\n",
      "a\n"
     ]
    },
    {
     "data": {
      "image/png": "[encoded data removed]",
      "text/plain": [
       "<Figure size 1000x400 with 1 Axes>"
      ]
     },
     "metadata": {
      "needs_background": "light"
     },
     "output_type": "display_data"
    }
   ],
   "source": [
    "plot_feature_importances(features, importances)"
   ]
  },
  {
   "cell_type": "code",
   "execution_count": 539,
   "metadata": {
    "ExecuteTime": {
     "end_time": "2020-09-09T08:13:03.554903Z",
     "start_time": "2020-09-09T07:16:14.697Z"
    }
   },
   "outputs": [
    {
     "data": {
      "text/plain": [
       "array([654, 533, 779, 445,   0, 431,   0,   0,   0,   0,   0,   0,   0,\n",
       "         0,   0,   0,   0,   0,   0,   0,   0,   0,   0,   0,   0,   0,\n",
       "         0,   0,   0,   0,   0,   0,   0,   0,   0,   0,   0])"
      ]
     },
     "execution_count": 539,
     "metadata": {},
     "output_type": "execute_result"
    }
   ],
   "source": [
    "importances"
   ]
  },
  {
   "cell_type": "markdown",
   "metadata": {},
   "source": [
    "## What is the impact of the baseline scores?"
   ]
  },
  {
   "cell_type": "markdown",
   "metadata": {},
   "source": [
    "### No models' scores"
   ]
  },
  {
   "cell_type": "code",
   "execution_count": 540,
   "metadata": {
    "ExecuteTime": {
     "end_time": "2020-09-09T08:13:03.555903Z",
     "start_time": "2020-09-09T07:16:14.710Z"
    }
   },
   "outputs": [],
   "source": [
    "features = np.stack((feature2, feature5, feature6,\n",
    "                     feature7[0], feature7[1], feature7[2], feature7[3],\n",
    "                     feature7[4], feature7[5], feature7[6], feature7[7],\n",
    "                     feature7[8], feature7[9], feature7[10], feature7[11],\n",
    "                     feature7[12], feature7[13], feature7[14], feature7[15],\n",
    "                     feature7[16], feature7[17], feature7[18], feature7[19],\n",
    "                     feature7[20], feature7[21], feature7[22], feature7[23],\n",
    "                     feature7[24], feature7[25], feature7[26], feature7[27],\n",
    "                     feature7[28], feature7[29], feature7[30], feature7[31],\n",
    "                     feature47))"
   ]
  },
  {
   "cell_type": "code",
   "execution_count": 541,
   "metadata": {
    "ExecuteTime": {
     "end_time": "2020-09-09T08:13:03.556898Z",
     "start_time": "2020-09-09T07:16:14.719Z"
    }
   },
   "outputs": [],
   "source": [
    "X_train, X_test, X_val = prepareXY(features)\n",
    "lgbm_pred_per_user, importances = lgbm_fit_predict(X_train, y_train, group_train, X_val, y_val, group_val, X_test)"
   ]
  },
  {
   "cell_type": "code",
   "execution_count": 542,
   "metadata": {
    "ExecuteTime": {
     "end_time": "2020-09-09T08:13:03.558893Z",
     "start_time": "2020-09-09T07:16:14.728Z"
    }
   },
   "outputs": [
    {
     "name": "stderr",
     "output_type": "stream",
     "text": [
      "C:\\Users\\papad\\Anaconda3\\lib\\site-packages\\ipykernel_launcher.py:2: RuntimeWarning: invalid value encountered in double_scalars\n",
      "  \n"
     ]
    },
    {
     "data": {
      "text/plain": [
       "0.289748565353558"
      ]
     },
     "execution_count": 542,
     "metadata": {},
     "output_type": "execute_result"
    }
   ],
   "source": [
    "lgbm_NDCG = []\n",
    "lgbm_relevance_list = []\n",
    "for i in range(len(num_users)):\n",
    "    excel_df = pd.DataFrame({'movie_id': target_movies[i], 'IFM_rank': feature2[i],\n",
    "                             '#users_watched': feature5[i],\n",
    "                             'new_user': feature6[i],\n",
    "                             'emedding1': feature7[0][i], 'emedding2': feature7[1][i], 'emedding3': feature7[2][i],\n",
    "                             'emedding4': feature7[3][i], 'emedding5': feature7[4][i], 'emedding6': feature7[5][i],\n",
    "                             'emedding7': feature7[6][i], 'emedding8': feature7[7][i], 'emedding9': feature7[8][i],\n",
    "                             'emedding10': feature7[9][i], 'emedding11': feature7[10][i], 'emedding12': feature7[11][i],\n",
    "                             'emedding13': feature7[12][i], 'emedding14': feature7[13][i], 'emedding15': feature7[14][i],\n",
    "                             'emedding16': feature7[15][i], 'emedding17': feature7[16][i], 'emedding18': feature7[17][i],\n",
    "                             'emedding19': feature7[18][i], 'emedding20': feature7[19][i], 'emedding21': feature7[20][i],\n",
    "                             'emedding22': feature7[21][i], 'emedding23': feature7[22][i], 'emedding24': feature7[23][i],\n",
    "                             'emedding25': feature7[24][i], 'emedding26': feature7[25][i], 'emedding27': feature7[26][i],\n",
    "                             'emedding28': feature7[27][i], 'emedding29': feature7[28][i], 'emedding30': feature7[29][i],\n",
    "                             'emedding31': feature7[30][i], 'emedding32': feature7[31][i],\n",
    "                             'SVD_rank':feature47[i],\n",
    "                             'train_label': label_train[i], 'test_label': label_test[i],\n",
    "                             'y_val': label_val[i], 'LGBM Score': lgbm_pred_per_user[i]})\n",
    "    excel_df = excel_df.sort_values('LGBM Score', ascending=False)\n",
    "    relevance_lgbm_user = excel_df['test_label'].values.tolist()\n",
    "    lgbm_relevance_list.append(relevance_lgbm_user)\n",
    "    lgbm_NDCG.append(NDCG_forUser(relevance_lgbm_user))\n",
    "lgbm_NDCG = pd.Series(lgbm_NDCG).fillna(0).tolist()\n",
    "lgbm_NDCG = np.mean(lgbm_NDCG)\n",
    "lgbm_NDCG"
   ]
  },
  {
   "cell_type": "code",
   "execution_count": 543,
   "metadata": {
    "ExecuteTime": {
     "end_time": "2020-09-09T08:13:03.559890Z",
     "start_time": "2020-09-09T07:16:14.736Z"
    }
   },
   "outputs": [
    {
     "name": "stderr",
     "output_type": "stream",
     "text": [
      "C:\\Users\\papad\\Anaconda3\\lib\\site-packages\\ipykernel_launcher.py:17: RuntimeWarning: invalid value encountered in double_scalars\n"
     ]
    }
   ],
   "source": [
    "lgbm_mrr, lgbm_map = mrr_map(lgbm_relevance_list)"
   ]
  },
  {
   "cell_type": "code",
   "execution_count": 544,
   "metadata": {
    "ExecuteTime": {
     "end_time": "2020-09-09T08:13:03.560888Z",
     "start_time": "2020-09-09T07:16:14.745Z"
    }
   },
   "outputs": [],
   "source": [
    "metrics_df = compare_metrics(lgbm_NDCG, lgbm_mrr, lgbm_map)"
   ]
  },
  {
   "cell_type": "code",
   "execution_count": 545,
   "metadata": {
    "ExecuteTime": {
     "end_time": "2020-09-09T08:13:03.561885Z",
     "start_time": "2020-09-09T07:16:14.755Z"
    }
   },
   "outputs": [
    {
     "data": {
      "text/html": [
       "<div>\n",
       "<style scoped>\n",
       "    .dataframe tbody tr th:only-of-type {\n",
       "        vertical-align: middle;\n",
       "    }\n",
       "\n",
       "    .dataframe tbody tr th {\n",
       "        vertical-align: top;\n",
       "    }\n",
       "\n",
       "    .dataframe thead th {\n",
       "        text-align: right;\n",
       "    }\n",
       "</style>\n",
       "<table border=\"1\" class=\"dataframe\">\n",
       "  <thead>\n",
       "    <tr style=\"text-align: right;\">\n",
       "      <th></th>\n",
       "      <th>LightGBM_NDCG</th>\n",
       "      <th>IFM_NDCG</th>\n",
       "      <th>SVD_NDCG</th>\n",
       "      <th>LightGBM_MRR</th>\n",
       "      <th>IFM_MRR</th>\n",
       "      <th>SVD_MRR</th>\n",
       "      <th>LightGBM_MAP</th>\n",
       "      <th>IFM_MAP</th>\n",
       "      <th>SVD_MAP</th>\n",
       "    </tr>\n",
       "  </thead>\n",
       "  <tbody>\n",
       "    <tr>\n",
       "      <th>0</th>\n",
       "      <td>0.289749</td>\n",
       "      <td>0.301572</td>\n",
       "      <td>0.267402</td>\n",
       "      <td>0.19451</td>\n",
       "      <td>0.206125</td>\n",
       "      <td>0.142137</td>\n",
       "      <td>0.087382</td>\n",
       "      <td>0.102764</td>\n",
       "      <td>0.073226</td>\n",
       "    </tr>\n",
       "  </tbody>\n",
       "</table>\n",
       "</div>"
      ],
      "text/plain": [
       "   LightGBM_NDCG  IFM_NDCG  SVD_NDCG  LightGBM_MRR   IFM_MRR   SVD_MRR  \\\n",
       "0       0.289749  0.301572  0.267402       0.19451  0.206125  0.142137   \n",
       "\n",
       "   LightGBM_MAP   IFM_MAP   SVD_MAP  \n",
       "0      0.087382  0.102764  0.073226  "
      ]
     },
     "execution_count": 545,
     "metadata": {},
     "output_type": "execute_result"
    }
   ],
   "source": [
    "metrics_df"
   ]
  },
  {
   "cell_type": "code",
   "execution_count": 546,
   "metadata": {
    "ExecuteTime": {
     "end_time": "2020-09-09T08:13:03.563880Z",
     "start_time": "2020-09-09T07:16:14.764Z"
    }
   },
   "outputs": [],
   "source": [
    "metrics_df.to_csv(r'C:\\Users\\papad\\Desktop\\DISS WRITE\\d.csv', index = False)"
   ]
  },
  {
   "cell_type": "code",
   "execution_count": 547,
   "metadata": {
    "ExecuteTime": {
     "end_time": "2020-09-09T08:13:03.565877Z",
     "start_time": "2020-09-09T07:16:14.774Z"
    },
    "scrolled": true
   },
   "outputs": [
    {
     "name": "stdout",
     "output_type": "stream",
     "text": [
      "Index(['IFM_rank', '#users_watched', 'new_user', 'emedding1', 'emedding2',\n",
      "       'emedding3', 'emedding4', 'emedding5', 'emedding6', 'emedding7',\n",
      "       'emedding8', 'emedding9', 'emedding10', 'emedding11', 'emedding12',\n",
      "       'emedding13', 'emedding14', 'emedding15', 'emedding16', 'emedding17',\n",
      "       'emedding18', 'emedding19', 'emedding20', 'emedding21', 'emedding22',\n",
      "       'emedding23', 'emedding24', 'emedding25', 'emedding26', 'emedding27',\n",
      "       'emedding28', 'emedding29', 'emedding30', 'emedding31', 'emedding32',\n",
      "       'SVD_rank'],\n",
      "      dtype='object')\n",
      "36\n",
      "36\n",
      "a\n",
      "a\n"
     ]
    },
    {
     "data": {
      "image/png": "[encoded data removed]",
      "text/plain": [
       "<Figure size 1000x400 with 1 Axes>"
      ]
     },
     "metadata": {
      "needs_background": "light"
     },
     "output_type": "display_data"
    }
   ],
   "source": [
    "plot_feature_importances(features, importances)"
   ]
  },
  {
   "cell_type": "code",
   "execution_count": 548,
   "metadata": {
    "ExecuteTime": {
     "end_time": "2020-09-09T08:13:03.567905Z",
     "start_time": "2020-09-09T07:16:14.783Z"
    }
   },
   "outputs": [
    {
     "data": {
      "text/plain": [
       "array([ 690,  535,    0,  516,    0,    0,    0,    0,    0,    0,    0,\n",
       "          0,    0,    0,    0,    0,    0,    0,    0,    0,    0,    0,\n",
       "          0,    0,    0,    0,    0,    0,    0,    0,    0,    0,    0,\n",
       "          0,    0, 1033])"
      ]
     },
     "execution_count": 548,
     "metadata": {},
     "output_type": "execute_result"
    }
   ],
   "source": [
    "importances"
   ]
  },
  {
   "cell_type": "markdown",
   "metadata": {},
   "source": [
    "### Without IFM's score"
   ]
  },
  {
   "cell_type": "code",
   "execution_count": 549,
   "metadata": {
    "ExecuteTime": {
     "end_time": "2020-09-09T08:13:03.568867Z",
     "start_time": "2020-09-09T07:16:14.795Z"
    }
   },
   "outputs": [],
   "source": [
    "features = np.stack((feature2, feature3,feature5, feature6,\n",
    "                     feature7[0], feature7[1], feature7[2], feature7[3],\n",
    "                     feature7[4], feature7[5], feature7[6], feature7[7],\n",
    "                     feature7[8], feature7[9], feature7[10], feature7[11],\n",
    "                     feature7[12], feature7[13], feature7[14], feature7[15],\n",
    "                     feature7[16], feature7[17], feature7[18], feature7[19],\n",
    "                     feature7[20], feature7[21], feature7[22], feature7[23],\n",
    "                     feature7[24], feature7[25], feature7[26], feature7[27],\n",
    "                     feature7[28], feature7[29], feature7[30], feature7[31],\n",
    "                     feature47))"
   ]
  },
  {
   "cell_type": "code",
   "execution_count": 550,
   "metadata": {
    "ExecuteTime": {
     "end_time": "2020-09-09T08:13:03.569867Z",
     "start_time": "2020-09-09T07:16:14.805Z"
    }
   },
   "outputs": [],
   "source": [
    "X_train, X_test, X_val = prepareXY(features)\n",
    "lgbm_pred_per_user, importances = lgbm_fit_predict(X_train, y_train, group_train, X_val, y_val, group_val, X_test)"
   ]
  },
  {
   "cell_type": "code",
   "execution_count": 551,
   "metadata": {
    "ExecuteTime": {
     "end_time": "2020-09-09T08:13:03.570864Z",
     "start_time": "2020-09-09T07:16:14.814Z"
    }
   },
   "outputs": [
    {
     "name": "stderr",
     "output_type": "stream",
     "text": [
      "C:\\Users\\papad\\Anaconda3\\lib\\site-packages\\ipykernel_launcher.py:2: RuntimeWarning: invalid value encountered in double_scalars\n",
      "  \n"
     ]
    },
    {
     "data": {
      "text/plain": [
       "0.2885449570125066"
      ]
     },
     "execution_count": 551,
     "metadata": {},
     "output_type": "execute_result"
    }
   ],
   "source": [
    "lgbm_NDCG = []\n",
    "lgbm_relevance_list = []\n",
    "for i in range(len(num_users)):\n",
    "    excel_df = pd.DataFrame({'movie_id': target_movies[i], 'ifm_rank':feature2[i],\n",
    "                         'model2_score': feature3[i],\n",
    "                         '#users_watched': feature5[i],\n",
    "                         'new_user': feature6[i],\n",
    "                         'emedding1': feature7[0][i], 'emedding2': feature7[1][i], 'emedding3': feature7[2][i],\n",
    "                         'emedding4': feature7[3][i], 'emedding5': feature7[4][i], 'emedding6': feature7[5][i],\n",
    "                         'emedding7': feature7[6][i], 'emedding8': feature7[7][i], 'emedding9': feature7[8][i],\n",
    "                         'emedding10': feature7[9][i], 'emedding11': feature7[10][i], 'emedding12': feature7[11][i],\n",
    "                         'emedding13': feature7[12][i], 'emedding14': feature7[13][i], 'emedding15': feature7[14][i],\n",
    "                         'emedding16': feature7[15][i], 'emedding17': feature7[16][i], 'emedding18': feature7[17][i],\n",
    "                         'emedding19': feature7[18][i], 'emedding20': feature7[19][i], 'emedding21': feature7[20][i],\n",
    "                         'emedding22': feature7[21][i], 'emedding23': feature7[22][i], 'emedding24': feature7[23][i],\n",
    "                         'emedding25': feature7[24][i], 'emedding26': feature7[25][i], 'emedding27': feature7[26][i],\n",
    "                         'emedding28': feature7[27][i], 'emedding29': feature7[28][i], 'emedding30': feature7[29][i],\n",
    "                         'emedding31': feature7[30][i], 'emedding32': feature7[31][i],\n",
    "                         'SVD_rank':feature47[i],\n",
    "                         'train_label': label_train[i], 'test_label': label_test[i],\n",
    "                         'y_val': label_val[i], 'LGBM Score': lgbm_pred_per_user[i]})\n",
    "    excel_df = excel_df.sort_values('LGBM Score', ascending=False)\n",
    "    relevance_lgbm_user = excel_df['test_label'].values.tolist()\n",
    "    lgbm_relevance_list.append(relevance_lgbm_user)\n",
    "    lgbm_NDCG.append(NDCG_forUser(relevance_lgbm_user))\n",
    "lgbm_NDCG = pd.Series(lgbm_NDCG).fillna(0).tolist()\n",
    "lgbm_NDCG = np.mean(lgbm_NDCG)\n",
    "lgbm_NDCG"
   ]
  },
  {
   "cell_type": "code",
   "execution_count": 552,
   "metadata": {
    "ExecuteTime": {
     "end_time": "2020-09-09T08:13:03.572856Z",
     "start_time": "2020-09-09T07:16:14.826Z"
    }
   },
   "outputs": [
    {
     "name": "stderr",
     "output_type": "stream",
     "text": [
      "C:\\Users\\papad\\Anaconda3\\lib\\site-packages\\ipykernel_launcher.py:17: RuntimeWarning: invalid value encountered in double_scalars\n"
     ]
    }
   ],
   "source": [
    "lgbm_mrr, lgbm_map = mrr_map(lgbm_relevance_list)"
   ]
  },
  {
   "cell_type": "code",
   "execution_count": 553,
   "metadata": {
    "ExecuteTime": {
     "end_time": "2020-09-09T08:13:03.574851Z",
     "start_time": "2020-09-09T07:16:14.836Z"
    }
   },
   "outputs": [],
   "source": [
    "metrics_df = compare_metrics(lgbm_NDCG, lgbm_mrr, lgbm_map)"
   ]
  },
  {
   "cell_type": "code",
   "execution_count": 554,
   "metadata": {
    "ExecuteTime": {
     "end_time": "2020-09-09T08:13:03.575848Z",
     "start_time": "2020-09-09T07:16:14.847Z"
    }
   },
   "outputs": [
    {
     "data": {
      "text/html": [
       "<div>\n",
       "<style scoped>\n",
       "    .dataframe tbody tr th:only-of-type {\n",
       "        vertical-align: middle;\n",
       "    }\n",
       "\n",
       "    .dataframe tbody tr th {\n",
       "        vertical-align: top;\n",
       "    }\n",
       "\n",
       "    .dataframe thead th {\n",
       "        text-align: right;\n",
       "    }\n",
       "</style>\n",
       "<table border=\"1\" class=\"dataframe\">\n",
       "  <thead>\n",
       "    <tr style=\"text-align: right;\">\n",
       "      <th></th>\n",
       "      <th>LightGBM_NDCG</th>\n",
       "      <th>IFM_NDCG</th>\n",
       "      <th>SVD_NDCG</th>\n",
       "      <th>LightGBM_MRR</th>\n",
       "      <th>IFM_MRR</th>\n",
       "      <th>SVD_MRR</th>\n",
       "      <th>LightGBM_MAP</th>\n",
       "      <th>IFM_MAP</th>\n",
       "      <th>SVD_MAP</th>\n",
       "    </tr>\n",
       "  </thead>\n",
       "  <tbody>\n",
       "    <tr>\n",
       "      <th>0</th>\n",
       "      <td>0.288545</td>\n",
       "      <td>0.301572</td>\n",
       "      <td>0.267402</td>\n",
       "      <td>0.186481</td>\n",
       "      <td>0.206125</td>\n",
       "      <td>0.142137</td>\n",
       "      <td>0.086574</td>\n",
       "      <td>0.102764</td>\n",
       "      <td>0.073226</td>\n",
       "    </tr>\n",
       "  </tbody>\n",
       "</table>\n",
       "</div>"
      ],
      "text/plain": [
       "   LightGBM_NDCG  IFM_NDCG  SVD_NDCG  LightGBM_MRR   IFM_MRR   SVD_MRR  \\\n",
       "0       0.288545  0.301572  0.267402      0.186481  0.206125  0.142137   \n",
       "\n",
       "   LightGBM_MAP   IFM_MAP   SVD_MAP  \n",
       "0      0.086574  0.102764  0.073226  "
      ]
     },
     "execution_count": 554,
     "metadata": {},
     "output_type": "execute_result"
    }
   ],
   "source": [
    "metrics_df"
   ]
  },
  {
   "cell_type": "code",
   "execution_count": 555,
   "metadata": {
    "ExecuteTime": {
     "end_time": "2020-09-09T08:13:03.576845Z",
     "start_time": "2020-09-09T07:16:14.858Z"
    }
   },
   "outputs": [],
   "source": [
    "metrics_df.to_csv(r'C:\\Users\\papad\\Desktop\\DISS WRITE\\d.csv', index = False)"
   ]
  },
  {
   "cell_type": "code",
   "execution_count": 556,
   "metadata": {
    "ExecuteTime": {
     "end_time": "2020-09-09T08:13:03.578842Z",
     "start_time": "2020-09-09T07:16:14.869Z"
    },
    "scrolled": true
   },
   "outputs": [
    {
     "name": "stdout",
     "output_type": "stream",
     "text": [
      "Index(['ifm_rank', 'model2_score', '#users_watched', 'new_user', 'emedding1',\n",
      "       'emedding2', 'emedding3', 'emedding4', 'emedding5', 'emedding6',\n",
      "       'emedding7', 'emedding8', 'emedding9', 'emedding10', 'emedding11',\n",
      "       'emedding12', 'emedding13', 'emedding14', 'emedding15', 'emedding16',\n",
      "       'emedding17', 'emedding18', 'emedding19', 'emedding20', 'emedding21',\n",
      "       'emedding22', 'emedding23', 'emedding24', 'emedding25', 'emedding26',\n",
      "       'emedding27', 'emedding28', 'emedding29', 'emedding30', 'emedding31',\n",
      "       'emedding32', 'SVD_rank'],\n",
      "      dtype='object')\n",
      "37\n",
      "37\n",
      "a\n",
      "a\n"
     ]
    },
    {
     "data": {
      "image/png": "[encoded data removed]",
      "text/plain": [
       "<Figure size 1000x400 with 1 Axes>"
      ]
     },
     "metadata": {
      "needs_background": "light"
     },
     "output_type": "display_data"
    }
   ],
   "source": [
    "plot_feature_importances(features, importances)"
   ]
  },
  {
   "cell_type": "code",
   "execution_count": 557,
   "metadata": {
    "ExecuteTime": {
     "end_time": "2020-09-09T08:13:03.579837Z",
     "start_time": "2020-09-09T07:16:14.879Z"
    }
   },
   "outputs": [
    {
     "data": {
      "text/plain": [
       "array([539, 692, 459,   0, 411,   0,   0,   0,   0,   0,   0,   0,   0,\n",
       "         0,   0,   0,   0,   0,   0,   0,   0,   0,   0,   0,   0,   0,\n",
       "         0,   0,   0,   0,   0,   0,   0,   0,   0,   0, 710])"
      ]
     },
     "execution_count": 557,
     "metadata": {},
     "output_type": "execute_result"
    }
   ],
   "source": [
    "importances"
   ]
  },
  {
   "cell_type": "markdown",
   "metadata": {},
   "source": [
    "### Without SVD's score"
   ]
  },
  {
   "cell_type": "code",
   "execution_count": 558,
   "metadata": {
    "ExecuteTime": {
     "end_time": "2020-09-09T08:13:03.580835Z",
     "start_time": "2020-09-09T07:16:14.891Z"
    }
   },
   "outputs": [],
   "source": [
    "features = np.stack((feature1, feature2, feature5, feature6,\n",
    "                     feature7[0], feature7[1], feature7[2], feature7[3],\n",
    "                     feature7[4], feature7[5], feature7[6], feature7[7],\n",
    "                     feature7[8], feature7[9], feature7[10], feature7[11],\n",
    "                     feature7[12], feature7[13], feature7[14], feature7[15],\n",
    "                     feature7[16], feature7[17], feature7[18], feature7[19],\n",
    "                     feature7[20], feature7[21], feature7[22], feature7[23],\n",
    "                     feature7[24], feature7[25], feature7[26], feature7[27],\n",
    "                     feature7[28], feature7[29], feature7[30], feature7[31],\n",
    "                     feature47))"
   ]
  },
  {
   "cell_type": "code",
   "execution_count": 559,
   "metadata": {
    "ExecuteTime": {
     "end_time": "2020-09-09T08:13:03.582863Z",
     "start_time": "2020-09-09T07:16:14.900Z"
    }
   },
   "outputs": [],
   "source": [
    "X_train, X_test, X_val = prepareXY(features)\n",
    "lgbm_pred_per_user, importances = lgbm_fit_predict(X_train, y_train, group_train, X_val, y_val, group_val, X_test)"
   ]
  },
  {
   "cell_type": "code",
   "execution_count": 560,
   "metadata": {
    "ExecuteTime": {
     "end_time": "2020-09-09T08:13:03.584826Z",
     "start_time": "2020-09-09T07:16:14.911Z"
    }
   },
   "outputs": [
    {
     "name": "stderr",
     "output_type": "stream",
     "text": [
      "C:\\Users\\papad\\Anaconda3\\lib\\site-packages\\ipykernel_launcher.py:2: RuntimeWarning: invalid value encountered in double_scalars\n",
      "  \n"
     ]
    },
    {
     "data": {
      "text/plain": [
       "0.28580918950129086"
      ]
     },
     "execution_count": 560,
     "metadata": {},
     "output_type": "execute_result"
    }
   ],
   "source": [
    "lgbm_NDCG = []\n",
    "lgbm_relevance_list = []\n",
    "for i in range(len(num_users)):\n",
    "    excel_df = pd.DataFrame({'movie_id': target_movies[i], 'model1_score': feature1[i], \n",
    "                         'ifm_rank': feature2[i],\n",
    "                         '#users_watched': feature5[i],\n",
    "                         'new_user': feature6[i],\n",
    "                         'emedding1': feature7[0][i], 'emedding2': feature7[1][i], 'emedding3': feature7[2][i],\n",
    "                         'emedding4': feature7[3][i], 'emedding5': feature7[4][i], 'emedding6': feature7[5][i],\n",
    "                         'emedding7': feature7[6][i], 'emedding8': feature7[7][i], 'emedding9': feature7[8][i],\n",
    "                         'emedding10': feature7[9][i], 'emedding11': feature7[10][i], 'emedding12': feature7[11][i],\n",
    "                         'emedding13': feature7[12][i], 'emedding14': feature7[13][i], 'emedding15': feature7[14][i],\n",
    "                         'emedding16': feature7[15][i], 'emedding17': feature7[16][i], 'emedding18': feature7[17][i],\n",
    "                         'emedding19': feature7[18][i], 'emedding20': feature7[19][i], 'emedding21': feature7[20][i],\n",
    "                         'emedding22': feature7[21][i], 'emedding23': feature7[22][i], 'emedding24': feature7[23][i],\n",
    "                         'emedding25': feature7[24][i], 'emedding26': feature7[25][i], 'emedding27': feature7[26][i],\n",
    "                         'emedding28': feature7[27][i], 'emedding29': feature7[28][i], 'emedding30': feature7[29][i],\n",
    "                         'emedding31': feature7[30][i], 'emedding32': feature7[31][i],\n",
    "                         'svd_rank':feature47[i],\n",
    "                         'train_label': label_train[i], 'test_label': label_test[i],\n",
    "                         'y_val': label_val[i], 'LGBM Score': lgbm_pred_per_user[i]})\n",
    "    excel_df = excel_df.sort_values('LGBM Score', ascending=False)\n",
    "    relevance_lgbm_user = excel_df['test_label'].values.tolist()\n",
    "    lgbm_relevance_list.append(relevance_lgbm_user)\n",
    "    lgbm_NDCG.append(NDCG_forUser(relevance_lgbm_user))\n",
    "lgbm_NDCG = pd.Series(lgbm_NDCG).fillna(0).tolist()\n",
    "lgbm_NDCG = np.mean(lgbm_NDCG)\n",
    "lgbm_NDCG"
   ]
  },
  {
   "cell_type": "code",
   "execution_count": 561,
   "metadata": {
    "ExecuteTime": {
     "end_time": "2020-09-09T08:13:03.585821Z",
     "start_time": "2020-09-09T07:16:14.920Z"
    }
   },
   "outputs": [
    {
     "name": "stderr",
     "output_type": "stream",
     "text": [
      "C:\\Users\\papad\\Anaconda3\\lib\\site-packages\\ipykernel_launcher.py:17: RuntimeWarning: invalid value encountered in double_scalars\n"
     ]
    }
   ],
   "source": [
    "lgbm_mrr, lgbm_map = mrr_map(lgbm_relevance_list)"
   ]
  },
  {
   "cell_type": "code",
   "execution_count": 562,
   "metadata": {
    "ExecuteTime": {
     "end_time": "2020-09-09T08:13:03.586820Z",
     "start_time": "2020-09-09T07:16:14.930Z"
    }
   },
   "outputs": [],
   "source": [
    "metrics_df = compare_metrics(lgbm_NDCG, lgbm_mrr, lgbm_map)"
   ]
  },
  {
   "cell_type": "code",
   "execution_count": 563,
   "metadata": {
    "ExecuteTime": {
     "end_time": "2020-09-09T08:13:03.587849Z",
     "start_time": "2020-09-09T07:16:14.939Z"
    }
   },
   "outputs": [
    {
     "data": {
      "text/html": [
       "<div>\n",
       "<style scoped>\n",
       "    .dataframe tbody tr th:only-of-type {\n",
       "        vertical-align: middle;\n",
       "    }\n",
       "\n",
       "    .dataframe tbody tr th {\n",
       "        vertical-align: top;\n",
       "    }\n",
       "\n",
       "    .dataframe thead th {\n",
       "        text-align: right;\n",
       "    }\n",
       "</style>\n",
       "<table border=\"1\" class=\"dataframe\">\n",
       "  <thead>\n",
       "    <tr style=\"text-align: right;\">\n",
       "      <th></th>\n",
       "      <th>LightGBM_NDCG</th>\n",
       "      <th>IFM_NDCG</th>\n",
       "      <th>SVD_NDCG</th>\n",
       "      <th>LightGBM_MRR</th>\n",
       "      <th>IFM_MRR</th>\n",
       "      <th>SVD_MRR</th>\n",
       "      <th>LightGBM_MAP</th>\n",
       "      <th>IFM_MAP</th>\n",
       "      <th>SVD_MAP</th>\n",
       "    </tr>\n",
       "  </thead>\n",
       "  <tbody>\n",
       "    <tr>\n",
       "      <th>0</th>\n",
       "      <td>0.285809</td>\n",
       "      <td>0.301572</td>\n",
       "      <td>0.267402</td>\n",
       "      <td>0.177345</td>\n",
       "      <td>0.206125</td>\n",
       "      <td>0.142137</td>\n",
       "      <td>0.084083</td>\n",
       "      <td>0.102764</td>\n",
       "      <td>0.073226</td>\n",
       "    </tr>\n",
       "  </tbody>\n",
       "</table>\n",
       "</div>"
      ],
      "text/plain": [
       "   LightGBM_NDCG  IFM_NDCG  SVD_NDCG  LightGBM_MRR   IFM_MRR   SVD_MRR  \\\n",
       "0       0.285809  0.301572  0.267402      0.177345  0.206125  0.142137   \n",
       "\n",
       "   LightGBM_MAP   IFM_MAP   SVD_MAP  \n",
       "0      0.084083  0.102764  0.073226  "
      ]
     },
     "execution_count": 563,
     "metadata": {},
     "output_type": "execute_result"
    }
   ],
   "source": [
    "metrics_df"
   ]
  },
  {
   "cell_type": "code",
   "execution_count": 564,
   "metadata": {
    "ExecuteTime": {
     "end_time": "2020-09-09T08:13:03.589811Z",
     "start_time": "2020-09-09T07:16:14.948Z"
    }
   },
   "outputs": [],
   "source": [
    "metrics_df.to_csv(r'C:\\Users\\papad\\Desktop\\DISS WRITE\\d.csv', index = False)"
   ]
  },
  {
   "cell_type": "code",
   "execution_count": 565,
   "metadata": {
    "ExecuteTime": {
     "end_time": "2020-09-09T08:13:03.590810Z",
     "start_time": "2020-09-09T07:16:14.958Z"
    },
    "scrolled": true
   },
   "outputs": [
    {
     "name": "stdout",
     "output_type": "stream",
     "text": [
      "Index(['model1_score', 'ifm_rank', '#users_watched', 'new_user', 'emedding1',\n",
      "       'emedding2', 'emedding3', 'emedding4', 'emedding5', 'emedding6',\n",
      "       'emedding7', 'emedding8', 'emedding9', 'emedding10', 'emedding11',\n",
      "       'emedding12', 'emedding13', 'emedding14', 'emedding15', 'emedding16',\n",
      "       'emedding17', 'emedding18', 'emedding19', 'emedding20', 'emedding21',\n",
      "       'emedding22', 'emedding23', 'emedding24', 'emedding25', 'emedding26',\n",
      "       'emedding27', 'emedding28', 'emedding29', 'emedding30', 'emedding31',\n",
      "       'emedding32', 'svd_rank'],\n",
      "      dtype='object')\n",
      "37\n",
      "37\n",
      "a\n",
      "a\n"
     ]
    },
    {
     "data": {
      "image/png": "[encoded data removed]",
      "text/plain": [
       "<Figure size 1000x400 with 1 Axes>"
      ]
     },
     "metadata": {
      "needs_background": "light"
     },
     "output_type": "display_data"
    }
   ],
   "source": [
    "plot_feature_importances(features, importances)"
   ]
  },
  {
   "cell_type": "code",
   "execution_count": 566,
   "metadata": {
    "ExecuteTime": {
     "end_time": "2020-09-09T08:13:03.591808Z",
     "start_time": "2020-09-09T07:16:14.967Z"
    }
   },
   "outputs": [
    {
     "data": {
      "text/plain": [
       "array([652, 545, 440,   0, 458,   0,   0,   0,   0,   0,   0,   0,   0,\n",
       "         0,   0,   0,   0,   0,   0,   0,   0,   0,   0,   0,   0,   0,\n",
       "         0,   0,   0,   0,   0,   0,   0,   0,   0,   0, 726])"
      ]
     },
     "execution_count": 566,
     "metadata": {},
     "output_type": "execute_result"
    }
   ],
   "source": [
    "importances"
   ]
  },
  {
   "cell_type": "markdown",
   "metadata": {},
   "source": [
    "## Best feature combinations"
   ]
  },
  {
   "cell_type": "code",
   "execution_count": 567,
   "metadata": {
    "ExecuteTime": {
     "end_time": "2020-09-09T08:13:03.593837Z",
     "start_time": "2020-09-09T07:16:14.980Z"
    }
   },
   "outputs": [],
   "source": [
    "features = np.stack((feature1, feature2, feature3, feature5, feature6,\n",
    "                     feature7[0], feature7[1], feature7[2], feature7[3],\n",
    "                     feature7[4], feature7[5], feature7[6], feature7[7],\n",
    "                     feature7[8], feature7[9], feature7[10], feature7[11],\n",
    "                     feature7[12], feature7[13], feature7[14], feature7[15],\n",
    "                     feature7[16], feature7[17], feature7[18], feature7[19],\n",
    "                     feature7[20], feature7[21], feature7[22], feature7[23],\n",
    "                     feature7[24], feature7[25], feature7[26], feature7[27],\n",
    "                     feature7[28], feature7[29], feature7[30], feature7[31],\n",
    "                     feature47))"
   ]
  },
  {
   "cell_type": "code",
   "execution_count": 568,
   "metadata": {
    "ExecuteTime": {
     "end_time": "2020-09-09T08:13:03.594797Z",
     "start_time": "2020-09-09T07:16:14.990Z"
    }
   },
   "outputs": [
    {
     "data": {
      "text/plain": [
       "38"
      ]
     },
     "execution_count": 568,
     "metadata": {},
     "output_type": "execute_result"
    }
   ],
   "source": [
    "len(features)"
   ]
  },
  {
   "cell_type": "code",
   "execution_count": 569,
   "metadata": {
    "ExecuteTime": {
     "end_time": "2020-09-09T08:13:03.595794Z",
     "start_time": "2020-09-09T07:16:14.999Z"
    }
   },
   "outputs": [],
   "source": [
    "X_train, X_test, X_val = prepareXY(features)\n",
    "lgbm_pred_per_user, importances = lgbm_fit_predict(X_train, y_train, group_train, X_val, y_val, group_val, X_test)"
   ]
  },
  {
   "cell_type": "code",
   "execution_count": 572,
   "metadata": {
    "ExecuteTime": {
     "end_time": "2020-09-09T08:13:03.596792Z",
     "start_time": "2020-09-09T07:16:15.009Z"
    }
   },
   "outputs": [
    {
     "name": "stderr",
     "output_type": "stream",
     "text": [
      "C:\\Users\\papad\\Anaconda3\\lib\\site-packages\\ipykernel_launcher.py:2: RuntimeWarning: invalid value encountered in double_scalars\n",
      "  \n"
     ]
    },
    {
     "data": {
      "text/plain": [
       "0.28714730680063927"
      ]
     },
     "execution_count": 572,
     "metadata": {},
     "output_type": "execute_result"
    }
   ],
   "source": [
    "lgbm_NDCG = []\n",
    "lgbm_relevance_list = []\n",
    "for i in range(len(num_users)):\n",
    "    excel_df = pd.DataFrame({'movie_id': target_movies[i], 'model1_score': feature1[i],\n",
    "                         'rank': feature2[i], 'model2_score': feature3[i],\n",
    "                         '#users_watched': feature5[i],\n",
    "                         'new_user': feature6[i],\n",
    "                         'emedding1': feature7[0][i], 'emedding2': feature7[1][i], 'emedding3': feature7[2][i],\n",
    "                         'emedding4': feature7[3][i], 'emedding5': feature7[4][i], 'emedding6': feature7[5][i],\n",
    "                         'emedding7': feature7[6][i], 'emedding8': feature7[7][i], 'emedding9': feature7[8][i],\n",
    "                         'emedding10': feature7[9][i], 'emedding11': feature7[10][i], 'emedding12': feature7[11][i],\n",
    "                         'emedding13': feature7[12][i], 'emedding14': feature7[13][i], 'emedding15': feature7[14][i],\n",
    "                         'emedding16': feature7[15][i], 'emedding17': feature7[16][i], 'emedding18': feature7[17][i],\n",
    "                         'emedding19': feature7[18][i], 'emedding20': feature7[19][i], 'emedding21': feature7[20][i],\n",
    "                         'emedding22': feature7[21][i], 'emedding23': feature7[22][i], 'emedding24': feature7[23][i],\n",
    "                         'emedding25': feature7[24][i], 'emedding26': feature7[25][i], 'emedding27': feature7[26][i],\n",
    "                         'emedding28': feature7[27][i], 'emedding29': feature7[28][i], 'emedding30': feature7[29][i],\n",
    "                         'emedding31': feature7[30][i], 'emedding32': feature7[31][i], 'svd_rank': feature47[i],\n",
    "                         'train_label': label_train[i], 'test_label': label_test[i],\n",
    "                         'y_val': label_val[i], 'LGBM Score': lgbm_pred_per_user[i]})\n",
    "    excel_df = excel_df.sort_values('LGBM Score', ascending=False)\n",
    "    relevance_lgbm_user = excel_df['test_label'].values.tolist()\n",
    "    lgbm_relevance_list.append(relevance_lgbm_user)\n",
    "    lgbm_NDCG.append(NDCG_forUser(relevance_lgbm_user))\n",
    "lgbm_NDCG = pd.Series(lgbm_NDCG).fillna(0).tolist()\n",
    "lgbm_NDCG = np.mean(lgbm_NDCG)\n",
    "lgbm_NDCG"
   ]
  },
  {
   "cell_type": "code",
   "execution_count": 573,
   "metadata": {
    "ExecuteTime": {
     "end_time": "2020-09-09T08:13:03.597791Z",
     "start_time": "2020-09-09T07:16:15.018Z"
    }
   },
   "outputs": [
    {
     "name": "stderr",
     "output_type": "stream",
     "text": [
      "C:\\Users\\papad\\Anaconda3\\lib\\site-packages\\ipykernel_launcher.py:17: RuntimeWarning: invalid value encountered in double_scalars\n"
     ]
    }
   ],
   "source": [
    "lgbm_mrr, lgbm_map = mrr_map(lgbm_relevance_list)"
   ]
  },
  {
   "cell_type": "code",
   "execution_count": 574,
   "metadata": {
    "ExecuteTime": {
     "end_time": "2020-09-09T08:13:03.599819Z",
     "start_time": "2020-09-09T07:16:15.027Z"
    }
   },
   "outputs": [],
   "source": [
    "metrics_df = compare_metrics(lgbm_NDCG, lgbm_mrr, lgbm_map)"
   ]
  },
  {
   "cell_type": "code",
   "execution_count": 575,
   "metadata": {
    "ExecuteTime": {
     "end_time": "2020-09-09T08:13:03.600781Z",
     "start_time": "2020-09-09T07:16:15.036Z"
    }
   },
   "outputs": [
    {
     "data": {
      "text/html": [
       "<div>\n",
       "<style scoped>\n",
       "    .dataframe tbody tr th:only-of-type {\n",
       "        vertical-align: middle;\n",
       "    }\n",
       "\n",
       "    .dataframe tbody tr th {\n",
       "        vertical-align: top;\n",
       "    }\n",
       "\n",
       "    .dataframe thead th {\n",
       "        text-align: right;\n",
       "    }\n",
       "</style>\n",
       "<table border=\"1\" class=\"dataframe\">\n",
       "  <thead>\n",
       "    <tr style=\"text-align: right;\">\n",
       "      <th></th>\n",
       "      <th>LightGBM_NDCG</th>\n",
       "      <th>IFM_NDCG</th>\n",
       "      <th>SVD_NDCG</th>\n",
       "      <th>LightGBM_MRR</th>\n",
       "      <th>IFM_MRR</th>\n",
       "      <th>SVD_MRR</th>\n",
       "      <th>LightGBM_MAP</th>\n",
       "      <th>IFM_MAP</th>\n",
       "      <th>SVD_MAP</th>\n",
       "    </tr>\n",
       "  </thead>\n",
       "  <tbody>\n",
       "    <tr>\n",
       "      <th>0</th>\n",
       "      <td>0.287147</td>\n",
       "      <td>0.301572</td>\n",
       "      <td>0.267402</td>\n",
       "      <td>0.185</td>\n",
       "      <td>0.206125</td>\n",
       "      <td>0.142137</td>\n",
       "      <td>0.085135</td>\n",
       "      <td>0.102764</td>\n",
       "      <td>0.073226</td>\n",
       "    </tr>\n",
       "  </tbody>\n",
       "</table>\n",
       "</div>"
      ],
      "text/plain": [
       "   LightGBM_NDCG  IFM_NDCG  SVD_NDCG  LightGBM_MRR   IFM_MRR   SVD_MRR  \\\n",
       "0       0.287147  0.301572  0.267402         0.185  0.206125  0.142137   \n",
       "\n",
       "   LightGBM_MAP   IFM_MAP   SVD_MAP  \n",
       "0      0.085135  0.102764  0.073226  "
      ]
     },
     "execution_count": 575,
     "metadata": {},
     "output_type": "execute_result"
    }
   ],
   "source": [
    "metrics_df"
   ]
  },
  {
   "cell_type": "code",
   "execution_count": 576,
   "metadata": {
    "ExecuteTime": {
     "end_time": "2020-09-09T08:13:03.602775Z",
     "start_time": "2020-09-09T07:16:15.045Z"
    }
   },
   "outputs": [],
   "source": [
    "metrics_df.to_csv(r'C:\\Users\\papad\\Desktop\\DISS WRITE\\d.csv', index = False)"
   ]
  },
  {
   "cell_type": "code",
   "execution_count": 577,
   "metadata": {
    "ExecuteTime": {
     "end_time": "2020-09-09T08:13:03.603773Z",
     "start_time": "2020-09-09T07:16:15.054Z"
    },
    "scrolled": true
   },
   "outputs": [
    {
     "name": "stdout",
     "output_type": "stream",
     "text": [
      "Index(['model1_score', 'rank', 'model2_score', '#users_watched', 'new_user',\n",
      "       'emedding1', 'emedding2', 'emedding3', 'emedding4', 'emedding5',\n",
      "       'emedding6', 'emedding7', 'emedding8', 'emedding9', 'emedding10',\n",
      "       'emedding11', 'emedding12', 'emedding13', 'emedding14', 'emedding15',\n",
      "       'emedding16', 'emedding17', 'emedding18', 'emedding19', 'emedding20',\n",
      "       'emedding21', 'emedding22', 'emedding23', 'emedding24', 'emedding25',\n",
      "       'emedding26', 'emedding27', 'emedding28', 'emedding29', 'emedding30',\n",
      "       'emedding31', 'emedding32', 'svd_rank'],\n",
      "      dtype='object')\n",
      "38\n",
      "38\n",
      "a\n",
      "a\n"
     ]
    },
    {
     "data": {
      "image/png": "[encoded data removed]",
      "text/plain": [
       "<Figure size 1000x400 with 1 Axes>"
      ]
     },
     "metadata": {
      "needs_background": "light"
     },
     "output_type": "display_data"
    }
   ],
   "source": [
    "plot_feature_importances(features, importances)"
   ]
  },
  {
   "cell_type": "code",
   "execution_count": 578,
   "metadata": {
    "ExecuteTime": {
     "end_time": "2020-09-09T08:13:03.604770Z",
     "start_time": "2020-09-09T07:16:15.063Z"
    }
   },
   "outputs": [
    {
     "data": {
      "text/plain": [
       "array([573, 455, 522, 363,   0, 374,   0,   0,   0,   0,   0,   0,   0,\n",
       "         0,   0,   0,   0,   0,   0,   0,   0,   0,   0,   0,   0,   0,\n",
       "         0,   0,   0,   0,   0,   0,   0,   0,   0,   0,   0, 562])"
      ]
     },
     "execution_count": 578,
     "metadata": {},
     "output_type": "execute_result"
    }
   ],
   "source": [
    "importances"
   ]
  },
  {
   "cell_type": "markdown",
   "metadata": {},
   "source": [
    "# Significance Test"
   ]
  },
  {
   "cell_type": "markdown",
   "metadata": {},
   "source": [
    "The difference of MAP values of two systems can identify which one is better "
   ]
  },
  {
   "cell_type": "code",
   "execution_count": 380,
   "metadata": {},
   "outputs": [
    {
     "name": "stdout",
     "output_type": "stream",
     "text": [
      "Ttest_indResult(statistic=0.8338345601254752, pvalue=0.4047700096178134)\n"
     ]
    }
   ],
   "source": [
    "from scipy import stats\n",
    "rvs1 = stats.norm.rvs(loc = 5,scale = 10,size = 500)\n",
    "rvs2 = stats.norm.rvs(loc = 1,scale = 1,size = 5)\n",
    "print(stats.ttest_ind(rvs1,rvs2))"
   ]
  },
  {
   "cell_type": "code",
   "execution_count": 381,
   "metadata": {},
   "outputs": [
    {
     "data": {
      "text/plain": [
       "array([0.43691892, 0.05343548, 2.13052662, 1.03080713, 2.54075238])"
      ]
     },
     "execution_count": 381,
     "metadata": {},
     "output_type": "execute_result"
    }
   ],
   "source": [
    "rvs2"
   ]
  },
  {
   "cell_type": "code",
   "execution_count": 385,
   "metadata": {},
   "outputs": [
    {
     "name": "stdout",
     "output_type": "stream",
     "text": [
      "Ttest_1sampResult(statistic=nan, pvalue=nan)\n"
     ]
    }
   ],
   "source": [
    "print(stats.ttest_1samp(1,2))"
   ]
  },
  {
   "cell_type": "code",
   "execution_count": 387,
   "metadata": {},
   "outputs": [
    {
     "name": "stdout",
     "output_type": "stream",
     "text": [
      "Ttest_1sampResult(statistic=array([-0.61668537,  0.43828617]), pvalue=array([0.54029709, 0.6631051 ]))\n"
     ]
    }
   ],
   "source": [
    "from scipy import stats\n",
    "rvs = stats.norm.rvs(loc = 5, scale = 10, size = (50,2))\n",
    "print(stats.ttest_1samp(rvs,5.0))"
   ]
  },
  {
   "cell_type": "code",
   "execution_count": 393,
   "metadata": {},
   "outputs": [
    {
     "data": {
      "text/plain": [
       "(0.0, 0.25)"
      ]
     },
     "execution_count": 393,
     "metadata": {},
     "output_type": "execute_result"
    }
   ],
   "source": [
    "from scipy.stats import wilcoxon\n",
    "d = [0.084083, 0.102764, 0.073226]\n",
    "w, p = wilcoxon(d)\n",
    "w, p"
   ]
  },
  {
   "cell_type": "markdown",
   "metadata": {},
   "source": [
    "# Draft"
   ]
  },
  {
   "cell_type": "code",
   "execution_count": 451,
   "metadata": {},
   "outputs": [
    {
     "data": {
      "text/plain": [
       "<matplotlib.axes._subplots.AxesSubplot at 0x21814d96a48>"
      ]
     },
     "execution_count": 451,
     "metadata": {},
     "output_type": "execute_result"
    },
    {
     "data": {
      "image/png": "[encoded data removed]",
      "text/plain": [
       "<Figure size 432x288 with 1 Axes>"
      ]
     },
     "metadata": {
      "needs_background": "light"
     },
     "output_type": "display_data"
    }
   ],
   "source": [
    "df = pd.DataFrame({'a':['a','b','c'], 'b':[4,2,7] })\n",
    "\n",
    "df.groupby(['a']).median().sort_values(\"b\", ascending = False).plot.bar()"
   ]
  },
  {
   "cell_type": "code",
   "execution_count": 476,
   "metadata": {},
   "outputs": [
    {
     "data": {
      "text/plain": [
       "<BarContainer object of 6 artists>"
      ]
     },
     "execution_count": 476,
     "metadata": {},
     "output_type": "execute_result"
    },
    {
     "data": {
      "image/png": "[encoded data removed]",
      "text/plain": [
       "<Figure size 432x288 with 1 Axes>"
      ]
     },
     "metadata": {
      "needs_background": "light"
     },
     "output_type": "display_data"
    }
   ],
   "source": [
    "feature_names = excel_df.columns[1:len(features)+1]\n",
    "df=pd.DataFrame({'allvarlist': feature_names,'importances':importances})\n",
    "df.sort_values('importances',inplace=True)\n",
    "df.plot(kind='barh',y='importances',x='allvarlist',color='r')"
   ]
  },
  {
   "cell_type": "code",
   "execution_count": null,
   "metadata": {},
   "outputs": [],
   "source": []
  }
 ],
 "metadata": {
  "kernelspec": {
   "display_name": "Python 3",
   "language": "python",
   "name": "python3"
  },
  "language_info": {
   "codemirror_mode": {
    "name": "ipython",
    "version": 3
   },
   "file_extension": ".py",
   "mimetype": "text/x-python",
   "name": "python",
   "nbconvert_exporter": "python",
   "pygments_lexer": "ipython3",
   "version": "3.7.7"
  },
  "toc": {
   "base_numbering": 1,
   "nav_menu": {},
   "number_sections": true,
   "sideBar": true,
   "skip_h1_title": false,
   "title_cell": "Table of Contents",
   "title_sidebar": "Contents",
   "toc_cell": false,
   "toc_position": {
    "height": "calc(100% - 180px)",
    "left": "10px",
    "top": "150px",
    "width": "307.2px"
   },
   "toc_section_display": true,
   "toc_window_display": true
  },
  "toc-autonumbering": true,
  "varInspector": {
   "cols": {
    "lenName": 16,
    "lenType": 16,
    "lenVar": 40
   },
   "kernels_config": {
    "python": {
     "delete_cmd_postfix": "",
     "delete_cmd_prefix": "del ",
     "library": "var_list.py",
     "varRefreshCmd": "print(var_dic_list())"
    },
    "r": {
     "delete_cmd_postfix": ") ",
     "delete_cmd_prefix": "rm(",
     "library": "var_list.r",
     "varRefreshCmd": "cat(var_dic_list()) "
    }
   },
   "types_to_exclude": [
    "module",
    "function",
    "builtin_function_or_method",
    "instance",
    "_Feature"
   ],
   "window_display": false
  }
 },
 "nbformat": 4,
 "nbformat_minor": 4
}
