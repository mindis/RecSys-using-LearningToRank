{
 "cells": [
  {
   "cell_type": "code",
   "execution_count": 1,
   "metadata": {
    "ExecuteTime": {
     "end_time": "2020-08-12T10:24:57.955260Z",
     "start_time": "2020-08-12T10:24:56.585760Z"
    }
   },
   "outputs": [],
   "source": [
    "import pandas as pd\n",
    "import numpy as np\n",
    "import matplotlib.pyplot as plt\n",
    "from spotlight.factorization.implicit import ImplicitFactorizationModel\n",
    "from spotlight.interactions import Interactions\n",
    "from spotlight.cross_validation import random_train_test_split"
   ]
  },
  {
   "cell_type": "code",
   "execution_count": 2,
   "metadata": {
    "ExecuteTime": {
     "end_time": "2020-08-12T10:24:59.515734Z",
     "start_time": "2020-08-12T10:24:57.957506Z"
    }
   },
   "outputs": [],
   "source": [
    "ratings_df = pd.read_csv('C:/Users/papad/Desktop/goodbooks-10k-master/goodbooks-10k-master/ratings.csv')\n",
    "books_df = pd.read_csv('C:/Users/papad/Desktop/goodbooks-10k-master/goodbooks-10k-master/books.csv')\n",
    "to_read_df = pd.read_csv('C:/Users/papad/Desktop/goodbooks-10k-master/goodbooks-10k-master/to_read.csv')"
   ]
  },
  {
   "cell_type": "markdown",
   "metadata": {},
   "source": [
    "# Dataset"
   ]
  },
  {
   "cell_type": "code",
   "execution_count": 3,
   "metadata": {
    "ExecuteTime": {
     "end_time": "2020-08-12T10:24:59.520647Z",
     "start_time": "2020-08-12T10:24:59.516685Z"
    },
    "cell_style": "center"
   },
   "outputs": [],
   "source": [
    "percentage = 1\n",
    "ratings_df = ratings_df.head(int(len(ratings_df)*(percentage/100)))"
   ]
  },
  {
   "cell_type": "code",
   "execution_count": 205,
   "metadata": {
    "ExecuteTime": {
     "end_time": "2020-08-12T14:40:52.283874Z",
     "start_time": "2020-08-12T14:40:52.262931Z"
    },
    "cell_style": "center"
   },
   "outputs": [
    {
     "data": {
      "text/html": [
       "<div>\n",
       "<style scoped>\n",
       "    .dataframe tbody tr th:only-of-type {\n",
       "        vertical-align: middle;\n",
       "    }\n",
       "\n",
       "    .dataframe tbody tr th {\n",
       "        vertical-align: top;\n",
       "    }\n",
       "\n",
       "    .dataframe thead th {\n",
       "        text-align: right;\n",
       "    }\n",
       "</style>\n",
       "<table border=\"1\" class=\"dataframe\">\n",
       "  <thead>\n",
       "    <tr style=\"text-align: right;\">\n",
       "      <th></th>\n",
       "      <th>book_id</th>\n",
       "      <th>goodreads_book_id</th>\n",
       "      <th>best_book_id</th>\n",
       "      <th>work_id</th>\n",
       "      <th>books_count</th>\n",
       "      <th>isbn</th>\n",
       "      <th>isbn13</th>\n",
       "      <th>authors</th>\n",
       "      <th>original_publication_year</th>\n",
       "      <th>original_title</th>\n",
       "      <th>...</th>\n",
       "      <th>ratings_count</th>\n",
       "      <th>work_ratings_count</th>\n",
       "      <th>work_text_reviews_count</th>\n",
       "      <th>ratings_1</th>\n",
       "      <th>ratings_2</th>\n",
       "      <th>ratings_3</th>\n",
       "      <th>ratings_4</th>\n",
       "      <th>ratings_5</th>\n",
       "      <th>image_url</th>\n",
       "      <th>small_image_url</th>\n",
       "    </tr>\n",
       "  </thead>\n",
       "  <tbody>\n",
       "    <tr>\n",
       "      <th>9438</th>\n",
       "      <td>9439</td>\n",
       "      <td>35539</td>\n",
       "      <td>35539</td>\n",
       "      <td>1654509</td>\n",
       "      <td>17</td>\n",
       "      <td>316013315</td>\n",
       "      <td>9.780316e+12</td>\n",
       "      <td>Bob Spitz</td>\n",
       "      <td>2005.0</td>\n",
       "      <td>The Beatles: The Biography</td>\n",
       "      <td>...</td>\n",
       "      <td>8120</td>\n",
       "      <td>8464</td>\n",
       "      <td>390</td>\n",
       "      <td>205</td>\n",
       "      <td>314</td>\n",
       "      <td>1270</td>\n",
       "      <td>3020</td>\n",
       "      <td>3655</td>\n",
       "      <td>https://images.gr-assets.com/books/1327951066m...</td>\n",
       "      <td>https://images.gr-assets.com/books/1327951066s...</td>\n",
       "    </tr>\n",
       "  </tbody>\n",
       "</table>\n",
       "<p>1 rows × 23 columns</p>\n",
       "</div>"
      ],
      "text/plain": [
       "      book_id  goodreads_book_id  best_book_id  work_id  books_count  \\\n",
       "9438     9439              35539         35539  1654509           17   \n",
       "\n",
       "           isbn        isbn13    authors  original_publication_year  \\\n",
       "9438  316013315  9.780316e+12  Bob Spitz                     2005.0   \n",
       "\n",
       "                  original_title  ... ratings_count work_ratings_count  \\\n",
       "9438  The Beatles: The Biography  ...          8120               8464   \n",
       "\n",
       "      work_text_reviews_count  ratings_1  ratings_2  ratings_3  ratings_4  \\\n",
       "9438                      390        205        314       1270       3020   \n",
       "\n",
       "      ratings_5                                          image_url  \\\n",
       "9438       3655  https://images.gr-assets.com/books/1327951066m...   \n",
       "\n",
       "                                        small_image_url  \n",
       "9438  https://images.gr-assets.com/books/1327951066s...  \n",
       "\n",
       "[1 rows x 23 columns]"
      ]
     },
     "execution_count": 205,
     "metadata": {},
     "output_type": "execute_result"
    }
   ],
   "source": [
    "books_df[books_df['book_id']==9439]"
   ]
  },
  {
   "cell_type": "code",
   "execution_count": 5,
   "metadata": {
    "ExecuteTime": {
     "end_time": "2020-08-12T10:24:59.559549Z",
     "start_time": "2020-08-12T10:24:59.552560Z"
    }
   },
   "outputs": [
    {
     "data": {
      "text/html": [
       "<div>\n",
       "<style scoped>\n",
       "    .dataframe tbody tr th:only-of-type {\n",
       "        vertical-align: middle;\n",
       "    }\n",
       "\n",
       "    .dataframe tbody tr th {\n",
       "        vertical-align: top;\n",
       "    }\n",
       "\n",
       "    .dataframe thead th {\n",
       "        text-align: right;\n",
       "    }\n",
       "</style>\n",
       "<table border=\"1\" class=\"dataframe\">\n",
       "  <thead>\n",
       "    <tr style=\"text-align: right;\">\n",
       "      <th></th>\n",
       "      <th>user_id</th>\n",
       "      <th>book_id</th>\n",
       "    </tr>\n",
       "  </thead>\n",
       "  <tbody>\n",
       "    <tr>\n",
       "      <th>0</th>\n",
       "      <td>9</td>\n",
       "      <td>8</td>\n",
       "    </tr>\n",
       "    <tr>\n",
       "      <th>1</th>\n",
       "      <td>15</td>\n",
       "      <td>398</td>\n",
       "    </tr>\n",
       "    <tr>\n",
       "      <th>2</th>\n",
       "      <td>15</td>\n",
       "      <td>275</td>\n",
       "    </tr>\n",
       "    <tr>\n",
       "      <th>3</th>\n",
       "      <td>37</td>\n",
       "      <td>7173</td>\n",
       "    </tr>\n",
       "    <tr>\n",
       "      <th>4</th>\n",
       "      <td>34</td>\n",
       "      <td>380</td>\n",
       "    </tr>\n",
       "  </tbody>\n",
       "</table>\n",
       "</div>"
      ],
      "text/plain": [
       "   user_id  book_id\n",
       "0        9        8\n",
       "1       15      398\n",
       "2       15      275\n",
       "3       37     7173\n",
       "4       34      380"
      ]
     },
     "execution_count": 5,
     "metadata": {},
     "output_type": "execute_result"
    }
   ],
   "source": [
    "to_read_df.head()"
   ]
  },
  {
   "cell_type": "code",
   "execution_count": 6,
   "metadata": {
    "ExecuteTime": {
     "end_time": "2020-08-12T10:24:59.570554Z",
     "start_time": "2020-08-12T10:24:59.560576Z"
    },
    "scrolled": true
   },
   "outputs": [
    {
     "name": "stdout",
     "output_type": "stream",
     "text": [
      "1157\n",
      "4477\n"
     ]
    }
   ],
   "source": [
    "num_users = ratings_df['user_id'].unique()\n",
    "print(len(num_users))\n",
    "num_items = ratings_df['book_id'].unique()\n",
    "print(len(num_items))"
   ]
  },
  {
   "cell_type": "markdown",
   "metadata": {},
   "source": [
    "# Spotlight"
   ]
  },
  {
   "cell_type": "code",
   "execution_count": 7,
   "metadata": {
    "ExecuteTime": {
     "end_time": "2020-08-12T10:24:59.609883Z",
     "start_time": "2020-08-12T10:24:59.572508Z"
    }
   },
   "outputs": [
    {
     "name": "stdout",
     "output_type": "stream",
     "text": [
      "userId 556 got uid 1157\n",
      "movieId 54001 got iid 4477\n"
     ]
    }
   ],
   "source": [
    "from collections import defaultdict\n",
    "from itertools import count\n",
    "uid_map = defaultdict(count().__next__)\n",
    "iid_map = defaultdict(count().__next__)\n",
    "uids = np.array([uid_map[uid] for uid in ratings_df[\"user_id\"].values ], dtype=np.int32)\n",
    "iids = np.array([iid_map[iid] for iid in ratings_df[\"book_id\"].values ], dtype=np.int32)\n",
    "\n",
    "uid_rev_map = {v: k for k, v in uid_map.items()}\n",
    "iid_rev_map = {v: k for k, v in iid_map.items()}\n",
    "\n",
    "\n",
    "print(\"userId %d got uid %d\" % (556, uid_map[556]))\n",
    "print(\"movieId %d got iid %d\" % (54001, iid_map[54001]))"
   ]
  },
  {
   "cell_type": "code",
   "execution_count": 8,
   "metadata": {
    "ExecuteTime": {
     "end_time": "2020-08-12T10:24:59.626847Z",
     "start_time": "2020-08-12T10:24:59.612841Z"
    }
   },
   "outputs": [],
   "source": [
    "from spotlight.interactions import Interactions\n",
    "from spotlight.cross_validation import random_train_test_split\n",
    "from spotlight.factorization.implicit import ImplicitFactorizationModel\n",
    "import time  \n",
    "\n",
    "\n",
    "#pecify the ids of the users and items for all the pairs of user-item interactions\n",
    "implicit_interaction = Interactions(user_ids=uids,\n",
    "                                   item_ids=iids)\n",
    "\n",
    "\n",
    "#lets initialise the seed, so that its repeatable and reproducible \n",
    "implicit_train_tmp, implicit_test = random_train_test_split(implicit_interaction, random_state=np.random.seed(42))\n",
    "implicit_train, implicit_val = random_train_test_split(implicit_train_tmp, random_state=np.random.seed(42))\n",
    "implicit_train_features, implicit_train_labels = random_train_test_split(implicit_train, random_state=np.random.seed(42))"
   ]
  },
  {
   "cell_type": "code",
   "execution_count": 9,
   "metadata": {
    "ExecuteTime": {
     "end_time": "2020-08-12T10:24:59.632788Z",
     "start_time": "2020-08-12T10:24:59.628800Z"
    }
   },
   "outputs": [
    {
     "name": "stdout",
     "output_type": "stream",
     "text": [
      "<Interactions dataset (1157 users x 4477 items x 38248 interactions)>\n",
      "<Interactions dataset (1157 users x 4477 items x 11953 interactions)>\n",
      "<Interactions dataset (1157 users x 4477 items x 9563 interactions)>\n",
      "<Interactions dataset (1157 users x 4477 items x 30598 interactions)>\n",
      "<Interactions dataset (1157 users x 4477 items x 7650 interactions)>\n"
     ]
    }
   ],
   "source": [
    "print(implicit_train)\n",
    "print(implicit_test)\n",
    "print(implicit_val)\n",
    "print(implicit_train_features)\n",
    "print(implicit_train_labels)"
   ]
  },
  {
   "cell_type": "code",
   "execution_count": 10,
   "metadata": {
    "ExecuteTime": {
     "end_time": "2020-08-12T10:24:59.640777Z",
     "start_time": "2020-08-12T10:24:59.634782Z"
    }
   },
   "outputs": [],
   "source": [
    "def interactionToDataFrame(dataset):\n",
    "    converted_users = []\n",
    "    converted_books = []\n",
    "    rating = []\n",
    "    for i in range(len(dataset.user_ids)):\n",
    "        converted_users.append(uid_rev_map[dataset.user_ids[i]])\n",
    "        converted_books.append(iid_rev_map[dataset.item_ids[i]])\n",
    "        rating.append(float(ratings_df['rating'][(ratings_df['book_id'] == converted_books[i]) & (\n",
    "            ratings_df['user_id'] == converted_users[i])].values))\n",
    "    df = pd.DataFrame({'user_id': converted_users,\n",
    "                       'book_id': converted_books, 'rating': rating})\n",
    "    return df"
   ]
  },
  {
   "cell_type": "code",
   "execution_count": 11,
   "metadata": {
    "ExecuteTime": {
     "end_time": "2020-08-12T10:25:07.376072Z",
     "start_time": "2020-08-12T10:24:59.645755Z"
    }
   },
   "outputs": [],
   "source": [
    "val_df = interactionToDataFrame(implicit_val)"
   ]
  },
  {
   "cell_type": "code",
   "execution_count": 12,
   "metadata": {
    "ExecuteTime": {
     "end_time": "2020-08-12T10:26:28.574483Z",
     "start_time": "2020-08-12T10:25:07.377065Z"
    }
   },
   "outputs": [],
   "source": [
    "train_df = interactionToDataFrame(implicit_train)\n",
    "val_df = interactionToDataFrame(implicit_val)\n",
    "test_df = interactionToDataFrame(implicit_test)\n",
    "train_features_df = interactionToDataFrame(implicit_train_features)\n",
    "train_labels_df = interactionToDataFrame(implicit_train_labels)"
   ]
  },
  {
   "cell_type": "markdown",
   "metadata": {},
   "source": [
    "## Implicit Factorization model"
   ]
  },
  {
   "cell_type": "code",
   "execution_count": 13,
   "metadata": {
    "ExecuteTime": {
     "end_time": "2020-08-12T10:26:43.175044Z",
     "start_time": "2020-08-12T10:26:28.576452Z"
    }
   },
   "outputs": [
    {
     "name": "stdout",
     "output_type": "stream",
     "text": [
      "Epoch 0: loss 0.8914661049842835\n",
      "Epoch 1: loss 0.5310210671027501\n",
      "Epoch 2: loss 0.4398420977592468\n",
      "Epoch 3: loss 0.384601792494456\n",
      "Epoch 4: loss 0.33657042801380155\n",
      "Training took 14 second\n"
     ]
    }
   ],
   "source": [
    "implicit_model = ImplicitFactorizationModel(n_iter=5)\n",
    "\n",
    "current = time.time()\n",
    "\n",
    "implicit_model.fit(implicit_train, verbose=True)\n",
    "\n",
    "end = time.time()\n",
    "diff = end - current\n",
    "print('Training took %d second' % (diff))"
   ]
  },
  {
   "cell_type": "markdown",
   "metadata": {},
   "source": [
    "### Top - K"
   ]
  },
  {
   "cell_type": "code",
   "execution_count": 14,
   "metadata": {
    "ExecuteTime": {
     "end_time": "2020-08-12T10:26:43.195986Z",
     "start_time": "2020-08-12T10:26:43.179031Z"
    },
    "cell_style": "split"
   },
   "outputs": [
    {
     "name": "stdout",
     "output_type": "stream",
     "text": [
      "[26, 33, 301, 18, 27, 21, 2, 23, 24, 35, 58, 111, 5, 8, 65, 45, 113, 476, 14, 55, 36, 102, 13, 50, 87, 32, 28, 42, 184, 495, 11, 426, 101, 344, 372, 122, 9, 81, 60, 238, 119, 213, 10, 94, 233, 115, 177, 4, 483, 326, 100, 92, 71, 148, 48, 131, 662, 405, 378, 323, 130, 78, 741, 150, 66, 114, 22, 7, 85, 75, 162, 121, 63, 217, 80, 228, 43, 57, 125, 160, 138, 154, 29, 353, 839, 248, 635, 718, 354, 64, 383, 127, 278, 38, 335, 225, 595, 25, 46, 67]\n"
     ]
    }
   ],
   "source": [
    "import scipy.stats as st\n",
    "k = 100\n",
    "def topK_implicit(user, model, k=100):\n",
    "  a= list()\n",
    "  ranks = st.rankdata(-model.predict(user))   \n",
    "  for iid in np.argwhere(ranks <= k):\n",
    "    a.append(iid_rev_map[iid.item(0)])\n",
    "  return a\n",
    "\n",
    "rec_forUser = topK_implicit(0,implicit_model)\n",
    "print(rec_forUser)"
   ]
  },
  {
   "cell_type": "code",
   "execution_count": 15,
   "metadata": {
    "ExecuteTime": {
     "end_time": "2020-08-12T10:26:43.206957Z",
     "start_time": "2020-08-12T10:26:43.199975Z"
    },
    "cell_style": "split"
   },
   "outputs": [],
   "source": [
    "def allUsers_topK_implicit(model):\n",
    "    a = []\n",
    "    for i in range(len(num_users)):\n",
    "       a.append(topK_implicit(i,model))\n",
    "    return a"
   ]
  },
  {
   "cell_type": "markdown",
   "metadata": {},
   "source": [
    "### NDCG Score"
   ]
  },
  {
   "cell_type": "code",
   "execution_count": 16,
   "metadata": {
    "ExecuteTime": {
     "end_time": "2020-08-12T10:26:44.948944Z",
     "start_time": "2020-08-12T10:26:43.209950Z"
    }
   },
   "outputs": [],
   "source": [
    "allUsers_topK_imp = allUsers_topK_implicit(implicit_model)"
   ]
  },
  {
   "cell_type": "markdown",
   "metadata": {},
   "source": [
    "Compute the relevance for each user. The relevance containes 0s and 1s based on which movies each has watched. For every recommended movie that the user has actually watched, the value of 1 is assigned. There is a relevance list for each user."
   ]
  },
  {
   "cell_type": "code",
   "execution_count": 17,
   "metadata": {
    "ExecuteTime": {
     "end_time": "2020-08-12T10:26:44.959916Z",
     "start_time": "2020-08-12T10:26:44.950939Z"
    }
   },
   "outputs": [],
   "source": [
    "def relevance_spotlight_implicit(allUsers_topK):\n",
    "    relevance_implicit_full = []\n",
    "    helper = []\n",
    "    count = 0\n",
    "    for i in range(1,len(num_users)+1):\n",
    "        for j in range(len(allUsers_topK[count])):\n",
    "            if allUsers_topK[count][j] in test_df['book_id'][test_df['user_id'] == i].values.tolist():\n",
    "                helper.append(1)\n",
    "            else:\n",
    "                helper.append(0)\n",
    "        relevance_implicit_full.append(helper)\n",
    "        helper = []\n",
    "        count += 1\n",
    "    return relevance_implicit_full"
   ]
  },
  {
   "cell_type": "code",
   "execution_count": 18,
   "metadata": {
    "ExecuteTime": {
     "end_time": "2020-08-12T10:27:35.706449Z",
     "start_time": "2020-08-12T10:26:44.962909Z"
    }
   },
   "outputs": [],
   "source": [
    "relevance_implicit_full = relevance_spotlight_implicit(allUsers_topK_imp)"
   ]
  },
  {
   "cell_type": "markdown",
   "metadata": {},
   "source": [
    "The dcg and ideal_dcg functions are taken form https://github.com/lezzago/LambdaMart/blob/master/lambdamart.py. They are necessary to compute the desired NDCG evaluation metric."
   ]
  },
  {
   "cell_type": "code",
   "execution_count": 19,
   "metadata": {
    "ExecuteTime": {
     "end_time": "2020-08-12T10:27:35.721893Z",
     "start_time": "2020-08-12T10:27:35.706449Z"
    }
   },
   "outputs": [],
   "source": [
    "def dcg(scores):\n",
    "    \"\"\"\n",
    "    Returns the DCG value of the list of scores.\n",
    "    Parameters\n",
    "    ----------\n",
    "    scores : list\n",
    "        Contains labels in a certain ranked order\n",
    "\n",
    "    Returns\n",
    "    -------\n",
    "    DCG_val: int\n",
    "        This is the value of the DCG on the given scores\n",
    "    \"\"\"\n",
    "    return np.sum([\n",
    "                    (np.power(2, scores[i]) - 1) / np.log2(i + 2)\n",
    "                    for i in range(len(scores))\n",
    "                ])"
   ]
  },
  {
   "cell_type": "code",
   "execution_count": 20,
   "metadata": {
    "ExecuteTime": {
     "end_time": "2020-08-12T10:27:35.737720Z",
     "start_time": "2020-08-12T10:27:35.721893Z"
    }
   },
   "outputs": [],
   "source": [
    "def ideal_dcg(scores):\n",
    "    \"\"\"\n",
    "    Returns the Ideal DCG value of the list of scores.\n",
    "    Parameters\n",
    "    ----------\n",
    "    scores : list\n",
    "        Contains labels in a certain ranked order\n",
    "\n",
    "    Returns\n",
    "    -------\n",
    "    Ideal_DCG_val: int\n",
    "        This is the value of the Ideal DCG on the given scores\n",
    "    \"\"\"\n",
    "    scores = [score for score in sorted(scores)[::-1]]\n",
    "    return dcg(scores)"
   ]
  },
  {
   "cell_type": "code",
   "execution_count": 21,
   "metadata": {
    "ExecuteTime": {
     "end_time": "2020-08-12T10:27:35.753339Z",
     "start_time": "2020-08-12T10:27:35.737720Z"
    }
   },
   "outputs": [],
   "source": [
    "def NDCG_forUser(relevance):\n",
    "    return dcg(relevance) / ideal_dcg(relevance)"
   ]
  },
  {
   "cell_type": "code",
   "execution_count": 22,
   "metadata": {
    "ExecuteTime": {
     "end_time": "2020-08-12T10:27:35.794357Z",
     "start_time": "2020-08-12T10:27:35.753339Z"
    }
   },
   "outputs": [
    {
     "name": "stdout",
     "output_type": "stream",
     "text": [
      "0.7857975526449194\n"
     ]
    }
   ],
   "source": [
    "ndcg = NDCG_forUser(relevance_implicit_full)\n",
    "print(ndcg)"
   ]
  },
  {
   "cell_type": "markdown",
   "metadata": {},
   "source": [
    "Creation of a list (allUsers_implicit_ndcg) that contains the NDCG score for each user."
   ]
  },
  {
   "cell_type": "code",
   "execution_count": 23,
   "metadata": {
    "ExecuteTime": {
     "end_time": "2020-08-12T10:27:35.801371Z",
     "start_time": "2020-08-12T10:27:35.798385Z"
    }
   },
   "outputs": [],
   "source": [
    "def allUsers_ndcg(relevance):\n",
    "    allUsers_implicit_ndcg = []\n",
    "    for i in range(len(num_users)):\n",
    "        allUsers_implicit_ndcg.append(NDCG_forUser(relevance[i]))\n",
    "    return allUsers_implicit_ndcg"
   ]
  },
  {
   "cell_type": "code",
   "execution_count": 24,
   "metadata": {
    "ExecuteTime": {
     "end_time": "2020-08-12T10:27:37.217588Z",
     "start_time": "2020-08-12T10:27:35.804329Z"
    }
   },
   "outputs": [
    {
     "name": "stderr",
     "output_type": "stream",
     "text": [
      "C:\\Users\\papad\\Anaconda3\\lib\\site-packages\\ipykernel_launcher.py:2: RuntimeWarning: invalid value encountered in double_scalars\n",
      "  \n"
     ]
    }
   ],
   "source": [
    "allUsers_implicit_ndcg = allUsers_ndcg(relevance_implicit_full)"
   ]
  },
  {
   "cell_type": "markdown",
   "metadata": {},
   "source": [
    "Fill the nan values with 0s."
   ]
  },
  {
   "cell_type": "code",
   "execution_count": 25,
   "metadata": {
    "ExecuteTime": {
     "end_time": "2020-08-12T10:27:37.233082Z",
     "start_time": "2020-08-12T10:27:37.217588Z"
    }
   },
   "outputs": [],
   "source": [
    "allUsers_implicit_ndcg = pd.Series(allUsers_implicit_ndcg).fillna(0).tolist()"
   ]
  },
  {
   "cell_type": "code",
   "execution_count": 26,
   "metadata": {
    "ExecuteTime": {
     "end_time": "2020-08-12T10:27:37.259880Z",
     "start_time": "2020-08-12T10:27:37.233082Z"
    }
   },
   "outputs": [
    {
     "data": {
      "text/plain": [
       "0.15528082612401123"
      ]
     },
     "execution_count": 26,
     "metadata": {},
     "output_type": "execute_result"
    }
   ],
   "source": [
    "np.array(allUsers_implicit_ndcg).mean()"
   ]
  },
  {
   "cell_type": "markdown",
   "metadata": {},
   "source": [
    "# SVD"
   ]
  },
  {
   "cell_type": "markdown",
   "metadata": {},
   "source": [
    "Pivot is used to have a matrix that has as rows the userIDs and as columns the movieIDs. The unrated, by a user, movies are assigned the value 0 instead of null. Pivot organizes a DataFrame by giving index and column values. It is helpful in the recommender systems approach."
   ]
  },
  {
   "cell_type": "code",
   "execution_count": 27,
   "metadata": {
    "ExecuteTime": {
     "end_time": "2020-08-12T10:27:37.385075Z",
     "start_time": "2020-08-12T10:27:37.261874Z"
    }
   },
   "outputs": [],
   "source": [
    "df_book_features = train_df.pivot(\n",
    "    index='user_id',\n",
    "    columns='book_id',\n",
    "    values='rating'\n",
    ").fillna(0)"
   ]
  },
  {
   "cell_type": "code",
   "execution_count": 28,
   "metadata": {
    "ExecuteTime": {
     "end_time": "2020-08-12T10:27:37.416319Z",
     "start_time": "2020-08-12T10:27:37.385075Z"
    }
   },
   "outputs": [
    {
     "data": {
      "text/html": [
       "<div>\n",
       "<style scoped>\n",
       "    .dataframe tbody tr th:only-of-type {\n",
       "        vertical-align: middle;\n",
       "    }\n",
       "\n",
       "    .dataframe tbody tr th {\n",
       "        vertical-align: top;\n",
       "    }\n",
       "\n",
       "    .dataframe thead th {\n",
       "        text-align: right;\n",
       "    }\n",
       "</style>\n",
       "<table border=\"1\" class=\"dataframe\">\n",
       "  <thead>\n",
       "    <tr style=\"text-align: right;\">\n",
       "      <th>book_id</th>\n",
       "      <th>2</th>\n",
       "      <th>3</th>\n",
       "      <th>4</th>\n",
       "      <th>5</th>\n",
       "      <th>7</th>\n",
       "      <th>8</th>\n",
       "      <th>9</th>\n",
       "      <th>10</th>\n",
       "      <th>11</th>\n",
       "      <th>13</th>\n",
       "      <th>...</th>\n",
       "      <th>9974</th>\n",
       "      <th>9978</th>\n",
       "      <th>9981</th>\n",
       "      <th>9985</th>\n",
       "      <th>9988</th>\n",
       "      <th>9990</th>\n",
       "      <th>9991</th>\n",
       "      <th>9995</th>\n",
       "      <th>9998</th>\n",
       "      <th>10000</th>\n",
       "    </tr>\n",
       "    <tr>\n",
       "      <th>user_id</th>\n",
       "      <th></th>\n",
       "      <th></th>\n",
       "      <th></th>\n",
       "      <th></th>\n",
       "      <th></th>\n",
       "      <th></th>\n",
       "      <th></th>\n",
       "      <th></th>\n",
       "      <th></th>\n",
       "      <th></th>\n",
       "      <th></th>\n",
       "      <th></th>\n",
       "      <th></th>\n",
       "      <th></th>\n",
       "      <th></th>\n",
       "      <th></th>\n",
       "      <th></th>\n",
       "      <th></th>\n",
       "      <th></th>\n",
       "      <th></th>\n",
       "      <th></th>\n",
       "    </tr>\n",
       "  </thead>\n",
       "  <tbody>\n",
       "    <tr>\n",
       "      <th>1</th>\n",
       "      <td>0.0</td>\n",
       "      <td>0.0</td>\n",
       "      <td>0.0</td>\n",
       "      <td>0.0</td>\n",
       "      <td>0.0</td>\n",
       "      <td>0.0</td>\n",
       "      <td>0.0</td>\n",
       "      <td>0.0</td>\n",
       "      <td>0.0</td>\n",
       "      <td>0.0</td>\n",
       "      <td>...</td>\n",
       "      <td>0.0</td>\n",
       "      <td>0.0</td>\n",
       "      <td>0.0</td>\n",
       "      <td>0.0</td>\n",
       "      <td>0.0</td>\n",
       "      <td>0.0</td>\n",
       "      <td>0.0</td>\n",
       "      <td>0.0</td>\n",
       "      <td>0.0</td>\n",
       "      <td>0.0</td>\n",
       "    </tr>\n",
       "    <tr>\n",
       "      <th>2</th>\n",
       "      <td>0.0</td>\n",
       "      <td>0.0</td>\n",
       "      <td>0.0</td>\n",
       "      <td>0.0</td>\n",
       "      <td>0.0</td>\n",
       "      <td>0.0</td>\n",
       "      <td>0.0</td>\n",
       "      <td>0.0</td>\n",
       "      <td>0.0</td>\n",
       "      <td>0.0</td>\n",
       "      <td>...</td>\n",
       "      <td>0.0</td>\n",
       "      <td>0.0</td>\n",
       "      <td>0.0</td>\n",
       "      <td>0.0</td>\n",
       "      <td>0.0</td>\n",
       "      <td>0.0</td>\n",
       "      <td>0.0</td>\n",
       "      <td>0.0</td>\n",
       "      <td>0.0</td>\n",
       "      <td>0.0</td>\n",
       "    </tr>\n",
       "    <tr>\n",
       "      <th>4</th>\n",
       "      <td>5.0</td>\n",
       "      <td>0.0</td>\n",
       "      <td>4.0</td>\n",
       "      <td>4.0</td>\n",
       "      <td>0.0</td>\n",
       "      <td>0.0</td>\n",
       "      <td>0.0</td>\n",
       "      <td>0.0</td>\n",
       "      <td>4.0</td>\n",
       "      <td>4.0</td>\n",
       "      <td>...</td>\n",
       "      <td>0.0</td>\n",
       "      <td>0.0</td>\n",
       "      <td>0.0</td>\n",
       "      <td>0.0</td>\n",
       "      <td>0.0</td>\n",
       "      <td>0.0</td>\n",
       "      <td>0.0</td>\n",
       "      <td>0.0</td>\n",
       "      <td>0.0</td>\n",
       "      <td>0.0</td>\n",
       "    </tr>\n",
       "    <tr>\n",
       "      <th>6</th>\n",
       "      <td>0.0</td>\n",
       "      <td>0.0</td>\n",
       "      <td>0.0</td>\n",
       "      <td>0.0</td>\n",
       "      <td>0.0</td>\n",
       "      <td>0.0</td>\n",
       "      <td>0.0</td>\n",
       "      <td>0.0</td>\n",
       "      <td>0.0</td>\n",
       "      <td>0.0</td>\n",
       "      <td>...</td>\n",
       "      <td>0.0</td>\n",
       "      <td>0.0</td>\n",
       "      <td>0.0</td>\n",
       "      <td>0.0</td>\n",
       "      <td>0.0</td>\n",
       "      <td>0.0</td>\n",
       "      <td>0.0</td>\n",
       "      <td>0.0</td>\n",
       "      <td>0.0</td>\n",
       "      <td>0.0</td>\n",
       "    </tr>\n",
       "    <tr>\n",
       "      <th>7</th>\n",
       "      <td>0.0</td>\n",
       "      <td>0.0</td>\n",
       "      <td>0.0</td>\n",
       "      <td>3.0</td>\n",
       "      <td>0.0</td>\n",
       "      <td>0.0</td>\n",
       "      <td>0.0</td>\n",
       "      <td>0.0</td>\n",
       "      <td>0.0</td>\n",
       "      <td>0.0</td>\n",
       "      <td>...</td>\n",
       "      <td>0.0</td>\n",
       "      <td>0.0</td>\n",
       "      <td>0.0</td>\n",
       "      <td>0.0</td>\n",
       "      <td>0.0</td>\n",
       "      <td>0.0</td>\n",
       "      <td>0.0</td>\n",
       "      <td>0.0</td>\n",
       "      <td>0.0</td>\n",
       "      <td>0.0</td>\n",
       "    </tr>\n",
       "    <tr>\n",
       "      <th>...</th>\n",
       "      <td>...</td>\n",
       "      <td>...</td>\n",
       "      <td>...</td>\n",
       "      <td>...</td>\n",
       "      <td>...</td>\n",
       "      <td>...</td>\n",
       "      <td>...</td>\n",
       "      <td>...</td>\n",
       "      <td>...</td>\n",
       "      <td>...</td>\n",
       "      <td>...</td>\n",
       "      <td>...</td>\n",
       "      <td>...</td>\n",
       "      <td>...</td>\n",
       "      <td>...</td>\n",
       "      <td>...</td>\n",
       "      <td>...</td>\n",
       "      <td>...</td>\n",
       "      <td>...</td>\n",
       "      <td>...</td>\n",
       "      <td>...</td>\n",
       "    </tr>\n",
       "    <tr>\n",
       "      <th>1939</th>\n",
       "      <td>0.0</td>\n",
       "      <td>0.0</td>\n",
       "      <td>0.0</td>\n",
       "      <td>0.0</td>\n",
       "      <td>0.0</td>\n",
       "      <td>0.0</td>\n",
       "      <td>0.0</td>\n",
       "      <td>0.0</td>\n",
       "      <td>4.0</td>\n",
       "      <td>0.0</td>\n",
       "      <td>...</td>\n",
       "      <td>0.0</td>\n",
       "      <td>0.0</td>\n",
       "      <td>0.0</td>\n",
       "      <td>0.0</td>\n",
       "      <td>0.0</td>\n",
       "      <td>0.0</td>\n",
       "      <td>0.0</td>\n",
       "      <td>0.0</td>\n",
       "      <td>0.0</td>\n",
       "      <td>0.0</td>\n",
       "    </tr>\n",
       "    <tr>\n",
       "      <th>1941</th>\n",
       "      <td>0.0</td>\n",
       "      <td>0.0</td>\n",
       "      <td>0.0</td>\n",
       "      <td>0.0</td>\n",
       "      <td>0.0</td>\n",
       "      <td>0.0</td>\n",
       "      <td>0.0</td>\n",
       "      <td>0.0</td>\n",
       "      <td>0.0</td>\n",
       "      <td>0.0</td>\n",
       "      <td>...</td>\n",
       "      <td>0.0</td>\n",
       "      <td>0.0</td>\n",
       "      <td>0.0</td>\n",
       "      <td>0.0</td>\n",
       "      <td>0.0</td>\n",
       "      <td>0.0</td>\n",
       "      <td>0.0</td>\n",
       "      <td>0.0</td>\n",
       "      <td>0.0</td>\n",
       "      <td>0.0</td>\n",
       "    </tr>\n",
       "    <tr>\n",
       "      <th>1942</th>\n",
       "      <td>0.0</td>\n",
       "      <td>5.0</td>\n",
       "      <td>0.0</td>\n",
       "      <td>0.0</td>\n",
       "      <td>3.0</td>\n",
       "      <td>0.0</td>\n",
       "      <td>3.0</td>\n",
       "      <td>5.0</td>\n",
       "      <td>0.0</td>\n",
       "      <td>0.0</td>\n",
       "      <td>...</td>\n",
       "      <td>0.0</td>\n",
       "      <td>0.0</td>\n",
       "      <td>0.0</td>\n",
       "      <td>0.0</td>\n",
       "      <td>0.0</td>\n",
       "      <td>0.0</td>\n",
       "      <td>0.0</td>\n",
       "      <td>0.0</td>\n",
       "      <td>0.0</td>\n",
       "      <td>0.0</td>\n",
       "    </tr>\n",
       "    <tr>\n",
       "      <th>1947</th>\n",
       "      <td>0.0</td>\n",
       "      <td>0.0</td>\n",
       "      <td>0.0</td>\n",
       "      <td>0.0</td>\n",
       "      <td>3.0</td>\n",
       "      <td>0.0</td>\n",
       "      <td>0.0</td>\n",
       "      <td>0.0</td>\n",
       "      <td>0.0</td>\n",
       "      <td>0.0</td>\n",
       "      <td>...</td>\n",
       "      <td>0.0</td>\n",
       "      <td>0.0</td>\n",
       "      <td>0.0</td>\n",
       "      <td>0.0</td>\n",
       "      <td>0.0</td>\n",
       "      <td>0.0</td>\n",
       "      <td>0.0</td>\n",
       "      <td>0.0</td>\n",
       "      <td>0.0</td>\n",
       "      <td>0.0</td>\n",
       "    </tr>\n",
       "    <tr>\n",
       "      <th>1956</th>\n",
       "      <td>0.0</td>\n",
       "      <td>0.0</td>\n",
       "      <td>0.0</td>\n",
       "      <td>0.0</td>\n",
       "      <td>0.0</td>\n",
       "      <td>0.0</td>\n",
       "      <td>0.0</td>\n",
       "      <td>0.0</td>\n",
       "      <td>0.0</td>\n",
       "      <td>0.0</td>\n",
       "      <td>...</td>\n",
       "      <td>0.0</td>\n",
       "      <td>0.0</td>\n",
       "      <td>0.0</td>\n",
       "      <td>0.0</td>\n",
       "      <td>0.0</td>\n",
       "      <td>0.0</td>\n",
       "      <td>0.0</td>\n",
       "      <td>0.0</td>\n",
       "      <td>0.0</td>\n",
       "      <td>0.0</td>\n",
       "    </tr>\n",
       "  </tbody>\n",
       "</table>\n",
       "<p>1144 rows × 4082 columns</p>\n",
       "</div>"
      ],
      "text/plain": [
       "book_id  2      3      4      5      7      8      9      10     11     13     \\\n",
       "user_id                                                                         \n",
       "1          0.0    0.0    0.0    0.0    0.0    0.0    0.0    0.0    0.0    0.0   \n",
       "2          0.0    0.0    0.0    0.0    0.0    0.0    0.0    0.0    0.0    0.0   \n",
       "4          5.0    0.0    4.0    4.0    0.0    0.0    0.0    0.0    4.0    4.0   \n",
       "6          0.0    0.0    0.0    0.0    0.0    0.0    0.0    0.0    0.0    0.0   \n",
       "7          0.0    0.0    0.0    3.0    0.0    0.0    0.0    0.0    0.0    0.0   \n",
       "...        ...    ...    ...    ...    ...    ...    ...    ...    ...    ...   \n",
       "1939       0.0    0.0    0.0    0.0    0.0    0.0    0.0    0.0    4.0    0.0   \n",
       "1941       0.0    0.0    0.0    0.0    0.0    0.0    0.0    0.0    0.0    0.0   \n",
       "1942       0.0    5.0    0.0    0.0    3.0    0.0    3.0    5.0    0.0    0.0   \n",
       "1947       0.0    0.0    0.0    0.0    3.0    0.0    0.0    0.0    0.0    0.0   \n",
       "1956       0.0    0.0    0.0    0.0    0.0    0.0    0.0    0.0    0.0    0.0   \n",
       "\n",
       "book_id  ...  9974   9978   9981   9985   9988   9990   9991   9995   9998   \\\n",
       "user_id  ...                                                                  \n",
       "1        ...    0.0    0.0    0.0    0.0    0.0    0.0    0.0    0.0    0.0   \n",
       "2        ...    0.0    0.0    0.0    0.0    0.0    0.0    0.0    0.0    0.0   \n",
       "4        ...    0.0    0.0    0.0    0.0    0.0    0.0    0.0    0.0    0.0   \n",
       "6        ...    0.0    0.0    0.0    0.0    0.0    0.0    0.0    0.0    0.0   \n",
       "7        ...    0.0    0.0    0.0    0.0    0.0    0.0    0.0    0.0    0.0   \n",
       "...      ...    ...    ...    ...    ...    ...    ...    ...    ...    ...   \n",
       "1939     ...    0.0    0.0    0.0    0.0    0.0    0.0    0.0    0.0    0.0   \n",
       "1941     ...    0.0    0.0    0.0    0.0    0.0    0.0    0.0    0.0    0.0   \n",
       "1942     ...    0.0    0.0    0.0    0.0    0.0    0.0    0.0    0.0    0.0   \n",
       "1947     ...    0.0    0.0    0.0    0.0    0.0    0.0    0.0    0.0    0.0   \n",
       "1956     ...    0.0    0.0    0.0    0.0    0.0    0.0    0.0    0.0    0.0   \n",
       "\n",
       "book_id  10000  \n",
       "user_id         \n",
       "1          0.0  \n",
       "2          0.0  \n",
       "4          0.0  \n",
       "6          0.0  \n",
       "7          0.0  \n",
       "...        ...  \n",
       "1939       0.0  \n",
       "1941       0.0  \n",
       "1942       0.0  \n",
       "1947       0.0  \n",
       "1956       0.0  \n",
       "\n",
       "[1144 rows x 4082 columns]"
      ]
     },
     "execution_count": 28,
     "metadata": {},
     "output_type": "execute_result"
    }
   ],
   "source": [
    "df_book_features"
   ]
  },
  {
   "cell_type": "markdown",
   "metadata": {},
   "source": [
    "## SVD implementation"
   ]
  },
  {
   "cell_type": "code",
   "execution_count": 29,
   "metadata": {
    "ExecuteTime": {
     "end_time": "2020-08-12T10:27:37.836241Z",
     "start_time": "2020-08-12T10:27:37.416319Z"
    }
   },
   "outputs": [],
   "source": [
    "from scipy.sparse.linalg import svds\n",
    "U, sigma, Vt = svds(df_book_features, k = 10)"
   ]
  },
  {
   "cell_type": "markdown",
   "metadata": {},
   "source": [
    "## Predictions"
   ]
  },
  {
   "cell_type": "markdown",
   "metadata": {},
   "source": [
    "To get the prediction of a rating of an item dj, we can calculate the dot product of the two vectors.\n",
    "The sigma variable has just the values, so I have to convert to a diagonal matrix in orded to implement the matrix multiplication."
   ]
  },
  {
   "cell_type": "code",
   "execution_count": 30,
   "metadata": {
    "ExecuteTime": {
     "end_time": "2020-08-12T10:27:37.883066Z",
     "start_time": "2020-08-12T10:27:37.836241Z"
    }
   },
   "outputs": [],
   "source": [
    "sigma = np.diag(sigma)\n",
    "svd_predictions_score = np.dot(np.dot(U, sigma), Vt)\n",
    "svd_predictions_score_df = pd.DataFrame(svd_predictions_score, columns = df_book_features.columns)\n"
   ]
  },
  {
   "cell_type": "code",
   "execution_count": 31,
   "metadata": {
    "ExecuteTime": {
     "end_time": "2020-08-12T10:27:37.929930Z",
     "start_time": "2020-08-12T10:27:37.883066Z"
    }
   },
   "outputs": [
    {
     "data": {
      "text/html": [
       "<div>\n",
       "<style scoped>\n",
       "    .dataframe tbody tr th:only-of-type {\n",
       "        vertical-align: middle;\n",
       "    }\n",
       "\n",
       "    .dataframe tbody tr th {\n",
       "        vertical-align: top;\n",
       "    }\n",
       "\n",
       "    .dataframe thead th {\n",
       "        text-align: right;\n",
       "    }\n",
       "</style>\n",
       "<table border=\"1\" class=\"dataframe\">\n",
       "  <thead>\n",
       "    <tr style=\"text-align: right;\">\n",
       "      <th>book_id</th>\n",
       "      <th>2</th>\n",
       "      <th>3</th>\n",
       "      <th>4</th>\n",
       "      <th>5</th>\n",
       "      <th>7</th>\n",
       "      <th>8</th>\n",
       "      <th>9</th>\n",
       "      <th>10</th>\n",
       "      <th>11</th>\n",
       "      <th>13</th>\n",
       "      <th>...</th>\n",
       "      <th>9974</th>\n",
       "      <th>9978</th>\n",
       "      <th>9981</th>\n",
       "      <th>9985</th>\n",
       "      <th>9988</th>\n",
       "      <th>9990</th>\n",
       "      <th>9991</th>\n",
       "      <th>9995</th>\n",
       "      <th>9998</th>\n",
       "      <th>10000</th>\n",
       "    </tr>\n",
       "  </thead>\n",
       "  <tbody>\n",
       "    <tr>\n",
       "      <th>0</th>\n",
       "      <td>-0.049298</td>\n",
       "      <td>0.003692</td>\n",
       "      <td>-0.002757</td>\n",
       "      <td>0.039626</td>\n",
       "      <td>-0.033749</td>\n",
       "      <td>-0.052833</td>\n",
       "      <td>-0.024511</td>\n",
       "      <td>0.132729</td>\n",
       "      <td>0.072617</td>\n",
       "      <td>-0.067501</td>\n",
       "      <td>...</td>\n",
       "      <td>-0.000988</td>\n",
       "      <td>0.000645</td>\n",
       "      <td>-0.002088</td>\n",
       "      <td>-0.000244</td>\n",
       "      <td>-0.000365</td>\n",
       "      <td>0.001394</td>\n",
       "      <td>0.002273</td>\n",
       "      <td>-0.000170</td>\n",
       "      <td>-0.000207</td>\n",
       "      <td>-0.002350</td>\n",
       "    </tr>\n",
       "    <tr>\n",
       "      <th>1</th>\n",
       "      <td>0.073866</td>\n",
       "      <td>0.005820</td>\n",
       "      <td>-0.003101</td>\n",
       "      <td>0.154533</td>\n",
       "      <td>-0.037335</td>\n",
       "      <td>-0.098766</td>\n",
       "      <td>0.116468</td>\n",
       "      <td>0.194036</td>\n",
       "      <td>0.436235</td>\n",
       "      <td>0.029497</td>\n",
       "      <td>...</td>\n",
       "      <td>-0.000782</td>\n",
       "      <td>0.001042</td>\n",
       "      <td>0.003692</td>\n",
       "      <td>0.000375</td>\n",
       "      <td>-0.000288</td>\n",
       "      <td>0.000474</td>\n",
       "      <td>-0.003896</td>\n",
       "      <td>-0.003194</td>\n",
       "      <td>-0.001226</td>\n",
       "      <td>-0.006164</td>\n",
       "    </tr>\n",
       "    <tr>\n",
       "      <th>2</th>\n",
       "      <td>4.094888</td>\n",
       "      <td>0.047320</td>\n",
       "      <td>4.652056</td>\n",
       "      <td>3.074406</td>\n",
       "      <td>1.618992</td>\n",
       "      <td>3.185479</td>\n",
       "      <td>1.338068</td>\n",
       "      <td>1.789311</td>\n",
       "      <td>2.012343</td>\n",
       "      <td>2.561870</td>\n",
       "      <td>...</td>\n",
       "      <td>0.066197</td>\n",
       "      <td>-0.040661</td>\n",
       "      <td>0.004311</td>\n",
       "      <td>-0.000514</td>\n",
       "      <td>-0.002891</td>\n",
       "      <td>-0.001911</td>\n",
       "      <td>0.032142</td>\n",
       "      <td>0.048433</td>\n",
       "      <td>-0.002958</td>\n",
       "      <td>0.040937</td>\n",
       "    </tr>\n",
       "    <tr>\n",
       "      <th>3</th>\n",
       "      <td>-0.000462</td>\n",
       "      <td>-0.000057</td>\n",
       "      <td>-0.000121</td>\n",
       "      <td>0.000834</td>\n",
       "      <td>-0.000370</td>\n",
       "      <td>0.001290</td>\n",
       "      <td>0.000341</td>\n",
       "      <td>0.000253</td>\n",
       "      <td>0.001287</td>\n",
       "      <td>-0.000213</td>\n",
       "      <td>...</td>\n",
       "      <td>-0.000021</td>\n",
       "      <td>0.000029</td>\n",
       "      <td>0.000018</td>\n",
       "      <td>0.000001</td>\n",
       "      <td>0.000015</td>\n",
       "      <td>0.000008</td>\n",
       "      <td>-0.000008</td>\n",
       "      <td>-0.000050</td>\n",
       "      <td>0.000004</td>\n",
       "      <td>-0.000017</td>\n",
       "    </tr>\n",
       "    <tr>\n",
       "      <th>4</th>\n",
       "      <td>-0.041045</td>\n",
       "      <td>0.045452</td>\n",
       "      <td>1.553995</td>\n",
       "      <td>0.436229</td>\n",
       "      <td>1.586831</td>\n",
       "      <td>-0.211696</td>\n",
       "      <td>0.043967</td>\n",
       "      <td>-0.010388</td>\n",
       "      <td>1.275714</td>\n",
       "      <td>0.739684</td>\n",
       "      <td>...</td>\n",
       "      <td>0.030648</td>\n",
       "      <td>-0.058905</td>\n",
       "      <td>-0.037550</td>\n",
       "      <td>0.002853</td>\n",
       "      <td>-0.016601</td>\n",
       "      <td>0.007262</td>\n",
       "      <td>0.021558</td>\n",
       "      <td>0.062604</td>\n",
       "      <td>0.001035</td>\n",
       "      <td>-0.016143</td>\n",
       "    </tr>\n",
       "    <tr>\n",
       "      <th>...</th>\n",
       "      <td>...</td>\n",
       "      <td>...</td>\n",
       "      <td>...</td>\n",
       "      <td>...</td>\n",
       "      <td>...</td>\n",
       "      <td>...</td>\n",
       "      <td>...</td>\n",
       "      <td>...</td>\n",
       "      <td>...</td>\n",
       "      <td>...</td>\n",
       "      <td>...</td>\n",
       "      <td>...</td>\n",
       "      <td>...</td>\n",
       "      <td>...</td>\n",
       "      <td>...</td>\n",
       "      <td>...</td>\n",
       "      <td>...</td>\n",
       "      <td>...</td>\n",
       "      <td>...</td>\n",
       "      <td>...</td>\n",
       "      <td>...</td>\n",
       "    </tr>\n",
       "    <tr>\n",
       "      <th>1139</th>\n",
       "      <td>0.186668</td>\n",
       "      <td>-0.003004</td>\n",
       "      <td>-0.161435</td>\n",
       "      <td>0.679254</td>\n",
       "      <td>-0.120213</td>\n",
       "      <td>-0.120348</td>\n",
       "      <td>0.358933</td>\n",
       "      <td>-0.383086</td>\n",
       "      <td>2.782027</td>\n",
       "      <td>0.110153</td>\n",
       "      <td>...</td>\n",
       "      <td>0.024413</td>\n",
       "      <td>0.000158</td>\n",
       "      <td>0.013547</td>\n",
       "      <td>0.002375</td>\n",
       "      <td>-0.001155</td>\n",
       "      <td>0.014456</td>\n",
       "      <td>0.001070</td>\n",
       "      <td>-0.001904</td>\n",
       "      <td>0.000033</td>\n",
       "      <td>-0.023758</td>\n",
       "    </tr>\n",
       "    <tr>\n",
       "      <th>1140</th>\n",
       "      <td>0.014225</td>\n",
       "      <td>0.003949</td>\n",
       "      <td>0.046181</td>\n",
       "      <td>0.002087</td>\n",
       "      <td>0.030339</td>\n",
       "      <td>-0.029959</td>\n",
       "      <td>-0.008724</td>\n",
       "      <td>0.082055</td>\n",
       "      <td>-0.022925</td>\n",
       "      <td>-0.004635</td>\n",
       "      <td>...</td>\n",
       "      <td>-0.000456</td>\n",
       "      <td>-0.000796</td>\n",
       "      <td>-0.001413</td>\n",
       "      <td>-0.000059</td>\n",
       "      <td>-0.000578</td>\n",
       "      <td>-0.000155</td>\n",
       "      <td>0.000808</td>\n",
       "      <td>0.001797</td>\n",
       "      <td>-0.000146</td>\n",
       "      <td>-0.000350</td>\n",
       "    </tr>\n",
       "    <tr>\n",
       "      <th>1141</th>\n",
       "      <td>0.144568</td>\n",
       "      <td>0.101535</td>\n",
       "      <td>1.135020</td>\n",
       "      <td>0.816500</td>\n",
       "      <td>0.490991</td>\n",
       "      <td>-0.383510</td>\n",
       "      <td>0.210712</td>\n",
       "      <td>2.969982</td>\n",
       "      <td>0.066582</td>\n",
       "      <td>0.203215</td>\n",
       "      <td>...</td>\n",
       "      <td>-0.034337</td>\n",
       "      <td>0.008915</td>\n",
       "      <td>-0.010159</td>\n",
       "      <td>-0.000772</td>\n",
       "      <td>-0.004760</td>\n",
       "      <td>-0.008157</td>\n",
       "      <td>0.004159</td>\n",
       "      <td>0.019308</td>\n",
       "      <td>-0.005514</td>\n",
       "      <td>-0.018770</td>\n",
       "    </tr>\n",
       "    <tr>\n",
       "      <th>1142</th>\n",
       "      <td>1.087707</td>\n",
       "      <td>0.006272</td>\n",
       "      <td>0.337514</td>\n",
       "      <td>0.343551</td>\n",
       "      <td>0.217767</td>\n",
       "      <td>0.549196</td>\n",
       "      <td>0.313417</td>\n",
       "      <td>0.555213</td>\n",
       "      <td>0.275634</td>\n",
       "      <td>0.241986</td>\n",
       "      <td>...</td>\n",
       "      <td>0.003651</td>\n",
       "      <td>0.003413</td>\n",
       "      <td>0.004876</td>\n",
       "      <td>0.000022</td>\n",
       "      <td>0.000467</td>\n",
       "      <td>-0.001032</td>\n",
       "      <td>-0.006346</td>\n",
       "      <td>-0.005842</td>\n",
       "      <td>-0.001072</td>\n",
       "      <td>0.005331</td>\n",
       "    </tr>\n",
       "    <tr>\n",
       "      <th>1143</th>\n",
       "      <td>-0.162021</td>\n",
       "      <td>0.028461</td>\n",
       "      <td>0.357474</td>\n",
       "      <td>0.286146</td>\n",
       "      <td>-0.004943</td>\n",
       "      <td>-0.058365</td>\n",
       "      <td>-0.088194</td>\n",
       "      <td>0.903780</td>\n",
       "      <td>-0.161110</td>\n",
       "      <td>-0.183004</td>\n",
       "      <td>...</td>\n",
       "      <td>-0.007247</td>\n",
       "      <td>0.003914</td>\n",
       "      <td>-0.010107</td>\n",
       "      <td>-0.001638</td>\n",
       "      <td>-0.000621</td>\n",
       "      <td>0.002711</td>\n",
       "      <td>0.014331</td>\n",
       "      <td>0.007311</td>\n",
       "      <td>-0.000743</td>\n",
       "      <td>-0.003299</td>\n",
       "    </tr>\n",
       "  </tbody>\n",
       "</table>\n",
       "<p>1144 rows × 4082 columns</p>\n",
       "</div>"
      ],
      "text/plain": [
       "book_id     2         3         4         5         7         8         9      \\\n",
       "0       -0.049298  0.003692 -0.002757  0.039626 -0.033749 -0.052833 -0.024511   \n",
       "1        0.073866  0.005820 -0.003101  0.154533 -0.037335 -0.098766  0.116468   \n",
       "2        4.094888  0.047320  4.652056  3.074406  1.618992  3.185479  1.338068   \n",
       "3       -0.000462 -0.000057 -0.000121  0.000834 -0.000370  0.001290  0.000341   \n",
       "4       -0.041045  0.045452  1.553995  0.436229  1.586831 -0.211696  0.043967   \n",
       "...           ...       ...       ...       ...       ...       ...       ...   \n",
       "1139     0.186668 -0.003004 -0.161435  0.679254 -0.120213 -0.120348  0.358933   \n",
       "1140     0.014225  0.003949  0.046181  0.002087  0.030339 -0.029959 -0.008724   \n",
       "1141     0.144568  0.101535  1.135020  0.816500  0.490991 -0.383510  0.210712   \n",
       "1142     1.087707  0.006272  0.337514  0.343551  0.217767  0.549196  0.313417   \n",
       "1143    -0.162021  0.028461  0.357474  0.286146 -0.004943 -0.058365 -0.088194   \n",
       "\n",
       "book_id     10        11        13     ...     9974      9978      9981   \\\n",
       "0        0.132729  0.072617 -0.067501  ... -0.000988  0.000645 -0.002088   \n",
       "1        0.194036  0.436235  0.029497  ... -0.000782  0.001042  0.003692   \n",
       "2        1.789311  2.012343  2.561870  ...  0.066197 -0.040661  0.004311   \n",
       "3        0.000253  0.001287 -0.000213  ... -0.000021  0.000029  0.000018   \n",
       "4       -0.010388  1.275714  0.739684  ...  0.030648 -0.058905 -0.037550   \n",
       "...           ...       ...       ...  ...       ...       ...       ...   \n",
       "1139    -0.383086  2.782027  0.110153  ...  0.024413  0.000158  0.013547   \n",
       "1140     0.082055 -0.022925 -0.004635  ... -0.000456 -0.000796 -0.001413   \n",
       "1141     2.969982  0.066582  0.203215  ... -0.034337  0.008915 -0.010159   \n",
       "1142     0.555213  0.275634  0.241986  ...  0.003651  0.003413  0.004876   \n",
       "1143     0.903780 -0.161110 -0.183004  ... -0.007247  0.003914 -0.010107   \n",
       "\n",
       "book_id     9985      9988      9990      9991      9995      9998      10000  \n",
       "0       -0.000244 -0.000365  0.001394  0.002273 -0.000170 -0.000207 -0.002350  \n",
       "1        0.000375 -0.000288  0.000474 -0.003896 -0.003194 -0.001226 -0.006164  \n",
       "2       -0.000514 -0.002891 -0.001911  0.032142  0.048433 -0.002958  0.040937  \n",
       "3        0.000001  0.000015  0.000008 -0.000008 -0.000050  0.000004 -0.000017  \n",
       "4        0.002853 -0.016601  0.007262  0.021558  0.062604  0.001035 -0.016143  \n",
       "...           ...       ...       ...       ...       ...       ...       ...  \n",
       "1139     0.002375 -0.001155  0.014456  0.001070 -0.001904  0.000033 -0.023758  \n",
       "1140    -0.000059 -0.000578 -0.000155  0.000808  0.001797 -0.000146 -0.000350  \n",
       "1141    -0.000772 -0.004760 -0.008157  0.004159  0.019308 -0.005514 -0.018770  \n",
       "1142     0.000022  0.000467 -0.001032 -0.006346 -0.005842 -0.001072  0.005331  \n",
       "1143    -0.001638 -0.000621  0.002711  0.014331  0.007311 -0.000743 -0.003299  \n",
       "\n",
       "[1144 rows x 4082 columns]"
      ]
     },
     "execution_count": 31,
     "metadata": {},
     "output_type": "execute_result"
    }
   ],
   "source": [
    "svd_predictions_score_df"
   ]
  },
  {
   "cell_type": "code",
   "execution_count": 32,
   "metadata": {
    "ExecuteTime": {
     "end_time": "2020-08-12T10:27:37.961169Z",
     "start_time": "2020-08-12T10:27:37.929930Z"
    }
   },
   "outputs": [
    {
     "data": {
      "text/html": [
       "<div>\n",
       "<style scoped>\n",
       "    .dataframe tbody tr th:only-of-type {\n",
       "        vertical-align: middle;\n",
       "    }\n",
       "\n",
       "    .dataframe tbody tr th {\n",
       "        vertical-align: top;\n",
       "    }\n",
       "\n",
       "    .dataframe thead th {\n",
       "        text-align: right;\n",
       "    }\n",
       "</style>\n",
       "<table border=\"1\" class=\"dataframe\">\n",
       "  <thead>\n",
       "    <tr style=\"text-align: right;\">\n",
       "      <th>book_id</th>\n",
       "      <th>2</th>\n",
       "      <th>3</th>\n",
       "      <th>4</th>\n",
       "      <th>5</th>\n",
       "      <th>7</th>\n",
       "      <th>8</th>\n",
       "      <th>9</th>\n",
       "      <th>10</th>\n",
       "      <th>11</th>\n",
       "      <th>13</th>\n",
       "      <th>...</th>\n",
       "      <th>9974</th>\n",
       "      <th>9978</th>\n",
       "      <th>9981</th>\n",
       "      <th>9985</th>\n",
       "      <th>9988</th>\n",
       "      <th>9990</th>\n",
       "      <th>9991</th>\n",
       "      <th>9995</th>\n",
       "      <th>9998</th>\n",
       "      <th>10000</th>\n",
       "    </tr>\n",
       "  </thead>\n",
       "  <tbody>\n",
       "    <tr>\n",
       "      <th>1137</th>\n",
       "      <td>1.162786</td>\n",
       "      <td>-0.012179</td>\n",
       "      <td>0.36298</td>\n",
       "      <td>0.449454</td>\n",
       "      <td>0.056825</td>\n",
       "      <td>0.439091</td>\n",
       "      <td>0.556299</td>\n",
       "      <td>0.037031</td>\n",
       "      <td>2.473144</td>\n",
       "      <td>-0.337238</td>\n",
       "      <td>...</td>\n",
       "      <td>0.012052</td>\n",
       "      <td>-0.006725</td>\n",
       "      <td>0.013464</td>\n",
       "      <td>0.002995</td>\n",
       "      <td>-0.001901</td>\n",
       "      <td>0.006563</td>\n",
       "      <td>-0.012309</td>\n",
       "      <td>-0.016845</td>\n",
       "      <td>0.00014</td>\n",
       "      <td>-0.02208</td>\n",
       "    </tr>\n",
       "  </tbody>\n",
       "</table>\n",
       "<p>1 rows × 4082 columns</p>\n",
       "</div>"
      ],
      "text/plain": [
       "book_id     2         3        4         5         7         8         9      \\\n",
       "1137     1.162786 -0.012179  0.36298  0.449454  0.056825  0.439091  0.556299   \n",
       "\n",
       "book_id     10        11        13     ...     9974      9978      9981   \\\n",
       "1137     0.037031  2.473144 -0.337238  ...  0.012052 -0.006725  0.013464   \n",
       "\n",
       "book_id     9985      9988      9990      9991      9995     9998     10000  \n",
       "1137     0.002995 -0.001901  0.006563 -0.012309 -0.016845  0.00014 -0.02208  \n",
       "\n",
       "[1 rows x 4082 columns]"
      ]
     },
     "execution_count": 32,
     "metadata": {},
     "output_type": "execute_result"
    }
   ],
   "source": [
    "svd_predictions_score_df[svd_predictions_score_df.index == 1137]"
   ]
  },
  {
   "cell_type": "markdown",
   "metadata": {},
   "source": [
    "## Top-K recommendations"
   ]
  },
  {
   "cell_type": "markdown",
   "metadata": {},
   "source": [
    "### First"
   ]
  },
  {
   "cell_type": "markdown",
   "metadata": {},
   "source": [
    "The function below returns a list that contains the top-100 recommendations for each user"
   ]
  },
  {
   "cell_type": "code",
   "execution_count": null,
   "metadata": {
    "ExecuteTime": {
     "end_time": "2020-08-11T12:13:13.935442Z",
     "start_time": "2020-08-11T12:13:13.931419Z"
    }
   },
   "outputs": [],
   "source": []
  },
  {
   "cell_type": "code",
   "execution_count": 33,
   "metadata": {
    "ExecuteTime": {
     "end_time": "2020-08-12T10:27:37.976792Z",
     "start_time": "2020-08-12T10:27:37.961169Z"
    }
   },
   "outputs": [],
   "source": [
    "def SVD_topK_first(score_df):\n",
    "    topK_svd_rec = []\n",
    "    c = 0\n",
    "    for i in range(len(svd_predictions_score_df)):\n",
    "        svd_h_df = pd.DataFrame({'book_id': score_df[score_df.index == i].columns,\n",
    "                                 'score': score_df[score_df.index == i].values[0]})\n",
    "        svd_h_df = svd_h_df.sort_values('score', ascending=False)\n",
    "        svd_h_df = svd_h_df.head(100)\n",
    "        topK_svd_rec.append(svd_h_df['book_id'].values)\n",
    "    return topK_svd_rec"
   ]
  },
  {
   "cell_type": "markdown",
   "metadata": {},
   "source": [
    "## NDCG Score"
   ]
  },
  {
   "cell_type": "markdown",
   "metadata": {},
   "source": [
    "The function below returns the relevance list of a list of movies."
   ]
  },
  {
   "cell_type": "code",
   "execution_count": 34,
   "metadata": {
    "ExecuteTime": {
     "end_time": "2020-08-12T10:27:38.008033Z",
     "start_time": "2020-08-12T10:27:37.976792Z"
    }
   },
   "outputs": [],
   "source": [
    "def SVD_relevance_first(score_df):\n",
    "    svd_topK = SVD_topK_first(score_df)\n",
    "    relevance_svd_full = []\n",
    "    helper = []\n",
    "    count = 0\n",
    "    for i in range(1,len(svd_predictions_score_df)+1):\n",
    "        for j in range(len(svd_topK[count])):\n",
    "            if svd_topK[count][j] in test_df['book_id'][test_df['user_id'] == i].values.tolist():\n",
    "                helper.append(1)\n",
    "            else:\n",
    "                helper.append(0)\n",
    "        relevance_svd_full.append(helper)\n",
    "        helper = []\n",
    "        count += 1\n",
    "    return relevance_svd_full"
   ]
  },
  {
   "cell_type": "code",
   "execution_count": 35,
   "metadata": {
    "ExecuteTime": {
     "end_time": "2020-08-12T10:28:29.426329Z",
     "start_time": "2020-08-12T10:27:38.008033Z"
    }
   },
   "outputs": [],
   "source": [
    "relevance_first = SVD_relevance_first(svd_predictions_score_df)"
   ]
  },
  {
   "cell_type": "code",
   "execution_count": 36,
   "metadata": {
    "ExecuteTime": {
     "end_time": "2020-08-12T10:28:29.441252Z",
     "start_time": "2020-08-12T10:28:29.427288Z"
    }
   },
   "outputs": [
    {
     "data": {
      "text/plain": [
       "(1144, 100)"
      ]
     },
     "execution_count": 36,
     "metadata": {},
     "output_type": "execute_result"
    }
   ],
   "source": [
    "np.asarray(relevance_first).shape"
   ]
  },
  {
   "cell_type": "code",
   "execution_count": 37,
   "metadata": {
    "ExecuteTime": {
     "end_time": "2020-08-12T10:28:29.465774Z",
     "start_time": "2020-08-12T10:28:29.443246Z"
    }
   },
   "outputs": [
    {
     "name": "stderr",
     "output_type": "stream",
     "text": [
      "C:\\Users\\papad\\Anaconda3\\lib\\site-packages\\ipykernel_launcher.py:2: RuntimeWarning: invalid value encountered in double_scalars\n",
      "  \n"
     ]
    }
   ],
   "source": [
    "n_f = NDCG_forUser(relevance_first[0])"
   ]
  },
  {
   "cell_type": "code",
   "execution_count": 38,
   "metadata": {
    "ExecuteTime": {
     "end_time": "2020-08-12T10:28:29.479007Z",
     "start_time": "2020-08-12T10:28:29.465774Z"
    }
   },
   "outputs": [
    {
     "data": {
      "text/plain": [
       "nan"
      ]
     },
     "execution_count": 38,
     "metadata": {},
     "output_type": "execute_result"
    }
   ],
   "source": [
    "n_f"
   ]
  },
  {
   "cell_type": "markdown",
   "metadata": {},
   "source": [
    "Below is the NDCG scores of each user"
   ]
  },
  {
   "cell_type": "code",
   "execution_count": 39,
   "metadata": {
    "ExecuteTime": {
     "end_time": "2020-08-12T10:28:30.906488Z",
     "start_time": "2020-08-12T10:28:29.480999Z"
    }
   },
   "outputs": [
    {
     "name": "stderr",
     "output_type": "stream",
     "text": [
      "C:\\Users\\papad\\Anaconda3\\lib\\site-packages\\ipykernel_launcher.py:2: RuntimeWarning: invalid value encountered in double_scalars\n",
      "  \n"
     ]
    }
   ],
   "source": [
    "def allUsers_ndcg_svd(relevance):\n",
    "    allUsers_implicit_ndcg = []\n",
    "    for i in range(len(svd_predictions_score_df)):\n",
    "        allUsers_implicit_ndcg.append(NDCG_forUser(relevance[i]))\n",
    "    return allUsers_implicit_ndcg\n",
    "all_ndcg_f = allUsers_ndcg_svd(relevance_first)"
   ]
  },
  {
   "cell_type": "code",
   "execution_count": 40,
   "metadata": {
    "ExecuteTime": {
     "end_time": "2020-08-12T10:28:30.914303Z",
     "start_time": "2020-08-12T10:28:30.908321Z"
    }
   },
   "outputs": [],
   "source": [
    "all_ndcg_f = pd.Series(all_ndcg_f).fillna(0).tolist()"
   ]
  },
  {
   "cell_type": "code",
   "execution_count": 41,
   "metadata": {
    "ExecuteTime": {
     "end_time": "2020-08-12T10:28:30.925308Z",
     "start_time": "2020-08-12T10:28:30.915301Z"
    }
   },
   "outputs": [
    {
     "data": {
      "text/plain": [
       "0.14469821380734263"
      ]
     },
     "execution_count": 41,
     "metadata": {},
     "output_type": "execute_result"
    }
   ],
   "source": [
    "np.asarray(all_ndcg_f).mean()"
   ]
  },
  {
   "cell_type": "markdown",
   "metadata": {},
   "source": [
    "# LightGBM Baseline"
   ]
  },
  {
   "cell_type": "markdown",
   "metadata": {},
   "source": [
    "##  Feature 1 (Implicit factorization model scores)"
   ]
  },
  {
   "cell_type": "markdown",
   "metadata": {},
   "source": [
    "Train an implicit factorization model using the train_features dataset"
   ]
  },
  {
   "cell_type": "code",
   "execution_count": 42,
   "metadata": {
    "ExecuteTime": {
     "end_time": "2020-08-12T10:28:43.892730Z",
     "start_time": "2020-08-12T10:28:30.927268Z"
    }
   },
   "outputs": [
    {
     "name": "stdout",
     "output_type": "stream",
     "text": [
      "Epoch 0: loss 0.9283265088995297\n",
      "Epoch 1: loss 0.5826922381917635\n",
      "Epoch 2: loss 0.44931991895039874\n",
      "Epoch 3: loss 0.3980232814947764\n",
      "Epoch 4: loss 0.34253555883963904\n",
      "Training took 12 second\n"
     ]
    }
   ],
   "source": [
    "f1_model = ImplicitFactorizationModel(n_iter = 5)\n",
    "\n",
    "current = time.time()\n",
    "\n",
    "f1_model.fit(implicit_train_features,verbose = True)\n",
    "\n",
    "end = time.time()\n",
    "diff = end - current\n",
    "print('Training took %d second'%(diff))"
   ]
  },
  {
   "cell_type": "markdown",
   "metadata": {},
   "source": [
    "### Target Movies"
   ]
  },
  {
   "cell_type": "code",
   "execution_count": 43,
   "metadata": {
    "ExecuteTime": {
     "end_time": "2020-08-12T10:28:45.907029Z",
     "start_time": "2020-08-12T10:28:43.896719Z"
    }
   },
   "outputs": [],
   "source": [
    "allUsers_topK_f1 = allUsers_topK_implicit(f1_model)\n",
    "target_positive = allUsers_topK_f1"
   ]
  },
  {
   "cell_type": "markdown",
   "metadata": {},
   "source": [
    "Add negative samples to the target movies"
   ]
  },
  {
   "cell_type": "code",
   "execution_count": 44,
   "metadata": {
    "ExecuteTime": {
     "end_time": "2020-08-12T10:28:45.917003Z",
     "start_time": "2020-08-12T10:28:45.910021Z"
    }
   },
   "outputs": [
    {
     "data": {
      "text/plain": [
       "1144"
      ]
     },
     "execution_count": 44,
     "metadata": {},
     "output_type": "execute_result"
    }
   ],
   "source": [
    "len(train_df['user_id'].unique())"
   ]
  },
  {
   "cell_type": "code",
   "execution_count": 73,
   "metadata": {
    "ExecuteTime": {
     "end_time": "2020-08-12T12:51:45.482726Z",
     "start_time": "2020-08-12T12:51:45.477739Z"
    }
   },
   "outputs": [
    {
     "data": {
      "text/plain": [
       "\"import random\\ntarget_negative = []\\nfor i in range(1,len(train_features_df)+1):\\n    target_negative.append(random.choices(train_features_df[train_features_df['user_id']==i]['book_id'].values, k = 5))\""
      ]
     },
     "execution_count": 73,
     "metadata": {},
     "output_type": "execute_result"
    }
   ],
   "source": [
    "'''import random\n",
    "target_negative = []\n",
    "for i in range(1,len(train_features_df)+1):\n",
    "    target_negative.append(random.choices(train_features_df[train_features_df['user_id']==i]['book_id'].values, k = 5))'''"
   ]
  },
  {
   "cell_type": "code",
   "execution_count": 74,
   "metadata": {
    "ExecuteTime": {
     "end_time": "2020-08-12T12:51:59.120654Z",
     "start_time": "2020-08-12T12:51:59.116623Z"
    }
   },
   "outputs": [],
   "source": [
    "'''target_movies = []\n",
    "for i in range(len(num_users)):\n",
    "    target_movies.append(target_positive[i] + target_negative[i])'''\n",
    "target_movies = target_positive"
   ]
  },
  {
   "cell_type": "markdown",
   "metadata": {},
   "source": [
    "Map the target movies to pick the correct predictions based on the item id"
   ]
  },
  {
   "cell_type": "code",
   "execution_count": 75,
   "metadata": {
    "ExecuteTime": {
     "end_time": "2020-08-12T12:52:01.246326Z",
     "start_time": "2020-08-12T12:52:01.241341Z"
    }
   },
   "outputs": [],
   "source": [
    "def map_movies(target_movies):\n",
    "    map_target_movies = []\n",
    "    map_help = []\n",
    "    for movies in target_movies:\n",
    "        for movie in movies:\n",
    "            map_help.append(iid_map[movie])\n",
    "        map_target_movies.append(map_help)\n",
    "        map_help = []\n",
    "    return map_target_movies"
   ]
  },
  {
   "cell_type": "markdown",
   "metadata": {},
   "source": [
    "Implicit Factorization model Scores"
   ]
  },
  {
   "cell_type": "markdown",
   "metadata": {},
   "source": [
    "Train implicit on implicit_features_train! and take these scores."
   ]
  },
  {
   "cell_type": "code",
   "execution_count": 76,
   "metadata": {
    "ExecuteTime": {
     "end_time": "2020-08-12T12:52:02.556570Z",
     "start_time": "2020-08-12T12:52:02.551584Z"
    }
   },
   "outputs": [],
   "source": [
    "def give_movies_implicit_scores(map_movies):\n",
    "    implicit_scores = 0\n",
    "    feature = []\n",
    "    for i in range(len(num_users)):\n",
    "        #for movies in map_target_movies:\n",
    "        my_list = map_movies[i]\n",
    "        my_array = np.array(my_list)\n",
    "        implicit_scores = f1_model.predict(user_ids = i,item_ids = my_array)\n",
    "        feature.append(implicit_scores)\n",
    "    return feature"
   ]
  },
  {
   "cell_type": "code",
   "execution_count": 77,
   "metadata": {
    "ExecuteTime": {
     "end_time": "2020-08-12T12:52:03.363048Z",
     "start_time": "2020-08-12T12:52:03.093208Z"
    }
   },
   "outputs": [
    {
     "data": {
      "text/plain": [
       "(1157, 100)"
      ]
     },
     "execution_count": 77,
     "metadata": {},
     "output_type": "execute_result"
    }
   ],
   "source": [
    "map_target_movies = map_movies(target_movies)\n",
    "feature1 = give_movies_implicit_scores(map_target_movies)\n",
    "feature1 = np.asarray(feature1)\n",
    "feature1.shape"
   ]
  },
  {
   "cell_type": "code",
   "execution_count": 78,
   "metadata": {
    "ExecuteTime": {
     "end_time": "2020-08-12T12:52:03.463060Z",
     "start_time": "2020-08-12T12:52:03.460067Z"
    }
   },
   "outputs": [],
   "source": [
    "#feature1 = np.asarray(feature1).reshape(len(num_users),100)"
   ]
  },
  {
   "cell_type": "markdown",
   "metadata": {},
   "source": [
    "## Feature 2 (Rank)"
   ]
  },
  {
   "cell_type": "code",
   "execution_count": 79,
   "metadata": {
    "ExecuteTime": {
     "end_time": "2020-08-12T12:52:05.196987Z",
     "start_time": "2020-08-12T12:52:04.830932Z"
    }
   },
   "outputs": [],
   "source": [
    "feature2 = []\n",
    "for i in range(len(num_users)):\n",
    "    my_list = map_target_movies[i]\n",
    "    my_array = np.array(my_list)\n",
    "    feature2.append(st.rankdata(f1_model.predict(i,my_array)))"
   ]
  },
  {
   "cell_type": "code",
   "execution_count": 98,
   "metadata": {
    "ExecuteTime": {
     "end_time": "2020-08-12T13:01:50.420244Z",
     "start_time": "2020-08-12T13:01:50.415256Z"
    }
   },
   "outputs": [
    {
     "data": {
      "text/plain": [
       "(1157, 100)"
      ]
     },
     "execution_count": 98,
     "metadata": {},
     "output_type": "execute_result"
    }
   ],
   "source": [
    "np.array(feature2).shape"
   ]
  },
  {
   "cell_type": "markdown",
   "metadata": {},
   "source": [
    "## Feature 3 (SVD scores)"
   ]
  },
  {
   "cell_type": "markdown",
   "metadata": {},
   "source": [
    "SVD model Scores. Take advantage of the DataFrame containing the scores to extract the predicted scores for the desired movies."
   ]
  },
  {
   "cell_type": "code",
   "execution_count": 154,
   "metadata": {
    "ExecuteTime": {
     "end_time": "2020-08-12T14:25:25.186570Z",
     "start_time": "2020-08-12T14:25:25.105786Z"
    }
   },
   "outputs": [],
   "source": [
    "df_movie_features1 = train_features_df.pivot(\n",
    "    index='user_id',\n",
    "    columns='book_id',\n",
    "    values='rating'\n",
    ").fillna(0)"
   ]
  },
  {
   "cell_type": "code",
   "execution_count": 155,
   "metadata": {
    "ExecuteTime": {
     "end_time": "2020-08-12T14:25:25.999448Z",
     "start_time": "2020-08-12T14:25:25.622422Z"
    }
   },
   "outputs": [],
   "source": [
    "U1, sigma1, Vt1 = svds(df_movie_features1)\n",
    "sigma1 = np.diag(sigma1)\n",
    "svd_predictions_score1 = np.dot(np.dot(U1, sigma1), Vt1)\n",
    "svd_predictions_score_df1 = pd.DataFrame(svd_predictions_score1, columns = df_movie_features1.columns)"
   ]
  },
  {
   "cell_type": "code",
   "execution_count": 156,
   "metadata": {
    "ExecuteTime": {
     "end_time": "2020-08-12T14:25:26.481315Z",
     "start_time": "2020-08-12T14:25:26.478291Z"
    }
   },
   "outputs": [
    {
     "data": {
      "text/plain": [
       "301"
      ]
     },
     "execution_count": 156,
     "metadata": {},
     "output_type": "execute_result"
    }
   ],
   "source": [
    "target_movies[0][2]"
   ]
  },
  {
   "cell_type": "code",
   "execution_count": 157,
   "metadata": {
    "ExecuteTime": {
     "end_time": "2020-08-12T14:25:27.311868Z",
     "start_time": "2020-08-12T14:25:27.294903Z"
    }
   },
   "outputs": [
    {
     "data": {
      "text/html": [
       "<div>\n",
       "<style scoped>\n",
       "    .dataframe tbody tr th:only-of-type {\n",
       "        vertical-align: middle;\n",
       "    }\n",
       "\n",
       "    .dataframe tbody tr th {\n",
       "        vertical-align: top;\n",
       "    }\n",
       "\n",
       "    .dataframe thead th {\n",
       "        text-align: right;\n",
       "    }\n",
       "</style>\n",
       "<table border=\"1\" class=\"dataframe\">\n",
       "  <thead>\n",
       "    <tr style=\"text-align: right;\">\n",
       "      <th>book_id</th>\n",
       "      <th>2</th>\n",
       "      <th>3</th>\n",
       "      <th>4</th>\n",
       "      <th>5</th>\n",
       "      <th>7</th>\n",
       "      <th>8</th>\n",
       "      <th>9</th>\n",
       "      <th>10</th>\n",
       "      <th>11</th>\n",
       "      <th>13</th>\n",
       "      <th>...</th>\n",
       "      <th>9974</th>\n",
       "      <th>9978</th>\n",
       "      <th>9981</th>\n",
       "      <th>9985</th>\n",
       "      <th>9988</th>\n",
       "      <th>9990</th>\n",
       "      <th>9991</th>\n",
       "      <th>9995</th>\n",
       "      <th>9998</th>\n",
       "      <th>10000</th>\n",
       "    </tr>\n",
       "  </thead>\n",
       "  <tbody>\n",
       "    <tr>\n",
       "      <th>0</th>\n",
       "      <td>-0.011926</td>\n",
       "      <td>-0.000368</td>\n",
       "      <td>-0.028007</td>\n",
       "      <td>0.056066</td>\n",
       "      <td>-0.029936</td>\n",
       "      <td>-0.009058</td>\n",
       "      <td>-0.000974</td>\n",
       "      <td>0.017639</td>\n",
       "      <td>0.074756</td>\n",
       "      <td>0.008876</td>\n",
       "      <td>...</td>\n",
       "      <td>-0.000005</td>\n",
       "      <td>0.00044</td>\n",
       "      <td>-0.000365</td>\n",
       "      <td>0.000002</td>\n",
       "      <td>0.000092</td>\n",
       "      <td>0.00067</td>\n",
       "      <td>0.000875</td>\n",
       "      <td>-0.000487</td>\n",
       "      <td>-0.000219</td>\n",
       "      <td>-0.001444</td>\n",
       "    </tr>\n",
       "  </tbody>\n",
       "</table>\n",
       "<p>1 rows × 3858 columns</p>\n",
       "</div>"
      ],
      "text/plain": [
       "book_id     2         3         4         5         7         8         9      \\\n",
       "0       -0.011926 -0.000368 -0.028007  0.056066 -0.029936 -0.009058 -0.000974   \n",
       "\n",
       "book_id     10        11        13     ...     9974     9978      9981   \\\n",
       "0        0.017639  0.074756  0.008876  ... -0.000005  0.00044 -0.000365   \n",
       "\n",
       "book_id     9985      9988     9990      9991      9995      9998      10000  \n",
       "0        0.000002  0.000092  0.00067  0.000875 -0.000487 -0.000219 -0.001444  \n",
       "\n",
       "[1 rows x 3858 columns]"
      ]
     },
     "execution_count": 157,
     "metadata": {},
     "output_type": "execute_result"
    }
   ],
   "source": [
    "svd_predictions_score_df1[svd_predictions_score_df1.index == 0]"
   ]
  },
  {
   "cell_type": "code",
   "execution_count": 158,
   "metadata": {
    "ExecuteTime": {
     "end_time": "2020-08-12T14:25:27.837663Z",
     "start_time": "2020-08-12T14:25:27.831679Z"
    }
   },
   "outputs": [
    {
     "data": {
      "text/plain": [
       "-0.0014342283303730155"
      ]
     },
     "execution_count": 158,
     "metadata": {},
     "output_type": "execute_result"
    }
   ],
   "source": [
    "float(svd_predictions_score_df1[svd_predictions_score_df1.index == 0][target_movies[0][0]].values)"
   ]
  },
  {
   "cell_type": "code",
   "execution_count": 204,
   "metadata": {
    "ExecuteTime": {
     "end_time": "2020-08-12T14:38:59.419935Z",
     "start_time": "2020-08-12T14:38:58.491850Z"
    }
   },
   "outputs": [
    {
     "name": "stdout",
     "output_type": "stream",
     "text": [
      "book_id     2         3         4         5         7         8         9      \\\n",
      "0       -0.011926 -0.000368 -0.028007  0.056066 -0.029936 -0.009058 -0.000974   \n",
      "\n",
      "book_id     10        11        13       14        15       18        19     \\\n",
      "0        0.017639  0.074756  0.008876 -0.01659 -0.001072 -0.00515 -0.026239   \n",
      "\n",
      "book_id     21        22        23        24        25        26        27     \\\n",
      "0       -0.001276  0.034502 -0.016088 -0.025889 -0.030926 -0.001434 -0.020799   \n",
      "\n",
      "book_id     28        29        32        33        35        36        37     \\\n",
      "0        0.013007 -0.008369  0.009697  0.051777  0.024407  0.005516 -0.007113   \n",
      "\n",
      "book_id     38        39        40        41        42        43        44     \\\n",
      "0        0.049168 -0.008523  0.009868 -0.000052  0.009247  0.019097  0.002967   \n",
      "\n",
      "book_id     45        46       47        48        49        50       52     \\\n",
      "0        0.066023  0.015663  0.00124 -0.007862 -0.001782 -0.008793  0.00048   \n",
      "\n",
      "book_id     53        54        55        57        58        59        60     \\\n",
      "0       -0.005819 -0.015257 -0.000845  0.024913 -0.022769 -0.010748  0.049655   \n",
      "\n",
      "book_id     62        63        64       65        66        67        68     \\\n",
      "0       -0.006577  0.006445  0.008574  0.01355  0.000481  0.013264  0.004246   \n",
      "\n",
      "book_id    70        71        72       74        75        76      77     \\\n",
      "0       -0.00981 -0.006427 -0.009381 -0.00024  0.001487  0.002978 -0.0004   \n",
      "\n",
      "book_id    78        79       80        81        82        83        84     \\\n",
      "0        0.00576 -0.001002  0.00575  0.013804  0.006311  0.007549 -0.004473   \n",
      "\n",
      "book_id     85       86       87        89        90        92        93     \\\n",
      "0       -0.006627 -0.00179  0.01796 -0.002758 -0.004438  0.015691 -0.002388   \n",
      "\n",
      "book_id     94        95        97        100       101       102       103    \\\n",
      "0        0.037198 -0.001803  0.000743  0.044159  0.065849 -0.001603 -0.002628   \n",
      "\n",
      "book_id     104       107       108       109       110       111      113    \\\n",
      "0        0.012101 -0.002945 -0.000399 -0.001547 -0.004344  0.017649  0.00535   \n",
      "\n",
      "book_id     114       115       116       117       118       119       120    \\\n",
      "0        0.010621  0.078947 -0.002691  0.005339  0.005896  0.029979 -0.001704   \n",
      "\n",
      "book_id     121       122       123       125       126       127       129    \\\n",
      "0        0.050042  0.024707 -0.000996 -0.001391 -0.011238  0.018591 -0.001123   \n",
      "\n",
      "book_id     130       131       132      133       135       136       137    \\\n",
      "0       -0.000601  0.016893  0.000591  0.00368 -0.002909  0.005493  0.000829   \n",
      "\n",
      "book_id     138       142       145       148       150       151       152    \\\n",
      "0       -0.003667  0.001435 -0.000435  0.007133  0.039904 -0.000322 -0.000781   \n",
      "\n",
      "book_id     154       155       156      157       158       160       161    \\\n",
      "0       -0.009052 -0.029998  0.003164 -0.00985  0.002507  0.001706 -0.026179   \n",
      "\n",
      "book_id     162       165      167       168       170       171       172    \\\n",
      "0        0.012971 -0.003198 -0.00748 -0.011161  0.000196  0.009942  0.017243   \n",
      "\n",
      "book_id     173       176       177       178       179       180       181    \\\n",
      "0        0.001204 -0.008635  0.019983  0.011241  0.005932  0.004185  0.014349   \n",
      "\n",
      "book_id     184     186       187       189       191       194       196    \\\n",
      "0       -0.017955  0.0118  0.000466 -0.006403 -0.002458  0.000808  0.000864   \n",
      "\n",
      "book_id     198       199       200       204       205      207       209    \\\n",
      "0        0.014707  0.006043 -0.001135 -0.004494 -0.005499 -0.00089 -0.003727   \n",
      "\n",
      "book_id     211       212       213       217       219       221       222    \\\n",
      "0        0.007077  0.014681  0.004968  0.024566 -0.004734 -0.002761 -0.000785   \n",
      "\n",
      "book_id     223       225       227       228       229     230       232    \\\n",
      "0       -0.001935  0.026288 -0.000456  0.000841 -0.010355  0.0095 -0.011207   \n",
      "\n",
      "book_id     233       234       236     237       238       239       241    \\\n",
      "0        0.047984  0.000247  0.007655 -0.0069  0.038375 -0.000975 -0.001687   \n",
      "\n",
      "book_id     242       243       244       245      247       248       249    \\\n",
      "0        0.001955 -0.007084  0.001492 -0.008831 -0.00064  0.001532  0.019409   \n",
      "\n",
      "book_id     251       255       256       257       258       260       261    \\\n",
      "0       -0.003712  0.013056 -0.000414 -0.000287  0.007901 -0.001163  0.002374   \n",
      "\n",
      "book_id     263       264       265       266       268       269      270    \\\n",
      "0       -0.001552  0.015835  0.007828 -0.001927  0.015048  0.000947  0.00543   \n",
      "\n",
      "book_id     271       272       273       274       275       276       278    \\\n",
      "0        0.008763  0.004443  0.009107 -0.002554 -0.000004 -0.006294 -0.007277   \n",
      "\n",
      "book_id     281       282       283       284       287       288       289    \\\n",
      "0        0.000755  0.000005 -0.005914  0.018304  0.012474 -0.000569 -0.001543   \n",
      "\n",
      "book_id     292       293       296       297       298       300       301    \\\n",
      "0       -0.008133 -0.005425 -0.004074  0.015963 -0.000521  0.000732  0.007504   \n",
      "\n",
      "book_id     304       305       306       308       310       311       314    \\\n",
      "0        0.008392 -0.009464  0.018925  0.000631  0.009037  0.000665 -0.000456   \n",
      "\n",
      "book_id     315       316       317       321       322       323       325    \\\n",
      "0        0.000099  0.006683  0.001444  0.004224 -0.001801  0.031375  0.032163   \n",
      "\n",
      "book_id     326       328       330       331       332       335       336    \\\n",
      "0        0.009052  0.002275 -0.005621  0.003993 -0.006944 -0.006261 -0.001411   \n",
      "\n",
      "book_id     337       339    341       343       344       345       346    \\\n",
      "0        0.002666  0.002858 -0.005 -0.000621  0.033707 -0.002257 -0.000898   \n",
      "\n",
      "book_id     347       349      350       353       354       356       357    \\\n",
      "0       -0.005262 -0.007891  0.00217 -0.005087  0.026404 -0.001347  0.003528   \n",
      "\n",
      "book_id    358       360       361       362       364       365       366    \\\n",
      "0       -0.00624  0.001919  0.001028 -0.003993 -0.005214 -0.002765  0.001712   \n",
      "\n",
      "book_id     367       368      369       371       372       373       374    \\\n",
      "0       -0.001055 -0.006544 -0.00132 -0.001335  0.027878 -0.007133  0.000066   \n",
      "\n",
      "book_id     375       377       378       380       381       383       386    \\\n",
      "0       -0.004921 -0.001761  0.031677  0.006762  0.004058  0.022037 -0.004194   \n",
      "\n",
      "book_id     387       388      389       390      391       395       397    \\\n",
      "0       -0.004712 -0.002819 -0.00043 -0.001236 -0.00395  0.008413  0.009997   \n",
      "\n",
      "book_id     398       400       401       402       403       405       406    \\\n",
      "0        0.008177  0.003363  0.008601 -0.002353 -0.001385  0.010864 -0.000009   \n",
      "\n",
      "book_id     407       408       409      410       411       412       413    \\\n",
      "0        0.016428  0.001624  0.000522  0.01563  0.000099 -0.000023 -0.004367   \n",
      "\n",
      "book_id     416       417       420      422       424       425       426    \\\n",
      "0       -0.006945  0.001574  0.000056  0.00037  0.004335  0.000418  0.014157   \n",
      "\n",
      "book_id     427       429       430       431       432       436       439    \\\n",
      "0        0.004251 -0.002322  0.017533 -0.000619 -0.001233  0.015098  0.000011   \n",
      "\n",
      "book_id     442       443       444       446       448       450       451    \\\n",
      "0       -0.004452  0.000116 -0.000133 -0.000507 -0.001212 -0.002515  0.000671   \n",
      "\n",
      "book_id     453      454       455       456       457       461       462    \\\n",
      "0        0.010578 -0.00104  0.000289  0.005539  0.004861  0.004351  0.000379   \n",
      "\n",
      "book_id     463       464       465       466       468       469       471    \\\n",
      "0       -0.000267 -0.001508  0.006516 -0.000601  0.015852 -0.000013  0.000467   \n",
      "\n",
      "book_id    472       474       476       478       479       480       481    \\\n",
      "0       -0.00124  0.000799  0.018419 -0.002878 -0.001023 -0.002474 -0.008804   \n",
      "\n",
      "book_id     483      484       485       486       487       488      489    \\\n",
      "0        0.021186  0.00308  0.006696  0.000301 -0.003744 -0.007871  0.00066   \n",
      "\n",
      "book_id     490       492       493     494       495       496       497    \\\n",
      "0       -0.003361 -0.002984 -0.004565  0.0059  0.031143 -0.000952 -0.002146   \n",
      "\n",
      "book_id     498       499       500       501       502       503       504    \\\n",
      "0        0.007719  0.002154  0.000051  0.004953 -0.000049 -0.001878 -0.000637   \n",
      "\n",
      "book_id     505      508       510       511       512       513       514    \\\n",
      "0       -0.002171  0.01195 -0.009244 -0.001109 -0.001442  0.001293 -0.003124   \n",
      "\n",
      "book_id     515       516       518       519       520     521       522    \\\n",
      "0        0.004131  0.028421 -0.001143  0.000102  0.019259 -0.0008  0.002739   \n",
      "\n",
      "book_id     523       524       526       527       528      529       530    \\\n",
      "0        0.008314 -0.000572  0.000106 -0.001047 -0.001738 -0.00403  0.009756   \n",
      "\n",
      "book_id     531       532       538       540       541       542       544    \\\n",
      "0       -0.006201 -0.001359  0.005321 -0.001747  0.000163 -0.002643 -0.000633   \n",
      "\n",
      "book_id     545      546       547       549       550       552       553    \\\n",
      "0       -0.005454  0.00176 -0.001169 -0.000991  0.003128  0.000721 -0.006029   \n",
      "\n",
      "book_id     554      556      557       558       559       560       561    \\\n",
      "0       -0.001546 -0.00336  0.01251 -0.000243 -0.000492  0.009262 -0.007457   \n",
      "\n",
      "book_id     563       564     565       568       569       570       571    \\\n",
      "0       -0.000258  0.000127 -0.0004 -0.000251  0.000271  0.008298 -0.000415   \n",
      "\n",
      "book_id     572       573       574      575       576      577       578    \\\n",
      "0        0.008316 -0.000102  0.004095 -0.00124  0.001686  0.00083 -0.003075   \n",
      "\n",
      "book_id     579       582       586       587       588       590       592    \\\n",
      "0       -0.001386 -0.003115 -0.000397  0.020493 -0.000261 -0.000606  0.008693   \n",
      "\n",
      "book_id     593       594       595       596       597       598       599    \\\n",
      "0       -0.001038 -0.000095  0.005258 -0.002004 -0.000348 -0.001676 -0.003353   \n",
      "\n",
      "book_id     601       602       604      606       608       609       611    \\\n",
      "0       -0.000959 -0.008128  0.002595  0.00079  0.000025 -0.004622 -0.009103   \n",
      "\n",
      "book_id     612       614       616       618       620       621      622    \\\n",
      "0       -0.011401  0.004976  0.001709 -0.002381 -0.003507  0.006764 -0.00171   \n",
      "\n",
      "book_id     624       625       626       627       628       629       631    \\\n",
      "0       -0.000804  0.007625  0.000376 -0.000771 -0.002231 -0.000052 -0.001305   \n",
      "\n",
      "book_id     633       635       637       639       640       641       646    \\\n",
      "0       -0.003525  0.006812 -0.004243 -0.000335 -0.001097 -0.006594  0.003612   \n",
      "\n",
      "book_id     647       650       651       652     653       658      659    \\\n",
      "0        0.001723  0.002706  0.001567 -0.001062  0.0133  0.023946  0.00153   \n",
      "\n",
      "book_id     660       661       662       663       664       666       669    \\\n",
      "0       -0.002505 -0.002307  0.033848  0.006962  0.006495 -0.000275  0.012177   \n",
      "\n",
      "book_id     670       671      672       674       675       679       681    \\\n",
      "0       -0.005759  0.000847 -0.00443 -0.000352 -0.001943 -0.000949  0.001304   \n",
      "\n",
      "book_id     682       683       686       687      688       690       691    \\\n",
      "0        0.001553 -0.001346 -0.000986 -0.000675  0.01032  0.005108 -0.001967   \n",
      "\n",
      "book_id     693       696       699       700       701       703       704    \\\n",
      "0       -0.002759 -0.010317 -0.000958  0.003384  0.011105 -0.006401  0.007632   \n",
      "\n",
      "book_id     705       706       707       708       709       710       712    \\\n",
      "0       -0.002585 -0.000135 -0.000391  0.001768  0.000714  0.001633 -0.000228   \n",
      "\n",
      "book_id     714       715       716       718       719       722       723    \\\n",
      "0       -0.003864  0.004587  0.000121  0.006637  0.000163 -0.002955  0.000334   \n",
      "\n",
      "book_id     725       726       727       728      729       730      731    \\\n",
      "0       -0.008744 -0.000195  0.003293 -0.000336 -0.00104  0.003735 -0.00134   \n",
      "\n",
      "book_id    733       734       736       737       738       739       740    \\\n",
      "0        0.00885  0.000686  0.003674  0.003922 -0.000709 -0.002442  0.001496   \n",
      "\n",
      "book_id     741       743       744       747       751       753      755    \\\n",
      "0        0.012148  0.000955  0.000801 -0.001265 -0.003809  0.000433 -0.00001   \n",
      "\n",
      "book_id     757       758       760       762       763       765       766    \\\n",
      "0        0.000635  0.001884 -0.006653  0.003414  0.010908  0.000318 -0.002033   \n",
      "\n",
      "book_id     767       768       769       770       772       773       777    \\\n",
      "0        0.003631  0.001088 -0.000134 -0.004655 -0.003123  0.000209  0.003114   \n",
      "\n",
      "book_id     778       779      780       781      782       784       785    \\\n",
      "0        0.000027  0.008049 -0.00145 -0.000492  0.00656 -0.003541 -0.003698   \n",
      "\n",
      "book_id     786       788       789       790       792       793      795    \\\n",
      "0       -0.002441  0.000599 -0.003119  0.000757 -0.000268 -0.000405 -0.00275   \n",
      "\n",
      "book_id     798       799       800      803       804      806       809    \\\n",
      "0       -0.003674 -0.003026  0.000322  0.00021 -0.002193 -0.00637  0.000581   \n",
      "\n",
      "book_id     815       817       818       819       820       823       824    \\\n",
      "0        0.000303 -0.001577 -0.006079  0.001002  0.010179  0.000021 -0.001754   \n",
      "\n",
      "book_id     826       828       829       833       838       839       840    \\\n",
      "0       -0.000965  0.007665  0.002629 -0.002066 -0.004861 -0.002812  0.000841   \n",
      "\n",
      "book_id     846       847       848       849       851       853       854    \\\n",
      "0       -0.000026  0.001599  0.004555 -0.001608  0.000398 -0.005946 -0.000397   \n",
      "\n",
      "book_id     855       856       857      860       864       865       867    \\\n",
      "0        0.001801  0.000278  0.002864  0.01569 -0.001805 -0.002204  0.011716   \n",
      "\n",
      "book_id     868       870       872       873     875       876       877    \\\n",
      "0       -0.003159 -0.000318  0.001567 -0.003224 -0.0001 -0.000106 -0.000489   \n",
      "\n",
      "book_id     878       879       881       882       883       885       887    \\\n",
      "0       -0.000011 -0.002091  0.005411 -0.000929  0.015435  0.005772  0.006855   \n",
      "\n",
      "book_id     888      890       891       894      895       896       897    \\\n",
      "0        0.000331 -0.00201 -0.003347 -0.007482  0.01644  0.002127 -0.001433   \n",
      "\n",
      "book_id     898       899       900       901       902       903       905    \\\n",
      "0       -0.008619  0.005595  0.001374 -0.000324  0.000175 -0.001387  0.000737   \n",
      "\n",
      "book_id     908       911       912       913       914      915       916    \\\n",
      "0        0.004666 -0.004931  0.001061 -0.000194 -0.000876 -0.00652  0.004406   \n",
      "\n",
      "book_id     918       919      923       925       927       932       934    \\\n",
      "0       -0.000094  0.005413 -0.00008  0.004866 -0.000006  0.000612  0.003401   \n",
      "\n",
      "book_id     935       936       937       941       943       944       948    \\\n",
      "0        0.001881 -0.007272  0.003482  0.012488  0.013518 -0.009717  0.016256   \n",
      "\n",
      "book_id     949       951       952       953       955       956       958    \\\n",
      "0       -0.005564  0.000586  0.001226 -0.009616  0.001157 -0.001088  0.001394   \n",
      "\n",
      "book_id     959       961       963       964       966       967       969    \\\n",
      "0        0.001386  0.005167 -0.001661 -0.000778  0.000795 -0.004745  0.004499   \n",
      "\n",
      "book_id     972      974       975       976      977       982       984    \\\n",
      "0        0.000317  0.00379  0.000165 -0.000325  0.00166  0.003981 -0.001338   \n",
      "\n",
      "book_id     986       989       994       996       997       998       999    \\\n",
      "0       -0.003108  0.001129 -0.000273 -0.000093  0.000458 -0.001508 -0.004693   \n",
      "\n",
      "book_id     1003      1005      1007     1010      1014      1015      1016   \\\n",
      "0       -0.003154  0.019723  0.000659  0.00053 -0.004299 -0.001978 -0.000047   \n",
      "\n",
      "book_id     1018      1019      1020      1021      1023      1025      1026   \\\n",
      "0       -0.001185 -0.000537 -0.002258  0.001189 -0.007216 -0.004107  0.000092   \n",
      "\n",
      "book_id     1031      1033      1034     1035      1037      1038      1041   \\\n",
      "0        0.001945  0.000301 -0.003503 -0.00022 -0.000623 -0.001269  0.007943   \n",
      "\n",
      "book_id     1042      1048      1049      1051      1053      1055     1056   \\\n",
      "0       -0.004135 -0.000885 -0.000439  0.003449 -0.005656  0.013473  0.00039   \n",
      "\n",
      "book_id     1057      1058      1061      1063      1064      1067      1068   \\\n",
      "0       -0.001387  0.000533 -0.000559  0.000574  0.001228 -0.001722  0.005356   \n",
      "\n",
      "book_id    1071      1073     1074      1075      1077      1079     1083   \\\n",
      "0       -0.00474  0.000577  0.00562 -0.006723  0.000062 -0.000174  0.00546   \n",
      "\n",
      "book_id     1084      1085      1086      1088      1089      1090      1094   \\\n",
      "0        0.006712 -0.000797  0.000112  0.000675 -0.001434  0.000513  0.002151   \n",
      "\n",
      "book_id     1096      1097      1099      1100      1102      1103     1105   \\\n",
      "0        0.006675 -0.000444  0.001083  0.000639  0.010705 -0.000485 -0.00378   \n",
      "\n",
      "book_id     1106      1107      1108      1111      1112      1113      1114   \\\n",
      "0       -0.002892  0.001951  0.001169  0.001248 -0.002139  0.000789 -0.000259   \n",
      "\n",
      "book_id     1117     1119      1120      1121      1123     1124    1126   \\\n",
      "0       -0.004603 -0.00487 -0.000102  0.003796 -0.003492 -0.00025 -0.0001   \n",
      "\n",
      "book_id     1127     1128      1131      1132      1133      1135      1138   \\\n",
      "0       -0.000804 -0.00132  0.003143 -0.000618  0.005497  0.004428  0.000918   \n",
      "\n",
      "book_id     1139      1142      1144      1145      1146      1149      1150   \\\n",
      "0       -0.006249 -0.000078  0.013528  0.002667 -0.000564  0.007044  0.000249   \n",
      "\n",
      "book_id     1151      1153      1154     1155      1158      1159      1160   \\\n",
      "0       -0.000219  0.000873  0.000316 -0.00208  0.003605  0.002424 -0.001697   \n",
      "\n",
      "book_id     1161      1163      1167      1168      1171      1172      1176   \\\n",
      "0        0.001992 -0.001521 -0.000955  0.001561  0.004422 -0.000094  0.002091   \n",
      "\n",
      "book_id     1178      1179      1181      1184     1185      1186      1189   \\\n",
      "0       -0.001049 -0.001626 -0.002811  0.007109  0.00087  0.005477 -0.000441   \n",
      "\n",
      "book_id     1191      1196     1199      1202      1204      1205      1206   \\\n",
      "0       -0.000955  0.000905 -0.00002  0.002148 -0.000528  0.003831  0.000962   \n",
      "\n",
      "book_id     1208      1210      1213      1214      1216      1217      1218   \\\n",
      "0       -0.004276 -0.001487 -0.001076  0.000687  0.000086 -0.002586 -0.001756   \n",
      "\n",
      "book_id     1221      1222      1223      1224      1225      1226      1228   \\\n",
      "0        0.005203 -0.001964  0.000054 -0.000319 -0.000015 -0.002475 -0.001377   \n",
      "\n",
      "book_id     1232      1233      1234   1235      1236      1237      1238   \\\n",
      "0        0.000124 -0.000432 -0.000459 -0.001  0.000132 -0.000468  0.007958   \n",
      "\n",
      "book_id     1239      1245      1246      1247      1248      1249      1250   \\\n",
      "0        0.002682 -0.001996 -0.002191 -0.000205 -0.005449 -0.005232  0.010386   \n",
      "\n",
      "book_id    1253      1255      1258      1259      1260     1261      1262   \\\n",
      "0        0.00051  0.005127  0.000027 -0.000111  0.000671 -0.00723 -0.004851   \n",
      "\n",
      "book_id     1265      1267      1269      1270      1272      1273      1277   \\\n",
      "0       -0.002311 -0.001974 -0.001501  0.003074  0.003111 -0.001225  0.000725   \n",
      "\n",
      "book_id     1278     1279      1280      1282      1283      1286     1288   \\\n",
      "0       -0.005108  0.00053 -0.000693  0.002204  0.002311  0.000736 -0.00273   \n",
      "\n",
      "book_id    1289      1290     1294      1296      1298      1299      1300   \\\n",
      "0       -0.00078 -0.000133  0.00083 -0.000106 -0.001386  0.006161  0.000028   \n",
      "\n",
      "book_id     1301      1303      1304      1305      1311      1312      1313   \\\n",
      "0        0.000316  0.001222 -0.002473 -0.001338  0.006026  0.008211 -0.001094   \n",
      "\n",
      "book_id     1314      1315      1317      1318     1319      1320      1322   \\\n",
      "0        0.002928  0.001585  0.003067  0.001077  0.00309  0.000163 -0.001117   \n",
      "\n",
      "book_id     1323      1327      1329      1330     1332      1333      1337   \\\n",
      "0       -0.000129 -0.001083  0.003199 -0.000986 -0.00257  0.000401 -0.001821   \n",
      "\n",
      "book_id     1338      1340      1342      1343      1348      1350      1351   \\\n",
      "0        0.000031 -0.002387 -0.003874 -0.001661 -0.000667 -0.001165 -0.000506   \n",
      "\n",
      "book_id     1357      1362      1363      1364      1365      1367      1368   \\\n",
      "0        0.000039 -0.005955 -0.002596 -0.000499  0.004157 -0.003216 -0.006088   \n",
      "\n",
      "book_id     1369      1373      1378      1379      1380      1381      1383   \\\n",
      "0       -0.000076 -0.001996  0.001581  0.000652  0.002805  0.001482 -0.003125   \n",
      "\n",
      "book_id     1384      1386      1388      1389      1390      1391      1392   \\\n",
      "0        0.001051  0.004566 -0.002121 -0.001039 -0.002793 -0.000453  0.003786   \n",
      "\n",
      "book_id    1393    1394      1396      1401      1402      1407      1410   \\\n",
      "0        0.00058 -0.0008 -0.001799  0.002943 -0.000295 -0.000444  0.000262   \n",
      "\n",
      "book_id     1411      1414      1418      1420      1421      1422      1423   \\\n",
      "0       -0.001096 -0.000584 -0.000932  0.000064  0.004972 -0.000061 -0.001381   \n",
      "\n",
      "book_id     1426      1427      1430      1431      1432      1434      1435   \\\n",
      "0       -0.000253  0.000099  0.000518 -0.000349 -0.001135  0.000214  0.001205   \n",
      "\n",
      "book_id     1436      1438      1441      1444      1445     1447      1448   \\\n",
      "0       -0.000165 -0.000456  0.001296  0.001494 -0.000306 -0.00073 -0.001294   \n",
      "\n",
      "book_id     1449      1452    1454      1457      1458      1459     1460   \\\n",
      "0        0.002137 -0.000608  0.0002  0.005077  0.004612 -0.001563  0.00135   \n",
      "\n",
      "book_id     1463      1465      1466      1469     1476      1477      1479   \\\n",
      "0       -0.000725 -0.000809 -0.001005 -0.000537  0.00078  0.000306 -0.000931   \n",
      "\n",
      "book_id     1480      1484      1485      1486      1487      1488      1489   \\\n",
      "0       -0.000137 -0.000025  0.000042 -0.000982  0.004928  0.001462  0.001108   \n",
      "\n",
      "book_id     1492      1493      1495      1497      1498      1500      1501   \\\n",
      "0        0.002064 -0.000747  0.001537 -0.000322 -0.005806  0.007107  0.001396   \n",
      "\n",
      "book_id     1503      1506      1509     1514      1515      1516      1518   \\\n",
      "0        0.010289 -0.000033  0.002337 -0.00209  0.001601 -0.000233 -0.002767   \n",
      "\n",
      "book_id    1519      1520      1521      1525     1526      1528      1530   \\\n",
      "0        0.00126  0.000572  0.000137 -0.001235 -0.00197 -0.000416 -0.000172   \n",
      "\n",
      "book_id    1531      1533      1534     1536      1537      1544      1547   \\\n",
      "0       -0.00024 -0.004556  0.000307 -0.00708  0.000661  0.006257  0.006207   \n",
      "\n",
      "book_id     1548      1549      1552      1553      1555      1561     1564   \\\n",
      "0        0.000458 -0.000375 -0.000211  0.000179  0.000577  0.000684  0.00104   \n",
      "\n",
      "book_id     1566      1567      1569     1570      1571      1572      1573   \\\n",
      "0        0.002591  0.006133  0.001624  0.00243  0.000388 -0.002441 -0.000074   \n",
      "\n",
      "book_id    1574      1578      1580      1581      1582      1584      1586   \\\n",
      "0       -0.00277 -0.000114  0.001255 -0.000804  0.001439  0.000098 -0.000316   \n",
      "\n",
      "book_id     1589      1590      1591      1592      1593      1594    1597   \\\n",
      "0       -0.001155 -0.002166 -0.000692 -0.001591 -0.000317 -0.000003  0.0079   \n",
      "\n",
      "book_id     1598      1601      1603      1605      1606      1607      1617   \\\n",
      "0       -0.000249 -0.000248 -0.000047 -0.000751 -0.002872  0.000451  0.000292   \n",
      "\n",
      "book_id     1618      1620      1622     1623     1624      1625      1627   \\\n",
      "0       -0.000092 -0.001002 -0.003578  0.00004  0.00129 -0.000902 -0.001826   \n",
      "\n",
      "book_id     1629      1631      1633      1635      1638      1639      1641   \\\n",
      "0       -0.001097 -0.000798 -0.009666 -0.000866 -0.002364  0.001701  0.001852   \n",
      "\n",
      "book_id    1642      1643      1644     1645      1646      1648      1649   \\\n",
      "0        0.00836 -0.002095  0.003472  0.00003 -0.004971  0.000195  0.002901   \n",
      "\n",
      "book_id    1650      1657     1659     1662      1663      1664      1666   \\\n",
      "0       -0.00027  0.003771  0.00089 -0.00101  0.000073  0.005447  0.002041   \n",
      "\n",
      "book_id     1670      1672      1675      1676      1677      1678      1679   \\\n",
      "0       -0.000608  0.002817  0.002557  0.010684 -0.000773 -0.000763  0.001463   \n",
      "\n",
      "book_id   1680      1681      1683      1684      1685      1686      1687   \\\n",
      "0       -0.0005  0.003247  0.001326 -0.000009  0.002788 -0.001257 -0.000403   \n",
      "\n",
      "book_id     1691      1692      1693      1694      1695      1697      1698   \\\n",
      "0        0.000447  0.000074  0.000158 -0.001056 -0.002192 -0.000064 -0.001808   \n",
      "\n",
      "book_id     1701      1703     1704      1705      1706      1707      1709   \\\n",
      "0       -0.000197  0.004056  0.00548  0.000496 -0.000797 -0.000785 -0.000733   \n",
      "\n",
      "book_id     1711      1713     1714      1718      1719     1721     1722   \\\n",
      "0       -0.000717  0.000852  0.00662 -0.000247 -0.002567 -0.00075 -0.00211   \n",
      "\n",
      "book_id     1725     1727      1732      1733      1734      1735      1739   \\\n",
      "0       -0.000314 -0.00255 -0.000062 -0.000523 -0.000433 -0.000397  0.004226   \n",
      "\n",
      "book_id     1741      1742      1746      1748     1751      1752      1755   \\\n",
      "0       -0.002304  0.000025 -0.000333  0.003362 -0.00056  0.004659 -0.001713   \n",
      "\n",
      "book_id     1757      1758      1759      1762      1763      1768      1774   \\\n",
      "0        0.000965  0.001825 -0.005077  0.001112  0.000978 -0.000901  0.000768   \n",
      "\n",
      "book_id    1775      1779     1781     1783      1785      1788      1791   \\\n",
      "0       -0.00112 -0.000347 -0.00035  0.00115  0.005821  0.000608 -0.000055   \n",
      "\n",
      "book_id     1792      1793      1795      1796      1797      1800      1801   \\\n",
      "0        0.002086 -0.000274 -0.000975  0.007553  0.006706  0.000053 -0.002771   \n",
      "\n",
      "book_id     1802     1806     1809      1817      1825      1826     1827   \\\n",
      "0       -0.001704  0.00586 -0.00138 -0.001321 -0.004702 -0.000311  0.00061   \n",
      "\n",
      "book_id     1828      1835      1842     1843      1844      1845      1847   \\\n",
      "0       -0.000583 -0.000953 -0.000814  0.01087  0.000383  0.003015 -0.000389   \n",
      "\n",
      "book_id     1853      1856      1858      1859      1862      1863      1864   \\\n",
      "0        0.005102  0.002932 -0.000363  0.002478 -0.001369 -0.000149  0.000113   \n",
      "\n",
      "book_id     1868      1869      1871      1873      1877      1878      1881   \\\n",
      "0        0.000172 -0.001501 -0.000039  0.003983 -0.001121 -0.000111 -0.000121   \n",
      "\n",
      "book_id     1885      1887      1888      1892     1895      1897      1900   \\\n",
      "0        0.000357 -0.000126  0.010253  0.005703 -0.00428 -0.000777 -0.004766   \n",
      "\n",
      "book_id     1908      1910      1913     1914      1915      1916      1918   \\\n",
      "0        0.000971  0.000638  0.001373 -0.00361  0.000593 -0.000939 -0.001595   \n",
      "\n",
      "book_id     1922      1923      1924      1925      1927     1928      1930   \\\n",
      "0       -0.000508  0.005068 -0.001671 -0.002115 -0.000974  0.01618 -0.000572   \n",
      "\n",
      "book_id     1931      1936      1937      1938      1940      1944      1949   \\\n",
      "0       -0.000763  0.010785 -0.005367  0.000357  0.000105 -0.001579  0.000793   \n",
      "\n",
      "book_id     1953      1954      1955      1956      1957      1960      1961   \\\n",
      "0       -0.000763 -0.000259  0.001725 -0.001046  0.001377  0.005832  0.000072   \n",
      "\n",
      "book_id     1963      1964      1966      1967      1968      1969      1970   \\\n",
      "0       -0.001751 -0.000428 -0.000383 -0.000049 -0.000055  0.000363  0.006048   \n",
      "\n",
      "book_id     1972      1974      1975      1976      1977      1980      1984   \\\n",
      "0        0.000446 -0.000804  0.000602  0.001296 -0.000392 -0.003132 -0.000674   \n",
      "\n",
      "book_id     1986      1987      1989      1993      1996      1999      2002   \\\n",
      "0        0.000652 -0.003028 -0.006773 -0.007912  0.000264  0.000579  0.000422   \n",
      "\n",
      "book_id     2004      2007      2010      2012      2013      2014      2015   \\\n",
      "0        0.003469 -0.000767  0.003175  0.000181  0.005903 -0.000014  0.005105   \n",
      "\n",
      "book_id     2020      2023      2024      2025     2026      2027      2028   \\\n",
      "0        0.000336 -0.000633  0.001636  0.003761  0.00267  0.009132 -0.001736   \n",
      "\n",
      "book_id     2029      2030      2031      2032      2034      2039      2041   \\\n",
      "0        0.003478 -0.000325 -0.000004 -0.000327 -0.000242 -0.000082 -0.002155   \n",
      "\n",
      "book_id     2043      2045      2047      2049     2051      2052      2053   \\\n",
      "0       -0.003531 -0.003286 -0.000655 -0.003809  0.00486  0.000245 -0.000299   \n",
      "\n",
      "book_id     2054      2056      2062      2063      2064      2068      2069   \\\n",
      "0        0.000235 -0.003571  0.001529  0.000041 -0.000003 -0.000857 -0.000743   \n",
      "\n",
      "book_id     2073      2074      2075      2076      2079      2082      2086   \\\n",
      "0       -0.000656 -0.000151 -0.000784 -0.000159  0.003975 -0.001459 -0.002438   \n",
      "\n",
      "book_id     2087      2089      2090      2091      2095      2096      2097   \\\n",
      "0       -0.000224  0.008784  0.000057 -0.000977 -0.001444 -0.000487 -0.000224   \n",
      "\n",
      "book_id     2098      2101      2103      2107      2109      2110      2115   \\\n",
      "0        0.002056 -0.000323  0.001576  0.002037 -0.001904  0.000216 -0.002949   \n",
      "\n",
      "book_id     2122      2123      2124      2125      2127      2128      2129   \\\n",
      "0       -0.000989  0.000398  0.003907 -0.000905 -0.000272  0.001396  0.000513   \n",
      "\n",
      "book_id     2131      2132      2135      2136      2142      2143      2144   \\\n",
      "0        0.000886  0.000543  0.000257  0.000744  0.001394 -0.000819 -0.000138   \n",
      "\n",
      "book_id     2145      2148      2150      2155      2156      2157      2159   \\\n",
      "0        0.003074 -0.000316  0.000332 -0.005613 -0.000329  0.004742 -0.002135   \n",
      "\n",
      "book_id     2163     2165      2170      2172      2174      2175      2176   \\\n",
      "0       -0.000572  0.00052 -0.001651  0.004606 -0.000815 -0.000086 -0.002761   \n",
      "\n",
      "book_id     2177      2181      2184      2186      2187      2188      2190   \\\n",
      "0        0.001072  0.000301 -0.000691  0.000839 -0.001558  0.014854  0.001275   \n",
      "\n",
      "book_id     2192      2193      2196      2197      2198      2199      2202   \\\n",
      "0       -0.000778  0.007449 -0.004149 -0.001378 -0.000566 -0.000329 -0.000106   \n",
      "\n",
      "book_id     2203      2210      2211      2213      2214    2215      2219   \\\n",
      "0        0.000003 -0.000258  0.001577 -0.003341 -0.002358 -0.0042 -0.004737   \n",
      "\n",
      "book_id     2220      2224      2226     2229      2230      2233     2235   \\\n",
      "0        0.000543 -0.001635 -0.000559  0.00136 -0.001051  0.003459  0.00114   \n",
      "\n",
      "book_id     2236      2238      2239      2240      2241      2242      2252   \\\n",
      "0       -0.001436 -0.000055 -0.001692  0.000859  0.000167 -0.000971  0.000571   \n",
      "\n",
      "book_id     2253     2255      2257      2259      2261     2262     2266   \\\n",
      "0       -0.000885  0.00082 -0.000411  0.001554  0.001605 -0.00058 -0.00041   \n",
      "\n",
      "book_id     2268     2270      2271      2274      2277      2279      2280   \\\n",
      "0        0.000005 -0.00096 -0.001439  0.012847 -0.000202  0.001152  0.000815   \n",
      "\n",
      "book_id     2284      2285      2286      2288     2289      2291      2295   \\\n",
      "0        0.008265  0.000027  0.000099  0.001573 -0.00046 -0.000453  0.000086   \n",
      "\n",
      "book_id    2296      2297      2298      2299      2302      2303      2304   \\\n",
      "0       -0.00101  0.002047 -0.000563 -0.001541  0.000085 -0.001476  0.007152   \n",
      "\n",
      "book_id     2309      2311      2312      2314      2315      2318      2320   \\\n",
      "0       -0.000102 -0.000825 -0.002769  0.002248 -0.003042 -0.001525 -0.000528   \n",
      "\n",
      "book_id     2321      2323      2324      2326      2328      2336      2337   \\\n",
      "0        0.000301 -0.000022  0.001895 -0.001679 -0.000285  0.000496  0.001373   \n",
      "\n",
      "book_id     2338      2339     2340      2341      2342      2343      2344   \\\n",
      "0        0.000039  0.005942  0.00064 -0.000752  0.000205  0.000031  0.001121   \n",
      "\n",
      "book_id     2347      2351      2352      2353      2354      2355      2357   \\\n",
      "0       -0.005061  0.000391 -0.001664 -0.000122  0.000386 -0.000565  0.000362   \n",
      "\n",
      "book_id     2361      2362      2365     2366      2367      2368     2371   \\\n",
      "0        0.000414  0.000646 -0.001701 -0.00007  0.001878  0.002103  0.00197   \n",
      "\n",
      "book_id     2374    2379     2380     2382      2383      2385      2392   \\\n",
      "0        0.001259  0.0082  0.00058 -0.00133 -0.000119 -0.000451 -0.000078   \n",
      "\n",
      "book_id     2398      2399      2400      2403     2405      2406      2408   \\\n",
      "0       -0.001353 -0.003478  0.000347  0.005909  0.00013 -0.000968 -0.000804   \n",
      "\n",
      "book_id     2411      2414      2415      2416      2419      2425      2426   \\\n",
      "0        0.000187  0.000612 -0.001769 -0.000861  0.000804 -0.000248 -0.000918   \n",
      "\n",
      "book_id     2430      2433      2436      2439      2440      2445      2446   \\\n",
      "0       -0.000258 -0.000013  0.000589 -0.000748  0.004919  0.000123 -0.000137   \n",
      "\n",
      "book_id     2451     2452      2453      2458     2461      2464      2465   \\\n",
      "0        0.003321 -0.00132 -0.000317 -0.003354 -0.00219  0.002808  0.005374   \n",
      "\n",
      "book_id     2466      2468      2469      2470      2475      2478      2487   \\\n",
      "0        0.001218 -0.002654 -0.001821 -0.002642 -0.001561 -0.000203 -0.000595   \n",
      "\n",
      "book_id     2489      2491      2497     2498     2499      2501      2504   \\\n",
      "0       -0.001735 -0.003074 -0.000079  0.00151 -0.00056 -0.001357 -0.001248   \n",
      "\n",
      "book_id     2505      2506     2508      2513     2514      2515      2519   \\\n",
      "0        0.000024 -0.000162  0.01395 -0.009077 -0.00181 -0.000456 -0.001126   \n",
      "\n",
      "book_id    2521      2522      2523      2524      2536      2539      2540   \\\n",
      "0        0.00101  0.000292 -0.001236  0.002731 -0.001259 -0.000039  0.000886   \n",
      "\n",
      "book_id     2544      2546      2547      2549      2550      2552      2553   \\\n",
      "0       -0.001457  0.001276 -0.001741 -0.000014 -0.001246  0.000931 -0.001322   \n",
      "\n",
      "book_id     2554      2555      2556      2559      2561      2564      2568   \\\n",
      "0       -0.003824 -0.000098 -0.000509  0.006045  0.008953 -0.003779  0.000714   \n",
      "\n",
      "book_id     2571     2573      2577      2578      2579      2582      2584   \\\n",
      "0        0.001685 -0.00044 -0.000395  0.001829  0.000986  0.000578  0.000683   \n",
      "\n",
      "book_id     2586      2592      2594      2595      2597      2600      2601   \\\n",
      "0        0.001891 -0.001107 -0.000696 -0.000826 -0.000564 -0.001216 -0.000448   \n",
      "\n",
      "book_id     2603      2604      2605      2608      2610      2611      2612   \\\n",
      "0        0.000945 -0.004414 -0.000209 -0.000292 -0.000698 -0.001177  0.000231   \n",
      "\n",
      "book_id    2615      2616      2618      2619      2620     2621      2622   \\\n",
      "0        0.00121  0.001884  0.001997 -0.000453 -0.002089  0.00548 -0.000032   \n",
      "\n",
      "book_id     2623      2624      2632      2633      2637      2638      2640   \\\n",
      "0       -0.001525 -0.001386 -0.000714  0.000654 -0.000025 -0.000243 -0.000915   \n",
      "\n",
      "book_id     2642      2643     2644    2645      2646      2647      2648   \\\n",
      "0       -0.000711  0.002009  0.00133 -0.0013 -0.003453 -0.000182  0.000931   \n",
      "\n",
      "book_id     2649      2650      2651      2657      2658      2666      2669   \\\n",
      "0        0.000583 -0.000644 -0.000831 -0.002282 -0.004092 -0.002242 -0.001163   \n",
      "\n",
      "book_id     2671      2673      2674      2677     2678      2679     2680   \\\n",
      "0       -0.000183 -0.000879 -0.000134 -0.003287 -0.00029  0.007193 -0.00057   \n",
      "\n",
      "book_id     2686      2691      2693      2695      2696      2698      2701   \\\n",
      "0        0.000168 -0.000801 -0.000702 -0.001212 -0.000487  0.003428 -0.001405   \n",
      "\n",
      "book_id     2703      2705      2709      2710      2716      2718      2724   \\\n",
      "0       -0.000355 -0.000326  0.002503  0.001938 -0.000423 -0.002785 -0.000778   \n",
      "\n",
      "book_id     2727      2729      2730      2732      2735      2737      2738   \\\n",
      "0        0.001498  0.004626 -0.000799 -0.000566  0.001125 -0.000233  0.003329   \n",
      "\n",
      "book_id     2740      2741      2745     2746      2747      2750      2754   \\\n",
      "0       -0.000489  0.000451 -0.000248 -0.00079  0.004157  0.000071 -0.000079   \n",
      "\n",
      "book_id     2755      2757    2758      2760      2761      2763     2765   \\\n",
      "0       -0.000229  0.005541 -0.0001 -0.002821  0.000899  0.000142 -0.00041   \n",
      "\n",
      "book_id     2766     2770      2781      2782      2783      2786      2787   \\\n",
      "0       -0.000279  0.00477 -0.002164 -0.000014 -0.000986 -0.000488 -0.002901   \n",
      "\n",
      "book_id    2789      2794      2798      2802      2806      2807      2809   \\\n",
      "0       -0.00173 -0.000293  0.002314 -0.000239 -0.000576 -0.000328  0.002526   \n",
      "\n",
      "book_id   2810      2811      2812     2817      2820    2821     2822   \\\n",
      "0        0.0014 -0.002221  0.000216 -0.00155  0.001261  0.0014  0.00013   \n",
      "\n",
      "book_id    2825      2827      2835      2844      2846      2852      2857   \\\n",
      "0       -0.00036  0.001443  0.000347 -0.000679 -0.000624  0.000918 -0.000073   \n",
      "\n",
      "book_id     2859      2860      2862      2863      2865      2869      2873   \\\n",
      "0       -0.000606  0.000853 -0.000635  0.000053 -0.000678  0.006624 -0.000149   \n",
      "\n",
      "book_id     2874      2875      2878      2890      2894      2897      2898   \\\n",
      "0       -0.000957  0.001325 -0.000345 -0.000482 -0.000007  0.001459 -0.000103   \n",
      "\n",
      "book_id     2901      2902      2903      2910      2911      2914      2920   \\\n",
      "0       -0.000033  0.000067  0.002373 -0.000483 -0.000552  0.005138 -0.000029   \n",
      "\n",
      "book_id     2921      2923      2926      2927      2931      2934      2936   \\\n",
      "0        0.002344 -0.000085  0.006586  0.000857 -0.000274 -0.000062 -0.002979   \n",
      "\n",
      "book_id     2937      2938      2939      2940      2942      2944      2946   \\\n",
      "0       -0.001816  0.001269  0.002012 -0.000092  0.001012 -0.001375  0.000036   \n",
      "\n",
      "book_id     2947      2950      2952      2954      2957      2958      2959   \\\n",
      "0       -0.000625  0.000464  0.000073  0.000099  0.000029  0.000573 -0.001289   \n",
      "\n",
      "book_id     2960      2961      2963      2965      2967      2970      2973   \\\n",
      "0        0.000017 -0.000413  0.000616  0.000837  0.001919 -0.000034 -0.000362   \n",
      "\n",
      "book_id     2975      2976      2977      2982     2985      2989      2991   \\\n",
      "0        0.002196 -0.003188 -0.000751  0.000146  0.00018  0.000509  0.001693   \n",
      "\n",
      "book_id     2994      3000      3001      3002      3006      3007      3009   \\\n",
      "0        0.000625 -0.000816 -0.000344  0.001552 -0.000828  0.000847  0.000032   \n",
      "\n",
      "book_id     3011      3016     3018      3019      3020      3021      3022   \\\n",
      "0        0.002163  0.001648 -0.00036 -0.001395  0.001666  0.001374 -0.001776   \n",
      "\n",
      "book_id     3024     3025      3027      3028   3029      3033      3034   \\\n",
      "0        0.002242 -0.00114  0.006669 -0.000149 -0.001 -0.000567  0.000601   \n",
      "\n",
      "book_id     3036      3042      3046      3047      3048      3049      3055   \\\n",
      "0       -0.000003 -0.000539 -0.000071 -0.003625  0.002621  0.000235 -0.000645   \n",
      "\n",
      "book_id     3056      3058     3059      3061      3063      3065      3066   \\\n",
      "0        0.000745 -0.000364  0.00032 -0.000798  0.000067 -0.001129 -0.000874   \n",
      "\n",
      "book_id     3068      3069      3070      3071      3072      3076      3078   \\\n",
      "0        0.002936 -0.000187  0.000566 -0.000056 -0.002999 -0.000694 -0.000192   \n",
      "\n",
      "book_id     3079      3080      3082      3084      3085      3086      3088   \\\n",
      "0        0.002628  0.000248 -0.002771 -0.000534  0.002104 -0.003611  0.000301   \n",
      "\n",
      "book_id     3090      3091      3092      3096      3098      3099      3100   \\\n",
      "0        0.001961 -0.001149  0.001906 -0.001658  0.000129 -0.000747 -0.000245   \n",
      "\n",
      "book_id     3101      3106      3108      3109    3115      3119      3120   \\\n",
      "0       -0.000466  0.001699 -0.000823 -0.000769  0.0001 -0.001493 -0.000869   \n",
      "\n",
      "book_id     3122     3123      3124     3126      3127      3128      3131   \\\n",
      "0       -0.000111  0.00308  0.000913  0.00143 -0.000851 -0.005886  0.000271   \n",
      "\n",
      "book_id    3133      3136      3137      3138      3139      3140      3141   \\\n",
      "0       -0.00082  0.001265 -0.000572  0.000944  0.000773  0.000217  0.004609   \n",
      "\n",
      "book_id     3142      3143      3149      3151      3156      3158      3160   \\\n",
      "0        0.000972  0.000017 -0.000506 -0.000089  0.004168 -0.000047  0.000491   \n",
      "\n",
      "book_id    3166      3169      3171      3172     3174      3177      3182   \\\n",
      "0       -0.00018  0.000146 -0.000562  0.001695 -0.00036 -0.000716 -0.000752   \n",
      "\n",
      "book_id    3186      3187      3197      3200      3202     3203      3205   \\\n",
      "0        0.00119  0.003145 -0.001066 -0.001094  0.006188  0.00011 -0.000194   \n",
      "\n",
      "book_id     3206     3207      3210      3212      3219      3223      3224   \\\n",
      "0        0.000035  0.00002  0.000301 -0.000206  0.003517 -0.000749 -0.000007   \n",
      "\n",
      "book_id     3229      3232      3234      3237      3243      3244      3246   \\\n",
      "0        0.000456  0.000486  0.001006  0.003872  0.000808 -0.000775 -0.000997   \n",
      "\n",
      "book_id     3247      3250      3252      3254      3255      3256      3258   \\\n",
      "0       -0.000293  0.003717  0.002592  0.000395  0.001683  0.001186 -0.000373   \n",
      "\n",
      "book_id     3262      3264      3273      3274      3275      3277      3278   \\\n",
      "0        0.000483  0.000902 -0.000009 -0.001365  0.000003 -0.000455 -0.001004   \n",
      "\n",
      "book_id     3279      3280      3284      3286      3291      3293      3296   \\\n",
      "0       -0.000045 -0.000419  0.000685 -0.001032 -0.000364  0.002179  0.000477   \n",
      "\n",
      "book_id     3298      3304      3306      3307      3308      3310      3311   \\\n",
      "0       -0.001591 -0.000242 -0.000523 -0.000638  0.000682  0.001153  0.000227   \n",
      "\n",
      "book_id    3314      3316     3320      3321      3322      3330      3331   \\\n",
      "0       -0.00049  0.000066 -0.00066  0.003098  0.002219 -0.001261  0.000457   \n",
      "\n",
      "book_id     3333      3338      3340      3342      3346     3349      3351   \\\n",
      "0        0.000883  0.002052 -0.004697  0.001307  0.000595 -0.00105 -0.000182   \n",
      "\n",
      "book_id     3352      3357      3358      3359      3360     3362      3363   \\\n",
      "0        0.000899  0.000285 -0.000512 -0.001844 -0.000265 -0.00199  0.000347   \n",
      "\n",
      "book_id     3364      3366      3367      3370      3374      3375      3377   \\\n",
      "0        0.000261 -0.000162  0.000198  0.000581 -0.000091 -0.000147  0.000275   \n",
      "\n",
      "book_id     3379      3381      3387      3388      3390     3392      3395   \\\n",
      "0       -0.000141  0.000473 -0.000664 -0.000047 -0.000215 -0.00041 -0.002253   \n",
      "\n",
      "book_id     3396      3397          3398      3399     3400      3403   \\\n",
      "0       -0.002764  0.000371  1.914029e-07  0.000648  0.00291  0.000027   \n",
      "\n",
      "book_id     3404      3406      3407      3410      3412      3414      3415   \\\n",
      "0        0.000353  0.001615  0.000192 -0.000643  0.004337 -0.000651 -0.000004   \n",
      "\n",
      "book_id     3417     3418      3419      3425      3428      3431      3443   \\\n",
      "0        0.008946 -0.00013  0.003547  0.007029  0.006045 -0.000258 -0.000276   \n",
      "\n",
      "book_id     3449      3451      3452     3455      3457      3459      3464   \\\n",
      "0       -0.000456  0.002953 -0.000066 -0.00123  0.001571  0.000914  0.000034   \n",
      "\n",
      "book_id     3468      3472      3476     3477      3480      3482      3485   \\\n",
      "0        0.002063  0.002359  0.002697 -0.00448 -0.000068  0.001133  0.001386   \n",
      "\n",
      "book_id     3488      3489      3492      3493      3500      3501      3504   \\\n",
      "0        0.001115 -0.000106 -0.001497 -0.000203 -0.000717  0.001335  0.007222   \n",
      "\n",
      "book_id     3505     3506      3508      3510      3511      3513      3518   \\\n",
      "0       -0.001294 -0.00006  0.000764 -0.000166  0.001607 -0.000278  0.000243   \n",
      "\n",
      "book_id     3519      3520      3521      3523    3524      3530      3533   \\\n",
      "0        0.001043 -0.000839  0.000399  0.001562 -0.0009 -0.002421  0.001126   \n",
      "\n",
      "book_id     3535      3536      3540      3541      3543      3546      3547   \\\n",
      "0       -0.001183 -0.000406  0.003233 -0.000451 -0.001661  0.001914  0.000209   \n",
      "\n",
      "book_id     3548      3551      3552      3556      3557     3560      3561   \\\n",
      "0        0.000062  0.002218  0.000447  0.000632 -0.000085  0.00752  0.005977   \n",
      "\n",
      "book_id     3562      3565      3566      3567      3568      3569      3572   \\\n",
      "0       -0.001034 -0.000161  0.000871  0.000585  0.001283 -0.000896 -0.000111   \n",
      "\n",
      "book_id     3573    3578      3579      3580      3581      3582      3583   \\\n",
      "0       -0.001118 -0.0008  0.001285 -0.001551  0.001052  0.000126 -0.000572   \n",
      "\n",
      "book_id     3585      3588      3590      3591      3594      3595      3597   \\\n",
      "0        0.000043  0.003243  0.002538  0.000764 -0.000027 -0.003183  0.004791   \n",
      "\n",
      "book_id     3598     3600    3601    3605      3608      3610      3612   \\\n",
      "0        0.000253  0.00755  0.0005 -0.0005 -0.000194  0.000951  0.000347   \n",
      "\n",
      "book_id     3613      3614     3620    3625      3628      3629      3631   \\\n",
      "0        0.001714 -0.000386 -0.00008  0.0011  0.001338  0.000188  0.000347   \n",
      "\n",
      "book_id    3634      3635      3638      3640     3642      3643     3646   \\\n",
      "0       -0.00051  0.000044  0.003196  0.000042 -0.00007  0.003526  0.00071   \n",
      "\n",
      "book_id     3648      3650     3656      3657      3658     3660      3663   \\\n",
      "0       -0.000406  0.003924  0.00079 -0.000082 -0.000782 -0.00488  0.000368   \n",
      "\n",
      "book_id     3671      3672      3674      3675      3676      3678      3680   \\\n",
      "0        0.000389 -0.000039 -0.000203 -0.000903  0.000549  0.000615  0.000014   \n",
      "\n",
      "book_id     3684      3688      3692      3696      3699     3700      3703   \\\n",
      "0        0.000257  0.000101  0.003462 -0.001494 -0.000707 -0.00126  0.008639   \n",
      "\n",
      "book_id     3705      3708      3710     3712      3713      3717      3719   \\\n",
      "0       -0.000144  0.003838 -0.000048 -0.00024 -0.000273  0.000588  0.001479   \n",
      "\n",
      "book_id     3720      3721      3739      3743      3750      3752      3753   \\\n",
      "0       -0.001801 -0.000006 -0.000229 -0.000392 -0.001089 -0.000327 -0.000724   \n",
      "\n",
      "book_id     3754      3755      3758      3760      3761      3762      3763   \\\n",
      "0       -0.001381  0.000456 -0.002442 -0.001427  0.000666  0.000578  0.000167   \n",
      "\n",
      "book_id     3764      3767      3769      3771      3772      3785      3787   \\\n",
      "0        0.002273  0.000853 -0.000002 -0.001723 -0.001409  0.000821  0.001692   \n",
      "\n",
      "book_id     3790      3791      3794      3795      3797      3804      3806   \\\n",
      "0       -0.001277  0.001466  0.003992 -0.001947 -0.000154  0.000744 -0.000129   \n",
      "\n",
      "book_id     3807      3808      3811      3817      3818      3820      3821   \\\n",
      "0       -0.000521  0.002905  0.002256  0.000115 -0.001998  0.000068 -0.000266   \n",
      "\n",
      "book_id     3826      3828      3830      3831      3833      3834      3835   \\\n",
      "0       -0.000273  0.002459  0.000236 -0.000437  0.000353 -0.000692  0.000292   \n",
      "\n",
      "book_id     3837      3840      3843      3844      3851      3853      3856   \\\n",
      "0        0.006465  0.000699  0.000088 -0.000572 -0.000217 -0.000827  0.007994   \n",
      "\n",
      "book_id     3858      3860      3868      3869      3871      3872      3876   \\\n",
      "0       -0.000103 -0.000265  0.001007  0.002941 -0.001321  0.000961 -0.000748   \n",
      "\n",
      "book_id    3883      3884      3886      3889      3891      3892      3894   \\\n",
      "0       -0.00122 -0.001053 -0.000814  0.000391  0.000129  0.001693  0.000101   \n",
      "\n",
      "book_id    3896      3899      3900      3903      3904      3906      3907   \\\n",
      "0       -0.00033 -0.000036 -0.000786  0.001286  0.000012 -0.000312 -0.002876   \n",
      "\n",
      "book_id     3911      3913      3916      3918      3919      3921      3924   \\\n",
      "0       -0.000097  0.003005 -0.000461 -0.000813  0.000127  0.000921 -0.000515   \n",
      "\n",
      "book_id     3925      3928      3929      3930      3932      3933      3934   \\\n",
      "0        0.000222  0.000879  0.000314 -0.000169  0.000324  0.000595  0.000053   \n",
      "\n",
      "book_id     3935      3936     3937      3938      3941      3942      3945   \\\n",
      "0       -0.000694 -0.000693 -0.00044 -0.001899 -0.000615 -0.000881  0.000107   \n",
      "\n",
      "book_id    3948      3949      3951      3954      3960      3963      3964   \\\n",
      "0       -0.00101 -0.000527 -0.000227  0.000708 -0.000419  0.003244 -0.000278   \n",
      "\n",
      "book_id     3965      3966      3971      3973      3974      3978      3979   \\\n",
      "0        0.000175  0.000099  0.000007  0.000132 -0.000522 -0.001667  0.001134   \n",
      "\n",
      "book_id     3982      3985      3986      3988      3989      3990      3991   \\\n",
      "0       -0.000407  0.000527  0.001444  0.000398 -0.000157 -0.000166  0.000127   \n",
      "\n",
      "book_id     3995      3997      3998      4004      4005      4009     4014   \\\n",
      "0       -0.000886  0.002425  0.001062  0.000613  0.001206  0.001341  0.00051   \n",
      "\n",
      "book_id    4015      4016      4018      4019      4025      4026      4027   \\\n",
      "0       -0.00267  0.001285 -0.000546 -0.000937  0.000216 -0.000747  0.000541   \n",
      "\n",
      "book_id     4031      4034     4035      4040      4042      4043      4044   \\\n",
      "0       -0.000439 -0.002438 -0.00036  0.000198  0.000121  0.000353 -0.002053   \n",
      "\n",
      "book_id     4047      4052     4054      4055      4057      4062      4064   \\\n",
      "0       -0.000904 -0.000311  0.00023  0.000756  0.003682 -0.000737 -0.000825   \n",
      "\n",
      "book_id     4065      4068     4069      4070     4071      4078     4079   \\\n",
      "0       -0.001312  0.000056 -0.00024 -0.000337 -0.00191 -0.000063  0.00035   \n",
      "\n",
      "book_id     4081     4083      4085      4087      4089      4090      4091   \\\n",
      "0        0.002395 -0.00083 -0.000932 -0.000092 -0.000716  0.000473  0.000146   \n",
      "\n",
      "book_id     4092      4094     4095      4096      4103      4104     4106   \\\n",
      "0       -0.000392 -0.000318  0.00035  0.005682  0.001037  0.002265  0.00435   \n",
      "\n",
      "book_id     4108      4112      4114      4117      4118      4119      4120   \\\n",
      "0        0.004619  0.000345 -0.000045  0.000057 -0.001516 -0.000875  0.000545   \n",
      "\n",
      "book_id     4121      4124      4127      4129      4130      4131      4132   \\\n",
      "0       -0.000129  0.001347 -0.000351  0.000231  0.005909 -0.000455 -0.000374   \n",
      "\n",
      "book_id     4134      4136      4138      4139      4149     4151      4160   \\\n",
      "0       -0.000444 -0.000037 -0.002896  0.002438 -0.001642 -0.00041  0.000723   \n",
      "\n",
      "book_id     4166      4171      4175      4177      4182      4188      4189   \\\n",
      "0       -0.000402  0.004353 -0.002619 -0.000329 -0.000946 -0.001406 -0.000059   \n",
      "\n",
      "book_id     4190      4192      4194      4196      4197      4205      4206   \\\n",
      "0       -0.000432 -0.004118  0.000375  0.001944  0.001673  0.000788 -0.000782   \n",
      "\n",
      "book_id     4214      4215      4220      4221      4228      4231      4232   \\\n",
      "0       -0.000262  0.000665  0.004367  0.002079 -0.000064 -0.000446  0.001984   \n",
      "\n",
      "book_id     4236      4237      4238      4240      4244      4250      4251   \\\n",
      "0       -0.001644  0.001301  0.002489 -0.000171 -0.000047  0.002288 -0.005955   \n",
      "\n",
      "book_id     4253      4256      4257      4258      4260     4261      4265   \\\n",
      "0        0.000117 -0.000192 -0.001245 -0.000444  0.000871 -0.00056  0.000021   \n",
      "\n",
      "book_id     4266     4268      4270      4271      4273      4275     4284   \\\n",
      "0       -0.001811 -0.00001  0.000105 -0.001612 -0.000703 -0.001273 -0.00263   \n",
      "\n",
      "book_id     4286      4287      4289     4290      4291      4293      4294   \\\n",
      "0       -0.001024  0.000515 -0.000743 -0.00038 -0.000139 -0.000247 -0.000014   \n",
      "\n",
      "book_id     4296      4298      4301     4308      4309      4315      4316   \\\n",
      "0        0.000076 -0.000176  0.003066 -0.00127 -0.000133  0.000671  0.005023   \n",
      "\n",
      "book_id     4317      4319      4320      4325      4326      4327      4330   \\\n",
      "0       -0.001311  0.001802 -0.000024 -0.000073 -0.000233  0.000547 -0.000637   \n",
      "\n",
      "book_id    4331      4332     4336     4337      4342     4345      4353   \\\n",
      "0       -0.00027 -0.000976  0.00036  0.00014 -0.001366 -0.00008 -0.000236   \n",
      "\n",
      "book_id     4357      4359     4360     4361      4363      4368      4369   \\\n",
      "0       -0.000434  0.000525  0.00007 -0.00212  0.004364 -0.000567 -0.000256   \n",
      "\n",
      "book_id     4371      4383      4387      4388     4390      4391      4392   \\\n",
      "0       -0.000199 -0.000116 -0.000392  0.000846  0.00056  0.001383  0.001825   \n",
      "\n",
      "book_id     4394      4395      4396      4398      4399      4400      4404   \\\n",
      "0        0.003348 -0.000059 -0.001391 -0.000193  0.000214 -0.000015 -0.000007   \n",
      "\n",
      "book_id     4416      4418      4421      4422      4427      4429      4431   \\\n",
      "0       -0.000444  0.001575  0.000539 -0.001213  0.001518  0.001692 -0.000169   \n",
      "\n",
      "book_id     4435     4440      4441      4443      4444      4445      4447   \\\n",
      "0       -0.000645 -0.00222  0.001001 -0.000224 -0.000559 -0.001267  0.000068   \n",
      "\n",
      "book_id     4452      4455      4459      4460      4464     4468     4473   \\\n",
      "0       -0.000652  0.001066 -0.000706 -0.001135  0.000008  0.00421  0.00545   \n",
      "\n",
      "book_id     4475      4476      4481      4482      4483      4485      4487   \\\n",
      "0        0.001393 -0.000397 -0.000035  0.000129 -0.001856  0.000708 -0.001087   \n",
      "\n",
      "book_id     4503      4504      4506      4507      4508      4510      4512   \\\n",
      "0        0.000234 -0.000952  0.000716 -0.000212  0.000738 -0.001121 -0.000782   \n",
      "\n",
      "book_id     4513      4514      4515     4517      4524      4525      4526   \\\n",
      "0        0.001169 -0.000374  0.000913  0.00167 -0.001499 -0.000275  0.000583   \n",
      "\n",
      "book_id     4528     4530      4531      4534      4535    4537      4542   \\\n",
      "0       -0.000077 -0.00219  0.003594 -0.000893 -0.000927  0.0007 -0.001276   \n",
      "\n",
      "book_id     4544      4548    4551      4553      4555      4560      4561   \\\n",
      "0        0.004351 -0.001802  0.0003 -0.002558  0.000006  0.000251  0.000723   \n",
      "\n",
      "book_id     4565      4567      4571      4574      4578      4579      4582   \\\n",
      "0       -0.001475  0.000397  0.000084 -0.000623 -0.000017 -0.001444 -0.000046   \n",
      "\n",
      "book_id     4584      4586     4588      4592      4597      4598      4602   \\\n",
      "0        0.002276  0.000028 -0.00115  0.001275 -0.000274  0.000862  0.001911   \n",
      "\n",
      "book_id     4603      4605      4606      4608      4609      4612      4614   \\\n",
      "0       -0.000076  0.002108  0.001973 -0.001356  0.003849 -0.001098  0.004222   \n",
      "\n",
      "book_id     4619      4620      4622      4627      4632      4634      4638   \\\n",
      "0       -0.000596 -0.000543 -0.001017  0.000041 -0.002528  0.001622  0.002475   \n",
      "\n",
      "book_id     4639      4640      4642      4645      4650     4653      4656   \\\n",
      "0        0.000058  0.002808 -0.001236 -0.001811 -0.001383 -0.00075 -0.000028   \n",
      "\n",
      "book_id     4658      4660      4661      4663      4670      4671      4672   \\\n",
      "0       -0.000815  0.002874 -0.000082 -0.001202  0.000189  0.001287  0.001062   \n",
      "\n",
      "book_id     4677      4678    4680      4682     4683      4686      4691   \\\n",
      "0       -0.000217 -0.000426 -0.0005  0.000068  0.00051 -0.001438  0.000847   \n",
      "\n",
      "book_id     4698      4699      4700      4713      4715      4716      4722   \\\n",
      "0       -0.000036 -0.000132 -0.001128 -0.001326 -0.001022  0.000231  0.000066   \n",
      "\n",
      "book_id     4723      4726     4727     4728      4729      4731     4732   \\\n",
      "0        0.000804 -0.000448 -0.00057  0.00048 -0.000773  0.000388  0.00047   \n",
      "\n",
      "book_id    4733      4740      4746      4753      4755      4756      4758   \\\n",
      "0       -0.00006  0.002327  0.000193 -0.000404  0.001232 -0.000238  0.000408   \n",
      "\n",
      "book_id     4759      4763      4772     4778      4788     4793      4795   \\\n",
      "0        0.000055  0.002513  0.000335 -0.00032  0.005752  0.00221 -0.000118   \n",
      "\n",
      "book_id     4796      4797     4799      4800      4806     4810      4811   \\\n",
      "0       -0.000417 -0.001445 -0.00229 -0.000433 -0.000041 -0.00018  0.000148   \n",
      "\n",
      "book_id     4813      4815      4820      4822      4828      4835      4836   \\\n",
      "0       -0.000787 -0.001609  0.000271  0.003328  0.000286  0.000395  0.000507   \n",
      "\n",
      "book_id     4838      4842      4844      4848      4850      4861      4862   \\\n",
      "0        0.000703  0.000083 -0.000054  0.000167  0.000451 -0.001839  0.000529   \n",
      "\n",
      "book_id     4865      4870      4871      4872      4874      4885      4888   \\\n",
      "0        0.000462  0.000186 -0.000555  0.003118  0.000848  0.000024 -0.000012   \n",
      "\n",
      "book_id     4891      4893      4895      4898      4899      4901      4902   \\\n",
      "0        0.000665 -0.001155 -0.000562  0.001937  0.002298 -0.000309  0.000056   \n",
      "\n",
      "book_id     4908      4909      4914      4915      4919      4924      4931   \\\n",
      "0        0.000317 -0.000325 -0.000302 -0.000417 -0.000137 -0.000012 -0.000187   \n",
      "\n",
      "book_id     4933      4936      4937     4938     4939      4941      4942   \\\n",
      "0       -0.000403 -0.000341 -0.000006  0.00137  0.00037  0.000665  0.000985   \n",
      "\n",
      "book_id     4944      4955     4960      4965      4971      4972      4973   \\\n",
      "0       -0.000039 -0.000026  0.00156 -0.000862  0.002256  0.004045 -0.001687   \n",
      "\n",
      "book_id    4974      4976      4979      4981      4983      4985      4989   \\\n",
      "0       -0.00015 -0.001603 -0.000047 -0.000708  0.000175 -0.001125  0.000257   \n",
      "\n",
      "book_id     4990      4993      4994      4996     4999     5005      5007   \\\n",
      "0       -0.000055 -0.000943  0.001781  0.000029  0.00013 -0.00006 -0.000234   \n",
      "\n",
      "book_id     5009      5010      5013      5019     5024     5027      5028   \\\n",
      "0        0.002283 -0.000831 -0.000104  0.001622  0.00473 -0.00145 -0.000116   \n",
      "\n",
      "book_id     5029      5030      5035      5037    5041      5044      5045   \\\n",
      "0       -0.000549 -0.001956  0.000091  0.001297 -0.0001 -0.000258  0.000779   \n",
      "\n",
      "book_id     5046      5047      5049      5051      5052      5055      5056   \\\n",
      "0       -0.000559 -0.000262 -0.000696  0.000149  0.000554 -0.001132 -0.000235   \n",
      "\n",
      "book_id     5057      5061      5068      5072      5076      5077     5080   \\\n",
      "0       -0.000004 -0.000271  0.001208 -0.000701  0.002555  0.000198  0.00014   \n",
      "\n",
      "book_id     5081      5084      5088      5092      5095      5097     5099   \\\n",
      "0        0.000584  0.000661 -0.000535  0.000297 -0.000439 -0.000288 -0.00097   \n",
      "\n",
      "book_id     5100      5101      5114      5115      5116      5120      5121   \\\n",
      "0       -0.000275  0.003306 -0.002773  0.000011  0.000802  0.001973 -0.000364   \n",
      "\n",
      "book_id     5122      5123      5128      5130     5134     5135      5138   \\\n",
      "0       -0.000068  0.000138  0.001066  0.000288 -0.00029 -0.00036 -0.000025   \n",
      "\n",
      "book_id     5141      5144      5145      5146      5147      5150     5152   \\\n",
      "0       -0.001097 -0.000407  0.000665  0.001401 -0.000011 -0.000514  0.00066   \n",
      "\n",
      "book_id     5155      5157      5158      5160      5162     5173      5176   \\\n",
      "0        0.001553  0.000098 -0.000759 -0.002853  0.001253 -0.00106 -0.000325   \n",
      "\n",
      "book_id     5180      5181      5182      5187     5189      5195      5198   \\\n",
      "0       -0.000023 -0.000025  0.000142  0.001535 -0.00005  0.000775  0.002175   \n",
      "\n",
      "book_id     5201      5203      5204      5206      5207      5210      5211   \\\n",
      "0       -0.002287 -0.001183 -0.000208 -0.000846 -0.004041  0.001544  0.000112   \n",
      "\n",
      "book_id    5215      5216      5220      5229      5232      5237      5238   \\\n",
      "0        0.00109  0.002991  0.002598 -0.002655 -0.000424  0.000354  0.001232   \n",
      "\n",
      "book_id    5239      5241      5243      5244      5247      5252      5253   \\\n",
      "0        0.00037 -0.000092 -0.000087  0.002433 -0.001811 -0.000038 -0.000047   \n",
      "\n",
      "book_id     5254      5257      5260      5263      5265      5269   \\\n",
      "0        0.000396  0.004346 -0.000123  0.000878 -0.002392  0.000687   \n",
      "\n",
      "book_id         5273      5274      5277      5283      5287    5290   \\\n",
      "0        8.094635e-07  0.000143 -0.001004  0.000609 -0.000955 -0.0026   \n",
      "\n",
      "book_id     5294      5295      5297      5299     5303      5304      5306   \\\n",
      "0        0.003882  0.000269 -0.000118 -0.000039 -0.00013 -0.001608 -0.000425   \n",
      "\n",
      "book_id     5310      5311      5313     5315      5316      5317      5318   \\\n",
      "0        0.000027 -0.000436 -0.000254  0.00062 -0.000491  0.000589 -0.000072   \n",
      "\n",
      "book_id     5322      5326      5327      5329     5330      5332      5337   \\\n",
      "0       -0.000161  0.000909  0.002167 -0.000943  0.00174 -0.000097 -0.000205   \n",
      "\n",
      "book_id     5341      5343      5346      5347      5349    5354     5355   \\\n",
      "0       -0.000085  0.000254  0.002696  0.000395  0.001521 -0.0003  0.00028   \n",
      "\n",
      "book_id     5357      5358      5369      5374      5378    5380      5381   \\\n",
      "0       -0.000118 -0.000041  0.001183  0.005152 -0.000523 -0.0001 -0.002966   \n",
      "\n",
      "book_id    5382          5383      5385      5386      5388      5392   \\\n",
      "0       -0.00004  3.739796e-19  0.005235  0.001901 -0.001345 -0.000363   \n",
      "\n",
      "book_id    5395      5399     5400      5401      5402      5404      5411   \\\n",
      "0        0.00279 -0.000277 -0.00035 -0.000161 -0.000292  0.000216 -0.000716   \n",
      "\n",
      "book_id     5413     5417      5420      5421      5423      5425      5427   \\\n",
      "0        0.001417  0.00037  0.002104  0.000991  0.000023  0.000552  0.000252   \n",
      "\n",
      "book_id     5430      5431      5434      5436      5437      5439      5441   \\\n",
      "0        0.001624 -0.001605 -0.000314  0.000116  0.001461  0.000209 -0.000187   \n",
      "\n",
      "book_id     5443      5445      5446     5448      5449      5455     5456   \\\n",
      "0       -0.000734 -0.000092 -0.001854  0.00213 -0.000046 -0.000568  0.00032   \n",
      "\n",
      "book_id     5458      5460      5463      5468      5469      5470      5477   \\\n",
      "0        0.000245  0.001981 -0.001101  0.000364 -0.000207 -0.001565 -0.000184   \n",
      "\n",
      "book_id     5478      5482     5483      5491      5493     5495     5496   \\\n",
      "0        0.000913  0.000687 -0.00145 -0.000586 -0.000657 -0.00145  0.00049   \n",
      "\n",
      "book_id    5498      5500     5505      5507      5508     5509      5514   \\\n",
      "0       -0.00166 -0.001952 -0.00001 -0.000955 -0.000186 -0.00038 -0.000975   \n",
      "\n",
      "book_id     5517      5522      5525      5526     5527      5536      5537   \\\n",
      "0       -0.000935 -0.002117 -0.000553 -0.000691  0.00207 -0.000136  0.001302   \n",
      "\n",
      "book_id     5540      5543      5545      5551      5554      5556      5558   \\\n",
      "0       -0.003302 -0.000456  0.000133  0.000621 -0.000758  0.001409 -0.001804   \n",
      "\n",
      "book_id    5560      5563      5564      5567     5568      5580      5582   \\\n",
      "0       -0.00053 -0.000671 -0.000154 -0.000685 -0.00306 -0.000226  0.000076   \n",
      "\n",
      "book_id    5586      5589      5591      5599    5604      5609      5615   \\\n",
      "0       -0.00145 -0.000456 -0.000806 -0.000118  0.0023 -0.000166 -0.000635   \n",
      "\n",
      "book_id     5616     5617      5621      5626      5627      5629      5630   \\\n",
      "0        0.000173  0.00001 -0.000454  0.002315  0.001913  0.004652  0.001285   \n",
      "\n",
      "book_id     5632      5646      5648      5655      5657      5658      5661   \\\n",
      "0       -0.000182 -0.000555  0.000127 -0.000604 -0.000973 -0.000212 -0.000655   \n",
      "\n",
      "book_id     5665      5667     5668      5670     5672      5673      5676   \\\n",
      "0        0.000305  0.002315  0.00013  0.000865 -0.00052 -0.000862  0.000123   \n",
      "\n",
      "book_id     5684      5691      5699      5700      5704      5705      5707   \\\n",
      "0       -0.000166  0.000044  0.000423  0.002665  0.001897 -0.001193 -0.001348   \n",
      "\n",
      "book_id     5714      5717      5727      5730      5733      5734      5739   \\\n",
      "0       -0.000404  0.000258 -0.000936  0.000592 -0.000314  0.001327 -0.000096   \n",
      "\n",
      "book_id     5740      5742    5743     5745      5747      5748      5751   \\\n",
      "0       -0.000116 -0.000222 -0.0012 -0.00036  0.000132 -0.001779  0.001307   \n",
      "\n",
      "book_id     5754      5758      5763      5764      5773      5774     5775   \\\n",
      "0        0.000869 -0.000455 -0.000067 -0.001732 -0.000159  0.001394 -0.00214   \n",
      "\n",
      "book_id     5777    5778      5781      5782      5783     5785      5792   \\\n",
      "0        0.000173 -0.0003 -0.000364 -0.000957  0.000317  0.00013  0.004498   \n",
      "\n",
      "book_id     5794      5795      5797      5798      5799      5800      5801   \\\n",
      "0        0.000457 -0.000692 -0.000559  0.000372 -0.000455 -0.000046 -0.000431   \n",
      "\n",
      "book_id    5804      5805      5808      5809      5812      5814      5826   \\\n",
      "0       -0.00209  0.000297 -0.001136 -0.000086 -0.000985 -0.000309 -0.000164   \n",
      "\n",
      "book_id    5827      5830      5831      5833      5836      5840      5853   \\\n",
      "0        0.00274  0.000147 -0.000133 -0.000198 -0.000261 -0.002966  0.000732   \n",
      "\n",
      "book_id     5858      5860      5861      5863      5865      5867      5870   \\\n",
      "0        0.000332 -0.002192 -0.000273 -0.000229  0.003854 -0.000444 -0.000027   \n",
      "\n",
      "book_id     5877      5885      5890      5903      5905      5906      5907   \\\n",
      "0       -0.000522 -0.000811 -0.000087 -0.000795  0.000066  0.002264  0.000573   \n",
      "\n",
      "book_id     5908      5909      5911      5918      5923      5925      5926   \\\n",
      "0        0.000094  0.000051  0.000817 -0.000693 -0.000364 -0.000051  0.000405   \n",
      "\n",
      "book_id     5928      5929      5930      5931      5932     5934      5935   \\\n",
      "0       -0.003526  0.000921  0.000213  0.000216  0.001212 -0.00024  0.000476   \n",
      "\n",
      "book_id   5936     5940      5945      5947      5948     5950      5953   \\\n",
      "0        0.0007 -0.00064  0.000973  0.001211  0.000105  0.00159 -0.000596   \n",
      "\n",
      "book_id     5957      5967      5968      5969      5972      5973      5978   \\\n",
      "0       -0.000118 -0.000161 -0.001554  0.000805 -0.000068  0.000787  0.000662   \n",
      "\n",
      "book_id     5982     5983      5992      5993     5994     5995      5999   \\\n",
      "0        0.000173  0.00146  0.000112  0.000294  0.00011  0.00282  0.000699   \n",
      "\n",
      "book_id     6002      6003      6005      6006      6011      6014      6018   \\\n",
      "0       -0.002599 -0.000071 -0.000036 -0.000076  0.000309  0.000339  0.000432   \n",
      "\n",
      "book_id     6021     6022      6029      6030      6039      6042      6045   \\\n",
      "0       -0.000079  0.00061 -0.000038  0.000066 -0.000028  0.000491  0.000575   \n",
      "\n",
      "book_id     6048      6064      6066      6067      6069      6070      6073   \\\n",
      "0       -0.000166 -0.000266  0.000144 -0.000444 -0.000161 -0.000113  0.000338   \n",
      "\n",
      "book_id     6076      6078      6079      6087      6089      6096      6097   \\\n",
      "0       -0.000079 -0.000342 -0.000325  0.000336 -0.000782  0.000105 -0.000067   \n",
      "\n",
      "book_id    6101      6104      6109      6113      6119      6121      6122   \\\n",
      "0       -0.00075  0.000937 -0.000709 -0.001037  0.000353 -0.001312 -0.000781   \n",
      "\n",
      "book_id     6123      6125      6128      6130      6131      6132      6135   \\\n",
      "0       -0.001821  0.002371 -0.000026 -0.000442  0.000136 -0.000181 -0.000943   \n",
      "\n",
      "book_id     6138      6139      6144      6146      6148      6150      6153   \\\n",
      "0        0.000106  0.000621 -0.001005  0.000198 -0.000103 -0.000801  0.000347   \n",
      "\n",
      "book_id     6154      6156      6157      6160     6166     6173      6175   \\\n",
      "0        0.001072 -0.000082  0.000334 -0.000227  0.00071  0.00143 -0.000374   \n",
      "\n",
      "book_id     6180      6181      6182      6183      6184      6185     6188   \\\n",
      "0        0.001537  0.001111  0.000125  0.000051  0.002785 -0.000039 -0.00292   \n",
      "\n",
      "book_id     6189      6190      6192     6195      6200      6201      6204   \\\n",
      "0       -0.000262  0.000302  0.000041  0.00026 -0.000761 -0.000292  0.000015   \n",
      "\n",
      "book_id     6211      6212      6218      6219      6220      6223     6225   \\\n",
      "0       -0.000608 -0.001198 -0.000029 -0.000085  0.001086 -0.000089  0.00067   \n",
      "\n",
      "book_id     6229      6230      6233      6235      6242      6249      6252   \\\n",
      "0        0.000592 -0.001301 -0.000311 -0.000286  0.000168  0.000987  0.000134   \n",
      "\n",
      "book_id     6255      6256      6258      6261      6267      6272      6273   \\\n",
      "0       -0.000259 -0.000289 -0.000203  0.000396 -0.001057 -0.000298 -0.001965   \n",
      "\n",
      "book_id     6274      6276     6278      6283      6284      6285      6288   \\\n",
      "0        0.004693 -0.000014 -0.00029 -0.000027 -0.000943 -0.000115  0.000626   \n",
      "\n",
      "book_id     6291      6293      6297     6298      6299      6306      6307   \\\n",
      "0        0.000396 -0.000461  0.002105  0.00164  0.002722 -0.000764  0.001358   \n",
      "\n",
      "book_id    6308      6313      6314      6316      6318      6319      6320   \\\n",
      "0        0.00028 -0.000018 -0.000007  0.000162 -0.000863  0.001004  0.000461   \n",
      "\n",
      "book_id     6322      6323      6324      6326      6330      6331      6333   \\\n",
      "0        0.001692 -0.000129 -0.000444  0.001231 -0.001623 -0.000032 -0.000855   \n",
      "\n",
      "book_id     6334      6335      6336      6338      6341      6342      6347   \\\n",
      "0       -0.002307  0.000974 -0.000191  0.000051 -0.000422  0.000121 -0.000247   \n",
      "\n",
      "book_id     6351      6354      6359     6360     6361      6362     6364   \\\n",
      "0        0.000758 -0.000062 -0.000362  0.00085 -0.00089 -0.001072  0.00241   \n",
      "\n",
      "book_id     6368      6373      6375      6377      6380      6382      6383   \\\n",
      "0        0.000297 -0.000392 -0.000192 -0.000205 -0.000403  0.001182  0.001363   \n",
      "\n",
      "book_id     6389      6390      6391      6399     6400      6402      6406   \\\n",
      "0        0.001624 -0.000911 -0.000094  0.000223 -0.00079 -0.000505  0.000726   \n",
      "\n",
      "book_id     6407      6411      6417      6425      6427      6438      6439   \\\n",
      "0       -0.000567  0.000592 -0.001141 -0.000148  0.000184  0.001483 -0.000599   \n",
      "\n",
      "book_id    6442      6445      6447      6453      6454     6456      6457   \\\n",
      "0       -0.00002 -0.001668 -0.000677  0.000319  0.002557  0.00017 -0.000444   \n",
      "\n",
      "book_id     6467     6469      6472      6475      6481      6484      6492   \\\n",
      "0        0.001669 -0.00075 -0.000849  0.002751  0.000381 -0.000449 -0.000829   \n",
      "\n",
      "book_id     6496      6498      6500      6505      6509      6512      6516   \\\n",
      "0        0.001387 -0.000329  0.001585  0.001484 -0.000693 -0.000144  0.001577   \n",
      "\n",
      "book_id    6521      6524      6526      6528     6530      6532      6533   \\\n",
      "0        0.00013  0.000375 -0.000116 -0.000077  0.00217 -0.000202  0.000649   \n",
      "\n",
      "book_id     6535      6536      6539      6551      6552      6553      6556   \\\n",
      "0        0.001708 -0.001101 -0.000765 -0.002005 -0.000023  0.000123 -0.000693   \n",
      "\n",
      "book_id     6566      6567     6575     6579      6581      6587      6588   \\\n",
      "0       -0.000534  0.000687 -0.00029  0.00101 -0.000302  0.000747  0.002739   \n",
      "\n",
      "book_id     6589      6590      6593      6594      6595      6598      6600   \\\n",
      "0       -0.000761  0.000573  0.000742 -0.000778 -0.000752 -0.000311  0.001128   \n",
      "\n",
      "book_id     6601      6604      6607     6615      6619     6620     6628   \\\n",
      "0       -0.000943  0.000475 -0.000045  0.00147 -0.000482  0.00021 -0.00006   \n",
      "\n",
      "book_id     6629      6633      6634      6644     6648      6658      6664   \\\n",
      "0       -0.000241  0.000316  0.000524  0.000971  0.00001 -0.000326  0.001779   \n",
      "\n",
      "book_id     6665      6673      6675    6678      6681      6683      6684   \\\n",
      "0       -0.007082 -0.000403  0.004734 -0.0004 -0.000725 -0.000745  0.000184   \n",
      "\n",
      "book_id     6688      6690      6692      6695     6696      6701      6704   \\\n",
      "0        0.002955 -0.000154 -0.002706  0.000388 -0.00031 -0.002641  0.001616   \n",
      "\n",
      "book_id     6715      6716      6726      6727      6728      6729     6742   \\\n",
      "0       -0.000983 -0.000761  0.001996 -0.000268 -0.000482  0.001016 -0.00087   \n",
      "\n",
      "book_id     6745      6752      6755      6758      6760      6761      6768   \\\n",
      "0       -0.001155  0.001339 -0.000722  0.000257 -0.000271 -0.001315  0.003205   \n",
      "\n",
      "book_id     6772      6775      6777      6780      6787      6791      6798   \\\n",
      "0        0.000954  0.000164  0.001131  0.000129 -0.000562  0.000442 -0.000303   \n",
      "\n",
      "book_id     6800      6802      6806      6807      6808      6813      6816   \\\n",
      "0       -0.000498  0.001577 -0.000005 -0.000152  0.000576 -0.000555 -0.000079   \n",
      "\n",
      "book_id     6820      6822      6823     6825      6828      6829      6833   \\\n",
      "0       -0.000516  0.000118 -0.000093 -0.00148 -0.001337  0.000724  0.000259   \n",
      "\n",
      "book_id     6835      6838     6840     6842      6844      6845      6857   \\\n",
      "0        0.002001 -0.000119  0.00021 -0.00211  0.000081 -0.000625  0.000058   \n",
      "\n",
      "book_id     6858      6863     6865      6870      6873    6876      6880   \\\n",
      "0        0.000347  0.000173 -0.00031  0.001598  0.000068 -0.0001  0.001592   \n",
      "\n",
      "book_id     6885      6887      6888      6889      6891      6892     6895   \\\n",
      "0        0.000577 -0.000042 -0.000115  0.001453  0.000018 -0.000005  0.00282   \n",
      "\n",
      "book_id     6896      6909    6914      6917    6919      6920      6921   \\\n",
      "0       -0.001237  0.000249  0.0007  0.001606 -0.0001 -0.001233  0.000614   \n",
      "\n",
      "book_id    6928      6932      6934      6944      6954      6959      6961   \\\n",
      "0       -0.00116  0.000801  0.002177  0.000045  0.000078  0.000098  0.000088   \n",
      "\n",
      "book_id     6972      6973      6980      6982      6987      6994      6995   \\\n",
      "0       -0.000083 -0.002159  0.002794 -0.000289 -0.000047 -0.001159 -0.000032   \n",
      "\n",
      "book_id     6998      6999      7003      7006      7008      7011     7012   \\\n",
      "0        0.001063  0.001408 -0.000972 -0.000089  0.000711 -0.000106 -0.00122   \n",
      "\n",
      "book_id     7022     7025      7026     7032      7037     7039      7042   \\\n",
      "0        0.001488 -0.00097 -0.000355  0.00098 -0.001584  0.00008  0.000347   \n",
      "\n",
      "book_id     7047      7053      7054      7056      7059      7063      7068   \\\n",
      "0       -0.000964 -0.000208 -0.000374 -0.000959 -0.000208 -0.000406 -0.000564   \n",
      "\n",
      "book_id     7074      7079      7080      7081      7082      7086      7089   \\\n",
      "0        0.001321  0.000738  0.000719 -0.000262 -0.000725  0.000107 -0.000574   \n",
      "\n",
      "book_id     7090      7092      7103      7106      7117      7123      7124   \\\n",
      "0        0.000863 -0.000205  0.000239 -0.000239 -0.000409  0.001004 -0.000247   \n",
      "\n",
      "book_id     7127      7128    7135      7137      7138      7145      7146   \\\n",
      "0       -0.000804 -0.000091  0.0006 -0.000257  0.001857 -0.000961  0.000007   \n",
      "\n",
      "book_id    7151      7155      7158      7159      7169     7170      7173   \\\n",
      "0       -0.00028  0.001788 -0.000481 -0.000783  0.001932 -0.00092 -0.000168   \n",
      "\n",
      "book_id     7176      7180     7186      7187      7198      7204      7208   \\\n",
      "0        0.000409 -0.000396  0.00022 -0.000221 -0.000015  0.000305  0.000917   \n",
      "\n",
      "book_id    7210      7214      7217      7227      7231      7232      7233   \\\n",
      "0        0.00006 -0.001484  0.000067  0.000287  0.000463  0.000837  0.000098   \n",
      "\n",
      "book_id     7236      7238      7241     7242     7246      7251      7253   \\\n",
      "0       -0.000506 -0.000029 -0.001002 -0.00011 -0.00075  0.000491 -0.000253   \n",
      "\n",
      "book_id    7254      7260      7262      7263      7266      7270      7271   \\\n",
      "0        0.00016 -0.000348 -0.001255  0.000095 -0.000138  0.000212 -0.000168   \n",
      "\n",
      "book_id   7277      7283      7292      7295      7296      7297      7298   \\\n",
      "0        0.0001 -0.000087  0.000106 -0.000007 -0.000704  0.000033 -0.002192   \n",
      "\n",
      "book_id    7302      7306      7309      7311      7316      7323     7325   \\\n",
      "0        0.00053 -0.000108  0.001552  0.001349  0.000006 -0.000154 -0.00218   \n",
      "\n",
      "book_id     7326      7333      7336      7338      7341      7345    7347   \\\n",
      "0       -0.000867 -0.000566 -0.000058  0.001934 -0.000392 -0.000396 -0.0005   \n",
      "\n",
      "book_id     7351      7353      7354      7357      7370     7372      7377   \\\n",
      "0       -0.001825 -0.000308  0.001125 -0.001236  0.000847  0.00036 -0.000385   \n",
      "\n",
      "book_id     7379      7384      7387      7392      7393      7395      7396   \\\n",
      "0        0.000786  0.000941 -0.000856  0.000318 -0.000379 -0.000148  0.000909   \n",
      "\n",
      "book_id     7399      7401     7406     7407      7408      7409     7410   \\\n",
      "0        0.001388  0.002085 -0.00008  0.00035  0.000383  0.001115 -0.00036   \n",
      "\n",
      "book_id     7414      7416      7426      7427     7428      7429      7430   \\\n",
      "0        0.000134  0.000213 -0.000152 -0.000343  0.00022 -0.000337 -0.001541   \n",
      "\n",
      "book_id     7440      7444      7453      7454      7458      7459      7462   \\\n",
      "0        0.000925  0.000314  0.000775  0.001735  0.000235 -0.000042  0.001755   \n",
      "\n",
      "book_id     7465      7468      7471      7476      7479      7481     7484   \\\n",
      "0       -0.000063 -0.001266  0.000029 -0.000374  0.000068 -0.001184 -0.00022   \n",
      "\n",
      "book_id    7485     7490      7491      7495      7496      7498      7499   \\\n",
      "0        0.00022 -0.00129 -0.000191  0.001329  0.001567  0.000064 -0.000176   \n",
      "\n",
      "book_id     7501      7505      7506      7507      7509      7513      7517   \\\n",
      "0       -0.000219  0.000297 -0.003245 -0.000385 -0.000118 -0.001972  0.000019   \n",
      "\n",
      "book_id     7521      7522      7534      7538      7540      7541      7546   \\\n",
      "0        0.000317  0.000168 -0.000608  0.000767  0.000074  0.000284 -0.000234   \n",
      "\n",
      "book_id     7549      7551      7556      7558      7569      7572      7575   \\\n",
      "0        0.000347 -0.000029  0.000593 -0.000055  0.000958  0.000128  0.000737   \n",
      "\n",
      "book_id     7579      7592      7594      7596      7597      7603      7607   \\\n",
      "0        0.001525  0.000284 -0.000065 -0.000186 -0.000258 -0.000616  0.000011   \n",
      "\n",
      "book_id     7611      7614      7615      7616      7619      7622     7631   \\\n",
      "0       -0.000244  0.000159 -0.000175 -0.000134  0.000329  0.001632 -0.00033   \n",
      "\n",
      "book_id     7635      7638      7639     7646      7647      7649      7650   \\\n",
      "0       -0.000004 -0.000089  0.001226 -0.00101  0.000371  0.001208  0.000244   \n",
      "\n",
      "book_id    7651      7652      7655      7660      7662      7664      7667   \\\n",
      "0        0.00279  0.000469 -0.000229 -0.000029  0.000142  0.001015 -0.000874   \n",
      "\n",
      "book_id     7668      7669      7681      7684      7686     7696      7704   \\\n",
      "0        0.000224  0.000462  0.000076 -0.000872 -0.000062  0.00023 -0.000943   \n",
      "\n",
      "book_id     7706      7715     7716      7721      7723      7733     7737   \\\n",
      "0        0.000075 -0.000026  0.00548 -0.000571 -0.000473  0.000717  0.00032   \n",
      "\n",
      "book_id     7738      7747     7748      7749      7755    7759      7763   \\\n",
      "0       -0.000089 -0.000288 -0.00047 -0.000082  0.000101 -0.0001 -0.000187   \n",
      "\n",
      "book_id     7766      7769      7770      7771      7775      7778      7779   \\\n",
      "0       -0.000404 -0.000305  0.000145  0.001211 -0.000164 -0.000065  0.000634   \n",
      "\n",
      "book_id     7783      7784      7785      7787      7788      7794      7795   \\\n",
      "0       -0.000238 -0.000562 -0.000904 -0.000039 -0.000113  0.001346 -0.000422   \n",
      "\n",
      "book_id     7796      7797      7798      7806      7807      7810      7812   \\\n",
      "0       -0.000004 -0.000422  0.000315  0.000062  0.000045  0.003605  0.001603   \n",
      "\n",
      "book_id    7817      7820      7824      7826      7827      7830     7832   \\\n",
      "0        0.00037 -0.000517 -0.000118  0.000558 -0.000004 -0.000118 -0.00145   \n",
      "\n",
      "book_id     7836      7840      7841      7842      7848     7852      7856   \\\n",
      "0        0.001199 -0.000874  0.000592  0.001726 -0.000026 -0.00041  0.002089   \n",
      "\n",
      "book_id     7859      7864      7868      7872      7874      7879      7886   \\\n",
      "0        0.000543 -0.000205  0.001115  0.000244  0.001611 -0.000048  0.000355   \n",
      "\n",
      "book_id     7887      7890      7895      7904      7907      7909      7916   \\\n",
      "0       -0.001714 -0.000004  0.000297 -0.000595  0.000495 -0.000245  0.000012   \n",
      "\n",
      "book_id     7923      7927      7934      7946      7952      7955      7960   \\\n",
      "0        0.000849 -0.000015 -0.000416  0.000125  0.000503 -0.000164 -0.000182   \n",
      "\n",
      "book_id     7961      7965      7968      7970      7990      7991      7994   \\\n",
      "0       -0.000572  0.000432 -0.000582  0.000156 -0.000329 -0.000173 -0.000402   \n",
      "\n",
      "book_id     7995      7997      8000      8010      8011      8012      8015   \\\n",
      "0       -0.000044  0.003164  0.000149 -0.000262 -0.000134 -0.000782  0.000912   \n",
      "\n",
      "book_id     8018      8023      8025      8026      8030      8032     8033   \\\n",
      "0       -0.000425  0.000318  0.000188 -0.000741 -0.000431  0.000249 -0.00068   \n",
      "\n",
      "book_id     8038      8039      8045      8049      8052      8054      8055   \\\n",
      "0       -0.000428  0.001435  0.002512 -0.003146  0.000802 -0.000057 -0.000318   \n",
      "\n",
      "book_id     8068      8071      8074      8075      8079      8080      8083   \\\n",
      "0       -0.000152  0.000683 -0.000029  0.000397  0.001387  0.001301  0.000303   \n",
      "\n",
      "book_id     8084      8085     8087      8093      8099      8103      8107   \\\n",
      "0        0.000227 -0.000223 -0.00052 -0.000822 -0.000832  0.000532  0.000249   \n",
      "\n",
      "book_id     8111      8114      8117      8120      8127      8128      8131   \\\n",
      "0        0.000627  0.000498 -0.000148 -0.000256  0.000663 -0.000217 -0.000741   \n",
      "\n",
      "book_id     8132      8133      8140      8143      8148      8149      8152   \\\n",
      "0        0.000038 -0.000039 -0.000046 -0.000364 -0.000092  0.000074 -0.000182   \n",
      "\n",
      "book_id     8154      8156     8159      8160      8162      8163     8165   \\\n",
      "0        0.000668 -0.000888 -0.00057 -0.000504  0.000344  0.000359  0.00034   \n",
      "\n",
      "book_id     8167      8168      8175      8185      8186      8188      8189   \\\n",
      "0        0.000591 -0.000506 -0.000453 -0.000029  0.000621 -0.000086  0.000473   \n",
      "\n",
      "book_id     8192      8194      8195      8199     8201      8203      8207   \\\n",
      "0        0.000037 -0.000118  0.001974 -0.000181 -0.00048  0.000536 -0.000993   \n",
      "\n",
      "book_id     8209      8210      8212      8214      8216      8218      8221   \\\n",
      "0        0.000334  0.000388 -0.000675 -0.000115 -0.000365  0.000101  0.000338   \n",
      "\n",
      "book_id    8225      8229      8232      8233      8239      8249      8269   \\\n",
      "0       -0.00015 -0.001275 -0.000481  0.001163  0.000923  0.000385 -0.001455   \n",
      "\n",
      "book_id     8275      8276      8281      8286      8289      8290    8295   \\\n",
      "0       -0.000588  0.001108  0.000003  0.001515 -0.000028  0.000111  0.0012   \n",
      "\n",
      "book_id     8305     8306      8309      8312      8316      8324      8329   \\\n",
      "0        0.000381  0.00013  0.001222  0.000163  0.000146 -0.000167  0.002347   \n",
      "\n",
      "book_id     8334      8336      8337      8349      8355      8356      8357   \\\n",
      "0       -0.001631  0.000229  0.000888 -0.000464  0.000627 -0.000104 -0.000021   \n",
      "\n",
      "book_id     8361      8366      8367      8386      8388      8389      8396   \\\n",
      "0       -0.000219  0.000534  0.000986 -0.000954 -0.000375  0.000365  0.000561   \n",
      "\n",
      "book_id     8398      8399      8401      8404      8406     8411      8412   \\\n",
      "0        0.000223 -0.000087 -0.000363  0.000242 -0.001449 -0.00027  0.001208   \n",
      "\n",
      "book_id     8413      8416      8420      8423      8431      8432      8435   \\\n",
      "0       -0.001455 -0.000732 -0.001436  0.000131 -0.000572 -0.000335 -0.000693   \n",
      "\n",
      "book_id     8439     8440      8446      8448      8452      8455      8456   \\\n",
      "0        0.000221 -0.00027 -0.000481 -0.001602  0.001307  0.001341  0.001342   \n",
      "\n",
      "book_id     8457      8460      8464      8465      8469      8470      8471   \\\n",
      "0        0.003704  0.000046  0.000201 -0.001679  0.002539  0.000663  0.000616   \n",
      "\n",
      "book_id     8472      8474      8479    8484      8504      8512      8514   \\\n",
      "0       -0.000015 -0.000532  0.000551  0.0006  0.000098 -0.000055 -0.000559   \n",
      "\n",
      "book_id     8516      8517     8519      8523      8529      8531      8532   \\\n",
      "0        0.000356 -0.001169  0.00136  0.000504  0.000375 -0.000625  0.000504   \n",
      "\n",
      "book_id     8537      8538      8541      8543      8552      8555     8558   \\\n",
      "0        0.000725  0.000687 -0.000396 -0.000002  0.000515 -0.001463 -0.00023   \n",
      "\n",
      "book_id     8559      8564      8565      8567      8570      8578      8585   \\\n",
      "0       -0.000005 -0.000377  0.000075  0.000045  0.000549  0.000671  0.000184   \n",
      "\n",
      "book_id     8588      8589      8591      8597     8598      8609      8611   \\\n",
      "0        0.000469 -0.000216 -0.000427  0.000082 -0.00019 -0.000256 -0.000209   \n",
      "\n",
      "book_id     8617      8620      8623      8625      8626      8631      8633   \\\n",
      "0       -0.000048 -0.000071 -0.000439  0.000356 -0.000219 -0.000804 -0.000585   \n",
      "\n",
      "book_id     8635      8640      8647      8651      8656      8662      8664   \\\n",
      "0       -0.000325  0.001591 -0.000439 -0.000606 -0.000069  0.001563  0.000539   \n",
      "\n",
      "book_id     8667      8675      8680      8681      8686      8687      8688   \\\n",
      "0       -0.000037 -0.001241  0.000332  0.002646  0.000214 -0.000092 -0.000004   \n",
      "\n",
      "book_id     8692      8697      8700      8703      8704      8714      8728   \\\n",
      "0        0.003741  0.001725 -0.001957  0.002432  0.000292 -0.000523 -0.000345   \n",
      "\n",
      "book_id     8731      8735      8737      8740      8742      8745      8750   \\\n",
      "0        0.000676 -0.000012  0.000309 -0.000051 -0.000179 -0.000039  0.000162   \n",
      "\n",
      "book_id     8752      8753    8760      8763     8766      8767      8779   \\\n",
      "0       -0.001661  0.000265  0.0005 -0.001383 -0.00292 -0.000036  0.001303   \n",
      "\n",
      "book_id     8781      8782      8788      8790      8791      8792      8795   \\\n",
      "0       -0.000234 -0.000192  0.000158 -0.000612 -0.000685  0.000717 -0.000234   \n",
      "\n",
      "book_id     8801      8802     8805      8811      8814      8817      8818   \\\n",
      "0       -0.000081 -0.000004 -0.00071  0.000117  0.000575 -0.000174  0.002414   \n",
      "\n",
      "book_id     8819     8823      8824     8831      8832      8840      8847   \\\n",
      "0        0.000702 -0.00057 -0.000039  0.00053 -0.000535  0.000121  0.000403   \n",
      "\n",
      "book_id     8848      8849      8850      8853      8854      8856      8857   \\\n",
      "0       -0.000161 -0.000244 -0.000338 -0.000682  0.000091  0.000294  0.001092   \n",
      "\n",
      "book_id     8859      8860      8864      8867      8870      8878      8880   \\\n",
      "0       -0.002056 -0.000129 -0.001236  0.000398 -0.000487 -0.000319 -0.000385   \n",
      "\n",
      "book_id     8882      8891      8893      8896      8898      8899      8902   \\\n",
      "0        0.001476  0.000113 -0.000993 -0.000614  0.000747 -0.000167 -0.000052   \n",
      "\n",
      "book_id    8903      8906     8907      8908      8915      8916      8920   \\\n",
      "0       -0.00145 -0.002981  0.00043  0.000245 -0.000212 -0.000278  0.000498   \n",
      "\n",
      "book_id     8923     8928      8930      8931     8944      8946      8949   \\\n",
      "0        0.001089  0.00109 -0.000521 -0.000222 -0.00095  0.000705 -0.000548   \n",
      "\n",
      "book_id     8951      8953      8956      8966      8972      8973     8975   \\\n",
      "0        0.001176 -0.000085 -0.000202 -0.000074 -0.000032  0.004239  0.00259   \n",
      "\n",
      "book_id     8976      8978      8987     8995      8996      8998      9006   \\\n",
      "0       -0.000725 -0.000516 -0.000604  0.00011 -0.000464  0.002018 -0.001275   \n",
      "\n",
      "book_id     9008      9019      9021      9024      9025      9026      9032   \\\n",
      "0        0.000212 -0.000398 -0.000222 -0.000232  0.002416  0.001125 -0.000099   \n",
      "\n",
      "book_id     9033     9036      9045      9048      9049      9061      9063   \\\n",
      "0       -0.000259  0.00135 -0.000607 -0.000923  0.001171  0.000096  0.000071   \n",
      "\n",
      "book_id     9070      9078      9081      9083    9088      9092   \\\n",
      "0       -0.000309  0.000964  0.000403 -0.000227 -0.0001  0.000067   \n",
      "\n",
      "book_id         9095      9100      9102      9103      9111      9113   \\\n",
      "0       -3.590905e-08 -0.000241 -0.001833 -0.001013  0.000865 -0.000131   \n",
      "\n",
      "book_id     9114    9116      9117      9123      9124      9129      9132   \\\n",
      "0        0.001168 -0.0001  0.000179  0.000112 -0.000693  0.000115 -0.000038   \n",
      "\n",
      "book_id     9133      9144     9148      9152      9157      9158      9170   \\\n",
      "0       -0.000943  0.000026  0.00005  0.000116 -0.000038  0.000215  0.000301   \n",
      "\n",
      "book_id     9171     9172      9173      9175      9176      9178      9180   \\\n",
      "0       -0.000789  0.00195  0.001913 -0.001372  0.000088  0.002902  0.000075   \n",
      "\n",
      "book_id     9188      9191      9195     9197      9204      9213      9215   \\\n",
      "0        0.001335  0.000451 -0.002097 -0.00024  0.002262  0.000416  0.001864   \n",
      "\n",
      "book_id     9216      9217      9222      9236      9237      9239      9240   \\\n",
      "0       -0.000063 -0.000331  0.000464 -0.000158  0.000754 -0.000262  0.000242   \n",
      "\n",
      "book_id     9243      9247      9251      9253      9255      9267      9268   \\\n",
      "0       -0.000365  0.000719 -0.000012  0.000097 -0.000262 -0.000378 -0.000344   \n",
      "\n",
      "book_id     9272      9277      9280      9287      9290      9295      9296   \\\n",
      "0       -0.000186 -0.000615 -0.000762  0.000241  0.000279  0.000613  0.000168   \n",
      "\n",
      "book_id     9300     9301      9302      9303      9304      9308      9311   \\\n",
      "0        0.000192 -0.00016  0.001115  0.000177  0.000054 -0.000328 -0.001002   \n",
      "\n",
      "book_id     9317          9320      9363      9371      9386     9389   \\\n",
      "0        0.000941 -3.822888e-19 -0.000942  0.000068  0.000747 -0.00038   \n",
      "\n",
      "book_id     9391      9395      9405      9407      9408     9409      9416   \\\n",
      "0       -0.000398 -0.000111  0.000252 -0.000643 -0.001185 -0.00046  0.000417   \n",
      "\n",
      "book_id    9424      9429      9432      9433      9440      9442      9447   \\\n",
      "0       -0.00039 -0.000956  0.000208 -0.000348 -0.000153 -0.000115 -0.000064   \n",
      "\n",
      "book_id     9451      9452      9454      9461      9468      9469      9471   \\\n",
      "0        0.002088  0.000225 -0.000154  0.000389 -0.000521 -0.000106  0.000451   \n",
      "\n",
      "book_id     9472      9473      9478      9480      9482      9493      9494   \\\n",
      "0       -0.000085  0.000295  0.000359 -0.000216 -0.000856 -0.000462 -0.000156   \n",
      "\n",
      "book_id     9496     9497      9499      9503      9513      9516      9525   \\\n",
      "0       -0.000247 -0.00024  0.000417 -0.002941  0.000031  0.003348 -0.001569   \n",
      "\n",
      "book_id     9533     9545      9549     9554      9563      9566      9577   \\\n",
      "0        0.003914  0.00005 -0.000046  0.00091 -0.000839 -0.001431 -0.000696   \n",
      "\n",
      "book_id     9579      9587      9588      9590      9602      9606      9607   \\\n",
      "0        0.000764 -0.000012  0.000993  0.000369  0.000002  0.001444 -0.000303   \n",
      "\n",
      "book_id     9617      9620      9622      9623      9625      9626      9628   \\\n",
      "0        0.000044  0.000889 -0.000029  0.000384  0.001833 -0.000754 -0.000319   \n",
      "\n",
      "book_id    9629      9630      9631      9632      9639      9645      9647   \\\n",
      "0       -0.00011  0.000019 -0.000133  0.000746  0.000128  0.002764  0.002017   \n",
      "\n",
      "book_id     9648     9655      9657      9661     9663      9664      9667   \\\n",
      "0       -0.000331 -0.00056 -0.000039  0.000193  0.00086 -0.001852  0.001021   \n",
      "\n",
      "book_id     9671      9675      9686      9689      9691      9698     9699   \\\n",
      "0       -0.000206 -0.001685 -0.000089  0.000269  0.001307 -0.000029 -0.00038   \n",
      "\n",
      "book_id     9707      9711      9714      9717     9722      9731      9732   \\\n",
      "0        0.000076 -0.001185  0.000486 -0.000051  0.00019 -0.000234 -0.000039   \n",
      "\n",
      "book_id     9737      9739     9742      9743      9748      9749      9754   \\\n",
      "0       -0.000338 -0.000411 -0.00002  0.002096 -0.000522 -0.001927  0.001313   \n",
      "\n",
      "book_id     9759      9761      9766      9768      9772      9773      9779   \\\n",
      "0        0.002065 -0.000627  0.000054  0.000861  0.002114 -0.000507 -0.000161   \n",
      "\n",
      "book_id     9784     9789      9790      9793      9794      9801      9814   \\\n",
      "0       -0.000222 -0.00056  0.001286 -0.000125  0.000417  0.000123 -0.000041   \n",
      "\n",
      "book_id     9819      9830      9834      9839      9841      9852      9854   \\\n",
      "0        0.000123  0.001208  0.000989 -0.000363  0.000446 -0.000618  0.001227   \n",
      "\n",
      "book_id   9856      9857      9858      9860      9864      9866      9868   \\\n",
      "0       -0.0001  0.000201  0.000281  0.000278  0.000851  0.000607 -0.000696   \n",
      "\n",
      "book_id     9874      9881      9890      9903      9905      9910      9921   \\\n",
      "0       -0.000281 -0.000752  0.000578 -0.000403 -0.000248 -0.000762  0.002549   \n",
      "\n",
      "book_id     9927      9928      9935      9936      9946      9960      9961   \\\n",
      "0        0.000282  0.000507 -0.000039  0.000176  0.000393 -0.000003  0.000487   \n",
      "\n",
      "book_id     9962      9963      9966      9967     9972      9974     9978   \\\n",
      "0        0.000544 -0.001022  0.002851 -0.000669  0.00175 -0.000005  0.00044   \n",
      "\n",
      "book_id     9981      9985      9988     9990      9991      9995      9998   \\\n",
      "0       -0.000365  0.000002  0.000092  0.00067  0.000875 -0.000487 -0.000219   \n",
      "\n",
      "book_id     10000  \n",
      "0       -0.001444  \n"
     ]
    }
   ],
   "source": [
    "\n",
    "with pd.option_context('display.max_rows', None, 'display.max_columns', None):  # more options can be specified also\n",
    "    print(svd_predictions_score_df1[svd_predictions_score_df1.index == 0])"
   ]
  },
  {
   "cell_type": "code",
   "execution_count": 183,
   "metadata": {
    "ExecuteTime": {
     "end_time": "2020-08-12T14:31:40.636388Z",
     "start_time": "2020-08-12T14:31:40.433929Z"
    }
   },
   "outputs": [
    {
     "name": "stdout",
     "output_type": "stream",
     "text": [
      "a\n",
      "0\n",
      "0\n",
      "1\n",
      "0\n",
      "1\n",
      "2\n",
      "0\n",
      "2\n",
      "3\n",
      "0\n",
      "3\n",
      "4\n",
      "0\n",
      "4\n",
      "5\n",
      "0\n",
      "5\n",
      "6\n",
      "0\n",
      "6\n",
      "7\n",
      "0\n",
      "7\n",
      "8\n",
      "0\n",
      "8\n",
      "9\n",
      "0\n",
      "9\n",
      "10\n",
      "0\n",
      "10\n",
      "11\n",
      "0\n",
      "11\n",
      "12\n",
      "0\n",
      "12\n",
      "13\n",
      "0\n",
      "13\n",
      "14\n",
      "0\n",
      "14\n",
      "15\n",
      "0\n",
      "15\n",
      "16\n",
      "0\n",
      "16\n",
      "17\n",
      "0\n",
      "17\n",
      "18\n",
      "0\n",
      "18\n",
      "19\n",
      "0\n",
      "19\n",
      "20\n",
      "0\n",
      "20\n",
      "21\n",
      "0\n",
      "21\n",
      "22\n",
      "0\n",
      "22\n",
      "23\n",
      "0\n",
      "23\n",
      "24\n",
      "0\n",
      "24\n",
      "25\n",
      "0\n",
      "25\n",
      "26\n",
      "0\n",
      "26\n",
      "27\n",
      "0\n",
      "27\n",
      "28\n",
      "0\n",
      "28\n",
      "29\n",
      "0\n",
      "29\n",
      "30\n",
      "0\n",
      "30\n",
      "31\n",
      "0\n",
      "31\n",
      "32\n",
      "0\n",
      "32\n",
      "33\n",
      "0\n",
      "33\n",
      "34\n",
      "0\n",
      "34\n",
      "35\n",
      "0\n",
      "35\n",
      "36\n",
      "0\n",
      "36\n",
      "37\n",
      "0\n",
      "37\n",
      "38\n",
      "0\n",
      "38\n",
      "39\n",
      "0\n",
      "39\n",
      "40\n",
      "0\n",
      "40\n",
      "41\n",
      "0\n",
      "41\n",
      "42\n",
      "0\n",
      "42\n",
      "43\n",
      "0\n",
      "43\n",
      "44\n",
      "0\n",
      "44\n",
      "45\n",
      "0\n",
      "45\n",
      "46\n",
      "0\n",
      "46\n",
      "47\n",
      "0\n",
      "47\n",
      "48\n",
      "0\n",
      "48\n",
      "49\n",
      "0\n",
      "49\n",
      "50\n",
      "0\n",
      "50\n",
      "51\n",
      "0\n",
      "51\n",
      "52\n",
      "0\n",
      "52\n",
      "53\n",
      "0\n",
      "53\n",
      "54\n",
      "0\n",
      "54\n",
      "55\n",
      "0\n",
      "55\n",
      "56\n",
      "0\n",
      "56\n",
      "57\n",
      "0\n",
      "57\n",
      "58\n",
      "0\n",
      "58\n",
      "59\n",
      "0\n",
      "59\n",
      "60\n",
      "0\n",
      "60\n",
      "61\n",
      "0\n",
      "61\n",
      "62\n",
      "0\n",
      "62\n",
      "63\n",
      "0\n",
      "63\n",
      "64\n",
      "0\n",
      "64\n",
      "65\n",
      "0\n",
      "65\n",
      "66\n",
      "0\n",
      "66\n",
      "67\n",
      "0\n",
      "67\n",
      "68\n",
      "0\n",
      "68\n",
      "69\n",
      "0\n",
      "69\n",
      "70\n",
      "0\n",
      "70\n",
      "71\n",
      "0\n",
      "71\n",
      "72\n",
      "0\n",
      "72\n",
      "73\n",
      "0\n",
      "73\n",
      "74\n",
      "0\n",
      "74\n",
      "75\n",
      "0\n",
      "75\n",
      "76\n",
      "0\n",
      "76\n",
      "77\n",
      "0\n",
      "77\n",
      "78\n",
      "0\n",
      "78\n",
      "79\n",
      "0\n",
      "79\n",
      "80\n",
      "0\n",
      "80\n",
      "81\n",
      "0\n",
      "81\n",
      "82\n",
      "0\n",
      "82\n",
      "83\n",
      "0\n",
      "83\n",
      "84\n",
      "0\n",
      "84\n",
      "85\n",
      "0\n",
      "85\n",
      "86\n",
      "0\n",
      "86\n",
      "87\n",
      "0\n",
      "87\n",
      "88\n",
      "0\n",
      "88\n",
      "89\n",
      "0\n",
      "89\n",
      "90\n",
      "0\n",
      "90\n",
      "91\n",
      "0\n",
      "91\n",
      "92\n",
      "0\n",
      "92\n",
      "93\n",
      "0\n",
      "93\n",
      "94\n",
      "0\n",
      "94\n",
      "95\n",
      "0\n",
      "95\n",
      "96\n",
      "0\n",
      "96\n",
      "97\n",
      "0\n",
      "97\n",
      "98\n",
      "0\n",
      "98\n",
      "99\n",
      "0\n",
      "99\n",
      "100\n",
      "a\n",
      "1\n",
      "0\n",
      "101\n",
      "1\n",
      "1\n",
      "102\n",
      "1\n",
      "2\n",
      "103\n",
      "1\n",
      "3\n",
      "104\n",
      "1\n",
      "4\n",
      "105\n",
      "1\n",
      "5\n",
      "106\n",
      "1\n",
      "6\n",
      "107\n",
      "1\n",
      "7\n",
      "108\n",
      "1\n",
      "8\n",
      "109\n",
      "1\n",
      "9\n",
      "110\n",
      "1\n",
      "10\n",
      "111\n",
      "1\n",
      "11\n",
      "112\n",
      "1\n",
      "12\n",
      "113\n",
      "1\n",
      "13\n",
      "114\n",
      "1\n",
      "14\n",
      "115\n",
      "1\n",
      "15\n",
      "116\n",
      "1\n",
      "16\n",
      "117\n",
      "1\n",
      "17\n",
      "118\n",
      "1\n",
      "18\n",
      "119\n",
      "1\n",
      "19\n",
      "120\n",
      "1\n",
      "20\n",
      "121\n",
      "1\n",
      "21\n",
      "122\n",
      "1\n",
      "22\n",
      "123\n",
      "1\n",
      "23\n",
      "124\n",
      "1\n",
      "24\n",
      "125\n",
      "1\n",
      "25\n",
      "126\n",
      "1\n",
      "26\n",
      "127\n",
      "1\n",
      "27\n",
      "128\n",
      "1\n",
      "28\n",
      "129\n",
      "1\n",
      "29\n",
      "130\n",
      "1\n",
      "30\n",
      "131\n",
      "1\n",
      "31\n",
      "132\n",
      "1\n",
      "32\n",
      "133\n",
      "1\n",
      "33\n",
      "134\n",
      "1\n",
      "34\n",
      "135\n",
      "1\n",
      "35\n",
      "136\n",
      "1\n",
      "36\n",
      "137\n",
      "1\n",
      "37\n",
      "138\n",
      "1\n",
      "38\n",
      "139\n",
      "1\n",
      "39\n",
      "140\n",
      "1\n",
      "40\n",
      "141\n",
      "1\n",
      "41\n",
      "142\n",
      "1\n",
      "42\n",
      "143\n",
      "1\n",
      "43\n",
      "144\n",
      "1\n",
      "44\n",
      "145\n",
      "1\n",
      "45\n",
      "146\n",
      "1\n",
      "46\n",
      "147\n",
      "1\n",
      "47\n",
      "148\n",
      "1\n",
      "48\n",
      "149\n",
      "1\n",
      "49\n",
      "150\n",
      "1\n",
      "50\n",
      "151\n",
      "1\n",
      "51\n",
      "152\n",
      "1\n",
      "52\n",
      "153\n",
      "1\n",
      "53\n",
      "154\n",
      "1\n",
      "54\n",
      "155\n",
      "1\n",
      "55\n",
      "156\n",
      "1\n",
      "56\n",
      "157\n",
      "1\n",
      "57\n",
      "158\n",
      "1\n",
      "58\n",
      "159\n",
      "1\n",
      "59\n",
      "160\n",
      "1\n",
      "60\n",
      "161\n",
      "1\n",
      "61\n",
      "162\n",
      "1\n",
      "62\n",
      "163\n",
      "1\n",
      "63\n",
      "164\n",
      "1\n",
      "64\n",
      "165\n",
      "1\n",
      "65\n",
      "166\n",
      "1\n",
      "66\n",
      "167\n",
      "1\n",
      "67\n",
      "168\n",
      "1\n",
      "68\n",
      "169\n",
      "1\n",
      "69\n",
      "170\n",
      "1\n",
      "70\n",
      "171\n",
      "1\n",
      "71\n",
      "172\n",
      "1\n",
      "72\n",
      "173\n",
      "1\n",
      "73\n",
      "174\n",
      "1\n",
      "74\n",
      "175\n",
      "1\n",
      "75\n",
      "176\n",
      "1\n",
      "76\n",
      "177\n",
      "1\n",
      "77\n",
      "178\n",
      "1\n",
      "78\n",
      "179\n",
      "1\n",
      "79\n",
      "180\n",
      "1\n",
      "80\n",
      "181\n",
      "1\n",
      "81\n",
      "182\n",
      "1\n",
      "82\n",
      "183\n",
      "1\n",
      "83\n",
      "184\n",
      "1\n",
      "84\n",
      "185\n",
      "1\n",
      "85\n",
      "186\n",
      "1\n",
      "86\n",
      "187\n",
      "1\n",
      "87\n",
      "188\n",
      "1\n",
      "88\n",
      "189\n",
      "1\n",
      "89\n",
      "190\n",
      "1\n",
      "90\n",
      "191\n",
      "1\n",
      "91\n",
      "192\n",
      "1\n",
      "92\n",
      "193\n",
      "1\n",
      "93\n",
      "194\n",
      "1\n",
      "94\n",
      "195\n",
      "1\n",
      "95\n",
      "196\n",
      "1\n",
      "96\n",
      "197\n",
      "1\n",
      "97\n",
      "198\n",
      "1\n",
      "98\n",
      "199\n",
      "1\n",
      "99\n",
      "200\n",
      "a\n",
      "2\n",
      "0\n",
      "201\n",
      "2\n",
      "1\n",
      "202\n",
      "2\n",
      "2\n",
      "203\n",
      "2\n",
      "3\n",
      "204\n",
      "2\n",
      "4\n",
      "205\n",
      "2\n",
      "5\n",
      "206\n",
      "2\n",
      "6\n",
      "207\n",
      "2\n",
      "7\n",
      "208\n",
      "2\n",
      "8\n",
      "209\n",
      "2\n",
      "9\n",
      "210\n",
      "2\n",
      "10\n",
      "211\n",
      "2\n",
      "11\n",
      "212\n",
      "2\n",
      "12\n",
      "213\n",
      "2\n",
      "13\n",
      "214\n",
      "2\n",
      "14\n",
      "215\n",
      "2\n",
      "15\n",
      "216\n",
      "2\n",
      "16\n",
      "217\n",
      "2\n",
      "17\n",
      "218\n",
      "2\n",
      "18\n",
      "219\n",
      "2\n",
      "19\n",
      "220\n",
      "2\n",
      "20\n",
      "221\n",
      "2\n",
      "21\n",
      "222\n",
      "2\n",
      "22\n",
      "223\n",
      "2\n",
      "23\n",
      "224\n",
      "2\n",
      "24\n",
      "225\n",
      "2\n",
      "25\n",
      "226\n",
      "2\n",
      "26\n",
      "227\n",
      "2\n",
      "27\n",
      "228\n",
      "2\n",
      "28\n",
      "229\n",
      "2\n",
      "29\n",
      "230\n",
      "2\n",
      "30\n",
      "231\n",
      "2\n",
      "31\n",
      "232\n",
      "2\n",
      "32\n",
      "233\n",
      "2\n",
      "33\n",
      "234\n",
      "2\n",
      "34\n",
      "235\n",
      "2\n",
      "35\n",
      "236\n",
      "2\n",
      "36\n",
      "237\n",
      "2\n",
      "37\n",
      "238\n",
      "2\n",
      "38\n",
      "239\n",
      "2\n",
      "39\n",
      "240\n",
      "2\n",
      "40\n",
      "241\n",
      "2\n",
      "41\n",
      "242\n",
      "2\n",
      "42\n",
      "243\n",
      "2\n",
      "43\n",
      "244\n",
      "2\n",
      "44\n",
      "245\n",
      "2\n",
      "45\n",
      "246\n",
      "2\n",
      "46\n",
      "247\n",
      "2\n",
      "47\n",
      "248\n",
      "2\n",
      "48\n",
      "249\n",
      "2\n",
      "49\n",
      "250\n",
      "2\n",
      "50\n",
      "251\n",
      "2\n",
      "51\n",
      "252\n",
      "2\n",
      "52\n",
      "253\n",
      "2\n",
      "53\n",
      "254\n",
      "2\n",
      "54\n",
      "255\n",
      "2\n",
      "55\n",
      "256\n",
      "2\n",
      "56\n",
      "257\n",
      "2\n",
      "57\n",
      "258\n",
      "2\n",
      "58\n",
      "259\n",
      "2\n",
      "59\n",
      "260\n",
      "2\n",
      "60\n",
      "261\n",
      "2\n",
      "61\n",
      "262\n",
      "2\n",
      "62\n",
      "263\n",
      "2\n",
      "63\n",
      "264\n",
      "2\n",
      "64\n",
      "265\n",
      "2\n",
      "65\n",
      "266\n",
      "2\n",
      "66\n",
      "267\n",
      "2\n",
      "67\n",
      "268\n",
      "2\n",
      "68\n",
      "269\n",
      "2\n",
      "69\n",
      "270\n",
      "2\n",
      "70\n",
      "271\n",
      "2\n",
      "71\n",
      "272\n",
      "2\n",
      "72\n",
      "273\n",
      "2\n",
      "73\n",
      "274\n",
      "2\n",
      "74\n",
      "275\n",
      "2\n",
      "75\n",
      "276\n",
      "2\n",
      "76\n",
      "277\n",
      "2\n",
      "77\n",
      "278\n",
      "2\n",
      "78\n",
      "279\n",
      "2\n",
      "79\n",
      "280\n",
      "2\n",
      "80\n",
      "281\n",
      "2\n",
      "81\n",
      "282\n",
      "2\n",
      "82\n",
      "283\n",
      "2\n",
      "83\n",
      "284\n",
      "2\n",
      "84\n",
      "285\n",
      "2\n",
      "85\n",
      "286\n",
      "2\n",
      "86\n",
      "287\n",
      "2\n",
      "87\n",
      "288\n",
      "2\n",
      "88\n",
      "289\n",
      "2\n",
      "89\n",
      "290\n",
      "2\n",
      "90\n",
      "291\n",
      "2\n",
      "91\n",
      "292\n",
      "2\n",
      "92\n",
      "293\n",
      "2\n",
      "93\n",
      "294\n",
      "2\n",
      "94\n",
      "295\n",
      "2\n",
      "95\n",
      "296\n",
      "2\n",
      "96\n",
      "297\n",
      "2\n",
      "97\n",
      "298\n",
      "2\n",
      "98\n",
      "299\n",
      "2\n",
      "99\n",
      "300\n",
      "a\n",
      "3\n",
      "0\n",
      "301\n",
      "3\n",
      "1\n",
      "302\n",
      "3\n",
      "2\n",
      "303\n",
      "3\n",
      "3\n",
      "304\n",
      "3\n",
      "4\n",
      "305\n",
      "3\n",
      "5\n",
      "306\n",
      "3\n",
      "6\n",
      "307\n",
      "3\n",
      "7\n",
      "308\n",
      "3\n",
      "8\n",
      "309\n",
      "3\n",
      "9\n",
      "310\n",
      "3\n",
      "10\n",
      "311\n",
      "3\n",
      "11\n",
      "312\n",
      "3\n",
      "12\n",
      "313\n",
      "3\n",
      "13\n",
      "314\n",
      "3\n",
      "14\n",
      "315\n",
      "3\n",
      "15\n",
      "316\n",
      "3\n",
      "16\n",
      "317\n",
      "3\n",
      "17\n",
      "318\n",
      "3\n",
      "18\n",
      "319\n"
     ]
    },
    {
     "ename": "KeyError",
     "evalue": "9439",
     "output_type": "error",
     "traceback": [
      "\u001b[1;31m---------------------------------------------------------------------------\u001b[0m",
      "\u001b[1;31mKeyError\u001b[0m                                  Traceback (most recent call last)",
      "\u001b[1;32m~\\Anaconda3\\lib\\site-packages\\pandas\\core\\indexes\\base.py\u001b[0m in \u001b[0;36mget_loc\u001b[1;34m(self, key, method, tolerance)\u001b[0m\n\u001b[0;32m   2645\u001b[0m             \u001b[1;32mtry\u001b[0m\u001b[1;33m:\u001b[0m\u001b[1;33m\u001b[0m\u001b[1;33m\u001b[0m\u001b[0m\n\u001b[1;32m-> 2646\u001b[1;33m                 \u001b[1;32mreturn\u001b[0m \u001b[0mself\u001b[0m\u001b[1;33m.\u001b[0m\u001b[0m_engine\u001b[0m\u001b[1;33m.\u001b[0m\u001b[0mget_loc\u001b[0m\u001b[1;33m(\u001b[0m\u001b[0mkey\u001b[0m\u001b[1;33m)\u001b[0m\u001b[1;33m\u001b[0m\u001b[1;33m\u001b[0m\u001b[0m\n\u001b[0m\u001b[0;32m   2647\u001b[0m             \u001b[1;32mexcept\u001b[0m \u001b[0mKeyError\u001b[0m\u001b[1;33m:\u001b[0m\u001b[1;33m\u001b[0m\u001b[1;33m\u001b[0m\u001b[0m\n",
      "\u001b[1;32mpandas\\_libs\\index.pyx\u001b[0m in \u001b[0;36mpandas._libs.index.IndexEngine.get_loc\u001b[1;34m()\u001b[0m\n",
      "\u001b[1;32mpandas\\_libs\\index.pyx\u001b[0m in \u001b[0;36mpandas._libs.index.IndexEngine.get_loc\u001b[1;34m()\u001b[0m\n",
      "\u001b[1;32mpandas\\_libs\\hashtable_class_helper.pxi\u001b[0m in \u001b[0;36mpandas._libs.hashtable.Int64HashTable.get_item\u001b[1;34m()\u001b[0m\n",
      "\u001b[1;32mpandas\\_libs\\hashtable_class_helper.pxi\u001b[0m in \u001b[0;36mpandas._libs.hashtable.Int64HashTable.get_item\u001b[1;34m()\u001b[0m\n",
      "\u001b[1;31mKeyError\u001b[0m: 9439",
      "\nDuring handling of the above exception, another exception occurred:\n",
      "\u001b[1;31mKeyError\u001b[0m                                  Traceback (most recent call last)",
      "\u001b[1;32m<ipython-input-183-ed760e804bec>\u001b[0m in \u001b[0;36m<module>\u001b[1;34m\u001b[0m\n\u001b[0;32m      9\u001b[0m         \u001b[0mcount\u001b[0m\u001b[1;33m+=\u001b[0m\u001b[1;36m1\u001b[0m\u001b[1;33m\u001b[0m\u001b[1;33m\u001b[0m\u001b[0m\n\u001b[0;32m     10\u001b[0m         \u001b[0mprint\u001b[0m\u001b[1;33m(\u001b[0m\u001b[0mcount\u001b[0m\u001b[1;33m)\u001b[0m\u001b[1;33m\u001b[0m\u001b[1;33m\u001b[0m\u001b[0m\n\u001b[1;32m---> 11\u001b[1;33m         \u001b[0mfeature3_user\u001b[0m\u001b[1;33m.\u001b[0m\u001b[0mappend\u001b[0m\u001b[1;33m(\u001b[0m\u001b[0mfloat\u001b[0m\u001b[1;33m(\u001b[0m\u001b[0msvd_predictions_score_df1\u001b[0m\u001b[1;33m[\u001b[0m\u001b[0msvd_predictions_score_df1\u001b[0m\u001b[1;33m.\u001b[0m\u001b[0mindex\u001b[0m \u001b[1;33m==\u001b[0m \u001b[0mi\u001b[0m\u001b[1;33m]\u001b[0m\u001b[1;33m[\u001b[0m\u001b[0mtarget_movies\u001b[0m\u001b[1;33m[\u001b[0m\u001b[0mi\u001b[0m\u001b[1;33m]\u001b[0m\u001b[1;33m[\u001b[0m\u001b[0mj\u001b[0m\u001b[1;33m]\u001b[0m\u001b[1;33m]\u001b[0m\u001b[1;33m.\u001b[0m\u001b[0mvalues\u001b[0m\u001b[1;33m)\u001b[0m\u001b[1;33m)\u001b[0m\u001b[1;33m\u001b[0m\u001b[1;33m\u001b[0m\u001b[0m\n\u001b[0m\u001b[0;32m     12\u001b[0m     \u001b[0mfeature3\u001b[0m\u001b[1;33m.\u001b[0m\u001b[0mappend\u001b[0m\u001b[1;33m(\u001b[0m\u001b[0mfeature3_user\u001b[0m\u001b[1;33m)\u001b[0m\u001b[1;33m\u001b[0m\u001b[1;33m\u001b[0m\u001b[0m\n\u001b[0;32m     13\u001b[0m     \u001b[0mfeature3_user\u001b[0m \u001b[1;33m=\u001b[0m \u001b[1;33m[\u001b[0m\u001b[1;33m]\u001b[0m\u001b[1;33m\u001b[0m\u001b[1;33m\u001b[0m\u001b[0m\n",
      "\u001b[1;32m~\\Anaconda3\\lib\\site-packages\\pandas\\core\\frame.py\u001b[0m in \u001b[0;36m__getitem__\u001b[1;34m(self, key)\u001b[0m\n\u001b[0;32m   2798\u001b[0m             \u001b[1;32mif\u001b[0m \u001b[0mself\u001b[0m\u001b[1;33m.\u001b[0m\u001b[0mcolumns\u001b[0m\u001b[1;33m.\u001b[0m\u001b[0mnlevels\u001b[0m \u001b[1;33m>\u001b[0m \u001b[1;36m1\u001b[0m\u001b[1;33m:\u001b[0m\u001b[1;33m\u001b[0m\u001b[1;33m\u001b[0m\u001b[0m\n\u001b[0;32m   2799\u001b[0m                 \u001b[1;32mreturn\u001b[0m \u001b[0mself\u001b[0m\u001b[1;33m.\u001b[0m\u001b[0m_getitem_multilevel\u001b[0m\u001b[1;33m(\u001b[0m\u001b[0mkey\u001b[0m\u001b[1;33m)\u001b[0m\u001b[1;33m\u001b[0m\u001b[1;33m\u001b[0m\u001b[0m\n\u001b[1;32m-> 2800\u001b[1;33m             \u001b[0mindexer\u001b[0m \u001b[1;33m=\u001b[0m \u001b[0mself\u001b[0m\u001b[1;33m.\u001b[0m\u001b[0mcolumns\u001b[0m\u001b[1;33m.\u001b[0m\u001b[0mget_loc\u001b[0m\u001b[1;33m(\u001b[0m\u001b[0mkey\u001b[0m\u001b[1;33m)\u001b[0m\u001b[1;33m\u001b[0m\u001b[1;33m\u001b[0m\u001b[0m\n\u001b[0m\u001b[0;32m   2801\u001b[0m             \u001b[1;32mif\u001b[0m \u001b[0mis_integer\u001b[0m\u001b[1;33m(\u001b[0m\u001b[0mindexer\u001b[0m\u001b[1;33m)\u001b[0m\u001b[1;33m:\u001b[0m\u001b[1;33m\u001b[0m\u001b[1;33m\u001b[0m\u001b[0m\n\u001b[0;32m   2802\u001b[0m                 \u001b[0mindexer\u001b[0m \u001b[1;33m=\u001b[0m \u001b[1;33m[\u001b[0m\u001b[0mindexer\u001b[0m\u001b[1;33m]\u001b[0m\u001b[1;33m\u001b[0m\u001b[1;33m\u001b[0m\u001b[0m\n",
      "\u001b[1;32m~\\Anaconda3\\lib\\site-packages\\pandas\\core\\indexes\\base.py\u001b[0m in \u001b[0;36mget_loc\u001b[1;34m(self, key, method, tolerance)\u001b[0m\n\u001b[0;32m   2646\u001b[0m                 \u001b[1;32mreturn\u001b[0m \u001b[0mself\u001b[0m\u001b[1;33m.\u001b[0m\u001b[0m_engine\u001b[0m\u001b[1;33m.\u001b[0m\u001b[0mget_loc\u001b[0m\u001b[1;33m(\u001b[0m\u001b[0mkey\u001b[0m\u001b[1;33m)\u001b[0m\u001b[1;33m\u001b[0m\u001b[1;33m\u001b[0m\u001b[0m\n\u001b[0;32m   2647\u001b[0m             \u001b[1;32mexcept\u001b[0m \u001b[0mKeyError\u001b[0m\u001b[1;33m:\u001b[0m\u001b[1;33m\u001b[0m\u001b[1;33m\u001b[0m\u001b[0m\n\u001b[1;32m-> 2648\u001b[1;33m                 \u001b[1;32mreturn\u001b[0m \u001b[0mself\u001b[0m\u001b[1;33m.\u001b[0m\u001b[0m_engine\u001b[0m\u001b[1;33m.\u001b[0m\u001b[0mget_loc\u001b[0m\u001b[1;33m(\u001b[0m\u001b[0mself\u001b[0m\u001b[1;33m.\u001b[0m\u001b[0m_maybe_cast_indexer\u001b[0m\u001b[1;33m(\u001b[0m\u001b[0mkey\u001b[0m\u001b[1;33m)\u001b[0m\u001b[1;33m)\u001b[0m\u001b[1;33m\u001b[0m\u001b[1;33m\u001b[0m\u001b[0m\n\u001b[0m\u001b[0;32m   2649\u001b[0m         \u001b[0mindexer\u001b[0m \u001b[1;33m=\u001b[0m \u001b[0mself\u001b[0m\u001b[1;33m.\u001b[0m\u001b[0mget_indexer\u001b[0m\u001b[1;33m(\u001b[0m\u001b[1;33m[\u001b[0m\u001b[0mkey\u001b[0m\u001b[1;33m]\u001b[0m\u001b[1;33m,\u001b[0m \u001b[0mmethod\u001b[0m\u001b[1;33m=\u001b[0m\u001b[0mmethod\u001b[0m\u001b[1;33m,\u001b[0m \u001b[0mtolerance\u001b[0m\u001b[1;33m=\u001b[0m\u001b[0mtolerance\u001b[0m\u001b[1;33m)\u001b[0m\u001b[1;33m\u001b[0m\u001b[1;33m\u001b[0m\u001b[0m\n\u001b[0;32m   2650\u001b[0m         \u001b[1;32mif\u001b[0m \u001b[0mindexer\u001b[0m\u001b[1;33m.\u001b[0m\u001b[0mndim\u001b[0m \u001b[1;33m>\u001b[0m \u001b[1;36m1\u001b[0m \u001b[1;32mor\u001b[0m \u001b[0mindexer\u001b[0m\u001b[1;33m.\u001b[0m\u001b[0msize\u001b[0m \u001b[1;33m>\u001b[0m \u001b[1;36m1\u001b[0m\u001b[1;33m:\u001b[0m\u001b[1;33m\u001b[0m\u001b[1;33m\u001b[0m\u001b[0m\n",
      "\u001b[1;32mpandas\\_libs\\index.pyx\u001b[0m in \u001b[0;36mpandas._libs.index.IndexEngine.get_loc\u001b[1;34m()\u001b[0m\n",
      "\u001b[1;32mpandas\\_libs\\index.pyx\u001b[0m in \u001b[0;36mpandas._libs.index.IndexEngine.get_loc\u001b[1;34m()\u001b[0m\n",
      "\u001b[1;32mpandas\\_libs\\hashtable_class_helper.pxi\u001b[0m in \u001b[0;36mpandas._libs.hashtable.Int64HashTable.get_item\u001b[1;34m()\u001b[0m\n",
      "\u001b[1;32mpandas\\_libs\\hashtable_class_helper.pxi\u001b[0m in \u001b[0;36mpandas._libs.hashtable.Int64HashTable.get_item\u001b[1;34m()\u001b[0m\n",
      "\u001b[1;31mKeyError\u001b[0m: 9439"
     ]
    }
   ],
   "source": [
    "feature3 = []\n",
    "feature3_user = []\n",
    "count = 0\n",
    "for i in range(len(num_users)):\n",
    "    for j in range(len(target_movies[i])):\n",
    "        feature3_user.append(float(svd_predictions_score_df1[svd_predictions_score_df1.index == i][target_movies[i][j]].values))\n",
    "    feature3.append(feature3_user)\n",
    "    feature3_user = []"
   ]
  },
  {
   "cell_type": "code",
   "execution_count": null,
   "metadata": {
    "ExecuteTime": {
     "end_time": "2020-08-12T10:28:46.194145Z",
     "start_time": "2020-08-12T10:24:56.846Z"
    }
   },
   "outputs": [],
   "source": [
    "type(feature3)"
   ]
  },
  {
   "cell_type": "markdown",
   "metadata": {},
   "source": [
    "## Feature 4 (Genre)"
   ]
  },
  {
   "cell_type": "code",
   "execution_count": null,
   "metadata": {
    "ExecuteTime": {
     "end_time": "2020-08-12T10:28:46.195142Z",
     "start_time": "2020-08-12T10:24:56.851Z"
    }
   },
   "outputs": [],
   "source": [
    "def create_genre_feature(genre):\n",
    "    feature = []\n",
    "    genre_per_user = []\n",
    "    for i in range(len(num_users)):\n",
    "        for j in range(len(target_movies[i])):\n",
    "            a =  movies_df[movies_df['movieId'] == target_movies[i][j]]['genres']\n",
    "            a = a.tolist()\n",
    "            a = str(a[0])\n",
    "            a = a.split('|')\n",
    "            if genre in a:\n",
    "                genre_per_user.append(1)\n",
    "            else:\n",
    "                genre_per_user.append(0)\n",
    "        feature.append(genre_per_user)\n",
    "        genre_per_user = []\n",
    "    return feature"
   ]
  },
  {
   "cell_type": "code",
   "execution_count": null,
   "metadata": {
    "ExecuteTime": {
     "end_time": "2020-08-12T10:28:46.196139Z",
     "start_time": "2020-08-12T10:24:56.855Z"
    }
   },
   "outputs": [],
   "source": [
    "feature4 = create_genre_feature('Comedy')"
   ]
  },
  {
   "cell_type": "markdown",
   "metadata": {},
   "source": [
    "### Features 8-15 (genres)"
   ]
  },
  {
   "cell_type": "code",
   "execution_count": null,
   "metadata": {
    "ExecuteTime": {
     "end_time": "2020-08-12T10:28:46.197141Z",
     "start_time": "2020-08-12T10:24:56.860Z"
    }
   },
   "outputs": [],
   "source": [
    "feature8 = create_genre_feature('Adventure')\n",
    "feature9 = create_genre_feature('Drama')\n",
    "feature10 = create_genre_feature('Romance')\n",
    "feature11 = create_genre_feature('Fantasy')\n",
    "feature12 = create_genre_feature('Thriller')\n",
    "feature13 = create_genre_feature('Animation')\n",
    "feature14 = create_genre_feature('Children')\n",
    "feature15 = create_genre_feature('Horror')"
   ]
  },
  {
   "cell_type": "markdown",
   "metadata": {},
   "source": [
    "## Feature 5 (#Users watched each target movie)"
   ]
  },
  {
   "cell_type": "code",
   "execution_count": 89,
   "metadata": {
    "ExecuteTime": {
     "end_time": "2020-08-12T12:54:02.838713Z",
     "start_time": "2020-08-12T12:52:48.327618Z"
    }
   },
   "outputs": [],
   "source": [
    "number_views = []\n",
    "number_view_per_movie = []\n",
    "for i in range(len(num_users)):\n",
    "    for j in range(len(target_movies[i])):\n",
    "        a = len(ratings_df[ratings_df['book_id'] == target_movies[i][j]]['user_id'])\n",
    "        number_view_per_movie.append(a)\n",
    "    number_views.append(number_view_per_movie)\n",
    "    number_view_per_movie = []\n"
   ]
  },
  {
   "cell_type": "code",
   "execution_count": 90,
   "metadata": {
    "ExecuteTime": {
     "end_time": "2020-08-12T12:54:02.843699Z",
     "start_time": "2020-08-12T12:54:02.839711Z"
    }
   },
   "outputs": [],
   "source": [
    "feature5 = number_views"
   ]
  },
  {
   "cell_type": "code",
   "execution_count": 99,
   "metadata": {
    "ExecuteTime": {
     "end_time": "2020-08-12T13:02:18.731874Z",
     "start_time": "2020-08-12T13:02:18.721896Z"
    }
   },
   "outputs": [
    {
     "data": {
      "text/plain": [
       "(1157, 100)"
      ]
     },
     "execution_count": 99,
     "metadata": {},
     "output_type": "execute_result"
    }
   ],
   "source": [
    "np.array(feature5).shape"
   ]
  },
  {
   "cell_type": "markdown",
   "metadata": {},
   "source": [
    "## Feature 6 (New user)"
   ]
  },
  {
   "cell_type": "code",
   "execution_count": 92,
   "metadata": {
    "ExecuteTime": {
     "end_time": "2020-08-12T13:00:37.030449Z",
     "start_time": "2020-08-12T13:00:37.024499Z"
    }
   },
   "outputs": [
    {
     "data": {
      "text/plain": [
       "False"
      ]
     },
     "execution_count": 92,
     "metadata": {},
     "output_type": "execute_result"
    }
   ],
   "source": [
    "len(ratings_df[ratings_df['user_id']==1]) > 10"
   ]
  },
  {
   "cell_type": "code",
   "execution_count": 94,
   "metadata": {
    "ExecuteTime": {
     "end_time": "2020-08-12T13:01:34.773631Z",
     "start_time": "2020-08-12T13:00:43.418934Z"
    }
   },
   "outputs": [],
   "source": [
    "new_users_binary = []\n",
    "binary_per_user = []\n",
    "for i in range(len(num_users)):\n",
    "    for j in range(len(target_movies[i])):\n",
    "        a = len(ratings_df[ratings_df['user_id']==1]) > 10\n",
    "        if a:\n",
    "            binary_per_user.append(1)\n",
    "        else:\n",
    "            binary_per_user.append(0)\n",
    "    new_users_binary.append(binary_per_user)\n",
    "    binary_per_user = []"
   ]
  },
  {
   "cell_type": "code",
   "execution_count": 95,
   "metadata": {
    "ExecuteTime": {
     "end_time": "2020-08-12T13:01:34.778177Z",
     "start_time": "2020-08-12T13:01:34.776150Z"
    }
   },
   "outputs": [],
   "source": [
    "#rankings of old/new users"
   ]
  },
  {
   "cell_type": "code",
   "execution_count": 96,
   "metadata": {
    "ExecuteTime": {
     "end_time": "2020-08-12T13:01:34.788118Z",
     "start_time": "2020-08-12T13:01:34.779142Z"
    }
   },
   "outputs": [],
   "source": [
    "feature6 = new_users_binary"
   ]
  },
  {
   "cell_type": "code",
   "execution_count": 97,
   "metadata": {
    "ExecuteTime": {
     "end_time": "2020-08-12T13:01:34.804077Z",
     "start_time": "2020-08-12T13:01:34.789115Z"
    }
   },
   "outputs": [
    {
     "data": {
      "text/plain": [
       "(1157, 100)"
      ]
     },
     "execution_count": 97,
     "metadata": {},
     "output_type": "execute_result"
    }
   ],
   "source": [
    "np.array(feature6).shape"
   ]
  },
  {
   "cell_type": "markdown",
   "metadata": {},
   "source": [
    "## Feature 7(Embeddings) x32"
   ]
  },
  {
   "cell_type": "code",
   "execution_count": 101,
   "metadata": {
    "ExecuteTime": {
     "end_time": "2020-08-12T13:04:06.797514Z",
     "start_time": "2020-08-12T13:04:06.793546Z"
    }
   },
   "outputs": [],
   "source": [
    "emb = f1_model._net.item_embeddings"
   ]
  },
  {
   "cell_type": "code",
   "execution_count": 102,
   "metadata": {
    "ExecuteTime": {
     "end_time": "2020-08-12T13:04:08.810442Z",
     "start_time": "2020-08-12T13:04:07.555625Z"
    }
   },
   "outputs": [],
   "source": [
    "emb_features = []\n",
    "helper = []\n",
    "for i in range(32):\n",
    "    for j in range(len(num_items)):\n",
    "        helper.append(emb.weight[j][i].item())\n",
    "    emb_features.append(helper)\n",
    "    helper = []"
   ]
  },
  {
   "cell_type": "code",
   "execution_count": 103,
   "metadata": {
    "ExecuteTime": {
     "end_time": "2020-08-12T13:04:10.543998Z",
     "start_time": "2020-08-12T13:04:09.778994Z"
    }
   },
   "outputs": [],
   "source": [
    "a = []\n",
    "b = []\n",
    "feature7 = []\n",
    "for i in range(32):\n",
    "    for user in range(len(num_users)):\n",
    "        for movie in map_target_movies[user]:\n",
    "            a.append(emb_features[0][movie])\n",
    "        b.append(a)\n",
    "        a = []\n",
    "    feature7.append(b)\n",
    "    b = []"
   ]
  },
  {
   "cell_type": "code",
   "execution_count": 104,
   "metadata": {
    "ExecuteTime": {
     "end_time": "2020-08-12T13:04:11.275355Z",
     "start_time": "2020-08-12T13:04:11.125638Z"
    }
   },
   "outputs": [
    {
     "data": {
      "text/plain": [
       "(32, 1157, 100)"
      ]
     },
     "execution_count": 104,
     "metadata": {},
     "output_type": "execute_result"
    }
   ],
   "source": [
    "np.array(feature7).shape"
   ]
  },
  {
   "cell_type": "code",
   "execution_count": 105,
   "metadata": {
    "ExecuteTime": {
     "end_time": "2020-08-12T13:04:11.921765Z",
     "start_time": "2020-08-12T13:04:11.913818Z"
    }
   },
   "outputs": [
    {
     "data": {
      "text/plain": [
       "(1157, 100)"
      ]
     },
     "execution_count": 105,
     "metadata": {},
     "output_type": "execute_result"
    }
   ],
   "source": [
    "np.array(feature7[0]).shape"
   ]
  },
  {
   "cell_type": "markdown",
   "metadata": {},
   "source": [
    "## Features stack"
   ]
  },
  {
   "cell_type": "code",
   "execution_count": 106,
   "metadata": {
    "ExecuteTime": {
     "end_time": "2020-08-12T13:04:44.487067Z",
     "start_time": "2020-08-12T13:04:44.279735Z"
    }
   },
   "outputs": [],
   "source": [
    "'''features = np.stack((feature1,feature2,feature3,feature4,feature5,feature6,\n",
    "                     feature7[0], feature7[1],feature7[2], feature7[3],\n",
    "                     feature7[4], feature7[5],feature7[6], feature7[7],\n",
    "                     feature7[8], feature7[9],feature7[10], feature7[11],\n",
    "                     feature7[12], feature7[13],feature7[14], feature7[15],\n",
    "                     feature7[16], feature7[17],feature7[18], feature7[19],\n",
    "                     feature7[20], feature7[21],feature7[22], feature7[23],\n",
    "                     feature7[24], feature7[25],feature7[26], feature7[27],\n",
    "                     feature7[28], feature7[29],feature7[30], feature7[31],\n",
    "                     feature8,feature9,feature10,feature11,feature12,\n",
    "                    feature13,feature14,feature15))'''\n",
    "features = np.stack((feature1,feature2,feature5,feature6,\n",
    "                     feature7[0], feature7[1],feature7[2], feature7[3],\n",
    "                     feature7[4], feature7[5],feature7[6], feature7[7],\n",
    "                     feature7[8], feature7[9],feature7[10], feature7[11],\n",
    "                     feature7[12], feature7[13],feature7[14], feature7[15],\n",
    "                     feature7[16], feature7[17],feature7[18], feature7[19],\n",
    "                     feature7[20], feature7[21],feature7[22], feature7[23],\n",
    "                     feature7[24], feature7[25],feature7[26], feature7[27],\n",
    "                     feature7[28], feature7[29],feature7[30], feature7[31]))"
   ]
  },
  {
   "cell_type": "code",
   "execution_count": 107,
   "metadata": {
    "ExecuteTime": {
     "end_time": "2020-08-12T13:04:45.311787Z",
     "start_time": "2020-08-12T13:04:45.306801Z"
    }
   },
   "outputs": [
    {
     "data": {
      "text/plain": [
       "36"
      ]
     },
     "execution_count": 107,
     "metadata": {},
     "output_type": "execute_result"
    }
   ],
   "source": [
    "len(features)"
   ]
  },
  {
   "cell_type": "markdown",
   "metadata": {},
   "source": [
    "## Labels"
   ]
  },
  {
   "cell_type": "markdown",
   "metadata": {},
   "source": [
    "Below are the movies that each user watched"
   ]
  },
  {
   "cell_type": "code",
   "execution_count": 110,
   "metadata": {
    "ExecuteTime": {
     "end_time": "2020-08-12T13:04:58.131541Z",
     "start_time": "2020-08-12T13:04:58.115880Z"
    }
   },
   "outputs": [],
   "source": [
    "def watched_movies(df):\n",
    "    watched = []\n",
    "    for i in range(len(num_users)):\n",
    "        watched.append(df[df[\"user_id\"]==uid_rev_map.get(i)].groupby(\"book_id\")[\"book_id\"].count().index)  \n",
    "    return watched"
   ]
  },
  {
   "cell_type": "code",
   "execution_count": 111,
   "metadata": {
    "ExecuteTime": {
     "end_time": "2020-08-12T13:05:01.663508Z",
     "start_time": "2020-08-12T13:04:58.291976Z"
    }
   },
   "outputs": [],
   "source": [
    "#train_labels_df\n",
    "#test_df\n",
    "#val_df\n",
    "train_watched = watched_movies(train_labels_df)\n",
    "test_watched = watched_movies(test_df)\n",
    "val_watched = watched_movies(val_df)"
   ]
  },
  {
   "cell_type": "markdown",
   "metadata": {},
   "source": [
    "Creation of the target list. It containes 0s and 1s for the 100 recommended movies for each user. Based on the watched movies it assigns the values. If the user watched the recommended movie, then the value of the target is equal to 1, otherwise it is 0."
   ]
  },
  {
   "cell_type": "code",
   "execution_count": 112,
   "metadata": {
    "ExecuteTime": {
     "end_time": "2020-08-12T13:05:03.117788Z",
     "start_time": "2020-08-12T13:05:03.102129Z"
    }
   },
   "outputs": [],
   "source": [
    "def create_target(watched):\n",
    "    user_target = []\n",
    "    target = []\n",
    "    for i in range(len(num_users)):\n",
    "        for target_movie in target_movies[i]:\n",
    "            if target_movie in watched[i]:\n",
    "                user_target.append(1)\n",
    "            else:\n",
    "                user_target.append(0)\n",
    "        target.append(user_target)\n",
    "        user_target = []\n",
    "    return target"
   ]
  },
  {
   "cell_type": "code",
   "execution_count": 113,
   "metadata": {
    "ExecuteTime": {
     "end_time": "2020-08-12T13:05:04.423384Z",
     "start_time": "2020-08-12T13:05:04.217738Z"
    }
   },
   "outputs": [],
   "source": [
    "label_train = create_target(train_watched)\n",
    "label_test = create_target(test_watched)\n",
    "label_val = create_target(val_watched)\n",
    "#y_train = y_test = y_val"
   ]
  },
  {
   "cell_type": "markdown",
   "metadata": {},
   "source": [
    "## LightGBM model"
   ]
  },
  {
   "cell_type": "code",
   "execution_count": 114,
   "metadata": {
    "ExecuteTime": {
     "end_time": "2020-08-12T13:05:05.852647Z",
     "start_time": "2020-08-12T13:05:05.808766Z"
    }
   },
   "outputs": [],
   "source": [
    "X = np.array(features)\n",
    "label_train = np.array(label_train)\n",
    "label_test = np.array(label_test)\n",
    "label_val = np.array(label_val)"
   ]
  },
  {
   "cell_type": "code",
   "execution_count": 115,
   "metadata": {
    "ExecuteTime": {
     "end_time": "2020-08-12T13:05:06.709158Z",
     "start_time": "2020-08-12T13:05:06.691450Z"
    }
   },
   "outputs": [],
   "source": [
    "k = len(target_movies[0])\n",
    "X = X.reshape(len(num_users)*k, len(features))\n",
    "y_train = label_train.reshape(len(num_users)*k,)\n",
    "y_test = label_test.reshape(len(num_users)*k,)\n",
    "y_val = label_val.reshape(len(num_users)*k,)"
   ]
  },
  {
   "cell_type": "code",
   "execution_count": 116,
   "metadata": {
    "ExecuteTime": {
     "end_time": "2020-08-12T13:05:07.390460Z",
     "start_time": "2020-08-12T13:05:07.295391Z"
    }
   },
   "outputs": [],
   "source": [
    "import lightgbm as lgb\n",
    "gbm = lgb.LGBMRanker(min_child_samples=1, learning_rate=.1, n_jobs=2, importance_type='gain',\n",
    "                     num_leaves=31, min_child_weight=100)"
   ]
  },
  {
   "cell_type": "markdown",
   "metadata": {},
   "source": [
    "target movies\n",
    "train_df\n",
    "feature1\n",
    "feature2"
   ]
  },
  {
   "cell_type": "code",
   "execution_count": 117,
   "metadata": {
    "ExecuteTime": {
     "end_time": "2020-08-12T13:05:08.372645Z",
     "start_time": "2020-08-12T13:05:08.368686Z"
    }
   },
   "outputs": [
    {
     "data": {
      "text/plain": [
       "\"X_train_feature1 = []\\nX_train_feature2 = []\\nfor j in range(610):\\n    for i in range(len(target_movies[j])):\\n        if target_movies[j][i] in val_df['movie_id'].values.tolist():\\n            X_train_feature1.append(feature1[i])\\n            X_train_feature2.append(feature2[i])\\nprint(X_train_feature1)\\nprint(X_train_feature2)\\n#X_train = np.stack(X_train_feature1,X_train_feature2)\""
      ]
     },
     "execution_count": 117,
     "metadata": {},
     "output_type": "execute_result"
    }
   ],
   "source": [
    "'''X_train_feature1 = []\n",
    "X_train_feature2 = []\n",
    "for j in range(610):\n",
    "    for i in range(len(target_movies[j])):\n",
    "        if target_movies[j][i] in val_df['movie_id'].values.tolist():\n",
    "            X_train_feature1.append(feature1[i])\n",
    "            X_train_feature2.append(feature2[i])\n",
    "print(X_train_feature1)\n",
    "print(X_train_feature2)\n",
    "#X_train = np.stack(X_train_feature1,X_train_feature2)'''"
   ]
  },
  {
   "cell_type": "markdown",
   "metadata": {},
   "source": [
    "X_train\n",
    "X_test\n",
    "X_val\n",
    "y_train\n",
    "y_test\n",
    "y_val"
   ]
  },
  {
   "cell_type": "code",
   "execution_count": 118,
   "metadata": {
    "ExecuteTime": {
     "end_time": "2020-08-12T13:05:09.207126Z",
     "start_time": "2020-08-12T13:05:09.202146Z"
    }
   },
   "outputs": [],
   "source": [
    "X_train = X\n",
    "X_test = X\n",
    "X_val = X"
   ]
  },
  {
   "cell_type": "code",
   "execution_count": 119,
   "metadata": {
    "ExecuteTime": {
     "end_time": "2020-08-12T13:05:09.567400Z",
     "start_time": "2020-08-12T13:05:09.564413Z"
    }
   },
   "outputs": [],
   "source": [
    "#from sklearn.model_selection import train_test_split\n",
    "#X_train, X_test, y_train, y_test = train_test_split(X, y, test_size=0.2, random_state=1)\n",
    "#X_train, X_val, y_train, y_val = train_test_split(X_train, y_train, test_size=0.2, random_state=1)"
   ]
  },
  {
   "cell_type": "code",
   "execution_count": 120,
   "metadata": {
    "ExecuteTime": {
     "end_time": "2020-08-12T13:05:09.952510Z",
     "start_time": "2020-08-12T13:05:09.945503Z"
    }
   },
   "outputs": [
    {
     "name": "stdout",
     "output_type": "stream",
     "text": [
      "[115700]\n",
      "[115700]\n",
      "[115700]\n"
     ]
    }
   ],
   "source": [
    "query_train = [X_train.shape[0]]\n",
    "query_val = [X_val.shape[0]]\n",
    "query_test = [X_test.shape[0]]\n",
    "group_train = []\n",
    "group_val = []\n",
    "print(query_train)\n",
    "print(query_val)\n",
    "print(query_test)\n",
    "'''\n",
    "for i in range(390):\n",
    "    group_train.append(100)\n",
    "group_train.append(40)\n",
    "group_val.append(60)\n",
    "for i in range(97):\n",
    "    group_val.append(100)'''\n",
    "\n",
    "for i in range(len(num_users)):\n",
    "    group_train.append(k)\n",
    "    group_val.append(k)\n"
   ]
  },
  {
   "cell_type": "code",
   "execution_count": 121,
   "metadata": {
    "ExecuteTime": {
     "end_time": "2020-08-12T13:05:12.704927Z",
     "start_time": "2020-08-12T13:05:10.551640Z"
    },
    "code_folding": []
   },
   "outputs": [
    {
     "name": "stdout",
     "output_type": "stream",
     "text": [
      "[1]\tvalid_0's ndcg@1: 0.294728\tvalid_0's ndcg@3: 0.293734\tvalid_0's ndcg@5: 0.299182\tvalid_0's ndcg@10: 0.311325\n",
      "Training until validation scores don't improve for 50 rounds\n",
      "[2]\tvalid_0's ndcg@1: 0.288678\tvalid_0's ndcg@3: 0.285828\tvalid_0's ndcg@5: 0.290644\tvalid_0's ndcg@10: 0.304892\n",
      "[3]\tvalid_0's ndcg@1: 0.27917\tvalid_0's ndcg@3: 0.284013\tvalid_0's ndcg@5: 0.289947\tvalid_0's ndcg@10: 0.302371\n",
      "[4]\tvalid_0's ndcg@1: 0.27917\tvalid_0's ndcg@3: 0.283938\tvalid_0's ndcg@5: 0.289306\tvalid_0's ndcg@10: 0.305229\n",
      "[5]\tvalid_0's ndcg@1: 0.282627\tvalid_0's ndcg@3: 0.284937\tvalid_0's ndcg@5: 0.288559\tvalid_0's ndcg@10: 0.301771\n",
      "[6]\tvalid_0's ndcg@1: 0.282627\tvalid_0's ndcg@3: 0.281483\tvalid_0's ndcg@5: 0.286198\tvalid_0's ndcg@10: 0.30359\n",
      "[7]\tvalid_0's ndcg@1: 0.273984\tvalid_0's ndcg@3: 0.280028\tvalid_0's ndcg@5: 0.288563\tvalid_0's ndcg@10: 0.30452\n",
      "[8]\tvalid_0's ndcg@1: 0.27312\tvalid_0's ndcg@3: 0.279397\tvalid_0's ndcg@5: 0.287251\tvalid_0's ndcg@10: 0.304212\n",
      "[9]\tvalid_0's ndcg@1: 0.275713\tvalid_0's ndcg@3: 0.28294\tvalid_0's ndcg@5: 0.289524\tvalid_0's ndcg@10: 0.303688\n",
      "[10]\tvalid_0's ndcg@1: 0.277442\tvalid_0's ndcg@3: 0.284575\tvalid_0's ndcg@5: 0.290994\tvalid_0's ndcg@10: 0.305817\n",
      "[11]\tvalid_0's ndcg@1: 0.280035\tvalid_0's ndcg@3: 0.284541\tvalid_0's ndcg@5: 0.290983\tvalid_0's ndcg@10: 0.304873\n",
      "[12]\tvalid_0's ndcg@1: 0.274849\tvalid_0's ndcg@3: 0.282503\tvalid_0's ndcg@5: 0.287976\tvalid_0's ndcg@10: 0.303813\n",
      "[13]\tvalid_0's ndcg@1: 0.280899\tvalid_0's ndcg@3: 0.282963\tvalid_0's ndcg@5: 0.289312\tvalid_0's ndcg@10: 0.303764\n",
      "[14]\tvalid_0's ndcg@1: 0.280899\tvalid_0's ndcg@3: 0.284656\tvalid_0's ndcg@5: 0.289568\tvalid_0's ndcg@10: 0.304387\n",
      "[15]\tvalid_0's ndcg@1: 0.278306\tvalid_0's ndcg@3: 0.280847\tvalid_0's ndcg@5: 0.288173\tvalid_0's ndcg@10: 0.304214\n",
      "[16]\tvalid_0's ndcg@1: 0.277442\tvalid_0's ndcg@3: 0.280661\tvalid_0's ndcg@5: 0.287165\tvalid_0's ndcg@10: 0.303338\n",
      "[17]\tvalid_0's ndcg@1: 0.281763\tvalid_0's ndcg@3: 0.283827\tvalid_0's ndcg@5: 0.288839\tvalid_0's ndcg@10: 0.305695\n",
      "[18]\tvalid_0's ndcg@1: 0.277442\tvalid_0's ndcg@3: 0.282713\tvalid_0's ndcg@5: 0.286735\tvalid_0's ndcg@10: 0.304742\n",
      "[19]\tvalid_0's ndcg@1: 0.280035\tvalid_0's ndcg@3: 0.282765\tvalid_0's ndcg@5: 0.288522\tvalid_0's ndcg@10: 0.306032\n",
      "[20]\tvalid_0's ndcg@1: 0.277442\tvalid_0's ndcg@3: 0.281196\tvalid_0's ndcg@5: 0.286954\tvalid_0's ndcg@10: 0.303907\n",
      "[21]\tvalid_0's ndcg@1: 0.276577\tvalid_0's ndcg@3: 0.281207\tvalid_0's ndcg@5: 0.288241\tvalid_0's ndcg@10: 0.304749\n",
      "[22]\tvalid_0's ndcg@1: 0.276577\tvalid_0's ndcg@3: 0.282529\tvalid_0's ndcg@5: 0.288617\tvalid_0's ndcg@10: 0.305647\n",
      "[23]\tvalid_0's ndcg@1: 0.275713\tvalid_0's ndcg@3: 0.281057\tvalid_0's ndcg@5: 0.288748\tvalid_0's ndcg@10: 0.305537\n",
      "[24]\tvalid_0's ndcg@1: 0.277442\tvalid_0's ndcg@3: 0.281067\tvalid_0's ndcg@5: 0.287634\tvalid_0's ndcg@10: 0.30428\n",
      "[25]\tvalid_0's ndcg@1: 0.273984\tvalid_0's ndcg@3: 0.279644\tvalid_0's ndcg@5: 0.287452\tvalid_0's ndcg@10: 0.303467\n",
      "[26]\tvalid_0's ndcg@1: 0.275713\tvalid_0's ndcg@3: 0.282104\tvalid_0's ndcg@5: 0.286648\tvalid_0's ndcg@10: 0.303269\n",
      "[27]\tvalid_0's ndcg@1: 0.278306\tvalid_0's ndcg@3: 0.282093\tvalid_0's ndcg@5: 0.288912\tvalid_0's ndcg@10: 0.304484\n",
      "[28]\tvalid_0's ndcg@1: 0.277442\tvalid_0's ndcg@3: 0.281081\tvalid_0's ndcg@5: 0.287588\tvalid_0's ndcg@10: 0.303751\n",
      "[29]\tvalid_0's ndcg@1: 0.276577\tvalid_0's ndcg@3: 0.281034\tvalid_0's ndcg@5: 0.288072\tvalid_0's ndcg@10: 0.30441\n",
      "[30]\tvalid_0's ndcg@1: 0.277442\tvalid_0's ndcg@3: 0.280858\tvalid_0's ndcg@5: 0.287436\tvalid_0's ndcg@10: 0.30582\n",
      "[31]\tvalid_0's ndcg@1: 0.27917\tvalid_0's ndcg@3: 0.283197\tvalid_0's ndcg@5: 0.289723\tvalid_0's ndcg@10: 0.304513\n",
      "[32]\tvalid_0's ndcg@1: 0.27917\tvalid_0's ndcg@3: 0.281046\tvalid_0's ndcg@5: 0.287766\tvalid_0's ndcg@10: 0.30326\n",
      "[33]\tvalid_0's ndcg@1: 0.280035\tvalid_0's ndcg@3: 0.281071\tvalid_0's ndcg@5: 0.287184\tvalid_0's ndcg@10: 0.303818\n",
      "[34]\tvalid_0's ndcg@1: 0.280899\tvalid_0's ndcg@3: 0.281664\tvalid_0's ndcg@5: 0.288431\tvalid_0's ndcg@10: 0.303581\n",
      "[35]\tvalid_0's ndcg@1: 0.277442\tvalid_0's ndcg@3: 0.280998\tvalid_0's ndcg@5: 0.289127\tvalid_0's ndcg@10: 0.302784\n",
      "[36]\tvalid_0's ndcg@1: 0.280035\tvalid_0's ndcg@3: 0.282016\tvalid_0's ndcg@5: 0.289172\tvalid_0's ndcg@10: 0.304258\n",
      "[37]\tvalid_0's ndcg@1: 0.280899\tvalid_0's ndcg@3: 0.283522\tvalid_0's ndcg@5: 0.289069\tvalid_0's ndcg@10: 0.30444\n",
      "[38]\tvalid_0's ndcg@1: 0.280899\tvalid_0's ndcg@3: 0.282386\tvalid_0's ndcg@5: 0.288459\tvalid_0's ndcg@10: 0.304727\n",
      "[39]\tvalid_0's ndcg@1: 0.280035\tvalid_0's ndcg@3: 0.282412\tvalid_0's ndcg@5: 0.289134\tvalid_0's ndcg@10: 0.303167\n",
      "[40]\tvalid_0's ndcg@1: 0.280035\tvalid_0's ndcg@3: 0.280755\tvalid_0's ndcg@5: 0.287776\tvalid_0's ndcg@10: 0.303827\n",
      "[41]\tvalid_0's ndcg@1: 0.278306\tvalid_0's ndcg@3: 0.280154\tvalid_0's ndcg@5: 0.286832\tvalid_0's ndcg@10: 0.302253\n",
      "[42]\tvalid_0's ndcg@1: 0.276577\tvalid_0's ndcg@3: 0.280603\tvalid_0's ndcg@5: 0.286662\tvalid_0's ndcg@10: 0.302801\n",
      "[43]\tvalid_0's ndcg@1: 0.280035\tvalid_0's ndcg@3: 0.282888\tvalid_0's ndcg@5: 0.2883\tvalid_0's ndcg@10: 0.304699\n",
      "[44]\tvalid_0's ndcg@1: 0.278306\tvalid_0's ndcg@3: 0.282041\tvalid_0's ndcg@5: 0.287219\tvalid_0's ndcg@10: 0.30427\n",
      "[45]\tvalid_0's ndcg@1: 0.278306\tvalid_0's ndcg@3: 0.281872\tvalid_0's ndcg@5: 0.286051\tvalid_0's ndcg@10: 0.304791\n",
      "[46]\tvalid_0's ndcg@1: 0.278306\tvalid_0's ndcg@3: 0.281161\tvalid_0's ndcg@5: 0.285633\tvalid_0's ndcg@10: 0.303787\n",
      "[47]\tvalid_0's ndcg@1: 0.27917\tvalid_0's ndcg@3: 0.281486\tvalid_0's ndcg@5: 0.286881\tvalid_0's ndcg@10: 0.303741\n",
      "[48]\tvalid_0's ndcg@1: 0.277442\tvalid_0's ndcg@3: 0.280739\tvalid_0's ndcg@5: 0.287095\tvalid_0's ndcg@10: 0.303084\n",
      "[49]\tvalid_0's ndcg@1: 0.280035\tvalid_0's ndcg@3: 0.281433\tvalid_0's ndcg@5: 0.287652\tvalid_0's ndcg@10: 0.302701\n",
      "[50]\tvalid_0's ndcg@1: 0.278306\tvalid_0's ndcg@3: 0.281629\tvalid_0's ndcg@5: 0.286788\tvalid_0's ndcg@10: 0.30257\n",
      "[51]\tvalid_0's ndcg@1: 0.276577\tvalid_0's ndcg@3: 0.280369\tvalid_0's ndcg@5: 0.286426\tvalid_0's ndcg@10: 0.30314\n",
      "Early stopping, best iteration is:\n",
      "[1]\tvalid_0's ndcg@1: 0.294728\tvalid_0's ndcg@3: 0.293734\tvalid_0's ndcg@5: 0.299182\tvalid_0's ndcg@10: 0.311325\n"
     ]
    },
    {
     "data": {
      "text/plain": [
       "LGBMRanker(importance_type='gain', min_child_samples=1, min_child_weight=100,\n",
       "           n_jobs=2)"
      ]
     },
     "execution_count": 121,
     "metadata": {},
     "output_type": "execute_result"
    }
   ],
   "source": [
    "gbm.fit(X_train, y_train, group=group_train,\n",
    "        eval_set=[(X_val, y_val)], eval_group=[group_val],\n",
    "        eval_at=[1, 3, 5, 10], early_stopping_rounds=50, eval_metric='ndcg')\n",
    "#no early stopping"
   ]
  },
  {
   "cell_type": "code",
   "execution_count": 122,
   "metadata": {
    "ExecuteTime": {
     "end_time": "2020-08-12T13:05:12.800670Z",
     "start_time": "2020-08-12T13:05:12.707918Z"
    }
   },
   "outputs": [
    {
     "data": {
      "text/plain": [
       "array([ 0.00605222,  0.00605222,  0.00605222, ..., -0.02799463,\n",
       "        0.00731164, -0.02799463])"
      ]
     },
     "execution_count": 122,
     "metadata": {},
     "output_type": "execute_result"
    }
   ],
   "source": [
    "test_pred = gbm.predict(X_test)\n",
    "test_pred"
   ]
  },
  {
   "cell_type": "markdown",
   "metadata": {},
   "source": [
    "## NDCG Score"
   ]
  },
  {
   "cell_type": "code",
   "execution_count": 139,
   "metadata": {
    "ExecuteTime": {
     "end_time": "2020-08-12T13:07:24.414959Z",
     "start_time": "2020-08-12T13:07:24.409986Z"
    }
   },
   "outputs": [],
   "source": [
    "p = 0\n",
    "m = 100\n",
    "lgbm_pred_per_user = []\n",
    "for i in range(len(num_users)):\n",
    "    lgbm_pred_per_user.append(test_pred[p:m])\n",
    "    p += 100\n",
    "    m += 100"
   ]
  },
  {
   "cell_type": "markdown",
   "metadata": {},
   "source": [
    "### NDCG IFM on this data"
   ]
  },
  {
   "cell_type": "code",
   "execution_count": 140,
   "metadata": {
    "ExecuteTime": {
     "end_time": "2020-08-12T13:07:24.980377Z",
     "start_time": "2020-08-12T13:07:24.964751Z"
    }
   },
   "outputs": [
    {
     "data": {
      "text/plain": [
       "(100,)"
      ]
     },
     "execution_count": 140,
     "metadata": {},
     "output_type": "execute_result"
    }
   ],
   "source": [
    "np.array(feature7[0][609]).shape"
   ]
  },
  {
   "cell_type": "code",
   "execution_count": 141,
   "metadata": {
    "ExecuteTime": {
     "end_time": "2020-08-12T13:07:25.201881Z",
     "start_time": "2020-08-12T13:07:25.197892Z"
    }
   },
   "outputs": [
    {
     "data": {
      "text/plain": [
       "(1157, 100)"
      ]
     },
     "execution_count": 141,
     "metadata": {},
     "output_type": "execute_result"
    }
   ],
   "source": [
    "feature1.shape"
   ]
  },
  {
   "cell_type": "code",
   "execution_count": 145,
   "metadata": {
    "ExecuteTime": {
     "end_time": "2020-08-12T13:08:11.240213Z",
     "start_time": "2020-08-12T13:08:04.421256Z"
    }
   },
   "outputs": [
    {
     "name": "stderr",
     "output_type": "stream",
     "text": [
      "C:\\Users\\papad\\Anaconda3\\lib\\site-packages\\ipykernel_launcher.py:2: RuntimeWarning: invalid value encountered in double_scalars\n",
      "  \n"
     ]
    }
   ],
   "source": [
    "lgbm_NDCG = []\n",
    "IFM_NDCG = []\n",
    "#SVD_NDCG = []\n",
    "for i in range(len(num_users)):\n",
    "    excel_df = pd.DataFrame({'movie_id': target_movies[i], 'model1_score': feature1[i],\n",
    "                             'rank': feature2[i], '#users_watched': feature5[i],\n",
    "                             'new_user': feature6[i],\n",
    "                             'emedding1': feature7[0][i], 'emedding2': feature7[1][i], 'emedding3': feature7[2][i],\n",
    "                             'emedding4': feature7[3][i], 'emedding5': feature7[4][i], 'emedding6': feature7[5][i],\n",
    "                             'emedding7': feature7[6][i], 'emedding8': feature7[7][i], 'emedding9': feature7[8][i],\n",
    "                             'emedding10': feature7[9][i], 'emedding11': feature7[10][i], 'emedding12': feature7[11][i],\n",
    "                             'emedding13': feature7[12][i], 'emedding14': feature7[13][i], 'emedding15': feature7[14][i],\n",
    "                             'emedding16': feature7[15][i], 'emedding17': feature7[16][i], 'emedding18': feature7[17][i],\n",
    "                             'emedding19': feature7[18][i], 'emedding20': feature7[19][i], 'emedding21': feature7[20][i],\n",
    "                             'emedding22': feature7[21][i], 'emedding23': feature7[22][i], 'emedding24': feature7[23][i],\n",
    "                             'emedding25': feature7[24][i], 'emedding26': feature7[25][i], 'emedding27': feature7[26][i],\n",
    "                             'emedding28': feature7[27][i], 'emedding29': feature7[28][i], 'emedding30': feature7[29][i],\n",
    "                             'emedding31': feature7[30][i], 'emedding32': feature7[31][i],\n",
    "                             'train_label': label_train[i], 'test_label': label_test[i],\n",
    "                             'y_val': label_val[i], 'LGBM Score': lgbm_pred_per_user[i]})\n",
    "    excel_df = excel_df.sort_values('LGBM Score', ascending=False)\n",
    "    relevance_lgbm_user = excel_df['test_label'].values.tolist()\n",
    "    lgbm_NDCG.append(NDCG_forUser(relevance_lgbm_user))\n",
    "    excel_df = excel_df.sort_values('model1_score', ascending=False)\n",
    "    ifm_relevance = excel_df['test_label'].values.tolist()\n",
    "    IFM_NDCG.append(NDCG_forUser(ifm_relevance))\n",
    "    #excel_df = excel_df.sort_values('model2_score', ascending=False)\n",
    "    #svd_relevance_h = excel_df['test_label'].values.tolist()\n",
    "    #SVD_NDCG.append(NDCG_forUser(svd_relevance_h))"
   ]
  },
  {
   "cell_type": "code",
   "execution_count": 146,
   "metadata": {
    "ExecuteTime": {
     "end_time": "2020-08-12T13:08:11.247472Z",
     "start_time": "2020-08-12T13:08:11.242264Z"
    }
   },
   "outputs": [],
   "source": [
    "lgbm_NDCG = pd.Series(lgbm_NDCG).fillna(0).tolist()\n",
    "IFM_NDCG = pd.Series(IFM_NDCG).fillna(0).tolist()\n",
    "#SVD_NDCG = pd.Series(SVD_NDCG).fillna(0).tolist()"
   ]
  },
  {
   "cell_type": "markdown",
   "metadata": {},
   "source": [
    "## Excel-Like"
   ]
  },
  {
   "cell_type": "code",
   "execution_count": null,
   "metadata": {
    "ExecuteTime": {
     "end_time": "2020-08-12T10:28:46.249996Z",
     "start_time": "2020-08-12T10:24:57.007Z"
    }
   },
   "outputs": [],
   "source": [
    "excel1_df = pd.DataFrame({'movie_id': target_movies[0],'model1_score':feature1[0], 'model2_score':feature3[0],'is_comedy':feature4[0],\n",
    "                            '#users_watched':feature5[0], 'train_label':label_train[0], 'test_label':label_test[0],\n",
    "                            'label_val':label_val[0],'LGBM Score':lgbm_pred_per_user[0]})"
   ]
  },
  {
   "cell_type": "code",
   "execution_count": null,
   "metadata": {
    "ExecuteTime": {
     "end_time": "2020-08-12T10:28:46.251994Z",
     "start_time": "2020-08-12T10:24:57.012Z"
    }
   },
   "outputs": [],
   "source": [
    "excel1_df.head(10)"
   ]
  },
  {
   "cell_type": "code",
   "execution_count": null,
   "metadata": {
    "ExecuteTime": {
     "end_time": "2020-08-12T10:28:46.253986Z",
     "start_time": "2020-08-12T10:24:57.016Z"
    }
   },
   "outputs": [],
   "source": [
    "excel1_df = excel1_df.sort_values('LGBM Score',ascending = False)\n",
    "excel1_df.head(10)"
   ]
  },
  {
   "cell_type": "code",
   "execution_count": null,
   "metadata": {
    "ExecuteTime": {
     "end_time": "2020-08-12T10:28:46.256982Z",
     "start_time": "2020-08-12T10:24:57.020Z"
    }
   },
   "outputs": [],
   "source": [
    "relevance_lgbm_firstUser = excel1_df['test_label'].values.tolist()"
   ]
  },
  {
   "cell_type": "code",
   "execution_count": null,
   "metadata": {
    "ExecuteTime": {
     "end_time": "2020-08-12T10:28:46.258972Z",
     "start_time": "2020-08-12T10:24:57.024Z"
    }
   },
   "outputs": [],
   "source": [
    "L1GBM_ndcg = NDCG_forUser(relevance_lgbm_firstUser)\n",
    "L1GBM_ndcg"
   ]
  },
  {
   "cell_type": "markdown",
   "metadata": {},
   "source": [
    "## NDCG Comparison"
   ]
  },
  {
   "cell_type": "code",
   "execution_count": 147,
   "metadata": {
    "ExecuteTime": {
     "end_time": "2020-08-12T13:08:18.059505Z",
     "start_time": "2020-08-12T13:08:18.054568Z"
    }
   },
   "outputs": [
    {
     "data": {
      "text/plain": [
       "0.0"
      ]
     },
     "execution_count": 147,
     "metadata": {},
     "output_type": "execute_result"
    }
   ],
   "source": [
    "allUsers_implicit_ndcg[0]"
   ]
  },
  {
   "cell_type": "code",
   "execution_count": 148,
   "metadata": {
    "ExecuteTime": {
     "end_time": "2020-08-12T13:08:18.607565Z",
     "start_time": "2020-08-12T13:08:18.602580Z"
    }
   },
   "outputs": [],
   "source": [
    "ndcg_df = pd.DataFrame({'Implicit FM': allUsers_implicit_ndcg, 'LightGBM': lgbm_NDCG, 'IFM_this': IFM_NDCG})"
   ]
  },
  {
   "cell_type": "code",
   "execution_count": 149,
   "metadata": {
    "ExecuteTime": {
     "end_time": "2020-08-12T13:08:19.576437Z",
     "start_time": "2020-08-12T13:08:19.568432Z"
    }
   },
   "outputs": [
    {
     "data": {
      "text/html": [
       "<div>\n",
       "<style scoped>\n",
       "    .dataframe tbody tr th:only-of-type {\n",
       "        vertical-align: middle;\n",
       "    }\n",
       "\n",
       "    .dataframe tbody tr th {\n",
       "        vertical-align: top;\n",
       "    }\n",
       "\n",
       "    .dataframe thead th {\n",
       "        text-align: right;\n",
       "    }\n",
       "</style>\n",
       "<table border=\"1\" class=\"dataframe\">\n",
       "  <thead>\n",
       "    <tr style=\"text-align: right;\">\n",
       "      <th></th>\n",
       "      <th>Implicit FM</th>\n",
       "      <th>LightGBM</th>\n",
       "      <th>IFM_this</th>\n",
       "    </tr>\n",
       "  </thead>\n",
       "  <tbody>\n",
       "    <tr>\n",
       "      <th>0</th>\n",
       "      <td>0.000000</td>\n",
       "      <td>0.000000</td>\n",
       "      <td>0.000000</td>\n",
       "    </tr>\n",
       "    <tr>\n",
       "      <th>1</th>\n",
       "      <td>0.386853</td>\n",
       "      <td>0.255958</td>\n",
       "      <td>1.000000</td>\n",
       "    </tr>\n",
       "    <tr>\n",
       "      <th>2</th>\n",
       "      <td>0.000000</td>\n",
       "      <td>0.320261</td>\n",
       "      <td>0.401471</td>\n",
       "    </tr>\n",
       "    <tr>\n",
       "      <th>3</th>\n",
       "      <td>0.000000</td>\n",
       "      <td>0.000000</td>\n",
       "      <td>0.000000</td>\n",
       "    </tr>\n",
       "    <tr>\n",
       "      <th>4</th>\n",
       "      <td>0.000000</td>\n",
       "      <td>0.386853</td>\n",
       "      <td>0.278943</td>\n",
       "    </tr>\n",
       "    <tr>\n",
       "      <th>...</th>\n",
       "      <td>...</td>\n",
       "      <td>...</td>\n",
       "      <td>...</td>\n",
       "    </tr>\n",
       "    <tr>\n",
       "      <th>1152</th>\n",
       "      <td>0.159099</td>\n",
       "      <td>0.000000</td>\n",
       "      <td>0.000000</td>\n",
       "    </tr>\n",
       "    <tr>\n",
       "      <th>1153</th>\n",
       "      <td>0.000000</td>\n",
       "      <td>0.185449</td>\n",
       "      <td>0.175425</td>\n",
       "    </tr>\n",
       "    <tr>\n",
       "      <th>1154</th>\n",
       "      <td>0.257222</td>\n",
       "      <td>0.000000</td>\n",
       "      <td>0.000000</td>\n",
       "    </tr>\n",
       "    <tr>\n",
       "      <th>1155</th>\n",
       "      <td>0.000000</td>\n",
       "      <td>0.183169</td>\n",
       "      <td>0.315465</td>\n",
       "    </tr>\n",
       "    <tr>\n",
       "      <th>1156</th>\n",
       "      <td>0.336790</td>\n",
       "      <td>0.244651</td>\n",
       "      <td>0.386853</td>\n",
       "    </tr>\n",
       "  </tbody>\n",
       "</table>\n",
       "<p>1157 rows × 3 columns</p>\n",
       "</div>"
      ],
      "text/plain": [
       "      Implicit FM  LightGBM  IFM_this\n",
       "0        0.000000  0.000000  0.000000\n",
       "1        0.386853  0.255958  1.000000\n",
       "2        0.000000  0.320261  0.401471\n",
       "3        0.000000  0.000000  0.000000\n",
       "4        0.000000  0.386853  0.278943\n",
       "...           ...       ...       ...\n",
       "1152     0.159099  0.000000  0.000000\n",
       "1153     0.000000  0.185449  0.175425\n",
       "1154     0.257222  0.000000  0.000000\n",
       "1155     0.000000  0.183169  0.315465\n",
       "1156     0.336790  0.244651  0.386853\n",
       "\n",
       "[1157 rows x 3 columns]"
      ]
     },
     "execution_count": 149,
     "metadata": {},
     "output_type": "execute_result"
    }
   ],
   "source": [
    "ndcg_df"
   ]
  },
  {
   "cell_type": "code",
   "execution_count": 150,
   "metadata": {
    "ExecuteTime": {
     "end_time": "2020-08-12T13:08:20.941459Z",
     "start_time": "2020-08-12T13:08:20.935443Z"
    }
   },
   "outputs": [
    {
     "data": {
      "text/plain": [
       "0.15528082612401134"
      ]
     },
     "execution_count": 150,
     "metadata": {},
     "output_type": "execute_result"
    }
   ],
   "source": [
    "ndcg_df['Implicit FM'].mean()"
   ]
  },
  {
   "cell_type": "code",
   "execution_count": 151,
   "metadata": {
    "ExecuteTime": {
     "end_time": "2020-08-12T13:08:22.554614Z",
     "start_time": "2020-08-12T13:08:22.550663Z"
    }
   },
   "outputs": [
    {
     "data": {
      "text/plain": [
       "0.2477566272389939"
      ]
     },
     "execution_count": 151,
     "metadata": {},
     "output_type": "execute_result"
    }
   ],
   "source": [
    "lgbm_mean = ndcg_df['LightGBM'].mean()\n",
    "lgbm_mean"
   ]
  },
  {
   "cell_type": "code",
   "execution_count": 152,
   "metadata": {
    "ExecuteTime": {
     "end_time": "2020-08-12T13:08:23.137800Z",
     "start_time": "2020-08-12T13:08:23.132829Z"
    }
   },
   "outputs": [
    {
     "data": {
      "text/plain": [
       "0.27932911769327834"
      ]
     },
     "execution_count": 152,
     "metadata": {},
     "output_type": "execute_result"
    }
   ],
   "source": [
    "ifm_mean = ndcg_df['IFM_this'].mean()\n",
    "ifm_mean"
   ]
  },
  {
   "cell_type": "code",
   "execution_count": 153,
   "metadata": {
    "ExecuteTime": {
     "end_time": "2020-08-12T13:08:34.925239Z",
     "start_time": "2020-08-12T13:08:34.923214Z"
    }
   },
   "outputs": [],
   "source": [
    "#svd_mean = ndcg_df['SVD_this'].mean()\n",
    "#svd_mean"
   ]
  },
  {
   "cell_type": "markdown",
   "metadata": {},
   "source": [
    "## Visualization"
   ]
  },
  {
   "cell_type": "code",
   "execution_count": null,
   "metadata": {},
   "outputs": [],
   "source": []
  },
  {
   "cell_type": "code",
   "execution_count": null,
   "metadata": {},
   "outputs": [],
   "source": []
  },
  {
   "cell_type": "code",
   "execution_count": null,
   "metadata": {},
   "outputs": [],
   "source": []
  },
  {
   "cell_type": "code",
   "execution_count": null,
   "metadata": {},
   "outputs": [],
   "source": []
  },
  {
   "cell_type": "code",
   "execution_count": null,
   "metadata": {},
   "outputs": [],
   "source": []
  },
  {
   "cell_type": "code",
   "execution_count": null,
   "metadata": {},
   "outputs": [],
   "source": []
  },
  {
   "cell_type": "code",
   "execution_count": null,
   "metadata": {},
   "outputs": [],
   "source": []
  },
  {
   "cell_type": "code",
   "execution_count": null,
   "metadata": {},
   "outputs": [],
   "source": []
  },
  {
   "cell_type": "code",
   "execution_count": null,
   "metadata": {},
   "outputs": [],
   "source": []
  },
  {
   "cell_type": "code",
   "execution_count": null,
   "metadata": {},
   "outputs": [],
   "source": []
  },
  {
   "cell_type": "code",
   "execution_count": null,
   "metadata": {},
   "outputs": [],
   "source": []
  },
  {
   "cell_type": "code",
   "execution_count": null,
   "metadata": {},
   "outputs": [],
   "source": []
  },
  {
   "cell_type": "code",
   "execution_count": null,
   "metadata": {},
   "outputs": [],
   "source": []
  },
  {
   "cell_type": "code",
   "execution_count": null,
   "metadata": {},
   "outputs": [],
   "source": []
  },
  {
   "cell_type": "code",
   "execution_count": null,
   "metadata": {},
   "outputs": [],
   "source": []
  },
  {
   "cell_type": "code",
   "execution_count": null,
   "metadata": {},
   "outputs": [],
   "source": []
  },
  {
   "cell_type": "code",
   "execution_count": null,
   "metadata": {},
   "outputs": [],
   "source": []
  },
  {
   "cell_type": "code",
   "execution_count": null,
   "metadata": {},
   "outputs": [],
   "source": []
  }
 ],
 "metadata": {
  "kernelspec": {
   "display_name": "Python 3",
   "language": "python",
   "name": "python3"
  },
  "language_info": {
   "codemirror_mode": {
    "name": "ipython",
    "version": 3
   },
   "file_extension": ".py",
   "mimetype": "text/x-python",
   "name": "python",
   "nbconvert_exporter": "python",
   "pygments_lexer": "ipython3",
   "version": "3.7.7"
  },
  "toc": {
   "base_numbering": 1,
   "nav_menu": {},
   "number_sections": true,
   "sideBar": true,
   "skip_h1_title": false,
   "title_cell": "Table of Contents",
   "title_sidebar": "Contents",
   "toc_cell": false,
   "toc_position": {
    "height": "calc(100% - 180px)",
    "left": "10px",
    "top": "150px",
    "width": "307.2px"
   },
   "toc_section_display": true,
   "toc_window_display": true
  },
  "varInspector": {
   "cols": {
    "lenName": 16,
    "lenType": 16,
    "lenVar": 40
   },
   "kernels_config": {
    "python": {
     "delete_cmd_postfix": "",
     "delete_cmd_prefix": "del ",
     "library": "var_list.py",
     "varRefreshCmd": "print(var_dic_list())"
    },
    "r": {
     "delete_cmd_postfix": ") ",
     "delete_cmd_prefix": "rm(",
     "library": "var_list.r",
     "varRefreshCmd": "cat(var_dic_list()) "
    }
   },
   "types_to_exclude": [
    "module",
    "function",
    "builtin_function_or_method",
    "instance",
    "_Feature"
   ],
   "window_display": false
  }
 },
 "nbformat": 4,
 "nbformat_minor": 4
}
