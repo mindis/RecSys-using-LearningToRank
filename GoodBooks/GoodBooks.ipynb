{
 "cells": [
  {
   "cell_type": "code",
   "execution_count": 1,
   "metadata": {
    "ExecuteTime": {
     "end_time": "2020-08-14T08:08:30.582432Z",
     "start_time": "2020-08-14T08:08:26.905450Z"
    }
   },
   "outputs": [],
   "source": [
    "import pandas as pd\n",
    "import numpy as np\n",
    "import matplotlib.pyplot as plt\n",
    "from spotlight.factorization.implicit import ImplicitFactorizationModel\n",
    "from spotlight.interactions import Interactions\n",
    "from spotlight.cross_validation import random_train_test_split"
   ]
  },
  {
   "cell_type": "code",
   "execution_count": 63,
   "metadata": {
    "ExecuteTime": {
     "end_time": "2020-08-14T08:51:25.207225Z",
     "start_time": "2020-08-14T08:51:20.682091Z"
    }
   },
   "outputs": [],
   "source": [
    "ratings_df = pd.read_csv('C:/Users/papad/Desktop/goodbooks-10k-master/goodbooks-10k-master/ratings.csv')\n",
    "books_df = pd.read_csv('C:/Users/papad/Desktop/goodbooks-10k-master/goodbooks-10k-master/books.csv')\n",
    "to_read_df = pd.read_csv('C:/Users/papad/Desktop/goodbooks-10k-master/goodbooks-10k-master/to_read.csv')\n",
    "book_tags_df = pd.read_csv('C:/Users/papad/Desktop/goodbooks-10k-master/goodbooks-10k-master/book_tags.csv')\n",
    "tags_df = pd.read_csv('C:/Users/papad/Desktop/goodbooks-10k-master/goodbooks-10k-master/tags.csv')"
   ]
  },
  {
   "cell_type": "markdown",
   "metadata": {},
   "source": [
    "# Dataset"
   ]
  },
  {
   "cell_type": "code",
   "execution_count": 3,
   "metadata": {
    "ExecuteTime": {
     "end_time": "2020-08-14T08:08:35.024816Z",
     "start_time": "2020-08-14T08:08:35.014406Z"
    },
    "cell_style": "center"
   },
   "outputs": [],
   "source": [
    "percentage = 1\n",
    "ratings_df = ratings_df.head(int(len(ratings_df)*(percentage/100)))"
   ]
  },
  {
   "cell_type": "code",
   "execution_count": 4,
   "metadata": {
    "ExecuteTime": {
     "end_time": "2020-08-14T08:08:35.066236Z",
     "start_time": "2020-08-14T08:08:35.030125Z"
    },
    "cell_style": "center"
   },
   "outputs": [
    {
     "data": {
      "text/html": [
       "<div>\n",
       "<style scoped>\n",
       "    .dataframe tbody tr th:only-of-type {\n",
       "        vertical-align: middle;\n",
       "    }\n",
       "\n",
       "    .dataframe tbody tr th {\n",
       "        vertical-align: top;\n",
       "    }\n",
       "\n",
       "    .dataframe thead th {\n",
       "        text-align: right;\n",
       "    }\n",
       "</style>\n",
       "<table border=\"1\" class=\"dataframe\">\n",
       "  <thead>\n",
       "    <tr style=\"text-align: right;\">\n",
       "      <th></th>\n",
       "      <th>book_id</th>\n",
       "      <th>goodreads_book_id</th>\n",
       "      <th>best_book_id</th>\n",
       "      <th>work_id</th>\n",
       "      <th>books_count</th>\n",
       "      <th>isbn</th>\n",
       "      <th>isbn13</th>\n",
       "      <th>authors</th>\n",
       "      <th>original_publication_year</th>\n",
       "      <th>original_title</th>\n",
       "      <th>...</th>\n",
       "      <th>ratings_count</th>\n",
       "      <th>work_ratings_count</th>\n",
       "      <th>work_text_reviews_count</th>\n",
       "      <th>ratings_1</th>\n",
       "      <th>ratings_2</th>\n",
       "      <th>ratings_3</th>\n",
       "      <th>ratings_4</th>\n",
       "      <th>ratings_5</th>\n",
       "      <th>image_url</th>\n",
       "      <th>small_image_url</th>\n",
       "    </tr>\n",
       "  </thead>\n",
       "  <tbody>\n",
       "    <tr>\n",
       "      <th>9438</th>\n",
       "      <td>9439</td>\n",
       "      <td>35539</td>\n",
       "      <td>35539</td>\n",
       "      <td>1654509</td>\n",
       "      <td>17</td>\n",
       "      <td>316013315</td>\n",
       "      <td>9.780316e+12</td>\n",
       "      <td>Bob Spitz</td>\n",
       "      <td>2005.0</td>\n",
       "      <td>The Beatles: The Biography</td>\n",
       "      <td>...</td>\n",
       "      <td>8120</td>\n",
       "      <td>8464</td>\n",
       "      <td>390</td>\n",
       "      <td>205</td>\n",
       "      <td>314</td>\n",
       "      <td>1270</td>\n",
       "      <td>3020</td>\n",
       "      <td>3655</td>\n",
       "      <td>https://images.gr-assets.com/books/1327951066m...</td>\n",
       "      <td>https://images.gr-assets.com/books/1327951066s...</td>\n",
       "    </tr>\n",
       "  </tbody>\n",
       "</table>\n",
       "<p>1 rows × 23 columns</p>\n",
       "</div>"
      ],
      "text/plain": [
       "      book_id  goodreads_book_id  best_book_id  work_id  books_count  \\\n",
       "9438     9439              35539         35539  1654509           17   \n",
       "\n",
       "           isbn        isbn13    authors  original_publication_year  \\\n",
       "9438  316013315  9.780316e+12  Bob Spitz                     2005.0   \n",
       "\n",
       "                  original_title  ... ratings_count work_ratings_count  \\\n",
       "9438  The Beatles: The Biography  ...          8120               8464   \n",
       "\n",
       "      work_text_reviews_count  ratings_1  ratings_2  ratings_3  ratings_4  \\\n",
       "9438                      390        205        314       1270       3020   \n",
       "\n",
       "      ratings_5                                          image_url  \\\n",
       "9438       3655  https://images.gr-assets.com/books/1327951066m...   \n",
       "\n",
       "                                        small_image_url  \n",
       "9438  https://images.gr-assets.com/books/1327951066s...  \n",
       "\n",
       "[1 rows x 23 columns]"
      ]
     },
     "execution_count": 4,
     "metadata": {},
     "output_type": "execute_result"
    }
   ],
   "source": [
    "books_df[books_df['book_id']==9439]"
   ]
  },
  {
   "cell_type": "code",
   "execution_count": 65,
   "metadata": {
    "ExecuteTime": {
     "end_time": "2020-08-14T08:51:49.935534Z",
     "start_time": "2020-08-14T08:51:49.921214Z"
    }
   },
   "outputs": [
    {
     "data": {
      "text/html": [
       "<div>\n",
       "<style scoped>\n",
       "    .dataframe tbody tr th:only-of-type {\n",
       "        vertical-align: middle;\n",
       "    }\n",
       "\n",
       "    .dataframe tbody tr th {\n",
       "        vertical-align: top;\n",
       "    }\n",
       "\n",
       "    .dataframe thead th {\n",
       "        text-align: right;\n",
       "    }\n",
       "</style>\n",
       "<table border=\"1\" class=\"dataframe\">\n",
       "  <thead>\n",
       "    <tr style=\"text-align: right;\">\n",
       "      <th></th>\n",
       "      <th>user_id</th>\n",
       "      <th>book_id</th>\n",
       "      <th>rating</th>\n",
       "    </tr>\n",
       "  </thead>\n",
       "  <tbody>\n",
       "    <tr>\n",
       "      <th>0</th>\n",
       "      <td>1</td>\n",
       "      <td>258</td>\n",
       "      <td>5</td>\n",
       "    </tr>\n",
       "    <tr>\n",
       "      <th>1</th>\n",
       "      <td>2</td>\n",
       "      <td>4081</td>\n",
       "      <td>4</td>\n",
       "    </tr>\n",
       "    <tr>\n",
       "      <th>2</th>\n",
       "      <td>2</td>\n",
       "      <td>260</td>\n",
       "      <td>5</td>\n",
       "    </tr>\n",
       "    <tr>\n",
       "      <th>3</th>\n",
       "      <td>2</td>\n",
       "      <td>9296</td>\n",
       "      <td>5</td>\n",
       "    </tr>\n",
       "    <tr>\n",
       "      <th>4</th>\n",
       "      <td>2</td>\n",
       "      <td>2318</td>\n",
       "      <td>3</td>\n",
       "    </tr>\n",
       "  </tbody>\n",
       "</table>\n",
       "</div>"
      ],
      "text/plain": [
       "   user_id  book_id  rating\n",
       "0        1      258       5\n",
       "1        2     4081       4\n",
       "2        2      260       5\n",
       "3        2     9296       5\n",
       "4        2     2318       3"
      ]
     },
     "execution_count": 65,
     "metadata": {},
     "output_type": "execute_result"
    }
   ],
   "source": [
    "ratings_df.head()"
   ]
  },
  {
   "cell_type": "code",
   "execution_count": 66,
   "metadata": {
    "ExecuteTime": {
     "end_time": "2020-08-14T08:51:50.311493Z",
     "start_time": "2020-08-14T08:51:50.149891Z"
    },
    "scrolled": true
   },
   "outputs": [
    {
     "name": "stdout",
     "output_type": "stream",
     "text": [
      "53424\n",
      "10000\n"
     ]
    }
   ],
   "source": [
    "num_users = ratings_df['user_id'].unique()\n",
    "print(len(num_users))\n",
    "num_items = ratings_df['book_id'].unique()\n",
    "print(len(num_items))"
   ]
  },
  {
   "cell_type": "markdown",
   "metadata": {},
   "source": [
    "# Spotlight"
   ]
  },
  {
   "cell_type": "markdown",
   "metadata": {},
   "source": [
    "Spotlight users and items ids should be consecutive. For that purpose in the cell below, the defaultdict function from the collections library is used to provide, the uid_map and iid_map. These variables contain consecutive numbers equal to the number of users and items respectively. These are necessary to create the interaction objects, which are the fundamental objects of the Spotlight platform, and are required in order to build a Spotlight recommender. \n",
    "\n",
    "Then I keep the reveresed mapped user and item ids, to take the real predicted item ids when i finish the process with the Spotlight model."
   ]
  },
  {
   "cell_type": "code",
   "execution_count": 7,
   "metadata": {
    "ExecuteTime": {
     "end_time": "2020-08-14T08:08:35.192094Z",
     "start_time": "2020-08-14T08:08:35.112731Z"
    }
   },
   "outputs": [
    {
     "name": "stdout",
     "output_type": "stream",
     "text": [
      "userId 556 got uid 1157\n",
      "movieId 54001 got iid 4477\n"
     ]
    }
   ],
   "source": [
    "from collections import defaultdict\n",
    "from itertools import count\n",
    "uid_map = defaultdict(count().__next__)\n",
    "iid_map = defaultdict(count().__next__)\n",
    "uids = np.array([uid_map[uid] for uid in ratings_df[\"user_id\"].values ], dtype=np.int32)\n",
    "iids = np.array([iid_map[iid] for iid in ratings_df[\"book_id\"].values ], dtype=np.int32)\n",
    "\n",
    "uid_rev_map = {v: k for k, v in uid_map.items()}\n",
    "iid_rev_map = {v: k for k, v in iid_map.items()}\n",
    "\n",
    "\n",
    "print(\"userId %d got uid %d\" % (556, uid_map[556]))\n",
    "print(\"movieId %d got iid %d\" % (54001, iid_map[54001]))"
   ]
  },
  {
   "cell_type": "markdown",
   "metadata": {},
   "source": [
    "Interactions refer, to the user-item interactions. Each interaction contains a user-item pair interaction, and it can be added a timestamp, and for explicit models, a rating.\n",
    "\n",
    "After creating the Interactions object I split the data using the random_train_test_split function from the Spotlight library. I firstly split my dataset into train set, test set, validation set. \n",
    "Having in mind that a lightGBM that combines the knowledge extracted from a few baseline models, I split the training set into features and label sets, to use them to formulate the data in order to train the lightGBM model later."
   ]
  },
  {
   "cell_type": "code",
   "execution_count": 8,
   "metadata": {
    "ExecuteTime": {
     "end_time": "2020-08-14T08:08:35.219863Z",
     "start_time": "2020-08-14T08:08:35.197373Z"
    }
   },
   "outputs": [],
   "source": [
    "from spotlight.interactions import Interactions\n",
    "from spotlight.cross_validation import random_train_test_split\n",
    "from spotlight.factorization.implicit import ImplicitFactorizationModel\n",
    "import time  \n",
    "\n",
    "\n",
    "#pecify the ids of the users and items for all the pairs of user-item interactions\n",
    "implicit_interaction = Interactions(user_ids=uids,\n",
    "                                   item_ids=iids)\n",
    "\n",
    "\n",
    "#lets initialise the seed, so that its repeatable and reproducible \n",
    "implicit_train_tmp, implicit_test = random_train_test_split(implicit_interaction, random_state=np.random.seed(42))\n",
    "implicit_train, implicit_val = random_train_test_split(implicit_train_tmp, random_state=np.random.seed(42))\n",
    "implicit_train_features, implicit_train_labels = random_train_test_split(implicit_train, random_state=np.random.seed(42))"
   ]
  },
  {
   "cell_type": "code",
   "execution_count": 9,
   "metadata": {
    "ExecuteTime": {
     "end_time": "2020-08-14T08:08:35.242596Z",
     "start_time": "2020-08-14T08:08:35.224619Z"
    }
   },
   "outputs": [
    {
     "name": "stdout",
     "output_type": "stream",
     "text": [
      "<Interactions dataset (1157 users x 4477 items x 38248 interactions)>\n",
      "<Interactions dataset (1157 users x 4477 items x 11953 interactions)>\n",
      "<Interactions dataset (1157 users x 4477 items x 9563 interactions)>\n",
      "<Interactions dataset (1157 users x 4477 items x 30598 interactions)>\n",
      "<Interactions dataset (1157 users x 4477 items x 7650 interactions)>\n"
     ]
    }
   ],
   "source": [
    "print(implicit_train)\n",
    "print(implicit_test)\n",
    "print(implicit_val)\n",
    "print(implicit_train_features)\n",
    "print(implicit_train_labels)"
   ]
  },
  {
   "cell_type": "markdown",
   "metadata": {},
   "source": [
    "Apart from a Spotlight model, an SVD model is trained, so the conversion of the Interaction objects to dataframes is thought as necessary, as the same data should be used for all the model, to provide fair comparisons."
   ]
  },
  {
   "cell_type": "code",
   "execution_count": 10,
   "metadata": {
    "ExecuteTime": {
     "end_time": "2020-08-14T08:08:35.254902Z",
     "start_time": "2020-08-14T08:08:35.245705Z"
    }
   },
   "outputs": [],
   "source": [
    "def interactionToDataFrame(dataset):\n",
    "    converted_users = []\n",
    "    converted_books = []\n",
    "    rating = []\n",
    "    for i in range(len(dataset.user_ids)):\n",
    "        converted_users.append(uid_rev_map[dataset.user_ids[i]])\n",
    "        converted_books.append(iid_rev_map[dataset.item_ids[i]])\n",
    "        rating.append(float(ratings_df['rating'][(ratings_df['book_id'] == converted_books[i]) & (\n",
    "            ratings_df['user_id'] == converted_users[i])].values))\n",
    "    df = pd.DataFrame({'user_id': converted_users,\n",
    "                       'book_id': converted_books, 'rating': rating})\n",
    "    return df"
   ]
  },
  {
   "cell_type": "code",
   "execution_count": 12,
   "metadata": {
    "ExecuteTime": {
     "end_time": "2020-08-14T08:12:49.977000Z",
     "start_time": "2020-08-14T08:08:56.982550Z"
    }
   },
   "outputs": [],
   "source": [
    "train_df = interactionToDataFrame(implicit_train)\n",
    "val_df = interactionToDataFrame(implicit_val)\n",
    "test_df = interactionToDataFrame(implicit_test)\n",
    "train_features_df = interactionToDataFrame(implicit_train_features)\n",
    "train_labels_df = interactionToDataFrame(implicit_train_labels)"
   ]
  },
  {
   "cell_type": "markdown",
   "metadata": {},
   "source": [
    "## Implicit Factorization model"
   ]
  },
  {
   "cell_type": "markdown",
   "metadata": {},
   "source": [
    "The model form the Spotlight, that is used is the Implicit Factorization model. This is a model used to address implicit feedback from the users. To make it clear, the implicit feedback in a movie platform could be the movie that a user watched but did not gave a rating. Given, that he/ she watched some movies, knowledge can be extracted about his/her preferences, without having ratings."
   ]
  },
  {
   "cell_type": "code",
   "execution_count": 67,
   "metadata": {
    "ExecuteTime": {
     "end_time": "2020-08-14T09:04:41.676498Z",
     "start_time": "2020-08-14T09:04:19.447057Z"
    }
   },
   "outputs": [
    {
     "name": "stdout",
     "output_type": "stream",
     "text": [
      "Epoch 0: loss 0.8815360089143117\n",
      "Epoch 1: loss 0.519373015165329\n",
      "Epoch 2: loss 0.4345216010014216\n",
      "Epoch 3: loss 0.3803341750303904\n",
      "Epoch 4: loss 0.334525239666303\n",
      "Training took 22 second\n"
     ]
    }
   ],
   "source": [
    "implicit_model = ImplicitFactorizationModel(n_iter=5)\n",
    "\n",
    "current = time.time()\n",
    "\n",
    "implicit_model.fit(implicit_train, verbose=True)\n",
    "\n",
    "end = time.time()\n",
    "diff = end - current\n",
    "print('Training took %d second' % (diff))"
   ]
  },
  {
   "cell_type": "markdown",
   "metadata": {},
   "source": [
    "### Top - K"
   ]
  },
  {
   "cell_type": "markdown",
   "metadata": {},
   "source": [
    "The idea is to provide the top-K(100) recommendations for each user and then evaluate the results using the NDCG evaluation metric. \n",
    "\n",
    "For this purpose on the cell below, the topK recommendations for a user are calculated.\n",
    "\n",
    "The function below, topK_implicit, has been introduced on the lab of the course Recommender Systems."
   ]
  },
  {
   "cell_type": "code",
   "execution_count": 14,
   "metadata": {
    "ExecuteTime": {
     "end_time": "2020-08-14T08:13:16.266296Z",
     "start_time": "2020-08-14T08:13:16.239832Z"
    },
    "cell_style": "split"
   },
   "outputs": [
    {
     "name": "stdout",
     "output_type": "stream",
     "text": [
      "[258, 26, 33, 264, 18, 27, 21, 2, 23, 24, 255, 35, 287, 58, 111, 5, 8, 65, 45, 113, 476, 14, 55, 36, 13, 268, 867, 32, 28, 42, 249, 184, 495, 11, 426, 101, 344, 372, 122, 212, 9, 60, 238, 181, 119, 213, 587, 407, 10, 94, 516, 233, 115, 4, 230, 483, 2339, 304, 100, 92, 71, 1144, 557, 131, 662, 378, 323, 653, 78, 150, 114, 132, 22, 7, 162, 121, 436, 63, 2051, 672, 43, 57, 189, 160, 138, 29, 248, 118, 178, 354, 38, 335, 225, 37, 1005, 763, 430, 25, 104, 2914]\n"
     ]
    }
   ],
   "source": [
    "import scipy.stats as st\n",
    "k = 100\n",
    "def topK_implicit(user, model, k=100):\n",
    "  a= list()\n",
    "  ranks = st.rankdata(-model.predict(user))   \n",
    "  for iid in np.argwhere(ranks <= k):\n",
    "    a.append(iid_rev_map[iid.item(0)])\n",
    "  return a\n",
    "\n",
    "rec_forUser = topK_implicit(0,implicit_model)\n",
    "print(rec_forUser)"
   ]
  },
  {
   "cell_type": "markdown",
   "metadata": {},
   "source": [
    "The topK recommendations for all users are needed, so the function below returns the topK recommendations for all the users, taking advantage of the function above."
   ]
  },
  {
   "cell_type": "code",
   "execution_count": 15,
   "metadata": {
    "ExecuteTime": {
     "end_time": "2020-08-14T08:13:16.309834Z",
     "start_time": "2020-08-14T08:13:16.271387Z"
    },
    "cell_style": "split"
   },
   "outputs": [],
   "source": [
    "def allUsers_topK_implicit(model):\n",
    "    a = []\n",
    "    for i in range(len(num_users)):\n",
    "       a.append(topK_implicit(i,model))\n",
    "    return a"
   ]
  },
  {
   "cell_type": "markdown",
   "metadata": {},
   "source": [
    "### NDCG Score"
   ]
  },
  {
   "cell_type": "code",
   "execution_count": 16,
   "metadata": {
    "ExecuteTime": {
     "end_time": "2020-08-14T08:13:19.946524Z",
     "start_time": "2020-08-14T08:13:16.315868Z"
    }
   },
   "outputs": [],
   "source": [
    "allUsers_topK_imp = allUsers_topK_implicit(implicit_model)"
   ]
  },
  {
   "cell_type": "markdown",
   "metadata": {},
   "source": [
    "To provide the NDCG value it is necessary to compute the relevance for each user. The relevance containes 0s and 1s, based on which of the topK recommended movies the user has actually watched. For every recommended movie that the user has actually watched, the value of 1 is assigned. \n",
    "\n",
    "The function below returns a list that contains a relevance list for each user."
   ]
  },
  {
   "cell_type": "code",
   "execution_count": 17,
   "metadata": {
    "ExecuteTime": {
     "end_time": "2020-08-14T08:13:19.975722Z",
     "start_time": "2020-08-14T08:13:19.950968Z"
    }
   },
   "outputs": [],
   "source": [
    "def relevance_spotlight_implicit(allUsers_topK):\n",
    "    relevance_implicit_full = []\n",
    "    helper = []\n",
    "    count = 0\n",
    "    for i in range(1,len(num_users)+1):\n",
    "        for j in range(len(allUsers_topK[count])):\n",
    "            if allUsers_topK[count][j] in test_df['book_id'][test_df['user_id'] == i].values.tolist():\n",
    "                helper.append(1)\n",
    "            else:\n",
    "                helper.append(0)\n",
    "        relevance_implicit_full.append(helper)\n",
    "        helper = []\n",
    "        count += 1\n",
    "    return relevance_implicit_full"
   ]
  },
  {
   "cell_type": "markdown",
   "metadata": {},
   "source": [
    "The relevance_implicit_full variable contains the relevance list of each user for the implicit factorization model results."
   ]
  },
  {
   "cell_type": "code",
   "execution_count": 18,
   "metadata": {
    "ExecuteTime": {
     "end_time": "2020-08-14T08:15:48.459566Z",
     "start_time": "2020-08-14T08:13:19.980270Z"
    }
   },
   "outputs": [],
   "source": [
    "relevance_implicit_full = relevance_spotlight_implicit(allUsers_topK_imp)"
   ]
  },
  {
   "cell_type": "markdown",
   "metadata": {},
   "source": [
    "The dcg and ideal_dcg functions are taken form https://github.com/lezzago/LambdaMart/blob/master/lambdamart.py. They are necessary to compute the desired NDCG evaluation metric."
   ]
  },
  {
   "cell_type": "code",
   "execution_count": 19,
   "metadata": {
    "ExecuteTime": {
     "end_time": "2020-08-14T08:15:48.475868Z",
     "start_time": "2020-08-14T08:15:48.463586Z"
    }
   },
   "outputs": [],
   "source": [
    "def dcg(scores):\n",
    "    \"\"\"\n",
    "    Returns the DCG value of the list of scores.\n",
    "    Parameters\n",
    "    ----------\n",
    "    scores : list\n",
    "        Contains labels in a certain ranked order\n",
    "\n",
    "    Returns\n",
    "    -------\n",
    "    DCG_val: int\n",
    "        This is the value of the DCG on the given scores\n",
    "    \"\"\"\n",
    "    return np.sum([\n",
    "                    (np.power(2, scores[i]) - 1) / np.log2(i + 2)\n",
    "                    for i in range(len(scores))\n",
    "                ])"
   ]
  },
  {
   "cell_type": "code",
   "execution_count": 20,
   "metadata": {
    "ExecuteTime": {
     "end_time": "2020-08-14T08:15:48.539030Z",
     "start_time": "2020-08-14T08:15:48.479211Z"
    }
   },
   "outputs": [],
   "source": [
    "def ideal_dcg(scores):\n",
    "    \"\"\"\n",
    "    Returns the Ideal DCG value of the list of scores.\n",
    "    Parameters\n",
    "    ----------\n",
    "    scores : list\n",
    "        Contains labels in a certain ranked order\n",
    "\n",
    "    Returns\n",
    "    -------\n",
    "    Ideal_DCG_val: int\n",
    "        This is the value of the Ideal DCG on the given scores\n",
    "    \"\"\"\n",
    "    scores = [score for score in sorted(scores)[::-1]]\n",
    "    return dcg(scores)"
   ]
  },
  {
   "cell_type": "markdown",
   "metadata": {},
   "source": [
    "The function below, NDCG_forUser, given a relevance list, returns the NDCG value. In simpler words, it returns the NDCG value for a user."
   ]
  },
  {
   "cell_type": "code",
   "execution_count": 21,
   "metadata": {
    "ExecuteTime": {
     "end_time": "2020-08-14T08:15:48.554881Z",
     "start_time": "2020-08-14T08:15:48.541062Z"
    }
   },
   "outputs": [],
   "source": [
    "def NDCG_forUser(relevance):\n",
    "    return dcg(relevance) / ideal_dcg(relevance)"
   ]
  },
  {
   "cell_type": "markdown",
   "metadata": {},
   "source": [
    "The function below, allUsers_ndcg, returns a list that contains the NDCG score for each user."
   ]
  },
  {
   "cell_type": "code",
   "execution_count": 23,
   "metadata": {
    "ExecuteTime": {
     "end_time": "2020-08-14T08:15:48.694456Z",
     "start_time": "2020-08-14T08:15:48.687005Z"
    }
   },
   "outputs": [],
   "source": [
    "def allUsers_ndcg(relevance):\n",
    "    allUsers_implicit_ndcg = []\n",
    "    for i in range(len(num_users)):\n",
    "        allUsers_implicit_ndcg.append(NDCG_forUser(relevance[i]))\n",
    "    return allUsers_implicit_ndcg"
   ]
  },
  {
   "cell_type": "code",
   "execution_count": 24,
   "metadata": {
    "ExecuteTime": {
     "end_time": "2020-08-14T08:15:52.779556Z",
     "start_time": "2020-08-14T08:15:48.700865Z"
    }
   },
   "outputs": [
    {
     "name": "stderr",
     "output_type": "stream",
     "text": [
      "C:\\Users\\papad\\Anaconda3\\lib\\site-packages\\ipykernel_launcher.py:2: RuntimeWarning: invalid value encountered in double_scalars\n",
      "  \n"
     ]
    }
   ],
   "source": [
    "allUsers_implicit_ndcg = allUsers_ndcg(relevance_implicit_full)"
   ]
  },
  {
   "cell_type": "markdown",
   "metadata": {},
   "source": [
    "Fill the nan values with 0s."
   ]
  },
  {
   "cell_type": "code",
   "execution_count": 25,
   "metadata": {
    "ExecuteTime": {
     "end_time": "2020-08-14T08:15:52.796427Z",
     "start_time": "2020-08-14T08:15:52.784232Z"
    }
   },
   "outputs": [],
   "source": [
    "allUsers_implicit_ndcg = pd.Series(allUsers_implicit_ndcg).fillna(0).tolist()"
   ]
  },
  {
   "cell_type": "markdown",
   "metadata": {},
   "source": [
    "Compute the mean value of the NDCG scores."
   ]
  },
  {
   "cell_type": "code",
   "execution_count": 26,
   "metadata": {
    "ExecuteTime": {
     "end_time": "2020-08-14T08:15:52.866205Z",
     "start_time": "2020-08-14T08:15:52.799858Z"
    }
   },
   "outputs": [
    {
     "data": {
      "text/plain": [
       "0.15397051723121669"
      ]
     },
     "execution_count": 26,
     "metadata": {},
     "output_type": "execute_result"
    }
   ],
   "source": [
    "np.array(allUsers_implicit_ndcg).mean()"
   ]
  },
  {
   "cell_type": "markdown",
   "metadata": {},
   "source": [
    "# SVD"
   ]
  },
  {
   "cell_type": "markdown",
   "metadata": {},
   "source": [
    "On this section (Section 3), an SVD model is implemented, aiming to provide the top-K recommendations for each user and evaluate the results using the NDCG evaluation metric."
   ]
  },
  {
   "cell_type": "markdown",
   "metadata": {},
   "source": [
    "Pivot is used to have a matrix that has as rows the userIDs and as columns the movieIDs. The unrated, by a user, movies are assigned the value 0 instead of null. Pivot organizes a DataFrame by giving index and column values. It is helpful in the recommender systems approach, as it provides a dataframe in which, it can be seen directly any user-item rating."
   ]
  },
  {
   "cell_type": "code",
   "execution_count": 27,
   "metadata": {
    "ExecuteTime": {
     "end_time": "2020-08-14T08:15:53.056935Z",
     "start_time": "2020-08-14T08:15:52.869880Z"
    }
   },
   "outputs": [],
   "source": [
    "df_book_features = train_df.pivot(\n",
    "    index='user_id',\n",
    "    columns='book_id',\n",
    "    values='rating'\n",
    ").fillna(0)"
   ]
  },
  {
   "cell_type": "code",
   "execution_count": 28,
   "metadata": {
    "ExecuteTime": {
     "end_time": "2020-08-14T08:15:53.192672Z",
     "start_time": "2020-08-14T08:15:53.059456Z"
    }
   },
   "outputs": [
    {
     "data": {
      "text/html": [
       "<div>\n",
       "<style scoped>\n",
       "    .dataframe tbody tr th:only-of-type {\n",
       "        vertical-align: middle;\n",
       "    }\n",
       "\n",
       "    .dataframe tbody tr th {\n",
       "        vertical-align: top;\n",
       "    }\n",
       "\n",
       "    .dataframe thead th {\n",
       "        text-align: right;\n",
       "    }\n",
       "</style>\n",
       "<table border=\"1\" class=\"dataframe\">\n",
       "  <thead>\n",
       "    <tr style=\"text-align: right;\">\n",
       "      <th>book_id</th>\n",
       "      <th>2</th>\n",
       "      <th>3</th>\n",
       "      <th>4</th>\n",
       "      <th>5</th>\n",
       "      <th>7</th>\n",
       "      <th>8</th>\n",
       "      <th>9</th>\n",
       "      <th>10</th>\n",
       "      <th>11</th>\n",
       "      <th>13</th>\n",
       "      <th>...</th>\n",
       "      <th>9972</th>\n",
       "      <th>9974</th>\n",
       "      <th>9978</th>\n",
       "      <th>9981</th>\n",
       "      <th>9985</th>\n",
       "      <th>9988</th>\n",
       "      <th>9990</th>\n",
       "      <th>9991</th>\n",
       "      <th>9995</th>\n",
       "      <th>10000</th>\n",
       "    </tr>\n",
       "    <tr>\n",
       "      <th>user_id</th>\n",
       "      <th></th>\n",
       "      <th></th>\n",
       "      <th></th>\n",
       "      <th></th>\n",
       "      <th></th>\n",
       "      <th></th>\n",
       "      <th></th>\n",
       "      <th></th>\n",
       "      <th></th>\n",
       "      <th></th>\n",
       "      <th></th>\n",
       "      <th></th>\n",
       "      <th></th>\n",
       "      <th></th>\n",
       "      <th></th>\n",
       "      <th></th>\n",
       "      <th></th>\n",
       "      <th></th>\n",
       "      <th></th>\n",
       "      <th></th>\n",
       "      <th></th>\n",
       "    </tr>\n",
       "  </thead>\n",
       "  <tbody>\n",
       "    <tr>\n",
       "      <th>1</th>\n",
       "      <td>0.0</td>\n",
       "      <td>0.0</td>\n",
       "      <td>0.0</td>\n",
       "      <td>0.0</td>\n",
       "      <td>0.0</td>\n",
       "      <td>0.0</td>\n",
       "      <td>0.0</td>\n",
       "      <td>0.0</td>\n",
       "      <td>0.0</td>\n",
       "      <td>0.0</td>\n",
       "      <td>...</td>\n",
       "      <td>0.0</td>\n",
       "      <td>0.0</td>\n",
       "      <td>0.0</td>\n",
       "      <td>0.0</td>\n",
       "      <td>0.0</td>\n",
       "      <td>0.0</td>\n",
       "      <td>0.0</td>\n",
       "      <td>0.0</td>\n",
       "      <td>0.0</td>\n",
       "      <td>0.0</td>\n",
       "    </tr>\n",
       "    <tr>\n",
       "      <th>2</th>\n",
       "      <td>0.0</td>\n",
       "      <td>0.0</td>\n",
       "      <td>0.0</td>\n",
       "      <td>0.0</td>\n",
       "      <td>0.0</td>\n",
       "      <td>0.0</td>\n",
       "      <td>0.0</td>\n",
       "      <td>0.0</td>\n",
       "      <td>0.0</td>\n",
       "      <td>0.0</td>\n",
       "      <td>...</td>\n",
       "      <td>0.0</td>\n",
       "      <td>0.0</td>\n",
       "      <td>0.0</td>\n",
       "      <td>0.0</td>\n",
       "      <td>0.0</td>\n",
       "      <td>0.0</td>\n",
       "      <td>0.0</td>\n",
       "      <td>0.0</td>\n",
       "      <td>0.0</td>\n",
       "      <td>0.0</td>\n",
       "    </tr>\n",
       "    <tr>\n",
       "      <th>4</th>\n",
       "      <td>0.0</td>\n",
       "      <td>0.0</td>\n",
       "      <td>4.0</td>\n",
       "      <td>4.0</td>\n",
       "      <td>0.0</td>\n",
       "      <td>4.0</td>\n",
       "      <td>0.0</td>\n",
       "      <td>0.0</td>\n",
       "      <td>4.0</td>\n",
       "      <td>0.0</td>\n",
       "      <td>...</td>\n",
       "      <td>0.0</td>\n",
       "      <td>0.0</td>\n",
       "      <td>0.0</td>\n",
       "      <td>0.0</td>\n",
       "      <td>0.0</td>\n",
       "      <td>0.0</td>\n",
       "      <td>0.0</td>\n",
       "      <td>0.0</td>\n",
       "      <td>0.0</td>\n",
       "      <td>0.0</td>\n",
       "    </tr>\n",
       "    <tr>\n",
       "      <th>6</th>\n",
       "      <td>0.0</td>\n",
       "      <td>0.0</td>\n",
       "      <td>0.0</td>\n",
       "      <td>0.0</td>\n",
       "      <td>0.0</td>\n",
       "      <td>0.0</td>\n",
       "      <td>0.0</td>\n",
       "      <td>0.0</td>\n",
       "      <td>0.0</td>\n",
       "      <td>0.0</td>\n",
       "      <td>...</td>\n",
       "      <td>0.0</td>\n",
       "      <td>0.0</td>\n",
       "      <td>0.0</td>\n",
       "      <td>0.0</td>\n",
       "      <td>0.0</td>\n",
       "      <td>0.0</td>\n",
       "      <td>0.0</td>\n",
       "      <td>0.0</td>\n",
       "      <td>0.0</td>\n",
       "      <td>0.0</td>\n",
       "    </tr>\n",
       "    <tr>\n",
       "      <th>7</th>\n",
       "      <td>0.0</td>\n",
       "      <td>0.0</td>\n",
       "      <td>0.0</td>\n",
       "      <td>0.0</td>\n",
       "      <td>0.0</td>\n",
       "      <td>0.0</td>\n",
       "      <td>0.0</td>\n",
       "      <td>0.0</td>\n",
       "      <td>0.0</td>\n",
       "      <td>0.0</td>\n",
       "      <td>...</td>\n",
       "      <td>0.0</td>\n",
       "      <td>0.0</td>\n",
       "      <td>0.0</td>\n",
       "      <td>0.0</td>\n",
       "      <td>0.0</td>\n",
       "      <td>0.0</td>\n",
       "      <td>0.0</td>\n",
       "      <td>0.0</td>\n",
       "      <td>0.0</td>\n",
       "      <td>0.0</td>\n",
       "    </tr>\n",
       "    <tr>\n",
       "      <th>...</th>\n",
       "      <td>...</td>\n",
       "      <td>...</td>\n",
       "      <td>...</td>\n",
       "      <td>...</td>\n",
       "      <td>...</td>\n",
       "      <td>...</td>\n",
       "      <td>...</td>\n",
       "      <td>...</td>\n",
       "      <td>...</td>\n",
       "      <td>...</td>\n",
       "      <td>...</td>\n",
       "      <td>...</td>\n",
       "      <td>...</td>\n",
       "      <td>...</td>\n",
       "      <td>...</td>\n",
       "      <td>...</td>\n",
       "      <td>...</td>\n",
       "      <td>...</td>\n",
       "      <td>...</td>\n",
       "      <td>...</td>\n",
       "      <td>...</td>\n",
       "    </tr>\n",
       "    <tr>\n",
       "      <th>1939</th>\n",
       "      <td>0.0</td>\n",
       "      <td>0.0</td>\n",
       "      <td>0.0</td>\n",
       "      <td>0.0</td>\n",
       "      <td>0.0</td>\n",
       "      <td>0.0</td>\n",
       "      <td>0.0</td>\n",
       "      <td>0.0</td>\n",
       "      <td>4.0</td>\n",
       "      <td>0.0</td>\n",
       "      <td>...</td>\n",
       "      <td>0.0</td>\n",
       "      <td>0.0</td>\n",
       "      <td>0.0</td>\n",
       "      <td>0.0</td>\n",
       "      <td>0.0</td>\n",
       "      <td>0.0</td>\n",
       "      <td>0.0</td>\n",
       "      <td>0.0</td>\n",
       "      <td>0.0</td>\n",
       "      <td>0.0</td>\n",
       "    </tr>\n",
       "    <tr>\n",
       "      <th>1941</th>\n",
       "      <td>0.0</td>\n",
       "      <td>0.0</td>\n",
       "      <td>0.0</td>\n",
       "      <td>0.0</td>\n",
       "      <td>0.0</td>\n",
       "      <td>0.0</td>\n",
       "      <td>0.0</td>\n",
       "      <td>0.0</td>\n",
       "      <td>0.0</td>\n",
       "      <td>0.0</td>\n",
       "      <td>...</td>\n",
       "      <td>0.0</td>\n",
       "      <td>0.0</td>\n",
       "      <td>0.0</td>\n",
       "      <td>0.0</td>\n",
       "      <td>0.0</td>\n",
       "      <td>0.0</td>\n",
       "      <td>0.0</td>\n",
       "      <td>0.0</td>\n",
       "      <td>0.0</td>\n",
       "      <td>0.0</td>\n",
       "    </tr>\n",
       "    <tr>\n",
       "      <th>1942</th>\n",
       "      <td>0.0</td>\n",
       "      <td>5.0</td>\n",
       "      <td>0.0</td>\n",
       "      <td>0.0</td>\n",
       "      <td>3.0</td>\n",
       "      <td>0.0</td>\n",
       "      <td>3.0</td>\n",
       "      <td>0.0</td>\n",
       "      <td>0.0</td>\n",
       "      <td>0.0</td>\n",
       "      <td>...</td>\n",
       "      <td>0.0</td>\n",
       "      <td>0.0</td>\n",
       "      <td>0.0</td>\n",
       "      <td>0.0</td>\n",
       "      <td>0.0</td>\n",
       "      <td>0.0</td>\n",
       "      <td>0.0</td>\n",
       "      <td>0.0</td>\n",
       "      <td>0.0</td>\n",
       "      <td>0.0</td>\n",
       "    </tr>\n",
       "    <tr>\n",
       "      <th>1947</th>\n",
       "      <td>0.0</td>\n",
       "      <td>0.0</td>\n",
       "      <td>0.0</td>\n",
       "      <td>0.0</td>\n",
       "      <td>0.0</td>\n",
       "      <td>0.0</td>\n",
       "      <td>0.0</td>\n",
       "      <td>0.0</td>\n",
       "      <td>0.0</td>\n",
       "      <td>0.0</td>\n",
       "      <td>...</td>\n",
       "      <td>0.0</td>\n",
       "      <td>0.0</td>\n",
       "      <td>0.0</td>\n",
       "      <td>0.0</td>\n",
       "      <td>0.0</td>\n",
       "      <td>0.0</td>\n",
       "      <td>0.0</td>\n",
       "      <td>0.0</td>\n",
       "      <td>0.0</td>\n",
       "      <td>0.0</td>\n",
       "    </tr>\n",
       "    <tr>\n",
       "      <th>1956</th>\n",
       "      <td>0.0</td>\n",
       "      <td>0.0</td>\n",
       "      <td>0.0</td>\n",
       "      <td>0.0</td>\n",
       "      <td>0.0</td>\n",
       "      <td>0.0</td>\n",
       "      <td>0.0</td>\n",
       "      <td>0.0</td>\n",
       "      <td>0.0</td>\n",
       "      <td>0.0</td>\n",
       "      <td>...</td>\n",
       "      <td>0.0</td>\n",
       "      <td>0.0</td>\n",
       "      <td>0.0</td>\n",
       "      <td>0.0</td>\n",
       "      <td>0.0</td>\n",
       "      <td>0.0</td>\n",
       "      <td>0.0</td>\n",
       "      <td>0.0</td>\n",
       "      <td>0.0</td>\n",
       "      <td>0.0</td>\n",
       "    </tr>\n",
       "  </tbody>\n",
       "</table>\n",
       "<p>1144 rows × 4091 columns</p>\n",
       "</div>"
      ],
      "text/plain": [
       "book_id  2      3      4      5      7      8      9      10     11     13     \\\n",
       "user_id                                                                         \n",
       "1          0.0    0.0    0.0    0.0    0.0    0.0    0.0    0.0    0.0    0.0   \n",
       "2          0.0    0.0    0.0    0.0    0.0    0.0    0.0    0.0    0.0    0.0   \n",
       "4          0.0    0.0    4.0    4.0    0.0    4.0    0.0    0.0    4.0    0.0   \n",
       "6          0.0    0.0    0.0    0.0    0.0    0.0    0.0    0.0    0.0    0.0   \n",
       "7          0.0    0.0    0.0    0.0    0.0    0.0    0.0    0.0    0.0    0.0   \n",
       "...        ...    ...    ...    ...    ...    ...    ...    ...    ...    ...   \n",
       "1939       0.0    0.0    0.0    0.0    0.0    0.0    0.0    0.0    4.0    0.0   \n",
       "1941       0.0    0.0    0.0    0.0    0.0    0.0    0.0    0.0    0.0    0.0   \n",
       "1942       0.0    5.0    0.0    0.0    3.0    0.0    3.0    0.0    0.0    0.0   \n",
       "1947       0.0    0.0    0.0    0.0    0.0    0.0    0.0    0.0    0.0    0.0   \n",
       "1956       0.0    0.0    0.0    0.0    0.0    0.0    0.0    0.0    0.0    0.0   \n",
       "\n",
       "book_id  ...  9972   9974   9978   9981   9985   9988   9990   9991   9995   \\\n",
       "user_id  ...                                                                  \n",
       "1        ...    0.0    0.0    0.0    0.0    0.0    0.0    0.0    0.0    0.0   \n",
       "2        ...    0.0    0.0    0.0    0.0    0.0    0.0    0.0    0.0    0.0   \n",
       "4        ...    0.0    0.0    0.0    0.0    0.0    0.0    0.0    0.0    0.0   \n",
       "6        ...    0.0    0.0    0.0    0.0    0.0    0.0    0.0    0.0    0.0   \n",
       "7        ...    0.0    0.0    0.0    0.0    0.0    0.0    0.0    0.0    0.0   \n",
       "...      ...    ...    ...    ...    ...    ...    ...    ...    ...    ...   \n",
       "1939     ...    0.0    0.0    0.0    0.0    0.0    0.0    0.0    0.0    0.0   \n",
       "1941     ...    0.0    0.0    0.0    0.0    0.0    0.0    0.0    0.0    0.0   \n",
       "1942     ...    0.0    0.0    0.0    0.0    0.0    0.0    0.0    0.0    0.0   \n",
       "1947     ...    0.0    0.0    0.0    0.0    0.0    0.0    0.0    0.0    0.0   \n",
       "1956     ...    0.0    0.0    0.0    0.0    0.0    0.0    0.0    0.0    0.0   \n",
       "\n",
       "book_id  10000  \n",
       "user_id         \n",
       "1          0.0  \n",
       "2          0.0  \n",
       "4          0.0  \n",
       "6          0.0  \n",
       "7          0.0  \n",
       "...        ...  \n",
       "1939       0.0  \n",
       "1941       0.0  \n",
       "1942       0.0  \n",
       "1947       0.0  \n",
       "1956       0.0  \n",
       "\n",
       "[1144 rows x 4091 columns]"
      ]
     },
     "execution_count": 28,
     "metadata": {},
     "output_type": "execute_result"
    }
   ],
   "source": [
    "df_book_features"
   ]
  },
  {
   "cell_type": "markdown",
   "metadata": {},
   "source": [
    "## SVD implementation"
   ]
  },
  {
   "cell_type": "code",
   "execution_count": 70,
   "metadata": {
    "ExecuteTime": {
     "end_time": "2020-08-14T09:32:30.241835Z",
     "start_time": "2020-08-14T09:32:29.898816Z"
    }
   },
   "outputs": [],
   "source": [
    "from scipy.sparse.linalg import svds\n",
    "U, sigma, Vt = svds(df_book_features)"
   ]
  },
  {
   "cell_type": "markdown",
   "metadata": {},
   "source": [
    "## Predictions"
   ]
  },
  {
   "cell_type": "markdown",
   "metadata": {},
   "source": [
    "To get the prediction of a rating of an item dj, we can calculate the dot product of the two vectors.\n",
    "The sigma variable has just the values, so I have to convert to a diagonal matrix in orded to implement the matrix multiplication."
   ]
  },
  {
   "cell_type": "code",
   "execution_count": 30,
   "metadata": {
    "ExecuteTime": {
     "end_time": "2020-08-14T08:15:53.782816Z",
     "start_time": "2020-08-14T08:15:53.703178Z"
    }
   },
   "outputs": [],
   "source": [
    "sigma = np.diag(sigma)\n",
    "svd_predictions_score = np.dot(np.dot(U, sigma), Vt)\n",
    "svd_predictions_score_df = pd.DataFrame(svd_predictions_score, columns = df_book_features.columns)\n"
   ]
  },
  {
   "cell_type": "code",
   "execution_count": 31,
   "metadata": {
    "ExecuteTime": {
     "end_time": "2020-08-14T08:15:53.903814Z",
     "start_time": "2020-08-14T08:15:53.786029Z"
    }
   },
   "outputs": [
    {
     "data": {
      "text/html": [
       "<div>\n",
       "<style scoped>\n",
       "    .dataframe tbody tr th:only-of-type {\n",
       "        vertical-align: middle;\n",
       "    }\n",
       "\n",
       "    .dataframe tbody tr th {\n",
       "        vertical-align: top;\n",
       "    }\n",
       "\n",
       "    .dataframe thead th {\n",
       "        text-align: right;\n",
       "    }\n",
       "</style>\n",
       "<table border=\"1\" class=\"dataframe\">\n",
       "  <thead>\n",
       "    <tr style=\"text-align: right;\">\n",
       "      <th>book_id</th>\n",
       "      <th>2</th>\n",
       "      <th>3</th>\n",
       "      <th>4</th>\n",
       "      <th>5</th>\n",
       "      <th>7</th>\n",
       "      <th>8</th>\n",
       "      <th>9</th>\n",
       "      <th>10</th>\n",
       "      <th>11</th>\n",
       "      <th>13</th>\n",
       "      <th>...</th>\n",
       "      <th>9972</th>\n",
       "      <th>9974</th>\n",
       "      <th>9978</th>\n",
       "      <th>9981</th>\n",
       "      <th>9985</th>\n",
       "      <th>9988</th>\n",
       "      <th>9990</th>\n",
       "      <th>9991</th>\n",
       "      <th>9995</th>\n",
       "      <th>10000</th>\n",
       "    </tr>\n",
       "  </thead>\n",
       "  <tbody>\n",
       "    <tr>\n",
       "      <th>0</th>\n",
       "      <td>-0.018121</td>\n",
       "      <td>-0.000636</td>\n",
       "      <td>-0.038918</td>\n",
       "      <td>0.019442</td>\n",
       "      <td>-0.014169</td>\n",
       "      <td>-0.009793</td>\n",
       "      <td>0.009749</td>\n",
       "      <td>0.042809</td>\n",
       "      <td>0.073432</td>\n",
       "      <td>-0.039902</td>\n",
       "      <td>...</td>\n",
       "      <td>-0.005805</td>\n",
       "      <td>-0.000236</td>\n",
       "      <td>2.671828e-03</td>\n",
       "      <td>-0.000205</td>\n",
       "      <td>0.000089</td>\n",
       "      <td>-0.002415</td>\n",
       "      <td>0.001159</td>\n",
       "      <td>0.002083</td>\n",
       "      <td>-0.000581</td>\n",
       "      <td>-0.001591</td>\n",
       "    </tr>\n",
       "    <tr>\n",
       "      <th>1</th>\n",
       "      <td>0.127238</td>\n",
       "      <td>-0.004687</td>\n",
       "      <td>0.128650</td>\n",
       "      <td>0.148322</td>\n",
       "      <td>-0.086465</td>\n",
       "      <td>0.286169</td>\n",
       "      <td>0.506771</td>\n",
       "      <td>-0.248870</td>\n",
       "      <td>0.471236</td>\n",
       "      <td>0.020224</td>\n",
       "      <td>...</td>\n",
       "      <td>-0.003932</td>\n",
       "      <td>0.007384</td>\n",
       "      <td>-2.558957e-03</td>\n",
       "      <td>0.014402</td>\n",
       "      <td>0.001666</td>\n",
       "      <td>0.007575</td>\n",
       "      <td>-0.005640</td>\n",
       "      <td>-0.006050</td>\n",
       "      <td>0.011011</td>\n",
       "      <td>0.001022</td>\n",
       "    </tr>\n",
       "    <tr>\n",
       "      <th>2</th>\n",
       "      <td>2.541552</td>\n",
       "      <td>0.062446</td>\n",
       "      <td>3.025831</td>\n",
       "      <td>2.404362</td>\n",
       "      <td>0.880952</td>\n",
       "      <td>3.261707</td>\n",
       "      <td>1.816708</td>\n",
       "      <td>0.307512</td>\n",
       "      <td>1.672557</td>\n",
       "      <td>2.315223</td>\n",
       "      <td>...</td>\n",
       "      <td>0.283308</td>\n",
       "      <td>0.045993</td>\n",
       "      <td>2.578887e-03</td>\n",
       "      <td>0.033514</td>\n",
       "      <td>0.002543</td>\n",
       "      <td>0.071791</td>\n",
       "      <td>0.007074</td>\n",
       "      <td>-0.023180</td>\n",
       "      <td>0.063451</td>\n",
       "      <td>0.047924</td>\n",
       "    </tr>\n",
       "    <tr>\n",
       "      <th>3</th>\n",
       "      <td>-0.001193</td>\n",
       "      <td>-0.000101</td>\n",
       "      <td>0.004147</td>\n",
       "      <td>0.002147</td>\n",
       "      <td>0.000228</td>\n",
       "      <td>0.001877</td>\n",
       "      <td>-0.000106</td>\n",
       "      <td>0.002598</td>\n",
       "      <td>0.001366</td>\n",
       "      <td>0.001033</td>\n",
       "      <td>...</td>\n",
       "      <td>-0.000039</td>\n",
       "      <td>-0.000007</td>\n",
       "      <td>-2.382167e-07</td>\n",
       "      <td>-0.000010</td>\n",
       "      <td>-0.000001</td>\n",
       "      <td>0.000031</td>\n",
       "      <td>0.000027</td>\n",
       "      <td>0.000029</td>\n",
       "      <td>-0.000011</td>\n",
       "      <td>0.000002</td>\n",
       "    </tr>\n",
       "    <tr>\n",
       "      <th>4</th>\n",
       "      <td>0.191701</td>\n",
       "      <td>-0.009074</td>\n",
       "      <td>0.596409</td>\n",
       "      <td>0.264347</td>\n",
       "      <td>2.166535</td>\n",
       "      <td>0.894976</td>\n",
       "      <td>0.161220</td>\n",
       "      <td>-0.927977</td>\n",
       "      <td>0.533911</td>\n",
       "      <td>1.962155</td>\n",
       "      <td>...</td>\n",
       "      <td>0.164379</td>\n",
       "      <td>0.026201</td>\n",
       "      <td>9.116976e-03</td>\n",
       "      <td>0.004001</td>\n",
       "      <td>0.001641</td>\n",
       "      <td>0.050841</td>\n",
       "      <td>-0.007299</td>\n",
       "      <td>-0.008501</td>\n",
       "      <td>0.042126</td>\n",
       "      <td>0.025034</td>\n",
       "    </tr>\n",
       "    <tr>\n",
       "      <th>...</th>\n",
       "      <td>...</td>\n",
       "      <td>...</td>\n",
       "      <td>...</td>\n",
       "      <td>...</td>\n",
       "      <td>...</td>\n",
       "      <td>...</td>\n",
       "      <td>...</td>\n",
       "      <td>...</td>\n",
       "      <td>...</td>\n",
       "      <td>...</td>\n",
       "      <td>...</td>\n",
       "      <td>...</td>\n",
       "      <td>...</td>\n",
       "      <td>...</td>\n",
       "      <td>...</td>\n",
       "      <td>...</td>\n",
       "      <td>...</td>\n",
       "      <td>...</td>\n",
       "      <td>...</td>\n",
       "      <td>...</td>\n",
       "      <td>...</td>\n",
       "    </tr>\n",
       "    <tr>\n",
       "      <th>1139</th>\n",
       "      <td>-0.083032</td>\n",
       "      <td>-0.022532</td>\n",
       "      <td>-0.252353</td>\n",
       "      <td>0.950737</td>\n",
       "      <td>-0.293996</td>\n",
       "      <td>0.508350</td>\n",
       "      <td>-0.160838</td>\n",
       "      <td>0.262190</td>\n",
       "      <td>2.414528</td>\n",
       "      <td>-0.343858</td>\n",
       "      <td>...</td>\n",
       "      <td>0.016384</td>\n",
       "      <td>0.031089</td>\n",
       "      <td>-1.512712e-02</td>\n",
       "      <td>-0.022181</td>\n",
       "      <td>-0.002101</td>\n",
       "      <td>-0.056608</td>\n",
       "      <td>0.053052</td>\n",
       "      <td>0.038568</td>\n",
       "      <td>-0.016694</td>\n",
       "      <td>-0.028423</td>\n",
       "    </tr>\n",
       "    <tr>\n",
       "      <th>1140</th>\n",
       "      <td>0.032172</td>\n",
       "      <td>0.003080</td>\n",
       "      <td>-0.038088</td>\n",
       "      <td>-0.040053</td>\n",
       "      <td>0.042527</td>\n",
       "      <td>-0.056783</td>\n",
       "      <td>-0.038017</td>\n",
       "      <td>0.026943</td>\n",
       "      <td>-0.040879</td>\n",
       "      <td>0.008380</td>\n",
       "      <td>...</td>\n",
       "      <td>0.002403</td>\n",
       "      <td>-0.000747</td>\n",
       "      <td>2.172314e-03</td>\n",
       "      <td>-0.001642</td>\n",
       "      <td>-0.000131</td>\n",
       "      <td>-0.001223</td>\n",
       "      <td>0.000581</td>\n",
       "      <td>0.000869</td>\n",
       "      <td>-0.000596</td>\n",
       "      <td>-0.000075</td>\n",
       "    </tr>\n",
       "    <tr>\n",
       "      <th>1141</th>\n",
       "      <td>0.211959</td>\n",
       "      <td>0.022654</td>\n",
       "      <td>-0.152217</td>\n",
       "      <td>0.285332</td>\n",
       "      <td>0.735002</td>\n",
       "      <td>0.336706</td>\n",
       "      <td>0.511541</td>\n",
       "      <td>0.400368</td>\n",
       "      <td>0.163124</td>\n",
       "      <td>0.150557</td>\n",
       "      <td>...</td>\n",
       "      <td>-0.052097</td>\n",
       "      <td>-0.005625</td>\n",
       "      <td>3.814722e-02</td>\n",
       "      <td>0.012597</td>\n",
       "      <td>0.003445</td>\n",
       "      <td>0.006011</td>\n",
       "      <td>-0.008234</td>\n",
       "      <td>0.006909</td>\n",
       "      <td>0.008350</td>\n",
       "      <td>-0.001186</td>\n",
       "    </tr>\n",
       "    <tr>\n",
       "      <th>1142</th>\n",
       "      <td>1.318081</td>\n",
       "      <td>0.041953</td>\n",
       "      <td>0.692827</td>\n",
       "      <td>0.350142</td>\n",
       "      <td>0.187169</td>\n",
       "      <td>0.749959</td>\n",
       "      <td>0.680729</td>\n",
       "      <td>0.026153</td>\n",
       "      <td>0.712911</td>\n",
       "      <td>0.422899</td>\n",
       "      <td>...</td>\n",
       "      <td>0.029347</td>\n",
       "      <td>0.007891</td>\n",
       "      <td>4.062414e-03</td>\n",
       "      <td>0.013104</td>\n",
       "      <td>0.000907</td>\n",
       "      <td>0.009672</td>\n",
       "      <td>-0.002507</td>\n",
       "      <td>-0.010226</td>\n",
       "      <td>0.010152</td>\n",
       "      <td>0.013842</td>\n",
       "    </tr>\n",
       "    <tr>\n",
       "      <th>1143</th>\n",
       "      <td>-0.023722</td>\n",
       "      <td>0.000468</td>\n",
       "      <td>0.069401</td>\n",
       "      <td>0.189875</td>\n",
       "      <td>-0.057104</td>\n",
       "      <td>0.061686</td>\n",
       "      <td>-0.163321</td>\n",
       "      <td>0.460430</td>\n",
       "      <td>-0.065801</td>\n",
       "      <td>0.034407</td>\n",
       "      <td>...</td>\n",
       "      <td>0.028760</td>\n",
       "      <td>-0.004199</td>\n",
       "      <td>2.031877e-02</td>\n",
       "      <td>-0.009587</td>\n",
       "      <td>-0.000456</td>\n",
       "      <td>-0.002476</td>\n",
       "      <td>0.011081</td>\n",
       "      <td>0.007392</td>\n",
       "      <td>-0.002722</td>\n",
       "      <td>-0.000208</td>\n",
       "    </tr>\n",
       "  </tbody>\n",
       "</table>\n",
       "<p>1144 rows × 4091 columns</p>\n",
       "</div>"
      ],
      "text/plain": [
       "book_id     2         3         4         5         7         8         9      \\\n",
       "0       -0.018121 -0.000636 -0.038918  0.019442 -0.014169 -0.009793  0.009749   \n",
       "1        0.127238 -0.004687  0.128650  0.148322 -0.086465  0.286169  0.506771   \n",
       "2        2.541552  0.062446  3.025831  2.404362  0.880952  3.261707  1.816708   \n",
       "3       -0.001193 -0.000101  0.004147  0.002147  0.000228  0.001877 -0.000106   \n",
       "4        0.191701 -0.009074  0.596409  0.264347  2.166535  0.894976  0.161220   \n",
       "...           ...       ...       ...       ...       ...       ...       ...   \n",
       "1139    -0.083032 -0.022532 -0.252353  0.950737 -0.293996  0.508350 -0.160838   \n",
       "1140     0.032172  0.003080 -0.038088 -0.040053  0.042527 -0.056783 -0.038017   \n",
       "1141     0.211959  0.022654 -0.152217  0.285332  0.735002  0.336706  0.511541   \n",
       "1142     1.318081  0.041953  0.692827  0.350142  0.187169  0.749959  0.680729   \n",
       "1143    -0.023722  0.000468  0.069401  0.189875 -0.057104  0.061686 -0.163321   \n",
       "\n",
       "book_id     10        11        13     ...     9972      9974          9978   \\\n",
       "0        0.042809  0.073432 -0.039902  ... -0.005805 -0.000236  2.671828e-03   \n",
       "1       -0.248870  0.471236  0.020224  ... -0.003932  0.007384 -2.558957e-03   \n",
       "2        0.307512  1.672557  2.315223  ...  0.283308  0.045993  2.578887e-03   \n",
       "3        0.002598  0.001366  0.001033  ... -0.000039 -0.000007 -2.382167e-07   \n",
       "4       -0.927977  0.533911  1.962155  ...  0.164379  0.026201  9.116976e-03   \n",
       "...           ...       ...       ...  ...       ...       ...           ...   \n",
       "1139     0.262190  2.414528 -0.343858  ...  0.016384  0.031089 -1.512712e-02   \n",
       "1140     0.026943 -0.040879  0.008380  ...  0.002403 -0.000747  2.172314e-03   \n",
       "1141     0.400368  0.163124  0.150557  ... -0.052097 -0.005625  3.814722e-02   \n",
       "1142     0.026153  0.712911  0.422899  ...  0.029347  0.007891  4.062414e-03   \n",
       "1143     0.460430 -0.065801  0.034407  ...  0.028760 -0.004199  2.031877e-02   \n",
       "\n",
       "book_id     9981      9985      9988      9990      9991      9995      10000  \n",
       "0       -0.000205  0.000089 -0.002415  0.001159  0.002083 -0.000581 -0.001591  \n",
       "1        0.014402  0.001666  0.007575 -0.005640 -0.006050  0.011011  0.001022  \n",
       "2        0.033514  0.002543  0.071791  0.007074 -0.023180  0.063451  0.047924  \n",
       "3       -0.000010 -0.000001  0.000031  0.000027  0.000029 -0.000011  0.000002  \n",
       "4        0.004001  0.001641  0.050841 -0.007299 -0.008501  0.042126  0.025034  \n",
       "...           ...       ...       ...       ...       ...       ...       ...  \n",
       "1139    -0.022181 -0.002101 -0.056608  0.053052  0.038568 -0.016694 -0.028423  \n",
       "1140    -0.001642 -0.000131 -0.001223  0.000581  0.000869 -0.000596 -0.000075  \n",
       "1141     0.012597  0.003445  0.006011 -0.008234  0.006909  0.008350 -0.001186  \n",
       "1142     0.013104  0.000907  0.009672 -0.002507 -0.010226  0.010152  0.013842  \n",
       "1143    -0.009587 -0.000456 -0.002476  0.011081  0.007392 -0.002722 -0.000208  \n",
       "\n",
       "[1144 rows x 4091 columns]"
      ]
     },
     "execution_count": 31,
     "metadata": {},
     "output_type": "execute_result"
    }
   ],
   "source": [
    "svd_predictions_score_df"
   ]
  },
  {
   "cell_type": "code",
   "execution_count": 32,
   "metadata": {
    "ExecuteTime": {
     "end_time": "2020-08-14T08:15:53.973042Z",
     "start_time": "2020-08-14T08:15:53.909305Z"
    }
   },
   "outputs": [
    {
     "data": {
      "text/html": [
       "<div>\n",
       "<style scoped>\n",
       "    .dataframe tbody tr th:only-of-type {\n",
       "        vertical-align: middle;\n",
       "    }\n",
       "\n",
       "    .dataframe tbody tr th {\n",
       "        vertical-align: top;\n",
       "    }\n",
       "\n",
       "    .dataframe thead th {\n",
       "        text-align: right;\n",
       "    }\n",
       "</style>\n",
       "<table border=\"1\" class=\"dataframe\">\n",
       "  <thead>\n",
       "    <tr style=\"text-align: right;\">\n",
       "      <th>book_id</th>\n",
       "      <th>2</th>\n",
       "      <th>3</th>\n",
       "      <th>4</th>\n",
       "      <th>5</th>\n",
       "      <th>7</th>\n",
       "      <th>8</th>\n",
       "      <th>9</th>\n",
       "      <th>10</th>\n",
       "      <th>11</th>\n",
       "      <th>13</th>\n",
       "      <th>...</th>\n",
       "      <th>9972</th>\n",
       "      <th>9974</th>\n",
       "      <th>9978</th>\n",
       "      <th>9981</th>\n",
       "      <th>9985</th>\n",
       "      <th>9988</th>\n",
       "      <th>9990</th>\n",
       "      <th>9991</th>\n",
       "      <th>9995</th>\n",
       "      <th>10000</th>\n",
       "    </tr>\n",
       "  </thead>\n",
       "  <tbody>\n",
       "    <tr>\n",
       "      <th>1137</th>\n",
       "      <td>2.181513</td>\n",
       "      <td>0.105843</td>\n",
       "      <td>-0.100297</td>\n",
       "      <td>0.283075</td>\n",
       "      <td>0.228997</td>\n",
       "      <td>0.434382</td>\n",
       "      <td>0.46068</td>\n",
       "      <td>0.765618</td>\n",
       "      <td>1.190321</td>\n",
       "      <td>-0.449419</td>\n",
       "      <td>...</td>\n",
       "      <td>-0.058277</td>\n",
       "      <td>0.004737</td>\n",
       "      <td>0.000695</td>\n",
       "      <td>-0.008956</td>\n",
       "      <td>-0.000542</td>\n",
       "      <td>-0.047377</td>\n",
       "      <td>0.024473</td>\n",
       "      <td>0.007537</td>\n",
       "      <td>-0.031506</td>\n",
       "      <td>-0.005032</td>\n",
       "    </tr>\n",
       "  </tbody>\n",
       "</table>\n",
       "<p>1 rows × 4091 columns</p>\n",
       "</div>"
      ],
      "text/plain": [
       "book_id     2         3         4         5         7         8        9      \\\n",
       "1137     2.181513  0.105843 -0.100297  0.283075  0.228997  0.434382  0.46068   \n",
       "\n",
       "book_id     10        11        13     ...     9972      9974      9978   \\\n",
       "1137     0.765618  1.190321 -0.449419  ... -0.058277  0.004737  0.000695   \n",
       "\n",
       "book_id     9981      9985      9988      9990      9991      9995      10000  \n",
       "1137    -0.008956 -0.000542 -0.047377  0.024473  0.007537 -0.031506 -0.005032  \n",
       "\n",
       "[1 rows x 4091 columns]"
      ]
     },
     "execution_count": 32,
     "metadata": {},
     "output_type": "execute_result"
    }
   ],
   "source": [
    "svd_predictions_score_df[svd_predictions_score_df.index == 1137]"
   ]
  },
  {
   "cell_type": "markdown",
   "metadata": {},
   "source": [
    "## Top-K recommendations"
   ]
  },
  {
   "cell_type": "markdown",
   "metadata": {},
   "source": [
    "The function below returns a list that contains the top-100 recommendations for each user"
   ]
  },
  {
   "cell_type": "code",
   "execution_count": 33,
   "metadata": {
    "ExecuteTime": {
     "end_time": "2020-08-14T08:15:53.988508Z",
     "start_time": "2020-08-14T08:15:53.976732Z"
    }
   },
   "outputs": [],
   "source": [
    "def SVD_topK_first(score_df):\n",
    "    topK_svd_rec = []\n",
    "    c = 0\n",
    "    for i in range(len(svd_predictions_score_df)):\n",
    "        svd_h_df = pd.DataFrame({'book_id': score_df[score_df.index == i].columns,\n",
    "                                 'score': score_df[score_df.index == i].values[0]})\n",
    "        svd_h_df = svd_h_df.sort_values('score', ascending=False)\n",
    "        svd_h_df = svd_h_df.head(100)\n",
    "        topK_svd_rec.append(svd_h_df['book_id'].values)\n",
    "    return topK_svd_rec"
   ]
  },
  {
   "cell_type": "markdown",
   "metadata": {},
   "source": [
    "## NDCG Score"
   ]
  },
  {
   "cell_type": "markdown",
   "metadata": {},
   "source": [
    "The function below returns the relevance list of a list of movies."
   ]
  },
  {
   "cell_type": "code",
   "execution_count": 34,
   "metadata": {
    "ExecuteTime": {
     "end_time": "2020-08-14T08:15:54.004079Z",
     "start_time": "2020-08-14T08:15:53.993510Z"
    }
   },
   "outputs": [],
   "source": [
    "def SVD_relevance_first(score_df):\n",
    "    svd_topK = SVD_topK_first(score_df)\n",
    "    relevance_svd_full = []\n",
    "    helper = []\n",
    "    count = 0\n",
    "    for i in range(1,len(svd_predictions_score_df)+1):\n",
    "        for j in range(len(svd_topK[count])):\n",
    "            if svd_topK[count][j] in test_df['book_id'][test_df['user_id'] == i].values.tolist():\n",
    "                helper.append(1)\n",
    "            else:\n",
    "                helper.append(0)\n",
    "        relevance_svd_full.append(helper)\n",
    "        helper = []\n",
    "        count += 1\n",
    "    return relevance_svd_full"
   ]
  },
  {
   "cell_type": "code",
   "execution_count": 35,
   "metadata": {
    "ExecuteTime": {
     "end_time": "2020-08-14T08:18:34.672298Z",
     "start_time": "2020-08-14T08:15:54.008958Z"
    }
   },
   "outputs": [],
   "source": [
    "relevance_first = SVD_relevance_first(svd_predictions_score_df)"
   ]
  },
  {
   "cell_type": "code",
   "execution_count": 36,
   "metadata": {
    "ExecuteTime": {
     "end_time": "2020-08-14T08:18:34.705493Z",
     "start_time": "2020-08-14T08:18:34.676433Z"
    }
   },
   "outputs": [
    {
     "data": {
      "text/plain": [
       "(1144, 100)"
      ]
     },
     "execution_count": 36,
     "metadata": {},
     "output_type": "execute_result"
    }
   ],
   "source": [
    "np.asarray(relevance_first).shape"
   ]
  },
  {
   "cell_type": "code",
   "execution_count": 37,
   "metadata": {
    "ExecuteTime": {
     "end_time": "2020-08-14T08:18:34.752833Z",
     "start_time": "2020-08-14T08:18:34.710302Z"
    }
   },
   "outputs": [],
   "source": [
    "n_f = NDCG_forUser(relevance_first[0])"
   ]
  },
  {
   "cell_type": "code",
   "execution_count": 38,
   "metadata": {
    "ExecuteTime": {
     "end_time": "2020-08-14T08:18:34.768623Z",
     "start_time": "2020-08-14T08:18:34.757465Z"
    }
   },
   "outputs": [
    {
     "data": {
      "text/plain": [
       "0.19195872000656014"
      ]
     },
     "execution_count": 38,
     "metadata": {},
     "output_type": "execute_result"
    }
   ],
   "source": [
    "n_f"
   ]
  },
  {
   "cell_type": "markdown",
   "metadata": {},
   "source": [
    "Below is the NDCG scores of each user"
   ]
  },
  {
   "cell_type": "code",
   "execution_count": 39,
   "metadata": {
    "ExecuteTime": {
     "end_time": "2020-08-14T08:18:39.085951Z",
     "start_time": "2020-08-14T08:18:34.774939Z"
    }
   },
   "outputs": [
    {
     "name": "stderr",
     "output_type": "stream",
     "text": [
      "C:\\Users\\papad\\Anaconda3\\lib\\site-packages\\ipykernel_launcher.py:2: RuntimeWarning: invalid value encountered in double_scalars\n",
      "  \n"
     ]
    }
   ],
   "source": [
    "def allUsers_ndcg_svd(relevance):\n",
    "    allUsers_implicit_ndcg = []\n",
    "    for i in range(len(svd_predictions_score_df)):\n",
    "        allUsers_implicit_ndcg.append(NDCG_forUser(relevance[i]))\n",
    "    return allUsers_implicit_ndcg\n",
    "all_ndcg_f = allUsers_ndcg_svd(relevance_first)"
   ]
  },
  {
   "cell_type": "code",
   "execution_count": 40,
   "metadata": {
    "ExecuteTime": {
     "end_time": "2020-08-14T08:18:39.102394Z",
     "start_time": "2020-08-14T08:18:39.089876Z"
    }
   },
   "outputs": [],
   "source": [
    "all_ndcg_f = pd.Series(all_ndcg_f).fillna(0).tolist()"
   ]
  },
  {
   "cell_type": "code",
   "execution_count": 41,
   "metadata": {
    "ExecuteTime": {
     "end_time": "2020-08-14T08:18:39.134670Z",
     "start_time": "2020-08-14T08:18:39.108374Z"
    }
   },
   "outputs": [
    {
     "data": {
      "text/plain": [
       "0.1468106505255648"
      ]
     },
     "execution_count": 41,
     "metadata": {},
     "output_type": "execute_result"
    }
   ],
   "source": [
    "np.asarray(all_ndcg_f).mean()"
   ]
  },
  {
   "cell_type": "markdown",
   "metadata": {},
   "source": [
    "# LightGBM Baseline"
   ]
  },
  {
   "cell_type": "markdown",
   "metadata": {},
   "source": [
    "##  Feature 1 (Implicit factorization model scores)"
   ]
  },
  {
   "cell_type": "markdown",
   "metadata": {},
   "source": [
    "Train an implicit factorization model using the train_features dataset"
   ]
  },
  {
   "cell_type": "code",
   "execution_count": 42,
   "metadata": {
    "ExecuteTime": {
     "end_time": "2020-08-14T08:19:04.186272Z",
     "start_time": "2020-08-14T08:18:39.139363Z"
    }
   },
   "outputs": [
    {
     "name": "stdout",
     "output_type": "stream",
     "text": [
      "Epoch 0: loss 0.9320775464177131\n",
      "Epoch 1: loss 0.5875909730792046\n",
      "Epoch 2: loss 0.44491646240154903\n",
      "Epoch 3: loss 0.3887164478500684\n",
      "Epoch 4: loss 0.33100218152006466\n",
      "Training took 25 second\n"
     ]
    }
   ],
   "source": [
    "f1_model = ImplicitFactorizationModel(n_iter = 5)\n",
    "\n",
    "current = time.time()\n",
    "\n",
    "f1_model.fit(implicit_train_features,verbose = True)\n",
    "\n",
    "end = time.time()\n",
    "diff = end - current\n",
    "print('Training took %d second'%(diff))"
   ]
  },
  {
   "cell_type": "markdown",
   "metadata": {},
   "source": [
    "### Target Movies"
   ]
  },
  {
   "cell_type": "code",
   "execution_count": 43,
   "metadata": {
    "ExecuteTime": {
     "end_time": "2020-08-14T08:19:08.939534Z",
     "start_time": "2020-08-14T08:19:04.191420Z"
    }
   },
   "outputs": [],
   "source": [
    "allUsers_topK_f1 = allUsers_topK_implicit(f1_model)\n",
    "target_positive = allUsers_topK_f1"
   ]
  },
  {
   "cell_type": "markdown",
   "metadata": {},
   "source": [
    "Add negative samples to the target movies"
   ]
  },
  {
   "cell_type": "code",
   "execution_count": 44,
   "metadata": {
    "ExecuteTime": {
     "end_time": "2020-08-14T08:19:08.963558Z",
     "start_time": "2020-08-14T08:19:08.946551Z"
    }
   },
   "outputs": [
    {
     "data": {
      "text/plain": [
       "1144"
      ]
     },
     "execution_count": 44,
     "metadata": {},
     "output_type": "execute_result"
    }
   ],
   "source": [
    "len(train_df['user_id'].unique())"
   ]
  },
  {
   "cell_type": "code",
   "execution_count": 45,
   "metadata": {
    "ExecuteTime": {
     "end_time": "2020-08-14T08:19:09.031740Z",
     "start_time": "2020-08-14T08:19:08.970193Z"
    }
   },
   "outputs": [
    {
     "data": {
      "text/plain": [
       "\"import random\\ntarget_negative = []\\nfor i in range(1,len(train_features_df)+1):\\n    target_negative.append(random.choices(train_features_df[train_features_df['user_id']==i]['book_id'].values, k = 5))\""
      ]
     },
     "execution_count": 45,
     "metadata": {},
     "output_type": "execute_result"
    }
   ],
   "source": [
    "'''import random\n",
    "target_negative = []\n",
    "for i in range(1,len(train_features_df)+1):\n",
    "    target_negative.append(random.choices(train_features_df[train_features_df['user_id']==i]['book_id'].values, k = 5))'''"
   ]
  },
  {
   "cell_type": "code",
   "execution_count": 46,
   "metadata": {
    "ExecuteTime": {
     "end_time": "2020-08-14T08:19:09.047347Z",
     "start_time": "2020-08-14T08:19:09.036623Z"
    }
   },
   "outputs": [],
   "source": [
    "'''target_movies = []\n",
    "for i in range(len(num_users)):\n",
    "    target_movies.append(target_positive[i] + target_negative[i])'''\n",
    "target_movies = target_positive"
   ]
  },
  {
   "cell_type": "markdown",
   "metadata": {},
   "source": [
    "Map the target movies to pick the correct predictions based on the item id"
   ]
  },
  {
   "cell_type": "code",
   "execution_count": 47,
   "metadata": {
    "ExecuteTime": {
     "end_time": "2020-08-14T08:19:09.072948Z",
     "start_time": "2020-08-14T08:19:09.053851Z"
    }
   },
   "outputs": [],
   "source": [
    "def map_movies(target_movies):\n",
    "    map_target_movies = []\n",
    "    map_help = []\n",
    "    for movies in target_movies:\n",
    "        for movie in movies:\n",
    "            map_help.append(iid_map[movie])\n",
    "        map_target_movies.append(map_help)\n",
    "        map_help = []\n",
    "    return map_target_movies"
   ]
  },
  {
   "cell_type": "markdown",
   "metadata": {},
   "source": [
    "Implicit Factorization model Scores"
   ]
  },
  {
   "cell_type": "markdown",
   "metadata": {},
   "source": [
    "Train implicit on implicit_features_train! and take these scores."
   ]
  },
  {
   "cell_type": "code",
   "execution_count": 48,
   "metadata": {
    "ExecuteTime": {
     "end_time": "2020-08-14T08:19:09.101052Z",
     "start_time": "2020-08-14T08:19:09.078465Z"
    }
   },
   "outputs": [],
   "source": [
    "def give_movies_implicit_scores(map_movies):\n",
    "    implicit_scores = 0\n",
    "    feature = []\n",
    "    for i in range(len(num_users)):\n",
    "        #for movies in map_target_movies:\n",
    "        my_list = map_movies[i]\n",
    "        my_array = np.array(my_list)\n",
    "        implicit_scores = f1_model.predict(user_ids = i,item_ids = my_array)\n",
    "        feature.append(implicit_scores)\n",
    "    return feature"
   ]
  },
  {
   "cell_type": "code",
   "execution_count": 49,
   "metadata": {
    "ExecuteTime": {
     "end_time": "2020-08-14T08:19:10.202101Z",
     "start_time": "2020-08-14T08:19:09.107775Z"
    }
   },
   "outputs": [
    {
     "data": {
      "text/plain": [
       "(1157, 100)"
      ]
     },
     "execution_count": 49,
     "metadata": {},
     "output_type": "execute_result"
    }
   ],
   "source": [
    "map_target_movies = map_movies(target_movies)\n",
    "feature1 = give_movies_implicit_scores(map_target_movies)\n",
    "feature1 = np.asarray(feature1)\n",
    "feature1.shape"
   ]
  },
  {
   "cell_type": "code",
   "execution_count": 50,
   "metadata": {
    "ExecuteTime": {
     "end_time": "2020-08-14T08:19:10.210038Z",
     "start_time": "2020-08-14T08:19:10.206109Z"
    }
   },
   "outputs": [],
   "source": [
    "#feature1 = np.asarray(feature1).reshape(len(num_users),100)"
   ]
  },
  {
   "cell_type": "markdown",
   "metadata": {},
   "source": [
    "## Feature 2 (Rank)"
   ]
  },
  {
   "cell_type": "code",
   "execution_count": 51,
   "metadata": {
    "ExecuteTime": {
     "end_time": "2020-08-14T08:19:11.633319Z",
     "start_time": "2020-08-14T08:19:10.212013Z"
    }
   },
   "outputs": [],
   "source": [
    "feature2 = []\n",
    "for i in range(len(num_users)):\n",
    "    my_list = map_target_movies[i]\n",
    "    my_array = np.array(my_list)\n",
    "    feature2.append(st.rankdata(f1_model.predict(i,my_array)))"
   ]
  },
  {
   "cell_type": "code",
   "execution_count": 52,
   "metadata": {
    "ExecuteTime": {
     "end_time": "2020-08-14T08:19:11.650065Z",
     "start_time": "2020-08-14T08:19:11.637697Z"
    }
   },
   "outputs": [
    {
     "data": {
      "text/plain": [
       "(1157, 100)"
      ]
     },
     "execution_count": 52,
     "metadata": {},
     "output_type": "execute_result"
    }
   ],
   "source": [
    "np.array(feature2).shape"
   ]
  },
  {
   "cell_type": "markdown",
   "metadata": {},
   "source": [
    "## Feature 3 (SVD scores)"
   ]
  },
  {
   "cell_type": "markdown",
   "metadata": {},
   "source": [
    "SVD model Scores. Take advantage of the DataFrame containing the scores to extract the predicted scores for the desired movies."
   ]
  },
  {
   "cell_type": "code",
   "execution_count": 53,
   "metadata": {
    "ExecuteTime": {
     "end_time": "2020-08-14T08:19:11.893183Z",
     "start_time": "2020-08-14T08:19:11.653310Z"
    }
   },
   "outputs": [],
   "source": [
    "df_movie_features1 = train_features_df.pivot(\n",
    "    index='user_id',\n",
    "    columns='book_id',\n",
    "    values='rating'\n",
    ").fillna(0)"
   ]
  },
  {
   "cell_type": "code",
   "execution_count": 54,
   "metadata": {
    "ExecuteTime": {
     "end_time": "2020-08-14T08:19:12.328753Z",
     "start_time": "2020-08-14T08:19:11.896576Z"
    }
   },
   "outputs": [],
   "source": [
    "U1, sigma1, Vt1 = svds(df_movie_features1)\n",
    "sigma1 = np.diag(sigma1)\n",
    "svd_predictions_score1 = np.dot(np.dot(U1, sigma1), Vt1)\n",
    "svd_predictions_score_df1 = pd.DataFrame(svd_predictions_score1, columns = df_movie_features1.columns)"
   ]
  },
  {
   "cell_type": "code",
   "execution_count": 55,
   "metadata": {
    "ExecuteTime": {
     "end_time": "2020-08-14T08:19:12.369312Z",
     "start_time": "2020-08-14T08:19:12.338125Z"
    }
   },
   "outputs": [
    {
     "data": {
      "text/plain": [
       "27"
      ]
     },
     "execution_count": 55,
     "metadata": {},
     "output_type": "execute_result"
    }
   ],
   "source": [
    "target_movies[0][2]"
   ]
  },
  {
   "cell_type": "code",
   "execution_count": 56,
   "metadata": {
    "ExecuteTime": {
     "end_time": "2020-08-14T08:19:12.473403Z",
     "start_time": "2020-08-14T08:19:12.377966Z"
    }
   },
   "outputs": [
    {
     "data": {
      "text/html": [
       "<div>\n",
       "<style scoped>\n",
       "    .dataframe tbody tr th:only-of-type {\n",
       "        vertical-align: middle;\n",
       "    }\n",
       "\n",
       "    .dataframe tbody tr th {\n",
       "        vertical-align: top;\n",
       "    }\n",
       "\n",
       "    .dataframe thead th {\n",
       "        text-align: right;\n",
       "    }\n",
       "</style>\n",
       "<table border=\"1\" class=\"dataframe\">\n",
       "  <thead>\n",
       "    <tr style=\"text-align: right;\">\n",
       "      <th>book_id</th>\n",
       "      <th>2</th>\n",
       "      <th>3</th>\n",
       "      <th>4</th>\n",
       "      <th>5</th>\n",
       "      <th>7</th>\n",
       "      <th>8</th>\n",
       "      <th>9</th>\n",
       "      <th>10</th>\n",
       "      <th>11</th>\n",
       "      <th>13</th>\n",
       "      <th>...</th>\n",
       "      <th>9967</th>\n",
       "      <th>9972</th>\n",
       "      <th>9974</th>\n",
       "      <th>9978</th>\n",
       "      <th>9985</th>\n",
       "      <th>9988</th>\n",
       "      <th>9990</th>\n",
       "      <th>9991</th>\n",
       "      <th>9995</th>\n",
       "      <th>10000</th>\n",
       "    </tr>\n",
       "  </thead>\n",
       "  <tbody>\n",
       "    <tr>\n",
       "      <th>0</th>\n",
       "      <td>-0.023187</td>\n",
       "      <td>-0.001517</td>\n",
       "      <td>0.042136</td>\n",
       "      <td>0.03971</td>\n",
       "      <td>-0.008424</td>\n",
       "      <td>0.033313</td>\n",
       "      <td>-0.000785</td>\n",
       "      <td>0.008561</td>\n",
       "      <td>0.035325</td>\n",
       "      <td>0.01221</td>\n",
       "      <td>...</td>\n",
       "      <td>-0.000281</td>\n",
       "      <td>0.000299</td>\n",
       "      <td>0.000086</td>\n",
       "      <td>-0.000059</td>\n",
       "      <td>-0.000019</td>\n",
       "      <td>0.000227</td>\n",
       "      <td>0.000166</td>\n",
       "      <td>0.000818</td>\n",
       "      <td>0.000438</td>\n",
       "      <td>0.000015</td>\n",
       "    </tr>\n",
       "  </tbody>\n",
       "</table>\n",
       "<p>1 rows × 3864 columns</p>\n",
       "</div>"
      ],
      "text/plain": [
       "book_id     2         3         4        5         7         8         9      \\\n",
       "0       -0.023187 -0.001517  0.042136  0.03971 -0.008424  0.033313 -0.000785   \n",
       "\n",
       "book_id     10        11       13     ...     9967      9972      9974   \\\n",
       "0        0.008561  0.035325  0.01221  ... -0.000281  0.000299  0.000086   \n",
       "\n",
       "book_id     9978      9985      9988      9990      9991      9995      10000  \n",
       "0       -0.000059 -0.000019  0.000227  0.000166  0.000818  0.000438  0.000015  \n",
       "\n",
       "[1 rows x 3864 columns]"
      ]
     },
     "execution_count": 56,
     "metadata": {},
     "output_type": "execute_result"
    }
   ],
   "source": [
    "svd_predictions_score_df1[svd_predictions_score_df1.index == 0]"
   ]
  },
  {
   "cell_type": "code",
   "execution_count": 57,
   "metadata": {
    "ExecuteTime": {
     "end_time": "2020-08-14T08:19:12.497689Z",
     "start_time": "2020-08-14T08:19:12.480052Z"
    }
   },
   "outputs": [
    {
     "data": {
      "text/plain": [
       "0.001783205801175895"
      ]
     },
     "execution_count": 57,
     "metadata": {},
     "output_type": "execute_result"
    }
   ],
   "source": [
    "float(svd_predictions_score_df1[svd_predictions_score_df1.index == 0][target_movies[0][0]].values)"
   ]
  },
  {
   "cell_type": "code",
   "execution_count": 58,
   "metadata": {
    "ExecuteTime": {
     "end_time": "2020-08-14T08:19:15.606369Z",
     "start_time": "2020-08-14T08:19:12.504196Z"
    }
   },
   "outputs": [
    {
     "name": "stdout",
     "output_type": "stream",
     "text": [
      "book_id     2         3         4        5         7         8         9      \\\n",
      "0       -0.023187 -0.001517  0.042136  0.03971 -0.008424  0.033313 -0.000785   \n",
      "\n",
      "book_id     10        11       13        14        15        18        19     \\\n",
      "0        0.008561  0.035325  0.01221  0.014896  0.002697 -0.027124 -0.012657   \n",
      "\n",
      "book_id    21        22        23        24        25        26        27     \\\n",
      "0       -0.02927  0.016642 -0.018084 -0.027794 -0.013751  0.009639 -0.027855   \n",
      "\n",
      "book_id     28        29        32        33        35        36        37     \\\n",
      "0        0.007657  0.002535  0.012593  0.015713  0.017865  0.005079 -0.001239   \n",
      "\n",
      "book_id     38        39        40        41        42        43        44     \\\n",
      "0        0.017746 -0.002295  0.004163  0.000472  0.005093  0.009849  0.002084   \n",
      "\n",
      "book_id     45        46        47        48        49        50        51     \\\n",
      "0        0.017375  0.006553  0.001168 -0.000048 -0.000785  0.004511 -0.000029   \n",
      "\n",
      "book_id     52        53        54        55       57        58        59     \\\n",
      "0       -0.000416 -0.002627 -0.003802  0.016221  0.02079  0.012149  0.000803   \n",
      "\n",
      "book_id     60        62        63        64        65       66        67     \\\n",
      "0        0.022246 -0.002585  0.002805  0.007011  0.012138  0.00031  0.006193   \n",
      "\n",
      "book_id     68        70        71        72        75        76        77     \\\n",
      "0        0.003457 -0.003675 -0.000516 -0.001904  0.004487  0.002539  0.000689   \n",
      "\n",
      "book_id     78        79        80        81        82        83        84     \\\n",
      "0        0.003076 -0.001348  0.005552  0.009209  0.004945  0.000186 -0.001654   \n",
      "\n",
      "book_id     85        86        87        89        90        92        93     \\\n",
      "0        0.003121 -0.002879  0.009459  0.001259 -0.002424  0.009362 -0.000789   \n",
      "\n",
      "book_id    94        95        97        100       101       102       103    \\\n",
      "0        0.02571  0.005711  0.000139  0.016987  0.027181  0.003831 -0.002775   \n",
      "\n",
      "book_id     104       107       108       109       110       111       113    \\\n",
      "0        0.003508 -0.001485 -0.000821  0.001159 -0.002672  0.009522  0.008356   \n",
      "\n",
      "book_id     114       115       116       117      118       119       120    \\\n",
      "0        0.004366  0.026375  0.001718 -0.000217  0.00913  0.010702 -0.001032   \n",
      "\n",
      "book_id     121       122       123       125       126      127      129    \\\n",
      "0        0.024295  0.008816 -0.001582 -0.000689 -0.004289  0.00571  0.00088   \n",
      "\n",
      "book_id     130       131       132       133       135       136       137    \\\n",
      "0        0.007317  0.003875  0.000467 -0.000638 -0.003152  0.003513 -0.001249   \n",
      "\n",
      "book_id     138       142       145       148       150       151       152    \\\n",
      "0        0.004573 -0.000279 -0.000992  0.004239  0.015754 -0.000058 -0.000463   \n",
      "\n",
      "book_id     154       155       156       157       158       160       161    \\\n",
      "0       -0.003731 -0.013644  0.001556 -0.001306 -0.002372  0.001675 -0.012128   \n",
      "\n",
      "book_id     162       165       167       168       170       171      172    \\\n",
      "0        0.011698 -0.001738 -0.000529 -0.005957 -0.000728  0.001985  0.01225   \n",
      "\n",
      "book_id     173       176       177       178       179       180       181    \\\n",
      "0        0.003797 -0.003444  0.009078  0.010333  0.001576  0.010919  0.011963   \n",
      "\n",
      "book_id     184       186       187       189       191       194       196    \\\n",
      "0       -0.001135  0.008245  0.000199 -0.003912 -0.001664  0.002444  0.001445   \n",
      "\n",
      "book_id     197       198       199       200      204      205       207    \\\n",
      "0       -0.000251  0.003406 -0.000031  0.000611 -0.00205 -0.00503  0.000489   \n",
      "\n",
      "book_id     209       211       212       213       217       219       221    \\\n",
      "0       -0.000414  0.002928  0.006819  0.005998  0.010828 -0.003248 -0.001162   \n",
      "\n",
      "book_id     222      223       225       227       228       229       230    \\\n",
      "0        0.000152 -0.00067  0.005751 -0.000604  0.005524 -0.003683  0.002238   \n",
      "\n",
      "book_id     232       233       234       236       237      238       239    \\\n",
      "0       -0.003973  0.016403 -0.000398  0.003004 -0.001403  0.01296  0.001169   \n",
      "\n",
      "book_id     241       242       243       244       245       247       248    \\\n",
      "0        0.002034 -0.001167 -0.004922  0.000314 -0.000343 -0.000465 -0.002496   \n",
      "\n",
      "book_id     249       251       255       256       257       258       260    \\\n",
      "0        0.006338 -0.001575  0.003145  0.000115 -0.000573  0.001783 -0.000467   \n",
      "\n",
      "book_id     261       263       264       265     266       268       269    \\\n",
      "0        0.000375 -0.001148  0.011784  0.002556 -0.0015  0.002406 -0.000175   \n",
      "\n",
      "book_id     270       271       272       273      274       276       278    \\\n",
      "0        0.001965  0.003659  0.003322  0.004263  0.00022 -0.000471  0.001974   \n",
      "\n",
      "book_id     281       282       283       284       287     288       289    \\\n",
      "0       -0.000407 -0.000147 -0.002276  0.008426  0.010154 -0.0013  0.001993   \n",
      "\n",
      "book_id     292       293       296       297       298       301       303    \\\n",
      "0       -0.002877  0.000396 -0.000242  0.002497  0.000824  0.007578  0.000167   \n",
      "\n",
      "book_id     304       305       306       308       310      311       314    \\\n",
      "0        0.008744 -0.003654  0.008484 -0.000181  0.002157  0.00031  0.000855   \n",
      "\n",
      "book_id     315       316       317       321       322       323       325    \\\n",
      "0       -0.000217  0.001534  0.001168 -0.001096 -0.001112  0.018637  0.009518   \n",
      "\n",
      "book_id     326       328       330       331      332       335       336    \\\n",
      "0        0.003833  0.002127 -0.001644  0.001143 -0.00315 -0.000899 -0.000811   \n",
      "\n",
      "book_id     337       339       341      343       344       345       346    \\\n",
      "0       -0.000351  0.000475 -0.000856 -0.00205  0.014952 -0.002325  0.000686   \n",
      "\n",
      "book_id     347       349       350       353       354     356       357    \\\n",
      "0       -0.002802 -0.003587  0.003088  0.000364  0.011522  0.0001  0.000024   \n",
      "\n",
      "book_id     358       360      361       362       364       365       366    \\\n",
      "0       -0.001145  0.000564  0.00055  0.001085 -0.000976 -0.000886 -0.000297   \n",
      "\n",
      "book_id     367       368       369       371     372       373       374    \\\n",
      "0       -0.001932 -0.002379 -0.000591 -0.000852  0.0121 -0.001455  0.000323   \n",
      "\n",
      "book_id     375       377       378       380       381       383       386    \\\n",
      "0       -0.001161 -0.001776  0.016937  0.005133  0.001327  0.009856 -0.000869   \n",
      "\n",
      "book_id     387       388       389       390       391       395       397    \\\n",
      "0        0.000983  0.000116 -0.000147 -0.000901  0.000815  0.006585  0.001747   \n",
      "\n",
      "book_id     398       400       401       402       403       405       406    \\\n",
      "0        0.003493 -0.000301  0.005435 -0.000342 -0.000489  0.006524  0.000006   \n",
      "\n",
      "book_id     407       408       409       410       411      412       413    \\\n",
      "0        0.006563  0.000861  0.002338  0.004423 -0.000924  0.00035 -0.002743   \n",
      "\n",
      "book_id     416       417       420       424       425       426       427    \\\n",
      "0       -0.000603  0.001314  0.000188  0.001186  0.000361  0.009705  0.000991   \n",
      "\n",
      "book_id     429       430       431       432       436       439       442    \\\n",
      "0       -0.000836  0.004952 -0.000459 -0.002535  0.008626 -0.001198 -0.002419   \n",
      "\n",
      "book_id     443       444       446       448       450       451       453    \\\n",
      "0        0.000199 -0.000149 -0.000392 -0.000737 -0.000433 -0.000112  0.004784   \n",
      "\n",
      "book_id     454       455      456       457       461       462       463    \\\n",
      "0       -0.000202  0.000786  0.00389  0.000176  0.002616  0.000094 -0.001073   \n",
      "\n",
      "book_id     464       465       466       468       469      471       472    \\\n",
      "0       -0.000075  0.002683 -0.000203  0.004239  0.000501  0.00117 -0.000758   \n",
      "\n",
      "book_id     474       476       478       479       480       481       483    \\\n",
      "0        0.000608  0.012641 -0.000247  0.000796 -0.002217 -0.004468  0.014565   \n",
      "\n",
      "book_id     484      485       486       487       488       489      490    \\\n",
      "0        0.004147  0.00393 -0.000533 -0.003079 -0.005852  0.001165  0.00166   \n",
      "\n",
      "book_id     492       493       494       495       496       497      498    \\\n",
      "0       -0.002324  0.001204  0.001016  0.016394  0.001011 -0.000836  0.00298   \n",
      "\n",
      "book_id     499       500       501      502      503       504      505    \\\n",
      "0        0.003786 -0.000637 -0.000276 -0.00007 -0.00028 -0.000716 -0.00112   \n",
      "\n",
      "book_id     508       510       511       512       513       514       515    \\\n",
      "0        0.004271 -0.004638 -0.000074  0.000456  0.000528 -0.000974  0.003113   \n",
      "\n",
      "book_id     516       518       519       520       521       522       523    \\\n",
      "0        0.007702 -0.000031  0.000047  0.009164 -0.000347  0.000575  0.005212   \n",
      "\n",
      "book_id     526       527       528       529       530       531       532    \\\n",
      "0        0.000113 -0.000183 -0.002417 -0.001124  0.000596 -0.002214  0.000268   \n",
      "\n",
      "book_id     538       540       541     542       544       545       546    \\\n",
      "0        0.003145 -0.000083  0.000159 -0.0034 -0.000516 -0.003055  0.001659   \n",
      "\n",
      "book_id     547       549       550       552       553       554       556    \\\n",
      "0       -0.000235  0.001079  0.002632 -0.000137 -0.002585 -0.001231 -0.001343   \n",
      "\n",
      "book_id     557       558       559       560       561       563       564    \\\n",
      "0        0.003483 -0.000124  0.000517  0.002057 -0.001651 -0.000124  0.000512   \n",
      "\n",
      "book_id    565       568       569       570       571       572       573    \\\n",
      "0       -0.00012  0.000022 -0.000603  0.006016 -0.000495  0.003174  0.000052   \n",
      "\n",
      "book_id     574       575       576       577       578       579       582    \\\n",
      "0        0.001833 -0.000801  0.003682 -0.000317 -0.003564  0.000486 -0.000561   \n",
      "\n",
      "book_id     585       586       587       588       590      592       593    \\\n",
      "0       -0.000152 -0.000302  0.006906 -0.000777  0.000769  0.00378 -0.000315   \n",
      "\n",
      "book_id     594       595       596       597       598       599       601    \\\n",
      "0        0.000144  0.001728 -0.000338  0.001654 -0.000393 -0.002841 -0.000203   \n",
      "\n",
      "book_id     602       604       606       608       609       611       612    \\\n",
      "0       -0.001491  0.001593  0.000487 -0.000382 -0.001379 -0.002656 -0.004272   \n",
      "\n",
      "book_id     614       616       618       620       621       622       624    \\\n",
      "0        0.003078  0.000474 -0.000963  0.000164  0.000692 -0.000338 -0.000145   \n",
      "\n",
      "book_id     625       626       627       628       629       631       633    \\\n",
      "0        0.002938 -0.000047 -0.000308 -0.001263 -0.000258 -0.000183 -0.001162   \n",
      "\n",
      "book_id     635       637       639       640       641       646       647    \\\n",
      "0        0.000815 -0.001817 -0.000211 -0.001498 -0.002154  0.002283  0.001178   \n",
      "\n",
      "book_id     650       651       653       658       659       660       661    \\\n",
      "0        0.000669 -0.000209  0.007432  0.006422  0.001667 -0.001861 -0.000975   \n",
      "\n",
      "book_id     662       663       664       666       669       670       671    \\\n",
      "0        0.015913  0.003434  0.000621 -0.001375  0.002618 -0.003098  0.000019   \n",
      "\n",
      "book_id     672       674       675       679      681       682       683    \\\n",
      "0       -0.000519  0.000559 -0.001199 -0.000508 -0.00037  0.001555 -0.000015   \n",
      "\n",
      "book_id     686       687       688       690       691       693       696    \\\n",
      "0       -0.001377  0.000414  0.004883  0.002873 -0.000975 -0.001043 -0.006549   \n",
      "\n",
      "book_id     699       700       701       703       704       705       706    \\\n",
      "0        0.000789  0.001601  0.005983 -0.003555  0.005247 -0.002686  0.000877   \n",
      "\n",
      "book_id     707       708       709       710       712       714       715    \\\n",
      "0       -0.000581  0.001136  0.005104  0.002615 -0.000042 -0.000227  0.000914   \n",
      "\n",
      "book_id     716       718       722       723      725       726       727    \\\n",
      "0        0.000015  0.004181 -0.004421  0.000298 -0.00331 -0.000353  0.000445   \n",
      "\n",
      "book_id    728       729       730       731       733       734      735    \\\n",
      "0       -0.00003 -0.000108  0.001079 -0.000299  0.005352  0.000701 -0.00037   \n",
      "\n",
      "book_id     736       737       738       739       740       741       743    \\\n",
      "0        0.006598  0.001378 -0.002619 -0.003813 -0.000322  0.004301 -0.000023   \n",
      "\n",
      "book_id     747       751       753       755       757       758       760    \\\n",
      "0       -0.000372 -0.002272  0.000091 -0.001269  0.000686  0.000452 -0.001738   \n",
      "\n",
      "book_id     762       763       765       766       767       768      769    \\\n",
      "0        0.000394  0.009262  0.003063 -0.001059  0.000352 -0.000104 -0.00037   \n",
      "\n",
      "book_id     770       772       773       777       778       779       780    \\\n",
      "0       -0.002838 -0.000637  0.001837 -0.000137  0.000312  0.003782 -0.000462   \n",
      "\n",
      "book_id     781       782       784       785       786       788       789    \\\n",
      "0        0.000397  0.004629  0.000179 -0.001423  0.000166  0.000531 -0.000768   \n",
      "\n",
      "book_id    790       792       793      795       798       799       800    \\\n",
      "0       -0.00028  0.000521 -0.000514  0.00344 -0.001289 -0.002354  0.000106   \n",
      "\n",
      "book_id     803      804       806      808       809       815       817    \\\n",
      "0       -0.000033  0.00034 -0.004834  0.00064  0.000058 -0.000043 -0.001143   \n",
      "\n",
      "book_id     818      819      820       823       824       826       828    \\\n",
      "0       -0.005184  0.00111  0.00459  0.000124 -0.000606 -0.000852  0.004309   \n",
      "\n",
      "book_id     829       833       838       839       840       841       846    \\\n",
      "0        0.001441 -0.000743 -0.003181 -0.001501  0.000059  0.000026  0.000578   \n",
      "\n",
      "book_id     847       848       849       851       853       854       855    \\\n",
      "0        0.001483  0.001712  0.000059  0.000868 -0.000593  0.001789  0.002357   \n",
      "\n",
      "book_id     856      857       860       863       864       865       866    \\\n",
      "0       -0.000223  0.00258  0.007539  0.000078 -0.000542 -0.002124  0.000033   \n",
      "\n",
      "book_id     867       868       872       873       875       876       877    \\\n",
      "0        0.007484 -0.000416  0.005005  0.000041 -0.000033  0.000633 -0.000028   \n",
      "\n",
      "book_id     878     879       881       882       883       885       887    \\\n",
      "0       -0.000386  0.0023  0.002229 -0.000164  0.006672  0.000538  0.005987   \n",
      "\n",
      "book_id     888       890       891       894       895       896       897    \\\n",
      "0        0.000472 -0.001687 -0.000517 -0.002156  0.006484  0.000426 -0.000154   \n",
      "\n",
      "book_id     898       899       900       901       903       905       908    \\\n",
      "0       -0.002456  0.001959  0.000736  0.000935  0.001101  0.000002  0.003636   \n",
      "\n",
      "book_id     910       911      912       913       914       915       916    \\\n",
      "0       -0.000011 -0.002252 -0.00045  0.000066 -0.000007 -0.000568  0.004085   \n",
      "\n",
      "book_id     918       919       925       927       929       932       934    \\\n",
      "0        0.000014  0.001058  0.000712  0.000199 -0.000131  0.000135  0.001398   \n",
      "\n",
      "book_id     935       936       937     941       943       944      948    \\\n",
      "0        0.000158 -0.003051  0.001343  0.0053  0.003501 -0.001969  0.00405   \n",
      "\n",
      "book_id     949       951       952       953       955       956       958    \\\n",
      "0       -0.002583  0.000929  0.000487 -0.005369 -0.000255  0.000229  0.001259   \n",
      "\n",
      "book_id     959       961       963       964       966       967       969    \\\n",
      "0        0.005485  0.002042 -0.001219 -0.000453  0.000128 -0.000356  0.000205   \n",
      "\n",
      "book_id    972       974       975       976       977       981       982    \\\n",
      "0       -0.00021  0.000455 -0.000251 -0.001089  0.000831 -0.000368  0.000577   \n",
      "\n",
      "book_id     984       986       989       994       996       997       998    \\\n",
      "0        0.000419 -0.002097 -0.000063  0.000104  0.000091 -0.000366 -0.001256   \n",
      "\n",
      "book_id     999       1003      1005     1010      1014      1015      1016   \\\n",
      "0       -0.002185  0.000035  0.009169  0.00089 -0.002502  0.001558 -0.000073   \n",
      "\n",
      "book_id     1018     1019      1020     1021      1023      1025      1026   \\\n",
      "0       -0.000604 -0.00075  0.000157  0.00014 -0.001228 -0.001886 -0.000172   \n",
      "\n",
      "book_id     1031      1033      1034    1037      1038      1041      1042   \\\n",
      "0        0.004162 -0.000086 -0.001024 -0.0026 -0.001124  0.002933 -0.004068   \n",
      "\n",
      "book_id     1048      1049      1051      1053      1055      1056      1057   \\\n",
      "0        0.000139 -0.000156  0.001469 -0.005189  0.005619  0.000334 -0.001295   \n",
      "\n",
      "book_id     1058      1061      1063      1064      1067      1068      1071   \\\n",
      "0       -0.000409  0.000102  0.000336  0.000502 -0.000222  0.000614 -0.001782   \n",
      "\n",
      "book_id     1073      1074      1075      1077      1078      1079      1083   \\\n",
      "0        0.000461  0.002151 -0.001561  0.000022  0.000083 -0.000499  0.004065   \n",
      "\n",
      "book_id     1084      1085      1086      1087      1088      1089      1090   \\\n",
      "0        0.003106 -0.000274 -0.001352  0.000512  0.000354 -0.000861  0.001799   \n",
      "\n",
      "book_id     1094      1096     1097      1099     1100      1102      1103   \\\n",
      "0        0.000672  0.002047 -0.00023  0.001662 -0.00071  0.003873  0.000024   \n",
      "\n",
      "book_id     1105      1106      1107      1108     1111     1112      1113   \\\n",
      "0       -0.004412 -0.000825  0.000377  0.000683 -0.00037 -0.00066  0.001764   \n",
      "\n",
      "book_id    1117      1119      1120      1121      1123     1124      1127   \\\n",
      "0       -0.00079 -0.002458 -0.000084  0.000682 -0.001408  0.00066 -0.000361   \n",
      "\n",
      "book_id     1128      1131      1133      1135      1137          1138   \\\n",
      "0       -0.000602  0.000307  0.003281  0.001831  0.000014 -5.021066e-07   \n",
      "\n",
      "book_id     1139      1142      1144      1145      1146      1149      1150   \\\n",
      "0       -0.004599 -0.001257  0.006266  0.004275  0.000129  0.001754 -0.000001   \n",
      "\n",
      "book_id     1151      1153     1154      1155      1158      1159      1160   \\\n",
      "0       -0.000865 -0.000045  0.00148 -0.000421  0.000301  0.002817 -0.000176   \n",
      "\n",
      "book_id     1161      1163      1167     1168      1171     1172      1175   \\\n",
      "0        0.004449  0.000128 -0.000085  0.00025  0.002712 -0.00002 -0.000288   \n",
      "\n",
      "book_id    1176      1178      1179    1181      1184      1185      1186   \\\n",
      "0        0.00042 -0.000592 -0.001326 -0.0008  0.003065  0.000812  0.002079   \n",
      "\n",
      "book_id     1189      1191      1196      1199      1202      1204      1205   \\\n",
      "0        0.000062 -0.000579  0.000296 -0.000028  0.001865  0.000611  0.001626   \n",
      "\n",
      "book_id     1206      1207      1208      1210      1213      1214      1216   \\\n",
      "0        0.000863 -0.000002 -0.004485 -0.000083 -0.003101  0.002521  0.000079   \n",
      "\n",
      "book_id    1217      1218      1221      1222      1223      1224      1225   \\\n",
      "0       -0.00094 -0.000428  0.002908  0.000788 -0.001088  0.000004  0.000208   \n",
      "\n",
      "book_id     1226      1228      1232      1233      1234      1235      1236   \\\n",
      "0       -0.000362 -0.000109 -0.000928  0.000266 -0.000082  0.000075  0.000293   \n",
      "\n",
      "book_id    1237      1238      1239      1245      1246      1247      1248   \\\n",
      "0       -0.00006  0.001485  0.000968 -0.001462 -0.000463 -0.000537 -0.001108   \n",
      "\n",
      "book_id    1249      1250      1255      1258      1259      1260      1261   \\\n",
      "0       -0.00088  0.005155  0.001474 -0.000986 -0.000862 -0.000344 -0.004956   \n",
      "\n",
      "book_id     1262      1265      1267      1269      1270      1272      1273   \\\n",
      "0       -0.002752  0.002782 -0.000494 -0.002176  0.000109  0.003333 -0.000287   \n",
      "\n",
      "book_id     1277      1278      1279     1280      1282      1283      1286   \\\n",
      "0       -0.000176 -0.002996  0.000245  0.00083  0.000076  0.001513 -0.000275   \n",
      "\n",
      "book_id     1288      1289      1290      1294      1296      1299      1300   \\\n",
      "0       -0.001622  0.000525  0.000223  0.001134 -0.000155  0.003225  0.000032   \n",
      "\n",
      "book_id     1301      1303      1304      1305      1311     1312     1313   \\\n",
      "0       -0.000709 -0.000026 -0.001493 -0.000225  0.000874  0.00483 -0.00021   \n",
      "\n",
      "book_id     1314      1315      1317      1318      1319     1320      1322   \\\n",
      "0        0.000207  0.001184  0.002915  0.000904  0.002227  0.00061 -0.000606   \n",
      "\n",
      "book_id     1323      1324      1327      1329      1330      1332      1333   \\\n",
      "0        0.000021 -0.000358 -0.000193  0.003046 -0.000041 -0.003481  0.000256   \n",
      "\n",
      "book_id    1337      1338      1340      1342     1343      1348      1349   \\\n",
      "0       -0.00102 -0.000524 -0.000677 -0.001329 -0.00155  0.000752  0.000014   \n",
      "\n",
      "book_id     1350    1351     1354      1357      1362      1363      1364   \\\n",
      "0       -0.000706 -0.0002  0.00002  0.000369 -0.003606 -0.000972  0.001197   \n",
      "\n",
      "book_id     1365      1367      1368      1369      1370    1373     1378   \\\n",
      "0        0.001908  0.000836 -0.001693 -0.000166 -0.000299 -0.0023  0.00077   \n",
      "\n",
      "book_id     1379      1380      1381      1383      1384      1386      1388   \\\n",
      "0       -0.000241  0.002227 -0.000413  0.000885  0.000659  0.002222 -0.001056   \n",
      "\n",
      "book_id    1389      1390      1391      1392      1393      1394      1396   \\\n",
      "0        0.00184 -0.001062  0.000117  0.003305  0.000876 -0.002905 -0.001142   \n",
      "\n",
      "book_id     1401     1407      1410      1411      1414      1418      1421   \\\n",
      "0        0.000424 -0.00125  0.000031  0.002613  0.000018 -0.000303  0.002201   \n",
      "\n",
      "book_id     1422      1423      1424     1426      1427     1430     1431   \\\n",
      "0        0.000095 -0.001506 -0.000055  0.00179  0.000113  0.00125 -0.00033   \n",
      "\n",
      "book_id   1432      1434      1435     1436      1438      1441      1444   \\\n",
      "0        0.0011  0.000038  0.001205 -0.00093 -0.000413  0.000155  0.000877   \n",
      "\n",
      "book_id     1445      1447      1448      1449      1450      1452     1454   \\\n",
      "0       -0.000077 -0.000384 -0.000537  0.000769 -0.000271 -0.000762  0.00037   \n",
      "\n",
      "book_id     1457      1458      1459      1460      1461      1463      1465   \\\n",
      "0        0.002197  0.002129 -0.000341  0.001512 -0.000019 -0.000891  0.000371   \n",
      "\n",
      "book_id    1466      1476      1477      1480      1484      1485      1486   \\\n",
      "0        0.00022  0.000134  0.000022 -0.001257 -0.000027  0.000012 -0.000223   \n",
      "\n",
      "book_id     1487      1488      1489      1492     1493      1495      1497   \\\n",
      "0        0.001603  0.000006 -0.001169  0.001559 -0.00022  0.000226 -0.000104   \n",
      "\n",
      "book_id     1498      1500      1501      1503     1506      1509      1514   \\\n",
      "0       -0.002414  0.001805  0.001278  0.001184  0.00039  0.000819  0.000174   \n",
      "\n",
      "book_id     1515      1516      1518      1519      1520      1521      1525   \\\n",
      "0        0.001487 -0.000166  0.000989  0.000488  0.000245  0.000269 -0.002407   \n",
      "\n",
      "book_id    1526      1528      1529      1530      1533      1534      1535   \\\n",
      "0       -0.00068 -0.000235  0.000027 -0.000403 -0.003547  0.000115 -0.000011   \n",
      "\n",
      "book_id    1536      1537      1544      1545      1547      1548      1549   \\\n",
      "0       -0.00144  0.001627  0.006006 -0.001043  0.002334 -0.000103 -0.000295   \n",
      "\n",
      "book_id     1552      1553      1554      1555     1561     1564      1566   \\\n",
      "0       -0.000183 -0.000974 -0.000334  0.000502  0.00047 -0.00024  0.003425   \n",
      "\n",
      "book_id     1567      1569      1570      1571      1572      1573      1574   \\\n",
      "0        0.001928 -0.000022  0.004055  0.001746 -0.002034 -0.000347  0.000121   \n",
      "\n",
      "book_id     1578      1580     1581      1582      1584      1586     1589   \\\n",
      "0       -0.000641 -0.000574  0.00011  0.000992  0.001364  0.000215 -0.00318   \n",
      "\n",
      "book_id     1590      1591      1592      1593      1597      1598      1600   \\\n",
      "0       -0.000691  0.000778 -0.000941 -0.000086  0.002357  0.000173  0.000058   \n",
      "\n",
      "book_id     1601      1604     1605      1606      1607      1618      1620   \\\n",
      "0        0.000543  0.000199  0.00051 -0.000496 -0.000143 -0.000002  0.000373   \n",
      "\n",
      "book_id     1622      1624      1625      1627      1629      1631      1633   \\\n",
      "0        0.000613  0.001241 -0.000337  0.000171  0.000257 -0.000407 -0.003204   \n",
      "\n",
      "book_id     1635      1638      1639      1641      1642      1643     1644   \\\n",
      "0        0.000253 -0.002869  0.000037 -0.000071  0.003415 -0.001526  0.00344   \n",
      "\n",
      "book_id     1645      1646      1649      1650      1656      1657      1659   \\\n",
      "0       -0.000992 -0.002023  0.000901  0.000427 -0.000382  0.001977  0.000631   \n",
      "\n",
      "book_id     1662      1663      1664      1666      1670      1672      1675   \\\n",
      "0       -0.000092 -0.000658  0.001571 -0.000274 -0.000109  0.003155  0.000309   \n",
      "\n",
      "book_id     1676     1677      1678      1679      1680      1681     1683   \\\n",
      "0        0.002488 -0.00089  0.000834  0.001361 -0.000256  0.000215 -0.00007   \n",
      "\n",
      "book_id     1684      1685      1686      1691      1692      1693     1694   \\\n",
      "0        0.000006  0.001506 -0.000981  0.001084  0.000344 -0.001324 -0.00011   \n",
      "\n",
      "book_id     1695      1698      1701      1703      1704      1705      1706   \\\n",
      "0        0.000023 -0.000399  0.000229 -0.000135  0.002043 -0.000022 -0.000189   \n",
      "\n",
      "book_id     1707      1709      1711      1713      1714      1718      1719   \\\n",
      "0        0.000342 -0.001995  0.000798  0.000801  0.003626 -0.000192 -0.000546   \n",
      "\n",
      "book_id     1721      1722      1725      1726     1727      1732      1733   \\\n",
      "0       -0.000266 -0.000711  0.000394 -0.000367 -0.00387 -0.000058  0.000105   \n",
      "\n",
      "book_id     1734      1735      1739      1741      1742     1746      1748   \\\n",
      "0        0.000526 -0.001067  0.003454 -0.000189  0.000007 -0.00028  0.000458   \n",
      "\n",
      "book_id     1749     1751      1752      1755      1757      1758      1759   \\\n",
      "0        0.000339 -0.00035  0.004157 -0.000952  0.000154  0.000225 -0.001017   \n",
      "\n",
      "book_id     1762      1763      1768      1771     1774      1775      1778   \\\n",
      "0        0.000667 -0.000536 -0.002307  0.000875 -0.00024 -0.000359  0.000117   \n",
      "\n",
      "book_id     1779      1781      1783      1785      1788      1789      1791   \\\n",
      "0       -0.000491 -0.000002  0.000736  0.001266 -0.000054  0.000026 -0.000237   \n",
      "\n",
      "book_id    1792      1793      1795      1796      1797      1800      1801   \\\n",
      "0       -0.00005 -0.000102 -0.000692  0.003317  0.004795  0.000425 -0.000635   \n",
      "\n",
      "book_id     1802      1806      1809      1812      1817      1825     1826   \\\n",
      "0       -0.000409  0.002889 -0.000609 -0.000342 -0.000857 -0.001266 -0.00033   \n",
      "\n",
      "book_id     1827      1828      1835      1842      1843      1844      1845   \\\n",
      "0       -0.000158 -0.000294  0.000048  0.000798  0.003375  0.000073  0.002489   \n",
      "\n",
      "book_id     1847      1853      1856      1857      1858      1859      1862   \\\n",
      "0       -0.000587  0.002239  0.001554 -0.001783 -0.000145  0.002804 -0.000731   \n",
      "\n",
      "book_id     1863      1865      1868      1869      1872      1873      1877   \\\n",
      "0       -0.000409  0.000134 -0.000088 -0.000532 -0.000058  0.001021 -0.000142   \n",
      "\n",
      "book_id     1878     1880      1881      1885      1886      1887      1888   \\\n",
      "0       -0.000305 -0.00061 -0.000008  0.001076 -0.000148  0.000228  0.004611   \n",
      "\n",
      "book_id     1892      1895      1897      1900      1907      1908      1910   \\\n",
      "0        0.000082 -0.001294 -0.000138 -0.003362 -0.000128  0.000422  0.000454   \n",
      "\n",
      "book_id     1913      1914     1915      1916      1918      1921      1922   \\\n",
      "0        0.000373  0.000018  0.00098 -0.000944 -0.000872  0.000192 -0.000068   \n",
      "\n",
      "book_id     1923      1924    1925      1926      1927     1928      1930   \\\n",
      "0        0.004915 -0.001227 -0.0001  0.000814  0.000462  0.00207 -0.000306   \n",
      "\n",
      "book_id     1931      1936      1937      1938      1940     1944      1949   \\\n",
      "0       -0.000317  0.002223 -0.002349 -0.000692  0.000312 -0.00019  0.001912   \n",
      "\n",
      "book_id     1953    1954      1955      1956      1957      1960      1963   \\\n",
      "0       -0.000265  0.0004  0.000622 -0.000351  0.000543  0.001632 -0.000527   \n",
      "\n",
      "book_id     1964      1966      1968      1969      1970      1972      1973   \\\n",
      "0       -0.000339 -0.000653 -0.000103  0.000309  0.001115 -0.000578  0.000347   \n",
      "\n",
      "book_id     1974      1975      1976      1978      1980      1984      1986   \\\n",
      "0       -0.000672  0.000015  0.001591  0.000501 -0.001266  0.000729 -0.000653   \n",
      "\n",
      "book_id     1987      1989      1992     1993      1996      1999      2002   \\\n",
      "0        0.000319 -0.003112 -0.000039 -0.00287  0.000015  0.001792  0.000262   \n",
      "\n",
      "book_id     2004      2007      2009     2010      2012      2013      2015   \\\n",
      "0        0.002244 -0.000347 -0.000866  0.00147 -0.001106  0.001663  0.000857   \n",
      "\n",
      "book_id     2022      2023      2024      2025    2026      2027     2028   \\\n",
      "0        0.000065 -0.000407  0.000591  0.002675  0.0002  0.005339 -0.00043   \n",
      "\n",
      "book_id     2029      2030      2031      2032      2034      2039     2041   \\\n",
      "0        0.002382 -0.000108 -0.000004  0.000058 -0.000144 -0.000616 -0.00198   \n",
      "\n",
      "book_id     2043      2045      2047      2049      2051      2052     2053   \\\n",
      "0       -0.002132 -0.000963 -0.000619  0.000478  0.001247 -0.000159  0.00034   \n",
      "\n",
      "book_id   2054      2055      2056      2062      2063      2064      2068   \\\n",
      "0        0.0001 -0.000205 -0.000935  0.000674  0.000737 -0.000483 -0.000762   \n",
      "\n",
      "book_id     2069      2073      2074      2075      2076      2079      2082   \\\n",
      "0        0.000038 -0.000294  0.000039 -0.000394 -0.000248  0.002251 -0.001051   \n",
      "\n",
      "book_id     2086      2087      2089      2090      2091      2095      2096   \\\n",
      "0       -0.003021  0.000182  0.005362 -0.001006 -0.000089  0.000153 -0.000087   \n",
      "\n",
      "book_id     2097     2098      2101      2103      2107      2108      2109   \\\n",
      "0        0.001407  0.00119 -0.000301 -0.000235  0.002353  0.000125 -0.001257   \n",
      "\n",
      "book_id     2110    2115      2122      2123      2124      2125     2127   \\\n",
      "0        0.000052  0.0001 -0.000074 -0.000555  0.000317 -0.000696 -0.00038   \n",
      "\n",
      "book_id     2128      2129      2131      2132      2135      2136     2142   \\\n",
      "0        0.001838  0.001491  0.001747  0.000144 -0.000055  0.000582 -0.00001   \n",
      "\n",
      "book_id    2143      2144      2145      2148     2150      2155     2156   \\\n",
      "0        0.00008  0.000778  0.000275 -0.000551 -0.00003 -0.001607  0.00005   \n",
      "\n",
      "book_id     2157      2158      2159      2163      2165      2170      2172   \\\n",
      "0        0.001408  0.000043 -0.000306  0.001039  0.000078  0.000601  0.004165   \n",
      "\n",
      "book_id     2174     2176      2177      2181     2184      2187      2188   \\\n",
      "0        0.000596 -0.00033 -0.000267  0.000196 -0.00186  0.000145  0.004953   \n",
      "\n",
      "book_id     2190     2192      2193      2196      2197      2198      2199   \\\n",
      "0        0.000209 -0.00048  0.001584 -0.003439 -0.000242 -0.000586  0.000774   \n",
      "\n",
      "book_id    2202      2209      2210     2213      2214      2215      2219   \\\n",
      "0       -0.00047  0.000099 -0.000099 -0.00152 -0.001434 -0.001198 -0.003048   \n",
      "\n",
      "book_id     2220     2224      2226     2229      2230      2233      2235   \\\n",
      "0        0.000144 -0.00083 -0.000076  0.00108 -0.000774  0.001349 -0.000133   \n",
      "\n",
      "book_id     2238      2239      2240      2241      2242      2250      2252   \\\n",
      "0       -0.000017 -0.000797  0.000046  0.000364 -0.001225 -0.000471  0.000349   \n",
      "\n",
      "book_id    2253      2255      2257      2259      2260      2261      2262   \\\n",
      "0       -0.00022  0.000057  0.001086  0.001349 -0.000096 -0.000368 -0.000378   \n",
      "\n",
      "book_id     2266      2268      2269     2270      2271      2274      2277   \\\n",
      "0        0.000189 -0.000014 -0.000077 -0.00067 -0.001362  0.003838 -0.000017   \n",
      "\n",
      "book_id     2278      2279      2280      2284      2286      2288      2289   \\\n",
      "0       -0.000198  0.000519 -0.000027  0.003953  0.000117  0.000986 -0.000239   \n",
      "\n",
      "book_id     2291      2295      2296      2297      2298      2299      2302   \\\n",
      "0       -0.000367  0.000102 -0.000126  0.000144  0.000107 -0.000441  0.000183   \n",
      "\n",
      "book_id     2303      2304      2306      2309      2311      2312      2314   \\\n",
      "0       -0.000541  0.002367 -0.000473 -0.000187 -0.000345 -0.000781  0.001388   \n",
      "\n",
      "book_id     2315      2318      2320      2321      2323      2324      2326   \\\n",
      "0        0.000128 -0.000197  0.000704 -0.000248 -0.000624 -0.000882 -0.000253   \n",
      "\n",
      "book_id     2328      2336      2337     2339      2340      2341      2342   \\\n",
      "0        0.000634  0.000417  0.001498  0.00379  0.000325 -0.000394  0.000596   \n",
      "\n",
      "book_id     2343      2344      2347      2351      2352      2353      2354   \\\n",
      "0       -0.000415 -0.000025 -0.004327  0.000247 -0.001583 -0.002057 -0.000432   \n",
      "\n",
      "book_id     2355     2357      2361      2362      2365      2366      2367   \\\n",
      "0        0.000759  0.00061  0.000062 -0.000297 -0.000607  0.000099  0.001039   \n",
      "\n",
      "book_id     2368      2371      2379      2380      2382      2383      2385   \\\n",
      "0        0.000552  0.001958  0.001623  0.000042 -0.000575  0.000056 -0.000471   \n",
      "\n",
      "book_id    2387      2392      2398      2399     2400      2403    2405   \\\n",
      "0       -0.00016 -0.000397 -0.000612 -0.001265  0.00011  0.002662 -0.0001   \n",
      "\n",
      "book_id     2406      2408      2411      2415      2416      2419     2425   \\\n",
      "0       -0.001111 -0.000728 -0.000249 -0.000423 -0.000214  0.001251  0.00009   \n",
      "\n",
      "book_id     2426      2433     2439      2440      2445     2446      2451   \\\n",
      "0       -0.000836  0.000556  0.00006  0.005066 -0.000487 -0.00027  0.001154   \n",
      "\n",
      "book_id     2452      2453      2456      2458      2461      2462      2464   \\\n",
      "0       -0.001272 -0.000373  0.000132 -0.002855 -0.001866  0.000121  0.002907   \n",
      "\n",
      "book_id     2465      2466      2467      2468      2469     2470      2474   \\\n",
      "0        0.000243  0.000881 -0.000281 -0.000538 -0.001817 -0.00177 -0.000463   \n",
      "\n",
      "book_id     2475      2478      2481      2485      2487      2489      2490   \\\n",
      "0       -0.000078 -0.000226 -0.000082 -0.000045 -0.000419 -0.001293  0.000112   \n",
      "\n",
      "book_id     2491      2497      2498     2499      2501      2504      2506   \\\n",
      "0       -0.002557  0.000459  0.000511 -0.00061 -0.000705  0.000092 -0.000248   \n",
      "\n",
      "book_id     2507      2508      2513      2514      2515      2519      2521   \\\n",
      "0       -0.000178  0.005704 -0.002491 -0.000887 -0.000026 -0.000828  0.000102   \n",
      "\n",
      "book_id     2522      2523      2524          2526      2536      2539   \\\n",
      "0        0.000058 -0.000299  0.000518 -1.674529e-07 -0.000051  0.000025   \n",
      "\n",
      "book_id     2540      2544      2546      2547      2549      2550      2552   \\\n",
      "0        0.000149 -0.000637  0.000006 -0.000551 -0.000037 -0.000796  0.000788   \n",
      "\n",
      "book_id     2553      2554      2555      2556      2557      2559      2561   \\\n",
      "0       -0.000914 -0.001029  0.000389 -0.000213 -0.000274  0.002604  0.001704   \n",
      "\n",
      "book_id     2564      2568      2571      2573      2574      2577      2578   \\\n",
      "0       -0.001438  0.000171 -0.000342 -0.000101  0.000457 -0.000614  0.001343   \n",
      "\n",
      "book_id     2579      2584      2586      2592     2594      2595      2597   \\\n",
      "0        0.001756  0.001168  0.000514  0.000015 -0.00107 -0.000608 -0.000402   \n",
      "\n",
      "book_id    2600      2601      2603      2604      2605      2608     2610   \\\n",
      "0       -0.00033  0.001077 -0.000408 -0.004569 -0.000521 -0.000417  0.00046   \n",
      "\n",
      "book_id     2611      2612      2615      2616      2618      2619      2620   \\\n",
      "0       -0.000253  0.000417  0.001589 -0.000301  0.000483  0.000027 -0.001658   \n",
      "\n",
      "book_id     2621      2623      2624      2625      2632      2633      2638   \\\n",
      "0        0.002751 -0.001022 -0.001202  0.000022  0.000929 -0.000101 -0.000095   \n",
      "\n",
      "book_id     2640      2642      2643      2644      2645      2646      2647   \\\n",
      "0       -0.000682 -0.000471  0.001112  0.000515 -0.002885 -0.002561  0.000005   \n",
      "\n",
      "book_id     2648      2650      2651      2657      2658      2666      2668   \\\n",
      "0       -0.000017  0.000012  0.000147 -0.001324 -0.001785 -0.001352  0.000014   \n",
      "\n",
      "book_id     2669      2671      2673      2674      2677      2678      2679   \\\n",
      "0       -0.000865  0.000408 -0.000558 -0.000096 -0.001619  0.000073  0.003111   \n",
      "\n",
      "book_id     2680      2686      2691      2693      2695      2696      2698   \\\n",
      "0       -0.000149  0.000005 -0.000428 -0.000372 -0.000547 -0.000087  0.002031   \n",
      "\n",
      "book_id     2701      2703      2705      2706      2709      2710      2716   \\\n",
      "0       -0.001867 -0.000004 -0.000102 -0.000249  0.001277  0.001438 -0.000315   \n",
      "\n",
      "book_id     2718      2722      2724      2727      2729      2730      2732   \\\n",
      "0       -0.002112  0.000085  0.000226 -0.000057  0.001885 -0.000058 -0.000062   \n",
      "\n",
      "book_id     2735     2737      2738      2740      2741      2745      2746   \\\n",
      "0       -0.000653 -0.00043  0.001301 -0.000096  0.000833 -0.000022 -0.000923   \n",
      "\n",
      "book_id     2747      2750      2751      2754      2755      2757      2758   \\\n",
      "0        0.003218  0.000608  0.000002  0.000395 -0.000215  0.001247 -0.000033   \n",
      "\n",
      "book_id     2760      2761      2763      2765      2766     2770      2781   \\\n",
      "0        0.000035  0.000157  0.000014  0.000087  0.000498  0.00193 -0.000653   \n",
      "\n",
      "book_id     2782      2783      2786      2787      2794      2798     2806   \\\n",
      "0       -0.000488 -0.001802 -0.000957 -0.000148 -0.000087  0.000871  0.00102   \n",
      "\n",
      "book_id     2807      2809      2810      2811      2812      2817      2820   \\\n",
      "0       -0.001061  0.001951  0.000527 -0.001509  0.000068 -0.000685  0.000328   \n",
      "\n",
      "book_id     2821      2822      2823      2825     2827      2830      2844   \\\n",
      "0        0.000948  0.000192 -0.000157 -0.000017 -0.00014 -0.000016  0.000684   \n",
      "\n",
      "book_id     2846     2852      2854      2857      2859      2860     2862   \\\n",
      "0        0.000672  0.00053 -0.000229  0.000271 -0.000936  0.000102 -0.00098   \n",
      "\n",
      "book_id     2865      2869      2873      2874      2875      2878      2883   \\\n",
      "0       -0.000136  0.003152 -0.000326 -0.000575  0.001444 -0.000104  0.001039   \n",
      "\n",
      "book_id    2887      2890      2894     2897      2902      2903      2910   \\\n",
      "0       -0.00049 -0.000119 -0.000039  0.00052 -0.000755  0.000228 -0.000122   \n",
      "\n",
      "book_id     2911      2914      2920      2921      2923      2926      2927   \\\n",
      "0       -0.000067  0.002741 -0.000016  0.000097  0.000439  0.003573  0.000436   \n",
      "\n",
      "book_id     2931      2934      2936      2937      2938      2939      2940   \\\n",
      "0       -0.000456 -0.000021 -0.001153 -0.000363  0.000364  0.001356 -0.000029   \n",
      "\n",
      "book_id     2942      2944      2946      2947      2952      2954      2957   \\\n",
      "0        0.000387 -0.001816 -0.000032 -0.000324 -0.000085 -0.000239 -0.000404   \n",
      "\n",
      "book_id     2958    2959      2960      2961      2963    2965      2967   \\\n",
      "0        0.001164 -0.0003  0.000032 -0.000348  0.000043 -0.0006  0.000442   \n",
      "\n",
      "book_id     2970      2973      2975      2976      2977          2980   \\\n",
      "0       -0.000472 -0.000219  0.002259  0.000005 -0.000007  4.406179e-20   \n",
      "\n",
      "book_id     2982      2985      2988      2989      2991      2994      2995   \\\n",
      "0        0.000097 -0.000125  0.000291  0.000229  0.000115  0.000994 -0.000099   \n",
      "\n",
      "book_id     3000     3002      3006      3007      3009      3011      3016   \\\n",
      "0       -0.000994  0.00222  0.000049  0.000005 -0.000012  0.000831  0.000772   \n",
      "\n",
      "book_id    3018      3019      3020      3021      3022      3024      3025   \\\n",
      "0       -0.00001 -0.000203  0.000952  0.000281 -0.000713  0.000521 -0.000007   \n",
      "\n",
      "book_id     3027      3028     3029     3033      3034      3036      3042   \\\n",
      "0        0.002037 -0.000041 -0.00069  0.00011  0.000119 -0.000448 -0.000134   \n",
      "\n",
      "book_id     3046      3047      3048      3049      3055          3056   \\\n",
      "0       -0.000046 -0.001811  0.001159  0.000309  0.000031 -1.796580e-07   \n",
      "\n",
      "book_id     3058      3061      3063      3065     3066      3068      3069   \\\n",
      "0       -0.000104  0.000501 -0.000741 -0.000488 -0.00098  0.002009 -0.000133   \n",
      "\n",
      "book_id     3070      3071      3072     3076    3077      3078      3079   \\\n",
      "0       -0.000059  0.000227 -0.000076  0.00039 -0.0004 -0.000152  0.000016   \n",
      "\n",
      "book_id     3080      3082      3084      3085      3086      3090      3091   \\\n",
      "0       -0.000099 -0.001107  0.000107  0.001592 -0.002053  0.000196  0.000088   \n",
      "\n",
      "book_id     3092      3096      3098      3100      3101      3106     3108   \\\n",
      "0       -0.000054 -0.000828 -0.000542 -0.000096  0.000389  0.000944 -0.00025   \n",
      "\n",
      "book_id     3109     3111      3115      3119      3120      3122      3123   \\\n",
      "0       -0.000217 -0.00021  0.000026 -0.001288 -0.000743 -0.000234  0.000354   \n",
      "\n",
      "book_id     3124      3125      3126      3127      3128      3131      3133   \\\n",
      "0        0.002309 -0.000054  0.000291  0.000019 -0.002304  0.000635  0.002174   \n",
      "\n",
      "book_id     3136      3137      3138      3139      3141      3142      3156   \\\n",
      "0        0.000121 -0.000373 -0.000583  0.001723  0.001709  0.000115  0.002892   \n",
      "\n",
      "book_id     3158      3160      3163      3166      3171      3174      3177   \\\n",
      "0       -0.000073 -0.000513  0.000302 -0.000067 -0.000094 -0.000282 -0.001499   \n",
      "\n",
      "book_id    3179      3182      3186      3187      3197      3198      3200   \\\n",
      "0        0.00064 -0.000544  0.000133  0.001458  0.000034  0.000459 -0.000974   \n",
      "\n",
      "book_id     3202      3203      3205     3206      3207      3208      3210   \\\n",
      "0        0.001521 -0.000004 -0.000215  0.00004  0.000247  0.000376  0.002167   \n",
      "\n",
      "book_id     3212      3213      3217      3219      3223      3224      3229   \\\n",
      "0        0.000637 -0.000361  0.000169  0.001904 -0.000131 -0.000359  0.000112   \n",
      "\n",
      "book_id    3234      3237      3240      3243      3244      3246      3247   \\\n",
      "0       -0.00032  0.002212  0.000124  0.000958  0.000118 -0.000238 -0.000019   \n",
      "\n",
      "book_id     3250      3252      3254      3255      3256      3258      3264   \\\n",
      "0        0.001381  0.000486 -0.000484  0.000512 -0.000136 -0.000249 -0.000203   \n",
      "\n",
      "book_id     3273      3274      3275      3277      3278      3279      3280   \\\n",
      "0       -0.000045  0.000413  0.000021 -0.000164 -0.000654 -0.000018  0.000457   \n",
      "\n",
      "book_id    3284      3286      3291      3293      3296      3298      3302   \\\n",
      "0        0.00103 -0.000719 -0.000304 -0.000051  0.000303 -0.000017 -0.000034   \n",
      "\n",
      "book_id     3304      3306      3307     3308      3310      3311     3314   \\\n",
      "0        0.000752 -0.000021  0.000105 -0.00004  0.000408  0.000884 -0.00053   \n",
      "\n",
      "book_id     3316      3320      3321     3322      3330      3333      3338   \\\n",
      "0        0.000384 -0.000031  0.002752  0.00051 -0.000408  0.000043  0.001462   \n",
      "\n",
      "book_id     3340      3342     3344      3348      3349     3351      3352   \\\n",
      "0       -0.000667  0.001976 -0.00003  0.000083 -0.000283 -0.00004  0.000838   \n",
      "\n",
      "book_id     3357      3358      3359      3360      3362      3364      3366   \\\n",
      "0        0.000056  0.000476 -0.001251 -0.000003 -0.001198  0.000509 -0.000027   \n",
      "\n",
      "book_id     3367      3370      3375      3377      3379      3381      3387   \\\n",
      "0       -0.000031  0.000144 -0.000474  0.000224  0.001233  0.000184  0.000468   \n",
      "\n",
      "book_id     3388      3390      3395      3396      3397      3398      3399   \\\n",
      "0        0.001683  0.000499 -0.002107 -0.001477 -0.000129 -0.000401 -0.000175   \n",
      "\n",
      "book_id     3400      3403      3404      3406      3407      3412      3415   \\\n",
      "0        0.000693 -0.000158  0.000326  0.000879 -0.000467  0.002462  0.000218   \n",
      "\n",
      "book_id    3417      3418     3419      3425      3428      3443      3444   \\\n",
      "0        0.00374 -0.000645  0.00078  0.000739  0.000459 -0.000037 -0.000389   \n",
      "\n",
      "book_id     3449      3451      3452      3455      3457      3459      3464   \\\n",
      "0       -0.000026  0.000447 -0.000654  0.000005  0.000216 -0.000101  0.001078   \n",
      "\n",
      "book_id     3465      3468      3469      3472     3476      3477      3479   \\\n",
      "0        0.000165  0.001474 -0.000017  0.001775  0.00096 -0.002228  0.000037   \n",
      "\n",
      "book_id     3482      3485      3488      3489      3492      3493      3497   \\\n",
      "0        0.000147  0.000513  0.000408 -0.000082 -0.001399 -0.000088 -0.000409   \n",
      "\n",
      "book_id     3500      3501      3504      3505     3506      3508     3510   \\\n",
      "0       -0.000254  0.000106  0.001836  0.000436 -0.00002  0.001057 -0.00049   \n",
      "\n",
      "book_id     3511      3513      3518      3519     3520      3523      3524   \\\n",
      "0        0.001024 -0.001814  0.000143  0.001063 -0.00003  0.001092 -0.000647   \n",
      "\n",
      "book_id    3530      3533      3535      3536      3540      3541      3542   \\\n",
      "0       -0.00078 -0.000105 -0.001323 -0.000287  0.000382 -0.000087  0.000157   \n",
      "\n",
      "book_id     3543      3546     3547      3548      3551      3552      3556   \\\n",
      "0       -0.000219  0.000656 -0.00066 -0.000021  0.000408  0.000154  0.000295   \n",
      "\n",
      "book_id     3557      3560      3561    3562      3565      3566      3567   \\\n",
      "0       -0.000007  0.003713  0.001803 -0.0012  0.000089  0.000177  0.000065   \n",
      "\n",
      "book_id     3568      3569      3570      3572      3573      3578      3579   \\\n",
      "0        0.000507 -0.000564  0.000089 -0.000047  0.000127  0.000038  0.001177   \n",
      "\n",
      "book_id     3580      3581      3582      3583      3584      3585      3588   \\\n",
      "0       -0.000804  0.000351  0.000426 -0.000564 -0.000338  0.000402  0.001694   \n",
      "\n",
      "book_id     3590     3591     3594      3595      3597     3598      3600   \\\n",
      "0        0.003101 -0.00028 -0.00051  0.000188  0.001432  0.00092  0.003192   \n",
      "\n",
      "book_id     3605      3608     3609      3610      3612      3613      3614   \\\n",
      "0       -0.000582 -0.000735  0.00008  0.000534  0.000153  0.000167 -0.000439   \n",
      "\n",
      "book_id     3620      3625      3628     3629      3631      3634     3635   \\\n",
      "0        0.000098  0.002051 -0.000794 -0.00049  0.000019  0.000108  0.00029   \n",
      "\n",
      "book_id     3638      3640      3642      3643      3646      3648      3650   \\\n",
      "0        0.003045 -0.000387 -0.000094  0.001461  0.001001 -0.000872  0.001953   \n",
      "\n",
      "book_id     3651      3656     3657      3658     3660     3663      3671   \\\n",
      "0       -0.000052  0.000467 -0.00117 -0.000041 -0.00137  0.00007  0.000443   \n",
      "\n",
      "book_id     3672      3674      3675      3676      3678      3680     3684   \\\n",
      "0       -0.000393 -0.000081 -0.000526  0.002012  0.000052 -0.000017  0.00004   \n",
      "\n",
      "book_id     3688      3692      3696      3699      3700      3703      3705   \\\n",
      "0       -0.000149  0.001035 -0.001197  0.000257 -0.000149  0.004791 -0.000401   \n",
      "\n",
      "book_id     3708      3715      3717      3719      3720      3737      3739   \\\n",
      "0        0.001157 -0.000213  0.000067  0.000599 -0.000097  0.000088 -0.001601   \n",
      "\n",
      "book_id     3744      3752    3753      3754      3755      3758      3760   \\\n",
      "0       -0.000104 -0.000857  0.0009 -0.001815  0.001279  0.000059 -0.000106   \n",
      "\n",
      "book_id     3761      3762      3763      3764      3767      3769      3771   \\\n",
      "0        0.000402  0.000255  0.000002  0.000436 -0.000024 -0.000033 -0.000471   \n",
      "\n",
      "book_id     3772      3776      3780      3785      3787      3790      3791   \\\n",
      "0        0.000071  0.000544 -0.000175  0.000168  0.000491 -0.000343 -0.000477   \n",
      "\n",
      "book_id     3792      3794      3795      3797      3799      3802     3803   \\\n",
      "0        0.000303  0.000268 -0.001334 -0.000694  0.000052  0.000134 -0.00056   \n",
      "\n",
      "book_id     3804      3806      3808      3809     3811      3817      3818   \\\n",
      "0       -0.000865 -0.000615  0.001513 -0.000027 -0.00002 -0.001377 -0.001318   \n",
      "\n",
      "book_id     3821     3826      3828      3830      3831     3832      3833   \\\n",
      "0        0.000071 -0.00033  0.000921  0.000118 -0.000495 -0.00049  0.000077   \n",
      "\n",
      "book_id     3834     3835      3836      3837      3844      3851      3853   \\\n",
      "0       -0.000811  0.00016  0.000251  0.003163  0.001181  0.000001 -0.000178   \n",
      "\n",
      "book_id     3856      3857      3858     3868      3869      3871      3872   \\\n",
      "0        0.003432  0.000021 -0.000507 -0.00011  0.001291  0.000408  0.000575   \n",
      "\n",
      "book_id     3874     3876      3883      3884      3886      3889      3891   \\\n",
      "0       -0.000521 -0.00004 -0.000512 -0.000161 -0.000202  0.000297  0.000055   \n",
      "\n",
      "book_id     3892     3894      3896      3899      3900      3903      3904   \\\n",
      "0        0.000359 -0.00004  0.000293 -0.000135 -0.000347  0.000625 -0.000042   \n",
      "\n",
      "book_id     3907      3911      3913      3916      3918      3919     3923   \\\n",
      "0       -0.000131  0.000191  0.003416  0.000126 -0.001496  0.000199  0.00006   \n",
      "\n",
      "book_id     3924      3925      3928      3929      3930      3933      3934   \\\n",
      "0       -0.001364  0.000044  0.000431 -0.000114  0.000788  0.000153  0.000504   \n",
      "\n",
      "book_id     3935      3936      3938     3941      3942      3945      3948   \\\n",
      "0       -0.000183 -0.000217 -0.000284  0.00006  0.000153 -0.000013  0.000418   \n",
      "\n",
      "book_id     3949     3951      3954      3957      3960      3963      3964   \\\n",
      "0       -0.000229 -0.00016  0.000852  0.000048 -0.000324  0.001797  0.000299   \n",
      "\n",
      "book_id     3965      3966     3971      3973      3974     3978      3979   \\\n",
      "0        0.000002  0.000067 -0.00069 -0.000149 -0.000457 -0.00225  0.000999   \n",
      "\n",
      "book_id     3982      3985      3986      3989      3991      3995      3997   \\\n",
      "0        0.000649  0.000058  0.001014 -0.000107  0.000214  0.000447  0.000334   \n",
      "\n",
      "book_id    3998      4004      4005      4009      4012      4014      4015   \\\n",
      "0        0.00006  0.000638 -0.000074  0.000698 -0.000035 -0.001106  0.000708   \n",
      "\n",
      "book_id     4016      4018      4019      4025      4026      4027      4031   \\\n",
      "0        0.000885  0.000134 -0.000292  0.000002 -0.000675 -0.000181  0.000035   \n",
      "\n",
      "book_id     4034      4035      4040      4042      4043      4044      4047   \\\n",
      "0       -0.000577 -0.000073 -0.000031 -0.000512  0.000113 -0.000545  0.000728   \n",
      "\n",
      "book_id     4052      4054      4055     4057      4062      4064      4065   \\\n",
      "0       -0.000196  0.000548  0.000807  0.00069 -0.000385  0.000209 -0.000313   \n",
      "\n",
      "book_id     4067      4068      4069      4070      4071      4078     4079   \\\n",
      "0       -0.000032 -0.001148 -0.000491 -0.000343  0.000615 -0.000157  0.00057   \n",
      "\n",
      "book_id     4081      4084      4085      4087      4089      4090      4091   \\\n",
      "0        0.002998 -0.000523 -0.001191 -0.000029 -0.000134  0.000144  0.000345   \n",
      "\n",
      "book_id     4094      4095      4096      4101      4103      4104      4106   \\\n",
      "0       -0.000149 -0.000163  0.001958 -0.000095  0.000016  0.001075  0.001741   \n",
      "\n",
      "book_id    4108      4112      4114      4118      4119      4120      4121   \\\n",
      "0        0.00183 -0.000583 -0.000007 -0.000561 -0.000633  0.000194 -0.000306   \n",
      "\n",
      "book_id     4124      4127      4129      4130      4132      4134      4136   \\\n",
      "0       -0.001528 -0.000025  0.000701  0.001657 -0.000315 -0.000332 -0.000068   \n",
      "\n",
      "book_id     4138      4139      4140      4149      4160      4166      4171   \\\n",
      "0       -0.000954  0.002224  0.000209  0.000079  0.000005  0.000626  0.000914   \n",
      "\n",
      "book_id     4175      4181      4182      4187      4188      4189      4190   \\\n",
      "0       -0.001414  0.000012 -0.000253  0.000222 -0.000463  0.000337 -0.001307   \n",
      "\n",
      "book_id     4192      4194      4196      4197     4202      4206      4214   \\\n",
      "0       -0.002934 -0.000492 -0.000765  0.000642  0.00064 -0.000041 -0.000149   \n",
      "\n",
      "book_id     4220      4221      4228      4231      4232     4233      4236   \\\n",
      "0        0.001727  0.000834  0.000047  0.000007  0.000614 -0.00056 -0.001137   \n",
      "\n",
      "book_id     4237      4238     4240      4244      4250      4251      4253   \\\n",
      "0        0.002172  0.000493  0.00027  0.000009  0.000492 -0.000361  0.000157   \n",
      "\n",
      "book_id     4256      4257     4258      4260      4265      4268      4273   \\\n",
      "0        0.000512 -0.000487 -0.00027  0.000191 -0.000006  0.000037  0.000168   \n",
      "\n",
      "book_id     4275      4277     4284      4286      4288      4289      4291   \\\n",
      "0       -0.000247 -0.000061  0.00007 -0.000061  0.000512 -0.001318 -0.000041   \n",
      "\n",
      "book_id     4293      4296      4298      4301      4308      4309      4315   \\\n",
      "0       -0.000083  0.000119  0.002151  0.001861  0.000112  0.001248 -0.000148   \n",
      "\n",
      "book_id     4316      4317      4320      4325      4326     4327     4330   \\\n",
      "0        0.000922 -0.000869 -0.000002 -0.000017 -0.000166 -0.00044 -0.00007   \n",
      "\n",
      "book_id     4331      4332      4336      4337      4341      4342    4345   \\\n",
      "0        0.000437  0.000178  0.001375  0.000782  0.000513 -0.000109 -0.0003   \n",
      "\n",
      "book_id     4348      4353      4357      4359      4360      4361      4363   \\\n",
      "0        0.000167 -0.000658 -0.000278  0.001225  0.000042 -0.000344  0.000733   \n",
      "\n",
      "book_id     4368     4369      4383      4387      4388      4390      4391   \\\n",
      "0       -0.000051  0.00006  0.000097 -0.000796  0.000236  0.000445  0.001471   \n",
      "\n",
      "book_id     4392      4394     4395      4396      4398      4404      4411   \\\n",
      "0        0.001029  0.001595 -0.00007 -0.000389 -0.000148 -0.000039  0.000151   \n",
      "\n",
      "book_id     4416      4418      4419      4421      4422      4427      4429   \\\n",
      "0       -0.000332  0.000958 -0.000199  0.000084 -0.000246  0.000737  0.000553   \n",
      "\n",
      "book_id     4431      4434      4435      4440      4441      4443      4444   \\\n",
      "0       -0.000349 -0.000281 -0.000031 -0.000548  0.000625 -0.000138 -0.000098   \n",
      "\n",
      "book_id     4445      4447     4453      4455      4459      4460      4468   \\\n",
      "0       -0.001211 -0.000393  0.00008  0.000254 -0.000027 -0.000287  0.001107   \n",
      "\n",
      "book_id     4473      4475      4476      4481      4482      4483      4485   \\\n",
      "0        0.000816  0.001046  0.000048 -0.000055  0.000069 -0.000222  0.000617   \n",
      "\n",
      "book_id    4493      4494      4501      4503     4504      4506      4507   \\\n",
      "0        0.00011  0.000221  0.000182  0.000028  0.00071  0.000048 -0.000219   \n",
      "\n",
      "book_id     4508      4510     4512      4513      4515      4517     4520   \\\n",
      "0       -0.000024  0.000747 -0.00036 -0.000591  0.000883  0.001399  0.00012   \n",
      "\n",
      "book_id     4524      4525      4526      4528      4530      4531      4534   \\\n",
      "0       -0.000631 -0.000103  0.001386 -0.000448 -0.002328  0.002134 -0.000741   \n",
      "\n",
      "book_id     4537      4542      4544      4548      4551      4553      4555   \\\n",
      "0        0.000783 -0.001081  0.001141 -0.001851  0.000596 -0.001092 -0.000219   \n",
      "\n",
      "book_id     4560      4561      4565      4567      4571      4574      4578   \\\n",
      "0       -0.000254  0.000476 -0.000821 -0.000211 -0.000043 -0.000044 -0.000287   \n",
      "\n",
      "book_id     4579    4582      4584      4586    4588      4590      4592   \\\n",
      "0       -0.001956 -0.0004  0.000405 -0.000395 -0.0004  0.000002 -0.000306   \n",
      "\n",
      "book_id     4597      4598      4602      4603      4605      4606      4608   \\\n",
      "0        0.000849  0.000053  0.000065 -0.000011  0.000052  0.000476 -0.000469   \n",
      "\n",
      "book_id     4612      4614      4616      4619      4620      4622      4627   \\\n",
      "0       -0.000215  0.000813 -0.000131 -0.000897  0.000649  0.000019 -0.000026   \n",
      "\n",
      "book_id     4632      4634      4636      4638      4639      4640      4642   \\\n",
      "0       -0.001381  0.001578 -0.000104  0.000143  0.000043  0.001617 -0.000151   \n",
      "\n",
      "book_id    4646      4647      4650      4656      4658      4660      4661   \\\n",
      "0        0.00003  0.000153 -0.000793 -0.000021 -0.000229  0.002643 -0.000076   \n",
      "\n",
      "book_id     4663      4665      4670      4671      4672      4677      4678   \\\n",
      "0       -0.000295 -0.000011  0.000497 -0.000042 -0.000013  0.000087 -0.000336   \n",
      "\n",
      "book_id     4680      4682      4683      4684      4686     4691      4695   \\\n",
      "0       -0.000947 -0.000219 -0.000095  0.000039 -0.000648  0.00023 -0.000263   \n",
      "\n",
      "book_id     4698      4699      4713      4715      4716      4719     4720   \\\n",
      "0        0.000844 -0.000096 -0.000602 -0.000342  0.000298 -0.000007  0.00064   \n",
      "\n",
      "book_id     4722      4726      4727      4728      4731      4732      4733   \\\n",
      "0        0.000183 -0.000189  0.000008  0.000534  0.000005  0.000214  0.000335   \n",
      "\n",
      "book_id     4740      4744      4755      4756      4758      4759      4763   \\\n",
      "0        0.000356 -0.000007  0.002161 -0.000322  0.000115  0.000019  0.001241   \n",
      "\n",
      "book_id     4772      4780      4788      4793      4795      4796      4797   \\\n",
      "0        0.000469  0.000183  0.005715  0.001036 -0.000541 -0.000018 -0.000193   \n",
      "\n",
      "book_id     4799      4800      4810     4811      4813      4815      4820   \\\n",
      "0       -0.001828 -0.000199  0.000185  0.00011 -0.000457 -0.000177 -0.000624   \n",
      "\n",
      "book_id     4822      4836      4842      4844      4850      4861      4862   \\\n",
      "0        0.000086 -0.000323  0.000278 -0.000167 -0.000002 -0.000049  0.000603   \n",
      "\n",
      "book_id     4863      4865      4870      4871      4872      4874      4877   \\\n",
      "0       -0.000029  0.000269 -0.000569 -0.000549  0.001085  0.000205  0.000132   \n",
      "\n",
      "book_id    4880      4881      4883      4885      4888      4891      4893   \\\n",
      "0       -0.00049  0.000085 -0.000096 -0.000185 -0.000174  0.000377  0.000012   \n",
      "\n",
      "book_id     4894     4895      4898     4899      4902     4905      4906   \\\n",
      "0        0.000104 -0.00016  0.000548  0.00035 -0.000093 -0.00011  0.000083   \n",
      "\n",
      "book_id     4908      4909      4913      4914     4915     4919      4924   \\\n",
      "0        0.000014 -0.000104  0.000453 -0.000214 -0.00004 -0.00056 -0.000774   \n",
      "\n",
      "book_id     4931      4933      4936      4937     4938    4939      4941   \\\n",
      "0       -0.001203 -0.000472 -0.000317 -0.000647 -0.00009  0.0005  0.000377   \n",
      "\n",
      "book_id     4942     4944          4955      4960      4965      4971   \\\n",
      "0        0.000648 -0.00015  5.096126e-07  0.000573  0.000019  0.001129   \n",
      "\n",
      "book_id     4972      4973      4974      4976      4978      4979      4982   \\\n",
      "0        0.001887  0.000146  0.000557 -0.000214 -0.000087  0.000124 -0.000002   \n",
      "\n",
      "book_id     4983      4989      4993      4994      5003      5007      5009   \\\n",
      "0        0.001432 -0.000156 -0.000107  0.000877  0.000091 -0.000031  0.000987   \n",
      "\n",
      "book_id     5010      5013      5014      5019     5024      5027      5028   \\\n",
      "0       -0.000746  0.000071  0.000237  0.000488  0.00189 -0.000052 -0.000057   \n",
      "\n",
      "book_id     5029      5030      5033      5037      5041      5044      5047   \\\n",
      "0       -0.000077 -0.000517  0.000583  0.000269 -0.000076 -0.000174  0.000367   \n",
      "\n",
      "book_id    5049      5051      5052      5055     5056    5057      5061   \\\n",
      "0       -0.00037 -0.000611 -0.000672  0.000074  0.00016  0.0005 -0.000164   \n",
      "\n",
      "book_id     5068      5072      5076      5077      5080      5081      5084   \\\n",
      "0        0.000165  0.000128  0.001112 -0.000079 -0.000055  0.000443  0.000523   \n",
      "\n",
      "book_id     5088     5092      5095      5097      5099      5100      5101   \\\n",
      "0        0.000188 -0.00049  0.000728  0.000088 -0.001448 -0.000003  0.001887   \n",
      "\n",
      "book_id     5109      5114      5115      5116      5120      5121      5122   \\\n",
      "0       -0.000457 -0.001027  0.000029  0.000271  0.000287 -0.000104  0.001259   \n",
      "\n",
      "book_id     5126      5128      5130      5134      5135      5141      5144   \\\n",
      "0       -0.000151  0.000455 -0.000654  0.000017  0.000123 -0.000767 -0.000194   \n",
      "\n",
      "book_id     5146      5147     5150      5152      5155      5157      5158   \\\n",
      "0        0.000065 -0.000273 -0.00014  0.000165  0.000733 -0.000785 -0.000862   \n",
      "\n",
      "book_id     5162      5168      5175      5176      5181      5187      5192   \\\n",
      "0       -0.000006 -0.000214 -0.000239  0.000048  0.000156 -0.000051  0.000356   \n",
      "\n",
      "book_id         5194      5195      5198      5201      5203      5204   \\\n",
      "0       -4.909949e-20 -0.000205  0.000318 -0.001515 -0.000164 -0.000027   \n",
      "\n",
      "book_id     5206      5207      5210      5215      5216      5220      5228   \\\n",
      "0        0.000165 -0.001335 -0.000108 -0.000228  0.000463  0.000397  0.000094   \n",
      "\n",
      "book_id     5229      5232      5237      5238      5239      5243      5244   \\\n",
      "0       -0.001835 -0.001093  0.000822  0.001193  0.000147 -0.000669  0.001058   \n",
      "\n",
      "book_id     5247      5252      5253      5257      5260      5263      5265   \\\n",
      "0       -0.000173 -0.000118  0.000131  0.001121  0.000035  0.000447 -0.000058   \n",
      "\n",
      "book_id     5269      5273      5274      5277      5283      5287      5290   \\\n",
      "0       -0.000078  0.000436  0.000795 -0.000369  0.000027 -0.000205 -0.002948   \n",
      "\n",
      "book_id     5293      5294      5295      5297      5299      5301      5303   \\\n",
      "0       -0.000194  0.000585 -0.000531  0.000035 -0.000289 -0.000404  0.000188   \n",
      "\n",
      "book_id    5304      5306      5311      5313      5315      5316      5318   \\\n",
      "0       -0.00123 -0.000197 -0.000046  0.000457  0.000068 -0.000061  0.000216   \n",
      "\n",
      "book_id     5322      5325      5326      5327      5329      5330     5332   \\\n",
      "0       -0.000329  0.000121  0.000272  0.001605 -0.000273  0.000119 -0.00011   \n",
      "\n",
      "book_id     5337    5341      5343      5346      5347     5349      5354   \\\n",
      "0       -0.000537 -0.0003 -0.000236  0.002051  0.000002  0.00052 -0.000065   \n",
      "\n",
      "book_id     5355      5358      5367      5369      5374      5381     5385   \\\n",
      "0        0.000313 -0.000125  0.000092 -0.000009  0.000839 -0.000861  0.00218   \n",
      "\n",
      "book_id    5386      5388      5392      5394      5395          5397   \\\n",
      "0        0.00002 -0.001052  0.000208 -0.000626  0.001584  3.406831e-20   \n",
      "\n",
      "book_id     5398      5399          5401      5402      5404      5411   \\\n",
      "0       -0.000125  0.000345 -1.674529e-07 -0.000467  0.000668 -0.000216   \n",
      "\n",
      "book_id     5413      5417      5420      5421      5423      5425     5427   \\\n",
      "0        0.000079  0.000151  0.000084  0.000415 -0.001042  0.001354  0.00014   \n",
      "\n",
      "book_id     5429      5430      5434      5437      5438      5439      5443   \\\n",
      "0       -0.000086  0.001174  0.000213  0.000539  0.000052 -0.000462 -0.000353   \n",
      "\n",
      "book_id     5446      5448      5449      5456      5458      5460      5463   \\\n",
      "0       -0.000571  0.000864  0.000292  0.002266 -0.000281  0.000662 -0.001045   \n",
      "\n",
      "book_id     5464      5468      5469      5470      5477      5478     5482   \\\n",
      "0       -0.000047  0.000335 -0.000899 -0.000264 -0.000164  0.000504  0.00025   \n",
      "\n",
      "book_id    5483      5491      5493      5496      5498      5500      5505   \\\n",
      "0       -0.00012  0.000308 -0.000606  0.000214 -0.000679 -0.000405 -0.000196   \n",
      "\n",
      "book_id     5507      5508      5509      5514      5517      5522      5524   \\\n",
      "0       -0.000765 -0.000311 -0.000132 -0.000149 -0.000333 -0.000524  0.000165   \n",
      "\n",
      "book_id     5525     5526      5527      5536      5537      5540      5543   \\\n",
      "0       -0.000093 -0.00043  0.000547 -0.000642  0.000505 -0.001121 -0.000026   \n",
      "\n",
      "book_id   5545      5550     5551      5554      5556      5558      5560   \\\n",
      "0        0.0003  0.000356  0.00013 -0.000525  0.000012 -0.000575 -0.000202   \n",
      "\n",
      "book_id     5563      5564      5567      5568      5580          5582   \\\n",
      "0        0.000176 -0.000403 -0.000634 -0.002119 -0.000839  8.191121e-20   \n",
      "\n",
      "book_id     5586      5588      5589      5591      5596      5599     5609   \\\n",
      "0       -0.000341 -0.000104  0.000011 -0.000024  0.000906 -0.000373 -0.00049   \n",
      "\n",
      "book_id     5616      5617      5621    5624      5626      5627      5629   \\\n",
      "0        0.000028  0.000616 -0.000438  0.0007  0.000987  0.000131  0.001256   \n",
      "\n",
      "book_id     5630     5632      5643      5646     5648      5655      5657   \\\n",
      "0        0.000083 -0.00041  0.000069 -0.000415  0.00004 -0.000472 -0.000025   \n",
      "\n",
      "book_id     5658      5661      5665      5667      5668      5670      5672   \\\n",
      "0       -0.000382 -0.000632 -0.000095  0.000219  0.000256  0.000102 -0.000272   \n",
      "\n",
      "book_id     5673      5676      5678     5684      5691      5699      5700   \\\n",
      "0       -0.000464 -0.000326  0.000379 -0.00049 -0.000558  0.000333  0.001198   \n",
      "\n",
      "book_id     5704      5705      5707      5714      5717      5727      5730   \\\n",
      "0        0.000681 -0.000223 -0.000085 -0.000095  0.000094 -0.000051  0.000873   \n",
      "\n",
      "book_id     5734      5739      5740     5742      5743      5745      5747   \\\n",
      "0       -0.000014 -0.000616 -0.000111 -0.00012 -0.000164 -0.000073  0.000056   \n",
      "\n",
      "book_id     5748     5751      5754      5755      5758      5764     5765   \\\n",
      "0       -0.000634  0.00029  0.002296 -0.000029 -0.000131 -0.000292  0.00048   \n",
      "\n",
      "book_id     5773      5774      5775      5778      5782      5783      5785   \\\n",
      "0       -0.000047  0.000525 -0.001197 -0.000387 -0.000489  0.000431  0.000131   \n",
      "\n",
      "book_id     5792      5795      5800      5801      5804      5808      5809   \\\n",
      "0        0.001627 -0.000541 -0.000135 -0.000031  0.000078 -0.000473  0.000643   \n",
      "\n",
      "book_id     5812      5826      5827      5830      5831      5833      5840   \\\n",
      "0       -0.000335 -0.000614  0.000224  0.000108 -0.000149 -0.000011 -0.000538   \n",
      "\n",
      "book_id     5853     5855      5858     5860      5861      5863      5865   \\\n",
      "0        0.000211  0.00008 -0.000076 -0.00063  0.000007  0.001153  0.000852   \n",
      "\n",
      "book_id    5867      5870      5877      5879      5885    5889      5890   \\\n",
      "0       -0.00027 -0.000019 -0.000278  0.000085  0.000518 -0.0001  0.000097   \n",
      "\n",
      "book_id     5903      5905      5906      5907      5908      5909      5911   \\\n",
      "0       -0.000713  0.000273  0.000525  0.000142  0.000235  0.000046  0.000153   \n",
      "\n",
      "book_id     5914      5918    5923     5925      5926      5928   \\\n",
      "0        0.000088  0.000255  0.0001 -0.00018  0.000071 -0.002636   \n",
      "\n",
      "book_id         5929      5930      5932      5934      5935      5936   \\\n",
      "0        6.636115e-07  0.000336 -0.000697 -0.000104  0.000366 -0.000403   \n",
      "\n",
      "book_id     5940      5945      5948     5950     5953    5957      5961   \\\n",
      "0       -0.000282 -0.000788  0.000162  0.00028 -0.00057 -0.0001  0.000028   \n",
      "\n",
      "book_id     5967      5968      5969      5972      5973      5978      5982   \\\n",
      "0       -0.000002  0.000679  0.001279 -0.000209  0.000385  0.000896 -0.000349   \n",
      "\n",
      "book_id   5983      5992      5993      5994      5995      5999      6002   \\\n",
      "0        0.0004  0.000271  0.000133  0.000051  0.000148 -0.000073  0.000015   \n",
      "\n",
      "book_id     6003      6005      6006      6007      6011      6013      6014   \\\n",
      "0       -0.000118 -0.000012 -0.000133 -0.000004 -0.000239 -0.000022  0.000001   \n",
      "\n",
      "book_id     6018      6019      6021      6022      6029      6039      6042   \\\n",
      "0       -0.000729 -0.000014  0.000029 -0.000277 -0.000118  0.000523  0.000629   \n",
      "\n",
      "book_id     6043      6045      6046     6048      6063      6064      6066   \\\n",
      "0        0.000002  0.000658  0.000332 -0.00049 -0.000189  0.000204  0.000073   \n",
      "\n",
      "book_id     6067      6069      6070      6073      6078      6079      6087   \\\n",
      "0       -0.000332  0.000019 -0.000001 -0.000948  0.000106 -0.000554  0.000108   \n",
      "\n",
      "book_id     6089      6096     6097      6101    6104      6109      6112   \\\n",
      "0       -0.000041  0.000187 -0.00002 -0.000266  0.0011 -0.000577  0.000094   \n",
      "\n",
      "book_id     6113      6119      6121      6122      6123      6125      6128   \\\n",
      "0       -0.000846  0.000288 -0.000276  0.000076 -0.000429  0.000117  0.000729   \n",
      "\n",
      "book_id     6130      6131      6132      6135      6138     6139      6144   \\\n",
      "0       -0.000474  0.000071 -0.000005 -0.000273 -0.000209 -0.00015 -0.001218   \n",
      "\n",
      "book_id     6146      6148      6150      6154      6156      6157      6158   \\\n",
      "0        0.000028 -0.000294  0.000299  0.000242  0.000296 -0.000034 -0.000143   \n",
      "\n",
      "book_id     6160      6166      6169     6173      6180      6181      6182   \\\n",
      "0        0.000163 -0.000163 -0.000084  0.00015  0.000913  0.000344  0.000209   \n",
      "\n",
      "book_id     6184      6185      6186      6188    6190      6195     6200   \\\n",
      "0        0.000677 -0.000054  0.000104 -0.000328  0.0002  0.000253 -0.00049   \n",
      "\n",
      "book_id     6204      6211      6212      6219      6220      6223      6225   \\\n",
      "0        0.000023 -0.000441  0.000261 -0.000486  0.001521 -0.000074  0.000188   \n",
      "\n",
      "book_id     6229      6230      6233      6234      6235      6242      6249   \\\n",
      "0        0.000224  0.000061 -0.000294  0.000076 -0.000294  0.001679  0.000373   \n",
      "\n",
      "book_id     6251      6252      6255      6259      6261      6264      6267   \\\n",
      "0        0.000037 -0.000143 -0.000171  0.000023 -0.000038  0.000066 -0.000237   \n",
      "\n",
      "book_id     6273      6274      6276      6278      6283     6285      6288   \\\n",
      "0        0.000293  0.003083 -0.000219  0.000273  0.001288 -0.00083  0.000285   \n",
      "\n",
      "book_id     6291      6293      6297      6298      6299      6304      6306   \\\n",
      "0        0.000615 -0.000194  0.000986  0.000613  0.001724 -0.000031 -0.000145   \n",
      "\n",
      "book_id     6308      6314    6318      6319      6320      6322      6323   \\\n",
      "0       -0.000069 -0.000039 -0.0008  0.000075  0.000313  0.001084 -0.000541   \n",
      "\n",
      "book_id     6324      6326    6330      6333      6334      6335      6338   \\\n",
      "0       -0.000333  0.001394 -0.0006 -0.000233 -0.000659  0.000487 -0.000124   \n",
      "\n",
      "book_id    6342      6347      6348      6351      6354     6359      6360   \\\n",
      "0        0.00002  0.000091  0.000122  0.000416 -0.000083 -0.00001  0.000047   \n",
      "\n",
      "book_id    6361      6362     6364      6375      6377     6378      6380   \\\n",
      "0       -0.00021 -0.000033  0.00123  0.000274 -0.000537 -0.00002 -0.000624   \n",
      "\n",
      "book_id     6382      6383      6389      6390      6391      6393      6399   \\\n",
      "0        0.000307 -0.000018  0.001738  0.000537 -0.000466 -0.000575 -0.000011   \n",
      "\n",
      "book_id     6400      6402      6406      6407      6417      6420      6427   \\\n",
      "0        0.000436  0.000029 -0.000175  0.000131 -0.000666 -0.000009 -0.000148   \n",
      "\n",
      "book_id     6438      6439      6442      6445      6447          6448   \\\n",
      "0       -0.000347 -0.000274 -0.000276 -0.001086  0.000271  8.191121e-20   \n",
      "\n",
      "book_id     6454      6456      6467      6469      6475      6481      6484   \\\n",
      "0        0.000251  0.000097  0.000547 -0.000179  0.000162 -0.000322 -0.000457   \n",
      "\n",
      "book_id     6487      6492      6496      6498      6500      6501      6503   \\\n",
      "0        0.000229 -0.000202 -0.000849  0.000121  0.000649 -0.000073  0.000119   \n",
      "\n",
      "book_id     6505    6509      6510      6512      6524      6528      6530   \\\n",
      "0        0.000394 -0.0007 -0.000104 -0.000152 -0.000178  0.000214  0.000154   \n",
      "\n",
      "book_id     6533      6535      6536      6539      6551      6552      6553   \\\n",
      "0       -0.000105 -0.000474 -0.000407 -0.000867 -0.000038  0.000056  0.000012   \n",
      "\n",
      "book_id     6556      6559      6566      6567      6568     6574      6575   \\\n",
      "0        0.000533 -0.000462 -0.000703 -0.000078 -0.000096 -0.00024 -0.000193   \n",
      "\n",
      "book_id     6578     6579      6581      6587      6588      6589      6590   \\\n",
      "0       -0.000236  0.00067 -0.000487  0.000564  0.001307 -0.000747  0.000074   \n",
      "\n",
      "book_id     6593      6594      6595      6600      6601      6604      6607   \\\n",
      "0        0.000131 -0.000064 -0.000012  0.001032 -0.000407 -0.000242 -0.000052   \n",
      "\n",
      "book_id     6615      6619      6620      6628      6629      6633     6644   \\\n",
      "0        0.000188 -0.000403  0.000022 -0.000009  0.000099  0.000411  0.00103   \n",
      "\n",
      "book_id     6648      6658     6664      6665      6673      6675     6678   \\\n",
      "0        0.000166 -0.000111  0.00045 -0.002487 -0.000285  0.000639 -0.00012   \n",
      "\n",
      "book_id     6681      6683      6684      6688      6690      6692     6695   \\\n",
      "0       -0.000073 -0.000485 -0.000073  0.000021 -0.000526 -0.000137  0.00045   \n",
      "\n",
      "book_id     6696     6701      6704      6715      6716      6726      6727   \\\n",
      "0        0.000056 -0.00003  0.000731 -0.000058  0.000235  0.002348  0.000658   \n",
      "\n",
      "book_id     6728      6729      6738      6742      6744      6745      6746   \\\n",
      "0       -0.000148  0.000113 -0.000073  0.000069 -0.000357  0.000051 -0.000231   \n",
      "\n",
      "book_id     6752      6758      6761      6768      6772      6775      6777   \\\n",
      "0        0.000174  0.000078  0.000026  0.001989  0.000281 -0.000292  0.000882   \n",
      "\n",
      "book_id    6791     6800     6802      6806      6807      6808      6813   \\\n",
      "0        0.00012 -0.00042  0.00084 -0.000157 -0.000205  0.001648 -0.000454   \n",
      "\n",
      "book_id     6816      6820      6822      6823     6825      6828      6829   \\\n",
      "0        0.000002  0.001379 -0.000032 -0.001545 -0.00027 -0.000034  0.001924   \n",
      "\n",
      "book_id   6833      6838      6842     6844      6845      6857      6858   \\\n",
      "0       -0.0005 -0.000281 -0.000016  0.00047 -0.000602 -0.000076  0.000153   \n",
      "\n",
      "book_id     6863      6865      6867      6870      6873      6876      6877   \\\n",
      "0        0.000389 -0.000788 -0.000132  0.001023 -0.000629 -0.000076 -0.000144   \n",
      "\n",
      "book_id     6880      6885      6887      6889      6891     6892      6895   \\\n",
      "0        0.000263  0.000308  0.000039  0.001973  0.000281  0.00046  0.001121   \n",
      "\n",
      "book_id     6896      6898     6909      6910      6914      6917      6920   \\\n",
      "0       -0.000473 -0.000014  0.00011 -0.000104 -0.000406  0.000637 -0.000829   \n",
      "\n",
      "book_id     6921      6928      6932      6934      6944      6959      6972   \\\n",
      "0        0.000554  0.000348  0.000619  0.000872  0.001015 -0.000384 -0.000154   \n",
      "\n",
      "book_id     6973      6975      6980      6996      6998     6999      7003   \\\n",
      "0       -0.000004 -0.000041 -0.000082  0.000015  0.000872  0.00019 -0.000291   \n",
      "\n",
      "book_id     7006      7008      7011     7022      7025     7026      7027   \\\n",
      "0        0.000029  0.000799 -0.000214  0.00053 -0.000054  0.00003  0.000085   \n",
      "\n",
      "book_id     7032      7037      7039      7045      7047      7052      7053   \\\n",
      "0        0.000087  0.000084  0.000212 -0.000012 -0.000743  0.000178 -0.000104   \n",
      "\n",
      "book_id     7059      7063      7068      7074      7078      7079     7080   \\\n",
      "0        0.000021 -0.000182  0.000148  0.000954  0.000121  0.000277 -0.00077   \n",
      "\n",
      "book_id     7082      7086      7089      7092      7103      7104    7109   \\\n",
      "0       -0.000073  0.000113 -0.000196 -0.000431 -0.000163 -0.000061  0.0007   \n",
      "\n",
      "book_id     7117     7118      7124      7126      7127      7128      7135   \\\n",
      "0        0.000139 -0.00016  0.000003 -0.000155 -0.000323  0.000018  0.000314   \n",
      "\n",
      "book_id     7138      7142      7143      7145      7146      7151      7155   \\\n",
      "0        0.000088  0.000174 -0.000462  0.000356 -0.000399  0.000122  0.001112   \n",
      "\n",
      "book_id     7158      7159      7162      7169      7170      7173      7176   \\\n",
      "0       -0.000079  0.000596 -0.000403  0.000806 -0.000172 -0.000793  0.000351   \n",
      "\n",
      "book_id     7180     7186      7187      7198      7204     7205      7208   \\\n",
      "0       -0.000078 -0.00016 -0.000178  0.000034  0.000132  0.00106 -0.000288   \n",
      "\n",
      "book_id     7210      7211      7213      7214      7217     7226      7227   \\\n",
      "0        0.000156  0.000002 -0.000054 -0.002366 -0.000152 -0.00016  0.000654   \n",
      "\n",
      "book_id     7231      7232      7233      7238      7239      7242      7246   \\\n",
      "0       -0.000365  0.000153  0.000134 -0.000817  0.000646  0.000334 -0.000193   \n",
      "\n",
      "book_id     7251      7254      7258      7260      7263      7264      7266   \\\n",
      "0        0.000682 -0.001281 -0.000147 -0.001084 -0.000383  0.000599 -0.000274   \n",
      "\n",
      "book_id     7270      7271      7274      7277      7282      7283      7292   \\\n",
      "0        0.000053 -0.000117 -0.000273  0.000429 -0.000593 -0.000043  0.000076   \n",
      "\n",
      "book_id     7295      7296      7298      7302      7309      7311      7316   \\\n",
      "0       -0.000005 -0.000229  0.000023  0.000107  0.001149  0.000795 -0.000355   \n",
      "\n",
      "book_id     7323     7326      7327      7332     7333      7336      7338   \\\n",
      "0       -0.000122 -0.00027  0.000005  0.000132  0.00024 -0.000086  0.001383   \n",
      "\n",
      "book_id     7345      7347      7348      7351      7353      7354      7370   \\\n",
      "0        0.000175 -0.000273 -0.000131 -0.000507  0.000231 -0.000306  0.000043   \n",
      "\n",
      "book_id     7372      7377      7379      7383      7384          7386   \\\n",
      "0        0.000274 -0.000226  0.001172 -0.000414  0.000214 -2.245725e-07   \n",
      "\n",
      "book_id     7392      7398     7399     7401      7406      7407      7408   \\\n",
      "0        0.000326 -0.000033  0.00029  0.00035 -0.000026  0.000408 -0.000018   \n",
      "\n",
      "book_id     7409      7410      7411      7414     7416      7418      7426   \\\n",
      "0        0.000681  0.000059 -0.000199  0.000008  0.00083  0.000431 -0.000125   \n",
      "\n",
      "book_id     7427      7428      7429     7430      7433     7436      7440   \\\n",
      "0       -0.000427  0.000065  0.000595 -0.00015 -0.000074  0.00007  0.000351   \n",
      "\n",
      "book_id     7444      7453      7454      7458      7459      7462      7463   \\\n",
      "0        0.000133  0.000019  0.000741  0.000183 -0.000169  0.000275  0.000042   \n",
      "\n",
      "book_id     7465      7468      7469      7471      7476      7479      7481   \\\n",
      "0       -0.000039 -0.000074  0.000037 -0.000125 -0.000285 -0.000683 -0.000408   \n",
      "\n",
      "book_id     7484     7485      7490      7491      7495      7496      7498   \\\n",
      "0       -0.000199  0.00021 -0.000675 -0.000306  0.000067  0.000979 -0.000007   \n",
      "\n",
      "book_id     7505      7506      7509      7513      7517      7520     7521   \\\n",
      "0       -0.000041 -0.001058 -0.000503 -0.001009  0.000335 -0.000018  0.00008   \n",
      "\n",
      "book_id     7522    7538      7540      7543      7546      7549      7556   \\\n",
      "0        0.000112  0.0007  0.000447  0.000091 -0.000096  0.000153  0.000041   \n",
      "\n",
      "book_id     7563      7569     7571      7575      7579      7592      7594   \\\n",
      "0        0.000133  0.000008  0.00002  0.000521  0.000349  0.000218  0.000317   \n",
      "\n",
      "book_id     7603      7611      7615      7616      7619      7622      7631   \\\n",
      "0        0.000191 -0.000078  0.000123 -0.000004 -0.000386 -0.000111 -0.000415   \n",
      "\n",
      "book_id     7635      7639      7644      7646     7647      7651      7652   \\\n",
      "0       -0.000096  0.000001  0.000167  0.000095 -0.00005  0.000659  0.000179   \n",
      "\n",
      "book_id     7654      7655      7660      7661      7662      7664     7667   \\\n",
      "0       -0.000985  0.000103  0.000118  0.000084  0.000052 -0.000154 -0.00005   \n",
      "\n",
      "book_id         7668    7681      7684      7686      7690      7696   \\\n",
      "0       -7.484898e-08 -0.0004 -0.000088 -0.000157 -0.000096 -0.000137   \n",
      "\n",
      "book_id     7704      7716      7721      7733      7737      7738      7747   \\\n",
      "0       -0.000814  0.000979 -0.000448  0.000313 -0.000064  0.000269 -0.000361   \n",
      "\n",
      "book_id     7748      7749      7766      7769      7770      7771      7783   \\\n",
      "0       -0.000224  0.000606 -0.000101 -0.000006  0.000173  0.000494  0.000506   \n",
      "\n",
      "book_id     7785      7787      7788      7789      7794      7795      7796   \\\n",
      "0        0.000092 -0.000054 -0.000022  0.000041  0.000544  0.000049  0.000381   \n",
      "\n",
      "book_id    7797      7798      7806      7807      7809      7810      7812   \\\n",
      "0       -0.00015  0.000067 -0.000054 -0.000102 -0.000124  0.001579  0.000357   \n",
      "\n",
      "book_id     7814      7820    7826      7830      7838      7840      7848   \\\n",
      "0       -0.000064 -0.000031  0.0014 -0.000164 -0.000154 -0.000404 -0.000108   \n",
      "\n",
      "book_id     7855      7856      7859      7864      7868      7869      7872   \\\n",
      "0       -0.000165  0.000837 -0.000122 -0.000537 -0.000086 -0.000014  0.000502   \n",
      "\n",
      "book_id     7874      7881      7887      7893      7894      7895      7904   \\\n",
      "0        0.001639  0.000179 -0.001811 -0.000077  0.000266 -0.000041 -0.000589   \n",
      "\n",
      "book_id    7906      7907      7909      7910      7916      7917      7923   \\\n",
      "0       -0.00017  0.000914 -0.000096  0.000039  0.000248  0.000335  0.000004   \n",
      "\n",
      "book_id    7942      7949      7952      7955      7959      7960      7961   \\\n",
      "0        0.00005 -0.000229  0.000549 -0.000039 -0.000078 -0.000064 -0.000095   \n",
      "\n",
      "book_id     7963      7965      7968      7969      7970      7972      7977   \\\n",
      "0        0.000332 -0.000222 -0.001137  0.000094  0.000533 -0.000134  0.000183   \n",
      "\n",
      "book_id     7982      7990      7991     7994      7995      7997      8000   \\\n",
      "0       -0.000223  0.000015 -0.000223  0.00007 -0.000352  0.000793  0.000232   \n",
      "\n",
      "book_id     8011      8012      8015     8018      8023      8025      8030   \\\n",
      "0        0.000046 -0.000041  0.000564  0.00011  0.000366  0.000109  0.000037   \n",
      "\n",
      "book_id     8032      8033     8035      8038      8039      8045      8049   \\\n",
      "0       -0.000029 -0.000342 -0.00012 -0.000284  0.000004  0.000409 -0.001866   \n",
      "\n",
      "book_id     8052      8054     8055      8062      8068      8071      8074   \\\n",
      "0        0.000247  0.000087 -0.00016 -0.000134 -0.000707  0.000546  0.000046   \n",
      "\n",
      "book_id    8075      8079      8080      8083      8084      8087      8093   \\\n",
      "0        0.00008  0.001073  0.000317 -0.000532  0.000059 -0.000428 -0.000253   \n",
      "\n",
      "book_id    8099      8103      8107     8111      8114      8117     8120   \\\n",
      "0        0.00002  0.000302  0.000953  0.00022  0.000071 -0.000108 -0.00003   \n",
      "\n",
      "book_id     8127      8128      8131      8132    8140      8141      8143   \\\n",
      "0        0.001048  0.000133 -0.000507 -0.000245  0.0001  0.000183 -0.000104   \n",
      "\n",
      "book_id     8149          8150      8152      8153      8154      8156   \\\n",
      "0        0.000001 -5.021066e-07  0.000207 -0.000149  0.000284 -0.000744   \n",
      "\n",
      "book_id         8157      8158      8160      8161      8162      8163   \\\n",
      "0       -6.698118e-08 -0.000152  0.000066 -0.000316  0.000351  0.000242   \n",
      "\n",
      "book_id     8165      8167      8168      8175      8185      8186      8188   \\\n",
      "0        0.000091  0.000098  0.000389  0.000136 -0.000229 -0.000008  0.000945   \n",
      "\n",
      "book_id     8189      8192      8195      8199      8201      8203      8209   \\\n",
      "0       -0.000214 -0.000187  0.000638 -0.000138 -0.000097  0.000087  0.000161   \n",
      "\n",
      "book_id     8210      8212      8214      8215      8216      8218      8221   \\\n",
      "0        0.000003  0.000071  0.000135 -0.000076 -0.000034 -0.000041  0.000343   \n",
      "\n",
      "book_id     8222      8232      8233      8236      8239    8249      8262   \\\n",
      "0       -0.000199  0.000341  0.000122 -0.000117  0.000607  0.0008 -0.000014   \n",
      "\n",
      "book_id     8269     8275      8276      8281          8285      8286   \\\n",
      "0       -0.001309 -0.00031  0.001372 -0.000028 -1.674529e-07  0.000551   \n",
      "\n",
      "book_id     8289     8290      8295      8298      8305      8309      8312   \\\n",
      "0       -0.000053 -0.00024  0.000284  0.000119 -0.000189  0.000118  0.000259   \n",
      "\n",
      "book_id     8316      8317      8320     8323      8324      8329      8332   \\\n",
      "0       -0.000175 -0.000602 -0.000285  0.00013 -0.000127  0.000735 -0.000409   \n",
      "\n",
      "book_id    8334      8336      8337      8349      8355      8361      8367   \\\n",
      "0       -0.00032  0.000176 -0.000301 -0.000013  0.000082  0.000321  0.001153   \n",
      "\n",
      "book_id     8375      8386      8388      8389     8390      8396      8399   \\\n",
      "0       -0.000096 -0.000288 -0.000361  0.000096 -0.00001  0.000078 -0.000096   \n",
      "\n",
      "book_id     8401      8403      8404      8406      8412     8413      8416   \\\n",
      "0       -0.000212 -0.000004  0.000445 -0.000138  0.000399 -0.00106  0.001006   \n",
      "\n",
      "book_id     8423      8432      8435      8439      8440      8445      8446   \\\n",
      "0       -0.000003 -0.000173 -0.000082  0.000124 -0.000056 -0.000213  0.000321   \n",
      "\n",
      "book_id     8448     8452      8454      8455      8456      8457      8464   \\\n",
      "0       -0.000017  0.00014 -0.000002  0.000322  0.002045  0.000407 -0.000008   \n",
      "\n",
      "book_id     8465      8469      8471      8472      8474      8479      8484   \\\n",
      "0       -0.000146  0.000687  0.000161 -0.000127 -0.000237  0.000169 -0.001023   \n",
      "\n",
      "book_id     8491     8492      8504      8508      8512     8514      8516   \\\n",
      "0       -0.000027  0.00003  0.000033  0.000008 -0.000011 -0.00001  0.001545   \n",
      "\n",
      "book_id     8517      8519      8529      8532      8537      8538      8539   \\\n",
      "0       -0.000088  0.000297  0.000251  0.000433  0.000087 -0.000078 -0.000788   \n",
      "\n",
      "book_id     8541      8545      8552      8555    8556      8564      8565   \\\n",
      "0       -0.000403 -0.000078 -0.000571 -0.000411  0.0007 -0.000053  0.000133   \n",
      "\n",
      "book_id     8567      8570      8578      8585     8588      8589      8591   \\\n",
      "0       -0.000102 -0.000062  0.000062  0.000439  0.00045  0.000184 -0.000446   \n",
      "\n",
      "book_id     8597      8598      8608     8609      8611      8617      8618   \\\n",
      "0        0.000058  0.000096 -0.000105 -0.00003 -0.000034 -0.000019 -0.000159   \n",
      "\n",
      "book_id     8620      8623      8625      8626      8631      8633      8636   \\\n",
      "0        0.000225 -0.000076  0.001083  0.000078 -0.000672  0.000086  0.000027   \n",
      "\n",
      "book_id     8640      8651      8656      8662      8666     8667      8675   \\\n",
      "0        0.000864 -0.000485 -0.000577  0.000191  0.000158 -0.00013 -0.000436   \n",
      "\n",
      "book_id     8680      8681      8686      8687      8688      8692      8696   \\\n",
      "0       -0.000133  0.000987  0.000132  0.000019  0.000125  0.001821  0.000908   \n",
      "\n",
      "book_id    8697      8700      8703      8704      8714      8728      8731   \\\n",
      "0        0.00092 -0.001043  0.001857  0.000658  0.000021 -0.000001  0.000527   \n",
      "\n",
      "book_id     8732      8735      8737      8745      8750      8752      8760   \\\n",
      "0        0.000059  0.000702  0.000562 -0.000012 -0.000289 -0.000499  0.000198   \n",
      "\n",
      "book_id     8766      8767      8776      8779      8782      8787     8788   \\\n",
      "0       -0.002597  0.000067  0.000007 -0.000164  0.000759 -0.000414  0.00011   \n",
      "\n",
      "book_id     8789      8790      8791      8792      8795      8801     8802   \\\n",
      "0       -0.000178 -0.000278  0.000093  0.000572 -0.000076  0.000543 -0.00006   \n",
      "\n",
      "book_id     8805      8811     8814      8815      8817      8818      8819   \\\n",
      "0        0.000596  0.000194  0.00014  0.000104 -0.000208  0.000335  0.000171   \n",
      "\n",
      "book_id     8823      8824      8831      8832      8837      8838      8840   \\\n",
      "0       -0.000258 -0.000054 -0.000068 -0.001002 -0.000594  0.000168  0.000079   \n",
      "\n",
      "book_id         8842      8847      8848      8849      8850      8853   \\\n",
      "0        3.524943e-20  0.000154 -0.000148 -0.000037 -0.000065 -0.000592   \n",
      "\n",
      "book_id     8854     8856      8857      8859      8860      8864      8867   \\\n",
      "0       -0.000006  0.00007 -0.001258 -0.000448 -0.000107 -0.000386 -0.000237   \n",
      "\n",
      "book_id     8868     8870      8873      8878      8879      8882      8888   \\\n",
      "0       -0.000383  0.00016  0.000604 -0.000081  0.000658  0.000723 -0.000138   \n",
      "\n",
      "book_id     8891      8893      8896      8898      8899      8902     8903   \\\n",
      "0        0.000328  0.000118 -0.000161 -0.000241 -0.000199  0.000289 -0.00012   \n",
      "\n",
      "book_id   8906      8907      8908      8915      8916      8923      8928   \\\n",
      "0        0.0005  0.000083  0.000211  0.000541 -0.000332  0.000711  0.000058   \n",
      "\n",
      "book_id     8930      8931      8944      8946    8949      8951      8956   \\\n",
      "0       -0.000199  0.000028 -0.000513  0.000432  0.0005  0.000201 -0.000064   \n",
      "\n",
      "book_id     8966      8972      8973      8975      8976     8979      8987   \\\n",
      "0       -0.000023 -0.000078  0.001234  0.002115 -0.000127 -0.00049 -0.000205   \n",
      "\n",
      "book_id     8996      8998      9000      9006      9008     9019      9021   \\\n",
      "0       -0.000185  0.000322  0.000068 -0.000082  0.000395 -0.00045  0.000187   \n",
      "\n",
      "book_id     9022      9024     9025      9026      9033      9036      9045   \\\n",
      "0       -0.000148  0.000035  0.00108 -0.000653 -0.000642  0.000192  0.000627   \n",
      "\n",
      "book_id     9047      9048      9049     9061      9063      9070      9078   \\\n",
      "0       -0.000403 -0.001122  0.000077  0.00008 -0.000061 -0.000073  0.001176   \n",
      "\n",
      "book_id     9083      9092     9095      9100      9102      9103      9111   \\\n",
      "0       -0.000011 -0.000152  0.00007 -0.000065 -0.000648 -0.000218  0.000406   \n",
      "\n",
      "book_id     9113      9114      9116      9117      9119      9123      9132   \\\n",
      "0        0.000088  0.000219 -0.000058  0.000095  0.000228  0.000068 -0.000118   \n",
      "\n",
      "book_id     9133      9152     9157      9158      9170      9171      9172   \\\n",
      "0       -0.000273 -0.000172 -0.00012 -0.000061  0.000298 -0.000339 -0.000193   \n",
      "\n",
      "book_id     9173      9175      9176      9178      9180      9188      9191   \\\n",
      "0        0.000694 -0.000138  0.000023  0.001358 -0.000642  0.000285  0.000287   \n",
      "\n",
      "book_id    9195      9197      9198      9199      9204      9213      9216   \\\n",
      "0        0.00009 -0.000136  0.000002  0.000057  0.001091  0.000046 -0.000054   \n",
      "\n",
      "book_id     9217      9223      9230      9232      9236      9239      9240   \\\n",
      "0       -0.000552  0.000248 -0.000051  0.000897  0.000015 -0.000051  0.000881   \n",
      "\n",
      "book_id     9251     9253      9265     9267      9272      9287      9291   \\\n",
      "0        0.000078  0.00029  0.000134 -0.00084 -0.000031 -0.000515  0.000083   \n",
      "\n",
      "book_id     9295      9296      9300      9301      9302      9303     9304   \\\n",
      "0        0.000237  0.000005 -0.000094  0.000017  0.000248  0.000578  0.00029   \n",
      "\n",
      "book_id     9308      9311      9316      9317      9320     9348      9357   \\\n",
      "0       -0.000248 -0.000519 -0.000017  0.000762  0.000008 -0.00016  0.000015   \n",
      "\n",
      "book_id    9363      9371      9386      9391     9395      9397      9402   \\\n",
      "0       -0.00011 -0.000414  0.000564  0.000229 -0.00005 -0.000525 -0.000288   \n",
      "\n",
      "book_id     9405      9407      9408      9409      9416    9424      9429   \\\n",
      "0       -0.000066 -0.000537 -0.000189 -0.000195  0.000013  0.0006 -0.000284   \n",
      "\n",
      "book_id     9430      9432     9440      9442      9447      9451      9452   \\\n",
      "0       -0.000186  0.000191 -0.00011 -0.000108 -0.000175  0.000299  0.000078   \n",
      "\n",
      "book_id     9455      9460     9461      9468      9469      9471      9473   \\\n",
      "0       -0.000035  0.000192 -0.00015 -0.000403 -0.000029  0.000592  0.000087   \n",
      "\n",
      "book_id     9476      9478      9481      9482      9493      9494     9497   \\\n",
      "0       -0.000107  0.000398 -0.000278 -0.000269  0.000026 -0.000098 -0.00005   \n",
      "\n",
      "book_id     9499      9503      9513      9516      9525      9533      9540   \\\n",
      "0        0.000024  0.000023 -0.000244  0.000259 -0.000471  0.001092 -0.000064   \n",
      "\n",
      "book_id     9542      9545      9554      9563      9566      9576     9577   \\\n",
      "0        0.000831 -0.000015 -0.000105  0.000213 -0.001256  0.000248 -0.00037   \n",
      "\n",
      "book_id     9579      9585      9587      9588      9590      9606      9609   \\\n",
      "0        0.000924 -0.000009 -0.000105  0.000226 -0.000084  0.000986 -0.000588   \n",
      "\n",
      "book_id     9617      9620      9622      9623      9624      9626      9628   \\\n",
      "0       -0.001091  0.001082 -0.000064  0.000429  0.000832 -0.000252 -0.000031   \n",
      "\n",
      "book_id     9629      9630      9631      9632      9636      9639      9642   \\\n",
      "0       -0.000281  0.000578 -0.000564  0.000254  0.000512 -0.000081  0.000562   \n",
      "\n",
      "book_id     9645      9647      9648     9650      9655      9661      9663   \\\n",
      "0        0.001466  0.000622  0.000525  0.00007 -0.000403  0.000503 -0.000592   \n",
      "\n",
      "book_id     9664      9667      9670      9675      9679     9689     9691   \\\n",
      "0       -0.000091  0.001038  0.000282 -0.001866  0.000144  0.00013 -0.00015   \n",
      "\n",
      "book_id     9699      9707      9711      9716      9722      9731      9732   \\\n",
      "0       -0.000605  0.000083 -0.000191  0.000437 -0.000093 -0.000273  0.000031   \n",
      "\n",
      "book_id     9737      9739      9742      9743      9748      9749     9754   \\\n",
      "0       -0.000065 -0.000225 -0.000014  0.000821  0.000072 -0.002731  0.00055   \n",
      "\n",
      "book_id     9758      9759      9761      9762      9768      9784      9790   \\\n",
      "0       -0.000004  0.000874 -0.000173  0.000003 -0.000084 -0.000488  0.000509   \n",
      "\n",
      "book_id     9793      9794      9800      9801      9803      9810      9814   \\\n",
      "0        0.000737  0.000614 -0.000021  0.000026 -0.000278 -0.000038  0.000027   \n",
      "\n",
      "book_id     9819      9830      9834      9839     9841    9852      9854   \\\n",
      "0        0.000087  0.000358  0.000544  0.000045  0.00033 -0.0001  0.001042   \n",
      "\n",
      "book_id     9857      9858      9860      9863      9864      9866     9868   \\\n",
      "0        0.000204  0.000322  0.000079 -0.000049  0.001151  0.000037 -0.00037   \n",
      "\n",
      "book_id         9871      9874      9905      9921      9922      9927   \\\n",
      "0       -2.952247e-07  0.000029 -0.000059  0.001303 -0.000364  0.000118   \n",
      "\n",
      "book_id     9928      9935      9936      9946      9948      9961      9962   \\\n",
      "0        0.000156 -0.000457 -0.000575  0.000847 -0.000033  0.000274 -0.000006   \n",
      "\n",
      "book_id     9963      9966      9967      9972      9974      9978      9985   \\\n",
      "0       -0.000067  0.001766 -0.000281  0.000299  0.000086 -0.000059 -0.000019   \n",
      "\n",
      "book_id     9988      9990      9991      9995      10000  \n",
      "0        0.000227  0.000166  0.000818  0.000438  0.000015  \n"
     ]
    }
   ],
   "source": [
    "\n",
    "with pd.option_context('display.max_rows', None, 'display.max_columns', None):  # more options can be specified also\n",
    "    print(svd_predictions_score_df1[svd_predictions_score_df1.index == 0])"
   ]
  },
  {
   "cell_type": "code",
   "execution_count": 59,
   "metadata": {
    "ExecuteTime": {
     "end_time": "2020-08-14T08:19:16.553705Z",
     "start_time": "2020-08-14T08:19:15.636342Z"
    }
   },
   "outputs": [
    {
     "ename": "KeyError",
     "evalue": "2622",
     "output_type": "error",
     "traceback": [
      "\u001b[1;31m---------------------------------------------------------------------------\u001b[0m",
      "\u001b[1;31mKeyError\u001b[0m                                  Traceback (most recent call last)",
      "\u001b[1;32m~\\Anaconda3\\lib\\site-packages\\pandas\\core\\indexes\\base.py\u001b[0m in \u001b[0;36mget_loc\u001b[1;34m(self, key, method, tolerance)\u001b[0m\n\u001b[0;32m   2645\u001b[0m             \u001b[1;32mtry\u001b[0m\u001b[1;33m:\u001b[0m\u001b[1;33m\u001b[0m\u001b[1;33m\u001b[0m\u001b[0m\n\u001b[1;32m-> 2646\u001b[1;33m                 \u001b[1;32mreturn\u001b[0m \u001b[0mself\u001b[0m\u001b[1;33m.\u001b[0m\u001b[0m_engine\u001b[0m\u001b[1;33m.\u001b[0m\u001b[0mget_loc\u001b[0m\u001b[1;33m(\u001b[0m\u001b[0mkey\u001b[0m\u001b[1;33m)\u001b[0m\u001b[1;33m\u001b[0m\u001b[1;33m\u001b[0m\u001b[0m\n\u001b[0m\u001b[0;32m   2647\u001b[0m             \u001b[1;32mexcept\u001b[0m \u001b[0mKeyError\u001b[0m\u001b[1;33m:\u001b[0m\u001b[1;33m\u001b[0m\u001b[1;33m\u001b[0m\u001b[0m\n",
      "\u001b[1;32mpandas\\_libs\\index.pyx\u001b[0m in \u001b[0;36mpandas._libs.index.IndexEngine.get_loc\u001b[1;34m()\u001b[0m\n",
      "\u001b[1;32mpandas\\_libs\\index.pyx\u001b[0m in \u001b[0;36mpandas._libs.index.IndexEngine.get_loc\u001b[1;34m()\u001b[0m\n",
      "\u001b[1;32mpandas\\_libs\\hashtable_class_helper.pxi\u001b[0m in \u001b[0;36mpandas._libs.hashtable.Int64HashTable.get_item\u001b[1;34m()\u001b[0m\n",
      "\u001b[1;32mpandas\\_libs\\hashtable_class_helper.pxi\u001b[0m in \u001b[0;36mpandas._libs.hashtable.Int64HashTable.get_item\u001b[1;34m()\u001b[0m\n",
      "\u001b[1;31mKeyError\u001b[0m: 2622",
      "\nDuring handling of the above exception, another exception occurred:\n",
      "\u001b[1;31mKeyError\u001b[0m                                  Traceback (most recent call last)",
      "\u001b[1;32m<ipython-input-59-a3c6a1a15ecd>\u001b[0m in \u001b[0;36m<module>\u001b[1;34m\u001b[0m\n\u001b[0;32m      4\u001b[0m \u001b[1;32mfor\u001b[0m \u001b[0mi\u001b[0m \u001b[1;32min\u001b[0m \u001b[0mrange\u001b[0m\u001b[1;33m(\u001b[0m\u001b[0mlen\u001b[0m\u001b[1;33m(\u001b[0m\u001b[0mnum_users\u001b[0m\u001b[1;33m)\u001b[0m\u001b[1;33m)\u001b[0m\u001b[1;33m:\u001b[0m\u001b[1;33m\u001b[0m\u001b[1;33m\u001b[0m\u001b[0m\n\u001b[0;32m      5\u001b[0m     \u001b[1;32mfor\u001b[0m \u001b[0mj\u001b[0m \u001b[1;32min\u001b[0m \u001b[0mrange\u001b[0m\u001b[1;33m(\u001b[0m\u001b[0mlen\u001b[0m\u001b[1;33m(\u001b[0m\u001b[0mtarget_movies\u001b[0m\u001b[1;33m[\u001b[0m\u001b[0mi\u001b[0m\u001b[1;33m]\u001b[0m\u001b[1;33m)\u001b[0m\u001b[1;33m)\u001b[0m\u001b[1;33m:\u001b[0m\u001b[1;33m\u001b[0m\u001b[1;33m\u001b[0m\u001b[0m\n\u001b[1;32m----> 6\u001b[1;33m         \u001b[0mfeature3_user\u001b[0m\u001b[1;33m.\u001b[0m\u001b[0mappend\u001b[0m\u001b[1;33m(\u001b[0m\u001b[0mfloat\u001b[0m\u001b[1;33m(\u001b[0m\u001b[0msvd_predictions_score_df1\u001b[0m\u001b[1;33m[\u001b[0m\u001b[0msvd_predictions_score_df1\u001b[0m\u001b[1;33m.\u001b[0m\u001b[0mindex\u001b[0m \u001b[1;33m==\u001b[0m \u001b[0mi\u001b[0m\u001b[1;33m]\u001b[0m\u001b[1;33m[\u001b[0m\u001b[0mtarget_movies\u001b[0m\u001b[1;33m[\u001b[0m\u001b[0mi\u001b[0m\u001b[1;33m]\u001b[0m\u001b[1;33m[\u001b[0m\u001b[0mj\u001b[0m\u001b[1;33m]\u001b[0m\u001b[1;33m]\u001b[0m\u001b[1;33m.\u001b[0m\u001b[0mvalues\u001b[0m\u001b[1;33m)\u001b[0m\u001b[1;33m)\u001b[0m\u001b[1;33m\u001b[0m\u001b[1;33m\u001b[0m\u001b[0m\n\u001b[0m\u001b[0;32m      7\u001b[0m     \u001b[0mfeature3\u001b[0m\u001b[1;33m.\u001b[0m\u001b[0mappend\u001b[0m\u001b[1;33m(\u001b[0m\u001b[0mfeature3_user\u001b[0m\u001b[1;33m)\u001b[0m\u001b[1;33m\u001b[0m\u001b[1;33m\u001b[0m\u001b[0m\n\u001b[0;32m      8\u001b[0m     \u001b[0mfeature3_user\u001b[0m \u001b[1;33m=\u001b[0m \u001b[1;33m[\u001b[0m\u001b[1;33m]\u001b[0m\u001b[1;33m\u001b[0m\u001b[1;33m\u001b[0m\u001b[0m\n",
      "\u001b[1;32m~\\Anaconda3\\lib\\site-packages\\pandas\\core\\frame.py\u001b[0m in \u001b[0;36m__getitem__\u001b[1;34m(self, key)\u001b[0m\n\u001b[0;32m   2798\u001b[0m             \u001b[1;32mif\u001b[0m \u001b[0mself\u001b[0m\u001b[1;33m.\u001b[0m\u001b[0mcolumns\u001b[0m\u001b[1;33m.\u001b[0m\u001b[0mnlevels\u001b[0m \u001b[1;33m>\u001b[0m \u001b[1;36m1\u001b[0m\u001b[1;33m:\u001b[0m\u001b[1;33m\u001b[0m\u001b[1;33m\u001b[0m\u001b[0m\n\u001b[0;32m   2799\u001b[0m                 \u001b[1;32mreturn\u001b[0m \u001b[0mself\u001b[0m\u001b[1;33m.\u001b[0m\u001b[0m_getitem_multilevel\u001b[0m\u001b[1;33m(\u001b[0m\u001b[0mkey\u001b[0m\u001b[1;33m)\u001b[0m\u001b[1;33m\u001b[0m\u001b[1;33m\u001b[0m\u001b[0m\n\u001b[1;32m-> 2800\u001b[1;33m             \u001b[0mindexer\u001b[0m \u001b[1;33m=\u001b[0m \u001b[0mself\u001b[0m\u001b[1;33m.\u001b[0m\u001b[0mcolumns\u001b[0m\u001b[1;33m.\u001b[0m\u001b[0mget_loc\u001b[0m\u001b[1;33m(\u001b[0m\u001b[0mkey\u001b[0m\u001b[1;33m)\u001b[0m\u001b[1;33m\u001b[0m\u001b[1;33m\u001b[0m\u001b[0m\n\u001b[0m\u001b[0;32m   2801\u001b[0m             \u001b[1;32mif\u001b[0m \u001b[0mis_integer\u001b[0m\u001b[1;33m(\u001b[0m\u001b[0mindexer\u001b[0m\u001b[1;33m)\u001b[0m\u001b[1;33m:\u001b[0m\u001b[1;33m\u001b[0m\u001b[1;33m\u001b[0m\u001b[0m\n\u001b[0;32m   2802\u001b[0m                 \u001b[0mindexer\u001b[0m \u001b[1;33m=\u001b[0m \u001b[1;33m[\u001b[0m\u001b[0mindexer\u001b[0m\u001b[1;33m]\u001b[0m\u001b[1;33m\u001b[0m\u001b[1;33m\u001b[0m\u001b[0m\n",
      "\u001b[1;32m~\\Anaconda3\\lib\\site-packages\\pandas\\core\\indexes\\base.py\u001b[0m in \u001b[0;36mget_loc\u001b[1;34m(self, key, method, tolerance)\u001b[0m\n\u001b[0;32m   2646\u001b[0m                 \u001b[1;32mreturn\u001b[0m \u001b[0mself\u001b[0m\u001b[1;33m.\u001b[0m\u001b[0m_engine\u001b[0m\u001b[1;33m.\u001b[0m\u001b[0mget_loc\u001b[0m\u001b[1;33m(\u001b[0m\u001b[0mkey\u001b[0m\u001b[1;33m)\u001b[0m\u001b[1;33m\u001b[0m\u001b[1;33m\u001b[0m\u001b[0m\n\u001b[0;32m   2647\u001b[0m             \u001b[1;32mexcept\u001b[0m \u001b[0mKeyError\u001b[0m\u001b[1;33m:\u001b[0m\u001b[1;33m\u001b[0m\u001b[1;33m\u001b[0m\u001b[0m\n\u001b[1;32m-> 2648\u001b[1;33m                 \u001b[1;32mreturn\u001b[0m \u001b[0mself\u001b[0m\u001b[1;33m.\u001b[0m\u001b[0m_engine\u001b[0m\u001b[1;33m.\u001b[0m\u001b[0mget_loc\u001b[0m\u001b[1;33m(\u001b[0m\u001b[0mself\u001b[0m\u001b[1;33m.\u001b[0m\u001b[0m_maybe_cast_indexer\u001b[0m\u001b[1;33m(\u001b[0m\u001b[0mkey\u001b[0m\u001b[1;33m)\u001b[0m\u001b[1;33m)\u001b[0m\u001b[1;33m\u001b[0m\u001b[1;33m\u001b[0m\u001b[0m\n\u001b[0m\u001b[0;32m   2649\u001b[0m         \u001b[0mindexer\u001b[0m \u001b[1;33m=\u001b[0m \u001b[0mself\u001b[0m\u001b[1;33m.\u001b[0m\u001b[0mget_indexer\u001b[0m\u001b[1;33m(\u001b[0m\u001b[1;33m[\u001b[0m\u001b[0mkey\u001b[0m\u001b[1;33m]\u001b[0m\u001b[1;33m,\u001b[0m \u001b[0mmethod\u001b[0m\u001b[1;33m=\u001b[0m\u001b[0mmethod\u001b[0m\u001b[1;33m,\u001b[0m \u001b[0mtolerance\u001b[0m\u001b[1;33m=\u001b[0m\u001b[0mtolerance\u001b[0m\u001b[1;33m)\u001b[0m\u001b[1;33m\u001b[0m\u001b[1;33m\u001b[0m\u001b[0m\n\u001b[0;32m   2650\u001b[0m         \u001b[1;32mif\u001b[0m \u001b[0mindexer\u001b[0m\u001b[1;33m.\u001b[0m\u001b[0mndim\u001b[0m \u001b[1;33m>\u001b[0m \u001b[1;36m1\u001b[0m \u001b[1;32mor\u001b[0m \u001b[0mindexer\u001b[0m\u001b[1;33m.\u001b[0m\u001b[0msize\u001b[0m \u001b[1;33m>\u001b[0m \u001b[1;36m1\u001b[0m\u001b[1;33m:\u001b[0m\u001b[1;33m\u001b[0m\u001b[1;33m\u001b[0m\u001b[0m\n",
      "\u001b[1;32mpandas\\_libs\\index.pyx\u001b[0m in \u001b[0;36mpandas._libs.index.IndexEngine.get_loc\u001b[1;34m()\u001b[0m\n",
      "\u001b[1;32mpandas\\_libs\\index.pyx\u001b[0m in \u001b[0;36mpandas._libs.index.IndexEngine.get_loc\u001b[1;34m()\u001b[0m\n",
      "\u001b[1;32mpandas\\_libs\\hashtable_class_helper.pxi\u001b[0m in \u001b[0;36mpandas._libs.hashtable.Int64HashTable.get_item\u001b[1;34m()\u001b[0m\n",
      "\u001b[1;32mpandas\\_libs\\hashtable_class_helper.pxi\u001b[0m in \u001b[0;36mpandas._libs.hashtable.Int64HashTable.get_item\u001b[1;34m()\u001b[0m\n",
      "\u001b[1;31mKeyError\u001b[0m: 2622"
     ]
    }
   ],
   "source": [
    "feature3 = []\n",
    "feature3_user = []\n",
    "count = 0\n",
    "for i in range(len(num_users)):\n",
    "    for j in range(len(target_movies[i])):\n",
    "        feature3_user.append(float(svd_predictions_score_df1[svd_predictions_score_df1.index == i][target_movies[i][j]].values))\n",
    "    feature3.append(feature3_user)\n",
    "    feature3_user = []"
   ]
  },
  {
   "cell_type": "code",
   "execution_count": null,
   "metadata": {
    "ExecuteTime": {
     "end_time": "2020-08-14T08:19:16.558671Z",
     "start_time": "2020-08-14T08:08:27.360Z"
    }
   },
   "outputs": [],
   "source": [
    "type(feature3)"
   ]
  },
  {
   "cell_type": "markdown",
   "metadata": {},
   "source": [
    "## Feature 4 (Genre)"
   ]
  },
  {
   "cell_type": "code",
   "execution_count": null,
   "metadata": {
    "ExecuteTime": {
     "end_time": "2020-08-14T08:19:16.564108Z",
     "start_time": "2020-08-14T08:08:27.368Z"
    }
   },
   "outputs": [],
   "source": [
    "def create_genre_feature(genre):\n",
    "    feature = []\n",
    "    genre_per_user = []\n",
    "    for i in range(len(num_users)):\n",
    "        for j in range(len(target_movies[i])):\n",
    "            a =  movies_df[movies_df['movieId'] == target_movies[i][j]]['genres']\n",
    "            a = a.tolist()\n",
    "            a = str(a[0])\n",
    "            a = a.split('|')\n",
    "            if genre in a:\n",
    "                genre_per_user.append(1)\n",
    "            else:\n",
    "                genre_per_user.append(0)\n",
    "        feature.append(genre_per_user)\n",
    "        genre_per_user = []\n",
    "    return feature"
   ]
  },
  {
   "cell_type": "code",
   "execution_count": null,
   "metadata": {
    "ExecuteTime": {
     "end_time": "2020-08-14T08:19:16.565104Z",
     "start_time": "2020-08-14T08:08:27.376Z"
    }
   },
   "outputs": [],
   "source": [
    "feature4 = create_genre_feature('Comedy')"
   ]
  },
  {
   "cell_type": "markdown",
   "metadata": {},
   "source": [
    "### Features 8-15 (genres)"
   ]
  },
  {
   "cell_type": "code",
   "execution_count": null,
   "metadata": {
    "ExecuteTime": {
     "end_time": "2020-08-14T08:19:16.566143Z",
     "start_time": "2020-08-14T08:08:27.384Z"
    }
   },
   "outputs": [],
   "source": [
    "feature8 = create_genre_feature('Adventure')\n",
    "feature9 = create_genre_feature('Drama')\n",
    "feature10 = create_genre_feature('Romance')\n",
    "feature11 = create_genre_feature('Fantasy')\n",
    "feature12 = create_genre_feature('Thriller')\n",
    "feature13 = create_genre_feature('Animation')\n",
    "feature14 = create_genre_feature('Children')\n",
    "feature15 = create_genre_feature('Horror')"
   ]
  },
  {
   "cell_type": "markdown",
   "metadata": {},
   "source": [
    "## Feature 5 (#Users watched each target movie)"
   ]
  },
  {
   "cell_type": "code",
   "execution_count": null,
   "metadata": {
    "ExecuteTime": {
     "end_time": "2020-08-14T08:19:16.567143Z",
     "start_time": "2020-08-14T08:08:27.391Z"
    }
   },
   "outputs": [],
   "source": [
    "number_views = []\n",
    "number_view_per_movie = []\n",
    "for i in range(len(num_users)):\n",
    "    for j in range(len(target_movies[i])):\n",
    "        a = len(ratings_df[ratings_df['book_id'] == target_movies[i][j]]['user_id'])\n",
    "        number_view_per_movie.append(a)\n",
    "    number_views.append(number_view_per_movie)\n",
    "    number_view_per_movie = []\n"
   ]
  },
  {
   "cell_type": "code",
   "execution_count": null,
   "metadata": {
    "ExecuteTime": {
     "end_time": "2020-08-14T08:19:16.568244Z",
     "start_time": "2020-08-14T08:08:27.398Z"
    }
   },
   "outputs": [],
   "source": [
    "feature5 = number_views"
   ]
  },
  {
   "cell_type": "code",
   "execution_count": null,
   "metadata": {
    "ExecuteTime": {
     "end_time": "2020-08-14T08:19:16.569242Z",
     "start_time": "2020-08-14T08:08:27.405Z"
    }
   },
   "outputs": [],
   "source": [
    "np.array(feature5).shape"
   ]
  },
  {
   "cell_type": "markdown",
   "metadata": {},
   "source": [
    "## Feature 6 (New user)"
   ]
  },
  {
   "cell_type": "code",
   "execution_count": null,
   "metadata": {
    "ExecuteTime": {
     "end_time": "2020-08-14T08:19:16.570285Z",
     "start_time": "2020-08-14T08:08:27.413Z"
    }
   },
   "outputs": [],
   "source": [
    "len(ratings_df[ratings_df['user_id']==1]) > 10"
   ]
  },
  {
   "cell_type": "code",
   "execution_count": null,
   "metadata": {
    "ExecuteTime": {
     "end_time": "2020-08-14T08:19:16.571282Z",
     "start_time": "2020-08-14T08:08:27.419Z"
    }
   },
   "outputs": [],
   "source": [
    "new_users_binary = []\n",
    "binary_per_user = []\n",
    "for i in range(len(num_users)):\n",
    "    for j in range(len(target_movies[i])):\n",
    "        a = len(ratings_df[ratings_df['user_id']==1]) > 10\n",
    "        if a:\n",
    "            binary_per_user.append(1)\n",
    "        else:\n",
    "            binary_per_user.append(0)\n",
    "    new_users_binary.append(binary_per_user)\n",
    "    binary_per_user = []"
   ]
  },
  {
   "cell_type": "code",
   "execution_count": null,
   "metadata": {
    "ExecuteTime": {
     "end_time": "2020-08-14T08:19:16.572555Z",
     "start_time": "2020-08-14T08:08:27.425Z"
    }
   },
   "outputs": [],
   "source": [
    "#rankings of old/new users"
   ]
  },
  {
   "cell_type": "code",
   "execution_count": null,
   "metadata": {
    "ExecuteTime": {
     "end_time": "2020-08-14T08:19:16.574247Z",
     "start_time": "2020-08-14T08:08:27.431Z"
    }
   },
   "outputs": [],
   "source": [
    "feature6 = new_users_binary"
   ]
  },
  {
   "cell_type": "code",
   "execution_count": null,
   "metadata": {
    "ExecuteTime": {
     "end_time": "2020-08-14T08:19:16.575245Z",
     "start_time": "2020-08-14T08:08:27.438Z"
    }
   },
   "outputs": [],
   "source": [
    "np.array(feature6).shape"
   ]
  },
  {
   "cell_type": "markdown",
   "metadata": {},
   "source": [
    "## Feature 7(Embeddings) x32"
   ]
  },
  {
   "cell_type": "code",
   "execution_count": null,
   "metadata": {
    "ExecuteTime": {
     "end_time": "2020-08-14T08:19:16.577373Z",
     "start_time": "2020-08-14T08:08:27.445Z"
    }
   },
   "outputs": [],
   "source": [
    "emb = f1_model._net.item_embeddings"
   ]
  },
  {
   "cell_type": "code",
   "execution_count": null,
   "metadata": {
    "ExecuteTime": {
     "end_time": "2020-08-14T08:19:16.578657Z",
     "start_time": "2020-08-14T08:08:27.451Z"
    }
   },
   "outputs": [],
   "source": [
    "emb_features = []\n",
    "helper = []\n",
    "for i in range(32):\n",
    "    for j in range(len(num_items)):\n",
    "        helper.append(emb.weight[j][i].item())\n",
    "    emb_features.append(helper)\n",
    "    helper = []"
   ]
  },
  {
   "cell_type": "code",
   "execution_count": null,
   "metadata": {
    "ExecuteTime": {
     "end_time": "2020-08-14T08:19:16.579301Z",
     "start_time": "2020-08-14T08:08:27.458Z"
    }
   },
   "outputs": [],
   "source": [
    "a = []\n",
    "b = []\n",
    "feature7 = []\n",
    "for i in range(32):\n",
    "    for user in range(len(num_users)):\n",
    "        for movie in map_target_movies[user]:\n",
    "            a.append(emb_features[0][movie])\n",
    "        b.append(a)\n",
    "        a = []\n",
    "    feature7.append(b)\n",
    "    b = []"
   ]
  },
  {
   "cell_type": "code",
   "execution_count": null,
   "metadata": {
    "ExecuteTime": {
     "end_time": "2020-08-14T08:19:16.581857Z",
     "start_time": "2020-08-14T08:08:27.464Z"
    }
   },
   "outputs": [],
   "source": [
    "np.array(feature7).shape"
   ]
  },
  {
   "cell_type": "code",
   "execution_count": null,
   "metadata": {
    "ExecuteTime": {
     "end_time": "2020-08-14T08:19:16.582856Z",
     "start_time": "2020-08-14T08:08:27.470Z"
    }
   },
   "outputs": [],
   "source": [
    "np.array(feature7[0]).shape"
   ]
  },
  {
   "cell_type": "markdown",
   "metadata": {},
   "source": [
    "## Features stack"
   ]
  },
  {
   "cell_type": "code",
   "execution_count": null,
   "metadata": {
    "ExecuteTime": {
     "end_time": "2020-08-14T08:19:16.585047Z",
     "start_time": "2020-08-14T08:08:27.482Z"
    }
   },
   "outputs": [],
   "source": [
    "'''features = np.stack((feature1,feature2,feature3,feature4,feature5,feature6,\n",
    "                     feature7[0], feature7[1],feature7[2], feature7[3],\n",
    "                     feature7[4], feature7[5],feature7[6], feature7[7],\n",
    "                     feature7[8], feature7[9],feature7[10], feature7[11],\n",
    "                     feature7[12], feature7[13],feature7[14], feature7[15],\n",
    "                     feature7[16], feature7[17],feature7[18], feature7[19],\n",
    "                     feature7[20], feature7[21],feature7[22], feature7[23],\n",
    "                     feature7[24], feature7[25],feature7[26], feature7[27],\n",
    "                     feature7[28], feature7[29],feature7[30], feature7[31],\n",
    "                     feature8,feature9,feature10,feature11,feature12,\n",
    "                    feature13,feature14,feature15))'''\n",
    "features = np.stack((feature1,feature2,feature5,feature6,\n",
    "                     feature7[0], feature7[1],feature7[2], feature7[3],\n",
    "                     feature7[4], feature7[5],feature7[6], feature7[7],\n",
    "                     feature7[8], feature7[9],feature7[10], feature7[11],\n",
    "                     feature7[12], feature7[13],feature7[14], feature7[15],\n",
    "                     feature7[16], feature7[17],feature7[18], feature7[19],\n",
    "                     feature7[20], feature7[21],feature7[22], feature7[23],\n",
    "                     feature7[24], feature7[25],feature7[26], feature7[27],\n",
    "                     feature7[28], feature7[29],feature7[30], feature7[31]))"
   ]
  },
  {
   "cell_type": "code",
   "execution_count": null,
   "metadata": {
    "ExecuteTime": {
     "end_time": "2020-08-14T08:19:16.586317Z",
     "start_time": "2020-08-14T08:08:27.491Z"
    }
   },
   "outputs": [],
   "source": [
    "len(features)"
   ]
  },
  {
   "cell_type": "markdown",
   "metadata": {},
   "source": [
    "## Labels"
   ]
  },
  {
   "cell_type": "markdown",
   "metadata": {},
   "source": [
    "Below are the movies that each user watched"
   ]
  },
  {
   "cell_type": "code",
   "execution_count": null,
   "metadata": {
    "ExecuteTime": {
     "end_time": "2020-08-14T08:19:16.588341Z",
     "start_time": "2020-08-14T08:08:27.502Z"
    }
   },
   "outputs": [],
   "source": [
    "def watched_movies(df):\n",
    "    watched = []\n",
    "    for i in range(len(num_users)):\n",
    "        watched.append(df[df[\"user_id\"]==uid_rev_map.get(i)].groupby(\"book_id\")[\"book_id\"].count().index)  \n",
    "    return watched"
   ]
  },
  {
   "cell_type": "code",
   "execution_count": null,
   "metadata": {
    "ExecuteTime": {
     "end_time": "2020-08-14T08:19:16.590195Z",
     "start_time": "2020-08-14T08:08:27.508Z"
    }
   },
   "outputs": [],
   "source": [
    "#train_labels_df\n",
    "#test_df\n",
    "#val_df\n",
    "train_watched = watched_movies(train_labels_df)\n",
    "test_watched = watched_movies(test_df)\n",
    "val_watched = watched_movies(val_df)"
   ]
  },
  {
   "cell_type": "markdown",
   "metadata": {},
   "source": [
    "Creation of the target list. It containes 0s and 1s for the 100 recommended movies for each user. Based on the watched movies it assigns the values. If the user watched the recommended movie, then the value of the target is equal to 1, otherwise it is 0."
   ]
  },
  {
   "cell_type": "code",
   "execution_count": null,
   "metadata": {
    "ExecuteTime": {
     "end_time": "2020-08-14T08:19:16.591669Z",
     "start_time": "2020-08-14T08:08:27.516Z"
    }
   },
   "outputs": [],
   "source": [
    "def create_target(watched):\n",
    "    user_target = []\n",
    "    target = []\n",
    "    for i in range(len(num_users)):\n",
    "        for target_movie in target_movies[i]:\n",
    "            if target_movie in watched[i]:\n",
    "                user_target.append(1)\n",
    "            else:\n",
    "                user_target.append(0)\n",
    "        target.append(user_target)\n",
    "        user_target = []\n",
    "    return target"
   ]
  },
  {
   "cell_type": "code",
   "execution_count": null,
   "metadata": {
    "ExecuteTime": {
     "end_time": "2020-08-14T08:19:16.593666Z",
     "start_time": "2020-08-14T08:08:27.523Z"
    }
   },
   "outputs": [],
   "source": [
    "label_train = create_target(train_watched)\n",
    "label_test = create_target(test_watched)\n",
    "label_val = create_target(val_watched)\n",
    "#y_train = y_test = y_val"
   ]
  },
  {
   "cell_type": "markdown",
   "metadata": {},
   "source": [
    "## LightGBM model"
   ]
  },
  {
   "cell_type": "code",
   "execution_count": null,
   "metadata": {
    "ExecuteTime": {
     "end_time": "2020-08-14T08:19:16.595162Z",
     "start_time": "2020-08-14T08:08:27.534Z"
    }
   },
   "outputs": [],
   "source": [
    "X = np.array(features)\n",
    "label_train = np.array(label_train)\n",
    "label_test = np.array(label_test)\n",
    "label_val = np.array(label_val)"
   ]
  },
  {
   "cell_type": "code",
   "execution_count": null,
   "metadata": {
    "ExecuteTime": {
     "end_time": "2020-08-14T08:19:16.597156Z",
     "start_time": "2020-08-14T08:08:27.542Z"
    }
   },
   "outputs": [],
   "source": [
    "k = len(target_movies[0])\n",
    "X = X.reshape(len(num_users)*k, len(features))\n",
    "y_train = label_train.reshape(len(num_users)*k,)\n",
    "y_test = label_test.reshape(len(num_users)*k,)\n",
    "y_val = label_val.reshape(len(num_users)*k,)"
   ]
  },
  {
   "cell_type": "code",
   "execution_count": null,
   "metadata": {
    "ExecuteTime": {
     "end_time": "2020-08-14T08:19:16.600862Z",
     "start_time": "2020-08-14T08:08:27.549Z"
    }
   },
   "outputs": [],
   "source": [
    "import lightgbm as lgb\n",
    "gbm = lgb.LGBMRanker(min_child_samples=1, learning_rate=.1, n_jobs=2, importance_type='gain',\n",
    "                     num_leaves=31, min_child_weight=100)"
   ]
  },
  {
   "cell_type": "markdown",
   "metadata": {},
   "source": [
    "target movies\n",
    "train_df\n",
    "feature1\n",
    "feature2"
   ]
  },
  {
   "cell_type": "code",
   "execution_count": null,
   "metadata": {
    "ExecuteTime": {
     "end_time": "2020-08-14T08:19:16.602551Z",
     "start_time": "2020-08-14T08:08:27.558Z"
    }
   },
   "outputs": [],
   "source": [
    "'''X_train_feature1 = []\n",
    "X_train_feature2 = []\n",
    "for j in range(610):\n",
    "    for i in range(len(target_movies[j])):\n",
    "        if target_movies[j][i] in val_df['movie_id'].values.tolist():\n",
    "            X_train_feature1.append(feature1[i])\n",
    "            X_train_feature2.append(feature2[i])\n",
    "print(X_train_feature1)\n",
    "print(X_train_feature2)\n",
    "#X_train = np.stack(X_train_feature1,X_train_feature2)'''"
   ]
  },
  {
   "cell_type": "markdown",
   "metadata": {},
   "source": [
    "X_train\n",
    "X_test\n",
    "X_val\n",
    "y_train\n",
    "y_test\n",
    "y_val"
   ]
  },
  {
   "cell_type": "code",
   "execution_count": null,
   "metadata": {
    "ExecuteTime": {
     "end_time": "2020-08-14T08:19:16.604649Z",
     "start_time": "2020-08-14T08:08:27.567Z"
    }
   },
   "outputs": [],
   "source": [
    "X_train = X\n",
    "X_test = X\n",
    "X_val = X"
   ]
  },
  {
   "cell_type": "code",
   "execution_count": null,
   "metadata": {
    "ExecuteTime": {
     "end_time": "2020-08-14T08:19:16.606866Z",
     "start_time": "2020-08-14T08:08:27.573Z"
    }
   },
   "outputs": [],
   "source": [
    "#from sklearn.model_selection import train_test_split\n",
    "#X_train, X_test, y_train, y_test = train_test_split(X, y, test_size=0.2, random_state=1)\n",
    "#X_train, X_val, y_train, y_val = train_test_split(X_train, y_train, test_size=0.2, random_state=1)"
   ]
  },
  {
   "cell_type": "code",
   "execution_count": null,
   "metadata": {
    "ExecuteTime": {
     "end_time": "2020-08-14T08:19:16.609706Z",
     "start_time": "2020-08-14T08:08:27.579Z"
    }
   },
   "outputs": [],
   "source": [
    "query_train = [X_train.shape[0]]\n",
    "query_val = [X_val.shape[0]]\n",
    "query_test = [X_test.shape[0]]\n",
    "group_train = []\n",
    "group_val = []\n",
    "print(query_train)\n",
    "print(query_val)\n",
    "print(query_test)\n",
    "'''\n",
    "for i in range(390):\n",
    "    group_train.append(100)\n",
    "group_train.append(40)\n",
    "group_val.append(60)\n",
    "for i in range(97):\n",
    "    group_val.append(100)'''\n",
    "\n",
    "for i in range(len(num_users)):\n",
    "    group_train.append(k)\n",
    "    group_val.append(k)\n"
   ]
  },
  {
   "cell_type": "code",
   "execution_count": null,
   "metadata": {
    "ExecuteTime": {
     "end_time": "2020-08-14T08:19:16.614149Z",
     "start_time": "2020-08-14T08:08:27.586Z"
    },
    "code_folding": []
   },
   "outputs": [],
   "source": [
    "gbm.fit(X_train, y_train, group=group_train,\n",
    "        eval_set=[(X_val, y_val)], eval_group=[group_val],\n",
    "        eval_at=[1, 3, 5, 10], early_stopping_rounds=50, eval_metric='ndcg')\n",
    "#no early stopping"
   ]
  },
  {
   "cell_type": "code",
   "execution_count": null,
   "metadata": {
    "ExecuteTime": {
     "end_time": "2020-08-14T08:19:16.615342Z",
     "start_time": "2020-08-14T08:08:27.592Z"
    }
   },
   "outputs": [],
   "source": [
    "test_pred = gbm.predict(X_test)\n",
    "test_pred"
   ]
  },
  {
   "cell_type": "markdown",
   "metadata": {},
   "source": [
    "## NDCG Score"
   ]
  },
  {
   "cell_type": "code",
   "execution_count": null,
   "metadata": {
    "ExecuteTime": {
     "end_time": "2020-08-14T08:19:16.618551Z",
     "start_time": "2020-08-14T08:08:27.602Z"
    }
   },
   "outputs": [],
   "source": [
    "p = 0\n",
    "m = 100\n",
    "lgbm_pred_per_user = []\n",
    "for i in range(len(num_users)):\n",
    "    lgbm_pred_per_user.append(test_pred[p:m])\n",
    "    p += 100\n",
    "    m += 100"
   ]
  },
  {
   "cell_type": "markdown",
   "metadata": {},
   "source": [
    "### NDCG IFM on this data"
   ]
  },
  {
   "cell_type": "code",
   "execution_count": null,
   "metadata": {
    "ExecuteTime": {
     "end_time": "2020-08-14T08:19:16.621542Z",
     "start_time": "2020-08-14T08:08:27.610Z"
    }
   },
   "outputs": [],
   "source": [
    "np.array(feature7[0][609]).shape"
   ]
  },
  {
   "cell_type": "code",
   "execution_count": null,
   "metadata": {
    "ExecuteTime": {
     "end_time": "2020-08-14T08:19:16.623893Z",
     "start_time": "2020-08-14T08:08:27.618Z"
    }
   },
   "outputs": [],
   "source": [
    "feature1.shape"
   ]
  },
  {
   "cell_type": "code",
   "execution_count": null,
   "metadata": {
    "ExecuteTime": {
     "end_time": "2020-08-14T08:19:16.627140Z",
     "start_time": "2020-08-14T08:08:27.625Z"
    }
   },
   "outputs": [],
   "source": [
    "lgbm_NDCG = []\n",
    "IFM_NDCG = []\n",
    "#SVD_NDCG = []\n",
    "for i in range(len(num_users)):\n",
    "    excel_df = pd.DataFrame({'movie_id': target_movies[i], 'model1_score': feature1[i],\n",
    "                             'rank': feature2[i], '#users_watched': feature5[i],\n",
    "                             'new_user': feature6[i],\n",
    "                             'emedding1': feature7[0][i], 'emedding2': feature7[1][i], 'emedding3': feature7[2][i],\n",
    "                             'emedding4': feature7[3][i], 'emedding5': feature7[4][i], 'emedding6': feature7[5][i],\n",
    "                             'emedding7': feature7[6][i], 'emedding8': feature7[7][i], 'emedding9': feature7[8][i],\n",
    "                             'emedding10': feature7[9][i], 'emedding11': feature7[10][i], 'emedding12': feature7[11][i],\n",
    "                             'emedding13': feature7[12][i], 'emedding14': feature7[13][i], 'emedding15': feature7[14][i],\n",
    "                             'emedding16': feature7[15][i], 'emedding17': feature7[16][i], 'emedding18': feature7[17][i],\n",
    "                             'emedding19': feature7[18][i], 'emedding20': feature7[19][i], 'emedding21': feature7[20][i],\n",
    "                             'emedding22': feature7[21][i], 'emedding23': feature7[22][i], 'emedding24': feature7[23][i],\n",
    "                             'emedding25': feature7[24][i], 'emedding26': feature7[25][i], 'emedding27': feature7[26][i],\n",
    "                             'emedding28': feature7[27][i], 'emedding29': feature7[28][i], 'emedding30': feature7[29][i],\n",
    "                             'emedding31': feature7[30][i], 'emedding32': feature7[31][i],\n",
    "                             'train_label': label_train[i], 'test_label': label_test[i],\n",
    "                             'y_val': label_val[i], 'LGBM Score': lgbm_pred_per_user[i]})\n",
    "    excel_df = excel_df.sort_values('LGBM Score', ascending=False)\n",
    "    relevance_lgbm_user = excel_df['test_label'].values.tolist()\n",
    "    lgbm_NDCG.append(NDCG_forUser(relevance_lgbm_user))\n",
    "    excel_df = excel_df.sort_values('model1_score', ascending=False)\n",
    "    ifm_relevance = excel_df['test_label'].values.tolist()\n",
    "    IFM_NDCG.append(NDCG_forUser(ifm_relevance))\n",
    "    #excel_df = excel_df.sort_values('model2_score', ascending=False)\n",
    "    #svd_relevance_h = excel_df['test_label'].values.tolist()\n",
    "    #SVD_NDCG.append(NDCG_forUser(svd_relevance_h))"
   ]
  },
  {
   "cell_type": "code",
   "execution_count": null,
   "metadata": {
    "ExecuteTime": {
     "end_time": "2020-08-14T08:19:16.629922Z",
     "start_time": "2020-08-14T08:08:27.632Z"
    }
   },
   "outputs": [],
   "source": [
    "lgbm_NDCG = pd.Series(lgbm_NDCG).fillna(0).tolist()\n",
    "IFM_NDCG = pd.Series(IFM_NDCG).fillna(0).tolist()\n",
    "#SVD_NDCG = pd.Series(SVD_NDCG).fillna(0).tolist()"
   ]
  },
  {
   "cell_type": "markdown",
   "metadata": {},
   "source": [
    "## Excel-Like"
   ]
  },
  {
   "cell_type": "code",
   "execution_count": null,
   "metadata": {
    "ExecuteTime": {
     "end_time": "2020-08-14T08:19:16.632981Z",
     "start_time": "2020-08-14T08:08:27.642Z"
    }
   },
   "outputs": [],
   "source": [
    "excel1_df = pd.DataFrame({'movie_id': target_movies[0],'model1_score':feature1[0], 'model2_score':feature3[0],'is_comedy':feature4[0],\n",
    "                            '#users_watched':feature5[0], 'train_label':label_train[0], 'test_label':label_test[0],\n",
    "                            'label_val':label_val[0],'LGBM Score':lgbm_pred_per_user[0]})"
   ]
  },
  {
   "cell_type": "code",
   "execution_count": null,
   "metadata": {
    "ExecuteTime": {
     "end_time": "2020-08-14T08:19:16.635355Z",
     "start_time": "2020-08-14T08:08:27.649Z"
    }
   },
   "outputs": [],
   "source": [
    "excel1_df.head(10)"
   ]
  },
  {
   "cell_type": "code",
   "execution_count": null,
   "metadata": {
    "ExecuteTime": {
     "end_time": "2020-08-14T08:19:16.639637Z",
     "start_time": "2020-08-14T08:08:27.656Z"
    }
   },
   "outputs": [],
   "source": [
    "excel1_df = excel1_df.sort_values('LGBM Score',ascending = False)\n",
    "excel1_df.head(10)"
   ]
  },
  {
   "cell_type": "code",
   "execution_count": null,
   "metadata": {
    "ExecuteTime": {
     "end_time": "2020-08-14T08:19:16.644111Z",
     "start_time": "2020-08-14T08:08:27.662Z"
    }
   },
   "outputs": [],
   "source": [
    "relevance_lgbm_firstUser = excel1_df['test_label'].values.tolist()"
   ]
  },
  {
   "cell_type": "code",
   "execution_count": null,
   "metadata": {
    "ExecuteTime": {
     "end_time": "2020-08-14T08:19:16.646956Z",
     "start_time": "2020-08-14T08:08:27.669Z"
    }
   },
   "outputs": [],
   "source": [
    "L1GBM_ndcg = NDCG_forUser(relevance_lgbm_firstUser)\n",
    "L1GBM_ndcg"
   ]
  },
  {
   "cell_type": "markdown",
   "metadata": {},
   "source": [
    "## NDCG Comparison"
   ]
  },
  {
   "cell_type": "code",
   "execution_count": null,
   "metadata": {
    "ExecuteTime": {
     "end_time": "2020-08-14T08:19:16.650609Z",
     "start_time": "2020-08-14T08:08:27.677Z"
    }
   },
   "outputs": [],
   "source": [
    "allUsers_implicit_ndcg[0]"
   ]
  },
  {
   "cell_type": "code",
   "execution_count": null,
   "metadata": {
    "ExecuteTime": {
     "end_time": "2020-08-14T08:19:16.654384Z",
     "start_time": "2020-08-14T08:08:27.685Z"
    }
   },
   "outputs": [],
   "source": [
    "ndcg_df = pd.DataFrame({'Implicit FM': allUsers_implicit_ndcg, 'LightGBM': lgbm_NDCG, 'IFM_this': IFM_NDCG})"
   ]
  },
  {
   "cell_type": "code",
   "execution_count": null,
   "metadata": {
    "ExecuteTime": {
     "end_time": "2020-08-14T08:19:16.657827Z",
     "start_time": "2020-08-14T08:08:27.692Z"
    }
   },
   "outputs": [],
   "source": [
    "ndcg_df"
   ]
  },
  {
   "cell_type": "code",
   "execution_count": null,
   "metadata": {
    "ExecuteTime": {
     "end_time": "2020-08-14T08:19:16.661625Z",
     "start_time": "2020-08-14T08:08:27.698Z"
    }
   },
   "outputs": [],
   "source": [
    "ndcg_df['Implicit FM'].mean()"
   ]
  },
  {
   "cell_type": "code",
   "execution_count": null,
   "metadata": {
    "ExecuteTime": {
     "end_time": "2020-08-14T08:19:16.665827Z",
     "start_time": "2020-08-14T08:08:27.704Z"
    }
   },
   "outputs": [],
   "source": [
    "lgbm_mean = ndcg_df['LightGBM'].mean()\n",
    "lgbm_mean"
   ]
  },
  {
   "cell_type": "code",
   "execution_count": null,
   "metadata": {
    "ExecuteTime": {
     "end_time": "2020-08-14T08:19:16.669140Z",
     "start_time": "2020-08-14T08:08:27.710Z"
    }
   },
   "outputs": [],
   "source": [
    "ifm_mean = ndcg_df['IFM_this'].mean()\n",
    "ifm_mean"
   ]
  },
  {
   "cell_type": "code",
   "execution_count": null,
   "metadata": {
    "ExecuteTime": {
     "end_time": "2020-08-14T08:19:16.673022Z",
     "start_time": "2020-08-14T08:08:27.717Z"
    }
   },
   "outputs": [],
   "source": [
    "#svd_mean = ndcg_df['SVD_this'].mean()\n",
    "#svd_mean"
   ]
  },
  {
   "cell_type": "markdown",
   "metadata": {},
   "source": [
    "## Visualization"
   ]
  },
  {
   "cell_type": "code",
   "execution_count": null,
   "metadata": {},
   "outputs": [],
   "source": []
  },
  {
   "cell_type": "code",
   "execution_count": null,
   "metadata": {},
   "outputs": [],
   "source": []
  },
  {
   "cell_type": "code",
   "execution_count": null,
   "metadata": {},
   "outputs": [],
   "source": []
  },
  {
   "cell_type": "code",
   "execution_count": null,
   "metadata": {},
   "outputs": [],
   "source": []
  },
  {
   "cell_type": "code",
   "execution_count": null,
   "metadata": {},
   "outputs": [],
   "source": []
  },
  {
   "cell_type": "code",
   "execution_count": null,
   "metadata": {},
   "outputs": [],
   "source": []
  },
  {
   "cell_type": "code",
   "execution_count": null,
   "metadata": {},
   "outputs": [],
   "source": []
  },
  {
   "cell_type": "code",
   "execution_count": null,
   "metadata": {},
   "outputs": [],
   "source": []
  },
  {
   "cell_type": "code",
   "execution_count": null,
   "metadata": {},
   "outputs": [],
   "source": []
  },
  {
   "cell_type": "code",
   "execution_count": null,
   "metadata": {},
   "outputs": [],
   "source": []
  },
  {
   "cell_type": "code",
   "execution_count": null,
   "metadata": {},
   "outputs": [],
   "source": []
  },
  {
   "cell_type": "code",
   "execution_count": null,
   "metadata": {},
   "outputs": [],
   "source": []
  },
  {
   "cell_type": "code",
   "execution_count": null,
   "metadata": {},
   "outputs": [],
   "source": []
  },
  {
   "cell_type": "code",
   "execution_count": null,
   "metadata": {},
   "outputs": [],
   "source": []
  },
  {
   "cell_type": "code",
   "execution_count": null,
   "metadata": {},
   "outputs": [],
   "source": []
  },
  {
   "cell_type": "code",
   "execution_count": null,
   "metadata": {},
   "outputs": [],
   "source": []
  },
  {
   "cell_type": "code",
   "execution_count": null,
   "metadata": {},
   "outputs": [],
   "source": []
  },
  {
   "cell_type": "code",
   "execution_count": null,
   "metadata": {},
   "outputs": [],
   "source": []
  }
 ],
 "metadata": {
  "kernelspec": {
   "display_name": "Python 3",
   "language": "python",
   "name": "python3"
  },
  "language_info": {
   "codemirror_mode": {
    "name": "ipython",
    "version": 3
   },
   "file_extension": ".py",
   "mimetype": "text/x-python",
   "name": "python",
   "nbconvert_exporter": "python",
   "pygments_lexer": "ipython3",
   "version": "3.7.7"
  },
  "toc": {
   "base_numbering": 1,
   "nav_menu": {},
   "number_sections": true,
   "sideBar": true,
   "skip_h1_title": false,
   "title_cell": "Table of Contents",
   "title_sidebar": "Contents",
   "toc_cell": false,
   "toc_position": {
    "height": "calc(100% - 180px)",
    "left": "10px",
    "top": "150px",
    "width": "307.2px"
   },
   "toc_section_display": true,
   "toc_window_display": true
  },
  "varInspector": {
   "cols": {
    "lenName": 16,
    "lenType": 16,
    "lenVar": 40
   },
   "kernels_config": {
    "python": {
     "delete_cmd_postfix": "",
     "delete_cmd_prefix": "del ",
     "library": "var_list.py",
     "varRefreshCmd": "print(var_dic_list())"
    },
    "r": {
     "delete_cmd_postfix": ") ",
     "delete_cmd_prefix": "rm(",
     "library": "var_list.r",
     "varRefreshCmd": "cat(var_dic_list()) "
    }
   },
   "types_to_exclude": [
    "module",
    "function",
    "builtin_function_or_method",
    "instance",
    "_Feature"
   ],
   "window_display": false
  }
 },
 "nbformat": 4,
 "nbformat_minor": 4
}
