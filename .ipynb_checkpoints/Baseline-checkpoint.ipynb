{
 "cells": [
  {
   "cell_type": "code",
   "execution_count": 415,
   "metadata": {
    "ExecuteTime": {
     "end_time": "2020-07-31T15:27:59.887349Z",
     "start_time": "2020-07-31T15:27:59.879336Z"
    }
   },
   "outputs": [],
   "source": [
    "%config IPCompleter.greedy=True"
   ]
  },
  {
   "cell_type": "code",
   "execution_count": 416,
   "metadata": {
    "ExecuteTime": {
     "end_time": "2020-07-31T15:28:00.143563Z",
     "start_time": "2020-07-31T15:28:00.138576Z"
    }
   },
   "outputs": [],
   "source": [
    "import pandas as pd\n",
    "import numpy as np\n",
    "import matplotlib.pyplot as plt\n",
    "from spotlight.factorization.implicit import ImplicitFactorizationModel\n",
    "from spotlight.interactions import Interactions\n",
    "from spotlight.cross_validation import random_train_test_split"
   ]
  },
  {
   "cell_type": "code",
   "execution_count": 417,
   "metadata": {
    "ExecuteTime": {
     "end_time": "2020-07-31T15:28:14.087755Z",
     "start_time": "2020-07-31T15:28:14.007614Z"
    }
   },
   "outputs": [],
   "source": [
    "ratings_df = pd.read_csv('C:/Users/papad/Desktop/ml-latest-small/ml-latest-small/ratings.csv')\n",
    "movies_df = pd.read_csv('C:/Users/papad/Desktop/ml-latest-small/ml-latest-small/movies.csv')\n",
    "tags_df = pd.read_csv('C:/Users/papad/Desktop/ml-latest-small/ml-latest-small/tags.csv')\n",
    "links_df = pd.read_csv('C:/Users/papad/Desktop/ml-latest-small/ml-latest-small/links.csv')"
   ]
  },
  {
   "cell_type": "code",
   "execution_count": 418,
   "metadata": {
    "ExecuteTime": {
     "end_time": "2020-07-31T15:28:21.111346Z",
     "start_time": "2020-07-31T15:28:21.106359Z"
    }
   },
   "outputs": [
    {
     "data": {
      "text/plain": [
       "\"ratings_df = pd.read_csv('C:/Users/papad/Desktop/ml-25m/ml-25m/ratings.csv')\\nmovies_df = pd.read_csv('C:/Users/papad/Desktop/ml-25m/ml-25m/movies.csv')\""
      ]
     },
     "execution_count": 418,
     "metadata": {},
     "output_type": "execute_result"
    }
   ],
   "source": [
    "'''ratings_df = pd.read_csv('C:/Users/papad/Desktop/ml-25m/ml-25m/ratings.csv')\n",
    "movies_df = pd.read_csv('C:/Users/papad/Desktop/ml-25m/ml-25m/movies.csv')'''"
   ]
  },
  {
   "cell_type": "markdown",
   "metadata": {},
   "source": [
    "# Dataset"
   ]
  },
  {
   "cell_type": "code",
   "execution_count": 419,
   "metadata": {
    "ExecuteTime": {
     "end_time": "2020-07-31T15:28:28.416165Z",
     "start_time": "2020-07-31T15:28:28.410154Z"
    }
   },
   "outputs": [
    {
     "data": {
      "text/plain": [
       "'percentage = 3\\nmovies_df = movies_df.head(int(len(movies_df)*(percentage/100)))'"
      ]
     },
     "execution_count": 419,
     "metadata": {},
     "output_type": "execute_result"
    }
   ],
   "source": [
    "'''percentage = 3\n",
    "movies_df = movies_df.head(int(len(movies_df)*(percentage/100)))'''"
   ]
  },
  {
   "cell_type": "code",
   "execution_count": 420,
   "metadata": {
    "ExecuteTime": {
     "end_time": "2020-07-31T15:28:35.595252Z",
     "start_time": "2020-07-31T15:28:35.585246Z"
    }
   },
   "outputs": [
    {
     "data": {
      "text/html": [
       "<div>\n",
       "<style scoped>\n",
       "    .dataframe tbody tr th:only-of-type {\n",
       "        vertical-align: middle;\n",
       "    }\n",
       "\n",
       "    .dataframe tbody tr th {\n",
       "        vertical-align: top;\n",
       "    }\n",
       "\n",
       "    .dataframe thead th {\n",
       "        text-align: right;\n",
       "    }\n",
       "</style>\n",
       "<table border=\"1\" class=\"dataframe\">\n",
       "  <thead>\n",
       "    <tr style=\"text-align: right;\">\n",
       "      <th></th>\n",
       "      <th>movieId</th>\n",
       "      <th>title</th>\n",
       "      <th>genres</th>\n",
       "    </tr>\n",
       "  </thead>\n",
       "  <tbody>\n",
       "    <tr>\n",
       "      <th>0</th>\n",
       "      <td>1</td>\n",
       "      <td>Toy Story (1995)</td>\n",
       "      <td>Adventure|Animation|Children|Comedy|Fantasy</td>\n",
       "    </tr>\n",
       "    <tr>\n",
       "      <th>1</th>\n",
       "      <td>2</td>\n",
       "      <td>Jumanji (1995)</td>\n",
       "      <td>Adventure|Children|Fantasy</td>\n",
       "    </tr>\n",
       "    <tr>\n",
       "      <th>2</th>\n",
       "      <td>3</td>\n",
       "      <td>Grumpier Old Men (1995)</td>\n",
       "      <td>Comedy|Romance</td>\n",
       "    </tr>\n",
       "    <tr>\n",
       "      <th>3</th>\n",
       "      <td>4</td>\n",
       "      <td>Waiting to Exhale (1995)</td>\n",
       "      <td>Comedy|Drama|Romance</td>\n",
       "    </tr>\n",
       "    <tr>\n",
       "      <th>4</th>\n",
       "      <td>5</td>\n",
       "      <td>Father of the Bride Part II (1995)</td>\n",
       "      <td>Comedy</td>\n",
       "    </tr>\n",
       "    <tr>\n",
       "      <th>...</th>\n",
       "      <td>...</td>\n",
       "      <td>...</td>\n",
       "      <td>...</td>\n",
       "    </tr>\n",
       "    <tr>\n",
       "      <th>9737</th>\n",
       "      <td>193581</td>\n",
       "      <td>Black Butler: Book of the Atlantic (2017)</td>\n",
       "      <td>Action|Animation|Comedy|Fantasy</td>\n",
       "    </tr>\n",
       "    <tr>\n",
       "      <th>9738</th>\n",
       "      <td>193583</td>\n",
       "      <td>No Game No Life: Zero (2017)</td>\n",
       "      <td>Animation|Comedy|Fantasy</td>\n",
       "    </tr>\n",
       "    <tr>\n",
       "      <th>9739</th>\n",
       "      <td>193585</td>\n",
       "      <td>Flint (2017)</td>\n",
       "      <td>Drama</td>\n",
       "    </tr>\n",
       "    <tr>\n",
       "      <th>9740</th>\n",
       "      <td>193587</td>\n",
       "      <td>Bungo Stray Dogs: Dead Apple (2018)</td>\n",
       "      <td>Action|Animation</td>\n",
       "    </tr>\n",
       "    <tr>\n",
       "      <th>9741</th>\n",
       "      <td>193609</td>\n",
       "      <td>Andrew Dice Clay: Dice Rules (1991)</td>\n",
       "      <td>Comedy</td>\n",
       "    </tr>\n",
       "  </tbody>\n",
       "</table>\n",
       "<p>9742 rows × 3 columns</p>\n",
       "</div>"
      ],
      "text/plain": [
       "      movieId                                      title  \\\n",
       "0           1                           Toy Story (1995)   \n",
       "1           2                             Jumanji (1995)   \n",
       "2           3                    Grumpier Old Men (1995)   \n",
       "3           4                   Waiting to Exhale (1995)   \n",
       "4           5         Father of the Bride Part II (1995)   \n",
       "...       ...                                        ...   \n",
       "9737   193581  Black Butler: Book of the Atlantic (2017)   \n",
       "9738   193583               No Game No Life: Zero (2017)   \n",
       "9739   193585                               Flint (2017)   \n",
       "9740   193587        Bungo Stray Dogs: Dead Apple (2018)   \n",
       "9741   193609        Andrew Dice Clay: Dice Rules (1991)   \n",
       "\n",
       "                                           genres  \n",
       "0     Adventure|Animation|Children|Comedy|Fantasy  \n",
       "1                      Adventure|Children|Fantasy  \n",
       "2                                  Comedy|Romance  \n",
       "3                            Comedy|Drama|Romance  \n",
       "4                                          Comedy  \n",
       "...                                           ...  \n",
       "9737              Action|Animation|Comedy|Fantasy  \n",
       "9738                     Animation|Comedy|Fantasy  \n",
       "9739                                        Drama  \n",
       "9740                             Action|Animation  \n",
       "9741                                       Comedy  \n",
       "\n",
       "[9742 rows x 3 columns]"
      ]
     },
     "execution_count": 420,
     "metadata": {},
     "output_type": "execute_result"
    }
   ],
   "source": [
    "movies_df"
   ]
  },
  {
   "cell_type": "code",
   "execution_count": 421,
   "metadata": {
    "ExecuteTime": {
     "end_time": "2020-07-31T15:28:43.202526Z",
     "start_time": "2020-07-31T15:28:43.198959Z"
    }
   },
   "outputs": [],
   "source": [
    "#ratings_df = ratings_df.head(int(len(ratings_df)*(percentage/100)))"
   ]
  },
  {
   "cell_type": "code",
   "execution_count": 422,
   "metadata": {
    "ExecuteTime": {
     "end_time": "2020-07-31T15:28:51.025520Z",
     "start_time": "2020-07-31T15:28:51.012554Z"
    }
   },
   "outputs": [
    {
     "data": {
      "text/html": [
       "<div>\n",
       "<style scoped>\n",
       "    .dataframe tbody tr th:only-of-type {\n",
       "        vertical-align: middle;\n",
       "    }\n",
       "\n",
       "    .dataframe tbody tr th {\n",
       "        vertical-align: top;\n",
       "    }\n",
       "\n",
       "    .dataframe thead th {\n",
       "        text-align: right;\n",
       "    }\n",
       "</style>\n",
       "<table border=\"1\" class=\"dataframe\">\n",
       "  <thead>\n",
       "    <tr style=\"text-align: right;\">\n",
       "      <th></th>\n",
       "      <th>userId</th>\n",
       "      <th>movieId</th>\n",
       "      <th>rating</th>\n",
       "      <th>timestamp</th>\n",
       "    </tr>\n",
       "  </thead>\n",
       "  <tbody>\n",
       "    <tr>\n",
       "      <th>0</th>\n",
       "      <td>1</td>\n",
       "      <td>1</td>\n",
       "      <td>4.0</td>\n",
       "      <td>964982703</td>\n",
       "    </tr>\n",
       "    <tr>\n",
       "      <th>1</th>\n",
       "      <td>1</td>\n",
       "      <td>3</td>\n",
       "      <td>4.0</td>\n",
       "      <td>964981247</td>\n",
       "    </tr>\n",
       "    <tr>\n",
       "      <th>2</th>\n",
       "      <td>1</td>\n",
       "      <td>6</td>\n",
       "      <td>4.0</td>\n",
       "      <td>964982224</td>\n",
       "    </tr>\n",
       "    <tr>\n",
       "      <th>3</th>\n",
       "      <td>1</td>\n",
       "      <td>47</td>\n",
       "      <td>5.0</td>\n",
       "      <td>964983815</td>\n",
       "    </tr>\n",
       "    <tr>\n",
       "      <th>4</th>\n",
       "      <td>1</td>\n",
       "      <td>50</td>\n",
       "      <td>5.0</td>\n",
       "      <td>964982931</td>\n",
       "    </tr>\n",
       "    <tr>\n",
       "      <th>...</th>\n",
       "      <td>...</td>\n",
       "      <td>...</td>\n",
       "      <td>...</td>\n",
       "      <td>...</td>\n",
       "    </tr>\n",
       "    <tr>\n",
       "      <th>100831</th>\n",
       "      <td>610</td>\n",
       "      <td>166534</td>\n",
       "      <td>4.0</td>\n",
       "      <td>1493848402</td>\n",
       "    </tr>\n",
       "    <tr>\n",
       "      <th>100832</th>\n",
       "      <td>610</td>\n",
       "      <td>168248</td>\n",
       "      <td>5.0</td>\n",
       "      <td>1493850091</td>\n",
       "    </tr>\n",
       "    <tr>\n",
       "      <th>100833</th>\n",
       "      <td>610</td>\n",
       "      <td>168250</td>\n",
       "      <td>5.0</td>\n",
       "      <td>1494273047</td>\n",
       "    </tr>\n",
       "    <tr>\n",
       "      <th>100834</th>\n",
       "      <td>610</td>\n",
       "      <td>168252</td>\n",
       "      <td>5.0</td>\n",
       "      <td>1493846352</td>\n",
       "    </tr>\n",
       "    <tr>\n",
       "      <th>100835</th>\n",
       "      <td>610</td>\n",
       "      <td>170875</td>\n",
       "      <td>3.0</td>\n",
       "      <td>1493846415</td>\n",
       "    </tr>\n",
       "  </tbody>\n",
       "</table>\n",
       "<p>100836 rows × 4 columns</p>\n",
       "</div>"
      ],
      "text/plain": [
       "        userId  movieId  rating   timestamp\n",
       "0            1        1     4.0   964982703\n",
       "1            1        3     4.0   964981247\n",
       "2            1        6     4.0   964982224\n",
       "3            1       47     5.0   964983815\n",
       "4            1       50     5.0   964982931\n",
       "...        ...      ...     ...         ...\n",
       "100831     610   166534     4.0  1493848402\n",
       "100832     610   168248     5.0  1493850091\n",
       "100833     610   168250     5.0  1494273047\n",
       "100834     610   168252     5.0  1493846352\n",
       "100835     610   170875     3.0  1493846415\n",
       "\n",
       "[100836 rows x 4 columns]"
      ]
     },
     "execution_count": 422,
     "metadata": {},
     "output_type": "execute_result"
    }
   ],
   "source": [
    "ratings_df"
   ]
  },
  {
   "cell_type": "code",
   "execution_count": 423,
   "metadata": {
    "ExecuteTime": {
     "end_time": "2020-07-31T15:28:58.284808Z",
     "start_time": "2020-07-31T15:28:58.282799Z"
    }
   },
   "outputs": [],
   "source": [
    "#ratings_df.columns = ['userId', 'movieId', 'rating', 'timestamp']"
   ]
  },
  {
   "cell_type": "code",
   "execution_count": 424,
   "metadata": {
    "ExecuteTime": {
     "end_time": "2020-07-31T15:29:05.278600Z",
     "start_time": "2020-07-31T15:29:05.270589Z"
    }
   },
   "outputs": [
    {
     "name": "stdout",
     "output_type": "stream",
     "text": [
      "610\n",
      "9724\n"
     ]
    }
   ],
   "source": [
    "num_users = ratings_df['userId'].unique()\n",
    "print(len(num_users))\n",
    "num_items = ratings_df['movieId'].unique()\n",
    "print(len(num_items))"
   ]
  },
  {
   "cell_type": "markdown",
   "metadata": {},
   "source": [
    "# Spotlight"
   ]
  },
  {
   "cell_type": "markdown",
   "metadata": {},
   "source": [
    "## Data preperation for Spotlight"
   ]
  },
  {
   "cell_type": "markdown",
   "metadata": {},
   "source": [
    "The ids are not consecutive. For examples the id of a movies is shown multiple times. For this reason the procedure below is implemented. The reversed map is still saved to be used when needed."
   ]
  },
  {
   "cell_type": "code",
   "execution_count": 425,
   "metadata": {
    "ExecuteTime": {
     "end_time": "2020-07-31T15:29:12.410496Z",
     "start_time": "2020-07-31T15:29:12.329719Z"
    }
   },
   "outputs": [
    {
     "name": "stdout",
     "output_type": "stream",
     "text": [
      "userId 556 got uid 555\n",
      "movieId 54001 got iid 2518\n"
     ]
    }
   ],
   "source": [
    "from collections import defaultdict\n",
    "from itertools import count\n",
    "uid_map = defaultdict(count().__next__)\n",
    "iid_map = defaultdict(count().__next__)\n",
    "uids = np.array([uid_map[uid] for uid in ratings_df[\"userId\"].values ], dtype=np.int32)\n",
    "iids = np.array([iid_map[iid] for iid in ratings_df[\"movieId\"].values ], dtype=np.int32)\n",
    "\n",
    "uid_rev_map = {v: k for k, v in uid_map.items()}\n",
    "iid_rev_map = {v: k for k, v in iid_map.items()}\n",
    "\n",
    "ratings = ratings_df[\"rating\"].values.astype(np.float32)\n",
    "timestamps = ratings_df[\"timestamp\"].values.astype(np.int32)\n",
    "\n",
    "print(\"userId %d got uid %d\" % (556, uid_map[556]))\n",
    "print(\"movieId %d got iid %d\" % (54001, iid_map[54001]))"
   ]
  },
  {
   "cell_type": "code",
   "execution_count": 426,
   "metadata": {
    "ExecuteTime": {
     "end_time": "2020-07-31T15:29:19.750327Z",
     "start_time": "2020-07-31T15:29:19.745340Z"
    }
   },
   "outputs": [
    {
     "data": {
      "text/plain": [
       "610"
      ]
     },
     "execution_count": 426,
     "metadata": {},
     "output_type": "execute_result"
    }
   ],
   "source": [
    "len(uid_rev_map)"
   ]
  },
  {
   "cell_type": "markdown",
   "metadata": {},
   "source": [
    "Create the dataset variable representing the dataset prepared for use to create a recommendation systems using the Spotlight platform."
   ]
  },
  {
   "cell_type": "markdown",
   "metadata": {},
   "source": [
    "## Implicit Factorization model"
   ]
  },
  {
   "cell_type": "code",
   "execution_count": 427,
   "metadata": {
    "ExecuteTime": {
     "end_time": "2020-07-31T15:29:26.925014Z",
     "start_time": "2020-07-31T15:29:26.902960Z"
    },
    "code_folding": []
   },
   "outputs": [],
   "source": [
    "from spotlight.interactions import Interactions\n",
    "from spotlight.cross_validation import random_train_test_split\n",
    "from spotlight.factorization.implicit import ImplicitFactorizationModel\n",
    "import time  \n",
    "\n",
    "\n",
    "#pecify the ids of the users and items for all the pairs of user-item interactions\n",
    "implicit_interaction = Interactions(user_ids=uids,\n",
    "                                   item_ids=iids,\n",
    "                                   timestamps = timestamps)\n",
    "\n",
    "\n",
    "#lets initialise the seed, so that its repeatable and reproducible \n",
    "implicit_train_tmp, implicit_test = random_train_test_split(implicit_interaction, random_state=np.random.seed(42))\n",
    "implicit_train, implicit_val = random_train_test_split(implicit_train_tmp, random_state=np.random.seed(42))\n",
    "implicit_train_features, implicit_train_labels = random_train_test_split(implicit_train, random_state=np.random.seed(42))"
   ]
  },
  {
   "cell_type": "code",
   "execution_count": 428,
   "metadata": {
    "ExecuteTime": {
     "end_time": "2020-07-31T15:29:33.955613Z",
     "start_time": "2020-07-31T15:29:33.948632Z"
    }
   },
   "outputs": [
    {
     "name": "stdout",
     "output_type": "stream",
     "text": [
      "<Interactions dataset (610 users x 9724 items x 64534 interactions)>\n",
      "<Interactions dataset (610 users x 9724 items x 20168 interactions)>\n",
      "<Interactions dataset (610 users x 9724 items x 16134 interactions)>\n",
      "<Interactions dataset (610 users x 9724 items x 51627 interactions)>\n",
      "<Interactions dataset (610 users x 9724 items x 12907 interactions)>\n"
     ]
    }
   ],
   "source": [
    "print(implicit_train)\n",
    "print(implicit_test)\n",
    "print(implicit_val)\n",
    "print(implicit_train_features)\n",
    "print(implicit_train_labels)"
   ]
  },
  {
   "cell_type": "markdown",
   "metadata": {},
   "source": [
    "### Train-test split to DataFrame"
   ]
  },
  {
   "cell_type": "markdown",
   "metadata": {},
   "source": [
    "Train and test interaction datasets are converted to dataframes, in order to be used from other models too and provide consistent and fair results."
   ]
  },
  {
   "cell_type": "code",
   "execution_count": 429,
   "metadata": {
    "ExecuteTime": {
     "end_time": "2020-07-31T15:29:41.188764Z",
     "start_time": "2020-07-31T15:29:41.181746Z"
    },
    "code_folding": []
   },
   "outputs": [],
   "source": [
    "def interactionToDataFrame(dataset):\n",
    "    converted_users = []\n",
    "    converted_movies = []\n",
    "    rating = []\n",
    "    for i in range(len(dataset.user_ids)):\n",
    "        converted_users.append(uid_rev_map[dataset.user_ids[i]])\n",
    "        converted_movies.append(iid_rev_map[dataset.item_ids[i]])\n",
    "        rating.append(float(ratings_df['rating'][(ratings_df['movieId'] == converted_movies[i]) & (\n",
    "            ratings_df['userId'] == converted_users[i])].values))\n",
    "\n",
    "    df = pd.DataFrame({'user_id': converted_users,\n",
    "                       'movie_id': converted_movies, 'rating': rating})\n",
    "    return df"
   ]
  },
  {
   "cell_type": "code",
   "execution_count": 430,
   "metadata": {
    "ExecuteTime": {
     "end_time": "2020-07-31T15:32:22.274088Z",
     "start_time": "2020-07-31T15:29:48.607519Z"
    }
   },
   "outputs": [],
   "source": [
    "train_df = interactionToDataFrame(implicit_train)\n",
    "val_df = interactionToDataFrame(implicit_val)\n",
    "test_df = interactionToDataFrame(implicit_test)\n",
    "train_features_df = interactionToDataFrame(implicit_train_features)\n",
    "train_labels_df = interactionToDataFrame(implicit_train_labels)"
   ]
  },
  {
   "cell_type": "markdown",
   "metadata": {},
   "source": [
    "### Pickle "
   ]
  },
  {
   "cell_type": "markdown",
   "metadata": {},
   "source": [
    "Save"
   ]
  },
  {
   "cell_type": "code",
   "execution_count": 431,
   "metadata": {
    "ExecuteTime": {
     "end_time": "2020-07-31T15:32:29.569648Z",
     "start_time": "2020-07-31T15:32:29.564629Z"
    }
   },
   "outputs": [
    {
     "data": {
      "text/plain": [
       "'train_df.to_pickle(\"./train_df.pkl\")\\ntest_df.to_pickle(\"./test_df.pkl\")\\nval_df.to_pickle(\"./val_df.pkl\")'"
      ]
     },
     "execution_count": 431,
     "metadata": {},
     "output_type": "execute_result"
    }
   ],
   "source": [
    "'''train_df.to_pickle(\"./train_df.pkl\")\n",
    "test_df.to_pickle(\"./test_df.pkl\")\n",
    "val_df.to_pickle(\"./val_df.pkl\")'''"
   ]
  },
  {
   "cell_type": "markdown",
   "metadata": {},
   "source": [
    "Load"
   ]
  },
  {
   "cell_type": "code",
   "execution_count": 432,
   "metadata": {
    "ExecuteTime": {
     "end_time": "2020-07-31T15:32:37.015625Z",
     "start_time": "2020-07-31T15:32:37.011639Z"
    }
   },
   "outputs": [
    {
     "data": {
      "text/plain": [
       "'train_df = pd.read_pickle(\"./train_df.pkl\")\\ntest_df = pd.read_pickle(\"./test_df.pkl\")\\nval_df = pd.read_pickle(\"./val_df.pkl\")'"
      ]
     },
     "execution_count": 432,
     "metadata": {},
     "output_type": "execute_result"
    }
   ],
   "source": [
    "'''train_df = pd.read_pickle(\"./train_df.pkl\")\n",
    "test_df = pd.read_pickle(\"./test_df.pkl\")\n",
    "val_df = pd.read_pickle(\"./val_df.pkl\")'''"
   ]
  },
  {
   "cell_type": "markdown",
   "metadata": {},
   "source": [
    "### Train Implicit Factorization model "
   ]
  },
  {
   "cell_type": "code",
   "execution_count": 433,
   "metadata": {
    "ExecuteTime": {
     "end_time": "2020-07-31T15:33:16.747520Z",
     "start_time": "2020-07-31T15:32:44.419342Z"
    }
   },
   "outputs": [
    {
     "name": "stdout",
     "output_type": "stream",
     "text": [
      "Epoch 0: loss 0.7523935626853596\n",
      "Epoch 1: loss 0.4464545794155287\n",
      "Epoch 2: loss 0.4005779075057139\n",
      "Epoch 3: loss 0.3679629749224591\n",
      "Epoch 4: loss 0.335836077985085\n",
      "Training took 32 second\n"
     ]
    }
   ],
   "source": [
    "implicit_model = ImplicitFactorizationModel(n_iter=5)\n",
    "\n",
    "current = time.time()\n",
    "\n",
    "implicit_model.fit(implicit_train, verbose=True)\n",
    "\n",
    "end = time.time()\n",
    "diff = end - current\n",
    "print('Training took %d second' % (diff))"
   ]
  },
  {
   "cell_type": "markdown",
   "metadata": {},
   "source": [
    "### MRR score"
   ]
  },
  {
   "cell_type": "code",
   "execution_count": 434,
   "metadata": {
    "ExecuteTime": {
     "end_time": "2020-07-31T15:33:26.995279Z",
     "start_time": "2020-07-31T15:33:24.615260Z"
    }
   },
   "outputs": [
    {
     "name": "stdout",
     "output_type": "stream",
     "text": [
      "0.27944008805296133\n"
     ]
    }
   ],
   "source": [
    "from spotlight.evaluation import mrr_score\n",
    "print(mrr_score(implicit_model, implicit_test, train=implicit_train, k=100).mean())"
   ]
  },
  {
   "cell_type": "markdown",
   "metadata": {},
   "source": [
    "Distribution of scores for a user"
   ]
  },
  {
   "cell_type": "code",
   "execution_count": 435,
   "metadata": {
    "ExecuteTime": {
     "end_time": "2020-07-31T15:33:35.281010Z",
     "start_time": "2020-07-31T15:33:35.008888Z"
    }
   },
   "outputs": [
    {
     "data": {
      "text/plain": [
       "(array([   9.,   18.,   53.,  137.,  278.,  586., 1117., 1450., 1160.,\n",
       "         818.,  515.,  359.,  311.,  245.,  207.,  209.,  160.,  152.,\n",
       "         129.,  126.,  125.,  105.,   96.,   98.,  106.,   92.,  101.,\n",
       "         122.,  103.,  119.,  103.,  133.,  108.,   95.,   74.,   57.,\n",
       "          19.,   21.,    2.,    6.]),\n",
       " array([-13.652889  , -12.9544525 , -12.256015  , -11.557578  ,\n",
       "        -10.85914   , -10.160704  ,  -9.462266  ,  -8.763829  ,\n",
       "         -8.065392  ,  -7.366955  ,  -6.6685176 ,  -5.9700804 ,\n",
       "         -5.271643  ,  -4.573206  ,  -3.874769  ,  -3.1763318 ,\n",
       "         -2.4778945 ,  -1.7794574 ,  -1.0810202 ,  -0.38258308,\n",
       "          0.31585407,   1.0142913 ,   1.7127284 ,   2.4111655 ,\n",
       "          3.1096027 ,   3.80804   ,   4.506477  ,   5.204914  ,\n",
       "          5.9033513 ,   6.6017885 ,   7.3002257 ,   7.998663  ,\n",
       "          8.6971    ,   9.395537  ,  10.093974  ,  10.792412  ,\n",
       "         11.490849  ,  12.189286  ,  12.887723  ,  13.586161  ,\n",
       "         14.284597  ], dtype=float32),\n",
       " <a list of 40 Patch objects>)"
      ]
     },
     "execution_count": 435,
     "metadata": {},
     "output_type": "execute_result"
    },
    {
     "data": {
      "image/png": "[encoded data removed]",
      "text/plain": [
       "<Figure size 432x288 with 1 Axes>"
      ]
     },
     "metadata": {
      "needs_background": "light"
     },
     "output_type": "display_data"
    }
   ],
   "source": [
    "plt.hist(implicit_model.predict(0), color = 'blue', edgecolor = 'black',\n",
    "         bins = 40)"
   ]
  },
  {
   "cell_type": "markdown",
   "metadata": {},
   "source": [
    "Not a lot items with high score"
   ]
  },
  {
   "cell_type": "markdown",
   "metadata": {},
   "source": [
    "### Top-K predictions for a user"
   ]
  },
  {
   "cell_type": "code",
   "execution_count": 436,
   "metadata": {
    "ExecuteTime": {
     "end_time": "2020-07-31T15:33:43.039402Z",
     "start_time": "2020-07-31T15:33:43.028430Z"
    }
   },
   "outputs": [
    {
     "name": "stdout",
     "output_type": "stream",
     "text": [
      "[1, 3, 47, 50, 110, 151, 163, 231, 235, 296, 316, 349, 356, 367, 457, 480, 500, 527, 590, 592, 593, 608, 661, 733, 736, 780, 1042, 1073, 1090, 1220, 1270, 1278, 1377, 2028, 2174, 2406, 2502, 2529, 21, 32, 342, 357, 368, 588, 595, 1259, 34, 36, 39, 150, 153, 253, 266, 300, 380, 410, 474, 10, 11, 17, 62, 141, 158, 161, 165, 168, 185, 225, 292, 293, 317, 329, 337, 339, 350, 377, 434, 440, 454, 466, 783, 852, 1061, 1917, 586, 44, 529, 858, 111, 541, 1267, 1544, 551, 1373, 1407, 1747, 2302, 2393, 1035, 2231]\n"
     ]
    }
   ],
   "source": [
    "import scipy.stats as st\n",
    "k = 100\n",
    "def topK_implicit(user, model, k=100):\n",
    "  a= list()\n",
    "  ranks = st.rankdata(-model.predict(user))   \n",
    "  for iid in np.argwhere(ranks <= k):\n",
    "    #print(iid_rev_map[iid.item(0)])\n",
    "    a.append(iid_rev_map[iid.item(0)])\n",
    "  return a\n",
    "\n",
    "rec_forUser = topK_implicit(0,implicit_model)\n",
    "print(rec_forUser)"
   ]
  },
  {
   "cell_type": "markdown",
   "metadata": {},
   "source": [
    "The function below (allUsers_topK_implicit) returns a list that contains the top-K recommendations for each user."
   ]
  },
  {
   "cell_type": "code",
   "execution_count": 437,
   "metadata": {
    "ExecuteTime": {
     "end_time": "2020-07-31T15:33:52.207183Z",
     "start_time": "2020-07-31T15:33:52.202194Z"
    }
   },
   "outputs": [],
   "source": [
    "def allUsers_topK_implicit(model):\n",
    "    a = []\n",
    "    for i in range(len(num_users)):\n",
    "       a.append(topK_implicit(i,model))\n",
    "    return a"
   ]
  },
  {
   "cell_type": "code",
   "execution_count": 438,
   "metadata": {
    "ExecuteTime": {
     "end_time": "2020-07-31T15:34:00.512323Z",
     "start_time": "2020-07-31T15:34:00.499330Z"
    },
    "scrolled": true
   },
   "outputs": [
    {
     "data": {
      "text/html": [
       "<div>\n",
       "<style scoped>\n",
       "    .dataframe tbody tr th:only-of-type {\n",
       "        vertical-align: middle;\n",
       "    }\n",
       "\n",
       "    .dataframe tbody tr th {\n",
       "        vertical-align: top;\n",
       "    }\n",
       "\n",
       "    .dataframe thead th {\n",
       "        text-align: right;\n",
       "    }\n",
       "</style>\n",
       "<table border=\"1\" class=\"dataframe\">\n",
       "  <thead>\n",
       "    <tr style=\"text-align: right;\">\n",
       "      <th></th>\n",
       "      <th>movieId</th>\n",
       "      <th>title</th>\n",
       "      <th>genres</th>\n",
       "    </tr>\n",
       "  </thead>\n",
       "  <tbody>\n",
       "    <tr>\n",
       "      <th>0</th>\n",
       "      <td>1</td>\n",
       "      <td>Toy Story (1995)</td>\n",
       "      <td>Adventure|Animation|Children|Comedy|Fantasy</td>\n",
       "    </tr>\n",
       "    <tr>\n",
       "      <th>2</th>\n",
       "      <td>3</td>\n",
       "      <td>Grumpier Old Men (1995)</td>\n",
       "      <td>Comedy|Romance</td>\n",
       "    </tr>\n",
       "    <tr>\n",
       "      <th>9</th>\n",
       "      <td>10</td>\n",
       "      <td>GoldenEye (1995)</td>\n",
       "      <td>Action|Adventure|Thriller</td>\n",
       "    </tr>\n",
       "    <tr>\n",
       "      <th>10</th>\n",
       "      <td>11</td>\n",
       "      <td>American President, The (1995)</td>\n",
       "      <td>Comedy|Drama|Romance</td>\n",
       "    </tr>\n",
       "    <tr>\n",
       "      <th>16</th>\n",
       "      <td>17</td>\n",
       "      <td>Sense and Sensibility (1995)</td>\n",
       "      <td>Drama|Romance</td>\n",
       "    </tr>\n",
       "    <tr>\n",
       "      <th>...</th>\n",
       "      <td>...</td>\n",
       "      <td>...</td>\n",
       "      <td>...</td>\n",
       "    </tr>\n",
       "    <tr>\n",
       "      <th>1713</th>\n",
       "      <td>2302</td>\n",
       "      <td>My Cousin Vinny (1992)</td>\n",
       "      <td>Comedy</td>\n",
       "    </tr>\n",
       "    <tr>\n",
       "      <th>1794</th>\n",
       "      <td>2393</td>\n",
       "      <td>Star Trek: Insurrection (1998)</td>\n",
       "      <td>Action|Drama|Romance|Sci-Fi</td>\n",
       "    </tr>\n",
       "    <tr>\n",
       "      <th>1806</th>\n",
       "      <td>2406</td>\n",
       "      <td>Romancing the Stone (1984)</td>\n",
       "      <td>Action|Adventure|Comedy|Romance</td>\n",
       "    </tr>\n",
       "    <tr>\n",
       "      <th>1883</th>\n",
       "      <td>2502</td>\n",
       "      <td>Office Space (1999)</td>\n",
       "      <td>Comedy|Crime</td>\n",
       "    </tr>\n",
       "    <tr>\n",
       "      <th>1905</th>\n",
       "      <td>2529</td>\n",
       "      <td>Planet of the Apes (1968)</td>\n",
       "      <td>Action|Drama|Sci-Fi</td>\n",
       "    </tr>\n",
       "  </tbody>\n",
       "</table>\n",
       "<p>100 rows × 3 columns</p>\n",
       "</div>"
      ],
      "text/plain": [
       "      movieId                           title  \\\n",
       "0           1                Toy Story (1995)   \n",
       "2           3         Grumpier Old Men (1995)   \n",
       "9          10                GoldenEye (1995)   \n",
       "10         11  American President, The (1995)   \n",
       "16         17    Sense and Sensibility (1995)   \n",
       "...       ...                             ...   \n",
       "1713     2302          My Cousin Vinny (1992)   \n",
       "1794     2393  Star Trek: Insurrection (1998)   \n",
       "1806     2406      Romancing the Stone (1984)   \n",
       "1883     2502             Office Space (1999)   \n",
       "1905     2529       Planet of the Apes (1968)   \n",
       "\n",
       "                                           genres  \n",
       "0     Adventure|Animation|Children|Comedy|Fantasy  \n",
       "2                                  Comedy|Romance  \n",
       "9                       Action|Adventure|Thriller  \n",
       "10                           Comedy|Drama|Romance  \n",
       "16                                  Drama|Romance  \n",
       "...                                           ...  \n",
       "1713                                       Comedy  \n",
       "1794                  Action|Drama|Romance|Sci-Fi  \n",
       "1806              Action|Adventure|Comedy|Romance  \n",
       "1883                                 Comedy|Crime  \n",
       "1905                          Action|Drama|Sci-Fi  \n",
       "\n",
       "[100 rows x 3 columns]"
      ]
     },
     "execution_count": 438,
     "metadata": {},
     "output_type": "execute_result"
    }
   ],
   "source": [
    "movies_df.loc[movies_df['movieId'].isin(rec_forUser)]"
   ]
  },
  {
   "cell_type": "code",
   "execution_count": 439,
   "metadata": {
    "ExecuteTime": {
     "end_time": "2020-07-31T15:34:07.869373Z",
     "start_time": "2020-07-31T15:34:07.862391Z"
    }
   },
   "outputs": [],
   "source": [
    "movies_pred = movies_df['movieId'][movies_df['movieId'].isin(rec_forUser)]"
   ]
  },
  {
   "cell_type": "markdown",
   "metadata": {},
   "source": [
    "### Μovies watched from a user"
   ]
  },
  {
   "cell_type": "code",
   "execution_count": 440,
   "metadata": {
    "ExecuteTime": {
     "end_time": "2020-07-31T15:34:16.495451Z",
     "start_time": "2020-07-31T15:34:16.482527Z"
    }
   },
   "outputs": [],
   "source": [
    "actual = ratings_df[ratings_df[\"userId\"]==uid_rev_map.get(0)].groupby(\"movieId\")[\"movieId\"].count().sort_values(ascending=False).head(100)"
   ]
  },
  {
   "cell_type": "code",
   "execution_count": 441,
   "metadata": {
    "ExecuteTime": {
     "end_time": "2020-07-31T15:34:24.641061Z",
     "start_time": "2020-07-31T15:34:24.637070Z"
    }
   },
   "outputs": [],
   "source": [
    "actual = actual.index.tolist()"
   ]
  },
  {
   "cell_type": "code",
   "execution_count": 442,
   "metadata": {
    "ExecuteTime": {
     "end_time": "2020-07-31T15:34:32.298443Z",
     "start_time": "2020-07-31T15:34:32.282860Z"
    },
    "scrolled": true
   },
   "outputs": [
    {
     "data": {
      "text/html": [
       "<div>\n",
       "<style scoped>\n",
       "    .dataframe tbody tr th:only-of-type {\n",
       "        vertical-align: middle;\n",
       "    }\n",
       "\n",
       "    .dataframe tbody tr th {\n",
       "        vertical-align: top;\n",
       "    }\n",
       "\n",
       "    .dataframe thead th {\n",
       "        text-align: right;\n",
       "    }\n",
       "</style>\n",
       "<table border=\"1\" class=\"dataframe\">\n",
       "  <thead>\n",
       "    <tr style=\"text-align: right;\">\n",
       "      <th></th>\n",
       "      <th>movieId</th>\n",
       "      <th>title</th>\n",
       "      <th>genres</th>\n",
       "    </tr>\n",
       "  </thead>\n",
       "  <tbody>\n",
       "    <tr>\n",
       "      <th>2</th>\n",
       "      <td>3</td>\n",
       "      <td>Grumpier Old Men (1995)</td>\n",
       "      <td>Comedy|Romance</td>\n",
       "    </tr>\n",
       "    <tr>\n",
       "      <th>5</th>\n",
       "      <td>6</td>\n",
       "      <td>Heat (1995)</td>\n",
       "      <td>Action|Crime|Thriller</td>\n",
       "    </tr>\n",
       "    <tr>\n",
       "      <th>43</th>\n",
       "      <td>47</td>\n",
       "      <td>Seven (a.k.a. Se7en) (1995)</td>\n",
       "      <td>Mystery|Thriller</td>\n",
       "    </tr>\n",
       "    <tr>\n",
       "      <th>46</th>\n",
       "      <td>50</td>\n",
       "      <td>Usual Suspects, The (1995)</td>\n",
       "      <td>Crime|Mystery|Thriller</td>\n",
       "    </tr>\n",
       "    <tr>\n",
       "      <th>62</th>\n",
       "      <td>70</td>\n",
       "      <td>From Dusk Till Dawn (1996)</td>\n",
       "      <td>Action|Comedy|Horror|Thriller</td>\n",
       "    </tr>\n",
       "    <tr>\n",
       "      <th>...</th>\n",
       "      <td>...</td>\n",
       "      <td>...</td>\n",
       "      <td>...</td>\n",
       "    </tr>\n",
       "    <tr>\n",
       "      <th>1332</th>\n",
       "      <td>1804</td>\n",
       "      <td>Newton Boys, The (1998)</td>\n",
       "      <td>Crime|Drama</td>\n",
       "    </tr>\n",
       "    <tr>\n",
       "      <th>1333</th>\n",
       "      <td>1805</td>\n",
       "      <td>Wild Things (1998)</td>\n",
       "      <td>Crime|Drama|Mystery|Thriller</td>\n",
       "    </tr>\n",
       "    <tr>\n",
       "      <th>1401</th>\n",
       "      <td>1920</td>\n",
       "      <td>Small Soldiers (1998)</td>\n",
       "      <td>Animation|Children|Fantasy|War</td>\n",
       "    </tr>\n",
       "    <tr>\n",
       "      <th>2991</th>\n",
       "      <td>4006</td>\n",
       "      <td>Transformers: The Movie (1986)</td>\n",
       "      <td>Adventure|Animation|Children|Sci-Fi</td>\n",
       "    </tr>\n",
       "    <tr>\n",
       "      <th>3673</th>\n",
       "      <td>5060</td>\n",
       "      <td>M*A*S*H (a.k.a. MASH) (1970)</td>\n",
       "      <td>Comedy|Drama|War</td>\n",
       "    </tr>\n",
       "  </tbody>\n",
       "</table>\n",
       "<p>100 rows × 3 columns</p>\n",
       "</div>"
      ],
      "text/plain": [
       "      movieId                           title  \\\n",
       "2           3         Grumpier Old Men (1995)   \n",
       "5           6                     Heat (1995)   \n",
       "43         47     Seven (a.k.a. Se7en) (1995)   \n",
       "46         50      Usual Suspects, The (1995)   \n",
       "62         70      From Dusk Till Dawn (1996)   \n",
       "...       ...                             ...   \n",
       "1332     1804         Newton Boys, The (1998)   \n",
       "1333     1805              Wild Things (1998)   \n",
       "1401     1920           Small Soldiers (1998)   \n",
       "2991     4006  Transformers: The Movie (1986)   \n",
       "3673     5060    M*A*S*H (a.k.a. MASH) (1970)   \n",
       "\n",
       "                                   genres  \n",
       "2                          Comedy|Romance  \n",
       "5                   Action|Crime|Thriller  \n",
       "43                       Mystery|Thriller  \n",
       "46                 Crime|Mystery|Thriller  \n",
       "62          Action|Comedy|Horror|Thriller  \n",
       "...                                   ...  \n",
       "1332                          Crime|Drama  \n",
       "1333         Crime|Drama|Mystery|Thriller  \n",
       "1401       Animation|Children|Fantasy|War  \n",
       "2991  Adventure|Animation|Children|Sci-Fi  \n",
       "3673                     Comedy|Drama|War  \n",
       "\n",
       "[100 rows x 3 columns]"
      ]
     },
     "execution_count": 442,
     "metadata": {},
     "output_type": "execute_result"
    }
   ],
   "source": [
    "movies_df.loc[movies_df['movieId'].isin(actual)]"
   ]
  },
  {
   "cell_type": "code",
   "execution_count": 443,
   "metadata": {
    "ExecuteTime": {
     "end_time": "2020-07-31T15:34:39.716238Z",
     "start_time": "2020-07-31T15:34:39.712213Z"
    }
   },
   "outputs": [],
   "source": [
    "movies_watched = movies_df['movieId'][movies_df['movieId'].isin(actual)]"
   ]
  },
  {
   "cell_type": "markdown",
   "metadata": {},
   "source": [
    "### NDCG Score"
   ]
  },
  {
   "cell_type": "code",
   "execution_count": 444,
   "metadata": {
    "ExecuteTime": {
     "end_time": "2020-07-31T15:34:50.628002Z",
     "start_time": "2020-07-31T15:34:47.280027Z"
    }
   },
   "outputs": [],
   "source": [
    "allUsers_topK_imp = allUsers_topK_implicit(implicit_model)"
   ]
  },
  {
   "cell_type": "code",
   "execution_count": 445,
   "metadata": {
    "ExecuteTime": {
     "end_time": "2020-07-31T15:34:58.210739Z",
     "start_time": "2020-07-31T15:34:58.204754Z"
    }
   },
   "outputs": [
    {
     "data": {
      "text/plain": [
       "True"
      ]
     },
     "execution_count": 445,
     "metadata": {},
     "output_type": "execute_result"
    }
   ],
   "source": [
    "rec_forUser == allUsers_topK_imp[0]"
   ]
  },
  {
   "cell_type": "code",
   "execution_count": 446,
   "metadata": {
    "ExecuteTime": {
     "end_time": "2020-07-31T15:35:05.607416Z",
     "start_time": "2020-07-31T15:35:05.563352Z"
    }
   },
   "outputs": [],
   "source": [
    "relevance_implicit = []\n",
    "for i in range(len(rec_forUser)):\n",
    "    if rec_forUser[i] in test_df['movie_id'][test_df['user_id'] == 1].values.tolist():\n",
    "        relevance_implicit.append(1)\n",
    "    else:\n",
    "        relevance_implicit.append(0)\n",
    "    "
   ]
  },
  {
   "cell_type": "markdown",
   "metadata": {},
   "source": [
    "Compute the relevance for each user. The relevance containes 0s and 1s based on which movies each has watched. For every recommended movie that the user has actually watched, the value of 1 is assigned. There is a relevance list for each user."
   ]
  },
  {
   "cell_type": "code",
   "execution_count": 447,
   "metadata": {
    "ExecuteTime": {
     "end_time": "2020-07-31T15:35:13.208959Z",
     "start_time": "2020-07-31T15:35:13.200982Z"
    }
   },
   "outputs": [],
   "source": [
    "def relevance_spotlight_implicit(allUsers_topK):\n",
    "    relevance_implicit_full = []\n",
    "    helper = []\n",
    "    count = 0\n",
    "    for i in range(1,len(num_users)+1):\n",
    "        for j in range(len(allUsers_topK[count])):\n",
    "            if allUsers_topK[count][j] in test_df['movie_id'][test_df['user_id'] == i].values.tolist():\n",
    "                helper.append(1)\n",
    "            else:\n",
    "                helper.append(0)\n",
    "        relevance_implicit_full.append(helper)\n",
    "        helper = []\n",
    "        count += 1\n",
    "    return relevance_implicit_full"
   ]
  },
  {
   "cell_type": "code",
   "execution_count": 448,
   "metadata": {
    "ExecuteTime": {
     "end_time": "2020-07-31T15:35:47.315037Z",
     "start_time": "2020-07-31T15:35:20.786145Z"
    }
   },
   "outputs": [],
   "source": [
    "relevance_implicit_full = relevance_spotlight_implicit(allUsers_topK_imp)"
   ]
  },
  {
   "cell_type": "code",
   "execution_count": 449,
   "metadata": {
    "ExecuteTime": {
     "end_time": "2020-07-31T15:35:54.994163Z",
     "start_time": "2020-07-31T15:35:54.988139Z"
    }
   },
   "outputs": [
    {
     "data": {
      "text/plain": [
       "True"
      ]
     },
     "execution_count": 449,
     "metadata": {},
     "output_type": "execute_result"
    }
   ],
   "source": [
    "relevance_implicit == relevance_implicit_full[0]"
   ]
  },
  {
   "cell_type": "markdown",
   "metadata": {},
   "source": [
    "The dcg and ideal_dcg functions are taken form https://github.com/lezzago/LambdaMart/blob/master/lambdamart.py. They are necessary to compute the desired NDCG evaluation metric."
   ]
  },
  {
   "cell_type": "code",
   "execution_count": 450,
   "metadata": {
    "ExecuteTime": {
     "end_time": "2020-07-31T15:36:02.380510Z",
     "start_time": "2020-07-31T15:36:02.375493Z"
    }
   },
   "outputs": [],
   "source": [
    "def dcg(scores):\n",
    "    \"\"\"\n",
    "    Returns the DCG value of the list of scores.\n",
    "    Parameters\n",
    "    ----------\n",
    "    scores : list\n",
    "        Contains labels in a certain ranked order\n",
    "\n",
    "    Returns\n",
    "    -------\n",
    "    DCG_val: int\n",
    "        This is the value of the DCG on the given scores\n",
    "    \"\"\"\n",
    "    return np.sum([\n",
    "                    (np.power(2, scores[i]) - 1) / np.log2(i + 2)\n",
    "                    for i in range(len(scores))\n",
    "                ])"
   ]
  },
  {
   "cell_type": "code",
   "execution_count": 451,
   "metadata": {
    "ExecuteTime": {
     "end_time": "2020-07-31T15:36:09.450093Z",
     "start_time": "2020-07-31T15:36:09.445126Z"
    }
   },
   "outputs": [],
   "source": [
    "def ideal_dcg(scores):\n",
    "    \"\"\"\n",
    "    Returns the Ideal DCG value of the list of scores.\n",
    "    Parameters\n",
    "    ----------\n",
    "    scores : list\n",
    "        Contains labels in a certain ranked order\n",
    "\n",
    "    Returns\n",
    "    -------\n",
    "    Ideal_DCG_val: int\n",
    "        This is the value of the Ideal DCG on the given scores\n",
    "    \"\"\"\n",
    "    scores = [score for score in sorted(scores)[::-1]]\n",
    "    return dcg(scores)"
   ]
  },
  {
   "cell_type": "code",
   "execution_count": 452,
   "metadata": {
    "ExecuteTime": {
     "end_time": "2020-07-31T15:36:16.421979Z",
     "start_time": "2020-07-31T15:36:16.417608Z"
    }
   },
   "outputs": [],
   "source": [
    "def NDCG_forUser(relevance):\n",
    "    return dcg(relevance) / ideal_dcg(relevance)"
   ]
  },
  {
   "cell_type": "code",
   "execution_count": 453,
   "metadata": {
    "ExecuteTime": {
     "end_time": "2020-07-31T15:36:23.987432Z",
     "start_time": "2020-07-31T15:36:23.976484Z"
    }
   },
   "outputs": [
    {
     "name": "stdout",
     "output_type": "stream",
     "text": [
      "0.7854830396072905\n",
      "0.7854830396072905\n"
     ]
    }
   ],
   "source": [
    "ndcg = NDCG_forUser(relevance_implicit_full[0])\n",
    "print(ndcg)\n",
    "ndcg = NDCG_forUser(relevance_implicit)\n",
    "print(ndcg)"
   ]
  },
  {
   "cell_type": "markdown",
   "metadata": {},
   "source": [
    "Creation of a list (allUsers_implicit_ndcg) that contains the NDCG score for each user."
   ]
  },
  {
   "cell_type": "code",
   "execution_count": 454,
   "metadata": {
    "ExecuteTime": {
     "end_time": "2020-07-31T15:36:32.081313Z",
     "start_time": "2020-07-31T15:36:32.076328Z"
    }
   },
   "outputs": [],
   "source": [
    "def allUsers_ndcg(relevance):\n",
    "    allUsers_implicit_ndcg = []\n",
    "    for i in range(len(num_users)):\n",
    "        allUsers_implicit_ndcg.append(NDCG_forUser(relevance[i]))\n",
    "    return allUsers_implicit_ndcg"
   ]
  },
  {
   "cell_type": "code",
   "execution_count": 455,
   "metadata": {
    "ExecuteTime": {
     "end_time": "2020-07-31T15:36:41.569145Z",
     "start_time": "2020-07-31T15:36:40.765431Z"
    }
   },
   "outputs": [
    {
     "name": "stderr",
     "output_type": "stream",
     "text": [
      "C:\\Users\\papad\\Anaconda3\\lib\\site-packages\\ipykernel_launcher.py:2: RuntimeWarning: invalid value encountered in double_scalars\n",
      "  \n"
     ]
    }
   ],
   "source": [
    "allUsers_implicit_ndcg = allUsers_ndcg(relevance_implicit_full)"
   ]
  },
  {
   "cell_type": "markdown",
   "metadata": {},
   "source": [
    "Fill the nan values with 0s."
   ]
  },
  {
   "cell_type": "code",
   "execution_count": 456,
   "metadata": {
    "ExecuteTime": {
     "end_time": "2020-07-31T15:36:48.996098Z",
     "start_time": "2020-07-31T15:36:48.990115Z"
    }
   },
   "outputs": [],
   "source": [
    "allUsers_implicit_ndcg = pd.Series(allUsers_implicit_ndcg).fillna(0).tolist()"
   ]
  },
  {
   "cell_type": "markdown",
   "metadata": {},
   "source": [
    "## Implicit Sequence model"
   ]
  },
  {
   "cell_type": "code",
   "execution_count": 130,
   "metadata": {},
   "outputs": [],
   "source": [
    "from spotlight.sequence.implicit import ImplicitSequenceModel\n",
    "from spotlight.evaluation import sequence_mrr_score\n",
    "from spotlight.sequence.implicit import ImplicitSequenceModel"
   ]
  },
  {
   "cell_type": "markdown",
   "metadata": {},
   "source": [
    "### Train Implicit Sequence model"
   ]
  },
  {
   "cell_type": "code",
   "execution_count": 131,
   "metadata": {},
   "outputs": [
    {
     "name": "stdout",
     "output_type": "stream",
     "text": [
      "Epoch 0: loss 0.9720694422721863\n",
      "Epoch 1: loss 0.806988947921329\n",
      "Epoch 2: loss 0.6279392507341173\n",
      "Epoch 3: loss 0.5523440506723192\n",
      "Epoch 4: loss 0.5213888044710513\n",
      "Training took 15 second\n"
     ]
    }
   ],
   "source": [
    "sequence_model  = ImplicitSequenceModel(n_iter = 5)\n",
    "\n",
    "current = time.time()\n",
    "sequence_model.fit(interactions = implicit_train.to_sequence(),verbose = True)\n",
    "\n",
    "end = time.time()\n",
    "diff = end - current\n",
    "print('Training took %d second'%(diff))"
   ]
  },
  {
   "cell_type": "code",
   "execution_count": 149,
   "metadata": {},
   "outputs": [
    {
     "data": {
      "text/plain": [
       "array([ 0.       , -2.8615987, -2.1131043, ...,  1.4108187,  1.3289368,\n",
       "        1.2730619], dtype=float32)"
      ]
     },
     "execution_count": 149,
     "metadata": {},
     "output_type": "execute_result"
    }
   ],
   "source": [
    "sequence_model.predict(sequences = 9724)"
   ]
  },
  {
   "cell_type": "markdown",
   "metadata": {},
   "source": [
    "### MRR Score"
   ]
  },
  {
   "cell_type": "code",
   "execution_count": 62,
   "metadata": {},
   "outputs": [
    {
     "name": "stdout",
     "output_type": "stream",
     "text": [
      "0.011483658124550794\n"
     ]
    }
   ],
   "source": [
    "print(sequence_mrr_score(sequence_model, implicit_test.to_sequence()).mean())"
   ]
  },
  {
   "cell_type": "markdown",
   "metadata": {},
   "source": [
    "### Top-K predictions for a user"
   ]
  },
  {
   "cell_type": "code",
   "execution_count": 63,
   "metadata": {},
   "outputs": [],
   "source": [
    "allUsers_topK_sequence = allUsers_topK_implicit(sequence_model)"
   ]
  },
  {
   "cell_type": "markdown",
   "metadata": {},
   "source": [
    "### NDCG Score"
   ]
  },
  {
   "cell_type": "code",
   "execution_count": 64,
   "metadata": {},
   "outputs": [],
   "source": [
    "relevance_sequence_full = relevance_spotlight_implicit(allUsers_topK_sequence)"
   ]
  },
  {
   "cell_type": "code",
   "execution_count": 65,
   "metadata": {},
   "outputs": [
    {
     "name": "stderr",
     "output_type": "stream",
     "text": [
      "C:\\Users\\papad\\Anaconda3\\lib\\site-packages\\ipykernel_launcher.py:2: RuntimeWarning: invalid value encountered in double_scalars\n",
      "  \n"
     ]
    }
   ],
   "source": [
    "allUsers_sequence_ndcg = allUsers_ndcg(relevance_sequence_full)"
   ]
  },
  {
   "cell_type": "code",
   "execution_count": 66,
   "metadata": {},
   "outputs": [],
   "source": [
    "allUsers_sequence_ndcg = pd.Series(allUsers_sequence_ndcg).fillna(0).tolist()"
   ]
  },
  {
   "cell_type": "markdown",
   "metadata": {},
   "source": [
    "# SVD"
   ]
  },
  {
   "cell_type": "markdown",
   "metadata": {},
   "source": [
    "Pivot is used to have a matrix that has as rows the userIDs and as columns the movieIDs. The unrated, by a user, movies are assigned the value 0 instead of null. Pivot organizes a DataFrame by giving index and column values. It is helpful in the recommender systems approach."
   ]
  },
  {
   "cell_type": "code",
   "execution_count": 232,
   "metadata": {},
   "outputs": [],
   "source": [
    "df_movie_features = train_df.pivot(\n",
    "    index='user_id',\n",
    "    columns='movie_id',\n",
    "    values='rating'\n",
    ").fillna(0)"
   ]
  },
  {
   "cell_type": "code",
   "execution_count": 233,
   "metadata": {},
   "outputs": [
    {
     "data": {
      "text/html": [
       "<div>\n",
       "<style scoped>\n",
       "    .dataframe tbody tr th:only-of-type {\n",
       "        vertical-align: middle;\n",
       "    }\n",
       "\n",
       "    .dataframe tbody tr th {\n",
       "        vertical-align: top;\n",
       "    }\n",
       "\n",
       "    .dataframe thead th {\n",
       "        text-align: right;\n",
       "    }\n",
       "</style>\n",
       "<table border=\"1\" class=\"dataframe\">\n",
       "  <thead>\n",
       "    <tr style=\"text-align: right;\">\n",
       "      <th>movie_id</th>\n",
       "      <th>1</th>\n",
       "      <th>2</th>\n",
       "      <th>3</th>\n",
       "      <th>4</th>\n",
       "      <th>5</th>\n",
       "      <th>6</th>\n",
       "      <th>7</th>\n",
       "      <th>8</th>\n",
       "      <th>9</th>\n",
       "      <th>10</th>\n",
       "      <th>...</th>\n",
       "      <th>191005</th>\n",
       "      <th>193565</th>\n",
       "      <th>193567</th>\n",
       "      <th>193573</th>\n",
       "      <th>193579</th>\n",
       "      <th>193581</th>\n",
       "      <th>193583</th>\n",
       "      <th>193585</th>\n",
       "      <th>193587</th>\n",
       "      <th>193609</th>\n",
       "    </tr>\n",
       "    <tr>\n",
       "      <th>user_id</th>\n",
       "      <th></th>\n",
       "      <th></th>\n",
       "      <th></th>\n",
       "      <th></th>\n",
       "      <th></th>\n",
       "      <th></th>\n",
       "      <th></th>\n",
       "      <th></th>\n",
       "      <th></th>\n",
       "      <th></th>\n",
       "      <th></th>\n",
       "      <th></th>\n",
       "      <th></th>\n",
       "      <th></th>\n",
       "      <th></th>\n",
       "      <th></th>\n",
       "      <th></th>\n",
       "      <th></th>\n",
       "      <th></th>\n",
       "      <th></th>\n",
       "      <th></th>\n",
       "    </tr>\n",
       "  </thead>\n",
       "  <tbody>\n",
       "    <tr>\n",
       "      <th>1</th>\n",
       "      <td>4.0</td>\n",
       "      <td>0.0</td>\n",
       "      <td>4.0</td>\n",
       "      <td>0.0</td>\n",
       "      <td>0.0</td>\n",
       "      <td>4.0</td>\n",
       "      <td>0.0</td>\n",
       "      <td>0.0</td>\n",
       "      <td>0.0</td>\n",
       "      <td>0.0</td>\n",
       "      <td>...</td>\n",
       "      <td>0.0</td>\n",
       "      <td>0.0</td>\n",
       "      <td>0.0</td>\n",
       "      <td>0.0</td>\n",
       "      <td>0.0</td>\n",
       "      <td>0.0</td>\n",
       "      <td>0.0</td>\n",
       "      <td>0.0</td>\n",
       "      <td>0.0</td>\n",
       "      <td>0.0</td>\n",
       "    </tr>\n",
       "    <tr>\n",
       "      <th>2</th>\n",
       "      <td>0.0</td>\n",
       "      <td>0.0</td>\n",
       "      <td>0.0</td>\n",
       "      <td>0.0</td>\n",
       "      <td>0.0</td>\n",
       "      <td>0.0</td>\n",
       "      <td>0.0</td>\n",
       "      <td>0.0</td>\n",
       "      <td>0.0</td>\n",
       "      <td>0.0</td>\n",
       "      <td>...</td>\n",
       "      <td>0.0</td>\n",
       "      <td>0.0</td>\n",
       "      <td>0.0</td>\n",
       "      <td>0.0</td>\n",
       "      <td>0.0</td>\n",
       "      <td>0.0</td>\n",
       "      <td>0.0</td>\n",
       "      <td>0.0</td>\n",
       "      <td>0.0</td>\n",
       "      <td>0.0</td>\n",
       "    </tr>\n",
       "    <tr>\n",
       "      <th>3</th>\n",
       "      <td>0.0</td>\n",
       "      <td>0.0</td>\n",
       "      <td>0.0</td>\n",
       "      <td>0.0</td>\n",
       "      <td>0.0</td>\n",
       "      <td>0.0</td>\n",
       "      <td>0.0</td>\n",
       "      <td>0.0</td>\n",
       "      <td>0.0</td>\n",
       "      <td>0.0</td>\n",
       "      <td>...</td>\n",
       "      <td>0.0</td>\n",
       "      <td>0.0</td>\n",
       "      <td>0.0</td>\n",
       "      <td>0.0</td>\n",
       "      <td>0.0</td>\n",
       "      <td>0.0</td>\n",
       "      <td>0.0</td>\n",
       "      <td>0.0</td>\n",
       "      <td>0.0</td>\n",
       "      <td>0.0</td>\n",
       "    </tr>\n",
       "    <tr>\n",
       "      <th>4</th>\n",
       "      <td>0.0</td>\n",
       "      <td>0.0</td>\n",
       "      <td>0.0</td>\n",
       "      <td>0.0</td>\n",
       "      <td>0.0</td>\n",
       "      <td>0.0</td>\n",
       "      <td>0.0</td>\n",
       "      <td>0.0</td>\n",
       "      <td>0.0</td>\n",
       "      <td>0.0</td>\n",
       "      <td>...</td>\n",
       "      <td>0.0</td>\n",
       "      <td>0.0</td>\n",
       "      <td>0.0</td>\n",
       "      <td>0.0</td>\n",
       "      <td>0.0</td>\n",
       "      <td>0.0</td>\n",
       "      <td>0.0</td>\n",
       "      <td>0.0</td>\n",
       "      <td>0.0</td>\n",
       "      <td>0.0</td>\n",
       "    </tr>\n",
       "    <tr>\n",
       "      <th>5</th>\n",
       "      <td>0.0</td>\n",
       "      <td>0.0</td>\n",
       "      <td>0.0</td>\n",
       "      <td>0.0</td>\n",
       "      <td>0.0</td>\n",
       "      <td>0.0</td>\n",
       "      <td>0.0</td>\n",
       "      <td>0.0</td>\n",
       "      <td>0.0</td>\n",
       "      <td>0.0</td>\n",
       "      <td>...</td>\n",
       "      <td>0.0</td>\n",
       "      <td>0.0</td>\n",
       "      <td>0.0</td>\n",
       "      <td>0.0</td>\n",
       "      <td>0.0</td>\n",
       "      <td>0.0</td>\n",
       "      <td>0.0</td>\n",
       "      <td>0.0</td>\n",
       "      <td>0.0</td>\n",
       "      <td>0.0</td>\n",
       "    </tr>\n",
       "    <tr>\n",
       "      <th>...</th>\n",
       "      <td>...</td>\n",
       "      <td>...</td>\n",
       "      <td>...</td>\n",
       "      <td>...</td>\n",
       "      <td>...</td>\n",
       "      <td>...</td>\n",
       "      <td>...</td>\n",
       "      <td>...</td>\n",
       "      <td>...</td>\n",
       "      <td>...</td>\n",
       "      <td>...</td>\n",
       "      <td>...</td>\n",
       "      <td>...</td>\n",
       "      <td>...</td>\n",
       "      <td>...</td>\n",
       "      <td>...</td>\n",
       "      <td>...</td>\n",
       "      <td>...</td>\n",
       "      <td>...</td>\n",
       "      <td>...</td>\n",
       "      <td>...</td>\n",
       "    </tr>\n",
       "    <tr>\n",
       "      <th>606</th>\n",
       "      <td>0.0</td>\n",
       "      <td>0.0</td>\n",
       "      <td>0.0</td>\n",
       "      <td>0.0</td>\n",
       "      <td>0.0</td>\n",
       "      <td>0.0</td>\n",
       "      <td>2.5</td>\n",
       "      <td>0.0</td>\n",
       "      <td>0.0</td>\n",
       "      <td>0.0</td>\n",
       "      <td>...</td>\n",
       "      <td>0.0</td>\n",
       "      <td>0.0</td>\n",
       "      <td>0.0</td>\n",
       "      <td>0.0</td>\n",
       "      <td>0.0</td>\n",
       "      <td>0.0</td>\n",
       "      <td>0.0</td>\n",
       "      <td>0.0</td>\n",
       "      <td>0.0</td>\n",
       "      <td>0.0</td>\n",
       "    </tr>\n",
       "    <tr>\n",
       "      <th>607</th>\n",
       "      <td>4.0</td>\n",
       "      <td>0.0</td>\n",
       "      <td>0.0</td>\n",
       "      <td>0.0</td>\n",
       "      <td>0.0</td>\n",
       "      <td>0.0</td>\n",
       "      <td>0.0</td>\n",
       "      <td>0.0</td>\n",
       "      <td>0.0</td>\n",
       "      <td>0.0</td>\n",
       "      <td>...</td>\n",
       "      <td>0.0</td>\n",
       "      <td>0.0</td>\n",
       "      <td>0.0</td>\n",
       "      <td>0.0</td>\n",
       "      <td>0.0</td>\n",
       "      <td>0.0</td>\n",
       "      <td>0.0</td>\n",
       "      <td>0.0</td>\n",
       "      <td>0.0</td>\n",
       "      <td>0.0</td>\n",
       "    </tr>\n",
       "    <tr>\n",
       "      <th>608</th>\n",
       "      <td>0.0</td>\n",
       "      <td>2.0</td>\n",
       "      <td>0.0</td>\n",
       "      <td>0.0</td>\n",
       "      <td>0.0</td>\n",
       "      <td>0.0</td>\n",
       "      <td>0.0</td>\n",
       "      <td>0.0</td>\n",
       "      <td>0.0</td>\n",
       "      <td>0.0</td>\n",
       "      <td>...</td>\n",
       "      <td>0.0</td>\n",
       "      <td>0.0</td>\n",
       "      <td>0.0</td>\n",
       "      <td>0.0</td>\n",
       "      <td>0.0</td>\n",
       "      <td>0.0</td>\n",
       "      <td>0.0</td>\n",
       "      <td>0.0</td>\n",
       "      <td>0.0</td>\n",
       "      <td>0.0</td>\n",
       "    </tr>\n",
       "    <tr>\n",
       "      <th>609</th>\n",
       "      <td>0.0</td>\n",
       "      <td>0.0</td>\n",
       "      <td>0.0</td>\n",
       "      <td>0.0</td>\n",
       "      <td>0.0</td>\n",
       "      <td>0.0</td>\n",
       "      <td>0.0</td>\n",
       "      <td>0.0</td>\n",
       "      <td>0.0</td>\n",
       "      <td>4.0</td>\n",
       "      <td>...</td>\n",
       "      <td>0.0</td>\n",
       "      <td>0.0</td>\n",
       "      <td>0.0</td>\n",
       "      <td>0.0</td>\n",
       "      <td>0.0</td>\n",
       "      <td>0.0</td>\n",
       "      <td>0.0</td>\n",
       "      <td>0.0</td>\n",
       "      <td>0.0</td>\n",
       "      <td>0.0</td>\n",
       "    </tr>\n",
       "    <tr>\n",
       "      <th>610</th>\n",
       "      <td>5.0</td>\n",
       "      <td>0.0</td>\n",
       "      <td>0.0</td>\n",
       "      <td>0.0</td>\n",
       "      <td>0.0</td>\n",
       "      <td>5.0</td>\n",
       "      <td>0.0</td>\n",
       "      <td>0.0</td>\n",
       "      <td>0.0</td>\n",
       "      <td>0.0</td>\n",
       "      <td>...</td>\n",
       "      <td>0.0</td>\n",
       "      <td>0.0</td>\n",
       "      <td>0.0</td>\n",
       "      <td>0.0</td>\n",
       "      <td>0.0</td>\n",
       "      <td>0.0</td>\n",
       "      <td>0.0</td>\n",
       "      <td>0.0</td>\n",
       "      <td>0.0</td>\n",
       "      <td>0.0</td>\n",
       "    </tr>\n",
       "  </tbody>\n",
       "</table>\n",
       "<p>610 rows × 8263 columns</p>\n",
       "</div>"
      ],
      "text/plain": [
       "movie_id  1       2       3       4       5       6       7       8       \\\n",
       "user_id                                                                    \n",
       "1            4.0     0.0     4.0     0.0     0.0     4.0     0.0     0.0   \n",
       "2            0.0     0.0     0.0     0.0     0.0     0.0     0.0     0.0   \n",
       "3            0.0     0.0     0.0     0.0     0.0     0.0     0.0     0.0   \n",
       "4            0.0     0.0     0.0     0.0     0.0     0.0     0.0     0.0   \n",
       "5            0.0     0.0     0.0     0.0     0.0     0.0     0.0     0.0   \n",
       "...          ...     ...     ...     ...     ...     ...     ...     ...   \n",
       "606          0.0     0.0     0.0     0.0     0.0     0.0     2.5     0.0   \n",
       "607          4.0     0.0     0.0     0.0     0.0     0.0     0.0     0.0   \n",
       "608          0.0     2.0     0.0     0.0     0.0     0.0     0.0     0.0   \n",
       "609          0.0     0.0     0.0     0.0     0.0     0.0     0.0     0.0   \n",
       "610          5.0     0.0     0.0     0.0     0.0     5.0     0.0     0.0   \n",
       "\n",
       "movie_id  9       10      ...  191005  193565  193567  193573  193579  193581  \\\n",
       "user_id                   ...                                                   \n",
       "1            0.0     0.0  ...     0.0     0.0     0.0     0.0     0.0     0.0   \n",
       "2            0.0     0.0  ...     0.0     0.0     0.0     0.0     0.0     0.0   \n",
       "3            0.0     0.0  ...     0.0     0.0     0.0     0.0     0.0     0.0   \n",
       "4            0.0     0.0  ...     0.0     0.0     0.0     0.0     0.0     0.0   \n",
       "5            0.0     0.0  ...     0.0     0.0     0.0     0.0     0.0     0.0   \n",
       "...          ...     ...  ...     ...     ...     ...     ...     ...     ...   \n",
       "606          0.0     0.0  ...     0.0     0.0     0.0     0.0     0.0     0.0   \n",
       "607          0.0     0.0  ...     0.0     0.0     0.0     0.0     0.0     0.0   \n",
       "608          0.0     0.0  ...     0.0     0.0     0.0     0.0     0.0     0.0   \n",
       "609          0.0     4.0  ...     0.0     0.0     0.0     0.0     0.0     0.0   \n",
       "610          0.0     0.0  ...     0.0     0.0     0.0     0.0     0.0     0.0   \n",
       "\n",
       "movie_id  193583  193585  193587  193609  \n",
       "user_id                                   \n",
       "1            0.0     0.0     0.0     0.0  \n",
       "2            0.0     0.0     0.0     0.0  \n",
       "3            0.0     0.0     0.0     0.0  \n",
       "4            0.0     0.0     0.0     0.0  \n",
       "5            0.0     0.0     0.0     0.0  \n",
       "...          ...     ...     ...     ...  \n",
       "606          0.0     0.0     0.0     0.0  \n",
       "607          0.0     0.0     0.0     0.0  \n",
       "608          0.0     0.0     0.0     0.0  \n",
       "609          0.0     0.0     0.0     0.0  \n",
       "610          0.0     0.0     0.0     0.0  \n",
       "\n",
       "[610 rows x 8263 columns]"
      ]
     },
     "execution_count": 233,
     "metadata": {},
     "output_type": "execute_result"
    }
   ],
   "source": [
    "df_movie_features"
   ]
  },
  {
   "cell_type": "markdown",
   "metadata": {},
   "source": [
    "## SVD implementation"
   ]
  },
  {
   "cell_type": "code",
   "execution_count": 457,
   "metadata": {
    "ExecuteTime": {
     "end_time": "2020-07-31T15:36:57.243005Z",
     "start_time": "2020-07-31T15:36:56.771267Z"
    }
   },
   "outputs": [],
   "source": [
    "from scipy.sparse.linalg import svds\n",
    "U, sigma, Vt = svds(df_movie_features, k = 10)"
   ]
  },
  {
   "cell_type": "markdown",
   "metadata": {},
   "source": [
    "## Predictions"
   ]
  },
  {
   "cell_type": "markdown",
   "metadata": {},
   "source": [
    "To get the prediction of a rating of an item dj, we can calculate the dot product of the two vectors.\n",
    "The sigma variable has just the values, so I have to convert to a diagonal matrix in orded to implement the matrix multiplication."
   ]
  },
  {
   "cell_type": "code",
   "execution_count": 458,
   "metadata": {
    "ExecuteTime": {
     "end_time": "2020-07-31T15:37:05.682199Z",
     "start_time": "2020-07-31T15:37:05.633297Z"
    }
   },
   "outputs": [],
   "source": [
    "sigma = np.diag(sigma)\n",
    "svd_predictions_score = np.dot(np.dot(U, sigma), Vt)\n",
    "svd_predictions_score_df = pd.DataFrame(svd_predictions_score, columns = df_movie_features.columns)\n"
   ]
  },
  {
   "cell_type": "code",
   "execution_count": 459,
   "metadata": {
    "ExecuteTime": {
     "end_time": "2020-07-31T15:37:18.059104Z",
     "start_time": "2020-07-31T15:37:18.052112Z"
    }
   },
   "outputs": [
    {
     "data": {
      "text/plain": [
       "array([ 0.17774493,  0.03033109, -0.02661263, ...,  0.00354501,\n",
       "        0.00354501,  0.00824328])"
      ]
     },
     "execution_count": 459,
     "metadata": {},
     "output_type": "execute_result"
    }
   ],
   "source": [
    "svd_predictions_score[1]"
   ]
  },
  {
   "cell_type": "code",
   "execution_count": 460,
   "metadata": {
    "ExecuteTime": {
     "end_time": "2020-07-31T15:37:26.852723Z",
     "start_time": "2020-07-31T15:37:26.813990Z"
    }
   },
   "outputs": [
    {
     "data": {
      "text/html": [
       "<div>\n",
       "<style scoped>\n",
       "    .dataframe tbody tr th:only-of-type {\n",
       "        vertical-align: middle;\n",
       "    }\n",
       "\n",
       "    .dataframe tbody tr th {\n",
       "        vertical-align: top;\n",
       "    }\n",
       "\n",
       "    .dataframe thead th {\n",
       "        text-align: right;\n",
       "    }\n",
       "</style>\n",
       "<table border=\"1\" class=\"dataframe\">\n",
       "  <thead>\n",
       "    <tr style=\"text-align: right;\">\n",
       "      <th>movie_id</th>\n",
       "      <th>1</th>\n",
       "      <th>2</th>\n",
       "      <th>3</th>\n",
       "      <th>4</th>\n",
       "      <th>5</th>\n",
       "      <th>6</th>\n",
       "      <th>7</th>\n",
       "      <th>8</th>\n",
       "      <th>9</th>\n",
       "      <th>10</th>\n",
       "      <th>...</th>\n",
       "      <th>191005</th>\n",
       "      <th>193565</th>\n",
       "      <th>193567</th>\n",
       "      <th>193573</th>\n",
       "      <th>193579</th>\n",
       "      <th>193581</th>\n",
       "      <th>193583</th>\n",
       "      <th>193585</th>\n",
       "      <th>193587</th>\n",
       "      <th>193609</th>\n",
       "    </tr>\n",
       "  </thead>\n",
       "  <tbody>\n",
       "    <tr>\n",
       "      <th>0</th>\n",
       "      <td>1.876686</td>\n",
       "      <td>0.735998</td>\n",
       "      <td>0.553359</td>\n",
       "      <td>0.001639</td>\n",
       "      <td>0.054794</td>\n",
       "      <td>0.989602</td>\n",
       "      <td>0.087317</td>\n",
       "      <td>0.088235</td>\n",
       "      <td>0.036162</td>\n",
       "      <td>1.221381</td>\n",
       "      <td>...</td>\n",
       "      <td>-0.014396</td>\n",
       "      <td>-0.011197</td>\n",
       "      <td>-0.009597</td>\n",
       "      <td>-0.012796</td>\n",
       "      <td>-0.011197</td>\n",
       "      <td>-0.012796</td>\n",
       "      <td>-0.011197</td>\n",
       "      <td>-0.011197</td>\n",
       "      <td>-0.011197</td>\n",
       "      <td>-0.012180</td>\n",
       "    </tr>\n",
       "    <tr>\n",
       "      <th>1</th>\n",
       "      <td>0.177745</td>\n",
       "      <td>0.030331</td>\n",
       "      <td>-0.026613</td>\n",
       "      <td>0.003090</td>\n",
       "      <td>0.030468</td>\n",
       "      <td>-0.000217</td>\n",
       "      <td>0.003978</td>\n",
       "      <td>-0.006995</td>\n",
       "      <td>-0.000648</td>\n",
       "      <td>0.047639</td>\n",
       "      <td>...</td>\n",
       "      <td>0.004558</td>\n",
       "      <td>0.003545</td>\n",
       "      <td>0.003039</td>\n",
       "      <td>0.004051</td>\n",
       "      <td>0.003545</td>\n",
       "      <td>0.004051</td>\n",
       "      <td>0.003545</td>\n",
       "      <td>0.003545</td>\n",
       "      <td>0.003545</td>\n",
       "      <td>0.008243</td>\n",
       "    </tr>\n",
       "    <tr>\n",
       "      <th>2</th>\n",
       "      <td>0.033208</td>\n",
       "      <td>0.011349</td>\n",
       "      <td>-0.003395</td>\n",
       "      <td>0.000351</td>\n",
       "      <td>0.005971</td>\n",
       "      <td>0.025908</td>\n",
       "      <td>-0.002021</td>\n",
       "      <td>-0.003080</td>\n",
       "      <td>0.002570</td>\n",
       "      <td>0.022736</td>\n",
       "      <td>...</td>\n",
       "      <td>0.000343</td>\n",
       "      <td>0.000267</td>\n",
       "      <td>0.000229</td>\n",
       "      <td>0.000305</td>\n",
       "      <td>0.000267</td>\n",
       "      <td>0.000305</td>\n",
       "      <td>0.000267</td>\n",
       "      <td>0.000267</td>\n",
       "      <td>0.000267</td>\n",
       "      <td>-0.000540</td>\n",
       "    </tr>\n",
       "    <tr>\n",
       "      <th>3</th>\n",
       "      <td>1.202366</td>\n",
       "      <td>0.072710</td>\n",
       "      <td>0.161955</td>\n",
       "      <td>0.023853</td>\n",
       "      <td>-0.011193</td>\n",
       "      <td>0.215577</td>\n",
       "      <td>0.214534</td>\n",
       "      <td>-0.032359</td>\n",
       "      <td>-0.025908</td>\n",
       "      <td>-0.275881</td>\n",
       "      <td>...</td>\n",
       "      <td>-0.000643</td>\n",
       "      <td>-0.000500</td>\n",
       "      <td>-0.000429</td>\n",
       "      <td>-0.000571</td>\n",
       "      <td>-0.000500</td>\n",
       "      <td>-0.000571</td>\n",
       "      <td>-0.000500</td>\n",
       "      <td>-0.000500</td>\n",
       "      <td>-0.000500</td>\n",
       "      <td>-0.013879</td>\n",
       "    </tr>\n",
       "    <tr>\n",
       "      <th>4</th>\n",
       "      <td>0.461488</td>\n",
       "      <td>0.435293</td>\n",
       "      <td>0.172903</td>\n",
       "      <td>0.047913</td>\n",
       "      <td>0.191087</td>\n",
       "      <td>0.325543</td>\n",
       "      <td>0.353265</td>\n",
       "      <td>-0.006769</td>\n",
       "      <td>0.036924</td>\n",
       "      <td>0.367369</td>\n",
       "      <td>...</td>\n",
       "      <td>0.001749</td>\n",
       "      <td>0.001361</td>\n",
       "      <td>0.001166</td>\n",
       "      <td>0.001555</td>\n",
       "      <td>0.001361</td>\n",
       "      <td>0.001555</td>\n",
       "      <td>0.001361</td>\n",
       "      <td>0.001361</td>\n",
       "      <td>0.001361</td>\n",
       "      <td>0.001736</td>\n",
       "    </tr>\n",
       "    <tr>\n",
       "      <th>...</th>\n",
       "      <td>...</td>\n",
       "      <td>...</td>\n",
       "      <td>...</td>\n",
       "      <td>...</td>\n",
       "      <td>...</td>\n",
       "      <td>...</td>\n",
       "      <td>...</td>\n",
       "      <td>...</td>\n",
       "      <td>...</td>\n",
       "      <td>...</td>\n",
       "      <td>...</td>\n",
       "      <td>...</td>\n",
       "      <td>...</td>\n",
       "      <td>...</td>\n",
       "      <td>...</td>\n",
       "      <td>...</td>\n",
       "      <td>...</td>\n",
       "      <td>...</td>\n",
       "      <td>...</td>\n",
       "      <td>...</td>\n",
       "      <td>...</td>\n",
       "    </tr>\n",
       "    <tr>\n",
       "      <th>605</th>\n",
       "      <td>1.876113</td>\n",
       "      <td>0.333316</td>\n",
       "      <td>0.386157</td>\n",
       "      <td>0.150118</td>\n",
       "      <td>0.113198</td>\n",
       "      <td>-0.430672</td>\n",
       "      <td>1.979305</td>\n",
       "      <td>-0.090329</td>\n",
       "      <td>-0.008651</td>\n",
       "      <td>-2.491682</td>\n",
       "      <td>...</td>\n",
       "      <td>-0.008444</td>\n",
       "      <td>-0.006568</td>\n",
       "      <td>-0.005629</td>\n",
       "      <td>-0.007506</td>\n",
       "      <td>-0.006568</td>\n",
       "      <td>-0.007506</td>\n",
       "      <td>-0.006568</td>\n",
       "      <td>-0.006568</td>\n",
       "      <td>-0.006568</td>\n",
       "      <td>-0.011119</td>\n",
       "    </tr>\n",
       "    <tr>\n",
       "      <th>606</th>\n",
       "      <td>1.539276</td>\n",
       "      <td>0.668664</td>\n",
       "      <td>0.404449</td>\n",
       "      <td>0.020863</td>\n",
       "      <td>0.190651</td>\n",
       "      <td>0.797799</td>\n",
       "      <td>0.227704</td>\n",
       "      <td>0.015064</td>\n",
       "      <td>0.046307</td>\n",
       "      <td>1.034319</td>\n",
       "      <td>...</td>\n",
       "      <td>-0.008117</td>\n",
       "      <td>-0.006313</td>\n",
       "      <td>-0.005411</td>\n",
       "      <td>-0.007215</td>\n",
       "      <td>-0.006313</td>\n",
       "      <td>-0.007215</td>\n",
       "      <td>-0.006313</td>\n",
       "      <td>-0.006313</td>\n",
       "      <td>-0.006313</td>\n",
       "      <td>-0.008610</td>\n",
       "    </tr>\n",
       "    <tr>\n",
       "      <th>607</th>\n",
       "      <td>0.677429</td>\n",
       "      <td>0.934035</td>\n",
       "      <td>0.858738</td>\n",
       "      <td>-0.099958</td>\n",
       "      <td>0.209286</td>\n",
       "      <td>1.284069</td>\n",
       "      <td>0.475729</td>\n",
       "      <td>0.420371</td>\n",
       "      <td>0.236593</td>\n",
       "      <td>2.409182</td>\n",
       "      <td>...</td>\n",
       "      <td>-0.058526</td>\n",
       "      <td>-0.045521</td>\n",
       "      <td>-0.039018</td>\n",
       "      <td>-0.052023</td>\n",
       "      <td>-0.045521</td>\n",
       "      <td>-0.052023</td>\n",
       "      <td>-0.045521</td>\n",
       "      <td>-0.045521</td>\n",
       "      <td>-0.045521</td>\n",
       "      <td>0.016303</td>\n",
       "    </tr>\n",
       "    <tr>\n",
       "      <th>608</th>\n",
       "      <td>0.409298</td>\n",
       "      <td>0.466784</td>\n",
       "      <td>0.184668</td>\n",
       "      <td>0.036747</td>\n",
       "      <td>0.194041</td>\n",
       "      <td>0.293382</td>\n",
       "      <td>0.280604</td>\n",
       "      <td>-0.001906</td>\n",
       "      <td>0.047411</td>\n",
       "      <td>0.530155</td>\n",
       "      <td>...</td>\n",
       "      <td>0.000357</td>\n",
       "      <td>0.000278</td>\n",
       "      <td>0.000238</td>\n",
       "      <td>0.000317</td>\n",
       "      <td>0.000278</td>\n",
       "      <td>0.000317</td>\n",
       "      <td>0.000278</td>\n",
       "      <td>0.000278</td>\n",
       "      <td>0.000278</td>\n",
       "      <td>-0.000540</td>\n",
       "    </tr>\n",
       "    <tr>\n",
       "      <th>609</th>\n",
       "      <td>-0.165372</td>\n",
       "      <td>2.643566</td>\n",
       "      <td>-0.907279</td>\n",
       "      <td>0.038821</td>\n",
       "      <td>-0.320514</td>\n",
       "      <td>5.838060</td>\n",
       "      <td>0.015161</td>\n",
       "      <td>0.382475</td>\n",
       "      <td>0.191199</td>\n",
       "      <td>1.796921</td>\n",
       "      <td>...</td>\n",
       "      <td>0.053709</td>\n",
       "      <td>0.041774</td>\n",
       "      <td>0.035806</td>\n",
       "      <td>0.047742</td>\n",
       "      <td>0.041774</td>\n",
       "      <td>0.047742</td>\n",
       "      <td>0.041774</td>\n",
       "      <td>0.041774</td>\n",
       "      <td>0.041774</td>\n",
       "      <td>0.066523</td>\n",
       "    </tr>\n",
       "  </tbody>\n",
       "</table>\n",
       "<p>610 rows × 8263 columns</p>\n",
       "</div>"
      ],
      "text/plain": [
       "movie_id    1         2         3         4         5         6       \\\n",
       "0         1.876686  0.735998  0.553359  0.001639  0.054794  0.989602   \n",
       "1         0.177745  0.030331 -0.026613  0.003090  0.030468 -0.000217   \n",
       "2         0.033208  0.011349 -0.003395  0.000351  0.005971  0.025908   \n",
       "3         1.202366  0.072710  0.161955  0.023853 -0.011193  0.215577   \n",
       "4         0.461488  0.435293  0.172903  0.047913  0.191087  0.325543   \n",
       "..             ...       ...       ...       ...       ...       ...   \n",
       "605       1.876113  0.333316  0.386157  0.150118  0.113198 -0.430672   \n",
       "606       1.539276  0.668664  0.404449  0.020863  0.190651  0.797799   \n",
       "607       0.677429  0.934035  0.858738 -0.099958  0.209286  1.284069   \n",
       "608       0.409298  0.466784  0.184668  0.036747  0.194041  0.293382   \n",
       "609      -0.165372  2.643566 -0.907279  0.038821 -0.320514  5.838060   \n",
       "\n",
       "movie_id    7         8         9         10      ...    191005    193565  \\\n",
       "0         0.087317  0.088235  0.036162  1.221381  ... -0.014396 -0.011197   \n",
       "1         0.003978 -0.006995 -0.000648  0.047639  ...  0.004558  0.003545   \n",
       "2        -0.002021 -0.003080  0.002570  0.022736  ...  0.000343  0.000267   \n",
       "3         0.214534 -0.032359 -0.025908 -0.275881  ... -0.000643 -0.000500   \n",
       "4         0.353265 -0.006769  0.036924  0.367369  ...  0.001749  0.001361   \n",
       "..             ...       ...       ...       ...  ...       ...       ...   \n",
       "605       1.979305 -0.090329 -0.008651 -2.491682  ... -0.008444 -0.006568   \n",
       "606       0.227704  0.015064  0.046307  1.034319  ... -0.008117 -0.006313   \n",
       "607       0.475729  0.420371  0.236593  2.409182  ... -0.058526 -0.045521   \n",
       "608       0.280604 -0.001906  0.047411  0.530155  ...  0.000357  0.000278   \n",
       "609       0.015161  0.382475  0.191199  1.796921  ...  0.053709  0.041774   \n",
       "\n",
       "movie_id    193567    193573    193579    193581    193583    193585  \\\n",
       "0        -0.009597 -0.012796 -0.011197 -0.012796 -0.011197 -0.011197   \n",
       "1         0.003039  0.004051  0.003545  0.004051  0.003545  0.003545   \n",
       "2         0.000229  0.000305  0.000267  0.000305  0.000267  0.000267   \n",
       "3        -0.000429 -0.000571 -0.000500 -0.000571 -0.000500 -0.000500   \n",
       "4         0.001166  0.001555  0.001361  0.001555  0.001361  0.001361   \n",
       "..             ...       ...       ...       ...       ...       ...   \n",
       "605      -0.005629 -0.007506 -0.006568 -0.007506 -0.006568 -0.006568   \n",
       "606      -0.005411 -0.007215 -0.006313 -0.007215 -0.006313 -0.006313   \n",
       "607      -0.039018 -0.052023 -0.045521 -0.052023 -0.045521 -0.045521   \n",
       "608       0.000238  0.000317  0.000278  0.000317  0.000278  0.000278   \n",
       "609       0.035806  0.047742  0.041774  0.047742  0.041774  0.041774   \n",
       "\n",
       "movie_id    193587    193609  \n",
       "0        -0.011197 -0.012180  \n",
       "1         0.003545  0.008243  \n",
       "2         0.000267 -0.000540  \n",
       "3        -0.000500 -0.013879  \n",
       "4         0.001361  0.001736  \n",
       "..             ...       ...  \n",
       "605      -0.006568 -0.011119  \n",
       "606      -0.006313 -0.008610  \n",
       "607      -0.045521  0.016303  \n",
       "608       0.000278 -0.000540  \n",
       "609       0.041774  0.066523  \n",
       "\n",
       "[610 rows x 8263 columns]"
      ]
     },
     "execution_count": 460,
     "metadata": {},
     "output_type": "execute_result"
    }
   ],
   "source": [
    "svd_predictions_score_df"
   ]
  },
  {
   "cell_type": "code",
   "execution_count": 461,
   "metadata": {
    "ExecuteTime": {
     "end_time": "2020-07-31T15:37:26.880649Z",
     "start_time": "2020-07-31T15:37:26.854717Z"
    }
   },
   "outputs": [
    {
     "data": {
      "text/html": [
       "<div>\n",
       "<style scoped>\n",
       "    .dataframe tbody tr th:only-of-type {\n",
       "        vertical-align: middle;\n",
       "    }\n",
       "\n",
       "    .dataframe tbody tr th {\n",
       "        vertical-align: top;\n",
       "    }\n",
       "\n",
       "    .dataframe thead th {\n",
       "        text-align: right;\n",
       "    }\n",
       "</style>\n",
       "<table border=\"1\" class=\"dataframe\">\n",
       "  <thead>\n",
       "    <tr style=\"text-align: right;\">\n",
       "      <th>movie_id</th>\n",
       "      <th>1</th>\n",
       "      <th>2</th>\n",
       "      <th>3</th>\n",
       "      <th>4</th>\n",
       "      <th>5</th>\n",
       "      <th>6</th>\n",
       "      <th>7</th>\n",
       "      <th>8</th>\n",
       "      <th>9</th>\n",
       "      <th>10</th>\n",
       "      <th>...</th>\n",
       "      <th>191005</th>\n",
       "      <th>193565</th>\n",
       "      <th>193567</th>\n",
       "      <th>193573</th>\n",
       "      <th>193579</th>\n",
       "      <th>193581</th>\n",
       "      <th>193583</th>\n",
       "      <th>193585</th>\n",
       "      <th>193587</th>\n",
       "      <th>193609</th>\n",
       "    </tr>\n",
       "  </thead>\n",
       "  <tbody>\n",
       "    <tr>\n",
       "      <th>609</th>\n",
       "      <td>-0.165372</td>\n",
       "      <td>2.643566</td>\n",
       "      <td>-0.907279</td>\n",
       "      <td>0.038821</td>\n",
       "      <td>-0.320514</td>\n",
       "      <td>5.83806</td>\n",
       "      <td>0.015161</td>\n",
       "      <td>0.382475</td>\n",
       "      <td>0.191199</td>\n",
       "      <td>1.796921</td>\n",
       "      <td>...</td>\n",
       "      <td>0.053709</td>\n",
       "      <td>0.041774</td>\n",
       "      <td>0.035806</td>\n",
       "      <td>0.047742</td>\n",
       "      <td>0.041774</td>\n",
       "      <td>0.047742</td>\n",
       "      <td>0.041774</td>\n",
       "      <td>0.041774</td>\n",
       "      <td>0.041774</td>\n",
       "      <td>0.066523</td>\n",
       "    </tr>\n",
       "  </tbody>\n",
       "</table>\n",
       "<p>1 rows × 8263 columns</p>\n",
       "</div>"
      ],
      "text/plain": [
       "movie_id    1         2         3         4         5        6         7       \\\n",
       "609      -0.165372  2.643566 -0.907279  0.038821 -0.320514  5.83806  0.015161   \n",
       "\n",
       "movie_id    8         9         10      ...    191005    193565    193567  \\\n",
       "609       0.382475  0.191199  1.796921  ...  0.053709  0.041774  0.035806   \n",
       "\n",
       "movie_id    193573    193579    193581    193583    193585    193587    193609  \n",
       "609       0.047742  0.041774  0.047742  0.041774  0.041774  0.041774  0.066523  \n",
       "\n",
       "[1 rows x 8263 columns]"
      ]
     },
     "execution_count": 461,
     "metadata": {},
     "output_type": "execute_result"
    }
   ],
   "source": [
    "svd_predictions_score_df[svd_predictions_score_df.index == 609]"
   ]
  },
  {
   "cell_type": "markdown",
   "metadata": {},
   "source": [
    "## Top-K recommendations"
   ]
  },
  {
   "cell_type": "markdown",
   "metadata": {},
   "source": [
    "### First"
   ]
  },
  {
   "cell_type": "markdown",
   "metadata": {},
   "source": [
    "The function below returns a list that contains the top-100 recommendations for each user"
   ]
  },
  {
   "cell_type": "code",
   "execution_count": 462,
   "metadata": {
    "ExecuteTime": {
     "end_time": "2020-07-31T15:37:49.770717Z",
     "start_time": "2020-07-31T15:37:49.762755Z"
    }
   },
   "outputs": [],
   "source": [
    "def SVD_topK_first(score_df):\n",
    "    topK_svd_rec = []\n",
    "    for i in range(len(num_users)):\n",
    "        svd_h_df = pd.DataFrame({'movie_id':score_df[score_df.index == i].columns,\n",
    "                                 'score':score_df[score_df.index == i].values[0]})\n",
    "        svd_h_df = svd_h_df.sort_values('score',ascending = False)\n",
    "        svd_h_df = svd_h_df.head(100)\n",
    "        topK_svd_rec.append(svd_h_df['movie_id'].values)\n",
    "    return topK_svd_rec"
   ]
  },
  {
   "cell_type": "markdown",
   "metadata": {},
   "source": [
    "#### NDCG Score"
   ]
  },
  {
   "cell_type": "markdown",
   "metadata": {},
   "source": [
    "The function below returns the relevance list of a list of movies."
   ]
  },
  {
   "cell_type": "code",
   "execution_count": 463,
   "metadata": {
    "ExecuteTime": {
     "end_time": "2020-07-31T15:37:58.669015Z",
     "start_time": "2020-07-31T15:37:58.662060Z"
    }
   },
   "outputs": [],
   "source": [
    "def SVD_relevance_first(score_df):\n",
    "    svd_topK = SVD_topK_first(score_df)\n",
    "    relevance_svd_full = []\n",
    "    helper = []\n",
    "    count = 0\n",
    "    for i in range(1,len(num_users)+1):\n",
    "        for j in range(len(svd_topK[count])):\n",
    "            if svd_topK[count][j] in test_df['movie_id'][test_df['user_id'] == i].values.tolist():\n",
    "                helper.append(1)\n",
    "            else:\n",
    "                helper.append(0)\n",
    "        relevance_svd_full.append(helper)\n",
    "        helper = []\n",
    "        count += 1\n",
    "    return relevance_svd_full"
   ]
  },
  {
   "cell_type": "code",
   "execution_count": 464,
   "metadata": {
    "ExecuteTime": {
     "end_time": "2020-07-31T15:38:44.998098Z",
     "start_time": "2020-07-31T15:38:06.578832Z"
    }
   },
   "outputs": [],
   "source": [
    "relevance_first = SVD_relevance_first(svd_predictions_score_df)"
   ]
  },
  {
   "cell_type": "code",
   "execution_count": 465,
   "metadata": {
    "ExecuteTime": {
     "end_time": "2020-07-31T15:38:53.479691Z",
     "start_time": "2020-07-31T15:38:53.469717Z"
    }
   },
   "outputs": [
    {
     "data": {
      "text/plain": [
       "(610, 100)"
      ]
     },
     "execution_count": 465,
     "metadata": {},
     "output_type": "execute_result"
    }
   ],
   "source": [
    "np.asarray(relevance_first).shape"
   ]
  },
  {
   "cell_type": "code",
   "execution_count": 466,
   "metadata": {
    "ExecuteTime": {
     "end_time": "2020-07-31T15:39:01.371249Z",
     "start_time": "2020-07-31T15:39:01.366263Z"
    }
   },
   "outputs": [],
   "source": [
    "n_f = NDCG_forUser(relevance_first[0])"
   ]
  },
  {
   "cell_type": "code",
   "execution_count": 467,
   "metadata": {
    "ExecuteTime": {
     "end_time": "2020-07-31T15:39:10.919306Z",
     "start_time": "2020-07-31T15:39:10.912324Z"
    }
   },
   "outputs": [
    {
     "data": {
      "text/plain": [
       "0.6145089647343102"
      ]
     },
     "execution_count": 467,
     "metadata": {},
     "output_type": "execute_result"
    }
   ],
   "source": [
    "n_f"
   ]
  },
  {
   "cell_type": "markdown",
   "metadata": {},
   "source": [
    "Below is the NDCG scores of each user"
   ]
  },
  {
   "cell_type": "code",
   "execution_count": 468,
   "metadata": {
    "ExecuteTime": {
     "end_time": "2020-07-31T15:39:19.502636Z",
     "start_time": "2020-07-31T15:39:18.649931Z"
    }
   },
   "outputs": [
    {
     "name": "stderr",
     "output_type": "stream",
     "text": [
      "C:\\Users\\papad\\Anaconda3\\lib\\site-packages\\ipykernel_launcher.py:2: RuntimeWarning: invalid value encountered in double_scalars\n",
      "  \n"
     ]
    }
   ],
   "source": [
    "all_ndcg_f = allUsers_ndcg(relevance_first)"
   ]
  },
  {
   "cell_type": "code",
   "execution_count": 469,
   "metadata": {
    "ExecuteTime": {
     "end_time": "2020-07-31T15:39:27.414560Z",
     "start_time": "2020-07-31T15:39:27.409607Z"
    }
   },
   "outputs": [],
   "source": [
    "all_ndcg_f = pd.Series(all_ndcg_f).fillna(0).tolist()"
   ]
  },
  {
   "cell_type": "code",
   "execution_count": 470,
   "metadata": {
    "ExecuteTime": {
     "end_time": "2020-07-31T15:39:35.115412Z",
     "start_time": "2020-07-31T15:39:35.109153Z"
    }
   },
   "outputs": [
    {
     "data": {
      "text/plain": [
       "0.4390131859021594"
      ]
     },
     "execution_count": 470,
     "metadata": {},
     "output_type": "execute_result"
    }
   ],
   "source": [
    "np.asarray(all_ndcg_f).mean()"
   ]
  },
  {
   "cell_type": "markdown",
   "metadata": {},
   "source": [
    "### Second"
   ]
  },
  {
   "cell_type": "markdown",
   "metadata": {},
   "source": [
    "Code used from https://github.com/nikitaa30/Recommender-Systems/blob/master/matrix_factorisation_svd.py\n",
    "\n",
    "Provide top-K predictions for a user"
   ]
  },
  {
   "cell_type": "code",
   "execution_count": 197,
   "metadata": {},
   "outputs": [],
   "source": [
    "def recommend_movies(preds_df, userID, movies_df, original_ratings_df, num_recommendations):\n",
    "    # Get and sort the user's predictions\n",
    "    user_row_number = userID - 1 # UserID starts at 1, not 0\n",
    "    sorted_user_predictions = preds_df.iloc[user_row_number].sort_values(ascending=False) # UserID starts at 1\n",
    "    \n",
    "    # Get the user's data and merge in the movie information.\n",
    "    user_data = original_ratings_df[original_ratings_df.userId == (userID)]\n",
    "    user_full = (user_data.merge(movies_df, how = 'left', left_on = 'movieId', right_on = 'movieId').\n",
    "                     sort_values(['rating'], ascending=False)\n",
    "                 )\n",
    "    # Recommend the highest predicted rating movies that the user hasn't seen yet.\n",
    "    recommendations = (movies_df[~movies_df['movieId'].isin(user_full['movieId'])]).merge(pd.DataFrame(sorted_user_predictions).reset_index(), how = 'left', left_on = 'movieId',\n",
    "               right_on = 'movie_id').rename(columns = {user_row_number: 'Predictions'}).sort_values('Predictions', ascending = False).iloc[:num_recommendations, :-1]\n",
    "                      \n",
    "\n",
    "    return user_full, recommendations"
   ]
  },
  {
   "cell_type": "code",
   "execution_count": 198,
   "metadata": {},
   "outputs": [
    {
     "data": {
      "text/html": [
       "<div>\n",
       "<style scoped>\n",
       "    .dataframe tbody tr th:only-of-type {\n",
       "        vertical-align: middle;\n",
       "    }\n",
       "\n",
       "    .dataframe tbody tr th {\n",
       "        vertical-align: top;\n",
       "    }\n",
       "\n",
       "    .dataframe thead th {\n",
       "        text-align: right;\n",
       "    }\n",
       "</style>\n",
       "<table border=\"1\" class=\"dataframe\">\n",
       "  <thead>\n",
       "    <tr style=\"text-align: right;\">\n",
       "      <th></th>\n",
       "      <th>movieId</th>\n",
       "      <th>title</th>\n",
       "      <th>genres</th>\n",
       "      <th>movie_id</th>\n",
       "    </tr>\n",
       "  </thead>\n",
       "  <tbody>\n",
       "    <tr>\n",
       "      <th>475</th>\n",
       "      <td>589</td>\n",
       "      <td>Terminator 2: Judgment Day (1991)</td>\n",
       "      <td>Action|Sci-Fi</td>\n",
       "      <td>589.0</td>\n",
       "    </tr>\n",
       "    <tr>\n",
       "      <th>831</th>\n",
       "      <td>1200</td>\n",
       "      <td>Aliens (1986)</td>\n",
       "      <td>Action|Adventure|Horror|Sci-Fi</td>\n",
       "      <td>1200.0</td>\n",
       "    </tr>\n",
       "    <tr>\n",
       "      <th>736</th>\n",
       "      <td>1036</td>\n",
       "      <td>Die Hard (1988)</td>\n",
       "      <td>Action|Crime|Thriller</td>\n",
       "      <td>1036.0</td>\n",
       "    </tr>\n",
       "    <tr>\n",
       "      <th>28</th>\n",
       "      <td>32</td>\n",
       "      <td>Twelve Monkeys (a.k.a. 12 Monkeys) (1995)</td>\n",
       "      <td>Mystery|Sci-Fi|Thriller</td>\n",
       "      <td>32.0</td>\n",
       "    </tr>\n",
       "    <tr>\n",
       "      <th>844</th>\n",
       "      <td>1221</td>\n",
       "      <td>Godfather: Part II, The (1974)</td>\n",
       "      <td>Crime|Drama</td>\n",
       "      <td>1221.0</td>\n",
       "    </tr>\n",
       "  </tbody>\n",
       "</table>\n",
       "</div>"
      ],
      "text/plain": [
       "     movieId                                      title  \\\n",
       "475      589          Terminator 2: Judgment Day (1991)   \n",
       "831     1200                              Aliens (1986)   \n",
       "736     1036                            Die Hard (1988)   \n",
       "28        32  Twelve Monkeys (a.k.a. 12 Monkeys) (1995)   \n",
       "844     1221             Godfather: Part II, The (1974)   \n",
       "\n",
       "                             genres  movie_id  \n",
       "475                   Action|Sci-Fi     589.0  \n",
       "831  Action|Adventure|Horror|Sci-Fi    1200.0  \n",
       "736           Action|Crime|Thriller    1036.0  \n",
       "28          Mystery|Sci-Fi|Thriller      32.0  \n",
       "844                     Crime|Drama    1221.0  "
      ]
     },
     "execution_count": 198,
     "metadata": {},
     "output_type": "execute_result"
    }
   ],
   "source": [
    "already_rated, predictions = recommend_movies(svd_predictions_score_df, 1, movies_df, ratings_df, 100)\n",
    "predictions.head()"
   ]
  },
  {
   "cell_type": "markdown",
   "metadata": {},
   "source": [
    "The function SVD_topK_allUsers returens a list that contains the top-K recommendations for each user."
   ]
  },
  {
   "cell_type": "code",
   "execution_count": 199,
   "metadata": {},
   "outputs": [],
   "source": [
    "def SVD_topK_allUsers():\n",
    "    allUsers_already_rated = []\n",
    "    allUsers_predictions = []\n",
    "    for i in range(1,len(num_users)+1):\n",
    "        already_rated, predictions = recommend_movies(svd_predictions_score_df, i, movies_df, ratings_df, 100)\n",
    "        allUsers_already_rated.append(already_rated)\n",
    "        allUsers_predictions.append(predictions)\n",
    "    return allUsers_predictions"
   ]
  },
  {
   "cell_type": "markdown",
   "metadata": {},
   "source": [
    "#### NDCG Score"
   ]
  },
  {
   "cell_type": "markdown",
   "metadata": {},
   "source": [
    "The function SVD_relevance returns a list that contains the relevance (0s and 1s) between the top-K recommendations and the movies that each user actually watched."
   ]
  },
  {
   "cell_type": "code",
   "execution_count": 200,
   "metadata": {},
   "outputs": [],
   "source": [
    "def SVD_relevance():\n",
    "    svd_topK = SVD_topK_allUsers()\n",
    "    relevance_svd_full = []\n",
    "    helper = []\n",
    "    count = 0\n",
    "    for i in range(1,len(num_users)+1):\n",
    "        for j in range(len(svd_topK[count])):\n",
    "            if svd_topK[count]['movieId'].values[j] in test_df['movie_id'][test_df['user_id'] == i].values.tolist():\n",
    "                helper.append(1)\n",
    "            else:\n",
    "                helper.append(0)\n",
    "        relevance_svd_full.append(helper)\n",
    "        helper = []\n",
    "        count += 1\n",
    "    return relevance_svd_full"
   ]
  },
  {
   "cell_type": "code",
   "execution_count": 201,
   "metadata": {},
   "outputs": [],
   "source": [
    "svd_relevance = SVD_relevance()"
   ]
  },
  {
   "cell_type": "code",
   "execution_count": 202,
   "metadata": {},
   "outputs": [
    {
     "name": "stderr",
     "output_type": "stream",
     "text": [
      "C:\\Users\\papad\\Anaconda3\\lib\\site-packages\\ipykernel_launcher.py:2: RuntimeWarning: invalid value encountered in double_scalars\n",
      "  \n"
     ]
    }
   ],
   "source": [
    "allUsers_svd_ndcg = allUsers_ndcg(svd_relevance)"
   ]
  },
  {
   "cell_type": "code",
   "execution_count": 203,
   "metadata": {},
   "outputs": [
    {
     "data": {
      "text/plain": [
       "nan"
      ]
     },
     "execution_count": 203,
     "metadata": {},
     "output_type": "execute_result"
    }
   ],
   "source": [
    "allUsers_svd_ndcg[0]"
   ]
  },
  {
   "cell_type": "markdown",
   "metadata": {},
   "source": [
    "# LightGBM Baseline"
   ]
  },
  {
   "cell_type": "markdown",
   "metadata": {},
   "source": [
    "I create 2 features, which are the scores from the Implicit and SVD models on the top-K recommendations for each user based on the implicit model."
   ]
  },
  {
   "cell_type": "code",
   "execution_count": 304,
   "metadata": {},
   "outputs": [],
   "source": [
    "#target_movies = allUsers_topK_imp\n",
    "#for i in range(len(num_users)):\n",
    "#    target_movies.append(topK_implicit(i,implicit_model))"
   ]
  },
  {
   "cell_type": "markdown",
   "metadata": {},
   "source": [
    "##  Feature 1 (Implicit factorization model scores)"
   ]
  },
  {
   "cell_type": "markdown",
   "metadata": {},
   "source": [
    "Train an implicit factorization model using the train_features dataset"
   ]
  },
  {
   "cell_type": "code",
   "execution_count": 471,
   "metadata": {
    "ExecuteTime": {
     "end_time": "2020-07-31T15:40:10.686876Z",
     "start_time": "2020-07-31T15:39:43.628637Z"
    }
   },
   "outputs": [
    {
     "name": "stdout",
     "output_type": "stream",
     "text": [
      "Epoch 0: loss 0.8053577627876017\n",
      "Epoch 1: loss 0.45784230913856244\n",
      "Epoch 2: loss 0.4107560631957385\n",
      "Epoch 3: loss 0.3743702416667844\n",
      "Epoch 4: loss 0.3351895868188084\n",
      "Training took 27 second\n"
     ]
    }
   ],
   "source": [
    "f1_model = ImplicitFactorizationModel(n_iter = 5)\n",
    "\n",
    "current = time.time()\n",
    "\n",
    "f1_model.fit(implicit_train_features,verbose = True)\n",
    "\n",
    "end = time.time()\n",
    "diff = end - current\n",
    "print('Training took %d second'%(diff))"
   ]
  },
  {
   "cell_type": "code",
   "execution_count": 472,
   "metadata": {
    "ExecuteTime": {
     "end_time": "2020-07-31T15:40:21.754380Z",
     "start_time": "2020-07-31T15:40:19.013930Z"
    }
   },
   "outputs": [],
   "source": [
    "allUsers_topK_f1 = allUsers_topK_implicit(f1_model)\n",
    "target_movies = allUsers_topK_f1"
   ]
  },
  {
   "cell_type": "markdown",
   "metadata": {},
   "source": [
    "Map the target movies to pick the correct predictions based on the item id"
   ]
  },
  {
   "cell_type": "code",
   "execution_count": 473,
   "metadata": {
    "ExecuteTime": {
     "end_time": "2020-07-31T15:40:32.974286Z",
     "start_time": "2020-07-31T15:40:32.950319Z"
    }
   },
   "outputs": [],
   "source": [
    "map_target_movies = []\n",
    "map_help = []\n",
    "for movies in target_movies:\n",
    "    for movie in movies:\n",
    "        map_help.append(iid_map[movie])\n",
    "    map_target_movies.append(map_help)\n",
    "    map_help = []"
   ]
  },
  {
   "cell_type": "markdown",
   "metadata": {},
   "source": [
    "Implicit Factorization model Scores"
   ]
  },
  {
   "cell_type": "markdown",
   "metadata": {},
   "source": [
    "Train implicit on implicit_features_train! and take these scores."
   ]
  },
  {
   "cell_type": "code",
   "execution_count": 474,
   "metadata": {
    "ExecuteTime": {
     "end_time": "2020-07-31T15:40:41.055799Z",
     "start_time": "2020-07-31T15:40:40.896056Z"
    }
   },
   "outputs": [],
   "source": [
    "implicit_scores = 0\n",
    "feature1 = []\n",
    "for i in range(len(num_users)):\n",
    "    #for movies in map_target_movies:\n",
    "    my_list = map_target_movies[i]\n",
    "    my_array = np.array(my_list)\n",
    "    implicit_scores = f1_model.predict(user_ids = i,item_ids = my_array)\n",
    "    feature1.append(implicit_scores)"
   ]
  },
  {
   "cell_type": "code",
   "execution_count": 475,
   "metadata": {
    "ExecuteTime": {
     "end_time": "2020-07-31T15:40:50.134449Z",
     "start_time": "2020-07-31T15:40:50.125471Z"
    }
   },
   "outputs": [
    {
     "data": {
      "text/plain": [
       "(610, 100)"
      ]
     },
     "execution_count": 475,
     "metadata": {},
     "output_type": "execute_result"
    }
   ],
   "source": [
    "feature1 = np.asarray(feature1)\n",
    "feature1.shape"
   ]
  },
  {
   "cell_type": "code",
   "execution_count": 476,
   "metadata": {
    "ExecuteTime": {
     "end_time": "2020-07-31T15:40:57.877580Z",
     "start_time": "2020-07-31T15:40:57.873591Z"
    }
   },
   "outputs": [],
   "source": [
    "#feature1 = np.asarray(feature1).reshape(len(num_users),100)"
   ]
  },
  {
   "cell_type": "markdown",
   "metadata": {},
   "source": [
    "## Feature 2 (Implicit sequence model scores)"
   ]
  },
  {
   "cell_type": "code",
   "execution_count": 477,
   "metadata": {
    "ExecuteTime": {
     "end_time": "2020-07-31T15:41:06.145641Z",
     "start_time": "2020-07-31T15:41:06.139655Z"
    }
   },
   "outputs": [
    {
     "data": {
      "text/plain": [
       "\"f2_model = ImplicitSequenceModel(n_iter = 5)\\n\\ncurrent = time.time()\\n\\nf2_model.fit(implicit_train_features.to_sequence(),verbose = True)\\n\\nend = time.time()\\ndiff = end - current\\nprint('Training took %d second'%(diff))\""
      ]
     },
     "execution_count": 477,
     "metadata": {},
     "output_type": "execute_result"
    }
   ],
   "source": [
    "'''f2_model = ImplicitSequenceModel(n_iter = 5)\n",
    "\n",
    "current = time.time()\n",
    "\n",
    "f2_model.fit(implicit_train_features.to_sequence(),verbose = True)\n",
    "\n",
    "end = time.time()\n",
    "diff = end - current\n",
    "print('Training took %d second'%(diff))'''"
   ]
  },
  {
   "cell_type": "code",
   "execution_count": 478,
   "metadata": {
    "ExecuteTime": {
     "end_time": "2020-07-31T15:41:15.493658Z",
     "start_time": "2020-07-31T15:41:15.487639Z"
    }
   },
   "outputs": [
    {
     "data": {
      "text/plain": [
       "'implicit_scores = 0\\nfeature2 = []\\nfor i in range(len(num_users)):\\n    #for movies in map_target_movies:\\n    my_list = map_target_movies[i]\\n    my_array = np.array(my_list)\\n    implicit_scores = f2_model.predict(i,item_ids = my_array)\\n    feature2.append(implicit_scores)'"
      ]
     },
     "execution_count": 478,
     "metadata": {},
     "output_type": "execute_result"
    }
   ],
   "source": [
    "'''implicit_scores = 0\n",
    "feature2 = []\n",
    "for i in range(len(num_users)):\n",
    "    #for movies in map_target_movies:\n",
    "    my_list = map_target_movies[i]\n",
    "    my_array = np.array(my_list)\n",
    "    implicit_scores = f2_model.predict(i,item_ids = my_array)\n",
    "    feature2.append(implicit_scores)'''"
   ]
  },
  {
   "cell_type": "markdown",
   "metadata": {},
   "source": [
    "## Feature 3 (SVD scores)"
   ]
  },
  {
   "cell_type": "markdown",
   "metadata": {},
   "source": [
    "SVD model Scores. Take advantage of the DataFrame containing the scores to extract the predicted scores for the desired movies."
   ]
  },
  {
   "cell_type": "code",
   "execution_count": 479,
   "metadata": {
    "ExecuteTime": {
     "end_time": "2020-07-31T15:41:24.182902Z",
     "start_time": "2020-07-31T15:41:24.064897Z"
    }
   },
   "outputs": [],
   "source": [
    "df_movie_features1 = train_features_df.pivot(\n",
    "    index='user_id',\n",
    "    columns='movie_id',\n",
    "    values='rating'\n",
    ").fillna(0)"
   ]
  },
  {
   "cell_type": "code",
   "execution_count": 480,
   "metadata": {
    "ExecuteTime": {
     "end_time": "2020-07-31T15:41:32.902997Z",
     "start_time": "2020-07-31T15:41:32.459183Z"
    }
   },
   "outputs": [],
   "source": [
    "U1, sigma1, Vt1 = svds(df_movie_features1)\n",
    "sigma1 = np.diag(sigma1)\n",
    "svd_predictions_score1 = np.dot(np.dot(U1, sigma1), Vt1)\n",
    "svd_predictions_score_df1 = pd.DataFrame(svd_predictions_score1, columns = df_movie_features1.columns)"
   ]
  },
  {
   "cell_type": "code",
   "execution_count": 481,
   "metadata": {
    "ExecuteTime": {
     "end_time": "2020-07-31T15:41:43.289464Z",
     "start_time": "2020-07-31T15:41:43.284445Z"
    }
   },
   "outputs": [
    {
     "data": {
      "text/plain": [
       "47"
      ]
     },
     "execution_count": 481,
     "metadata": {},
     "output_type": "execute_result"
    }
   ],
   "source": [
    "target_movies[0][2]"
   ]
  },
  {
   "cell_type": "code",
   "execution_count": 482,
   "metadata": {
    "ExecuteTime": {
     "end_time": "2020-07-31T15:41:51.683549Z",
     "start_time": "2020-07-31T15:41:51.661568Z"
    }
   },
   "outputs": [
    {
     "data": {
      "text/html": [
       "<div>\n",
       "<style scoped>\n",
       "    .dataframe tbody tr th:only-of-type {\n",
       "        vertical-align: middle;\n",
       "    }\n",
       "\n",
       "    .dataframe tbody tr th {\n",
       "        vertical-align: top;\n",
       "    }\n",
       "\n",
       "    .dataframe thead th {\n",
       "        text-align: right;\n",
       "    }\n",
       "</style>\n",
       "<table border=\"1\" class=\"dataframe\">\n",
       "  <thead>\n",
       "    <tr style=\"text-align: right;\">\n",
       "      <th>movie_id</th>\n",
       "      <th>1</th>\n",
       "      <th>2</th>\n",
       "      <th>3</th>\n",
       "      <th>4</th>\n",
       "      <th>5</th>\n",
       "      <th>6</th>\n",
       "      <th>7</th>\n",
       "      <th>8</th>\n",
       "      <th>9</th>\n",
       "      <th>10</th>\n",
       "      <th>...</th>\n",
       "      <th>189547</th>\n",
       "      <th>190213</th>\n",
       "      <th>190221</th>\n",
       "      <th>193565</th>\n",
       "      <th>193567</th>\n",
       "      <th>193573</th>\n",
       "      <th>193581</th>\n",
       "      <th>193583</th>\n",
       "      <th>193585</th>\n",
       "      <th>193587</th>\n",
       "    </tr>\n",
       "  </thead>\n",
       "  <tbody>\n",
       "    <tr>\n",
       "      <th>0</th>\n",
       "      <td>0.916138</td>\n",
       "      <td>0.373404</td>\n",
       "      <td>0.500584</td>\n",
       "      <td>0.062392</td>\n",
       "      <td>0.241682</td>\n",
       "      <td>0.816285</td>\n",
       "      <td>0.23528</td>\n",
       "      <td>0.084474</td>\n",
       "      <td>0.093764</td>\n",
       "      <td>1.119401</td>\n",
       "      <td>...</td>\n",
       "      <td>-0.002204</td>\n",
       "      <td>-0.000042</td>\n",
       "      <td>-0.000042</td>\n",
       "      <td>-0.003445</td>\n",
       "      <td>-0.002952</td>\n",
       "      <td>-0.003937</td>\n",
       "      <td>-0.003937</td>\n",
       "      <td>-0.003445</td>\n",
       "      <td>-0.003445</td>\n",
       "      <td>-0.003445</td>\n",
       "    </tr>\n",
       "  </tbody>\n",
       "</table>\n",
       "<p>1 rows × 7619 columns</p>\n",
       "</div>"
      ],
      "text/plain": [
       "movie_id    1         2         3         4         5         6        7       \\\n",
       "0         0.916138  0.373404  0.500584  0.062392  0.241682  0.816285  0.23528   \n",
       "\n",
       "movie_id    8         9         10      ...    189547    190213    190221  \\\n",
       "0         0.084474  0.093764  1.119401  ... -0.002204 -0.000042 -0.000042   \n",
       "\n",
       "movie_id    193565    193567    193573    193581    193583    193585    193587  \n",
       "0        -0.003445 -0.002952 -0.003937 -0.003937 -0.003445 -0.003445 -0.003445  \n",
       "\n",
       "[1 rows x 7619 columns]"
      ]
     },
     "execution_count": 482,
     "metadata": {},
     "output_type": "execute_result"
    }
   ],
   "source": [
    "svd_predictions_score_df1[svd_predictions_score_df1.index == 0]"
   ]
  },
  {
   "cell_type": "code",
   "execution_count": 483,
   "metadata": {
    "ExecuteTime": {
     "end_time": "2020-07-31T15:41:58.917632Z",
     "start_time": "2020-07-31T15:41:58.907663Z"
    }
   },
   "outputs": [
    {
     "data": {
      "text/plain": [
       "0.9161382480931609"
      ]
     },
     "execution_count": 483,
     "metadata": {},
     "output_type": "execute_result"
    }
   ],
   "source": [
    "float(svd_predictions_score_df1[svd_predictions_score_df1.index == 0][target_movies[0][0]].values)"
   ]
  },
  {
   "cell_type": "code",
   "execution_count": 484,
   "metadata": {
    "ExecuteTime": {
     "end_time": "2020-07-31T15:42:38.295888Z",
     "start_time": "2020-07-31T15:42:08.181129Z"
    }
   },
   "outputs": [],
   "source": [
    "feature3 = []\n",
    "feature3_user = []\n",
    "for i in range(len(num_users)):\n",
    "    for j in range(len(target_movies[i])):\n",
    "        feature3_user.append(float(svd_predictions_score_df1[svd_predictions_score_df1.index == i][target_movies[i][j]].values))\n",
    "    feature3.append(feature3_user)\n",
    "    feature3_user = []"
   ]
  },
  {
   "cell_type": "code",
   "execution_count": 485,
   "metadata": {
    "ExecuteTime": {
     "end_time": "2020-07-31T15:42:45.679962Z",
     "start_time": "2020-07-31T15:42:45.674974Z"
    }
   },
   "outputs": [
    {
     "data": {
      "text/plain": [
       "list"
      ]
     },
     "execution_count": 485,
     "metadata": {},
     "output_type": "execute_result"
    }
   ],
   "source": [
    "type(feature3)"
   ]
  },
  {
   "cell_type": "markdown",
   "metadata": {},
   "source": [
    "## Feature 4 (Genre)"
   ]
  },
  {
   "cell_type": "code",
   "execution_count": 486,
   "metadata": {
    "ExecuteTime": {
     "end_time": "2020-07-31T15:43:28.992069Z",
     "start_time": "2020-07-31T15:42:53.676048Z"
    }
   },
   "outputs": [],
   "source": [
    "genres = []\n",
    "genre_per_user = []\n",
    "for i in range(len(num_users)):\n",
    "    for j in range(len(target_movies[i])):\n",
    "        a =  movies_df[movies_df['movieId'] == target_movies[i][j]]['genres']\n",
    "        a = a.tolist()\n",
    "        a = str(a[0])\n",
    "        a = a.split('|')\n",
    "        if 'Comedy' in a:\n",
    "            genre_per_user.append(1)\n",
    "        else:\n",
    "            genre_per_user.append(0)\n",
    "    genres.append(genre_per_user)\n",
    "    genre_per_user = []"
   ]
  },
  {
   "cell_type": "code",
   "execution_count": 487,
   "metadata": {
    "ExecuteTime": {
     "end_time": "2020-07-31T15:43:36.211282Z",
     "start_time": "2020-07-31T15:43:36.206742Z"
    }
   },
   "outputs": [],
   "source": [
    "feature4 = genres"
   ]
  },
  {
   "cell_type": "markdown",
   "metadata": {},
   "source": [
    "## Feature 5 (#Users watched each target movie)"
   ]
  },
  {
   "cell_type": "code",
   "execution_count": 488,
   "metadata": {
    "ExecuteTime": {
     "end_time": "2020-07-31T15:44:27.796091Z",
     "start_time": "2020-07-31T15:43:43.352879Z"
    }
   },
   "outputs": [],
   "source": [
    "number_views = []\n",
    "number_view_per_movie = []\n",
    "for i in range(len(num_users)):\n",
    "    for j in range(len(target_movies[i])):\n",
    "        a = len(ratings_df[ratings_df['movieId'] == target_movies[i][j]]['userId'])\n",
    "        number_view_per_movie.append(a)\n",
    "    number_views.append(number_view_per_movie)\n",
    "    number_view_per_movie = []\n"
   ]
  },
  {
   "cell_type": "code",
   "execution_count": 489,
   "metadata": {
    "ExecuteTime": {
     "end_time": "2020-07-31T15:44:34.790199Z",
     "start_time": "2020-07-31T15:44:34.785212Z"
    }
   },
   "outputs": [],
   "source": [
    "feature5 = number_views"
   ]
  },
  {
   "cell_type": "markdown",
   "metadata": {},
   "source": [
    "## Feature 6 (New user)"
   ]
  },
  {
   "cell_type": "code",
   "execution_count": 490,
   "metadata": {
    "ExecuteTime": {
     "end_time": "2020-07-31T15:44:42.546068Z",
     "start_time": "2020-07-31T15:44:42.539049Z"
    }
   },
   "outputs": [
    {
     "data": {
      "text/plain": [
       "True"
      ]
     },
     "execution_count": 490,
     "metadata": {},
     "output_type": "execute_result"
    }
   ],
   "source": [
    "len(ratings_df[ratings_df['userId']==1]) > 10"
   ]
  },
  {
   "cell_type": "code",
   "execution_count": 491,
   "metadata": {
    "ExecuteTime": {
     "end_time": "2020-07-31T15:45:30.588970Z",
     "start_time": "2020-07-31T15:44:50.134941Z"
    }
   },
   "outputs": [],
   "source": [
    "new_users_binary = []\n",
    "binary_per_user = []\n",
    "for i in range(len(num_users)):\n",
    "    for j in range(len(target_movies[i])):\n",
    "        a = len(ratings_df[ratings_df['userId']==1]) > 10\n",
    "        if a:\n",
    "            binary_per_user.append(1)\n",
    "        else:\n",
    "            binary_per_user.append(0)\n",
    "    new_users_binary.append(binary_per_user)\n",
    "    binary_per_user = []"
   ]
  },
  {
   "cell_type": "code",
   "execution_count": 492,
   "metadata": {
    "ExecuteTime": {
     "end_time": "2020-07-31T15:45:38.354065Z",
     "start_time": "2020-07-31T15:45:38.350046Z"
    }
   },
   "outputs": [],
   "source": [
    "feature6 = new_users_binary"
   ]
  },
  {
   "cell_type": "markdown",
   "metadata": {},
   "source": [
    "## Features stack"
   ]
  },
  {
   "cell_type": "code",
   "execution_count": 493,
   "metadata": {
    "ExecuteTime": {
     "end_time": "2020-07-31T15:45:45.988360Z",
     "start_time": "2020-07-31T15:45:45.943480Z"
    }
   },
   "outputs": [],
   "source": [
    "features = np.stack((feature1,feature3,feature4,feature5))"
   ]
  },
  {
   "cell_type": "markdown",
   "metadata": {},
   "source": [
    "## Labels"
   ]
  },
  {
   "cell_type": "markdown",
   "metadata": {},
   "source": [
    "Below are the movies that each user watched"
   ]
  },
  {
   "cell_type": "code",
   "execution_count": 494,
   "metadata": {
    "ExecuteTime": {
     "end_time": "2020-07-31T15:45:53.490451Z",
     "start_time": "2020-07-31T15:45:53.485464Z"
    }
   },
   "outputs": [],
   "source": [
    "def watched_movies(df):\n",
    "    watched = []\n",
    "    for i in range(len(num_users)):\n",
    "        watched.append(df[df[\"user_id\"]==uid_rev_map.get(i)].groupby(\"movie_id\")[\"movie_id\"].count().index)  \n",
    "    return watched"
   ]
  },
  {
   "cell_type": "code",
   "execution_count": 495,
   "metadata": {
    "ExecuteTime": {
     "end_time": "2020-07-31T15:46:03.283501Z",
     "start_time": "2020-07-31T15:46:00.384146Z"
    }
   },
   "outputs": [],
   "source": [
    "#train_labels_df\n",
    "#test_df\n",
    "#val_df\n",
    "train_watched = watched_movies(train_labels_df)\n",
    "test_watched = watched_movies(test_df)\n",
    "val_watched = watched_movies(val_df)"
   ]
  },
  {
   "cell_type": "markdown",
   "metadata": {},
   "source": [
    "Creation of the target list. It containes 0s and 1s for the 100 recommended movies for each user. Based on the watched movies it assigns the values. If the user watched the recommended movie, then the value of the target is equal to 1, otherwise it is 0."
   ]
  },
  {
   "cell_type": "code",
   "execution_count": 496,
   "metadata": {
    "ExecuteTime": {
     "end_time": "2020-07-31T15:46:12.874666Z",
     "start_time": "2020-07-31T15:46:12.867659Z"
    }
   },
   "outputs": [],
   "source": [
    "def create_target(watched):\n",
    "    user_target = []\n",
    "    target = []\n",
    "    for i in range(len(num_users)):\n",
    "        for target_movie in target_movies[i]:\n",
    "            if target_movie in watched[i]:\n",
    "                user_target.append(1)\n",
    "            else:\n",
    "                user_target.append(0)\n",
    "        target.append(user_target)\n",
    "        user_target = []\n",
    "    return target"
   ]
  },
  {
   "cell_type": "code",
   "execution_count": 497,
   "metadata": {
    "ExecuteTime": {
     "end_time": "2020-07-31T15:46:21.057821Z",
     "start_time": "2020-07-31T15:46:20.930531Z"
    }
   },
   "outputs": [],
   "source": [
    "label_train = create_target(train_watched)\n",
    "label_test = create_target(test_watched)\n",
    "label_val = create_target(val_watched)\n",
    "#y_train = y_test = y_val"
   ]
  },
  {
   "cell_type": "markdown",
   "metadata": {},
   "source": [
    "## LightGBM model"
   ]
  },
  {
   "cell_type": "code",
   "execution_count": 498,
   "metadata": {
    "ExecuteTime": {
     "end_time": "2020-07-31T15:46:28.278038Z",
     "start_time": "2020-07-31T15:46:28.255866Z"
    }
   },
   "outputs": [],
   "source": [
    "X = np.array(features)\n",
    "label_train = np.array(label_train)\n",
    "label_test = np.array(label_test)\n",
    "label_val = np.array(label_val)"
   ]
  },
  {
   "cell_type": "code",
   "execution_count": 499,
   "metadata": {
    "ExecuteTime": {
     "end_time": "2020-07-31T15:46:35.456723Z",
     "start_time": "2020-07-31T15:46:35.451736Z"
    }
   },
   "outputs": [],
   "source": [
    "X = X.reshape(len(num_users)*k, len(features))\n",
    "y_train = label_train.reshape(len(num_users)*k,)\n",
    "y_test = label_test.reshape(len(num_users)*k,)\n",
    "y_val = label_val.reshape(len(num_users)*k,)"
   ]
  },
  {
   "cell_type": "code",
   "execution_count": 500,
   "metadata": {
    "ExecuteTime": {
     "end_time": "2020-07-31T15:46:42.874480Z",
     "start_time": "2020-07-31T15:46:42.870492Z"
    }
   },
   "outputs": [],
   "source": [
    "import lightgbm as lgb\n",
    "gbm = lgb.LGBMRanker()"
   ]
  },
  {
   "cell_type": "markdown",
   "metadata": {},
   "source": [
    "target movies\n",
    "train_df\n",
    "feature1\n",
    "feature2"
   ]
  },
  {
   "cell_type": "code",
   "execution_count": 501,
   "metadata": {
    "ExecuteTime": {
     "end_time": "2020-07-31T15:46:50.495432Z",
     "start_time": "2020-07-31T15:46:50.488384Z"
    }
   },
   "outputs": [
    {
     "data": {
      "text/plain": [
       "\"X_train_feature1 = []\\nX_train_feature2 = []\\nfor j in range(610):\\n    for i in range(len(target_movies[j])):\\n        if target_movies[j][i] in val_df['movie_id'].values.tolist():\\n            X_train_feature1.append(feature1[i])\\n            X_train_feature2.append(feature2[i])\\nprint(X_train_feature1)\\nprint(X_train_feature2)\\n#X_train = np.stack(X_train_feature1,X_train_feature2)\""
      ]
     },
     "execution_count": 501,
     "metadata": {},
     "output_type": "execute_result"
    }
   ],
   "source": [
    "'''X_train_feature1 = []\n",
    "X_train_feature2 = []\n",
    "for j in range(610):\n",
    "    for i in range(len(target_movies[j])):\n",
    "        if target_movies[j][i] in val_df['movie_id'].values.tolist():\n",
    "            X_train_feature1.append(feature1[i])\n",
    "            X_train_feature2.append(feature2[i])\n",
    "print(X_train_feature1)\n",
    "print(X_train_feature2)\n",
    "#X_train = np.stack(X_train_feature1,X_train_feature2)'''"
   ]
  },
  {
   "cell_type": "markdown",
   "metadata": {},
   "source": [
    "X_train\n",
    "X_test\n",
    "X_val\n",
    "y_train\n",
    "y_test\n",
    "y_val"
   ]
  },
  {
   "cell_type": "code",
   "execution_count": 502,
   "metadata": {
    "ExecuteTime": {
     "end_time": "2020-07-31T15:46:57.931030Z",
     "start_time": "2020-07-31T15:46:57.926043Z"
    }
   },
   "outputs": [],
   "source": [
    "X_train = X\n",
    "X_test = X\n",
    "X_val = X"
   ]
  },
  {
   "cell_type": "code",
   "execution_count": 503,
   "metadata": {
    "ExecuteTime": {
     "end_time": "2020-07-31T15:46:57.945031Z",
     "start_time": "2020-07-31T15:46:57.932027Z"
    }
   },
   "outputs": [],
   "source": [
    "#from sklearn.model_selection import train_test_split\n",
    "#X_train, X_test, y_train, y_test = train_test_split(X, y, test_size=0.2, random_state=1)\n",
    "#X_train, X_val, y_train, y_val = train_test_split(X_train, y_train, test_size=0.2, random_state=1)"
   ]
  },
  {
   "cell_type": "code",
   "execution_count": 504,
   "metadata": {
    "ExecuteTime": {
     "end_time": "2020-07-31T15:47:05.832095Z",
     "start_time": "2020-07-31T15:47:05.825139Z"
    }
   },
   "outputs": [
    {
     "name": "stdout",
     "output_type": "stream",
     "text": [
      "[61000]\n",
      "[61000]\n",
      "[61000]\n"
     ]
    }
   ],
   "source": [
    "query_train = [X_train.shape[0]]\n",
    "query_val = [X_val.shape[0]]\n",
    "query_test = [X_test.shape[0]]\n",
    "group_train = []\n",
    "group_val = []\n",
    "print(query_train)\n",
    "print(query_val)\n",
    "print(query_test)\n",
    "'''\n",
    "for i in range(390):\n",
    "    group_train.append(100)\n",
    "group_train.append(40)\n",
    "group_val.append(60)\n",
    "for i in range(97):\n",
    "    group_val.append(100)'''\n",
    "\n",
    "for i in range(len(num_users)):\n",
    "    group_train.append(k)\n",
    "    group_val.append(k)\n"
   ]
  },
  {
   "cell_type": "code",
   "execution_count": 505,
   "metadata": {
    "ExecuteTime": {
     "end_time": "2020-07-31T15:47:13.935419Z",
     "start_time": "2020-07-31T15:47:13.277179Z"
    },
    "code_folding": []
   },
   "outputs": [
    {
     "name": "stdout",
     "output_type": "stream",
     "text": [
      "[1]\tvalid_0's ndcg@5: 0.216864\tvalid_0's ndcg@10: 0.234568\tvalid_0's ndcg@20: 0.268743\n",
      "Training until validation scores don't improve for 50 rounds\n",
      "[2]\tvalid_0's ndcg@5: 0.215657\tvalid_0's ndcg@10: 0.230413\tvalid_0's ndcg@20: 0.261627\n",
      "[3]\tvalid_0's ndcg@5: 0.210407\tvalid_0's ndcg@10: 0.227663\tvalid_0's ndcg@20: 0.260496\n",
      "[4]\tvalid_0's ndcg@5: 0.214889\tvalid_0's ndcg@10: 0.231872\tvalid_0's ndcg@20: 0.26656\n",
      "[5]\tvalid_0's ndcg@5: 0.212173\tvalid_0's ndcg@10: 0.227453\tvalid_0's ndcg@20: 0.258569\n",
      "[6]\tvalid_0's ndcg@5: 0.213768\tvalid_0's ndcg@10: 0.229492\tvalid_0's ndcg@20: 0.262816\n",
      "[7]\tvalid_0's ndcg@5: 0.215343\tvalid_0's ndcg@10: 0.228504\tvalid_0's ndcg@20: 0.263237\n",
      "[8]\tvalid_0's ndcg@5: 0.211813\tvalid_0's ndcg@10: 0.228224\tvalid_0's ndcg@20: 0.262572\n",
      "[9]\tvalid_0's ndcg@5: 0.215987\tvalid_0's ndcg@10: 0.228029\tvalid_0's ndcg@20: 0.262745\n",
      "[10]\tvalid_0's ndcg@5: 0.211104\tvalid_0's ndcg@10: 0.224759\tvalid_0's ndcg@20: 0.260005\n",
      "[11]\tvalid_0's ndcg@5: 0.211643\tvalid_0's ndcg@10: 0.224753\tvalid_0's ndcg@20: 0.26093\n",
      "[12]\tvalid_0's ndcg@5: 0.213123\tvalid_0's ndcg@10: 0.225291\tvalid_0's ndcg@20: 0.261317\n",
      "[13]\tvalid_0's ndcg@5: 0.219917\tvalid_0's ndcg@10: 0.231093\tvalid_0's ndcg@20: 0.265481\n",
      "[14]\tvalid_0's ndcg@5: 0.211593\tvalid_0's ndcg@10: 0.225072\tvalid_0's ndcg@20: 0.261014\n",
      "[15]\tvalid_0's ndcg@5: 0.210768\tvalid_0's ndcg@10: 0.225963\tvalid_0's ndcg@20: 0.261947\n",
      "[16]\tvalid_0's ndcg@5: 0.212809\tvalid_0's ndcg@10: 0.227836\tvalid_0's ndcg@20: 0.263377\n",
      "[17]\tvalid_0's ndcg@5: 0.214167\tvalid_0's ndcg@10: 0.227734\tvalid_0's ndcg@20: 0.265324\n",
      "[18]\tvalid_0's ndcg@5: 0.219462\tvalid_0's ndcg@10: 0.229445\tvalid_0's ndcg@20: 0.265555\n",
      "[19]\tvalid_0's ndcg@5: 0.214757\tvalid_0's ndcg@10: 0.229227\tvalid_0's ndcg@20: 0.265006\n",
      "[20]\tvalid_0's ndcg@5: 0.213606\tvalid_0's ndcg@10: 0.228505\tvalid_0's ndcg@20: 0.263728\n",
      "[21]\tvalid_0's ndcg@5: 0.21499\tvalid_0's ndcg@10: 0.229801\tvalid_0's ndcg@20: 0.2628\n",
      "[22]\tvalid_0's ndcg@5: 0.21311\tvalid_0's ndcg@10: 0.229937\tvalid_0's ndcg@20: 0.263075\n",
      "[23]\tvalid_0's ndcg@5: 0.216647\tvalid_0's ndcg@10: 0.231093\tvalid_0's ndcg@20: 0.264409\n",
      "[24]\tvalid_0's ndcg@5: 0.212635\tvalid_0's ndcg@10: 0.228372\tvalid_0's ndcg@20: 0.262146\n",
      "[25]\tvalid_0's ndcg@5: 0.213711\tvalid_0's ndcg@10: 0.226054\tvalid_0's ndcg@20: 0.257466\n",
      "[26]\tvalid_0's ndcg@5: 0.211993\tvalid_0's ndcg@10: 0.227471\tvalid_0's ndcg@20: 0.260233\n",
      "[27]\tvalid_0's ndcg@5: 0.214783\tvalid_0's ndcg@10: 0.23042\tvalid_0's ndcg@20: 0.266991\n",
      "[28]\tvalid_0's ndcg@5: 0.208337\tvalid_0's ndcg@10: 0.224041\tvalid_0's ndcg@20: 0.261348\n",
      "[29]\tvalid_0's ndcg@5: 0.214243\tvalid_0's ndcg@10: 0.22643\tvalid_0's ndcg@20: 0.260633\n",
      "[30]\tvalid_0's ndcg@5: 0.208745\tvalid_0's ndcg@10: 0.223451\tvalid_0's ndcg@20: 0.260829\n",
      "[31]\tvalid_0's ndcg@5: 0.210572\tvalid_0's ndcg@10: 0.226543\tvalid_0's ndcg@20: 0.263673\n",
      "[32]\tvalid_0's ndcg@5: 0.208632\tvalid_0's ndcg@10: 0.223659\tvalid_0's ndcg@20: 0.260975\n",
      "[33]\tvalid_0's ndcg@5: 0.208964\tvalid_0's ndcg@10: 0.223475\tvalid_0's ndcg@20: 0.262095\n",
      "[34]\tvalid_0's ndcg@5: 0.212064\tvalid_0's ndcg@10: 0.224959\tvalid_0's ndcg@20: 0.26181\n",
      "[35]\tvalid_0's ndcg@5: 0.206683\tvalid_0's ndcg@10: 0.221627\tvalid_0's ndcg@20: 0.257915\n",
      "[36]\tvalid_0's ndcg@5: 0.212133\tvalid_0's ndcg@10: 0.22664\tvalid_0's ndcg@20: 0.259846\n",
      "[37]\tvalid_0's ndcg@5: 0.206519\tvalid_0's ndcg@10: 0.223795\tvalid_0's ndcg@20: 0.258441\n",
      "[38]\tvalid_0's ndcg@5: 0.207276\tvalid_0's ndcg@10: 0.224257\tvalid_0's ndcg@20: 0.258606\n",
      "[39]\tvalid_0's ndcg@5: 0.208833\tvalid_0's ndcg@10: 0.22504\tvalid_0's ndcg@20: 0.260368\n",
      "[40]\tvalid_0's ndcg@5: 0.21051\tvalid_0's ndcg@10: 0.225499\tvalid_0's ndcg@20: 0.259603\n",
      "[41]\tvalid_0's ndcg@5: 0.20629\tvalid_0's ndcg@10: 0.222512\tvalid_0's ndcg@20: 0.258135\n",
      "[42]\tvalid_0's ndcg@5: 0.209533\tvalid_0's ndcg@10: 0.226515\tvalid_0's ndcg@20: 0.2613\n",
      "[43]\tvalid_0's ndcg@5: 0.205677\tvalid_0's ndcg@10: 0.224426\tvalid_0's ndcg@20: 0.256962\n",
      "[44]\tvalid_0's ndcg@5: 0.205565\tvalid_0's ndcg@10: 0.22197\tvalid_0's ndcg@20: 0.255419\n",
      "[45]\tvalid_0's ndcg@5: 0.209935\tvalid_0's ndcg@10: 0.225217\tvalid_0's ndcg@20: 0.259365\n",
      "[46]\tvalid_0's ndcg@5: 0.206396\tvalid_0's ndcg@10: 0.224015\tvalid_0's ndcg@20: 0.256488\n",
      "[47]\tvalid_0's ndcg@5: 0.210655\tvalid_0's ndcg@10: 0.229354\tvalid_0's ndcg@20: 0.259963\n",
      "[48]\tvalid_0's ndcg@5: 0.206885\tvalid_0's ndcg@10: 0.223849\tvalid_0's ndcg@20: 0.256238\n",
      "[49]\tvalid_0's ndcg@5: 0.211569\tvalid_0's ndcg@10: 0.2256\tvalid_0's ndcg@20: 0.258605\n",
      "[50]\tvalid_0's ndcg@5: 0.206887\tvalid_0's ndcg@10: 0.222896\tvalid_0's ndcg@20: 0.255352\n",
      "[51]\tvalid_0's ndcg@5: 0.205174\tvalid_0's ndcg@10: 0.222176\tvalid_0's ndcg@20: 0.256203\n",
      "Early stopping, best iteration is:\n",
      "[1]\tvalid_0's ndcg@5: 0.216864\tvalid_0's ndcg@10: 0.234568\tvalid_0's ndcg@20: 0.268743\n"
     ]
    },
    {
     "data": {
      "text/plain": [
       "LGBMRanker()"
      ]
     },
     "execution_count": 505,
     "metadata": {},
     "output_type": "execute_result"
    }
   ],
   "source": [
    "gbm.fit(X_train, y_train, group=group_train,\n",
    "        eval_set=[(X_val, y_val)], eval_group=[group_val],\n",
    "        eval_at=[5, 10, 20], early_stopping_rounds=50)"
   ]
  },
  {
   "cell_type": "code",
   "execution_count": 506,
   "metadata": {
    "ExecuteTime": {
     "end_time": "2020-07-31T15:47:29.115928Z",
     "start_time": "2020-07-31T15:47:29.088999Z"
    }
   },
   "outputs": [
    {
     "data": {
      "text/plain": [
       "array([-0.03778906, -0.03778906, -0.03778906, ...,  0.02445745,\n",
       "       -0.03778906,  0.00750042])"
      ]
     },
     "execution_count": 506,
     "metadata": {},
     "output_type": "execute_result"
    }
   ],
   "source": [
    "test_pred = gbm.predict(X_test)\n",
    "test_pred"
   ]
  },
  {
   "cell_type": "markdown",
   "metadata": {},
   "source": [
    "## NDCG Score"
   ]
  },
  {
   "cell_type": "code",
   "execution_count": 507,
   "metadata": {
    "ExecuteTime": {
     "end_time": "2020-07-31T15:47:36.791908Z",
     "start_time": "2020-07-31T15:47:36.784926Z"
    }
   },
   "outputs": [],
   "source": [
    "p = 0\n",
    "m = 100\n",
    "lgbm_pred_per_user = []\n",
    "for i in range(len(num_users)):\n",
    "    lgbm_pred_per_user.append(test_pred[p:m])\n",
    "    p += 100\n",
    "    m += 100"
   ]
  },
  {
   "cell_type": "markdown",
   "metadata": {},
   "source": [
    "### NDCG IFM on this data"
   ]
  },
  {
   "cell_type": "code",
   "execution_count": 508,
   "metadata": {
    "ExecuteTime": {
     "end_time": "2020-07-31T15:47:47.977454Z",
     "start_time": "2020-07-31T15:47:43.804778Z"
    }
   },
   "outputs": [
    {
     "name": "stderr",
     "output_type": "stream",
     "text": [
      "C:\\Users\\papad\\Anaconda3\\lib\\site-packages\\ipykernel_launcher.py:2: RuntimeWarning: invalid value encountered in double_scalars\n",
      "  \n"
     ]
    }
   ],
   "source": [
    "lgbm_NDCG = []\n",
    "IFM_NDCG = []\n",
    "SVD_NDCG = []\n",
    "for i in range(len(num_users)):    \n",
    "    excel_df = pd.DataFrame({'movie_id': target_movies[i],'model1_score':feature1[i], 'model2_score':feature3[i],\n",
    "                             'is_comedy':feature4[i], '#users_watched':feature5[i], \n",
    "                             'train_label':label_train[i], 'test_label':label_test[i],\n",
    "                            'y_val':label_val[i],'LGBM Score':lgbm_pred_per_user[i]})\n",
    "    excel_df = excel_df.sort_values('LGBM Score',ascending = False)\n",
    "    relevance_lgbm_user = excel_df['test_label'].values.tolist()\n",
    "    lgbm_NDCG.append(NDCG_forUser(relevance_lgbm_user))\n",
    "    excel_df = excel_df.sort_values('model1_score',ascending = False)\n",
    "    ifm_relevance = excel_df['test_label'].values.tolist()\n",
    "    IFM_NDCG.append(NDCG_forUser(ifm_relevance))\n",
    "    excel_df = excel_df.sort_values('model2_score',ascending = False)\n",
    "    svd_relevance_h = excel_df['test_label'].values.tolist()\n",
    "    SVD_NDCG.append(NDCG_forUser(svd_relevance_h))"
   ]
  },
  {
   "cell_type": "code",
   "execution_count": 509,
   "metadata": {
    "ExecuteTime": {
     "end_time": "2020-07-31T15:47:55.396809Z",
     "start_time": "2020-07-31T15:47:55.389827Z"
    }
   },
   "outputs": [],
   "source": [
    "lgbm_NDCG = pd.Series(lgbm_NDCG).fillna(0).tolist()\n",
    "IFM_NDCG = pd.Series(IFM_NDCG).fillna(0).tolist()\n",
    "SVD_NDCG = pd.Series(SVD_NDCG).fillna(0).tolist()"
   ]
  },
  {
   "cell_type": "markdown",
   "metadata": {},
   "source": [
    "## Excel-Like"
   ]
  },
  {
   "cell_type": "code",
   "execution_count": 510,
   "metadata": {
    "ExecuteTime": {
     "end_time": "2020-07-31T15:48:03.145076Z",
     "start_time": "2020-07-31T15:48:03.138094Z"
    }
   },
   "outputs": [],
   "source": [
    "excel1_df = pd.DataFrame({'movie_id': target_movies[0],'model1_score':feature1[0], 'model2_score':feature3[0],'is_comedy':feature4[0],\n",
    "                            '#users_watched':feature5[0], 'train_label':label_train[0], 'test_label':label_test[0],\n",
    "                            'label_val':label_val[0],'LGBM Score':lgbm_pred_per_user[0]})"
   ]
  },
  {
   "cell_type": "code",
   "execution_count": 511,
   "metadata": {
    "ExecuteTime": {
     "end_time": "2020-07-31T15:48:11.040712Z",
     "start_time": "2020-07-31T15:48:11.019768Z"
    }
   },
   "outputs": [
    {
     "data": {
      "text/html": [
       "<div>\n",
       "<style scoped>\n",
       "    .dataframe tbody tr th:only-of-type {\n",
       "        vertical-align: middle;\n",
       "    }\n",
       "\n",
       "    .dataframe tbody tr th {\n",
       "        vertical-align: top;\n",
       "    }\n",
       "\n",
       "    .dataframe thead th {\n",
       "        text-align: right;\n",
       "    }\n",
       "</style>\n",
       "<table border=\"1\" class=\"dataframe\">\n",
       "  <thead>\n",
       "    <tr style=\"text-align: right;\">\n",
       "      <th></th>\n",
       "      <th>movie_id</th>\n",
       "      <th>model1_score</th>\n",
       "      <th>model2_score</th>\n",
       "      <th>is_comedy</th>\n",
       "      <th>#users_watched</th>\n",
       "      <th>train_label</th>\n",
       "      <th>test_label</th>\n",
       "      <th>label_val</th>\n",
       "      <th>LGBM Score</th>\n",
       "    </tr>\n",
       "  </thead>\n",
       "  <tbody>\n",
       "    <tr>\n",
       "      <th>0</th>\n",
       "      <td>1</td>\n",
       "      <td>13.602721</td>\n",
       "      <td>0.916138</td>\n",
       "      <td>1</td>\n",
       "      <td>215</td>\n",
       "      <td>0</td>\n",
       "      <td>1</td>\n",
       "      <td>0</td>\n",
       "      <td>-0.037789</td>\n",
       "    </tr>\n",
       "    <tr>\n",
       "      <th>1</th>\n",
       "      <td>6</td>\n",
       "      <td>12.646570</td>\n",
       "      <td>0.816285</td>\n",
       "      <td>0</td>\n",
       "      <td>102</td>\n",
       "      <td>0</td>\n",
       "      <td>0</td>\n",
       "      <td>0</td>\n",
       "      <td>-0.037789</td>\n",
       "    </tr>\n",
       "    <tr>\n",
       "      <th>2</th>\n",
       "      <td>47</td>\n",
       "      <td>13.846380</td>\n",
       "      <td>1.102046</td>\n",
       "      <td>0</td>\n",
       "      <td>203</td>\n",
       "      <td>0</td>\n",
       "      <td>1</td>\n",
       "      <td>0</td>\n",
       "      <td>-0.037789</td>\n",
       "    </tr>\n",
       "    <tr>\n",
       "      <th>3</th>\n",
       "      <td>50</td>\n",
       "      <td>14.534258</td>\n",
       "      <td>1.187676</td>\n",
       "      <td>0</td>\n",
       "      <td>204</td>\n",
       "      <td>0</td>\n",
       "      <td>1</td>\n",
       "      <td>0</td>\n",
       "      <td>0.024457</td>\n",
       "    </tr>\n",
       "    <tr>\n",
       "      <th>4</th>\n",
       "      <td>110</td>\n",
       "      <td>14.716032</td>\n",
       "      <td>1.604992</td>\n",
       "      <td>0</td>\n",
       "      <td>237</td>\n",
       "      <td>0</td>\n",
       "      <td>0</td>\n",
       "      <td>0</td>\n",
       "      <td>0.024457</td>\n",
       "    </tr>\n",
       "    <tr>\n",
       "      <th>5</th>\n",
       "      <td>223</td>\n",
       "      <td>12.857414</td>\n",
       "      <td>0.633817</td>\n",
       "      <td>1</td>\n",
       "      <td>104</td>\n",
       "      <td>0</td>\n",
       "      <td>0</td>\n",
       "      <td>1</td>\n",
       "      <td>-0.037789</td>\n",
       "    </tr>\n",
       "    <tr>\n",
       "      <th>6</th>\n",
       "      <td>231</td>\n",
       "      <td>13.101624</td>\n",
       "      <td>0.679492</td>\n",
       "      <td>1</td>\n",
       "      <td>133</td>\n",
       "      <td>0</td>\n",
       "      <td>0</td>\n",
       "      <td>0</td>\n",
       "      <td>-0.037789</td>\n",
       "    </tr>\n",
       "    <tr>\n",
       "      <th>7</th>\n",
       "      <td>260</td>\n",
       "      <td>14.234202</td>\n",
       "      <td>1.479704</td>\n",
       "      <td>0</td>\n",
       "      <td>251</td>\n",
       "      <td>0</td>\n",
       "      <td>0</td>\n",
       "      <td>0</td>\n",
       "      <td>-0.037789</td>\n",
       "    </tr>\n",
       "    <tr>\n",
       "      <th>8</th>\n",
       "      <td>296</td>\n",
       "      <td>15.058777</td>\n",
       "      <td>1.912166</td>\n",
       "      <td>1</td>\n",
       "      <td>307</td>\n",
       "      <td>0</td>\n",
       "      <td>0</td>\n",
       "      <td>0</td>\n",
       "      <td>-0.037789</td>\n",
       "    </tr>\n",
       "    <tr>\n",
       "      <th>9</th>\n",
       "      <td>316</td>\n",
       "      <td>12.723641</td>\n",
       "      <td>0.871498</td>\n",
       "      <td>0</td>\n",
       "      <td>140</td>\n",
       "      <td>0</td>\n",
       "      <td>0</td>\n",
       "      <td>1</td>\n",
       "      <td>-0.037789</td>\n",
       "    </tr>\n",
       "  </tbody>\n",
       "</table>\n",
       "</div>"
      ],
      "text/plain": [
       "   movie_id  model1_score  model2_score  is_comedy  #users_watched  \\\n",
       "0         1     13.602721      0.916138          1             215   \n",
       "1         6     12.646570      0.816285          0             102   \n",
       "2        47     13.846380      1.102046          0             203   \n",
       "3        50     14.534258      1.187676          0             204   \n",
       "4       110     14.716032      1.604992          0             237   \n",
       "5       223     12.857414      0.633817          1             104   \n",
       "6       231     13.101624      0.679492          1             133   \n",
       "7       260     14.234202      1.479704          0             251   \n",
       "8       296     15.058777      1.912166          1             307   \n",
       "9       316     12.723641      0.871498          0             140   \n",
       "\n",
       "   train_label  test_label  label_val  LGBM Score  \n",
       "0            0           1          0   -0.037789  \n",
       "1            0           0          0   -0.037789  \n",
       "2            0           1          0   -0.037789  \n",
       "3            0           1          0    0.024457  \n",
       "4            0           0          0    0.024457  \n",
       "5            0           0          1   -0.037789  \n",
       "6            0           0          0   -0.037789  \n",
       "7            0           0          0   -0.037789  \n",
       "8            0           0          0   -0.037789  \n",
       "9            0           0          1   -0.037789  "
      ]
     },
     "execution_count": 511,
     "metadata": {},
     "output_type": "execute_result"
    }
   ],
   "source": [
    "excel1_df.head(10)"
   ]
  },
  {
   "cell_type": "code",
   "execution_count": 512,
   "metadata": {
    "ExecuteTime": {
     "end_time": "2020-07-31T15:48:18.485920Z",
     "start_time": "2020-07-31T15:48:18.471957Z"
    }
   },
   "outputs": [
    {
     "data": {
      "text/html": [
       "<div>\n",
       "<style scoped>\n",
       "    .dataframe tbody tr th:only-of-type {\n",
       "        vertical-align: middle;\n",
       "    }\n",
       "\n",
       "    .dataframe tbody tr th {\n",
       "        vertical-align: top;\n",
       "    }\n",
       "\n",
       "    .dataframe thead th {\n",
       "        text-align: right;\n",
       "    }\n",
       "</style>\n",
       "<table border=\"1\" class=\"dataframe\">\n",
       "  <thead>\n",
       "    <tr style=\"text-align: right;\">\n",
       "      <th></th>\n",
       "      <th>movie_id</th>\n",
       "      <th>model1_score</th>\n",
       "      <th>model2_score</th>\n",
       "      <th>is_comedy</th>\n",
       "      <th>#users_watched</th>\n",
       "      <th>train_label</th>\n",
       "      <th>test_label</th>\n",
       "      <th>label_val</th>\n",
       "      <th>LGBM Score</th>\n",
       "    </tr>\n",
       "  </thead>\n",
       "  <tbody>\n",
       "    <tr>\n",
       "      <th>3</th>\n",
       "      <td>50</td>\n",
       "      <td>14.534258</td>\n",
       "      <td>1.187676</td>\n",
       "      <td>0</td>\n",
       "      <td>204</td>\n",
       "      <td>0</td>\n",
       "      <td>1</td>\n",
       "      <td>0</td>\n",
       "      <td>0.024457</td>\n",
       "    </tr>\n",
       "    <tr>\n",
       "      <th>4</th>\n",
       "      <td>110</td>\n",
       "      <td>14.716032</td>\n",
       "      <td>1.604992</td>\n",
       "      <td>0</td>\n",
       "      <td>237</td>\n",
       "      <td>0</td>\n",
       "      <td>0</td>\n",
       "      <td>0</td>\n",
       "      <td>0.024457</td>\n",
       "    </tr>\n",
       "    <tr>\n",
       "      <th>24</th>\n",
       "      <td>736</td>\n",
       "      <td>12.906611</td>\n",
       "      <td>0.717168</td>\n",
       "      <td>0</td>\n",
       "      <td>123</td>\n",
       "      <td>0</td>\n",
       "      <td>0</td>\n",
       "      <td>0</td>\n",
       "      <td>0.019673</td>\n",
       "    </tr>\n",
       "    <tr>\n",
       "      <th>20</th>\n",
       "      <td>593</td>\n",
       "      <td>14.004539</td>\n",
       "      <td>1.874653</td>\n",
       "      <td>0</td>\n",
       "      <td>279</td>\n",
       "      <td>0</td>\n",
       "      <td>0</td>\n",
       "      <td>0</td>\n",
       "      <td>0.019673</td>\n",
       "    </tr>\n",
       "    <tr>\n",
       "      <th>62</th>\n",
       "      <td>150</td>\n",
       "      <td>14.033479</td>\n",
       "      <td>1.139335</td>\n",
       "      <td>0</td>\n",
       "      <td>201</td>\n",
       "      <td>0</td>\n",
       "      <td>0</td>\n",
       "      <td>0</td>\n",
       "      <td>0.019410</td>\n",
       "    </tr>\n",
       "    <tr>\n",
       "      <th>70</th>\n",
       "      <td>10</td>\n",
       "      <td>12.596153</td>\n",
       "      <td>1.119401</td>\n",
       "      <td>0</td>\n",
       "      <td>132</td>\n",
       "      <td>0</td>\n",
       "      <td>0</td>\n",
       "      <td>0</td>\n",
       "      <td>0.019410</td>\n",
       "    </tr>\n",
       "    <tr>\n",
       "      <th>69</th>\n",
       "      <td>594</td>\n",
       "      <td>13.043226</td>\n",
       "      <td>0.517752</td>\n",
       "      <td>0</td>\n",
       "      <td>77</td>\n",
       "      <td>0</td>\n",
       "      <td>0</td>\n",
       "      <td>0</td>\n",
       "      <td>0.019410</td>\n",
       "    </tr>\n",
       "    <tr>\n",
       "      <th>68</th>\n",
       "      <td>589</td>\n",
       "      <td>15.401636</td>\n",
       "      <td>1.537280</td>\n",
       "      <td>0</td>\n",
       "      <td>224</td>\n",
       "      <td>0</td>\n",
       "      <td>0</td>\n",
       "      <td>0</td>\n",
       "      <td>0.019410</td>\n",
       "    </tr>\n",
       "    <tr>\n",
       "      <th>67</th>\n",
       "      <td>410</td>\n",
       "      <td>12.909443</td>\n",
       "      <td>0.579612</td>\n",
       "      <td>1</td>\n",
       "      <td>84</td>\n",
       "      <td>0</td>\n",
       "      <td>0</td>\n",
       "      <td>0</td>\n",
       "      <td>0.019410</td>\n",
       "    </tr>\n",
       "    <tr>\n",
       "      <th>66</th>\n",
       "      <td>380</td>\n",
       "      <td>13.708239</td>\n",
       "      <td>0.890811</td>\n",
       "      <td>1</td>\n",
       "      <td>178</td>\n",
       "      <td>0</td>\n",
       "      <td>0</td>\n",
       "      <td>0</td>\n",
       "      <td>0.019410</td>\n",
       "    </tr>\n",
       "  </tbody>\n",
       "</table>\n",
       "</div>"
      ],
      "text/plain": [
       "    movie_id  model1_score  model2_score  is_comedy  #users_watched  \\\n",
       "3         50     14.534258      1.187676          0             204   \n",
       "4        110     14.716032      1.604992          0             237   \n",
       "24       736     12.906611      0.717168          0             123   \n",
       "20       593     14.004539      1.874653          0             279   \n",
       "62       150     14.033479      1.139335          0             201   \n",
       "70        10     12.596153      1.119401          0             132   \n",
       "69       594     13.043226      0.517752          0              77   \n",
       "68       589     15.401636      1.537280          0             224   \n",
       "67       410     12.909443      0.579612          1              84   \n",
       "66       380     13.708239      0.890811          1             178   \n",
       "\n",
       "    train_label  test_label  label_val  LGBM Score  \n",
       "3             0           1          0    0.024457  \n",
       "4             0           0          0    0.024457  \n",
       "24            0           0          0    0.019673  \n",
       "20            0           0          0    0.019673  \n",
       "62            0           0          0    0.019410  \n",
       "70            0           0          0    0.019410  \n",
       "69            0           0          0    0.019410  \n",
       "68            0           0          0    0.019410  \n",
       "67            0           0          0    0.019410  \n",
       "66            0           0          0    0.019410  "
      ]
     },
     "execution_count": 512,
     "metadata": {},
     "output_type": "execute_result"
    }
   ],
   "source": [
    "excel1_df = excel1_df.sort_values('LGBM Score',ascending = False)\n",
    "excel1_df.head(10)"
   ]
  },
  {
   "cell_type": "code",
   "execution_count": 513,
   "metadata": {
    "ExecuteTime": {
     "end_time": "2020-07-31T15:48:25.499762Z",
     "start_time": "2020-07-31T15:48:25.494776Z"
    }
   },
   "outputs": [],
   "source": [
    "relevance_lgbm_firstUser = excel1_df['test_label'].values.tolist()"
   ]
  },
  {
   "cell_type": "code",
   "execution_count": 514,
   "metadata": {
    "ExecuteTime": {
     "end_time": "2020-07-31T15:48:33.427349Z",
     "start_time": "2020-07-31T15:48:33.420411Z"
    }
   },
   "outputs": [
    {
     "data": {
      "text/plain": [
       "0.5643231994672063"
      ]
     },
     "execution_count": 514,
     "metadata": {},
     "output_type": "execute_result"
    }
   ],
   "source": [
    "L1GBM_ndcg = NDCG_forUser(relevance_lgbm_firstUser)\n",
    "L1GBM_ndcg"
   ]
  },
  {
   "cell_type": "markdown",
   "metadata": {},
   "source": [
    "## NDCG Comparison"
   ]
  },
  {
   "cell_type": "code",
   "execution_count": 515,
   "metadata": {
    "ExecuteTime": {
     "end_time": "2020-07-31T15:48:40.786301Z",
     "start_time": "2020-07-31T15:48:40.782276Z"
    }
   },
   "outputs": [
    {
     "data": {
      "text/plain": [
       "0.7854830396072905"
      ]
     },
     "execution_count": 515,
     "metadata": {},
     "output_type": "execute_result"
    }
   ],
   "source": [
    "allUsers_implicit_ndcg[0]"
   ]
  },
  {
   "cell_type": "code",
   "execution_count": 516,
   "metadata": {
    "ExecuteTime": {
     "end_time": "2020-07-31T15:48:48.188257Z",
     "start_time": "2020-07-31T15:48:48.182310Z"
    }
   },
   "outputs": [],
   "source": [
    "ndcg_df = pd.DataFrame({'Implicit FM': allUsers_implicit_ndcg, 'LightGBM': lgbm_NDCG, 'IFM_this': IFM_NDCG,\n",
    "                        'SVD_this': SVD_NDCG})"
   ]
  },
  {
   "cell_type": "code",
   "execution_count": 517,
   "metadata": {
    "ExecuteTime": {
     "end_time": "2020-07-31T15:48:55.165369Z",
     "start_time": "2020-07-31T15:48:55.154399Z"
    }
   },
   "outputs": [
    {
     "data": {
      "text/html": [
       "<div>\n",
       "<style scoped>\n",
       "    .dataframe tbody tr th:only-of-type {\n",
       "        vertical-align: middle;\n",
       "    }\n",
       "\n",
       "    .dataframe tbody tr th {\n",
       "        vertical-align: top;\n",
       "    }\n",
       "\n",
       "    .dataframe thead th {\n",
       "        text-align: right;\n",
       "    }\n",
       "</style>\n",
       "<table border=\"1\" class=\"dataframe\">\n",
       "  <thead>\n",
       "    <tr style=\"text-align: right;\">\n",
       "      <th></th>\n",
       "      <th>Implicit FM</th>\n",
       "      <th>LightGBM</th>\n",
       "      <th>IFM_this</th>\n",
       "      <th>SVD_this</th>\n",
       "    </tr>\n",
       "  </thead>\n",
       "  <tbody>\n",
       "    <tr>\n",
       "      <th>0</th>\n",
       "      <td>0.785483</td>\n",
       "      <td>0.564323</td>\n",
       "      <td>0.501809</td>\n",
       "      <td>0.517804</td>\n",
       "    </tr>\n",
       "    <tr>\n",
       "      <th>1</th>\n",
       "      <td>0.227654</td>\n",
       "      <td>0.270123</td>\n",
       "      <td>0.330597</td>\n",
       "      <td>0.390485</td>\n",
       "    </tr>\n",
       "    <tr>\n",
       "      <th>2</th>\n",
       "      <td>0.000000</td>\n",
       "      <td>0.000000</td>\n",
       "      <td>0.000000</td>\n",
       "      <td>0.000000</td>\n",
       "    </tr>\n",
       "    <tr>\n",
       "      <th>3</th>\n",
       "      <td>0.298474</td>\n",
       "      <td>0.203607</td>\n",
       "      <td>0.191950</td>\n",
       "      <td>0.241947</td>\n",
       "    </tr>\n",
       "    <tr>\n",
       "      <th>4</th>\n",
       "      <td>0.480827</td>\n",
       "      <td>0.389051</td>\n",
       "      <td>0.584628</td>\n",
       "      <td>0.535911</td>\n",
       "    </tr>\n",
       "    <tr>\n",
       "      <th>...</th>\n",
       "      <td>...</td>\n",
       "      <td>...</td>\n",
       "      <td>...</td>\n",
       "      <td>...</td>\n",
       "    </tr>\n",
       "    <tr>\n",
       "      <th>605</th>\n",
       "      <td>0.471128</td>\n",
       "      <td>0.565868</td>\n",
       "      <td>0.538780</td>\n",
       "      <td>0.355275</td>\n",
       "    </tr>\n",
       "    <tr>\n",
       "      <th>606</th>\n",
       "      <td>0.351334</td>\n",
       "      <td>0.257486</td>\n",
       "      <td>0.345140</td>\n",
       "      <td>0.466659</td>\n",
       "    </tr>\n",
       "    <tr>\n",
       "      <th>607</th>\n",
       "      <td>0.495156</td>\n",
       "      <td>0.602249</td>\n",
       "      <td>0.585943</td>\n",
       "      <td>0.682781</td>\n",
       "    </tr>\n",
       "    <tr>\n",
       "      <th>608</th>\n",
       "      <td>0.173765</td>\n",
       "      <td>0.164851</td>\n",
       "      <td>0.150515</td>\n",
       "      <td>0.333333</td>\n",
       "    </tr>\n",
       "    <tr>\n",
       "      <th>609</th>\n",
       "      <td>0.535301</td>\n",
       "      <td>0.602082</td>\n",
       "      <td>0.714251</td>\n",
       "      <td>0.446165</td>\n",
       "    </tr>\n",
       "  </tbody>\n",
       "</table>\n",
       "<p>610 rows × 4 columns</p>\n",
       "</div>"
      ],
      "text/plain": [
       "     Implicit FM  LightGBM  IFM_this  SVD_this\n",
       "0       0.785483  0.564323  0.501809  0.517804\n",
       "1       0.227654  0.270123  0.330597  0.390485\n",
       "2       0.000000  0.000000  0.000000  0.000000\n",
       "3       0.298474  0.203607  0.191950  0.241947\n",
       "4       0.480827  0.389051  0.584628  0.535911\n",
       "..           ...       ...       ...       ...\n",
       "605     0.471128  0.565868  0.538780  0.355275\n",
       "606     0.351334  0.257486  0.345140  0.466659\n",
       "607     0.495156  0.602249  0.585943  0.682781\n",
       "608     0.173765  0.164851  0.150515  0.333333\n",
       "609     0.535301  0.602082  0.714251  0.446165\n",
       "\n",
       "[610 rows x 4 columns]"
      ]
     },
     "execution_count": 517,
     "metadata": {},
     "output_type": "execute_result"
    }
   ],
   "source": [
    "ndcg_df"
   ]
  },
  {
   "cell_type": "code",
   "execution_count": 518,
   "metadata": {
    "ExecuteTime": {
     "end_time": "2020-07-31T15:49:02.489524Z",
     "start_time": "2020-07-31T15:49:02.484535Z"
    }
   },
   "outputs": [
    {
     "data": {
      "text/plain": [
       "0.34381122542186254"
      ]
     },
     "execution_count": 518,
     "metadata": {},
     "output_type": "execute_result"
    }
   ],
   "source": [
    "ndcg_df['Implicit FM'].mean()"
   ]
  },
  {
   "cell_type": "code",
   "execution_count": 519,
   "metadata": {
    "ExecuteTime": {
     "end_time": "2020-07-31T15:49:09.568754Z",
     "start_time": "2020-07-31T15:49:09.562769Z"
    }
   },
   "outputs": [
    {
     "data": {
      "text/plain": [
       "0.31439343954333926"
      ]
     },
     "execution_count": 519,
     "metadata": {},
     "output_type": "execute_result"
    }
   ],
   "source": [
    "ndcg_df['LightGBM'].mean()"
   ]
  },
  {
   "cell_type": "code",
   "execution_count": 520,
   "metadata": {
    "ExecuteTime": {
     "end_time": "2020-07-31T15:49:16.736829Z",
     "start_time": "2020-07-31T15:49:16.731837Z"
    }
   },
   "outputs": [
    {
     "data": {
      "text/plain": [
       "0.35748160457983297"
      ]
     },
     "execution_count": 520,
     "metadata": {},
     "output_type": "execute_result"
    }
   ],
   "source": [
    "ndcg_df['IFM_this'].mean()"
   ]
  },
  {
   "cell_type": "code",
   "execution_count": 521,
   "metadata": {
    "ExecuteTime": {
     "end_time": "2020-07-31T15:49:23.958429Z",
     "start_time": "2020-07-31T15:49:23.952442Z"
    }
   },
   "outputs": [
    {
     "data": {
      "text/plain": [
       "0.37670919936453456"
      ]
     },
     "execution_count": 521,
     "metadata": {},
     "output_type": "execute_result"
    }
   ],
   "source": [
    "ndcg_df['SVD_this'].mean()"
   ]
  },
  {
   "cell_type": "markdown",
   "metadata": {},
   "source": [
    "Feature ideas\n",
    "1. Rank (rankdata from recsys project, array-n -> returns array-n containing results ->1,2,3 -> 1 is the best)\n",
    "2. Negative samples (random-k) (now I train it only on high relevance)\n",
    "3. Feature importances (plot)"
   ]
  },
  {
   "cell_type": "markdown",
   "metadata": {},
   "source": [
    "# Draft"
   ]
  },
  {
   "cell_type": "code",
   "execution_count": null,
   "metadata": {},
   "outputs": [],
   "source": [
    "from sklearn.metrics import dcg_score\n",
    "true = np.asarray([actual])\n",
    "pred = np.asarray([predicted_rank_svd])\n",
    "dcg = dcg_score(true,pred)\n",
    "idcg = dcg_score(true,true)\n",
    "ndcg = dcg/idcg"
   ]
  },
  {
   "cell_type": "code",
   "execution_count": null,
   "metadata": {},
   "outputs": [],
   "source": [
    "ndcg"
   ]
  },
  {
   "cell_type": "code",
   "execution_count": null,
   "metadata": {},
   "outputs": [],
   "source": [
    "from sklearn.metrics import ndcg_score\n",
    "n = ndcg_score(true,pred)\n",
    "n"
   ]
  },
  {
   "cell_type": "code",
   "execution_count": null,
   "metadata": {},
   "outputs": [],
   "source": [
    "'''relevance = []\n",
    "for i in range(20,40):\n",
    "    if predicted_rank_svd[i] in actual:\n",
    "        relevance.append(1)\n",
    "    else:\n",
    "        relevance.append(0)'''"
   ]
  },
  {
   "cell_type": "code",
   "execution_count": 281,
   "metadata": {},
   "outputs": [],
   "source": [
    "svd_rank_allUsers = []\n",
    "for i in range(1,len(num_users)+1):\n",
    "    already_rated, predictions = recommend_movies(svd_predictions_score_df, i, movies_df, ratings_df, 100)\n",
    "    svd_rank_allUsers.append(predictions['movieId'].index.tolist()) \n"
   ]
  },
  {
   "cell_type": "code",
   "execution_count": null,
   "metadata": {},
   "outputs": [],
   "source": [
    "'''def NDCG_forUser_SVD(user):\n",
    "    return dcg(svd_predictions[svd_predictions_df.index == user]) / ideal_dcg(svd_predictions[svd_predictions_df.index == user])'''"
   ]
  },
  {
   "cell_type": "code",
   "execution_count": null,
   "metadata": {},
   "outputs": [],
   "source": [
    "'''NDCG_SVD = NDCG_forUser_SVD(2)'''"
   ]
  },
  {
   "cell_type": "code",
   "execution_count": null,
   "metadata": {},
   "outputs": [],
   "source": [
    "'''NDCG_SVD'''"
   ]
  },
  {
   "cell_type": "markdown",
   "metadata": {},
   "source": [
    "Take as features the predicted ratings for the users of SVD and Implicit for the next step?"
   ]
  },
  {
   "cell_type": "markdown",
   "metadata": {},
   "source": [
    "## Embeddings "
   ]
  },
  {
   "cell_type": "code",
   "execution_count": 413,
   "metadata": {
    "ExecuteTime": {
     "end_time": "2020-07-31T15:27:29.761166Z",
     "start_time": "2020-07-31T15:27:29.756179Z"
    }
   },
   "outputs": [
    {
     "data": {
      "text/plain": [
       "'emb = emb.tolist()\\nprint(len(emb))'"
      ]
     },
     "execution_count": 413,
     "metadata": {},
     "output_type": "execute_result"
    }
   ],
   "source": [
    "emb = implicit_model._net.item_embeddings.num_embeddings\n",
    "emb\n",
    "'''emb = emb.tolist()\n",
    "print(len(emb))'''"
   ]
  },
  {
   "cell_type": "code",
   "execution_count": 414,
   "metadata": {
    "ExecuteTime": {
     "end_time": "2020-07-31T15:27:36.942818Z",
     "start_time": "2020-07-31T15:27:36.938956Z"
    }
   },
   "outputs": [
    {
     "data": {
      "text/plain": [
       "9725"
      ]
     },
     "execution_count": 414,
     "metadata": {},
     "output_type": "execute_result"
    }
   ],
   "source": [
    "emb"
   ]
  },
  {
   "cell_type": "code",
   "execution_count": null,
   "metadata": {},
   "outputs": [],
   "source": []
  },
  {
   "cell_type": "code",
   "execution_count": null,
   "metadata": {},
   "outputs": [],
   "source": []
  },
  {
   "cell_type": "markdown",
   "metadata": {},
   "source": [
    "## KNN"
   ]
  },
  {
   "cell_type": "markdown",
   "metadata": {},
   "source": [
    "Pivot is used to have a matrix that has as rows the userIDs and as columns the movieIDs. The unrated, by a user, movies are assigned the value 0 instead of null. Pivot organizes a DataFrame by giving index and column values. It is helpful in the recommender systems approach."
   ]
  },
  {
   "cell_type": "code",
   "execution_count": null,
   "metadata": {},
   "outputs": [],
   "source": [
    "df_movie_features = ratings_df.pivot(\n",
    "    index='userId',\n",
    "    columns='movieId',\n",
    "    values='rating'\n",
    ").fillna(0)"
   ]
  },
  {
   "cell_type": "code",
   "execution_count": null,
   "metadata": {},
   "outputs": [],
   "source": [
    "df_movie_features"
   ]
  },
  {
   "cell_type": "code",
   "execution_count": null,
   "metadata": {},
   "outputs": [],
   "source": [
    "height = [len(df_movie_features.values[df_movie_features.values== 0]),len(df_movie_features.values[df_movie_features.values==0.5]),\n",
    "          len(df_movie_features.values[df_movie_features.values== 1]),len(df_movie_features.values[df_movie_features.values==1.5]),\n",
    "          len(df_movie_features.values[df_movie_features.values== 2]),len(df_movie_features.values[df_movie_features.values==2.5]),\n",
    "          len(df_movie_features.values[df_movie_features.values== 3]),len(df_movie_features.values[df_movie_features.values==3.5]),\n",
    "          len(df_movie_features.values[df_movie_features.values== 4]),len(df_movie_features.values[df_movie_features.values==4.5]),\n",
    "          len(df_movie_features.values[df_movie_features.values== 5])]\n",
    "x = ('0','0.5', '1','1.5' ,'2','2.5', '3','3.5', '4','4.5','5')\n",
    "plt.bar(x, height)\n",
    "plt.xlabel('Rating')\n",
    "plt.ylabel('Number of users')\n",
    "plt.show()\n"
   ]
  },
  {
   "cell_type": "markdown",
   "metadata": {},
   "source": [
    "A lot of ratings in the user-movie matrix are zero, so the data are extremely sparse."
   ]
  },
  {
   "cell_type": "markdown",
   "metadata": {},
   "source": [
    "To makes sesne the idea of obtaining the taste of the users, they should have rated at least 20 movies. Otherwise, the taste of them is not clear. The users that have rated less than 20 movies will be excluded. Also the movies that have less than 20 ratings will be excluded too."
   ]
  },
  {
   "cell_type": "code",
   "execution_count": null,
   "metadata": {},
   "outputs": [],
   "source": [
    "popularity_thres = 20\n",
    "popular_movies = list(set(df_movies_cnt.query('count >= @popularity_thres').index))\n",
    "df_ratings_drop_movies = df_ratings[df_ratings.movieId.isin(popular_movies)]\n",
    "print('shape of original ratings data: ', df_ratings.shape)\n",
    "print('shape of ratings data after dropping unpopular movies: ', df_ratings_drop_movies.shape)\n",
    "# filter data to come to an approximation of user likings.\n",
    "ratings_thres = 20\n",
    "active_users = list(set(df_users_cnt.query('count >= @ratings_thres').index))\n",
    "df_ratings_drop_users = df_ratings_drop_movies[df_ratings_drop_movies.userId.isin(active_users)]\n",
    "print('shape of original ratings data: ', df_ratings.shape)\n",
    "print('shape of ratings data after dropping both unpopular movies and inactive users: ', df_ratings_drop_users.shape)"
   ]
  },
  {
   "cell_type": "code",
   "execution_count": null,
   "metadata": {},
   "outputs": [],
   "source": [
    "with pd.option_context('display.max_rows', None, 'display.max_columns', None):  # more options can be specified also\n",
    "    print(ratings_df)"
   ]
  },
  {
   "cell_type": "code",
   "execution_count": null,
   "metadata": {},
   "outputs": [],
   "source": [
    "ratings_df[24400:24450]"
   ]
  },
  {
   "cell_type": "code",
   "execution_count": null,
   "metadata": {},
   "outputs": [],
   "source": []
  },
  {
   "cell_type": "code",
   "execution_count": null,
   "metadata": {},
   "outputs": [],
   "source": []
  }
 ],
 "metadata": {
  "kernelspec": {
   "display_name": "Python 3",
   "language": "python",
   "name": "python3"
  },
  "language_info": {
   "codemirror_mode": {
    "name": "ipython",
    "version": 3
   },
   "file_extension": ".py",
   "mimetype": "text/x-python",
   "name": "python",
   "nbconvert_exporter": "python",
   "pygments_lexer": "ipython3",
   "version": "3.7.7"
  },
  "toc": {
   "base_numbering": 1,
   "nav_menu": {},
   "number_sections": true,
   "sideBar": true,
   "skip_h1_title": false,
   "title_cell": "Table of Contents",
   "title_sidebar": "Contents",
   "toc_cell": false,
   "toc_position": {
    "height": "calc(100% - 180px)",
    "left": "10px",
    "top": "150px",
    "width": "303.2px"
   },
   "toc_section_display": true,
   "toc_window_display": true
  },
  "varInspector": {
   "cols": {
    "lenName": 16,
    "lenType": 16,
    "lenVar": 40
   },
   "kernels_config": {
    "python": {
     "delete_cmd_postfix": "",
     "delete_cmd_prefix": "del ",
     "library": "var_list.py",
     "varRefreshCmd": "print(var_dic_list())"
    },
    "r": {
     "delete_cmd_postfix": ") ",
     "delete_cmd_prefix": "rm(",
     "library": "var_list.r",
     "varRefreshCmd": "cat(var_dic_list()) "
    }
   },
   "position": {
    "height": "200.4px",
    "left": "1102px",
    "right": "20px",
    "top": "24px",
    "width": "433px"
   },
   "types_to_exclude": [
    "module",
    "function",
    "builtin_function_or_method",
    "instance",
    "_Feature"
   ],
   "window_display": false
  }
 },
 "nbformat": 4,
 "nbformat_minor": 2
}
