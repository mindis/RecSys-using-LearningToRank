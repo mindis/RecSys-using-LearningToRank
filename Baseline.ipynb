{
 "cells": [
  {
   "cell_type": "code",
   "execution_count": 1,
   "metadata": {},
   "outputs": [],
   "source": [
    "%config IPCompleter.greedy=True"
   ]
  },
  {
   "cell_type": "code",
   "execution_count": 2,
   "metadata": {},
   "outputs": [],
   "source": [
    "import pandas as pd\n",
    "import numpy as np\n",
    "import matplotlib.pyplot as plt\n",
    "from spotlight.factorization.implicit import ImplicitFactorizationModel\n",
    "from spotlight.interactions import Interactions\n",
    "from spotlight.cross_validation import random_train_test_split"
   ]
  },
  {
   "cell_type": "code",
   "execution_count": 3,
   "metadata": {},
   "outputs": [],
   "source": [
    "ratings_df = pd.read_csv('C:/Users/papad/Desktop/ml-latest-small/ml-latest-small/ratings.csv')\n",
    "movies_df = pd.read_csv('C:/Users/papad/Desktop/ml-latest-small/ml-latest-small/movies.csv')\n",
    "tags_df = pd.read_csv('C:/Users/papad/Desktop/ml-latest-small/ml-latest-small/tags.csv')\n",
    "links_df = pd.read_csv('C:/Users/papad/Desktop/ml-latest-small/ml-latest-small/links.csv')"
   ]
  },
  {
   "cell_type": "markdown",
   "metadata": {},
   "source": [
    "### Dataset"
   ]
  },
  {
   "cell_type": "code",
   "execution_count": 4,
   "metadata": {},
   "outputs": [
    {
     "data": {
      "text/html": [
       "<div>\n",
       "<style scoped>\n",
       "    .dataframe tbody tr th:only-of-type {\n",
       "        vertical-align: middle;\n",
       "    }\n",
       "\n",
       "    .dataframe tbody tr th {\n",
       "        vertical-align: top;\n",
       "    }\n",
       "\n",
       "    .dataframe thead th {\n",
       "        text-align: right;\n",
       "    }\n",
       "</style>\n",
       "<table border=\"1\" class=\"dataframe\">\n",
       "  <thead>\n",
       "    <tr style=\"text-align: right;\">\n",
       "      <th></th>\n",
       "      <th>movieId</th>\n",
       "      <th>title</th>\n",
       "      <th>genres</th>\n",
       "    </tr>\n",
       "  </thead>\n",
       "  <tbody>\n",
       "    <tr>\n",
       "      <th>0</th>\n",
       "      <td>1</td>\n",
       "      <td>Toy Story (1995)</td>\n",
       "      <td>Adventure|Animation|Children|Comedy|Fantasy</td>\n",
       "    </tr>\n",
       "    <tr>\n",
       "      <th>1</th>\n",
       "      <td>2</td>\n",
       "      <td>Jumanji (1995)</td>\n",
       "      <td>Adventure|Children|Fantasy</td>\n",
       "    </tr>\n",
       "    <tr>\n",
       "      <th>2</th>\n",
       "      <td>3</td>\n",
       "      <td>Grumpier Old Men (1995)</td>\n",
       "      <td>Comedy|Romance</td>\n",
       "    </tr>\n",
       "    <tr>\n",
       "      <th>3</th>\n",
       "      <td>4</td>\n",
       "      <td>Waiting to Exhale (1995)</td>\n",
       "      <td>Comedy|Drama|Romance</td>\n",
       "    </tr>\n",
       "    <tr>\n",
       "      <th>4</th>\n",
       "      <td>5</td>\n",
       "      <td>Father of the Bride Part II (1995)</td>\n",
       "      <td>Comedy</td>\n",
       "    </tr>\n",
       "    <tr>\n",
       "      <th>...</th>\n",
       "      <td>...</td>\n",
       "      <td>...</td>\n",
       "      <td>...</td>\n",
       "    </tr>\n",
       "    <tr>\n",
       "      <th>9737</th>\n",
       "      <td>193581</td>\n",
       "      <td>Black Butler: Book of the Atlantic (2017)</td>\n",
       "      <td>Action|Animation|Comedy|Fantasy</td>\n",
       "    </tr>\n",
       "    <tr>\n",
       "      <th>9738</th>\n",
       "      <td>193583</td>\n",
       "      <td>No Game No Life: Zero (2017)</td>\n",
       "      <td>Animation|Comedy|Fantasy</td>\n",
       "    </tr>\n",
       "    <tr>\n",
       "      <th>9739</th>\n",
       "      <td>193585</td>\n",
       "      <td>Flint (2017)</td>\n",
       "      <td>Drama</td>\n",
       "    </tr>\n",
       "    <tr>\n",
       "      <th>9740</th>\n",
       "      <td>193587</td>\n",
       "      <td>Bungo Stray Dogs: Dead Apple (2018)</td>\n",
       "      <td>Action|Animation</td>\n",
       "    </tr>\n",
       "    <tr>\n",
       "      <th>9741</th>\n",
       "      <td>193609</td>\n",
       "      <td>Andrew Dice Clay: Dice Rules (1991)</td>\n",
       "      <td>Comedy</td>\n",
       "    </tr>\n",
       "  </tbody>\n",
       "</table>\n",
       "<p>9742 rows × 3 columns</p>\n",
       "</div>"
      ],
      "text/plain": [
       "      movieId                                      title  \\\n",
       "0           1                           Toy Story (1995)   \n",
       "1           2                             Jumanji (1995)   \n",
       "2           3                    Grumpier Old Men (1995)   \n",
       "3           4                   Waiting to Exhale (1995)   \n",
       "4           5         Father of the Bride Part II (1995)   \n",
       "...       ...                                        ...   \n",
       "9737   193581  Black Butler: Book of the Atlantic (2017)   \n",
       "9738   193583               No Game No Life: Zero (2017)   \n",
       "9739   193585                               Flint (2017)   \n",
       "9740   193587        Bungo Stray Dogs: Dead Apple (2018)   \n",
       "9741   193609        Andrew Dice Clay: Dice Rules (1991)   \n",
       "\n",
       "                                           genres  \n",
       "0     Adventure|Animation|Children|Comedy|Fantasy  \n",
       "1                      Adventure|Children|Fantasy  \n",
       "2                                  Comedy|Romance  \n",
       "3                            Comedy|Drama|Romance  \n",
       "4                                          Comedy  \n",
       "...                                           ...  \n",
       "9737              Action|Animation|Comedy|Fantasy  \n",
       "9738                     Animation|Comedy|Fantasy  \n",
       "9739                                        Drama  \n",
       "9740                             Action|Animation  \n",
       "9741                                       Comedy  \n",
       "\n",
       "[9742 rows x 3 columns]"
      ]
     },
     "execution_count": 4,
     "metadata": {},
     "output_type": "execute_result"
    }
   ],
   "source": [
    "movies_df"
   ]
  },
  {
   "cell_type": "code",
   "execution_count": 5,
   "metadata": {},
   "outputs": [
    {
     "data": {
      "text/html": [
       "<div>\n",
       "<style scoped>\n",
       "    .dataframe tbody tr th:only-of-type {\n",
       "        vertical-align: middle;\n",
       "    }\n",
       "\n",
       "    .dataframe tbody tr th {\n",
       "        vertical-align: top;\n",
       "    }\n",
       "\n",
       "    .dataframe thead th {\n",
       "        text-align: right;\n",
       "    }\n",
       "</style>\n",
       "<table border=\"1\" class=\"dataframe\">\n",
       "  <thead>\n",
       "    <tr style=\"text-align: right;\">\n",
       "      <th></th>\n",
       "      <th>userId</th>\n",
       "      <th>movieId</th>\n",
       "      <th>rating</th>\n",
       "      <th>timestamp</th>\n",
       "    </tr>\n",
       "  </thead>\n",
       "  <tbody>\n",
       "    <tr>\n",
       "      <th>0</th>\n",
       "      <td>1</td>\n",
       "      <td>1</td>\n",
       "      <td>4.0</td>\n",
       "      <td>964982703</td>\n",
       "    </tr>\n",
       "    <tr>\n",
       "      <th>1</th>\n",
       "      <td>1</td>\n",
       "      <td>3</td>\n",
       "      <td>4.0</td>\n",
       "      <td>964981247</td>\n",
       "    </tr>\n",
       "    <tr>\n",
       "      <th>2</th>\n",
       "      <td>1</td>\n",
       "      <td>6</td>\n",
       "      <td>4.0</td>\n",
       "      <td>964982224</td>\n",
       "    </tr>\n",
       "    <tr>\n",
       "      <th>3</th>\n",
       "      <td>1</td>\n",
       "      <td>47</td>\n",
       "      <td>5.0</td>\n",
       "      <td>964983815</td>\n",
       "    </tr>\n",
       "    <tr>\n",
       "      <th>4</th>\n",
       "      <td>1</td>\n",
       "      <td>50</td>\n",
       "      <td>5.0</td>\n",
       "      <td>964982931</td>\n",
       "    </tr>\n",
       "    <tr>\n",
       "      <th>...</th>\n",
       "      <td>...</td>\n",
       "      <td>...</td>\n",
       "      <td>...</td>\n",
       "      <td>...</td>\n",
       "    </tr>\n",
       "    <tr>\n",
       "      <th>100831</th>\n",
       "      <td>610</td>\n",
       "      <td>166534</td>\n",
       "      <td>4.0</td>\n",
       "      <td>1493848402</td>\n",
       "    </tr>\n",
       "    <tr>\n",
       "      <th>100832</th>\n",
       "      <td>610</td>\n",
       "      <td>168248</td>\n",
       "      <td>5.0</td>\n",
       "      <td>1493850091</td>\n",
       "    </tr>\n",
       "    <tr>\n",
       "      <th>100833</th>\n",
       "      <td>610</td>\n",
       "      <td>168250</td>\n",
       "      <td>5.0</td>\n",
       "      <td>1494273047</td>\n",
       "    </tr>\n",
       "    <tr>\n",
       "      <th>100834</th>\n",
       "      <td>610</td>\n",
       "      <td>168252</td>\n",
       "      <td>5.0</td>\n",
       "      <td>1493846352</td>\n",
       "    </tr>\n",
       "    <tr>\n",
       "      <th>100835</th>\n",
       "      <td>610</td>\n",
       "      <td>170875</td>\n",
       "      <td>3.0</td>\n",
       "      <td>1493846415</td>\n",
       "    </tr>\n",
       "  </tbody>\n",
       "</table>\n",
       "<p>100836 rows × 4 columns</p>\n",
       "</div>"
      ],
      "text/plain": [
       "        userId  movieId  rating   timestamp\n",
       "0            1        1     4.0   964982703\n",
       "1            1        3     4.0   964981247\n",
       "2            1        6     4.0   964982224\n",
       "3            1       47     5.0   964983815\n",
       "4            1       50     5.0   964982931\n",
       "...        ...      ...     ...         ...\n",
       "100831     610   166534     4.0  1493848402\n",
       "100832     610   168248     5.0  1493850091\n",
       "100833     610   168250     5.0  1494273047\n",
       "100834     610   168252     5.0  1493846352\n",
       "100835     610   170875     3.0  1493846415\n",
       "\n",
       "[100836 rows x 4 columns]"
      ]
     },
     "execution_count": 5,
     "metadata": {},
     "output_type": "execute_result"
    }
   ],
   "source": [
    "ratings_df"
   ]
  },
  {
   "cell_type": "code",
   "execution_count": 6,
   "metadata": {},
   "outputs": [
    {
     "name": "stdout",
     "output_type": "stream",
     "text": [
      "610\n",
      "9724\n"
     ]
    }
   ],
   "source": [
    "num_users = ratings_df['userId'].unique()\n",
    "print(len(num_users))\n",
    "num_items = ratings_df['movieId'].unique()\n",
    "print(len(num_items))"
   ]
  },
  {
   "cell_type": "markdown",
   "metadata": {},
   "source": [
    "# Spotlight"
   ]
  },
  {
   "cell_type": "markdown",
   "metadata": {},
   "source": [
    "### Data preperation for Spotlight"
   ]
  },
  {
   "cell_type": "markdown",
   "metadata": {},
   "source": [
    "The ids are not consecutive. For examples the id of a movies is shown multiple times. For this reason the procedure below is implemented. The reversed map is still saved to be used if needed."
   ]
  },
  {
   "cell_type": "code",
   "execution_count": 7,
   "metadata": {},
   "outputs": [
    {
     "name": "stdout",
     "output_type": "stream",
     "text": [
      "userId 556 got uid 555\n",
      "movieId 54001 got iid 2518\n"
     ]
    }
   ],
   "source": [
    "from collections import defaultdict\n",
    "from itertools import count\n",
    "\n",
    "uid_map = defaultdict(count().__next__)\n",
    "iid_map = defaultdict(count().__next__)\n",
    "uids = np.array([uid_map[uid] for uid in ratings_df[\"userId\"].values ], dtype=np.int32)\n",
    "iids = np.array([iid_map[iid] for iid in ratings_df[\"movieId\"].values ], dtype=np.int32)\n",
    "\n",
    "uid_rev_map = {v: k for k, v in uid_map.items()}\n",
    "iid_rev_map = {v: k for k, v in iid_map.items()}\n",
    "\n",
    "ratings = ratings_df[\"rating\"].values.astype(np.float32)\n",
    "timestamps = ratings_df[\"timestamp\"].values.astype(np.int32)\n",
    "\n",
    "print(\"userId %d got uid %d\" % (556, uid_map[556]))\n",
    "print(\"movieId %d got iid %d\" % (54001, iid_map[54001]))"
   ]
  },
  {
   "cell_type": "markdown",
   "metadata": {},
   "source": [
    "Create the dataset variable representing the dataset prepared for use to create a recommendation systems using the Spotlight platform."
   ]
  },
  {
   "cell_type": "markdown",
   "metadata": {},
   "source": [
    "### Implicit Factorization model"
   ]
  },
  {
   "cell_type": "code",
   "execution_count": 8,
   "metadata": {},
   "outputs": [],
   "source": [
    "from spotlight.interactions import Interactions\n",
    "from spotlight.cross_validation import random_train_test_split\n",
    "from spotlight.factorization.implicit import ImplicitFactorizationModel\n",
    "import time  \n",
    "\n",
    "\n",
    "#pecify the ids of the users and items for all the pairs of user-item interactions\n",
    "implicit_interaction = Interactions(user_ids=uids,\n",
    "                                   item_ids=iids)\n",
    "\n",
    "\n",
    "#lets initialise the seed, so that its repeatable and reproducible \n",
    "implicit_train, implicit_test = random_train_test_split(implicit_interaction, random_state=np.random.seed(42))"
   ]
  },
  {
   "cell_type": "code",
   "execution_count": 9,
   "metadata": {},
   "outputs": [
    {
     "name": "stdout",
     "output_type": "stream",
     "text": [
      "<Interactions dataset (610 users x 9724 items x 80668 interactions)>\n",
      "<Interactions dataset (610 users x 9724 items x 20168 interactions)>\n"
     ]
    }
   ],
   "source": [
    "print(implicit_train)\n",
    "print(implicit_test)"
   ]
  },
  {
   "cell_type": "markdown",
   "metadata": {},
   "source": [
    "### Train-test split to DataFrame"
   ]
  },
  {
   "cell_type": "markdown",
   "metadata": {},
   "source": [
    "Train and test interaction datasets are converted to dataframes, in order to be used from other models too and provide consistent and fair results."
   ]
  },
  {
   "cell_type": "code",
   "execution_count": 10,
   "metadata": {},
   "outputs": [],
   "source": [
    "converted_train_users = []\n",
    "converted_train_movies = []\n",
    "rating_train = []\n",
    "for i in range(len(implicit_train.user_ids)):\n",
    "    converted_train_users.append(uid_rev_map[implicit_train.user_ids[i]])\n",
    "    converted_train_movies.append(iid_rev_map[implicit_train.item_ids[i]])\n",
    "    rating_train.append(float(ratings_df['rating'][(ratings_df['movieId']==converted_train_movies[i]) & (ratings_df['userId']==converted_train_users[i])].values))\n",
    "\n",
    "#train_df = pd.DataFrame({'user_id':implicit_train.user_ids,'movie_id':implicit_train.item_ids,'timestamp':implicit_train.timestamps})\n",
    "train_df = pd.DataFrame({'user_id':converted_train_users,'movie_id':converted_train_movies,'rating':rating_train})\n",
    "#train_df"
   ]
  },
  {
   "cell_type": "code",
   "execution_count": 11,
   "metadata": {},
   "outputs": [
    {
     "data": {
      "text/plain": [
       "3.0"
      ]
     },
     "execution_count": 11,
     "metadata": {},
     "output_type": "execute_result"
    }
   ],
   "source": [
    "float(ratings_df['rating'][(ratings_df['movieId']==5378) & (ratings_df['userId']==190)].values)"
   ]
  },
  {
   "cell_type": "code",
   "execution_count": 12,
   "metadata": {},
   "outputs": [
    {
     "data": {
      "text/html": [
       "<div>\n",
       "<style scoped>\n",
       "    .dataframe tbody tr th:only-of-type {\n",
       "        vertical-align: middle;\n",
       "    }\n",
       "\n",
       "    .dataframe tbody tr th {\n",
       "        vertical-align: top;\n",
       "    }\n",
       "\n",
       "    .dataframe thead th {\n",
       "        text-align: right;\n",
       "    }\n",
       "</style>\n",
       "<table border=\"1\" class=\"dataframe\">\n",
       "  <thead>\n",
       "    <tr style=\"text-align: right;\">\n",
       "      <th></th>\n",
       "      <th>user_id</th>\n",
       "      <th>movie_id</th>\n",
       "      <th>rating</th>\n",
       "    </tr>\n",
       "  </thead>\n",
       "  <tbody>\n",
       "    <tr>\n",
       "      <th>0</th>\n",
       "      <td>202</td>\n",
       "      <td>2990</td>\n",
       "      <td>4.0</td>\n",
       "    </tr>\n",
       "    <tr>\n",
       "      <th>1</th>\n",
       "      <td>422</td>\n",
       "      <td>2665</td>\n",
       "      <td>1.0</td>\n",
       "    </tr>\n",
       "    <tr>\n",
       "      <th>2</th>\n",
       "      <td>560</td>\n",
       "      <td>5349</td>\n",
       "      <td>3.5</td>\n",
       "    </tr>\n",
       "    <tr>\n",
       "      <th>3</th>\n",
       "      <td>452</td>\n",
       "      <td>4085</td>\n",
       "      <td>4.0</td>\n",
       "    </tr>\n",
       "    <tr>\n",
       "      <th>4</th>\n",
       "      <td>28</td>\n",
       "      <td>2231</td>\n",
       "      <td>2.5</td>\n",
       "    </tr>\n",
       "    <tr>\n",
       "      <th>...</th>\n",
       "      <td>...</td>\n",
       "      <td>...</td>\n",
       "      <td>...</td>\n",
       "    </tr>\n",
       "    <tr>\n",
       "      <th>20163</th>\n",
       "      <td>307</td>\n",
       "      <td>3186</td>\n",
       "      <td>3.5</td>\n",
       "    </tr>\n",
       "    <tr>\n",
       "      <th>20164</th>\n",
       "      <td>216</td>\n",
       "      <td>1028</td>\n",
       "      <td>4.0</td>\n",
       "    </tr>\n",
       "    <tr>\n",
       "      <th>20165</th>\n",
       "      <td>263</td>\n",
       "      <td>1357</td>\n",
       "      <td>4.0</td>\n",
       "    </tr>\n",
       "    <tr>\n",
       "      <th>20166</th>\n",
       "      <td>414</td>\n",
       "      <td>180031</td>\n",
       "      <td>4.0</td>\n",
       "    </tr>\n",
       "    <tr>\n",
       "      <th>20167</th>\n",
       "      <td>448</td>\n",
       "      <td>2335</td>\n",
       "      <td>4.0</td>\n",
       "    </tr>\n",
       "  </tbody>\n",
       "</table>\n",
       "<p>20168 rows × 3 columns</p>\n",
       "</div>"
      ],
      "text/plain": [
       "       user_id  movie_id  rating\n",
       "0          202      2990     4.0\n",
       "1          422      2665     1.0\n",
       "2          560      5349     3.5\n",
       "3          452      4085     4.0\n",
       "4           28      2231     2.5\n",
       "...        ...       ...     ...\n",
       "20163      307      3186     3.5\n",
       "20164      216      1028     4.0\n",
       "20165      263      1357     4.0\n",
       "20166      414    180031     4.0\n",
       "20167      448      2335     4.0\n",
       "\n",
       "[20168 rows x 3 columns]"
      ]
     },
     "execution_count": 12,
     "metadata": {},
     "output_type": "execute_result"
    }
   ],
   "source": [
    "converted_test_users = []\n",
    "converted_test_movies = []\n",
    "rating_test = []\n",
    "for i in range(len(implicit_test.user_ids)):\n",
    "    converted_test_users.append(uid_rev_map[implicit_test.user_ids[i]])\n",
    "    converted_test_movies.append(iid_rev_map[implicit_test.item_ids[i]])\n",
    "    rating_test.append(float(ratings_df['rating'][(ratings_df['movieId']==converted_test_movies[i]) & (ratings_df['userId']==converted_test_users[i])].values))\n",
    "\n",
    "test_df = pd.DataFrame({'user_id':converted_test_users,'movie_id':converted_test_movies,'rating':rating_test})\n",
    "\n",
    "test_df"
   ]
  },
  {
   "cell_type": "markdown",
   "metadata": {},
   "source": [
    "### Implicit Factorization model implementation"
   ]
  },
  {
   "cell_type": "code",
   "execution_count": 13,
   "metadata": {},
   "outputs": [
    {
     "name": "stdout",
     "output_type": "stream",
     "text": [
      "Epoch 0: loss 0.7006773476170588\n",
      "Epoch 1: loss 0.43342389835964273\n",
      "Epoch 2: loss 0.39356713336479815\n",
      "Epoch 3: loss 0.3631258432435084\n",
      "Epoch 4: loss 0.33235286133764663\n",
      "Training took 63 second\n"
     ]
    }
   ],
   "source": [
    "implicit_model  = ImplicitFactorizationModel(n_iter = 5)\n",
    "\n",
    "current = time.time()\n",
    "\n",
    "implicit_model.fit(implicit_train,verbose = True)\n",
    "\n",
    "end = time.time()\n",
    "diff = end - current\n",
    "print('Training took %d second'%(diff))"
   ]
  },
  {
   "cell_type": "markdown",
   "metadata": {},
   "source": [
    "MRR score of the Implicit recommender"
   ]
  },
  {
   "cell_type": "code",
   "execution_count": 14,
   "metadata": {},
   "outputs": [
    {
     "name": "stdout",
     "output_type": "stream",
     "text": [
      "0.30958159706643357\n"
     ]
    }
   ],
   "source": [
    "from spotlight.evaluation import mrr_score\n",
    "print(mrr_score(implicit_model, implicit_test, train=implicit_train, k=100).mean())"
   ]
  },
  {
   "cell_type": "markdown",
   "metadata": {},
   "source": [
    "Distribution of scores for a user"
   ]
  },
  {
   "cell_type": "code",
   "execution_count": 15,
   "metadata": {},
   "outputs": [
    {
     "data": {
      "text/plain": [
       "(array([   2.,   14.,   26.,   70.,  149.,  283.,  580., 1078., 1405.,\n",
       "        1368.,  964.,  583.,  334.,  276.,  195.,  168.,  125.,  129.,\n",
       "         130.,  133.,  129.,  113.,   93.,  117.,  110.,   98.,  128.,\n",
       "         128.,  118.,  128.,  116.,  103.,   96.,   71.,   50.,   42.,\n",
       "          36.,   24.,    5.,    7.]),\n",
       " array([-15.510823  , -14.750293  , -13.989763  , -13.229233  ,\n",
       "        -12.468703  , -11.708173  , -10.947643  , -10.187113  ,\n",
       "         -9.426582  ,  -8.666053  ,  -7.9055223 ,  -7.1449924 ,\n",
       "         -6.3844624 ,  -5.6239324 ,  -4.8634024 ,  -4.1028724 ,\n",
       "         -3.3423421 ,  -2.5818121 ,  -1.821282  ,  -1.060752  ,\n",
       "         -0.30022192,   0.46030813,   1.2208382 ,   1.9813683 ,\n",
       "          2.7418983 ,   3.5024285 ,   4.2629585 ,   5.0234885 ,\n",
       "          5.7840185 ,   6.5445485 ,   7.3050785 ,   8.065609  ,\n",
       "          8.8261385 ,   9.586669  ,  10.347199  ,  11.107729  ,\n",
       "         11.868259  ,  12.628789  ,  13.389319  ,  14.149849  ,\n",
       "         14.910379  ], dtype=float32),\n",
       " <a list of 40 Patch objects>)"
      ]
     },
     "execution_count": 15,
     "metadata": {},
     "output_type": "execute_result"
    },
    {
     "data": {
      "image/png": "[encoded data removed]",
      "text/plain": [
       "<Figure size 432x288 with 1 Axes>"
      ]
     },
     "metadata": {
      "needs_background": "light"
     },
     "output_type": "display_data"
    }
   ],
   "source": [
    "plt.hist(implicit_model.predict(0), color = 'blue', edgecolor = 'black',\n",
    "         bins = 40)"
   ]
  },
  {
   "cell_type": "markdown",
   "metadata": {},
   "source": [
    "Not a lot items with high score"
   ]
  },
  {
   "cell_type": "markdown",
   "metadata": {},
   "source": [
    "### Top-K predictions for a user"
   ]
  },
  {
   "cell_type": "code",
   "execution_count": 16,
   "metadata": {},
   "outputs": [
    {
     "name": "stdout",
     "output_type": "stream",
     "text": [
      "[ 176.   96.   98. ... 4592. 7915. 6418.]\n",
      "[3, 6, 110, 151, 163, 231, 260, 296, 316, 349, 356, 367, 457, 480, 500, 527, 543, 590, 592, 593, 648, 733, 736, 780, 1025, 1029, 1073, 1396, 2427, 2641, 3578, 318, 21, 32, 345, 357, 368, 539, 595, 708, 1250, 2076, 36, 39, 150, 153, 253, 266, 300, 344, 380, 474, 589, 594, 597, 7, 10, 16, 17, 25, 62, 95, 112, 141, 158, 161, 165, 168, 185, 208, 252, 288, 292, 329, 339, 377, 432, 434, 440, 454, 497, 508, 587, 802, 852, 376, 529, 111, 1267, 1356, 1374, 1544, 420, 551, 1345, 1022, 3363, 471, 786, 1027]\n"
     ]
    }
   ],
   "source": [
    "import scipy.stats as st\n",
    "\n",
    "def moviesForUser(user, k=100):\n",
    "  a= list()\n",
    "  ranks = st.rankdata(-implicit_model.predict(user))   \n",
    "  print(ranks)\n",
    "  for iid in np.argwhere(ranks <= k):\n",
    "    #print(iid_rev_map[iid.item(0)])\n",
    "    a.append(iid_rev_map[iid.item(0)])\n",
    "  return a\n",
    "\n",
    "rec_forUser = moviesForUser(0)\n",
    "print(rec_forUser)"
   ]
  },
  {
   "cell_type": "code",
   "execution_count": 17,
   "metadata": {
    "scrolled": true
   },
   "outputs": [
    {
     "data": {
      "text/html": [
       "<div>\n",
       "<style scoped>\n",
       "    .dataframe tbody tr th:only-of-type {\n",
       "        vertical-align: middle;\n",
       "    }\n",
       "\n",
       "    .dataframe tbody tr th {\n",
       "        vertical-align: top;\n",
       "    }\n",
       "\n",
       "    .dataframe thead th {\n",
       "        text-align: right;\n",
       "    }\n",
       "</style>\n",
       "<table border=\"1\" class=\"dataframe\">\n",
       "  <thead>\n",
       "    <tr style=\"text-align: right;\">\n",
       "      <th></th>\n",
       "      <th>movieId</th>\n",
       "      <th>title</th>\n",
       "      <th>genres</th>\n",
       "    </tr>\n",
       "  </thead>\n",
       "  <tbody>\n",
       "    <tr>\n",
       "      <th>2</th>\n",
       "      <td>3</td>\n",
       "      <td>Grumpier Old Men (1995)</td>\n",
       "      <td>Comedy|Romance</td>\n",
       "    </tr>\n",
       "    <tr>\n",
       "      <th>5</th>\n",
       "      <td>6</td>\n",
       "      <td>Heat (1995)</td>\n",
       "      <td>Action|Crime|Thriller</td>\n",
       "    </tr>\n",
       "    <tr>\n",
       "      <th>6</th>\n",
       "      <td>7</td>\n",
       "      <td>Sabrina (1995)</td>\n",
       "      <td>Comedy|Romance</td>\n",
       "    </tr>\n",
       "    <tr>\n",
       "      <th>9</th>\n",
       "      <td>10</td>\n",
       "      <td>GoldenEye (1995)</td>\n",
       "      <td>Action|Adventure|Thriller</td>\n",
       "    </tr>\n",
       "    <tr>\n",
       "      <th>15</th>\n",
       "      <td>16</td>\n",
       "      <td>Casino (1995)</td>\n",
       "      <td>Crime|Drama</td>\n",
       "    </tr>\n",
       "    <tr>\n",
       "      <th>...</th>\n",
       "      <td>...</td>\n",
       "      <td>...</td>\n",
       "      <td>...</td>\n",
       "    </tr>\n",
       "    <tr>\n",
       "      <th>1541</th>\n",
       "      <td>2076</td>\n",
       "      <td>Blue Velvet (1986)</td>\n",
       "      <td>Drama|Mystery|Thriller</td>\n",
       "    </tr>\n",
       "    <tr>\n",
       "      <th>1826</th>\n",
       "      <td>2427</td>\n",
       "      <td>Thin Red Line, The (1998)</td>\n",
       "      <td>Action|Drama|War</td>\n",
       "    </tr>\n",
       "    <tr>\n",
       "      <th>1987</th>\n",
       "      <td>2641</td>\n",
       "      <td>Superman II (1980)</td>\n",
       "      <td>Action|Sci-Fi</td>\n",
       "    </tr>\n",
       "    <tr>\n",
       "      <th>2515</th>\n",
       "      <td>3363</td>\n",
       "      <td>American Graffiti (1973)</td>\n",
       "      <td>Comedy|Drama</td>\n",
       "    </tr>\n",
       "    <tr>\n",
       "      <th>2674</th>\n",
       "      <td>3578</td>\n",
       "      <td>Gladiator (2000)</td>\n",
       "      <td>Action|Adventure|Drama</td>\n",
       "    </tr>\n",
       "  </tbody>\n",
       "</table>\n",
       "<p>100 rows × 3 columns</p>\n",
       "</div>"
      ],
      "text/plain": [
       "      movieId                      title                     genres\n",
       "2           3    Grumpier Old Men (1995)             Comedy|Romance\n",
       "5           6                Heat (1995)      Action|Crime|Thriller\n",
       "6           7             Sabrina (1995)             Comedy|Romance\n",
       "9          10           GoldenEye (1995)  Action|Adventure|Thriller\n",
       "15         16              Casino (1995)                Crime|Drama\n",
       "...       ...                        ...                        ...\n",
       "1541     2076         Blue Velvet (1986)     Drama|Mystery|Thriller\n",
       "1826     2427  Thin Red Line, The (1998)           Action|Drama|War\n",
       "1987     2641         Superman II (1980)              Action|Sci-Fi\n",
       "2515     3363   American Graffiti (1973)               Comedy|Drama\n",
       "2674     3578           Gladiator (2000)     Action|Adventure|Drama\n",
       "\n",
       "[100 rows x 3 columns]"
      ]
     },
     "execution_count": 17,
     "metadata": {},
     "output_type": "execute_result"
    }
   ],
   "source": [
    "movies_df.loc[movies_df['movieId'].isin(rec_forUser)]"
   ]
  },
  {
   "cell_type": "code",
   "execution_count": 18,
   "metadata": {},
   "outputs": [],
   "source": [
    "movies_pred = movies_df['movieId'][movies_df['movieId'].isin(rec_forUser)]"
   ]
  },
  {
   "cell_type": "markdown",
   "metadata": {},
   "source": [
    "### Actual movies watched"
   ]
  },
  {
   "cell_type": "code",
   "execution_count": 19,
   "metadata": {},
   "outputs": [],
   "source": [
    "actual = ratings_df[ratings_df[\"userId\"]==uid_rev_map.get(0)].groupby(\"movieId\")[\"movieId\"].count().sort_values(ascending=False).head(100)"
   ]
  },
  {
   "cell_type": "code",
   "execution_count": 20,
   "metadata": {},
   "outputs": [],
   "source": [
    "actual = actual.index.tolist()"
   ]
  },
  {
   "cell_type": "code",
   "execution_count": 21,
   "metadata": {
    "scrolled": true
   },
   "outputs": [
    {
     "data": {
      "text/html": [
       "<div>\n",
       "<style scoped>\n",
       "    .dataframe tbody tr th:only-of-type {\n",
       "        vertical-align: middle;\n",
       "    }\n",
       "\n",
       "    .dataframe tbody tr th {\n",
       "        vertical-align: top;\n",
       "    }\n",
       "\n",
       "    .dataframe thead th {\n",
       "        text-align: right;\n",
       "    }\n",
       "</style>\n",
       "<table border=\"1\" class=\"dataframe\">\n",
       "  <thead>\n",
       "    <tr style=\"text-align: right;\">\n",
       "      <th></th>\n",
       "      <th>movieId</th>\n",
       "      <th>title</th>\n",
       "      <th>genres</th>\n",
       "    </tr>\n",
       "  </thead>\n",
       "  <tbody>\n",
       "    <tr>\n",
       "      <th>2</th>\n",
       "      <td>3</td>\n",
       "      <td>Grumpier Old Men (1995)</td>\n",
       "      <td>Comedy|Romance</td>\n",
       "    </tr>\n",
       "    <tr>\n",
       "      <th>5</th>\n",
       "      <td>6</td>\n",
       "      <td>Heat (1995)</td>\n",
       "      <td>Action|Crime|Thriller</td>\n",
       "    </tr>\n",
       "    <tr>\n",
       "      <th>43</th>\n",
       "      <td>47</td>\n",
       "      <td>Seven (a.k.a. Se7en) (1995)</td>\n",
       "      <td>Mystery|Thriller</td>\n",
       "    </tr>\n",
       "    <tr>\n",
       "      <th>46</th>\n",
       "      <td>50</td>\n",
       "      <td>Usual Suspects, The (1995)</td>\n",
       "      <td>Crime|Mystery|Thriller</td>\n",
       "    </tr>\n",
       "    <tr>\n",
       "      <th>62</th>\n",
       "      <td>70</td>\n",
       "      <td>From Dusk Till Dawn (1996)</td>\n",
       "      <td>Action|Comedy|Horror|Thriller</td>\n",
       "    </tr>\n",
       "    <tr>\n",
       "      <th>...</th>\n",
       "      <td>...</td>\n",
       "      <td>...</td>\n",
       "      <td>...</td>\n",
       "    </tr>\n",
       "    <tr>\n",
       "      <th>1332</th>\n",
       "      <td>1804</td>\n",
       "      <td>Newton Boys, The (1998)</td>\n",
       "      <td>Crime|Drama</td>\n",
       "    </tr>\n",
       "    <tr>\n",
       "      <th>1333</th>\n",
       "      <td>1805</td>\n",
       "      <td>Wild Things (1998)</td>\n",
       "      <td>Crime|Drama|Mystery|Thriller</td>\n",
       "    </tr>\n",
       "    <tr>\n",
       "      <th>1401</th>\n",
       "      <td>1920</td>\n",
       "      <td>Small Soldiers (1998)</td>\n",
       "      <td>Animation|Children|Fantasy|War</td>\n",
       "    </tr>\n",
       "    <tr>\n",
       "      <th>2991</th>\n",
       "      <td>4006</td>\n",
       "      <td>Transformers: The Movie (1986)</td>\n",
       "      <td>Adventure|Animation|Children|Sci-Fi</td>\n",
       "    </tr>\n",
       "    <tr>\n",
       "      <th>3673</th>\n",
       "      <td>5060</td>\n",
       "      <td>M*A*S*H (a.k.a. MASH) (1970)</td>\n",
       "      <td>Comedy|Drama|War</td>\n",
       "    </tr>\n",
       "  </tbody>\n",
       "</table>\n",
       "<p>100 rows × 3 columns</p>\n",
       "</div>"
      ],
      "text/plain": [
       "      movieId                           title  \\\n",
       "2           3         Grumpier Old Men (1995)   \n",
       "5           6                     Heat (1995)   \n",
       "43         47     Seven (a.k.a. Se7en) (1995)   \n",
       "46         50      Usual Suspects, The (1995)   \n",
       "62         70      From Dusk Till Dawn (1996)   \n",
       "...       ...                             ...   \n",
       "1332     1804         Newton Boys, The (1998)   \n",
       "1333     1805              Wild Things (1998)   \n",
       "1401     1920           Small Soldiers (1998)   \n",
       "2991     4006  Transformers: The Movie (1986)   \n",
       "3673     5060    M*A*S*H (a.k.a. MASH) (1970)   \n",
       "\n",
       "                                   genres  \n",
       "2                          Comedy|Romance  \n",
       "5                   Action|Crime|Thriller  \n",
       "43                       Mystery|Thriller  \n",
       "46                 Crime|Mystery|Thriller  \n",
       "62          Action|Comedy|Horror|Thriller  \n",
       "...                                   ...  \n",
       "1332                          Crime|Drama  \n",
       "1333         Crime|Drama|Mystery|Thriller  \n",
       "1401       Animation|Children|Fantasy|War  \n",
       "2991  Adventure|Animation|Children|Sci-Fi  \n",
       "3673                     Comedy|Drama|War  \n",
       "\n",
       "[100 rows x 3 columns]"
      ]
     },
     "execution_count": 21,
     "metadata": {},
     "output_type": "execute_result"
    }
   ],
   "source": [
    "movies_df.loc[movies_df['movieId'].isin(actual)]"
   ]
  },
  {
   "cell_type": "code",
   "execution_count": 22,
   "metadata": {},
   "outputs": [],
   "source": [
    "movies_watched = movies_df['movieId'][movies_df['movieId'].isin(actual)]"
   ]
  },
  {
   "cell_type": "markdown",
   "metadata": {},
   "source": [
    "### NDCG Score for each user"
   ]
  },
  {
   "cell_type": "markdown",
   "metadata": {},
   "source": [
    "### Note: The implementation below is the NDCG score for the first user only! I will include them all with a loop, but to avoid the loss of time I will do it after the solution is finalized and thought as correct!"
   ]
  },
  {
   "cell_type": "code",
   "execution_count": 23,
   "metadata": {},
   "outputs": [],
   "source": [
    "relevance_implicit = []\n",
    "for i in range(len(rec_forUser)):\n",
    "    if rec_forUser[i] in test_df['movie_id'][test_df['user_id'] == 1].values.tolist():\n",
    "        relevance_implicit.append(1)\n",
    "    else:\n",
    "        relevance_implicit.append(0)\n",
    "    "
   ]
  },
  {
   "cell_type": "markdown",
   "metadata": {},
   "source": [
    "The dcg and ideal_dcg functions are taken form https://github.com/lezzago/LambdaMart/blob/master/lambdamart.py. They are necessary to compute the desired NDCG evaluation metric."
   ]
  },
  {
   "cell_type": "code",
   "execution_count": 24,
   "metadata": {},
   "outputs": [],
   "source": [
    "def dcg(scores):\n",
    "    \"\"\"\n",
    "    Returns the DCG value of the list of scores.\n",
    "    Parameters\n",
    "    ----------\n",
    "    scores : list\n",
    "        Contains labels in a certain ranked order\n",
    "\n",
    "    Returns\n",
    "    -------\n",
    "    DCG_val: int\n",
    "        This is the value of the DCG on the given scores\n",
    "    \"\"\"\n",
    "    return np.sum([\n",
    "                    (np.power(2, scores[i]) - 1) / np.log2(i + 2)\n",
    "                    for i in range(len(scores))\n",
    "                ])"
   ]
  },
  {
   "cell_type": "code",
   "execution_count": 25,
   "metadata": {},
   "outputs": [],
   "source": [
    "def ideal_dcg(scores):\n",
    "    \"\"\"\n",
    "    Returns the Ideal DCG value of the list of scores.\n",
    "    Parameters\n",
    "    ----------\n",
    "    scores : list\n",
    "        Contains labels in a certain ranked order\n",
    "\n",
    "    Returns\n",
    "    -------\n",
    "    Ideal_DCG_val: int\n",
    "        This is the value of the Ideal DCG on the given scores\n",
    "    \"\"\"\n",
    "    scores = [score for score in sorted(scores)[::-1]]\n",
    "    return dcg(scores)"
   ]
  },
  {
   "cell_type": "code",
   "execution_count": 26,
   "metadata": {},
   "outputs": [],
   "source": [
    "def NDCG_forUser(relevance):\n",
    "    return dcg(relevance) / ideal_dcg(relevance)"
   ]
  },
  {
   "cell_type": "code",
   "execution_count": 27,
   "metadata": {},
   "outputs": [
    {
     "name": "stdout",
     "output_type": "stream",
     "text": [
      "0.7405959263825401\n"
     ]
    }
   ],
   "source": [
    "ndcg = NDCG_forUser(relevance_implicit)\n",
    "print(ndcg)"
   ]
  },
  {
   "cell_type": "markdown",
   "metadata": {},
   "source": [
    "# SVD"
   ]
  },
  {
   "cell_type": "markdown",
   "metadata": {},
   "source": [
    "Pivot is used to have a matrix that has as rows the userIDs and as columns the movieIDs. The unrated, by a user, movies are assigned the value 0 instead of null. Pivot organizes a DataFrame by giving index and column values. It is helpful in the recommender systems approach."
   ]
  },
  {
   "cell_type": "code",
   "execution_count": 28,
   "metadata": {},
   "outputs": [],
   "source": [
    "df_movie_features = train_df.pivot(\n",
    "    index='user_id',\n",
    "    columns='movie_id',\n",
    "    values='rating'\n",
    ").fillna(0)"
   ]
  },
  {
   "cell_type": "code",
   "execution_count": 29,
   "metadata": {},
   "outputs": [
    {
     "data": {
      "text/html": [
       "<div>\n",
       "<style scoped>\n",
       "    .dataframe tbody tr th:only-of-type {\n",
       "        vertical-align: middle;\n",
       "    }\n",
       "\n",
       "    .dataframe tbody tr th {\n",
       "        vertical-align: top;\n",
       "    }\n",
       "\n",
       "    .dataframe thead th {\n",
       "        text-align: right;\n",
       "    }\n",
       "</style>\n",
       "<table border=\"1\" class=\"dataframe\">\n",
       "  <thead>\n",
       "    <tr style=\"text-align: right;\">\n",
       "      <th>movie_id</th>\n",
       "      <th>1</th>\n",
       "      <th>2</th>\n",
       "      <th>3</th>\n",
       "      <th>4</th>\n",
       "      <th>5</th>\n",
       "      <th>6</th>\n",
       "      <th>7</th>\n",
       "      <th>8</th>\n",
       "      <th>9</th>\n",
       "      <th>10</th>\n",
       "      <th>...</th>\n",
       "      <th>193565</th>\n",
       "      <th>193567</th>\n",
       "      <th>193571</th>\n",
       "      <th>193573</th>\n",
       "      <th>193579</th>\n",
       "      <th>193581</th>\n",
       "      <th>193583</th>\n",
       "      <th>193585</th>\n",
       "      <th>193587</th>\n",
       "      <th>193609</th>\n",
       "    </tr>\n",
       "    <tr>\n",
       "      <th>user_id</th>\n",
       "      <th></th>\n",
       "      <th></th>\n",
       "      <th></th>\n",
       "      <th></th>\n",
       "      <th></th>\n",
       "      <th></th>\n",
       "      <th></th>\n",
       "      <th></th>\n",
       "      <th></th>\n",
       "      <th></th>\n",
       "      <th></th>\n",
       "      <th></th>\n",
       "      <th></th>\n",
       "      <th></th>\n",
       "      <th></th>\n",
       "      <th></th>\n",
       "      <th></th>\n",
       "      <th></th>\n",
       "      <th></th>\n",
       "      <th></th>\n",
       "      <th></th>\n",
       "    </tr>\n",
       "  </thead>\n",
       "  <tbody>\n",
       "    <tr>\n",
       "      <th>1</th>\n",
       "      <td>4.0</td>\n",
       "      <td>0.0</td>\n",
       "      <td>0.0</td>\n",
       "      <td>0.0</td>\n",
       "      <td>0.0</td>\n",
       "      <td>4.0</td>\n",
       "      <td>0.0</td>\n",
       "      <td>0.0</td>\n",
       "      <td>0.0</td>\n",
       "      <td>0.0</td>\n",
       "      <td>...</td>\n",
       "      <td>0.0</td>\n",
       "      <td>0.0</td>\n",
       "      <td>0.0</td>\n",
       "      <td>0.0</td>\n",
       "      <td>0.0</td>\n",
       "      <td>0.0</td>\n",
       "      <td>0.0</td>\n",
       "      <td>0.0</td>\n",
       "      <td>0.0</td>\n",
       "      <td>0.0</td>\n",
       "    </tr>\n",
       "    <tr>\n",
       "      <th>2</th>\n",
       "      <td>0.0</td>\n",
       "      <td>0.0</td>\n",
       "      <td>0.0</td>\n",
       "      <td>0.0</td>\n",
       "      <td>0.0</td>\n",
       "      <td>0.0</td>\n",
       "      <td>0.0</td>\n",
       "      <td>0.0</td>\n",
       "      <td>0.0</td>\n",
       "      <td>0.0</td>\n",
       "      <td>...</td>\n",
       "      <td>0.0</td>\n",
       "      <td>0.0</td>\n",
       "      <td>0.0</td>\n",
       "      <td>0.0</td>\n",
       "      <td>0.0</td>\n",
       "      <td>0.0</td>\n",
       "      <td>0.0</td>\n",
       "      <td>0.0</td>\n",
       "      <td>0.0</td>\n",
       "      <td>0.0</td>\n",
       "    </tr>\n",
       "    <tr>\n",
       "      <th>3</th>\n",
       "      <td>0.0</td>\n",
       "      <td>0.0</td>\n",
       "      <td>0.0</td>\n",
       "      <td>0.0</td>\n",
       "      <td>0.0</td>\n",
       "      <td>0.0</td>\n",
       "      <td>0.0</td>\n",
       "      <td>0.0</td>\n",
       "      <td>0.0</td>\n",
       "      <td>0.0</td>\n",
       "      <td>...</td>\n",
       "      <td>0.0</td>\n",
       "      <td>0.0</td>\n",
       "      <td>0.0</td>\n",
       "      <td>0.0</td>\n",
       "      <td>0.0</td>\n",
       "      <td>0.0</td>\n",
       "      <td>0.0</td>\n",
       "      <td>0.0</td>\n",
       "      <td>0.0</td>\n",
       "      <td>0.0</td>\n",
       "    </tr>\n",
       "    <tr>\n",
       "      <th>4</th>\n",
       "      <td>0.0</td>\n",
       "      <td>0.0</td>\n",
       "      <td>0.0</td>\n",
       "      <td>0.0</td>\n",
       "      <td>0.0</td>\n",
       "      <td>0.0</td>\n",
       "      <td>0.0</td>\n",
       "      <td>0.0</td>\n",
       "      <td>0.0</td>\n",
       "      <td>0.0</td>\n",
       "      <td>...</td>\n",
       "      <td>0.0</td>\n",
       "      <td>0.0</td>\n",
       "      <td>0.0</td>\n",
       "      <td>0.0</td>\n",
       "      <td>0.0</td>\n",
       "      <td>0.0</td>\n",
       "      <td>0.0</td>\n",
       "      <td>0.0</td>\n",
       "      <td>0.0</td>\n",
       "      <td>0.0</td>\n",
       "    </tr>\n",
       "    <tr>\n",
       "      <th>5</th>\n",
       "      <td>4.0</td>\n",
       "      <td>0.0</td>\n",
       "      <td>0.0</td>\n",
       "      <td>0.0</td>\n",
       "      <td>0.0</td>\n",
       "      <td>0.0</td>\n",
       "      <td>0.0</td>\n",
       "      <td>0.0</td>\n",
       "      <td>0.0</td>\n",
       "      <td>0.0</td>\n",
       "      <td>...</td>\n",
       "      <td>0.0</td>\n",
       "      <td>0.0</td>\n",
       "      <td>0.0</td>\n",
       "      <td>0.0</td>\n",
       "      <td>0.0</td>\n",
       "      <td>0.0</td>\n",
       "      <td>0.0</td>\n",
       "      <td>0.0</td>\n",
       "      <td>0.0</td>\n",
       "      <td>0.0</td>\n",
       "    </tr>\n",
       "    <tr>\n",
       "      <th>...</th>\n",
       "      <td>...</td>\n",
       "      <td>...</td>\n",
       "      <td>...</td>\n",
       "      <td>...</td>\n",
       "      <td>...</td>\n",
       "      <td>...</td>\n",
       "      <td>...</td>\n",
       "      <td>...</td>\n",
       "      <td>...</td>\n",
       "      <td>...</td>\n",
       "      <td>...</td>\n",
       "      <td>...</td>\n",
       "      <td>...</td>\n",
       "      <td>...</td>\n",
       "      <td>...</td>\n",
       "      <td>...</td>\n",
       "      <td>...</td>\n",
       "      <td>...</td>\n",
       "      <td>...</td>\n",
       "      <td>...</td>\n",
       "      <td>...</td>\n",
       "    </tr>\n",
       "    <tr>\n",
       "      <th>606</th>\n",
       "      <td>0.0</td>\n",
       "      <td>0.0</td>\n",
       "      <td>0.0</td>\n",
       "      <td>0.0</td>\n",
       "      <td>0.0</td>\n",
       "      <td>0.0</td>\n",
       "      <td>2.5</td>\n",
       "      <td>0.0</td>\n",
       "      <td>0.0</td>\n",
       "      <td>0.0</td>\n",
       "      <td>...</td>\n",
       "      <td>0.0</td>\n",
       "      <td>0.0</td>\n",
       "      <td>0.0</td>\n",
       "      <td>0.0</td>\n",
       "      <td>0.0</td>\n",
       "      <td>0.0</td>\n",
       "      <td>0.0</td>\n",
       "      <td>0.0</td>\n",
       "      <td>0.0</td>\n",
       "      <td>0.0</td>\n",
       "    </tr>\n",
       "    <tr>\n",
       "      <th>607</th>\n",
       "      <td>4.0</td>\n",
       "      <td>0.0</td>\n",
       "      <td>0.0</td>\n",
       "      <td>0.0</td>\n",
       "      <td>0.0</td>\n",
       "      <td>0.0</td>\n",
       "      <td>0.0</td>\n",
       "      <td>0.0</td>\n",
       "      <td>0.0</td>\n",
       "      <td>0.0</td>\n",
       "      <td>...</td>\n",
       "      <td>0.0</td>\n",
       "      <td>0.0</td>\n",
       "      <td>0.0</td>\n",
       "      <td>0.0</td>\n",
       "      <td>0.0</td>\n",
       "      <td>0.0</td>\n",
       "      <td>0.0</td>\n",
       "      <td>0.0</td>\n",
       "      <td>0.0</td>\n",
       "      <td>0.0</td>\n",
       "    </tr>\n",
       "    <tr>\n",
       "      <th>608</th>\n",
       "      <td>2.5</td>\n",
       "      <td>2.0</td>\n",
       "      <td>2.0</td>\n",
       "      <td>0.0</td>\n",
       "      <td>0.0</td>\n",
       "      <td>0.0</td>\n",
       "      <td>0.0</td>\n",
       "      <td>0.0</td>\n",
       "      <td>0.0</td>\n",
       "      <td>4.0</td>\n",
       "      <td>...</td>\n",
       "      <td>0.0</td>\n",
       "      <td>0.0</td>\n",
       "      <td>0.0</td>\n",
       "      <td>0.0</td>\n",
       "      <td>0.0</td>\n",
       "      <td>0.0</td>\n",
       "      <td>0.0</td>\n",
       "      <td>0.0</td>\n",
       "      <td>0.0</td>\n",
       "      <td>0.0</td>\n",
       "    </tr>\n",
       "    <tr>\n",
       "      <th>609</th>\n",
       "      <td>3.0</td>\n",
       "      <td>0.0</td>\n",
       "      <td>0.0</td>\n",
       "      <td>0.0</td>\n",
       "      <td>0.0</td>\n",
       "      <td>0.0</td>\n",
       "      <td>0.0</td>\n",
       "      <td>0.0</td>\n",
       "      <td>0.0</td>\n",
       "      <td>4.0</td>\n",
       "      <td>...</td>\n",
       "      <td>0.0</td>\n",
       "      <td>0.0</td>\n",
       "      <td>0.0</td>\n",
       "      <td>0.0</td>\n",
       "      <td>0.0</td>\n",
       "      <td>0.0</td>\n",
       "      <td>0.0</td>\n",
       "      <td>0.0</td>\n",
       "      <td>0.0</td>\n",
       "      <td>0.0</td>\n",
       "    </tr>\n",
       "    <tr>\n",
       "      <th>610</th>\n",
       "      <td>5.0</td>\n",
       "      <td>0.0</td>\n",
       "      <td>0.0</td>\n",
       "      <td>0.0</td>\n",
       "      <td>0.0</td>\n",
       "      <td>5.0</td>\n",
       "      <td>0.0</td>\n",
       "      <td>0.0</td>\n",
       "      <td>0.0</td>\n",
       "      <td>0.0</td>\n",
       "      <td>...</td>\n",
       "      <td>0.0</td>\n",
       "      <td>0.0</td>\n",
       "      <td>0.0</td>\n",
       "      <td>0.0</td>\n",
       "      <td>0.0</td>\n",
       "      <td>0.0</td>\n",
       "      <td>0.0</td>\n",
       "      <td>0.0</td>\n",
       "      <td>0.0</td>\n",
       "      <td>0.0</td>\n",
       "    </tr>\n",
       "  </tbody>\n",
       "</table>\n",
       "<p>610 rows × 8985 columns</p>\n",
       "</div>"
      ],
      "text/plain": [
       "movie_id  1       2       3       4       5       6       7       8       \\\n",
       "user_id                                                                    \n",
       "1            4.0     0.0     0.0     0.0     0.0     4.0     0.0     0.0   \n",
       "2            0.0     0.0     0.0     0.0     0.0     0.0     0.0     0.0   \n",
       "3            0.0     0.0     0.0     0.0     0.0     0.0     0.0     0.0   \n",
       "4            0.0     0.0     0.0     0.0     0.0     0.0     0.0     0.0   \n",
       "5            4.0     0.0     0.0     0.0     0.0     0.0     0.0     0.0   \n",
       "...          ...     ...     ...     ...     ...     ...     ...     ...   \n",
       "606          0.0     0.0     0.0     0.0     0.0     0.0     2.5     0.0   \n",
       "607          4.0     0.0     0.0     0.0     0.0     0.0     0.0     0.0   \n",
       "608          2.5     2.0     2.0     0.0     0.0     0.0     0.0     0.0   \n",
       "609          3.0     0.0     0.0     0.0     0.0     0.0     0.0     0.0   \n",
       "610          5.0     0.0     0.0     0.0     0.0     5.0     0.0     0.0   \n",
       "\n",
       "movie_id  9       10      ...  193565  193567  193571  193573  193579  193581  \\\n",
       "user_id                   ...                                                   \n",
       "1            0.0     0.0  ...     0.0     0.0     0.0     0.0     0.0     0.0   \n",
       "2            0.0     0.0  ...     0.0     0.0     0.0     0.0     0.0     0.0   \n",
       "3            0.0     0.0  ...     0.0     0.0     0.0     0.0     0.0     0.0   \n",
       "4            0.0     0.0  ...     0.0     0.0     0.0     0.0     0.0     0.0   \n",
       "5            0.0     0.0  ...     0.0     0.0     0.0     0.0     0.0     0.0   \n",
       "...          ...     ...  ...     ...     ...     ...     ...     ...     ...   \n",
       "606          0.0     0.0  ...     0.0     0.0     0.0     0.0     0.0     0.0   \n",
       "607          0.0     0.0  ...     0.0     0.0     0.0     0.0     0.0     0.0   \n",
       "608          0.0     4.0  ...     0.0     0.0     0.0     0.0     0.0     0.0   \n",
       "609          0.0     4.0  ...     0.0     0.0     0.0     0.0     0.0     0.0   \n",
       "610          0.0     0.0  ...     0.0     0.0     0.0     0.0     0.0     0.0   \n",
       "\n",
       "movie_id  193583  193585  193587  193609  \n",
       "user_id                                   \n",
       "1            0.0     0.0     0.0     0.0  \n",
       "2            0.0     0.0     0.0     0.0  \n",
       "3            0.0     0.0     0.0     0.0  \n",
       "4            0.0     0.0     0.0     0.0  \n",
       "5            0.0     0.0     0.0     0.0  \n",
       "...          ...     ...     ...     ...  \n",
       "606          0.0     0.0     0.0     0.0  \n",
       "607          0.0     0.0     0.0     0.0  \n",
       "608          0.0     0.0     0.0     0.0  \n",
       "609          0.0     0.0     0.0     0.0  \n",
       "610          0.0     0.0     0.0     0.0  \n",
       "\n",
       "[610 rows x 8985 columns]"
      ]
     },
     "execution_count": 29,
     "metadata": {},
     "output_type": "execute_result"
    }
   ],
   "source": [
    "df_movie_features"
   ]
  },
  {
   "cell_type": "code",
   "execution_count": 30,
   "metadata": {},
   "outputs": [],
   "source": [
    "from scipy.sparse.linalg import svds\n",
    "U, sigma, Vt = svds(df_movie_features, k = 10)\n"
   ]
  },
  {
   "cell_type": "markdown",
   "metadata": {},
   "source": [
    "To get the prediction of a rating of an item dj, we can calculate the dot product of the two vectors.\n",
    "The sigma variable has just the values, so I have to convert to a diagonal matrix in orded to implement the matrix multiplication."
   ]
  },
  {
   "cell_type": "code",
   "execution_count": 31,
   "metadata": {},
   "outputs": [],
   "source": [
    "sigma = np.diag(sigma)\n",
    "svd_predictions_score = np.dot(np.dot(U, sigma), Vt)\n",
    "svd_predictions_score_df = pd.DataFrame(svd_predictions_score, columns = df_movie_features.columns)\n"
   ]
  },
  {
   "cell_type": "code",
   "execution_count": 32,
   "metadata": {},
   "outputs": [
    {
     "data": {
      "text/html": [
       "<div>\n",
       "<style scoped>\n",
       "    .dataframe tbody tr th:only-of-type {\n",
       "        vertical-align: middle;\n",
       "    }\n",
       "\n",
       "    .dataframe tbody tr th {\n",
       "        vertical-align: top;\n",
       "    }\n",
       "\n",
       "    .dataframe thead th {\n",
       "        text-align: right;\n",
       "    }\n",
       "</style>\n",
       "<table border=\"1\" class=\"dataframe\">\n",
       "  <thead>\n",
       "    <tr style=\"text-align: right;\">\n",
       "      <th>movie_id</th>\n",
       "      <th>1</th>\n",
       "      <th>2</th>\n",
       "      <th>3</th>\n",
       "      <th>4</th>\n",
       "      <th>5</th>\n",
       "      <th>6</th>\n",
       "      <th>7</th>\n",
       "      <th>8</th>\n",
       "      <th>9</th>\n",
       "      <th>10</th>\n",
       "      <th>...</th>\n",
       "      <th>193565</th>\n",
       "      <th>193567</th>\n",
       "      <th>193571</th>\n",
       "      <th>193573</th>\n",
       "      <th>193579</th>\n",
       "      <th>193581</th>\n",
       "      <th>193583</th>\n",
       "      <th>193585</th>\n",
       "      <th>193587</th>\n",
       "      <th>193609</th>\n",
       "    </tr>\n",
       "  </thead>\n",
       "  <tbody>\n",
       "    <tr>\n",
       "      <th>0</th>\n",
       "      <td>2.002181</td>\n",
       "      <td>0.625717</td>\n",
       "      <td>0.675625</td>\n",
       "      <td>-0.018185</td>\n",
       "      <td>0.156886</td>\n",
       "      <td>1.446400</td>\n",
       "      <td>0.211579</td>\n",
       "      <td>-0.001568</td>\n",
       "      <td>0.114361</td>\n",
       "      <td>1.363766</td>\n",
       "      <td>...</td>\n",
       "      <td>-0.009787</td>\n",
       "      <td>-0.008389</td>\n",
       "      <td>-0.011185</td>\n",
       "      <td>-0.011185</td>\n",
       "      <td>-0.009787</td>\n",
       "      <td>-0.011185</td>\n",
       "      <td>-0.009787</td>\n",
       "      <td>-0.009787</td>\n",
       "      <td>-0.009787</td>\n",
       "      <td>-0.015383</td>\n",
       "    </tr>\n",
       "    <tr>\n",
       "      <th>1</th>\n",
       "      <td>0.083529</td>\n",
       "      <td>0.052178</td>\n",
       "      <td>-0.064242</td>\n",
       "      <td>0.007353</td>\n",
       "      <td>0.014829</td>\n",
       "      <td>0.093099</td>\n",
       "      <td>-0.039704</td>\n",
       "      <td>-0.019928</td>\n",
       "      <td>-0.016412</td>\n",
       "      <td>-0.045517</td>\n",
       "      <td>...</td>\n",
       "      <td>0.005834</td>\n",
       "      <td>0.005000</td>\n",
       "      <td>0.006667</td>\n",
       "      <td>0.006667</td>\n",
       "      <td>0.005834</td>\n",
       "      <td>0.006667</td>\n",
       "      <td>0.005834</td>\n",
       "      <td>0.005834</td>\n",
       "      <td>0.005834</td>\n",
       "      <td>0.012289</td>\n",
       "    </tr>\n",
       "    <tr>\n",
       "      <th>2</th>\n",
       "      <td>0.036247</td>\n",
       "      <td>0.015085</td>\n",
       "      <td>0.015709</td>\n",
       "      <td>-0.002183</td>\n",
       "      <td>-0.012611</td>\n",
       "      <td>0.081633</td>\n",
       "      <td>-0.002136</td>\n",
       "      <td>0.002498</td>\n",
       "      <td>0.006848</td>\n",
       "      <td>0.041097</td>\n",
       "      <td>...</td>\n",
       "      <td>-0.000061</td>\n",
       "      <td>-0.000052</td>\n",
       "      <td>-0.000070</td>\n",
       "      <td>-0.000070</td>\n",
       "      <td>-0.000061</td>\n",
       "      <td>-0.000070</td>\n",
       "      <td>-0.000061</td>\n",
       "      <td>-0.000061</td>\n",
       "      <td>-0.000061</td>\n",
       "      <td>-0.001825</td>\n",
       "    </tr>\n",
       "    <tr>\n",
       "      <th>3</th>\n",
       "      <td>1.445332</td>\n",
       "      <td>0.377364</td>\n",
       "      <td>0.271421</td>\n",
       "      <td>0.042129</td>\n",
       "      <td>0.243851</td>\n",
       "      <td>0.473513</td>\n",
       "      <td>0.357237</td>\n",
       "      <td>-0.014040</td>\n",
       "      <td>0.016063</td>\n",
       "      <td>0.218975</td>\n",
       "      <td>...</td>\n",
       "      <td>-0.001464</td>\n",
       "      <td>-0.001255</td>\n",
       "      <td>-0.001674</td>\n",
       "      <td>-0.001674</td>\n",
       "      <td>-0.001464</td>\n",
       "      <td>-0.001674</td>\n",
       "      <td>-0.001464</td>\n",
       "      <td>-0.001464</td>\n",
       "      <td>-0.001464</td>\n",
       "      <td>-0.008747</td>\n",
       "    </tr>\n",
       "    <tr>\n",
       "      <th>4</th>\n",
       "      <td>1.065918</td>\n",
       "      <td>0.671840</td>\n",
       "      <td>0.237042</td>\n",
       "      <td>0.107865</td>\n",
       "      <td>0.421656</td>\n",
       "      <td>0.643996</td>\n",
       "      <td>0.506718</td>\n",
       "      <td>0.121326</td>\n",
       "      <td>0.069278</td>\n",
       "      <td>0.918193</td>\n",
       "      <td>...</td>\n",
       "      <td>0.000815</td>\n",
       "      <td>0.000699</td>\n",
       "      <td>0.000932</td>\n",
       "      <td>0.000932</td>\n",
       "      <td>0.000815</td>\n",
       "      <td>0.000932</td>\n",
       "      <td>0.000815</td>\n",
       "      <td>0.000815</td>\n",
       "      <td>0.000815</td>\n",
       "      <td>-0.000050</td>\n",
       "    </tr>\n",
       "  </tbody>\n",
       "</table>\n",
       "<p>5 rows × 8985 columns</p>\n",
       "</div>"
      ],
      "text/plain": [
       "movie_id    1         2         3         4         5         6       \\\n",
       "0         2.002181  0.625717  0.675625 -0.018185  0.156886  1.446400   \n",
       "1         0.083529  0.052178 -0.064242  0.007353  0.014829  0.093099   \n",
       "2         0.036247  0.015085  0.015709 -0.002183 -0.012611  0.081633   \n",
       "3         1.445332  0.377364  0.271421  0.042129  0.243851  0.473513   \n",
       "4         1.065918  0.671840  0.237042  0.107865  0.421656  0.643996   \n",
       "\n",
       "movie_id    7         8         9         10      ...    193565    193567  \\\n",
       "0         0.211579 -0.001568  0.114361  1.363766  ... -0.009787 -0.008389   \n",
       "1        -0.039704 -0.019928 -0.016412 -0.045517  ...  0.005834  0.005000   \n",
       "2        -0.002136  0.002498  0.006848  0.041097  ... -0.000061 -0.000052   \n",
       "3         0.357237 -0.014040  0.016063  0.218975  ... -0.001464 -0.001255   \n",
       "4         0.506718  0.121326  0.069278  0.918193  ...  0.000815  0.000699   \n",
       "\n",
       "movie_id    193571    193573    193579    193581    193583    193585  \\\n",
       "0        -0.011185 -0.011185 -0.009787 -0.011185 -0.009787 -0.009787   \n",
       "1         0.006667  0.006667  0.005834  0.006667  0.005834  0.005834   \n",
       "2        -0.000070 -0.000070 -0.000061 -0.000070 -0.000061 -0.000061   \n",
       "3        -0.001674 -0.001674 -0.001464 -0.001674 -0.001464 -0.001464   \n",
       "4         0.000932  0.000932  0.000815  0.000932  0.000815  0.000815   \n",
       "\n",
       "movie_id    193587    193609  \n",
       "0        -0.009787 -0.015383  \n",
       "1         0.005834  0.012289  \n",
       "2        -0.000061 -0.001825  \n",
       "3        -0.001464 -0.008747  \n",
       "4         0.000815 -0.000050  \n",
       "\n",
       "[5 rows x 8985 columns]"
      ]
     },
     "execution_count": 32,
     "metadata": {},
     "output_type": "execute_result"
    }
   ],
   "source": [
    "svd_predictions_score_df.head()"
   ]
  },
  {
   "cell_type": "code",
   "execution_count": 33,
   "metadata": {
    "scrolled": true
   },
   "outputs": [
    {
     "data": {
      "text/html": [
       "<div>\n",
       "<style scoped>\n",
       "    .dataframe tbody tr th:only-of-type {\n",
       "        vertical-align: middle;\n",
       "    }\n",
       "\n",
       "    .dataframe tbody tr th {\n",
       "        vertical-align: top;\n",
       "    }\n",
       "\n",
       "    .dataframe thead th {\n",
       "        text-align: right;\n",
       "    }\n",
       "</style>\n",
       "<table border=\"1\" class=\"dataframe\">\n",
       "  <thead>\n",
       "    <tr style=\"text-align: right;\">\n",
       "      <th>movie_id</th>\n",
       "      <th>1</th>\n",
       "      <th>2</th>\n",
       "      <th>3</th>\n",
       "      <th>4</th>\n",
       "      <th>5</th>\n",
       "      <th>6</th>\n",
       "      <th>7</th>\n",
       "      <th>8</th>\n",
       "      <th>9</th>\n",
       "      <th>10</th>\n",
       "      <th>...</th>\n",
       "      <th>193565</th>\n",
       "      <th>193567</th>\n",
       "      <th>193571</th>\n",
       "      <th>193573</th>\n",
       "      <th>193579</th>\n",
       "      <th>193581</th>\n",
       "      <th>193583</th>\n",
       "      <th>193585</th>\n",
       "      <th>193587</th>\n",
       "      <th>193609</th>\n",
       "    </tr>\n",
       "  </thead>\n",
       "  <tbody>\n",
       "    <tr>\n",
       "      <th>2</th>\n",
       "      <td>0.036247</td>\n",
       "      <td>0.015085</td>\n",
       "      <td>0.015709</td>\n",
       "      <td>-0.002183</td>\n",
       "      <td>-0.012611</td>\n",
       "      <td>0.081633</td>\n",
       "      <td>-0.002136</td>\n",
       "      <td>0.002498</td>\n",
       "      <td>0.006848</td>\n",
       "      <td>0.041097</td>\n",
       "      <td>...</td>\n",
       "      <td>-0.000061</td>\n",
       "      <td>-0.000052</td>\n",
       "      <td>-0.00007</td>\n",
       "      <td>-0.00007</td>\n",
       "      <td>-0.000061</td>\n",
       "      <td>-0.00007</td>\n",
       "      <td>-0.000061</td>\n",
       "      <td>-0.000061</td>\n",
       "      <td>-0.000061</td>\n",
       "      <td>-0.001825</td>\n",
       "    </tr>\n",
       "  </tbody>\n",
       "</table>\n",
       "<p>1 rows × 8985 columns</p>\n",
       "</div>"
      ],
      "text/plain": [
       "movie_id    1         2         3         4         5         6       \\\n",
       "2         0.036247  0.015085  0.015709 -0.002183 -0.012611  0.081633   \n",
       "\n",
       "movie_id    7         8         9         10      ...    193565    193567  \\\n",
       "2        -0.002136  0.002498  0.006848  0.041097  ... -0.000061 -0.000052   \n",
       "\n",
       "movie_id   193571   193573    193579   193581    193583    193585    193587  \\\n",
       "2        -0.00007 -0.00007 -0.000061 -0.00007 -0.000061 -0.000061 -0.000061   \n",
       "\n",
       "movie_id    193609  \n",
       "2        -0.001825  \n",
       "\n",
       "[1 rows x 8985 columns]"
      ]
     },
     "execution_count": 33,
     "metadata": {},
     "output_type": "execute_result"
    }
   ],
   "source": [
    "svd_predictions_score_df[svd_predictions_score_df.index == 2]"
   ]
  },
  {
   "cell_type": "code",
   "execution_count": 34,
   "metadata": {},
   "outputs": [
    {
     "data": {
      "text/plain": [
       "8985"
      ]
     },
     "execution_count": 34,
     "metadata": {},
     "output_type": "execute_result"
    }
   ],
   "source": [
    "len(svd_predictions_score[0])"
   ]
  },
  {
   "cell_type": "markdown",
   "metadata": {},
   "source": [
    "Code used from https://github.com/nikitaa30/Recommender-Systems/blob/master/matrix_factorisation_svd.py\n",
    "\n",
    "Provide top-K predictions for a user"
   ]
  },
  {
   "cell_type": "code",
   "execution_count": 35,
   "metadata": {},
   "outputs": [],
   "source": [
    "def recommend_movies(preds_df, userID, movies_df, original_ratings_df, num_recommendations):\n",
    "    # Get and sort the user's predictions\n",
    "    user_row_number = userID - 1 # UserID starts at 1, not 0\n",
    "    sorted_user_predictions = preds_df.iloc[user_row_number].sort_values(ascending=False) # UserID starts at 1\n",
    "    \n",
    "    # Get the user's data and merge in the movie information.\n",
    "    user_data = original_ratings_df[original_ratings_df.userId == (userID)]\n",
    "    user_full = (user_data.merge(movies_df, how = 'left', left_on = 'movieId', right_on = 'movieId').\n",
    "                     sort_values(['rating'], ascending=False)\n",
    "                 )\n",
    "    # Recommend the highest predicted rating movies that the user hasn't seen yet.\n",
    "    recommendations = (movies_df[~movies_df['movieId'].isin(user_full['movieId'])]).merge(pd.DataFrame(sorted_user_predictions).reset_index(), how = 'left', left_on = 'movieId',\n",
    "               right_on = 'movie_id').rename(columns = {user_row_number: 'Predictions'}).sort_values('Predictions', ascending = False).iloc[:num_recommendations, :-1]\n",
    "                      \n",
    "\n",
    "    return user_full, recommendations"
   ]
  },
  {
   "cell_type": "code",
   "execution_count": 36,
   "metadata": {},
   "outputs": [
    {
     "data": {
      "text/html": [
       "<div>\n",
       "<style scoped>\n",
       "    .dataframe tbody tr th:only-of-type {\n",
       "        vertical-align: middle;\n",
       "    }\n",
       "\n",
       "    .dataframe tbody tr th {\n",
       "        vertical-align: top;\n",
       "    }\n",
       "\n",
       "    .dataframe thead th {\n",
       "        text-align: right;\n",
       "    }\n",
       "</style>\n",
       "<table border=\"1\" class=\"dataframe\">\n",
       "  <thead>\n",
       "    <tr style=\"text-align: right;\">\n",
       "      <th></th>\n",
       "      <th>userId</th>\n",
       "      <th>movieId</th>\n",
       "      <th>rating</th>\n",
       "      <th>timestamp</th>\n",
       "      <th>title</th>\n",
       "      <th>genres</th>\n",
       "    </tr>\n",
       "  </thead>\n",
       "  <tbody>\n",
       "    <tr>\n",
       "      <th>231</th>\n",
       "      <td>1</td>\n",
       "      <td>5060</td>\n",
       "      <td>5.0</td>\n",
       "      <td>964984002</td>\n",
       "      <td>M*A*S*H (a.k.a. MASH) (1970)</td>\n",
       "      <td>Comedy|Drama|War</td>\n",
       "    </tr>\n",
       "    <tr>\n",
       "      <th>185</th>\n",
       "      <td>1</td>\n",
       "      <td>2872</td>\n",
       "      <td>5.0</td>\n",
       "      <td>964981680</td>\n",
       "      <td>Excalibur (1981)</td>\n",
       "      <td>Adventure|Fantasy</td>\n",
       "    </tr>\n",
       "    <tr>\n",
       "      <th>89</th>\n",
       "      <td>1</td>\n",
       "      <td>1291</td>\n",
       "      <td>5.0</td>\n",
       "      <td>964981909</td>\n",
       "      <td>Indiana Jones and the Last Crusade (1989)</td>\n",
       "      <td>Action|Adventure</td>\n",
       "    </tr>\n",
       "    <tr>\n",
       "      <th>90</th>\n",
       "      <td>1</td>\n",
       "      <td>1298</td>\n",
       "      <td>5.0</td>\n",
       "      <td>964984086</td>\n",
       "      <td>Pink Floyd: The Wall (1982)</td>\n",
       "      <td>Drama|Musical</td>\n",
       "    </tr>\n",
       "    <tr>\n",
       "      <th>190</th>\n",
       "      <td>1</td>\n",
       "      <td>2948</td>\n",
       "      <td>5.0</td>\n",
       "      <td>964982191</td>\n",
       "      <td>From Russia with Love (1963)</td>\n",
       "      <td>Action|Adventure|Thriller</td>\n",
       "    </tr>\n",
       "  </tbody>\n",
       "</table>\n",
       "</div>"
      ],
      "text/plain": [
       "     userId  movieId  rating  timestamp  \\\n",
       "231       1     5060     5.0  964984002   \n",
       "185       1     2872     5.0  964981680   \n",
       "89        1     1291     5.0  964981909   \n",
       "90        1     1298     5.0  964984086   \n",
       "190       1     2948     5.0  964982191   \n",
       "\n",
       "                                         title                     genres  \n",
       "231               M*A*S*H (a.k.a. MASH) (1970)           Comedy|Drama|War  \n",
       "185                           Excalibur (1981)          Adventure|Fantasy  \n",
       "89   Indiana Jones and the Last Crusade (1989)           Action|Adventure  \n",
       "90                 Pink Floyd: The Wall (1982)              Drama|Musical  \n",
       "190               From Russia with Love (1963)  Action|Adventure|Thriller  "
      ]
     },
     "execution_count": 36,
     "metadata": {},
     "output_type": "execute_result"
    }
   ],
   "source": [
    "already_rated, predictions = recommend_movies(svd_predictions_score_df, 1, movies_df, ratings_df, 100)\n",
    "already_rated.head()"
   ]
  },
  {
   "cell_type": "code",
   "execution_count": 37,
   "metadata": {},
   "outputs": [
    {
     "data": {
      "text/html": [
       "<div>\n",
       "<style scoped>\n",
       "    .dataframe tbody tr th:only-of-type {\n",
       "        vertical-align: middle;\n",
       "    }\n",
       "\n",
       "    .dataframe tbody tr th {\n",
       "        vertical-align: top;\n",
       "    }\n",
       "\n",
       "    .dataframe thead th {\n",
       "        text-align: right;\n",
       "    }\n",
       "</style>\n",
       "<table border=\"1\" class=\"dataframe\">\n",
       "  <thead>\n",
       "    <tr style=\"text-align: right;\">\n",
       "      <th></th>\n",
       "      <th>movieId</th>\n",
       "      <th>title</th>\n",
       "      <th>genres</th>\n",
       "      <th>movie_id</th>\n",
       "    </tr>\n",
       "  </thead>\n",
       "  <tbody>\n",
       "    <tr>\n",
       "      <th>615</th>\n",
       "      <td>858</td>\n",
       "      <td>Godfather, The (1972)</td>\n",
       "      <td>Crime|Drama</td>\n",
       "      <td>858.0</td>\n",
       "    </tr>\n",
       "    <tr>\n",
       "      <th>831</th>\n",
       "      <td>1200</td>\n",
       "      <td>Aliens (1986)</td>\n",
       "      <td>Action|Adventure|Horror|Sci-Fi</td>\n",
       "      <td>1200.0</td>\n",
       "    </tr>\n",
       "    <tr>\n",
       "      <th>1896</th>\n",
       "      <td>2762</td>\n",
       "      <td>Sixth Sense, The (1999)</td>\n",
       "      <td>Drama|Horror|Mystery</td>\n",
       "      <td>2762.0</td>\n",
       "    </tr>\n",
       "    <tr>\n",
       "      <th>445</th>\n",
       "      <td>541</td>\n",
       "      <td>Blade Runner (1982)</td>\n",
       "      <td>Action|Sci-Fi|Thriller</td>\n",
       "      <td>541.0</td>\n",
       "    </tr>\n",
       "    <tr>\n",
       "      <th>475</th>\n",
       "      <td>589</td>\n",
       "      <td>Terminator 2: Judgment Day (1991)</td>\n",
       "      <td>Action|Sci-Fi</td>\n",
       "      <td>589.0</td>\n",
       "    </tr>\n",
       "    <tr>\n",
       "      <th>...</th>\n",
       "      <td>...</td>\n",
       "      <td>...</td>\n",
       "      <td>...</td>\n",
       "      <td>...</td>\n",
       "    </tr>\n",
       "    <tr>\n",
       "      <th>880</th>\n",
       "      <td>1266</td>\n",
       "      <td>Unforgiven (1992)</td>\n",
       "      <td>Drama|Western</td>\n",
       "      <td>1266.0</td>\n",
       "    </tr>\n",
       "    <tr>\n",
       "      <th>1468</th>\n",
       "      <td>2150</td>\n",
       "      <td>Gods Must Be Crazy, The (1980)</td>\n",
       "      <td>Adventure|Comedy</td>\n",
       "      <td>2150.0</td>\n",
       "    </tr>\n",
       "    <tr>\n",
       "      <th>2005</th>\n",
       "      <td>2915</td>\n",
       "      <td>Risky Business (1983)</td>\n",
       "      <td>Comedy</td>\n",
       "      <td>2915.0</td>\n",
       "    </tr>\n",
       "    <tr>\n",
       "      <th>1482</th>\n",
       "      <td>2167</td>\n",
       "      <td>Blade (1998)</td>\n",
       "      <td>Action|Horror|Thriller</td>\n",
       "      <td>2167.0</td>\n",
       "    </tr>\n",
       "    <tr>\n",
       "      <th>1377</th>\n",
       "      <td>2023</td>\n",
       "      <td>Godfather: Part III, The (1990)</td>\n",
       "      <td>Crime|Drama|Mystery|Thriller</td>\n",
       "      <td>2023.0</td>\n",
       "    </tr>\n",
       "  </tbody>\n",
       "</table>\n",
       "<p>100 rows × 4 columns</p>\n",
       "</div>"
      ],
      "text/plain": [
       "      movieId                              title  \\\n",
       "615       858              Godfather, The (1972)   \n",
       "831      1200                      Aliens (1986)   \n",
       "1896     2762            Sixth Sense, The (1999)   \n",
       "445       541                Blade Runner (1982)   \n",
       "475       589  Terminator 2: Judgment Day (1991)   \n",
       "...       ...                                ...   \n",
       "880      1266                  Unforgiven (1992)   \n",
       "1468     2150     Gods Must Be Crazy, The (1980)   \n",
       "2005     2915              Risky Business (1983)   \n",
       "1482     2167                       Blade (1998)   \n",
       "1377     2023    Godfather: Part III, The (1990)   \n",
       "\n",
       "                              genres  movie_id  \n",
       "615                      Crime|Drama     858.0  \n",
       "831   Action|Adventure|Horror|Sci-Fi    1200.0  \n",
       "1896            Drama|Horror|Mystery    2762.0  \n",
       "445           Action|Sci-Fi|Thriller     541.0  \n",
       "475                    Action|Sci-Fi     589.0  \n",
       "...                              ...       ...  \n",
       "880                    Drama|Western    1266.0  \n",
       "1468                Adventure|Comedy    2150.0  \n",
       "2005                          Comedy    2915.0  \n",
       "1482          Action|Horror|Thriller    2167.0  \n",
       "1377    Crime|Drama|Mystery|Thriller    2023.0  \n",
       "\n",
       "[100 rows x 4 columns]"
      ]
     },
     "execution_count": 37,
     "metadata": {},
     "output_type": "execute_result"
    }
   ],
   "source": [
    "predictions"
   ]
  },
  {
   "cell_type": "code",
   "execution_count": 38,
   "metadata": {},
   "outputs": [],
   "source": [
    "predicted_rank_svd = predictions['movieId'].index.tolist()"
   ]
  },
  {
   "cell_type": "code",
   "execution_count": 39,
   "metadata": {},
   "outputs": [],
   "source": [
    "relevance_SVD = []\n",
    "for i in range(len(predicted_rank_svd)):\n",
    "    if predicted_rank_svd[i] in test_df['movie_id'][test_df['user_id'] == 1].values.tolist():\n",
    "        relevance_SVD.append(1)\n",
    "    else:\n",
    "        relevance_SVD.append(0)"
   ]
  },
  {
   "cell_type": "code",
   "execution_count": 40,
   "metadata": {},
   "outputs": [
    {
     "name": "stdout",
     "output_type": "stream",
     "text": [
      "0.15084420062289414\n"
     ]
    }
   ],
   "source": [
    "ndcg = NDCG_forUser(relevance_SVD)\n",
    "print(ndcg)"
   ]
  },
  {
   "cell_type": "markdown",
   "metadata": {},
   "source": [
    "# LightGBM Baseline"
   ]
  },
  {
   "cell_type": "markdown",
   "metadata": {},
   "source": [
    "SVD model Scores"
   ]
  },
  {
   "cell_type": "code",
   "execution_count": 41,
   "metadata": {},
   "outputs": [],
   "source": [
    "feature1 = []\n",
    "for i in range(len(num_users)):\n",
    "    s = svd_predictions_score[i]\n",
    "    s = s[:100]\n",
    "    feature1.append(s)"
   ]
  },
  {
   "cell_type": "markdown",
   "metadata": {},
   "source": [
    "Implicit Factorization model Scores"
   ]
  },
  {
   "cell_type": "code",
   "execution_count": 42,
   "metadata": {},
   "outputs": [],
   "source": [
    "feature2 = []\n",
    "for i in range(len(num_users)):\n",
    "    s = implicit_model.predict(i)\n",
    "    s = s[:100]\n",
    "    feature2.append(s)\n"
   ]
  },
  {
   "cell_type": "code",
   "execution_count": 43,
   "metadata": {},
   "outputs": [],
   "source": [
    "f_df = pd.DataFrame({'feature 1':feature1,'feature 2':feature2})"
   ]
  },
  {
   "cell_type": "code",
   "execution_count": 44,
   "metadata": {},
   "outputs": [
    {
     "data": {
      "text/html": [
       "<div>\n",
       "<style scoped>\n",
       "    .dataframe tbody tr th:only-of-type {\n",
       "        vertical-align: middle;\n",
       "    }\n",
       "\n",
       "    .dataframe tbody tr th {\n",
       "        vertical-align: top;\n",
       "    }\n",
       "\n",
       "    .dataframe thead th {\n",
       "        text-align: right;\n",
       "    }\n",
       "</style>\n",
       "<table border=\"1\" class=\"dataframe\">\n",
       "  <thead>\n",
       "    <tr style=\"text-align: right;\">\n",
       "      <th></th>\n",
       "      <th>feature 1</th>\n",
       "      <th>feature 2</th>\n",
       "    </tr>\n",
       "  </thead>\n",
       "  <tbody>\n",
       "    <tr>\n",
       "      <th>0</th>\n",
       "      <td>[2.002180699532938, 0.6257173492379384, 0.6756...</td>\n",
       "      <td>[10.233305, 11.34678, 11.345843, 11.062579, 10...</td>\n",
       "    </tr>\n",
       "    <tr>\n",
       "      <th>1</th>\n",
       "      <td>[0.0835293926545047, 0.0521778092508345, -0.06...</td>\n",
       "      <td>[3.5707326, -0.770489, 3.452682, 4.9666147, 4....</td>\n",
       "    </tr>\n",
       "    <tr>\n",
       "      <th>2</th>\n",
       "      <td>[0.0362471686296598, 0.015084676338946949, 0.0...</td>\n",
       "      <td>[10.972924, 7.153658, 7.9943137, 10.27981, 10....</td>\n",
       "    </tr>\n",
       "    <tr>\n",
       "      <th>3</th>\n",
       "      <td>[1.4453321621330586, 0.3773643114434533, 0.271...</td>\n",
       "      <td>[10.827234, 8.926591, 10.728007, 10.745284, 11...</td>\n",
       "    </tr>\n",
       "    <tr>\n",
       "      <th>4</th>\n",
       "      <td>[1.0659179900328029, 0.6718400485977617, 0.237...</td>\n",
       "      <td>[7.3672433, 6.209673, 7.2420077, 7.749375, 6.9...</td>\n",
       "    </tr>\n",
       "    <tr>\n",
       "      <th>...</th>\n",
       "      <td>...</td>\n",
       "      <td>...</td>\n",
       "    </tr>\n",
       "    <tr>\n",
       "      <th>605</th>\n",
       "      <td>[3.6588224608036737, 1.1064152537536378, -0.93...</td>\n",
       "      <td>[11.59507, 7.29216, 8.626015, 8.107226, 12.387...</td>\n",
       "    </tr>\n",
       "    <tr>\n",
       "      <th>606</th>\n",
       "      <td>[1.9508293028853967, 0.8499958985638902, 0.520...</td>\n",
       "      <td>[10.964111, 15.162393, 10.548957, 11.950042, 1...</td>\n",
       "    </tr>\n",
       "    <tr>\n",
       "      <th>607</th>\n",
       "      <td>[2.8270538292106204, 1.668609099220596, 1.7541...</td>\n",
       "      <td>[19.286173, 16.381222, 18.124258, 20.334213, 1...</td>\n",
       "    </tr>\n",
       "    <tr>\n",
       "      <th>608</th>\n",
       "      <td>[0.8008373831989377, 0.5372205458629462, 0.220...</td>\n",
       "      <td>[7.3754773, 5.340184, 6.639879, 7.254596, 6.02...</td>\n",
       "    </tr>\n",
       "    <tr>\n",
       "      <th>609</th>\n",
       "      <td>[0.5191393937598526, 2.5156594665781933, -0.61...</td>\n",
       "      <td>[6.862432, -7.6404047, 9.028363, 5.91983, 2.33...</td>\n",
       "    </tr>\n",
       "  </tbody>\n",
       "</table>\n",
       "<p>610 rows × 2 columns</p>\n",
       "</div>"
      ],
      "text/plain": [
       "                                             feature 1  \\\n",
       "0    [2.002180699532938, 0.6257173492379384, 0.6756...   \n",
       "1    [0.0835293926545047, 0.0521778092508345, -0.06...   \n",
       "2    [0.0362471686296598, 0.015084676338946949, 0.0...   \n",
       "3    [1.4453321621330586, 0.3773643114434533, 0.271...   \n",
       "4    [1.0659179900328029, 0.6718400485977617, 0.237...   \n",
       "..                                                 ...   \n",
       "605  [3.6588224608036737, 1.1064152537536378, -0.93...   \n",
       "606  [1.9508293028853967, 0.8499958985638902, 0.520...   \n",
       "607  [2.8270538292106204, 1.668609099220596, 1.7541...   \n",
       "608  [0.8008373831989377, 0.5372205458629462, 0.220...   \n",
       "609  [0.5191393937598526, 2.5156594665781933, -0.61...   \n",
       "\n",
       "                                             feature 2  \n",
       "0    [10.233305, 11.34678, 11.345843, 11.062579, 10...  \n",
       "1    [3.5707326, -0.770489, 3.452682, 4.9666147, 4....  \n",
       "2    [10.972924, 7.153658, 7.9943137, 10.27981, 10....  \n",
       "3    [10.827234, 8.926591, 10.728007, 10.745284, 11...  \n",
       "4    [7.3672433, 6.209673, 7.2420077, 7.749375, 6.9...  \n",
       "..                                                 ...  \n",
       "605  [11.59507, 7.29216, 8.626015, 8.107226, 12.387...  \n",
       "606  [10.964111, 15.162393, 10.548957, 11.950042, 1...  \n",
       "607  [19.286173, 16.381222, 18.124258, 20.334213, 1...  \n",
       "608  [7.3754773, 5.340184, 6.639879, 7.254596, 6.02...  \n",
       "609  [6.862432, -7.6404047, 9.028363, 5.91983, 2.33...  \n",
       "\n",
       "[610 rows x 2 columns]"
      ]
     },
     "execution_count": 44,
     "metadata": {},
     "output_type": "execute_result"
    }
   ],
   "source": [
    "f_df"
   ]
  },
  {
   "cell_type": "code",
   "execution_count": 45,
   "metadata": {},
   "outputs": [
    {
     "data": {
      "text/plain": [
       "array([[[ 2.00218070e+00,  6.25717349e-01,  6.75625240e-01, ...,\n",
       "          1.13068470e+00,  4.39070790e-01, -4.04866738e-03],\n",
       "        [ 8.35293927e-02,  5.21778093e-02, -6.42420145e-02, ...,\n",
       "          1.61093874e-01, -3.07181821e-02,  5.59573868e-03],\n",
       "        [ 3.62471686e-02,  1.50846763e-02,  1.57090979e-02, ...,\n",
       "          3.85907056e-02,  2.28164280e-02, -1.24996048e-03],\n",
       "        ...,\n",
       "        [ 2.82705383e+00,  1.66860910e+00,  1.75416014e+00, ...,\n",
       "          1.73568787e+00,  1.48591300e+00, -1.28088739e-01],\n",
       "        [ 8.00837383e-01,  5.37220546e-01,  2.20873741e-01, ...,\n",
       "          2.18044723e-01,  3.18271905e-01,  6.84098694e-02],\n",
       "        [ 5.19139394e-01,  2.51565947e+00, -6.15648786e-01, ...,\n",
       "          4.61598661e+00,  1.25336524e+00,  1.09447498e-02]],\n",
       "\n",
       "       [[ 1.02333050e+01,  1.13467798e+01,  1.13458433e+01, ...,\n",
       "          8.05007076e+00,  8.34071255e+00,  8.80588055e+00],\n",
       "        [ 3.57073259e+00, -7.70488977e-01,  3.45268202e+00, ...,\n",
       "         -9.89124775e-01,  1.14805102e+00, -1.69669449e-01],\n",
       "        [ 1.09729242e+01,  7.15365791e+00,  7.99431372e+00, ...,\n",
       "          9.38607407e+00,  9.62981224e+00,  9.07359123e+00],\n",
       "        ...,\n",
       "        [ 1.92861729e+01,  1.63812218e+01,  1.81242580e+01, ...,\n",
       "          1.33878803e+01,  1.53466110e+01,  1.59418468e+01],\n",
       "        [ 7.37547731e+00,  5.34018421e+00,  6.63987923e+00, ...,\n",
       "          1.30060375e+00,  3.31981540e+00, -6.02421522e-01],\n",
       "        [ 6.86243200e+00, -7.64040470e+00,  9.02836323e+00, ...,\n",
       "          5.84292221e+00,  2.95262098e+00,  2.44536829e+00]]])"
      ]
     },
     "execution_count": 45,
     "metadata": {},
     "output_type": "execute_result"
    }
   ],
   "source": [
    "features = np.stack((feature1,feature2))\n",
    "features"
   ]
  },
  {
   "cell_type": "code",
   "execution_count": 46,
   "metadata": {},
   "outputs": [],
   "source": [
    "target = []\n",
    "for i in range(1,611):\n",
    "    target.append(train_df[train_df['user_id'] == i])"
   ]
  },
  {
   "cell_type": "code",
   "execution_count": 47,
   "metadata": {},
   "outputs": [
    {
     "data": {
      "text/html": [
       "<div>\n",
       "<style scoped>\n",
       "    .dataframe tbody tr th:only-of-type {\n",
       "        vertical-align: middle;\n",
       "    }\n",
       "\n",
       "    .dataframe tbody tr th {\n",
       "        vertical-align: top;\n",
       "    }\n",
       "\n",
       "    .dataframe thead th {\n",
       "        text-align: right;\n",
       "    }\n",
       "</style>\n",
       "<table border=\"1\" class=\"dataframe\">\n",
       "  <thead>\n",
       "    <tr style=\"text-align: right;\">\n",
       "      <th></th>\n",
       "      <th>user_id</th>\n",
       "      <th>movie_id</th>\n",
       "      <th>rating</th>\n",
       "    </tr>\n",
       "  </thead>\n",
       "  <tbody>\n",
       "    <tr>\n",
       "      <th>310</th>\n",
       "      <td>1</td>\n",
       "      <td>2174</td>\n",
       "      <td>4.0</td>\n",
       "    </tr>\n",
       "    <tr>\n",
       "      <th>601</th>\n",
       "      <td>1</td>\n",
       "      <td>3479</td>\n",
       "      <td>4.0</td>\n",
       "    </tr>\n",
       "    <tr>\n",
       "      <th>616</th>\n",
       "      <td>1</td>\n",
       "      <td>3062</td>\n",
       "      <td>4.0</td>\n",
       "    </tr>\n",
       "    <tr>\n",
       "      <th>968</th>\n",
       "      <td>1</td>\n",
       "      <td>1270</td>\n",
       "      <td>5.0</td>\n",
       "    </tr>\n",
       "    <tr>\n",
       "      <th>1625</th>\n",
       "      <td>1</td>\n",
       "      <td>2492</td>\n",
       "      <td>4.0</td>\n",
       "    </tr>\n",
       "    <tr>\n",
       "      <th>...</th>\n",
       "      <td>...</td>\n",
       "      <td>...</td>\n",
       "      <td>...</td>\n",
       "    </tr>\n",
       "    <tr>\n",
       "      <th>78513</th>\n",
       "      <td>1</td>\n",
       "      <td>804</td>\n",
       "      <td>4.0</td>\n",
       "    </tr>\n",
       "    <tr>\n",
       "      <th>78700</th>\n",
       "      <td>1</td>\n",
       "      <td>2528</td>\n",
       "      <td>3.0</td>\n",
       "    </tr>\n",
       "    <tr>\n",
       "      <th>79037</th>\n",
       "      <td>1</td>\n",
       "      <td>231</td>\n",
       "      <td>5.0</td>\n",
       "    </tr>\n",
       "    <tr>\n",
       "      <th>79045</th>\n",
       "      <td>1</td>\n",
       "      <td>1220</td>\n",
       "      <td>5.0</td>\n",
       "    </tr>\n",
       "    <tr>\n",
       "      <th>79363</th>\n",
       "      <td>1</td>\n",
       "      <td>543</td>\n",
       "      <td>4.0</td>\n",
       "    </tr>\n",
       "  </tbody>\n",
       "</table>\n",
       "<p>175 rows × 3 columns</p>\n",
       "</div>"
      ],
      "text/plain": [
       "       user_id  movie_id  rating\n",
       "310          1      2174     4.0\n",
       "601          1      3479     4.0\n",
       "616          1      3062     4.0\n",
       "968          1      1270     5.0\n",
       "1625         1      2492     4.0\n",
       "...        ...       ...     ...\n",
       "78513        1       804     4.0\n",
       "78700        1      2528     3.0\n",
       "79037        1       231     5.0\n",
       "79045        1      1220     5.0\n",
       "79363        1       543     4.0\n",
       "\n",
       "[175 rows x 3 columns]"
      ]
     },
     "execution_count": 47,
     "metadata": {},
     "output_type": "execute_result"
    }
   ],
   "source": [
    "train_df[train_df['user_id'] == 1]"
   ]
  },
  {
   "cell_type": "code",
   "execution_count": 48,
   "metadata": {},
   "outputs": [],
   "source": [
    "target_movies = train_df[:100]['movie_id'].values"
   ]
  },
  {
   "cell_type": "code",
   "execution_count": 49,
   "metadata": {},
   "outputs": [
    {
     "data": {
      "text/plain": [
       "array([140247,  58998,   4823,   1196,   1517,   3868,     36,   8464,\n",
       "        56174,  69122,  86882,   3702,   3994,    367,    916,   4488,\n",
       "          956, 111360,   3173,    780,    348,   1967,   3051,  46578,\n",
       "         8507,   2524,   3308,     50, 187593,  48780,      2,  66097,\n",
       "        85022,   1500,   3787,    150,    737,  43928,    836,   1431,\n",
       "        64032,   2953,    235,    150,   6378, 122926,   1393,   6787,\n",
       "         3911,    928,   4720,    704,   4770,   2502,  36535,   3462,\n",
       "         1831,  67923,   4011,    886,   1136,  31658,   2912,    709,\n",
       "         2024,   4347,   2052,   1587,   6711,   1104,   3948,  51662,\n",
       "         3072,  70286,  85179,   4085,  84152,  80489,    440, 106785,\n",
       "         1391,   2716,   1875,   2804,    380,  52319,    519,   1088,\n",
       "         4446,   5459,  44204,   5992,   1596, 180231,  56367,   2617,\n",
       "          302,    551,   1704,   1221], dtype=int64)"
      ]
     },
     "execution_count": 49,
     "metadata": {},
     "output_type": "execute_result"
    }
   ],
   "source": [
    "target_movies"
   ]
  },
  {
   "cell_type": "code",
   "execution_count": 50,
   "metadata": {},
   "outputs": [],
   "source": [
    "watched = []\n",
    "for i in range(len(num_users)):\n",
    "    watched.append(ratings_df[ratings_df[\"userId\"]==uid_rev_map.get(i)].groupby(\"movieId\")[\"movieId\"].count().index)  "
   ]
  },
  {
   "cell_type": "code",
   "execution_count": 51,
   "metadata": {},
   "outputs": [],
   "source": [
    "user_target = []\n",
    "target = []\n",
    "for i in range(len(num_users)):\n",
    "    for target_movie in target_movies:\n",
    "        if target_movie in watched[i]:\n",
    "            user_target.append(1)\n",
    "        else:\n",
    "            user_target.append(0)\n",
    "    target.append(user_target)\n",
    "    user_target = []"
   ]
  },
  {
   "cell_type": "code",
   "execution_count": 52,
   "metadata": {},
   "outputs": [
    {
     "data": {
      "text/plain": [
       "Int64Index([   1,    3,    6,   47,   50,   70,  101,  110,  151,  157,\n",
       "            ...\n",
       "            3671, 3702, 3703, 3729, 3740, 3744, 3793, 3809, 4006, 5060],\n",
       "           dtype='int64', name='movieId', length=232)"
      ]
     },
     "execution_count": 52,
     "metadata": {},
     "output_type": "execute_result"
    }
   ],
   "source": [
    "watched[0]"
   ]
  },
  {
   "cell_type": "code",
   "execution_count": 53,
   "metadata": {},
   "outputs": [
    {
     "data": {
      "text/plain": [
       "True"
      ]
     },
     "execution_count": 53,
     "metadata": {},
     "output_type": "execute_result"
    }
   ],
   "source": [
    "592 in watched[0]"
   ]
  },
  {
   "cell_type": "code",
   "execution_count": 54,
   "metadata": {},
   "outputs": [
    {
     "data": {
      "text/plain": [
       "[0, 0, 0, 1, 1, 0, 0, 0, 0, 0, 0, 1, 0, 1, 0, 0, 0, 0, 0, 1]"
      ]
     },
     "execution_count": 54,
     "metadata": {},
     "output_type": "execute_result"
    }
   ],
   "source": [
    "target[0][:20]"
   ]
  },
  {
   "cell_type": "code",
   "execution_count": 55,
   "metadata": {},
   "outputs": [
    {
     "data": {
      "text/plain": [
       "numpy.ndarray"
      ]
     },
     "execution_count": 55,
     "metadata": {},
     "output_type": "execute_result"
    }
   ],
   "source": [
    "type(np.array(target))"
   ]
  },
  {
   "cell_type": "code",
   "execution_count": 56,
   "metadata": {},
   "outputs": [],
   "source": [
    "X = np.array(features)\n",
    "y = np.array(target)"
   ]
  },
  {
   "cell_type": "code",
   "execution_count": 57,
   "metadata": {},
   "outputs": [],
   "source": [
    "X = X.reshape(61000, 2)\n"
   ]
  },
  {
   "cell_type": "code",
   "execution_count": 58,
   "metadata": {},
   "outputs": [
    {
     "data": {
      "text/plain": [
       "(61000, 2)"
      ]
     },
     "execution_count": 58,
     "metadata": {},
     "output_type": "execute_result"
    }
   ],
   "source": [
    "X.shape"
   ]
  },
  {
   "cell_type": "code",
   "execution_count": 59,
   "metadata": {},
   "outputs": [],
   "source": [
    "y = y.reshape(61000,)"
   ]
  },
  {
   "cell_type": "code",
   "execution_count": 60,
   "metadata": {},
   "outputs": [
    {
     "data": {
      "text/plain": [
       "(61000,)"
      ]
     },
     "execution_count": 60,
     "metadata": {},
     "output_type": "execute_result"
    }
   ],
   "source": [
    "y.shape"
   ]
  },
  {
   "cell_type": "code",
   "execution_count": 61,
   "metadata": {},
   "outputs": [],
   "source": [
    "import lightgbm as lgb\n",
    "gbm = lgb.LGBMRanker()"
   ]
  },
  {
   "cell_type": "code",
   "execution_count": 62,
   "metadata": {},
   "outputs": [],
   "source": [
    "from sklearn.model_selection import train_test_split\n",
    "X_train, X_test, y_train, y_test = train_test_split(X, y, test_size=0.2, random_state=1)\n",
    "X_train, X_val, y_train, y_val = train_test_split(X_train, y_train, test_size=0.2, random_state=1)"
   ]
  },
  {
   "cell_type": "code",
   "execution_count": 63,
   "metadata": {},
   "outputs": [
    {
     "name": "stdout",
     "output_type": "stream",
     "text": [
      "[39040]\n",
      "[9760]\n",
      "[12200]\n"
     ]
    }
   ],
   "source": [
    "query_train = [X_train.shape[0]]\n",
    "query_val = [X_val.shape[0]]\n",
    "query_test = [X_test.shape[0]]\n",
    "group_train = []\n",
    "group_val = []\n",
    "print(query_train)\n",
    "print(query_val)\n",
    "print(query_test)\n",
    "for i in range(390):\n",
    "    group_train.append(100)\n",
    "group_train.append(40)\n",
    "group_val.append(60)\n",
    "for i in range(97):\n",
    "    group_val.append(100)\n"
   ]
  },
  {
   "cell_type": "code",
   "execution_count": 88,
   "metadata": {},
   "outputs": [
    {
     "name": "stdout",
     "output_type": "stream",
     "text": [
      "[1]\tvalid_0's ndcg@5: 0.0651651\tvalid_0's ndcg@10: 0.0781093\tvalid_0's ndcg@20: 0.132326\n",
      "Training until validation scores don't improve for 50 rounds\n",
      "[2]\tvalid_0's ndcg@5: 0.0819297\tvalid_0's ndcg@10: 0.088758\tvalid_0's ndcg@20: 0.138505\n",
      "[3]\tvalid_0's ndcg@5: 0.0757278\tvalid_0's ndcg@10: 0.088323\tvalid_0's ndcg@20: 0.136102\n",
      "[4]\tvalid_0's ndcg@5: 0.0833612\tvalid_0's ndcg@10: 0.0944711\tvalid_0's ndcg@20: 0.139024\n",
      "[5]\tvalid_0's ndcg@5: 0.0779176\tvalid_0's ndcg@10: 0.090658\tvalid_0's ndcg@20: 0.139731\n",
      "[6]\tvalid_0's ndcg@5: 0.086418\tvalid_0's ndcg@10: 0.0981448\tvalid_0's ndcg@20: 0.143696\n",
      "[7]\tvalid_0's ndcg@5: 0.0865125\tvalid_0's ndcg@10: 0.0943135\tvalid_0's ndcg@20: 0.143099\n",
      "[8]\tvalid_0's ndcg@5: 0.0897968\tvalid_0's ndcg@10: 0.0983474\tvalid_0's ndcg@20: 0.146095\n",
      "[9]\tvalid_0's ndcg@5: 0.082299\tvalid_0's ndcg@10: 0.100523\tvalid_0's ndcg@20: 0.143489\n",
      "[10]\tvalid_0's ndcg@5: 0.0780278\tvalid_0's ndcg@10: 0.0986899\tvalid_0's ndcg@20: 0.145002\n",
      "[11]\tvalid_0's ndcg@5: 0.0895127\tvalid_0's ndcg@10: 0.10121\tvalid_0's ndcg@20: 0.146277\n",
      "[12]\tvalid_0's ndcg@5: 0.086138\tvalid_0's ndcg@10: 0.0984675\tvalid_0's ndcg@20: 0.146116\n",
      "[13]\tvalid_0's ndcg@5: 0.0892954\tvalid_0's ndcg@10: 0.0995121\tvalid_0's ndcg@20: 0.146896\n",
      "[14]\tvalid_0's ndcg@5: 0.086594\tvalid_0's ndcg@10: 0.0999133\tvalid_0's ndcg@20: 0.143782\n",
      "[15]\tvalid_0's ndcg@5: 0.0801345\tvalid_0's ndcg@10: 0.0989459\tvalid_0's ndcg@20: 0.140457\n",
      "[16]\tvalid_0's ndcg@5: 0.0832251\tvalid_0's ndcg@10: 0.103463\tvalid_0's ndcg@20: 0.146569\n",
      "[17]\tvalid_0's ndcg@5: 0.082772\tvalid_0's ndcg@10: 0.0989838\tvalid_0's ndcg@20: 0.148814\n",
      "[18]\tvalid_0's ndcg@5: 0.0895768\tvalid_0's ndcg@10: 0.101699\tvalid_0's ndcg@20: 0.146141\n",
      "[19]\tvalid_0's ndcg@5: 0.0847156\tvalid_0's ndcg@10: 0.103312\tvalid_0's ndcg@20: 0.151065\n",
      "[20]\tvalid_0's ndcg@5: 0.0814947\tvalid_0's ndcg@10: 0.0993727\tvalid_0's ndcg@20: 0.148003\n",
      "[21]\tvalid_0's ndcg@5: 0.0847566\tvalid_0's ndcg@10: 0.100909\tvalid_0's ndcg@20: 0.14945\n",
      "[22]\tvalid_0's ndcg@5: 0.0841499\tvalid_0's ndcg@10: 0.101146\tvalid_0's ndcg@20: 0.153161\n",
      "[23]\tvalid_0's ndcg@5: 0.0850003\tvalid_0's ndcg@10: 0.103171\tvalid_0's ndcg@20: 0.155669\n",
      "[24]\tvalid_0's ndcg@5: 0.0848486\tvalid_0's ndcg@10: 0.102969\tvalid_0's ndcg@20: 0.155989\n",
      "[25]\tvalid_0's ndcg@5: 0.0810067\tvalid_0's ndcg@10: 0.103706\tvalid_0's ndcg@20: 0.158903\n",
      "[26]\tvalid_0's ndcg@5: 0.0807034\tvalid_0's ndcg@10: 0.104328\tvalid_0's ndcg@20: 0.155404\n",
      "[27]\tvalid_0's ndcg@5: 0.0776342\tvalid_0's ndcg@10: 0.104948\tvalid_0's ndcg@20: 0.154178\n",
      "[28]\tvalid_0's ndcg@5: 0.080525\tvalid_0's ndcg@10: 0.105497\tvalid_0's ndcg@20: 0.156262\n",
      "[29]\tvalid_0's ndcg@5: 0.0805866\tvalid_0's ndcg@10: 0.102249\tvalid_0's ndcg@20: 0.157893\n",
      "[30]\tvalid_0's ndcg@5: 0.0836558\tvalid_0's ndcg@10: 0.10483\tvalid_0's ndcg@20: 0.15656\n",
      "[31]\tvalid_0's ndcg@5: 0.0852116\tvalid_0's ndcg@10: 0.105042\tvalid_0's ndcg@20: 0.157218\n",
      "[32]\tvalid_0's ndcg@5: 0.0882808\tvalid_0's ndcg@10: 0.105332\tvalid_0's ndcg@20: 0.15913\n",
      "[33]\tvalid_0's ndcg@5: 0.0925105\tvalid_0's ndcg@10: 0.110536\tvalid_0's ndcg@20: 0.160033\n",
      "[34]\tvalid_0's ndcg@5: 0.0916024\tvalid_0's ndcg@10: 0.109012\tvalid_0's ndcg@20: 0.15858\n",
      "[35]\tvalid_0's ndcg@5: 0.0937859\tvalid_0's ndcg@10: 0.110603\tvalid_0's ndcg@20: 0.160344\n",
      "[36]\tvalid_0's ndcg@5: 0.0925086\tvalid_0's ndcg@10: 0.110093\tvalid_0's ndcg@20: 0.159384\n",
      "[37]\tvalid_0's ndcg@5: 0.0931401\tvalid_0's ndcg@10: 0.108951\tvalid_0's ndcg@20: 0.159557\n",
      "[38]\tvalid_0's ndcg@5: 0.0923446\tvalid_0's ndcg@10: 0.109216\tvalid_0's ndcg@20: 0.159919\n",
      "[39]\tvalid_0's ndcg@5: 0.0936834\tvalid_0's ndcg@10: 0.110877\tvalid_0's ndcg@20: 0.160017\n",
      "[40]\tvalid_0's ndcg@5: 0.096378\tvalid_0's ndcg@10: 0.114437\tvalid_0's ndcg@20: 0.162169\n",
      "[41]\tvalid_0's ndcg@5: 0.096688\tvalid_0's ndcg@10: 0.114591\tvalid_0's ndcg@20: 0.16425\n",
      "[42]\tvalid_0's ndcg@5: 0.0973811\tvalid_0's ndcg@10: 0.115368\tvalid_0's ndcg@20: 0.164879\n",
      "[43]\tvalid_0's ndcg@5: 0.0950459\tvalid_0's ndcg@10: 0.109731\tvalid_0's ndcg@20: 0.162281\n",
      "[44]\tvalid_0's ndcg@5: 0.0938587\tvalid_0's ndcg@10: 0.106735\tvalid_0's ndcg@20: 0.162764\n",
      "[45]\tvalid_0's ndcg@5: 0.0926255\tvalid_0's ndcg@10: 0.105666\tvalid_0's ndcg@20: 0.161344\n",
      "[46]\tvalid_0's ndcg@5: 0.0928387\tvalid_0's ndcg@10: 0.105873\tvalid_0's ndcg@20: 0.159096\n",
      "[47]\tvalid_0's ndcg@5: 0.0925354\tvalid_0's ndcg@10: 0.105552\tvalid_0's ndcg@20: 0.158255\n",
      "[48]\tvalid_0's ndcg@5: 0.0911965\tvalid_0's ndcg@10: 0.103331\tvalid_0's ndcg@20: 0.156219\n",
      "[49]\tvalid_0's ndcg@5: 0.0911083\tvalid_0's ndcg@10: 0.103959\tvalid_0's ndcg@20: 0.160327\n",
      "[50]\tvalid_0's ndcg@5: 0.0917398\tvalid_0's ndcg@10: 0.104585\tvalid_0's ndcg@20: 0.161661\n",
      "[51]\tvalid_0's ndcg@5: 0.0918914\tvalid_0's ndcg@10: 0.104512\tvalid_0's ndcg@20: 0.160046\n",
      "[52]\tvalid_0's ndcg@5: 0.0913501\tvalid_0's ndcg@10: 0.103351\tvalid_0's ndcg@20: 0.156642\n",
      "[53]\tvalid_0's ndcg@5: 0.0912866\tvalid_0's ndcg@10: 0.103397\tvalid_0's ndcg@20: 0.155314\n",
      "[54]\tvalid_0's ndcg@5: 0.0894397\tvalid_0's ndcg@10: 0.098136\tvalid_0's ndcg@20: 0.156224\n",
      "[55]\tvalid_0's ndcg@5: 0.0872493\tvalid_0's ndcg@10: 0.0971383\tvalid_0's ndcg@20: 0.154849\n",
      "[56]\tvalid_0's ndcg@5: 0.0865153\tvalid_0's ndcg@10: 0.0992074\tvalid_0's ndcg@20: 0.155863\n",
      "[57]\tvalid_0's ndcg@5: 0.0854779\tvalid_0's ndcg@10: 0.0985465\tvalid_0's ndcg@20: 0.155802\n",
      "[58]\tvalid_0's ndcg@5: 0.0889101\tvalid_0's ndcg@10: 0.101597\tvalid_0's ndcg@20: 0.155163\n",
      "[59]\tvalid_0's ndcg@5: 0.0897958\tvalid_0's ndcg@10: 0.105364\tvalid_0's ndcg@20: 0.156952\n",
      "[60]\tvalid_0's ndcg@5: 0.0912863\tvalid_0's ndcg@10: 0.103995\tvalid_0's ndcg@20: 0.157427\n",
      "[61]\tvalid_0's ndcg@5: 0.0877048\tvalid_0's ndcg@10: 0.10252\tvalid_0's ndcg@20: 0.155971\n",
      "[62]\tvalid_0's ndcg@5: 0.0856935\tvalid_0's ndcg@10: 0.103087\tvalid_0's ndcg@20: 0.154756\n",
      "[63]\tvalid_0's ndcg@5: 0.08971\tvalid_0's ndcg@10: 0.105806\tvalid_0's ndcg@20: 0.157786\n",
      "[64]\tvalid_0's ndcg@5: 0.0895583\tvalid_0's ndcg@10: 0.10569\tvalid_0's ndcg@20: 0.15645\n",
      "[65]\tvalid_0's ndcg@5: 0.0894701\tvalid_0's ndcg@10: 0.105735\tvalid_0's ndcg@20: 0.157772\n",
      "[66]\tvalid_0's ndcg@5: 0.0890169\tvalid_0's ndcg@10: 0.105442\tvalid_0's ndcg@20: 0.155538\n",
      "[67]\tvalid_0's ndcg@5: 0.0891686\tvalid_0's ndcg@10: 0.104812\tvalid_0's ndcg@20: 0.155508\n",
      "[68]\tvalid_0's ndcg@5: 0.0904459\tvalid_0's ndcg@10: 0.105209\tvalid_0's ndcg@20: 0.156926\n",
      "[69]\tvalid_0's ndcg@5: 0.0920246\tvalid_0's ndcg@10: 0.105479\tvalid_0's ndcg@20: 0.157923\n",
      "[70]\tvalid_0's ndcg@5: 0.0920246\tvalid_0's ndcg@10: 0.105395\tvalid_0's ndcg@20: 0.158535\n",
      "[71]\tvalid_0's ndcg@5: 0.0906858\tvalid_0's ndcg@10: 0.104764\tvalid_0's ndcg@20: 0.157889\n",
      "[72]\tvalid_0's ndcg@5: 0.0932118\tvalid_0's ndcg@10: 0.103253\tvalid_0's ndcg@20: 0.158795\n",
      "[73]\tvalid_0's ndcg@5: 0.0923261\tvalid_0's ndcg@10: 0.104201\tvalid_0's ndcg@20: 0.158297\n",
      "[74]\tvalid_0's ndcg@5: 0.0922627\tvalid_0's ndcg@10: 0.103394\tvalid_0's ndcg@20: 0.156828\n",
      "[75]\tvalid_0's ndcg@5: 0.0897744\tvalid_0's ndcg@10: 0.104176\tvalid_0's ndcg@20: 0.15946\n",
      "[76]\tvalid_0's ndcg@5: 0.0893213\tvalid_0's ndcg@10: 0.102935\tvalid_0's ndcg@20: 0.157851\n",
      "[77]\tvalid_0's ndcg@5: 0.09182\tvalid_0's ndcg@10: 0.105006\tvalid_0's ndcg@20: 0.160264\n",
      "[78]\tvalid_0's ndcg@5: 0.0931589\tvalid_0's ndcg@10: 0.105009\tvalid_0's ndcg@20: 0.159147\n",
      "[79]\tvalid_0's ndcg@5: 0.0919102\tvalid_0's ndcg@10: 0.102872\tvalid_0's ndcg@20: 0.158505\n",
      "[80]\tvalid_0's ndcg@5: 0.0880435\tvalid_0's ndcg@10: 0.101322\tvalid_0's ndcg@20: 0.157614\n",
      "[81]\tvalid_0's ndcg@5: 0.0865892\tvalid_0's ndcg@10: 0.103152\tvalid_0's ndcg@20: 0.157346\n",
      "[82]\tvalid_0's ndcg@5: 0.0846456\tvalid_0's ndcg@10: 0.103459\tvalid_0's ndcg@20: 0.156527\n",
      "[83]\tvalid_0's ndcg@5: 0.0880182\tvalid_0's ndcg@10: 0.104164\tvalid_0's ndcg@20: 0.158783\n",
      "[84]\tvalid_0's ndcg@5: 0.0890555\tvalid_0's ndcg@10: 0.105772\tvalid_0's ndcg@20: 0.158446\n",
      "[85]\tvalid_0's ndcg@5: 0.0876881\tvalid_0's ndcg@10: 0.104042\tvalid_0's ndcg@20: 0.157864\n",
      "[86]\tvalid_0's ndcg@5: 0.0891786\tvalid_0's ndcg@10: 0.103526\tvalid_0's ndcg@20: 0.158788\n",
      "[87]\tvalid_0's ndcg@5: 0.0848998\tvalid_0's ndcg@10: 0.101348\tvalid_0's ndcg@20: 0.155347\n",
      "[88]\tvalid_0's ndcg@5: 0.0826137\tvalid_0's ndcg@10: 0.102052\tvalid_0's ndcg@20: 0.156625\n",
      "[89]\tvalid_0's ndcg@5: 0.0860745\tvalid_0's ndcg@10: 0.104286\tvalid_0's ndcg@20: 0.158607\n",
      "[90]\tvalid_0's ndcg@5: 0.0859229\tvalid_0's ndcg@10: 0.105102\tvalid_0's ndcg@20: 0.159164\n",
      "[91]\tvalid_0's ndcg@5: 0.0857731\tvalid_0's ndcg@10: 0.105059\tvalid_0's ndcg@20: 0.159456\n",
      "[92]\tvalid_0's ndcg@5: 0.0870485\tvalid_0's ndcg@10: 0.104168\tvalid_0's ndcg@20: 0.159752\n",
      "Early stopping, best iteration is:\n",
      "[42]\tvalid_0's ndcg@5: 0.0973811\tvalid_0's ndcg@10: 0.115368\tvalid_0's ndcg@20: 0.164879\n"
     ]
    },
    {
     "data": {
      "text/plain": [
       "LGBMRanker()"
      ]
     },
     "execution_count": 88,
     "metadata": {},
     "output_type": "execute_result"
    }
   ],
   "source": [
    "gbm.fit(X_train, y_train, group=group_train,\n",
    "        eval_set=[(X_val, y_val)], eval_group=[group_val],\n",
    "        eval_at=[5, 10, 20], early_stopping_rounds=50)\n",
    "#group – Group data of training data."
   ]
  },
  {
   "cell_type": "code",
   "execution_count": 89,
   "metadata": {},
   "outputs": [],
   "source": [
    "test_pred = gbm.predict(X_test)"
   ]
  },
  {
   "cell_type": "code",
   "execution_count": 90,
   "metadata": {},
   "outputs": [
    {
     "data": {
      "text/plain": [
       "array([-0.18043759,  0.50321773, -0.21359669, ..., -0.06582508,\n",
       "       -0.18480074, -0.15752514])"
      ]
     },
     "execution_count": 90,
     "metadata": {},
     "output_type": "execute_result"
    }
   ],
   "source": [
    "test_pred"
   ]
  },
  {
   "cell_type": "code",
   "execution_count": null,
   "metadata": {},
   "outputs": [],
   "source": []
  },
  {
   "cell_type": "code",
   "execution_count": null,
   "metadata": {},
   "outputs": [],
   "source": []
  },
  {
   "cell_type": "code",
   "execution_count": null,
   "metadata": {},
   "outputs": [],
   "source": []
  },
  {
   "cell_type": "code",
   "execution_count": null,
   "metadata": {},
   "outputs": [],
   "source": []
  },
  {
   "cell_type": "markdown",
   "metadata": {},
   "source": [
    "# Draft"
   ]
  },
  {
   "cell_type": "code",
   "execution_count": 67,
   "metadata": {},
   "outputs": [],
   "source": [
    "from sklearn.metrics import dcg_score\n",
    "true = np.asarray([actual])\n",
    "pred = np.asarray([predicted_rank_svd])\n",
    "dcg = dcg_score(true,pred)\n",
    "idcg = dcg_score(true,true)\n",
    "ndcg = dcg/idcg"
   ]
  },
  {
   "cell_type": "code",
   "execution_count": 68,
   "metadata": {},
   "outputs": [
    {
     "data": {
      "text/plain": [
       "0.745386522241957"
      ]
     },
     "execution_count": 68,
     "metadata": {},
     "output_type": "execute_result"
    }
   ],
   "source": [
    "ndcg"
   ]
  },
  {
   "cell_type": "code",
   "execution_count": 69,
   "metadata": {},
   "outputs": [
    {
     "data": {
      "text/plain": [
       "0.745386522241957"
      ]
     },
     "execution_count": 69,
     "metadata": {},
     "output_type": "execute_result"
    }
   ],
   "source": [
    "from sklearn.metrics import ndcg_score\n",
    "n = ndcg_score(true,pred)\n",
    "n"
   ]
  },
  {
   "cell_type": "code",
   "execution_count": 70,
   "metadata": {},
   "outputs": [
    {
     "data": {
      "text/plain": [
       "'relevance = []\\nfor i in range(20,40):\\n    if predicted_rank_svd[i] in actual:\\n        relevance.append(1)\\n    else:\\n        relevance.append(0)'"
      ]
     },
     "execution_count": 70,
     "metadata": {},
     "output_type": "execute_result"
    }
   ],
   "source": [
    "'''relevance = []\n",
    "for i in range(20,40):\n",
    "    if predicted_rank_svd[i] in actual:\n",
    "        relevance.append(1)\n",
    "    else:\n",
    "        relevance.append(0)'''"
   ]
  },
  {
   "cell_type": "code",
   "execution_count": 71,
   "metadata": {},
   "outputs": [],
   "source": [
    "svd_rank_allUsers = []\n",
    "for i in range(1,611):\n",
    "    already_rated, predictions = recommend_movies(svd_predictions_score_df, i, movies_df, ratings_df, 100)\n",
    "    svd_rank_allUsers.append(predictions['movieId'].index.tolist()) \n"
   ]
  },
  {
   "cell_type": "code",
   "execution_count": 72,
   "metadata": {},
   "outputs": [
    {
     "data": {
      "text/plain": [
       "'def NDCG_forUser_SVD(user):\\n    return dcg(svd_predictions[svd_predictions_df.index == user]) / ideal_dcg(svd_predictions[svd_predictions_df.index == user])'"
      ]
     },
     "execution_count": 72,
     "metadata": {},
     "output_type": "execute_result"
    }
   ],
   "source": [
    "'''def NDCG_forUser_SVD(user):\n",
    "    return dcg(svd_predictions[svd_predictions_df.index == user]) / ideal_dcg(svd_predictions[svd_predictions_df.index == user])'''"
   ]
  },
  {
   "cell_type": "code",
   "execution_count": 73,
   "metadata": {},
   "outputs": [
    {
     "data": {
      "text/plain": [
       "'NDCG_SVD = NDCG_forUser_SVD(2)'"
      ]
     },
     "execution_count": 73,
     "metadata": {},
     "output_type": "execute_result"
    }
   ],
   "source": [
    "'''NDCG_SVD = NDCG_forUser_SVD(2)'''"
   ]
  },
  {
   "cell_type": "code",
   "execution_count": 74,
   "metadata": {},
   "outputs": [
    {
     "data": {
      "text/plain": [
       "'NDCG_SVD'"
      ]
     },
     "execution_count": 74,
     "metadata": {},
     "output_type": "execute_result"
    }
   ],
   "source": [
    "'''NDCG_SVD'''"
   ]
  },
  {
   "cell_type": "markdown",
   "metadata": {},
   "source": [
    "Take as features the predicted ratings for the users of SVD and Implicit for the next step?"
   ]
  },
  {
   "cell_type": "markdown",
   "metadata": {},
   "source": [
    "### Embeddings "
   ]
  },
  {
   "cell_type": "code",
   "execution_count": 75,
   "metadata": {},
   "outputs": [
    {
     "name": "stdout",
     "output_type": "stream",
     "text": [
      "32\n"
     ]
    }
   ],
   "source": [
    "emb = implicit_model._net.item_embeddings.weight[9723]\n",
    "emb = emb.tolist()\n",
    "print(len(emb))"
   ]
  },
  {
   "cell_type": "code",
   "execution_count": 76,
   "metadata": {},
   "outputs": [],
   "source": [
    "#Input\n",
    "#svd_predictions_score\n",
    "#predicted_rank_svd\n",
    "#emb\n",
    "#l_rec (rank recommendations)"
   ]
  },
  {
   "cell_type": "code",
   "execution_count": 77,
   "metadata": {},
   "outputs": [
    {
     "data": {
      "text/plain": [
       "(610, 8985)"
      ]
     },
     "execution_count": 77,
     "metadata": {},
     "output_type": "execute_result"
    }
   ],
   "source": [
    "svd_predictions_score.shape\n"
   ]
  },
  {
   "cell_type": "code",
   "execution_count": 78,
   "metadata": {},
   "outputs": [],
   "source": [
    "import lightgbm as lgb\n",
    "gbm = lgb.LGBMRanker()"
   ]
  },
  {
   "cell_type": "code",
   "execution_count": 79,
   "metadata": {},
   "outputs": [],
   "source": [
    "from sklearn.model_selection import train_test_split"
   ]
  },
  {
   "cell_type": "code",
   "execution_count": null,
   "metadata": {},
   "outputs": [],
   "source": []
  },
  {
   "cell_type": "code",
   "execution_count": null,
   "metadata": {},
   "outputs": [],
   "source": []
  },
  {
   "cell_type": "code",
   "execution_count": null,
   "metadata": {},
   "outputs": [],
   "source": []
  },
  {
   "cell_type": "markdown",
   "metadata": {},
   "source": [
    "# KNN"
   ]
  },
  {
   "cell_type": "markdown",
   "metadata": {},
   "source": [
    "Pivot is used to have a matrix that has as rows the userIDs and as columns the movieIDs. The unrated, by a user, movies are assigned the value 0 instead of null. Pivot organizes a DataFrame by giving index and column values. It is helpful in the recommender systems approach."
   ]
  },
  {
   "cell_type": "code",
   "execution_count": 80,
   "metadata": {},
   "outputs": [],
   "source": [
    "df_movie_features = ratings_df.pivot(\n",
    "    index='userId',\n",
    "    columns='movieId',\n",
    "    values='rating'\n",
    ").fillna(0)"
   ]
  },
  {
   "cell_type": "code",
   "execution_count": 81,
   "metadata": {},
   "outputs": [
    {
     "data": {
      "text/html": [
       "<div>\n",
       "<style scoped>\n",
       "    .dataframe tbody tr th:only-of-type {\n",
       "        vertical-align: middle;\n",
       "    }\n",
       "\n",
       "    .dataframe tbody tr th {\n",
       "        vertical-align: top;\n",
       "    }\n",
       "\n",
       "    .dataframe thead th {\n",
       "        text-align: right;\n",
       "    }\n",
       "</style>\n",
       "<table border=\"1\" class=\"dataframe\">\n",
       "  <thead>\n",
       "    <tr style=\"text-align: right;\">\n",
       "      <th>movieId</th>\n",
       "      <th>1</th>\n",
       "      <th>2</th>\n",
       "      <th>3</th>\n",
       "      <th>4</th>\n",
       "      <th>5</th>\n",
       "      <th>6</th>\n",
       "      <th>7</th>\n",
       "      <th>8</th>\n",
       "      <th>9</th>\n",
       "      <th>10</th>\n",
       "      <th>...</th>\n",
       "      <th>193565</th>\n",
       "      <th>193567</th>\n",
       "      <th>193571</th>\n",
       "      <th>193573</th>\n",
       "      <th>193579</th>\n",
       "      <th>193581</th>\n",
       "      <th>193583</th>\n",
       "      <th>193585</th>\n",
       "      <th>193587</th>\n",
       "      <th>193609</th>\n",
       "    </tr>\n",
       "    <tr>\n",
       "      <th>userId</th>\n",
       "      <th></th>\n",
       "      <th></th>\n",
       "      <th></th>\n",
       "      <th></th>\n",
       "      <th></th>\n",
       "      <th></th>\n",
       "      <th></th>\n",
       "      <th></th>\n",
       "      <th></th>\n",
       "      <th></th>\n",
       "      <th></th>\n",
       "      <th></th>\n",
       "      <th></th>\n",
       "      <th></th>\n",
       "      <th></th>\n",
       "      <th></th>\n",
       "      <th></th>\n",
       "      <th></th>\n",
       "      <th></th>\n",
       "      <th></th>\n",
       "      <th></th>\n",
       "    </tr>\n",
       "  </thead>\n",
       "  <tbody>\n",
       "    <tr>\n",
       "      <th>1</th>\n",
       "      <td>4.0</td>\n",
       "      <td>0.0</td>\n",
       "      <td>4.0</td>\n",
       "      <td>0.0</td>\n",
       "      <td>0.0</td>\n",
       "      <td>4.0</td>\n",
       "      <td>0.0</td>\n",
       "      <td>0.0</td>\n",
       "      <td>0.0</td>\n",
       "      <td>0.0</td>\n",
       "      <td>...</td>\n",
       "      <td>0.0</td>\n",
       "      <td>0.0</td>\n",
       "      <td>0.0</td>\n",
       "      <td>0.0</td>\n",
       "      <td>0.0</td>\n",
       "      <td>0.0</td>\n",
       "      <td>0.0</td>\n",
       "      <td>0.0</td>\n",
       "      <td>0.0</td>\n",
       "      <td>0.0</td>\n",
       "    </tr>\n",
       "    <tr>\n",
       "      <th>2</th>\n",
       "      <td>0.0</td>\n",
       "      <td>0.0</td>\n",
       "      <td>0.0</td>\n",
       "      <td>0.0</td>\n",
       "      <td>0.0</td>\n",
       "      <td>0.0</td>\n",
       "      <td>0.0</td>\n",
       "      <td>0.0</td>\n",
       "      <td>0.0</td>\n",
       "      <td>0.0</td>\n",
       "      <td>...</td>\n",
       "      <td>0.0</td>\n",
       "      <td>0.0</td>\n",
       "      <td>0.0</td>\n",
       "      <td>0.0</td>\n",
       "      <td>0.0</td>\n",
       "      <td>0.0</td>\n",
       "      <td>0.0</td>\n",
       "      <td>0.0</td>\n",
       "      <td>0.0</td>\n",
       "      <td>0.0</td>\n",
       "    </tr>\n",
       "    <tr>\n",
       "      <th>3</th>\n",
       "      <td>0.0</td>\n",
       "      <td>0.0</td>\n",
       "      <td>0.0</td>\n",
       "      <td>0.0</td>\n",
       "      <td>0.0</td>\n",
       "      <td>0.0</td>\n",
       "      <td>0.0</td>\n",
       "      <td>0.0</td>\n",
       "      <td>0.0</td>\n",
       "      <td>0.0</td>\n",
       "      <td>...</td>\n",
       "      <td>0.0</td>\n",
       "      <td>0.0</td>\n",
       "      <td>0.0</td>\n",
       "      <td>0.0</td>\n",
       "      <td>0.0</td>\n",
       "      <td>0.0</td>\n",
       "      <td>0.0</td>\n",
       "      <td>0.0</td>\n",
       "      <td>0.0</td>\n",
       "      <td>0.0</td>\n",
       "    </tr>\n",
       "    <tr>\n",
       "      <th>4</th>\n",
       "      <td>0.0</td>\n",
       "      <td>0.0</td>\n",
       "      <td>0.0</td>\n",
       "      <td>0.0</td>\n",
       "      <td>0.0</td>\n",
       "      <td>0.0</td>\n",
       "      <td>0.0</td>\n",
       "      <td>0.0</td>\n",
       "      <td>0.0</td>\n",
       "      <td>0.0</td>\n",
       "      <td>...</td>\n",
       "      <td>0.0</td>\n",
       "      <td>0.0</td>\n",
       "      <td>0.0</td>\n",
       "      <td>0.0</td>\n",
       "      <td>0.0</td>\n",
       "      <td>0.0</td>\n",
       "      <td>0.0</td>\n",
       "      <td>0.0</td>\n",
       "      <td>0.0</td>\n",
       "      <td>0.0</td>\n",
       "    </tr>\n",
       "    <tr>\n",
       "      <th>5</th>\n",
       "      <td>4.0</td>\n",
       "      <td>0.0</td>\n",
       "      <td>0.0</td>\n",
       "      <td>0.0</td>\n",
       "      <td>0.0</td>\n",
       "      <td>0.0</td>\n",
       "      <td>0.0</td>\n",
       "      <td>0.0</td>\n",
       "      <td>0.0</td>\n",
       "      <td>0.0</td>\n",
       "      <td>...</td>\n",
       "      <td>0.0</td>\n",
       "      <td>0.0</td>\n",
       "      <td>0.0</td>\n",
       "      <td>0.0</td>\n",
       "      <td>0.0</td>\n",
       "      <td>0.0</td>\n",
       "      <td>0.0</td>\n",
       "      <td>0.0</td>\n",
       "      <td>0.0</td>\n",
       "      <td>0.0</td>\n",
       "    </tr>\n",
       "    <tr>\n",
       "      <th>...</th>\n",
       "      <td>...</td>\n",
       "      <td>...</td>\n",
       "      <td>...</td>\n",
       "      <td>...</td>\n",
       "      <td>...</td>\n",
       "      <td>...</td>\n",
       "      <td>...</td>\n",
       "      <td>...</td>\n",
       "      <td>...</td>\n",
       "      <td>...</td>\n",
       "      <td>...</td>\n",
       "      <td>...</td>\n",
       "      <td>...</td>\n",
       "      <td>...</td>\n",
       "      <td>...</td>\n",
       "      <td>...</td>\n",
       "      <td>...</td>\n",
       "      <td>...</td>\n",
       "      <td>...</td>\n",
       "      <td>...</td>\n",
       "      <td>...</td>\n",
       "    </tr>\n",
       "    <tr>\n",
       "      <th>606</th>\n",
       "      <td>2.5</td>\n",
       "      <td>0.0</td>\n",
       "      <td>0.0</td>\n",
       "      <td>0.0</td>\n",
       "      <td>0.0</td>\n",
       "      <td>0.0</td>\n",
       "      <td>2.5</td>\n",
       "      <td>0.0</td>\n",
       "      <td>0.0</td>\n",
       "      <td>0.0</td>\n",
       "      <td>...</td>\n",
       "      <td>0.0</td>\n",
       "      <td>0.0</td>\n",
       "      <td>0.0</td>\n",
       "      <td>0.0</td>\n",
       "      <td>0.0</td>\n",
       "      <td>0.0</td>\n",
       "      <td>0.0</td>\n",
       "      <td>0.0</td>\n",
       "      <td>0.0</td>\n",
       "      <td>0.0</td>\n",
       "    </tr>\n",
       "    <tr>\n",
       "      <th>607</th>\n",
       "      <td>4.0</td>\n",
       "      <td>0.0</td>\n",
       "      <td>0.0</td>\n",
       "      <td>0.0</td>\n",
       "      <td>0.0</td>\n",
       "      <td>0.0</td>\n",
       "      <td>0.0</td>\n",
       "      <td>0.0</td>\n",
       "      <td>0.0</td>\n",
       "      <td>0.0</td>\n",
       "      <td>...</td>\n",
       "      <td>0.0</td>\n",
       "      <td>0.0</td>\n",
       "      <td>0.0</td>\n",
       "      <td>0.0</td>\n",
       "      <td>0.0</td>\n",
       "      <td>0.0</td>\n",
       "      <td>0.0</td>\n",
       "      <td>0.0</td>\n",
       "      <td>0.0</td>\n",
       "      <td>0.0</td>\n",
       "    </tr>\n",
       "    <tr>\n",
       "      <th>608</th>\n",
       "      <td>2.5</td>\n",
       "      <td>2.0</td>\n",
       "      <td>2.0</td>\n",
       "      <td>0.0</td>\n",
       "      <td>0.0</td>\n",
       "      <td>0.0</td>\n",
       "      <td>0.0</td>\n",
       "      <td>0.0</td>\n",
       "      <td>0.0</td>\n",
       "      <td>4.0</td>\n",
       "      <td>...</td>\n",
       "      <td>0.0</td>\n",
       "      <td>0.0</td>\n",
       "      <td>0.0</td>\n",
       "      <td>0.0</td>\n",
       "      <td>0.0</td>\n",
       "      <td>0.0</td>\n",
       "      <td>0.0</td>\n",
       "      <td>0.0</td>\n",
       "      <td>0.0</td>\n",
       "      <td>0.0</td>\n",
       "    </tr>\n",
       "    <tr>\n",
       "      <th>609</th>\n",
       "      <td>3.0</td>\n",
       "      <td>0.0</td>\n",
       "      <td>0.0</td>\n",
       "      <td>0.0</td>\n",
       "      <td>0.0</td>\n",
       "      <td>0.0</td>\n",
       "      <td>0.0</td>\n",
       "      <td>0.0</td>\n",
       "      <td>0.0</td>\n",
       "      <td>4.0</td>\n",
       "      <td>...</td>\n",
       "      <td>0.0</td>\n",
       "      <td>0.0</td>\n",
       "      <td>0.0</td>\n",
       "      <td>0.0</td>\n",
       "      <td>0.0</td>\n",
       "      <td>0.0</td>\n",
       "      <td>0.0</td>\n",
       "      <td>0.0</td>\n",
       "      <td>0.0</td>\n",
       "      <td>0.0</td>\n",
       "    </tr>\n",
       "    <tr>\n",
       "      <th>610</th>\n",
       "      <td>5.0</td>\n",
       "      <td>0.0</td>\n",
       "      <td>0.0</td>\n",
       "      <td>0.0</td>\n",
       "      <td>0.0</td>\n",
       "      <td>5.0</td>\n",
       "      <td>0.0</td>\n",
       "      <td>0.0</td>\n",
       "      <td>0.0</td>\n",
       "      <td>0.0</td>\n",
       "      <td>...</td>\n",
       "      <td>0.0</td>\n",
       "      <td>0.0</td>\n",
       "      <td>0.0</td>\n",
       "      <td>0.0</td>\n",
       "      <td>0.0</td>\n",
       "      <td>0.0</td>\n",
       "      <td>0.0</td>\n",
       "      <td>0.0</td>\n",
       "      <td>0.0</td>\n",
       "      <td>0.0</td>\n",
       "    </tr>\n",
       "  </tbody>\n",
       "</table>\n",
       "<p>610 rows × 9724 columns</p>\n",
       "</div>"
      ],
      "text/plain": [
       "movieId  1       2       3       4       5       6       7       8       \\\n",
       "userId                                                                    \n",
       "1           4.0     0.0     4.0     0.0     0.0     4.0     0.0     0.0   \n",
       "2           0.0     0.0     0.0     0.0     0.0     0.0     0.0     0.0   \n",
       "3           0.0     0.0     0.0     0.0     0.0     0.0     0.0     0.0   \n",
       "4           0.0     0.0     0.0     0.0     0.0     0.0     0.0     0.0   \n",
       "5           4.0     0.0     0.0     0.0     0.0     0.0     0.0     0.0   \n",
       "...         ...     ...     ...     ...     ...     ...     ...     ...   \n",
       "606         2.5     0.0     0.0     0.0     0.0     0.0     2.5     0.0   \n",
       "607         4.0     0.0     0.0     0.0     0.0     0.0     0.0     0.0   \n",
       "608         2.5     2.0     2.0     0.0     0.0     0.0     0.0     0.0   \n",
       "609         3.0     0.0     0.0     0.0     0.0     0.0     0.0     0.0   \n",
       "610         5.0     0.0     0.0     0.0     0.0     5.0     0.0     0.0   \n",
       "\n",
       "movieId  9       10      ...  193565  193567  193571  193573  193579  193581  \\\n",
       "userId                   ...                                                   \n",
       "1           0.0     0.0  ...     0.0     0.0     0.0     0.0     0.0     0.0   \n",
       "2           0.0     0.0  ...     0.0     0.0     0.0     0.0     0.0     0.0   \n",
       "3           0.0     0.0  ...     0.0     0.0     0.0     0.0     0.0     0.0   \n",
       "4           0.0     0.0  ...     0.0     0.0     0.0     0.0     0.0     0.0   \n",
       "5           0.0     0.0  ...     0.0     0.0     0.0     0.0     0.0     0.0   \n",
       "...         ...     ...  ...     ...     ...     ...     ...     ...     ...   \n",
       "606         0.0     0.0  ...     0.0     0.0     0.0     0.0     0.0     0.0   \n",
       "607         0.0     0.0  ...     0.0     0.0     0.0     0.0     0.0     0.0   \n",
       "608         0.0     4.0  ...     0.0     0.0     0.0     0.0     0.0     0.0   \n",
       "609         0.0     4.0  ...     0.0     0.0     0.0     0.0     0.0     0.0   \n",
       "610         0.0     0.0  ...     0.0     0.0     0.0     0.0     0.0     0.0   \n",
       "\n",
       "movieId  193583  193585  193587  193609  \n",
       "userId                                   \n",
       "1           0.0     0.0     0.0     0.0  \n",
       "2           0.0     0.0     0.0     0.0  \n",
       "3           0.0     0.0     0.0     0.0  \n",
       "4           0.0     0.0     0.0     0.0  \n",
       "5           0.0     0.0     0.0     0.0  \n",
       "...         ...     ...     ...     ...  \n",
       "606         0.0     0.0     0.0     0.0  \n",
       "607         0.0     0.0     0.0     0.0  \n",
       "608         0.0     0.0     0.0     0.0  \n",
       "609         0.0     0.0     0.0     0.0  \n",
       "610         0.0     0.0     0.0     0.0  \n",
       "\n",
       "[610 rows x 9724 columns]"
      ]
     },
     "execution_count": 81,
     "metadata": {},
     "output_type": "execute_result"
    }
   ],
   "source": [
    "df_movie_features"
   ]
  },
  {
   "cell_type": "code",
   "execution_count": 82,
   "metadata": {},
   "outputs": [
    {
     "data": {
      "image/png": "[encoded data removed]",
      "text/plain": [
       "<Figure size 432x288 with 1 Axes>"
      ]
     },
     "metadata": {
      "needs_background": "light"
     },
     "output_type": "display_data"
    }
   ],
   "source": [
    "height = [len(df_movie_features.values[df_movie_features.values== 0]),len(df_movie_features.values[df_movie_features.values==0.5]),\n",
    "          len(df_movie_features.values[df_movie_features.values== 1]),len(df_movie_features.values[df_movie_features.values==1.5]),\n",
    "          len(df_movie_features.values[df_movie_features.values== 2]),len(df_movie_features.values[df_movie_features.values==2.5]),\n",
    "          len(df_movie_features.values[df_movie_features.values== 3]),len(df_movie_features.values[df_movie_features.values==3.5]),\n",
    "          len(df_movie_features.values[df_movie_features.values== 4]),len(df_movie_features.values[df_movie_features.values==4.5]),\n",
    "          len(df_movie_features.values[df_movie_features.values== 5])]\n",
    "x = ('0','0.5', '1','1.5' ,'2','2.5', '3','3.5', '4','4.5','5')\n",
    "plt.bar(x, height)\n",
    "plt.xlabel('Rating')\n",
    "plt.ylabel('Number of users')\n",
    "plt.show()\n"
   ]
  },
  {
   "cell_type": "markdown",
   "metadata": {},
   "source": [
    "A lot of ratings in the user-movie matrix are zero, so the data are extremely sparse."
   ]
  },
  {
   "cell_type": "markdown",
   "metadata": {},
   "source": [
    "To makes sesne the idea of obtaining the taste of the users, they should have rated at least 20 movies. Otherwise, the taste of them is not clear. The users that have rated less than 20 movies will be excluded. Also the movies that have less than 20 ratings will be excluded too."
   ]
  },
  {
   "cell_type": "code",
   "execution_count": 83,
   "metadata": {},
   "outputs": [
    {
     "ename": "NameError",
     "evalue": "name 'df_movies_cnt' is not defined",
     "output_type": "error",
     "traceback": [
      "\u001b[1;31m---------------------------------------------------------------------------\u001b[0m",
      "\u001b[1;31mNameError\u001b[0m                                 Traceback (most recent call last)",
      "\u001b[1;32m<ipython-input-83-190f564238e4>\u001b[0m in \u001b[0;36m<module>\u001b[1;34m\u001b[0m\n\u001b[0;32m      1\u001b[0m \u001b[0mpopularity_thres\u001b[0m \u001b[1;33m=\u001b[0m \u001b[1;36m20\u001b[0m\u001b[1;33m\u001b[0m\u001b[1;33m\u001b[0m\u001b[0m\n\u001b[1;32m----> 2\u001b[1;33m \u001b[0mpopular_movies\u001b[0m \u001b[1;33m=\u001b[0m \u001b[0mlist\u001b[0m\u001b[1;33m(\u001b[0m\u001b[0mset\u001b[0m\u001b[1;33m(\u001b[0m\u001b[0mdf_movies_cnt\u001b[0m\u001b[1;33m.\u001b[0m\u001b[0mquery\u001b[0m\u001b[1;33m(\u001b[0m\u001b[1;34m'count >= @popularity_thres'\u001b[0m\u001b[1;33m)\u001b[0m\u001b[1;33m.\u001b[0m\u001b[0mindex\u001b[0m\u001b[1;33m)\u001b[0m\u001b[1;33m)\u001b[0m\u001b[1;33m\u001b[0m\u001b[1;33m\u001b[0m\u001b[0m\n\u001b[0m\u001b[0;32m      3\u001b[0m \u001b[0mdf_ratings_drop_movies\u001b[0m \u001b[1;33m=\u001b[0m \u001b[0mdf_ratings\u001b[0m\u001b[1;33m[\u001b[0m\u001b[0mdf_ratings\u001b[0m\u001b[1;33m.\u001b[0m\u001b[0mmovieId\u001b[0m\u001b[1;33m.\u001b[0m\u001b[0misin\u001b[0m\u001b[1;33m(\u001b[0m\u001b[0mpopular_movies\u001b[0m\u001b[1;33m)\u001b[0m\u001b[1;33m]\u001b[0m\u001b[1;33m\u001b[0m\u001b[1;33m\u001b[0m\u001b[0m\n\u001b[0;32m      4\u001b[0m \u001b[0mprint\u001b[0m\u001b[1;33m(\u001b[0m\u001b[1;34m'shape of original ratings data: '\u001b[0m\u001b[1;33m,\u001b[0m \u001b[0mdf_ratings\u001b[0m\u001b[1;33m.\u001b[0m\u001b[0mshape\u001b[0m\u001b[1;33m)\u001b[0m\u001b[1;33m\u001b[0m\u001b[1;33m\u001b[0m\u001b[0m\n\u001b[0;32m      5\u001b[0m \u001b[0mprint\u001b[0m\u001b[1;33m(\u001b[0m\u001b[1;34m'shape of ratings data after dropping unpopular movies: '\u001b[0m\u001b[1;33m,\u001b[0m \u001b[0mdf_ratings_drop_movies\u001b[0m\u001b[1;33m.\u001b[0m\u001b[0mshape\u001b[0m\u001b[1;33m)\u001b[0m\u001b[1;33m\u001b[0m\u001b[1;33m\u001b[0m\u001b[0m\n",
      "\u001b[1;31mNameError\u001b[0m: name 'df_movies_cnt' is not defined"
     ]
    }
   ],
   "source": [
    "popularity_thres = 20\n",
    "popular_movies = list(set(df_movies_cnt.query('count >= @popularity_thres').index))\n",
    "df_ratings_drop_movies = df_ratings[df_ratings.movieId.isin(popular_movies)]\n",
    "print('shape of original ratings data: ', df_ratings.shape)\n",
    "print('shape of ratings data after dropping unpopular movies: ', df_ratings_drop_movies.shape)\n",
    "# filter data to come to an approximation of user likings.\n",
    "ratings_thres = 20\n",
    "active_users = list(set(df_users_cnt.query('count >= @ratings_thres').index))\n",
    "df_ratings_drop_users = df_ratings_drop_movies[df_ratings_drop_movies.userId.isin(active_users)]\n",
    "print('shape of original ratings data: ', df_ratings.shape)\n",
    "print('shape of ratings data after dropping both unpopular movies and inactive users: ', df_ratings_drop_users.shape)"
   ]
  },
  {
   "cell_type": "code",
   "execution_count": null,
   "metadata": {},
   "outputs": [],
   "source": [
    "with pd.option_context('display.max_rows', None, 'display.max_columns', None):  # more options can be specified also\n",
    "    print(ratings_df)"
   ]
  },
  {
   "cell_type": "code",
   "execution_count": null,
   "metadata": {},
   "outputs": [],
   "source": [
    "ratings_df[24400:24450]"
   ]
  },
  {
   "cell_type": "code",
   "execution_count": null,
   "metadata": {},
   "outputs": [],
   "source": []
  },
  {
   "cell_type": "code",
   "execution_count": null,
   "metadata": {},
   "outputs": [],
   "source": []
  }
 ],
 "metadata": {
  "kernelspec": {
   "display_name": "Python 3",
   "language": "python",
   "name": "python3"
  },
  "language_info": {
   "codemirror_mode": {
    "name": "ipython",
    "version": 3
   },
   "file_extension": ".py",
   "mimetype": "text/x-python",
   "name": "python",
   "nbconvert_exporter": "python",
   "pygments_lexer": "ipython3",
   "version": "3.7.7"
  }
 },
 "nbformat": 4,
 "nbformat_minor": 2
}
