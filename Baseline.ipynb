{
 "cells": [
  {
   "cell_type": "code",
   "execution_count": 1,
   "metadata": {
    "ExecuteTime": {
     "end_time": "2020-08-03T08:31:25.213657Z",
     "start_time": "2020-08-03T08:31:25.188953Z"
    }
   },
   "outputs": [],
   "source": [
    "%config IPCompleter.greedy=True"
   ]
  },
  {
   "cell_type": "code",
   "execution_count": 175,
   "metadata": {
    "ExecuteTime": {
     "end_time": "2020-08-03T18:44:05.214968Z",
     "start_time": "2020-08-03T18:44:05.210938Z"
    }
   },
   "outputs": [],
   "source": [
    "import pandas as pd\n",
    "import numpy as np\n",
    "import matplotlib.pyplot as plt\n",
    "from spotlight.factorization.implicit import ImplicitFactorizationModel\n",
    "from spotlight.interactions import Interactions\n",
    "from spotlight.cross_validation import random_train_test_split"
   ]
  },
  {
   "cell_type": "code",
   "execution_count": 3,
   "metadata": {
    "ExecuteTime": {
     "end_time": "2020-08-03T08:31:32.218881Z",
     "start_time": "2020-08-03T08:31:32.010263Z"
    }
   },
   "outputs": [],
   "source": [
    "ratings_df = pd.read_csv('C:/Users/papad/Desktop/ml-latest-small/ml-latest-small/ratings.csv')\n",
    "movies_df = pd.read_csv('C:/Users/papad/Desktop/ml-latest-small/ml-latest-small/movies.csv')\n",
    "tags_df = pd.read_csv('C:/Users/papad/Desktop/ml-latest-small/ml-latest-small/tags.csv')\n",
    "links_df = pd.read_csv('C:/Users/papad/Desktop/ml-latest-small/ml-latest-small/links.csv')"
   ]
  },
  {
   "cell_type": "code",
   "execution_count": 118,
   "metadata": {
    "ExecuteTime": {
     "end_time": "2020-08-03T09:24:59.514475Z",
     "start_time": "2020-08-03T09:24:40.238632Z"
    }
   },
   "outputs": [],
   "source": [
    "ratings_df = pd.read_csv('C:/Users/papad/Desktop/ml-25m/ml-25m/ratings.csv')\n",
    "movies_df = pd.read_csv('C:/Users/papad/Desktop/ml-25m/ml-25m/movies.csv')"
   ]
  },
  {
   "cell_type": "markdown",
   "metadata": {},
   "source": [
    "# Dataset"
   ]
  },
  {
   "cell_type": "code",
   "execution_count": 119,
   "metadata": {
    "ExecuteTime": {
     "end_time": "2020-08-03T09:25:03.949319Z",
     "start_time": "2020-08-03T09:25:03.934056Z"
    }
   },
   "outputs": [],
   "source": [
    "percentage = 1\n",
    "#movies_df = movies_df.head(int(len(movies_df)*(percentage/100)))\n",
    "ratings_df = ratings_df.head(int(len(ratings_df)*(percentage/100)))"
   ]
  },
  {
   "cell_type": "code",
   "execution_count": 120,
   "metadata": {
    "ExecuteTime": {
     "end_time": "2020-08-03T09:25:08.417764Z",
     "start_time": "2020-08-03T09:25:08.391222Z"
    },
    "cell_style": "split"
   },
   "outputs": [
    {
     "data": {
      "text/html": [
       "<div>\n",
       "<style scoped>\n",
       "    .dataframe tbody tr th:only-of-type {\n",
       "        vertical-align: middle;\n",
       "    }\n",
       "\n",
       "    .dataframe tbody tr th {\n",
       "        vertical-align: top;\n",
       "    }\n",
       "\n",
       "    .dataframe thead th {\n",
       "        text-align: right;\n",
       "    }\n",
       "</style>\n",
       "<table border=\"1\" class=\"dataframe\">\n",
       "  <thead>\n",
       "    <tr style=\"text-align: right;\">\n",
       "      <th></th>\n",
       "      <th>movieId</th>\n",
       "      <th>title</th>\n",
       "      <th>genres</th>\n",
       "    </tr>\n",
       "  </thead>\n",
       "  <tbody>\n",
       "    <tr>\n",
       "      <th>0</th>\n",
       "      <td>1</td>\n",
       "      <td>Toy Story (1995)</td>\n",
       "      <td>Adventure|Animation|Children|Comedy|Fantasy</td>\n",
       "    </tr>\n",
       "    <tr>\n",
       "      <th>1</th>\n",
       "      <td>2</td>\n",
       "      <td>Jumanji (1995)</td>\n",
       "      <td>Adventure|Children|Fantasy</td>\n",
       "    </tr>\n",
       "    <tr>\n",
       "      <th>2</th>\n",
       "      <td>3</td>\n",
       "      <td>Grumpier Old Men (1995)</td>\n",
       "      <td>Comedy|Romance</td>\n",
       "    </tr>\n",
       "    <tr>\n",
       "      <th>3</th>\n",
       "      <td>4</td>\n",
       "      <td>Waiting to Exhale (1995)</td>\n",
       "      <td>Comedy|Drama|Romance</td>\n",
       "    </tr>\n",
       "    <tr>\n",
       "      <th>4</th>\n",
       "      <td>5</td>\n",
       "      <td>Father of the Bride Part II (1995)</td>\n",
       "      <td>Comedy</td>\n",
       "    </tr>\n",
       "    <tr>\n",
       "      <th>...</th>\n",
       "      <td>...</td>\n",
       "      <td>...</td>\n",
       "      <td>...</td>\n",
       "    </tr>\n",
       "    <tr>\n",
       "      <th>62418</th>\n",
       "      <td>209157</td>\n",
       "      <td>We (2018)</td>\n",
       "      <td>Drama</td>\n",
       "    </tr>\n",
       "    <tr>\n",
       "      <th>62419</th>\n",
       "      <td>209159</td>\n",
       "      <td>Window of the Soul (2001)</td>\n",
       "      <td>Documentary</td>\n",
       "    </tr>\n",
       "    <tr>\n",
       "      <th>62420</th>\n",
       "      <td>209163</td>\n",
       "      <td>Bad Poems (2018)</td>\n",
       "      <td>Comedy|Drama</td>\n",
       "    </tr>\n",
       "    <tr>\n",
       "      <th>62421</th>\n",
       "      <td>209169</td>\n",
       "      <td>A Girl Thing (2001)</td>\n",
       "      <td>(no genres listed)</td>\n",
       "    </tr>\n",
       "    <tr>\n",
       "      <th>62422</th>\n",
       "      <td>209171</td>\n",
       "      <td>Women of Devil's Island (1962)</td>\n",
       "      <td>Action|Adventure|Drama</td>\n",
       "    </tr>\n",
       "  </tbody>\n",
       "</table>\n",
       "<p>62423 rows × 3 columns</p>\n",
       "</div>"
      ],
      "text/plain": [
       "       movieId                               title  \\\n",
       "0            1                    Toy Story (1995)   \n",
       "1            2                      Jumanji (1995)   \n",
       "2            3             Grumpier Old Men (1995)   \n",
       "3            4            Waiting to Exhale (1995)   \n",
       "4            5  Father of the Bride Part II (1995)   \n",
       "...        ...                                 ...   \n",
       "62418   209157                           We (2018)   \n",
       "62419   209159           Window of the Soul (2001)   \n",
       "62420   209163                    Bad Poems (2018)   \n",
       "62421   209169                 A Girl Thing (2001)   \n",
       "62422   209171      Women of Devil's Island (1962)   \n",
       "\n",
       "                                            genres  \n",
       "0      Adventure|Animation|Children|Comedy|Fantasy  \n",
       "1                       Adventure|Children|Fantasy  \n",
       "2                                   Comedy|Romance  \n",
       "3                             Comedy|Drama|Romance  \n",
       "4                                           Comedy  \n",
       "...                                            ...  \n",
       "62418                                        Drama  \n",
       "62419                                  Documentary  \n",
       "62420                                 Comedy|Drama  \n",
       "62421                           (no genres listed)  \n",
       "62422                       Action|Adventure|Drama  \n",
       "\n",
       "[62423 rows x 3 columns]"
      ]
     },
     "execution_count": 120,
     "metadata": {},
     "output_type": "execute_result"
    }
   ],
   "source": [
    "movies_df"
   ]
  },
  {
   "cell_type": "code",
   "execution_count": 121,
   "metadata": {
    "ExecuteTime": {
     "end_time": "2020-08-03T09:25:12.700908Z",
     "start_time": "2020-08-03T09:25:12.671713Z"
    },
    "cell_style": "split"
   },
   "outputs": [
    {
     "data": {
      "text/html": [
       "<div>\n",
       "<style scoped>\n",
       "    .dataframe tbody tr th:only-of-type {\n",
       "        vertical-align: middle;\n",
       "    }\n",
       "\n",
       "    .dataframe tbody tr th {\n",
       "        vertical-align: top;\n",
       "    }\n",
       "\n",
       "    .dataframe thead th {\n",
       "        text-align: right;\n",
       "    }\n",
       "</style>\n",
       "<table border=\"1\" class=\"dataframe\">\n",
       "  <thead>\n",
       "    <tr style=\"text-align: right;\">\n",
       "      <th></th>\n",
       "      <th>userId</th>\n",
       "      <th>movieId</th>\n",
       "      <th>rating</th>\n",
       "      <th>timestamp</th>\n",
       "    </tr>\n",
       "  </thead>\n",
       "  <tbody>\n",
       "    <tr>\n",
       "      <th>0</th>\n",
       "      <td>1</td>\n",
       "      <td>296</td>\n",
       "      <td>5.0</td>\n",
       "      <td>1147880044</td>\n",
       "    </tr>\n",
       "    <tr>\n",
       "      <th>1</th>\n",
       "      <td>1</td>\n",
       "      <td>306</td>\n",
       "      <td>3.5</td>\n",
       "      <td>1147868817</td>\n",
       "    </tr>\n",
       "    <tr>\n",
       "      <th>2</th>\n",
       "      <td>1</td>\n",
       "      <td>307</td>\n",
       "      <td>5.0</td>\n",
       "      <td>1147868828</td>\n",
       "    </tr>\n",
       "    <tr>\n",
       "      <th>3</th>\n",
       "      <td>1</td>\n",
       "      <td>665</td>\n",
       "      <td>5.0</td>\n",
       "      <td>1147878820</td>\n",
       "    </tr>\n",
       "    <tr>\n",
       "      <th>4</th>\n",
       "      <td>1</td>\n",
       "      <td>899</td>\n",
       "      <td>3.5</td>\n",
       "      <td>1147868510</td>\n",
       "    </tr>\n",
       "    <tr>\n",
       "      <th>...</th>\n",
       "      <td>...</td>\n",
       "      <td>...</td>\n",
       "      <td>...</td>\n",
       "      <td>...</td>\n",
       "    </tr>\n",
       "    <tr>\n",
       "      <th>249995</th>\n",
       "      <td>1751</td>\n",
       "      <td>161</td>\n",
       "      <td>3.0</td>\n",
       "      <td>945125051</td>\n",
       "    </tr>\n",
       "    <tr>\n",
       "      <th>249996</th>\n",
       "      <td>1751</td>\n",
       "      <td>163</td>\n",
       "      <td>2.0</td>\n",
       "      <td>945127081</td>\n",
       "    </tr>\n",
       "    <tr>\n",
       "      <th>249997</th>\n",
       "      <td>1751</td>\n",
       "      <td>164</td>\n",
       "      <td>1.0</td>\n",
       "      <td>945126546</td>\n",
       "    </tr>\n",
       "    <tr>\n",
       "      <th>249998</th>\n",
       "      <td>1751</td>\n",
       "      <td>175</td>\n",
       "      <td>5.0</td>\n",
       "      <td>945124825</td>\n",
       "    </tr>\n",
       "    <tr>\n",
       "      <th>249999</th>\n",
       "      <td>1751</td>\n",
       "      <td>187</td>\n",
       "      <td>2.0</td>\n",
       "      <td>945123563</td>\n",
       "    </tr>\n",
       "  </tbody>\n",
       "</table>\n",
       "<p>250000 rows × 4 columns</p>\n",
       "</div>"
      ],
      "text/plain": [
       "        userId  movieId  rating   timestamp\n",
       "0            1      296     5.0  1147880044\n",
       "1            1      306     3.5  1147868817\n",
       "2            1      307     5.0  1147868828\n",
       "3            1      665     5.0  1147878820\n",
       "4            1      899     3.5  1147868510\n",
       "...        ...      ...     ...         ...\n",
       "249995    1751      161     3.0   945125051\n",
       "249996    1751      163     2.0   945127081\n",
       "249997    1751      164     1.0   945126546\n",
       "249998    1751      175     5.0   945124825\n",
       "249999    1751      187     2.0   945123563\n",
       "\n",
       "[250000 rows x 4 columns]"
      ]
     },
     "execution_count": 121,
     "metadata": {},
     "output_type": "execute_result"
    }
   ],
   "source": [
    "ratings_df"
   ]
  },
  {
   "cell_type": "code",
   "execution_count": 122,
   "metadata": {
    "ExecuteTime": {
     "end_time": "2020-08-03T09:25:18.240016Z",
     "start_time": "2020-08-03T09:25:18.231898Z"
    }
   },
   "outputs": [],
   "source": [
    "#ratings_df.columns = ['userId', 'movieId', 'rating', 'timestamp']"
   ]
  },
  {
   "cell_type": "code",
   "execution_count": 123,
   "metadata": {
    "ExecuteTime": {
     "end_time": "2020-08-03T09:25:23.397773Z",
     "start_time": "2020-08-03T09:25:23.366084Z"
    }
   },
   "outputs": [
    {
     "name": "stdout",
     "output_type": "stream",
     "text": [
      "1751\n",
      "13989\n"
     ]
    }
   ],
   "source": [
    "num_users = ratings_df['userId'].unique()\n",
    "print(len(num_users))\n",
    "num_items = ratings_df['movieId'].unique()\n",
    "print(len(num_items))"
   ]
  },
  {
   "cell_type": "markdown",
   "metadata": {},
   "source": [
    "# Spotlight"
   ]
  },
  {
   "cell_type": "markdown",
   "metadata": {},
   "source": [
    "## Data preperation for Spotlight"
   ]
  },
  {
   "cell_type": "markdown",
   "metadata": {},
   "source": [
    "The ids are not consecutive. For examples the id of a movies is shown multiple times. For this reason the procedure below is implemented. The reversed map is still saved to be used when needed."
   ]
  },
  {
   "cell_type": "code",
   "execution_count": 10,
   "metadata": {
    "ExecuteTime": {
     "end_time": "2020-08-03T08:31:58.074761Z",
     "start_time": "2020-08-03T08:31:57.569183Z"
    }
   },
   "outputs": [
    {
     "name": "stdout",
     "output_type": "stream",
     "text": [
      "userId 556 got uid 555\n",
      "movieId 54001 got iid 557\n"
     ]
    }
   ],
   "source": [
    "from collections import defaultdict\n",
    "from itertools import count\n",
    "uid_map = defaultdict(count().__next__)\n",
    "iid_map = defaultdict(count().__next__)\n",
    "uids = np.array([uid_map[uid] for uid in ratings_df[\"userId\"].values ], dtype=np.int32)\n",
    "iids = np.array([iid_map[iid] for iid in ratings_df[\"movieId\"].values ], dtype=np.int32)\n",
    "\n",
    "uid_rev_map = {v: k for k, v in uid_map.items()}\n",
    "iid_rev_map = {v: k for k, v in iid_map.items()}\n",
    "\n",
    "ratings = ratings_df[\"rating\"].values.astype(np.float32)\n",
    "timestamps = ratings_df[\"timestamp\"].values.astype(np.int32)\n",
    "\n",
    "print(\"userId %d got uid %d\" % (556, uid_map[556]))\n",
    "print(\"movieId %d got iid %d\" % (54001, iid_map[54001]))"
   ]
  },
  {
   "cell_type": "code",
   "execution_count": 11,
   "metadata": {
    "ExecuteTime": {
     "end_time": "2020-08-03T08:31:58.087475Z",
     "start_time": "2020-08-03T08:31:58.078998Z"
    }
   },
   "outputs": [
    {
     "data": {
      "text/plain": [
       "1751"
      ]
     },
     "execution_count": 11,
     "metadata": {},
     "output_type": "execute_result"
    }
   ],
   "source": [
    "len(uid_rev_map)"
   ]
  },
  {
   "cell_type": "markdown",
   "metadata": {},
   "source": [
    "Create the dataset variable representing the dataset prepared for use to create a recommendation systems using the Spotlight platform."
   ]
  },
  {
   "cell_type": "markdown",
   "metadata": {},
   "source": [
    "## Implicit Factorization model"
   ]
  },
  {
   "cell_type": "code",
   "execution_count": 12,
   "metadata": {
    "ExecuteTime": {
     "end_time": "2020-08-03T08:31:58.270551Z",
     "start_time": "2020-08-03T08:31:58.091219Z"
    },
    "code_folding": []
   },
   "outputs": [],
   "source": [
    "from spotlight.interactions import Interactions\n",
    "from spotlight.cross_validation import random_train_test_split\n",
    "from spotlight.factorization.implicit import ImplicitFactorizationModel\n",
    "import time  \n",
    "\n",
    "\n",
    "#pecify the ids of the users and items for all the pairs of user-item interactions\n",
    "implicit_interaction = Interactions(user_ids=uids,\n",
    "                                   item_ids=iids,\n",
    "                                   timestamps = timestamps)\n",
    "\n",
    "\n",
    "#lets initialise the seed, so that its repeatable and reproducible \n",
    "implicit_train_tmp, implicit_test = random_train_test_split(implicit_interaction, random_state=np.random.seed(42))\n",
    "implicit_train, implicit_val = random_train_test_split(implicit_train_tmp, random_state=np.random.seed(42))\n",
    "implicit_train_features, implicit_train_labels = random_train_test_split(implicit_train, random_state=np.random.seed(42))"
   ]
  },
  {
   "cell_type": "code",
   "execution_count": 13,
   "metadata": {
    "ExecuteTime": {
     "end_time": "2020-08-03T08:31:58.282059Z",
     "start_time": "2020-08-03T08:31:58.275149Z"
    }
   },
   "outputs": [
    {
     "name": "stdout",
     "output_type": "stream",
     "text": [
      "<Interactions dataset (1751 users x 13989 items x 160000 interactions)>\n",
      "<Interactions dataset (1751 users x 13989 items x 50000 interactions)>\n",
      "<Interactions dataset (1751 users x 13989 items x 40000 interactions)>\n",
      "<Interactions dataset (1751 users x 13989 items x 128000 interactions)>\n",
      "<Interactions dataset (1751 users x 13989 items x 32000 interactions)>\n"
     ]
    }
   ],
   "source": [
    "print(implicit_train)\n",
    "print(implicit_test)\n",
    "print(implicit_val)\n",
    "print(implicit_train_features)\n",
    "print(implicit_train_labels)"
   ]
  },
  {
   "cell_type": "markdown",
   "metadata": {},
   "source": [
    "### Train-test split to DataFrame"
   ]
  },
  {
   "cell_type": "markdown",
   "metadata": {},
   "source": [
    "Train and test interaction datasets are converted to dataframes, in order to be used from other models too and provide consistent and fair results."
   ]
  },
  {
   "cell_type": "code",
   "execution_count": 14,
   "metadata": {
    "ExecuteTime": {
     "end_time": "2020-08-03T08:31:58.301740Z",
     "start_time": "2020-08-03T08:31:58.285129Z"
    },
    "code_folding": []
   },
   "outputs": [],
   "source": [
    "def interactionToDataFrame(dataset):\n",
    "    converted_users = []\n",
    "    converted_movies = []\n",
    "    rating = []\n",
    "    for i in range(len(dataset.user_ids)):\n",
    "        converted_users.append(uid_rev_map[dataset.user_ids[i]])\n",
    "        converted_movies.append(iid_rev_map[dataset.item_ids[i]])\n",
    "        rating.append(float(ratings_df['rating'][(ratings_df['movieId'] == converted_movies[i]) & (\n",
    "            ratings_df['userId'] == converted_users[i])].values))\n",
    "\n",
    "    df = pd.DataFrame({'user_id': converted_users,\n",
    "                       'movie_id': converted_movies, 'rating': rating})\n",
    "    return df"
   ]
  },
  {
   "cell_type": "code",
   "execution_count": 15,
   "metadata": {
    "ExecuteTime": {
     "end_time": "2020-08-03T08:57:28.897493Z",
     "start_time": "2020-08-03T08:31:58.303538Z"
    }
   },
   "outputs": [],
   "source": [
    "train_df = interactionToDataFrame(implicit_train)\n",
    "val_df = interactionToDataFrame(implicit_val)\n",
    "test_df = interactionToDataFrame(implicit_test)\n",
    "train_features_df = interactionToDataFrame(implicit_train_features)\n",
    "train_labels_df = interactionToDataFrame(implicit_train_labels)"
   ]
  },
  {
   "cell_type": "markdown",
   "metadata": {},
   "source": [
    "### Pickle "
   ]
  },
  {
   "cell_type": "markdown",
   "metadata": {},
   "source": [
    "Save"
   ]
  },
  {
   "cell_type": "code",
   "execution_count": 16,
   "metadata": {
    "ExecuteTime": {
     "end_time": "2020-08-03T08:57:28.917616Z",
     "start_time": "2020-08-03T08:57:28.901915Z"
    }
   },
   "outputs": [
    {
     "data": {
      "text/plain": [
       "'train_df.to_pickle(\"./train_df.pkl\")\\ntest_df.to_pickle(\"./test_df.pkl\")\\nval_df.to_pickle(\"./val_df.pkl\")'"
      ]
     },
     "execution_count": 16,
     "metadata": {},
     "output_type": "execute_result"
    }
   ],
   "source": [
    "'''train_df.to_pickle(\"./train_df.pkl\")\n",
    "test_df.to_pickle(\"./test_df.pkl\")\n",
    "val_df.to_pickle(\"./val_df.pkl\")'''"
   ]
  },
  {
   "cell_type": "markdown",
   "metadata": {},
   "source": [
    "Load"
   ]
  },
  {
   "cell_type": "code",
   "execution_count": 17,
   "metadata": {
    "ExecuteTime": {
     "end_time": "2020-08-03T08:57:29.023581Z",
     "start_time": "2020-08-03T08:57:28.921880Z"
    }
   },
   "outputs": [
    {
     "data": {
      "text/plain": [
       "'train_df = pd.read_pickle(\"./train_df.pkl\")\\ntest_df = pd.read_pickle(\"./test_df.pkl\")\\nval_df = pd.read_pickle(\"./val_df.pkl\")'"
      ]
     },
     "execution_count": 17,
     "metadata": {},
     "output_type": "execute_result"
    }
   ],
   "source": [
    "'''train_df = pd.read_pickle(\"./train_df.pkl\")\n",
    "test_df = pd.read_pickle(\"./test_df.pkl\")\n",
    "val_df = pd.read_pickle(\"./val_df.pkl\")'''"
   ]
  },
  {
   "cell_type": "markdown",
   "metadata": {},
   "source": [
    "### Train Implicit Factorization model "
   ]
  },
  {
   "cell_type": "code",
   "execution_count": 18,
   "metadata": {
    "ExecuteTime": {
     "end_time": "2020-08-03T09:00:13.249690Z",
     "start_time": "2020-08-03T08:57:29.030280Z"
    }
   },
   "outputs": [
    {
     "name": "stdout",
     "output_type": "stream",
     "text": [
      "Epoch 0: loss 0.5668151765346527\n",
      "Epoch 1: loss 0.334856329870224\n",
      "Epoch 2: loss 0.30193538765907285\n",
      "Epoch 3: loss 0.26821546082496645\n",
      "Epoch 4: loss 0.24133148968219756\n",
      "Training took 164 second\n"
     ]
    }
   ],
   "source": [
    "implicit_model = ImplicitFactorizationModel(n_iter=5)\n",
    "\n",
    "current = time.time()\n",
    "\n",
    "implicit_model.fit(implicit_train, verbose=True)\n",
    "\n",
    "end = time.time()\n",
    "diff = end - current\n",
    "print('Training took %d second' % (diff))"
   ]
  },
  {
   "cell_type": "markdown",
   "metadata": {},
   "source": [
    "### MRR score"
   ]
  },
  {
   "cell_type": "code",
   "execution_count": 19,
   "metadata": {
    "ExecuteTime": {
     "end_time": "2020-08-03T09:00:34.117019Z",
     "start_time": "2020-08-03T09:00:13.256202Z"
    }
   },
   "outputs": [
    {
     "name": "stdout",
     "output_type": "stream",
     "text": [
      "0.24259583790817066\n"
     ]
    }
   ],
   "source": [
    "from spotlight.evaluation import mrr_score\n",
    "print(mrr_score(implicit_model, implicit_test, train=implicit_train, k=100).mean())"
   ]
  },
  {
   "cell_type": "markdown",
   "metadata": {},
   "source": [
    "Distribution of scores for a user"
   ]
  },
  {
   "cell_type": "code",
   "execution_count": 20,
   "metadata": {
    "ExecuteTime": {
     "end_time": "2020-08-03T09:00:34.810477Z",
     "start_time": "2020-08-03T09:00:34.121574Z"
    }
   },
   "outputs": [
    {
     "data": {
      "text/plain": [
       "(array([1.000e+00, 1.000e+00, 4.000e+00, 4.000e+00, 1.300e+01, 2.600e+01,\n",
       "        3.200e+01, 8.400e+01, 1.590e+02, 3.370e+02, 5.930e+02, 9.250e+02,\n",
       "        1.354e+03, 1.626e+03, 1.661e+03, 1.388e+03, 1.018e+03, 7.300e+02,\n",
       "        5.480e+02, 5.020e+02, 4.250e+02, 4.220e+02, 2.970e+02, 2.960e+02,\n",
       "        2.470e+02, 2.060e+02, 1.900e+02, 1.990e+02, 1.860e+02, 1.360e+02,\n",
       "        1.420e+02, 9.200e+01, 4.900e+01, 4.800e+01, 2.200e+01, 1.600e+01,\n",
       "        4.000e+00, 3.000e+00, 2.000e+00, 1.000e+00]),\n",
       " array([-15.207695  , -14.48897   , -13.770246  , -13.05152   ,\n",
       "        -12.332796  , -11.614071  , -10.895346  , -10.176621  ,\n",
       "         -9.457896  ,  -8.739172  ,  -8.020447  ,  -7.301722  ,\n",
       "         -6.5829973 ,  -5.864272  ,  -5.1455474 ,  -4.4268227 ,\n",
       "         -3.708098  ,  -2.989373  ,  -2.2706482 ,  -1.5519234 ,\n",
       "         -0.83319855,  -0.11447372,   0.6042511 ,   1.3229759 ,\n",
       "          2.0417008 ,   2.7604256 ,   3.4791503 ,   4.197875  ,\n",
       "          4.9166    ,   5.635325  ,   6.3540497 ,   7.0727744 ,\n",
       "          7.791499  ,   8.510224  ,   9.228949  ,   9.947674  ,\n",
       "         10.666399  ,  11.385123  ,  12.103848  ,  12.822573  ,\n",
       "         13.541298  ], dtype=float32),\n",
       " <a list of 40 Patch objects>)"
      ]
     },
     "execution_count": 20,
     "metadata": {},
     "output_type": "execute_result"
    },
    {
     "data": {
      "image/png": "[encoded data removed]",
      "text/plain": [
       "<Figure size 432x288 with 1 Axes>"
      ]
     },
     "metadata": {
      "needs_background": "light"
     },
     "output_type": "display_data"
    }
   ],
   "source": [
    "plt.hist(implicit_model.predict(0), color = 'blue', edgecolor = 'black',\n",
    "         bins = 40)"
   ]
  },
  {
   "cell_type": "markdown",
   "metadata": {},
   "source": [
    "Not a lot items with high score"
   ]
  },
  {
   "cell_type": "markdown",
   "metadata": {},
   "source": [
    "### Top-K predictions for a user"
   ]
  },
  {
   "cell_type": "markdown",
   "metadata": {},
   "source": [
    "The function below (allUsers_topK_implicit) returns a list that contains the top-K recommendations for each user."
   ]
  },
  {
   "cell_type": "code",
   "execution_count": 21,
   "metadata": {
    "ExecuteTime": {
     "end_time": "2020-08-03T09:00:34.838408Z",
     "start_time": "2020-08-03T09:00:34.813962Z"
    },
    "cell_style": "split"
   },
   "outputs": [
    {
     "name": "stdout",
     "output_type": "stream",
     "text": [
      "[1237, 1250, 3949, 4308, 4973, 5952, 6016, 6539, 7323, 7327, 8014, 8873, 1907, 3578, 5445, 8368, 8636, 33794, 40815, 2542, 5014, 5225, 5291, 5377, 5956, 5989, 5991, 6863, 6870, 7445, 8783, 8874, 8983, 27660, 27773, 30707, 40819, 44191, 48385, 48394, 48516, 48780, 49530, 51255, 53972, 54503, 55820, 56782, 69122, 69481, 71535, 72998, 73017, 76251, 79132, 97921, 99114, 106782, 109374, 164179, 2951, 5618, 38038, 68954, 72226, 1947, 3435, 5577, 6942, 8638, 30810, 41285, 44555, 69757, 3000, 3752, 8784, 8950, 27904, 63082, 94959, 5995, 31658, 2313, 3462, 7099, 1464, 5902, 86882, 1209, 4873, 6807, 7981, 2076, 1227, 5791, 3424, 3910, 34542, 51540]\n"
     ]
    }
   ],
   "source": [
    "import scipy.stats as st\n",
    "k = 100\n",
    "def topK_implicit(user, model, k=100):\n",
    "  a= list()\n",
    "  ranks = st.rankdata(-model.predict(user))   \n",
    "  for iid in np.argwhere(ranks <= k):\n",
    "    #print(iid_rev_map[iid.item(0)])\n",
    "    a.append(iid_rev_map[iid.item(0)])\n",
    "  return a\n",
    "\n",
    "rec_forUser = topK_implicit(0,implicit_model)\n",
    "print(rec_forUser)"
   ]
  },
  {
   "cell_type": "code",
   "execution_count": 22,
   "metadata": {
    "ExecuteTime": {
     "end_time": "2020-08-03T09:00:34.925968Z",
     "start_time": "2020-08-03T09:00:34.844061Z"
    },
    "cell_style": "split"
   },
   "outputs": [],
   "source": [
    "def allUsers_topK_implicit(model):\n",
    "    a = []\n",
    "    for i in range(len(num_users)):\n",
    "       a.append(topK_implicit(i,model))\n",
    "    return a"
   ]
  },
  {
   "cell_type": "code",
   "execution_count": 23,
   "metadata": {
    "ExecuteTime": {
     "end_time": "2020-08-03T09:00:34.951014Z",
     "start_time": "2020-08-03T09:00:34.935254Z"
    },
    "scrolled": true
   },
   "outputs": [
    {
     "data": {
      "text/html": [
       "<div>\n",
       "<style scoped>\n",
       "    .dataframe tbody tr th:only-of-type {\n",
       "        vertical-align: middle;\n",
       "    }\n",
       "\n",
       "    .dataframe tbody tr th {\n",
       "        vertical-align: top;\n",
       "    }\n",
       "\n",
       "    .dataframe thead th {\n",
       "        text-align: right;\n",
       "    }\n",
       "</style>\n",
       "<table border=\"1\" class=\"dataframe\">\n",
       "  <thead>\n",
       "    <tr style=\"text-align: right;\">\n",
       "      <th></th>\n",
       "      <th>movieId</th>\n",
       "      <th>title</th>\n",
       "      <th>genres</th>\n",
       "    </tr>\n",
       "  </thead>\n",
       "  <tbody>\n",
       "  </tbody>\n",
       "</table>\n",
       "</div>"
      ],
      "text/plain": [
       "Empty DataFrame\n",
       "Columns: [movieId, title, genres]\n",
       "Index: []"
      ]
     },
     "execution_count": 23,
     "metadata": {},
     "output_type": "execute_result"
    }
   ],
   "source": [
    "movies_df.loc[movies_df['movieId'].isin(rec_forUser)]"
   ]
  },
  {
   "cell_type": "code",
   "execution_count": 24,
   "metadata": {
    "ExecuteTime": {
     "end_time": "2020-08-03T09:00:34.968253Z",
     "start_time": "2020-08-03T09:00:34.957913Z"
    }
   },
   "outputs": [],
   "source": [
    "movies_pred = movies_df['movieId'][movies_df['movieId'].isin(rec_forUser)]"
   ]
  },
  {
   "cell_type": "markdown",
   "metadata": {},
   "source": [
    "### Μovies watched from a user"
   ]
  },
  {
   "cell_type": "code",
   "execution_count": 25,
   "metadata": {
    "ExecuteTime": {
     "end_time": "2020-08-03T09:00:34.988714Z",
     "start_time": "2020-08-03T09:00:34.972253Z"
    }
   },
   "outputs": [],
   "source": [
    "actual = ratings_df[ratings_df[\"userId\"]==uid_rev_map.get(0)].groupby(\"movieId\")[\"movieId\"].count().sort_values(ascending=False).head(100)"
   ]
  },
  {
   "cell_type": "code",
   "execution_count": 26,
   "metadata": {
    "ExecuteTime": {
     "end_time": "2020-08-03T09:00:35.000423Z",
     "start_time": "2020-08-03T09:00:34.993424Z"
    }
   },
   "outputs": [],
   "source": [
    "actual = actual.index.tolist()"
   ]
  },
  {
   "cell_type": "code",
   "execution_count": 27,
   "metadata": {
    "ExecuteTime": {
     "end_time": "2020-08-03T09:00:35.035751Z",
     "start_time": "2020-08-03T09:00:35.005994Z"
    },
    "scrolled": true
   },
   "outputs": [
    {
     "data": {
      "text/html": [
       "<div>\n",
       "<style scoped>\n",
       "    .dataframe tbody tr th:only-of-type {\n",
       "        vertical-align: middle;\n",
       "    }\n",
       "\n",
       "    .dataframe tbody tr th {\n",
       "        vertical-align: top;\n",
       "    }\n",
       "\n",
       "    .dataframe thead th {\n",
       "        text-align: right;\n",
       "    }\n",
       "</style>\n",
       "<table border=\"1\" class=\"dataframe\">\n",
       "  <thead>\n",
       "    <tr style=\"text-align: right;\">\n",
       "      <th></th>\n",
       "      <th>movieId</th>\n",
       "      <th>title</th>\n",
       "      <th>genres</th>\n",
       "    </tr>\n",
       "  </thead>\n",
       "  <tbody>\n",
       "    <tr>\n",
       "      <th>292</th>\n",
       "      <td>296</td>\n",
       "      <td>Pulp Fiction (1994)</td>\n",
       "      <td>Comedy|Crime|Drama|Thriller</td>\n",
       "    </tr>\n",
       "    <tr>\n",
       "      <th>302</th>\n",
       "      <td>306</td>\n",
       "      <td>Three Colors: Red (Trois couleurs: Rouge) (1994)</td>\n",
       "      <td>Drama</td>\n",
       "    </tr>\n",
       "    <tr>\n",
       "      <th>303</th>\n",
       "      <td>307</td>\n",
       "      <td>Three Colors: Blue (Trois couleurs: Bleu) (1993)</td>\n",
       "      <td>Drama</td>\n",
       "    </tr>\n",
       "  </tbody>\n",
       "</table>\n",
       "</div>"
      ],
      "text/plain": [
       "     movieId                                             title  \\\n",
       "292      296                               Pulp Fiction (1994)   \n",
       "302      306  Three Colors: Red (Trois couleurs: Rouge) (1994)   \n",
       "303      307  Three Colors: Blue (Trois couleurs: Bleu) (1993)   \n",
       "\n",
       "                          genres  \n",
       "292  Comedy|Crime|Drama|Thriller  \n",
       "302                        Drama  \n",
       "303                        Drama  "
      ]
     },
     "execution_count": 27,
     "metadata": {},
     "output_type": "execute_result"
    }
   ],
   "source": [
    "movies_df.loc[movies_df['movieId'].isin(actual)]"
   ]
  },
  {
   "cell_type": "code",
   "execution_count": 28,
   "metadata": {
    "ExecuteTime": {
     "end_time": "2020-08-03T09:00:35.074442Z",
     "start_time": "2020-08-03T09:00:35.047121Z"
    }
   },
   "outputs": [],
   "source": [
    "movies_watched = movies_df['movieId'][movies_df['movieId'].isin(actual)]"
   ]
  },
  {
   "cell_type": "markdown",
   "metadata": {},
   "source": [
    "### NDCG Score"
   ]
  },
  {
   "cell_type": "code",
   "execution_count": 29,
   "metadata": {
    "ExecuteTime": {
     "end_time": "2020-08-03T09:00:57.504889Z",
     "start_time": "2020-08-03T09:00:35.082420Z"
    }
   },
   "outputs": [],
   "source": [
    "allUsers_topK_imp = allUsers_topK_implicit(implicit_model)"
   ]
  },
  {
   "cell_type": "code",
   "execution_count": 30,
   "metadata": {
    "ExecuteTime": {
     "end_time": "2020-08-03T09:00:57.525222Z",
     "start_time": "2020-08-03T09:00:57.512967Z"
    }
   },
   "outputs": [
    {
     "data": {
      "text/plain": [
       "True"
      ]
     },
     "execution_count": 30,
     "metadata": {},
     "output_type": "execute_result"
    }
   ],
   "source": [
    "rec_forUser == allUsers_topK_imp[0]"
   ]
  },
  {
   "cell_type": "code",
   "execution_count": 31,
   "metadata": {
    "ExecuteTime": {
     "end_time": "2020-08-03T09:00:57.767362Z",
     "start_time": "2020-08-03T09:00:57.530635Z"
    }
   },
   "outputs": [],
   "source": [
    "relevance_implicit = []\n",
    "for i in range(len(rec_forUser)):\n",
    "    if rec_forUser[i] in test_df['movie_id'][test_df['user_id'] == 1].values.tolist():\n",
    "        relevance_implicit.append(1)\n",
    "    else:\n",
    "        relevance_implicit.append(0)\n",
    "    "
   ]
  },
  {
   "cell_type": "markdown",
   "metadata": {},
   "source": [
    "Compute the relevance for each user. The relevance containes 0s and 1s based on which movies each has watched. For every recommended movie that the user has actually watched, the value of 1 is assigned. There is a relevance list for each user."
   ]
  },
  {
   "cell_type": "code",
   "execution_count": 32,
   "metadata": {
    "ExecuteTime": {
     "end_time": "2020-08-03T09:00:57.784812Z",
     "start_time": "2020-08-03T09:00:57.771464Z"
    }
   },
   "outputs": [],
   "source": [
    "def relevance_spotlight_implicit(allUsers_topK):\n",
    "    relevance_implicit_full = []\n",
    "    helper = []\n",
    "    count = 0\n",
    "    for i in range(1,len(num_users)+1):\n",
    "        for j in range(len(allUsers_topK[count])):\n",
    "            if allUsers_topK[count][j] in test_df['movie_id'][test_df['user_id'] == i].values.tolist():\n",
    "                helper.append(1)\n",
    "            else:\n",
    "                helper.append(0)\n",
    "        relevance_implicit_full.append(helper)\n",
    "        helper = []\n",
    "        count += 1\n",
    "    return relevance_implicit_full"
   ]
  },
  {
   "cell_type": "code",
   "execution_count": 33,
   "metadata": {
    "ExecuteTime": {
     "end_time": "2020-08-03T09:04:42.900195Z",
     "start_time": "2020-08-03T09:00:57.789533Z"
    }
   },
   "outputs": [],
   "source": [
    "relevance_implicit_full = relevance_spotlight_implicit(allUsers_topK_imp)"
   ]
  },
  {
   "cell_type": "code",
   "execution_count": 34,
   "metadata": {
    "ExecuteTime": {
     "end_time": "2020-08-03T09:04:42.915463Z",
     "start_time": "2020-08-03T09:04:42.903824Z"
    }
   },
   "outputs": [
    {
     "data": {
      "text/plain": [
       "True"
      ]
     },
     "execution_count": 34,
     "metadata": {},
     "output_type": "execute_result"
    }
   ],
   "source": [
    "relevance_implicit == relevance_implicit_full[0]"
   ]
  },
  {
   "cell_type": "markdown",
   "metadata": {},
   "source": [
    "The dcg and ideal_dcg functions are taken form https://github.com/lezzago/LambdaMart/blob/master/lambdamart.py. They are necessary to compute the desired NDCG evaluation metric."
   ]
  },
  {
   "cell_type": "code",
   "execution_count": 35,
   "metadata": {
    "ExecuteTime": {
     "end_time": "2020-08-03T09:04:43.006007Z",
     "start_time": "2020-08-03T09:04:42.918496Z"
    }
   },
   "outputs": [],
   "source": [
    "def dcg(scores):\n",
    "    \"\"\"\n",
    "    Returns the DCG value of the list of scores.\n",
    "    Parameters\n",
    "    ----------\n",
    "    scores : list\n",
    "        Contains labels in a certain ranked order\n",
    "\n",
    "    Returns\n",
    "    -------\n",
    "    DCG_val: int\n",
    "        This is the value of the DCG on the given scores\n",
    "    \"\"\"\n",
    "    return np.sum([\n",
    "                    (np.power(2, scores[i]) - 1) / np.log2(i + 2)\n",
    "                    for i in range(len(scores))\n",
    "                ])"
   ]
  },
  {
   "cell_type": "code",
   "execution_count": 36,
   "metadata": {
    "ExecuteTime": {
     "end_time": "2020-08-03T09:04:43.024770Z",
     "start_time": "2020-08-03T09:04:43.014998Z"
    }
   },
   "outputs": [],
   "source": [
    "def ideal_dcg(scores):\n",
    "    \"\"\"\n",
    "    Returns the Ideal DCG value of the list of scores.\n",
    "    Parameters\n",
    "    ----------\n",
    "    scores : list\n",
    "        Contains labels in a certain ranked order\n",
    "\n",
    "    Returns\n",
    "    -------\n",
    "    Ideal_DCG_val: int\n",
    "        This is the value of the Ideal DCG on the given scores\n",
    "    \"\"\"\n",
    "    scores = [score for score in sorted(scores)[::-1]]\n",
    "    return dcg(scores)"
   ]
  },
  {
   "cell_type": "code",
   "execution_count": 37,
   "metadata": {
    "ExecuteTime": {
     "end_time": "2020-08-03T09:04:43.038035Z",
     "start_time": "2020-08-03T09:04:43.028795Z"
    }
   },
   "outputs": [],
   "source": [
    "def NDCG_forUser(relevance):\n",
    "    return dcg(relevance) / ideal_dcg(relevance)"
   ]
  },
  {
   "cell_type": "code",
   "execution_count": 38,
   "metadata": {
    "ExecuteTime": {
     "end_time": "2020-08-03T09:04:43.057063Z",
     "start_time": "2020-08-03T09:04:43.043762Z"
    }
   },
   "outputs": [
    {
     "name": "stdout",
     "output_type": "stream",
     "text": [
      "0.27023815442731974\n",
      "0.27023815442731974\n"
     ]
    }
   ],
   "source": [
    "ndcg = NDCG_forUser(relevance_implicit_full[0])\n",
    "print(ndcg)\n",
    "ndcg = NDCG_forUser(relevance_implicit)\n",
    "print(ndcg)"
   ]
  },
  {
   "cell_type": "markdown",
   "metadata": {},
   "source": [
    "Creation of a list (allUsers_implicit_ndcg) that contains the NDCG score for each user."
   ]
  },
  {
   "cell_type": "code",
   "execution_count": 39,
   "metadata": {
    "ExecuteTime": {
     "end_time": "2020-08-03T09:04:43.065345Z",
     "start_time": "2020-08-03T09:04:43.060277Z"
    }
   },
   "outputs": [],
   "source": [
    "def allUsers_ndcg(relevance):\n",
    "    allUsers_implicit_ndcg = []\n",
    "    for i in range(len(num_users)):\n",
    "        allUsers_implicit_ndcg.append(NDCG_forUser(relevance[i]))\n",
    "    return allUsers_implicit_ndcg"
   ]
  },
  {
   "cell_type": "code",
   "execution_count": 40,
   "metadata": {
    "ExecuteTime": {
     "end_time": "2020-08-03T09:04:49.021462Z",
     "start_time": "2020-08-03T09:04:43.067924Z"
    }
   },
   "outputs": [
    {
     "name": "stderr",
     "output_type": "stream",
     "text": [
      "C:\\Users\\papad\\Anaconda3\\lib\\site-packages\\ipykernel_launcher.py:2: RuntimeWarning: invalid value encountered in double_scalars\n",
      "  \n"
     ]
    }
   ],
   "source": [
    "allUsers_implicit_ndcg = allUsers_ndcg(relevance_implicit_full)"
   ]
  },
  {
   "cell_type": "markdown",
   "metadata": {},
   "source": [
    "Fill the nan values with 0s."
   ]
  },
  {
   "cell_type": "code",
   "execution_count": 41,
   "metadata": {
    "ExecuteTime": {
     "end_time": "2020-08-03T09:04:49.032838Z",
     "start_time": "2020-08-03T09:04:49.025046Z"
    }
   },
   "outputs": [],
   "source": [
    "allUsers_implicit_ndcg = pd.Series(allUsers_implicit_ndcg).fillna(0).tolist()"
   ]
  },
  {
   "cell_type": "markdown",
   "metadata": {},
   "source": [
    "## Implicit Sequence model"
   ]
  },
  {
   "cell_type": "code",
   "execution_count": 42,
   "metadata": {
    "ExecuteTime": {
     "end_time": "2020-08-03T09:04:49.146242Z",
     "start_time": "2020-08-03T09:04:49.037074Z"
    }
   },
   "outputs": [],
   "source": [
    "from spotlight.sequence.implicit import ImplicitSequenceModel\n",
    "from spotlight.evaluation import sequence_mrr_score\n",
    "from spotlight.sequence.implicit import ImplicitSequenceModel"
   ]
  },
  {
   "cell_type": "markdown",
   "metadata": {},
   "source": [
    "### Train Implicit Sequence model"
   ]
  },
  {
   "cell_type": "code",
   "execution_count": 43,
   "metadata": {
    "ExecuteTime": {
     "end_time": "2020-08-03T09:04:49.159189Z",
     "start_time": "2020-08-03T09:04:49.151738Z"
    }
   },
   "outputs": [
    {
     "data": {
      "text/plain": [
       "\"sequence_model  = ImplicitSequenceModel(n_iter = 5)\\n\\ncurrent = time.time()\\nsequence_model.fit(interactions = implicit_train.to_sequence(),verbose = True)\\n\\nend = time.time()\\ndiff = end - current\\nprint('Training took %d second'%(diff))\""
      ]
     },
     "execution_count": 43,
     "metadata": {},
     "output_type": "execute_result"
    }
   ],
   "source": [
    "'''sequence_model  = ImplicitSequenceModel(n_iter = 5)\n",
    "\n",
    "current = time.time()\n",
    "sequence_model.fit(interactions = implicit_train.to_sequence(),verbose = True)\n",
    "\n",
    "end = time.time()\n",
    "diff = end - current\n",
    "print('Training took %d second'%(diff))'''"
   ]
  },
  {
   "cell_type": "code",
   "execution_count": 44,
   "metadata": {
    "ExecuteTime": {
     "end_time": "2020-08-03T09:04:49.171004Z",
     "start_time": "2020-08-03T09:04:49.162487Z"
    }
   },
   "outputs": [],
   "source": [
    "#sequence_model.predict(sequences = 9724)"
   ]
  },
  {
   "cell_type": "markdown",
   "metadata": {},
   "source": [
    "### MRR Score"
   ]
  },
  {
   "cell_type": "code",
   "execution_count": 45,
   "metadata": {
    "ExecuteTime": {
     "end_time": "2020-08-03T09:04:49.183877Z",
     "start_time": "2020-08-03T09:04:49.175033Z"
    }
   },
   "outputs": [],
   "source": [
    "#print(sequence_mrr_score(sequence_model, implicit_test.to_sequence()).mean())"
   ]
  },
  {
   "cell_type": "markdown",
   "metadata": {},
   "source": [
    "### Top-K predictions for a user"
   ]
  },
  {
   "cell_type": "code",
   "execution_count": 46,
   "metadata": {
    "ExecuteTime": {
     "end_time": "2020-08-03T09:04:49.195555Z",
     "start_time": "2020-08-03T09:04:49.188159Z"
    }
   },
   "outputs": [],
   "source": [
    "#allUsers_topK_sequence = allUsers_topK_implicit(sequence_model)"
   ]
  },
  {
   "cell_type": "markdown",
   "metadata": {},
   "source": [
    "### NDCG Score"
   ]
  },
  {
   "cell_type": "code",
   "execution_count": 47,
   "metadata": {
    "ExecuteTime": {
     "end_time": "2020-08-03T09:04:49.203828Z",
     "start_time": "2020-08-03T09:04:49.198515Z"
    }
   },
   "outputs": [],
   "source": [
    "#relevance_sequence_full = relevance_spotlight_implicit(allUsers_topK_sequence)"
   ]
  },
  {
   "cell_type": "code",
   "execution_count": 48,
   "metadata": {
    "ExecuteTime": {
     "end_time": "2020-08-03T09:04:49.219547Z",
     "start_time": "2020-08-03T09:04:49.208426Z"
    }
   },
   "outputs": [],
   "source": [
    "#allUsers_sequence_ndcg = allUsers_ndcg(relevance_sequence_full)"
   ]
  },
  {
   "cell_type": "code",
   "execution_count": 49,
   "metadata": {
    "ExecuteTime": {
     "end_time": "2020-08-03T09:04:49.234934Z",
     "start_time": "2020-08-03T09:04:49.224008Z"
    }
   },
   "outputs": [],
   "source": [
    "#allUsers_sequence_ndcg = pd.Series(allUsers_sequence_ndcg).fillna(0).tolist()"
   ]
  },
  {
   "cell_type": "markdown",
   "metadata": {},
   "source": [
    "# SVD"
   ]
  },
  {
   "cell_type": "markdown",
   "metadata": {},
   "source": [
    "Pivot is used to have a matrix that has as rows the userIDs and as columns the movieIDs. The unrated, by a user, movies are assigned the value 0 instead of null. Pivot organizes a DataFrame by giving index and column values. It is helpful in the recommender systems approach."
   ]
  },
  {
   "cell_type": "code",
   "execution_count": 50,
   "metadata": {
    "ExecuteTime": {
     "end_time": "2020-08-03T09:04:50.614131Z",
     "start_time": "2020-08-03T09:04:49.240472Z"
    }
   },
   "outputs": [],
   "source": [
    "df_movie_features = train_df.pivot(\n",
    "    index='user_id',\n",
    "    columns='movie_id',\n",
    "    values='rating'\n",
    ").fillna(0)"
   ]
  },
  {
   "cell_type": "code",
   "execution_count": 51,
   "metadata": {
    "ExecuteTime": {
     "end_time": "2020-08-03T09:04:50.712747Z",
     "start_time": "2020-08-03T09:04:50.617919Z"
    }
   },
   "outputs": [
    {
     "data": {
      "text/html": [
       "<div>\n",
       "<style scoped>\n",
       "    .dataframe tbody tr th:only-of-type {\n",
       "        vertical-align: middle;\n",
       "    }\n",
       "\n",
       "    .dataframe tbody tr th {\n",
       "        vertical-align: top;\n",
       "    }\n",
       "\n",
       "    .dataframe thead th {\n",
       "        text-align: right;\n",
       "    }\n",
       "</style>\n",
       "<table border=\"1\" class=\"dataframe\">\n",
       "  <thead>\n",
       "    <tr style=\"text-align: right;\">\n",
       "      <th>movie_id</th>\n",
       "      <th>1</th>\n",
       "      <th>2</th>\n",
       "      <th>3</th>\n",
       "      <th>4</th>\n",
       "      <th>5</th>\n",
       "      <th>6</th>\n",
       "      <th>7</th>\n",
       "      <th>8</th>\n",
       "      <th>9</th>\n",
       "      <th>10</th>\n",
       "      <th>...</th>\n",
       "      <th>205413</th>\n",
       "      <th>205499</th>\n",
       "      <th>205557</th>\n",
       "      <th>205945</th>\n",
       "      <th>205967</th>\n",
       "      <th>206293</th>\n",
       "      <th>206499</th>\n",
       "      <th>206523</th>\n",
       "      <th>207309</th>\n",
       "      <th>208793</th>\n",
       "    </tr>\n",
       "    <tr>\n",
       "      <th>user_id</th>\n",
       "      <th></th>\n",
       "      <th></th>\n",
       "      <th></th>\n",
       "      <th></th>\n",
       "      <th></th>\n",
       "      <th></th>\n",
       "      <th></th>\n",
       "      <th></th>\n",
       "      <th></th>\n",
       "      <th></th>\n",
       "      <th></th>\n",
       "      <th></th>\n",
       "      <th></th>\n",
       "      <th></th>\n",
       "      <th></th>\n",
       "      <th></th>\n",
       "      <th></th>\n",
       "      <th></th>\n",
       "      <th></th>\n",
       "      <th></th>\n",
       "      <th></th>\n",
       "    </tr>\n",
       "  </thead>\n",
       "  <tbody>\n",
       "    <tr>\n",
       "      <th>1</th>\n",
       "      <td>0.0</td>\n",
       "      <td>0.0</td>\n",
       "      <td>0.0</td>\n",
       "      <td>0.0</td>\n",
       "      <td>0.0</td>\n",
       "      <td>0.0</td>\n",
       "      <td>0.0</td>\n",
       "      <td>0.0</td>\n",
       "      <td>0.0</td>\n",
       "      <td>0.0</td>\n",
       "      <td>...</td>\n",
       "      <td>0.0</td>\n",
       "      <td>0.0</td>\n",
       "      <td>0.0</td>\n",
       "      <td>0.0</td>\n",
       "      <td>0.0</td>\n",
       "      <td>0.0</td>\n",
       "      <td>0.0</td>\n",
       "      <td>0.0</td>\n",
       "      <td>0.0</td>\n",
       "      <td>0.0</td>\n",
       "    </tr>\n",
       "    <tr>\n",
       "      <th>2</th>\n",
       "      <td>3.5</td>\n",
       "      <td>0.0</td>\n",
       "      <td>0.0</td>\n",
       "      <td>0.0</td>\n",
       "      <td>0.0</td>\n",
       "      <td>0.0</td>\n",
       "      <td>0.0</td>\n",
       "      <td>0.0</td>\n",
       "      <td>0.0</td>\n",
       "      <td>0.0</td>\n",
       "      <td>...</td>\n",
       "      <td>0.0</td>\n",
       "      <td>0.0</td>\n",
       "      <td>0.0</td>\n",
       "      <td>0.0</td>\n",
       "      <td>0.0</td>\n",
       "      <td>0.0</td>\n",
       "      <td>0.0</td>\n",
       "      <td>0.0</td>\n",
       "      <td>0.0</td>\n",
       "      <td>0.0</td>\n",
       "    </tr>\n",
       "    <tr>\n",
       "      <th>3</th>\n",
       "      <td>4.0</td>\n",
       "      <td>0.0</td>\n",
       "      <td>0.0</td>\n",
       "      <td>0.0</td>\n",
       "      <td>0.0</td>\n",
       "      <td>0.0</td>\n",
       "      <td>0.0</td>\n",
       "      <td>0.0</td>\n",
       "      <td>0.0</td>\n",
       "      <td>0.0</td>\n",
       "      <td>...</td>\n",
       "      <td>0.0</td>\n",
       "      <td>0.0</td>\n",
       "      <td>0.0</td>\n",
       "      <td>0.0</td>\n",
       "      <td>0.0</td>\n",
       "      <td>0.0</td>\n",
       "      <td>0.0</td>\n",
       "      <td>0.0</td>\n",
       "      <td>0.0</td>\n",
       "      <td>0.0</td>\n",
       "    </tr>\n",
       "    <tr>\n",
       "      <th>4</th>\n",
       "      <td>3.0</td>\n",
       "      <td>0.0</td>\n",
       "      <td>0.0</td>\n",
       "      <td>0.0</td>\n",
       "      <td>0.0</td>\n",
       "      <td>0.0</td>\n",
       "      <td>0.0</td>\n",
       "      <td>0.0</td>\n",
       "      <td>0.0</td>\n",
       "      <td>0.0</td>\n",
       "      <td>...</td>\n",
       "      <td>0.0</td>\n",
       "      <td>0.0</td>\n",
       "      <td>0.0</td>\n",
       "      <td>0.0</td>\n",
       "      <td>0.0</td>\n",
       "      <td>0.0</td>\n",
       "      <td>0.0</td>\n",
       "      <td>0.0</td>\n",
       "      <td>0.0</td>\n",
       "      <td>0.0</td>\n",
       "    </tr>\n",
       "    <tr>\n",
       "      <th>5</th>\n",
       "      <td>4.0</td>\n",
       "      <td>0.0</td>\n",
       "      <td>0.0</td>\n",
       "      <td>0.0</td>\n",
       "      <td>0.0</td>\n",
       "      <td>0.0</td>\n",
       "      <td>0.0</td>\n",
       "      <td>0.0</td>\n",
       "      <td>0.0</td>\n",
       "      <td>0.0</td>\n",
       "      <td>...</td>\n",
       "      <td>0.0</td>\n",
       "      <td>0.0</td>\n",
       "      <td>0.0</td>\n",
       "      <td>0.0</td>\n",
       "      <td>0.0</td>\n",
       "      <td>0.0</td>\n",
       "      <td>0.0</td>\n",
       "      <td>0.0</td>\n",
       "      <td>0.0</td>\n",
       "      <td>0.0</td>\n",
       "    </tr>\n",
       "    <tr>\n",
       "      <th>...</th>\n",
       "      <td>...</td>\n",
       "      <td>...</td>\n",
       "      <td>...</td>\n",
       "      <td>...</td>\n",
       "      <td>...</td>\n",
       "      <td>...</td>\n",
       "      <td>...</td>\n",
       "      <td>...</td>\n",
       "      <td>...</td>\n",
       "      <td>...</td>\n",
       "      <td>...</td>\n",
       "      <td>...</td>\n",
       "      <td>...</td>\n",
       "      <td>...</td>\n",
       "      <td>...</td>\n",
       "      <td>...</td>\n",
       "      <td>...</td>\n",
       "      <td>...</td>\n",
       "      <td>...</td>\n",
       "      <td>...</td>\n",
       "      <td>...</td>\n",
       "    </tr>\n",
       "    <tr>\n",
       "      <th>1747</th>\n",
       "      <td>0.0</td>\n",
       "      <td>0.0</td>\n",
       "      <td>0.0</td>\n",
       "      <td>0.0</td>\n",
       "      <td>0.0</td>\n",
       "      <td>0.0</td>\n",
       "      <td>0.0</td>\n",
       "      <td>0.0</td>\n",
       "      <td>0.0</td>\n",
       "      <td>0.0</td>\n",
       "      <td>...</td>\n",
       "      <td>0.0</td>\n",
       "      <td>0.0</td>\n",
       "      <td>0.0</td>\n",
       "      <td>0.0</td>\n",
       "      <td>0.0</td>\n",
       "      <td>0.0</td>\n",
       "      <td>0.0</td>\n",
       "      <td>0.0</td>\n",
       "      <td>0.0</td>\n",
       "      <td>0.0</td>\n",
       "    </tr>\n",
       "    <tr>\n",
       "      <th>1748</th>\n",
       "      <td>4.5</td>\n",
       "      <td>3.0</td>\n",
       "      <td>0.0</td>\n",
       "      <td>0.0</td>\n",
       "      <td>0.0</td>\n",
       "      <td>0.0</td>\n",
       "      <td>3.5</td>\n",
       "      <td>0.0</td>\n",
       "      <td>1.5</td>\n",
       "      <td>0.0</td>\n",
       "      <td>...</td>\n",
       "      <td>0.0</td>\n",
       "      <td>0.0</td>\n",
       "      <td>0.0</td>\n",
       "      <td>0.0</td>\n",
       "      <td>0.0</td>\n",
       "      <td>0.0</td>\n",
       "      <td>0.0</td>\n",
       "      <td>0.0</td>\n",
       "      <td>0.0</td>\n",
       "      <td>0.0</td>\n",
       "    </tr>\n",
       "    <tr>\n",
       "      <th>1749</th>\n",
       "      <td>0.0</td>\n",
       "      <td>0.0</td>\n",
       "      <td>0.0</td>\n",
       "      <td>0.0</td>\n",
       "      <td>0.0</td>\n",
       "      <td>0.0</td>\n",
       "      <td>0.0</td>\n",
       "      <td>0.0</td>\n",
       "      <td>0.0</td>\n",
       "      <td>0.0</td>\n",
       "      <td>...</td>\n",
       "      <td>0.0</td>\n",
       "      <td>0.0</td>\n",
       "      <td>0.0</td>\n",
       "      <td>0.0</td>\n",
       "      <td>0.0</td>\n",
       "      <td>0.0</td>\n",
       "      <td>0.0</td>\n",
       "      <td>0.0</td>\n",
       "      <td>0.0</td>\n",
       "      <td>0.0</td>\n",
       "    </tr>\n",
       "    <tr>\n",
       "      <th>1750</th>\n",
       "      <td>0.0</td>\n",
       "      <td>0.0</td>\n",
       "      <td>0.0</td>\n",
       "      <td>0.0</td>\n",
       "      <td>0.0</td>\n",
       "      <td>0.0</td>\n",
       "      <td>0.0</td>\n",
       "      <td>0.0</td>\n",
       "      <td>0.0</td>\n",
       "      <td>0.0</td>\n",
       "      <td>...</td>\n",
       "      <td>0.0</td>\n",
       "      <td>0.0</td>\n",
       "      <td>0.0</td>\n",
       "      <td>0.0</td>\n",
       "      <td>0.0</td>\n",
       "      <td>0.0</td>\n",
       "      <td>0.0</td>\n",
       "      <td>0.0</td>\n",
       "      <td>0.0</td>\n",
       "      <td>0.0</td>\n",
       "    </tr>\n",
       "    <tr>\n",
       "      <th>1751</th>\n",
       "      <td>0.0</td>\n",
       "      <td>0.0</td>\n",
       "      <td>0.0</td>\n",
       "      <td>0.0</td>\n",
       "      <td>0.0</td>\n",
       "      <td>0.0</td>\n",
       "      <td>3.0</td>\n",
       "      <td>0.0</td>\n",
       "      <td>0.0</td>\n",
       "      <td>0.0</td>\n",
       "      <td>...</td>\n",
       "      <td>0.0</td>\n",
       "      <td>0.0</td>\n",
       "      <td>0.0</td>\n",
       "      <td>0.0</td>\n",
       "      <td>0.0</td>\n",
       "      <td>0.0</td>\n",
       "      <td>0.0</td>\n",
       "      <td>0.0</td>\n",
       "      <td>0.0</td>\n",
       "      <td>0.0</td>\n",
       "    </tr>\n",
       "  </tbody>\n",
       "</table>\n",
       "<p>1751 rows × 11945 columns</p>\n",
       "</div>"
      ],
      "text/plain": [
       "movie_id  1       2       3       4       5       6       7       8       \\\n",
       "user_id                                                                    \n",
       "1            0.0     0.0     0.0     0.0     0.0     0.0     0.0     0.0   \n",
       "2            3.5     0.0     0.0     0.0     0.0     0.0     0.0     0.0   \n",
       "3            4.0     0.0     0.0     0.0     0.0     0.0     0.0     0.0   \n",
       "4            3.0     0.0     0.0     0.0     0.0     0.0     0.0     0.0   \n",
       "5            4.0     0.0     0.0     0.0     0.0     0.0     0.0     0.0   \n",
       "...          ...     ...     ...     ...     ...     ...     ...     ...   \n",
       "1747         0.0     0.0     0.0     0.0     0.0     0.0     0.0     0.0   \n",
       "1748         4.5     3.0     0.0     0.0     0.0     0.0     3.5     0.0   \n",
       "1749         0.0     0.0     0.0     0.0     0.0     0.0     0.0     0.0   \n",
       "1750         0.0     0.0     0.0     0.0     0.0     0.0     0.0     0.0   \n",
       "1751         0.0     0.0     0.0     0.0     0.0     0.0     3.0     0.0   \n",
       "\n",
       "movie_id  9       10      ...  205413  205499  205557  205945  205967  206293  \\\n",
       "user_id                   ...                                                   \n",
       "1            0.0     0.0  ...     0.0     0.0     0.0     0.0     0.0     0.0   \n",
       "2            0.0     0.0  ...     0.0     0.0     0.0     0.0     0.0     0.0   \n",
       "3            0.0     0.0  ...     0.0     0.0     0.0     0.0     0.0     0.0   \n",
       "4            0.0     0.0  ...     0.0     0.0     0.0     0.0     0.0     0.0   \n",
       "5            0.0     0.0  ...     0.0     0.0     0.0     0.0     0.0     0.0   \n",
       "...          ...     ...  ...     ...     ...     ...     ...     ...     ...   \n",
       "1747         0.0     0.0  ...     0.0     0.0     0.0     0.0     0.0     0.0   \n",
       "1748         1.5     0.0  ...     0.0     0.0     0.0     0.0     0.0     0.0   \n",
       "1749         0.0     0.0  ...     0.0     0.0     0.0     0.0     0.0     0.0   \n",
       "1750         0.0     0.0  ...     0.0     0.0     0.0     0.0     0.0     0.0   \n",
       "1751         0.0     0.0  ...     0.0     0.0     0.0     0.0     0.0     0.0   \n",
       "\n",
       "movie_id  206499  206523  207309  208793  \n",
       "user_id                                   \n",
       "1            0.0     0.0     0.0     0.0  \n",
       "2            0.0     0.0     0.0     0.0  \n",
       "3            0.0     0.0     0.0     0.0  \n",
       "4            0.0     0.0     0.0     0.0  \n",
       "5            0.0     0.0     0.0     0.0  \n",
       "...          ...     ...     ...     ...  \n",
       "1747         0.0     0.0     0.0     0.0  \n",
       "1748         0.0     0.0     0.0     0.0  \n",
       "1749         0.0     0.0     0.0     0.0  \n",
       "1750         0.0     0.0     0.0     0.0  \n",
       "1751         0.0     0.0     0.0     0.0  \n",
       "\n",
       "[1751 rows x 11945 columns]"
      ]
     },
     "execution_count": 51,
     "metadata": {},
     "output_type": "execute_result"
    }
   ],
   "source": [
    "df_movie_features"
   ]
  },
  {
   "cell_type": "markdown",
   "metadata": {},
   "source": [
    "## SVD implementation"
   ]
  },
  {
   "cell_type": "code",
   "execution_count": 52,
   "metadata": {
    "ExecuteTime": {
     "end_time": "2020-08-03T09:04:52.606184Z",
     "start_time": "2020-08-03T09:04:50.717004Z"
    }
   },
   "outputs": [],
   "source": [
    "from scipy.sparse.linalg import svds\n",
    "U, sigma, Vt = svds(df_movie_features, k = 10)"
   ]
  },
  {
   "cell_type": "markdown",
   "metadata": {},
   "source": [
    "## Predictions"
   ]
  },
  {
   "cell_type": "markdown",
   "metadata": {},
   "source": [
    "To get the prediction of a rating of an item dj, we can calculate the dot product of the two vectors.\n",
    "The sigma variable has just the values, so I have to convert to a diagonal matrix in orded to implement the matrix multiplication."
   ]
  },
  {
   "cell_type": "code",
   "execution_count": 53,
   "metadata": {
    "ExecuteTime": {
     "end_time": "2020-08-03T09:04:52.858359Z",
     "start_time": "2020-08-03T09:04:52.610263Z"
    }
   },
   "outputs": [],
   "source": [
    "sigma = np.diag(sigma)\n",
    "svd_predictions_score = np.dot(np.dot(U, sigma), Vt)\n",
    "svd_predictions_score_df = pd.DataFrame(svd_predictions_score, columns = df_movie_features.columns)\n"
   ]
  },
  {
   "cell_type": "code",
   "execution_count": 54,
   "metadata": {
    "ExecuteTime": {
     "end_time": "2020-08-03T09:04:52.916264Z",
     "start_time": "2020-08-03T09:04:52.863186Z"
    }
   },
   "outputs": [
    {
     "data": {
      "text/plain": [
       "array([ 2.18173211,  0.64939929,  0.25801314, ...,  0.00424608,\n",
       "       -0.00255027, -0.07405019])"
      ]
     },
     "execution_count": 54,
     "metadata": {},
     "output_type": "execute_result"
    }
   ],
   "source": [
    "svd_predictions_score[1]"
   ]
  },
  {
   "cell_type": "code",
   "execution_count": 55,
   "metadata": {
    "ExecuteTime": {
     "end_time": "2020-08-03T09:04:53.011216Z",
     "start_time": "2020-08-03T09:04:52.921490Z"
    }
   },
   "outputs": [
    {
     "data": {
      "text/html": [
       "<div>\n",
       "<style scoped>\n",
       "    .dataframe tbody tr th:only-of-type {\n",
       "        vertical-align: middle;\n",
       "    }\n",
       "\n",
       "    .dataframe tbody tr th {\n",
       "        vertical-align: top;\n",
       "    }\n",
       "\n",
       "    .dataframe thead th {\n",
       "        text-align: right;\n",
       "    }\n",
       "</style>\n",
       "<table border=\"1\" class=\"dataframe\">\n",
       "  <thead>\n",
       "    <tr style=\"text-align: right;\">\n",
       "      <th>movie_id</th>\n",
       "      <th>1</th>\n",
       "      <th>2</th>\n",
       "      <th>3</th>\n",
       "      <th>4</th>\n",
       "      <th>5</th>\n",
       "      <th>6</th>\n",
       "      <th>7</th>\n",
       "      <th>8</th>\n",
       "      <th>9</th>\n",
       "      <th>10</th>\n",
       "      <th>...</th>\n",
       "      <th>205413</th>\n",
       "      <th>205499</th>\n",
       "      <th>205557</th>\n",
       "      <th>205945</th>\n",
       "      <th>205967</th>\n",
       "      <th>206293</th>\n",
       "      <th>206499</th>\n",
       "      <th>206523</th>\n",
       "      <th>207309</th>\n",
       "      <th>208793</th>\n",
       "    </tr>\n",
       "  </thead>\n",
       "  <tbody>\n",
       "    <tr>\n",
       "      <th>0</th>\n",
       "      <td>0.055504</td>\n",
       "      <td>0.016815</td>\n",
       "      <td>-0.029535</td>\n",
       "      <td>-0.004938</td>\n",
       "      <td>-0.052431</td>\n",
       "      <td>-0.051610</td>\n",
       "      <td>-0.033102</td>\n",
       "      <td>-0.001193</td>\n",
       "      <td>-0.061028</td>\n",
       "      <td>-0.039329</td>\n",
       "      <td>...</td>\n",
       "      <td>0.000144</td>\n",
       "      <td>0.000192</td>\n",
       "      <td>0.000216</td>\n",
       "      <td>0.001431</td>\n",
       "      <td>-0.009998</td>\n",
       "      <td>0.000787</td>\n",
       "      <td>0.015328</td>\n",
       "      <td>0.002044</td>\n",
       "      <td>-0.001848</td>\n",
       "      <td>-0.001570</td>\n",
       "    </tr>\n",
       "    <tr>\n",
       "      <th>1</th>\n",
       "      <td>2.181732</td>\n",
       "      <td>0.649399</td>\n",
       "      <td>0.258013</td>\n",
       "      <td>0.021586</td>\n",
       "      <td>0.147485</td>\n",
       "      <td>-0.161301</td>\n",
       "      <td>0.408790</td>\n",
       "      <td>0.093728</td>\n",
       "      <td>0.088748</td>\n",
       "      <td>0.686187</td>\n",
       "      <td>...</td>\n",
       "      <td>0.034207</td>\n",
       "      <td>0.045610</td>\n",
       "      <td>0.051311</td>\n",
       "      <td>0.000851</td>\n",
       "      <td>-0.028321</td>\n",
       "      <td>0.009988</td>\n",
       "      <td>-0.005768</td>\n",
       "      <td>0.004246</td>\n",
       "      <td>-0.002550</td>\n",
       "      <td>-0.074050</td>\n",
       "    </tr>\n",
       "    <tr>\n",
       "      <th>2</th>\n",
       "      <td>2.383179</td>\n",
       "      <td>0.741897</td>\n",
       "      <td>-0.156974</td>\n",
       "      <td>-0.048234</td>\n",
       "      <td>-0.091223</td>\n",
       "      <td>0.926746</td>\n",
       "      <td>-0.303005</td>\n",
       "      <td>-0.065840</td>\n",
       "      <td>0.116273</td>\n",
       "      <td>0.234714</td>\n",
       "      <td>...</td>\n",
       "      <td>0.021404</td>\n",
       "      <td>0.028539</td>\n",
       "      <td>0.032106</td>\n",
       "      <td>0.001954</td>\n",
       "      <td>0.060172</td>\n",
       "      <td>0.026533</td>\n",
       "      <td>0.037199</td>\n",
       "      <td>0.027431</td>\n",
       "      <td>0.025871</td>\n",
       "      <td>0.118327</td>\n",
       "    </tr>\n",
       "    <tr>\n",
       "      <th>3</th>\n",
       "      <td>1.911626</td>\n",
       "      <td>0.430689</td>\n",
       "      <td>-0.091348</td>\n",
       "      <td>-0.015513</td>\n",
       "      <td>0.020192</td>\n",
       "      <td>0.210604</td>\n",
       "      <td>-0.162494</td>\n",
       "      <td>-0.034819</td>\n",
       "      <td>-0.024315</td>\n",
       "      <td>0.131492</td>\n",
       "      <td>...</td>\n",
       "      <td>0.030736</td>\n",
       "      <td>0.040981</td>\n",
       "      <td>0.046103</td>\n",
       "      <td>0.001658</td>\n",
       "      <td>0.024428</td>\n",
       "      <td>0.016602</td>\n",
       "      <td>0.016795</td>\n",
       "      <td>0.012749</td>\n",
       "      <td>0.013661</td>\n",
       "      <td>0.048582</td>\n",
       "    </tr>\n",
       "    <tr>\n",
       "      <th>4</th>\n",
       "      <td>1.014890</td>\n",
       "      <td>0.505006</td>\n",
       "      <td>0.302109</td>\n",
       "      <td>0.037663</td>\n",
       "      <td>0.301605</td>\n",
       "      <td>0.414485</td>\n",
       "      <td>0.306052</td>\n",
       "      <td>0.055722</td>\n",
       "      <td>0.164157</td>\n",
       "      <td>0.796647</td>\n",
       "      <td>...</td>\n",
       "      <td>0.000541</td>\n",
       "      <td>0.000722</td>\n",
       "      <td>0.000812</td>\n",
       "      <td>0.000370</td>\n",
       "      <td>-0.005805</td>\n",
       "      <td>0.000530</td>\n",
       "      <td>-0.001460</td>\n",
       "      <td>-0.001584</td>\n",
       "      <td>-0.000674</td>\n",
       "      <td>-0.000287</td>\n",
       "    </tr>\n",
       "    <tr>\n",
       "      <th>...</th>\n",
       "      <td>...</td>\n",
       "      <td>...</td>\n",
       "      <td>...</td>\n",
       "      <td>...</td>\n",
       "      <td>...</td>\n",
       "      <td>...</td>\n",
       "      <td>...</td>\n",
       "      <td>...</td>\n",
       "      <td>...</td>\n",
       "      <td>...</td>\n",
       "      <td>...</td>\n",
       "      <td>...</td>\n",
       "      <td>...</td>\n",
       "      <td>...</td>\n",
       "      <td>...</td>\n",
       "      <td>...</td>\n",
       "      <td>...</td>\n",
       "      <td>...</td>\n",
       "      <td>...</td>\n",
       "      <td>...</td>\n",
       "      <td>...</td>\n",
       "    </tr>\n",
       "    <tr>\n",
       "      <th>1746</th>\n",
       "      <td>0.363436</td>\n",
       "      <td>0.021293</td>\n",
       "      <td>0.044280</td>\n",
       "      <td>0.019148</td>\n",
       "      <td>0.106280</td>\n",
       "      <td>0.312187</td>\n",
       "      <td>0.205691</td>\n",
       "      <td>0.009294</td>\n",
       "      <td>0.025386</td>\n",
       "      <td>0.193681</td>\n",
       "      <td>...</td>\n",
       "      <td>-0.016710</td>\n",
       "      <td>-0.022280</td>\n",
       "      <td>-0.025065</td>\n",
       "      <td>-0.001175</td>\n",
       "      <td>-0.007125</td>\n",
       "      <td>-0.005826</td>\n",
       "      <td>0.003366</td>\n",
       "      <td>0.000804</td>\n",
       "      <td>0.006783</td>\n",
       "      <td>-0.011238</td>\n",
       "    </tr>\n",
       "    <tr>\n",
       "      <th>1747</th>\n",
       "      <td>2.708563</td>\n",
       "      <td>0.841211</td>\n",
       "      <td>0.807753</td>\n",
       "      <td>0.141648</td>\n",
       "      <td>1.278780</td>\n",
       "      <td>2.910992</td>\n",
       "      <td>4.109196</td>\n",
       "      <td>0.710770</td>\n",
       "      <td>1.587697</td>\n",
       "      <td>1.152206</td>\n",
       "      <td>...</td>\n",
       "      <td>0.057246</td>\n",
       "      <td>0.076328</td>\n",
       "      <td>0.085869</td>\n",
       "      <td>-0.020721</td>\n",
       "      <td>0.046955</td>\n",
       "      <td>0.016386</td>\n",
       "      <td>0.108769</td>\n",
       "      <td>0.016384</td>\n",
       "      <td>0.044083</td>\n",
       "      <td>-0.083005</td>\n",
       "    </tr>\n",
       "    <tr>\n",
       "      <th>1748</th>\n",
       "      <td>1.256961</td>\n",
       "      <td>0.345806</td>\n",
       "      <td>0.277082</td>\n",
       "      <td>0.034393</td>\n",
       "      <td>0.202350</td>\n",
       "      <td>0.201600</td>\n",
       "      <td>0.426464</td>\n",
       "      <td>0.064461</td>\n",
       "      <td>0.122144</td>\n",
       "      <td>0.360267</td>\n",
       "      <td>...</td>\n",
       "      <td>0.029381</td>\n",
       "      <td>0.039174</td>\n",
       "      <td>0.044071</td>\n",
       "      <td>-0.000259</td>\n",
       "      <td>0.003071</td>\n",
       "      <td>0.002251</td>\n",
       "      <td>-0.002948</td>\n",
       "      <td>-0.003028</td>\n",
       "      <td>-0.002585</td>\n",
       "      <td>-0.021245</td>\n",
       "    </tr>\n",
       "    <tr>\n",
       "      <th>1749</th>\n",
       "      <td>0.151613</td>\n",
       "      <td>0.036230</td>\n",
       "      <td>0.018439</td>\n",
       "      <td>0.004433</td>\n",
       "      <td>0.021309</td>\n",
       "      <td>0.002952</td>\n",
       "      <td>0.055459</td>\n",
       "      <td>0.007727</td>\n",
       "      <td>-0.013917</td>\n",
       "      <td>0.006005</td>\n",
       "      <td>...</td>\n",
       "      <td>0.003841</td>\n",
       "      <td>0.005122</td>\n",
       "      <td>0.005762</td>\n",
       "      <td>0.000524</td>\n",
       "      <td>-0.003440</td>\n",
       "      <td>0.000635</td>\n",
       "      <td>-0.000962</td>\n",
       "      <td>0.000501</td>\n",
       "      <td>-0.000531</td>\n",
       "      <td>0.003748</td>\n",
       "    </tr>\n",
       "    <tr>\n",
       "      <th>1750</th>\n",
       "      <td>0.082607</td>\n",
       "      <td>0.051497</td>\n",
       "      <td>0.045798</td>\n",
       "      <td>0.005808</td>\n",
       "      <td>0.052047</td>\n",
       "      <td>0.104124</td>\n",
       "      <td>0.060083</td>\n",
       "      <td>0.011748</td>\n",
       "      <td>0.029643</td>\n",
       "      <td>0.151923</td>\n",
       "      <td>...</td>\n",
       "      <td>-0.002932</td>\n",
       "      <td>-0.003909</td>\n",
       "      <td>-0.004397</td>\n",
       "      <td>-0.000230</td>\n",
       "      <td>0.000587</td>\n",
       "      <td>-0.000871</td>\n",
       "      <td>0.001585</td>\n",
       "      <td>-0.000598</td>\n",
       "      <td>0.000144</td>\n",
       "      <td>0.000005</td>\n",
       "    </tr>\n",
       "  </tbody>\n",
       "</table>\n",
       "<p>1751 rows × 11945 columns</p>\n",
       "</div>"
      ],
      "text/plain": [
       "movie_id    1         2         3         4         5         6       \\\n",
       "0         0.055504  0.016815 -0.029535 -0.004938 -0.052431 -0.051610   \n",
       "1         2.181732  0.649399  0.258013  0.021586  0.147485 -0.161301   \n",
       "2         2.383179  0.741897 -0.156974 -0.048234 -0.091223  0.926746   \n",
       "3         1.911626  0.430689 -0.091348 -0.015513  0.020192  0.210604   \n",
       "4         1.014890  0.505006  0.302109  0.037663  0.301605  0.414485   \n",
       "...            ...       ...       ...       ...       ...       ...   \n",
       "1746      0.363436  0.021293  0.044280  0.019148  0.106280  0.312187   \n",
       "1747      2.708563  0.841211  0.807753  0.141648  1.278780  2.910992   \n",
       "1748      1.256961  0.345806  0.277082  0.034393  0.202350  0.201600   \n",
       "1749      0.151613  0.036230  0.018439  0.004433  0.021309  0.002952   \n",
       "1750      0.082607  0.051497  0.045798  0.005808  0.052047  0.104124   \n",
       "\n",
       "movie_id    7         8         9         10      ...    205413    205499  \\\n",
       "0        -0.033102 -0.001193 -0.061028 -0.039329  ...  0.000144  0.000192   \n",
       "1         0.408790  0.093728  0.088748  0.686187  ...  0.034207  0.045610   \n",
       "2        -0.303005 -0.065840  0.116273  0.234714  ...  0.021404  0.028539   \n",
       "3        -0.162494 -0.034819 -0.024315  0.131492  ...  0.030736  0.040981   \n",
       "4         0.306052  0.055722  0.164157  0.796647  ...  0.000541  0.000722   \n",
       "...            ...       ...       ...       ...  ...       ...       ...   \n",
       "1746      0.205691  0.009294  0.025386  0.193681  ... -0.016710 -0.022280   \n",
       "1747      4.109196  0.710770  1.587697  1.152206  ...  0.057246  0.076328   \n",
       "1748      0.426464  0.064461  0.122144  0.360267  ...  0.029381  0.039174   \n",
       "1749      0.055459  0.007727 -0.013917  0.006005  ...  0.003841  0.005122   \n",
       "1750      0.060083  0.011748  0.029643  0.151923  ... -0.002932 -0.003909   \n",
       "\n",
       "movie_id    205557    205945    205967    206293    206499    206523  \\\n",
       "0         0.000216  0.001431 -0.009998  0.000787  0.015328  0.002044   \n",
       "1         0.051311  0.000851 -0.028321  0.009988 -0.005768  0.004246   \n",
       "2         0.032106  0.001954  0.060172  0.026533  0.037199  0.027431   \n",
       "3         0.046103  0.001658  0.024428  0.016602  0.016795  0.012749   \n",
       "4         0.000812  0.000370 -0.005805  0.000530 -0.001460 -0.001584   \n",
       "...            ...       ...       ...       ...       ...       ...   \n",
       "1746     -0.025065 -0.001175 -0.007125 -0.005826  0.003366  0.000804   \n",
       "1747      0.085869 -0.020721  0.046955  0.016386  0.108769  0.016384   \n",
       "1748      0.044071 -0.000259  0.003071  0.002251 -0.002948 -0.003028   \n",
       "1749      0.005762  0.000524 -0.003440  0.000635 -0.000962  0.000501   \n",
       "1750     -0.004397 -0.000230  0.000587 -0.000871  0.001585 -0.000598   \n",
       "\n",
       "movie_id    207309    208793  \n",
       "0        -0.001848 -0.001570  \n",
       "1        -0.002550 -0.074050  \n",
       "2         0.025871  0.118327  \n",
       "3         0.013661  0.048582  \n",
       "4        -0.000674 -0.000287  \n",
       "...            ...       ...  \n",
       "1746      0.006783 -0.011238  \n",
       "1747      0.044083 -0.083005  \n",
       "1748     -0.002585 -0.021245  \n",
       "1749     -0.000531  0.003748  \n",
       "1750      0.000144  0.000005  \n",
       "\n",
       "[1751 rows x 11945 columns]"
      ]
     },
     "execution_count": 55,
     "metadata": {},
     "output_type": "execute_result"
    }
   ],
   "source": [
    "svd_predictions_score_df"
   ]
  },
  {
   "cell_type": "code",
   "execution_count": 56,
   "metadata": {
    "ExecuteTime": {
     "end_time": "2020-08-03T09:04:53.072394Z",
     "start_time": "2020-08-03T09:04:53.016153Z"
    }
   },
   "outputs": [
    {
     "data": {
      "text/html": [
       "<div>\n",
       "<style scoped>\n",
       "    .dataframe tbody tr th:only-of-type {\n",
       "        vertical-align: middle;\n",
       "    }\n",
       "\n",
       "    .dataframe tbody tr th {\n",
       "        vertical-align: top;\n",
       "    }\n",
       "\n",
       "    .dataframe thead th {\n",
       "        text-align: right;\n",
       "    }\n",
       "</style>\n",
       "<table border=\"1\" class=\"dataframe\">\n",
       "  <thead>\n",
       "    <tr style=\"text-align: right;\">\n",
       "      <th>movie_id</th>\n",
       "      <th>1</th>\n",
       "      <th>2</th>\n",
       "      <th>3</th>\n",
       "      <th>4</th>\n",
       "      <th>5</th>\n",
       "      <th>6</th>\n",
       "      <th>7</th>\n",
       "      <th>8</th>\n",
       "      <th>9</th>\n",
       "      <th>10</th>\n",
       "      <th>...</th>\n",
       "      <th>205413</th>\n",
       "      <th>205499</th>\n",
       "      <th>205557</th>\n",
       "      <th>205945</th>\n",
       "      <th>205967</th>\n",
       "      <th>206293</th>\n",
       "      <th>206499</th>\n",
       "      <th>206523</th>\n",
       "      <th>207309</th>\n",
       "      <th>208793</th>\n",
       "    </tr>\n",
       "  </thead>\n",
       "  <tbody>\n",
       "    <tr>\n",
       "      <th>609</th>\n",
       "      <td>0.772778</td>\n",
       "      <td>0.073804</td>\n",
       "      <td>-0.052349</td>\n",
       "      <td>-0.013713</td>\n",
       "      <td>-0.131644</td>\n",
       "      <td>0.22643</td>\n",
       "      <td>-0.138559</td>\n",
       "      <td>-0.044984</td>\n",
       "      <td>-0.109407</td>\n",
       "      <td>0.113775</td>\n",
       "      <td>...</td>\n",
       "      <td>-0.010922</td>\n",
       "      <td>-0.014563</td>\n",
       "      <td>-0.016383</td>\n",
       "      <td>0.001007</td>\n",
       "      <td>0.001209</td>\n",
       "      <td>-0.001505</td>\n",
       "      <td>0.014195</td>\n",
       "      <td>0.006293</td>\n",
       "      <td>0.005309</td>\n",
       "      <td>-0.00404</td>\n",
       "    </tr>\n",
       "  </tbody>\n",
       "</table>\n",
       "<p>1 rows × 11945 columns</p>\n",
       "</div>"
      ],
      "text/plain": [
       "movie_id    1         2         3         4         5        6         7       \\\n",
       "609       0.772778  0.073804 -0.052349 -0.013713 -0.131644  0.22643 -0.138559   \n",
       "\n",
       "movie_id    8         9         10      ...    205413    205499    205557  \\\n",
       "609      -0.044984 -0.109407  0.113775  ... -0.010922 -0.014563 -0.016383   \n",
       "\n",
       "movie_id    205945    205967    206293    206499    206523    207309   208793  \n",
       "609       0.001007  0.001209 -0.001505  0.014195  0.006293  0.005309 -0.00404  \n",
       "\n",
       "[1 rows x 11945 columns]"
      ]
     },
     "execution_count": 56,
     "metadata": {},
     "output_type": "execute_result"
    }
   ],
   "source": [
    "svd_predictions_score_df[svd_predictions_score_df.index == 609]"
   ]
  },
  {
   "cell_type": "markdown",
   "metadata": {},
   "source": [
    "## Top-K recommendations"
   ]
  },
  {
   "cell_type": "markdown",
   "metadata": {},
   "source": [
    "### First"
   ]
  },
  {
   "cell_type": "markdown",
   "metadata": {},
   "source": [
    "The function below returns a list that contains the top-100 recommendations for each user"
   ]
  },
  {
   "cell_type": "code",
   "execution_count": 57,
   "metadata": {
    "ExecuteTime": {
     "end_time": "2020-08-03T09:04:53.094607Z",
     "start_time": "2020-08-03T09:04:53.077573Z"
    }
   },
   "outputs": [],
   "source": [
    "def SVD_topK_first(score_df):\n",
    "    topK_svd_rec = []\n",
    "    for i in range(len(num_users)):\n",
    "        svd_h_df = pd.DataFrame({'movie_id': score_df[score_df.index == i].columns,\n",
    "                                 'score': score_df[score_df.index == i].values[0]})\n",
    "        svd_h_df = svd_h_df.sort_values('score', ascending=False)\n",
    "        svd_h_df = svd_h_df.head(100)\n",
    "        topK_svd_rec.append(svd_h_df['movie_id'].values)\n",
    "    return topK_svd_rec"
   ]
  },
  {
   "cell_type": "markdown",
   "metadata": {},
   "source": [
    "#### NDCG Score"
   ]
  },
  {
   "cell_type": "markdown",
   "metadata": {},
   "source": [
    "The function below returns the relevance list of a list of movies."
   ]
  },
  {
   "cell_type": "code",
   "execution_count": 58,
   "metadata": {
    "ExecuteTime": {
     "end_time": "2020-08-03T09:04:53.112141Z",
     "start_time": "2020-08-03T09:04:53.098656Z"
    }
   },
   "outputs": [],
   "source": [
    "def SVD_relevance_first(score_df):\n",
    "    svd_topK = SVD_topK_first(score_df)\n",
    "    relevance_svd_full = []\n",
    "    helper = []\n",
    "    count = 0\n",
    "    for i in range(1,len(num_users)+1):\n",
    "        for j in range(len(svd_topK[count])):\n",
    "            if svd_topK[count][j] in test_df['movie_id'][test_df['user_id'] == i].values.tolist():\n",
    "                helper.append(1)\n",
    "            else:\n",
    "                helper.append(0)\n",
    "        relevance_svd_full.append(helper)\n",
    "        helper = []\n",
    "        count += 1\n",
    "    return relevance_svd_full"
   ]
  },
  {
   "cell_type": "code",
   "execution_count": 59,
   "metadata": {
    "ExecuteTime": {
     "end_time": "2020-08-03T09:08:47.071168Z",
     "start_time": "2020-08-03T09:04:53.116432Z"
    }
   },
   "outputs": [],
   "source": [
    "relevance_first = SVD_relevance_first(svd_predictions_score_df)"
   ]
  },
  {
   "cell_type": "code",
   "execution_count": 60,
   "metadata": {
    "ExecuteTime": {
     "end_time": "2020-08-03T09:08:47.113317Z",
     "start_time": "2020-08-03T09:08:47.075840Z"
    }
   },
   "outputs": [
    {
     "data": {
      "text/plain": [
       "(1751, 100)"
      ]
     },
     "execution_count": 60,
     "metadata": {},
     "output_type": "execute_result"
    }
   ],
   "source": [
    "np.asarray(relevance_first).shape"
   ]
  },
  {
   "cell_type": "code",
   "execution_count": 61,
   "metadata": {
    "ExecuteTime": {
     "end_time": "2020-08-03T09:08:47.122230Z",
     "start_time": "2020-08-03T09:08:47.114730Z"
    }
   },
   "outputs": [
    {
     "name": "stderr",
     "output_type": "stream",
     "text": [
      "C:\\Users\\papad\\Anaconda3\\lib\\site-packages\\ipykernel_launcher.py:2: RuntimeWarning: invalid value encountered in double_scalars\n",
      "  \n"
     ]
    }
   ],
   "source": [
    "n_f = NDCG_forUser(relevance_first[0])"
   ]
  },
  {
   "cell_type": "code",
   "execution_count": 62,
   "metadata": {
    "ExecuteTime": {
     "end_time": "2020-08-03T09:08:47.132228Z",
     "start_time": "2020-08-03T09:08:47.123755Z"
    }
   },
   "outputs": [
    {
     "data": {
      "text/plain": [
       "nan"
      ]
     },
     "execution_count": 62,
     "metadata": {},
     "output_type": "execute_result"
    }
   ],
   "source": [
    "n_f"
   ]
  },
  {
   "cell_type": "markdown",
   "metadata": {},
   "source": [
    "Below is the NDCG scores of each user"
   ]
  },
  {
   "cell_type": "code",
   "execution_count": 63,
   "metadata": {
    "ExecuteTime": {
     "end_time": "2020-08-03T09:08:52.516887Z",
     "start_time": "2020-08-03T09:08:47.133686Z"
    }
   },
   "outputs": [
    {
     "name": "stderr",
     "output_type": "stream",
     "text": [
      "C:\\Users\\papad\\Anaconda3\\lib\\site-packages\\ipykernel_launcher.py:2: RuntimeWarning: invalid value encountered in double_scalars\n",
      "  \n"
     ]
    }
   ],
   "source": [
    "all_ndcg_f = allUsers_ndcg(relevance_first)"
   ]
  },
  {
   "cell_type": "code",
   "execution_count": 64,
   "metadata": {
    "ExecuteTime": {
     "end_time": "2020-08-03T09:08:52.529141Z",
     "start_time": "2020-08-03T09:08:52.520714Z"
    }
   },
   "outputs": [],
   "source": [
    "all_ndcg_f = pd.Series(all_ndcg_f).fillna(0).tolist()"
   ]
  },
  {
   "cell_type": "code",
   "execution_count": 65,
   "metadata": {
    "ExecuteTime": {
     "end_time": "2020-08-03T09:08:52.614117Z",
     "start_time": "2020-08-03T09:08:52.533434Z"
    }
   },
   "outputs": [
    {
     "data": {
      "text/plain": [
       "0.40635414589238517"
      ]
     },
     "execution_count": 65,
     "metadata": {},
     "output_type": "execute_result"
    }
   ],
   "source": [
    "np.asarray(all_ndcg_f).mean()"
   ]
  },
  {
   "cell_type": "markdown",
   "metadata": {},
   "source": [
    "### Second"
   ]
  },
  {
   "cell_type": "markdown",
   "metadata": {},
   "source": [
    "Code used from https://github.com/nikitaa30/Recommender-Systems/blob/master/matrix_factorisation_svd.py\n",
    "\n",
    "Provide top-K predictions for a user"
   ]
  },
  {
   "cell_type": "code",
   "execution_count": 66,
   "metadata": {
    "ExecuteTime": {
     "end_time": "2020-08-03T09:08:52.630492Z",
     "start_time": "2020-08-03T09:08:52.617435Z"
    }
   },
   "outputs": [
    {
     "data": {
      "text/plain": [
       "\"def recommend_movies(preds_df, userID, movies_df, original_ratings_df, num_recommendations):\\n    # Get and sort the user's predictions\\n    user_row_number = userID - 1 # UserID starts at 1, not 0\\n    sorted_user_predictions = preds_df.iloc[user_row_number].sort_values(ascending=False) # UserID starts at 1\\n    \\n    # Get the user's data and merge in the movie information.\\n    user_data = original_ratings_df[original_ratings_df.userId == (userID)]\\n    user_full = (user_data.merge(movies_df, how = 'left', left_on = 'movieId', right_on = 'movieId').\\n                     sort_values(['rating'], ascending=False)\\n                 )\\n    # Recommend the highest predicted rating movies that the user hasn't seen yet.\\n    recommendations = (movies_df[~movies_df['movieId'].isin(user_full['movieId'])]).merge(pd.DataFrame(sorted_user_predictions).reset_index(), how = 'left', left_on = 'movieId',\\n               right_on = 'movie_id').rename(columns = {user_row_number: 'Predictions'}).sort_values('Predictions', ascending = False).iloc[:num_recommendations, :-1]\\n                      \\n\\n    return user_full, recommendations\""
      ]
     },
     "execution_count": 66,
     "metadata": {},
     "output_type": "execute_result"
    }
   ],
   "source": [
    "'''def recommend_movies(preds_df, userID, movies_df, original_ratings_df, num_recommendations):\n",
    "    # Get and sort the user's predictions\n",
    "    user_row_number = userID - 1 # UserID starts at 1, not 0\n",
    "    sorted_user_predictions = preds_df.iloc[user_row_number].sort_values(ascending=False) # UserID starts at 1\n",
    "    \n",
    "    # Get the user's data and merge in the movie information.\n",
    "    user_data = original_ratings_df[original_ratings_df.userId == (userID)]\n",
    "    user_full = (user_data.merge(movies_df, how = 'left', left_on = 'movieId', right_on = 'movieId').\n",
    "                     sort_values(['rating'], ascending=False)\n",
    "                 )\n",
    "    # Recommend the highest predicted rating movies that the user hasn't seen yet.\n",
    "    recommendations = (movies_df[~movies_df['movieId'].isin(user_full['movieId'])]).merge(pd.DataFrame(sorted_user_predictions).reset_index(), how = 'left', left_on = 'movieId',\n",
    "               right_on = 'movie_id').rename(columns = {user_row_number: 'Predictions'}).sort_values('Predictions', ascending = False).iloc[:num_recommendations, :-1]\n",
    "                      \n",
    "\n",
    "    return user_full, recommendations'''"
   ]
  },
  {
   "cell_type": "code",
   "execution_count": 67,
   "metadata": {
    "ExecuteTime": {
     "end_time": "2020-08-03T09:08:52.642217Z",
     "start_time": "2020-08-03T09:08:52.634340Z"
    }
   },
   "outputs": [
    {
     "data": {
      "text/plain": [
       "'already_rated, predictions = recommend_movies(svd_predictions_score_df, 1, movies_df, ratings_df, 100)\\npredictions.head()'"
      ]
     },
     "execution_count": 67,
     "metadata": {},
     "output_type": "execute_result"
    }
   ],
   "source": [
    "'''already_rated, predictions = recommend_movies(svd_predictions_score_df, 1, movies_df, ratings_df, 100)\n",
    "predictions.head()'''"
   ]
  },
  {
   "cell_type": "markdown",
   "metadata": {},
   "source": [
    "The function SVD_topK_allUsers returens a list that contains the top-K recommendations for each user."
   ]
  },
  {
   "cell_type": "code",
   "execution_count": 68,
   "metadata": {
    "ExecuteTime": {
     "end_time": "2020-08-03T09:08:52.683848Z",
     "start_time": "2020-08-03T09:08:52.671156Z"
    }
   },
   "outputs": [
    {
     "data": {
      "text/plain": [
       "'def SVD_topK_allUsers():\\n    allUsers_already_rated = []\\n    allUsers_predictions = []\\n    for i in range(1,len(num_users)+1):\\n        already_rated, predictions = recommend_movies(svd_predictions_score_df, i, movies_df, ratings_df, 100)\\n        allUsers_already_rated.append(already_rated)\\n        allUsers_predictions.append(predictions)\\n    return allUsers_predictions'"
      ]
     },
     "execution_count": 68,
     "metadata": {},
     "output_type": "execute_result"
    }
   ],
   "source": [
    "'''def SVD_topK_allUsers():\n",
    "    allUsers_already_rated = []\n",
    "    allUsers_predictions = []\n",
    "    for i in range(1,len(num_users)+1):\n",
    "        already_rated, predictions = recommend_movies(svd_predictions_score_df, i, movies_df, ratings_df, 100)\n",
    "        allUsers_already_rated.append(already_rated)\n",
    "        allUsers_predictions.append(predictions)\n",
    "    return allUsers_predictions'''"
   ]
  },
  {
   "cell_type": "markdown",
   "metadata": {},
   "source": [
    "#### NDCG Score"
   ]
  },
  {
   "cell_type": "markdown",
   "metadata": {},
   "source": [
    "The function SVD_relevance returns a list that contains the relevance (0s and 1s) between the top-K recommendations and the movies that each user actually watched."
   ]
  },
  {
   "cell_type": "code",
   "execution_count": 69,
   "metadata": {
    "ExecuteTime": {
     "end_time": "2020-08-03T09:08:52.709865Z",
     "start_time": "2020-08-03T09:08:52.695662Z"
    }
   },
   "outputs": [
    {
     "data": {
      "text/plain": [
       "\"def SVD_relevance():\\n    svd_topK = SVD_topK_allUsers()\\n    relevance_svd_full = []\\n    helper = []\\n    count = 0\\n    for i in range(1,len(num_users)+1):\\n        for j in range(len(svd_topK[count])):\\n            if svd_topK[count]['movieId'].values[j] in test_df['movie_id'][test_df['user_id'] == i].values.tolist():\\n                helper.append(1)\\n            else:\\n                helper.append(0)\\n        relevance_svd_full.append(helper)\\n        helper = []\\n        count += 1\\n    return relevance_svd_full\""
      ]
     },
     "execution_count": 69,
     "metadata": {},
     "output_type": "execute_result"
    }
   ],
   "source": [
    "'''def SVD_relevance():\n",
    "    svd_topK = SVD_topK_allUsers()\n",
    "    relevance_svd_full = []\n",
    "    helper = []\n",
    "    count = 0\n",
    "    for i in range(1,len(num_users)+1):\n",
    "        for j in range(len(svd_topK[count])):\n",
    "            if svd_topK[count]['movieId'].values[j] in test_df['movie_id'][test_df['user_id'] == i].values.tolist():\n",
    "                helper.append(1)\n",
    "            else:\n",
    "                helper.append(0)\n",
    "        relevance_svd_full.append(helper)\n",
    "        helper = []\n",
    "        count += 1\n",
    "    return relevance_svd_full'''"
   ]
  },
  {
   "cell_type": "code",
   "execution_count": 70,
   "metadata": {
    "ExecuteTime": {
     "end_time": "2020-08-03T09:08:52.725579Z",
     "start_time": "2020-08-03T09:08:52.713987Z"
    }
   },
   "outputs": [],
   "source": [
    "#svd_relevance = SVD_relevance()"
   ]
  },
  {
   "cell_type": "code",
   "execution_count": 71,
   "metadata": {
    "ExecuteTime": {
     "end_time": "2020-08-03T09:08:52.737665Z",
     "start_time": "2020-08-03T09:08:52.728572Z"
    }
   },
   "outputs": [],
   "source": [
    "#allUsers_svd_ndcg = allUsers_ndcg(svd_relevance)"
   ]
  },
  {
   "cell_type": "code",
   "execution_count": null,
   "metadata": {},
   "outputs": [],
   "source": []
  },
  {
   "cell_type": "markdown",
   "metadata": {},
   "source": [
    "# LightGBM Baseline"
   ]
  },
  {
   "cell_type": "markdown",
   "metadata": {},
   "source": [
    "I create 2 features, which are the scores from the Implicit and SVD models on the top-K recommendations for each user based on the implicit model."
   ]
  },
  {
   "cell_type": "code",
   "execution_count": 72,
   "metadata": {
    "ExecuteTime": {
     "end_time": "2020-08-03T09:08:52.745127Z",
     "start_time": "2020-08-03T09:08:52.740972Z"
    }
   },
   "outputs": [],
   "source": [
    "#target_movies = allUsers_topK_imp\n",
    "#for i in range(len(num_users)):\n",
    "#    target_movies.append(topK_implicit(i,implicit_model))"
   ]
  },
  {
   "cell_type": "markdown",
   "metadata": {},
   "source": [
    "##  Feature 1 (Implicit factorization model scores)"
   ]
  },
  {
   "cell_type": "markdown",
   "metadata": {},
   "source": [
    "Train an implicit factorization model using the train_features dataset"
   ]
  },
  {
   "cell_type": "code",
   "execution_count": 73,
   "metadata": {
    "ExecuteTime": {
     "end_time": "2020-08-03T09:10:51.059851Z",
     "start_time": "2020-08-03T09:08:52.748801Z"
    }
   },
   "outputs": [
    {
     "name": "stdout",
     "output_type": "stream",
     "text": [
      "Epoch 0: loss 0.5977691603302956\n",
      "Epoch 1: loss 0.34763483357429503\n",
      "Epoch 2: loss 0.3158217426538467\n",
      "Epoch 3: loss 0.28201976531744005\n",
      "Epoch 4: loss 0.25089010363817216\n",
      "Training took 118 second\n"
     ]
    }
   ],
   "source": [
    "f1_model = ImplicitFactorizationModel(n_iter = 5)\n",
    "\n",
    "current = time.time()\n",
    "\n",
    "f1_model.fit(implicit_train_features,verbose = True)\n",
    "\n",
    "end = time.time()\n",
    "diff = end - current\n",
    "print('Training took %d second'%(diff))"
   ]
  },
  {
   "cell_type": "code",
   "execution_count": 74,
   "metadata": {
    "ExecuteTime": {
     "end_time": "2020-08-03T09:11:11.550100Z",
     "start_time": "2020-08-03T09:10:51.068892Z"
    }
   },
   "outputs": [],
   "source": [
    "allUsers_topK_f1 = allUsers_topK_implicit(f1_model)\n",
    "target_movies = allUsers_topK_f1"
   ]
  },
  {
   "cell_type": "markdown",
   "metadata": {},
   "source": [
    "Map the target movies to pick the correct predictions based on the item id"
   ]
  },
  {
   "cell_type": "code",
   "execution_count": 75,
   "metadata": {
    "ExecuteTime": {
     "end_time": "2020-08-03T09:11:11.572647Z",
     "start_time": "2020-08-03T09:11:11.556472Z"
    }
   },
   "outputs": [],
   "source": [
    "def map_movies(target_movies):\n",
    "    map_target_movies = []\n",
    "    map_help = []\n",
    "    for movies in target_movies:\n",
    "        for movie in movies:\n",
    "            map_help.append(iid_map[movie])\n",
    "        map_target_movies.append(map_help)\n",
    "        map_help = []\n",
    "    return map_target_movies"
   ]
  },
  {
   "cell_type": "markdown",
   "metadata": {},
   "source": [
    "Implicit Factorization model Scores"
   ]
  },
  {
   "cell_type": "markdown",
   "metadata": {},
   "source": [
    "Train implicit on implicit_features_train! and take these scores."
   ]
  },
  {
   "cell_type": "code",
   "execution_count": 76,
   "metadata": {
    "ExecuteTime": {
     "end_time": "2020-08-03T09:11:11.663706Z",
     "start_time": "2020-08-03T09:11:11.579947Z"
    }
   },
   "outputs": [],
   "source": [
    "def give_movies_implicit_scores(map_movies):\n",
    "    implicit_scores = 0\n",
    "    feature = []\n",
    "    for i in range(len(num_users)):\n",
    "        #for movies in map_target_movies:\n",
    "        my_list = map_movies[i]\n",
    "        my_array = np.array(my_list)\n",
    "        implicit_scores = f1_model.predict(user_ids = i,item_ids = my_array)\n",
    "        feature.append(implicit_scores)\n",
    "    return feature"
   ]
  },
  {
   "cell_type": "code",
   "execution_count": 77,
   "metadata": {
    "ExecuteTime": {
     "end_time": "2020-08-03T09:11:13.280319Z",
     "start_time": "2020-08-03T09:11:11.670981Z"
    }
   },
   "outputs": [
    {
     "data": {
      "text/plain": [
       "(1751, 100)"
      ]
     },
     "execution_count": 77,
     "metadata": {},
     "output_type": "execute_result"
    }
   ],
   "source": [
    "map_target_movies = map_movies(target_movies)\n",
    "feature1 = give_movies_implicit_scores(map_target_movies)\n",
    "feature1 = np.asarray(feature1)\n",
    "feature1.shape"
   ]
  },
  {
   "cell_type": "code",
   "execution_count": 78,
   "metadata": {
    "ExecuteTime": {
     "end_time": "2020-08-03T09:11:13.292697Z",
     "start_time": "2020-08-03T09:11:13.282585Z"
    }
   },
   "outputs": [],
   "source": [
    "#feature1 = np.asarray(feature1).reshape(len(num_users),100)"
   ]
  },
  {
   "cell_type": "markdown",
   "metadata": {},
   "source": [
    "## Feature 2 (Implicit sequence model scores)"
   ]
  },
  {
   "cell_type": "code",
   "execution_count": 79,
   "metadata": {
    "ExecuteTime": {
     "end_time": "2020-08-03T09:11:13.319602Z",
     "start_time": "2020-08-03T09:11:13.299725Z"
    }
   },
   "outputs": [
    {
     "data": {
      "text/plain": [
       "\"f2_model = ImplicitSequenceModel(n_iter = 5)\\n\\ncurrent = time.time()\\n\\nf2_model.fit(implicit_train_features.to_sequence(),verbose = True)\\n\\nend = time.time()\\ndiff = end - current\\nprint('Training took %d second'%(diff))\""
      ]
     },
     "execution_count": 79,
     "metadata": {},
     "output_type": "execute_result"
    }
   ],
   "source": [
    "'''f2_model = ImplicitSequenceModel(n_iter = 5)\n",
    "\n",
    "current = time.time()\n",
    "\n",
    "f2_model.fit(implicit_train_features.to_sequence(),verbose = True)\n",
    "\n",
    "end = time.time()\n",
    "diff = end - current\n",
    "print('Training took %d second'%(diff))'''"
   ]
  },
  {
   "cell_type": "code",
   "execution_count": 80,
   "metadata": {
    "ExecuteTime": {
     "end_time": "2020-08-03T09:11:13.340131Z",
     "start_time": "2020-08-03T09:11:13.325585Z"
    }
   },
   "outputs": [
    {
     "data": {
      "text/plain": [
       "'implicit_scores = 0\\nfeature2 = []\\nfor i in range(len(num_users)):\\n    #for movies in map_target_movies:\\n    my_list = map_target_movies[i]\\n    my_array = np.array(my_list)\\n    implicit_scores = f2_model.predict(i,item_ids = my_array)\\n    feature2.append(implicit_scores)'"
      ]
     },
     "execution_count": 80,
     "metadata": {},
     "output_type": "execute_result"
    }
   ],
   "source": [
    "'''implicit_scores = 0\n",
    "feature2 = []\n",
    "for i in range(len(num_users)):\n",
    "    #for movies in map_target_movies:\n",
    "    my_list = map_target_movies[i]\n",
    "    my_array = np.array(my_list)\n",
    "    implicit_scores = f2_model.predict(i,item_ids = my_array)\n",
    "    feature2.append(implicit_scores)'''"
   ]
  },
  {
   "cell_type": "markdown",
   "metadata": {},
   "source": [
    "## Feature 3 (SVD scores)"
   ]
  },
  {
   "cell_type": "markdown",
   "metadata": {},
   "source": [
    "SVD model Scores. Take advantage of the DataFrame containing the scores to extract the predicted scores for the desired movies."
   ]
  },
  {
   "cell_type": "code",
   "execution_count": 81,
   "metadata": {
    "ExecuteTime": {
     "end_time": "2020-08-03T09:11:14.719071Z",
     "start_time": "2020-08-03T09:11:13.349993Z"
    }
   },
   "outputs": [],
   "source": [
    "df_movie_features1 = train_features_df.pivot(\n",
    "    index='user_id',\n",
    "    columns='movie_id',\n",
    "    values='rating'\n",
    ").fillna(0)"
   ]
  },
  {
   "cell_type": "code",
   "execution_count": 82,
   "metadata": {
    "ExecuteTime": {
     "end_time": "2020-08-03T09:11:16.622660Z",
     "start_time": "2020-08-03T09:11:14.723066Z"
    }
   },
   "outputs": [],
   "source": [
    "U1, sigma1, Vt1 = svds(df_movie_features1)\n",
    "sigma1 = np.diag(sigma1)\n",
    "svd_predictions_score1 = np.dot(np.dot(U1, sigma1), Vt1)\n",
    "svd_predictions_score_df1 = pd.DataFrame(svd_predictions_score1, columns = df_movie_features1.columns)"
   ]
  },
  {
   "cell_type": "code",
   "execution_count": 83,
   "metadata": {
    "ExecuteTime": {
     "end_time": "2020-08-03T09:11:16.643780Z",
     "start_time": "2020-08-03T09:11:16.627690Z"
    }
   },
   "outputs": [
    {
     "data": {
      "text/plain": [
       "6016"
      ]
     },
     "execution_count": 83,
     "metadata": {},
     "output_type": "execute_result"
    }
   ],
   "source": [
    "target_movies[0][2]"
   ]
  },
  {
   "cell_type": "code",
   "execution_count": 84,
   "metadata": {
    "ExecuteTime": {
     "end_time": "2020-08-03T09:11:16.758388Z",
     "start_time": "2020-08-03T09:11:16.649836Z"
    }
   },
   "outputs": [
    {
     "data": {
      "text/html": [
       "<div>\n",
       "<style scoped>\n",
       "    .dataframe tbody tr th:only-of-type {\n",
       "        vertical-align: middle;\n",
       "    }\n",
       "\n",
       "    .dataframe tbody tr th {\n",
       "        vertical-align: top;\n",
       "    }\n",
       "\n",
       "    .dataframe thead th {\n",
       "        text-align: right;\n",
       "    }\n",
       "</style>\n",
       "<table border=\"1\" class=\"dataframe\">\n",
       "  <thead>\n",
       "    <tr style=\"text-align: right;\">\n",
       "      <th>movie_id</th>\n",
       "      <th>1</th>\n",
       "      <th>2</th>\n",
       "      <th>3</th>\n",
       "      <th>4</th>\n",
       "      <th>5</th>\n",
       "      <th>6</th>\n",
       "      <th>7</th>\n",
       "      <th>8</th>\n",
       "      <th>9</th>\n",
       "      <th>10</th>\n",
       "      <th>...</th>\n",
       "      <th>205383</th>\n",
       "      <th>205413</th>\n",
       "      <th>205499</th>\n",
       "      <th>205945</th>\n",
       "      <th>205967</th>\n",
       "      <th>206293</th>\n",
       "      <th>206499</th>\n",
       "      <th>206523</th>\n",
       "      <th>207309</th>\n",
       "      <th>208793</th>\n",
       "    </tr>\n",
       "  </thead>\n",
       "  <tbody>\n",
       "    <tr>\n",
       "      <th>0</th>\n",
       "      <td>0.05852</td>\n",
       "      <td>-0.02963</td>\n",
       "      <td>-0.036151</td>\n",
       "      <td>-0.002254</td>\n",
       "      <td>-0.030975</td>\n",
       "      <td>0.084782</td>\n",
       "      <td>-0.032484</td>\n",
       "      <td>-0.016548</td>\n",
       "      <td>-0.030549</td>\n",
       "      <td>-0.051453</td>\n",
       "      <td>...</td>\n",
       "      <td>0.00165</td>\n",
       "      <td>-0.003279</td>\n",
       "      <td>-0.004372</td>\n",
       "      <td>0.000233</td>\n",
       "      <td>0.002074</td>\n",
       "      <td>-0.000883</td>\n",
       "      <td>0.009211</td>\n",
       "      <td>0.001653</td>\n",
       "      <td>0.002372</td>\n",
       "      <td>0.005047</td>\n",
       "    </tr>\n",
       "  </tbody>\n",
       "</table>\n",
       "<p>1 rows × 10999 columns</p>\n",
       "</div>"
      ],
      "text/plain": [
       "movie_id   1        2         3         4         5         6         7       \\\n",
       "0         0.05852 -0.02963 -0.036151 -0.002254 -0.030975  0.084782 -0.032484   \n",
       "\n",
       "movie_id    8         9         10      ...   205383    205413    205499  \\\n",
       "0        -0.016548 -0.030549 -0.051453  ...  0.00165 -0.003279 -0.004372   \n",
       "\n",
       "movie_id    205945    205967    206293    206499    206523    207309    208793  \n",
       "0         0.000233  0.002074 -0.000883  0.009211  0.001653  0.002372  0.005047  \n",
       "\n",
       "[1 rows x 10999 columns]"
      ]
     },
     "execution_count": 84,
     "metadata": {},
     "output_type": "execute_result"
    }
   ],
   "source": [
    "svd_predictions_score_df1[svd_predictions_score_df1.index == 0]"
   ]
  },
  {
   "cell_type": "code",
   "execution_count": 85,
   "metadata": {
    "ExecuteTime": {
     "end_time": "2020-08-03T09:11:16.778402Z",
     "start_time": "2020-08-03T09:11:16.763097Z"
    }
   },
   "outputs": [
    {
     "data": {
      "text/plain": [
       "0.3034030128790671"
      ]
     },
     "execution_count": 85,
     "metadata": {},
     "output_type": "execute_result"
    }
   ],
   "source": [
    "float(svd_predictions_score_df1[svd_predictions_score_df1.index == 0][target_movies[0][0]].values)"
   ]
  },
  {
   "cell_type": "code",
   "execution_count": 86,
   "metadata": {
    "ExecuteTime": {
     "end_time": "2020-08-03T09:14:10.071617Z",
     "start_time": "2020-08-03T09:11:16.785180Z"
    }
   },
   "outputs": [],
   "source": [
    "feature3 = []\n",
    "feature3_user = []\n",
    "for i in range(len(num_users)):\n",
    "    for j in range(len(target_movies[i])):\n",
    "        feature3_user.append(float(svd_predictions_score_df1[svd_predictions_score_df1.index == i][target_movies[i][j]].values))\n",
    "    feature3.append(feature3_user)\n",
    "    feature3_user = []"
   ]
  },
  {
   "cell_type": "code",
   "execution_count": 87,
   "metadata": {
    "ExecuteTime": {
     "end_time": "2020-08-03T09:14:10.088827Z",
     "start_time": "2020-08-03T09:14:10.076055Z"
    }
   },
   "outputs": [
    {
     "data": {
      "text/plain": [
       "list"
      ]
     },
     "execution_count": 87,
     "metadata": {},
     "output_type": "execute_result"
    }
   ],
   "source": [
    "type(feature3)"
   ]
  },
  {
   "cell_type": "markdown",
   "metadata": {},
   "source": [
    "## Feature 4 (Genre)"
   ]
  },
  {
   "cell_type": "code",
   "execution_count": 127,
   "metadata": {
    "ExecuteTime": {
     "end_time": "2020-08-03T09:26:38.659965Z",
     "start_time": "2020-08-03T09:26:38.644860Z"
    }
   },
   "outputs": [],
   "source": [
    "def create_genre_feature(genre):\n",
    "    feature = []\n",
    "    genre_per_user = []\n",
    "    for i in range(len(num_users)):\n",
    "        for j in range(len(target_movies[i])):\n",
    "            a =  movies_df[movies_df['movieId'] == target_movies[i][j]]['genres']\n",
    "            a = a.tolist()\n",
    "            a = str(a[0])\n",
    "            a = a.split('|')\n",
    "            if genre in a:\n",
    "                genre_per_user.append(1)\n",
    "            else:\n",
    "                genre_per_user.append(0)\n",
    "        feature.append(genre_per_user)\n",
    "        genre_per_user = []\n",
    "    return feature"
   ]
  },
  {
   "cell_type": "code",
   "execution_count": 128,
   "metadata": {
    "ExecuteTime": {
     "end_time": "2020-08-03T09:32:11.457220Z",
     "start_time": "2020-08-03T09:26:43.477645Z"
    }
   },
   "outputs": [],
   "source": [
    "feature4 = create_genre_feature('Comedy')"
   ]
  },
  {
   "cell_type": "markdown",
   "metadata": {},
   "source": [
    "### Features 8-15 (genres)"
   ]
  },
  {
   "cell_type": "code",
   "execution_count": 129,
   "metadata": {
    "ExecuteTime": {
     "end_time": "2020-08-03T10:07:47.413419Z",
     "start_time": "2020-08-03T09:32:16.333014Z"
    }
   },
   "outputs": [],
   "source": [
    "feature8 = create_genre_feature('Adventure')\n",
    "feature9 = create_genre_feature('Drama')\n",
    "feature10 = create_genre_feature('Romance')\n",
    "feature11 = create_genre_feature('Fantasy')\n",
    "feature12 = create_genre_feature('Thriller')\n",
    "feature13 = create_genre_feature('Animation')\n",
    "feature14 = create_genre_feature('Children')\n",
    "feature15 = create_genre_feature('Horror')"
   ]
  },
  {
   "cell_type": "markdown",
   "metadata": {},
   "source": [
    "## Feature 5 (#Users watched each target movie)"
   ]
  },
  {
   "cell_type": "code",
   "execution_count": 130,
   "metadata": {
    "ExecuteTime": {
     "end_time": "2020-08-03T10:13:18.924736Z",
     "start_time": "2020-08-03T10:07:52.283265Z"
    }
   },
   "outputs": [],
   "source": [
    "number_views = []\n",
    "number_view_per_movie = []\n",
    "for i in range(len(num_users)):\n",
    "    for j in range(len(target_movies[i])):\n",
    "        a = len(ratings_df[ratings_df['movieId'] == target_movies[i][j]]['userId'])\n",
    "        number_view_per_movie.append(a)\n",
    "    number_views.append(number_view_per_movie)\n",
    "    number_view_per_movie = []\n"
   ]
  },
  {
   "cell_type": "code",
   "execution_count": 131,
   "metadata": {
    "ExecuteTime": {
     "end_time": "2020-08-03T10:13:18.934003Z",
     "start_time": "2020-08-03T10:13:18.929948Z"
    }
   },
   "outputs": [],
   "source": [
    "feature5 = number_views"
   ]
  },
  {
   "cell_type": "markdown",
   "metadata": {},
   "source": [
    "## Feature 6 (New user)"
   ]
  },
  {
   "cell_type": "code",
   "execution_count": 166,
   "metadata": {
    "ExecuteTime": {
     "end_time": "2020-08-03T18:25:33.220212Z",
     "start_time": "2020-08-03T18:25:33.214197Z"
    }
   },
   "outputs": [
    {
     "data": {
      "text/plain": [
       "True"
      ]
     },
     "execution_count": 166,
     "metadata": {},
     "output_type": "execute_result"
    }
   ],
   "source": [
    "len(ratings_df[ratings_df['userId']==1]) > 10"
   ]
  },
  {
   "cell_type": "code",
   "execution_count": 133,
   "metadata": {
    "ExecuteTime": {
     "end_time": "2020-08-03T10:41:41.234318Z",
     "start_time": "2020-08-03T10:13:19.036530Z"
    }
   },
   "outputs": [],
   "source": [
    "new_users_binary = []\n",
    "binary_per_user = []\n",
    "for i in range(len(num_users)):\n",
    "    for j in range(len(target_movies[i])):\n",
    "        a = len(ratings_df[ratings_df['userId']==1]) > 10\n",
    "        if a:\n",
    "            binary_per_user.append(1)\n",
    "        else:\n",
    "            binary_per_user.append(0)\n",
    "    new_users_binary.append(binary_per_user)\n",
    "    binary_per_user = []"
   ]
  },
  {
   "cell_type": "code",
   "execution_count": 134,
   "metadata": {
    "ExecuteTime": {
     "end_time": "2020-08-03T10:41:41.241846Z",
     "start_time": "2020-08-03T10:41:41.234318Z"
    }
   },
   "outputs": [],
   "source": [
    "feature6 = new_users_binary"
   ]
  },
  {
   "cell_type": "markdown",
   "metadata": {},
   "source": [
    "## Feature 7 (Negative samples)"
   ]
  },
  {
   "cell_type": "code",
   "execution_count": 135,
   "metadata": {
    "ExecuteTime": {
     "end_time": "2020-08-03T10:42:05.692575Z",
     "start_time": "2020-08-03T10:42:01.830264Z"
    }
   },
   "outputs": [],
   "source": [
    "import random\n",
    "target_negative = []\n",
    "for i in range(1,len(num_users)+1):\n",
    "    target_negative.append(random.choices(train_features_df[train_features_df['user_id']==i]['movie_id'].values, k = 100))"
   ]
  },
  {
   "cell_type": "code",
   "execution_count": 136,
   "metadata": {
    "ExecuteTime": {
     "end_time": "2020-08-03T10:42:06.830347Z",
     "start_time": "2020-08-03T10:42:05.698674Z"
    }
   },
   "outputs": [
    {
     "data": {
      "text/plain": [
       "(1751, 100)"
      ]
     },
     "execution_count": 136,
     "metadata": {},
     "output_type": "execute_result"
    }
   ],
   "source": [
    "map_negative_movies = map_movies(target_negative)\n",
    "feature7 = give_movies_implicit_scores(map_negative_movies)\n",
    "feature7 = np.asarray(feature7)\n",
    "feature7.shape"
   ]
  },
  {
   "cell_type": "markdown",
   "metadata": {},
   "source": [
    "## Features stack"
   ]
  },
  {
   "cell_type": "code",
   "execution_count": 137,
   "metadata": {
    "ExecuteTime": {
     "end_time": "2020-08-03T10:42:17.524708Z",
     "start_time": "2020-08-03T10:42:17.174580Z"
    }
   },
   "outputs": [],
   "source": [
    "features = np.stack((feature1,feature3,feature4,feature5,feature8,feature9,feature10,feature11,feature12,\n",
    "                    feature13,feature14,feature15))"
   ]
  },
  {
   "cell_type": "markdown",
   "metadata": {},
   "source": [
    "## Labels"
   ]
  },
  {
   "cell_type": "markdown",
   "metadata": {},
   "source": [
    "Below are the movies that each user watched"
   ]
  },
  {
   "cell_type": "code",
   "execution_count": 138,
   "metadata": {
    "ExecuteTime": {
     "end_time": "2020-08-03T10:42:22.859274Z",
     "start_time": "2020-08-03T10:42:22.844316Z"
    }
   },
   "outputs": [],
   "source": [
    "def watched_movies(df):\n",
    "    watched = []\n",
    "    for i in range(len(num_users)):\n",
    "        watched.append(df[df[\"user_id\"]==uid_rev_map.get(i)].groupby(\"movie_id\")[\"movie_id\"].count().index)  \n",
    "    return watched"
   ]
  },
  {
   "cell_type": "code",
   "execution_count": 139,
   "metadata": {
    "ExecuteTime": {
     "end_time": "2020-08-03T10:42:37.046483Z",
     "start_time": "2020-08-03T10:42:22.863682Z"
    }
   },
   "outputs": [],
   "source": [
    "#train_labels_df\n",
    "#test_df\n",
    "#val_df\n",
    "train_watched = watched_movies(train_labels_df)\n",
    "test_watched = watched_movies(test_df)\n",
    "val_watched = watched_movies(val_df)"
   ]
  },
  {
   "cell_type": "markdown",
   "metadata": {},
   "source": [
    "Creation of the target list. It containes 0s and 1s for the 100 recommended movies for each user. Based on the watched movies it assigns the values. If the user watched the recommended movie, then the value of the target is equal to 1, otherwise it is 0."
   ]
  },
  {
   "cell_type": "code",
   "execution_count": 140,
   "metadata": {
    "ExecuteTime": {
     "end_time": "2020-08-03T10:42:56.002907Z",
     "start_time": "2020-08-03T10:42:55.986006Z"
    }
   },
   "outputs": [],
   "source": [
    "def create_target(watched):\n",
    "    user_target = []\n",
    "    target = []\n",
    "    for i in range(len(num_users)):\n",
    "        for target_movie in target_movies[i]:\n",
    "            if target_movie in watched[i]:\n",
    "                user_target.append(1)\n",
    "            else:\n",
    "                user_target.append(0)\n",
    "        target.append(user_target)\n",
    "        user_target = []\n",
    "    return target"
   ]
  },
  {
   "cell_type": "code",
   "execution_count": 141,
   "metadata": {
    "ExecuteTime": {
     "end_time": "2020-08-03T10:43:07.899415Z",
     "start_time": "2020-08-03T10:43:07.113905Z"
    }
   },
   "outputs": [],
   "source": [
    "label_train = create_target(train_watched)\n",
    "label_test = create_target(test_watched)\n",
    "label_val = create_target(val_watched)\n",
    "#y_train = y_test = y_val"
   ]
  },
  {
   "cell_type": "markdown",
   "metadata": {},
   "source": [
    "## LightGBM model"
   ]
  },
  {
   "cell_type": "code",
   "execution_count": 142,
   "metadata": {
    "ExecuteTime": {
     "end_time": "2020-08-03T10:43:18.054364Z",
     "start_time": "2020-08-03T10:43:17.930468Z"
    }
   },
   "outputs": [],
   "source": [
    "X = np.array(features)\n",
    "label_train = np.array(label_train)\n",
    "label_test = np.array(label_test)\n",
    "label_val = np.array(label_val)"
   ]
  },
  {
   "cell_type": "code",
   "execution_count": 143,
   "metadata": {
    "ExecuteTime": {
     "end_time": "2020-08-03T10:43:27.736219Z",
     "start_time": "2020-08-03T10:43:27.716542Z"
    }
   },
   "outputs": [],
   "source": [
    "X = X.reshape(len(num_users)*k, len(features))\n",
    "y_train = label_train.reshape(len(num_users)*k,)\n",
    "y_test = label_test.reshape(len(num_users)*k,)\n",
    "y_val = label_val.reshape(len(num_users)*k,)"
   ]
  },
  {
   "cell_type": "code",
   "execution_count": 144,
   "metadata": {
    "ExecuteTime": {
     "end_time": "2020-08-03T10:43:38.588898Z",
     "start_time": "2020-08-03T10:43:38.112734Z"
    }
   },
   "outputs": [],
   "source": [
    "import lightgbm as lgb\n",
    "gbm = lgb.LGBMRanker(min_child_samples=1, learning_rate=.1, n_jobs=2, importance_type='gain',\n",
    "                     num_leaves=31, min_child_weight=100)"
   ]
  },
  {
   "cell_type": "markdown",
   "metadata": {},
   "source": [
    "target movies\n",
    "train_df\n",
    "feature1\n",
    "feature2"
   ]
  },
  {
   "cell_type": "code",
   "execution_count": 145,
   "metadata": {
    "ExecuteTime": {
     "end_time": "2020-08-03T10:43:48.442467Z",
     "start_time": "2020-08-03T10:43:48.433587Z"
    }
   },
   "outputs": [
    {
     "data": {
      "text/plain": [
       "\"X_train_feature1 = []\\nX_train_feature2 = []\\nfor j in range(610):\\n    for i in range(len(target_movies[j])):\\n        if target_movies[j][i] in val_df['movie_id'].values.tolist():\\n            X_train_feature1.append(feature1[i])\\n            X_train_feature2.append(feature2[i])\\nprint(X_train_feature1)\\nprint(X_train_feature2)\\n#X_train = np.stack(X_train_feature1,X_train_feature2)\""
      ]
     },
     "execution_count": 145,
     "metadata": {},
     "output_type": "execute_result"
    }
   ],
   "source": [
    "'''X_train_feature1 = []\n",
    "X_train_feature2 = []\n",
    "for j in range(610):\n",
    "    for i in range(len(target_movies[j])):\n",
    "        if target_movies[j][i] in val_df['movie_id'].values.tolist():\n",
    "            X_train_feature1.append(feature1[i])\n",
    "            X_train_feature2.append(feature2[i])\n",
    "print(X_train_feature1)\n",
    "print(X_train_feature2)\n",
    "#X_train = np.stack(X_train_feature1,X_train_feature2)'''"
   ]
  },
  {
   "cell_type": "markdown",
   "metadata": {},
   "source": [
    "X_train\n",
    "X_test\n",
    "X_val\n",
    "y_train\n",
    "y_test\n",
    "y_val"
   ]
  },
  {
   "cell_type": "code",
   "execution_count": 146,
   "metadata": {
    "ExecuteTime": {
     "end_time": "2020-08-03T10:43:58.049164Z",
     "start_time": "2020-08-03T10:43:58.037685Z"
    }
   },
   "outputs": [],
   "source": [
    "X_train = X\n",
    "X_test = X\n",
    "X_val = X"
   ]
  },
  {
   "cell_type": "code",
   "execution_count": 147,
   "metadata": {
    "ExecuteTime": {
     "end_time": "2020-08-03T10:44:08.458593Z",
     "start_time": "2020-08-03T10:44:08.451276Z"
    }
   },
   "outputs": [],
   "source": [
    "#from sklearn.model_selection import train_test_split\n",
    "#X_train, X_test, y_train, y_test = train_test_split(X, y, test_size=0.2, random_state=1)\n",
    "#X_train, X_val, y_train, y_val = train_test_split(X_train, y_train, test_size=0.2, random_state=1)"
   ]
  },
  {
   "cell_type": "code",
   "execution_count": 148,
   "metadata": {
    "ExecuteTime": {
     "end_time": "2020-08-03T10:44:18.411164Z",
     "start_time": "2020-08-03T10:44:18.391772Z"
    }
   },
   "outputs": [
    {
     "name": "stdout",
     "output_type": "stream",
     "text": [
      "[175100]\n",
      "[175100]\n",
      "[175100]\n"
     ]
    }
   ],
   "source": [
    "query_train = [X_train.shape[0]]\n",
    "query_val = [X_val.shape[0]]\n",
    "query_test = [X_test.shape[0]]\n",
    "group_train = []\n",
    "group_val = []\n",
    "print(query_train)\n",
    "print(query_val)\n",
    "print(query_test)\n",
    "'''\n",
    "for i in range(390):\n",
    "    group_train.append(100)\n",
    "group_train.append(40)\n",
    "group_val.append(60)\n",
    "for i in range(97):\n",
    "    group_val.append(100)'''\n",
    "\n",
    "for i in range(len(num_users)):\n",
    "    group_train.append(k)\n",
    "    group_val.append(k)\n"
   ]
  },
  {
   "cell_type": "code",
   "execution_count": 149,
   "metadata": {
    "ExecuteTime": {
     "end_time": "2020-08-03T10:44:33.349671Z",
     "start_time": "2020-08-03T10:44:27.950564Z"
    },
    "code_folding": []
   },
   "outputs": [
    {
     "name": "stdout",
     "output_type": "stream",
     "text": [
      "[1]\tvalid_0's ndcg@1: 0.199315\tvalid_0's ndcg@3: 0.198129\tvalid_0's ndcg@5: 0.202491\tvalid_0's ndcg@10: 0.220352\n",
      "Training until validation scores don't improve for 50 rounds\n",
      "[2]\tvalid_0's ndcg@1: 0.190748\tvalid_0's ndcg@3: 0.190855\tvalid_0's ndcg@5: 0.195365\tvalid_0's ndcg@10: 0.211285\n",
      "[3]\tvalid_0's ndcg@1: 0.192461\tvalid_0's ndcg@3: 0.192505\tvalid_0's ndcg@5: 0.196142\tvalid_0's ndcg@10: 0.212436\n",
      "[4]\tvalid_0's ndcg@1: 0.195317\tvalid_0's ndcg@3: 0.191599\tvalid_0's ndcg@5: 0.194248\tvalid_0's ndcg@10: 0.211688\n",
      "[5]\tvalid_0's ndcg@1: 0.189035\tvalid_0's ndcg@3: 0.190809\tvalid_0's ndcg@5: 0.195024\tvalid_0's ndcg@10: 0.209627\n",
      "[6]\tvalid_0's ndcg@1: 0.193604\tvalid_0's ndcg@3: 0.193042\tvalid_0's ndcg@5: 0.196528\tvalid_0's ndcg@10: 0.211923\n",
      "[7]\tvalid_0's ndcg@1: 0.191319\tvalid_0's ndcg@3: 0.190932\tvalid_0's ndcg@5: 0.194044\tvalid_0's ndcg@10: 0.210142\n",
      "[8]\tvalid_0's ndcg@1: 0.182182\tvalid_0's ndcg@3: 0.187111\tvalid_0's ndcg@5: 0.192634\tvalid_0's ndcg@10: 0.206607\n",
      "[9]\tvalid_0's ndcg@1: 0.179897\tvalid_0's ndcg@3: 0.184581\tvalid_0's ndcg@5: 0.189516\tvalid_0's ndcg@10: 0.205994\n",
      "[10]\tvalid_0's ndcg@1: 0.18675\tvalid_0's ndcg@3: 0.188097\tvalid_0's ndcg@5: 0.193153\tvalid_0's ndcg@10: 0.206176\n",
      "[11]\tvalid_0's ndcg@1: 0.18675\tvalid_0's ndcg@3: 0.190142\tvalid_0's ndcg@5: 0.193548\tvalid_0's ndcg@10: 0.210923\n",
      "[12]\tvalid_0's ndcg@1: 0.185608\tvalid_0's ndcg@3: 0.188019\tvalid_0's ndcg@5: 0.19326\tvalid_0's ndcg@10: 0.20914\n",
      "[13]\tvalid_0's ndcg@1: 0.18675\tvalid_0's ndcg@3: 0.1883\tvalid_0's ndcg@5: 0.191685\tvalid_0's ndcg@10: 0.207041\n",
      "[14]\tvalid_0's ndcg@1: 0.185037\tvalid_0's ndcg@3: 0.186255\tvalid_0's ndcg@5: 0.190916\tvalid_0's ndcg@10: 0.206\n",
      "[15]\tvalid_0's ndcg@1: 0.185037\tvalid_0's ndcg@3: 0.187929\tvalid_0's ndcg@5: 0.190867\tvalid_0's ndcg@10: 0.208492\n",
      "[16]\tvalid_0's ndcg@1: 0.182182\tvalid_0's ndcg@3: 0.183871\tvalid_0's ndcg@5: 0.1871\tvalid_0's ndcg@10: 0.204443\n",
      "[17]\tvalid_0's ndcg@1: 0.181039\tvalid_0's ndcg@3: 0.185629\tvalid_0's ndcg@5: 0.190514\tvalid_0's ndcg@10: 0.206688\n",
      "[18]\tvalid_0's ndcg@1: 0.183895\tvalid_0's ndcg@3: 0.187533\tvalid_0's ndcg@5: 0.192573\tvalid_0's ndcg@10: 0.209511\n",
      "[19]\tvalid_0's ndcg@1: 0.183324\tvalid_0's ndcg@3: 0.185094\tvalid_0's ndcg@5: 0.189523\tvalid_0's ndcg@10: 0.204491\n",
      "[20]\tvalid_0's ndcg@1: 0.17076\tvalid_0's ndcg@3: 0.183479\tvalid_0's ndcg@5: 0.18877\tvalid_0's ndcg@10: 0.206166\n",
      "[21]\tvalid_0's ndcg@1: 0.185037\tvalid_0's ndcg@3: 0.187881\tvalid_0's ndcg@5: 0.191018\tvalid_0's ndcg@10: 0.205528\n",
      "[22]\tvalid_0's ndcg@1: 0.174186\tvalid_0's ndcg@3: 0.184323\tvalid_0's ndcg@5: 0.189891\tvalid_0's ndcg@10: 0.210879\n",
      "[23]\tvalid_0's ndcg@1: 0.183895\tvalid_0's ndcg@3: 0.185548\tvalid_0's ndcg@5: 0.189716\tvalid_0's ndcg@10: 0.203407\n",
      "[24]\tvalid_0's ndcg@1: 0.179326\tvalid_0's ndcg@3: 0.185385\tvalid_0's ndcg@5: 0.190923\tvalid_0's ndcg@10: 0.20685\n",
      "[25]\tvalid_0's ndcg@1: 0.180468\tvalid_0's ndcg@3: 0.186067\tvalid_0's ndcg@5: 0.190633\tvalid_0's ndcg@10: 0.207086\n",
      "[26]\tvalid_0's ndcg@1: 0.177042\tvalid_0's ndcg@3: 0.183212\tvalid_0's ndcg@5: 0.189111\tvalid_0's ndcg@10: 0.202402\n",
      "[27]\tvalid_0's ndcg@1: 0.182753\tvalid_0's ndcg@3: 0.186532\tvalid_0's ndcg@5: 0.19213\tvalid_0's ndcg@10: 0.208874\n",
      "[28]\tvalid_0's ndcg@1: 0.175328\tvalid_0's ndcg@3: 0.182132\tvalid_0's ndcg@5: 0.188863\tvalid_0's ndcg@10: 0.204873\n",
      "[29]\tvalid_0's ndcg@1: 0.173615\tvalid_0's ndcg@3: 0.183465\tvalid_0's ndcg@5: 0.187894\tvalid_0's ndcg@10: 0.205269\n",
      "[30]\tvalid_0's ndcg@1: 0.177613\tvalid_0's ndcg@3: 0.184752\tvalid_0's ndcg@5: 0.191249\tvalid_0's ndcg@10: 0.207362\n",
      "[31]\tvalid_0's ndcg@1: 0.176471\tvalid_0's ndcg@3: 0.182797\tvalid_0's ndcg@5: 0.187848\tvalid_0's ndcg@10: 0.2062\n",
      "[32]\tvalid_0's ndcg@1: 0.178184\tvalid_0's ndcg@3: 0.181164\tvalid_0's ndcg@5: 0.187437\tvalid_0's ndcg@10: 0.206844\n",
      "[33]\tvalid_0's ndcg@1: 0.182182\tvalid_0's ndcg@3: 0.183693\tvalid_0's ndcg@5: 0.18761\tvalid_0's ndcg@10: 0.205246\n",
      "[34]\tvalid_0's ndcg@1: 0.177613\tvalid_0's ndcg@3: 0.183633\tvalid_0's ndcg@5: 0.188531\tvalid_0's ndcg@10: 0.205625\n",
      "[35]\tvalid_0's ndcg@1: 0.174757\tvalid_0's ndcg@3: 0.179787\tvalid_0's ndcg@5: 0.184827\tvalid_0's ndcg@10: 0.204705\n",
      "[36]\tvalid_0's ndcg@1: 0.180468\tvalid_0's ndcg@3: 0.183753\tvalid_0's ndcg@5: 0.190809\tvalid_0's ndcg@10: 0.205939\n",
      "[37]\tvalid_0's ndcg@1: 0.178184\tvalid_0's ndcg@3: 0.181128\tvalid_0's ndcg@5: 0.186078\tvalid_0's ndcg@10: 0.203245\n",
      "[38]\tvalid_0's ndcg@1: 0.180468\tvalid_0's ndcg@3: 0.186093\tvalid_0's ndcg@5: 0.191367\tvalid_0's ndcg@10: 0.209438\n",
      "[39]\tvalid_0's ndcg@1: 0.187322\tvalid_0's ndcg@3: 0.188037\tvalid_0's ndcg@5: 0.191942\tvalid_0's ndcg@10: 0.206551\n",
      "[40]\tvalid_0's ndcg@1: 0.174757\tvalid_0's ndcg@3: 0.178759\tvalid_0's ndcg@5: 0.184707\tvalid_0's ndcg@10: 0.206522\n",
      "[41]\tvalid_0's ndcg@1: 0.173044\tvalid_0's ndcg@3: 0.182872\tvalid_0's ndcg@5: 0.189006\tvalid_0's ndcg@10: 0.203683\n",
      "[42]\tvalid_0's ndcg@1: 0.177613\tvalid_0's ndcg@3: 0.182672\tvalid_0's ndcg@5: 0.188842\tvalid_0's ndcg@10: 0.206943\n",
      "[43]\tvalid_0's ndcg@1: 0.185037\tvalid_0's ndcg@3: 0.186351\tvalid_0's ndcg@5: 0.189493\tvalid_0's ndcg@10: 0.203723\n",
      "[44]\tvalid_0's ndcg@1: 0.179326\tvalid_0's ndcg@3: 0.181888\tvalid_0's ndcg@5: 0.187692\tvalid_0's ndcg@10: 0.203455\n",
      "[45]\tvalid_0's ndcg@1: 0.186179\tvalid_0's ndcg@3: 0.185586\tvalid_0's ndcg@5: 0.189997\tvalid_0's ndcg@10: 0.204454\n",
      "[46]\tvalid_0's ndcg@1: 0.175899\tvalid_0's ndcg@3: 0.180648\tvalid_0's ndcg@5: 0.18688\tvalid_0's ndcg@10: 0.203905\n",
      "[47]\tvalid_0's ndcg@1: 0.185037\tvalid_0's ndcg@3: 0.187831\tvalid_0's ndcg@5: 0.191422\tvalid_0's ndcg@10: 0.206821\n",
      "[48]\tvalid_0's ndcg@1: 0.181611\tvalid_0's ndcg@3: 0.184877\tvalid_0's ndcg@5: 0.187111\tvalid_0's ndcg@10: 0.205857\n",
      "[49]\tvalid_0's ndcg@1: 0.183324\tvalid_0's ndcg@3: 0.185229\tvalid_0's ndcg@5: 0.188693\tvalid_0's ndcg@10: 0.204302\n",
      "[50]\tvalid_0's ndcg@1: 0.179897\tvalid_0's ndcg@3: 0.183642\tvalid_0's ndcg@5: 0.187255\tvalid_0's ndcg@10: 0.206754\n",
      "[51]\tvalid_0's ndcg@1: 0.178755\tvalid_0's ndcg@3: 0.184615\tvalid_0's ndcg@5: 0.190245\tvalid_0's ndcg@10: 0.206442\n",
      "Early stopping, best iteration is:\n",
      "[1]\tvalid_0's ndcg@1: 0.199315\tvalid_0's ndcg@3: 0.198129\tvalid_0's ndcg@5: 0.202491\tvalid_0's ndcg@10: 0.220352\n"
     ]
    },
    {
     "data": {
      "text/plain": [
       "LGBMRanker(importance_type='gain', min_child_samples=1, min_child_weight=100,\n",
       "           n_jobs=2)"
      ]
     },
     "execution_count": 149,
     "metadata": {},
     "output_type": "execute_result"
    }
   ],
   "source": [
    "gbm.fit(X_train, y_train, group=group_train,\n",
    "        eval_set=[(X_val, y_val)], eval_group=[group_val],\n",
    "        eval_at=[1, 3, 5, 10], early_stopping_rounds=50, eval_metric='ndcg')"
   ]
  },
  {
   "cell_type": "code",
   "execution_count": 150,
   "metadata": {
    "ExecuteTime": {
     "end_time": "2020-08-03T10:44:43.486411Z",
     "start_time": "2020-08-03T10:44:43.322500Z"
    }
   },
   "outputs": [
    {
     "data": {
      "text/plain": [
       "array([0.00109765, 0.00109765, 0.00109765, ..., 0.00486492, 0.00486492,\n",
       "       0.00486492])"
      ]
     },
     "execution_count": 150,
     "metadata": {},
     "output_type": "execute_result"
    }
   ],
   "source": [
    "test_pred = gbm.predict(X_test)\n",
    "test_pred"
   ]
  },
  {
   "cell_type": "markdown",
   "metadata": {},
   "source": [
    "## NDCG Score"
   ]
  },
  {
   "cell_type": "code",
   "execution_count": 151,
   "metadata": {
    "ExecuteTime": {
     "end_time": "2020-08-03T10:44:53.053119Z",
     "start_time": "2020-08-03T10:44:53.041275Z"
    }
   },
   "outputs": [],
   "source": [
    "p = 0\n",
    "m = 100\n",
    "lgbm_pred_per_user = []\n",
    "for i in range(len(num_users)):\n",
    "    lgbm_pred_per_user.append(test_pred[p:m])\n",
    "    p += 100\n",
    "    m += 100"
   ]
  },
  {
   "cell_type": "markdown",
   "metadata": {},
   "source": [
    "### NDCG IFM on this data"
   ]
  },
  {
   "cell_type": "code",
   "execution_count": 152,
   "metadata": {
    "ExecuteTime": {
     "end_time": "2020-08-03T11:17:18.634018Z",
     "start_time": "2020-08-03T10:45:10.300562Z"
    }
   },
   "outputs": [
    {
     "name": "stderr",
     "output_type": "stream",
     "text": [
      "C:\\Users\\papad\\Anaconda3\\lib\\site-packages\\ipykernel_launcher.py:2: RuntimeWarning: invalid value encountered in double_scalars\n",
      "  \n"
     ]
    }
   ],
   "source": [
    "feature8 = create_genre_feature('Adventure')\n",
    "feature9 = create_genre_feature('Drama')\n",
    "feature10 = create_genre_feature('Romance')\n",
    "feature11 = create_genre_feature('Fantasy')\n",
    "feature12 = create_genre_feature('Thriller')\n",
    "feature13 = create_genre_feature('Animation')\n",
    "feature14 = create_genre_feature('Children')\n",
    "feature15 = create_genre_feature('Horror')\n",
    "lgbm_NDCG = []\n",
    "IFM_NDCG = []\n",
    "SVD_NDCG = []\n",
    "for i in range(len(num_users)):\n",
    "    excel_df = pd.DataFrame({'movie_id': target_movies[i], 'model1_score': feature1[i], 'model2_score': feature3[i],\n",
    "                             'is_comedy': feature4[i], 'is_adventure': feature8[i], 'is_drama': feature9[i], \n",
    "                             'is_romance': feature10[i], 'is_fantasy': feature11[i], 'is_thriller': feature12[i], \n",
    "                             'is_animation': feature13[i], 'is_children': feature14[i], 'is_horror': feature15[i], \n",
    "                             '#users_watched': feature5[i], \n",
    "                             'train_label': label_train[i], 'test_label': label_test[i],\n",
    "                             'y_val': label_val[i], 'LGBM Score': lgbm_pred_per_user[i]})\n",
    "    excel_df = excel_df.sort_values('LGBM Score', ascending=False)\n",
    "    relevance_lgbm_user = excel_df['test_label'].values.tolist()\n",
    "    lgbm_NDCG.append(NDCG_forUser(relevance_lgbm_user))\n",
    "    excel_df = excel_df.sort_values('model1_score', ascending=False)\n",
    "    ifm_relevance = excel_df['test_label'].values.tolist()\n",
    "    IFM_NDCG.append(NDCG_forUser(ifm_relevance))\n",
    "    excel_df = excel_df.sort_values('model2_score', ascending=False)\n",
    "    svd_relevance_h = excel_df['test_label'].values.tolist()\n",
    "    SVD_NDCG.append(NDCG_forUser(svd_relevance_h))"
   ]
  },
  {
   "cell_type": "code",
   "execution_count": 153,
   "metadata": {
    "ExecuteTime": {
     "end_time": "2020-08-03T11:17:35.384924Z",
     "start_time": "2020-08-03T11:17:35.364702Z"
    }
   },
   "outputs": [],
   "source": [
    "lgbm_NDCG = pd.Series(lgbm_NDCG).fillna(0).tolist()\n",
    "IFM_NDCG = pd.Series(IFM_NDCG).fillna(0).tolist()\n",
    "SVD_NDCG = pd.Series(SVD_NDCG).fillna(0).tolist()"
   ]
  },
  {
   "cell_type": "markdown",
   "metadata": {},
   "source": [
    "## Excel-Like"
   ]
  },
  {
   "cell_type": "code",
   "execution_count": 154,
   "metadata": {
    "ExecuteTime": {
     "end_time": "2020-08-03T11:17:51.330637Z",
     "start_time": "2020-08-03T11:17:51.314083Z"
    }
   },
   "outputs": [],
   "source": [
    "excel1_df = pd.DataFrame({'movie_id': target_movies[0],'model1_score':feature1[0], 'model2_score':feature3[0],'is_comedy':feature4[0],\n",
    "                            '#users_watched':feature5[0], 'train_label':label_train[0], 'test_label':label_test[0],\n",
    "                            'label_val':label_val[0],'LGBM Score':lgbm_pred_per_user[0]})"
   ]
  },
  {
   "cell_type": "code",
   "execution_count": 155,
   "metadata": {
    "ExecuteTime": {
     "end_time": "2020-08-03T11:18:08.435288Z",
     "start_time": "2020-08-03T11:18:08.396230Z"
    }
   },
   "outputs": [
    {
     "data": {
      "text/html": [
       "<div>\n",
       "<style scoped>\n",
       "    .dataframe tbody tr th:only-of-type {\n",
       "        vertical-align: middle;\n",
       "    }\n",
       "\n",
       "    .dataframe tbody tr th {\n",
       "        vertical-align: top;\n",
       "    }\n",
       "\n",
       "    .dataframe thead th {\n",
       "        text-align: right;\n",
       "    }\n",
       "</style>\n",
       "<table border=\"1\" class=\"dataframe\">\n",
       "  <thead>\n",
       "    <tr style=\"text-align: right;\">\n",
       "      <th></th>\n",
       "      <th>movie_id</th>\n",
       "      <th>model1_score</th>\n",
       "      <th>model2_score</th>\n",
       "      <th>is_comedy</th>\n",
       "      <th>#users_watched</th>\n",
       "      <th>train_label</th>\n",
       "      <th>test_label</th>\n",
       "      <th>label_val</th>\n",
       "      <th>LGBM Score</th>\n",
       "    </tr>\n",
       "  </thead>\n",
       "  <tbody>\n",
       "    <tr>\n",
       "      <th>0</th>\n",
       "      <td>4973</td>\n",
       "      <td>9.736027</td>\n",
       "      <td>0.303403</td>\n",
       "      <td>1</td>\n",
       "      <td>345</td>\n",
       "      <td>0</td>\n",
       "      <td>0</td>\n",
       "      <td>0</td>\n",
       "      <td>0.001098</td>\n",
       "    </tr>\n",
       "    <tr>\n",
       "      <th>1</th>\n",
       "      <td>5952</td>\n",
       "      <td>9.221828</td>\n",
       "      <td>0.247494</td>\n",
       "      <td>0</td>\n",
       "      <td>508</td>\n",
       "      <td>0</td>\n",
       "      <td>0</td>\n",
       "      <td>0</td>\n",
       "      <td>0.001098</td>\n",
       "    </tr>\n",
       "    <tr>\n",
       "      <th>2</th>\n",
       "      <td>6016</td>\n",
       "      <td>12.686938</td>\n",
       "      <td>0.212600</td>\n",
       "      <td>0</td>\n",
       "      <td>193</td>\n",
       "      <td>0</td>\n",
       "      <td>0</td>\n",
       "      <td>1</td>\n",
       "      <td>0.001098</td>\n",
       "    </tr>\n",
       "    <tr>\n",
       "      <th>3</th>\n",
       "      <td>7323</td>\n",
       "      <td>10.843340</td>\n",
       "      <td>0.049903</td>\n",
       "      <td>1</td>\n",
       "      <td>53</td>\n",
       "      <td>0</td>\n",
       "      <td>0</td>\n",
       "      <td>0</td>\n",
       "      <td>0.001098</td>\n",
       "    </tr>\n",
       "    <tr>\n",
       "      <th>4</th>\n",
       "      <td>8014</td>\n",
       "      <td>10.816641</td>\n",
       "      <td>0.030031</td>\n",
       "      <td>0</td>\n",
       "      <td>26</td>\n",
       "      <td>0</td>\n",
       "      <td>0</td>\n",
       "      <td>0</td>\n",
       "      <td>0.001098</td>\n",
       "    </tr>\n",
       "    <tr>\n",
       "      <th>5</th>\n",
       "      <td>8360</td>\n",
       "      <td>10.140123</td>\n",
       "      <td>0.062568</td>\n",
       "      <td>1</td>\n",
       "      <td>191</td>\n",
       "      <td>1</td>\n",
       "      <td>0</td>\n",
       "      <td>0</td>\n",
       "      <td>0.001098</td>\n",
       "    </tr>\n",
       "    <tr>\n",
       "      <th>6</th>\n",
       "      <td>27266</td>\n",
       "      <td>12.945586</td>\n",
       "      <td>0.039136</td>\n",
       "      <td>0</td>\n",
       "      <td>12</td>\n",
       "      <td>0</td>\n",
       "      <td>0</td>\n",
       "      <td>0</td>\n",
       "      <td>0.001098</td>\n",
       "    </tr>\n",
       "    <tr>\n",
       "      <th>7</th>\n",
       "      <td>356</td>\n",
       "      <td>9.279446</td>\n",
       "      <td>0.153832</td>\n",
       "      <td>1</td>\n",
       "      <td>872</td>\n",
       "      <td>0</td>\n",
       "      <td>0</td>\n",
       "      <td>0</td>\n",
       "      <td>0.001098</td>\n",
       "    </tr>\n",
       "    <tr>\n",
       "      <th>8</th>\n",
       "      <td>589</td>\n",
       "      <td>8.759470</td>\n",
       "      <td>0.018919</td>\n",
       "      <td>0</td>\n",
       "      <td>607</td>\n",
       "      <td>0</td>\n",
       "      <td>0</td>\n",
       "      <td>0</td>\n",
       "      <td>-0.022442</td>\n",
       "    </tr>\n",
       "    <tr>\n",
       "      <th>9</th>\n",
       "      <td>1291</td>\n",
       "      <td>8.918200</td>\n",
       "      <td>0.063964</td>\n",
       "      <td>0</td>\n",
       "      <td>395</td>\n",
       "      <td>0</td>\n",
       "      <td>0</td>\n",
       "      <td>0</td>\n",
       "      <td>-0.022442</td>\n",
       "    </tr>\n",
       "  </tbody>\n",
       "</table>\n",
       "</div>"
      ],
      "text/plain": [
       "   movie_id  model1_score  model2_score  is_comedy  #users_watched  \\\n",
       "0      4973      9.736027      0.303403          1             345   \n",
       "1      5952      9.221828      0.247494          0             508   \n",
       "2      6016     12.686938      0.212600          0             193   \n",
       "3      7323     10.843340      0.049903          1              53   \n",
       "4      8014     10.816641      0.030031          0              26   \n",
       "5      8360     10.140123      0.062568          1             191   \n",
       "6     27266     12.945586      0.039136          0              12   \n",
       "7       356      9.279446      0.153832          1             872   \n",
       "8       589      8.759470      0.018919          0             607   \n",
       "9      1291      8.918200      0.063964          0             395   \n",
       "\n",
       "   train_label  test_label  label_val  LGBM Score  \n",
       "0            0           0          0    0.001098  \n",
       "1            0           0          0    0.001098  \n",
       "2            0           0          1    0.001098  \n",
       "3            0           0          0    0.001098  \n",
       "4            0           0          0    0.001098  \n",
       "5            1           0          0    0.001098  \n",
       "6            0           0          0    0.001098  \n",
       "7            0           0          0    0.001098  \n",
       "8            0           0          0   -0.022442  \n",
       "9            0           0          0   -0.022442  "
      ]
     },
     "execution_count": 155,
     "metadata": {},
     "output_type": "execute_result"
    }
   ],
   "source": [
    "excel1_df.head(10)"
   ]
  },
  {
   "cell_type": "code",
   "execution_count": 156,
   "metadata": {
    "ExecuteTime": {
     "end_time": "2020-08-03T11:18:24.840519Z",
     "start_time": "2020-08-03T11:18:24.808117Z"
    }
   },
   "outputs": [
    {
     "data": {
      "text/html": [
       "<div>\n",
       "<style scoped>\n",
       "    .dataframe tbody tr th:only-of-type {\n",
       "        vertical-align: middle;\n",
       "    }\n",
       "\n",
       "    .dataframe tbody tr th {\n",
       "        vertical-align: top;\n",
       "    }\n",
       "\n",
       "    .dataframe thead th {\n",
       "        text-align: right;\n",
       "    }\n",
       "</style>\n",
       "<table border=\"1\" class=\"dataframe\">\n",
       "  <thead>\n",
       "    <tr style=\"text-align: right;\">\n",
       "      <th></th>\n",
       "      <th>movie_id</th>\n",
       "      <th>model1_score</th>\n",
       "      <th>model2_score</th>\n",
       "      <th>is_comedy</th>\n",
       "      <th>#users_watched</th>\n",
       "      <th>train_label</th>\n",
       "      <th>test_label</th>\n",
       "      <th>label_val</th>\n",
       "      <th>LGBM Score</th>\n",
       "    </tr>\n",
       "  </thead>\n",
       "  <tbody>\n",
       "    <tr>\n",
       "      <th>0</th>\n",
       "      <td>4973</td>\n",
       "      <td>9.736027</td>\n",
       "      <td>0.303403</td>\n",
       "      <td>1</td>\n",
       "      <td>345</td>\n",
       "      <td>0</td>\n",
       "      <td>0</td>\n",
       "      <td>0</td>\n",
       "      <td>0.001098</td>\n",
       "    </tr>\n",
       "    <tr>\n",
       "      <th>1</th>\n",
       "      <td>5952</td>\n",
       "      <td>9.221828</td>\n",
       "      <td>0.247494</td>\n",
       "      <td>0</td>\n",
       "      <td>508</td>\n",
       "      <td>0</td>\n",
       "      <td>0</td>\n",
       "      <td>0</td>\n",
       "      <td>0.001098</td>\n",
       "    </tr>\n",
       "    <tr>\n",
       "      <th>36</th>\n",
       "      <td>54997</td>\n",
       "      <td>9.077278</td>\n",
       "      <td>0.052630</td>\n",
       "      <td>0</td>\n",
       "      <td>46</td>\n",
       "      <td>0</td>\n",
       "      <td>0</td>\n",
       "      <td>0</td>\n",
       "      <td>0.001098</td>\n",
       "    </tr>\n",
       "    <tr>\n",
       "      <th>37</th>\n",
       "      <td>55820</td>\n",
       "      <td>9.414132</td>\n",
       "      <td>0.173037</td>\n",
       "      <td>0</td>\n",
       "      <td>174</td>\n",
       "      <td>0</td>\n",
       "      <td>0</td>\n",
       "      <td>0</td>\n",
       "      <td>0.001098</td>\n",
       "    </tr>\n",
       "    <tr>\n",
       "      <th>38</th>\n",
       "      <td>56174</td>\n",
       "      <td>11.009188</td>\n",
       "      <td>0.054282</td>\n",
       "      <td>0</td>\n",
       "      <td>110</td>\n",
       "      <td>0</td>\n",
       "      <td>0</td>\n",
       "      <td>0</td>\n",
       "      <td>0.001098</td>\n",
       "    </tr>\n",
       "    <tr>\n",
       "      <th>39</th>\n",
       "      <td>56782</td>\n",
       "      <td>8.783957</td>\n",
       "      <td>0.126817</td>\n",
       "      <td>0</td>\n",
       "      <td>96</td>\n",
       "      <td>0</td>\n",
       "      <td>0</td>\n",
       "      <td>0</td>\n",
       "      <td>0.001098</td>\n",
       "    </tr>\n",
       "    <tr>\n",
       "      <th>40</th>\n",
       "      <td>59369</td>\n",
       "      <td>10.180099</td>\n",
       "      <td>0.055390</td>\n",
       "      <td>0</td>\n",
       "      <td>113</td>\n",
       "      <td>0</td>\n",
       "      <td>0</td>\n",
       "      <td>0</td>\n",
       "      <td>0.001098</td>\n",
       "    </tr>\n",
       "    <tr>\n",
       "      <th>41</th>\n",
       "      <td>60069</td>\n",
       "      <td>11.222290</td>\n",
       "      <td>0.149589</td>\n",
       "      <td>0</td>\n",
       "      <td>279</td>\n",
       "      <td>0</td>\n",
       "      <td>0</td>\n",
       "      <td>0</td>\n",
       "      <td>0.001098</td>\n",
       "    </tr>\n",
       "    <tr>\n",
       "      <th>42</th>\n",
       "      <td>60684</td>\n",
       "      <td>9.446898</td>\n",
       "      <td>0.082922</td>\n",
       "      <td>0</td>\n",
       "      <td>126</td>\n",
       "      <td>0</td>\n",
       "      <td>0</td>\n",
       "      <td>0</td>\n",
       "      <td>0.001098</td>\n",
       "    </tr>\n",
       "    <tr>\n",
       "      <th>43</th>\n",
       "      <td>60756</td>\n",
       "      <td>11.016588</td>\n",
       "      <td>0.032559</td>\n",
       "      <td>1</td>\n",
       "      <td>37</td>\n",
       "      <td>0</td>\n",
       "      <td>0</td>\n",
       "      <td>0</td>\n",
       "      <td>0.001098</td>\n",
       "    </tr>\n",
       "  </tbody>\n",
       "</table>\n",
       "</div>"
      ],
      "text/plain": [
       "    movie_id  model1_score  model2_score  is_comedy  #users_watched  \\\n",
       "0       4973      9.736027      0.303403          1             345   \n",
       "1       5952      9.221828      0.247494          0             508   \n",
       "36     54997      9.077278      0.052630          0              46   \n",
       "37     55820      9.414132      0.173037          0             174   \n",
       "38     56174     11.009188      0.054282          0             110   \n",
       "39     56782      8.783957      0.126817          0              96   \n",
       "40     59369     10.180099      0.055390          0             113   \n",
       "41     60069     11.222290      0.149589          0             279   \n",
       "42     60684      9.446898      0.082922          0             126   \n",
       "43     60756     11.016588      0.032559          1              37   \n",
       "\n",
       "    train_label  test_label  label_val  LGBM Score  \n",
       "0             0           0          0    0.001098  \n",
       "1             0           0          0    0.001098  \n",
       "36            0           0          0    0.001098  \n",
       "37            0           0          0    0.001098  \n",
       "38            0           0          0    0.001098  \n",
       "39            0           0          0    0.001098  \n",
       "40            0           0          0    0.001098  \n",
       "41            0           0          0    0.001098  \n",
       "42            0           0          0    0.001098  \n",
       "43            0           0          0    0.001098  "
      ]
     },
     "execution_count": 156,
     "metadata": {},
     "output_type": "execute_result"
    }
   ],
   "source": [
    "excel1_df = excel1_df.sort_values('LGBM Score',ascending = False)\n",
    "excel1_df.head(10)"
   ]
  },
  {
   "cell_type": "code",
   "execution_count": 157,
   "metadata": {
    "ExecuteTime": {
     "end_time": "2020-08-03T11:18:42.493623Z",
     "start_time": "2020-08-03T11:18:42.484810Z"
    }
   },
   "outputs": [],
   "source": [
    "relevance_lgbm_firstUser = excel1_df['test_label'].values.tolist()"
   ]
  },
  {
   "cell_type": "code",
   "execution_count": 158,
   "metadata": {
    "ExecuteTime": {
     "end_time": "2020-08-03T11:18:58.774143Z",
     "start_time": "2020-08-03T11:18:58.756716Z"
    }
   },
   "outputs": [
    {
     "name": "stderr",
     "output_type": "stream",
     "text": [
      "C:\\Users\\papad\\Anaconda3\\lib\\site-packages\\ipykernel_launcher.py:2: RuntimeWarning: invalid value encountered in double_scalars\n",
      "  \n"
     ]
    },
    {
     "data": {
      "text/plain": [
       "nan"
      ]
     },
     "execution_count": 158,
     "metadata": {},
     "output_type": "execute_result"
    }
   ],
   "source": [
    "L1GBM_ndcg = NDCG_forUser(relevance_lgbm_firstUser)\n",
    "L1GBM_ndcg"
   ]
  },
  {
   "cell_type": "markdown",
   "metadata": {},
   "source": [
    "## NDCG Comparison"
   ]
  },
  {
   "cell_type": "code",
   "execution_count": 159,
   "metadata": {
    "ExecuteTime": {
     "end_time": "2020-08-03T11:19:16.491862Z",
     "start_time": "2020-08-03T11:19:16.482515Z"
    }
   },
   "outputs": [
    {
     "data": {
      "text/plain": [
       "0.27023815442731974"
      ]
     },
     "execution_count": 159,
     "metadata": {},
     "output_type": "execute_result"
    }
   ],
   "source": [
    "allUsers_implicit_ndcg[0]"
   ]
  },
  {
   "cell_type": "code",
   "execution_count": 160,
   "metadata": {
    "ExecuteTime": {
     "end_time": "2020-08-03T11:19:33.496926Z",
     "start_time": "2020-08-03T11:19:33.486952Z"
    }
   },
   "outputs": [],
   "source": [
    "ndcg_df = pd.DataFrame({'Implicit FM': allUsers_implicit_ndcg, 'LightGBM': lgbm_NDCG, 'IFM_this': IFM_NDCG,\n",
    "                        'SVD_this': SVD_NDCG})"
   ]
  },
  {
   "cell_type": "code",
   "execution_count": 161,
   "metadata": {
    "ExecuteTime": {
     "end_time": "2020-08-03T11:19:49.969510Z",
     "start_time": "2020-08-03T11:19:49.943330Z"
    }
   },
   "outputs": [
    {
     "data": {
      "text/html": [
       "<div>\n",
       "<style scoped>\n",
       "    .dataframe tbody tr th:only-of-type {\n",
       "        vertical-align: middle;\n",
       "    }\n",
       "\n",
       "    .dataframe tbody tr th {\n",
       "        vertical-align: top;\n",
       "    }\n",
       "\n",
       "    .dataframe thead th {\n",
       "        text-align: right;\n",
       "    }\n",
       "</style>\n",
       "<table border=\"1\" class=\"dataframe\">\n",
       "  <thead>\n",
       "    <tr style=\"text-align: right;\">\n",
       "      <th></th>\n",
       "      <th>Implicit FM</th>\n",
       "      <th>LightGBM</th>\n",
       "      <th>IFM_this</th>\n",
       "      <th>SVD_this</th>\n",
       "    </tr>\n",
       "  </thead>\n",
       "  <tbody>\n",
       "    <tr>\n",
       "      <th>0</th>\n",
       "      <td>0.270238</td>\n",
       "      <td>0.000000</td>\n",
       "      <td>0.000000</td>\n",
       "      <td>0.000000</td>\n",
       "    </tr>\n",
       "    <tr>\n",
       "      <th>1</th>\n",
       "      <td>0.451599</td>\n",
       "      <td>0.337722</td>\n",
       "      <td>0.415606</td>\n",
       "      <td>0.625604</td>\n",
       "    </tr>\n",
       "    <tr>\n",
       "      <th>2</th>\n",
       "      <td>0.515270</td>\n",
       "      <td>0.455025</td>\n",
       "      <td>0.452480</td>\n",
       "      <td>0.462177</td>\n",
       "    </tr>\n",
       "    <tr>\n",
       "      <th>3</th>\n",
       "      <td>0.494561</td>\n",
       "      <td>0.309827</td>\n",
       "      <td>0.263460</td>\n",
       "      <td>0.352267</td>\n",
       "    </tr>\n",
       "    <tr>\n",
       "      <th>4</th>\n",
       "      <td>0.517132</td>\n",
       "      <td>0.382430</td>\n",
       "      <td>0.427002</td>\n",
       "      <td>0.509471</td>\n",
       "    </tr>\n",
       "    <tr>\n",
       "      <th>...</th>\n",
       "      <td>...</td>\n",
       "      <td>...</td>\n",
       "      <td>...</td>\n",
       "      <td>...</td>\n",
       "    </tr>\n",
       "    <tr>\n",
       "      <th>1746</th>\n",
       "      <td>0.000000</td>\n",
       "      <td>0.000000</td>\n",
       "      <td>0.000000</td>\n",
       "      <td>0.000000</td>\n",
       "    </tr>\n",
       "    <tr>\n",
       "      <th>1747</th>\n",
       "      <td>0.568820</td>\n",
       "      <td>0.606279</td>\n",
       "      <td>0.620407</td>\n",
       "      <td>0.688785</td>\n",
       "    </tr>\n",
       "    <tr>\n",
       "      <th>1748</th>\n",
       "      <td>0.000000</td>\n",
       "      <td>0.464440</td>\n",
       "      <td>0.276567</td>\n",
       "      <td>0.566484</td>\n",
       "    </tr>\n",
       "    <tr>\n",
       "      <th>1749</th>\n",
       "      <td>0.000000</td>\n",
       "      <td>0.000000</td>\n",
       "      <td>0.000000</td>\n",
       "      <td>0.000000</td>\n",
       "    </tr>\n",
       "    <tr>\n",
       "      <th>1750</th>\n",
       "      <td>0.221065</td>\n",
       "      <td>0.233337</td>\n",
       "      <td>0.273758</td>\n",
       "      <td>0.323300</td>\n",
       "    </tr>\n",
       "  </tbody>\n",
       "</table>\n",
       "<p>1751 rows × 4 columns</p>\n",
       "</div>"
      ],
      "text/plain": [
       "      Implicit FM  LightGBM  IFM_this  SVD_this\n",
       "0        0.270238  0.000000  0.000000  0.000000\n",
       "1        0.451599  0.337722  0.415606  0.625604\n",
       "2        0.515270  0.455025  0.452480  0.462177\n",
       "3        0.494561  0.309827  0.263460  0.352267\n",
       "4        0.517132  0.382430  0.427002  0.509471\n",
       "...           ...       ...       ...       ...\n",
       "1746     0.000000  0.000000  0.000000  0.000000\n",
       "1747     0.568820  0.606279  0.620407  0.688785\n",
       "1748     0.000000  0.464440  0.276567  0.566484\n",
       "1749     0.000000  0.000000  0.000000  0.000000\n",
       "1750     0.221065  0.233337  0.273758  0.323300\n",
       "\n",
       "[1751 rows x 4 columns]"
      ]
     },
     "execution_count": 161,
     "metadata": {},
     "output_type": "execute_result"
    }
   ],
   "source": [
    "ndcg_df"
   ]
  },
  {
   "cell_type": "code",
   "execution_count": 162,
   "metadata": {
    "ExecuteTime": {
     "end_time": "2020-08-03T11:20:07.373714Z",
     "start_time": "2020-08-03T11:20:07.361836Z"
    }
   },
   "outputs": [
    {
     "data": {
      "text/plain": [
       "0.33797626506036577"
      ]
     },
     "execution_count": 162,
     "metadata": {},
     "output_type": "execute_result"
    }
   ],
   "source": [
    "ndcg_df['Implicit FM'].mean()"
   ]
  },
  {
   "cell_type": "code",
   "execution_count": 167,
   "metadata": {
    "ExecuteTime": {
     "end_time": "2020-08-03T18:40:48.880235Z",
     "start_time": "2020-08-03T18:40:48.877243Z"
    }
   },
   "outputs": [],
   "source": [
    "lgbm_mean = ndcg_df['LightGBM'].mean()"
   ]
  },
  {
   "cell_type": "code",
   "execution_count": 168,
   "metadata": {
    "ExecuteTime": {
     "end_time": "2020-08-03T18:41:02.762972Z",
     "start_time": "2020-08-03T18:41:02.758944Z"
    }
   },
   "outputs": [],
   "source": [
    "ifm_mean = ndcg_df['IFM_this'].mean()"
   ]
  },
  {
   "cell_type": "code",
   "execution_count": 169,
   "metadata": {
    "ExecuteTime": {
     "end_time": "2020-08-03T18:41:17.491834Z",
     "start_time": "2020-08-03T18:41:17.486845Z"
    }
   },
   "outputs": [],
   "source": [
    "svd_mean = ndcg_df['SVD_this'].mean()"
   ]
  },
  {
   "cell_type": "markdown",
   "metadata": {},
   "source": [
    "## Visualization"
   ]
  },
  {
   "cell_type": "code",
   "execution_count": 189,
   "metadata": {
    "ExecuteTime": {
     "end_time": "2020-08-03T18:50:28.430324Z",
     "start_time": "2020-08-03T18:50:28.256739Z"
    }
   },
   "outputs": [
    {
     "data": {
      "text/plain": [
       "<matplotlib.legend.Legend at 0x1eacd38a508>"
      ]
     },
     "execution_count": 189,
     "metadata": {},
     "output_type": "execute_result"
    },
    {
     "data": {
      "image/png": "[encoded data removed]",
      "text/plain": [
       "<Figure size 432x288 with 1 Axes>"
      ]
     },
     "metadata": {
      "needs_background": "light"
     },
     "output_type": "display_data"
    }
   ],
   "source": [
    "plt.scatter(len(num_users),lgbm_mean,label = 'Light GBM')\n",
    "plt.scatter(len(num_users),svd_mean, label = 'SVD')\n",
    "plt.scatter(len(num_users),ifm_mean, label = 'Implicit FM')\n",
    "plt.xlabel('Number of Users')\n",
    "plt.ylabel('NDCG mean score')\n",
    "plt.title('LGBM - Mean NDCG score by number of users')\n",
    "plt.legend()"
   ]
  },
  {
   "cell_type": "markdown",
   "metadata": {},
   "source": [
    "## Save comparison"
   ]
  },
  {
   "cell_type": "code",
   "execution_count": 190,
   "metadata": {
    "ExecuteTime": {
     "end_time": "2020-08-03T19:24:43.858897Z",
     "start_time": "2020-08-03T19:24:43.847894Z"
    }
   },
   "outputs": [],
   "source": [
    "#ndcg_df.to_pickle(\"./ndcg_f1-15_minus67_250k.pkl\")\n"
   ]
  },
  {
   "cell_type": "code",
   "execution_count": null,
   "metadata": {},
   "outputs": [],
   "source": []
  },
  {
   "cell_type": "code",
   "execution_count": null,
   "metadata": {},
   "outputs": [],
   "source": []
  },
  {
   "cell_type": "markdown",
   "metadata": {},
   "source": [
    "Feature ideas\n",
    "1. Rank (rankdata from recsys project, array-n -> returns array-n containing results ->1,2,3 -> 1 is the best)\n",
    "2. Negative samples (random-k) (now I train it only on high relevance)\n",
    "3. Feature importances (plot)"
   ]
  },
  {
   "cell_type": "markdown",
   "metadata": {},
   "source": [
    "# Draft"
   ]
  },
  {
   "cell_type": "code",
   "execution_count": null,
   "metadata": {
    "ExecuteTime": {
     "end_time": "2020-08-03T09:14:10.685187Z",
     "start_time": "2020-08-03T08:31:26.290Z"
    }
   },
   "outputs": [],
   "source": [
    "from sklearn.metrics import dcg_score\n",
    "true = np.asarray([actual])\n",
    "pred = np.asarray([predicted_rank_svd])\n",
    "dcg = dcg_score(true,pred)\n",
    "idcg = dcg_score(true,true)\n",
    "ndcg = dcg/idcg"
   ]
  },
  {
   "cell_type": "code",
   "execution_count": null,
   "metadata": {
    "ExecuteTime": {
     "end_time": "2020-08-03T09:14:10.690351Z",
     "start_time": "2020-08-03T08:31:26.300Z"
    }
   },
   "outputs": [],
   "source": [
    "ndcg"
   ]
  },
  {
   "cell_type": "code",
   "execution_count": null,
   "metadata": {
    "ExecuteTime": {
     "end_time": "2020-08-03T09:14:10.693573Z",
     "start_time": "2020-08-03T08:31:26.312Z"
    }
   },
   "outputs": [],
   "source": [
    "from sklearn.metrics import ndcg_score\n",
    "n = ndcg_score(true,pred)\n",
    "n"
   ]
  },
  {
   "cell_type": "code",
   "execution_count": null,
   "metadata": {
    "ExecuteTime": {
     "end_time": "2020-08-03T09:14:10.693573Z",
     "start_time": "2020-08-03T08:31:26.326Z"
    }
   },
   "outputs": [],
   "source": [
    "'''relevance = []\n",
    "for i in range(20,40):\n",
    "    if predicted_rank_svd[i] in actual:\n",
    "        relevance.append(1)\n",
    "    else:\n",
    "        relevance.append(0)'''"
   ]
  },
  {
   "cell_type": "code",
   "execution_count": null,
   "metadata": {
    "ExecuteTime": {
     "end_time": "2020-08-03T09:14:10.699142Z",
     "start_time": "2020-08-03T08:31:26.338Z"
    }
   },
   "outputs": [],
   "source": [
    "svd_rank_allUsers = []\n",
    "for i in range(1,len(num_users)+1):\n",
    "    already_rated, predictions = recommend_movies(svd_predictions_score_df, i, movies_df, ratings_df, 100)\n",
    "    svd_rank_allUsers.append(predictions['movieId'].index.tolist()) \n"
   ]
  },
  {
   "cell_type": "code",
   "execution_count": null,
   "metadata": {
    "ExecuteTime": {
     "end_time": "2020-08-03T09:14:10.699142Z",
     "start_time": "2020-08-03T08:31:26.349Z"
    }
   },
   "outputs": [],
   "source": [
    "'''def NDCG_forUser_SVD(user):\n",
    "    return dcg(svd_predictions[svd_predictions_df.index == user]) / ideal_dcg(svd_predictions[svd_predictions_df.index == user])'''"
   ]
  },
  {
   "cell_type": "code",
   "execution_count": null,
   "metadata": {
    "ExecuteTime": {
     "end_time": "2020-08-03T09:14:10.703192Z",
     "start_time": "2020-08-03T08:31:26.362Z"
    }
   },
   "outputs": [],
   "source": [
    "'''NDCG_SVD = NDCG_forUser_SVD(2)'''"
   ]
  },
  {
   "cell_type": "code",
   "execution_count": null,
   "metadata": {
    "ExecuteTime": {
     "end_time": "2020-08-03T09:14:10.707859Z",
     "start_time": "2020-08-03T08:31:26.386Z"
    }
   },
   "outputs": [],
   "source": [
    "'''NDCG_SVD'''"
   ]
  },
  {
   "cell_type": "markdown",
   "metadata": {},
   "source": [
    "Take as features the predicted ratings for the users of SVD and Implicit for the next step?"
   ]
  },
  {
   "cell_type": "markdown",
   "metadata": {},
   "source": [
    "## Embeddings "
   ]
  },
  {
   "cell_type": "code",
   "execution_count": null,
   "metadata": {
    "ExecuteTime": {
     "end_time": "2020-08-03T09:14:10.711493Z",
     "start_time": "2020-08-03T08:31:26.411Z"
    }
   },
   "outputs": [],
   "source": [
    "emb = implicit_model._net.item_embeddings"
   ]
  },
  {
   "cell_type": "code",
   "execution_count": null,
   "metadata": {
    "ExecuteTime": {
     "end_time": "2020-08-03T09:14:10.714961Z",
     "start_time": "2020-08-03T08:31:26.418Z"
    }
   },
   "outputs": [],
   "source": [
    "a = emb.weight.data[0].numpy()"
   ]
  },
  {
   "cell_type": "code",
   "execution_count": null,
   "metadata": {
    "ExecuteTime": {
     "end_time": "2020-08-03T09:14:10.717946Z",
     "start_time": "2020-08-03T08:31:26.427Z"
    }
   },
   "outputs": [],
   "source": [
    "a"
   ]
  },
  {
   "cell_type": "markdown",
   "metadata": {},
   "source": [
    "## KNN"
   ]
  },
  {
   "cell_type": "markdown",
   "metadata": {},
   "source": [
    "Pivot is used to have a matrix that has as rows the userIDs and as columns the movieIDs. The unrated, by a user, movies are assigned the value 0 instead of null. Pivot organizes a DataFrame by giving index and column values. It is helpful in the recommender systems approach."
   ]
  },
  {
   "cell_type": "code",
   "execution_count": null,
   "metadata": {
    "ExecuteTime": {
     "end_time": "2020-08-03T09:14:10.720381Z",
     "start_time": "2020-08-03T08:31:26.438Z"
    }
   },
   "outputs": [],
   "source": [
    "df_movie_features = ratings_df.pivot(\n",
    "    index='userId',\n",
    "    columns='movieId',\n",
    "    values='rating'\n",
    ").fillna(0)"
   ]
  },
  {
   "cell_type": "code",
   "execution_count": null,
   "metadata": {
    "ExecuteTime": {
     "end_time": "2020-08-03T09:14:10.720381Z",
     "start_time": "2020-08-03T08:31:26.447Z"
    }
   },
   "outputs": [],
   "source": [
    "df_movie_features"
   ]
  },
  {
   "cell_type": "code",
   "execution_count": null,
   "metadata": {
    "ExecuteTime": {
     "end_time": "2020-08-03T09:14:10.725332Z",
     "start_time": "2020-08-03T08:31:26.456Z"
    }
   },
   "outputs": [],
   "source": [
    "height = [len(df_movie_features.values[df_movie_features.values== 0]),len(df_movie_features.values[df_movie_features.values==0.5]),\n",
    "          len(df_movie_features.values[df_movie_features.values== 1]),len(df_movie_features.values[df_movie_features.values==1.5]),\n",
    "          len(df_movie_features.values[df_movie_features.values== 2]),len(df_movie_features.values[df_movie_features.values==2.5]),\n",
    "          len(df_movie_features.values[df_movie_features.values== 3]),len(df_movie_features.values[df_movie_features.values==3.5]),\n",
    "          len(df_movie_features.values[df_movie_features.values== 4]),len(df_movie_features.values[df_movie_features.values==4.5]),\n",
    "          len(df_movie_features.values[df_movie_features.values== 5])]\n",
    "x = ('0','0.5', '1','1.5' ,'2','2.5', '3','3.5', '4','4.5','5')\n",
    "plt.bar(x, height)\n",
    "plt.xlabel('Rating')\n",
    "plt.ylabel('Number of users')\n",
    "plt.show()\n"
   ]
  },
  {
   "cell_type": "markdown",
   "metadata": {},
   "source": [
    "A lot of ratings in the user-movie matrix are zero, so the data are extremely sparse."
   ]
  },
  {
   "cell_type": "markdown",
   "metadata": {},
   "source": [
    "To makes sesne the idea of obtaining the taste of the users, they should have rated at least 20 movies. Otherwise, the taste of them is not clear. The users that have rated less than 20 movies will be excluded. Also the movies that have less than 20 ratings will be excluded too."
   ]
  },
  {
   "cell_type": "code",
   "execution_count": null,
   "metadata": {
    "ExecuteTime": {
     "end_time": "2020-08-03T09:14:10.729090Z",
     "start_time": "2020-08-03T08:31:26.466Z"
    }
   },
   "outputs": [],
   "source": [
    "popularity_thres = 20\n",
    "popular_movies = list(set(df_movies_cnt.query('count >= @popularity_thres').index))\n",
    "df_ratings_drop_movies = df_ratings[df_ratings.movieId.isin(popular_movies)]\n",
    "print('shape of original ratings data: ', df_ratings.shape)\n",
    "print('shape of ratings data after dropping unpopular movies: ', df_ratings_drop_movies.shape)\n",
    "# filter data to come to an approximation of user likings.\n",
    "ratings_thres = 20\n",
    "active_users = list(set(df_users_cnt.query('count >= @ratings_thres').index))\n",
    "df_ratings_drop_users = df_ratings_drop_movies[df_ratings_drop_movies.userId.isin(active_users)]\n",
    "print('shape of original ratings data: ', df_ratings.shape)\n",
    "print('shape of ratings data after dropping both unpopular movies and inactive users: ', df_ratings_drop_users.shape)"
   ]
  },
  {
   "cell_type": "code",
   "execution_count": null,
   "metadata": {
    "ExecuteTime": {
     "end_time": "2020-08-03T09:14:10.733651Z",
     "start_time": "2020-08-03T08:31:26.473Z"
    }
   },
   "outputs": [],
   "source": [
    "with pd.option_context('display.max_rows', None, 'display.max_columns', None):  # more options can be specified also\n",
    "    print(ratings_df)"
   ]
  },
  {
   "cell_type": "code",
   "execution_count": null,
   "metadata": {
    "ExecuteTime": {
     "end_time": "2020-08-03T09:14:10.734648Z",
     "start_time": "2020-08-03T08:31:26.480Z"
    }
   },
   "outputs": [],
   "source": [
    "ratings_df[24400:24450]"
   ]
  },
  {
   "cell_type": "code",
   "execution_count": null,
   "metadata": {
    "ExecuteTime": {
     "end_time": "2020-08-03T09:14:10.737769Z",
     "start_time": "2020-08-03T08:31:26.489Z"
    }
   },
   "outputs": [],
   "source": [
    "excel_df"
   ]
  },
  {
   "cell_type": "code",
   "execution_count": null,
   "metadata": {},
   "outputs": [],
   "source": []
  }
 ],
 "metadata": {
  "kernelspec": {
   "display_name": "Python 3",
   "language": "python",
   "name": "python3"
  },
  "language_info": {
   "codemirror_mode": {
    "name": "ipython",
    "version": 3
   },
   "file_extension": ".py",
   "mimetype": "text/x-python",
   "name": "python",
   "nbconvert_exporter": "python",
   "pygments_lexer": "ipython3",
   "version": "3.7.7"
  },
  "toc": {
   "base_numbering": 1,
   "nav_menu": {},
   "number_sections": true,
   "sideBar": true,
   "skip_h1_title": false,
   "title_cell": "Table of Contents",
   "title_sidebar": "Contents",
   "toc_cell": false,
   "toc_position": {
    "height": "calc(100% - 180px)",
    "left": "10px",
    "top": "150px",
    "width": "303.2px"
   },
   "toc_section_display": true,
   "toc_window_display": true
  },
  "varInspector": {
   "cols": {
    "lenName": 16,
    "lenType": 16,
    "lenVar": 40
   },
   "kernels_config": {
    "python": {
     "delete_cmd_postfix": "",
     "delete_cmd_prefix": "del ",
     "library": "var_list.py",
     "varRefreshCmd": "print(var_dic_list())"
    },
    "r": {
     "delete_cmd_postfix": ") ",
     "delete_cmd_prefix": "rm(",
     "library": "var_list.r",
     "varRefreshCmd": "cat(var_dic_list()) "
    }
   },
   "position": {
    "height": "200.4px",
    "left": "1102px",
    "right": "20px",
    "top": "24px",
    "width": "433px"
   },
   "types_to_exclude": [
    "module",
    "function",
    "builtin_function_or_method",
    "instance",
    "_Feature"
   ],
   "window_display": false
  }
 },
 "nbformat": 4,
 "nbformat_minor": 2
}
