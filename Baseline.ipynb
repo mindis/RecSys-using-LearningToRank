{
 "cells": [
  {
   "cell_type": "code",
   "execution_count": 1,
   "metadata": {},
   "outputs": [],
   "source": [
    "%config IPCompleter.greedy=True"
   ]
  },
  {
   "cell_type": "code",
   "execution_count": 2,
   "metadata": {},
   "outputs": [],
   "source": [
    "import pandas as pd\n",
    "import numpy as np\n",
    "import matplotlib.pyplot as plt\n",
    "from spotlight.factorization.implicit import ImplicitFactorizationModel\n",
    "from spotlight.interactions import Interactions\n",
    "from spotlight.cross_validation import random_train_test_split"
   ]
  },
  {
   "cell_type": "code",
   "execution_count": 325,
   "metadata": {},
   "outputs": [],
   "source": [
    "'''ratings_df = pd.read_csv('C:/Users/papad/Desktop/ml-latest-small/ml-latest-small/ratings.csv')\n",
    "movies_df = pd.read_csv('C:/Users/papad/Desktop/ml-latest-small/ml-latest-small/movies.csv')\n",
    "tags_df = pd.read_csv('C:/Users/papad/Desktop/ml-latest-small/ml-latest-small/tags.csv')\n",
    "links_df = pd.read_csv('C:/Users/papad/Desktop/ml-latest-small/ml-latest-small/links.csv')'''"
   ]
  },
  {
   "cell_type": "code",
   "execution_count": 327,
   "metadata": {},
   "outputs": [],
   "source": [
    "ratings_df = pd.read_csv('C:/Users/papad/Desktop/ml-25m/ml-25m/ratings.csv')\n",
    "movies_df = pd.read_csv('C:/Users/papad/Desktop/ml-25m/ml-25m/movies.csv')"
   ]
  },
  {
   "cell_type": "markdown",
   "metadata": {},
   "source": [
    "### Dataset"
   ]
  },
  {
   "cell_type": "code",
   "execution_count": 328,
   "metadata": {},
   "outputs": [],
   "source": [
    "percentage = 3\n",
    "movies_df = movies_df.head(int(len(movies_df)*(percentage/100)))"
   ]
  },
  {
   "cell_type": "code",
   "execution_count": 329,
   "metadata": {},
   "outputs": [
    {
     "data": {
      "text/html": [
       "<div>\n",
       "<style scoped>\n",
       "    .dataframe tbody tr th:only-of-type {\n",
       "        vertical-align: middle;\n",
       "    }\n",
       "\n",
       "    .dataframe tbody tr th {\n",
       "        vertical-align: top;\n",
       "    }\n",
       "\n",
       "    .dataframe thead th {\n",
       "        text-align: right;\n",
       "    }\n",
       "</style>\n",
       "<table border=\"1\" class=\"dataframe\">\n",
       "  <thead>\n",
       "    <tr style=\"text-align: right;\">\n",
       "      <th></th>\n",
       "      <th>movieId</th>\n",
       "      <th>title</th>\n",
       "      <th>genres</th>\n",
       "    </tr>\n",
       "  </thead>\n",
       "  <tbody>\n",
       "    <tr>\n",
       "      <th>0</th>\n",
       "      <td>1</td>\n",
       "      <td>Toy Story (1995)</td>\n",
       "      <td>Adventure|Animation|Children|Comedy|Fantasy</td>\n",
       "    </tr>\n",
       "    <tr>\n",
       "      <th>1</th>\n",
       "      <td>2</td>\n",
       "      <td>Jumanji (1995)</td>\n",
       "      <td>Adventure|Children|Fantasy</td>\n",
       "    </tr>\n",
       "    <tr>\n",
       "      <th>2</th>\n",
       "      <td>3</td>\n",
       "      <td>Grumpier Old Men (1995)</td>\n",
       "      <td>Comedy|Romance</td>\n",
       "    </tr>\n",
       "    <tr>\n",
       "      <th>3</th>\n",
       "      <td>4</td>\n",
       "      <td>Waiting to Exhale (1995)</td>\n",
       "      <td>Comedy|Drama|Romance</td>\n",
       "    </tr>\n",
       "    <tr>\n",
       "      <th>4</th>\n",
       "      <td>5</td>\n",
       "      <td>Father of the Bride Part II (1995)</td>\n",
       "      <td>Comedy</td>\n",
       "    </tr>\n",
       "    <tr>\n",
       "      <th>...</th>\n",
       "      <td>...</td>\n",
       "      <td>...</td>\n",
       "      <td>...</td>\n",
       "    </tr>\n",
       "    <tr>\n",
       "      <th>1867</th>\n",
       "      <td>1956</td>\n",
       "      <td>Ordinary People (1980)</td>\n",
       "      <td>Drama</td>\n",
       "    </tr>\n",
       "    <tr>\n",
       "      <th>1868</th>\n",
       "      <td>1957</td>\n",
       "      <td>Chariots of Fire (1981)</td>\n",
       "      <td>Drama</td>\n",
       "    </tr>\n",
       "    <tr>\n",
       "      <th>1869</th>\n",
       "      <td>1958</td>\n",
       "      <td>Terms of Endearment (1983)</td>\n",
       "      <td>Comedy|Drama</td>\n",
       "    </tr>\n",
       "    <tr>\n",
       "      <th>1870</th>\n",
       "      <td>1959</td>\n",
       "      <td>Out of Africa (1985)</td>\n",
       "      <td>Drama|Romance</td>\n",
       "    </tr>\n",
       "    <tr>\n",
       "      <th>1871</th>\n",
       "      <td>1960</td>\n",
       "      <td>Last Emperor, The (1987)</td>\n",
       "      <td>Drama</td>\n",
       "    </tr>\n",
       "  </tbody>\n",
       "</table>\n",
       "<p>1872 rows × 3 columns</p>\n",
       "</div>"
      ],
      "text/plain": [
       "      movieId                               title  \\\n",
       "0           1                    Toy Story (1995)   \n",
       "1           2                      Jumanji (1995)   \n",
       "2           3             Grumpier Old Men (1995)   \n",
       "3           4            Waiting to Exhale (1995)   \n",
       "4           5  Father of the Bride Part II (1995)   \n",
       "...       ...                                 ...   \n",
       "1867     1956              Ordinary People (1980)   \n",
       "1868     1957             Chariots of Fire (1981)   \n",
       "1869     1958          Terms of Endearment (1983)   \n",
       "1870     1959                Out of Africa (1985)   \n",
       "1871     1960            Last Emperor, The (1987)   \n",
       "\n",
       "                                           genres  \n",
       "0     Adventure|Animation|Children|Comedy|Fantasy  \n",
       "1                      Adventure|Children|Fantasy  \n",
       "2                                  Comedy|Romance  \n",
       "3                            Comedy|Drama|Romance  \n",
       "4                                          Comedy  \n",
       "...                                           ...  \n",
       "1867                                        Drama  \n",
       "1868                                        Drama  \n",
       "1869                                 Comedy|Drama  \n",
       "1870                                Drama|Romance  \n",
       "1871                                        Drama  \n",
       "\n",
       "[1872 rows x 3 columns]"
      ]
     },
     "execution_count": 329,
     "metadata": {},
     "output_type": "execute_result"
    }
   ],
   "source": [
    "movies_df"
   ]
  },
  {
   "cell_type": "code",
   "execution_count": 330,
   "metadata": {},
   "outputs": [],
   "source": [
    "ratings_df = ratings_df.head(int(len(ratings_df)*(percentage/100)))"
   ]
  },
  {
   "cell_type": "code",
   "execution_count": 331,
   "metadata": {},
   "outputs": [
    {
     "data": {
      "text/html": [
       "<div>\n",
       "<style scoped>\n",
       "    .dataframe tbody tr th:only-of-type {\n",
       "        vertical-align: middle;\n",
       "    }\n",
       "\n",
       "    .dataframe tbody tr th {\n",
       "        vertical-align: top;\n",
       "    }\n",
       "\n",
       "    .dataframe thead th {\n",
       "        text-align: right;\n",
       "    }\n",
       "</style>\n",
       "<table border=\"1\" class=\"dataframe\">\n",
       "  <thead>\n",
       "    <tr style=\"text-align: right;\">\n",
       "      <th></th>\n",
       "      <th>userId</th>\n",
       "      <th>movieId</th>\n",
       "      <th>rating</th>\n",
       "      <th>timestamp</th>\n",
       "    </tr>\n",
       "  </thead>\n",
       "  <tbody>\n",
       "    <tr>\n",
       "      <th>0</th>\n",
       "      <td>1</td>\n",
       "      <td>296</td>\n",
       "      <td>5.0</td>\n",
       "      <td>1147880044</td>\n",
       "    </tr>\n",
       "    <tr>\n",
       "      <th>1</th>\n",
       "      <td>1</td>\n",
       "      <td>306</td>\n",
       "      <td>3.5</td>\n",
       "      <td>1147868817</td>\n",
       "    </tr>\n",
       "    <tr>\n",
       "      <th>2</th>\n",
       "      <td>1</td>\n",
       "      <td>307</td>\n",
       "      <td>5.0</td>\n",
       "      <td>1147868828</td>\n",
       "    </tr>\n",
       "    <tr>\n",
       "      <th>3</th>\n",
       "      <td>1</td>\n",
       "      <td>665</td>\n",
       "      <td>5.0</td>\n",
       "      <td>1147878820</td>\n",
       "    </tr>\n",
       "    <tr>\n",
       "      <th>4</th>\n",
       "      <td>1</td>\n",
       "      <td>899</td>\n",
       "      <td>3.5</td>\n",
       "      <td>1147868510</td>\n",
       "    </tr>\n",
       "    <tr>\n",
       "      <th>...</th>\n",
       "      <td>...</td>\n",
       "      <td>...</td>\n",
       "      <td>...</td>\n",
       "      <td>...</td>\n",
       "    </tr>\n",
       "    <tr>\n",
       "      <th>749997</th>\n",
       "      <td>5108</td>\n",
       "      <td>253</td>\n",
       "      <td>3.0</td>\n",
       "      <td>838458194</td>\n",
       "    </tr>\n",
       "    <tr>\n",
       "      <th>749998</th>\n",
       "      <td>5108</td>\n",
       "      <td>265</td>\n",
       "      <td>4.0</td>\n",
       "      <td>832662011</td>\n",
       "    </tr>\n",
       "    <tr>\n",
       "      <th>749999</th>\n",
       "      <td>5108</td>\n",
       "      <td>266</td>\n",
       "      <td>3.0</td>\n",
       "      <td>840782359</td>\n",
       "    </tr>\n",
       "    <tr>\n",
       "      <th>750000</th>\n",
       "      <td>5108</td>\n",
       "      <td>278</td>\n",
       "      <td>3.0</td>\n",
       "      <td>832661717</td>\n",
       "    </tr>\n",
       "    <tr>\n",
       "      <th>750001</th>\n",
       "      <td>5108</td>\n",
       "      <td>288</td>\n",
       "      <td>2.0</td>\n",
       "      <td>832662867</td>\n",
       "    </tr>\n",
       "  </tbody>\n",
       "</table>\n",
       "<p>750002 rows × 4 columns</p>\n",
       "</div>"
      ],
      "text/plain": [
       "        userId  movieId  rating   timestamp\n",
       "0            1      296     5.0  1147880044\n",
       "1            1      306     3.5  1147868817\n",
       "2            1      307     5.0  1147868828\n",
       "3            1      665     5.0  1147878820\n",
       "4            1      899     3.5  1147868510\n",
       "...        ...      ...     ...         ...\n",
       "749997    5108      253     3.0   838458194\n",
       "749998    5108      265     4.0   832662011\n",
       "749999    5108      266     3.0   840782359\n",
       "750000    5108      278     3.0   832661717\n",
       "750001    5108      288     2.0   832662867\n",
       "\n",
       "[750002 rows x 4 columns]"
      ]
     },
     "execution_count": 331,
     "metadata": {},
     "output_type": "execute_result"
    }
   ],
   "source": [
    "ratings_df"
   ]
  },
  {
   "cell_type": "code",
   "execution_count": 332,
   "metadata": {},
   "outputs": [],
   "source": [
    "#ratings_df.columns = ['userId', 'movieId', 'rating', 'timestamp']"
   ]
  },
  {
   "cell_type": "code",
   "execution_count": 333,
   "metadata": {},
   "outputs": [
    {
     "name": "stdout",
     "output_type": "stream",
     "text": [
      "5108\n",
      "20111\n"
     ]
    }
   ],
   "source": [
    "num_users = ratings_df['userId'].unique()\n",
    "print(len(num_users))\n",
    "num_items = ratings_df['movieId'].unique()\n",
    "print(len(num_items))"
   ]
  },
  {
   "cell_type": "markdown",
   "metadata": {},
   "source": [
    "# Spotlight"
   ]
  },
  {
   "cell_type": "markdown",
   "metadata": {},
   "source": [
    "### Data preperation for Spotlight"
   ]
  },
  {
   "cell_type": "markdown",
   "metadata": {},
   "source": [
    "The ids are not consecutive. For examples the id of a movies is shown multiple times. For this reason the procedure below is implemented. The reversed map is still saved to be used if needed."
   ]
  },
  {
   "cell_type": "code",
   "execution_count": 334,
   "metadata": {},
   "outputs": [
    {
     "name": "stdout",
     "output_type": "stream",
     "text": [
      "userId 556 got uid 555\n",
      "movieId 54001 got iid 557\n"
     ]
    }
   ],
   "source": [
    "from collections import defaultdict\n",
    "from itertools import count\n",
    "\n",
    "uid_map = defaultdict(count().__next__)\n",
    "iid_map = defaultdict(count().__next__)\n",
    "uids = np.array([uid_map[uid] for uid in ratings_df[\"userId\"].values ], dtype=np.int32)\n",
    "iids = np.array([iid_map[iid] for iid in ratings_df[\"movieId\"].values ], dtype=np.int32)\n",
    "\n",
    "uid_rev_map = {v: k for k, v in uid_map.items()}\n",
    "iid_rev_map = {v: k for k, v in iid_map.items()}\n",
    "\n",
    "ratings = ratings_df[\"rating\"].values.astype(np.float32)\n",
    "timestamps = ratings_df[\"timestamp\"].values.astype(np.int32)\n",
    "\n",
    "print(\"userId %d got uid %d\" % (556, uid_map[556]))\n",
    "print(\"movieId %d got iid %d\" % (54001, iid_map[54001]))"
   ]
  },
  {
   "cell_type": "markdown",
   "metadata": {},
   "source": [
    "Create the dataset variable representing the dataset prepared for use to create a recommendation systems using the Spotlight platform."
   ]
  },
  {
   "cell_type": "markdown",
   "metadata": {},
   "source": [
    "### Implicit Factorization model"
   ]
  },
  {
   "cell_type": "code",
   "execution_count": 335,
   "metadata": {},
   "outputs": [],
   "source": [
    "from spotlight.interactions import Interactions\n",
    "from spotlight.cross_validation import random_train_test_split\n",
    "from spotlight.factorization.implicit import ImplicitFactorizationModel\n",
    "import time  \n",
    "\n",
    "\n",
    "#pecify the ids of the users and items for all the pairs of user-item interactions\n",
    "implicit_interaction = Interactions(user_ids=uids,\n",
    "                                   item_ids=iids)\n",
    "\n",
    "\n",
    "#lets initialise the seed, so that its repeatable and reproducible \n",
    "implicit_train_tmp, implicit_test = random_train_test_split(implicit_interaction, random_state=np.random.seed(42))\n",
    "#val split!\n",
    "implicit_train, implicit_val = random_train_test_split(implicit_train_tmp, random_state=np.random.seed(42))"
   ]
  },
  {
   "cell_type": "code",
   "execution_count": 336,
   "metadata": {},
   "outputs": [
    {
     "name": "stdout",
     "output_type": "stream",
     "text": [
      "<Interactions dataset (5108 users x 20111 items x 480000 interactions)>\n",
      "<Interactions dataset (5108 users x 20111 items x 150001 interactions)>\n",
      "<Interactions dataset (5108 users x 20111 items x 120001 interactions)>\n"
     ]
    }
   ],
   "source": [
    "print(implicit_train)\n",
    "print(implicit_test)\n",
    "print(implicit_val)"
   ]
  },
  {
   "cell_type": "markdown",
   "metadata": {},
   "source": [
    "### Train-test split to DataFrame"
   ]
  },
  {
   "cell_type": "markdown",
   "metadata": {},
   "source": [
    "Train and test interaction datasets are converted to dataframes, in order to be used from other models too and provide consistent and fair results."
   ]
  },
  {
   "cell_type": "code",
   "execution_count": 337,
   "metadata": {},
   "outputs": [],
   "source": [
    "def interactionToDataFrame(dataset):\n",
    "    converted_users = []\n",
    "    converted_movies = []\n",
    "    rating = []\n",
    "    for i in range(len(dataset.user_ids)):\n",
    "        converted_users.append(uid_rev_map[dataset.user_ids[i]])\n",
    "        converted_movies.append(iid_rev_map[dataset.item_ids[i]])\n",
    "        rating.append(float(ratings_df['rating'][(ratings_df['movieId']==converted_movies[i]) & (ratings_df['userId']==converted_users[i])].values))\n",
    "\n",
    "    df = pd.DataFrame({'user_id':converted_users,'movie_id':converted_movies,'rating':rating})\n",
    "    return df"
   ]
  },
  {
   "cell_type": "code",
   "execution_count": 338,
   "metadata": {},
   "outputs": [
    {
     "name": "stdout",
     "output_type": "stream",
     "text": [
      "a\n",
      "b\n"
     ]
    }
   ],
   "source": [
    "'''train_df = interactionToDataFrame(implicit_train)\n",
    "print('a')\n",
    "val_df = interactionToDataFrame(implicit_val)\n",
    "print('b')\n",
    "test_df = interactionToDataFrame(implicit_test)'''"
   ]
  },
  {
   "cell_type": "markdown",
   "metadata": {},
   "source": [
    "### Pickle "
   ]
  },
  {
   "cell_type": "markdown",
   "metadata": {},
   "source": [
    "Save"
   ]
  },
  {
   "cell_type": "code",
   "execution_count": 339,
   "metadata": {},
   "outputs": [],
   "source": [
    "'''train_df.to_pickle(\"./train_df.pkl\")\n",
    "test_df.to_pickle(\"./test_df.pkl\")\n",
    "val_df.to_pickle(\"./val_df.pkl\")'''"
   ]
  },
  {
   "cell_type": "markdown",
   "metadata": {},
   "source": [
    "Load"
   ]
  },
  {
   "cell_type": "code",
   "execution_count": 340,
   "metadata": {},
   "outputs": [],
   "source": [
    "train_df = pd.read_pickle(\"./train_df.pkl\")\n",
    "test_df = pd.read_pickle(\"./test_df.pkl\")\n",
    "val_df = pd.read_pickle(\"./val_df.pkl\")"
   ]
  },
  {
   "cell_type": "markdown",
   "metadata": {},
   "source": [
    "### Implicit Factorization model implementation"
   ]
  },
  {
   "cell_type": "code",
   "execution_count": 341,
   "metadata": {},
   "outputs": [
    {
     "name": "stdout",
     "output_type": "stream",
     "text": [
      "Epoch 0: loss 0.40419354722499845\n",
      "Epoch 1: loss 0.26937811131477357\n",
      "Epoch 2: loss 0.243188095498085\n",
      "Epoch 3: loss 0.2213677133957545\n",
      "Epoch 4: loss 0.20551247171560924\n",
      "Training took 534 second\n"
     ]
    }
   ],
   "source": [
    "implicit_model  = ImplicitFactorizationModel(n_iter = 5)\n",
    "\n",
    "current = time.time()\n",
    "\n",
    "implicit_model.fit(implicit_train,verbose = True)\n",
    "\n",
    "end = time.time()\n",
    "diff = end - current\n",
    "print('Training took %d second'%(diff))"
   ]
  },
  {
   "cell_type": "markdown",
   "metadata": {},
   "source": [
    "MRR score of the Implicit recommender"
   ]
  },
  {
   "cell_type": "code",
   "execution_count": 342,
   "metadata": {},
   "outputs": [
    {
     "name": "stdout",
     "output_type": "stream",
     "text": [
      "0.2086829124751359\n"
     ]
    }
   ],
   "source": [
    "from spotlight.evaluation import mrr_score\n",
    "print(mrr_score(implicit_model, implicit_test, train=implicit_train, k=100).mean())"
   ]
  },
  {
   "cell_type": "markdown",
   "metadata": {},
   "source": [
    "Distribution of scores for a user"
   ]
  },
  {
   "cell_type": "code",
   "execution_count": 343,
   "metadata": {},
   "outputs": [
    {
     "data": {
      "text/plain": [
       "(array([2.000e+00, 7.000e+00, 1.900e+01, 3.000e+01, 7.200e+01, 1.430e+02,\n",
       "        3.020e+02, 6.500e+02, 1.257e+03, 2.268e+03, 3.198e+03, 3.204e+03,\n",
       "        2.479e+03, 1.480e+03, 9.720e+02, 5.960e+02, 4.390e+02, 3.980e+02,\n",
       "        3.070e+02, 2.420e+02, 2.060e+02, 1.850e+02, 1.550e+02, 1.400e+02,\n",
       "        1.800e+02, 1.870e+02, 1.790e+02, 1.790e+02, 1.470e+02, 1.250e+02,\n",
       "        1.250e+02, 8.800e+01, 6.700e+01, 4.800e+01, 2.200e+01, 9.000e+00,\n",
       "        2.000e+00, 1.000e+00, 0.000e+00, 1.000e+00]),\n",
       " array([-23.808924  , -22.477737  , -21.146553  , -19.815367  ,\n",
       "        -18.484182  , -17.152996  , -15.821812  , -14.490626  ,\n",
       "        -13.159441  , -11.828256  , -10.49707   ,  -9.165884  ,\n",
       "         -7.834699  ,  -6.503514  ,  -5.1723285 ,  -3.841143  ,\n",
       "         -2.5099576 ,  -1.1787721 ,   0.15241328,   1.4835987 ,\n",
       "          2.814784  ,   4.1459694 ,   5.4771547 ,   6.80834   ,\n",
       "          8.139525  ,   9.470711  ,  10.801896  ,  12.133081  ,\n",
       "         13.464267  ,  14.795452  ,  16.126638  ,  17.457823  ,\n",
       "         18.78901   ,  20.120193  ,  21.45138   ,  22.782564  ,\n",
       "         24.11375   ,  25.444935  ,  26.776121  ,  28.107306  ,\n",
       "         29.438492  ], dtype=float32),\n",
       " <a list of 40 Patch objects>)"
      ]
     },
     "execution_count": 343,
     "metadata": {},
     "output_type": "execute_result"
    },
    {
     "data": {
      "image/png": "[encoded data removed]",
      "text/plain": [
       "<Figure size 432x288 with 1 Axes>"
      ]
     },
     "metadata": {
      "needs_background": "light"
     },
     "output_type": "display_data"
    }
   ],
   "source": [
    "plt.hist(implicit_model.predict(0), color = 'blue', edgecolor = 'black',\n",
    "         bins = 40)"
   ]
  },
  {
   "cell_type": "markdown",
   "metadata": {},
   "source": [
    "Not a lot items with high score"
   ]
  },
  {
   "cell_type": "markdown",
   "metadata": {},
   "source": [
    "### Top-K predictions for a user"
   ]
  },
  {
   "cell_type": "code",
   "execution_count": 344,
   "metadata": {},
   "outputs": [
    {
     "name": "stdout",
     "output_type": "stream",
     "text": [
      "[2012, 2692, 3949, 6016, 6377, 6539, 6711, 858, 1136, 1197, 1580, 2028, 2571, 2797, 3578, 3793, 4963, 4993, 5349, 6947, 7143, 8665, 8961, 33493, 40815, 778, 780, 1200, 1208, 1213, 1221, 1252, 2329, 3753, 3977, 4027, 4246, 4979, 5502, 5679, 5989, 6537, 6870, 6874, 7147, 7438, 8874, 27773, 27803, 31878, 48516, 48774, 48780, 50872, 54286, 54503, 55820, 58559, 59315, 59369, 68358, 69481, 69844, 70286, 72998, 79132, 81845, 91529, 106782, 109487, 122882, 122886, 2716, 5618, 8914, 44665, 68954, 1704, 750, 923, 1258, 1230, 2291, 2997, 3089, 4878, 46976, 3752, 82459, 1193, 26662, 31658, 4085, 26776, 31410, 46723, 38061, 6807, 3617, 7371]\n"
     ]
    }
   ],
   "source": [
    "import scipy.stats as st\n",
    "k = 100\n",
    "def topK_implicit(user, k=100):\n",
    "  a= list()\n",
    "  ranks = st.rankdata(-implicit_model.predict(user))   \n",
    "  for iid in np.argwhere(ranks <= k):\n",
    "    #print(iid_rev_map[iid.item(0)])\n",
    "    a.append(iid_rev_map[iid.item(0)])\n",
    "  return a\n",
    "\n",
    "rec_forUser = topK_implicit(0)\n",
    "print(rec_forUser)"
   ]
  },
  {
   "cell_type": "markdown",
   "metadata": {},
   "source": [
    "The function below (allUsers_topK_implicit) returns a list that contains the top-K recommendations for each user."
   ]
  },
  {
   "cell_type": "code",
   "execution_count": 345,
   "metadata": {},
   "outputs": [],
   "source": [
    "def allUsers_topK_implicit():\n",
    "    a = []\n",
    "    for i in range(len(num_users)):\n",
    "       a.append(topK_implicit(i))\n",
    "    return a"
   ]
  },
  {
   "cell_type": "code",
   "execution_count": 346,
   "metadata": {
    "scrolled": true
   },
   "outputs": [
    {
     "data": {
      "text/html": [
       "<div>\n",
       "<style scoped>\n",
       "    .dataframe tbody tr th:only-of-type {\n",
       "        vertical-align: middle;\n",
       "    }\n",
       "\n",
       "    .dataframe tbody tr th {\n",
       "        vertical-align: top;\n",
       "    }\n",
       "\n",
       "    .dataframe thead th {\n",
       "        text-align: right;\n",
       "    }\n",
       "</style>\n",
       "<table border=\"1\" class=\"dataframe\">\n",
       "  <thead>\n",
       "    <tr style=\"text-align: right;\">\n",
       "      <th></th>\n",
       "      <th>movieId</th>\n",
       "      <th>title</th>\n",
       "      <th>genres</th>\n",
       "    </tr>\n",
       "  </thead>\n",
       "  <tbody>\n",
       "    <tr>\n",
       "      <th>734</th>\n",
       "      <td>750</td>\n",
       "      <td>Dr. Strangelove or: How I Learned to Stop Worr...</td>\n",
       "      <td>Comedy|War</td>\n",
       "    </tr>\n",
       "    <tr>\n",
       "      <th>762</th>\n",
       "      <td>778</td>\n",
       "      <td>Trainspotting (1996)</td>\n",
       "      <td>Comedy|Crime|Drama</td>\n",
       "    </tr>\n",
       "    <tr>\n",
       "      <th>764</th>\n",
       "      <td>780</td>\n",
       "      <td>Independence Day (a.k.a. ID4) (1996)</td>\n",
       "      <td>Action|Adventure|Sci-Fi|Thriller</td>\n",
       "    </tr>\n",
       "    <tr>\n",
       "      <th>840</th>\n",
       "      <td>858</td>\n",
       "      <td>Godfather, The (1972)</td>\n",
       "      <td>Crime|Drama</td>\n",
       "    </tr>\n",
       "    <tr>\n",
       "      <th>902</th>\n",
       "      <td>923</td>\n",
       "      <td>Citizen Kane (1941)</td>\n",
       "      <td>Drama|Mystery</td>\n",
       "    </tr>\n",
       "    <tr>\n",
       "      <th>1108</th>\n",
       "      <td>1136</td>\n",
       "      <td>Monty Python and the Holy Grail (1975)</td>\n",
       "      <td>Adventure|Comedy|Fantasy</td>\n",
       "    </tr>\n",
       "    <tr>\n",
       "      <th>1164</th>\n",
       "      <td>1193</td>\n",
       "      <td>One Flew Over the Cuckoo's Nest (1975)</td>\n",
       "      <td>Drama</td>\n",
       "    </tr>\n",
       "    <tr>\n",
       "      <th>1167</th>\n",
       "      <td>1197</td>\n",
       "      <td>Princess Bride, The (1987)</td>\n",
       "      <td>Action|Adventure|Comedy|Fantasy|Romance</td>\n",
       "    </tr>\n",
       "    <tr>\n",
       "      <th>1170</th>\n",
       "      <td>1200</td>\n",
       "      <td>Aliens (1986)</td>\n",
       "      <td>Action|Adventure|Horror|Sci-Fi</td>\n",
       "    </tr>\n",
       "    <tr>\n",
       "      <th>1177</th>\n",
       "      <td>1208</td>\n",
       "      <td>Apocalypse Now (1979)</td>\n",
       "      <td>Action|Drama|War</td>\n",
       "    </tr>\n",
       "    <tr>\n",
       "      <th>1182</th>\n",
       "      <td>1213</td>\n",
       "      <td>Goodfellas (1990)</td>\n",
       "      <td>Crime|Drama</td>\n",
       "    </tr>\n",
       "    <tr>\n",
       "      <th>1190</th>\n",
       "      <td>1221</td>\n",
       "      <td>Godfather: Part II, The (1974)</td>\n",
       "      <td>Crime|Drama</td>\n",
       "    </tr>\n",
       "    <tr>\n",
       "      <th>1198</th>\n",
       "      <td>1230</td>\n",
       "      <td>Annie Hall (1977)</td>\n",
       "      <td>Comedy|Romance</td>\n",
       "    </tr>\n",
       "    <tr>\n",
       "      <th>1219</th>\n",
       "      <td>1252</td>\n",
       "      <td>Chinatown (1974)</td>\n",
       "      <td>Crime|Film-Noir|Mystery|Thriller</td>\n",
       "    </tr>\n",
       "    <tr>\n",
       "      <th>1225</th>\n",
       "      <td>1258</td>\n",
       "      <td>Shining, The (1980)</td>\n",
       "      <td>Horror</td>\n",
       "    </tr>\n",
       "    <tr>\n",
       "      <th>1523</th>\n",
       "      <td>1580</td>\n",
       "      <td>Men in Black (a.k.a. MIB) (1997)</td>\n",
       "      <td>Action|Comedy|Sci-Fi</td>\n",
       "    </tr>\n",
       "    <tr>\n",
       "      <th>1640</th>\n",
       "      <td>1704</td>\n",
       "      <td>Good Will Hunting (1997)</td>\n",
       "      <td>Drama|Romance</td>\n",
       "    </tr>\n",
       "  </tbody>\n",
       "</table>\n",
       "</div>"
      ],
      "text/plain": [
       "      movieId                                              title  \\\n",
       "734       750  Dr. Strangelove or: How I Learned to Stop Worr...   \n",
       "762       778                               Trainspotting (1996)   \n",
       "764       780               Independence Day (a.k.a. ID4) (1996)   \n",
       "840       858                              Godfather, The (1972)   \n",
       "902       923                                Citizen Kane (1941)   \n",
       "1108     1136             Monty Python and the Holy Grail (1975)   \n",
       "1164     1193             One Flew Over the Cuckoo's Nest (1975)   \n",
       "1167     1197                         Princess Bride, The (1987)   \n",
       "1170     1200                                      Aliens (1986)   \n",
       "1177     1208                              Apocalypse Now (1979)   \n",
       "1182     1213                                  Goodfellas (1990)   \n",
       "1190     1221                     Godfather: Part II, The (1974)   \n",
       "1198     1230                                  Annie Hall (1977)   \n",
       "1219     1252                                   Chinatown (1974)   \n",
       "1225     1258                                Shining, The (1980)   \n",
       "1523     1580                   Men in Black (a.k.a. MIB) (1997)   \n",
       "1640     1704                           Good Will Hunting (1997)   \n",
       "\n",
       "                                       genres  \n",
       "734                                Comedy|War  \n",
       "762                        Comedy|Crime|Drama  \n",
       "764          Action|Adventure|Sci-Fi|Thriller  \n",
       "840                               Crime|Drama  \n",
       "902                             Drama|Mystery  \n",
       "1108                 Adventure|Comedy|Fantasy  \n",
       "1164                                    Drama  \n",
       "1167  Action|Adventure|Comedy|Fantasy|Romance  \n",
       "1170           Action|Adventure|Horror|Sci-Fi  \n",
       "1177                         Action|Drama|War  \n",
       "1182                              Crime|Drama  \n",
       "1190                              Crime|Drama  \n",
       "1198                           Comedy|Romance  \n",
       "1219         Crime|Film-Noir|Mystery|Thriller  \n",
       "1225                                   Horror  \n",
       "1523                     Action|Comedy|Sci-Fi  \n",
       "1640                            Drama|Romance  "
      ]
     },
     "execution_count": 346,
     "metadata": {},
     "output_type": "execute_result"
    }
   ],
   "source": [
    "movies_df.loc[movies_df['movieId'].isin(rec_forUser)]"
   ]
  },
  {
   "cell_type": "code",
   "execution_count": 347,
   "metadata": {},
   "outputs": [],
   "source": [
    "movies_pred = movies_df['movieId'][movies_df['movieId'].isin(rec_forUser)]"
   ]
  },
  {
   "cell_type": "markdown",
   "metadata": {},
   "source": [
    "### Actual movies watched"
   ]
  },
  {
   "cell_type": "code",
   "execution_count": 348,
   "metadata": {},
   "outputs": [],
   "source": [
    "actual = ratings_df[ratings_df[\"userId\"]==uid_rev_map.get(0)].groupby(\"movieId\")[\"movieId\"].count().sort_values(ascending=False).head(100)"
   ]
  },
  {
   "cell_type": "code",
   "execution_count": 349,
   "metadata": {},
   "outputs": [],
   "source": [
    "actual = actual.index.tolist()"
   ]
  },
  {
   "cell_type": "code",
   "execution_count": 350,
   "metadata": {
    "scrolled": true
   },
   "outputs": [
    {
     "data": {
      "text/html": [
       "<div>\n",
       "<style scoped>\n",
       "    .dataframe tbody tr th:only-of-type {\n",
       "        vertical-align: middle;\n",
       "    }\n",
       "\n",
       "    .dataframe tbody tr th {\n",
       "        vertical-align: top;\n",
       "    }\n",
       "\n",
       "    .dataframe thead th {\n",
       "        text-align: right;\n",
       "    }\n",
       "</style>\n",
       "<table border=\"1\" class=\"dataframe\">\n",
       "  <thead>\n",
       "    <tr style=\"text-align: right;\">\n",
       "      <th></th>\n",
       "      <th>movieId</th>\n",
       "      <th>title</th>\n",
       "      <th>genres</th>\n",
       "    </tr>\n",
       "  </thead>\n",
       "  <tbody>\n",
       "    <tr>\n",
       "      <th>292</th>\n",
       "      <td>296</td>\n",
       "      <td>Pulp Fiction (1994)</td>\n",
       "      <td>Comedy|Crime|Drama|Thriller</td>\n",
       "    </tr>\n",
       "    <tr>\n",
       "      <th>302</th>\n",
       "      <td>306</td>\n",
       "      <td>Three Colors: Red (Trois couleurs: Rouge) (1994)</td>\n",
       "      <td>Drama</td>\n",
       "    </tr>\n",
       "    <tr>\n",
       "      <th>303</th>\n",
       "      <td>307</td>\n",
       "      <td>Three Colors: Blue (Trois couleurs: Bleu) (1993)</td>\n",
       "      <td>Drama</td>\n",
       "    </tr>\n",
       "    <tr>\n",
       "      <th>654</th>\n",
       "      <td>665</td>\n",
       "      <td>Underground (1995)</td>\n",
       "      <td>Comedy|Drama|War</td>\n",
       "    </tr>\n",
       "    <tr>\n",
       "      <th>878</th>\n",
       "      <td>899</td>\n",
       "      <td>Singin' in the Rain (1952)</td>\n",
       "      <td>Comedy|Musical|Romance</td>\n",
       "    </tr>\n",
       "    <tr>\n",
       "      <th>1061</th>\n",
       "      <td>1088</td>\n",
       "      <td>Dirty Dancing (1987)</td>\n",
       "      <td>Drama|Musical|Romance</td>\n",
       "    </tr>\n",
       "    <tr>\n",
       "      <th>1147</th>\n",
       "      <td>1175</td>\n",
       "      <td>Delicatessen (1991)</td>\n",
       "      <td>Comedy|Drama|Romance</td>\n",
       "    </tr>\n",
       "    <tr>\n",
       "      <th>1186</th>\n",
       "      <td>1217</td>\n",
       "      <td>Ran (1985)</td>\n",
       "      <td>Drama|War</td>\n",
       "    </tr>\n",
       "    <tr>\n",
       "      <th>1205</th>\n",
       "      <td>1237</td>\n",
       "      <td>Seventh Seal, The (Sjunde inseglet, Det) (1957)</td>\n",
       "      <td>Drama</td>\n",
       "    </tr>\n",
       "    <tr>\n",
       "      <th>1217</th>\n",
       "      <td>1250</td>\n",
       "      <td>Bridge on the River Kwai, The (1957)</td>\n",
       "      <td>Adventure|Drama|War</td>\n",
       "    </tr>\n",
       "    <tr>\n",
       "      <th>1227</th>\n",
       "      <td>1260</td>\n",
       "      <td>M (1931)</td>\n",
       "      <td>Crime|Film-Noir|Thriller</td>\n",
       "    </tr>\n",
       "    <tr>\n",
       "      <th>1591</th>\n",
       "      <td>1653</td>\n",
       "      <td>Gattaca (1997)</td>\n",
       "      <td>Drama|Sci-Fi|Thriller</td>\n",
       "    </tr>\n",
       "  </tbody>\n",
       "</table>\n",
       "</div>"
      ],
      "text/plain": [
       "      movieId                                             title  \\\n",
       "292       296                               Pulp Fiction (1994)   \n",
       "302       306  Three Colors: Red (Trois couleurs: Rouge) (1994)   \n",
       "303       307  Three Colors: Blue (Trois couleurs: Bleu) (1993)   \n",
       "654       665                                Underground (1995)   \n",
       "878       899                        Singin' in the Rain (1952)   \n",
       "1061     1088                              Dirty Dancing (1987)   \n",
       "1147     1175                               Delicatessen (1991)   \n",
       "1186     1217                                        Ran (1985)   \n",
       "1205     1237   Seventh Seal, The (Sjunde inseglet, Det) (1957)   \n",
       "1217     1250              Bridge on the River Kwai, The (1957)   \n",
       "1227     1260                                          M (1931)   \n",
       "1591     1653                                    Gattaca (1997)   \n",
       "\n",
       "                           genres  \n",
       "292   Comedy|Crime|Drama|Thriller  \n",
       "302                         Drama  \n",
       "303                         Drama  \n",
       "654              Comedy|Drama|War  \n",
       "878        Comedy|Musical|Romance  \n",
       "1061        Drama|Musical|Romance  \n",
       "1147         Comedy|Drama|Romance  \n",
       "1186                    Drama|War  \n",
       "1205                        Drama  \n",
       "1217          Adventure|Drama|War  \n",
       "1227     Crime|Film-Noir|Thriller  \n",
       "1591        Drama|Sci-Fi|Thriller  "
      ]
     },
     "execution_count": 350,
     "metadata": {},
     "output_type": "execute_result"
    }
   ],
   "source": [
    "movies_df.loc[movies_df['movieId'].isin(actual)]"
   ]
  },
  {
   "cell_type": "code",
   "execution_count": 351,
   "metadata": {},
   "outputs": [],
   "source": [
    "movies_watched = movies_df['movieId'][movies_df['movieId'].isin(actual)]"
   ]
  },
  {
   "cell_type": "markdown",
   "metadata": {},
   "source": [
    "### NDCG Score for each user"
   ]
  },
  {
   "cell_type": "code",
   "execution_count": 352,
   "metadata": {},
   "outputs": [],
   "source": [
    "allUsers_topK_implicit = allUsers_topK_implicit()"
   ]
  },
  {
   "cell_type": "code",
   "execution_count": 353,
   "metadata": {},
   "outputs": [
    {
     "data": {
      "text/plain": [
       "True"
      ]
     },
     "execution_count": 353,
     "metadata": {},
     "output_type": "execute_result"
    }
   ],
   "source": [
    "rec_forUser == allUsers_topK_implicit[0]"
   ]
  },
  {
   "cell_type": "code",
   "execution_count": 354,
   "metadata": {},
   "outputs": [],
   "source": [
    "relevance_implicit = []\n",
    "for i in range(len(rec_forUser)):\n",
    "    if rec_forUser[i] in test_df['movie_id'][test_df['user_id'] == 1].values.tolist():\n",
    "        relevance_implicit.append(1)\n",
    "    else:\n",
    "        relevance_implicit.append(0)\n",
    "    "
   ]
  },
  {
   "cell_type": "markdown",
   "metadata": {},
   "source": [
    "Compute the relevance for each user. The relevance containes 0s and 1s based on which movies each has watched. For every recommended movie that the user has actually watched, the value of 1 is assigned. There is a relevance list for each user."
   ]
  },
  {
   "cell_type": "code",
   "execution_count": 355,
   "metadata": {},
   "outputs": [],
   "source": [
    "relevance_implicit_full = []\n",
    "helper = []\n",
    "count = 0\n",
    "for i in range(1,len(num_users)+1):\n",
    "    for j in range(len(allUsers_topK_implicit[count])):\n",
    "        if allUsers_topK_implicit[count][j] in test_df['movie_id'][test_df['user_id'] == i].values.tolist():\n",
    "            helper.append(1)\n",
    "        else:\n",
    "            helper.append(0)\n",
    "    relevance_implicit_full.append(helper)\n",
    "    helper = []\n",
    "    count += 1"
   ]
  },
  {
   "cell_type": "code",
   "execution_count": 356,
   "metadata": {},
   "outputs": [
    {
     "data": {
      "text/plain": [
       "True"
      ]
     },
     "execution_count": 356,
     "metadata": {},
     "output_type": "execute_result"
    }
   ],
   "source": [
    "relevance_implicit == relevance_implicit_full[0]"
   ]
  },
  {
   "cell_type": "markdown",
   "metadata": {},
   "source": [
    "The dcg and ideal_dcg functions are taken form https://github.com/lezzago/LambdaMart/blob/master/lambdamart.py. They are necessary to compute the desired NDCG evaluation metric."
   ]
  },
  {
   "cell_type": "code",
   "execution_count": 357,
   "metadata": {},
   "outputs": [],
   "source": [
    "def dcg(scores):\n",
    "    \"\"\"\n",
    "    Returns the DCG value of the list of scores.\n",
    "    Parameters\n",
    "    ----------\n",
    "    scores : list\n",
    "        Contains labels in a certain ranked order\n",
    "\n",
    "    Returns\n",
    "    -------\n",
    "    DCG_val: int\n",
    "        This is the value of the DCG on the given scores\n",
    "    \"\"\"\n",
    "    return np.sum([\n",
    "                    (np.power(2, scores[i]) - 1) / np.log2(i + 2)\n",
    "                    for i in range(len(scores))\n",
    "                ])"
   ]
  },
  {
   "cell_type": "code",
   "execution_count": 358,
   "metadata": {},
   "outputs": [],
   "source": [
    "def ideal_dcg(scores):\n",
    "    \"\"\"\n",
    "    Returns the Ideal DCG value of the list of scores.\n",
    "    Parameters\n",
    "    ----------\n",
    "    scores : list\n",
    "        Contains labels in a certain ranked order\n",
    "\n",
    "    Returns\n",
    "    -------\n",
    "    Ideal_DCG_val: int\n",
    "        This is the value of the Ideal DCG on the given scores\n",
    "    \"\"\"\n",
    "    scores = [score for score in sorted(scores)[::-1]]\n",
    "    return dcg(scores)"
   ]
  },
  {
   "cell_type": "code",
   "execution_count": 359,
   "metadata": {},
   "outputs": [],
   "source": [
    "def NDCG_forUser(relevance):\n",
    "    return dcg(relevance) / ideal_dcg(relevance)"
   ]
  },
  {
   "cell_type": "code",
   "execution_count": 360,
   "metadata": {},
   "outputs": [
    {
     "name": "stdout",
     "output_type": "stream",
     "text": [
      "0.45560514958746035\n",
      "0.45560514958746035\n"
     ]
    }
   ],
   "source": [
    "ndcg = NDCG_forUser(relevance_implicit_full[0])\n",
    "print(ndcg)\n",
    "ndcg = NDCG_forUser(relevance_implicit)\n",
    "print(ndcg)"
   ]
  },
  {
   "cell_type": "markdown",
   "metadata": {},
   "source": [
    "Creation of a list (allUsers_implicit_ndcg) that contains the NDCG score for each user."
   ]
  },
  {
   "cell_type": "code",
   "execution_count": 361,
   "metadata": {},
   "outputs": [],
   "source": [
    "def allUsers_ndcg(relevance):\n",
    "    allUsers_implicit_ndcg = []\n",
    "    for i in range(len(num_users)):\n",
    "        allUsers_implicit_ndcg.append(NDCG_forUser(relevance[i]))\n",
    "    return allUsers_implicit_ndcg"
   ]
  },
  {
   "cell_type": "code",
   "execution_count": 362,
   "metadata": {},
   "outputs": [
    {
     "name": "stderr",
     "output_type": "stream",
     "text": [
      "C:\\Users\\papad\\Anaconda3\\lib\\site-packages\\ipykernel_launcher.py:2: RuntimeWarning: invalid value encountered in double_scalars\n",
      "  \n"
     ]
    }
   ],
   "source": [
    "allUsers_implicit_ndcg = allUsers_ndcg(relevance_implicit_full)"
   ]
  },
  {
   "cell_type": "code",
   "execution_count": 410,
   "metadata": {},
   "outputs": [
    {
     "data": {
      "text/plain": [
       "5108"
      ]
     },
     "execution_count": 410,
     "metadata": {},
     "output_type": "execute_result"
    }
   ],
   "source": [
    "len(allUsers_implicit_ndcg)"
   ]
  },
  {
   "cell_type": "markdown",
   "metadata": {},
   "source": [
    "# SVD"
   ]
  },
  {
   "cell_type": "markdown",
   "metadata": {},
   "source": [
    "Pivot is used to have a matrix that has as rows the userIDs and as columns the movieIDs. The unrated, by a user, movies are assigned the value 0 instead of null. Pivot organizes a DataFrame by giving index and column values. It is helpful in the recommender systems approach."
   ]
  },
  {
   "cell_type": "code",
   "execution_count": 364,
   "metadata": {},
   "outputs": [],
   "source": [
    "df_movie_features = train_df.pivot(\n",
    "    index='user_id',\n",
    "    columns='movie_id',\n",
    "    values='rating'\n",
    ").fillna(0)"
   ]
  },
  {
   "cell_type": "code",
   "execution_count": 365,
   "metadata": {},
   "outputs": [
    {
     "data": {
      "text/html": [
       "<div>\n",
       "<style scoped>\n",
       "    .dataframe tbody tr th:only-of-type {\n",
       "        vertical-align: middle;\n",
       "    }\n",
       "\n",
       "    .dataframe tbody tr th {\n",
       "        vertical-align: top;\n",
       "    }\n",
       "\n",
       "    .dataframe thead th {\n",
       "        text-align: right;\n",
       "    }\n",
       "</style>\n",
       "<table border=\"1\" class=\"dataframe\">\n",
       "  <thead>\n",
       "    <tr style=\"text-align: right;\">\n",
       "      <th>movie_id</th>\n",
       "      <th>1</th>\n",
       "      <th>2</th>\n",
       "      <th>3</th>\n",
       "      <th>4</th>\n",
       "      <th>5</th>\n",
       "      <th>6</th>\n",
       "      <th>7</th>\n",
       "      <th>8</th>\n",
       "      <th>9</th>\n",
       "      <th>10</th>\n",
       "      <th>...</th>\n",
       "      <th>207213</th>\n",
       "      <th>207309</th>\n",
       "      <th>207367</th>\n",
       "      <th>207405</th>\n",
       "      <th>207642</th>\n",
       "      <th>207830</th>\n",
       "      <th>207890</th>\n",
       "      <th>208080</th>\n",
       "      <th>208737</th>\n",
       "      <th>208939</th>\n",
       "    </tr>\n",
       "    <tr>\n",
       "      <th>user_id</th>\n",
       "      <th></th>\n",
       "      <th></th>\n",
       "      <th></th>\n",
       "      <th></th>\n",
       "      <th></th>\n",
       "      <th></th>\n",
       "      <th></th>\n",
       "      <th></th>\n",
       "      <th></th>\n",
       "      <th></th>\n",
       "      <th></th>\n",
       "      <th></th>\n",
       "      <th></th>\n",
       "      <th></th>\n",
       "      <th></th>\n",
       "      <th></th>\n",
       "      <th></th>\n",
       "      <th></th>\n",
       "      <th></th>\n",
       "      <th></th>\n",
       "      <th></th>\n",
       "    </tr>\n",
       "  </thead>\n",
       "  <tbody>\n",
       "    <tr>\n",
       "      <th>1</th>\n",
       "      <td>0.0</td>\n",
       "      <td>0.0</td>\n",
       "      <td>0.0</td>\n",
       "      <td>0.0</td>\n",
       "      <td>0.0</td>\n",
       "      <td>0.0</td>\n",
       "      <td>0.0</td>\n",
       "      <td>0.0</td>\n",
       "      <td>0.0</td>\n",
       "      <td>0.0</td>\n",
       "      <td>...</td>\n",
       "      <td>0.0</td>\n",
       "      <td>0.0</td>\n",
       "      <td>0.0</td>\n",
       "      <td>0.0</td>\n",
       "      <td>0.0</td>\n",
       "      <td>0.0</td>\n",
       "      <td>0.0</td>\n",
       "      <td>0.0</td>\n",
       "      <td>0.0</td>\n",
       "      <td>0.0</td>\n",
       "    </tr>\n",
       "    <tr>\n",
       "      <th>2</th>\n",
       "      <td>3.5</td>\n",
       "      <td>0.0</td>\n",
       "      <td>0.0</td>\n",
       "      <td>0.0</td>\n",
       "      <td>0.0</td>\n",
       "      <td>0.0</td>\n",
       "      <td>0.0</td>\n",
       "      <td>0.0</td>\n",
       "      <td>0.0</td>\n",
       "      <td>0.0</td>\n",
       "      <td>...</td>\n",
       "      <td>0.0</td>\n",
       "      <td>0.0</td>\n",
       "      <td>0.0</td>\n",
       "      <td>0.0</td>\n",
       "      <td>0.0</td>\n",
       "      <td>0.0</td>\n",
       "      <td>0.0</td>\n",
       "      <td>0.0</td>\n",
       "      <td>0.0</td>\n",
       "      <td>0.0</td>\n",
       "    </tr>\n",
       "    <tr>\n",
       "      <th>3</th>\n",
       "      <td>4.0</td>\n",
       "      <td>0.0</td>\n",
       "      <td>0.0</td>\n",
       "      <td>0.0</td>\n",
       "      <td>0.0</td>\n",
       "      <td>0.0</td>\n",
       "      <td>0.0</td>\n",
       "      <td>0.0</td>\n",
       "      <td>0.0</td>\n",
       "      <td>0.0</td>\n",
       "      <td>...</td>\n",
       "      <td>0.0</td>\n",
       "      <td>0.0</td>\n",
       "      <td>0.0</td>\n",
       "      <td>0.0</td>\n",
       "      <td>0.0</td>\n",
       "      <td>0.0</td>\n",
       "      <td>0.0</td>\n",
       "      <td>0.0</td>\n",
       "      <td>0.0</td>\n",
       "      <td>0.0</td>\n",
       "    </tr>\n",
       "    <tr>\n",
       "      <th>4</th>\n",
       "      <td>3.0</td>\n",
       "      <td>0.0</td>\n",
       "      <td>0.0</td>\n",
       "      <td>0.0</td>\n",
       "      <td>0.0</td>\n",
       "      <td>0.0</td>\n",
       "      <td>0.0</td>\n",
       "      <td>0.0</td>\n",
       "      <td>0.0</td>\n",
       "      <td>0.0</td>\n",
       "      <td>...</td>\n",
       "      <td>0.0</td>\n",
       "      <td>0.0</td>\n",
       "      <td>0.0</td>\n",
       "      <td>0.0</td>\n",
       "      <td>0.0</td>\n",
       "      <td>0.0</td>\n",
       "      <td>0.0</td>\n",
       "      <td>0.0</td>\n",
       "      <td>0.0</td>\n",
       "      <td>0.0</td>\n",
       "    </tr>\n",
       "    <tr>\n",
       "      <th>5</th>\n",
       "      <td>4.0</td>\n",
       "      <td>0.0</td>\n",
       "      <td>0.0</td>\n",
       "      <td>0.0</td>\n",
       "      <td>0.0</td>\n",
       "      <td>0.0</td>\n",
       "      <td>0.0</td>\n",
       "      <td>0.0</td>\n",
       "      <td>0.0</td>\n",
       "      <td>0.0</td>\n",
       "      <td>...</td>\n",
       "      <td>0.0</td>\n",
       "      <td>0.0</td>\n",
       "      <td>0.0</td>\n",
       "      <td>0.0</td>\n",
       "      <td>0.0</td>\n",
       "      <td>0.0</td>\n",
       "      <td>0.0</td>\n",
       "      <td>0.0</td>\n",
       "      <td>0.0</td>\n",
       "      <td>0.0</td>\n",
       "    </tr>\n",
       "    <tr>\n",
       "      <th>...</th>\n",
       "      <td>...</td>\n",
       "      <td>...</td>\n",
       "      <td>...</td>\n",
       "      <td>...</td>\n",
       "      <td>...</td>\n",
       "      <td>...</td>\n",
       "      <td>...</td>\n",
       "      <td>...</td>\n",
       "      <td>...</td>\n",
       "      <td>...</td>\n",
       "      <td>...</td>\n",
       "      <td>...</td>\n",
       "      <td>...</td>\n",
       "      <td>...</td>\n",
       "      <td>...</td>\n",
       "      <td>...</td>\n",
       "      <td>...</td>\n",
       "      <td>...</td>\n",
       "      <td>...</td>\n",
       "      <td>...</td>\n",
       "      <td>...</td>\n",
       "    </tr>\n",
       "    <tr>\n",
       "      <th>5104</th>\n",
       "      <td>0.0</td>\n",
       "      <td>0.0</td>\n",
       "      <td>0.0</td>\n",
       "      <td>0.0</td>\n",
       "      <td>0.0</td>\n",
       "      <td>0.0</td>\n",
       "      <td>0.0</td>\n",
       "      <td>0.0</td>\n",
       "      <td>0.0</td>\n",
       "      <td>0.0</td>\n",
       "      <td>...</td>\n",
       "      <td>0.0</td>\n",
       "      <td>0.0</td>\n",
       "      <td>0.0</td>\n",
       "      <td>0.0</td>\n",
       "      <td>0.0</td>\n",
       "      <td>0.0</td>\n",
       "      <td>0.0</td>\n",
       "      <td>0.0</td>\n",
       "      <td>0.0</td>\n",
       "      <td>0.0</td>\n",
       "    </tr>\n",
       "    <tr>\n",
       "      <th>5105</th>\n",
       "      <td>0.0</td>\n",
       "      <td>0.0</td>\n",
       "      <td>1.0</td>\n",
       "      <td>0.0</td>\n",
       "      <td>0.0</td>\n",
       "      <td>0.0</td>\n",
       "      <td>0.0</td>\n",
       "      <td>0.0</td>\n",
       "      <td>0.0</td>\n",
       "      <td>0.0</td>\n",
       "      <td>...</td>\n",
       "      <td>0.0</td>\n",
       "      <td>0.0</td>\n",
       "      <td>0.0</td>\n",
       "      <td>0.0</td>\n",
       "      <td>0.0</td>\n",
       "      <td>0.0</td>\n",
       "      <td>0.0</td>\n",
       "      <td>0.0</td>\n",
       "      <td>0.0</td>\n",
       "      <td>0.0</td>\n",
       "    </tr>\n",
       "    <tr>\n",
       "      <th>5106</th>\n",
       "      <td>0.0</td>\n",
       "      <td>0.0</td>\n",
       "      <td>0.0</td>\n",
       "      <td>0.0</td>\n",
       "      <td>0.0</td>\n",
       "      <td>0.0</td>\n",
       "      <td>0.0</td>\n",
       "      <td>0.0</td>\n",
       "      <td>0.0</td>\n",
       "      <td>0.0</td>\n",
       "      <td>...</td>\n",
       "      <td>0.0</td>\n",
       "      <td>0.0</td>\n",
       "      <td>0.0</td>\n",
       "      <td>0.0</td>\n",
       "      <td>0.0</td>\n",
       "      <td>0.0</td>\n",
       "      <td>0.0</td>\n",
       "      <td>0.0</td>\n",
       "      <td>0.0</td>\n",
       "      <td>0.0</td>\n",
       "    </tr>\n",
       "    <tr>\n",
       "      <th>5107</th>\n",
       "      <td>0.0</td>\n",
       "      <td>0.0</td>\n",
       "      <td>0.0</td>\n",
       "      <td>0.0</td>\n",
       "      <td>0.0</td>\n",
       "      <td>0.0</td>\n",
       "      <td>0.0</td>\n",
       "      <td>0.0</td>\n",
       "      <td>0.0</td>\n",
       "      <td>0.0</td>\n",
       "      <td>...</td>\n",
       "      <td>0.0</td>\n",
       "      <td>0.0</td>\n",
       "      <td>0.0</td>\n",
       "      <td>0.0</td>\n",
       "      <td>0.0</td>\n",
       "      <td>0.0</td>\n",
       "      <td>0.0</td>\n",
       "      <td>0.0</td>\n",
       "      <td>0.0</td>\n",
       "      <td>0.0</td>\n",
       "    </tr>\n",
       "    <tr>\n",
       "      <th>5108</th>\n",
       "      <td>4.0</td>\n",
       "      <td>3.0</td>\n",
       "      <td>0.0</td>\n",
       "      <td>0.0</td>\n",
       "      <td>0.0</td>\n",
       "      <td>0.0</td>\n",
       "      <td>3.0</td>\n",
       "      <td>0.0</td>\n",
       "      <td>0.0</td>\n",
       "      <td>4.0</td>\n",
       "      <td>...</td>\n",
       "      <td>0.0</td>\n",
       "      <td>0.0</td>\n",
       "      <td>0.0</td>\n",
       "      <td>0.0</td>\n",
       "      <td>0.0</td>\n",
       "      <td>0.0</td>\n",
       "      <td>0.0</td>\n",
       "      <td>0.0</td>\n",
       "      <td>0.0</td>\n",
       "      <td>0.0</td>\n",
       "    </tr>\n",
       "  </tbody>\n",
       "</table>\n",
       "<p>5108 rows × 17382 columns</p>\n",
       "</div>"
      ],
      "text/plain": [
       "movie_id  1       2       3       4       5       6       7       8       \\\n",
       "user_id                                                                    \n",
       "1            0.0     0.0     0.0     0.0     0.0     0.0     0.0     0.0   \n",
       "2            3.5     0.0     0.0     0.0     0.0     0.0     0.0     0.0   \n",
       "3            4.0     0.0     0.0     0.0     0.0     0.0     0.0     0.0   \n",
       "4            3.0     0.0     0.0     0.0     0.0     0.0     0.0     0.0   \n",
       "5            4.0     0.0     0.0     0.0     0.0     0.0     0.0     0.0   \n",
       "...          ...     ...     ...     ...     ...     ...     ...     ...   \n",
       "5104         0.0     0.0     0.0     0.0     0.0     0.0     0.0     0.0   \n",
       "5105         0.0     0.0     1.0     0.0     0.0     0.0     0.0     0.0   \n",
       "5106         0.0     0.0     0.0     0.0     0.0     0.0     0.0     0.0   \n",
       "5107         0.0     0.0     0.0     0.0     0.0     0.0     0.0     0.0   \n",
       "5108         4.0     3.0     0.0     0.0     0.0     0.0     3.0     0.0   \n",
       "\n",
       "movie_id  9       10      ...  207213  207309  207367  207405  207642  207830  \\\n",
       "user_id                   ...                                                   \n",
       "1            0.0     0.0  ...     0.0     0.0     0.0     0.0     0.0     0.0   \n",
       "2            0.0     0.0  ...     0.0     0.0     0.0     0.0     0.0     0.0   \n",
       "3            0.0     0.0  ...     0.0     0.0     0.0     0.0     0.0     0.0   \n",
       "4            0.0     0.0  ...     0.0     0.0     0.0     0.0     0.0     0.0   \n",
       "5            0.0     0.0  ...     0.0     0.0     0.0     0.0     0.0     0.0   \n",
       "...          ...     ...  ...     ...     ...     ...     ...     ...     ...   \n",
       "5104         0.0     0.0  ...     0.0     0.0     0.0     0.0     0.0     0.0   \n",
       "5105         0.0     0.0  ...     0.0     0.0     0.0     0.0     0.0     0.0   \n",
       "5106         0.0     0.0  ...     0.0     0.0     0.0     0.0     0.0     0.0   \n",
       "5107         0.0     0.0  ...     0.0     0.0     0.0     0.0     0.0     0.0   \n",
       "5108         0.0     4.0  ...     0.0     0.0     0.0     0.0     0.0     0.0   \n",
       "\n",
       "movie_id  207890  208080  208737  208939  \n",
       "user_id                                   \n",
       "1            0.0     0.0     0.0     0.0  \n",
       "2            0.0     0.0     0.0     0.0  \n",
       "3            0.0     0.0     0.0     0.0  \n",
       "4            0.0     0.0     0.0     0.0  \n",
       "5            0.0     0.0     0.0     0.0  \n",
       "...          ...     ...     ...     ...  \n",
       "5104         0.0     0.0     0.0     0.0  \n",
       "5105         0.0     0.0     0.0     0.0  \n",
       "5106         0.0     0.0     0.0     0.0  \n",
       "5107         0.0     0.0     0.0     0.0  \n",
       "5108         0.0     0.0     0.0     0.0  \n",
       "\n",
       "[5108 rows x 17382 columns]"
      ]
     },
     "execution_count": 365,
     "metadata": {},
     "output_type": "execute_result"
    }
   ],
   "source": [
    "df_movie_features"
   ]
  },
  {
   "cell_type": "code",
   "execution_count": 366,
   "metadata": {},
   "outputs": [],
   "source": [
    "from scipy.sparse.linalg import svds\n",
    "U, sigma, Vt = svds(df_movie_features, k = 10)\n"
   ]
  },
  {
   "cell_type": "markdown",
   "metadata": {},
   "source": [
    "To get the prediction of a rating of an item dj, we can calculate the dot product of the two vectors.\n",
    "The sigma variable has just the values, so I have to convert to a diagonal matrix in orded to implement the matrix multiplication."
   ]
  },
  {
   "cell_type": "code",
   "execution_count": 367,
   "metadata": {},
   "outputs": [],
   "source": [
    "sigma = np.diag(sigma)\n",
    "svd_predictions_score = np.dot(np.dot(U, sigma), Vt)\n",
    "svd_predictions_score_df = pd.DataFrame(svd_predictions_score, columns = df_movie_features.columns)\n"
   ]
  },
  {
   "cell_type": "code",
   "execution_count": 368,
   "metadata": {},
   "outputs": [
    {
     "data": {
      "text/plain": [
       "array([-0.02798734,  0.03043995, -0.10121945, ..., -0.00261803,\n",
       "        0.00041197,  0.00194832])"
      ]
     },
     "execution_count": 368,
     "metadata": {},
     "output_type": "execute_result"
    }
   ],
   "source": [
    "svd_predictions_score[0]"
   ]
  },
  {
   "cell_type": "code",
   "execution_count": 369,
   "metadata": {},
   "outputs": [
    {
     "data": {
      "text/html": [
       "<div>\n",
       "<style scoped>\n",
       "    .dataframe tbody tr th:only-of-type {\n",
       "        vertical-align: middle;\n",
       "    }\n",
       "\n",
       "    .dataframe tbody tr th {\n",
       "        vertical-align: top;\n",
       "    }\n",
       "\n",
       "    .dataframe thead th {\n",
       "        text-align: right;\n",
       "    }\n",
       "</style>\n",
       "<table border=\"1\" class=\"dataframe\">\n",
       "  <thead>\n",
       "    <tr style=\"text-align: right;\">\n",
       "      <th>movie_id</th>\n",
       "      <th>1</th>\n",
       "      <th>2</th>\n",
       "      <th>3</th>\n",
       "      <th>4</th>\n",
       "      <th>5</th>\n",
       "      <th>6</th>\n",
       "      <th>7</th>\n",
       "      <th>8</th>\n",
       "      <th>9</th>\n",
       "      <th>10</th>\n",
       "      <th>...</th>\n",
       "      <th>207213</th>\n",
       "      <th>207309</th>\n",
       "      <th>207367</th>\n",
       "      <th>207405</th>\n",
       "      <th>207642</th>\n",
       "      <th>207830</th>\n",
       "      <th>207890</th>\n",
       "      <th>208080</th>\n",
       "      <th>208737</th>\n",
       "      <th>208939</th>\n",
       "    </tr>\n",
       "  </thead>\n",
       "  <tbody>\n",
       "    <tr>\n",
       "      <th>0</th>\n",
       "      <td>-0.027987</td>\n",
       "      <td>0.030440</td>\n",
       "      <td>-0.101219</td>\n",
       "      <td>-0.007476</td>\n",
       "      <td>-0.048354</td>\n",
       "      <td>-0.136987</td>\n",
       "      <td>-0.092261</td>\n",
       "      <td>-0.001249</td>\n",
       "      <td>-0.060567</td>\n",
       "      <td>0.003701</td>\n",
       "      <td>...</td>\n",
       "      <td>0.003973</td>\n",
       "      <td>-0.001923</td>\n",
       "      <td>-0.007428</td>\n",
       "      <td>-0.005942</td>\n",
       "      <td>-0.000895</td>\n",
       "      <td>-0.005942</td>\n",
       "      <td>-0.002204</td>\n",
       "      <td>-0.002618</td>\n",
       "      <td>0.000412</td>\n",
       "      <td>0.001948</td>\n",
       "    </tr>\n",
       "    <tr>\n",
       "      <th>1</th>\n",
       "      <td>1.862023</td>\n",
       "      <td>0.576335</td>\n",
       "      <td>0.029414</td>\n",
       "      <td>-0.070437</td>\n",
       "      <td>0.019996</td>\n",
       "      <td>-0.156554</td>\n",
       "      <td>0.171814</td>\n",
       "      <td>0.028677</td>\n",
       "      <td>-0.042392</td>\n",
       "      <td>0.514653</td>\n",
       "      <td>...</td>\n",
       "      <td>-0.009627</td>\n",
       "      <td>-0.006818</td>\n",
       "      <td>-0.010006</td>\n",
       "      <td>-0.008005</td>\n",
       "      <td>-0.001471</td>\n",
       "      <td>-0.008005</td>\n",
       "      <td>-0.001502</td>\n",
       "      <td>-0.009276</td>\n",
       "      <td>-0.001111</td>\n",
       "      <td>-0.007706</td>\n",
       "    </tr>\n",
       "    <tr>\n",
       "      <th>2</th>\n",
       "      <td>1.244702</td>\n",
       "      <td>1.265484</td>\n",
       "      <td>-0.338008</td>\n",
       "      <td>-0.088859</td>\n",
       "      <td>-0.130400</td>\n",
       "      <td>0.831281</td>\n",
       "      <td>-0.473512</td>\n",
       "      <td>0.004231</td>\n",
       "      <td>0.056472</td>\n",
       "      <td>0.584227</td>\n",
       "      <td>...</td>\n",
       "      <td>0.021815</td>\n",
       "      <td>0.007394</td>\n",
       "      <td>0.041731</td>\n",
       "      <td>0.033385</td>\n",
       "      <td>0.003659</td>\n",
       "      <td>0.033385</td>\n",
       "      <td>0.011263</td>\n",
       "      <td>0.036425</td>\n",
       "      <td>0.001245</td>\n",
       "      <td>0.032633</td>\n",
       "    </tr>\n",
       "    <tr>\n",
       "      <th>3</th>\n",
       "      <td>1.668102</td>\n",
       "      <td>0.396198</td>\n",
       "      <td>-0.040363</td>\n",
       "      <td>-0.023835</td>\n",
       "      <td>-0.039401</td>\n",
       "      <td>-0.003849</td>\n",
       "      <td>-0.041103</td>\n",
       "      <td>0.000848</td>\n",
       "      <td>-0.002127</td>\n",
       "      <td>0.059356</td>\n",
       "      <td>...</td>\n",
       "      <td>0.006193</td>\n",
       "      <td>0.009441</td>\n",
       "      <td>0.032295</td>\n",
       "      <td>0.025836</td>\n",
       "      <td>0.004757</td>\n",
       "      <td>0.025836</td>\n",
       "      <td>0.002801</td>\n",
       "      <td>0.001130</td>\n",
       "      <td>0.001013</td>\n",
       "      <td>0.006489</td>\n",
       "    </tr>\n",
       "    <tr>\n",
       "      <th>4</th>\n",
       "      <td>1.720130</td>\n",
       "      <td>0.757377</td>\n",
       "      <td>0.550393</td>\n",
       "      <td>0.091146</td>\n",
       "      <td>0.461160</td>\n",
       "      <td>0.752470</td>\n",
       "      <td>0.525827</td>\n",
       "      <td>0.042055</td>\n",
       "      <td>0.168931</td>\n",
       "      <td>1.063047</td>\n",
       "      <td>...</td>\n",
       "      <td>-0.000674</td>\n",
       "      <td>0.002067</td>\n",
       "      <td>0.003470</td>\n",
       "      <td>0.002776</td>\n",
       "      <td>0.000393</td>\n",
       "      <td>0.002776</td>\n",
       "      <td>0.000341</td>\n",
       "      <td>0.000155</td>\n",
       "      <td>0.000110</td>\n",
       "      <td>-0.003128</td>\n",
       "    </tr>\n",
       "  </tbody>\n",
       "</table>\n",
       "<p>5 rows × 17382 columns</p>\n",
       "</div>"
      ],
      "text/plain": [
       "movie_id    1         2         3         4         5         6       \\\n",
       "0        -0.027987  0.030440 -0.101219 -0.007476 -0.048354 -0.136987   \n",
       "1         1.862023  0.576335  0.029414 -0.070437  0.019996 -0.156554   \n",
       "2         1.244702  1.265484 -0.338008 -0.088859 -0.130400  0.831281   \n",
       "3         1.668102  0.396198 -0.040363 -0.023835 -0.039401 -0.003849   \n",
       "4         1.720130  0.757377  0.550393  0.091146  0.461160  0.752470   \n",
       "\n",
       "movie_id    7         8         9         10      ...    207213    207309  \\\n",
       "0        -0.092261 -0.001249 -0.060567  0.003701  ...  0.003973 -0.001923   \n",
       "1         0.171814  0.028677 -0.042392  0.514653  ... -0.009627 -0.006818   \n",
       "2        -0.473512  0.004231  0.056472  0.584227  ...  0.021815  0.007394   \n",
       "3        -0.041103  0.000848 -0.002127  0.059356  ...  0.006193  0.009441   \n",
       "4         0.525827  0.042055  0.168931  1.063047  ... -0.000674  0.002067   \n",
       "\n",
       "movie_id    207367    207405    207642    207830    207890    208080  \\\n",
       "0        -0.007428 -0.005942 -0.000895 -0.005942 -0.002204 -0.002618   \n",
       "1        -0.010006 -0.008005 -0.001471 -0.008005 -0.001502 -0.009276   \n",
       "2         0.041731  0.033385  0.003659  0.033385  0.011263  0.036425   \n",
       "3         0.032295  0.025836  0.004757  0.025836  0.002801  0.001130   \n",
       "4         0.003470  0.002776  0.000393  0.002776  0.000341  0.000155   \n",
       "\n",
       "movie_id    208737    208939  \n",
       "0         0.000412  0.001948  \n",
       "1        -0.001111 -0.007706  \n",
       "2         0.001245  0.032633  \n",
       "3         0.001013  0.006489  \n",
       "4         0.000110 -0.003128  \n",
       "\n",
       "[5 rows x 17382 columns]"
      ]
     },
     "execution_count": 369,
     "metadata": {},
     "output_type": "execute_result"
    }
   ],
   "source": [
    "svd_predictions_score_df.head()"
   ]
  },
  {
   "cell_type": "code",
   "execution_count": 370,
   "metadata": {},
   "outputs": [
    {
     "data": {
      "text/html": [
       "<div>\n",
       "<style scoped>\n",
       "    .dataframe tbody tr th:only-of-type {\n",
       "        vertical-align: middle;\n",
       "    }\n",
       "\n",
       "    .dataframe tbody tr th {\n",
       "        vertical-align: top;\n",
       "    }\n",
       "\n",
       "    .dataframe thead th {\n",
       "        text-align: right;\n",
       "    }\n",
       "</style>\n",
       "<table border=\"1\" class=\"dataframe\">\n",
       "  <thead>\n",
       "    <tr style=\"text-align: right;\">\n",
       "      <th>movie_id</th>\n",
       "      <th>1</th>\n",
       "      <th>2</th>\n",
       "      <th>3</th>\n",
       "      <th>4</th>\n",
       "      <th>5</th>\n",
       "      <th>6</th>\n",
       "      <th>7</th>\n",
       "      <th>8</th>\n",
       "      <th>9</th>\n",
       "      <th>10</th>\n",
       "      <th>...</th>\n",
       "      <th>207213</th>\n",
       "      <th>207309</th>\n",
       "      <th>207367</th>\n",
       "      <th>207405</th>\n",
       "      <th>207642</th>\n",
       "      <th>207830</th>\n",
       "      <th>207890</th>\n",
       "      <th>208080</th>\n",
       "      <th>208737</th>\n",
       "      <th>208939</th>\n",
       "    </tr>\n",
       "  </thead>\n",
       "  <tbody>\n",
       "    <tr>\n",
       "      <th>0</th>\n",
       "      <td>-0.027987</td>\n",
       "      <td>0.03044</td>\n",
       "      <td>-0.101219</td>\n",
       "      <td>-0.007476</td>\n",
       "      <td>-0.048354</td>\n",
       "      <td>-0.136987</td>\n",
       "      <td>-0.092261</td>\n",
       "      <td>-0.001249</td>\n",
       "      <td>-0.060567</td>\n",
       "      <td>0.003701</td>\n",
       "      <td>...</td>\n",
       "      <td>0.003973</td>\n",
       "      <td>-0.001923</td>\n",
       "      <td>-0.007428</td>\n",
       "      <td>-0.005942</td>\n",
       "      <td>-0.000895</td>\n",
       "      <td>-0.005942</td>\n",
       "      <td>-0.002204</td>\n",
       "      <td>-0.002618</td>\n",
       "      <td>0.000412</td>\n",
       "      <td>0.001948</td>\n",
       "    </tr>\n",
       "  </tbody>\n",
       "</table>\n",
       "<p>1 rows × 17382 columns</p>\n",
       "</div>"
      ],
      "text/plain": [
       "movie_id    1        2         3         4         5         6         7       \\\n",
       "0        -0.027987  0.03044 -0.101219 -0.007476 -0.048354 -0.136987 -0.092261   \n",
       "\n",
       "movie_id    8         9         10      ...    207213    207309    207367  \\\n",
       "0        -0.001249 -0.060567  0.003701  ...  0.003973 -0.001923 -0.007428   \n",
       "\n",
       "movie_id    207405    207642    207830    207890    208080    208737    208939  \n",
       "0        -0.005942 -0.000895 -0.005942 -0.002204 -0.002618  0.000412  0.001948  \n",
       "\n",
       "[1 rows x 17382 columns]"
      ]
     },
     "execution_count": 370,
     "metadata": {},
     "output_type": "execute_result"
    }
   ],
   "source": [
    "svd_predictions_score_df[svd_predictions_score_df.index == 0]"
   ]
  },
  {
   "cell_type": "markdown",
   "metadata": {},
   "source": [
    "Code used from https://github.com/nikitaa30/Recommender-Systems/blob/master/matrix_factorisation_svd.py\n",
    "\n",
    "Provide top-K predictions for a user"
   ]
  },
  {
   "cell_type": "code",
   "execution_count": 371,
   "metadata": {},
   "outputs": [],
   "source": [
    "def recommend_movies(preds_df, userID, movies_df, original_ratings_df, num_recommendations):\n",
    "    # Get and sort the user's predictions\n",
    "    user_row_number = userID - 1 # UserID starts at 1, not 0\n",
    "    sorted_user_predictions = preds_df.iloc[user_row_number].sort_values(ascending=False) # UserID starts at 1\n",
    "    \n",
    "    # Get the user's data and merge in the movie information.\n",
    "    user_data = original_ratings_df[original_ratings_df.userId == (userID)]\n",
    "    user_full = (user_data.merge(movies_df, how = 'left', left_on = 'movieId', right_on = 'movieId').\n",
    "                     sort_values(['rating'], ascending=False)\n",
    "                 )\n",
    "    # Recommend the highest predicted rating movies that the user hasn't seen yet.\n",
    "    recommendations = (movies_df[~movies_df['movieId'].isin(user_full['movieId'])]).merge(pd.DataFrame(sorted_user_predictions).reset_index(), how = 'left', left_on = 'movieId',\n",
    "               right_on = 'movie_id').rename(columns = {user_row_number: 'Predictions'}).sort_values('Predictions', ascending = False).iloc[:num_recommendations, :-1]\n",
    "                      \n",
    "\n",
    "    return user_full, recommendations"
   ]
  },
  {
   "cell_type": "code",
   "execution_count": 372,
   "metadata": {},
   "outputs": [
    {
     "data": {
      "text/html": [
       "<div>\n",
       "<style scoped>\n",
       "    .dataframe tbody tr th:only-of-type {\n",
       "        vertical-align: middle;\n",
       "    }\n",
       "\n",
       "    .dataframe tbody tr th {\n",
       "        vertical-align: top;\n",
       "    }\n",
       "\n",
       "    .dataframe thead th {\n",
       "        text-align: right;\n",
       "    }\n",
       "</style>\n",
       "<table border=\"1\" class=\"dataframe\">\n",
       "  <thead>\n",
       "    <tr style=\"text-align: right;\">\n",
       "      <th></th>\n",
       "      <th>userId</th>\n",
       "      <th>movieId</th>\n",
       "      <th>rating</th>\n",
       "      <th>timestamp</th>\n",
       "      <th>title</th>\n",
       "      <th>genres</th>\n",
       "    </tr>\n",
       "  </thead>\n",
       "  <tbody>\n",
       "    <tr>\n",
       "      <th>0</th>\n",
       "      <td>1</td>\n",
       "      <td>296</td>\n",
       "      <td>5.0</td>\n",
       "      <td>1147880044</td>\n",
       "      <td>Pulp Fiction (1994)</td>\n",
       "      <td>Comedy|Crime|Drama|Thriller</td>\n",
       "    </tr>\n",
       "    <tr>\n",
       "      <th>18</th>\n",
       "      <td>1</td>\n",
       "      <td>2632</td>\n",
       "      <td>5.0</td>\n",
       "      <td>1147878248</td>\n",
       "      <td>NaN</td>\n",
       "      <td>NaN</td>\n",
       "    </tr>\n",
       "    <tr>\n",
       "      <th>57</th>\n",
       "      <td>1</td>\n",
       "      <td>8327</td>\n",
       "      <td>5.0</td>\n",
       "      <td>1147879375</td>\n",
       "      <td>NaN</td>\n",
       "      <td>NaN</td>\n",
       "    </tr>\n",
       "    <tr>\n",
       "      <th>56</th>\n",
       "      <td>1</td>\n",
       "      <td>8154</td>\n",
       "      <td>5.0</td>\n",
       "      <td>1147868865</td>\n",
       "      <td>NaN</td>\n",
       "      <td>NaN</td>\n",
       "    </tr>\n",
       "    <tr>\n",
       "      <th>48</th>\n",
       "      <td>1</td>\n",
       "      <td>7361</td>\n",
       "      <td>5.0</td>\n",
       "      <td>1147880055</td>\n",
       "      <td>NaN</td>\n",
       "      <td>NaN</td>\n",
       "    </tr>\n",
       "  </tbody>\n",
       "</table>\n",
       "</div>"
      ],
      "text/plain": [
       "    userId  movieId  rating   timestamp                title  \\\n",
       "0        1      296     5.0  1147880044  Pulp Fiction (1994)   \n",
       "18       1     2632     5.0  1147878248                  NaN   \n",
       "57       1     8327     5.0  1147879375                  NaN   \n",
       "56       1     8154     5.0  1147868865                  NaN   \n",
       "48       1     7361     5.0  1147880055                  NaN   \n",
       "\n",
       "                         genres  \n",
       "0   Comedy|Crime|Drama|Thriller  \n",
       "18                          NaN  \n",
       "57                          NaN  \n",
       "56                          NaN  \n",
       "48                          NaN  "
      ]
     },
     "execution_count": 372,
     "metadata": {},
     "output_type": "execute_result"
    }
   ],
   "source": [
    "already_rated, predictions = recommend_movies(svd_predictions_score_df, 1, movies_df, ratings_df, 100)\n",
    "already_rated.head()"
   ]
  },
  {
   "cell_type": "code",
   "execution_count": 373,
   "metadata": {},
   "outputs": [
    {
     "name": "stdout",
     "output_type": "stream",
     "text": [
      "0\n"
     ]
    }
   ],
   "source": [
    "count = 0\n",
    "for i in range(len(predictions)):\n",
    "    if predictions['movieId'].values[i] in already_rated:\n",
    "        coun+=1\n",
    "print(count)"
   ]
  },
  {
   "cell_type": "code",
   "execution_count": 374,
   "metadata": {},
   "outputs": [
    {
     "data": {
      "text/html": [
       "<div>\n",
       "<style scoped>\n",
       "    .dataframe tbody tr th:only-of-type {\n",
       "        vertical-align: middle;\n",
       "    }\n",
       "\n",
       "    .dataframe tbody tr th {\n",
       "        vertical-align: top;\n",
       "    }\n",
       "\n",
       "    .dataframe thead th {\n",
       "        text-align: right;\n",
       "    }\n",
       "</style>\n",
       "<table border=\"1\" class=\"dataframe\">\n",
       "  <thead>\n",
       "    <tr style=\"text-align: right;\">\n",
       "      <th></th>\n",
       "      <th>movieId</th>\n",
       "      <th>title</th>\n",
       "      <th>genres</th>\n",
       "      <th>movie_id</th>\n",
       "    </tr>\n",
       "  </thead>\n",
       "  <tbody>\n",
       "    <tr>\n",
       "      <th>1168</th>\n",
       "      <td>1206</td>\n",
       "      <td>Clockwork Orange, A (1971)</td>\n",
       "      <td>Crime|Drama|Sci-Fi|Thriller</td>\n",
       "      <td>1206.0</td>\n",
       "    </tr>\n",
       "    <tr>\n",
       "      <th>730</th>\n",
       "      <td>750</td>\n",
       "      <td>Dr. Strangelove or: How I Learned to Stop Worr...</td>\n",
       "      <td>Comedy|War</td>\n",
       "      <td>750.0</td>\n",
       "    </tr>\n",
       "    <tr>\n",
       "      <th>1654</th>\n",
       "      <td>1732</td>\n",
       "      <td>Big Lebowski, The (1998)</td>\n",
       "      <td>Comedy|Crime</td>\n",
       "      <td>1732.0</td>\n",
       "    </tr>\n",
       "    <tr>\n",
       "      <th>758</th>\n",
       "      <td>778</td>\n",
       "      <td>Trainspotting (1996)</td>\n",
       "      <td>Comedy|Crime|Drama</td>\n",
       "      <td>778.0</td>\n",
       "    </tr>\n",
       "    <tr>\n",
       "      <th>533</th>\n",
       "      <td>541</td>\n",
       "      <td>Blade Runner (1982)</td>\n",
       "      <td>Action|Sci-Fi|Thriller</td>\n",
       "      <td>541.0</td>\n",
       "    </tr>\n",
       "  </tbody>\n",
       "</table>\n",
       "</div>"
      ],
      "text/plain": [
       "      movieId                                              title  \\\n",
       "1168     1206                         Clockwork Orange, A (1971)   \n",
       "730       750  Dr. Strangelove or: How I Learned to Stop Worr...   \n",
       "1654     1732                           Big Lebowski, The (1998)   \n",
       "758       778                               Trainspotting (1996)   \n",
       "533       541                                Blade Runner (1982)   \n",
       "\n",
       "                           genres  movie_id  \n",
       "1168  Crime|Drama|Sci-Fi|Thriller    1206.0  \n",
       "730                    Comedy|War     750.0  \n",
       "1654                 Comedy|Crime    1732.0  \n",
       "758            Comedy|Crime|Drama     778.0  \n",
       "533        Action|Sci-Fi|Thriller     541.0  "
      ]
     },
     "execution_count": 374,
     "metadata": {},
     "output_type": "execute_result"
    }
   ],
   "source": [
    "predictions.head()"
   ]
  },
  {
   "cell_type": "code",
   "execution_count": 375,
   "metadata": {},
   "outputs": [
    {
     "data": {
      "text/plain": [
       "1206"
      ]
     },
     "execution_count": 375,
     "metadata": {},
     "output_type": "execute_result"
    }
   ],
   "source": [
    "predicted_rank_svd = predictions['movieId'].values[0]\n",
    "predicted_rank_svd"
   ]
  },
  {
   "cell_type": "markdown",
   "metadata": {},
   "source": [
    "The function SVD_topK_allUsers returens a list that contains the top-K recommendations for each user."
   ]
  },
  {
   "cell_type": "code",
   "execution_count": 376,
   "metadata": {},
   "outputs": [],
   "source": [
    "def SVD_topK_allUsers():\n",
    "    allUsers_already_rated = []\n",
    "    allUsers_predictions = []\n",
    "    for i in range(1,len(num_users)+1):\n",
    "        already_rated, predictions = recommend_movies(svd_predictions_score_df, i, movies_df, ratings_df, 100)\n",
    "        allUsers_already_rated.append(already_rated)\n",
    "        allUsers_predictions.append(predictions)\n",
    "    return allUsers_predictions"
   ]
  },
  {
   "cell_type": "markdown",
   "metadata": {},
   "source": [
    "The function SVD_relevance returns a list that contains the relevance (0s and 1s) between the top-K recommendations and the movies that each user actually watched."
   ]
  },
  {
   "cell_type": "code",
   "execution_count": 377,
   "metadata": {},
   "outputs": [],
   "source": [
    "def SVD_relevance():\n",
    "    svd_topK = SVD_topK_allUsers()\n",
    "    relevance_svd_full = []\n",
    "    helper = []\n",
    "    count = 0\n",
    "    for i in range(1,len(num_users)+1):\n",
    "        for j in range(len(svd_topK[count])):\n",
    "            if svd_topK[count]['movieId'].values[j] in test_df['movie_id'][test_df['user_id'] == i].values.tolist():\n",
    "                helper.append(1)\n",
    "            else:\n",
    "                helper.append(0)\n",
    "        relevance_svd_full.append(helper)\n",
    "        helper = []\n",
    "        count += 1\n",
    "    return relevance_svd_full"
   ]
  },
  {
   "cell_type": "code",
   "execution_count": 378,
   "metadata": {},
   "outputs": [],
   "source": [
    "svd_relevance = SVD_relevance()"
   ]
  },
  {
   "cell_type": "code",
   "execution_count": 379,
   "metadata": {},
   "outputs": [
    {
     "name": "stderr",
     "output_type": "stream",
     "text": [
      "C:\\Users\\papad\\Anaconda3\\lib\\site-packages\\ipykernel_launcher.py:2: RuntimeWarning: invalid value encountered in double_scalars\n",
      "  \n"
     ]
    }
   ],
   "source": [
    "allUsers_svd_ndcg = allUsers_ndcg(svd_relevance)"
   ]
  },
  {
   "cell_type": "code",
   "execution_count": 380,
   "metadata": {},
   "outputs": [
    {
     "data": {
      "text/plain": [
       "nan"
      ]
     },
     "execution_count": 380,
     "metadata": {},
     "output_type": "execute_result"
    }
   ],
   "source": [
    "allUsers_svd_ndcg[0]"
   ]
  },
  {
   "cell_type": "markdown",
   "metadata": {},
   "source": [
    "# LightGBM Baseline"
   ]
  },
  {
   "cell_type": "markdown",
   "metadata": {},
   "source": [
    "I create 2 features, which are the scores from the Implicit and SVD models on the top-K recommendations for each user based on the implicit model."
   ]
  },
  {
   "cell_type": "code",
   "execution_count": 381,
   "metadata": {},
   "outputs": [],
   "source": [
    "target_movies = allUsers_topK_implicit\n",
    "#for i in range(len(num_users)):\n",
    "#    target_movies.append(topK_implicit(i))"
   ]
  },
  {
   "cell_type": "markdown",
   "metadata": {},
   "source": [
    "### Feature 1 (Implicit model scores)"
   ]
  },
  {
   "cell_type": "markdown",
   "metadata": {},
   "source": [
    "Map the target movies to pick the correct predictions based on the item id"
   ]
  },
  {
   "cell_type": "code",
   "execution_count": 382,
   "metadata": {},
   "outputs": [],
   "source": [
    "map_target_movies = []\n",
    "map_help = []\n",
    "for movies in target_movies:\n",
    "    for movie in movies:\n",
    "        map_help.append(iid_map[movie])\n",
    "    map_target_movies.append(map_help)\n",
    "    map_help = []"
   ]
  },
  {
   "cell_type": "markdown",
   "metadata": {},
   "source": [
    "Implicit Factorization model Scores"
   ]
  },
  {
   "cell_type": "code",
   "execution_count": 383,
   "metadata": {},
   "outputs": [],
   "source": [
    "implicit_scores = []\n",
    "feature1 = []\n",
    "for i in range(len(num_users)):\n",
    "    #for movies in map_target_movies:\n",
    "    my_list = map_target_movies[i]\n",
    "    my_array = np.array(my_list)\n",
    "    implicit_scores.append(implicit_model.predict(user_ids = i,item_ids = my_array))\n",
    "feature1.append(implicit_scores)\n",
    "implicit_scores = []"
   ]
  },
  {
   "cell_type": "code",
   "execution_count": 384,
   "metadata": {},
   "outputs": [],
   "source": [
    "feature1 = np.asarray(feature1).reshape(len(num_users),100)"
   ]
  },
  {
   "cell_type": "markdown",
   "metadata": {},
   "source": [
    "### Feature 2 (SVD scores)"
   ]
  },
  {
   "cell_type": "markdown",
   "metadata": {},
   "source": [
    "SVD model Scores. Take advantage of the DataFrame containing the scores to extract the predicted scores for the desired movies."
   ]
  },
  {
   "cell_type": "code",
   "execution_count": 385,
   "metadata": {},
   "outputs": [],
   "source": [
    "feature2 = []\n",
    "helper = []\n",
    "for i in range(len(num_users)):\n",
    "    for movie in target_movies[i]:\n",
    "        helper.append(svd_predictions_score_df[movie][i])\n",
    "    feature2.append(helper)\n",
    "    helper = []"
   ]
  },
  {
   "cell_type": "code",
   "execution_count": 386,
   "metadata": {},
   "outputs": [],
   "source": [
    "features = np.stack((feature1,feature2))"
   ]
  },
  {
   "cell_type": "markdown",
   "metadata": {},
   "source": [
    "Below are the movies that each user watched"
   ]
  },
  {
   "cell_type": "code",
   "execution_count": 387,
   "metadata": {},
   "outputs": [],
   "source": [
    "def watched_movies(df):\n",
    "    watched = []\n",
    "    for i in range(len(num_users)):\n",
    "        watched.append(df[df[\"user_id\"]==uid_rev_map.get(i)].groupby(\"movie_id\")[\"movie_id\"].count().index)  \n",
    "    return watched"
   ]
  },
  {
   "cell_type": "code",
   "execution_count": 388,
   "metadata": {},
   "outputs": [],
   "source": [
    "train_watched = watched_movies(train_df)\n",
    "test_watched = watched_movies(test_df)\n",
    "val_watched = watched_movies(val_df)"
   ]
  },
  {
   "cell_type": "markdown",
   "metadata": {},
   "source": [
    "Creation of the target list. It containes 0s and 1s for the 100 recommended movies for each user. Based on the watched movies it assigns the values. If the user watched the recommended movie, then the value of the target is equal to 1, otherwise it is 0."
   ]
  },
  {
   "cell_type": "code",
   "execution_count": 389,
   "metadata": {},
   "outputs": [],
   "source": [
    "def create_target(watched):\n",
    "    user_target = []\n",
    "    target = []\n",
    "    for i in range(len(num_users)):\n",
    "        for target_movie in target_movies[i]:\n",
    "            if target_movie in watched[i]:\n",
    "                user_target.append(1)\n",
    "            else:\n",
    "                user_target.append(0)\n",
    "        target.append(user_target)\n",
    "        user_target = []\n",
    "    return target"
   ]
  },
  {
   "cell_type": "code",
   "execution_count": 390,
   "metadata": {},
   "outputs": [],
   "source": [
    "y_train = create_target(train_watched)\n",
    "y_test = create_target(test_watched)\n",
    "y_val = create_target(val_watched)"
   ]
  },
  {
   "cell_type": "code",
   "execution_count": 391,
   "metadata": {},
   "outputs": [],
   "source": [
    "X = np.array(features)\n",
    "y_train = np.array(y_train)\n",
    "y_test = np.array(y_test)\n",
    "y_val = np.array(y_val)"
   ]
  },
  {
   "cell_type": "code",
   "execution_count": 392,
   "metadata": {},
   "outputs": [],
   "source": [
    "X = X.reshape(len(num_users)*k, 2)\n",
    "y_train = y_train.reshape(len(num_users)*k,)\n",
    "y_test = y_train.reshape(len(num_users)*k,)\n",
    "y_val = y_train.reshape(len(num_users)*k,)"
   ]
  },
  {
   "cell_type": "code",
   "execution_count": 393,
   "metadata": {},
   "outputs": [],
   "source": [
    "import lightgbm as lgb\n",
    "gbm = lgb.LGBMRanker()"
   ]
  },
  {
   "cell_type": "markdown",
   "metadata": {},
   "source": [
    "target movies\n",
    "train_df\n",
    "feature1\n",
    "feature2"
   ]
  },
  {
   "cell_type": "code",
   "execution_count": 394,
   "metadata": {},
   "outputs": [
    {
     "data": {
      "text/plain": [
       "\"X_train_feature1 = []\\nX_train_feature2 = []\\nfor j in range(610):\\n    for i in range(len(target_movies[j])):\\n        if target_movies[j][i] in val_df['movie_id'].values.tolist():\\n            X_train_feature1.append(feature1[i])\\n            X_train_feature2.append(feature2[i])\\nprint(X_train_feature1)\\nprint(X_train_feature2)\\n#X_train = np.stack(X_train_feature1,X_train_feature2)\""
      ]
     },
     "execution_count": 394,
     "metadata": {},
     "output_type": "execute_result"
    }
   ],
   "source": [
    "'''X_train_feature1 = []\n",
    "X_train_feature2 = []\n",
    "for j in range(610):\n",
    "    for i in range(len(target_movies[j])):\n",
    "        if target_movies[j][i] in val_df['movie_id'].values.tolist():\n",
    "            X_train_feature1.append(feature1[i])\n",
    "            X_train_feature2.append(feature2[i])\n",
    "print(X_train_feature1)\n",
    "print(X_train_feature2)\n",
    "#X_train = np.stack(X_train_feature1,X_train_feature2)'''"
   ]
  },
  {
   "cell_type": "markdown",
   "metadata": {},
   "source": [
    "X_train\n",
    "X_test\n",
    "X_val\n",
    "y_train\n",
    "y_test\n",
    "y_val"
   ]
  },
  {
   "cell_type": "code",
   "execution_count": 395,
   "metadata": {},
   "outputs": [],
   "source": [
    "X_train = X\n",
    "X_test = X\n",
    "X_val = X"
   ]
  },
  {
   "cell_type": "code",
   "execution_count": 396,
   "metadata": {},
   "outputs": [],
   "source": [
    "#from sklearn.model_selection import train_test_split\n",
    "#X_train, X_test, y_train, y_test = train_test_split(X, y, test_size=0.2, random_state=1)\n",
    "#X_train, X_val, y_train, y_val = train_test_split(X_train, y_train, test_size=0.2, random_state=1)"
   ]
  },
  {
   "cell_type": "code",
   "execution_count": 397,
   "metadata": {},
   "outputs": [
    {
     "name": "stdout",
     "output_type": "stream",
     "text": [
      "[510800]\n",
      "[510800]\n",
      "[510800]\n"
     ]
    }
   ],
   "source": [
    "query_train = [X_train.shape[0]]\n",
    "query_val = [X_val.shape[0]]\n",
    "query_test = [X_test.shape[0]]\n",
    "group_train = []\n",
    "group_val = []\n",
    "print(query_train)\n",
    "print(query_val)\n",
    "print(query_test)\n",
    "'''\n",
    "for i in range(390):\n",
    "    group_train.append(100)\n",
    "group_train.append(40)\n",
    "group_val.append(60)\n",
    "for i in range(97):\n",
    "    group_val.append(100)'''\n",
    "\n",
    "for i in range(len(num_users)):\n",
    "    group_train.append(k)\n",
    "    group_val.append(k)\n"
   ]
  },
  {
   "cell_type": "code",
   "execution_count": 398,
   "metadata": {},
   "outputs": [
    {
     "name": "stdout",
     "output_type": "stream",
     "text": [
      "[1]\tvalid_0's ndcg@5: 0.223837\tvalid_0's ndcg@10: 0.231351\tvalid_0's ndcg@20: 0.261716\n",
      "Training until validation scores don't improve for 50 rounds\n",
      "[2]\tvalid_0's ndcg@5: 0.222909\tvalid_0's ndcg@10: 0.230946\tvalid_0's ndcg@20: 0.261991\n",
      "[3]\tvalid_0's ndcg@5: 0.224064\tvalid_0's ndcg@10: 0.231181\tvalid_0's ndcg@20: 0.261487\n",
      "[4]\tvalid_0's ndcg@5: 0.226032\tvalid_0's ndcg@10: 0.232287\tvalid_0's ndcg@20: 0.261153\n",
      "[5]\tvalid_0's ndcg@5: 0.228273\tvalid_0's ndcg@10: 0.234153\tvalid_0's ndcg@20: 0.262158\n",
      "[6]\tvalid_0's ndcg@5: 0.227058\tvalid_0's ndcg@10: 0.233883\tvalid_0's ndcg@20: 0.26127\n",
      "[7]\tvalid_0's ndcg@5: 0.2231\tvalid_0's ndcg@10: 0.229734\tvalid_0's ndcg@20: 0.257127\n",
      "[8]\tvalid_0's ndcg@5: 0.224325\tvalid_0's ndcg@10: 0.230314\tvalid_0's ndcg@20: 0.255392\n",
      "[9]\tvalid_0's ndcg@5: 0.226897\tvalid_0's ndcg@10: 0.2324\tvalid_0's ndcg@20: 0.257587\n",
      "[10]\tvalid_0's ndcg@5: 0.226642\tvalid_0's ndcg@10: 0.232015\tvalid_0's ndcg@20: 0.257299\n",
      "[11]\tvalid_0's ndcg@5: 0.229345\tvalid_0's ndcg@10: 0.234472\tvalid_0's ndcg@20: 0.25889\n",
      "[12]\tvalid_0's ndcg@5: 0.230551\tvalid_0's ndcg@10: 0.236244\tvalid_0's ndcg@20: 0.260572\n",
      "[13]\tvalid_0's ndcg@5: 0.230821\tvalid_0's ndcg@10: 0.235945\tvalid_0's ndcg@20: 0.261191\n",
      "[14]\tvalid_0's ndcg@5: 0.232169\tvalid_0's ndcg@10: 0.237616\tvalid_0's ndcg@20: 0.262635\n",
      "[15]\tvalid_0's ndcg@5: 0.232357\tvalid_0's ndcg@10: 0.23797\tvalid_0's ndcg@20: 0.263625\n",
      "[16]\tvalid_0's ndcg@5: 0.234798\tvalid_0's ndcg@10: 0.239532\tvalid_0's ndcg@20: 0.264567\n",
      "[17]\tvalid_0's ndcg@5: 0.236092\tvalid_0's ndcg@10: 0.240412\tvalid_0's ndcg@20: 0.265507\n",
      "[18]\tvalid_0's ndcg@5: 0.237181\tvalid_0's ndcg@10: 0.24151\tvalid_0's ndcg@20: 0.266217\n",
      "[19]\tvalid_0's ndcg@5: 0.237481\tvalid_0's ndcg@10: 0.241644\tvalid_0's ndcg@20: 0.266815\n",
      "[20]\tvalid_0's ndcg@5: 0.238095\tvalid_0's ndcg@10: 0.241886\tvalid_0's ndcg@20: 0.267087\n",
      "[21]\tvalid_0's ndcg@5: 0.239645\tvalid_0's ndcg@10: 0.243059\tvalid_0's ndcg@20: 0.267767\n",
      "[22]\tvalid_0's ndcg@5: 0.239689\tvalid_0's ndcg@10: 0.243526\tvalid_0's ndcg@20: 0.26805\n",
      "[23]\tvalid_0's ndcg@5: 0.240563\tvalid_0's ndcg@10: 0.244508\tvalid_0's ndcg@20: 0.268843\n",
      "[24]\tvalid_0's ndcg@5: 0.240817\tvalid_0's ndcg@10: 0.244643\tvalid_0's ndcg@20: 0.268804\n",
      "[25]\tvalid_0's ndcg@5: 0.241951\tvalid_0's ndcg@10: 0.245513\tvalid_0's ndcg@20: 0.269631\n",
      "[26]\tvalid_0's ndcg@5: 0.243077\tvalid_0's ndcg@10: 0.246679\tvalid_0's ndcg@20: 0.270858\n",
      "[27]\tvalid_0's ndcg@5: 0.243444\tvalid_0's ndcg@10: 0.247013\tvalid_0's ndcg@20: 0.271044\n",
      "[28]\tvalid_0's ndcg@5: 0.244142\tvalid_0's ndcg@10: 0.247406\tvalid_0's ndcg@20: 0.271737\n",
      "[29]\tvalid_0's ndcg@5: 0.243729\tvalid_0's ndcg@10: 0.247301\tvalid_0's ndcg@20: 0.272\n",
      "[30]\tvalid_0's ndcg@5: 0.24401\tvalid_0's ndcg@10: 0.247683\tvalid_0's ndcg@20: 0.272389\n",
      "[31]\tvalid_0's ndcg@5: 0.24433\tvalid_0's ndcg@10: 0.248336\tvalid_0's ndcg@20: 0.273055\n",
      "[32]\tvalid_0's ndcg@5: 0.244387\tvalid_0's ndcg@10: 0.248953\tvalid_0's ndcg@20: 0.272982\n",
      "[33]\tvalid_0's ndcg@5: 0.243488\tvalid_0's ndcg@10: 0.249105\tvalid_0's ndcg@20: 0.273238\n",
      "[34]\tvalid_0's ndcg@5: 0.244899\tvalid_0's ndcg@10: 0.24982\tvalid_0's ndcg@20: 0.274235\n",
      "[35]\tvalid_0's ndcg@5: 0.245562\tvalid_0's ndcg@10: 0.250779\tvalid_0's ndcg@20: 0.27482\n",
      "[36]\tvalid_0's ndcg@5: 0.245895\tvalid_0's ndcg@10: 0.25114\tvalid_0's ndcg@20: 0.274789\n",
      "[37]\tvalid_0's ndcg@5: 0.247009\tvalid_0's ndcg@10: 0.25187\tvalid_0's ndcg@20: 0.275526\n",
      "[38]\tvalid_0's ndcg@5: 0.24726\tvalid_0's ndcg@10: 0.252354\tvalid_0's ndcg@20: 0.275823\n",
      "[39]\tvalid_0's ndcg@5: 0.247795\tvalid_0's ndcg@10: 0.25247\tvalid_0's ndcg@20: 0.276105\n",
      "[40]\tvalid_0's ndcg@5: 0.248319\tvalid_0's ndcg@10: 0.252943\tvalid_0's ndcg@20: 0.27645\n",
      "[41]\tvalid_0's ndcg@5: 0.248148\tvalid_0's ndcg@10: 0.252938\tvalid_0's ndcg@20: 0.276532\n",
      "[42]\tvalid_0's ndcg@5: 0.248467\tvalid_0's ndcg@10: 0.253101\tvalid_0's ndcg@20: 0.276806\n",
      "[43]\tvalid_0's ndcg@5: 0.248656\tvalid_0's ndcg@10: 0.253267\tvalid_0's ndcg@20: 0.277082\n",
      "[44]\tvalid_0's ndcg@5: 0.249749\tvalid_0's ndcg@10: 0.253872\tvalid_0's ndcg@20: 0.277517\n",
      "[45]\tvalid_0's ndcg@5: 0.250157\tvalid_0's ndcg@10: 0.254514\tvalid_0's ndcg@20: 0.278239\n",
      "[46]\tvalid_0's ndcg@5: 0.252474\tvalid_0's ndcg@10: 0.255672\tvalid_0's ndcg@20: 0.279998\n",
      "[47]\tvalid_0's ndcg@5: 0.253733\tvalid_0's ndcg@10: 0.255943\tvalid_0's ndcg@20: 0.280344\n",
      "[48]\tvalid_0's ndcg@5: 0.253964\tvalid_0's ndcg@10: 0.25628\tvalid_0's ndcg@20: 0.280649\n",
      "[49]\tvalid_0's ndcg@5: 0.254347\tvalid_0's ndcg@10: 0.256377\tvalid_0's ndcg@20: 0.28086\n",
      "[50]\tvalid_0's ndcg@5: 0.253783\tvalid_0's ndcg@10: 0.256217\tvalid_0's ndcg@20: 0.280354\n",
      "[51]\tvalid_0's ndcg@5: 0.253733\tvalid_0's ndcg@10: 0.256587\tvalid_0's ndcg@20: 0.280509\n",
      "[52]\tvalid_0's ndcg@5: 0.255393\tvalid_0's ndcg@10: 0.258478\tvalid_0's ndcg@20: 0.28211\n",
      "[53]\tvalid_0's ndcg@5: 0.25655\tvalid_0's ndcg@10: 0.258856\tvalid_0's ndcg@20: 0.282831\n",
      "[54]\tvalid_0's ndcg@5: 0.256057\tvalid_0's ndcg@10: 0.258713\tvalid_0's ndcg@20: 0.282946\n",
      "[55]\tvalid_0's ndcg@5: 0.256709\tvalid_0's ndcg@10: 0.259642\tvalid_0's ndcg@20: 0.283595\n",
      "[56]\tvalid_0's ndcg@5: 0.257576\tvalid_0's ndcg@10: 0.259959\tvalid_0's ndcg@20: 0.284135\n",
      "[57]\tvalid_0's ndcg@5: 0.257957\tvalid_0's ndcg@10: 0.259891\tvalid_0's ndcg@20: 0.284376\n",
      "[58]\tvalid_0's ndcg@5: 0.257823\tvalid_0's ndcg@10: 0.259785\tvalid_0's ndcg@20: 0.284326\n",
      "[59]\tvalid_0's ndcg@5: 0.258381\tvalid_0's ndcg@10: 0.260365\tvalid_0's ndcg@20: 0.285099\n",
      "[60]\tvalid_0's ndcg@5: 0.258757\tvalid_0's ndcg@10: 0.261221\tvalid_0's ndcg@20: 0.285621\n",
      "[61]\tvalid_0's ndcg@5: 0.258968\tvalid_0's ndcg@10: 0.261254\tvalid_0's ndcg@20: 0.285514\n",
      "[62]\tvalid_0's ndcg@5: 0.259069\tvalid_0's ndcg@10: 0.261636\tvalid_0's ndcg@20: 0.285709\n",
      "[63]\tvalid_0's ndcg@5: 0.259794\tvalid_0's ndcg@10: 0.262486\tvalid_0's ndcg@20: 0.286907\n",
      "[64]\tvalid_0's ndcg@5: 0.262409\tvalid_0's ndcg@10: 0.263773\tvalid_0's ndcg@20: 0.287761\n",
      "[65]\tvalid_0's ndcg@5: 0.262525\tvalid_0's ndcg@10: 0.264766\tvalid_0's ndcg@20: 0.288424\n",
      "[66]\tvalid_0's ndcg@5: 0.26285\tvalid_0's ndcg@10: 0.264943\tvalid_0's ndcg@20: 0.288772\n",
      "[67]\tvalid_0's ndcg@5: 0.262935\tvalid_0's ndcg@10: 0.264938\tvalid_0's ndcg@20: 0.28881\n",
      "[68]\tvalid_0's ndcg@5: 0.263002\tvalid_0's ndcg@10: 0.265158\tvalid_0's ndcg@20: 0.289102\n",
      "[69]\tvalid_0's ndcg@5: 0.263475\tvalid_0's ndcg@10: 0.265679\tvalid_0's ndcg@20: 0.289752\n",
      "[70]\tvalid_0's ndcg@5: 0.264118\tvalid_0's ndcg@10: 0.266108\tvalid_0's ndcg@20: 0.290188\n",
      "[71]\tvalid_0's ndcg@5: 0.263998\tvalid_0's ndcg@10: 0.266053\tvalid_0's ndcg@20: 0.290241\n",
      "[72]\tvalid_0's ndcg@5: 0.264261\tvalid_0's ndcg@10: 0.266303\tvalid_0's ndcg@20: 0.290356\n",
      "[73]\tvalid_0's ndcg@5: 0.265015\tvalid_0's ndcg@10: 0.26686\tvalid_0's ndcg@20: 0.290977\n",
      "[74]\tvalid_0's ndcg@5: 0.265259\tvalid_0's ndcg@10: 0.266897\tvalid_0's ndcg@20: 0.291084\n",
      "[75]\tvalid_0's ndcg@5: 0.265765\tvalid_0's ndcg@10: 0.266673\tvalid_0's ndcg@20: 0.291124\n",
      "[76]\tvalid_0's ndcg@5: 0.265156\tvalid_0's ndcg@10: 0.266718\tvalid_0's ndcg@20: 0.291097\n",
      "[77]\tvalid_0's ndcg@5: 0.266042\tvalid_0's ndcg@10: 0.267189\tvalid_0's ndcg@20: 0.291428\n",
      "[78]\tvalid_0's ndcg@5: 0.266279\tvalid_0's ndcg@10: 0.266974\tvalid_0's ndcg@20: 0.291426\n",
      "[79]\tvalid_0's ndcg@5: 0.266499\tvalid_0's ndcg@10: 0.267227\tvalid_0's ndcg@20: 0.291917\n",
      "[80]\tvalid_0's ndcg@5: 0.267137\tvalid_0's ndcg@10: 0.267776\tvalid_0's ndcg@20: 0.292188\n",
      "[81]\tvalid_0's ndcg@5: 0.267591\tvalid_0's ndcg@10: 0.26799\tvalid_0's ndcg@20: 0.292513\n",
      "[82]\tvalid_0's ndcg@5: 0.267461\tvalid_0's ndcg@10: 0.268263\tvalid_0's ndcg@20: 0.292365\n",
      "[83]\tvalid_0's ndcg@5: 0.26796\tvalid_0's ndcg@10: 0.268884\tvalid_0's ndcg@20: 0.292719\n",
      "[84]\tvalid_0's ndcg@5: 0.268322\tvalid_0's ndcg@10: 0.269569\tvalid_0's ndcg@20: 0.293133\n",
      "[85]\tvalid_0's ndcg@5: 0.268243\tvalid_0's ndcg@10: 0.26967\tvalid_0's ndcg@20: 0.293439\n",
      "[86]\tvalid_0's ndcg@5: 0.268909\tvalid_0's ndcg@10: 0.270287\tvalid_0's ndcg@20: 0.293754\n",
      "[87]\tvalid_0's ndcg@5: 0.269035\tvalid_0's ndcg@10: 0.270946\tvalid_0's ndcg@20: 0.294575\n",
      "[88]\tvalid_0's ndcg@5: 0.269904\tvalid_0's ndcg@10: 0.271629\tvalid_0's ndcg@20: 0.295006\n",
      "[89]\tvalid_0's ndcg@5: 0.269659\tvalid_0's ndcg@10: 0.271815\tvalid_0's ndcg@20: 0.295251\n",
      "[90]\tvalid_0's ndcg@5: 0.269859\tvalid_0's ndcg@10: 0.271911\tvalid_0's ndcg@20: 0.29526\n",
      "[91]\tvalid_0's ndcg@5: 0.26989\tvalid_0's ndcg@10: 0.272184\tvalid_0's ndcg@20: 0.295746\n",
      "[92]\tvalid_0's ndcg@5: 0.269733\tvalid_0's ndcg@10: 0.272119\tvalid_0's ndcg@20: 0.295707\n",
      "[93]\tvalid_0's ndcg@5: 0.269934\tvalid_0's ndcg@10: 0.272304\tvalid_0's ndcg@20: 0.295815\n"
     ]
    },
    {
     "name": "stdout",
     "output_type": "stream",
     "text": [
      "[94]\tvalid_0's ndcg@5: 0.270486\tvalid_0's ndcg@10: 0.272337\tvalid_0's ndcg@20: 0.296125\n",
      "[95]\tvalid_0's ndcg@5: 0.270557\tvalid_0's ndcg@10: 0.272606\tvalid_0's ndcg@20: 0.296397\n",
      "[96]\tvalid_0's ndcg@5: 0.270378\tvalid_0's ndcg@10: 0.27265\tvalid_0's ndcg@20: 0.296614\n",
      "[97]\tvalid_0's ndcg@5: 0.270732\tvalid_0's ndcg@10: 0.272948\tvalid_0's ndcg@20: 0.297184\n",
      "[98]\tvalid_0's ndcg@5: 0.270991\tvalid_0's ndcg@10: 0.273185\tvalid_0's ndcg@20: 0.297544\n",
      "[99]\tvalid_0's ndcg@5: 0.271137\tvalid_0's ndcg@10: 0.273716\tvalid_0's ndcg@20: 0.297893\n",
      "[100]\tvalid_0's ndcg@5: 0.271618\tvalid_0's ndcg@10: 0.273897\tvalid_0's ndcg@20: 0.298072\n",
      "Did not meet early stopping. Best iteration is:\n",
      "[100]\tvalid_0's ndcg@5: 0.271618\tvalid_0's ndcg@10: 0.273897\tvalid_0's ndcg@20: 0.298072\n"
     ]
    },
    {
     "data": {
      "text/plain": [
       "LGBMRanker()"
      ]
     },
     "execution_count": 398,
     "metadata": {},
     "output_type": "execute_result"
    }
   ],
   "source": [
    "gbm.fit(X_train, y_train, group=group_train,\n",
    "        eval_set=[(X_val, y_val)], eval_group=[group_val],\n",
    "        eval_at=[5, 10, 20], early_stopping_rounds=50)\n",
    "#group – Group data of training data."
   ]
  },
  {
   "cell_type": "code",
   "execution_count": 399,
   "metadata": {},
   "outputs": [],
   "source": [
    "test_pred = gbm.predict(X_test)"
   ]
  },
  {
   "cell_type": "code",
   "execution_count": 400,
   "metadata": {},
   "outputs": [
    {
     "data": {
      "text/plain": [
       "array([ 0.00294499,  0.01110706,  0.00294499, ..., -0.08624133,\n",
       "       -0.04592431, -0.17600929])"
      ]
     },
     "execution_count": 400,
     "metadata": {},
     "output_type": "execute_result"
    }
   ],
   "source": [
    "test_pred"
   ]
  },
  {
   "cell_type": "code",
   "execution_count": 426,
   "metadata": {},
   "outputs": [
    {
     "data": {
      "text/plain": [
       "510800"
      ]
     },
     "execution_count": 426,
     "metadata": {},
     "output_type": "execute_result"
    }
   ],
   "source": [
    "len(test_pred)"
   ]
  },
  {
   "cell_type": "code",
   "execution_count": 428,
   "metadata": {},
   "outputs": [],
   "source": [
    "count = 0\n",
    "lightGBM_NDCG = []\n",
    "h = 1\n",
    "for i in range(len(num_users)):\n",
    "    lightGBM_NDCG.append(NDCG_forUser(test_pred[count:k*h]))\n",
    "    count += k\n",
    "    h += 1"
   ]
  },
  {
   "cell_type": "markdown",
   "metadata": {},
   "source": [
    "# NDCG Comparison"
   ]
  },
  {
   "cell_type": "code",
   "execution_count": 429,
   "metadata": {},
   "outputs": [
    {
     "data": {
      "text/plain": [
       "5108"
      ]
     },
     "execution_count": 429,
     "metadata": {},
     "output_type": "execute_result"
    }
   ],
   "source": [
    "len(allUsers_svd_ndcg)"
   ]
  },
  {
   "cell_type": "code",
   "execution_count": 430,
   "metadata": {},
   "outputs": [],
   "source": [
    "ndcg_df = pd.DataFrame({'Implicit FM': allUsers_implicit_ndcg , 'SVD': allUsers_svd_ndcg , 'LightGBM': lightGBM_NDCG})"
   ]
  },
  {
   "cell_type": "code",
   "execution_count": 431,
   "metadata": {},
   "outputs": [
    {
     "data": {
      "text/html": [
       "<div>\n",
       "<style scoped>\n",
       "    .dataframe tbody tr th:only-of-type {\n",
       "        vertical-align: middle;\n",
       "    }\n",
       "\n",
       "    .dataframe tbody tr th {\n",
       "        vertical-align: top;\n",
       "    }\n",
       "\n",
       "    .dataframe thead th {\n",
       "        text-align: right;\n",
       "    }\n",
       "</style>\n",
       "<table border=\"1\" class=\"dataframe\">\n",
       "  <thead>\n",
       "    <tr style=\"text-align: right;\">\n",
       "      <th></th>\n",
       "      <th>Implicit FM</th>\n",
       "      <th>SVD</th>\n",
       "      <th>LightGBM</th>\n",
       "    </tr>\n",
       "  </thead>\n",
       "  <tbody>\n",
       "    <tr>\n",
       "      <th>0</th>\n",
       "      <td>0.455605</td>\n",
       "      <td>NaN</td>\n",
       "      <td>-18.292988</td>\n",
       "    </tr>\n",
       "    <tr>\n",
       "      <th>1</th>\n",
       "      <td>0.292583</td>\n",
       "      <td>NaN</td>\n",
       "      <td>-0.138789</td>\n",
       "    </tr>\n",
       "    <tr>\n",
       "      <th>2</th>\n",
       "      <td>0.417251</td>\n",
       "      <td>NaN</td>\n",
       "      <td>0.119717</td>\n",
       "    </tr>\n",
       "    <tr>\n",
       "      <th>3</th>\n",
       "      <td>0.440821</td>\n",
       "      <td>NaN</td>\n",
       "      <td>-0.066100</td>\n",
       "    </tr>\n",
       "    <tr>\n",
       "      <th>4</th>\n",
       "      <td>0.724153</td>\n",
       "      <td>NaN</td>\n",
       "      <td>-0.877637</td>\n",
       "    </tr>\n",
       "    <tr>\n",
       "      <th>...</th>\n",
       "      <td>...</td>\n",
       "      <td>...</td>\n",
       "      <td>...</td>\n",
       "    </tr>\n",
       "    <tr>\n",
       "      <th>5103</th>\n",
       "      <td>0.400460</td>\n",
       "      <td>NaN</td>\n",
       "      <td>1.550534</td>\n",
       "    </tr>\n",
       "    <tr>\n",
       "      <th>5104</th>\n",
       "      <td>0.477676</td>\n",
       "      <td>NaN</td>\n",
       "      <td>1.700830</td>\n",
       "    </tr>\n",
       "    <tr>\n",
       "      <th>5105</th>\n",
       "      <td>0.344530</td>\n",
       "      <td>NaN</td>\n",
       "      <td>1.585936</td>\n",
       "    </tr>\n",
       "    <tr>\n",
       "      <th>5106</th>\n",
       "      <td>0.445887</td>\n",
       "      <td>NaN</td>\n",
       "      <td>2.249395</td>\n",
       "    </tr>\n",
       "    <tr>\n",
       "      <th>5107</th>\n",
       "      <td>0.216287</td>\n",
       "      <td>NaN</td>\n",
       "      <td>-3.948736</td>\n",
       "    </tr>\n",
       "  </tbody>\n",
       "</table>\n",
       "<p>5108 rows × 3 columns</p>\n",
       "</div>"
      ],
      "text/plain": [
       "      Implicit FM  SVD   LightGBM\n",
       "0        0.455605  NaN -18.292988\n",
       "1        0.292583  NaN  -0.138789\n",
       "2        0.417251  NaN   0.119717\n",
       "3        0.440821  NaN  -0.066100\n",
       "4        0.724153  NaN  -0.877637\n",
       "...           ...  ...        ...\n",
       "5103     0.400460  NaN   1.550534\n",
       "5104     0.477676  NaN   1.700830\n",
       "5105     0.344530  NaN   1.585936\n",
       "5106     0.445887  NaN   2.249395\n",
       "5107     0.216287  NaN  -3.948736\n",
       "\n",
       "[5108 rows x 3 columns]"
      ]
     },
     "execution_count": 431,
     "metadata": {},
     "output_type": "execute_result"
    }
   ],
   "source": [
    "ndcg_df"
   ]
  },
  {
   "cell_type": "code",
   "execution_count": null,
   "metadata": {},
   "outputs": [],
   "source": []
  },
  {
   "cell_type": "code",
   "execution_count": null,
   "metadata": {},
   "outputs": [],
   "source": []
  },
  {
   "cell_type": "code",
   "execution_count": null,
   "metadata": {},
   "outputs": [],
   "source": []
  },
  {
   "cell_type": "code",
   "execution_count": null,
   "metadata": {},
   "outputs": [],
   "source": []
  },
  {
   "cell_type": "code",
   "execution_count": null,
   "metadata": {},
   "outputs": [],
   "source": []
  },
  {
   "cell_type": "markdown",
   "metadata": {},
   "source": [
    "# Draft"
   ]
  },
  {
   "cell_type": "code",
   "execution_count": null,
   "metadata": {},
   "outputs": [],
   "source": [
    "from sklearn.metrics import dcg_score\n",
    "true = np.asarray([actual])\n",
    "pred = np.asarray([predicted_rank_svd])\n",
    "dcg = dcg_score(true,pred)\n",
    "idcg = dcg_score(true,true)\n",
    "ndcg = dcg/idcg"
   ]
  },
  {
   "cell_type": "code",
   "execution_count": null,
   "metadata": {},
   "outputs": [],
   "source": [
    "ndcg"
   ]
  },
  {
   "cell_type": "code",
   "execution_count": null,
   "metadata": {},
   "outputs": [],
   "source": [
    "from sklearn.metrics import ndcg_score\n",
    "n = ndcg_score(true,pred)\n",
    "n"
   ]
  },
  {
   "cell_type": "code",
   "execution_count": null,
   "metadata": {},
   "outputs": [],
   "source": [
    "'''relevance = []\n",
    "for i in range(20,40):\n",
    "    if predicted_rank_svd[i] in actual:\n",
    "        relevance.append(1)\n",
    "    else:\n",
    "        relevance.append(0)'''"
   ]
  },
  {
   "cell_type": "code",
   "execution_count": 281,
   "metadata": {},
   "outputs": [],
   "source": [
    "svd_rank_allUsers = []\n",
    "for i in range(1,len(num_users)+1):\n",
    "    already_rated, predictions = recommend_movies(svd_predictions_score_df, i, movies_df, ratings_df, 100)\n",
    "    svd_rank_allUsers.append(predictions['movieId'].index.tolist()) \n"
   ]
  },
  {
   "cell_type": "code",
   "execution_count": null,
   "metadata": {},
   "outputs": [],
   "source": [
    "'''def NDCG_forUser_SVD(user):\n",
    "    return dcg(svd_predictions[svd_predictions_df.index == user]) / ideal_dcg(svd_predictions[svd_predictions_df.index == user])'''"
   ]
  },
  {
   "cell_type": "code",
   "execution_count": null,
   "metadata": {},
   "outputs": [],
   "source": [
    "'''NDCG_SVD = NDCG_forUser_SVD(2)'''"
   ]
  },
  {
   "cell_type": "code",
   "execution_count": null,
   "metadata": {},
   "outputs": [],
   "source": [
    "'''NDCG_SVD'''"
   ]
  },
  {
   "cell_type": "markdown",
   "metadata": {},
   "source": [
    "Take as features the predicted ratings for the users of SVD and Implicit for the next step?"
   ]
  },
  {
   "cell_type": "markdown",
   "metadata": {},
   "source": [
    "### Embeddings "
   ]
  },
  {
   "cell_type": "code",
   "execution_count": null,
   "metadata": {},
   "outputs": [],
   "source": [
    "emb = implicit_model._net.item_embeddings.weight[9723]\n",
    "emb = emb.tolist()\n",
    "print(len(emb))"
   ]
  },
  {
   "cell_type": "code",
   "execution_count": null,
   "metadata": {},
   "outputs": [],
   "source": [
    "#Input\n",
    "#svd_predictions_score\n",
    "#predicted_rank_svd\n",
    "#emb\n",
    "#l_rec (rank recommendations)"
   ]
  },
  {
   "cell_type": "code",
   "execution_count": null,
   "metadata": {},
   "outputs": [],
   "source": [
    "svd_predictions_score.shape\n"
   ]
  },
  {
   "cell_type": "code",
   "execution_count": null,
   "metadata": {},
   "outputs": [],
   "source": [
    "import lightgbm as lgb\n",
    "gbm = lgb.LGBMRanker()"
   ]
  },
  {
   "cell_type": "code",
   "execution_count": null,
   "metadata": {},
   "outputs": [],
   "source": [
    "from sklearn.model_selection import train_test_split"
   ]
  },
  {
   "cell_type": "code",
   "execution_count": null,
   "metadata": {},
   "outputs": [],
   "source": []
  },
  {
   "cell_type": "code",
   "execution_count": null,
   "metadata": {},
   "outputs": [],
   "source": []
  },
  {
   "cell_type": "code",
   "execution_count": null,
   "metadata": {},
   "outputs": [],
   "source": []
  },
  {
   "cell_type": "markdown",
   "metadata": {},
   "source": [
    "# KNN"
   ]
  },
  {
   "cell_type": "markdown",
   "metadata": {},
   "source": [
    "Pivot is used to have a matrix that has as rows the userIDs and as columns the movieIDs. The unrated, by a user, movies are assigned the value 0 instead of null. Pivot organizes a DataFrame by giving index and column values. It is helpful in the recommender systems approach."
   ]
  },
  {
   "cell_type": "code",
   "execution_count": null,
   "metadata": {},
   "outputs": [],
   "source": [
    "df_movie_features = ratings_df.pivot(\n",
    "    index='userId',\n",
    "    columns='movieId',\n",
    "    values='rating'\n",
    ").fillna(0)"
   ]
  },
  {
   "cell_type": "code",
   "execution_count": null,
   "metadata": {},
   "outputs": [],
   "source": [
    "df_movie_features"
   ]
  },
  {
   "cell_type": "code",
   "execution_count": null,
   "metadata": {},
   "outputs": [],
   "source": [
    "height = [len(df_movie_features.values[df_movie_features.values== 0]),len(df_movie_features.values[df_movie_features.values==0.5]),\n",
    "          len(df_movie_features.values[df_movie_features.values== 1]),len(df_movie_features.values[df_movie_features.values==1.5]),\n",
    "          len(df_movie_features.values[df_movie_features.values== 2]),len(df_movie_features.values[df_movie_features.values==2.5]),\n",
    "          len(df_movie_features.values[df_movie_features.values== 3]),len(df_movie_features.values[df_movie_features.values==3.5]),\n",
    "          len(df_movie_features.values[df_movie_features.values== 4]),len(df_movie_features.values[df_movie_features.values==4.5]),\n",
    "          len(df_movie_features.values[df_movie_features.values== 5])]\n",
    "x = ('0','0.5', '1','1.5' ,'2','2.5', '3','3.5', '4','4.5','5')\n",
    "plt.bar(x, height)\n",
    "plt.xlabel('Rating')\n",
    "plt.ylabel('Number of users')\n",
    "plt.show()\n"
   ]
  },
  {
   "cell_type": "markdown",
   "metadata": {},
   "source": [
    "A lot of ratings in the user-movie matrix are zero, so the data are extremely sparse."
   ]
  },
  {
   "cell_type": "markdown",
   "metadata": {},
   "source": [
    "To makes sesne the idea of obtaining the taste of the users, they should have rated at least 20 movies. Otherwise, the taste of them is not clear. The users that have rated less than 20 movies will be excluded. Also the movies that have less than 20 ratings will be excluded too."
   ]
  },
  {
   "cell_type": "code",
   "execution_count": null,
   "metadata": {},
   "outputs": [],
   "source": [
    "popularity_thres = 20\n",
    "popular_movies = list(set(df_movies_cnt.query('count >= @popularity_thres').index))\n",
    "df_ratings_drop_movies = df_ratings[df_ratings.movieId.isin(popular_movies)]\n",
    "print('shape of original ratings data: ', df_ratings.shape)\n",
    "print('shape of ratings data after dropping unpopular movies: ', df_ratings_drop_movies.shape)\n",
    "# filter data to come to an approximation of user likings.\n",
    "ratings_thres = 20\n",
    "active_users = list(set(df_users_cnt.query('count >= @ratings_thres').index))\n",
    "df_ratings_drop_users = df_ratings_drop_movies[df_ratings_drop_movies.userId.isin(active_users)]\n",
    "print('shape of original ratings data: ', df_ratings.shape)\n",
    "print('shape of ratings data after dropping both unpopular movies and inactive users: ', df_ratings_drop_users.shape)"
   ]
  },
  {
   "cell_type": "code",
   "execution_count": null,
   "metadata": {},
   "outputs": [],
   "source": [
    "with pd.option_context('display.max_rows', None, 'display.max_columns', None):  # more options can be specified also\n",
    "    print(ratings_df)"
   ]
  },
  {
   "cell_type": "code",
   "execution_count": null,
   "metadata": {},
   "outputs": [],
   "source": [
    "ratings_df[24400:24450]"
   ]
  },
  {
   "cell_type": "code",
   "execution_count": null,
   "metadata": {},
   "outputs": [],
   "source": []
  },
  {
   "cell_type": "code",
   "execution_count": null,
   "metadata": {},
   "outputs": [],
   "source": []
  }
 ],
 "metadata": {
  "kernelspec": {
   "display_name": "Python 3",
   "language": "python",
   "name": "python3"
  },
  "language_info": {
   "codemirror_mode": {
    "name": "ipython",
    "version": 3
   },
   "file_extension": ".py",
   "mimetype": "text/x-python",
   "name": "python",
   "nbconvert_exporter": "python",
   "pygments_lexer": "ipython3",
   "version": "3.7.7"
  }
 },
 "nbformat": 4,
 "nbformat_minor": 2
}
