{
 "cells": [
  {
   "cell_type": "code",
   "execution_count": 2,
   "metadata": {
    "ExecuteTime": {
     "end_time": "2020-07-31T16:14:44.211864Z",
     "start_time": "2020-07-31T16:14:44.202890Z"
    }
   },
   "outputs": [],
   "source": [
    "%config IPCompleter.greedy=True"
   ]
  },
  {
   "cell_type": "code",
   "execution_count": 3,
   "metadata": {
    "ExecuteTime": {
     "end_time": "2020-07-31T16:14:47.376201Z",
     "start_time": "2020-07-31T16:14:44.213859Z"
    }
   },
   "outputs": [],
   "source": [
    "import pandas as pd\n",
    "import numpy as np\n",
    "import matplotlib.pyplot as plt\n",
    "from spotlight.factorization.implicit import ImplicitFactorizationModel\n",
    "from spotlight.interactions import Interactions\n",
    "from spotlight.cross_validation import random_train_test_split"
   ]
  },
  {
   "cell_type": "code",
   "execution_count": 4,
   "metadata": {
    "ExecuteTime": {
     "end_time": "2020-07-31T16:14:47.451719Z",
     "start_time": "2020-07-31T16:14:47.377873Z"
    }
   },
   "outputs": [],
   "source": [
    "ratings_df = pd.read_csv('C:/Users/papad/Desktop/ml-latest-small/ml-latest-small/ratings.csv')\n",
    "movies_df = pd.read_csv('C:/Users/papad/Desktop/ml-latest-small/ml-latest-small/movies.csv')\n",
    "tags_df = pd.read_csv('C:/Users/papad/Desktop/ml-latest-small/ml-latest-small/tags.csv')\n",
    "links_df = pd.read_csv('C:/Users/papad/Desktop/ml-latest-small/ml-latest-small/links.csv')"
   ]
  },
  {
   "cell_type": "code",
   "execution_count": 5,
   "metadata": {
    "ExecuteTime": {
     "end_time": "2020-07-31T16:14:47.458687Z",
     "start_time": "2020-07-31T16:14:47.453670Z"
    }
   },
   "outputs": [
    {
     "data": {
      "text/plain": [
       "\"ratings_df = pd.read_csv('C:/Users/papad/Desktop/ml-25m/ml-25m/ratings.csv')\\nmovies_df = pd.read_csv('C:/Users/papad/Desktop/ml-25m/ml-25m/movies.csv')\""
      ]
     },
     "execution_count": 5,
     "metadata": {},
     "output_type": "execute_result"
    }
   ],
   "source": [
    "'''ratings_df = pd.read_csv('C:/Users/papad/Desktop/ml-25m/ml-25m/ratings.csv')\n",
    "movies_df = pd.read_csv('C:/Users/papad/Desktop/ml-25m/ml-25m/movies.csv')'''"
   ]
  },
  {
   "cell_type": "markdown",
   "metadata": {},
   "source": [
    "# Dataset"
   ]
  },
  {
   "cell_type": "code",
   "execution_count": 6,
   "metadata": {
    "ExecuteTime": {
     "end_time": "2020-07-31T16:14:47.470654Z",
     "start_time": "2020-07-31T16:14:47.459655Z"
    }
   },
   "outputs": [
    {
     "data": {
      "text/plain": [
       "'percentage = 3\\nmovies_df = movies_df.head(int(len(movies_df)*(percentage/100)))'"
      ]
     },
     "execution_count": 6,
     "metadata": {},
     "output_type": "execute_result"
    }
   ],
   "source": [
    "'''percentage = 3\n",
    "movies_df = movies_df.head(int(len(movies_df)*(percentage/100)))'''"
   ]
  },
  {
   "cell_type": "code",
   "execution_count": 7,
   "metadata": {
    "ExecuteTime": {
     "end_time": "2020-07-31T16:14:47.488610Z",
     "start_time": "2020-07-31T16:14:47.471622Z"
    }
   },
   "outputs": [
    {
     "data": {
      "text/html": [
       "<div>\n",
       "<style scoped>\n",
       "    .dataframe tbody tr th:only-of-type {\n",
       "        vertical-align: middle;\n",
       "    }\n",
       "\n",
       "    .dataframe tbody tr th {\n",
       "        vertical-align: top;\n",
       "    }\n",
       "\n",
       "    .dataframe thead th {\n",
       "        text-align: right;\n",
       "    }\n",
       "</style>\n",
       "<table border=\"1\" class=\"dataframe\">\n",
       "  <thead>\n",
       "    <tr style=\"text-align: right;\">\n",
       "      <th></th>\n",
       "      <th>movieId</th>\n",
       "      <th>title</th>\n",
       "      <th>genres</th>\n",
       "    </tr>\n",
       "  </thead>\n",
       "  <tbody>\n",
       "    <tr>\n",
       "      <th>0</th>\n",
       "      <td>1</td>\n",
       "      <td>Toy Story (1995)</td>\n",
       "      <td>Adventure|Animation|Children|Comedy|Fantasy</td>\n",
       "    </tr>\n",
       "    <tr>\n",
       "      <th>1</th>\n",
       "      <td>2</td>\n",
       "      <td>Jumanji (1995)</td>\n",
       "      <td>Adventure|Children|Fantasy</td>\n",
       "    </tr>\n",
       "    <tr>\n",
       "      <th>2</th>\n",
       "      <td>3</td>\n",
       "      <td>Grumpier Old Men (1995)</td>\n",
       "      <td>Comedy|Romance</td>\n",
       "    </tr>\n",
       "    <tr>\n",
       "      <th>3</th>\n",
       "      <td>4</td>\n",
       "      <td>Waiting to Exhale (1995)</td>\n",
       "      <td>Comedy|Drama|Romance</td>\n",
       "    </tr>\n",
       "    <tr>\n",
       "      <th>4</th>\n",
       "      <td>5</td>\n",
       "      <td>Father of the Bride Part II (1995)</td>\n",
       "      <td>Comedy</td>\n",
       "    </tr>\n",
       "    <tr>\n",
       "      <th>...</th>\n",
       "      <td>...</td>\n",
       "      <td>...</td>\n",
       "      <td>...</td>\n",
       "    </tr>\n",
       "    <tr>\n",
       "      <th>9737</th>\n",
       "      <td>193581</td>\n",
       "      <td>Black Butler: Book of the Atlantic (2017)</td>\n",
       "      <td>Action|Animation|Comedy|Fantasy</td>\n",
       "    </tr>\n",
       "    <tr>\n",
       "      <th>9738</th>\n",
       "      <td>193583</td>\n",
       "      <td>No Game No Life: Zero (2017)</td>\n",
       "      <td>Animation|Comedy|Fantasy</td>\n",
       "    </tr>\n",
       "    <tr>\n",
       "      <th>9739</th>\n",
       "      <td>193585</td>\n",
       "      <td>Flint (2017)</td>\n",
       "      <td>Drama</td>\n",
       "    </tr>\n",
       "    <tr>\n",
       "      <th>9740</th>\n",
       "      <td>193587</td>\n",
       "      <td>Bungo Stray Dogs: Dead Apple (2018)</td>\n",
       "      <td>Action|Animation</td>\n",
       "    </tr>\n",
       "    <tr>\n",
       "      <th>9741</th>\n",
       "      <td>193609</td>\n",
       "      <td>Andrew Dice Clay: Dice Rules (1991)</td>\n",
       "      <td>Comedy</td>\n",
       "    </tr>\n",
       "  </tbody>\n",
       "</table>\n",
       "<p>9742 rows × 3 columns</p>\n",
       "</div>"
      ],
      "text/plain": [
       "      movieId                                      title  \\\n",
       "0           1                           Toy Story (1995)   \n",
       "1           2                             Jumanji (1995)   \n",
       "2           3                    Grumpier Old Men (1995)   \n",
       "3           4                   Waiting to Exhale (1995)   \n",
       "4           5         Father of the Bride Part II (1995)   \n",
       "...       ...                                        ...   \n",
       "9737   193581  Black Butler: Book of the Atlantic (2017)   \n",
       "9738   193583               No Game No Life: Zero (2017)   \n",
       "9739   193585                               Flint (2017)   \n",
       "9740   193587        Bungo Stray Dogs: Dead Apple (2018)   \n",
       "9741   193609        Andrew Dice Clay: Dice Rules (1991)   \n",
       "\n",
       "                                           genres  \n",
       "0     Adventure|Animation|Children|Comedy|Fantasy  \n",
       "1                      Adventure|Children|Fantasy  \n",
       "2                                  Comedy|Romance  \n",
       "3                            Comedy|Drama|Romance  \n",
       "4                                          Comedy  \n",
       "...                                           ...  \n",
       "9737              Action|Animation|Comedy|Fantasy  \n",
       "9738                     Animation|Comedy|Fantasy  \n",
       "9739                                        Drama  \n",
       "9740                             Action|Animation  \n",
       "9741                                       Comedy  \n",
       "\n",
       "[9742 rows x 3 columns]"
      ]
     },
     "execution_count": 7,
     "metadata": {},
     "output_type": "execute_result"
    }
   ],
   "source": [
    "movies_df"
   ]
  },
  {
   "cell_type": "code",
   "execution_count": 8,
   "metadata": {
    "ExecuteTime": {
     "end_time": "2020-07-31T16:14:47.493589Z",
     "start_time": "2020-07-31T16:14:47.489576Z"
    }
   },
   "outputs": [],
   "source": [
    "#ratings_df = ratings_df.head(int(len(ratings_df)*(percentage/100)))"
   ]
  },
  {
   "cell_type": "code",
   "execution_count": 9,
   "metadata": {
    "ExecuteTime": {
     "end_time": "2020-07-31T16:14:47.507553Z",
     "start_time": "2020-07-31T16:14:47.495584Z"
    }
   },
   "outputs": [
    {
     "data": {
      "text/html": [
       "<div>\n",
       "<style scoped>\n",
       "    .dataframe tbody tr th:only-of-type {\n",
       "        vertical-align: middle;\n",
       "    }\n",
       "\n",
       "    .dataframe tbody tr th {\n",
       "        vertical-align: top;\n",
       "    }\n",
       "\n",
       "    .dataframe thead th {\n",
       "        text-align: right;\n",
       "    }\n",
       "</style>\n",
       "<table border=\"1\" class=\"dataframe\">\n",
       "  <thead>\n",
       "    <tr style=\"text-align: right;\">\n",
       "      <th></th>\n",
       "      <th>userId</th>\n",
       "      <th>movieId</th>\n",
       "      <th>rating</th>\n",
       "      <th>timestamp</th>\n",
       "    </tr>\n",
       "  </thead>\n",
       "  <tbody>\n",
       "    <tr>\n",
       "      <th>0</th>\n",
       "      <td>1</td>\n",
       "      <td>1</td>\n",
       "      <td>4.0</td>\n",
       "      <td>964982703</td>\n",
       "    </tr>\n",
       "    <tr>\n",
       "      <th>1</th>\n",
       "      <td>1</td>\n",
       "      <td>3</td>\n",
       "      <td>4.0</td>\n",
       "      <td>964981247</td>\n",
       "    </tr>\n",
       "    <tr>\n",
       "      <th>2</th>\n",
       "      <td>1</td>\n",
       "      <td>6</td>\n",
       "      <td>4.0</td>\n",
       "      <td>964982224</td>\n",
       "    </tr>\n",
       "    <tr>\n",
       "      <th>3</th>\n",
       "      <td>1</td>\n",
       "      <td>47</td>\n",
       "      <td>5.0</td>\n",
       "      <td>964983815</td>\n",
       "    </tr>\n",
       "    <tr>\n",
       "      <th>4</th>\n",
       "      <td>1</td>\n",
       "      <td>50</td>\n",
       "      <td>5.0</td>\n",
       "      <td>964982931</td>\n",
       "    </tr>\n",
       "    <tr>\n",
       "      <th>...</th>\n",
       "      <td>...</td>\n",
       "      <td>...</td>\n",
       "      <td>...</td>\n",
       "      <td>...</td>\n",
       "    </tr>\n",
       "    <tr>\n",
       "      <th>100831</th>\n",
       "      <td>610</td>\n",
       "      <td>166534</td>\n",
       "      <td>4.0</td>\n",
       "      <td>1493848402</td>\n",
       "    </tr>\n",
       "    <tr>\n",
       "      <th>100832</th>\n",
       "      <td>610</td>\n",
       "      <td>168248</td>\n",
       "      <td>5.0</td>\n",
       "      <td>1493850091</td>\n",
       "    </tr>\n",
       "    <tr>\n",
       "      <th>100833</th>\n",
       "      <td>610</td>\n",
       "      <td>168250</td>\n",
       "      <td>5.0</td>\n",
       "      <td>1494273047</td>\n",
       "    </tr>\n",
       "    <tr>\n",
       "      <th>100834</th>\n",
       "      <td>610</td>\n",
       "      <td>168252</td>\n",
       "      <td>5.0</td>\n",
       "      <td>1493846352</td>\n",
       "    </tr>\n",
       "    <tr>\n",
       "      <th>100835</th>\n",
       "      <td>610</td>\n",
       "      <td>170875</td>\n",
       "      <td>3.0</td>\n",
       "      <td>1493846415</td>\n",
       "    </tr>\n",
       "  </tbody>\n",
       "</table>\n",
       "<p>100836 rows × 4 columns</p>\n",
       "</div>"
      ],
      "text/plain": [
       "        userId  movieId  rating   timestamp\n",
       "0            1        1     4.0   964982703\n",
       "1            1        3     4.0   964981247\n",
       "2            1        6     4.0   964982224\n",
       "3            1       47     5.0   964983815\n",
       "4            1       50     5.0   964982931\n",
       "...        ...      ...     ...         ...\n",
       "100831     610   166534     4.0  1493848402\n",
       "100832     610   168248     5.0  1493850091\n",
       "100833     610   168250     5.0  1494273047\n",
       "100834     610   168252     5.0  1493846352\n",
       "100835     610   170875     3.0  1493846415\n",
       "\n",
       "[100836 rows x 4 columns]"
      ]
     },
     "execution_count": 9,
     "metadata": {},
     "output_type": "execute_result"
    }
   ],
   "source": [
    "ratings_df"
   ]
  },
  {
   "cell_type": "code",
   "execution_count": 10,
   "metadata": {
    "ExecuteTime": {
     "end_time": "2020-07-31T16:14:47.517533Z",
     "start_time": "2020-07-31T16:14:47.509521Z"
    }
   },
   "outputs": [],
   "source": [
    "#ratings_df.columns = ['userId', 'movieId', 'rating', 'timestamp']"
   ]
  },
  {
   "cell_type": "code",
   "execution_count": 11,
   "metadata": {
    "ExecuteTime": {
     "end_time": "2020-07-31T16:14:47.531496Z",
     "start_time": "2020-07-31T16:14:47.519495Z"
    }
   },
   "outputs": [
    {
     "name": "stdout",
     "output_type": "stream",
     "text": [
      "610\n",
      "9724\n"
     ]
    }
   ],
   "source": [
    "num_users = ratings_df['userId'].unique()\n",
    "print(len(num_users))\n",
    "num_items = ratings_df['movieId'].unique()\n",
    "print(len(num_items))"
   ]
  },
  {
   "cell_type": "markdown",
   "metadata": {},
   "source": [
    "# Spotlight"
   ]
  },
  {
   "cell_type": "markdown",
   "metadata": {},
   "source": [
    "## Data preperation for Spotlight"
   ]
  },
  {
   "cell_type": "markdown",
   "metadata": {},
   "source": [
    "The ids are not consecutive. For examples the id of a movies is shown multiple times. For this reason the procedure below is implemented. The reversed map is still saved to be used when needed."
   ]
  },
  {
   "cell_type": "code",
   "execution_count": 12,
   "metadata": {
    "ExecuteTime": {
     "end_time": "2020-07-31T16:14:47.602274Z",
     "start_time": "2020-07-31T16:14:47.532459Z"
    }
   },
   "outputs": [
    {
     "name": "stdout",
     "output_type": "stream",
     "text": [
      "userId 556 got uid 555\n",
      "movieId 54001 got iid 2518\n"
     ]
    }
   ],
   "source": [
    "from collections import defaultdict\n",
    "from itertools import count\n",
    "uid_map = defaultdict(count().__next__)\n",
    "iid_map = defaultdict(count().__next__)\n",
    "uids = np.array([uid_map[uid] for uid in ratings_df[\"userId\"].values ], dtype=np.int32)\n",
    "iids = np.array([iid_map[iid] for iid in ratings_df[\"movieId\"].values ], dtype=np.int32)\n",
    "\n",
    "uid_rev_map = {v: k for k, v in uid_map.items()}\n",
    "iid_rev_map = {v: k for k, v in iid_map.items()}\n",
    "\n",
    "ratings = ratings_df[\"rating\"].values.astype(np.float32)\n",
    "timestamps = ratings_df[\"timestamp\"].values.astype(np.int32)\n",
    "\n",
    "print(\"userId %d got uid %d\" % (556, uid_map[556]))\n",
    "print(\"movieId %d got iid %d\" % (54001, iid_map[54001]))"
   ]
  },
  {
   "cell_type": "code",
   "execution_count": 13,
   "metadata": {
    "ExecuteTime": {
     "end_time": "2020-07-31T16:14:47.609291Z",
     "start_time": "2020-07-31T16:14:47.604268Z"
    }
   },
   "outputs": [
    {
     "data": {
      "text/plain": [
       "610"
      ]
     },
     "execution_count": 13,
     "metadata": {},
     "output_type": "execute_result"
    }
   ],
   "source": [
    "len(uid_rev_map)"
   ]
  },
  {
   "cell_type": "markdown",
   "metadata": {},
   "source": [
    "Create the dataset variable representing the dataset prepared for use to create a recommendation systems using the Spotlight platform."
   ]
  },
  {
   "cell_type": "markdown",
   "metadata": {},
   "source": [
    "## Implicit Factorization model"
   ]
  },
  {
   "cell_type": "code",
   "execution_count": 14,
   "metadata": {
    "ExecuteTime": {
     "end_time": "2020-07-31T16:14:47.632233Z",
     "start_time": "2020-07-31T16:14:47.610251Z"
    },
    "code_folding": []
   },
   "outputs": [],
   "source": [
    "from spotlight.interactions import Interactions\n",
    "from spotlight.cross_validation import random_train_test_split\n",
    "from spotlight.factorization.implicit import ImplicitFactorizationModel\n",
    "import time  \n",
    "\n",
    "\n",
    "#pecify the ids of the users and items for all the pairs of user-item interactions\n",
    "implicit_interaction = Interactions(user_ids=uids,\n",
    "                                   item_ids=iids,\n",
    "                                   timestamps = timestamps)\n",
    "\n",
    "\n",
    "#lets initialise the seed, so that its repeatable and reproducible \n",
    "implicit_train_tmp, implicit_test = random_train_test_split(implicit_interaction, random_state=np.random.seed(42))\n",
    "implicit_train, implicit_val = random_train_test_split(implicit_train_tmp, random_state=np.random.seed(42))\n",
    "implicit_train_features, implicit_train_labels = random_train_test_split(implicit_train, random_state=np.random.seed(42))"
   ]
  },
  {
   "cell_type": "code",
   "execution_count": 15,
   "metadata": {
    "ExecuteTime": {
     "end_time": "2020-07-31T16:14:47.638177Z",
     "start_time": "2020-07-31T16:14:47.634190Z"
    }
   },
   "outputs": [
    {
     "name": "stdout",
     "output_type": "stream",
     "text": [
      "<Interactions dataset (610 users x 9724 items x 64534 interactions)>\n",
      "<Interactions dataset (610 users x 9724 items x 20168 interactions)>\n",
      "<Interactions dataset (610 users x 9724 items x 16134 interactions)>\n",
      "<Interactions dataset (610 users x 9724 items x 51627 interactions)>\n",
      "<Interactions dataset (610 users x 9724 items x 12907 interactions)>\n"
     ]
    }
   ],
   "source": [
    "print(implicit_train)\n",
    "print(implicit_test)\n",
    "print(implicit_val)\n",
    "print(implicit_train_features)\n",
    "print(implicit_train_labels)"
   ]
  },
  {
   "cell_type": "markdown",
   "metadata": {},
   "source": [
    "### Train-test split to DataFrame"
   ]
  },
  {
   "cell_type": "markdown",
   "metadata": {},
   "source": [
    "Train and test interaction datasets are converted to dataframes, in order to be used from other models too and provide consistent and fair results."
   ]
  },
  {
   "cell_type": "code",
   "execution_count": 16,
   "metadata": {
    "ExecuteTime": {
     "end_time": "2020-07-31T16:14:47.646156Z",
     "start_time": "2020-07-31T16:14:47.640173Z"
    },
    "code_folding": []
   },
   "outputs": [],
   "source": [
    "def interactionToDataFrame(dataset):\n",
    "    converted_users = []\n",
    "    converted_movies = []\n",
    "    rating = []\n",
    "    for i in range(len(dataset.user_ids)):\n",
    "        converted_users.append(uid_rev_map[dataset.user_ids[i]])\n",
    "        converted_movies.append(iid_rev_map[dataset.item_ids[i]])\n",
    "        rating.append(float(ratings_df['rating'][(ratings_df['movieId'] == converted_movies[i]) & (\n",
    "            ratings_df['userId'] == converted_users[i])].values))\n",
    "\n",
    "    df = pd.DataFrame({'user_id': converted_users,\n",
    "                       'movie_id': converted_movies, 'rating': rating})\n",
    "    return df"
   ]
  },
  {
   "cell_type": "code",
   "execution_count": 17,
   "metadata": {
    "ExecuteTime": {
     "end_time": "2020-07-31T16:17:15.354992Z",
     "start_time": "2020-07-31T16:14:47.647153Z"
    }
   },
   "outputs": [],
   "source": [
    "train_df = interactionToDataFrame(implicit_train)\n",
    "val_df = interactionToDataFrame(implicit_val)\n",
    "test_df = interactionToDataFrame(implicit_test)\n",
    "train_features_df = interactionToDataFrame(implicit_train_features)\n",
    "train_labels_df = interactionToDataFrame(implicit_train_labels)"
   ]
  },
  {
   "cell_type": "markdown",
   "metadata": {},
   "source": [
    "### Pickle "
   ]
  },
  {
   "cell_type": "markdown",
   "metadata": {},
   "source": [
    "Save"
   ]
  },
  {
   "cell_type": "code",
   "execution_count": 18,
   "metadata": {
    "ExecuteTime": {
     "end_time": "2020-07-31T16:17:15.360017Z",
     "start_time": "2020-07-31T16:17:15.355993Z"
    }
   },
   "outputs": [
    {
     "data": {
      "text/plain": [
       "'train_df.to_pickle(\"./train_df.pkl\")\\ntest_df.to_pickle(\"./test_df.pkl\")\\nval_df.to_pickle(\"./val_df.pkl\")'"
      ]
     },
     "execution_count": 18,
     "metadata": {},
     "output_type": "execute_result"
    }
   ],
   "source": [
    "'''train_df.to_pickle(\"./train_df.pkl\")\n",
    "test_df.to_pickle(\"./test_df.pkl\")\n",
    "val_df.to_pickle(\"./val_df.pkl\")'''"
   ]
  },
  {
   "cell_type": "markdown",
   "metadata": {},
   "source": [
    "Load"
   ]
  },
  {
   "cell_type": "code",
   "execution_count": 19,
   "metadata": {
    "ExecuteTime": {
     "end_time": "2020-07-31T16:17:15.377973Z",
     "start_time": "2020-07-31T16:17:15.360983Z"
    }
   },
   "outputs": [
    {
     "data": {
      "text/plain": [
       "'train_df = pd.read_pickle(\"./train_df.pkl\")\\ntest_df = pd.read_pickle(\"./test_df.pkl\")\\nval_df = pd.read_pickle(\"./val_df.pkl\")'"
      ]
     },
     "execution_count": 19,
     "metadata": {},
     "output_type": "execute_result"
    }
   ],
   "source": [
    "'''train_df = pd.read_pickle(\"./train_df.pkl\")\n",
    "test_df = pd.read_pickle(\"./test_df.pkl\")\n",
    "val_df = pd.read_pickle(\"./val_df.pkl\")'''"
   ]
  },
  {
   "cell_type": "markdown",
   "metadata": {},
   "source": [
    "### Train Implicit Factorization model "
   ]
  },
  {
   "cell_type": "code",
   "execution_count": 20,
   "metadata": {
    "ExecuteTime": {
     "end_time": "2020-07-31T16:17:47.016337Z",
     "start_time": "2020-07-31T16:17:15.378934Z"
    }
   },
   "outputs": [
    {
     "name": "stdout",
     "output_type": "stream",
     "text": [
      "Epoch 0: loss 0.7535633839401803\n",
      "Epoch 1: loss 0.446343260320279\n",
      "Epoch 2: loss 0.4027594837982193\n",
      "Epoch 3: loss 0.36152724951152276\n",
      "Epoch 4: loss 0.3278165670487249\n",
      "Training took 31 second\n"
     ]
    }
   ],
   "source": [
    "implicit_model = ImplicitFactorizationModel(n_iter=5)\n",
    "\n",
    "current = time.time()\n",
    "\n",
    "implicit_model.fit(implicit_train, verbose=True)\n",
    "\n",
    "end = time.time()\n",
    "diff = end - current\n",
    "print('Training took %d second' % (diff))"
   ]
  },
  {
   "cell_type": "markdown",
   "metadata": {},
   "source": [
    "### MRR score"
   ]
  },
  {
   "cell_type": "code",
   "execution_count": 21,
   "metadata": {
    "ExecuteTime": {
     "end_time": "2020-07-31T16:17:49.439858Z",
     "start_time": "2020-07-31T16:17:47.019330Z"
    }
   },
   "outputs": [
    {
     "name": "stdout",
     "output_type": "stream",
     "text": [
      "0.2549135749655387\n"
     ]
    }
   ],
   "source": [
    "from spotlight.evaluation import mrr_score\n",
    "print(mrr_score(implicit_model, implicit_test, train=implicit_train, k=100).mean())"
   ]
  },
  {
   "cell_type": "markdown",
   "metadata": {},
   "source": [
    "Distribution of scores for a user"
   ]
  },
  {
   "cell_type": "code",
   "execution_count": 22,
   "metadata": {
    "ExecuteTime": {
     "end_time": "2020-07-31T16:17:49.779950Z",
     "start_time": "2020-07-31T16:17:49.442850Z"
    }
   },
   "outputs": [
    {
     "data": {
      "text/plain": [
       "(array([   6.,   21.,   76.,  209.,  601., 1105., 1425., 1317.,  955.,\n",
       "         559.,  399.,  305.,  242.,  191.,  168.,  139.,  139.,  136.,\n",
       "         131.,  130.,  108.,  110.,   99.,  128.,  109.,  109.,   89.,\n",
       "         103.,   92.,  103.,   91.,   93.,   69.,   48.,   40.,   28.,\n",
       "          21.,   17.,   10.,    3.]),\n",
       " array([-11.941548  , -11.307965  , -10.674382  , -10.0408    ,\n",
       "         -9.407217  ,  -8.773634  ,  -8.140051  ,  -7.5064683 ,\n",
       "         -6.8728857 ,  -6.2393026 ,  -5.6057196 ,  -4.972137  ,\n",
       "         -4.338554  ,  -3.7049713 ,  -3.0713885 ,  -2.4378057 ,\n",
       "         -1.8042227 ,  -1.1706399 ,  -0.537057  ,   0.09652589,\n",
       "          0.73010874,   1.3636916 ,   1.9972744 ,   2.6308572 ,\n",
       "          3.26444   ,   3.8980231 ,   4.5316057 ,   5.165189  ,\n",
       "          5.7987714 ,   6.4323545 ,   7.065937  ,   7.69952   ,\n",
       "          8.333103  ,   8.966686  ,   9.600268  ,  10.233851  ,\n",
       "         10.8674345 ,  11.501018  ,  12.1346    ,  12.768183  ,\n",
       "         13.401766  ], dtype=float32),\n",
       " <a list of 40 Patch objects>)"
      ]
     },
     "execution_count": 22,
     "metadata": {},
     "output_type": "execute_result"
    },
    {
     "data": {
      "image/png": "[encoded data removed]",
      "text/plain": [
       "<Figure size 432x288 with 1 Axes>"
      ]
     },
     "metadata": {
      "needs_background": "light"
     },
     "output_type": "display_data"
    }
   ],
   "source": [
    "plt.hist(implicit_model.predict(0), color = 'blue', edgecolor = 'black',\n",
    "         bins = 40)"
   ]
  },
  {
   "cell_type": "markdown",
   "metadata": {},
   "source": [
    "Not a lot items with high score"
   ]
  },
  {
   "cell_type": "markdown",
   "metadata": {},
   "source": [
    "### Top-K predictions for a user"
   ]
  },
  {
   "cell_type": "code",
   "execution_count": 23,
   "metadata": {
    "ExecuteTime": {
     "end_time": "2020-07-31T16:17:49.796903Z",
     "start_time": "2020-07-31T16:17:49.781944Z"
    }
   },
   "outputs": [
    {
     "name": "stdout",
     "output_type": "stream",
     "text": [
      "[1, 6, 47, 50, 110, 163, 223, 231, 235, 260, 296, 316, 349, 356, 367, 457, 480, 500, 527, 552, 590, 592, 593, 608, 648, 733, 736, 780, 1073, 1097, 1136, 1197, 1210, 1240, 1265, 1517, 2028, 318, 32, 342, 357, 368, 539, 588, 595, 2762, 34, 39, 150, 153, 253, 266, 300, 344, 364, 380, 410, 589, 597, 2, 10, 11, 19, 62, 104, 112, 141, 160, 161, 165, 168, 185, 196, 208, 282, 288, 292, 293, 315, 317, 329, 337, 339, 350, 377, 440, 485, 524, 587, 586, 529, 1221, 442, 555, 173, 420, 551, 743, 788, 2124]\n"
     ]
    }
   ],
   "source": [
    "import scipy.stats as st\n",
    "k = 100\n",
    "def topK_implicit(user, model, k=100):\n",
    "  a= list()\n",
    "  ranks = st.rankdata(-model.predict(user))   \n",
    "  for iid in np.argwhere(ranks <= k):\n",
    "    #print(iid_rev_map[iid.item(0)])\n",
    "    a.append(iid_rev_map[iid.item(0)])\n",
    "  return a\n",
    "\n",
    "rec_forUser = topK_implicit(0,implicit_model)\n",
    "print(rec_forUser)"
   ]
  },
  {
   "cell_type": "markdown",
   "metadata": {},
   "source": [
    "The function below (allUsers_topK_implicit) returns a list that contains the top-K recommendations for each user."
   ]
  },
  {
   "cell_type": "code",
   "execution_count": 24,
   "metadata": {
    "ExecuteTime": {
     "end_time": "2020-07-31T16:17:49.827823Z",
     "start_time": "2020-07-31T16:17:49.804882Z"
    }
   },
   "outputs": [],
   "source": [
    "def allUsers_topK_implicit(model):\n",
    "    a = []\n",
    "    for i in range(len(num_users)):\n",
    "       a.append(topK_implicit(i,model))\n",
    "    return a"
   ]
  },
  {
   "cell_type": "code",
   "execution_count": 25,
   "metadata": {
    "ExecuteTime": {
     "end_time": "2020-07-31T16:17:49.866716Z",
     "start_time": "2020-07-31T16:17:49.831810Z"
    },
    "scrolled": true
   },
   "outputs": [
    {
     "data": {
      "text/html": [
       "<div>\n",
       "<style scoped>\n",
       "    .dataframe tbody tr th:only-of-type {\n",
       "        vertical-align: middle;\n",
       "    }\n",
       "\n",
       "    .dataframe tbody tr th {\n",
       "        vertical-align: top;\n",
       "    }\n",
       "\n",
       "    .dataframe thead th {\n",
       "        text-align: right;\n",
       "    }\n",
       "</style>\n",
       "<table border=\"1\" class=\"dataframe\">\n",
       "  <thead>\n",
       "    <tr style=\"text-align: right;\">\n",
       "      <th></th>\n",
       "      <th>movieId</th>\n",
       "      <th>title</th>\n",
       "      <th>genres</th>\n",
       "    </tr>\n",
       "  </thead>\n",
       "  <tbody>\n",
       "    <tr>\n",
       "      <th>0</th>\n",
       "      <td>1</td>\n",
       "      <td>Toy Story (1995)</td>\n",
       "      <td>Adventure|Animation|Children|Comedy|Fantasy</td>\n",
       "    </tr>\n",
       "    <tr>\n",
       "      <th>1</th>\n",
       "      <td>2</td>\n",
       "      <td>Jumanji (1995)</td>\n",
       "      <td>Adventure|Children|Fantasy</td>\n",
       "    </tr>\n",
       "    <tr>\n",
       "      <th>5</th>\n",
       "      <td>6</td>\n",
       "      <td>Heat (1995)</td>\n",
       "      <td>Action|Crime|Thriller</td>\n",
       "    </tr>\n",
       "    <tr>\n",
       "      <th>9</th>\n",
       "      <td>10</td>\n",
       "      <td>GoldenEye (1995)</td>\n",
       "      <td>Action|Adventure|Thriller</td>\n",
       "    </tr>\n",
       "    <tr>\n",
       "      <th>10</th>\n",
       "      <td>11</td>\n",
       "      <td>American President, The (1995)</td>\n",
       "      <td>Comedy|Drama|Romance</td>\n",
       "    </tr>\n",
       "    <tr>\n",
       "      <th>...</th>\n",
       "      <td>...</td>\n",
       "      <td>...</td>\n",
       "      <td>...</td>\n",
       "    </tr>\n",
       "    <tr>\n",
       "      <th>964</th>\n",
       "      <td>1265</td>\n",
       "      <td>Groundhog Day (1993)</td>\n",
       "      <td>Comedy|Fantasy|Romance</td>\n",
       "    </tr>\n",
       "    <tr>\n",
       "      <th>1154</th>\n",
       "      <td>1517</td>\n",
       "      <td>Austin Powers: International Man of Mystery (1...</td>\n",
       "      <td>Action|Adventure|Comedy</td>\n",
       "    </tr>\n",
       "    <tr>\n",
       "      <th>1503</th>\n",
       "      <td>2028</td>\n",
       "      <td>Saving Private Ryan (1998)</td>\n",
       "      <td>Action|Drama|War</td>\n",
       "    </tr>\n",
       "    <tr>\n",
       "      <th>1585</th>\n",
       "      <td>2124</td>\n",
       "      <td>Addams Family, The (1991)</td>\n",
       "      <td>Children|Comedy|Fantasy</td>\n",
       "    </tr>\n",
       "    <tr>\n",
       "      <th>2078</th>\n",
       "      <td>2762</td>\n",
       "      <td>Sixth Sense, The (1999)</td>\n",
       "      <td>Drama|Horror|Mystery</td>\n",
       "    </tr>\n",
       "  </tbody>\n",
       "</table>\n",
       "<p>100 rows × 3 columns</p>\n",
       "</div>"
      ],
      "text/plain": [
       "      movieId                                              title  \\\n",
       "0           1                                   Toy Story (1995)   \n",
       "1           2                                     Jumanji (1995)   \n",
       "5           6                                        Heat (1995)   \n",
       "9          10                                   GoldenEye (1995)   \n",
       "10         11                     American President, The (1995)   \n",
       "...       ...                                                ...   \n",
       "964      1265                               Groundhog Day (1993)   \n",
       "1154     1517  Austin Powers: International Man of Mystery (1...   \n",
       "1503     2028                         Saving Private Ryan (1998)   \n",
       "1585     2124                          Addams Family, The (1991)   \n",
       "2078     2762                            Sixth Sense, The (1999)   \n",
       "\n",
       "                                           genres  \n",
       "0     Adventure|Animation|Children|Comedy|Fantasy  \n",
       "1                      Adventure|Children|Fantasy  \n",
       "5                           Action|Crime|Thriller  \n",
       "9                       Action|Adventure|Thriller  \n",
       "10                           Comedy|Drama|Romance  \n",
       "...                                           ...  \n",
       "964                        Comedy|Fantasy|Romance  \n",
       "1154                      Action|Adventure|Comedy  \n",
       "1503                             Action|Drama|War  \n",
       "1585                      Children|Comedy|Fantasy  \n",
       "2078                         Drama|Horror|Mystery  \n",
       "\n",
       "[100 rows x 3 columns]"
      ]
     },
     "execution_count": 25,
     "metadata": {},
     "output_type": "execute_result"
    }
   ],
   "source": [
    "movies_df.loc[movies_df['movieId'].isin(rec_forUser)]"
   ]
  },
  {
   "cell_type": "code",
   "execution_count": 26,
   "metadata": {
    "ExecuteTime": {
     "end_time": "2020-07-31T16:17:49.881676Z",
     "start_time": "2020-07-31T16:17:49.869709Z"
    }
   },
   "outputs": [],
   "source": [
    "movies_pred = movies_df['movieId'][movies_df['movieId'].isin(rec_forUser)]"
   ]
  },
  {
   "cell_type": "markdown",
   "metadata": {},
   "source": [
    "### Μovies watched from a user"
   ]
  },
  {
   "cell_type": "code",
   "execution_count": 27,
   "metadata": {
    "ExecuteTime": {
     "end_time": "2020-07-31T16:17:49.923564Z",
     "start_time": "2020-07-31T16:17:49.884670Z"
    }
   },
   "outputs": [],
   "source": [
    "actual = ratings_df[ratings_df[\"userId\"]==uid_rev_map.get(0)].groupby(\"movieId\")[\"movieId\"].count().sort_values(ascending=False).head(100)"
   ]
  },
  {
   "cell_type": "code",
   "execution_count": 28,
   "metadata": {
    "ExecuteTime": {
     "end_time": "2020-07-31T16:17:49.941516Z",
     "start_time": "2020-07-31T16:17:49.926557Z"
    }
   },
   "outputs": [],
   "source": [
    "actual = actual.index.tolist()"
   ]
  },
  {
   "cell_type": "code",
   "execution_count": 29,
   "metadata": {
    "ExecuteTime": {
     "end_time": "2020-07-31T16:17:49.989389Z",
     "start_time": "2020-07-31T16:17:49.944509Z"
    },
    "scrolled": true
   },
   "outputs": [
    {
     "data": {
      "text/html": [
       "<div>\n",
       "<style scoped>\n",
       "    .dataframe tbody tr th:only-of-type {\n",
       "        vertical-align: middle;\n",
       "    }\n",
       "\n",
       "    .dataframe tbody tr th {\n",
       "        vertical-align: top;\n",
       "    }\n",
       "\n",
       "    .dataframe thead th {\n",
       "        text-align: right;\n",
       "    }\n",
       "</style>\n",
       "<table border=\"1\" class=\"dataframe\">\n",
       "  <thead>\n",
       "    <tr style=\"text-align: right;\">\n",
       "      <th></th>\n",
       "      <th>movieId</th>\n",
       "      <th>title</th>\n",
       "      <th>genres</th>\n",
       "    </tr>\n",
       "  </thead>\n",
       "  <tbody>\n",
       "    <tr>\n",
       "      <th>2</th>\n",
       "      <td>3</td>\n",
       "      <td>Grumpier Old Men (1995)</td>\n",
       "      <td>Comedy|Romance</td>\n",
       "    </tr>\n",
       "    <tr>\n",
       "      <th>5</th>\n",
       "      <td>6</td>\n",
       "      <td>Heat (1995)</td>\n",
       "      <td>Action|Crime|Thriller</td>\n",
       "    </tr>\n",
       "    <tr>\n",
       "      <th>43</th>\n",
       "      <td>47</td>\n",
       "      <td>Seven (a.k.a. Se7en) (1995)</td>\n",
       "      <td>Mystery|Thriller</td>\n",
       "    </tr>\n",
       "    <tr>\n",
       "      <th>46</th>\n",
       "      <td>50</td>\n",
       "      <td>Usual Suspects, The (1995)</td>\n",
       "      <td>Crime|Mystery|Thriller</td>\n",
       "    </tr>\n",
       "    <tr>\n",
       "      <th>62</th>\n",
       "      <td>70</td>\n",
       "      <td>From Dusk Till Dawn (1996)</td>\n",
       "      <td>Action|Comedy|Horror|Thriller</td>\n",
       "    </tr>\n",
       "    <tr>\n",
       "      <th>...</th>\n",
       "      <td>...</td>\n",
       "      <td>...</td>\n",
       "      <td>...</td>\n",
       "    </tr>\n",
       "    <tr>\n",
       "      <th>1332</th>\n",
       "      <td>1804</td>\n",
       "      <td>Newton Boys, The (1998)</td>\n",
       "      <td>Crime|Drama</td>\n",
       "    </tr>\n",
       "    <tr>\n",
       "      <th>1333</th>\n",
       "      <td>1805</td>\n",
       "      <td>Wild Things (1998)</td>\n",
       "      <td>Crime|Drama|Mystery|Thriller</td>\n",
       "    </tr>\n",
       "    <tr>\n",
       "      <th>1401</th>\n",
       "      <td>1920</td>\n",
       "      <td>Small Soldiers (1998)</td>\n",
       "      <td>Animation|Children|Fantasy|War</td>\n",
       "    </tr>\n",
       "    <tr>\n",
       "      <th>2991</th>\n",
       "      <td>4006</td>\n",
       "      <td>Transformers: The Movie (1986)</td>\n",
       "      <td>Adventure|Animation|Children|Sci-Fi</td>\n",
       "    </tr>\n",
       "    <tr>\n",
       "      <th>3673</th>\n",
       "      <td>5060</td>\n",
       "      <td>M*A*S*H (a.k.a. MASH) (1970)</td>\n",
       "      <td>Comedy|Drama|War</td>\n",
       "    </tr>\n",
       "  </tbody>\n",
       "</table>\n",
       "<p>100 rows × 3 columns</p>\n",
       "</div>"
      ],
      "text/plain": [
       "      movieId                           title  \\\n",
       "2           3         Grumpier Old Men (1995)   \n",
       "5           6                     Heat (1995)   \n",
       "43         47     Seven (a.k.a. Se7en) (1995)   \n",
       "46         50      Usual Suspects, The (1995)   \n",
       "62         70      From Dusk Till Dawn (1996)   \n",
       "...       ...                             ...   \n",
       "1332     1804         Newton Boys, The (1998)   \n",
       "1333     1805              Wild Things (1998)   \n",
       "1401     1920           Small Soldiers (1998)   \n",
       "2991     4006  Transformers: The Movie (1986)   \n",
       "3673     5060    M*A*S*H (a.k.a. MASH) (1970)   \n",
       "\n",
       "                                   genres  \n",
       "2                          Comedy|Romance  \n",
       "5                   Action|Crime|Thriller  \n",
       "43                       Mystery|Thriller  \n",
       "46                 Crime|Mystery|Thriller  \n",
       "62          Action|Comedy|Horror|Thriller  \n",
       "...                                   ...  \n",
       "1332                          Crime|Drama  \n",
       "1333         Crime|Drama|Mystery|Thriller  \n",
       "1401       Animation|Children|Fantasy|War  \n",
       "2991  Adventure|Animation|Children|Sci-Fi  \n",
       "3673                     Comedy|Drama|War  \n",
       "\n",
       "[100 rows x 3 columns]"
      ]
     },
     "execution_count": 29,
     "metadata": {},
     "output_type": "execute_result"
    }
   ],
   "source": [
    "movies_df.loc[movies_df['movieId'].isin(actual)]"
   ]
  },
  {
   "cell_type": "code",
   "execution_count": 30,
   "metadata": {
    "ExecuteTime": {
     "end_time": "2020-07-31T16:17:50.003356Z",
     "start_time": "2020-07-31T16:17:49.992381Z"
    }
   },
   "outputs": [],
   "source": [
    "movies_watched = movies_df['movieId'][movies_df['movieId'].isin(actual)]"
   ]
  },
  {
   "cell_type": "markdown",
   "metadata": {},
   "source": [
    "### NDCG Score"
   ]
  },
  {
   "cell_type": "code",
   "execution_count": 31,
   "metadata": {
    "ExecuteTime": {
     "end_time": "2020-07-31T16:17:52.752998Z",
     "start_time": "2020-07-31T16:17:50.005346Z"
    }
   },
   "outputs": [],
   "source": [
    "allUsers_topK_imp = allUsers_topK_implicit(implicit_model)"
   ]
  },
  {
   "cell_type": "code",
   "execution_count": 32,
   "metadata": {
    "ExecuteTime": {
     "end_time": "2020-07-31T16:17:52.760977Z",
     "start_time": "2020-07-31T16:17:52.754994Z"
    }
   },
   "outputs": [
    {
     "data": {
      "text/plain": [
       "True"
      ]
     },
     "execution_count": 32,
     "metadata": {},
     "output_type": "execute_result"
    }
   ],
   "source": [
    "rec_forUser == allUsers_topK_imp[0]"
   ]
  },
  {
   "cell_type": "code",
   "execution_count": 33,
   "metadata": {
    "ExecuteTime": {
     "end_time": "2020-07-31T16:17:52.870685Z",
     "start_time": "2020-07-31T16:17:52.763969Z"
    }
   },
   "outputs": [],
   "source": [
    "relevance_implicit = []\n",
    "for i in range(len(rec_forUser)):\n",
    "    if rec_forUser[i] in test_df['movie_id'][test_df['user_id'] == 1].values.tolist():\n",
    "        relevance_implicit.append(1)\n",
    "    else:\n",
    "        relevance_implicit.append(0)\n",
    "    "
   ]
  },
  {
   "cell_type": "markdown",
   "metadata": {},
   "source": [
    "Compute the relevance for each user. The relevance containes 0s and 1s based on which movies each has watched. For every recommended movie that the user has actually watched, the value of 1 is assigned. There is a relevance list for each user."
   ]
  },
  {
   "cell_type": "code",
   "execution_count": 34,
   "metadata": {
    "ExecuteTime": {
     "end_time": "2020-07-31T16:17:52.887669Z",
     "start_time": "2020-07-31T16:17:52.874674Z"
    }
   },
   "outputs": [],
   "source": [
    "def relevance_spotlight_implicit(allUsers_topK):\n",
    "    relevance_implicit_full = []\n",
    "    helper = []\n",
    "    count = 0\n",
    "    for i in range(1,len(num_users)+1):\n",
    "        for j in range(len(allUsers_topK[count])):\n",
    "            if allUsers_topK[count][j] in test_df['movie_id'][test_df['user_id'] == i].values.tolist():\n",
    "                helper.append(1)\n",
    "            else:\n",
    "                helper.append(0)\n",
    "        relevance_implicit_full.append(helper)\n",
    "        helper = []\n",
    "        count += 1\n",
    "    return relevance_implicit_full"
   ]
  },
  {
   "cell_type": "code",
   "execution_count": 35,
   "metadata": {
    "ExecuteTime": {
     "end_time": "2020-07-31T16:18:21.221827Z",
     "start_time": "2020-07-31T16:17:52.890631Z"
    }
   },
   "outputs": [],
   "source": [
    "relevance_implicit_full = relevance_spotlight_implicit(allUsers_topK_imp)"
   ]
  },
  {
   "cell_type": "code",
   "execution_count": 36,
   "metadata": {
    "ExecuteTime": {
     "end_time": "2020-07-31T16:18:21.227842Z",
     "start_time": "2020-07-31T16:18:21.224819Z"
    }
   },
   "outputs": [
    {
     "data": {
      "text/plain": [
       "True"
      ]
     },
     "execution_count": 36,
     "metadata": {},
     "output_type": "execute_result"
    }
   ],
   "source": [
    "relevance_implicit == relevance_implicit_full[0]"
   ]
  },
  {
   "cell_type": "markdown",
   "metadata": {},
   "source": [
    "The dcg and ideal_dcg functions are taken form https://github.com/lezzago/LambdaMart/blob/master/lambdamart.py. They are necessary to compute the desired NDCG evaluation metric."
   ]
  },
  {
   "cell_type": "code",
   "execution_count": 37,
   "metadata": {
    "ExecuteTime": {
     "end_time": "2020-07-31T16:18:21.241775Z",
     "start_time": "2020-07-31T16:18:21.228808Z"
    }
   },
   "outputs": [],
   "source": [
    "def dcg(scores):\n",
    "    \"\"\"\n",
    "    Returns the DCG value of the list of scores.\n",
    "    Parameters\n",
    "    ----------\n",
    "    scores : list\n",
    "        Contains labels in a certain ranked order\n",
    "\n",
    "    Returns\n",
    "    -------\n",
    "    DCG_val: int\n",
    "        This is the value of the DCG on the given scores\n",
    "    \"\"\"\n",
    "    return np.sum([\n",
    "                    (np.power(2, scores[i]) - 1) / np.log2(i + 2)\n",
    "                    for i in range(len(scores))\n",
    "                ])"
   ]
  },
  {
   "cell_type": "code",
   "execution_count": 38,
   "metadata": {
    "ExecuteTime": {
     "end_time": "2020-07-31T16:18:21.252745Z",
     "start_time": "2020-07-31T16:18:21.243768Z"
    }
   },
   "outputs": [],
   "source": [
    "def ideal_dcg(scores):\n",
    "    \"\"\"\n",
    "    Returns the Ideal DCG value of the list of scores.\n",
    "    Parameters\n",
    "    ----------\n",
    "    scores : list\n",
    "        Contains labels in a certain ranked order\n",
    "\n",
    "    Returns\n",
    "    -------\n",
    "    Ideal_DCG_val: int\n",
    "        This is the value of the Ideal DCG on the given scores\n",
    "    \"\"\"\n",
    "    scores = [score for score in sorted(scores)[::-1]]\n",
    "    return dcg(scores)"
   ]
  },
  {
   "cell_type": "code",
   "execution_count": 39,
   "metadata": {
    "ExecuteTime": {
     "end_time": "2020-07-31T16:18:21.264744Z",
     "start_time": "2020-07-31T16:18:21.255742Z"
    }
   },
   "outputs": [],
   "source": [
    "def NDCG_forUser(relevance):\n",
    "    return dcg(relevance) / ideal_dcg(relevance)"
   ]
  },
  {
   "cell_type": "code",
   "execution_count": 40,
   "metadata": {
    "ExecuteTime": {
     "end_time": "2020-07-31T16:18:21.276698Z",
     "start_time": "2020-07-31T16:18:21.266732Z"
    }
   },
   "outputs": [
    {
     "name": "stdout",
     "output_type": "stream",
     "text": [
      "0.8236762566541531\n",
      "0.8236762566541531\n"
     ]
    }
   ],
   "source": [
    "ndcg = NDCG_forUser(relevance_implicit_full[0])\n",
    "print(ndcg)\n",
    "ndcg = NDCG_forUser(relevance_implicit)\n",
    "print(ndcg)"
   ]
  },
  {
   "cell_type": "markdown",
   "metadata": {},
   "source": [
    "Creation of a list (allUsers_implicit_ndcg) that contains the NDCG score for each user."
   ]
  },
  {
   "cell_type": "code",
   "execution_count": 41,
   "metadata": {
    "ExecuteTime": {
     "end_time": "2020-07-31T16:18:21.284702Z",
     "start_time": "2020-07-31T16:18:21.277677Z"
    }
   },
   "outputs": [],
   "source": [
    "def allUsers_ndcg(relevance):\n",
    "    allUsers_implicit_ndcg = []\n",
    "    for i in range(len(num_users)):\n",
    "        allUsers_implicit_ndcg.append(NDCG_forUser(relevance[i]))\n",
    "    return allUsers_implicit_ndcg"
   ]
  },
  {
   "cell_type": "code",
   "execution_count": 42,
   "metadata": {
    "ExecuteTime": {
     "end_time": "2020-07-31T16:18:22.098483Z",
     "start_time": "2020-07-31T16:18:21.287652Z"
    }
   },
   "outputs": [
    {
     "name": "stderr",
     "output_type": "stream",
     "text": [
      "C:\\Users\\papad\\Anaconda3\\lib\\site-packages\\ipykernel_launcher.py:2: RuntimeWarning: invalid value encountered in double_scalars\n",
      "  \n"
     ]
    }
   ],
   "source": [
    "allUsers_implicit_ndcg = allUsers_ndcg(relevance_implicit_full)"
   ]
  },
  {
   "cell_type": "markdown",
   "metadata": {},
   "source": [
    "Fill the nan values with 0s."
   ]
  },
  {
   "cell_type": "code",
   "execution_count": 43,
   "metadata": {
    "ExecuteTime": {
     "end_time": "2020-07-31T16:18:22.105466Z",
     "start_time": "2020-07-31T16:18:22.099481Z"
    }
   },
   "outputs": [],
   "source": [
    "allUsers_implicit_ndcg = pd.Series(allUsers_implicit_ndcg).fillna(0).tolist()"
   ]
  },
  {
   "cell_type": "markdown",
   "metadata": {},
   "source": [
    "## Implicit Sequence model"
   ]
  },
  {
   "cell_type": "code",
   "execution_count": 44,
   "metadata": {
    "ExecuteTime": {
     "end_time": "2020-07-31T16:18:22.119466Z",
     "start_time": "2020-07-31T16:18:22.106461Z"
    }
   },
   "outputs": [],
   "source": [
    "from spotlight.sequence.implicit import ImplicitSequenceModel\n",
    "from spotlight.evaluation import sequence_mrr_score\n",
    "from spotlight.sequence.implicit import ImplicitSequenceModel"
   ]
  },
  {
   "cell_type": "markdown",
   "metadata": {},
   "source": [
    "### Train Implicit Sequence model"
   ]
  },
  {
   "cell_type": "code",
   "execution_count": 46,
   "metadata": {
    "ExecuteTime": {
     "end_time": "2020-07-31T16:20:01.881463Z",
     "start_time": "2020-07-31T16:20:01.876476Z"
    }
   },
   "outputs": [
    {
     "data": {
      "text/plain": [
       "\"sequence_model  = ImplicitSequenceModel(n_iter = 5)\\n\\ncurrent = time.time()\\nsequence_model.fit(interactions = implicit_train.to_sequence(),verbose = True)\\n\\nend = time.time()\\ndiff = end - current\\nprint('Training took %d second'%(diff))\""
      ]
     },
     "execution_count": 46,
     "metadata": {},
     "output_type": "execute_result"
    }
   ],
   "source": [
    "'''sequence_model  = ImplicitSequenceModel(n_iter = 5)\n",
    "\n",
    "current = time.time()\n",
    "sequence_model.fit(interactions = implicit_train.to_sequence(),verbose = True)\n",
    "\n",
    "end = time.time()\n",
    "diff = end - current\n",
    "print('Training took %d second'%(diff))'''"
   ]
  },
  {
   "cell_type": "code",
   "execution_count": 47,
   "metadata": {
    "ExecuteTime": {
     "end_time": "2020-07-31T16:20:02.142767Z",
     "start_time": "2020-07-31T16:20:02.139805Z"
    }
   },
   "outputs": [],
   "source": [
    "#sequence_model.predict(sequences = 9724)"
   ]
  },
  {
   "cell_type": "markdown",
   "metadata": {},
   "source": [
    "### MRR Score"
   ]
  },
  {
   "cell_type": "code",
   "execution_count": 48,
   "metadata": {
    "ExecuteTime": {
     "end_time": "2020-07-31T16:20:02.499702Z",
     "start_time": "2020-07-31T16:20:02.497659Z"
    }
   },
   "outputs": [],
   "source": [
    "#print(sequence_mrr_score(sequence_model, implicit_test.to_sequence()).mean())"
   ]
  },
  {
   "cell_type": "markdown",
   "metadata": {},
   "source": [
    "### Top-K predictions for a user"
   ]
  },
  {
   "cell_type": "code",
   "execution_count": 49,
   "metadata": {
    "ExecuteTime": {
     "end_time": "2020-07-31T16:20:02.828912Z",
     "start_time": "2020-07-31T16:20:02.824913Z"
    }
   },
   "outputs": [],
   "source": [
    "#allUsers_topK_sequence = allUsers_topK_implicit(sequence_model)"
   ]
  },
  {
   "cell_type": "markdown",
   "metadata": {},
   "source": [
    "### NDCG Score"
   ]
  },
  {
   "cell_type": "code",
   "execution_count": 50,
   "metadata": {
    "ExecuteTime": {
     "end_time": "2020-07-31T16:20:03.141069Z",
     "start_time": "2020-07-31T16:20:03.138076Z"
    }
   },
   "outputs": [],
   "source": [
    "#relevance_sequence_full = relevance_spotlight_implicit(allUsers_topK_sequence)"
   ]
  },
  {
   "cell_type": "code",
   "execution_count": 51,
   "metadata": {
    "ExecuteTime": {
     "end_time": "2020-07-31T16:20:03.408359Z",
     "start_time": "2020-07-31T16:20:03.405361Z"
    }
   },
   "outputs": [],
   "source": [
    "#allUsers_sequence_ndcg = allUsers_ndcg(relevance_sequence_full)"
   ]
  },
  {
   "cell_type": "code",
   "execution_count": 52,
   "metadata": {
    "ExecuteTime": {
     "end_time": "2020-07-31T16:20:03.623814Z",
     "start_time": "2020-07-31T16:20:03.621788Z"
    }
   },
   "outputs": [],
   "source": [
    "#allUsers_sequence_ndcg = pd.Series(allUsers_sequence_ndcg).fillna(0).tolist()"
   ]
  },
  {
   "cell_type": "markdown",
   "metadata": {},
   "source": [
    "# SVD"
   ]
  },
  {
   "cell_type": "markdown",
   "metadata": {},
   "source": [
    "Pivot is used to have a matrix that has as rows the userIDs and as columns the movieIDs. The unrated, by a user, movies are assigned the value 0 instead of null. Pivot organizes a DataFrame by giving index and column values. It is helpful in the recommender systems approach."
   ]
  },
  {
   "cell_type": "code",
   "execution_count": 53,
   "metadata": {
    "ExecuteTime": {
     "end_time": "2020-07-31T16:20:04.170938Z",
     "start_time": "2020-07-31T16:20:04.062231Z"
    }
   },
   "outputs": [],
   "source": [
    "df_movie_features = train_df.pivot(\n",
    "    index='user_id',\n",
    "    columns='movie_id',\n",
    "    values='rating'\n",
    ").fillna(0)"
   ]
  },
  {
   "cell_type": "code",
   "execution_count": 54,
   "metadata": {
    "ExecuteTime": {
     "end_time": "2020-07-31T16:20:04.745402Z",
     "start_time": "2020-07-31T16:20:04.717478Z"
    }
   },
   "outputs": [
    {
     "data": {
      "text/html": [
       "<div>\n",
       "<style scoped>\n",
       "    .dataframe tbody tr th:only-of-type {\n",
       "        vertical-align: middle;\n",
       "    }\n",
       "\n",
       "    .dataframe tbody tr th {\n",
       "        vertical-align: top;\n",
       "    }\n",
       "\n",
       "    .dataframe thead th {\n",
       "        text-align: right;\n",
       "    }\n",
       "</style>\n",
       "<table border=\"1\" class=\"dataframe\">\n",
       "  <thead>\n",
       "    <tr style=\"text-align: right;\">\n",
       "      <th>movie_id</th>\n",
       "      <th>1</th>\n",
       "      <th>2</th>\n",
       "      <th>3</th>\n",
       "      <th>4</th>\n",
       "      <th>5</th>\n",
       "      <th>6</th>\n",
       "      <th>7</th>\n",
       "      <th>8</th>\n",
       "      <th>9</th>\n",
       "      <th>10</th>\n",
       "      <th>...</th>\n",
       "      <th>190209</th>\n",
       "      <th>190219</th>\n",
       "      <th>190221</th>\n",
       "      <th>193565</th>\n",
       "      <th>193567</th>\n",
       "      <th>193571</th>\n",
       "      <th>193581</th>\n",
       "      <th>193583</th>\n",
       "      <th>193585</th>\n",
       "      <th>193587</th>\n",
       "    </tr>\n",
       "    <tr>\n",
       "      <th>user_id</th>\n",
       "      <th></th>\n",
       "      <th></th>\n",
       "      <th></th>\n",
       "      <th></th>\n",
       "      <th></th>\n",
       "      <th></th>\n",
       "      <th></th>\n",
       "      <th></th>\n",
       "      <th></th>\n",
       "      <th></th>\n",
       "      <th></th>\n",
       "      <th></th>\n",
       "      <th></th>\n",
       "      <th></th>\n",
       "      <th></th>\n",
       "      <th></th>\n",
       "      <th></th>\n",
       "      <th></th>\n",
       "      <th></th>\n",
       "      <th></th>\n",
       "      <th></th>\n",
       "    </tr>\n",
       "  </thead>\n",
       "  <tbody>\n",
       "    <tr>\n",
       "      <th>1</th>\n",
       "      <td>0.0</td>\n",
       "      <td>0.0</td>\n",
       "      <td>0.0</td>\n",
       "      <td>0.0</td>\n",
       "      <td>0.0</td>\n",
       "      <td>0.0</td>\n",
       "      <td>0.0</td>\n",
       "      <td>0.0</td>\n",
       "      <td>0.0</td>\n",
       "      <td>0.0</td>\n",
       "      <td>...</td>\n",
       "      <td>0.0</td>\n",
       "      <td>0.0</td>\n",
       "      <td>0.0</td>\n",
       "      <td>0.0</td>\n",
       "      <td>0.0</td>\n",
       "      <td>0.0</td>\n",
       "      <td>0.0</td>\n",
       "      <td>0.0</td>\n",
       "      <td>0.0</td>\n",
       "      <td>0.0</td>\n",
       "    </tr>\n",
       "    <tr>\n",
       "      <th>2</th>\n",
       "      <td>0.0</td>\n",
       "      <td>0.0</td>\n",
       "      <td>0.0</td>\n",
       "      <td>0.0</td>\n",
       "      <td>0.0</td>\n",
       "      <td>0.0</td>\n",
       "      <td>0.0</td>\n",
       "      <td>0.0</td>\n",
       "      <td>0.0</td>\n",
       "      <td>0.0</td>\n",
       "      <td>...</td>\n",
       "      <td>0.0</td>\n",
       "      <td>0.0</td>\n",
       "      <td>0.0</td>\n",
       "      <td>0.0</td>\n",
       "      <td>0.0</td>\n",
       "      <td>0.0</td>\n",
       "      <td>0.0</td>\n",
       "      <td>0.0</td>\n",
       "      <td>0.0</td>\n",
       "      <td>0.0</td>\n",
       "    </tr>\n",
       "    <tr>\n",
       "      <th>3</th>\n",
       "      <td>0.0</td>\n",
       "      <td>0.0</td>\n",
       "      <td>0.0</td>\n",
       "      <td>0.0</td>\n",
       "      <td>0.0</td>\n",
       "      <td>0.0</td>\n",
       "      <td>0.0</td>\n",
       "      <td>0.0</td>\n",
       "      <td>0.0</td>\n",
       "      <td>0.0</td>\n",
       "      <td>...</td>\n",
       "      <td>0.0</td>\n",
       "      <td>0.0</td>\n",
       "      <td>0.0</td>\n",
       "      <td>0.0</td>\n",
       "      <td>0.0</td>\n",
       "      <td>0.0</td>\n",
       "      <td>0.0</td>\n",
       "      <td>0.0</td>\n",
       "      <td>0.0</td>\n",
       "      <td>0.0</td>\n",
       "    </tr>\n",
       "    <tr>\n",
       "      <th>4</th>\n",
       "      <td>0.0</td>\n",
       "      <td>0.0</td>\n",
       "      <td>0.0</td>\n",
       "      <td>0.0</td>\n",
       "      <td>0.0</td>\n",
       "      <td>0.0</td>\n",
       "      <td>0.0</td>\n",
       "      <td>0.0</td>\n",
       "      <td>0.0</td>\n",
       "      <td>0.0</td>\n",
       "      <td>...</td>\n",
       "      <td>0.0</td>\n",
       "      <td>0.0</td>\n",
       "      <td>0.0</td>\n",
       "      <td>0.0</td>\n",
       "      <td>0.0</td>\n",
       "      <td>0.0</td>\n",
       "      <td>0.0</td>\n",
       "      <td>0.0</td>\n",
       "      <td>0.0</td>\n",
       "      <td>0.0</td>\n",
       "    </tr>\n",
       "    <tr>\n",
       "      <th>5</th>\n",
       "      <td>0.0</td>\n",
       "      <td>0.0</td>\n",
       "      <td>0.0</td>\n",
       "      <td>0.0</td>\n",
       "      <td>0.0</td>\n",
       "      <td>0.0</td>\n",
       "      <td>0.0</td>\n",
       "      <td>0.0</td>\n",
       "      <td>0.0</td>\n",
       "      <td>0.0</td>\n",
       "      <td>...</td>\n",
       "      <td>0.0</td>\n",
       "      <td>0.0</td>\n",
       "      <td>0.0</td>\n",
       "      <td>0.0</td>\n",
       "      <td>0.0</td>\n",
       "      <td>0.0</td>\n",
       "      <td>0.0</td>\n",
       "      <td>0.0</td>\n",
       "      <td>0.0</td>\n",
       "      <td>0.0</td>\n",
       "    </tr>\n",
       "    <tr>\n",
       "      <th>...</th>\n",
       "      <td>...</td>\n",
       "      <td>...</td>\n",
       "      <td>...</td>\n",
       "      <td>...</td>\n",
       "      <td>...</td>\n",
       "      <td>...</td>\n",
       "      <td>...</td>\n",
       "      <td>...</td>\n",
       "      <td>...</td>\n",
       "      <td>...</td>\n",
       "      <td>...</td>\n",
       "      <td>...</td>\n",
       "      <td>...</td>\n",
       "      <td>...</td>\n",
       "      <td>...</td>\n",
       "      <td>...</td>\n",
       "      <td>...</td>\n",
       "      <td>...</td>\n",
       "      <td>...</td>\n",
       "      <td>...</td>\n",
       "      <td>...</td>\n",
       "    </tr>\n",
       "    <tr>\n",
       "      <th>606</th>\n",
       "      <td>0.0</td>\n",
       "      <td>0.0</td>\n",
       "      <td>0.0</td>\n",
       "      <td>0.0</td>\n",
       "      <td>0.0</td>\n",
       "      <td>0.0</td>\n",
       "      <td>2.5</td>\n",
       "      <td>0.0</td>\n",
       "      <td>0.0</td>\n",
       "      <td>0.0</td>\n",
       "      <td>...</td>\n",
       "      <td>0.0</td>\n",
       "      <td>0.0</td>\n",
       "      <td>0.0</td>\n",
       "      <td>0.0</td>\n",
       "      <td>0.0</td>\n",
       "      <td>0.0</td>\n",
       "      <td>0.0</td>\n",
       "      <td>0.0</td>\n",
       "      <td>0.0</td>\n",
       "      <td>0.0</td>\n",
       "    </tr>\n",
       "    <tr>\n",
       "      <th>607</th>\n",
       "      <td>4.0</td>\n",
       "      <td>0.0</td>\n",
       "      <td>0.0</td>\n",
       "      <td>0.0</td>\n",
       "      <td>0.0</td>\n",
       "      <td>0.0</td>\n",
       "      <td>0.0</td>\n",
       "      <td>0.0</td>\n",
       "      <td>0.0</td>\n",
       "      <td>0.0</td>\n",
       "      <td>...</td>\n",
       "      <td>0.0</td>\n",
       "      <td>0.0</td>\n",
       "      <td>0.0</td>\n",
       "      <td>0.0</td>\n",
       "      <td>0.0</td>\n",
       "      <td>0.0</td>\n",
       "      <td>0.0</td>\n",
       "      <td>0.0</td>\n",
       "      <td>0.0</td>\n",
       "      <td>0.0</td>\n",
       "    </tr>\n",
       "    <tr>\n",
       "      <th>608</th>\n",
       "      <td>2.5</td>\n",
       "      <td>0.0</td>\n",
       "      <td>0.0</td>\n",
       "      <td>0.0</td>\n",
       "      <td>0.0</td>\n",
       "      <td>0.0</td>\n",
       "      <td>0.0</td>\n",
       "      <td>0.0</td>\n",
       "      <td>0.0</td>\n",
       "      <td>4.0</td>\n",
       "      <td>...</td>\n",
       "      <td>0.0</td>\n",
       "      <td>0.0</td>\n",
       "      <td>0.0</td>\n",
       "      <td>0.0</td>\n",
       "      <td>0.0</td>\n",
       "      <td>0.0</td>\n",
       "      <td>0.0</td>\n",
       "      <td>0.0</td>\n",
       "      <td>0.0</td>\n",
       "      <td>0.0</td>\n",
       "    </tr>\n",
       "    <tr>\n",
       "      <th>609</th>\n",
       "      <td>3.0</td>\n",
       "      <td>0.0</td>\n",
       "      <td>0.0</td>\n",
       "      <td>0.0</td>\n",
       "      <td>0.0</td>\n",
       "      <td>0.0</td>\n",
       "      <td>0.0</td>\n",
       "      <td>0.0</td>\n",
       "      <td>0.0</td>\n",
       "      <td>4.0</td>\n",
       "      <td>...</td>\n",
       "      <td>0.0</td>\n",
       "      <td>0.0</td>\n",
       "      <td>0.0</td>\n",
       "      <td>0.0</td>\n",
       "      <td>0.0</td>\n",
       "      <td>0.0</td>\n",
       "      <td>0.0</td>\n",
       "      <td>0.0</td>\n",
       "      <td>0.0</td>\n",
       "      <td>0.0</td>\n",
       "    </tr>\n",
       "    <tr>\n",
       "      <th>610</th>\n",
       "      <td>5.0</td>\n",
       "      <td>0.0</td>\n",
       "      <td>0.0</td>\n",
       "      <td>0.0</td>\n",
       "      <td>0.0</td>\n",
       "      <td>0.0</td>\n",
       "      <td>0.0</td>\n",
       "      <td>0.0</td>\n",
       "      <td>0.0</td>\n",
       "      <td>0.0</td>\n",
       "      <td>...</td>\n",
       "      <td>0.0</td>\n",
       "      <td>0.0</td>\n",
       "      <td>0.0</td>\n",
       "      <td>0.0</td>\n",
       "      <td>0.0</td>\n",
       "      <td>0.0</td>\n",
       "      <td>0.0</td>\n",
       "      <td>0.0</td>\n",
       "      <td>0.0</td>\n",
       "      <td>0.0</td>\n",
       "    </tr>\n",
       "  </tbody>\n",
       "</table>\n",
       "<p>610 rows × 8217 columns</p>\n",
       "</div>"
      ],
      "text/plain": [
       "movie_id  1       2       3       4       5       6       7       8       \\\n",
       "user_id                                                                    \n",
       "1            0.0     0.0     0.0     0.0     0.0     0.0     0.0     0.0   \n",
       "2            0.0     0.0     0.0     0.0     0.0     0.0     0.0     0.0   \n",
       "3            0.0     0.0     0.0     0.0     0.0     0.0     0.0     0.0   \n",
       "4            0.0     0.0     0.0     0.0     0.0     0.0     0.0     0.0   \n",
       "5            0.0     0.0     0.0     0.0     0.0     0.0     0.0     0.0   \n",
       "...          ...     ...     ...     ...     ...     ...     ...     ...   \n",
       "606          0.0     0.0     0.0     0.0     0.0     0.0     2.5     0.0   \n",
       "607          4.0     0.0     0.0     0.0     0.0     0.0     0.0     0.0   \n",
       "608          2.5     0.0     0.0     0.0     0.0     0.0     0.0     0.0   \n",
       "609          3.0     0.0     0.0     0.0     0.0     0.0     0.0     0.0   \n",
       "610          5.0     0.0     0.0     0.0     0.0     0.0     0.0     0.0   \n",
       "\n",
       "movie_id  9       10      ...  190209  190219  190221  193565  193567  193571  \\\n",
       "user_id                   ...                                                   \n",
       "1            0.0     0.0  ...     0.0     0.0     0.0     0.0     0.0     0.0   \n",
       "2            0.0     0.0  ...     0.0     0.0     0.0     0.0     0.0     0.0   \n",
       "3            0.0     0.0  ...     0.0     0.0     0.0     0.0     0.0     0.0   \n",
       "4            0.0     0.0  ...     0.0     0.0     0.0     0.0     0.0     0.0   \n",
       "5            0.0     0.0  ...     0.0     0.0     0.0     0.0     0.0     0.0   \n",
       "...          ...     ...  ...     ...     ...     ...     ...     ...     ...   \n",
       "606          0.0     0.0  ...     0.0     0.0     0.0     0.0     0.0     0.0   \n",
       "607          0.0     0.0  ...     0.0     0.0     0.0     0.0     0.0     0.0   \n",
       "608          0.0     4.0  ...     0.0     0.0     0.0     0.0     0.0     0.0   \n",
       "609          0.0     4.0  ...     0.0     0.0     0.0     0.0     0.0     0.0   \n",
       "610          0.0     0.0  ...     0.0     0.0     0.0     0.0     0.0     0.0   \n",
       "\n",
       "movie_id  193581  193583  193585  193587  \n",
       "user_id                                   \n",
       "1            0.0     0.0     0.0     0.0  \n",
       "2            0.0     0.0     0.0     0.0  \n",
       "3            0.0     0.0     0.0     0.0  \n",
       "4            0.0     0.0     0.0     0.0  \n",
       "5            0.0     0.0     0.0     0.0  \n",
       "...          ...     ...     ...     ...  \n",
       "606          0.0     0.0     0.0     0.0  \n",
       "607          0.0     0.0     0.0     0.0  \n",
       "608          0.0     0.0     0.0     0.0  \n",
       "609          0.0     0.0     0.0     0.0  \n",
       "610          0.0     0.0     0.0     0.0  \n",
       "\n",
       "[610 rows x 8217 columns]"
      ]
     },
     "execution_count": 54,
     "metadata": {},
     "output_type": "execute_result"
    }
   ],
   "source": [
    "df_movie_features"
   ]
  },
  {
   "cell_type": "markdown",
   "metadata": {},
   "source": [
    "## SVD implementation"
   ]
  },
  {
   "cell_type": "code",
   "execution_count": 55,
   "metadata": {
    "ExecuteTime": {
     "end_time": "2020-07-31T16:20:05.507365Z",
     "start_time": "2020-07-31T16:20:05.052582Z"
    }
   },
   "outputs": [],
   "source": [
    "from scipy.sparse.linalg import svds\n",
    "U, sigma, Vt = svds(df_movie_features, k = 10)"
   ]
  },
  {
   "cell_type": "markdown",
   "metadata": {},
   "source": [
    "## Predictions"
   ]
  },
  {
   "cell_type": "markdown",
   "metadata": {},
   "source": [
    "To get the prediction of a rating of an item dj, we can calculate the dot product of the two vectors.\n",
    "The sigma variable has just the values, so I have to convert to a diagonal matrix in orded to implement the matrix multiplication."
   ]
  },
  {
   "cell_type": "code",
   "execution_count": 56,
   "metadata": {
    "ExecuteTime": {
     "end_time": "2020-07-31T16:20:05.997057Z",
     "start_time": "2020-07-31T16:20:05.955169Z"
    }
   },
   "outputs": [],
   "source": [
    "sigma = np.diag(sigma)\n",
    "svd_predictions_score = np.dot(np.dot(U, sigma), Vt)\n",
    "svd_predictions_score_df = pd.DataFrame(svd_predictions_score, columns = df_movie_features.columns)\n"
   ]
  },
  {
   "cell_type": "code",
   "execution_count": 57,
   "metadata": {
    "ExecuteTime": {
     "end_time": "2020-07-31T16:20:06.008025Z",
     "start_time": "2020-07-31T16:20:06.000047Z"
    }
   },
   "outputs": [
    {
     "data": {
      "text/plain": [
       "array([ 0.063084  ,  0.01766658, -0.07025156, ...,  0.00437932,\n",
       "        0.00437932,  0.00437932])"
      ]
     },
     "execution_count": 57,
     "metadata": {},
     "output_type": "execute_result"
    }
   ],
   "source": [
    "svd_predictions_score[1]"
   ]
  },
  {
   "cell_type": "code",
   "execution_count": 58,
   "metadata": {
    "ExecuteTime": {
     "end_time": "2020-07-31T16:20:06.062879Z",
     "start_time": "2020-07-31T16:20:06.010022Z"
    }
   },
   "outputs": [
    {
     "data": {
      "text/html": [
       "<div>\n",
       "<style scoped>\n",
       "    .dataframe tbody tr th:only-of-type {\n",
       "        vertical-align: middle;\n",
       "    }\n",
       "\n",
       "    .dataframe tbody tr th {\n",
       "        vertical-align: top;\n",
       "    }\n",
       "\n",
       "    .dataframe thead th {\n",
       "        text-align: right;\n",
       "    }\n",
       "</style>\n",
       "<table border=\"1\" class=\"dataframe\">\n",
       "  <thead>\n",
       "    <tr style=\"text-align: right;\">\n",
       "      <th>movie_id</th>\n",
       "      <th>1</th>\n",
       "      <th>2</th>\n",
       "      <th>3</th>\n",
       "      <th>4</th>\n",
       "      <th>5</th>\n",
       "      <th>6</th>\n",
       "      <th>7</th>\n",
       "      <th>8</th>\n",
       "      <th>9</th>\n",
       "      <th>10</th>\n",
       "      <th>...</th>\n",
       "      <th>190209</th>\n",
       "      <th>190219</th>\n",
       "      <th>190221</th>\n",
       "      <th>193565</th>\n",
       "      <th>193567</th>\n",
       "      <th>193571</th>\n",
       "      <th>193581</th>\n",
       "      <th>193583</th>\n",
       "      <th>193585</th>\n",
       "      <th>193587</th>\n",
       "    </tr>\n",
       "  </thead>\n",
       "  <tbody>\n",
       "    <tr>\n",
       "      <th>0</th>\n",
       "      <td>1.688708</td>\n",
       "      <td>0.458426</td>\n",
       "      <td>0.393726</td>\n",
       "      <td>0.011205</td>\n",
       "      <td>0.115494</td>\n",
       "      <td>1.167295</td>\n",
       "      <td>-0.046513</td>\n",
       "      <td>0.005338</td>\n",
       "      <td>0.037091</td>\n",
       "      <td>1.095148</td>\n",
       "      <td>...</td>\n",
       "      <td>-0.000853</td>\n",
       "      <td>-0.000213</td>\n",
       "      <td>-0.000213</td>\n",
       "      <td>-0.008988</td>\n",
       "      <td>-0.007704</td>\n",
       "      <td>-0.010272</td>\n",
       "      <td>-0.010272</td>\n",
       "      <td>-0.008988</td>\n",
       "      <td>-0.008988</td>\n",
       "      <td>-0.008988</td>\n",
       "    </tr>\n",
       "    <tr>\n",
       "      <th>1</th>\n",
       "      <td>0.063084</td>\n",
       "      <td>0.017667</td>\n",
       "      <td>-0.070252</td>\n",
       "      <td>-0.005869</td>\n",
       "      <td>-0.011273</td>\n",
       "      <td>0.023740</td>\n",
       "      <td>-0.041345</td>\n",
       "      <td>-0.020815</td>\n",
       "      <td>0.003521</td>\n",
       "      <td>-0.087446</td>\n",
       "      <td>...</td>\n",
       "      <td>0.001623</td>\n",
       "      <td>0.000406</td>\n",
       "      <td>0.000406</td>\n",
       "      <td>0.004379</td>\n",
       "      <td>0.003754</td>\n",
       "      <td>0.005005</td>\n",
       "      <td>0.005005</td>\n",
       "      <td>0.004379</td>\n",
       "      <td>0.004379</td>\n",
       "      <td>0.004379</td>\n",
       "    </tr>\n",
       "    <tr>\n",
       "      <th>2</th>\n",
       "      <td>0.033224</td>\n",
       "      <td>0.019811</td>\n",
       "      <td>0.014590</td>\n",
       "      <td>-0.000669</td>\n",
       "      <td>-0.008589</td>\n",
       "      <td>0.058930</td>\n",
       "      <td>-0.015279</td>\n",
       "      <td>0.001663</td>\n",
       "      <td>0.001220</td>\n",
       "      <td>0.057268</td>\n",
       "      <td>...</td>\n",
       "      <td>-0.000466</td>\n",
       "      <td>-0.000116</td>\n",
       "      <td>-0.000116</td>\n",
       "      <td>-0.000373</td>\n",
       "      <td>-0.000320</td>\n",
       "      <td>-0.000426</td>\n",
       "      <td>-0.000426</td>\n",
       "      <td>-0.000373</td>\n",
       "      <td>-0.000373</td>\n",
       "      <td>-0.000373</td>\n",
       "    </tr>\n",
       "    <tr>\n",
       "      <th>3</th>\n",
       "      <td>0.917798</td>\n",
       "      <td>0.235219</td>\n",
       "      <td>0.183208</td>\n",
       "      <td>0.039929</td>\n",
       "      <td>0.128628</td>\n",
       "      <td>0.539320</td>\n",
       "      <td>0.129805</td>\n",
       "      <td>-0.057966</td>\n",
       "      <td>0.003938</td>\n",
       "      <td>0.333317</td>\n",
       "      <td>...</td>\n",
       "      <td>0.000828</td>\n",
       "      <td>0.000207</td>\n",
       "      <td>0.000207</td>\n",
       "      <td>-0.001962</td>\n",
       "      <td>-0.001682</td>\n",
       "      <td>-0.002243</td>\n",
       "      <td>-0.002243</td>\n",
       "      <td>-0.001962</td>\n",
       "      <td>-0.001962</td>\n",
       "      <td>-0.001962</td>\n",
       "    </tr>\n",
       "    <tr>\n",
       "      <th>4</th>\n",
       "      <td>0.791287</td>\n",
       "      <td>0.681703</td>\n",
       "      <td>0.258285</td>\n",
       "      <td>0.060598</td>\n",
       "      <td>0.254623</td>\n",
       "      <td>0.487621</td>\n",
       "      <td>0.429986</td>\n",
       "      <td>0.107012</td>\n",
       "      <td>0.020321</td>\n",
       "      <td>0.632953</td>\n",
       "      <td>...</td>\n",
       "      <td>0.002094</td>\n",
       "      <td>0.000524</td>\n",
       "      <td>0.000524</td>\n",
       "      <td>-0.000531</td>\n",
       "      <td>-0.000455</td>\n",
       "      <td>-0.000607</td>\n",
       "      <td>-0.000607</td>\n",
       "      <td>-0.000531</td>\n",
       "      <td>-0.000531</td>\n",
       "      <td>-0.000531</td>\n",
       "    </tr>\n",
       "    <tr>\n",
       "      <th>...</th>\n",
       "      <td>...</td>\n",
       "      <td>...</td>\n",
       "      <td>...</td>\n",
       "      <td>...</td>\n",
       "      <td>...</td>\n",
       "      <td>...</td>\n",
       "      <td>...</td>\n",
       "      <td>...</td>\n",
       "      <td>...</td>\n",
       "      <td>...</td>\n",
       "      <td>...</td>\n",
       "      <td>...</td>\n",
       "      <td>...</td>\n",
       "      <td>...</td>\n",
       "      <td>...</td>\n",
       "      <td>...</td>\n",
       "      <td>...</td>\n",
       "      <td>...</td>\n",
       "      <td>...</td>\n",
       "      <td>...</td>\n",
       "      <td>...</td>\n",
       "    </tr>\n",
       "    <tr>\n",
       "      <th>605</th>\n",
       "      <td>1.554904</td>\n",
       "      <td>1.550197</td>\n",
       "      <td>0.307605</td>\n",
       "      <td>0.255871</td>\n",
       "      <td>0.548586</td>\n",
       "      <td>-0.240734</td>\n",
       "      <td>1.260181</td>\n",
       "      <td>0.056290</td>\n",
       "      <td>-0.169419</td>\n",
       "      <td>0.417293</td>\n",
       "      <td>...</td>\n",
       "      <td>0.000728</td>\n",
       "      <td>0.000182</td>\n",
       "      <td>0.000182</td>\n",
       "      <td>-0.000066</td>\n",
       "      <td>-0.000056</td>\n",
       "      <td>-0.000075</td>\n",
       "      <td>-0.000075</td>\n",
       "      <td>-0.000066</td>\n",
       "      <td>-0.000066</td>\n",
       "      <td>-0.000066</td>\n",
       "    </tr>\n",
       "    <tr>\n",
       "      <th>606</th>\n",
       "      <td>1.482410</td>\n",
       "      <td>0.603201</td>\n",
       "      <td>0.379869</td>\n",
       "      <td>0.032845</td>\n",
       "      <td>0.227519</td>\n",
       "      <td>0.942603</td>\n",
       "      <td>0.193504</td>\n",
       "      <td>0.050515</td>\n",
       "      <td>0.026183</td>\n",
       "      <td>0.981710</td>\n",
       "      <td>...</td>\n",
       "      <td>0.000420</td>\n",
       "      <td>0.000105</td>\n",
       "      <td>0.000105</td>\n",
       "      <td>-0.006020</td>\n",
       "      <td>-0.005160</td>\n",
       "      <td>-0.006881</td>\n",
       "      <td>-0.006881</td>\n",
       "      <td>-0.006020</td>\n",
       "      <td>-0.006020</td>\n",
       "      <td>-0.006020</td>\n",
       "    </tr>\n",
       "    <tr>\n",
       "      <th>607</th>\n",
       "      <td>2.786608</td>\n",
       "      <td>0.954572</td>\n",
       "      <td>1.344043</td>\n",
       "      <td>-0.018435</td>\n",
       "      <td>0.510436</td>\n",
       "      <td>2.090074</td>\n",
       "      <td>0.345955</td>\n",
       "      <td>0.444181</td>\n",
       "      <td>0.152362</td>\n",
       "      <td>2.645235</td>\n",
       "      <td>...</td>\n",
       "      <td>0.002744</td>\n",
       "      <td>0.000686</td>\n",
       "      <td>0.000686</td>\n",
       "      <td>-0.031944</td>\n",
       "      <td>-0.027380</td>\n",
       "      <td>-0.036507</td>\n",
       "      <td>-0.036507</td>\n",
       "      <td>-0.031944</td>\n",
       "      <td>-0.031944</td>\n",
       "      <td>-0.031944</td>\n",
       "    </tr>\n",
       "    <tr>\n",
       "      <th>608</th>\n",
       "      <td>0.714217</td>\n",
       "      <td>0.549229</td>\n",
       "      <td>0.203728</td>\n",
       "      <td>0.045918</td>\n",
       "      <td>0.205905</td>\n",
       "      <td>0.465570</td>\n",
       "      <td>0.354462</td>\n",
       "      <td>0.090467</td>\n",
       "      <td>0.021644</td>\n",
       "      <td>0.540067</td>\n",
       "      <td>...</td>\n",
       "      <td>0.002947</td>\n",
       "      <td>0.000737</td>\n",
       "      <td>0.000737</td>\n",
       "      <td>-0.000037</td>\n",
       "      <td>-0.000032</td>\n",
       "      <td>-0.000042</td>\n",
       "      <td>-0.000042</td>\n",
       "      <td>-0.000037</td>\n",
       "      <td>-0.000037</td>\n",
       "      <td>-0.000037</td>\n",
       "    </tr>\n",
       "    <tr>\n",
       "      <th>609</th>\n",
       "      <td>0.183500</td>\n",
       "      <td>1.701411</td>\n",
       "      <td>-0.571403</td>\n",
       "      <td>-0.059711</td>\n",
       "      <td>-1.281285</td>\n",
       "      <td>3.737838</td>\n",
       "      <td>-0.382591</td>\n",
       "      <td>0.392249</td>\n",
       "      <td>0.100501</td>\n",
       "      <td>2.232688</td>\n",
       "      <td>...</td>\n",
       "      <td>0.008994</td>\n",
       "      <td>0.002248</td>\n",
       "      <td>0.002248</td>\n",
       "      <td>0.030138</td>\n",
       "      <td>0.025833</td>\n",
       "      <td>0.034444</td>\n",
       "      <td>0.034444</td>\n",
       "      <td>0.030138</td>\n",
       "      <td>0.030138</td>\n",
       "      <td>0.030138</td>\n",
       "    </tr>\n",
       "  </tbody>\n",
       "</table>\n",
       "<p>610 rows × 8217 columns</p>\n",
       "</div>"
      ],
      "text/plain": [
       "movie_id    1         2         3         4         5         6       \\\n",
       "0         1.688708  0.458426  0.393726  0.011205  0.115494  1.167295   \n",
       "1         0.063084  0.017667 -0.070252 -0.005869 -0.011273  0.023740   \n",
       "2         0.033224  0.019811  0.014590 -0.000669 -0.008589  0.058930   \n",
       "3         0.917798  0.235219  0.183208  0.039929  0.128628  0.539320   \n",
       "4         0.791287  0.681703  0.258285  0.060598  0.254623  0.487621   \n",
       "..             ...       ...       ...       ...       ...       ...   \n",
       "605       1.554904  1.550197  0.307605  0.255871  0.548586 -0.240734   \n",
       "606       1.482410  0.603201  0.379869  0.032845  0.227519  0.942603   \n",
       "607       2.786608  0.954572  1.344043 -0.018435  0.510436  2.090074   \n",
       "608       0.714217  0.549229  0.203728  0.045918  0.205905  0.465570   \n",
       "609       0.183500  1.701411 -0.571403 -0.059711 -1.281285  3.737838   \n",
       "\n",
       "movie_id    7         8         9         10      ...    190209    190219  \\\n",
       "0        -0.046513  0.005338  0.037091  1.095148  ... -0.000853 -0.000213   \n",
       "1        -0.041345 -0.020815  0.003521 -0.087446  ...  0.001623  0.000406   \n",
       "2        -0.015279  0.001663  0.001220  0.057268  ... -0.000466 -0.000116   \n",
       "3         0.129805 -0.057966  0.003938  0.333317  ...  0.000828  0.000207   \n",
       "4         0.429986  0.107012  0.020321  0.632953  ...  0.002094  0.000524   \n",
       "..             ...       ...       ...       ...  ...       ...       ...   \n",
       "605       1.260181  0.056290 -0.169419  0.417293  ...  0.000728  0.000182   \n",
       "606       0.193504  0.050515  0.026183  0.981710  ...  0.000420  0.000105   \n",
       "607       0.345955  0.444181  0.152362  2.645235  ...  0.002744  0.000686   \n",
       "608       0.354462  0.090467  0.021644  0.540067  ...  0.002947  0.000737   \n",
       "609      -0.382591  0.392249  0.100501  2.232688  ...  0.008994  0.002248   \n",
       "\n",
       "movie_id    190221    193565    193567    193571    193581    193583  \\\n",
       "0        -0.000213 -0.008988 -0.007704 -0.010272 -0.010272 -0.008988   \n",
       "1         0.000406  0.004379  0.003754  0.005005  0.005005  0.004379   \n",
       "2        -0.000116 -0.000373 -0.000320 -0.000426 -0.000426 -0.000373   \n",
       "3         0.000207 -0.001962 -0.001682 -0.002243 -0.002243 -0.001962   \n",
       "4         0.000524 -0.000531 -0.000455 -0.000607 -0.000607 -0.000531   \n",
       "..             ...       ...       ...       ...       ...       ...   \n",
       "605       0.000182 -0.000066 -0.000056 -0.000075 -0.000075 -0.000066   \n",
       "606       0.000105 -0.006020 -0.005160 -0.006881 -0.006881 -0.006020   \n",
       "607       0.000686 -0.031944 -0.027380 -0.036507 -0.036507 -0.031944   \n",
       "608       0.000737 -0.000037 -0.000032 -0.000042 -0.000042 -0.000037   \n",
       "609       0.002248  0.030138  0.025833  0.034444  0.034444  0.030138   \n",
       "\n",
       "movie_id    193585    193587  \n",
       "0        -0.008988 -0.008988  \n",
       "1         0.004379  0.004379  \n",
       "2        -0.000373 -0.000373  \n",
       "3        -0.001962 -0.001962  \n",
       "4        -0.000531 -0.000531  \n",
       "..             ...       ...  \n",
       "605      -0.000066 -0.000066  \n",
       "606      -0.006020 -0.006020  \n",
       "607      -0.031944 -0.031944  \n",
       "608      -0.000037 -0.000037  \n",
       "609       0.030138  0.030138  \n",
       "\n",
       "[610 rows x 8217 columns]"
      ]
     },
     "execution_count": 58,
     "metadata": {},
     "output_type": "execute_result"
    }
   ],
   "source": [
    "svd_predictions_score_df"
   ]
  },
  {
   "cell_type": "code",
   "execution_count": 59,
   "metadata": {
    "ExecuteTime": {
     "end_time": "2020-07-31T16:20:06.092798Z",
     "start_time": "2020-07-31T16:20:06.065871Z"
    }
   },
   "outputs": [
    {
     "data": {
      "text/html": [
       "<div>\n",
       "<style scoped>\n",
       "    .dataframe tbody tr th:only-of-type {\n",
       "        vertical-align: middle;\n",
       "    }\n",
       "\n",
       "    .dataframe tbody tr th {\n",
       "        vertical-align: top;\n",
       "    }\n",
       "\n",
       "    .dataframe thead th {\n",
       "        text-align: right;\n",
       "    }\n",
       "</style>\n",
       "<table border=\"1\" class=\"dataframe\">\n",
       "  <thead>\n",
       "    <tr style=\"text-align: right;\">\n",
       "      <th>movie_id</th>\n",
       "      <th>1</th>\n",
       "      <th>2</th>\n",
       "      <th>3</th>\n",
       "      <th>4</th>\n",
       "      <th>5</th>\n",
       "      <th>6</th>\n",
       "      <th>7</th>\n",
       "      <th>8</th>\n",
       "      <th>9</th>\n",
       "      <th>10</th>\n",
       "      <th>...</th>\n",
       "      <th>190209</th>\n",
       "      <th>190219</th>\n",
       "      <th>190221</th>\n",
       "      <th>193565</th>\n",
       "      <th>193567</th>\n",
       "      <th>193571</th>\n",
       "      <th>193581</th>\n",
       "      <th>193583</th>\n",
       "      <th>193585</th>\n",
       "      <th>193587</th>\n",
       "    </tr>\n",
       "  </thead>\n",
       "  <tbody>\n",
       "    <tr>\n",
       "      <th>609</th>\n",
       "      <td>0.1835</td>\n",
       "      <td>1.701411</td>\n",
       "      <td>-0.571403</td>\n",
       "      <td>-0.059711</td>\n",
       "      <td>-1.281285</td>\n",
       "      <td>3.737838</td>\n",
       "      <td>-0.382591</td>\n",
       "      <td>0.392249</td>\n",
       "      <td>0.100501</td>\n",
       "      <td>2.232688</td>\n",
       "      <td>...</td>\n",
       "      <td>0.008994</td>\n",
       "      <td>0.002248</td>\n",
       "      <td>0.002248</td>\n",
       "      <td>0.030138</td>\n",
       "      <td>0.025833</td>\n",
       "      <td>0.034444</td>\n",
       "      <td>0.034444</td>\n",
       "      <td>0.030138</td>\n",
       "      <td>0.030138</td>\n",
       "      <td>0.030138</td>\n",
       "    </tr>\n",
       "  </tbody>\n",
       "</table>\n",
       "<p>1 rows × 8217 columns</p>\n",
       "</div>"
      ],
      "text/plain": [
       "movie_id  1         2         3         4         5         6         7       \\\n",
       "609       0.1835  1.701411 -0.571403 -0.059711 -1.281285  3.737838 -0.382591   \n",
       "\n",
       "movie_id    8         9         10      ...    190209    190219    190221  \\\n",
       "609       0.392249  0.100501  2.232688  ...  0.008994  0.002248  0.002248   \n",
       "\n",
       "movie_id    193565    193567    193571    193581    193583    193585    193587  \n",
       "609       0.030138  0.025833  0.034444  0.034444  0.030138  0.030138  0.030138  \n",
       "\n",
       "[1 rows x 8217 columns]"
      ]
     },
     "execution_count": 59,
     "metadata": {},
     "output_type": "execute_result"
    }
   ],
   "source": [
    "svd_predictions_score_df[svd_predictions_score_df.index == 609]"
   ]
  },
  {
   "cell_type": "markdown",
   "metadata": {},
   "source": [
    "## Top-K recommendations"
   ]
  },
  {
   "cell_type": "markdown",
   "metadata": {},
   "source": [
    "### First"
   ]
  },
  {
   "cell_type": "markdown",
   "metadata": {},
   "source": [
    "The function below returns a list that contains the top-100 recommendations for each user"
   ]
  },
  {
   "cell_type": "code",
   "execution_count": 60,
   "metadata": {
    "ExecuteTime": {
     "end_time": "2020-07-31T16:20:08.109444Z",
     "start_time": "2020-07-31T16:20:08.104450Z"
    }
   },
   "outputs": [],
   "source": [
    "def SVD_topK_first(score_df):\n",
    "    topK_svd_rec = []\n",
    "    for i in range(len(num_users)):\n",
    "        svd_h_df = pd.DataFrame({'movie_id': score_df[score_df.index == i].columns,\n",
    "                                 'score': score_df[score_df.index == i].values[0]})\n",
    "        svd_h_df = svd_h_df.sort_values('score', ascending=False)\n",
    "        svd_h_df = svd_h_df.head(100)\n",
    "        topK_svd_rec.append(svd_h_df['movie_id'].values)\n",
    "    return topK_svd_rec"
   ]
  },
  {
   "cell_type": "markdown",
   "metadata": {},
   "source": [
    "#### NDCG Score"
   ]
  },
  {
   "cell_type": "markdown",
   "metadata": {},
   "source": [
    "The function below returns the relevance list of a list of movies."
   ]
  },
  {
   "cell_type": "code",
   "execution_count": 61,
   "metadata": {
    "ExecuteTime": {
     "end_time": "2020-07-31T16:20:08.551256Z",
     "start_time": "2020-07-31T16:20:08.546240Z"
    }
   },
   "outputs": [],
   "source": [
    "def SVD_relevance_first(score_df):\n",
    "    svd_topK = SVD_topK_first(score_df)\n",
    "    relevance_svd_full = []\n",
    "    helper = []\n",
    "    count = 0\n",
    "    for i in range(1,len(num_users)+1):\n",
    "        for j in range(len(svd_topK[count])):\n",
    "            if svd_topK[count][j] in test_df['movie_id'][test_df['user_id'] == i].values.tolist():\n",
    "                helper.append(1)\n",
    "            else:\n",
    "                helper.append(0)\n",
    "        relevance_svd_full.append(helper)\n",
    "        helper = []\n",
    "        count += 1\n",
    "    return relevance_svd_full"
   ]
  },
  {
   "cell_type": "code",
   "execution_count": 62,
   "metadata": {
    "ExecuteTime": {
     "end_time": "2020-07-31T16:20:36.504514Z",
     "start_time": "2020-07-31T16:20:08.952153Z"
    }
   },
   "outputs": [],
   "source": [
    "relevance_first = SVD_relevance_first(svd_predictions_score_df)"
   ]
  },
  {
   "cell_type": "code",
   "execution_count": 63,
   "metadata": {
    "ExecuteTime": {
     "end_time": "2020-07-31T16:20:36.925376Z",
     "start_time": "2020-07-31T16:20:36.917376Z"
    }
   },
   "outputs": [
    {
     "data": {
      "text/plain": [
       "(610, 100)"
      ]
     },
     "execution_count": 63,
     "metadata": {},
     "output_type": "execute_result"
    }
   ],
   "source": [
    "np.asarray(relevance_first).shape"
   ]
  },
  {
   "cell_type": "code",
   "execution_count": 64,
   "metadata": {
    "ExecuteTime": {
     "end_time": "2020-07-31T16:20:37.328316Z",
     "start_time": "2020-07-31T16:20:37.323291Z"
    }
   },
   "outputs": [],
   "source": [
    "n_f = NDCG_forUser(relevance_first[0])"
   ]
  },
  {
   "cell_type": "code",
   "execution_count": 65,
   "metadata": {
    "ExecuteTime": {
     "end_time": "2020-07-31T16:20:37.737184Z",
     "start_time": "2020-07-31T16:20:37.731202Z"
    }
   },
   "outputs": [
    {
     "data": {
      "text/plain": [
       "0.6193708271879289"
      ]
     },
     "execution_count": 65,
     "metadata": {},
     "output_type": "execute_result"
    }
   ],
   "source": [
    "n_f"
   ]
  },
  {
   "cell_type": "markdown",
   "metadata": {},
   "source": [
    "Below is the NDCG scores of each user"
   ]
  },
  {
   "cell_type": "code",
   "execution_count": 66,
   "metadata": {
    "ExecuteTime": {
     "end_time": "2020-07-31T16:20:38.917095Z",
     "start_time": "2020-07-31T16:20:38.192005Z"
    }
   },
   "outputs": [
    {
     "name": "stderr",
     "output_type": "stream",
     "text": [
      "C:\\Users\\papad\\Anaconda3\\lib\\site-packages\\ipykernel_launcher.py:2: RuntimeWarning: invalid value encountered in double_scalars\n",
      "  \n"
     ]
    }
   ],
   "source": [
    "all_ndcg_f = allUsers_ndcg(relevance_first)"
   ]
  },
  {
   "cell_type": "code",
   "execution_count": 67,
   "metadata": {
    "ExecuteTime": {
     "end_time": "2020-07-31T16:20:39.319994Z",
     "start_time": "2020-07-31T16:20:39.314967Z"
    }
   },
   "outputs": [],
   "source": [
    "all_ndcg_f = pd.Series(all_ndcg_f).fillna(0).tolist()"
   ]
  },
  {
   "cell_type": "code",
   "execution_count": 68,
   "metadata": {
    "ExecuteTime": {
     "end_time": "2020-07-31T16:20:39.756821Z",
     "start_time": "2020-07-31T16:20:39.750800Z"
    }
   },
   "outputs": [
    {
     "data": {
      "text/plain": [
       "0.3854555522461128"
      ]
     },
     "execution_count": 68,
     "metadata": {},
     "output_type": "execute_result"
    }
   ],
   "source": [
    "np.asarray(all_ndcg_f).mean()"
   ]
  },
  {
   "cell_type": "markdown",
   "metadata": {},
   "source": [
    "### Second"
   ]
  },
  {
   "cell_type": "markdown",
   "metadata": {},
   "source": [
    "Code used from https://github.com/nikitaa30/Recommender-Systems/blob/master/matrix_factorisation_svd.py\n",
    "\n",
    "Provide top-K predictions for a user"
   ]
  },
  {
   "cell_type": "code",
   "execution_count": 69,
   "metadata": {
    "ExecuteTime": {
     "end_time": "2020-07-31T16:20:40.190624Z",
     "start_time": "2020-07-31T16:20:40.185638Z"
    }
   },
   "outputs": [
    {
     "data": {
      "text/plain": [
       "\"def recommend_movies(preds_df, userID, movies_df, original_ratings_df, num_recommendations):\\n    # Get and sort the user's predictions\\n    user_row_number = userID - 1 # UserID starts at 1, not 0\\n    sorted_user_predictions = preds_df.iloc[user_row_number].sort_values(ascending=False) # UserID starts at 1\\n    \\n    # Get the user's data and merge in the movie information.\\n    user_data = original_ratings_df[original_ratings_df.userId == (userID)]\\n    user_full = (user_data.merge(movies_df, how = 'left', left_on = 'movieId', right_on = 'movieId').\\n                     sort_values(['rating'], ascending=False)\\n                 )\\n    # Recommend the highest predicted rating movies that the user hasn't seen yet.\\n    recommendations = (movies_df[~movies_df['movieId'].isin(user_full['movieId'])]).merge(pd.DataFrame(sorted_user_predictions).reset_index(), how = 'left', left_on = 'movieId',\\n               right_on = 'movie_id').rename(columns = {user_row_number: 'Predictions'}).sort_values('Predictions', ascending = False).iloc[:num_recommendations, :-1]\\n                      \\n\\n    return user_full, recommendations\""
      ]
     },
     "execution_count": 69,
     "metadata": {},
     "output_type": "execute_result"
    }
   ],
   "source": [
    "'''def recommend_movies(preds_df, userID, movies_df, original_ratings_df, num_recommendations):\n",
    "    # Get and sort the user's predictions\n",
    "    user_row_number = userID - 1 # UserID starts at 1, not 0\n",
    "    sorted_user_predictions = preds_df.iloc[user_row_number].sort_values(ascending=False) # UserID starts at 1\n",
    "    \n",
    "    # Get the user's data and merge in the movie information.\n",
    "    user_data = original_ratings_df[original_ratings_df.userId == (userID)]\n",
    "    user_full = (user_data.merge(movies_df, how = 'left', left_on = 'movieId', right_on = 'movieId').\n",
    "                     sort_values(['rating'], ascending=False)\n",
    "                 )\n",
    "    # Recommend the highest predicted rating movies that the user hasn't seen yet.\n",
    "    recommendations = (movies_df[~movies_df['movieId'].isin(user_full['movieId'])]).merge(pd.DataFrame(sorted_user_predictions).reset_index(), how = 'left', left_on = 'movieId',\n",
    "               right_on = 'movie_id').rename(columns = {user_row_number: 'Predictions'}).sort_values('Predictions', ascending = False).iloc[:num_recommendations, :-1]\n",
    "                      \n",
    "\n",
    "    return user_full, recommendations'''"
   ]
  },
  {
   "cell_type": "code",
   "execution_count": 70,
   "metadata": {
    "ExecuteTime": {
     "end_time": "2020-07-31T16:20:40.644441Z",
     "start_time": "2020-07-31T16:20:40.639424Z"
    }
   },
   "outputs": [
    {
     "data": {
      "text/plain": [
       "'already_rated, predictions = recommend_movies(svd_predictions_score_df, 1, movies_df, ratings_df, 100)\\npredictions.head()'"
      ]
     },
     "execution_count": 70,
     "metadata": {},
     "output_type": "execute_result"
    }
   ],
   "source": [
    "'''already_rated, predictions = recommend_movies(svd_predictions_score_df, 1, movies_df, ratings_df, 100)\n",
    "predictions.head()'''"
   ]
  },
  {
   "cell_type": "markdown",
   "metadata": {},
   "source": [
    "The function SVD_topK_allUsers returens a list that contains the top-K recommendations for each user."
   ]
  },
  {
   "cell_type": "code",
   "execution_count": 71,
   "metadata": {
    "ExecuteTime": {
     "end_time": "2020-07-31T16:20:41.100192Z",
     "start_time": "2020-07-31T16:20:41.096203Z"
    }
   },
   "outputs": [
    {
     "data": {
      "text/plain": [
       "'def SVD_topK_allUsers():\\n    allUsers_already_rated = []\\n    allUsers_predictions = []\\n    for i in range(1,len(num_users)+1):\\n        already_rated, predictions = recommend_movies(svd_predictions_score_df, i, movies_df, ratings_df, 100)\\n        allUsers_already_rated.append(already_rated)\\n        allUsers_predictions.append(predictions)\\n    return allUsers_predictions'"
      ]
     },
     "execution_count": 71,
     "metadata": {},
     "output_type": "execute_result"
    }
   ],
   "source": [
    "'''def SVD_topK_allUsers():\n",
    "    allUsers_already_rated = []\n",
    "    allUsers_predictions = []\n",
    "    for i in range(1,len(num_users)+1):\n",
    "        already_rated, predictions = recommend_movies(svd_predictions_score_df, i, movies_df, ratings_df, 100)\n",
    "        allUsers_already_rated.append(already_rated)\n",
    "        allUsers_predictions.append(predictions)\n",
    "    return allUsers_predictions'''"
   ]
  },
  {
   "cell_type": "markdown",
   "metadata": {},
   "source": [
    "#### NDCG Score"
   ]
  },
  {
   "cell_type": "markdown",
   "metadata": {},
   "source": [
    "The function SVD_relevance returns a list that contains the relevance (0s and 1s) between the top-K recommendations and the movies that each user actually watched."
   ]
  },
  {
   "cell_type": "code",
   "execution_count": 72,
   "metadata": {
    "ExecuteTime": {
     "end_time": "2020-07-31T16:20:41.510127Z",
     "start_time": "2020-07-31T16:20:41.505117Z"
    }
   },
   "outputs": [
    {
     "data": {
      "text/plain": [
       "\"def SVD_relevance():\\n    svd_topK = SVD_topK_allUsers()\\n    relevance_svd_full = []\\n    helper = []\\n    count = 0\\n    for i in range(1,len(num_users)+1):\\n        for j in range(len(svd_topK[count])):\\n            if svd_topK[count]['movieId'].values[j] in test_df['movie_id'][test_df['user_id'] == i].values.tolist():\\n                helper.append(1)\\n            else:\\n                helper.append(0)\\n        relevance_svd_full.append(helper)\\n        helper = []\\n        count += 1\\n    return relevance_svd_full\""
      ]
     },
     "execution_count": 72,
     "metadata": {},
     "output_type": "execute_result"
    }
   ],
   "source": [
    "'''def SVD_relevance():\n",
    "    svd_topK = SVD_topK_allUsers()\n",
    "    relevance_svd_full = []\n",
    "    helper = []\n",
    "    count = 0\n",
    "    for i in range(1,len(num_users)+1):\n",
    "        for j in range(len(svd_topK[count])):\n",
    "            if svd_topK[count]['movieId'].values[j] in test_df['movie_id'][test_df['user_id'] == i].values.tolist():\n",
    "                helper.append(1)\n",
    "            else:\n",
    "                helper.append(0)\n",
    "        relevance_svd_full.append(helper)\n",
    "        helper = []\n",
    "        count += 1\n",
    "    return relevance_svd_full'''"
   ]
  },
  {
   "cell_type": "code",
   "execution_count": 73,
   "metadata": {
    "ExecuteTime": {
     "end_time": "2020-07-31T16:20:41.961890Z",
     "start_time": "2020-07-31T16:20:41.957901Z"
    }
   },
   "outputs": [],
   "source": [
    "#svd_relevance = SVD_relevance()"
   ]
  },
  {
   "cell_type": "code",
   "execution_count": 74,
   "metadata": {
    "ExecuteTime": {
     "end_time": "2020-07-31T16:20:42.374783Z",
     "start_time": "2020-07-31T16:20:42.370801Z"
    }
   },
   "outputs": [],
   "source": [
    "#allUsers_svd_ndcg = allUsers_ndcg(svd_relevance)"
   ]
  },
  {
   "cell_type": "code",
   "execution_count": null,
   "metadata": {},
   "outputs": [],
   "source": []
  },
  {
   "cell_type": "markdown",
   "metadata": {},
   "source": [
    "# LightGBM Baseline"
   ]
  },
  {
   "cell_type": "markdown",
   "metadata": {},
   "source": [
    "I create 2 features, which are the scores from the Implicit and SVD models on the top-K recommendations for each user based on the implicit model."
   ]
  },
  {
   "cell_type": "code",
   "execution_count": 75,
   "metadata": {
    "ExecuteTime": {
     "end_time": "2020-07-31T16:20:42.842540Z",
     "start_time": "2020-07-31T16:20:42.840573Z"
    }
   },
   "outputs": [],
   "source": [
    "#target_movies = allUsers_topK_imp\n",
    "#for i in range(len(num_users)):\n",
    "#    target_movies.append(topK_implicit(i,implicit_model))"
   ]
  },
  {
   "cell_type": "markdown",
   "metadata": {},
   "source": [
    "##  Feature 1 (Implicit factorization model scores)"
   ]
  },
  {
   "cell_type": "markdown",
   "metadata": {},
   "source": [
    "Train an implicit factorization model using the train_features dataset"
   ]
  },
  {
   "cell_type": "code",
   "execution_count": 76,
   "metadata": {
    "ExecuteTime": {
     "end_time": "2020-07-31T16:21:05.898881Z",
     "start_time": "2020-07-31T16:20:43.304297Z"
    }
   },
   "outputs": [
    {
     "name": "stdout",
     "output_type": "stream",
     "text": [
      "Epoch 0: loss 0.8157642548627192\n",
      "Epoch 1: loss 0.45863076129762254\n",
      "Epoch 2: loss 0.40242801916481247\n",
      "Epoch 3: loss 0.3588606340460258\n",
      "Epoch 4: loss 0.3150418759277551\n",
      "Training took 22 second\n"
     ]
    }
   ],
   "source": [
    "f1_model = ImplicitFactorizationModel(n_iter = 5)\n",
    "\n",
    "current = time.time()\n",
    "\n",
    "f1_model.fit(implicit_train_features,verbose = True)\n",
    "\n",
    "end = time.time()\n",
    "diff = end - current\n",
    "print('Training took %d second'%(diff))"
   ]
  },
  {
   "cell_type": "code",
   "execution_count": 77,
   "metadata": {
    "ExecuteTime": {
     "end_time": "2020-07-31T16:21:08.947728Z",
     "start_time": "2020-07-31T16:21:06.527202Z"
    }
   },
   "outputs": [],
   "source": [
    "allUsers_topK_f1 = allUsers_topK_implicit(f1_model)\n",
    "target_movies = allUsers_topK_f1"
   ]
  },
  {
   "cell_type": "markdown",
   "metadata": {},
   "source": [
    "Map the target movies to pick the correct predictions based on the item id"
   ]
  },
  {
   "cell_type": "code",
   "execution_count": 78,
   "metadata": {
    "ExecuteTime": {
     "end_time": "2020-07-31T16:21:09.686753Z",
     "start_time": "2020-07-31T16:21:09.664811Z"
    }
   },
   "outputs": [],
   "source": [
    "map_target_movies = []\n",
    "map_help = []\n",
    "for movies in target_movies:\n",
    "    for movie in movies:\n",
    "        map_help.append(iid_map[movie])\n",
    "    map_target_movies.append(map_help)\n",
    "    map_help = []"
   ]
  },
  {
   "cell_type": "markdown",
   "metadata": {},
   "source": [
    "Implicit Factorization model Scores"
   ]
  },
  {
   "cell_type": "markdown",
   "metadata": {},
   "source": [
    "Train implicit on implicit_features_train! and take these scores."
   ]
  },
  {
   "cell_type": "code",
   "execution_count": 79,
   "metadata": {
    "ExecuteTime": {
     "end_time": "2020-07-31T16:21:10.516732Z",
     "start_time": "2020-07-31T16:21:10.376909Z"
    }
   },
   "outputs": [],
   "source": [
    "implicit_scores = 0\n",
    "feature1 = []\n",
    "for i in range(len(num_users)):\n",
    "    #for movies in map_target_movies:\n",
    "    my_list = map_target_movies[i]\n",
    "    my_array = np.array(my_list)\n",
    "    implicit_scores = f1_model.predict(user_ids = i,item_ids = my_array)\n",
    "    feature1.append(implicit_scores)"
   ]
  },
  {
   "cell_type": "code",
   "execution_count": 80,
   "metadata": {
    "ExecuteTime": {
     "end_time": "2020-07-31T16:21:12.395541Z",
     "start_time": "2020-07-31T16:21:12.389566Z"
    }
   },
   "outputs": [
    {
     "data": {
      "text/plain": [
       "(610, 100)"
      ]
     },
     "execution_count": 80,
     "metadata": {},
     "output_type": "execute_result"
    }
   ],
   "source": [
    "feature1 = np.asarray(feature1)\n",
    "feature1.shape"
   ]
  },
  {
   "cell_type": "code",
   "execution_count": 81,
   "metadata": {
    "ExecuteTime": {
     "end_time": "2020-07-31T16:21:12.944044Z",
     "start_time": "2020-07-31T16:21:12.940057Z"
    }
   },
   "outputs": [],
   "source": [
    "#feature1 = np.asarray(feature1).reshape(len(num_users),100)"
   ]
  },
  {
   "cell_type": "markdown",
   "metadata": {},
   "source": [
    "## Feature 2 (Implicit sequence model scores)"
   ]
  },
  {
   "cell_type": "code",
   "execution_count": 82,
   "metadata": {
    "ExecuteTime": {
     "end_time": "2020-07-31T16:21:13.512677Z",
     "start_time": "2020-07-31T16:21:13.507690Z"
    }
   },
   "outputs": [
    {
     "data": {
      "text/plain": [
       "\"f2_model = ImplicitSequenceModel(n_iter = 5)\\n\\ncurrent = time.time()\\n\\nf2_model.fit(implicit_train_features.to_sequence(),verbose = True)\\n\\nend = time.time()\\ndiff = end - current\\nprint('Training took %d second'%(diff))\""
      ]
     },
     "execution_count": 82,
     "metadata": {},
     "output_type": "execute_result"
    }
   ],
   "source": [
    "'''f2_model = ImplicitSequenceModel(n_iter = 5)\n",
    "\n",
    "current = time.time()\n",
    "\n",
    "f2_model.fit(implicit_train_features.to_sequence(),verbose = True)\n",
    "\n",
    "end = time.time()\n",
    "diff = end - current\n",
    "print('Training took %d second'%(diff))'''"
   ]
  },
  {
   "cell_type": "code",
   "execution_count": 83,
   "metadata": {
    "ExecuteTime": {
     "end_time": "2020-07-31T16:21:14.082186Z",
     "start_time": "2020-07-31T16:21:14.077167Z"
    }
   },
   "outputs": [
    {
     "data": {
      "text/plain": [
       "'implicit_scores = 0\\nfeature2 = []\\nfor i in range(len(num_users)):\\n    #for movies in map_target_movies:\\n    my_list = map_target_movies[i]\\n    my_array = np.array(my_list)\\n    implicit_scores = f2_model.predict(i,item_ids = my_array)\\n    feature2.append(implicit_scores)'"
      ]
     },
     "execution_count": 83,
     "metadata": {},
     "output_type": "execute_result"
    }
   ],
   "source": [
    "'''implicit_scores = 0\n",
    "feature2 = []\n",
    "for i in range(len(num_users)):\n",
    "    #for movies in map_target_movies:\n",
    "    my_list = map_target_movies[i]\n",
    "    my_array = np.array(my_list)\n",
    "    implicit_scores = f2_model.predict(i,item_ids = my_array)\n",
    "    feature2.append(implicit_scores)'''"
   ]
  },
  {
   "cell_type": "markdown",
   "metadata": {},
   "source": [
    "## Feature 3 (SVD scores)"
   ]
  },
  {
   "cell_type": "markdown",
   "metadata": {},
   "source": [
    "SVD model Scores. Take advantage of the DataFrame containing the scores to extract the predicted scores for the desired movies."
   ]
  },
  {
   "cell_type": "code",
   "execution_count": 84,
   "metadata": {
    "ExecuteTime": {
     "end_time": "2020-07-31T16:21:14.729452Z",
     "start_time": "2020-07-31T16:21:14.625731Z"
    }
   },
   "outputs": [],
   "source": [
    "df_movie_features1 = train_features_df.pivot(\n",
    "    index='user_id',\n",
    "    columns='movie_id',\n",
    "    values='rating'\n",
    ").fillna(0)"
   ]
  },
  {
   "cell_type": "code",
   "execution_count": 85,
   "metadata": {
    "ExecuteTime": {
     "end_time": "2020-07-31T16:21:15.995068Z",
     "start_time": "2020-07-31T16:21:15.685895Z"
    }
   },
   "outputs": [],
   "source": [
    "U1, sigma1, Vt1 = svds(df_movie_features1)\n",
    "sigma1 = np.diag(sigma1)\n",
    "svd_predictions_score1 = np.dot(np.dot(U1, sigma1), Vt1)\n",
    "svd_predictions_score_df1 = pd.DataFrame(svd_predictions_score1, columns = df_movie_features1.columns)"
   ]
  },
  {
   "cell_type": "code",
   "execution_count": 86,
   "metadata": {
    "ExecuteTime": {
     "end_time": "2020-07-31T16:21:17.349449Z",
     "start_time": "2020-07-31T16:21:17.344496Z"
    }
   },
   "outputs": [
    {
     "data": {
      "text/plain": [
       "50"
      ]
     },
     "execution_count": 86,
     "metadata": {},
     "output_type": "execute_result"
    }
   ],
   "source": [
    "target_movies[0][2]"
   ]
  },
  {
   "cell_type": "code",
   "execution_count": 87,
   "metadata": {
    "ExecuteTime": {
     "end_time": "2020-07-31T16:21:18.234082Z",
     "start_time": "2020-07-31T16:21:18.215133Z"
    }
   },
   "outputs": [
    {
     "data": {
      "text/html": [
       "<div>\n",
       "<style scoped>\n",
       "    .dataframe tbody tr th:only-of-type {\n",
       "        vertical-align: middle;\n",
       "    }\n",
       "\n",
       "    .dataframe tbody tr th {\n",
       "        vertical-align: top;\n",
       "    }\n",
       "\n",
       "    .dataframe thead th {\n",
       "        text-align: right;\n",
       "    }\n",
       "</style>\n",
       "<table border=\"1\" class=\"dataframe\">\n",
       "  <thead>\n",
       "    <tr style=\"text-align: right;\">\n",
       "      <th>movie_id</th>\n",
       "      <th>1</th>\n",
       "      <th>2</th>\n",
       "      <th>3</th>\n",
       "      <th>4</th>\n",
       "      <th>5</th>\n",
       "      <th>6</th>\n",
       "      <th>7</th>\n",
       "      <th>8</th>\n",
       "      <th>9</th>\n",
       "      <th>10</th>\n",
       "      <th>...</th>\n",
       "      <th>190209</th>\n",
       "      <th>190219</th>\n",
       "      <th>190221</th>\n",
       "      <th>193565</th>\n",
       "      <th>193567</th>\n",
       "      <th>193571</th>\n",
       "      <th>193581</th>\n",
       "      <th>193583</th>\n",
       "      <th>193585</th>\n",
       "      <th>193587</th>\n",
       "    </tr>\n",
       "  </thead>\n",
       "  <tbody>\n",
       "    <tr>\n",
       "      <th>0</th>\n",
       "      <td>1.257308</td>\n",
       "      <td>0.532167</td>\n",
       "      <td>0.410764</td>\n",
       "      <td>0.044059</td>\n",
       "      <td>0.253674</td>\n",
       "      <td>1.123589</td>\n",
       "      <td>0.219466</td>\n",
       "      <td>0.035831</td>\n",
       "      <td>0.072019</td>\n",
       "      <td>1.008659</td>\n",
       "      <td>...</td>\n",
       "      <td>0.001029</td>\n",
       "      <td>0.000257</td>\n",
       "      <td>0.000257</td>\n",
       "      <td>-0.006209</td>\n",
       "      <td>-0.005322</td>\n",
       "      <td>-0.007096</td>\n",
       "      <td>-0.007096</td>\n",
       "      <td>-0.006209</td>\n",
       "      <td>-0.006209</td>\n",
       "      <td>-0.006209</td>\n",
       "    </tr>\n",
       "  </tbody>\n",
       "</table>\n",
       "<p>1 rows × 7604 columns</p>\n",
       "</div>"
      ],
      "text/plain": [
       "movie_id    1         2         3         4         5         6       \\\n",
       "0         1.257308  0.532167  0.410764  0.044059  0.253674  1.123589   \n",
       "\n",
       "movie_id    7         8         9         10      ...    190209    190219  \\\n",
       "0         0.219466  0.035831  0.072019  1.008659  ...  0.001029  0.000257   \n",
       "\n",
       "movie_id    190221    193565    193567    193571    193581    193583  \\\n",
       "0         0.000257 -0.006209 -0.005322 -0.007096 -0.007096 -0.006209   \n",
       "\n",
       "movie_id    193585    193587  \n",
       "0        -0.006209 -0.006209  \n",
       "\n",
       "[1 rows x 7604 columns]"
      ]
     },
     "execution_count": 87,
     "metadata": {},
     "output_type": "execute_result"
    }
   ],
   "source": [
    "svd_predictions_score_df1[svd_predictions_score_df1.index == 0]"
   ]
  },
  {
   "cell_type": "code",
   "execution_count": 88,
   "metadata": {
    "ExecuteTime": {
     "end_time": "2020-07-31T16:21:19.182547Z",
     "start_time": "2020-07-31T16:21:19.176562Z"
    }
   },
   "outputs": [
    {
     "data": {
      "text/plain": [
       "1.257308422073934"
      ]
     },
     "execution_count": 88,
     "metadata": {},
     "output_type": "execute_result"
    }
   ],
   "source": [
    "float(svd_predictions_score_df1[svd_predictions_score_df1.index == 0][target_movies[0][0]].values)"
   ]
  },
  {
   "cell_type": "code",
   "execution_count": 89,
   "metadata": {
    "ExecuteTime": {
     "end_time": "2020-07-31T16:21:44.656949Z",
     "start_time": "2020-07-31T16:21:20.192845Z"
    }
   },
   "outputs": [],
   "source": [
    "feature3 = []\n",
    "feature3_user = []\n",
    "for i in range(len(num_users)):\n",
    "    for j in range(len(target_movies[i])):\n",
    "        feature3_user.append(float(svd_predictions_score_df1[svd_predictions_score_df1.index == i][target_movies[i][j]].values))\n",
    "    feature3.append(feature3_user)\n",
    "    feature3_user = []"
   ]
  },
  {
   "cell_type": "code",
   "execution_count": 90,
   "metadata": {
    "ExecuteTime": {
     "end_time": "2020-07-31T16:21:45.582308Z",
     "start_time": "2020-07-31T16:21:45.577286Z"
    }
   },
   "outputs": [
    {
     "data": {
      "text/plain": [
       "list"
      ]
     },
     "execution_count": 90,
     "metadata": {},
     "output_type": "execute_result"
    }
   ],
   "source": [
    "type(feature3)"
   ]
  },
  {
   "cell_type": "markdown",
   "metadata": {},
   "source": [
    "## Feature 4 (Genre)"
   ]
  },
  {
   "cell_type": "code",
   "execution_count": 91,
   "metadata": {
    "ExecuteTime": {
     "end_time": "2020-07-31T16:23:01.204813Z",
     "start_time": "2020-07-31T16:21:46.476881Z"
    }
   },
   "outputs": [],
   "source": [
    "genres = []\n",
    "genre_per_user = []\n",
    "for i in range(len(num_users)):\n",
    "    for j in range(len(target_movies[i])):\n",
    "        a =  movies_df[movies_df['movieId'] == target_movies[i][j]]['genres']\n",
    "        a = a.tolist()\n",
    "        a = str(a[0])\n",
    "        a = a.split('|')\n",
    "        if 'Comedy' in a:\n",
    "            genre_per_user.append(1)\n",
    "        else:\n",
    "            genre_per_user.append(0)\n",
    "    genres.append(genre_per_user)\n",
    "    genre_per_user = []"
   ]
  },
  {
   "cell_type": "code",
   "execution_count": 92,
   "metadata": {
    "ExecuteTime": {
     "end_time": "2020-07-31T16:23:03.634647Z",
     "start_time": "2020-07-31T16:23:03.616469Z"
    }
   },
   "outputs": [],
   "source": [
    "feature4 = genres"
   ]
  },
  {
   "cell_type": "markdown",
   "metadata": {},
   "source": [
    "## Feature 5 (#Users watched each target movie)"
   ]
  },
  {
   "cell_type": "code",
   "execution_count": 93,
   "metadata": {
    "ExecuteTime": {
     "end_time": "2020-07-31T16:24:34.083909Z",
     "start_time": "2020-07-31T16:23:05.597171Z"
    }
   },
   "outputs": [],
   "source": [
    "number_views = []\n",
    "number_view_per_movie = []\n",
    "for i in range(len(num_users)):\n",
    "    for j in range(len(target_movies[i])):\n",
    "        a = len(ratings_df[ratings_df['movieId'] == target_movies[i][j]]['userId'])\n",
    "        number_view_per_movie.append(a)\n",
    "    number_views.append(number_view_per_movie)\n",
    "    number_view_per_movie = []\n"
   ]
  },
  {
   "cell_type": "code",
   "execution_count": 94,
   "metadata": {
    "ExecuteTime": {
     "end_time": "2020-07-31T16:24:35.926617Z",
     "start_time": "2020-07-31T16:24:35.913884Z"
    }
   },
   "outputs": [],
   "source": [
    "feature5 = number_views"
   ]
  },
  {
   "cell_type": "markdown",
   "metadata": {},
   "source": [
    "## Feature 6 (New user)"
   ]
  },
  {
   "cell_type": "code",
   "execution_count": 95,
   "metadata": {
    "ExecuteTime": {
     "end_time": "2020-07-31T16:24:38.186834Z",
     "start_time": "2020-07-31T16:24:38.175563Z"
    }
   },
   "outputs": [
    {
     "data": {
      "text/plain": [
       "True"
      ]
     },
     "execution_count": 95,
     "metadata": {},
     "output_type": "execute_result"
    }
   ],
   "source": [
    "len(ratings_df[ratings_df['userId']==1]) > 10"
   ]
  },
  {
   "cell_type": "code",
   "execution_count": 96,
   "metadata": {
    "ExecuteTime": {
     "end_time": "2020-07-31T16:26:04.205409Z",
     "start_time": "2020-07-31T16:24:40.173798Z"
    }
   },
   "outputs": [],
   "source": [
    "new_users_binary = []\n",
    "binary_per_user = []\n",
    "for i in range(len(num_users)):\n",
    "    for j in range(len(target_movies[i])):\n",
    "        a = len(ratings_df[ratings_df['userId']==1]) > 10\n",
    "        if a:\n",
    "            binary_per_user.append(1)\n",
    "        else:\n",
    "            binary_per_user.append(0)\n",
    "    new_users_binary.append(binary_per_user)\n",
    "    binary_per_user = []"
   ]
  },
  {
   "cell_type": "code",
   "execution_count": 97,
   "metadata": {
    "ExecuteTime": {
     "end_time": "2020-07-31T16:26:06.432791Z",
     "start_time": "2020-07-31T16:26:06.424846Z"
    }
   },
   "outputs": [],
   "source": [
    "feature6 = new_users_binary"
   ]
  },
  {
   "cell_type": "markdown",
   "metadata": {},
   "source": [
    "## Features stack"
   ]
  },
  {
   "cell_type": "code",
   "execution_count": 98,
   "metadata": {
    "ExecuteTime": {
     "end_time": "2020-07-31T16:26:08.487799Z",
     "start_time": "2020-07-31T16:26:08.459453Z"
    }
   },
   "outputs": [],
   "source": [
    "features = np.stack((feature1,feature3,feature4,feature5))"
   ]
  },
  {
   "cell_type": "markdown",
   "metadata": {},
   "source": [
    "## Labels"
   ]
  },
  {
   "cell_type": "markdown",
   "metadata": {},
   "source": [
    "Below are the movies that each user watched"
   ]
  },
  {
   "cell_type": "code",
   "execution_count": 99,
   "metadata": {
    "ExecuteTime": {
     "end_time": "2020-07-31T16:26:10.629105Z",
     "start_time": "2020-07-31T16:26:10.603039Z"
    }
   },
   "outputs": [],
   "source": [
    "def watched_movies(df):\n",
    "    watched = []\n",
    "    for i in range(len(num_users)):\n",
    "        watched.append(df[df[\"user_id\"]==uid_rev_map.get(i)].groupby(\"movie_id\")[\"movie_id\"].count().index)  \n",
    "    return watched"
   ]
  },
  {
   "cell_type": "code",
   "execution_count": 100,
   "metadata": {
    "ExecuteTime": {
     "end_time": "2020-07-31T16:26:17.869909Z",
     "start_time": "2020-07-31T16:26:12.723823Z"
    }
   },
   "outputs": [],
   "source": [
    "#train_labels_df\n",
    "#test_df\n",
    "#val_df\n",
    "train_watched = watched_movies(train_labels_df)\n",
    "test_watched = watched_movies(test_df)\n",
    "val_watched = watched_movies(val_df)"
   ]
  },
  {
   "cell_type": "markdown",
   "metadata": {},
   "source": [
    "Creation of the target list. It containes 0s and 1s for the 100 recommended movies for each user. Based on the watched movies it assigns the values. If the user watched the recommended movie, then the value of the target is equal to 1, otherwise it is 0."
   ]
  },
  {
   "cell_type": "code",
   "execution_count": 101,
   "metadata": {
    "ExecuteTime": {
     "end_time": "2020-07-31T16:26:22.683830Z",
     "start_time": "2020-07-31T16:26:22.664335Z"
    }
   },
   "outputs": [],
   "source": [
    "def create_target(watched):\n",
    "    user_target = []\n",
    "    target = []\n",
    "    for i in range(len(num_users)):\n",
    "        for target_movie in target_movies[i]:\n",
    "            if target_movie in watched[i]:\n",
    "                user_target.append(1)\n",
    "            else:\n",
    "                user_target.append(0)\n",
    "        target.append(user_target)\n",
    "        user_target = []\n",
    "    return target"
   ]
  },
  {
   "cell_type": "code",
   "execution_count": 102,
   "metadata": {
    "ExecuteTime": {
     "end_time": "2020-07-31T16:26:26.454015Z",
     "start_time": "2020-07-31T16:26:26.140516Z"
    }
   },
   "outputs": [],
   "source": [
    "label_train = create_target(train_watched)\n",
    "label_test = create_target(test_watched)\n",
    "label_val = create_target(val_watched)\n",
    "#y_train = y_test = y_val"
   ]
  },
  {
   "cell_type": "markdown",
   "metadata": {},
   "source": [
    "## LightGBM model"
   ]
  },
  {
   "cell_type": "code",
   "execution_count": 103,
   "metadata": {
    "ExecuteTime": {
     "end_time": "2020-07-31T16:26:30.796024Z",
     "start_time": "2020-07-31T16:26:30.746883Z"
    }
   },
   "outputs": [],
   "source": [
    "X = np.array(features)\n",
    "label_train = np.array(label_train)\n",
    "label_test = np.array(label_test)\n",
    "label_val = np.array(label_val)"
   ]
  },
  {
   "cell_type": "code",
   "execution_count": 104,
   "metadata": {
    "ExecuteTime": {
     "end_time": "2020-07-31T16:26:34.635350Z",
     "start_time": "2020-07-31T16:26:34.623377Z"
    }
   },
   "outputs": [],
   "source": [
    "X = X.reshape(len(num_users)*k, len(features))\n",
    "y_train = label_train.reshape(len(num_users)*k,)\n",
    "y_test = label_test.reshape(len(num_users)*k,)\n",
    "y_val = label_val.reshape(len(num_users)*k,)"
   ]
  },
  {
   "cell_type": "code",
   "execution_count": 139,
   "metadata": {
    "ExecuteTime": {
     "end_time": "2020-07-31T16:39:20.985982Z",
     "start_time": "2020-07-31T16:39:20.979038Z"
    }
   },
   "outputs": [],
   "source": [
    "import lightgbm as lgb\n",
    "gbm = lgb.LGBMRanker(min_child_samples=1, learning_rate=.1, n_jobs=2, importance_type='gain',\n",
    "                     num_leaves=31, min_child_weight=100)"
   ]
  },
  {
   "cell_type": "markdown",
   "metadata": {},
   "source": [
    "target movies\n",
    "train_df\n",
    "feature1\n",
    "feature2"
   ]
  },
  {
   "cell_type": "code",
   "execution_count": 132,
   "metadata": {
    "ExecuteTime": {
     "end_time": "2020-07-31T16:37:55.222966Z",
     "start_time": "2020-07-31T16:37:55.212131Z"
    }
   },
   "outputs": [
    {
     "data": {
      "text/plain": [
       "\"X_train_feature1 = []\\nX_train_feature2 = []\\nfor j in range(610):\\n    for i in range(len(target_movies[j])):\\n        if target_movies[j][i] in val_df['movie_id'].values.tolist():\\n            X_train_feature1.append(feature1[i])\\n            X_train_feature2.append(feature2[i])\\nprint(X_train_feature1)\\nprint(X_train_feature2)\\n#X_train = np.stack(X_train_feature1,X_train_feature2)\""
      ]
     },
     "execution_count": 132,
     "metadata": {},
     "output_type": "execute_result"
    }
   ],
   "source": [
    "'''X_train_feature1 = []\n",
    "X_train_feature2 = []\n",
    "for j in range(610):\n",
    "    for i in range(len(target_movies[j])):\n",
    "        if target_movies[j][i] in val_df['movie_id'].values.tolist():\n",
    "            X_train_feature1.append(feature1[i])\n",
    "            X_train_feature2.append(feature2[i])\n",
    "print(X_train_feature1)\n",
    "print(X_train_feature2)\n",
    "#X_train = np.stack(X_train_feature1,X_train_feature2)'''"
   ]
  },
  {
   "cell_type": "markdown",
   "metadata": {},
   "source": [
    "X_train\n",
    "X_test\n",
    "X_val\n",
    "y_train\n",
    "y_test\n",
    "y_val"
   ]
  },
  {
   "cell_type": "code",
   "execution_count": 133,
   "metadata": {
    "ExecuteTime": {
     "end_time": "2020-07-31T16:38:01.471684Z",
     "start_time": "2020-07-31T16:38:01.459902Z"
    }
   },
   "outputs": [],
   "source": [
    "X_train = X\n",
    "X_test = X\n",
    "X_val = X"
   ]
  },
  {
   "cell_type": "code",
   "execution_count": 134,
   "metadata": {
    "ExecuteTime": {
     "end_time": "2020-07-31T16:38:07.202057Z",
     "start_time": "2020-07-31T16:38:07.191606Z"
    }
   },
   "outputs": [],
   "source": [
    "#from sklearn.model_selection import train_test_split\n",
    "#X_train, X_test, y_train, y_test = train_test_split(X, y, test_size=0.2, random_state=1)\n",
    "#X_train, X_val, y_train, y_val = train_test_split(X_train, y_train, test_size=0.2, random_state=1)"
   ]
  },
  {
   "cell_type": "code",
   "execution_count": 135,
   "metadata": {
    "ExecuteTime": {
     "end_time": "2020-07-31T16:38:13.159664Z",
     "start_time": "2020-07-31T16:38:13.145206Z"
    }
   },
   "outputs": [
    {
     "name": "stdout",
     "output_type": "stream",
     "text": [
      "[61000]\n",
      "[61000]\n",
      "[61000]\n"
     ]
    }
   ],
   "source": [
    "query_train = [X_train.shape[0]]\n",
    "query_val = [X_val.shape[0]]\n",
    "query_test = [X_test.shape[0]]\n",
    "group_train = []\n",
    "group_val = []\n",
    "print(query_train)\n",
    "print(query_val)\n",
    "print(query_test)\n",
    "'''\n",
    "for i in range(390):\n",
    "    group_train.append(100)\n",
    "group_train.append(40)\n",
    "group_val.append(60)\n",
    "for i in range(97):\n",
    "    group_val.append(100)'''\n",
    "\n",
    "for i in range(len(num_users)):\n",
    "    group_train.append(k)\n",
    "    group_val.append(k)\n"
   ]
  },
  {
   "cell_type": "code",
   "execution_count": 140,
   "metadata": {
    "ExecuteTime": {
     "end_time": "2020-07-31T16:39:27.504903Z",
     "start_time": "2020-07-31T16:39:25.996759Z"
    },
    "code_folding": []
   },
   "outputs": [
    {
     "name": "stdout",
     "output_type": "stream",
     "text": [
      "[1]\tvalid_0's ndcg@1: 0.17541\tvalid_0's ndcg@3: 0.184578\tvalid_0's ndcg@5: 0.193217\tvalid_0's ndcg@10: 0.210163\n",
      "Training until validation scores don't improve for 50 rounds\n",
      "[2]\tvalid_0's ndcg@1: 0.183607\tvalid_0's ndcg@3: 0.182567\tvalid_0's ndcg@5: 0.187235\tvalid_0's ndcg@10: 0.208614\n",
      "[3]\tvalid_0's ndcg@1: 0.172131\tvalid_0's ndcg@3: 0.173283\tvalid_0's ndcg@5: 0.175895\tvalid_0's ndcg@10: 0.191377\n",
      "[4]\tvalid_0's ndcg@1: 0.155738\tvalid_0's ndcg@3: 0.167027\tvalid_0's ndcg@5: 0.173117\tvalid_0's ndcg@10: 0.187346\n",
      "[5]\tvalid_0's ndcg@1: 0.157377\tvalid_0's ndcg@3: 0.17062\tvalid_0's ndcg@5: 0.177889\tvalid_0's ndcg@10: 0.191415\n",
      "[6]\tvalid_0's ndcg@1: 0.191803\tvalid_0's ndcg@3: 0.18613\tvalid_0's ndcg@5: 0.188332\tvalid_0's ndcg@10: 0.201101\n",
      "[7]\tvalid_0's ndcg@1: 0.159016\tvalid_0's ndcg@3: 0.168716\tvalid_0's ndcg@5: 0.176002\tvalid_0's ndcg@10: 0.195785\n",
      "[8]\tvalid_0's ndcg@1: 0.157377\tvalid_0's ndcg@3: 0.165172\tvalid_0's ndcg@5: 0.171462\tvalid_0's ndcg@10: 0.190405\n",
      "[9]\tvalid_0's ndcg@1: 0.155738\tvalid_0's ndcg@3: 0.163985\tvalid_0's ndcg@5: 0.171182\tvalid_0's ndcg@10: 0.191067\n",
      "[10]\tvalid_0's ndcg@1: 0.162295\tvalid_0's ndcg@3: 0.170813\tvalid_0's ndcg@5: 0.177585\tvalid_0's ndcg@10: 0.194654\n",
      "[11]\tvalid_0's ndcg@1: 0.165574\tvalid_0's ndcg@3: 0.169774\tvalid_0's ndcg@5: 0.174017\tvalid_0's ndcg@10: 0.193281\n",
      "[12]\tvalid_0's ndcg@1: 0.163934\tvalid_0's ndcg@3: 0.173742\tvalid_0's ndcg@5: 0.176907\tvalid_0's ndcg@10: 0.194307\n",
      "[13]\tvalid_0's ndcg@1: 0.17377\tvalid_0's ndcg@3: 0.176716\tvalid_0's ndcg@5: 0.180207\tvalid_0's ndcg@10: 0.1967\n",
      "[14]\tvalid_0's ndcg@1: 0.165574\tvalid_0's ndcg@3: 0.168101\tvalid_0's ndcg@5: 0.175519\tvalid_0's ndcg@10: 0.191482\n",
      "[15]\tvalid_0's ndcg@1: 0.163934\tvalid_0's ndcg@3: 0.170423\tvalid_0's ndcg@5: 0.176561\tvalid_0's ndcg@10: 0.19077\n",
      "[16]\tvalid_0's ndcg@1: 0.163934\tvalid_0's ndcg@3: 0.168838\tvalid_0's ndcg@5: 0.176281\tvalid_0's ndcg@10: 0.191806\n",
      "[17]\tvalid_0's ndcg@1: 0.157377\tvalid_0's ndcg@3: 0.172882\tvalid_0's ndcg@5: 0.177633\tvalid_0's ndcg@10: 0.195136\n",
      "[18]\tvalid_0's ndcg@1: 0.170492\tvalid_0's ndcg@3: 0.176006\tvalid_0's ndcg@5: 0.180358\tvalid_0's ndcg@10: 0.196598\n",
      "[19]\tvalid_0's ndcg@1: 0.165574\tvalid_0's ndcg@3: 0.172212\tvalid_0's ndcg@5: 0.179857\tvalid_0's ndcg@10: 0.197938\n",
      "[20]\tvalid_0's ndcg@1: 0.154098\tvalid_0's ndcg@3: 0.163865\tvalid_0's ndcg@5: 0.171195\tvalid_0's ndcg@10: 0.190266\n",
      "[21]\tvalid_0's ndcg@1: 0.157377\tvalid_0's ndcg@3: 0.166513\tvalid_0's ndcg@5: 0.171209\tvalid_0's ndcg@10: 0.190437\n",
      "[22]\tvalid_0's ndcg@1: 0.172131\tvalid_0's ndcg@3: 0.173135\tvalid_0's ndcg@5: 0.178697\tvalid_0's ndcg@10: 0.197646\n",
      "[23]\tvalid_0's ndcg@1: 0.17377\tvalid_0's ndcg@3: 0.176834\tvalid_0's ndcg@5: 0.180113\tvalid_0's ndcg@10: 0.194975\n",
      "[24]\tvalid_0's ndcg@1: 0.172131\tvalid_0's ndcg@3: 0.173586\tvalid_0's ndcg@5: 0.175671\tvalid_0's ndcg@10: 0.1954\n",
      "[25]\tvalid_0's ndcg@1: 0.155738\tvalid_0's ndcg@3: 0.167318\tvalid_0's ndcg@5: 0.172978\tvalid_0's ndcg@10: 0.191537\n",
      "[26]\tvalid_0's ndcg@1: 0.155738\tvalid_0's ndcg@3: 0.169543\tvalid_0's ndcg@5: 0.175645\tvalid_0's ndcg@10: 0.191665\n",
      "[27]\tvalid_0's ndcg@1: 0.170492\tvalid_0's ndcg@3: 0.173306\tvalid_0's ndcg@5: 0.180747\tvalid_0's ndcg@10: 0.193632\n",
      "[28]\tvalid_0's ndcg@1: 0.163934\tvalid_0's ndcg@3: 0.173018\tvalid_0's ndcg@5: 0.177557\tvalid_0's ndcg@10: 0.192519\n",
      "[29]\tvalid_0's ndcg@1: 0.147541\tvalid_0's ndcg@3: 0.167059\tvalid_0's ndcg@5: 0.171588\tvalid_0's ndcg@10: 0.188645\n",
      "[30]\tvalid_0's ndcg@1: 0.154098\tvalid_0's ndcg@3: 0.166007\tvalid_0's ndcg@5: 0.171692\tvalid_0's ndcg@10: 0.19089\n",
      "[31]\tvalid_0's ndcg@1: 0.168852\tvalid_0's ndcg@3: 0.174389\tvalid_0's ndcg@5: 0.182593\tvalid_0's ndcg@10: 0.198095\n",
      "[32]\tvalid_0's ndcg@1: 0.157377\tvalid_0's ndcg@3: 0.164987\tvalid_0's ndcg@5: 0.171464\tvalid_0's ndcg@10: 0.190055\n",
      "[33]\tvalid_0's ndcg@1: 0.159016\tvalid_0's ndcg@3: 0.166273\tvalid_0's ndcg@5: 0.173703\tvalid_0's ndcg@10: 0.190684\n",
      "[34]\tvalid_0's ndcg@1: 0.165574\tvalid_0's ndcg@3: 0.169918\tvalid_0's ndcg@5: 0.174299\tvalid_0's ndcg@10: 0.193582\n",
      "[35]\tvalid_0's ndcg@1: 0.160656\tvalid_0's ndcg@3: 0.166861\tvalid_0's ndcg@5: 0.174395\tvalid_0's ndcg@10: 0.192966\n",
      "[36]\tvalid_0's ndcg@1: 0.165574\tvalid_0's ndcg@3: 0.17581\tvalid_0's ndcg@5: 0.184984\tvalid_0's ndcg@10: 0.200675\n",
      "[37]\tvalid_0's ndcg@1: 0.170492\tvalid_0's ndcg@3: 0.172823\tvalid_0's ndcg@5: 0.182319\tvalid_0's ndcg@10: 0.195463\n",
      "[38]\tvalid_0's ndcg@1: 0.159016\tvalid_0's ndcg@3: 0.169021\tvalid_0's ndcg@5: 0.177368\tvalid_0's ndcg@10: 0.194293\n",
      "[39]\tvalid_0's ndcg@1: 0.159016\tvalid_0's ndcg@3: 0.169838\tvalid_0's ndcg@5: 0.175774\tvalid_0's ndcg@10: 0.192966\n",
      "[40]\tvalid_0's ndcg@1: 0.162295\tvalid_0's ndcg@3: 0.168137\tvalid_0's ndcg@5: 0.175433\tvalid_0's ndcg@10: 0.195126\n",
      "[41]\tvalid_0's ndcg@1: 0.17541\tvalid_0's ndcg@3: 0.17414\tvalid_0's ndcg@5: 0.181492\tvalid_0's ndcg@10: 0.195521\n",
      "[42]\tvalid_0's ndcg@1: 0.17377\tvalid_0's ndcg@3: 0.176666\tvalid_0's ndcg@5: 0.185175\tvalid_0's ndcg@10: 0.199175\n",
      "[43]\tvalid_0's ndcg@1: 0.160656\tvalid_0's ndcg@3: 0.168485\tvalid_0's ndcg@5: 0.176165\tvalid_0's ndcg@10: 0.192018\n",
      "[44]\tvalid_0's ndcg@1: 0.157377\tvalid_0's ndcg@3: 0.166225\tvalid_0's ndcg@5: 0.175145\tvalid_0's ndcg@10: 0.192344\n",
      "[45]\tvalid_0's ndcg@1: 0.163934\tvalid_0's ndcg@3: 0.169556\tvalid_0's ndcg@5: 0.176476\tvalid_0's ndcg@10: 0.19442\n",
      "[46]\tvalid_0's ndcg@1: 0.170492\tvalid_0's ndcg@3: 0.174675\tvalid_0's ndcg@5: 0.180573\tvalid_0's ndcg@10: 0.194605\n",
      "[47]\tvalid_0's ndcg@1: 0.170492\tvalid_0's ndcg@3: 0.176849\tvalid_0's ndcg@5: 0.183837\tvalid_0's ndcg@10: 0.200294\n",
      "[48]\tvalid_0's ndcg@1: 0.157377\tvalid_0's ndcg@3: 0.166718\tvalid_0's ndcg@5: 0.1749\tvalid_0's ndcg@10: 0.193286\n",
      "[49]\tvalid_0's ndcg@1: 0.17377\tvalid_0's ndcg@3: 0.174893\tvalid_0's ndcg@5: 0.179414\tvalid_0's ndcg@10: 0.196071\n",
      "[50]\tvalid_0's ndcg@1: 0.159016\tvalid_0's ndcg@3: 0.167501\tvalid_0's ndcg@5: 0.176263\tvalid_0's ndcg@10: 0.192113\n",
      "[51]\tvalid_0's ndcg@1: 0.17377\tvalid_0's ndcg@3: 0.174796\tvalid_0's ndcg@5: 0.181184\tvalid_0's ndcg@10: 0.198552\n",
      "Early stopping, best iteration is:\n",
      "[1]\tvalid_0's ndcg@1: 0.17541\tvalid_0's ndcg@3: 0.184578\tvalid_0's ndcg@5: 0.193217\tvalid_0's ndcg@10: 0.210163\n"
     ]
    },
    {
     "data": {
      "text/plain": [
       "LGBMRanker(importance_type='gain', min_child_samples=1, min_child_weight=100,\n",
       "           n_jobs=2)"
      ]
     },
     "execution_count": 140,
     "metadata": {},
     "output_type": "execute_result"
    }
   ],
   "source": [
    "gbm.fit(X_train, y_train, group=group_train,\n",
    "        eval_set=[(X_val, y_val)], eval_group=[group_val],\n",
    "        eval_at=[1, 3, 5, 10], early_stopping_rounds=50, eval_metric='ndcg')"
   ]
  },
  {
   "cell_type": "code",
   "execution_count": 141,
   "metadata": {
    "ExecuteTime": {
     "end_time": "2020-07-31T16:39:32.883973Z",
     "start_time": "2020-07-31T16:39:32.854927Z"
    }
   },
   "outputs": [
    {
     "data": {
      "text/plain": [
       "array([-0.00916072, -0.00916072, -0.00916072, ..., -0.00916072,\n",
       "        0.0079397 ,  0.0079397 ])"
      ]
     },
     "execution_count": 141,
     "metadata": {},
     "output_type": "execute_result"
    }
   ],
   "source": [
    "test_pred = gbm.predict(X_test)\n",
    "test_pred"
   ]
  },
  {
   "cell_type": "markdown",
   "metadata": {},
   "source": [
    "## NDCG Score"
   ]
  },
  {
   "cell_type": "code",
   "execution_count": 142,
   "metadata": {
    "ExecuteTime": {
     "end_time": "2020-07-31T16:39:37.711952Z",
     "start_time": "2020-07-31T16:39:37.699089Z"
    }
   },
   "outputs": [],
   "source": [
    "p = 0\n",
    "m = 100\n",
    "lgbm_pred_per_user = []\n",
    "for i in range(len(num_users)):\n",
    "    lgbm_pred_per_user.append(test_pred[p:m])\n",
    "    p += 100\n",
    "    m += 100"
   ]
  },
  {
   "cell_type": "markdown",
   "metadata": {},
   "source": [
    "### NDCG IFM on this data"
   ]
  },
  {
   "cell_type": "code",
   "execution_count": 143,
   "metadata": {
    "ExecuteTime": {
     "end_time": "2020-07-31T16:39:53.201324Z",
     "start_time": "2020-07-31T16:39:43.516772Z"
    }
   },
   "outputs": [
    {
     "name": "stderr",
     "output_type": "stream",
     "text": [
      "C:\\Users\\papad\\Anaconda3\\lib\\site-packages\\ipykernel_launcher.py:2: RuntimeWarning: invalid value encountered in double_scalars\n",
      "  \n"
     ]
    }
   ],
   "source": [
    "lgbm_NDCG = []\n",
    "IFM_NDCG = []\n",
    "SVD_NDCG = []\n",
    "for i in range(len(num_users)):    \n",
    "    excel_df = pd.DataFrame({'movie_id': target_movies[i],'model1_score':feature1[i], 'model2_score':feature3[i],\n",
    "                             'is_comedy':feature4[i], '#users_watched':feature5[i], \n",
    "                             'train_label':label_train[i], 'test_label':label_test[i],\n",
    "                            'y_val':label_val[i],'LGBM Score':lgbm_pred_per_user[i]})\n",
    "    excel_df = excel_df.sort_values('LGBM Score',ascending = False)\n",
    "    relevance_lgbm_user = excel_df['test_label'].values.tolist()\n",
    "    lgbm_NDCG.append(NDCG_forUser(relevance_lgbm_user))\n",
    "    excel_df = excel_df.sort_values('model1_score',ascending = False)\n",
    "    ifm_relevance = excel_df['test_label'].values.tolist()\n",
    "    IFM_NDCG.append(NDCG_forUser(ifm_relevance))\n",
    "    excel_df = excel_df.sort_values('model2_score',ascending = False)\n",
    "    svd_relevance_h = excel_df['test_label'].values.tolist()\n",
    "    SVD_NDCG.append(NDCG_forUser(svd_relevance_h))"
   ]
  },
  {
   "cell_type": "code",
   "execution_count": 144,
   "metadata": {
    "ExecuteTime": {
     "end_time": "2020-07-31T16:39:59.128734Z",
     "start_time": "2020-07-31T16:39:59.114666Z"
    }
   },
   "outputs": [],
   "source": [
    "lgbm_NDCG = pd.Series(lgbm_NDCG).fillna(0).tolist()\n",
    "IFM_NDCG = pd.Series(IFM_NDCG).fillna(0).tolist()\n",
    "SVD_NDCG = pd.Series(SVD_NDCG).fillna(0).tolist()"
   ]
  },
  {
   "cell_type": "markdown",
   "metadata": {},
   "source": [
    "## Excel-Like"
   ]
  },
  {
   "cell_type": "code",
   "execution_count": 145,
   "metadata": {
    "ExecuteTime": {
     "end_time": "2020-07-31T16:40:05.299694Z",
     "start_time": "2020-07-31T16:40:05.282933Z"
    }
   },
   "outputs": [],
   "source": [
    "excel1_df = pd.DataFrame({'movie_id': target_movies[0],'model1_score':feature1[0], 'model2_score':feature3[0],'is_comedy':feature4[0],\n",
    "                            '#users_watched':feature5[0], 'train_label':label_train[0], 'test_label':label_test[0],\n",
    "                            'label_val':label_val[0],'LGBM Score':lgbm_pred_per_user[0]})"
   ]
  },
  {
   "cell_type": "code",
   "execution_count": 146,
   "metadata": {
    "ExecuteTime": {
     "end_time": "2020-07-31T16:40:11.438580Z",
     "start_time": "2020-07-31T16:40:11.418473Z"
    }
   },
   "outputs": [
    {
     "data": {
      "text/html": [
       "<div>\n",
       "<style scoped>\n",
       "    .dataframe tbody tr th:only-of-type {\n",
       "        vertical-align: middle;\n",
       "    }\n",
       "\n",
       "    .dataframe tbody tr th {\n",
       "        vertical-align: top;\n",
       "    }\n",
       "\n",
       "    .dataframe thead th {\n",
       "        text-align: right;\n",
       "    }\n",
       "</style>\n",
       "<table border=\"1\" class=\"dataframe\">\n",
       "  <thead>\n",
       "    <tr style=\"text-align: right;\">\n",
       "      <th></th>\n",
       "      <th>movie_id</th>\n",
       "      <th>model1_score</th>\n",
       "      <th>model2_score</th>\n",
       "      <th>is_comedy</th>\n",
       "      <th>#users_watched</th>\n",
       "      <th>train_label</th>\n",
       "      <th>test_label</th>\n",
       "      <th>label_val</th>\n",
       "      <th>LGBM Score</th>\n",
       "    </tr>\n",
       "  </thead>\n",
       "  <tbody>\n",
       "    <tr>\n",
       "      <th>0</th>\n",
       "      <td>1</td>\n",
       "      <td>14.507486</td>\n",
       "      <td>1.257308</td>\n",
       "      <td>1</td>\n",
       "      <td>215</td>\n",
       "      <td>0</td>\n",
       "      <td>1</td>\n",
       "      <td>0</td>\n",
       "      <td>-0.009161</td>\n",
       "    </tr>\n",
       "    <tr>\n",
       "      <th>1</th>\n",
       "      <td>47</td>\n",
       "      <td>13.880718</td>\n",
       "      <td>1.279574</td>\n",
       "      <td>0</td>\n",
       "      <td>203</td>\n",
       "      <td>0</td>\n",
       "      <td>1</td>\n",
       "      <td>0</td>\n",
       "      <td>-0.009161</td>\n",
       "    </tr>\n",
       "    <tr>\n",
       "      <th>2</th>\n",
       "      <td>50</td>\n",
       "      <td>13.855613</td>\n",
       "      <td>1.345503</td>\n",
       "      <td>0</td>\n",
       "      <td>204</td>\n",
       "      <td>1</td>\n",
       "      <td>0</td>\n",
       "      <td>0</td>\n",
       "      <td>-0.009161</td>\n",
       "    </tr>\n",
       "    <tr>\n",
       "      <th>3</th>\n",
       "      <td>110</td>\n",
       "      <td>14.380195</td>\n",
       "      <td>1.513634</td>\n",
       "      <td>0</td>\n",
       "      <td>237</td>\n",
       "      <td>0</td>\n",
       "      <td>0</td>\n",
       "      <td>0</td>\n",
       "      <td>-0.009161</td>\n",
       "    </tr>\n",
       "    <tr>\n",
       "      <th>4</th>\n",
       "      <td>223</td>\n",
       "      <td>12.816242</td>\n",
       "      <td>0.892551</td>\n",
       "      <td>1</td>\n",
       "      <td>104</td>\n",
       "      <td>0</td>\n",
       "      <td>0</td>\n",
       "      <td>1</td>\n",
       "      <td>-0.009161</td>\n",
       "    </tr>\n",
       "    <tr>\n",
       "      <th>5</th>\n",
       "      <td>231</td>\n",
       "      <td>13.500216</td>\n",
       "      <td>0.842172</td>\n",
       "      <td>1</td>\n",
       "      <td>133</td>\n",
       "      <td>0</td>\n",
       "      <td>1</td>\n",
       "      <td>0</td>\n",
       "      <td>-0.009161</td>\n",
       "    </tr>\n",
       "    <tr>\n",
       "      <th>6</th>\n",
       "      <td>235</td>\n",
       "      <td>13.211029</td>\n",
       "      <td>0.848266</td>\n",
       "      <td>1</td>\n",
       "      <td>70</td>\n",
       "      <td>0</td>\n",
       "      <td>0</td>\n",
       "      <td>0</td>\n",
       "      <td>-0.009161</td>\n",
       "    </tr>\n",
       "    <tr>\n",
       "      <th>7</th>\n",
       "      <td>260</td>\n",
       "      <td>13.459506</td>\n",
       "      <td>1.590818</td>\n",
       "      <td>0</td>\n",
       "      <td>251</td>\n",
       "      <td>0</td>\n",
       "      <td>0</td>\n",
       "      <td>0</td>\n",
       "      <td>-0.009161</td>\n",
       "    </tr>\n",
       "    <tr>\n",
       "      <th>8</th>\n",
       "      <td>296</td>\n",
       "      <td>14.622585</td>\n",
       "      <td>2.015701</td>\n",
       "      <td>1</td>\n",
       "      <td>307</td>\n",
       "      <td>0</td>\n",
       "      <td>0</td>\n",
       "      <td>0</td>\n",
       "      <td>-0.009161</td>\n",
       "    </tr>\n",
       "    <tr>\n",
       "      <th>9</th>\n",
       "      <td>316</td>\n",
       "      <td>15.244123</td>\n",
       "      <td>1.162237</td>\n",
       "      <td>0</td>\n",
       "      <td>140</td>\n",
       "      <td>0</td>\n",
       "      <td>0</td>\n",
       "      <td>1</td>\n",
       "      <td>-0.009161</td>\n",
       "    </tr>\n",
       "  </tbody>\n",
       "</table>\n",
       "</div>"
      ],
      "text/plain": [
       "   movie_id  model1_score  model2_score  is_comedy  #users_watched  \\\n",
       "0         1     14.507486      1.257308          1             215   \n",
       "1        47     13.880718      1.279574          0             203   \n",
       "2        50     13.855613      1.345503          0             204   \n",
       "3       110     14.380195      1.513634          0             237   \n",
       "4       223     12.816242      0.892551          1             104   \n",
       "5       231     13.500216      0.842172          1             133   \n",
       "6       235     13.211029      0.848266          1              70   \n",
       "7       260     13.459506      1.590818          0             251   \n",
       "8       296     14.622585      2.015701          1             307   \n",
       "9       316     15.244123      1.162237          0             140   \n",
       "\n",
       "   train_label  test_label  label_val  LGBM Score  \n",
       "0            0           1          0   -0.009161  \n",
       "1            0           1          0   -0.009161  \n",
       "2            1           0          0   -0.009161  \n",
       "3            0           0          0   -0.009161  \n",
       "4            0           0          1   -0.009161  \n",
       "5            0           1          0   -0.009161  \n",
       "6            0           0          0   -0.009161  \n",
       "7            0           0          0   -0.009161  \n",
       "8            0           0          0   -0.009161  \n",
       "9            0           0          1   -0.009161  "
      ]
     },
     "execution_count": 146,
     "metadata": {},
     "output_type": "execute_result"
    }
   ],
   "source": [
    "excel1_df.head(10)"
   ]
  },
  {
   "cell_type": "code",
   "execution_count": 147,
   "metadata": {
    "ExecuteTime": {
     "end_time": "2020-07-31T16:40:17.293880Z",
     "start_time": "2020-07-31T16:40:17.253530Z"
    }
   },
   "outputs": [
    {
     "data": {
      "text/html": [
       "<div>\n",
       "<style scoped>\n",
       "    .dataframe tbody tr th:only-of-type {\n",
       "        vertical-align: middle;\n",
       "    }\n",
       "\n",
       "    .dataframe tbody tr th {\n",
       "        vertical-align: top;\n",
       "    }\n",
       "\n",
       "    .dataframe thead th {\n",
       "        text-align: right;\n",
       "    }\n",
       "</style>\n",
       "<table border=\"1\" class=\"dataframe\">\n",
       "  <thead>\n",
       "    <tr style=\"text-align: right;\">\n",
       "      <th></th>\n",
       "      <th>movie_id</th>\n",
       "      <th>model1_score</th>\n",
       "      <th>model2_score</th>\n",
       "      <th>is_comedy</th>\n",
       "      <th>#users_watched</th>\n",
       "      <th>train_label</th>\n",
       "      <th>test_label</th>\n",
       "      <th>label_val</th>\n",
       "      <th>LGBM Score</th>\n",
       "    </tr>\n",
       "  </thead>\n",
       "  <tbody>\n",
       "    <tr>\n",
       "      <th>50</th>\n",
       "      <td>253</td>\n",
       "      <td>13.910625</td>\n",
       "      <td>0.669686</td>\n",
       "      <td>0</td>\n",
       "      <td>109</td>\n",
       "      <td>0</td>\n",
       "      <td>0</td>\n",
       "      <td>0</td>\n",
       "      <td>0.00794</td>\n",
       "    </tr>\n",
       "    <tr>\n",
       "      <th>37</th>\n",
       "      <td>32</td>\n",
       "      <td>14.059614</td>\n",
       "      <td>1.481972</td>\n",
       "      <td>0</td>\n",
       "      <td>177</td>\n",
       "      <td>0</td>\n",
       "      <td>0</td>\n",
       "      <td>0</td>\n",
       "      <td>0.00794</td>\n",
       "    </tr>\n",
       "    <tr>\n",
       "      <th>53</th>\n",
       "      <td>344</td>\n",
       "      <td>15.927309</td>\n",
       "      <td>0.750123</td>\n",
       "      <td>1</td>\n",
       "      <td>161</td>\n",
       "      <td>0</td>\n",
       "      <td>0</td>\n",
       "      <td>0</td>\n",
       "      <td>0.00794</td>\n",
       "    </tr>\n",
       "    <tr>\n",
       "      <th>52</th>\n",
       "      <td>300</td>\n",
       "      <td>12.858565</td>\n",
       "      <td>0.499880</td>\n",
       "      <td>0</td>\n",
       "      <td>81</td>\n",
       "      <td>0</td>\n",
       "      <td>0</td>\n",
       "      <td>0</td>\n",
       "      <td>0.00794</td>\n",
       "    </tr>\n",
       "    <tr>\n",
       "      <th>51</th>\n",
       "      <td>266</td>\n",
       "      <td>14.024136</td>\n",
       "      <td>0.516531</td>\n",
       "      <td>0</td>\n",
       "      <td>68</td>\n",
       "      <td>0</td>\n",
       "      <td>0</td>\n",
       "      <td>0</td>\n",
       "      <td>0.00794</td>\n",
       "    </tr>\n",
       "    <tr>\n",
       "      <th>74</th>\n",
       "      <td>317</td>\n",
       "      <td>12.586538</td>\n",
       "      <td>0.427895</td>\n",
       "      <td>1</td>\n",
       "      <td>81</td>\n",
       "      <td>0</td>\n",
       "      <td>0</td>\n",
       "      <td>0</td>\n",
       "      <td>0.00794</td>\n",
       "    </tr>\n",
       "    <tr>\n",
       "      <th>49</th>\n",
       "      <td>153</td>\n",
       "      <td>14.337541</td>\n",
       "      <td>0.750702</td>\n",
       "      <td>1</td>\n",
       "      <td>137</td>\n",
       "      <td>0</td>\n",
       "      <td>0</td>\n",
       "      <td>0</td>\n",
       "      <td>0.00794</td>\n",
       "    </tr>\n",
       "    <tr>\n",
       "      <th>48</th>\n",
       "      <td>150</td>\n",
       "      <td>14.390412</td>\n",
       "      <td>1.063265</td>\n",
       "      <td>0</td>\n",
       "      <td>201</td>\n",
       "      <td>0</td>\n",
       "      <td>0</td>\n",
       "      <td>0</td>\n",
       "      <td>0.00794</td>\n",
       "    </tr>\n",
       "    <tr>\n",
       "      <th>47</th>\n",
       "      <td>39</td>\n",
       "      <td>14.631954</td>\n",
       "      <td>0.706484</td>\n",
       "      <td>1</td>\n",
       "      <td>104</td>\n",
       "      <td>0</td>\n",
       "      <td>0</td>\n",
       "      <td>0</td>\n",
       "      <td>0.00794</td>\n",
       "    </tr>\n",
       "    <tr>\n",
       "      <th>46</th>\n",
       "      <td>34</td>\n",
       "      <td>13.684621</td>\n",
       "      <td>0.934621</td>\n",
       "      <td>0</td>\n",
       "      <td>128</td>\n",
       "      <td>0</td>\n",
       "      <td>0</td>\n",
       "      <td>0</td>\n",
       "      <td>0.00794</td>\n",
       "    </tr>\n",
       "  </tbody>\n",
       "</table>\n",
       "</div>"
      ],
      "text/plain": [
       "    movie_id  model1_score  model2_score  is_comedy  #users_watched  \\\n",
       "50       253     13.910625      0.669686          0             109   \n",
       "37        32     14.059614      1.481972          0             177   \n",
       "53       344     15.927309      0.750123          1             161   \n",
       "52       300     12.858565      0.499880          0              81   \n",
       "51       266     14.024136      0.516531          0              68   \n",
       "74       317     12.586538      0.427895          1              81   \n",
       "49       153     14.337541      0.750702          1             137   \n",
       "48       150     14.390412      1.063265          0             201   \n",
       "47        39     14.631954      0.706484          1             104   \n",
       "46        34     13.684621      0.934621          0             128   \n",
       "\n",
       "    train_label  test_label  label_val  LGBM Score  \n",
       "50            0           0          0     0.00794  \n",
       "37            0           0          0     0.00794  \n",
       "53            0           0          0     0.00794  \n",
       "52            0           0          0     0.00794  \n",
       "51            0           0          0     0.00794  \n",
       "74            0           0          0     0.00794  \n",
       "49            0           0          0     0.00794  \n",
       "48            0           0          0     0.00794  \n",
       "47            0           0          0     0.00794  \n",
       "46            0           0          0     0.00794  "
      ]
     },
     "execution_count": 147,
     "metadata": {},
     "output_type": "execute_result"
    }
   ],
   "source": [
    "excel1_df = excel1_df.sort_values('LGBM Score',ascending = False)\n",
    "excel1_df.head(10)"
   ]
  },
  {
   "cell_type": "code",
   "execution_count": 148,
   "metadata": {
    "ExecuteTime": {
     "end_time": "2020-07-31T16:40:24.990899Z",
     "start_time": "2020-07-31T16:40:24.977625Z"
    }
   },
   "outputs": [],
   "source": [
    "relevance_lgbm_firstUser = excel1_df['test_label'].values.tolist()"
   ]
  },
  {
   "cell_type": "code",
   "execution_count": 149,
   "metadata": {
    "ExecuteTime": {
     "end_time": "2020-07-31T16:40:30.889392Z",
     "start_time": "2020-07-31T16:40:30.875278Z"
    }
   },
   "outputs": [
    {
     "data": {
      "text/plain": [
       "0.3578281596642463"
      ]
     },
     "execution_count": 149,
     "metadata": {},
     "output_type": "execute_result"
    }
   ],
   "source": [
    "L1GBM_ndcg = NDCG_forUser(relevance_lgbm_firstUser)\n",
    "L1GBM_ndcg"
   ]
  },
  {
   "cell_type": "markdown",
   "metadata": {},
   "source": [
    "## NDCG Comparison"
   ]
  },
  {
   "cell_type": "code",
   "execution_count": 150,
   "metadata": {
    "ExecuteTime": {
     "end_time": "2020-07-31T16:40:37.454102Z",
     "start_time": "2020-07-31T16:40:37.440174Z"
    }
   },
   "outputs": [
    {
     "data": {
      "text/plain": [
       "0.8236762566541531"
      ]
     },
     "execution_count": 150,
     "metadata": {},
     "output_type": "execute_result"
    }
   ],
   "source": [
    "allUsers_implicit_ndcg[0]"
   ]
  },
  {
   "cell_type": "code",
   "execution_count": 151,
   "metadata": {
    "ExecuteTime": {
     "end_time": "2020-07-31T16:40:43.790914Z",
     "start_time": "2020-07-31T16:40:43.779726Z"
    }
   },
   "outputs": [],
   "source": [
    "ndcg_df = pd.DataFrame({'Implicit FM': allUsers_implicit_ndcg, 'LightGBM': lgbm_NDCG, 'IFM_this': IFM_NDCG,\n",
    "                        'SVD_this': SVD_NDCG})"
   ]
  },
  {
   "cell_type": "code",
   "execution_count": 152,
   "metadata": {
    "ExecuteTime": {
     "end_time": "2020-07-31T16:40:49.952530Z",
     "start_time": "2020-07-31T16:40:49.917833Z"
    }
   },
   "outputs": [
    {
     "data": {
      "text/html": [
       "<div>\n",
       "<style scoped>\n",
       "    .dataframe tbody tr th:only-of-type {\n",
       "        vertical-align: middle;\n",
       "    }\n",
       "\n",
       "    .dataframe tbody tr th {\n",
       "        vertical-align: top;\n",
       "    }\n",
       "\n",
       "    .dataframe thead th {\n",
       "        text-align: right;\n",
       "    }\n",
       "</style>\n",
       "<table border=\"1\" class=\"dataframe\">\n",
       "  <thead>\n",
       "    <tr style=\"text-align: right;\">\n",
       "      <th></th>\n",
       "      <th>Implicit FM</th>\n",
       "      <th>LightGBM</th>\n",
       "      <th>IFM_this</th>\n",
       "      <th>SVD_this</th>\n",
       "    </tr>\n",
       "  </thead>\n",
       "  <tbody>\n",
       "    <tr>\n",
       "      <th>0</th>\n",
       "      <td>0.823676</td>\n",
       "      <td>0.357828</td>\n",
       "      <td>0.477697</td>\n",
       "      <td>0.493939</td>\n",
       "    </tr>\n",
       "    <tr>\n",
       "      <th>1</th>\n",
       "      <td>0.259396</td>\n",
       "      <td>0.157293</td>\n",
       "      <td>0.154423</td>\n",
       "      <td>0.630930</td>\n",
       "    </tr>\n",
       "    <tr>\n",
       "      <th>2</th>\n",
       "      <td>0.000000</td>\n",
       "      <td>0.430677</td>\n",
       "      <td>0.159571</td>\n",
       "      <td>0.170707</td>\n",
       "    </tr>\n",
       "    <tr>\n",
       "      <th>3</th>\n",
       "      <td>0.334415</td>\n",
       "      <td>0.371463</td>\n",
       "      <td>0.370574</td>\n",
       "      <td>0.579016</td>\n",
       "    </tr>\n",
       "    <tr>\n",
       "      <th>4</th>\n",
       "      <td>0.639815</td>\n",
       "      <td>0.311190</td>\n",
       "      <td>0.577614</td>\n",
       "      <td>0.666925</td>\n",
       "    </tr>\n",
       "    <tr>\n",
       "      <th>...</th>\n",
       "      <td>...</td>\n",
       "      <td>...</td>\n",
       "      <td>...</td>\n",
       "      <td>...</td>\n",
       "    </tr>\n",
       "    <tr>\n",
       "      <th>605</th>\n",
       "      <td>0.428434</td>\n",
       "      <td>0.383363</td>\n",
       "      <td>0.380066</td>\n",
       "      <td>0.465040</td>\n",
       "    </tr>\n",
       "    <tr>\n",
       "      <th>606</th>\n",
       "      <td>0.465352</td>\n",
       "      <td>0.344000</td>\n",
       "      <td>0.423681</td>\n",
       "      <td>0.551513</td>\n",
       "    </tr>\n",
       "    <tr>\n",
       "      <th>607</th>\n",
       "      <td>0.473311</td>\n",
       "      <td>0.499618</td>\n",
       "      <td>0.494308</td>\n",
       "      <td>0.505192</td>\n",
       "    </tr>\n",
       "    <tr>\n",
       "      <th>608</th>\n",
       "      <td>0.353590</td>\n",
       "      <td>0.252069</td>\n",
       "      <td>0.404021</td>\n",
       "      <td>0.665056</td>\n",
       "    </tr>\n",
       "    <tr>\n",
       "      <th>609</th>\n",
       "      <td>0.408941</td>\n",
       "      <td>0.492898</td>\n",
       "      <td>0.457123</td>\n",
       "      <td>0.545208</td>\n",
       "    </tr>\n",
       "  </tbody>\n",
       "</table>\n",
       "<p>610 rows × 4 columns</p>\n",
       "</div>"
      ],
      "text/plain": [
       "     Implicit FM  LightGBM  IFM_this  SVD_this\n",
       "0       0.823676  0.357828  0.477697  0.493939\n",
       "1       0.259396  0.157293  0.154423  0.630930\n",
       "2       0.000000  0.430677  0.159571  0.170707\n",
       "3       0.334415  0.371463  0.370574  0.579016\n",
       "4       0.639815  0.311190  0.577614  0.666925\n",
       "..           ...       ...       ...       ...\n",
       "605     0.428434  0.383363  0.380066  0.465040\n",
       "606     0.465352  0.344000  0.423681  0.551513\n",
       "607     0.473311  0.499618  0.494308  0.505192\n",
       "608     0.353590  0.252069  0.404021  0.665056\n",
       "609     0.408941  0.492898  0.457123  0.545208\n",
       "\n",
       "[610 rows x 4 columns]"
      ]
     },
     "execution_count": 152,
     "metadata": {},
     "output_type": "execute_result"
    }
   ],
   "source": [
    "ndcg_df"
   ]
  },
  {
   "cell_type": "code",
   "execution_count": 153,
   "metadata": {
    "ExecuteTime": {
     "end_time": "2020-07-31T16:40:56.947228Z",
     "start_time": "2020-07-31T16:40:56.937063Z"
    }
   },
   "outputs": [
    {
     "data": {
      "text/plain": [
       "0.32871759234750464"
      ]
     },
     "execution_count": 153,
     "metadata": {},
     "output_type": "execute_result"
    }
   ],
   "source": [
    "ndcg_df['Implicit FM'].mean()"
   ]
  },
  {
   "cell_type": "code",
   "execution_count": 154,
   "metadata": {
    "ExecuteTime": {
     "end_time": "2020-07-31T16:41:02.634030Z",
     "start_time": "2020-07-31T16:41:02.618693Z"
    }
   },
   "outputs": [
    {
     "data": {
      "text/plain": [
       "0.3133342893424578"
      ]
     },
     "execution_count": 154,
     "metadata": {},
     "output_type": "execute_result"
    }
   ],
   "source": [
    "ndcg_df['LightGBM'].mean()"
   ]
  },
  {
   "cell_type": "code",
   "execution_count": 155,
   "metadata": {
    "ExecuteTime": {
     "end_time": "2020-07-31T16:41:08.496100Z",
     "start_time": "2020-07-31T16:41:08.478704Z"
    }
   },
   "outputs": [
    {
     "data": {
      "text/plain": [
       "0.33762125593303116"
      ]
     },
     "execution_count": 155,
     "metadata": {},
     "output_type": "execute_result"
    }
   ],
   "source": [
    "ndcg_df['IFM_this'].mean()"
   ]
  },
  {
   "cell_type": "code",
   "execution_count": 156,
   "metadata": {
    "ExecuteTime": {
     "end_time": "2020-07-31T16:41:14.750651Z",
     "start_time": "2020-07-31T16:41:14.735303Z"
    }
   },
   "outputs": [
    {
     "data": {
      "text/plain": [
       "0.37194267141511733"
      ]
     },
     "execution_count": 156,
     "metadata": {},
     "output_type": "execute_result"
    }
   ],
   "source": [
    "ndcg_df['SVD_this'].mean()"
   ]
  },
  {
   "cell_type": "markdown",
   "metadata": {},
   "source": [
    "Feature ideas\n",
    "1. Rank (rankdata from recsys project, array-n -> returns array-n containing results ->1,2,3 -> 1 is the best)\n",
    "2. Negative samples (random-k) (now I train it only on high relevance)\n",
    "3. Feature importances (plot)"
   ]
  },
  {
   "cell_type": "markdown",
   "metadata": {},
   "source": [
    "# Draft"
   ]
  },
  {
   "cell_type": "code",
   "execution_count": null,
   "metadata": {
    "ExecuteTime": {
     "end_time": "2020-07-31T16:18:22.315968Z",
     "start_time": "2020-07-31T16:14:44.810Z"
    }
   },
   "outputs": [],
   "source": [
    "from sklearn.metrics import dcg_score\n",
    "true = np.asarray([actual])\n",
    "pred = np.asarray([predicted_rank_svd])\n",
    "dcg = dcg_score(true,pred)\n",
    "idcg = dcg_score(true,true)\n",
    "ndcg = dcg/idcg"
   ]
  },
  {
   "cell_type": "code",
   "execution_count": null,
   "metadata": {
    "ExecuteTime": {
     "end_time": "2020-07-31T16:18:22.316967Z",
     "start_time": "2020-07-31T16:14:44.814Z"
    }
   },
   "outputs": [],
   "source": [
    "ndcg"
   ]
  },
  {
   "cell_type": "code",
   "execution_count": null,
   "metadata": {
    "ExecuteTime": {
     "end_time": "2020-07-31T16:18:22.317962Z",
     "start_time": "2020-07-31T16:14:44.818Z"
    }
   },
   "outputs": [],
   "source": [
    "from sklearn.metrics import ndcg_score\n",
    "n = ndcg_score(true,pred)\n",
    "n"
   ]
  },
  {
   "cell_type": "code",
   "execution_count": null,
   "metadata": {
    "ExecuteTime": {
     "end_time": "2020-07-31T16:18:22.318959Z",
     "start_time": "2020-07-31T16:14:44.822Z"
    }
   },
   "outputs": [],
   "source": [
    "'''relevance = []\n",
    "for i in range(20,40):\n",
    "    if predicted_rank_svd[i] in actual:\n",
    "        relevance.append(1)\n",
    "    else:\n",
    "        relevance.append(0)'''"
   ]
  },
  {
   "cell_type": "code",
   "execution_count": null,
   "metadata": {
    "ExecuteTime": {
     "end_time": "2020-07-31T16:18:22.319957Z",
     "start_time": "2020-07-31T16:14:44.826Z"
    }
   },
   "outputs": [],
   "source": [
    "svd_rank_allUsers = []\n",
    "for i in range(1,len(num_users)+1):\n",
    "    already_rated, predictions = recommend_movies(svd_predictions_score_df, i, movies_df, ratings_df, 100)\n",
    "    svd_rank_allUsers.append(predictions['movieId'].index.tolist()) \n"
   ]
  },
  {
   "cell_type": "code",
   "execution_count": null,
   "metadata": {
    "ExecuteTime": {
     "end_time": "2020-07-31T16:18:22.320956Z",
     "start_time": "2020-07-31T16:14:44.832Z"
    }
   },
   "outputs": [],
   "source": [
    "'''def NDCG_forUser_SVD(user):\n",
    "    return dcg(svd_predictions[svd_predictions_df.index == user]) / ideal_dcg(svd_predictions[svd_predictions_df.index == user])'''"
   ]
  },
  {
   "cell_type": "code",
   "execution_count": null,
   "metadata": {
    "ExecuteTime": {
     "end_time": "2020-07-31T16:18:22.321955Z",
     "start_time": "2020-07-31T16:14:44.837Z"
    }
   },
   "outputs": [],
   "source": [
    "'''NDCG_SVD = NDCG_forUser_SVD(2)'''"
   ]
  },
  {
   "cell_type": "code",
   "execution_count": null,
   "metadata": {
    "ExecuteTime": {
     "end_time": "2020-07-31T16:18:22.322951Z",
     "start_time": "2020-07-31T16:14:44.841Z"
    }
   },
   "outputs": [],
   "source": [
    "'''NDCG_SVD'''"
   ]
  },
  {
   "cell_type": "markdown",
   "metadata": {},
   "source": [
    "Take as features the predicted ratings for the users of SVD and Implicit for the next step?"
   ]
  },
  {
   "cell_type": "markdown",
   "metadata": {},
   "source": [
    "## Embeddings "
   ]
  },
  {
   "cell_type": "code",
   "execution_count": null,
   "metadata": {
    "ExecuteTime": {
     "end_time": "2020-07-31T16:18:22.323946Z",
     "start_time": "2020-07-31T16:14:44.847Z"
    }
   },
   "outputs": [],
   "source": [
    "emb = implicit_model._net.item_embeddings.num_embeddings\n",
    "emb\n",
    "'''emb = emb.tolist()\n",
    "print(len(emb))'''"
   ]
  },
  {
   "cell_type": "code",
   "execution_count": null,
   "metadata": {
    "ExecuteTime": {
     "end_time": "2020-07-31T16:18:22.324943Z",
     "start_time": "2020-07-31T16:14:44.851Z"
    }
   },
   "outputs": [],
   "source": [
    "emb"
   ]
  },
  {
   "cell_type": "code",
   "execution_count": null,
   "metadata": {},
   "outputs": [],
   "source": []
  },
  {
   "cell_type": "code",
   "execution_count": null,
   "metadata": {},
   "outputs": [],
   "source": []
  },
  {
   "cell_type": "markdown",
   "metadata": {},
   "source": [
    "## KNN"
   ]
  },
  {
   "cell_type": "markdown",
   "metadata": {},
   "source": [
    "Pivot is used to have a matrix that has as rows the userIDs and as columns the movieIDs. The unrated, by a user, movies are assigned the value 0 instead of null. Pivot organizes a DataFrame by giving index and column values. It is helpful in the recommender systems approach."
   ]
  },
  {
   "cell_type": "code",
   "execution_count": null,
   "metadata": {
    "ExecuteTime": {
     "end_time": "2020-07-31T16:18:22.325941Z",
     "start_time": "2020-07-31T16:14:44.861Z"
    }
   },
   "outputs": [],
   "source": [
    "df_movie_features = ratings_df.pivot(\n",
    "    index='userId',\n",
    "    columns='movieId',\n",
    "    values='rating'\n",
    ").fillna(0)"
   ]
  },
  {
   "cell_type": "code",
   "execution_count": null,
   "metadata": {
    "ExecuteTime": {
     "end_time": "2020-07-31T16:18:22.326940Z",
     "start_time": "2020-07-31T16:14:44.865Z"
    }
   },
   "outputs": [],
   "source": [
    "df_movie_features"
   ]
  },
  {
   "cell_type": "code",
   "execution_count": null,
   "metadata": {
    "ExecuteTime": {
     "end_time": "2020-07-31T16:18:22.327937Z",
     "start_time": "2020-07-31T16:14:44.870Z"
    }
   },
   "outputs": [],
   "source": [
    "height = [len(df_movie_features.values[df_movie_features.values== 0]),len(df_movie_features.values[df_movie_features.values==0.5]),\n",
    "          len(df_movie_features.values[df_movie_features.values== 1]),len(df_movie_features.values[df_movie_features.values==1.5]),\n",
    "          len(df_movie_features.values[df_movie_features.values== 2]),len(df_movie_features.values[df_movie_features.values==2.5]),\n",
    "          len(df_movie_features.values[df_movie_features.values== 3]),len(df_movie_features.values[df_movie_features.values==3.5]),\n",
    "          len(df_movie_features.values[df_movie_features.values== 4]),len(df_movie_features.values[df_movie_features.values==4.5]),\n",
    "          len(df_movie_features.values[df_movie_features.values== 5])]\n",
    "x = ('0','0.5', '1','1.5' ,'2','2.5', '3','3.5', '4','4.5','5')\n",
    "plt.bar(x, height)\n",
    "plt.xlabel('Rating')\n",
    "plt.ylabel('Number of users')\n",
    "plt.show()\n"
   ]
  },
  {
   "cell_type": "markdown",
   "metadata": {},
   "source": [
    "A lot of ratings in the user-movie matrix are zero, so the data are extremely sparse."
   ]
  },
  {
   "cell_type": "markdown",
   "metadata": {},
   "source": [
    "To makes sesne the idea of obtaining the taste of the users, they should have rated at least 20 movies. Otherwise, the taste of them is not clear. The users that have rated less than 20 movies will be excluded. Also the movies that have less than 20 ratings will be excluded too."
   ]
  },
  {
   "cell_type": "code",
   "execution_count": null,
   "metadata": {
    "ExecuteTime": {
     "end_time": "2020-07-31T16:18:22.329931Z",
     "start_time": "2020-07-31T16:14:44.875Z"
    }
   },
   "outputs": [],
   "source": [
    "popularity_thres = 20\n",
    "popular_movies = list(set(df_movies_cnt.query('count >= @popularity_thres').index))\n",
    "df_ratings_drop_movies = df_ratings[df_ratings.movieId.isin(popular_movies)]\n",
    "print('shape of original ratings data: ', df_ratings.shape)\n",
    "print('shape of ratings data after dropping unpopular movies: ', df_ratings_drop_movies.shape)\n",
    "# filter data to come to an approximation of user likings.\n",
    "ratings_thres = 20\n",
    "active_users = list(set(df_users_cnt.query('count >= @ratings_thres').index))\n",
    "df_ratings_drop_users = df_ratings_drop_movies[df_ratings_drop_movies.userId.isin(active_users)]\n",
    "print('shape of original ratings data: ', df_ratings.shape)\n",
    "print('shape of ratings data after dropping both unpopular movies and inactive users: ', df_ratings_drop_users.shape)"
   ]
  },
  {
   "cell_type": "code",
   "execution_count": null,
   "metadata": {
    "ExecuteTime": {
     "end_time": "2020-07-31T16:18:22.330928Z",
     "start_time": "2020-07-31T16:14:44.880Z"
    }
   },
   "outputs": [],
   "source": [
    "with pd.option_context('display.max_rows', None, 'display.max_columns', None):  # more options can be specified also\n",
    "    print(ratings_df)"
   ]
  },
  {
   "cell_type": "code",
   "execution_count": null,
   "metadata": {
    "ExecuteTime": {
     "end_time": "2020-07-31T16:18:22.333948Z",
     "start_time": "2020-07-31T16:14:44.885Z"
    }
   },
   "outputs": [],
   "source": [
    "ratings_df[24400:24450]"
   ]
  },
  {
   "cell_type": "code",
   "execution_count": null,
   "metadata": {},
   "outputs": [],
   "source": []
  },
  {
   "cell_type": "code",
   "execution_count": null,
   "metadata": {},
   "outputs": [],
   "source": []
  }
 ],
 "metadata": {
  "kernelspec": {
   "display_name": "Python 3",
   "language": "python",
   "name": "python3"
  },
  "language_info": {
   "codemirror_mode": {
    "name": "ipython",
    "version": 3
   },
   "file_extension": ".py",
   "mimetype": "text/x-python",
   "name": "python",
   "nbconvert_exporter": "python",
   "pygments_lexer": "ipython3",
   "version": "3.7.7"
  },
  "toc": {
   "base_numbering": 1,
   "nav_menu": {},
   "number_sections": true,
   "sideBar": true,
   "skip_h1_title": false,
   "title_cell": "Table of Contents",
   "title_sidebar": "Contents",
   "toc_cell": false,
   "toc_position": {
    "height": "calc(100% - 180px)",
    "left": "10px",
    "top": "150px",
    "width": "303.2px"
   },
   "toc_section_display": true,
   "toc_window_display": true
  },
  "varInspector": {
   "cols": {
    "lenName": 16,
    "lenType": 16,
    "lenVar": 40
   },
   "kernels_config": {
    "python": {
     "delete_cmd_postfix": "",
     "delete_cmd_prefix": "del ",
     "library": "var_list.py",
     "varRefreshCmd": "print(var_dic_list())"
    },
    "r": {
     "delete_cmd_postfix": ") ",
     "delete_cmd_prefix": "rm(",
     "library": "var_list.r",
     "varRefreshCmd": "cat(var_dic_list()) "
    }
   },
   "position": {
    "height": "200.4px",
    "left": "1102px",
    "right": "20px",
    "top": "24px",
    "width": "433px"
   },
   "types_to_exclude": [
    "module",
    "function",
    "builtin_function_or_method",
    "instance",
    "_Feature"
   ],
   "window_display": false
  }
 },
 "nbformat": 4,
 "nbformat_minor": 2
}
