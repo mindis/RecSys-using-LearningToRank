{
 "cells": [
  {
   "cell_type": "code",
   "execution_count": 4,
   "metadata": {
    "ExecuteTime": {
     "end_time": "2020-08-24T12:53:20.059961Z",
     "start_time": "2020-08-24T12:53:20.037872Z"
    }
   },
   "outputs": [],
   "source": [
    "%config IPCompleter.greedy=True"
   ]
  },
  {
   "cell_type": "code",
   "execution_count": 5,
   "metadata": {
    "ExecuteTime": {
     "end_time": "2020-08-24T12:53:20.116442Z",
     "start_time": "2020-08-24T12:53:20.061661Z"
    }
   },
   "outputs": [],
   "source": [
    "import pandas as pd\n",
    "import numpy as np\n",
    "import matplotlib.pyplot as plt\n",
    "from spotlight.factorization.implicit import ImplicitFactorizationModel\n",
    "from spotlight.interactions import Interactions\n",
    "from spotlight.cross_validation import random_train_test_split"
   ]
  },
  {
   "cell_type": "code",
   "execution_count": 6,
   "metadata": {
    "ExecuteTime": {
     "end_time": "2020-08-24T12:53:20.308959Z",
     "start_time": "2020-08-24T12:53:20.120215Z"
    }
   },
   "outputs": [],
   "source": [
    "ratings_df = pd.read_csv('C:/Users/papad/Desktop/ml-latest-small/ml-latest-small/ratings.csv')\n",
    "movies_df = pd.read_csv('C:/Users/papad/Desktop/ml-latest-small/ml-latest-small/movies.csv')\n",
    "tags_df = pd.read_csv('C:/Users/papad/Desktop/ml-latest-small/ml-latest-small/tags.csv')\n",
    "links_df = pd.read_csv('C:/Users/papad/Desktop/ml-latest-small/ml-latest-small/links.csv')"
   ]
  },
  {
   "cell_type": "code",
   "execution_count": 7,
   "metadata": {
    "ExecuteTime": {
     "end_time": "2020-08-24T12:53:20.320647Z",
     "start_time": "2020-08-24T12:53:20.313164Z"
    }
   },
   "outputs": [],
   "source": [
    "#ratings_df = pd.read_csv('C:/Users/papad/Desktop/ml-25m/ml-25m/ratings.csv')\n",
    "#movies_df = pd.read_csv('C:/Users/papad/Desktop/ml-25m/ml-25m/movies.csv')"
   ]
  },
  {
   "cell_type": "markdown",
   "metadata": {},
   "source": [
    "# Dataset"
   ]
  },
  {
   "cell_type": "code",
   "execution_count": 8,
   "metadata": {
    "ExecuteTime": {
     "end_time": "2020-08-24T12:53:20.388053Z",
     "start_time": "2020-08-24T12:53:20.323939Z"
    }
   },
   "outputs": [],
   "source": [
    "#percentage = 5\n",
    "#movies_df = movies_df.head(int(len(movies_df)*(percentage/100)))\n",
    "#ratings_df = ratings_df.head(int(len(ratings_df)*(percentage/100)))"
   ]
  },
  {
   "cell_type": "code",
   "execution_count": 9,
   "metadata": {
    "ExecuteTime": {
     "end_time": "2020-08-24T12:53:20.415371Z",
     "start_time": "2020-08-24T12:53:20.391540Z"
    },
    "cell_style": "split"
   },
   "outputs": [
    {
     "data": {
      "text/html": [
       "<div>\n",
       "<style scoped>\n",
       "    .dataframe tbody tr th:only-of-type {\n",
       "        vertical-align: middle;\n",
       "    }\n",
       "\n",
       "    .dataframe tbody tr th {\n",
       "        vertical-align: top;\n",
       "    }\n",
       "\n",
       "    .dataframe thead th {\n",
       "        text-align: right;\n",
       "    }\n",
       "</style>\n",
       "<table border=\"1\" class=\"dataframe\">\n",
       "  <thead>\n",
       "    <tr style=\"text-align: right;\">\n",
       "      <th></th>\n",
       "      <th>movieId</th>\n",
       "      <th>title</th>\n",
       "      <th>genres</th>\n",
       "    </tr>\n",
       "  </thead>\n",
       "  <tbody>\n",
       "    <tr>\n",
       "      <th>0</th>\n",
       "      <td>1</td>\n",
       "      <td>Toy Story (1995)</td>\n",
       "      <td>Adventure|Animation|Children|Comedy|Fantasy</td>\n",
       "    </tr>\n",
       "    <tr>\n",
       "      <th>1</th>\n",
       "      <td>2</td>\n",
       "      <td>Jumanji (1995)</td>\n",
       "      <td>Adventure|Children|Fantasy</td>\n",
       "    </tr>\n",
       "    <tr>\n",
       "      <th>2</th>\n",
       "      <td>3</td>\n",
       "      <td>Grumpier Old Men (1995)</td>\n",
       "      <td>Comedy|Romance</td>\n",
       "    </tr>\n",
       "    <tr>\n",
       "      <th>3</th>\n",
       "      <td>4</td>\n",
       "      <td>Waiting to Exhale (1995)</td>\n",
       "      <td>Comedy|Drama|Romance</td>\n",
       "    </tr>\n",
       "    <tr>\n",
       "      <th>4</th>\n",
       "      <td>5</td>\n",
       "      <td>Father of the Bride Part II (1995)</td>\n",
       "      <td>Comedy</td>\n",
       "    </tr>\n",
       "    <tr>\n",
       "      <th>...</th>\n",
       "      <td>...</td>\n",
       "      <td>...</td>\n",
       "      <td>...</td>\n",
       "    </tr>\n",
       "    <tr>\n",
       "      <th>9737</th>\n",
       "      <td>193581</td>\n",
       "      <td>Black Butler: Book of the Atlantic (2017)</td>\n",
       "      <td>Action|Animation|Comedy|Fantasy</td>\n",
       "    </tr>\n",
       "    <tr>\n",
       "      <th>9738</th>\n",
       "      <td>193583</td>\n",
       "      <td>No Game No Life: Zero (2017)</td>\n",
       "      <td>Animation|Comedy|Fantasy</td>\n",
       "    </tr>\n",
       "    <tr>\n",
       "      <th>9739</th>\n",
       "      <td>193585</td>\n",
       "      <td>Flint (2017)</td>\n",
       "      <td>Drama</td>\n",
       "    </tr>\n",
       "    <tr>\n",
       "      <th>9740</th>\n",
       "      <td>193587</td>\n",
       "      <td>Bungo Stray Dogs: Dead Apple (2018)</td>\n",
       "      <td>Action|Animation</td>\n",
       "    </tr>\n",
       "    <tr>\n",
       "      <th>9741</th>\n",
       "      <td>193609</td>\n",
       "      <td>Andrew Dice Clay: Dice Rules (1991)</td>\n",
       "      <td>Comedy</td>\n",
       "    </tr>\n",
       "  </tbody>\n",
       "</table>\n",
       "<p>9742 rows × 3 columns</p>\n",
       "</div>"
      ],
      "text/plain": [
       "      movieId                                      title  \\\n",
       "0           1                           Toy Story (1995)   \n",
       "1           2                             Jumanji (1995)   \n",
       "2           3                    Grumpier Old Men (1995)   \n",
       "3           4                   Waiting to Exhale (1995)   \n",
       "4           5         Father of the Bride Part II (1995)   \n",
       "...       ...                                        ...   \n",
       "9737   193581  Black Butler: Book of the Atlantic (2017)   \n",
       "9738   193583               No Game No Life: Zero (2017)   \n",
       "9739   193585                               Flint (2017)   \n",
       "9740   193587        Bungo Stray Dogs: Dead Apple (2018)   \n",
       "9741   193609        Andrew Dice Clay: Dice Rules (1991)   \n",
       "\n",
       "                                           genres  \n",
       "0     Adventure|Animation|Children|Comedy|Fantasy  \n",
       "1                      Adventure|Children|Fantasy  \n",
       "2                                  Comedy|Romance  \n",
       "3                            Comedy|Drama|Romance  \n",
       "4                                          Comedy  \n",
       "...                                           ...  \n",
       "9737              Action|Animation|Comedy|Fantasy  \n",
       "9738                     Animation|Comedy|Fantasy  \n",
       "9739                                        Drama  \n",
       "9740                             Action|Animation  \n",
       "9741                                       Comedy  \n",
       "\n",
       "[9742 rows x 3 columns]"
      ]
     },
     "execution_count": 9,
     "metadata": {},
     "output_type": "execute_result"
    }
   ],
   "source": [
    "movies_df"
   ]
  },
  {
   "cell_type": "code",
   "execution_count": 10,
   "metadata": {
    "ExecuteTime": {
     "end_time": "2020-08-24T12:53:20.443363Z",
     "start_time": "2020-08-24T12:53:20.418598Z"
    },
    "cell_style": "split"
   },
   "outputs": [
    {
     "data": {
      "text/html": [
       "<div>\n",
       "<style scoped>\n",
       "    .dataframe tbody tr th:only-of-type {\n",
       "        vertical-align: middle;\n",
       "    }\n",
       "\n",
       "    .dataframe tbody tr th {\n",
       "        vertical-align: top;\n",
       "    }\n",
       "\n",
       "    .dataframe thead th {\n",
       "        text-align: right;\n",
       "    }\n",
       "</style>\n",
       "<table border=\"1\" class=\"dataframe\">\n",
       "  <thead>\n",
       "    <tr style=\"text-align: right;\">\n",
       "      <th></th>\n",
       "      <th>userId</th>\n",
       "      <th>movieId</th>\n",
       "      <th>rating</th>\n",
       "      <th>timestamp</th>\n",
       "    </tr>\n",
       "  </thead>\n",
       "  <tbody>\n",
       "    <tr>\n",
       "      <th>0</th>\n",
       "      <td>1</td>\n",
       "      <td>1</td>\n",
       "      <td>4.0</td>\n",
       "      <td>964982703</td>\n",
       "    </tr>\n",
       "    <tr>\n",
       "      <th>1</th>\n",
       "      <td>1</td>\n",
       "      <td>3</td>\n",
       "      <td>4.0</td>\n",
       "      <td>964981247</td>\n",
       "    </tr>\n",
       "    <tr>\n",
       "      <th>2</th>\n",
       "      <td>1</td>\n",
       "      <td>6</td>\n",
       "      <td>4.0</td>\n",
       "      <td>964982224</td>\n",
       "    </tr>\n",
       "    <tr>\n",
       "      <th>3</th>\n",
       "      <td>1</td>\n",
       "      <td>47</td>\n",
       "      <td>5.0</td>\n",
       "      <td>964983815</td>\n",
       "    </tr>\n",
       "    <tr>\n",
       "      <th>4</th>\n",
       "      <td>1</td>\n",
       "      <td>50</td>\n",
       "      <td>5.0</td>\n",
       "      <td>964982931</td>\n",
       "    </tr>\n",
       "    <tr>\n",
       "      <th>...</th>\n",
       "      <td>...</td>\n",
       "      <td>...</td>\n",
       "      <td>...</td>\n",
       "      <td>...</td>\n",
       "    </tr>\n",
       "    <tr>\n",
       "      <th>100831</th>\n",
       "      <td>610</td>\n",
       "      <td>166534</td>\n",
       "      <td>4.0</td>\n",
       "      <td>1493848402</td>\n",
       "    </tr>\n",
       "    <tr>\n",
       "      <th>100832</th>\n",
       "      <td>610</td>\n",
       "      <td>168248</td>\n",
       "      <td>5.0</td>\n",
       "      <td>1493850091</td>\n",
       "    </tr>\n",
       "    <tr>\n",
       "      <th>100833</th>\n",
       "      <td>610</td>\n",
       "      <td>168250</td>\n",
       "      <td>5.0</td>\n",
       "      <td>1494273047</td>\n",
       "    </tr>\n",
       "    <tr>\n",
       "      <th>100834</th>\n",
       "      <td>610</td>\n",
       "      <td>168252</td>\n",
       "      <td>5.0</td>\n",
       "      <td>1493846352</td>\n",
       "    </tr>\n",
       "    <tr>\n",
       "      <th>100835</th>\n",
       "      <td>610</td>\n",
       "      <td>170875</td>\n",
       "      <td>3.0</td>\n",
       "      <td>1493846415</td>\n",
       "    </tr>\n",
       "  </tbody>\n",
       "</table>\n",
       "<p>100836 rows × 4 columns</p>\n",
       "</div>"
      ],
      "text/plain": [
       "        userId  movieId  rating   timestamp\n",
       "0            1        1     4.0   964982703\n",
       "1            1        3     4.0   964981247\n",
       "2            1        6     4.0   964982224\n",
       "3            1       47     5.0   964983815\n",
       "4            1       50     5.0   964982931\n",
       "...        ...      ...     ...         ...\n",
       "100831     610   166534     4.0  1493848402\n",
       "100832     610   168248     5.0  1493850091\n",
       "100833     610   168250     5.0  1494273047\n",
       "100834     610   168252     5.0  1493846352\n",
       "100835     610   170875     3.0  1493846415\n",
       "\n",
       "[100836 rows x 4 columns]"
      ]
     },
     "execution_count": 10,
     "metadata": {},
     "output_type": "execute_result"
    }
   ],
   "source": [
    "ratings_df"
   ]
  },
  {
   "cell_type": "code",
   "execution_count": 11,
   "metadata": {
    "ExecuteTime": {
     "end_time": "2020-08-24T12:53:20.455635Z",
     "start_time": "2020-08-24T12:53:20.450463Z"
    }
   },
   "outputs": [],
   "source": [
    "#ratings_df.columns = ['userId', 'movieId', 'rating', 'timestamp']"
   ]
  },
  {
   "cell_type": "code",
   "execution_count": 12,
   "metadata": {
    "ExecuteTime": {
     "end_time": "2020-08-24T12:53:20.478441Z",
     "start_time": "2020-08-24T12:53:20.461507Z"
    }
   },
   "outputs": [
    {
     "name": "stdout",
     "output_type": "stream",
     "text": [
      "610\n",
      "9724\n"
     ]
    }
   ],
   "source": [
    "num_users = ratings_df['userId'].unique()\n",
    "print(len(num_users))\n",
    "num_items = ratings_df['movieId'].unique()\n",
    "print(len(num_items))"
   ]
  },
  {
   "cell_type": "markdown",
   "metadata": {},
   "source": [
    "# Spotlight"
   ]
  },
  {
   "cell_type": "markdown",
   "metadata": {},
   "source": [
    "## Data preperation for Spotlight"
   ]
  },
  {
   "cell_type": "markdown",
   "metadata": {},
   "source": [
    "The ids are not consecutive. For examples the id of a movies is shown multiple times. For this reason the procedure below is implemented. The reversed map is still saved to be used when needed."
   ]
  },
  {
   "cell_type": "code",
   "execution_count": 13,
   "metadata": {
    "ExecuteTime": {
     "end_time": "2020-08-24T12:53:20.676243Z",
     "start_time": "2020-08-24T12:53:20.481146Z"
    }
   },
   "outputs": [
    {
     "name": "stdout",
     "output_type": "stream",
     "text": [
      "userId 1 got uid 2\n",
      "movieId 54001 got iid 2518\n"
     ]
    }
   ],
   "source": [
    "from collections import defaultdict\n",
    "from itertools import count\n",
    "uid_map = defaultdict(count().__next__)\n",
    "iid_map = defaultdict(count().__next__)\n",
    "uids = np.array([uid_map[uid] for uid in ratings_df[\"userId\"].values ], dtype=np.int32)\n",
    "iids = np.array([iid_map[iid] for iid in ratings_df[\"movieId\"].values ], dtype=np.int32)\n",
    "\n",
    "uid_rev_map = {v: k for k, v in uid_map.items()}\n",
    "iid_rev_map = {v: k for k, v in iid_map.items()}\n",
    "\n",
    "ratings = ratings_df[\"rating\"].values.astype(np.float32)\n",
    "timestamps = ratings_df[\"timestamp\"].values.astype(np.int32)\n",
    "\n",
    "print(\"userId %d got uid %d\" % (1, uid_map[3]))\n",
    "print(\"movieId %d got iid %d\" % (54001, iid_map[54001]))"
   ]
  },
  {
   "cell_type": "markdown",
   "metadata": {},
   "source": [
    "Create the dataset variable representing the dataset prepared for use to create a recommendation systems using the Spotlight platform."
   ]
  },
  {
   "cell_type": "markdown",
   "metadata": {},
   "source": [
    "## Implicit Factorization model"
   ]
  },
  {
   "cell_type": "code",
   "execution_count": 14,
   "metadata": {
    "ExecuteTime": {
     "end_time": "2020-08-24T12:53:20.731856Z",
     "start_time": "2020-08-24T12:53:20.680177Z"
    },
    "code_folding": []
   },
   "outputs": [],
   "source": [
    "from spotlight.interactions import Interactions\n",
    "from spotlight.cross_validation import random_train_test_split\n",
    "from spotlight.factorization.implicit import ImplicitFactorizationModel\n",
    "import time  \n",
    "\n",
    "\n",
    "#pecify the ids of the users and items for all the pairs of user-item interactions\n",
    "implicit_interaction = Interactions(user_ids=uids,\n",
    "                                   item_ids=iids,\n",
    "                                   timestamps = timestamps)\n",
    "\n",
    "\n",
    "#lets initialise the seed, so that its repeatable and reproducible \n",
    "implicit_train_tmp, implicit_test = random_train_test_split(implicit_interaction, random_state=np.random.seed(42))\n",
    "implicit_train, implicit_val = random_train_test_split(implicit_train_tmp, random_state=np.random.seed(42))\n",
    "implicit_train_features, implicit_train_labels = random_train_test_split(implicit_train, random_state=np.random.seed(42))"
   ]
  },
  {
   "cell_type": "code",
   "execution_count": 15,
   "metadata": {
    "ExecuteTime": {
     "end_time": "2020-08-24T12:53:20.743378Z",
     "start_time": "2020-08-24T12:53:20.734989Z"
    }
   },
   "outputs": [
    {
     "name": "stdout",
     "output_type": "stream",
     "text": [
      "<Interactions dataset (610 users x 9724 items x 64534 interactions)>\n",
      "<Interactions dataset (610 users x 9724 items x 20168 interactions)>\n",
      "<Interactions dataset (610 users x 9724 items x 16134 interactions)>\n",
      "<Interactions dataset (610 users x 9724 items x 51627 interactions)>\n",
      "<Interactions dataset (610 users x 9724 items x 12907 interactions)>\n"
     ]
    }
   ],
   "source": [
    "print(implicit_train)\n",
    "print(implicit_test)\n",
    "print(implicit_val)\n",
    "print(implicit_train_features)\n",
    "print(implicit_train_labels)"
   ]
  },
  {
   "cell_type": "markdown",
   "metadata": {},
   "source": [
    "### Train-test split to DataFrame"
   ]
  },
  {
   "cell_type": "markdown",
   "metadata": {},
   "source": [
    "Train and test interaction datasets are converted to dataframes, in order to be used from other models too and provide consistent and fair results."
   ]
  },
  {
   "cell_type": "code",
   "execution_count": 16,
   "metadata": {
    "ExecuteTime": {
     "end_time": "2020-08-24T12:53:20.759104Z",
     "start_time": "2020-08-24T12:53:20.747101Z"
    },
    "code_folding": []
   },
   "outputs": [],
   "source": [
    "def interactionToDataFrame(dataset):\n",
    "    converted_users = []\n",
    "    converted_movies = []\n",
    "    rating = []\n",
    "    #FOR EACH INTERACTION\n",
    "    for i in range(len(dataset.user_ids)):\n",
    "        converted_users.append(uid_rev_map[dataset.user_ids[i]])\n",
    "        converted_movies.append(iid_rev_map[dataset.item_ids[i]])\n",
    "        rating.append(float(ratings_df['rating'][(ratings_df['movieId'] == converted_movies[i]) & (\n",
    "            ratings_df['userId'] == converted_users[i])].values))\n",
    "\n",
    "    df = pd.DataFrame({'user_id': converted_users,\n",
    "                       'movie_id': converted_movies, 'rating': rating})\n",
    "    return df"
   ]
  },
  {
   "cell_type": "code",
   "execution_count": 17,
   "metadata": {
    "ExecuteTime": {
     "end_time": "2020-08-24T12:58:43.921398Z",
     "start_time": "2020-08-24T12:53:20.764390Z"
    }
   },
   "outputs": [],
   "source": [
    "train_df = interactionToDataFrame(implicit_train)\n",
    "val_df = interactionToDataFrame(implicit_val)\n",
    "test_df = interactionToDataFrame(implicit_test)\n",
    "train_features_df = interactionToDataFrame(implicit_train_features)\n",
    "train_labels_df = interactionToDataFrame(implicit_train_labels)"
   ]
  },
  {
   "cell_type": "markdown",
   "metadata": {},
   "source": [
    "### Pickle "
   ]
  },
  {
   "cell_type": "markdown",
   "metadata": {},
   "source": [
    "Save"
   ]
  },
  {
   "cell_type": "code",
   "execution_count": 18,
   "metadata": {
    "ExecuteTime": {
     "end_time": "2020-08-24T12:58:43.933895Z",
     "start_time": "2020-08-24T12:58:43.925479Z"
    }
   },
   "outputs": [
    {
     "data": {
      "text/plain": [
       "'train_df.to_pickle(\"./train_df.pkl\")\\ntest_df.to_pickle(\"./test_df.pkl\")\\nval_df.to_pickle(\"./val_df.pkl\")'"
      ]
     },
     "execution_count": 18,
     "metadata": {},
     "output_type": "execute_result"
    }
   ],
   "source": [
    "'''train_df.to_pickle(\"./train_df.pkl\")\n",
    "test_df.to_pickle(\"./test_df.pkl\")\n",
    "val_df.to_pickle(\"./val_df.pkl\")'''"
   ]
  },
  {
   "cell_type": "markdown",
   "metadata": {},
   "source": [
    "Load"
   ]
  },
  {
   "cell_type": "code",
   "execution_count": 19,
   "metadata": {
    "ExecuteTime": {
     "end_time": "2020-08-24T12:58:44.011530Z",
     "start_time": "2020-08-24T12:58:43.937032Z"
    }
   },
   "outputs": [
    {
     "data": {
      "text/plain": [
       "'train_df = pd.read_pickle(\"./train_df.pkl\")\\ntest_df = pd.read_pickle(\"./test_df.pkl\")\\nval_df = pd.read_pickle(\"./val_df.pkl\")'"
      ]
     },
     "execution_count": 19,
     "metadata": {},
     "output_type": "execute_result"
    }
   ],
   "source": [
    "'''train_df = pd.read_pickle(\"./train_df.pkl\")\n",
    "test_df = pd.read_pickle(\"./test_df.pkl\")\n",
    "val_df = pd.read_pickle(\"./val_df.pkl\")'''"
   ]
  },
  {
   "cell_type": "markdown",
   "metadata": {},
   "source": [
    "### Train Implicit Factorization model "
   ]
  },
  {
   "cell_type": "code",
   "execution_count": 20,
   "metadata": {
    "ExecuteTime": {
     "end_time": "2020-08-24T12:59:42.016445Z",
     "start_time": "2020-08-24T12:58:44.020561Z"
    }
   },
   "outputs": [
    {
     "name": "stdout",
     "output_type": "stream",
     "text": [
      "Epoch 0: loss 0.7519587885014153\n",
      "Epoch 1: loss 0.4427929866926472\n",
      "Epoch 2: loss 0.3996278969902295\n",
      "Epoch 3: loss 0.3678008865697582\n",
      "Epoch 4: loss 0.33610570171604987\n",
      "Training took 57 second\n"
     ]
    }
   ],
   "source": [
    "implicit_model = ImplicitFactorizationModel(n_iter=5)\n",
    "\n",
    "current = time.time()\n",
    "\n",
    "implicit_model.fit(implicit_train, verbose=True)\n",
    "\n",
    "end = time.time()\n",
    "diff = end - current\n",
    "print('Training took %d second' % (diff))"
   ]
  },
  {
   "cell_type": "markdown",
   "metadata": {},
   "source": [
    "Distribution of scores for a user"
   ]
  },
  {
   "cell_type": "code",
   "execution_count": 21,
   "metadata": {
    "ExecuteTime": {
     "end_time": "2020-08-24T12:59:42.780956Z",
     "start_time": "2020-08-24T12:59:42.023411Z"
    }
   },
   "outputs": [
    {
     "data": {
      "text/plain": [
       "(array([2.000e+00, 3.500e+01, 1.170e+02, 3.760e+02, 7.530e+02, 1.211e+03,\n",
       "        1.304e+03, 1.135e+03, 6.840e+02, 4.810e+02, 3.450e+02, 3.300e+02,\n",
       "        2.640e+02, 2.040e+02, 1.870e+02, 1.550e+02, 1.410e+02, 1.300e+02,\n",
       "        1.160e+02, 1.130e+02, 1.280e+02, 1.270e+02, 1.120e+02, 9.600e+01,\n",
       "        9.500e+01, 1.000e+02, 1.100e+02, 1.060e+02, 1.080e+02, 1.330e+02,\n",
       "        1.130e+02, 1.160e+02, 1.050e+02, 7.300e+01, 4.300e+01, 3.000e+01,\n",
       "        2.300e+01, 1.300e+01, 9.000e+00, 1.000e+00]),\n",
       " array([-12.0687685 , -11.454397  , -10.840025  , -10.225654  ,\n",
       "         -9.611282  ,  -8.996911  ,  -8.382539  ,  -7.7681675 ,\n",
       "         -7.153796  ,  -6.5394244 ,  -5.9250526 ,  -5.3106813 ,\n",
       "         -4.6963096 ,  -4.0819383 ,  -3.4675667 ,  -2.8531952 ,\n",
       "         -2.2388234 ,  -1.624452  ,  -1.0100803 ,  -0.39570883,\n",
       "          0.21866274,   0.8330343 ,   1.4474058 ,   2.0617774 ,\n",
       "          2.676149  ,   3.2905207 ,   3.9048922 ,   4.5192637 ,\n",
       "          5.133635  ,   5.748007  ,   6.362378  ,   6.97675   ,\n",
       "          7.5911217 ,   8.205493  ,   8.819864  ,   9.434237  ,\n",
       "         10.048608  ,  10.662979  ,  11.27735   ,  11.891723  ,\n",
       "         12.506094  ], dtype=float32),\n",
       " <a list of 40 Patch objects>)"
      ]
     },
     "execution_count": 21,
     "metadata": {},
     "output_type": "execute_result"
    },
    {
     "data": {
      "image/png": "[encoded data removed]",
      "text/plain": [
       "<Figure size 432x288 with 1 Axes>"
      ]
     },
     "metadata": {
      "needs_background": "light"
     },
     "output_type": "display_data"
    }
   ],
   "source": [
    "plt.hist(implicit_model.predict(0), color = 'blue', edgecolor = 'black',\n",
    "         bins = 40)"
   ]
  },
  {
   "cell_type": "markdown",
   "metadata": {},
   "source": [
    "Not a lot items with high score"
   ]
  },
  {
   "cell_type": "markdown",
   "metadata": {},
   "source": [
    "### Top-K predictions for a user"
   ]
  },
  {
   "cell_type": "markdown",
   "metadata": {},
   "source": [
    "The function below (allUsers_topK_implicit) returns a list that contains the top-K recommendations for each user."
   ]
  },
  {
   "cell_type": "code",
   "execution_count": 22,
   "metadata": {
    "ExecuteTime": {
     "end_time": "2020-08-24T12:59:42.847396Z",
     "start_time": "2020-08-24T12:59:42.782953Z"
    },
    "cell_style": "split",
    "scrolled": true
   },
   "outputs": [
    {
     "name": "stdout",
     "output_type": "stream",
     "text": [
      "[1, 47, 50, 110, 163, 223, 231, 260, 296, 316, 349, 356, 367, 457, 480, 500, 527, 590, 592, 593, 608, 648, 733, 780, 1073, 1089, 1196, 1198, 1208, 1210, 1270, 1625, 2571, 2858, 3052, 3386, 318, 2288, 32, 539, 588, 1259, 34, 150, 153, 253, 344, 380, 474, 589, 597, 2, 10, 25, 95, 141, 160, 161, 165, 185, 208, 252, 288, 292, 293, 317, 329, 337, 339, 353, 370, 377, 432, 434, 435, 454, 485, 520, 628, 783, 1101, 586, 784, 1653, 111, 2490, 1036, 1221, 1375, 442, 555, 1356, 3751, 107, 173, 420, 1376, 1035, 786, 1320]\n"
     ]
    }
   ],
   "source": [
    "import scipy.stats as st\n",
    "k = 100\n",
    "def topK_implicit(user, model, k=100):\n",
    "  a= list()\n",
    "  ranks = st.rankdata(-model.predict(user))   \n",
    "  for iid in np.argwhere(ranks <= k):\n",
    "    #print(iid_rev_map[iid.item(0)])\n",
    "    a.append(iid_rev_map[iid.item(0)])\n",
    "  return a\n",
    "\n",
    "rec_forUser = topK_implicit(0,implicit_model)\n",
    "print(rec_forUser)"
   ]
  },
  {
   "cell_type": "code",
   "execution_count": 23,
   "metadata": {
    "ExecuteTime": {
     "end_time": "2020-08-24T12:59:42.868934Z",
     "start_time": "2020-08-24T12:59:42.852446Z"
    },
    "cell_style": "split"
   },
   "outputs": [],
   "source": [
    "def allUsers_topK_implicit(model):\n",
    "    a = []\n",
    "    for i in range(len(num_users)):\n",
    "       a.append(topK_implicit(i,model))\n",
    "    return a"
   ]
  },
  {
   "cell_type": "code",
   "execution_count": 24,
   "metadata": {
    "ExecuteTime": {
     "end_time": "2020-08-24T12:59:42.917864Z",
     "start_time": "2020-08-24T12:59:42.872686Z"
    },
    "scrolled": true
   },
   "outputs": [
    {
     "data": {
      "text/html": [
       "<div>\n",
       "<style scoped>\n",
       "    .dataframe tbody tr th:only-of-type {\n",
       "        vertical-align: middle;\n",
       "    }\n",
       "\n",
       "    .dataframe tbody tr th {\n",
       "        vertical-align: top;\n",
       "    }\n",
       "\n",
       "    .dataframe thead th {\n",
       "        text-align: right;\n",
       "    }\n",
       "</style>\n",
       "<table border=\"1\" class=\"dataframe\">\n",
       "  <thead>\n",
       "    <tr style=\"text-align: right;\">\n",
       "      <th></th>\n",
       "      <th>movieId</th>\n",
       "      <th>title</th>\n",
       "      <th>genres</th>\n",
       "    </tr>\n",
       "  </thead>\n",
       "  <tbody>\n",
       "    <tr>\n",
       "      <th>0</th>\n",
       "      <td>1</td>\n",
       "      <td>Toy Story (1995)</td>\n",
       "      <td>Adventure|Animation|Children|Comedy|Fantasy</td>\n",
       "    </tr>\n",
       "    <tr>\n",
       "      <th>1</th>\n",
       "      <td>2</td>\n",
       "      <td>Jumanji (1995)</td>\n",
       "      <td>Adventure|Children|Fantasy</td>\n",
       "    </tr>\n",
       "    <tr>\n",
       "      <th>9</th>\n",
       "      <td>10</td>\n",
       "      <td>GoldenEye (1995)</td>\n",
       "      <td>Action|Adventure|Thriller</td>\n",
       "    </tr>\n",
       "    <tr>\n",
       "      <th>24</th>\n",
       "      <td>25</td>\n",
       "      <td>Leaving Las Vegas (1995)</td>\n",
       "      <td>Drama|Romance</td>\n",
       "    </tr>\n",
       "    <tr>\n",
       "      <th>31</th>\n",
       "      <td>32</td>\n",
       "      <td>Twelve Monkeys (a.k.a. 12 Monkeys) (1995)</td>\n",
       "      <td>Mystery|Sci-Fi|Thriller</td>\n",
       "    </tr>\n",
       "    <tr>\n",
       "      <th>...</th>\n",
       "      <td>...</td>\n",
       "      <td>...</td>\n",
       "      <td>...</td>\n",
       "    </tr>\n",
       "    <tr>\n",
       "      <th>1939</th>\n",
       "      <td>2571</td>\n",
       "      <td>Matrix, The (1999)</td>\n",
       "      <td>Action|Sci-Fi|Thriller</td>\n",
       "    </tr>\n",
       "    <tr>\n",
       "      <th>2145</th>\n",
       "      <td>2858</td>\n",
       "      <td>American Beauty (1999)</td>\n",
       "      <td>Drama|Romance</td>\n",
       "    </tr>\n",
       "    <tr>\n",
       "      <th>2302</th>\n",
       "      <td>3052</td>\n",
       "      <td>Dogma (1999)</td>\n",
       "      <td>Adventure|Comedy|Fantasy</td>\n",
       "    </tr>\n",
       "    <tr>\n",
       "      <th>2526</th>\n",
       "      <td>3386</td>\n",
       "      <td>JFK (1991)</td>\n",
       "      <td>Drama|Mystery|Thriller</td>\n",
       "    </tr>\n",
       "    <tr>\n",
       "      <th>2806</th>\n",
       "      <td>3751</td>\n",
       "      <td>Chicken Run (2000)</td>\n",
       "      <td>Animation|Children|Comedy</td>\n",
       "    </tr>\n",
       "  </tbody>\n",
       "</table>\n",
       "<p>100 rows × 3 columns</p>\n",
       "</div>"
      ],
      "text/plain": [
       "      movieId                                      title  \\\n",
       "0           1                           Toy Story (1995)   \n",
       "1           2                             Jumanji (1995)   \n",
       "9          10                           GoldenEye (1995)   \n",
       "24         25                   Leaving Las Vegas (1995)   \n",
       "31         32  Twelve Monkeys (a.k.a. 12 Monkeys) (1995)   \n",
       "...       ...                                        ...   \n",
       "1939     2571                         Matrix, The (1999)   \n",
       "2145     2858                     American Beauty (1999)   \n",
       "2302     3052                               Dogma (1999)   \n",
       "2526     3386                                 JFK (1991)   \n",
       "2806     3751                         Chicken Run (2000)   \n",
       "\n",
       "                                           genres  \n",
       "0     Adventure|Animation|Children|Comedy|Fantasy  \n",
       "1                      Adventure|Children|Fantasy  \n",
       "9                       Action|Adventure|Thriller  \n",
       "24                                  Drama|Romance  \n",
       "31                        Mystery|Sci-Fi|Thriller  \n",
       "...                                           ...  \n",
       "1939                       Action|Sci-Fi|Thriller  \n",
       "2145                                Drama|Romance  \n",
       "2302                     Adventure|Comedy|Fantasy  \n",
       "2526                       Drama|Mystery|Thriller  \n",
       "2806                    Animation|Children|Comedy  \n",
       "\n",
       "[100 rows x 3 columns]"
      ]
     },
     "execution_count": 24,
     "metadata": {},
     "output_type": "execute_result"
    }
   ],
   "source": [
    "movies_df.loc[movies_df['movieId'].isin(rec_forUser)]"
   ]
  },
  {
   "cell_type": "code",
   "execution_count": 25,
   "metadata": {
    "ExecuteTime": {
     "end_time": "2020-08-24T12:59:42.935165Z",
     "start_time": "2020-08-24T12:59:42.923468Z"
    }
   },
   "outputs": [],
   "source": [
    "movies_pred = movies_df['movieId'][movies_df['movieId'].isin(rec_forUser)]"
   ]
  },
  {
   "cell_type": "markdown",
   "metadata": {},
   "source": [
    "### Μovies watched from a user"
   ]
  },
  {
   "cell_type": "code",
   "execution_count": 26,
   "metadata": {
    "ExecuteTime": {
     "end_time": "2020-08-24T12:59:42.964618Z",
     "start_time": "2020-08-24T12:59:42.944009Z"
    }
   },
   "outputs": [],
   "source": [
    "actual = ratings_df[ratings_df[\"userId\"]==uid_rev_map.get(0)].groupby(\"movieId\")[\"movieId\"].count().sort_values(ascending=False).head(100)"
   ]
  },
  {
   "cell_type": "code",
   "execution_count": 27,
   "metadata": {
    "ExecuteTime": {
     "end_time": "2020-08-24T12:59:42.982923Z",
     "start_time": "2020-08-24T12:59:42.973188Z"
    }
   },
   "outputs": [],
   "source": [
    "actual = actual.index.tolist()"
   ]
  },
  {
   "cell_type": "code",
   "execution_count": 28,
   "metadata": {
    "ExecuteTime": {
     "end_time": "2020-08-24T12:59:43.023460Z",
     "start_time": "2020-08-24T12:59:42.983919Z"
    },
    "scrolled": true
   },
   "outputs": [
    {
     "data": {
      "text/html": [
       "<div>\n",
       "<style scoped>\n",
       "    .dataframe tbody tr th:only-of-type {\n",
       "        vertical-align: middle;\n",
       "    }\n",
       "\n",
       "    .dataframe tbody tr th {\n",
       "        vertical-align: top;\n",
       "    }\n",
       "\n",
       "    .dataframe thead th {\n",
       "        text-align: right;\n",
       "    }\n",
       "</style>\n",
       "<table border=\"1\" class=\"dataframe\">\n",
       "  <thead>\n",
       "    <tr style=\"text-align: right;\">\n",
       "      <th></th>\n",
       "      <th>movieId</th>\n",
       "      <th>title</th>\n",
       "      <th>genres</th>\n",
       "    </tr>\n",
       "  </thead>\n",
       "  <tbody>\n",
       "    <tr>\n",
       "      <th>2</th>\n",
       "      <td>3</td>\n",
       "      <td>Grumpier Old Men (1995)</td>\n",
       "      <td>Comedy|Romance</td>\n",
       "    </tr>\n",
       "    <tr>\n",
       "      <th>5</th>\n",
       "      <td>6</td>\n",
       "      <td>Heat (1995)</td>\n",
       "      <td>Action|Crime|Thriller</td>\n",
       "    </tr>\n",
       "    <tr>\n",
       "      <th>43</th>\n",
       "      <td>47</td>\n",
       "      <td>Seven (a.k.a. Se7en) (1995)</td>\n",
       "      <td>Mystery|Thriller</td>\n",
       "    </tr>\n",
       "    <tr>\n",
       "      <th>46</th>\n",
       "      <td>50</td>\n",
       "      <td>Usual Suspects, The (1995)</td>\n",
       "      <td>Crime|Mystery|Thriller</td>\n",
       "    </tr>\n",
       "    <tr>\n",
       "      <th>62</th>\n",
       "      <td>70</td>\n",
       "      <td>From Dusk Till Dawn (1996)</td>\n",
       "      <td>Action|Comedy|Horror|Thriller</td>\n",
       "    </tr>\n",
       "    <tr>\n",
       "      <th>...</th>\n",
       "      <td>...</td>\n",
       "      <td>...</td>\n",
       "      <td>...</td>\n",
       "    </tr>\n",
       "    <tr>\n",
       "      <th>1332</th>\n",
       "      <td>1804</td>\n",
       "      <td>Newton Boys, The (1998)</td>\n",
       "      <td>Crime|Drama</td>\n",
       "    </tr>\n",
       "    <tr>\n",
       "      <th>1333</th>\n",
       "      <td>1805</td>\n",
       "      <td>Wild Things (1998)</td>\n",
       "      <td>Crime|Drama|Mystery|Thriller</td>\n",
       "    </tr>\n",
       "    <tr>\n",
       "      <th>1401</th>\n",
       "      <td>1920</td>\n",
       "      <td>Small Soldiers (1998)</td>\n",
       "      <td>Animation|Children|Fantasy|War</td>\n",
       "    </tr>\n",
       "    <tr>\n",
       "      <th>2991</th>\n",
       "      <td>4006</td>\n",
       "      <td>Transformers: The Movie (1986)</td>\n",
       "      <td>Adventure|Animation|Children|Sci-Fi</td>\n",
       "    </tr>\n",
       "    <tr>\n",
       "      <th>3673</th>\n",
       "      <td>5060</td>\n",
       "      <td>M*A*S*H (a.k.a. MASH) (1970)</td>\n",
       "      <td>Comedy|Drama|War</td>\n",
       "    </tr>\n",
       "  </tbody>\n",
       "</table>\n",
       "<p>100 rows × 3 columns</p>\n",
       "</div>"
      ],
      "text/plain": [
       "      movieId                           title  \\\n",
       "2           3         Grumpier Old Men (1995)   \n",
       "5           6                     Heat (1995)   \n",
       "43         47     Seven (a.k.a. Se7en) (1995)   \n",
       "46         50      Usual Suspects, The (1995)   \n",
       "62         70      From Dusk Till Dawn (1996)   \n",
       "...       ...                             ...   \n",
       "1332     1804         Newton Boys, The (1998)   \n",
       "1333     1805              Wild Things (1998)   \n",
       "1401     1920           Small Soldiers (1998)   \n",
       "2991     4006  Transformers: The Movie (1986)   \n",
       "3673     5060    M*A*S*H (a.k.a. MASH) (1970)   \n",
       "\n",
       "                                   genres  \n",
       "2                          Comedy|Romance  \n",
       "5                   Action|Crime|Thriller  \n",
       "43                       Mystery|Thriller  \n",
       "46                 Crime|Mystery|Thriller  \n",
       "62          Action|Comedy|Horror|Thriller  \n",
       "...                                   ...  \n",
       "1332                          Crime|Drama  \n",
       "1333         Crime|Drama|Mystery|Thriller  \n",
       "1401       Animation|Children|Fantasy|War  \n",
       "2991  Adventure|Animation|Children|Sci-Fi  \n",
       "3673                     Comedy|Drama|War  \n",
       "\n",
       "[100 rows x 3 columns]"
      ]
     },
     "execution_count": 28,
     "metadata": {},
     "output_type": "execute_result"
    }
   ],
   "source": [
    "movies_df.loc[movies_df['movieId'].isin(actual)]"
   ]
  },
  {
   "cell_type": "code",
   "execution_count": 29,
   "metadata": {
    "ExecuteTime": {
     "end_time": "2020-08-24T12:59:43.036484Z",
     "start_time": "2020-08-24T12:59:43.027392Z"
    }
   },
   "outputs": [],
   "source": [
    "movies_watched = movies_df['movieId'][movies_df['movieId'].isin(actual)]"
   ]
  },
  {
   "cell_type": "markdown",
   "metadata": {},
   "source": [
    "### NDCG Score"
   ]
  },
  {
   "cell_type": "code",
   "execution_count": 30,
   "metadata": {
    "ExecuteTime": {
     "end_time": "2020-08-24T12:59:48.762722Z",
     "start_time": "2020-08-24T12:59:43.038560Z"
    }
   },
   "outputs": [],
   "source": [
    "allUsers_topK_imp = allUsers_topK_implicit(implicit_model)"
   ]
  },
  {
   "cell_type": "code",
   "execution_count": 31,
   "metadata": {
    "ExecuteTime": {
     "end_time": "2020-08-24T12:59:48.780671Z",
     "start_time": "2020-08-24T12:59:48.768620Z"
    }
   },
   "outputs": [
    {
     "data": {
      "text/plain": [
       "True"
      ]
     },
     "execution_count": 31,
     "metadata": {},
     "output_type": "execute_result"
    }
   ],
   "source": [
    "rec_forUser == allUsers_topK_imp[0]"
   ]
  },
  {
   "cell_type": "code",
   "execution_count": 32,
   "metadata": {
    "ExecuteTime": {
     "end_time": "2020-08-24T12:59:49.002197Z",
     "start_time": "2020-08-24T12:59:48.787087Z"
    }
   },
   "outputs": [],
   "source": [
    "relevance_implicit = []\n",
    "for i in range(len(rec_forUser)):\n",
    "    if rec_forUser[i] in test_df['movie_id'][test_df['user_id'] == 1].values.tolist():\n",
    "        relevance_implicit.append(1)\n",
    "    else:\n",
    "        relevance_implicit.append(0)\n",
    "    "
   ]
  },
  {
   "cell_type": "markdown",
   "metadata": {},
   "source": [
    "Compute the relevance for each user. The relevance containes 0s and 1s based on which movies each has watched. For every recommended movie that the user has actually watched, the value of 1 is assigned. There is a relevance list for each user."
   ]
  },
  {
   "cell_type": "code",
   "execution_count": 33,
   "metadata": {
    "ExecuteTime": {
     "end_time": "2020-08-24T12:59:49.025560Z",
     "start_time": "2020-08-24T12:59:49.006329Z"
    }
   },
   "outputs": [],
   "source": [
    "def relevance_spotlight_implicit(allUsers_topK):\n",
    "    relevance_implicit_full = []\n",
    "    helper = []\n",
    "    count = 0\n",
    "    for i in range(1,len(num_users)+1):\n",
    "        for j in range(len(allUsers_topK[count])):\n",
    "            if allUsers_topK[count][j] in test_df['movie_id'][test_df['user_id'] == i].values.tolist():\n",
    "                helper.append(1)\n",
    "            else:\n",
    "                helper.append(0)\n",
    "        relevance_implicit_full.append(helper)\n",
    "        helper = []\n",
    "        count += 1\n",
    "    return relevance_implicit_full"
   ]
  },
  {
   "cell_type": "code",
   "execution_count": 34,
   "metadata": {
    "ExecuteTime": {
     "end_time": "2020-08-24T13:00:47.393334Z",
     "start_time": "2020-08-24T12:59:49.029301Z"
    }
   },
   "outputs": [],
   "source": [
    "relevance_implicit_full = relevance_spotlight_implicit(allUsers_topK_imp)"
   ]
  },
  {
   "cell_type": "code",
   "execution_count": 35,
   "metadata": {
    "ExecuteTime": {
     "end_time": "2020-08-24T13:00:47.410162Z",
     "start_time": "2020-08-24T13:00:47.397771Z"
    }
   },
   "outputs": [
    {
     "data": {
      "text/plain": [
       "True"
      ]
     },
     "execution_count": 35,
     "metadata": {},
     "output_type": "execute_result"
    }
   ],
   "source": [
    "relevance_implicit == relevance_implicit_full[0]"
   ]
  },
  {
   "cell_type": "markdown",
   "metadata": {},
   "source": [
    "The dcg and ideal_dcg functions are taken form https://github.com/lezzago/LambdaMart/blob/master/lambdamart.py. They are necessary to compute the desired NDCG evaluation metric."
   ]
  },
  {
   "cell_type": "code",
   "execution_count": 36,
   "metadata": {
    "ExecuteTime": {
     "end_time": "2020-08-24T13:00:47.457911Z",
     "start_time": "2020-08-24T13:00:47.414639Z"
    }
   },
   "outputs": [],
   "source": [
    "def dcg(scores):\n",
    "    \"\"\"\n",
    "    Returns the DCG value of the list of scores.\n",
    "    Parameters\n",
    "    ----------\n",
    "    scores : list\n",
    "        Contains labels in a certain ranked order\n",
    "\n",
    "    Returns\n",
    "    -------\n",
    "    DCG_val: int\n",
    "        This is the value of the DCG on the given scores\n",
    "    \"\"\"\n",
    "    return np.sum([\n",
    "                    (np.power(2, scores[i]) - 1) / np.log2(i + 2)\n",
    "                    for i in range(len(scores))\n",
    "                ])"
   ]
  },
  {
   "cell_type": "code",
   "execution_count": 37,
   "metadata": {
    "ExecuteTime": {
     "end_time": "2020-08-24T13:00:47.474223Z",
     "start_time": "2020-08-24T13:00:47.462804Z"
    }
   },
   "outputs": [],
   "source": [
    "def ideal_dcg(scores):\n",
    "    \"\"\"\n",
    "    Returns the Ideal DCG value of the list of scores.\n",
    "    Parameters\n",
    "    ----------\n",
    "    scores : list\n",
    "        Contains labels in a certain ranked order\n",
    "\n",
    "    Returns\n",
    "    -------\n",
    "    Ideal_DCG_val: int\n",
    "        This is the value of the Ideal DCG on the given scores\n",
    "    \"\"\"\n",
    "    scores = [score for score in sorted(scores)[::-1]]\n",
    "    return dcg(scores)"
   ]
  },
  {
   "cell_type": "code",
   "execution_count": 38,
   "metadata": {
    "ExecuteTime": {
     "end_time": "2020-08-24T13:00:47.482284Z",
     "start_time": "2020-08-24T13:00:47.478292Z"
    }
   },
   "outputs": [],
   "source": [
    "def NDCG_forUser(relevance):\n",
    "    return dcg(relevance) / ideal_dcg(relevance)"
   ]
  },
  {
   "cell_type": "code",
   "execution_count": 39,
   "metadata": {
    "ExecuteTime": {
     "end_time": "2020-08-24T13:00:47.501328Z",
     "start_time": "2020-08-24T13:00:47.485739Z"
    }
   },
   "outputs": [
    {
     "name": "stdout",
     "output_type": "stream",
     "text": [
      "0.5221047934484787\n",
      "0.5221047934484787\n"
     ]
    }
   ],
   "source": [
    "ndcg = NDCG_forUser(relevance_implicit_full[0])\n",
    "print(ndcg)\n",
    "ndcg = NDCG_forUser(relevance_implicit)\n",
    "print(ndcg)"
   ]
  },
  {
   "cell_type": "markdown",
   "metadata": {},
   "source": [
    "Creation of a list (allUsers_implicit_ndcg) that contains the NDCG score for each user."
   ]
  },
  {
   "cell_type": "code",
   "execution_count": 40,
   "metadata": {
    "ExecuteTime": {
     "end_time": "2020-08-24T13:00:47.515350Z",
     "start_time": "2020-08-24T13:00:47.505493Z"
    }
   },
   "outputs": [],
   "source": [
    "def allUsers_ndcg(relevance):\n",
    "    allUsers_implicit_ndcg = []\n",
    "    for i in range(len(num_users)):\n",
    "        allUsers_implicit_ndcg.append(NDCG_forUser(relevance[i]))\n",
    "    return allUsers_implicit_ndcg"
   ]
  },
  {
   "cell_type": "code",
   "execution_count": 41,
   "metadata": {
    "ExecuteTime": {
     "end_time": "2020-08-24T13:00:49.399192Z",
     "start_time": "2020-08-24T13:00:47.520834Z"
    }
   },
   "outputs": [
    {
     "name": "stderr",
     "output_type": "stream",
     "text": [
      "C:\\Users\\papad\\Anaconda3\\lib\\site-packages\\ipykernel_launcher.py:2: RuntimeWarning: invalid value encountered in double_scalars\n",
      "  \n"
     ]
    }
   ],
   "source": [
    "allUsers_implicit_ndcg = allUsers_ndcg(relevance_implicit_full)"
   ]
  },
  {
   "cell_type": "markdown",
   "metadata": {},
   "source": [
    "Fill the nan values with 0s."
   ]
  },
  {
   "cell_type": "code",
   "execution_count": 42,
   "metadata": {
    "ExecuteTime": {
     "end_time": "2020-08-24T13:00:49.414107Z",
     "start_time": "2020-08-24T13:00:49.403999Z"
    }
   },
   "outputs": [],
   "source": [
    "allUsers_implicit_ndcg = pd.Series(allUsers_implicit_ndcg).fillna(0).tolist()"
   ]
  },
  {
   "cell_type": "code",
   "execution_count": 43,
   "metadata": {
    "ExecuteTime": {
     "end_time": "2020-08-24T13:00:49.487957Z",
     "start_time": "2020-08-24T13:00:49.417082Z"
    }
   },
   "outputs": [
    {
     "data": {
      "text/plain": [
       "0.3239658263329035"
      ]
     },
     "execution_count": 43,
     "metadata": {},
     "output_type": "execute_result"
    }
   ],
   "source": [
    "np.array(allUsers_implicit_ndcg).mean()"
   ]
  },
  {
   "cell_type": "markdown",
   "metadata": {},
   "source": [
    "### MRR Score"
   ]
  },
  {
   "cell_type": "code",
   "execution_count": 44,
   "metadata": {
    "ExecuteTime": {
     "end_time": "2020-08-24T13:00:49.503274Z",
     "start_time": "2020-08-24T13:00:49.490521Z"
    }
   },
   "outputs": [],
   "source": [
    "#Calculate reciprocal rank. Where is the first relevant item?\n",
    "def RR_forUsers(relevance):\n",
    "    count = 0\n",
    "    reciprocal_rank_perUser = []\n",
    "    #for each user\n",
    "    for rel in relevance:\n",
    "        #for each item in a relevance list\n",
    "        for r in rel:\n",
    "            count += 1\n",
    "            if r == 1:\n",
    "                #1/position\n",
    "                first_perUser = 1/count\n",
    "                #stop the iteration. Only care about the first relevant item\n",
    "                break\n",
    "        reciprocal_rank_perUser.append(first_perUser)\n",
    "        count = 0\n",
    "    return reciprocal_rank_perUser"
   ]
  },
  {
   "cell_type": "code",
   "execution_count": 45,
   "metadata": {
    "ExecuteTime": {
     "end_time": "2020-08-24T13:00:49.521350Z",
     "start_time": "2020-08-24T13:00:49.507587Z"
    }
   },
   "outputs": [],
   "source": [
    "rr_implicit = RR_forUsers(relevance_implicit_full)"
   ]
  },
  {
   "cell_type": "code",
   "execution_count": 46,
   "metadata": {
    "ExecuteTime": {
     "end_time": "2020-08-24T13:00:49.534531Z",
     "start_time": "2020-08-24T13:00:49.522348Z"
    }
   },
   "outputs": [],
   "source": [
    "def calculate_mrr(rr):    \n",
    "    #or np.array(rr).mean()\n",
    "    return np.array(rr).sum()/len(rr)"
   ]
  },
  {
   "cell_type": "code",
   "execution_count": 47,
   "metadata": {
    "ExecuteTime": {
     "end_time": "2020-08-24T13:00:49.546821Z",
     "start_time": "2020-08-24T13:00:49.538836Z"
    }
   },
   "outputs": [],
   "source": [
    "implicit_mrr = calculate_mrr(rr_implicit)"
   ]
  },
  {
   "cell_type": "code",
   "execution_count": 48,
   "metadata": {
    "ExecuteTime": {
     "end_time": "2020-08-24T13:00:49.558357Z",
     "start_time": "2020-08-24T13:00:49.550940Z"
    }
   },
   "outputs": [
    {
     "data": {
      "text/plain": [
       "0.1977996545202408"
      ]
     },
     "execution_count": 48,
     "metadata": {},
     "output_type": "execute_result"
    }
   ],
   "source": [
    "implicit_mrr"
   ]
  },
  {
   "cell_type": "markdown",
   "metadata": {},
   "source": [
    "### MAP Score"
   ]
  },
  {
   "cell_type": "code",
   "execution_count": 49,
   "metadata": {
    "ExecuteTime": {
     "end_time": "2020-08-24T13:00:49.573792Z",
     "start_time": "2020-08-24T13:00:49.560309Z"
    }
   },
   "outputs": [],
   "source": [
    "#calculate average precision.\n",
    "def calculate_averagePrecision(relevance):\n",
    "    count_positive = 0\n",
    "    positives = []\n",
    "    ap_perUser = []\n",
    "    count = 0\n",
    "    #for each user\n",
    "    for rel in relevance:\n",
    "        #for each item in a relevance list\n",
    "        for r in rel:\n",
    "            count += 1\n",
    "            if r == 1:\n",
    "                count_positive += 1\n",
    "                #First, second, etc. relevant item/ position\n",
    "                positives.append(count_positive/count)\n",
    "        #mean of relevant item/position\n",
    "        ap_perUser.append(np.array(positives).sum()/count_positive)\n",
    "        count_positive = 0\n",
    "        positives = []\n",
    "        count = 0\n",
    "    return ap_perUser"
   ]
  },
  {
   "cell_type": "code",
   "execution_count": 50,
   "metadata": {
    "ExecuteTime": {
     "end_time": "2020-08-24T13:00:49.599653Z",
     "start_time": "2020-08-24T13:00:49.576792Z"
    }
   },
   "outputs": [
    {
     "name": "stderr",
     "output_type": "stream",
     "text": [
      "C:\\Users\\papad\\Anaconda3\\lib\\site-packages\\ipykernel_launcher.py:17: RuntimeWarning: invalid value encountered in double_scalars\n"
     ]
    }
   ],
   "source": [
    "implicit_ap = calculate_averagePrecision(relevance_implicit_full)\n",
    "implicit_ap = pd.Series(implicit_ap).fillna(0).tolist()"
   ]
  },
  {
   "cell_type": "code",
   "execution_count": 51,
   "metadata": {
    "ExecuteTime": {
     "end_time": "2020-08-24T13:00:49.613298Z",
     "start_time": "2020-08-24T13:00:49.604173Z"
    }
   },
   "outputs": [],
   "source": [
    "def calculate_MAP(ap):\n",
    "    #or np.array(ap).mean()\n",
    "    return np.array(ap).sum()/len(ap)"
   ]
  },
  {
   "cell_type": "code",
   "execution_count": 52,
   "metadata": {
    "ExecuteTime": {
     "end_time": "2020-08-24T13:00:49.629179Z",
     "start_time": "2020-08-24T13:00:49.616554Z"
    }
   },
   "outputs": [
    {
     "data": {
      "text/plain": [
       "0.09876741866048241"
      ]
     },
     "execution_count": 52,
     "metadata": {},
     "output_type": "execute_result"
    }
   ],
   "source": [
    "implicit_map = calculate_MAP(implicit_ap)\n",
    "implicit_map"
   ]
  },
  {
   "cell_type": "markdown",
   "metadata": {},
   "source": [
    "# SVD"
   ]
  },
  {
   "cell_type": "markdown",
   "metadata": {},
   "source": [
    "Pivot is used to have a matrix that has as rows the userIDs and as columns the movieIDs. The unrated, by a user, movies are assigned the value 0 instead of null. Pivot organizes a DataFrame by giving index and column values. It is helpful in the recommender systems approach."
   ]
  },
  {
   "cell_type": "code",
   "execution_count": 53,
   "metadata": {
    "ExecuteTime": {
     "end_time": "2020-08-24T13:00:49.890544Z",
     "start_time": "2020-08-24T13:00:49.633335Z"
    }
   },
   "outputs": [],
   "source": [
    "df_movie_features = train_df.pivot(\n",
    "    index='user_id',\n",
    "    columns='movie_id',\n",
    "    values='rating'\n",
    ").fillna(0)"
   ]
  },
  {
   "cell_type": "code",
   "execution_count": 54,
   "metadata": {
    "ExecuteTime": {
     "end_time": "2020-08-24T13:00:49.985976Z",
     "start_time": "2020-08-24T13:00:49.894629Z"
    }
   },
   "outputs": [
    {
     "data": {
      "text/html": [
       "<div>\n",
       "<style scoped>\n",
       "    .dataframe tbody tr th:only-of-type {\n",
       "        vertical-align: middle;\n",
       "    }\n",
       "\n",
       "    .dataframe tbody tr th {\n",
       "        vertical-align: top;\n",
       "    }\n",
       "\n",
       "    .dataframe thead th {\n",
       "        text-align: right;\n",
       "    }\n",
       "</style>\n",
       "<table border=\"1\" class=\"dataframe\">\n",
       "  <thead>\n",
       "    <tr style=\"text-align: right;\">\n",
       "      <th>movie_id</th>\n",
       "      <th>1</th>\n",
       "      <th>2</th>\n",
       "      <th>3</th>\n",
       "      <th>4</th>\n",
       "      <th>5</th>\n",
       "      <th>6</th>\n",
       "      <th>7</th>\n",
       "      <th>8</th>\n",
       "      <th>9</th>\n",
       "      <th>10</th>\n",
       "      <th>...</th>\n",
       "      <th>190209</th>\n",
       "      <th>190213</th>\n",
       "      <th>190221</th>\n",
       "      <th>193565</th>\n",
       "      <th>193567</th>\n",
       "      <th>193571</th>\n",
       "      <th>193579</th>\n",
       "      <th>193581</th>\n",
       "      <th>193583</th>\n",
       "      <th>193587</th>\n",
       "    </tr>\n",
       "    <tr>\n",
       "      <th>user_id</th>\n",
       "      <th></th>\n",
       "      <th></th>\n",
       "      <th></th>\n",
       "      <th></th>\n",
       "      <th></th>\n",
       "      <th></th>\n",
       "      <th></th>\n",
       "      <th></th>\n",
       "      <th></th>\n",
       "      <th></th>\n",
       "      <th></th>\n",
       "      <th></th>\n",
       "      <th></th>\n",
       "      <th></th>\n",
       "      <th></th>\n",
       "      <th></th>\n",
       "      <th></th>\n",
       "      <th></th>\n",
       "      <th></th>\n",
       "      <th></th>\n",
       "      <th></th>\n",
       "    </tr>\n",
       "  </thead>\n",
       "  <tbody>\n",
       "    <tr>\n",
       "      <th>1</th>\n",
       "      <td>0.0</td>\n",
       "      <td>0.0</td>\n",
       "      <td>4.0</td>\n",
       "      <td>0.0</td>\n",
       "      <td>0.0</td>\n",
       "      <td>4.0</td>\n",
       "      <td>0.0</td>\n",
       "      <td>0.0</td>\n",
       "      <td>0.0</td>\n",
       "      <td>0.0</td>\n",
       "      <td>...</td>\n",
       "      <td>0.0</td>\n",
       "      <td>0.0</td>\n",
       "      <td>0.0</td>\n",
       "      <td>0.0</td>\n",
       "      <td>0.0</td>\n",
       "      <td>0.0</td>\n",
       "      <td>0.0</td>\n",
       "      <td>0.0</td>\n",
       "      <td>0.0</td>\n",
       "      <td>0.0</td>\n",
       "    </tr>\n",
       "    <tr>\n",
       "      <th>2</th>\n",
       "      <td>0.0</td>\n",
       "      <td>0.0</td>\n",
       "      <td>0.0</td>\n",
       "      <td>0.0</td>\n",
       "      <td>0.0</td>\n",
       "      <td>0.0</td>\n",
       "      <td>0.0</td>\n",
       "      <td>0.0</td>\n",
       "      <td>0.0</td>\n",
       "      <td>0.0</td>\n",
       "      <td>...</td>\n",
       "      <td>0.0</td>\n",
       "      <td>0.0</td>\n",
       "      <td>0.0</td>\n",
       "      <td>0.0</td>\n",
       "      <td>0.0</td>\n",
       "      <td>0.0</td>\n",
       "      <td>0.0</td>\n",
       "      <td>0.0</td>\n",
       "      <td>0.0</td>\n",
       "      <td>0.0</td>\n",
       "    </tr>\n",
       "    <tr>\n",
       "      <th>3</th>\n",
       "      <td>0.0</td>\n",
       "      <td>0.0</td>\n",
       "      <td>0.0</td>\n",
       "      <td>0.0</td>\n",
       "      <td>0.0</td>\n",
       "      <td>0.0</td>\n",
       "      <td>0.0</td>\n",
       "      <td>0.0</td>\n",
       "      <td>0.0</td>\n",
       "      <td>0.0</td>\n",
       "      <td>...</td>\n",
       "      <td>0.0</td>\n",
       "      <td>0.0</td>\n",
       "      <td>0.0</td>\n",
       "      <td>0.0</td>\n",
       "      <td>0.0</td>\n",
       "      <td>0.0</td>\n",
       "      <td>0.0</td>\n",
       "      <td>0.0</td>\n",
       "      <td>0.0</td>\n",
       "      <td>0.0</td>\n",
       "    </tr>\n",
       "    <tr>\n",
       "      <th>4</th>\n",
       "      <td>0.0</td>\n",
       "      <td>0.0</td>\n",
       "      <td>0.0</td>\n",
       "      <td>0.0</td>\n",
       "      <td>0.0</td>\n",
       "      <td>0.0</td>\n",
       "      <td>0.0</td>\n",
       "      <td>0.0</td>\n",
       "      <td>0.0</td>\n",
       "      <td>0.0</td>\n",
       "      <td>...</td>\n",
       "      <td>0.0</td>\n",
       "      <td>0.0</td>\n",
       "      <td>0.0</td>\n",
       "      <td>0.0</td>\n",
       "      <td>0.0</td>\n",
       "      <td>0.0</td>\n",
       "      <td>0.0</td>\n",
       "      <td>0.0</td>\n",
       "      <td>0.0</td>\n",
       "      <td>0.0</td>\n",
       "    </tr>\n",
       "    <tr>\n",
       "      <th>5</th>\n",
       "      <td>4.0</td>\n",
       "      <td>0.0</td>\n",
       "      <td>0.0</td>\n",
       "      <td>0.0</td>\n",
       "      <td>0.0</td>\n",
       "      <td>0.0</td>\n",
       "      <td>0.0</td>\n",
       "      <td>0.0</td>\n",
       "      <td>0.0</td>\n",
       "      <td>0.0</td>\n",
       "      <td>...</td>\n",
       "      <td>0.0</td>\n",
       "      <td>0.0</td>\n",
       "      <td>0.0</td>\n",
       "      <td>0.0</td>\n",
       "      <td>0.0</td>\n",
       "      <td>0.0</td>\n",
       "      <td>0.0</td>\n",
       "      <td>0.0</td>\n",
       "      <td>0.0</td>\n",
       "      <td>0.0</td>\n",
       "    </tr>\n",
       "    <tr>\n",
       "      <th>...</th>\n",
       "      <td>...</td>\n",
       "      <td>...</td>\n",
       "      <td>...</td>\n",
       "      <td>...</td>\n",
       "      <td>...</td>\n",
       "      <td>...</td>\n",
       "      <td>...</td>\n",
       "      <td>...</td>\n",
       "      <td>...</td>\n",
       "      <td>...</td>\n",
       "      <td>...</td>\n",
       "      <td>...</td>\n",
       "      <td>...</td>\n",
       "      <td>...</td>\n",
       "      <td>...</td>\n",
       "      <td>...</td>\n",
       "      <td>...</td>\n",
       "      <td>...</td>\n",
       "      <td>...</td>\n",
       "      <td>...</td>\n",
       "      <td>...</td>\n",
       "    </tr>\n",
       "    <tr>\n",
       "      <th>606</th>\n",
       "      <td>0.0</td>\n",
       "      <td>0.0</td>\n",
       "      <td>0.0</td>\n",
       "      <td>0.0</td>\n",
       "      <td>0.0</td>\n",
       "      <td>0.0</td>\n",
       "      <td>2.5</td>\n",
       "      <td>0.0</td>\n",
       "      <td>0.0</td>\n",
       "      <td>0.0</td>\n",
       "      <td>...</td>\n",
       "      <td>0.0</td>\n",
       "      <td>0.0</td>\n",
       "      <td>0.0</td>\n",
       "      <td>0.0</td>\n",
       "      <td>0.0</td>\n",
       "      <td>0.0</td>\n",
       "      <td>0.0</td>\n",
       "      <td>0.0</td>\n",
       "      <td>0.0</td>\n",
       "      <td>0.0</td>\n",
       "    </tr>\n",
       "    <tr>\n",
       "      <th>607</th>\n",
       "      <td>4.0</td>\n",
       "      <td>0.0</td>\n",
       "      <td>0.0</td>\n",
       "      <td>0.0</td>\n",
       "      <td>0.0</td>\n",
       "      <td>0.0</td>\n",
       "      <td>0.0</td>\n",
       "      <td>0.0</td>\n",
       "      <td>0.0</td>\n",
       "      <td>0.0</td>\n",
       "      <td>...</td>\n",
       "      <td>0.0</td>\n",
       "      <td>0.0</td>\n",
       "      <td>0.0</td>\n",
       "      <td>0.0</td>\n",
       "      <td>0.0</td>\n",
       "      <td>0.0</td>\n",
       "      <td>0.0</td>\n",
       "      <td>0.0</td>\n",
       "      <td>0.0</td>\n",
       "      <td>0.0</td>\n",
       "    </tr>\n",
       "    <tr>\n",
       "      <th>608</th>\n",
       "      <td>2.5</td>\n",
       "      <td>0.0</td>\n",
       "      <td>2.0</td>\n",
       "      <td>0.0</td>\n",
       "      <td>0.0</td>\n",
       "      <td>0.0</td>\n",
       "      <td>0.0</td>\n",
       "      <td>0.0</td>\n",
       "      <td>0.0</td>\n",
       "      <td>4.0</td>\n",
       "      <td>...</td>\n",
       "      <td>0.0</td>\n",
       "      <td>0.0</td>\n",
       "      <td>0.0</td>\n",
       "      <td>0.0</td>\n",
       "      <td>0.0</td>\n",
       "      <td>0.0</td>\n",
       "      <td>0.0</td>\n",
       "      <td>0.0</td>\n",
       "      <td>0.0</td>\n",
       "      <td>0.0</td>\n",
       "    </tr>\n",
       "    <tr>\n",
       "      <th>609</th>\n",
       "      <td>3.0</td>\n",
       "      <td>0.0</td>\n",
       "      <td>0.0</td>\n",
       "      <td>0.0</td>\n",
       "      <td>0.0</td>\n",
       "      <td>0.0</td>\n",
       "      <td>0.0</td>\n",
       "      <td>0.0</td>\n",
       "      <td>0.0</td>\n",
       "      <td>0.0</td>\n",
       "      <td>...</td>\n",
       "      <td>0.0</td>\n",
       "      <td>0.0</td>\n",
       "      <td>0.0</td>\n",
       "      <td>0.0</td>\n",
       "      <td>0.0</td>\n",
       "      <td>0.0</td>\n",
       "      <td>0.0</td>\n",
       "      <td>0.0</td>\n",
       "      <td>0.0</td>\n",
       "      <td>0.0</td>\n",
       "    </tr>\n",
       "    <tr>\n",
       "      <th>610</th>\n",
       "      <td>5.0</td>\n",
       "      <td>0.0</td>\n",
       "      <td>0.0</td>\n",
       "      <td>0.0</td>\n",
       "      <td>0.0</td>\n",
       "      <td>0.0</td>\n",
       "      <td>0.0</td>\n",
       "      <td>0.0</td>\n",
       "      <td>0.0</td>\n",
       "      <td>0.0</td>\n",
       "      <td>...</td>\n",
       "      <td>0.0</td>\n",
       "      <td>0.0</td>\n",
       "      <td>0.0</td>\n",
       "      <td>0.0</td>\n",
       "      <td>0.0</td>\n",
       "      <td>0.0</td>\n",
       "      <td>0.0</td>\n",
       "      <td>0.0</td>\n",
       "      <td>0.0</td>\n",
       "      <td>0.0</td>\n",
       "    </tr>\n",
       "  </tbody>\n",
       "</table>\n",
       "<p>610 rows × 8261 columns</p>\n",
       "</div>"
      ],
      "text/plain": [
       "movie_id  1       2       3       4       5       6       7       8       \\\n",
       "user_id                                                                    \n",
       "1            0.0     0.0     4.0     0.0     0.0     4.0     0.0     0.0   \n",
       "2            0.0     0.0     0.0     0.0     0.0     0.0     0.0     0.0   \n",
       "3            0.0     0.0     0.0     0.0     0.0     0.0     0.0     0.0   \n",
       "4            0.0     0.0     0.0     0.0     0.0     0.0     0.0     0.0   \n",
       "5            4.0     0.0     0.0     0.0     0.0     0.0     0.0     0.0   \n",
       "...          ...     ...     ...     ...     ...     ...     ...     ...   \n",
       "606          0.0     0.0     0.0     0.0     0.0     0.0     2.5     0.0   \n",
       "607          4.0     0.0     0.0     0.0     0.0     0.0     0.0     0.0   \n",
       "608          2.5     0.0     2.0     0.0     0.0     0.0     0.0     0.0   \n",
       "609          3.0     0.0     0.0     0.0     0.0     0.0     0.0     0.0   \n",
       "610          5.0     0.0     0.0     0.0     0.0     0.0     0.0     0.0   \n",
       "\n",
       "movie_id  9       10      ...  190209  190213  190221  193565  193567  193571  \\\n",
       "user_id                   ...                                                   \n",
       "1            0.0     0.0  ...     0.0     0.0     0.0     0.0     0.0     0.0   \n",
       "2            0.0     0.0  ...     0.0     0.0     0.0     0.0     0.0     0.0   \n",
       "3            0.0     0.0  ...     0.0     0.0     0.0     0.0     0.0     0.0   \n",
       "4            0.0     0.0  ...     0.0     0.0     0.0     0.0     0.0     0.0   \n",
       "5            0.0     0.0  ...     0.0     0.0     0.0     0.0     0.0     0.0   \n",
       "...          ...     ...  ...     ...     ...     ...     ...     ...     ...   \n",
       "606          0.0     0.0  ...     0.0     0.0     0.0     0.0     0.0     0.0   \n",
       "607          0.0     0.0  ...     0.0     0.0     0.0     0.0     0.0     0.0   \n",
       "608          0.0     4.0  ...     0.0     0.0     0.0     0.0     0.0     0.0   \n",
       "609          0.0     0.0  ...     0.0     0.0     0.0     0.0     0.0     0.0   \n",
       "610          0.0     0.0  ...     0.0     0.0     0.0     0.0     0.0     0.0   \n",
       "\n",
       "movie_id  193579  193581  193583  193587  \n",
       "user_id                                   \n",
       "1            0.0     0.0     0.0     0.0  \n",
       "2            0.0     0.0     0.0     0.0  \n",
       "3            0.0     0.0     0.0     0.0  \n",
       "4            0.0     0.0     0.0     0.0  \n",
       "5            0.0     0.0     0.0     0.0  \n",
       "...          ...     ...     ...     ...  \n",
       "606          0.0     0.0     0.0     0.0  \n",
       "607          0.0     0.0     0.0     0.0  \n",
       "608          0.0     0.0     0.0     0.0  \n",
       "609          0.0     0.0     0.0     0.0  \n",
       "610          0.0     0.0     0.0     0.0  \n",
       "\n",
       "[610 rows x 8261 columns]"
      ]
     },
     "execution_count": 54,
     "metadata": {},
     "output_type": "execute_result"
    }
   ],
   "source": [
    "df_movie_features"
   ]
  },
  {
   "cell_type": "markdown",
   "metadata": {},
   "source": [
    "## SVD implementation"
   ]
  },
  {
   "cell_type": "code",
   "execution_count": 55,
   "metadata": {
    "ExecuteTime": {
     "end_time": "2020-08-24T13:00:50.472853Z",
     "start_time": "2020-08-24T13:00:49.989972Z"
    }
   },
   "outputs": [],
   "source": [
    "from scipy.sparse.linalg import svds\n",
    "U, sigma, Vt = svds(df_movie_features, k = 10)"
   ]
  },
  {
   "cell_type": "markdown",
   "metadata": {},
   "source": [
    "## Predictions"
   ]
  },
  {
   "cell_type": "markdown",
   "metadata": {},
   "source": [
    "To get the prediction of a rating of an item dj, we can calculate the dot product of the two vectors.\n",
    "The sigma variable has just the values, so I have to convert to a diagonal matrix in orded to implement the matrix multiplication."
   ]
  },
  {
   "cell_type": "code",
   "execution_count": 56,
   "metadata": {
    "ExecuteTime": {
     "end_time": "2020-08-24T13:00:50.552582Z",
     "start_time": "2020-08-24T13:00:50.477000Z"
    }
   },
   "outputs": [],
   "source": [
    "sigma = np.diag(sigma)\n",
    "svd_predictions_score = np.dot(np.dot(U, sigma), Vt)\n",
    "svd_predictions_score_df = pd.DataFrame(svd_predictions_score, columns = df_movie_features.columns)\n"
   ]
  },
  {
   "cell_type": "code",
   "execution_count": 57,
   "metadata": {
    "ExecuteTime": {
     "end_time": "2020-08-24T13:00:50.572462Z",
     "start_time": "2020-08-24T13:00:50.557568Z"
    }
   },
   "outputs": [
    {
     "data": {
      "text/plain": [
       "array([ 0.13372434,  0.09079515, -0.07045479, ...,  0.00506549,\n",
       "        0.0044323 ,  0.0044323 ])"
      ]
     },
     "execution_count": 57,
     "metadata": {},
     "output_type": "execute_result"
    }
   ],
   "source": [
    "svd_predictions_score[1]"
   ]
  },
  {
   "cell_type": "code",
   "execution_count": 58,
   "metadata": {
    "ExecuteTime": {
     "end_time": "2020-08-24T13:00:50.658838Z",
     "start_time": "2020-08-24T13:00:50.576745Z"
    }
   },
   "outputs": [
    {
     "data": {
      "text/html": [
       "<div>\n",
       "<style scoped>\n",
       "    .dataframe tbody tr th:only-of-type {\n",
       "        vertical-align: middle;\n",
       "    }\n",
       "\n",
       "    .dataframe tbody tr th {\n",
       "        vertical-align: top;\n",
       "    }\n",
       "\n",
       "    .dataframe thead th {\n",
       "        text-align: right;\n",
       "    }\n",
       "</style>\n",
       "<table border=\"1\" class=\"dataframe\">\n",
       "  <thead>\n",
       "    <tr style=\"text-align: right;\">\n",
       "      <th>movie_id</th>\n",
       "      <th>1</th>\n",
       "      <th>2</th>\n",
       "      <th>3</th>\n",
       "      <th>4</th>\n",
       "      <th>5</th>\n",
       "      <th>6</th>\n",
       "      <th>7</th>\n",
       "      <th>8</th>\n",
       "      <th>9</th>\n",
       "      <th>10</th>\n",
       "      <th>...</th>\n",
       "      <th>190209</th>\n",
       "      <th>190213</th>\n",
       "      <th>190221</th>\n",
       "      <th>193565</th>\n",
       "      <th>193567</th>\n",
       "      <th>193571</th>\n",
       "      <th>193579</th>\n",
       "      <th>193581</th>\n",
       "      <th>193583</th>\n",
       "      <th>193587</th>\n",
       "    </tr>\n",
       "  </thead>\n",
       "  <tbody>\n",
       "    <tr>\n",
       "      <th>0</th>\n",
       "      <td>1.923310</td>\n",
       "      <td>0.499768</td>\n",
       "      <td>0.664960</td>\n",
       "      <td>-0.005204</td>\n",
       "      <td>0.085264</td>\n",
       "      <td>1.146848</td>\n",
       "      <td>-0.002223</td>\n",
       "      <td>0.053179</td>\n",
       "      <td>0.068889</td>\n",
       "      <td>1.636955</td>\n",
       "      <td>...</td>\n",
       "      <td>0.000037</td>\n",
       "      <td>0.000009</td>\n",
       "      <td>0.000009</td>\n",
       "      <td>-0.010956</td>\n",
       "      <td>-0.009391</td>\n",
       "      <td>-0.012522</td>\n",
       "      <td>-0.010956</td>\n",
       "      <td>-0.012522</td>\n",
       "      <td>-0.010956</td>\n",
       "      <td>-0.010956</td>\n",
       "    </tr>\n",
       "    <tr>\n",
       "      <th>1</th>\n",
       "      <td>0.133724</td>\n",
       "      <td>0.090795</td>\n",
       "      <td>-0.070455</td>\n",
       "      <td>0.002798</td>\n",
       "      <td>0.027160</td>\n",
       "      <td>0.046979</td>\n",
       "      <td>0.013243</td>\n",
       "      <td>-0.019596</td>\n",
       "      <td>-0.002608</td>\n",
       "      <td>-0.056177</td>\n",
       "      <td>...</td>\n",
       "      <td>0.001613</td>\n",
       "      <td>0.000403</td>\n",
       "      <td>0.000403</td>\n",
       "      <td>0.004432</td>\n",
       "      <td>0.003799</td>\n",
       "      <td>0.005065</td>\n",
       "      <td>0.004432</td>\n",
       "      <td>0.005065</td>\n",
       "      <td>0.004432</td>\n",
       "      <td>0.004432</td>\n",
       "    </tr>\n",
       "    <tr>\n",
       "      <th>2</th>\n",
       "      <td>0.017810</td>\n",
       "      <td>0.001554</td>\n",
       "      <td>0.012323</td>\n",
       "      <td>-0.001358</td>\n",
       "      <td>-0.003890</td>\n",
       "      <td>0.019478</td>\n",
       "      <td>-0.003033</td>\n",
       "      <td>0.000462</td>\n",
       "      <td>0.000621</td>\n",
       "      <td>0.035801</td>\n",
       "      <td>...</td>\n",
       "      <td>-0.000207</td>\n",
       "      <td>-0.000052</td>\n",
       "      <td>-0.000052</td>\n",
       "      <td>-0.000060</td>\n",
       "      <td>-0.000051</td>\n",
       "      <td>-0.000069</td>\n",
       "      <td>-0.000060</td>\n",
       "      <td>-0.000069</td>\n",
       "      <td>-0.000060</td>\n",
       "      <td>-0.000060</td>\n",
       "    </tr>\n",
       "    <tr>\n",
       "      <th>3</th>\n",
       "      <td>0.827315</td>\n",
       "      <td>0.102587</td>\n",
       "      <td>0.250474</td>\n",
       "      <td>0.012745</td>\n",
       "      <td>0.116908</td>\n",
       "      <td>0.391501</td>\n",
       "      <td>0.126127</td>\n",
       "      <td>-0.004969</td>\n",
       "      <td>-0.006726</td>\n",
       "      <td>0.351184</td>\n",
       "      <td>...</td>\n",
       "      <td>0.001490</td>\n",
       "      <td>0.000372</td>\n",
       "      <td>0.000372</td>\n",
       "      <td>-0.005390</td>\n",
       "      <td>-0.004620</td>\n",
       "      <td>-0.006161</td>\n",
       "      <td>-0.005390</td>\n",
       "      <td>-0.006161</td>\n",
       "      <td>-0.005390</td>\n",
       "      <td>-0.005390</td>\n",
       "    </tr>\n",
       "    <tr>\n",
       "      <th>4</th>\n",
       "      <td>0.904273</td>\n",
       "      <td>0.506492</td>\n",
       "      <td>0.346607</td>\n",
       "      <td>0.105665</td>\n",
       "      <td>0.382287</td>\n",
       "      <td>0.715478</td>\n",
       "      <td>0.474145</td>\n",
       "      <td>0.058617</td>\n",
       "      <td>0.062012</td>\n",
       "      <td>0.754547</td>\n",
       "      <td>...</td>\n",
       "      <td>0.003023</td>\n",
       "      <td>0.000756</td>\n",
       "      <td>0.000756</td>\n",
       "      <td>-0.000340</td>\n",
       "      <td>-0.000292</td>\n",
       "      <td>-0.000389</td>\n",
       "      <td>-0.000340</td>\n",
       "      <td>-0.000389</td>\n",
       "      <td>-0.000340</td>\n",
       "      <td>-0.000340</td>\n",
       "    </tr>\n",
       "    <tr>\n",
       "      <th>...</th>\n",
       "      <td>...</td>\n",
       "      <td>...</td>\n",
       "      <td>...</td>\n",
       "      <td>...</td>\n",
       "      <td>...</td>\n",
       "      <td>...</td>\n",
       "      <td>...</td>\n",
       "      <td>...</td>\n",
       "      <td>...</td>\n",
       "      <td>...</td>\n",
       "      <td>...</td>\n",
       "      <td>...</td>\n",
       "      <td>...</td>\n",
       "      <td>...</td>\n",
       "      <td>...</td>\n",
       "      <td>...</td>\n",
       "      <td>...</td>\n",
       "      <td>...</td>\n",
       "      <td>...</td>\n",
       "      <td>...</td>\n",
       "      <td>...</td>\n",
       "    </tr>\n",
       "    <tr>\n",
       "      <th>605</th>\n",
       "      <td>-1.025654</td>\n",
       "      <td>0.739079</td>\n",
       "      <td>-0.233676</td>\n",
       "      <td>0.247012</td>\n",
       "      <td>0.366234</td>\n",
       "      <td>2.423017</td>\n",
       "      <td>2.399554</td>\n",
       "      <td>-0.057102</td>\n",
       "      <td>-0.150454</td>\n",
       "      <td>-0.287115</td>\n",
       "      <td>...</td>\n",
       "      <td>0.008529</td>\n",
       "      <td>0.002132</td>\n",
       "      <td>0.002132</td>\n",
       "      <td>0.008121</td>\n",
       "      <td>0.006961</td>\n",
       "      <td>0.009281</td>\n",
       "      <td>0.008121</td>\n",
       "      <td>0.009281</td>\n",
       "      <td>0.008121</td>\n",
       "      <td>0.008121</td>\n",
       "    </tr>\n",
       "    <tr>\n",
       "      <th>606</th>\n",
       "      <td>1.641467</td>\n",
       "      <td>0.577603</td>\n",
       "      <td>0.604178</td>\n",
       "      <td>0.075468</td>\n",
       "      <td>0.321918</td>\n",
       "      <td>1.081056</td>\n",
       "      <td>0.347699</td>\n",
       "      <td>0.073348</td>\n",
       "      <td>0.079045</td>\n",
       "      <td>1.368803</td>\n",
       "      <td>...</td>\n",
       "      <td>0.002005</td>\n",
       "      <td>0.000501</td>\n",
       "      <td>0.000501</td>\n",
       "      <td>-0.005892</td>\n",
       "      <td>-0.005051</td>\n",
       "      <td>-0.006734</td>\n",
       "      <td>-0.005892</td>\n",
       "      <td>-0.006734</td>\n",
       "      <td>-0.005892</td>\n",
       "      <td>-0.005892</td>\n",
       "    </tr>\n",
       "    <tr>\n",
       "      <th>607</th>\n",
       "      <td>2.589121</td>\n",
       "      <td>1.231934</td>\n",
       "      <td>1.486104</td>\n",
       "      <td>-0.001623</td>\n",
       "      <td>0.319114</td>\n",
       "      <td>1.646995</td>\n",
       "      <td>0.286805</td>\n",
       "      <td>0.363429</td>\n",
       "      <td>0.081883</td>\n",
       "      <td>2.878740</td>\n",
       "      <td>...</td>\n",
       "      <td>-0.004938</td>\n",
       "      <td>-0.001234</td>\n",
       "      <td>-0.001234</td>\n",
       "      <td>-0.035917</td>\n",
       "      <td>-0.030786</td>\n",
       "      <td>-0.041048</td>\n",
       "      <td>-0.035917</td>\n",
       "      <td>-0.041048</td>\n",
       "      <td>-0.035917</td>\n",
       "      <td>-0.035917</td>\n",
       "    </tr>\n",
       "    <tr>\n",
       "      <th>608</th>\n",
       "      <td>0.521540</td>\n",
       "      <td>0.314778</td>\n",
       "      <td>0.213771</td>\n",
       "      <td>0.065907</td>\n",
       "      <td>0.243540</td>\n",
       "      <td>0.416261</td>\n",
       "      <td>0.289529</td>\n",
       "      <td>0.040885</td>\n",
       "      <td>0.038727</td>\n",
       "      <td>0.489582</td>\n",
       "      <td>...</td>\n",
       "      <td>0.001142</td>\n",
       "      <td>0.000286</td>\n",
       "      <td>0.000286</td>\n",
       "      <td>0.000446</td>\n",
       "      <td>0.000383</td>\n",
       "      <td>0.000510</td>\n",
       "      <td>0.000446</td>\n",
       "      <td>0.000510</td>\n",
       "      <td>0.000446</td>\n",
       "      <td>0.000446</td>\n",
       "    </tr>\n",
       "    <tr>\n",
       "      <th>609</th>\n",
       "      <td>3.962944</td>\n",
       "      <td>-0.174674</td>\n",
       "      <td>0.172116</td>\n",
       "      <td>0.139073</td>\n",
       "      <td>0.494955</td>\n",
       "      <td>1.765759</td>\n",
       "      <td>-0.099499</td>\n",
       "      <td>0.713748</td>\n",
       "      <td>0.018473</td>\n",
       "      <td>0.768151</td>\n",
       "      <td>...</td>\n",
       "      <td>0.012415</td>\n",
       "      <td>0.003104</td>\n",
       "      <td>0.003104</td>\n",
       "      <td>0.045229</td>\n",
       "      <td>0.038768</td>\n",
       "      <td>0.051690</td>\n",
       "      <td>0.045229</td>\n",
       "      <td>0.051690</td>\n",
       "      <td>0.045229</td>\n",
       "      <td>0.045229</td>\n",
       "    </tr>\n",
       "  </tbody>\n",
       "</table>\n",
       "<p>610 rows × 8261 columns</p>\n",
       "</div>"
      ],
      "text/plain": [
       "movie_id    1         2         3         4         5         6       \\\n",
       "0         1.923310  0.499768  0.664960 -0.005204  0.085264  1.146848   \n",
       "1         0.133724  0.090795 -0.070455  0.002798  0.027160  0.046979   \n",
       "2         0.017810  0.001554  0.012323 -0.001358 -0.003890  0.019478   \n",
       "3         0.827315  0.102587  0.250474  0.012745  0.116908  0.391501   \n",
       "4         0.904273  0.506492  0.346607  0.105665  0.382287  0.715478   \n",
       "..             ...       ...       ...       ...       ...       ...   \n",
       "605      -1.025654  0.739079 -0.233676  0.247012  0.366234  2.423017   \n",
       "606       1.641467  0.577603  0.604178  0.075468  0.321918  1.081056   \n",
       "607       2.589121  1.231934  1.486104 -0.001623  0.319114  1.646995   \n",
       "608       0.521540  0.314778  0.213771  0.065907  0.243540  0.416261   \n",
       "609       3.962944 -0.174674  0.172116  0.139073  0.494955  1.765759   \n",
       "\n",
       "movie_id    7         8         9         10      ...    190209    190213  \\\n",
       "0        -0.002223  0.053179  0.068889  1.636955  ...  0.000037  0.000009   \n",
       "1         0.013243 -0.019596 -0.002608 -0.056177  ...  0.001613  0.000403   \n",
       "2        -0.003033  0.000462  0.000621  0.035801  ... -0.000207 -0.000052   \n",
       "3         0.126127 -0.004969 -0.006726  0.351184  ...  0.001490  0.000372   \n",
       "4         0.474145  0.058617  0.062012  0.754547  ...  0.003023  0.000756   \n",
       "..             ...       ...       ...       ...  ...       ...       ...   \n",
       "605       2.399554 -0.057102 -0.150454 -0.287115  ...  0.008529  0.002132   \n",
       "606       0.347699  0.073348  0.079045  1.368803  ...  0.002005  0.000501   \n",
       "607       0.286805  0.363429  0.081883  2.878740  ... -0.004938 -0.001234   \n",
       "608       0.289529  0.040885  0.038727  0.489582  ...  0.001142  0.000286   \n",
       "609      -0.099499  0.713748  0.018473  0.768151  ...  0.012415  0.003104   \n",
       "\n",
       "movie_id    190221    193565    193567    193571    193579    193581  \\\n",
       "0         0.000009 -0.010956 -0.009391 -0.012522 -0.010956 -0.012522   \n",
       "1         0.000403  0.004432  0.003799  0.005065  0.004432  0.005065   \n",
       "2        -0.000052 -0.000060 -0.000051 -0.000069 -0.000060 -0.000069   \n",
       "3         0.000372 -0.005390 -0.004620 -0.006161 -0.005390 -0.006161   \n",
       "4         0.000756 -0.000340 -0.000292 -0.000389 -0.000340 -0.000389   \n",
       "..             ...       ...       ...       ...       ...       ...   \n",
       "605       0.002132  0.008121  0.006961  0.009281  0.008121  0.009281   \n",
       "606       0.000501 -0.005892 -0.005051 -0.006734 -0.005892 -0.006734   \n",
       "607      -0.001234 -0.035917 -0.030786 -0.041048 -0.035917 -0.041048   \n",
       "608       0.000286  0.000446  0.000383  0.000510  0.000446  0.000510   \n",
       "609       0.003104  0.045229  0.038768  0.051690  0.045229  0.051690   \n",
       "\n",
       "movie_id    193583    193587  \n",
       "0        -0.010956 -0.010956  \n",
       "1         0.004432  0.004432  \n",
       "2        -0.000060 -0.000060  \n",
       "3        -0.005390 -0.005390  \n",
       "4        -0.000340 -0.000340  \n",
       "..             ...       ...  \n",
       "605       0.008121  0.008121  \n",
       "606      -0.005892 -0.005892  \n",
       "607      -0.035917 -0.035917  \n",
       "608       0.000446  0.000446  \n",
       "609       0.045229  0.045229  \n",
       "\n",
       "[610 rows x 8261 columns]"
      ]
     },
     "execution_count": 58,
     "metadata": {},
     "output_type": "execute_result"
    }
   ],
   "source": [
    "svd_predictions_score_df"
   ]
  },
  {
   "cell_type": "code",
   "execution_count": 59,
   "metadata": {
    "ExecuteTime": {
     "end_time": "2020-08-24T13:00:50.721287Z",
     "start_time": "2020-08-24T13:00:50.663290Z"
    }
   },
   "outputs": [
    {
     "data": {
      "text/html": [
       "<div>\n",
       "<style scoped>\n",
       "    .dataframe tbody tr th:only-of-type {\n",
       "        vertical-align: middle;\n",
       "    }\n",
       "\n",
       "    .dataframe tbody tr th {\n",
       "        vertical-align: top;\n",
       "    }\n",
       "\n",
       "    .dataframe thead th {\n",
       "        text-align: right;\n",
       "    }\n",
       "</style>\n",
       "<table border=\"1\" class=\"dataframe\">\n",
       "  <thead>\n",
       "    <tr style=\"text-align: right;\">\n",
       "      <th>movie_id</th>\n",
       "      <th>1</th>\n",
       "      <th>2</th>\n",
       "      <th>3</th>\n",
       "      <th>4</th>\n",
       "      <th>5</th>\n",
       "      <th>6</th>\n",
       "      <th>7</th>\n",
       "      <th>8</th>\n",
       "      <th>9</th>\n",
       "      <th>10</th>\n",
       "      <th>...</th>\n",
       "      <th>190209</th>\n",
       "      <th>190213</th>\n",
       "      <th>190221</th>\n",
       "      <th>193565</th>\n",
       "      <th>193567</th>\n",
       "      <th>193571</th>\n",
       "      <th>193579</th>\n",
       "      <th>193581</th>\n",
       "      <th>193583</th>\n",
       "      <th>193587</th>\n",
       "    </tr>\n",
       "  </thead>\n",
       "  <tbody>\n",
       "    <tr>\n",
       "      <th>609</th>\n",
       "      <td>3.962944</td>\n",
       "      <td>-0.174674</td>\n",
       "      <td>0.172116</td>\n",
       "      <td>0.139073</td>\n",
       "      <td>0.494955</td>\n",
       "      <td>1.765759</td>\n",
       "      <td>-0.099499</td>\n",
       "      <td>0.713748</td>\n",
       "      <td>0.018473</td>\n",
       "      <td>0.768151</td>\n",
       "      <td>...</td>\n",
       "      <td>0.012415</td>\n",
       "      <td>0.003104</td>\n",
       "      <td>0.003104</td>\n",
       "      <td>0.045229</td>\n",
       "      <td>0.038768</td>\n",
       "      <td>0.05169</td>\n",
       "      <td>0.045229</td>\n",
       "      <td>0.05169</td>\n",
       "      <td>0.045229</td>\n",
       "      <td>0.045229</td>\n",
       "    </tr>\n",
       "  </tbody>\n",
       "</table>\n",
       "<p>1 rows × 8261 columns</p>\n",
       "</div>"
      ],
      "text/plain": [
       "movie_id    1         2         3         4         5         6       \\\n",
       "609       3.962944 -0.174674  0.172116  0.139073  0.494955  1.765759   \n",
       "\n",
       "movie_id    7         8         9         10      ...    190209    190213  \\\n",
       "609      -0.099499  0.713748  0.018473  0.768151  ...  0.012415  0.003104   \n",
       "\n",
       "movie_id    190221    193565    193567   193571    193579   193581    193583  \\\n",
       "609       0.003104  0.045229  0.038768  0.05169  0.045229  0.05169  0.045229   \n",
       "\n",
       "movie_id    193587  \n",
       "609       0.045229  \n",
       "\n",
       "[1 rows x 8261 columns]"
      ]
     },
     "execution_count": 59,
     "metadata": {},
     "output_type": "execute_result"
    }
   ],
   "source": [
    "svd_predictions_score_df[svd_predictions_score_df.index == 609]"
   ]
  },
  {
   "cell_type": "markdown",
   "metadata": {},
   "source": [
    "## Top-K recommendations"
   ]
  },
  {
   "cell_type": "markdown",
   "metadata": {},
   "source": [
    "The function below returns a list that contains the top-100 recommendations for each user"
   ]
  },
  {
   "cell_type": "code",
   "execution_count": 60,
   "metadata": {
    "ExecuteTime": {
     "end_time": "2020-08-24T13:00:50.736928Z",
     "start_time": "2020-08-24T13:00:50.724633Z"
    }
   },
   "outputs": [
    {
     "data": {
      "text/plain": [
       "array([ 1.92331   ,  0.49976777,  0.6649602 , ..., -0.01252153,\n",
       "       -0.01095634, -0.01095634])"
      ]
     },
     "execution_count": 60,
     "metadata": {},
     "output_type": "execute_result"
    }
   ],
   "source": [
    "svd_predictions_score_df[svd_predictions_score_df.index == 0].values[0]"
   ]
  },
  {
   "cell_type": "code",
   "execution_count": 61,
   "metadata": {
    "ExecuteTime": {
     "end_time": "2020-08-24T13:00:50.757743Z",
     "start_time": "2020-08-24T13:00:50.741946Z"
    }
   },
   "outputs": [],
   "source": [
    "def SVD_topK_first(score_df):\n",
    "    topK_svd_rec = []\n",
    "    for i in range(len(num_users)):\n",
    "        svd_h_df = pd.DataFrame({'movie_id': score_df[score_df.index == i].columns,\n",
    "                                 'score': score_df[score_df.index == i].values[0]})\n",
    "        svd_h_df = svd_h_df.sort_values('score', ascending=False)\n",
    "        svd_h_df = svd_h_df.head(100)\n",
    "        topK_svd_rec.append(svd_h_df['movie_id'].values)\n",
    "    return topK_svd_rec"
   ]
  },
  {
   "cell_type": "code",
   "execution_count": 62,
   "metadata": {
    "ExecuteTime": {
     "end_time": "2020-08-24T13:00:54.706710Z",
     "start_time": "2020-08-24T13:00:50.762431Z"
    }
   },
   "outputs": [],
   "source": [
    "a = SVD_topK_first(svd_predictions_score_df)"
   ]
  },
  {
   "cell_type": "code",
   "execution_count": 63,
   "metadata": {
    "ExecuteTime": {
     "end_time": "2020-08-24T13:00:54.722245Z",
     "start_time": "2020-08-24T13:00:54.710707Z"
    }
   },
   "outputs": [
    {
     "data": {
      "text/plain": [
       "array([1196,  260, 1210,  589,  608, 2571, 1198, 2028, 1214,  541, 1136,\n",
       "       1291, 1200,    1, 2858,  110,  593,  296,  480,  780, 1197, 1240,\n",
       "       2762, 1617, 1036,  924, 1527, 1265, 2916, 1270, 1610, 1221, 2987,\n",
       "        457, 2115,   10, 1387,  356, 1073, 1391, 2716,  858,  592,  318,\n",
       "       2997, 1356, 1206, 1213, 2791, 3793, 1258,   32, 1097, 2918, 1653,\n",
       "       1208,  648, 1222, 2628, 2000, 2985, 3578, 2700, 1517, 1079, 1127,\n",
       "       4226, 1259,  377, 1732, 2683,  778, 1580, 1968,  223, 2640, 4993,\n",
       "       1682,  316, 2959, 1784,  733, 2355,   47,    6, 2174, 1500, 1215,\n",
       "         50, 1374,  150, 2968, 3527, 2947, 1954, 1089, 4011, 1275, 1219,\n",
       "       2194], dtype=int64)"
      ]
     },
     "execution_count": 63,
     "metadata": {},
     "output_type": "execute_result"
    }
   ],
   "source": [
    "a[0]"
   ]
  },
  {
   "cell_type": "markdown",
   "metadata": {},
   "source": [
    "## NDCG Score"
   ]
  },
  {
   "cell_type": "markdown",
   "metadata": {},
   "source": [
    "The function below returns the relevance list of a list of movies."
   ]
  },
  {
   "cell_type": "code",
   "execution_count": 64,
   "metadata": {
    "ExecuteTime": {
     "end_time": "2020-08-24T13:00:54.789262Z",
     "start_time": "2020-08-24T13:00:54.725334Z"
    }
   },
   "outputs": [],
   "source": [
    "def SVD_relevance_first(score_df):\n",
    "    svd_topK = SVD_topK_first(score_df)\n",
    "    relevance_svd_full = []\n",
    "    helper = []\n",
    "    count = 0\n",
    "    for i in range(1,len(num_users)+1):\n",
    "        for j in range(len(svd_topK[count])):\n",
    "            if svd_topK[count][j] in test_df['movie_id'][test_df['user_id'] == i].values.tolist():\n",
    "                helper.append(1)\n",
    "            else:\n",
    "                helper.append(0)\n",
    "        relevance_svd_full.append(helper)\n",
    "        helper = []\n",
    "        count += 1\n",
    "    return relevance_svd_full"
   ]
  },
  {
   "cell_type": "code",
   "execution_count": 65,
   "metadata": {
    "ExecuteTime": {
     "end_time": "2020-08-24T13:01:57.256394Z",
     "start_time": "2020-08-24T13:00:54.792473Z"
    }
   },
   "outputs": [],
   "source": [
    "relevance_first = SVD_relevance_first(svd_predictions_score_df)"
   ]
  },
  {
   "cell_type": "code",
   "execution_count": 66,
   "metadata": {
    "ExecuteTime": {
     "end_time": "2020-08-24T13:01:57.280383Z",
     "start_time": "2020-08-24T13:01:57.260964Z"
    }
   },
   "outputs": [
    {
     "data": {
      "text/plain": [
       "(610, 100)"
      ]
     },
     "execution_count": 66,
     "metadata": {},
     "output_type": "execute_result"
    }
   ],
   "source": [
    "np.asarray(relevance_first).shape"
   ]
  },
  {
   "cell_type": "code",
   "execution_count": 67,
   "metadata": {
    "ExecuteTime": {
     "end_time": "2020-08-24T13:01:57.357344Z",
     "start_time": "2020-08-24T13:01:57.284599Z"
    }
   },
   "outputs": [],
   "source": [
    "n_f = NDCG_forUser(relevance_first[0])"
   ]
  },
  {
   "cell_type": "code",
   "execution_count": 68,
   "metadata": {
    "ExecuteTime": {
     "end_time": "2020-08-24T13:01:57.380769Z",
     "start_time": "2020-08-24T13:01:57.363491Z"
    }
   },
   "outputs": [
    {
     "data": {
      "text/plain": [
       "0.4776818658860394"
      ]
     },
     "execution_count": 68,
     "metadata": {},
     "output_type": "execute_result"
    }
   ],
   "source": [
    "n_f"
   ]
  },
  {
   "cell_type": "markdown",
   "metadata": {},
   "source": [
    "Below is the NDCG scores of each user"
   ]
  },
  {
   "cell_type": "code",
   "execution_count": 69,
   "metadata": {
    "ExecuteTime": {
     "end_time": "2020-08-24T13:01:59.345918Z",
     "start_time": "2020-08-24T13:01:57.390228Z"
    }
   },
   "outputs": [
    {
     "name": "stderr",
     "output_type": "stream",
     "text": [
      "C:\\Users\\papad\\Anaconda3\\lib\\site-packages\\ipykernel_launcher.py:2: RuntimeWarning: invalid value encountered in double_scalars\n",
      "  \n"
     ]
    }
   ],
   "source": [
    "all_ndcg_f = allUsers_ndcg(relevance_first)"
   ]
  },
  {
   "cell_type": "code",
   "execution_count": 70,
   "metadata": {
    "ExecuteTime": {
     "end_time": "2020-08-24T13:01:59.358801Z",
     "start_time": "2020-08-24T13:01:59.346915Z"
    }
   },
   "outputs": [],
   "source": [
    "all_ndcg_f = pd.Series(all_ndcg_f).fillna(0).tolist()"
   ]
  },
  {
   "cell_type": "code",
   "execution_count": 71,
   "metadata": {
    "ExecuteTime": {
     "end_time": "2020-08-24T13:01:59.434238Z",
     "start_time": "2020-08-24T13:01:59.381523Z"
    }
   },
   "outputs": [
    {
     "data": {
      "text/plain": [
       "0.38840108781125987"
      ]
     },
     "execution_count": 71,
     "metadata": {},
     "output_type": "execute_result"
    }
   ],
   "source": [
    "np.asarray(all_ndcg_f).mean()"
   ]
  },
  {
   "cell_type": "markdown",
   "metadata": {},
   "source": [
    "## MRR Score"
   ]
  },
  {
   "cell_type": "code",
   "execution_count": 72,
   "metadata": {
    "ExecuteTime": {
     "end_time": "2020-08-24T13:01:59.465336Z",
     "start_time": "2020-08-24T13:01:59.449012Z"
    }
   },
   "outputs": [
    {
     "data": {
      "text/plain": [
       "0.24219440617789642"
      ]
     },
     "execution_count": 72,
     "metadata": {},
     "output_type": "execute_result"
    }
   ],
   "source": [
    "svd_rr = RR_forUsers(relevance_first)\n",
    "svd_mrr = calculate_mrr(svd_rr)\n",
    "svd_mrr"
   ]
  },
  {
   "cell_type": "markdown",
   "metadata": {},
   "source": [
    "## MAP Score"
   ]
  },
  {
   "cell_type": "code",
   "execution_count": 73,
   "metadata": {
    "ExecuteTime": {
     "end_time": "2020-08-24T13:01:59.500592Z",
     "start_time": "2020-08-24T13:01:59.470056Z"
    }
   },
   "outputs": [
    {
     "name": "stderr",
     "output_type": "stream",
     "text": [
      "C:\\Users\\papad\\Anaconda3\\lib\\site-packages\\ipykernel_launcher.py:17: RuntimeWarning: invalid value encountered in double_scalars\n"
     ]
    },
    {
     "data": {
      "text/plain": [
       "0.13615258271795852"
      ]
     },
     "execution_count": 73,
     "metadata": {},
     "output_type": "execute_result"
    }
   ],
   "source": [
    "svd_ap = calculate_averagePrecision(relevance_first)\n",
    "svd_ap = pd.Series(svd_ap).fillna(0).tolist()\n",
    "svd_map = calculate_MAP(svd_ap)\n",
    "svd_map"
   ]
  },
  {
   "cell_type": "code",
   "execution_count": null,
   "metadata": {},
   "outputs": [],
   "source": []
  },
  {
   "cell_type": "code",
   "execution_count": null,
   "metadata": {},
   "outputs": [],
   "source": []
  },
  {
   "cell_type": "code",
   "execution_count": null,
   "metadata": {},
   "outputs": [],
   "source": []
  },
  {
   "cell_type": "markdown",
   "metadata": {},
   "source": [
    "# LightGBM Baseline"
   ]
  },
  {
   "cell_type": "markdown",
   "metadata": {},
   "source": [
    "##  Feature 1 (Implicit factorization model scores)"
   ]
  },
  {
   "cell_type": "markdown",
   "metadata": {},
   "source": [
    "Train an implicit factorization model using the train_features dataset"
   ]
  },
  {
   "cell_type": "code",
   "execution_count": 192,
   "metadata": {
    "ExecuteTime": {
     "end_time": "2020-08-24T13:47:25.262977Z",
     "start_time": "2020-08-24T13:46:23.600366Z"
    }
   },
   "outputs": [
    {
     "name": "stdout",
     "output_type": "stream",
     "text": [
      "Epoch 0: loss 0.8100184534150775\n",
      "Epoch 1: loss 0.46302422290981404\n",
      "Epoch 2: loss 0.41560459417281764\n",
      "Epoch 3: loss 0.3763482220987282\n",
      "Epoch 4: loss 0.33479300229856285\n",
      "Training took 61 second\n"
     ]
    }
   ],
   "source": [
    "f1_model = ImplicitFactorizationModel(n_iter = 5)\n",
    "\n",
    "current = time.time()\n",
    "\n",
    "f1_model.fit(implicit_train_features,verbose = True)\n",
    "\n",
    "end = time.time()\n",
    "diff = end - current\n",
    "print('Training took %d second'%(diff))"
   ]
  },
  {
   "cell_type": "markdown",
   "metadata": {},
   "source": [
    "### Target Movies"
   ]
  },
  {
   "cell_type": "code",
   "execution_count": 193,
   "metadata": {
    "ExecuteTime": {
     "end_time": "2020-08-24T13:47:36.928423Z",
     "start_time": "2020-08-24T13:47:25.272426Z"
    }
   },
   "outputs": [],
   "source": [
    "allUsers_topK_f1 = allUsers_topK_implicit(f1_model)\n",
    "#target_positive = allUsers_topK_f1"
   ]
  },
  {
   "cell_type": "code",
   "execution_count": 304,
   "metadata": {
    "ExecuteTime": {
     "end_time": "2020-08-24T14:24:58.753623Z",
     "start_time": "2020-08-24T14:24:58.747012Z"
    }
   },
   "outputs": [],
   "source": [
    "def calculate_top_ifm():\n",
    "    moviePerUser = []\n",
    "    rev = []\n",
    "    for user in range(len(num_users)):\n",
    "        pred = f1_model.predict(user)\n",
    "        #sort by score in ascending oscer\n",
    "        predMovieId = np.argsort(-pred)\n",
    "        predMovieId = predMovieId[:100]\n",
    "        for movie in predMovieId:\n",
    "            rev.append(iid_rev_map[movie])\n",
    "        moviePerUser.append(rev)\n",
    "        rev = []\n",
    "    return moviePerUser"
   ]
  },
  {
   "cell_type": "code",
   "execution_count": 305,
   "metadata": {
    "ExecuteTime": {
     "end_time": "2020-08-24T14:25:02.453821Z",
     "start_time": "2020-08-24T14:24:59.185515Z"
    }
   },
   "outputs": [],
   "source": [
    "target_positive = calculate_top_ifm()"
   ]
  },
  {
   "cell_type": "code",
   "execution_count": 306,
   "metadata": {
    "ExecuteTime": {
     "end_time": "2020-08-24T14:25:02.483047Z",
     "start_time": "2020-08-24T14:25:02.457867Z"
    }
   },
   "outputs": [
    {
     "data": {
      "text/plain": [
       "(610, 100)"
      ]
     },
     "execution_count": 306,
     "metadata": {},
     "output_type": "execute_result"
    }
   ],
   "source": [
    "np.array(target_positive).shape"
   ]
  },
  {
   "cell_type": "code",
   "execution_count": 307,
   "metadata": {
    "ExecuteTime": {
     "end_time": "2020-08-24T14:25:02.562299Z",
     "start_time": "2020-08-24T14:25:02.488317Z"
    }
   },
   "outputs": [
    {
     "name": "stdout",
     "output_type": "stream",
     "text": [
      "[480, 344, 457, 527, 356]\n"
     ]
    },
    {
     "data": {
      "text/html": [
       "<div>\n",
       "<style scoped>\n",
       "    .dataframe tbody tr th:only-of-type {\n",
       "        vertical-align: middle;\n",
       "    }\n",
       "\n",
       "    .dataframe tbody tr th {\n",
       "        vertical-align: top;\n",
       "    }\n",
       "\n",
       "    .dataframe thead th {\n",
       "        text-align: right;\n",
       "    }\n",
       "</style>\n",
       "<table border=\"1\" class=\"dataframe\">\n",
       "  <thead>\n",
       "    <tr style=\"text-align: right;\">\n",
       "      <th></th>\n",
       "      <th>movieId</th>\n",
       "      <th>title</th>\n",
       "      <th>genres</th>\n",
       "    </tr>\n",
       "  </thead>\n",
       "  <tbody>\n",
       "    <tr>\n",
       "      <th>314</th>\n",
       "      <td>356</td>\n",
       "      <td>Forrest Gump (1994)</td>\n",
       "      <td>Comedy|Drama|Romance|War</td>\n",
       "    </tr>\n",
       "  </tbody>\n",
       "</table>\n",
       "</div>"
      ],
      "text/plain": [
       "     movieId                title                    genres\n",
       "314      356  Forrest Gump (1994)  Comedy|Drama|Romance|War"
      ]
     },
     "execution_count": 307,
     "metadata": {},
     "output_type": "execute_result"
    }
   ],
   "source": [
    "print(target_positive[0][:5])\n",
    "movies_df[movies_df['movieId']==356]"
   ]
  },
  {
   "cell_type": "code",
   "execution_count": 308,
   "metadata": {
    "ExecuteTime": {
     "end_time": "2020-08-24T14:25:02.572398Z",
     "start_time": "2020-08-24T14:25:02.566414Z"
    }
   },
   "outputs": [],
   "source": [
    "#len(allUsers_topK_f1[0])"
   ]
  },
  {
   "cell_type": "markdown",
   "metadata": {},
   "source": [
    "Add negative samples to the target movies"
   ]
  },
  {
   "cell_type": "code",
   "execution_count": 325,
   "metadata": {
    "ExecuteTime": {
     "end_time": "2020-08-24T14:32:34.870264Z",
     "start_time": "2020-08-24T14:32:34.831448Z"
    }
   },
   "outputs": [],
   "source": [
    "#\n",
    "import random\n",
    "target_negative = []\n",
    "for i in range(1,len(num_users)+1):\n",
    "    #target_negative.append(random.choices(train_features_df[train_features_df['user_id']==i]['movie_id'].values, k = 50))\n",
    "    target_negative.append(random.choices(train_features_df['movie_id'].values, k = 50))"
   ]
  },
  {
   "cell_type": "code",
   "execution_count": 326,
   "metadata": {
    "ExecuteTime": {
     "end_time": "2020-08-24T14:32:35.804499Z",
     "start_time": "2020-08-24T14:32:35.796582Z"
    }
   },
   "outputs": [],
   "source": [
    "target_movies = []\n",
    "for i in range(len(num_users)):\n",
    "    target_movies.append(target_positive[i] + target_negative[i])"
   ]
  },
  {
   "cell_type": "markdown",
   "metadata": {},
   "source": [
    "Map the target movies to pick the correct predictions based on the item id"
   ]
  },
  {
   "cell_type": "code",
   "execution_count": 327,
   "metadata": {
    "ExecuteTime": {
     "end_time": "2020-08-24T14:32:38.519648Z",
     "start_time": "2020-08-24T14:32:38.513865Z"
    }
   },
   "outputs": [],
   "source": [
    "def map_movies(target_movies):\n",
    "    map_target_movies = []\n",
    "    map_help = []\n",
    "    for movies in target_movies:\n",
    "        for movie in movies:\n",
    "            map_help.append(iid_map[movie])\n",
    "        map_target_movies.append(map_help)\n",
    "        map_help = []\n",
    "    return map_target_movies"
   ]
  },
  {
   "cell_type": "code",
   "execution_count": 328,
   "metadata": {
    "ExecuteTime": {
     "end_time": "2020-08-24T14:32:40.303708Z",
     "start_time": "2020-08-24T14:32:40.285324Z"
    }
   },
   "outputs": [
    {
     "data": {
      "text/plain": [
       "(610, 100)"
      ]
     },
     "execution_count": 328,
     "metadata": {},
     "output_type": "execute_result"
    }
   ],
   "source": [
    "np.array(target_positive).shape"
   ]
  },
  {
   "cell_type": "code",
   "execution_count": 329,
   "metadata": {
    "ExecuteTime": {
     "end_time": "2020-08-24T14:32:40.592828Z",
     "start_time": "2020-08-24T14:32:40.587104Z"
    }
   },
   "outputs": [],
   "source": [
    "def give_movies_implicit_scores(map_movies):\n",
    "    implicit_scores = 0\n",
    "    feature = []\n",
    "    for i in range(len(num_users)):\n",
    "        #for movies in map_target_movies:\n",
    "        my_list = map_movies[i]\n",
    "        my_array = np.array(my_list)\n",
    "        implicit_scores = f1_model.predict(user_ids = i,item_ids = my_array)\n",
    "        feature.append(implicit_scores)\n",
    "    return feature"
   ]
  },
  {
   "cell_type": "code",
   "execution_count": 331,
   "metadata": {
    "ExecuteTime": {
     "end_time": "2020-08-24T14:32:50.310947Z",
     "start_time": "2020-08-24T14:32:50.060811Z"
    }
   },
   "outputs": [
    {
     "data": {
      "text/plain": [
       "(610, 150)"
      ]
     },
     "execution_count": 331,
     "metadata": {},
     "output_type": "execute_result"
    }
   ],
   "source": [
    "map_target_movies = map_movies(target_movies)\n",
    "feature1 = give_movies_implicit_scores(map_target_movies)\n",
    "feature1 = np.asarray(feature1)\n",
    "feature1.shape"
   ]
  },
  {
   "cell_type": "code",
   "execution_count": 332,
   "metadata": {
    "ExecuteTime": {
     "end_time": "2020-08-24T14:32:51.271035Z",
     "start_time": "2020-08-24T14:32:51.257111Z"
    }
   },
   "outputs": [
    {
     "data": {
      "text/plain": [
       "array([14.843123  , 14.130938  , 13.950392  , 13.928173  , 13.884563  ,\n",
       "       13.809787  , 13.76553   , 13.721528  , 13.567255  , 13.458925  ,\n",
       "       13.43791   , 13.414462  , 13.40416   , 13.390052  , 13.312987  ,\n",
       "       13.277316  , 13.253585  , 13.094991  , 12.958318  , 12.944972  ,\n",
       "       12.904964  , 12.900873  , 12.753536  , 12.63789   , 12.631584  ,\n",
       "       12.550564  , 12.521331  , 12.4715185 , 12.441456  , 12.413273  ,\n",
       "       12.408946  , 12.305     , 12.285373  , 12.280101  , 12.272968  ,\n",
       "       12.260942  , 12.20251   , 12.2024355 , 12.197666  , 12.171913  ,\n",
       "       12.155253  , 12.1450615 , 12.134158  , 12.066117  , 12.058482  ,\n",
       "       12.052251  , 12.043865  , 11.997207  , 11.932458  , 11.923624  ,\n",
       "       11.90748   , 11.720141  , 11.657098  , 11.642429  , 11.533123  ,\n",
       "       11.441665  , 11.425553  , 11.418777  , 11.416754  , 11.387524  ,\n",
       "       11.379307  , 11.377995  , 11.376056  , 11.374781  , 11.374499  ,\n",
       "       11.368067  , 11.335428  , 11.29515   , 11.269621  , 11.25549   ,\n",
       "       11.247996  , 11.24345   , 11.238362  , 11.207883  , 11.15071   ,\n",
       "       11.150549  , 11.116659  , 11.08764   , 11.070711  , 11.0545225 ,\n",
       "       11.042325  , 11.041162  , 11.0029545 , 10.998268  , 10.995124  ,\n",
       "       10.98987   , 10.988337  , 10.972789  , 10.961261  , 10.936909  ,\n",
       "       10.91807   , 10.913969  , 10.91095   , 10.895319  , 10.866214  ,\n",
       "       10.861269  , 10.855867  , 10.853472  , 10.847355  , 10.832345  ,\n",
       "        9.863936  , 11.041162  ,  5.385379  ,  6.5373845 , -3.848473  ,\n",
       "       -0.68530476, -0.68880635, -8.371154  ,  0.65094465, 11.070711  ,\n",
       "       10.768501  ,  8.18864   ,  8.811828  ,  9.822982  , 13.094991  ,\n",
       "       -8.948899  ,  6.139022  ,  5.911508  ,  3.0517328 , -5.5085473 ,\n",
       "        0.02936557,  7.8406444 , 12.904964  ,  7.493781  , -7.0300975 ,\n",
       "        8.43131   ,  9.780465  ,  0.81743574,  5.119452  ,  0.9844282 ,\n",
       "        6.4703736 ,  9.458696  ,  5.326081  , -7.3011265 ,  1.7071676 ,\n",
       "       -6.0345826 ,  2.2081256 ,  9.830015  , 10.093398  , 12.155253  ,\n",
       "        9.354904  ,  4.777635  ,  7.4299603 ,  7.71671   , -2.2356172 ,\n",
       "        9.763663  ,  6.866729  , -3.7918444 , 12.197666  ,  7.3260984 ],\n",
       "      dtype=float32)"
      ]
     },
     "execution_count": 332,
     "metadata": {},
     "output_type": "execute_result"
    }
   ],
   "source": [
    "feature1[0]"
   ]
  },
  {
   "cell_type": "code",
   "execution_count": 315,
   "metadata": {
    "ExecuteTime": {
     "end_time": "2020-08-24T14:25:52.176872Z",
     "start_time": "2020-08-24T14:25:52.165115Z"
    }
   },
   "outputs": [
    {
     "data": {
      "text/plain": [
       "array([9.380747 , 9.361336 , 9.340506 , 9.080334 , 9.0632105, 8.852805 ,\n",
       "       8.832975 , 8.822294 , 8.790202 , 8.784767 , 8.775647 , 8.753056 ,\n",
       "       8.685    , 8.628427 , 8.620975 , 8.590736 , 8.58475  , 8.569571 ,\n",
       "       8.558472 , 8.523901 , 8.503898 , 8.502333 , 8.481401 , 8.445637 ,\n",
       "       8.419413 , 8.415139 , 8.3978405, 8.365469 , 8.362381 , 8.36222  ,\n",
       "       8.352916 , 8.340998 , 8.313248 , 8.297607 , 8.291006 , 8.239805 ,\n",
       "       8.234698 , 8.229104 , 8.225264 , 8.207857 , 8.192988 , 8.181521 ,\n",
       "       8.150707 , 8.147629 , 8.146553 , 8.139062 , 8.124575 , 8.0959015,\n",
       "       8.062919 , 8.043639 , 8.040144 , 8.0400915, 8.02102  , 8.013971 ,\n",
       "       8.013962 , 7.9739323, 7.971958 , 7.9501143, 7.942735 , 7.9299264,\n",
       "       7.9245424, 7.9232125, 7.9230657, 7.9162245, 7.906587 , 7.9003077,\n",
       "       7.8967466, 7.884275 , 7.879615 , 7.878456 , 7.8750362, 7.868084 ,\n",
       "       7.865918 , 7.849935 , 7.833864 , 7.79657  , 7.7822785, 7.778958 ,\n",
       "       7.77423  , 7.7661223, 7.7653437, 7.76041  , 7.758907 , 7.7573004,\n",
       "       7.747803 , 7.7451963, 7.7427773, 7.7368836, 7.7364464, 7.73071  ,\n",
       "       7.7208896, 7.6990614, 7.6895256, 7.682024 , 7.674081 , 7.659186 ,\n",
       "       7.6582427, 7.658192 , 7.655844 , 7.6513834], dtype=float32)"
      ]
     },
     "execution_count": 315,
     "metadata": {},
     "output_type": "execute_result"
    }
   ],
   "source": [
    "feature1[1]"
   ]
  },
  {
   "cell_type": "markdown",
   "metadata": {},
   "source": [
    "## Feature 2 (Implicit Rank)"
   ]
  },
  {
   "cell_type": "code",
   "execution_count": 333,
   "metadata": {
    "ExecuteTime": {
     "end_time": "2020-08-24T14:33:36.800624Z",
     "start_time": "2020-08-24T14:33:36.214743Z"
    }
   },
   "outputs": [],
   "source": [
    "feature2 = []\n",
    "for i in range(len(num_users)):\n",
    "    my_list = map_target_movies[i]\n",
    "    my_array = np.array(my_list)\n",
    "    feature2.append(st.rankdata(-f1_model.predict(i,my_array)))"
   ]
  },
  {
   "cell_type": "code",
   "execution_count": 334,
   "metadata": {
    "ExecuteTime": {
     "end_time": "2020-08-24T14:33:36.824442Z",
     "start_time": "2020-08-24T14:33:36.812063Z"
    }
   },
   "outputs": [
    {
     "data": {
      "text/plain": [
       "(610, 150)"
      ]
     },
     "execution_count": 334,
     "metadata": {},
     "output_type": "execute_result"
    }
   ],
   "source": [
    "np.array(feature2).shape"
   ]
  },
  {
   "cell_type": "code",
   "execution_count": 336,
   "metadata": {
    "ExecuteTime": {
     "end_time": "2020-08-24T14:33:56.356164Z",
     "start_time": "2020-08-24T14:33:56.340065Z"
    }
   },
   "outputs": [
    {
     "data": {
      "text/plain": [
       "array([  1. ,   2. ,   3. ,   4. ,   5. ,   6. ,   7. ,   8. ,   9. ,\n",
       "        10. ,  11. ,  12. ,  13. ,  14. ,  15. ,  16. ,  17. ,  18.5,\n",
       "        20. ,  21. ,  22.5,  24. ,  25. ,  26. ,  27. ,  28. ,  29. ,\n",
       "        30. ,  31. ,  32. ,  33. ,  34. ,  35. ,  36. ,  37. ,  38. ,\n",
       "        39. ,  40. ,  41.5,  43. ,  44.5,  46. ,  47. ,  48. ,  49. ,\n",
       "        50. ,  51. ,  52. ,  53. ,  54. ,  55. ,  56. ,  57. ,  58. ,\n",
       "        59. ,  60. ,  61. ,  62. ,  63. ,  64. ,  65. ,  66. ,  67. ,\n",
       "        68. ,  69. ,  70. ,  71. ,  72. ,  73. ,  74. ,  75. ,  76. ,\n",
       "        77. ,  78. ,  79. ,  80. ,  81. ,  82. ,  83.5,  85. ,  86. ,\n",
       "        87.5,  89. ,  90. ,  91. ,  92. ,  93. ,  94. ,  95. ,  96. ,\n",
       "        97. ,  98. ,  99. , 100. , 101. , 102. , 103. , 104. , 105. ,\n",
       "       106. , 109. ,  87.5, 129. , 125. , 144. , 140. , 141. , 149. ,\n",
       "       138. ,  83.5, 107. , 118. , 116. , 111. ,  18.5, 150. , 127. ,\n",
       "       128. , 133. , 145. , 139. , 119. ,  22.5, 121. , 147. , 117. ,\n",
       "       112. , 137. , 131. , 136. , 126. , 114. , 130. , 148. , 135. ,\n",
       "       146. , 134. , 110. , 108. ,  44.5, 115. , 132. , 122. , 120. ,\n",
       "       142. , 113. , 124. , 143. ,  41.5, 123. ])"
      ]
     },
     "execution_count": 336,
     "metadata": {},
     "output_type": "execute_result"
    }
   ],
   "source": [
    "feature2[0]"
   ]
  },
  {
   "cell_type": "markdown",
   "metadata": {},
   "source": [
    "## Feature 3 (SVD scores)"
   ]
  },
  {
   "cell_type": "markdown",
   "metadata": {},
   "source": [
    "SVD model Scores. Take advantage of the DataFrame containing the scores to extract the predicted scores for the desired movies."
   ]
  },
  {
   "cell_type": "code",
   "execution_count": 201,
   "metadata": {
    "ExecuteTime": {
     "end_time": "2020-08-24T13:47:38.783296Z",
     "start_time": "2020-08-24T13:47:38.319179Z"
    }
   },
   "outputs": [],
   "source": [
    "df_movie_features1 = train_features_df.pivot(\n",
    "    index='user_id',\n",
    "    columns='movie_id',\n",
    "    values='rating'\n",
    ").fillna(0)"
   ]
  },
  {
   "cell_type": "code",
   "execution_count": 202,
   "metadata": {
    "ExecuteTime": {
     "end_time": "2020-08-24T13:47:40.214633Z",
     "start_time": "2020-08-24T13:47:38.791568Z"
    }
   },
   "outputs": [],
   "source": [
    "U1, sigma1, Vt1 = svds(df_movie_features1)\n",
    "sigma1 = np.diag(sigma1)\n",
    "svd_predictions_score1 = np.dot(np.dot(U1, sigma1), Vt1)\n",
    "svd_predictions_score_df1 = pd.DataFrame(svd_predictions_score1, columns = df_movie_features1.columns)"
   ]
  },
  {
   "cell_type": "code",
   "execution_count": 203,
   "metadata": {
    "ExecuteTime": {
     "end_time": "2020-08-24T13:47:40.248238Z",
     "start_time": "2020-08-24T13:47:40.224982Z"
    }
   },
   "outputs": [
    {
     "data": {
      "text/plain": [
       "50"
      ]
     },
     "execution_count": 203,
     "metadata": {},
     "output_type": "execute_result"
    }
   ],
   "source": [
    "target_movies[0][2]"
   ]
  },
  {
   "cell_type": "code",
   "execution_count": 204,
   "metadata": {
    "ExecuteTime": {
     "end_time": "2020-08-24T13:47:40.418316Z",
     "start_time": "2020-08-24T13:47:40.258763Z"
    }
   },
   "outputs": [
    {
     "data": {
      "text/html": [
       "<div>\n",
       "<style scoped>\n",
       "    .dataframe tbody tr th:only-of-type {\n",
       "        vertical-align: middle;\n",
       "    }\n",
       "\n",
       "    .dataframe tbody tr th {\n",
       "        vertical-align: top;\n",
       "    }\n",
       "\n",
       "    .dataframe thead th {\n",
       "        text-align: right;\n",
       "    }\n",
       "</style>\n",
       "<table border=\"1\" class=\"dataframe\">\n",
       "  <thead>\n",
       "    <tr style=\"text-align: right;\">\n",
       "      <th>movie_id</th>\n",
       "      <th>1</th>\n",
       "      <th>2</th>\n",
       "      <th>3</th>\n",
       "      <th>4</th>\n",
       "      <th>5</th>\n",
       "      <th>6</th>\n",
       "      <th>7</th>\n",
       "      <th>8</th>\n",
       "      <th>9</th>\n",
       "      <th>10</th>\n",
       "      <th>...</th>\n",
       "      <th>189333</th>\n",
       "      <th>189381</th>\n",
       "      <th>190209</th>\n",
       "      <th>190213</th>\n",
       "      <th>193565</th>\n",
       "      <th>193567</th>\n",
       "      <th>193571</th>\n",
       "      <th>193579</th>\n",
       "      <th>193581</th>\n",
       "      <th>193587</th>\n",
       "    </tr>\n",
       "  </thead>\n",
       "  <tbody>\n",
       "    <tr>\n",
       "      <th>0</th>\n",
       "      <td>1.687722</td>\n",
       "      <td>0.55927</td>\n",
       "      <td>0.421184</td>\n",
       "      <td>0.067184</td>\n",
       "      <td>0.303658</td>\n",
       "      <td>0.945642</td>\n",
       "      <td>0.288921</td>\n",
       "      <td>0.072341</td>\n",
       "      <td>0.054626</td>\n",
       "      <td>1.556121</td>\n",
       "      <td>...</td>\n",
       "      <td>-0.006332</td>\n",
       "      <td>-0.023291</td>\n",
       "      <td>-0.001509</td>\n",
       "      <td>-0.000377</td>\n",
       "      <td>-0.005457</td>\n",
       "      <td>-0.004678</td>\n",
       "      <td>-0.006237</td>\n",
       "      <td>-0.005457</td>\n",
       "      <td>-0.006237</td>\n",
       "      <td>-0.005457</td>\n",
       "    </tr>\n",
       "  </tbody>\n",
       "</table>\n",
       "<p>1 rows × 7593 columns</p>\n",
       "</div>"
      ],
      "text/plain": [
       "movie_id    1        2         3         4         5         6         7       \\\n",
       "0         1.687722  0.55927  0.421184  0.067184  0.303658  0.945642  0.288921   \n",
       "\n",
       "movie_id    8         9         10      ...    189333    189381    190209  \\\n",
       "0         0.072341  0.054626  1.556121  ... -0.006332 -0.023291 -0.001509   \n",
       "\n",
       "movie_id    190213    193565    193567    193571    193579    193581    193587  \n",
       "0        -0.000377 -0.005457 -0.004678 -0.006237 -0.005457 -0.006237 -0.005457  \n",
       "\n",
       "[1 rows x 7593 columns]"
      ]
     },
     "execution_count": 204,
     "metadata": {},
     "output_type": "execute_result"
    }
   ],
   "source": [
    "svd_predictions_score_df1[svd_predictions_score_df1.index == 0]"
   ]
  },
  {
   "cell_type": "code",
   "execution_count": 205,
   "metadata": {
    "ExecuteTime": {
     "end_time": "2020-08-24T13:47:40.449949Z",
     "start_time": "2020-08-24T13:47:40.426916Z"
    }
   },
   "outputs": [
    {
     "data": {
      "text/plain": [
       "1.6877219831192578"
      ]
     },
     "execution_count": 205,
     "metadata": {},
     "output_type": "execute_result"
    }
   ],
   "source": [
    "float(svd_predictions_score_df1[svd_predictions_score_df1.index == 0][target_movies[0][0]].values)"
   ]
  },
  {
   "cell_type": "code",
   "execution_count": 206,
   "metadata": {
    "ExecuteTime": {
     "end_time": "2020-08-24T13:49:37.371326Z",
     "start_time": "2020-08-24T13:47:40.459602Z"
    }
   },
   "outputs": [],
   "source": [
    "feature3 = []\n",
    "feature3_user = []\n",
    "for i in range(len(num_users)):\n",
    "    for j in range(len(target_movies[i])):\n",
    "        feature3_user.append(float(svd_predictions_score_df1[svd_predictions_score_df1.index == i][target_movies[i][j]].values))\n",
    "    feature3.append(feature3_user)\n",
    "    feature3_user = []"
   ]
  },
  {
   "cell_type": "code",
   "execution_count": 207,
   "metadata": {
    "ExecuteTime": {
     "end_time": "2020-08-24T13:49:37.391180Z",
     "start_time": "2020-08-24T13:49:37.374980Z"
    }
   },
   "outputs": [
    {
     "data": {
      "text/plain": [
       "(610, 150)"
      ]
     },
     "execution_count": 207,
     "metadata": {},
     "output_type": "execute_result"
    }
   ],
   "source": [
    "np.array(feature3).shape"
   ]
  },
  {
   "cell_type": "markdown",
   "metadata": {},
   "source": [
    "## Feature 4 (Genre)"
   ]
  },
  {
   "cell_type": "code",
   "execution_count": 92,
   "metadata": {
    "ExecuteTime": {
     "end_time": "2020-08-24T13:04:12.373892Z",
     "start_time": "2020-08-24T13:04:12.304874Z"
    }
   },
   "outputs": [],
   "source": [
    "def create_genre_feature(genre):\n",
    "    feature = []\n",
    "    genre_per_user = []\n",
    "    for i in range(len(num_users)):\n",
    "        for j in range(len(target_movies[i])):\n",
    "            a =  movies_df[movies_df['movieId'] == target_movies[i][j]]['genres']\n",
    "            a = a.tolist()\n",
    "            a = str(a[0])\n",
    "            a = a.split('|')\n",
    "            if genre in a:\n",
    "                genre_per_user.append(1)\n",
    "            else:\n",
    "                genre_per_user.append(0)\n",
    "        feature.append(genre_per_user)\n",
    "        genre_per_user = []\n",
    "    return feature"
   ]
  },
  {
   "cell_type": "code",
   "execution_count": 93,
   "metadata": {
    "ExecuteTime": {
     "end_time": "2020-08-24T13:06:01.384958Z",
     "start_time": "2020-08-24T13:04:12.376367Z"
    }
   },
   "outputs": [
    {
     "data": {
      "text/plain": [
       "(610, 150)"
      ]
     },
     "execution_count": 93,
     "metadata": {},
     "output_type": "execute_result"
    }
   ],
   "source": [
    "feature4 = create_genre_feature('Comedy')\n",
    "np.array(feature4).shape"
   ]
  },
  {
   "cell_type": "markdown",
   "metadata": {},
   "source": [
    "### Features 8-15 (genres)"
   ]
  },
  {
   "cell_type": "code",
   "execution_count": 94,
   "metadata": {
    "ExecuteTime": {
     "end_time": "2020-08-24T13:19:50.940326Z",
     "start_time": "2020-08-24T13:06:01.390047Z"
    }
   },
   "outputs": [],
   "source": [
    "feature8 = create_genre_feature('Adventure')\n",
    "feature9 = create_genre_feature('Drama')\n",
    "feature10 = create_genre_feature('Romance')\n",
    "feature11 = create_genre_feature('Fantasy')\n",
    "feature12 = create_genre_feature('Thriller')\n",
    "feature13 = create_genre_feature('Animation')\n",
    "feature14 = create_genre_feature('Children')\n",
    "feature15 = create_genre_feature('Horror')"
   ]
  },
  {
   "cell_type": "markdown",
   "metadata": {},
   "source": [
    "## Feature 5 (#Users watched each target movie)"
   ]
  },
  {
   "cell_type": "code",
   "execution_count": 95,
   "metadata": {
    "ExecuteTime": {
     "end_time": "2020-08-24T13:21:58.814411Z",
     "start_time": "2020-08-24T13:19:50.944333Z"
    }
   },
   "outputs": [],
   "source": [
    "number_views = []\n",
    "number_view_per_movie = []\n",
    "for i in range(len(num_users)):\n",
    "    for j in range(len(target_movies[i])):\n",
    "        a = len(ratings_df[ratings_df['movieId'] == target_movies[i][j]]['userId'])\n",
    "        number_view_per_movie.append(a)\n",
    "    number_views.append(number_view_per_movie)\n",
    "    number_view_per_movie = []\n"
   ]
  },
  {
   "cell_type": "code",
   "execution_count": 96,
   "metadata": {
    "ExecuteTime": {
     "end_time": "2020-08-24T13:21:58.825670Z",
     "start_time": "2020-08-24T13:21:58.818143Z"
    }
   },
   "outputs": [],
   "source": [
    "feature5 = number_views"
   ]
  },
  {
   "cell_type": "code",
   "execution_count": 97,
   "metadata": {
    "ExecuteTime": {
     "end_time": "2020-08-24T13:21:58.907368Z",
     "start_time": "2020-08-24T13:21:58.828931Z"
    }
   },
   "outputs": [
    {
     "data": {
      "text/plain": [
       "(610, 150)"
      ]
     },
     "execution_count": 97,
     "metadata": {},
     "output_type": "execute_result"
    }
   ],
   "source": [
    "np.array(feature5).shape"
   ]
  },
  {
   "cell_type": "markdown",
   "metadata": {},
   "source": [
    "## Feature 6 (New user)"
   ]
  },
  {
   "cell_type": "code",
   "execution_count": 98,
   "metadata": {
    "ExecuteTime": {
     "end_time": "2020-08-24T13:21:58.918761Z",
     "start_time": "2020-08-24T13:21:58.910142Z"
    }
   },
   "outputs": [
    {
     "data": {
      "text/plain": [
       "False"
      ]
     },
     "execution_count": 98,
     "metadata": {},
     "output_type": "execute_result"
    }
   ],
   "source": [
    "len(ratings_df[ratings_df['userId']==1]) < 20"
   ]
  },
  {
   "cell_type": "code",
   "execution_count": 99,
   "metadata": {
    "ExecuteTime": {
     "end_time": "2020-08-24T13:23:54.628633Z",
     "start_time": "2020-08-24T13:21:58.920756Z"
    }
   },
   "outputs": [],
   "source": [
    "new_users_binary = []\n",
    "binary_per_user = []\n",
    "for i in range(len(num_users)):\n",
    "    for j in range(len(target_movies[i])):\n",
    "        a = len(ratings_df[ratings_df['userId']==i]) < 25\n",
    "        if a:\n",
    "            binary_per_user.append(a)\n",
    "        else:\n",
    "            binary_per_user.append(a)\n",
    "    new_users_binary.append(binary_per_user)\n",
    "    binary_per_user = []"
   ]
  },
  {
   "cell_type": "code",
   "execution_count": 100,
   "metadata": {
    "ExecuteTime": {
     "end_time": "2020-08-24T13:23:54.640724Z",
     "start_time": "2020-08-24T13:23:54.633026Z"
    }
   },
   "outputs": [],
   "source": [
    "#rankings of old/new users"
   ]
  },
  {
   "cell_type": "code",
   "execution_count": 101,
   "metadata": {
    "ExecuteTime": {
     "end_time": "2020-08-24T13:23:54.711726Z",
     "start_time": "2020-08-24T13:23:54.644312Z"
    }
   },
   "outputs": [],
   "source": [
    "feature6 = new_users_binary"
   ]
  },
  {
   "cell_type": "code",
   "execution_count": 102,
   "metadata": {
    "ExecuteTime": {
     "end_time": "2020-08-24T13:23:54.747568Z",
     "start_time": "2020-08-24T13:23:54.717731Z"
    }
   },
   "outputs": [
    {
     "data": {
      "text/plain": [
       "(610, 150)"
      ]
     },
     "execution_count": 102,
     "metadata": {},
     "output_type": "execute_result"
    }
   ],
   "source": [
    "np.array(feature6).shape"
   ]
  },
  {
   "cell_type": "markdown",
   "metadata": {},
   "source": [
    "Check how many the new users are"
   ]
  },
  {
   "cell_type": "code",
   "execution_count": 103,
   "metadata": {
    "ExecuteTime": {
     "end_time": "2020-08-24T13:23:54.774365Z",
     "start_time": "2020-08-24T13:23:54.754913Z"
    }
   },
   "outputs": [
    {
     "name": "stdout",
     "output_type": "stream",
     "text": [
      "64\n"
     ]
    }
   ],
   "source": [
    "count = 0\n",
    "for i in range(len(num_users)):\n",
    "    if True in feature6[i]:\n",
    "        count += 1\n",
    "print(count)"
   ]
  },
  {
   "cell_type": "markdown",
   "metadata": {},
   "source": [
    "## Feature 7(Embeddings) x32"
   ]
  },
  {
   "cell_type": "code",
   "execution_count": 104,
   "metadata": {
    "ExecuteTime": {
     "end_time": "2020-08-24T13:23:54.791036Z",
     "start_time": "2020-08-24T13:23:54.781124Z"
    }
   },
   "outputs": [],
   "source": [
    "emb = f1_model._net.item_embeddings"
   ]
  },
  {
   "cell_type": "code",
   "execution_count": 105,
   "metadata": {
    "ExecuteTime": {
     "end_time": "2020-08-24T13:24:01.424195Z",
     "start_time": "2020-08-24T13:23:54.797430Z"
    }
   },
   "outputs": [],
   "source": [
    "emb_features = []\n",
    "helper = []\n",
    "for i in range(32):\n",
    "    for j in range(len(num_items)):\n",
    "        helper.append(emb.weight[j][i].item())\n",
    "    emb_features.append(helper)\n",
    "    helper = []"
   ]
  },
  {
   "cell_type": "code",
   "execution_count": 106,
   "metadata": {
    "ExecuteTime": {
     "end_time": "2020-08-24T13:24:02.427031Z",
     "start_time": "2020-08-24T13:24:01.427890Z"
    }
   },
   "outputs": [],
   "source": [
    "a = []\n",
    "b = []\n",
    "feature7 = []\n",
    "for i in range(32):\n",
    "    for user in range(len(num_users)):\n",
    "        for movie in map_target_movies[user]:\n",
    "            a.append(emb_features[0][movie])\n",
    "        b.append(a)\n",
    "        a = []\n",
    "    feature7.append(b)\n",
    "    b = []"
   ]
  },
  {
   "cell_type": "code",
   "execution_count": 107,
   "metadata": {
    "ExecuteTime": {
     "end_time": "2020-08-24T13:24:02.607169Z",
     "start_time": "2020-08-24T13:24:02.431455Z"
    }
   },
   "outputs": [
    {
     "data": {
      "text/plain": [
       "(32, 610, 150)"
      ]
     },
     "execution_count": 107,
     "metadata": {},
     "output_type": "execute_result"
    }
   ],
   "source": [
    "np.array(feature7).shape"
   ]
  },
  {
   "cell_type": "code",
   "execution_count": 108,
   "metadata": {
    "ExecuteTime": {
     "end_time": "2020-08-24T13:24:02.678351Z",
     "start_time": "2020-08-24T13:24:02.609169Z"
    }
   },
   "outputs": [
    {
     "data": {
      "text/plain": [
       "(610, 150)"
      ]
     },
     "execution_count": 108,
     "metadata": {},
     "output_type": "execute_result"
    }
   ],
   "source": [
    "np.array(feature7[0]).shape"
   ]
  },
  {
   "cell_type": "markdown",
   "metadata": {},
   "source": [
    "## Feature 47 (SVD Rank)"
   ]
  },
  {
   "cell_type": "code",
   "execution_count": 109,
   "metadata": {
    "ExecuteTime": {
     "end_time": "2020-08-24T13:25:16.287081Z",
     "start_time": "2020-08-24T13:24:02.680345Z"
    }
   },
   "outputs": [],
   "source": [
    "feature47 = []\n",
    "feature47_user = []\n",
    "for i in range(len(num_users)):\n",
    "    for j in range(len(target_movies[i])):\n",
    "        feature47_user.append(float(svd_predictions_score_df1[svd_predictions_score_df1.index == i][target_movies[i][j]].values))\n",
    "    feature47.append(st.rankdata(feature47_user))\n",
    "    feature47_user = []"
   ]
  },
  {
   "cell_type": "code",
   "execution_count": 110,
   "metadata": {
    "ExecuteTime": {
     "end_time": "2020-08-24T13:25:16.306358Z",
     "start_time": "2020-08-24T13:25:16.291863Z"
    }
   },
   "outputs": [
    {
     "data": {
      "text/plain": [
       "(610, 150)"
      ]
     },
     "execution_count": 110,
     "metadata": {},
     "output_type": "execute_result"
    }
   ],
   "source": [
    "np.array(feature47).shape"
   ]
  },
  {
   "cell_type": "markdown",
   "metadata": {},
   "source": [
    "## Features stack"
   ]
  },
  {
   "cell_type": "code",
   "execution_count": 111,
   "metadata": {
    "ExecuteTime": {
     "end_time": "2020-08-24T13:25:16.742508Z",
     "start_time": "2020-08-24T13:25:16.312293Z"
    }
   },
   "outputs": [],
   "source": [
    "features = np.stack((feature1, feature2, feature3, feature4, feature5, feature6,\n",
    "                     feature7[0], feature7[1], feature7[2], feature7[3],\n",
    "                     feature7[4], feature7[5], feature7[6], feature7[7],\n",
    "                     feature7[8], feature7[9], feature7[10], feature7[11],\n",
    "                     feature7[12], feature7[13], feature7[14], feature7[15],\n",
    "                     feature7[16], feature7[17], feature7[18], feature7[19],\n",
    "                     feature7[20], feature7[21], feature7[22], feature7[23],\n",
    "                     feature7[24], feature7[25], feature7[26], feature7[27],\n",
    "                     feature7[28], feature7[29], feature7[30], feature7[31],\n",
    "                     feature8, feature9, feature10, feature11, feature12,\n",
    "                     feature13, feature14, feature15, feature47))"
   ]
  },
  {
   "cell_type": "code",
   "execution_count": 349,
   "metadata": {
    "ExecuteTime": {
     "end_time": "2020-08-24T14:39:27.166465Z",
     "start_time": "2020-08-24T14:39:27.155690Z"
    }
   },
   "outputs": [],
   "source": [
    "features = np.stack((feature1, feature2))"
   ]
  },
  {
   "cell_type": "code",
   "execution_count": 350,
   "metadata": {
    "ExecuteTime": {
     "end_time": "2020-08-24T14:39:27.715258Z",
     "start_time": "2020-08-24T14:39:27.707469Z"
    }
   },
   "outputs": [
    {
     "data": {
      "text/plain": [
       "2"
      ]
     },
     "execution_count": 350,
     "metadata": {},
     "output_type": "execute_result"
    }
   ],
   "source": [
    "len(features)"
   ]
  },
  {
   "cell_type": "markdown",
   "metadata": {},
   "source": [
    "## Labels"
   ]
  },
  {
   "cell_type": "markdown",
   "metadata": {},
   "source": [
    "Below are the movies that each user watched"
   ]
  },
  {
   "cell_type": "code",
   "execution_count": 114,
   "metadata": {
    "ExecuteTime": {
     "end_time": "2020-08-24T13:25:16.839053Z",
     "start_time": "2020-08-24T13:25:16.826356Z"
    }
   },
   "outputs": [],
   "source": [
    "def watched_movies(df):\n",
    "    watched = []\n",
    "    #for i in range(len(num_users)):\n",
    "    for u in uid_rev_map:\n",
    "        watched.append(df[df[\"user_id\"]==uid_rev_map.get(i)].groupby(\"movie_id\")[\"movie_id\"].count().index.tolist())  \n",
    "    return watched "
   ]
  },
  {
   "cell_type": "code",
   "execution_count": 115,
   "metadata": {
    "ExecuteTime": {
     "end_time": "2020-08-24T13:25:21.094343Z",
     "start_time": "2020-08-24T13:25:16.840081Z"
    }
   },
   "outputs": [],
   "source": [
    "train_watched = watched_movies(train_labels_df)\n",
    "test_watched = watched_movies(test_df)\n",
    "val_watched = watched_movies(val_df)"
   ]
  },
  {
   "cell_type": "markdown",
   "metadata": {},
   "source": [
    "Creation of the target list. It containes 0s and 1s for the 100 recommended movies for each user. Based on the watched movies it assigns the values. If the user watched the recommended movie, then the value of the target is equal to 1, otherwise it is 0."
   ]
  },
  {
   "cell_type": "code",
   "execution_count": 340,
   "metadata": {
    "ExecuteTime": {
     "end_time": "2020-08-24T14:34:56.034266Z",
     "start_time": "2020-08-24T14:34:56.024508Z"
    }
   },
   "outputs": [],
   "source": [
    "def create_target(watched):\n",
    "    user_target = []\n",
    "    target = []\n",
    "    for i in range(len(num_users)):\n",
    "        for target_movie in target_movies[i]:\n",
    "            if target_movie in watched[i]:\n",
    "                user_target.append(1)\n",
    "            else:\n",
    "                user_target.append(0)\n",
    "        target.append(user_target)\n",
    "        user_target = []\n",
    "    return target"
   ]
  },
  {
   "cell_type": "code",
   "execution_count": 341,
   "metadata": {
    "ExecuteTime": {
     "end_time": "2020-08-24T14:35:26.918019Z",
     "start_time": "2020-08-24T14:34:56.595600Z"
    }
   },
   "outputs": [],
   "source": [
    "label_train = create_target(train_watched)\n",
    "label_test = create_target(test_watched)\n",
    "label_val = create_target(val_watched)\n",
    "#y_train = y_test = y_val"
   ]
  },
  {
   "cell_type": "code",
   "execution_count": 348,
   "metadata": {
    "ExecuteTime": {
     "end_time": "2020-08-24T14:39:08.249943Z",
     "start_time": "2020-08-24T14:39:08.240251Z"
    }
   },
   "outputs": [
    {
     "data": {
      "text/plain": [
       "[0,\n",
       " 0,\n",
       " 0,\n",
       " 0,\n",
       " 0,\n",
       " 0,\n",
       " 0,\n",
       " 0,\n",
       " 0,\n",
       " 0,\n",
       " 0,\n",
       " 0,\n",
       " 0,\n",
       " 0,\n",
       " 0,\n",
       " 0,\n",
       " 0,\n",
       " 0,\n",
       " 0,\n",
       " 0,\n",
       " 0,\n",
       " 0,\n",
       " 0,\n",
       " 0,\n",
       " 0,\n",
       " 0,\n",
       " 0,\n",
       " 0,\n",
       " 0,\n",
       " 0,\n",
       " 0,\n",
       " 0,\n",
       " 0,\n",
       " 1,\n",
       " 0,\n",
       " 0,\n",
       " 1,\n",
       " 0,\n",
       " 0,\n",
       " 0,\n",
       " 0,\n",
       " 0,\n",
       " 0,\n",
       " 0,\n",
       " 0,\n",
       " 0,\n",
       " 0,\n",
       " 0,\n",
       " 0,\n",
       " 0]"
      ]
     },
     "execution_count": 348,
     "metadata": {},
     "output_type": "execute_result"
    }
   ],
   "source": [
    "#label_train[50][100:]"
   ]
  },
  {
   "cell_type": "markdown",
   "metadata": {},
   "source": [
    "## LightGBM model"
   ]
  },
  {
   "cell_type": "code",
   "execution_count": 351,
   "metadata": {
    "ExecuteTime": {
     "end_time": "2020-08-24T14:39:33.195261Z",
     "start_time": "2020-08-24T14:39:33.145836Z"
    }
   },
   "outputs": [],
   "source": [
    "X = np.array(features)\n",
    "label_train = np.array(label_train)\n",
    "label_test = np.array(label_test)\n",
    "label_val = np.array(label_val)"
   ]
  },
  {
   "cell_type": "code",
   "execution_count": 352,
   "metadata": {
    "ExecuteTime": {
     "end_time": "2020-08-24T14:39:33.699583Z",
     "start_time": "2020-08-24T14:39:33.689408Z"
    }
   },
   "outputs": [],
   "source": [
    "k = len(target_movies[0])\n",
    "X = X.reshape(len(num_users)*k, len(features))\n",
    "y_train = label_train.reshape(len(num_users)*k,)\n",
    "y_test = label_test.reshape(len(num_users)*k,)\n",
    "y_val = label_val.reshape(len(num_users)*k,)"
   ]
  },
  {
   "cell_type": "code",
   "execution_count": 353,
   "metadata": {
    "ExecuteTime": {
     "end_time": "2020-08-24T14:39:34.335974Z",
     "start_time": "2020-08-24T14:39:34.330062Z"
    }
   },
   "outputs": [],
   "source": [
    "import lightgbm as lgb\n",
    "gbm = lgb.LGBMRanker(min_child_samples=1, learning_rate=.1, n_jobs=2, importance_type='gain',\n",
    "                     num_leaves=31, min_child_weight=100)"
   ]
  },
  {
   "cell_type": "code",
   "execution_count": 354,
   "metadata": {
    "ExecuteTime": {
     "end_time": "2020-08-24T14:39:35.801805Z",
     "start_time": "2020-08-24T14:39:35.796708Z"
    }
   },
   "outputs": [],
   "source": [
    "X_train = X\n",
    "X_test = X\n",
    "X_val = X"
   ]
  },
  {
   "cell_type": "code",
   "execution_count": 355,
   "metadata": {
    "ExecuteTime": {
     "end_time": "2020-08-24T14:39:36.421088Z",
     "start_time": "2020-08-24T14:39:36.405274Z"
    },
    "scrolled": true
   },
   "outputs": [
    {
     "name": "stdout",
     "output_type": "stream",
     "text": [
      "610\n",
      "609\n",
      "605\n",
      "610\n",
      "602\n"
     ]
    }
   ],
   "source": [
    "print(len(train_df.user_id.unique()))\n",
    "print(len(test_df.user_id.unique()))\n",
    "print(len(val_df.user_id.unique()))\n",
    "print(len(train_features_df.user_id.unique()))\n",
    "print(len(train_labels_df.user_id.unique()))"
   ]
  },
  {
   "cell_type": "code",
   "execution_count": 356,
   "metadata": {
    "ExecuteTime": {
     "end_time": "2020-08-24T14:39:37.783095Z",
     "start_time": "2020-08-24T14:39:37.775205Z"
    }
   },
   "outputs": [
    {
     "name": "stdout",
     "output_type": "stream",
     "text": [
      "[91500]\n",
      "[91500]\n",
      "[91500]\n"
     ]
    }
   ],
   "source": [
    "query_train = [X_train.shape[0]]\n",
    "query_val = [X_val.shape[0]]\n",
    "query_test = [X_test.shape[0]]\n",
    "group_train = []\n",
    "group_val = []\n",
    "print(query_train)\n",
    "print(query_val)\n",
    "print(query_test)\n",
    "\n",
    "for i in range(len(num_users)):\n",
    "    group_train.append(k)\n",
    "    group_val.append(k)"
   ]
  },
  {
   "cell_type": "code",
   "execution_count": 357,
   "metadata": {
    "ExecuteTime": {
     "end_time": "2020-08-24T14:39:40.898299Z",
     "start_time": "2020-08-24T14:39:38.261609Z"
    },
    "code_folding": []
   },
   "outputs": [
    {
     "name": "stdout",
     "output_type": "stream",
     "text": [
      "[1]\tvalid_0's ndcg@1: 0.0868852\tvalid_0's ndcg@3: 0.0801082\tvalid_0's ndcg@5: 0.0848927\tvalid_0's ndcg@10: 0.0873256\n",
      "Training until validation scores don't improve for 50 rounds\n",
      "[2]\tvalid_0's ndcg@1: 0.0819672\tvalid_0's ndcg@3: 0.0864641\tvalid_0's ndcg@5: 0.0899854\tvalid_0's ndcg@10: 0.0910343\n",
      "[3]\tvalid_0's ndcg@1: 0.0737705\tvalid_0's ndcg@3: 0.0819855\tvalid_0's ndcg@5: 0.0873409\tvalid_0's ndcg@10: 0.0911652\n",
      "[4]\tvalid_0's ndcg@1: 0.0704918\tvalid_0's ndcg@3: 0.0870225\tvalid_0's ndcg@5: 0.0886032\tvalid_0's ndcg@10: 0.0923364\n",
      "[5]\tvalid_0's ndcg@1: 0.052459\tvalid_0's ndcg@3: 0.0811702\tvalid_0's ndcg@5: 0.0825478\tvalid_0's ndcg@10: 0.0905479\n",
      "[6]\tvalid_0's ndcg@1: 0.0934426\tvalid_0's ndcg@3: 0.08901\tvalid_0's ndcg@5: 0.088506\tvalid_0's ndcg@10: 0.09292\n",
      "[7]\tvalid_0's ndcg@1: 0.0918033\tvalid_0's ndcg@3: 0.0901639\tvalid_0's ndcg@5: 0.0892017\tvalid_0's ndcg@10: 0.0918242\n",
      "[8]\tvalid_0's ndcg@1: 0.0918033\tvalid_0's ndcg@3: 0.0882224\tvalid_0's ndcg@5: 0.0902219\tvalid_0's ndcg@10: 0.0890221\n",
      "[9]\tvalid_0's ndcg@1: 0.095082\tvalid_0's ndcg@3: 0.0921879\tvalid_0's ndcg@5: 0.0921527\tvalid_0's ndcg@10: 0.0912737\n",
      "[10]\tvalid_0's ndcg@1: 0.0918033\tvalid_0's ndcg@3: 0.0897975\tvalid_0's ndcg@5: 0.0873883\tvalid_0's ndcg@10: 0.0906591\n",
      "[11]\tvalid_0's ndcg@1: 0.0934426\tvalid_0's ndcg@3: 0.0926916\tvalid_0's ndcg@5: 0.0884652\tvalid_0's ndcg@10: 0.0901722\n",
      "[12]\tvalid_0's ndcg@1: 0.0901639\tvalid_0's ndcg@3: 0.0875721\tvalid_0's ndcg@5: 0.0850843\tvalid_0's ndcg@10: 0.0902314\n",
      "[13]\tvalid_0's ndcg@1: 0.095082\tvalid_0's ndcg@3: 0.0883414\tvalid_0's ndcg@5: 0.0854028\tvalid_0's ndcg@10: 0.0903135\n",
      "[14]\tvalid_0's ndcg@1: 0.0803279\tvalid_0's ndcg@3: 0.0834234\tvalid_0's ndcg@5: 0.0822035\tvalid_0's ndcg@10: 0.0884501\n",
      "[15]\tvalid_0's ndcg@1: 0.0786885\tvalid_0's ndcg@3: 0.0793754\tvalid_0's ndcg@5: 0.0809694\tvalid_0's ndcg@10: 0.087195\n",
      "[16]\tvalid_0's ndcg@1: 0.0770492\tvalid_0's ndcg@3: 0.0815001\tvalid_0's ndcg@5: 0.0799064\tvalid_0's ndcg@10: 0.0863613\n",
      "[17]\tvalid_0's ndcg@1: 0.0819672\tvalid_0's ndcg@3: 0.0838263\tvalid_0's ndcg@5: 0.0828168\tvalid_0's ndcg@10: 0.0882987\n",
      "[18]\tvalid_0's ndcg@1: 0.0852459\tvalid_0's ndcg@3: 0.0824708\tvalid_0's ndcg@5: 0.0830043\tvalid_0's ndcg@10: 0.0876497\n",
      "[19]\tvalid_0's ndcg@1: 0.0836066\tvalid_0's ndcg@3: 0.0834598\tvalid_0's ndcg@5: 0.0825949\tvalid_0's ndcg@10: 0.0874281\n",
      "[20]\tvalid_0's ndcg@1: 0.0803279\tvalid_0's ndcg@3: 0.0821687\tvalid_0's ndcg@5: 0.0814339\tvalid_0's ndcg@10: 0.087409\n",
      "[21]\tvalid_0's ndcg@1: 0.0819672\tvalid_0's ndcg@3: 0.0827548\tvalid_0's ndcg@5: 0.0820424\tvalid_0's ndcg@10: 0.0868391\n",
      "[22]\tvalid_0's ndcg@1: 0.0819672\tvalid_0's ndcg@3: 0.0837255\tvalid_0's ndcg@5: 0.0812643\tvalid_0's ndcg@10: 0.088679\n",
      "[23]\tvalid_0's ndcg@1: 0.0803279\tvalid_0's ndcg@3: 0.0836431\tvalid_0's ndcg@5: 0.0827591\tvalid_0's ndcg@10: 0.0889193\n",
      "[24]\tvalid_0's ndcg@1: 0.0852459\tvalid_0's ndcg@3: 0.0837255\tvalid_0's ndcg@5: 0.0819769\tvalid_0's ndcg@10: 0.0879214\n",
      "[25]\tvalid_0's ndcg@1: 0.0786885\tvalid_0's ndcg@3: 0.082773\tvalid_0's ndcg@5: 0.0824857\tvalid_0's ndcg@10: 0.0879457\n",
      "[26]\tvalid_0's ndcg@1: 0.0852459\tvalid_0's ndcg@3: 0.0849802\tvalid_0's ndcg@5: 0.0826649\tvalid_0's ndcg@10: 0.0880612\n",
      "[27]\tvalid_0's ndcg@1: 0.0852459\tvalid_0's ndcg@3: 0.0853649\tvalid_0's ndcg@5: 0.0829185\tvalid_0's ndcg@10: 0.0871658\n",
      "[28]\tvalid_0's ndcg@1: 0.0770492\tvalid_0's ndcg@3: 0.0800622\tvalid_0's ndcg@5: 0.0806892\tvalid_0's ndcg@10: 0.0868947\n",
      "[29]\tvalid_0's ndcg@1: 0.0868852\tvalid_0's ndcg@3: 0.0807125\tvalid_0's ndcg@5: 0.0822871\tvalid_0's ndcg@10: 0.0877963\n",
      "[30]\tvalid_0's ndcg@1: 0.0819672\tvalid_0's ndcg@3: 0.0819855\tvalid_0's ndcg@5: 0.0824702\tvalid_0's ndcg@10: 0.0889138\n",
      "[31]\tvalid_0's ndcg@1: 0.0852459\tvalid_0's ndcg@3: 0.0820862\tvalid_0's ndcg@5: 0.0815163\tvalid_0's ndcg@10: 0.088067\n",
      "[32]\tvalid_0's ndcg@1: 0.0803279\tvalid_0's ndcg@3: 0.0789082\tvalid_0's ndcg@5: 0.0806504\tvalid_0's ndcg@10: 0.0870812\n",
      "[33]\tvalid_0's ndcg@1: 0.0786885\tvalid_0's ndcg@3: 0.079879\tvalid_0's ndcg@5: 0.0815242\tvalid_0's ndcg@10: 0.0866033\n",
      "[34]\tvalid_0's ndcg@1: 0.0803279\tvalid_0's ndcg@3: 0.0802454\tvalid_0's ndcg@5: 0.0826493\tvalid_0's ndcg@10: 0.0866684\n",
      "[35]\tvalid_0's ndcg@1: 0.0803279\tvalid_0's ndcg@3: 0.0802636\tvalid_0's ndcg@5: 0.0833565\tvalid_0's ndcg@10: 0.0869067\n",
      "[36]\tvalid_0's ndcg@1: 0.0819672\tvalid_0's ndcg@3: 0.0800439\tvalid_0's ndcg@5: 0.0807285\tvalid_0's ndcg@10: 0.0865433\n",
      "[37]\tvalid_0's ndcg@1: 0.0819672\tvalid_0's ndcg@3: 0.081903\tvalid_0's ndcg@5: 0.0825229\tvalid_0's ndcg@10: 0.0875251\n",
      "[38]\tvalid_0's ndcg@1: 0.0852459\tvalid_0's ndcg@3: 0.0824708\tvalid_0's ndcg@5: 0.0831521\tvalid_0's ndcg@10: 0.0881323\n",
      "[39]\tvalid_0's ndcg@1: 0.0819672\tvalid_0's ndcg@3: 0.0817015\tvalid_0's ndcg@5: 0.0823624\tvalid_0's ndcg@10: 0.0873012\n",
      "[40]\tvalid_0's ndcg@1: 0.0836066\tvalid_0's ndcg@3: 0.0814176\tvalid_0's ndcg@5: 0.0837116\tvalid_0's ndcg@10: 0.0874472\n",
      "[41]\tvalid_0's ndcg@1: 0.0868852\tvalid_0's ndcg@3: 0.0831212\tvalid_0's ndcg@5: 0.0842186\tvalid_0's ndcg@10: 0.0875942\n",
      "[42]\tvalid_0's ndcg@1: 0.0885246\tvalid_0's ndcg@3: 0.0847605\tvalid_0's ndcg@5: 0.0846851\tvalid_0's ndcg@10: 0.0874969\n",
      "[43]\tvalid_0's ndcg@1: 0.0885246\tvalid_0's ndcg@3: 0.0828372\tvalid_0's ndcg@5: 0.084578\tvalid_0's ndcg@10: 0.0878692\n",
      "[44]\tvalid_0's ndcg@1: 0.0934426\tvalid_0's ndcg@3: 0.0840737\tvalid_0's ndcg@5: 0.0851591\tvalid_0's ndcg@10: 0.0881773\n",
      "[45]\tvalid_0's ndcg@1: 0.0819672\tvalid_0's ndcg@3: 0.0812986\tvalid_0's ndcg@5: 0.0835187\tvalid_0's ndcg@10: 0.0876506\n",
      "[46]\tvalid_0's ndcg@1: 0.0852459\tvalid_0's ndcg@3: 0.0810972\tvalid_0's ndcg@5: 0.0844093\tvalid_0's ndcg@10: 0.0873241\n",
      "[47]\tvalid_0's ndcg@1: 0.0819672\tvalid_0's ndcg@3: 0.0813811\tvalid_0's ndcg@5: 0.0823947\tvalid_0's ndcg@10: 0.0874032\n",
      "[48]\tvalid_0's ndcg@1: 0.0803279\tvalid_0's ndcg@3: 0.0807125\tvalid_0's ndcg@5: 0.0823618\tvalid_0's ndcg@10: 0.0861942\n",
      "[49]\tvalid_0's ndcg@1: 0.0803279\tvalid_0's ndcg@3: 0.0838905\tvalid_0's ndcg@5: 0.0828648\tvalid_0's ndcg@10: 0.0874002\n",
      "[50]\tvalid_0's ndcg@1: 0.0770492\tvalid_0's ndcg@3: 0.0823701\tvalid_0's ndcg@5: 0.0817904\tvalid_0's ndcg@10: 0.0868855\n",
      "[51]\tvalid_0's ndcg@1: 0.0786885\tvalid_0's ndcg@3: 0.0813811\tvalid_0's ndcg@5: 0.0818914\tvalid_0's ndcg@10: 0.0873224\n",
      "[52]\tvalid_0's ndcg@1: 0.0754098\tvalid_0's ndcg@3: 0.0790732\tvalid_0's ndcg@5: 0.0810048\tvalid_0's ndcg@10: 0.0860631\n",
      "[53]\tvalid_0's ndcg@1: 0.0770492\tvalid_0's ndcg@3: 0.0818847\tvalid_0's ndcg@5: 0.0825092\tvalid_0's ndcg@10: 0.0871236\n",
      "[54]\tvalid_0's ndcg@1: 0.0754098\tvalid_0's ndcg@3: 0.08063\tvalid_0's ndcg@5: 0.0813688\tvalid_0's ndcg@10: 0.0861825\n",
      "[55]\tvalid_0's ndcg@1: 0.0754098\tvalid_0's ndcg@3: 0.0791739\tvalid_0's ndcg@5: 0.0808238\tvalid_0's ndcg@10: 0.0863682\n",
      "[56]\tvalid_0's ndcg@1: 0.0786885\tvalid_0's ndcg@3: 0.0795403\tvalid_0's ndcg@5: 0.0819247\tvalid_0's ndcg@10: 0.0864353\n",
      "Early stopping, best iteration is:\n",
      "[6]\tvalid_0's ndcg@1: 0.0934426\tvalid_0's ndcg@3: 0.08901\tvalid_0's ndcg@5: 0.088506\tvalid_0's ndcg@10: 0.09292\n"
     ]
    },
    {
     "data": {
      "text/plain": [
       "LGBMRanker(importance_type='gain', min_child_samples=1, min_child_weight=100,\n",
       "           n_jobs=2)"
      ]
     },
     "execution_count": 357,
     "metadata": {},
     "output_type": "execute_result"
    }
   ],
   "source": [
    "gbm.fit(X_train, y_train, group=group_train,\n",
    "        eval_set=[(X_val, y_val)], eval_group=[group_val],\n",
    "        eval_at=[1, 3, 5, 10], early_stopping_rounds= 50, eval_metric='ndcg')"
   ]
  },
  {
   "cell_type": "code",
   "execution_count": 126,
   "metadata": {
    "ExecuteTime": {
     "end_time": "2020-08-24T13:25:47.556110Z",
     "start_time": "2020-08-24T13:25:47.510931Z"
    }
   },
   "outputs": [
    {
     "data": {
      "text/plain": [
       "(91500,)"
      ]
     },
     "execution_count": 126,
     "metadata": {},
     "output_type": "execute_result"
    }
   ],
   "source": [
    "test_pred = gbm.predict(X_test)\n",
    "np.array(test_pred).shape"
   ]
  },
  {
   "cell_type": "markdown",
   "metadata": {},
   "source": [
    "## NDCG Score"
   ]
  },
  {
   "cell_type": "code",
   "execution_count": 127,
   "metadata": {
    "ExecuteTime": {
     "end_time": "2020-08-24T13:25:47.567055Z",
     "start_time": "2020-08-24T13:25:47.558095Z"
    }
   },
   "outputs": [
    {
     "data": {
      "text/plain": [
       "array([0.04862184, 0.04862184, 0.04862184, ..., 0.00298091, 0.00298091,\n",
       "       0.00298091])"
      ]
     },
     "execution_count": 127,
     "metadata": {},
     "output_type": "execute_result"
    }
   ],
   "source": [
    "test_pred"
   ]
  },
  {
   "cell_type": "code",
   "execution_count": 128,
   "metadata": {
    "ExecuteTime": {
     "end_time": "2020-08-24T13:25:47.578671Z",
     "start_time": "2020-08-24T13:25:47.569985Z"
    }
   },
   "outputs": [],
   "source": [
    "p = 0\n",
    "m = k\n",
    "lgbm_pred_per_user = []\n",
    "for i in range(len(num_users)):\n",
    "    lgbm_pred_per_user.append(test_pred[p:m])\n",
    "    p += k\n",
    "    m += k"
   ]
  },
  {
   "cell_type": "markdown",
   "metadata": {},
   "source": [
    "### NDCG IFM on this data"
   ]
  },
  {
   "cell_type": "code",
   "execution_count": 129,
   "metadata": {
    "ExecuteTime": {
     "end_time": "2020-08-24T13:25:47.590403Z",
     "start_time": "2020-08-24T13:25:47.582051Z"
    }
   },
   "outputs": [
    {
     "data": {
      "text/plain": [
       "(150,)"
      ]
     },
     "execution_count": 129,
     "metadata": {},
     "output_type": "execute_result"
    }
   ],
   "source": [
    "np.array(feature7[0][609]).shape"
   ]
  },
  {
   "cell_type": "code",
   "execution_count": 130,
   "metadata": {
    "ExecuteTime": {
     "end_time": "2020-08-24T13:25:47.602381Z",
     "start_time": "2020-08-24T13:25:47.592702Z"
    }
   },
   "outputs": [
    {
     "data": {
      "text/plain": [
       "(610, 150)"
      ]
     },
     "execution_count": 130,
     "metadata": {},
     "output_type": "execute_result"
    }
   ],
   "source": [
    "feature1.shape"
   ]
  },
  {
   "cell_type": "code",
   "execution_count": 131,
   "metadata": {
    "ExecuteTime": {
     "end_time": "2020-08-24T13:26:01.940663Z",
     "start_time": "2020-08-24T13:25:47.604784Z"
    }
   },
   "outputs": [],
   "source": [
    "lgbm_NDCG = []\n",
    "IFM_NDCG = []\n",
    "SVD_NDCG = []\n",
    "for i in range(len(num_users)):\n",
    "    excel_df = pd.DataFrame({'movie_id': target_movies[i], 'model1_score': feature1[i],\n",
    "                             'rank': feature2[i], 'model2_score': feature3[i],\n",
    "                             'is_comedy': feature4[i], '#users_watched': feature5[i],\n",
    "                             'new_user': feature6[i],\n",
    "                             'emedding1': feature7[0][i], 'emedding2': feature7[1][i], 'emedding3': feature7[2][i],\n",
    "                             'emedding4': feature7[3][i], 'emedding5': feature7[4][i], 'emedding6': feature7[5][i],\n",
    "                             'emedding7': feature7[6][i], 'emedding8': feature7[7][i], 'emedding9': feature7[8][i],\n",
    "                             'emedding10': feature7[9][i], 'emedding11': feature7[10][i], 'emedding12': feature7[11][i],\n",
    "                             'emedding13': feature7[12][i], 'emedding14': feature7[13][i], 'emedding15': feature7[14][i],\n",
    "                             'emedding16': feature7[15][i], 'emedding17': feature7[16][i], 'emedding18': feature7[17][i],\n",
    "                             'emedding19': feature7[18][i], 'emedding20': feature7[19][i], 'emedding21': feature7[20][i],\n",
    "                             'emedding22': feature7[21][i], 'emedding23': feature7[22][i], 'emedding24': feature7[23][i],\n",
    "                             'emedding25': feature7[24][i], 'emedding26': feature7[25][i], 'emedding27': feature7[26][i],\n",
    "                             'emedding28': feature7[27][i], 'emedding29': feature7[28][i], 'emedding30': feature7[29][i],\n",
    "                             'emedding31': feature7[30][i], 'emedding32': feature7[31][i],\n",
    "                             'is_adventure': feature8[i], 'is_drama': feature9[i], 'is_romance': feature10[i],\n",
    "                             'is_fantasy': feature11[i], 'is_thriller': feature12[i], 'is_animation': feature13[i],\n",
    "                             'is_children': feature14[i], 'is_horror': feature15[i], 'SVD Rank':feature47[i],\n",
    "                             'train_label': label_train[i], 'test_label': label_test[i],\n",
    "                             'y_val': label_val[i], 'LGBM Score': lgbm_pred_per_user[i]})\n",
    "    excel_df = excel_df.sort_values('LGBM Score', ascending=False)\n",
    "    relevance_lgbm_user = excel_df['test_label'].values.tolist()\n",
    "    lgbm_NDCG.append(NDCG_forUser(relevance_lgbm_user))\n",
    "    excel_df = excel_df.sort_values('model1_score', ascending=False)\n",
    "    ifm_relevance = excel_df['test_label'].values.tolist()\n",
    "    IFM_NDCG.append(NDCG_forUser(ifm_relevance))\n",
    "    excel_df = excel_df.sort_values('model2_score', ascending=False)\n",
    "    svd_relevance_h = excel_df['test_label'].values.tolist()\n",
    "    SVD_NDCG.append(NDCG_forUser(svd_relevance_h))"
   ]
  },
  {
   "cell_type": "code",
   "execution_count": 132,
   "metadata": {
    "ExecuteTime": {
     "end_time": "2020-08-24T13:26:12.232691Z",
     "start_time": "2020-08-24T13:26:01.944305Z"
    }
   },
   "outputs": [],
   "source": [
    "lgbm_NDCG = []\n",
    "IFM_NDCG = []\n",
    "SVD_NDCG = []\n",
    "for i in range(len(num_users)):\n",
    "    excel_df = pd.DataFrame({'movie_id': target_movies[i], 'model1_score': feature1[i],\n",
    "                              'model2_score': feature3[i],\n",
    "                             'train_label': label_train[i], 'test_label': label_test[i],\n",
    "                             'y_val': label_val[i], 'LGBM Score': lgbm_pred_per_user[i]})\n",
    "    excel_df = excel_df.sort_values('LGBM Score', ascending=False)\n",
    "    relevance_lgbm_user = excel_df['test_label'].values.tolist()\n",
    "    lgbm_NDCG.append(NDCG_forUser(relevance_lgbm_user))\n",
    "    excel_df = excel_df.sort_values('model1_score', ascending=False)\n",
    "    ifm_relevance = excel_df['test_label'].values.tolist()\n",
    "    IFM_NDCG.append(NDCG_forUser(ifm_relevance))\n",
    "    excel_df = excel_df.sort_values('model2_score', ascending=False)\n",
    "    svd_relevance_h = excel_df['test_label'].values.tolist()\n",
    "    SVD_NDCG.append(NDCG_forUser(svd_relevance_h))"
   ]
  },
  {
   "cell_type": "code",
   "execution_count": 133,
   "metadata": {
    "ExecuteTime": {
     "end_time": "2020-08-24T13:26:12.248383Z",
     "start_time": "2020-08-24T13:26:12.236735Z"
    }
   },
   "outputs": [],
   "source": [
    "lgbm_NDCG = pd.Series(lgbm_NDCG).fillna(0).tolist()\n",
    "IFM_NDCG = pd.Series(IFM_NDCG).fillna(0).tolist()\n",
    "SVD_NDCG = pd.Series(SVD_NDCG).fillna(0).tolist()"
   ]
  },
  {
   "cell_type": "markdown",
   "metadata": {},
   "source": [
    "## Excel-Like"
   ]
  },
  {
   "cell_type": "code",
   "execution_count": 134,
   "metadata": {
    "ExecuteTime": {
     "end_time": "2020-08-24T13:26:12.260731Z",
     "start_time": "2020-08-24T13:26:12.249731Z"
    }
   },
   "outputs": [
    {
     "data": {
      "text/plain": [
       "array([12.930397 ,  9.136715 , 12.080826 , ..., -8.034722 , -7.4281287,\n",
       "       -8.628325 ], dtype=float32)"
      ]
     },
     "execution_count": 134,
     "metadata": {},
     "output_type": "execute_result"
    }
   ],
   "source": [
    "f1_model.predict(0)"
   ]
  },
  {
   "cell_type": "code",
   "execution_count": 135,
   "metadata": {
    "ExecuteTime": {
     "end_time": "2020-08-24T13:26:12.276961Z",
     "start_time": "2020-08-24T13:26:12.263090Z"
    }
   },
   "outputs": [],
   "source": [
    "ind = 0\n",
    "excel1_df = pd.DataFrame({'movie_id': target_movies[ind],'rank':feature2[ind],'model1_score':feature1[ind], 'model2_score':feature3[ind],'is_comedy':feature4[ind],\n",
    "                            '#users_watched':feature5[ind], 'train_label':label_train[ind], 'test_label':label_test[ind],\n",
    "                            'label_val':label_val[ind],'LGBM Score':-lgbm_pred_per_user[ind]})"
   ]
  },
  {
   "cell_type": "code",
   "execution_count": 136,
   "metadata": {
    "ExecuteTime": {
     "end_time": "2020-08-24T13:26:12.288930Z",
     "start_time": "2020-08-24T13:26:12.279953Z"
    }
   },
   "outputs": [
    {
     "data": {
      "text/plain": [
       "0.04862184281192864"
      ]
     },
     "execution_count": 136,
     "metadata": {},
     "output_type": "execute_result"
    }
   ],
   "source": [
    "test_pred[0]"
   ]
  },
  {
   "cell_type": "code",
   "execution_count": 137,
   "metadata": {
    "ExecuteTime": {
     "end_time": "2020-08-24T13:26:12.334123Z",
     "start_time": "2020-08-24T13:26:12.291923Z"
    }
   },
   "outputs": [
    {
     "data": {
      "text/html": [
       "<div>\n",
       "<style scoped>\n",
       "    .dataframe tbody tr th:only-of-type {\n",
       "        vertical-align: middle;\n",
       "    }\n",
       "\n",
       "    .dataframe tbody tr th {\n",
       "        vertical-align: top;\n",
       "    }\n",
       "\n",
       "    .dataframe thead th {\n",
       "        text-align: right;\n",
       "    }\n",
       "</style>\n",
       "<table border=\"1\" class=\"dataframe\">\n",
       "  <thead>\n",
       "    <tr style=\"text-align: right;\">\n",
       "      <th></th>\n",
       "      <th>movie_id</th>\n",
       "      <th>rank</th>\n",
       "      <th>model1_score</th>\n",
       "      <th>model2_score</th>\n",
       "      <th>is_comedy</th>\n",
       "      <th>#users_watched</th>\n",
       "      <th>train_label</th>\n",
       "      <th>test_label</th>\n",
       "      <th>label_val</th>\n",
       "      <th>LGBM Score</th>\n",
       "    </tr>\n",
       "  </thead>\n",
       "  <tbody>\n",
       "    <tr>\n",
       "      <th>0</th>\n",
       "      <td>1</td>\n",
       "      <td>16.0</td>\n",
       "      <td>12.930397</td>\n",
       "      <td>1.687722</td>\n",
       "      <td>1</td>\n",
       "      <td>215</td>\n",
       "      <td>1</td>\n",
       "      <td>0</td>\n",
       "      <td>0</td>\n",
       "      <td>-0.048622</td>\n",
       "    </tr>\n",
       "    <tr>\n",
       "      <th>1</th>\n",
       "      <td>6</td>\n",
       "      <td>43.0</td>\n",
       "      <td>12.080826</td>\n",
       "      <td>0.945642</td>\n",
       "      <td>0</td>\n",
       "      <td>102</td>\n",
       "      <td>0</td>\n",
       "      <td>0</td>\n",
       "      <td>1</td>\n",
       "      <td>-0.048622</td>\n",
       "    </tr>\n",
       "    <tr>\n",
       "      <th>2</th>\n",
       "      <td>47</td>\n",
       "      <td>17.0</td>\n",
       "      <td>12.920485</td>\n",
       "      <td>0.741415</td>\n",
       "      <td>0</td>\n",
       "      <td>203</td>\n",
       "      <td>0</td>\n",
       "      <td>0</td>\n",
       "      <td>0</td>\n",
       "      <td>-0.048622</td>\n",
       "    </tr>\n",
       "    <tr>\n",
       "      <th>3</th>\n",
       "      <td>50</td>\n",
       "      <td>6.0</td>\n",
       "      <td>13.635176</td>\n",
       "      <td>0.871874</td>\n",
       "      <td>0</td>\n",
       "      <td>204</td>\n",
       "      <td>1</td>\n",
       "      <td>0</td>\n",
       "      <td>0</td>\n",
       "      <td>-0.048622</td>\n",
       "    </tr>\n",
       "    <tr>\n",
       "      <th>4</th>\n",
       "      <td>110</td>\n",
       "      <td>1.0</td>\n",
       "      <td>14.060660</td>\n",
       "      <td>1.408157</td>\n",
       "      <td>0</td>\n",
       "      <td>237</td>\n",
       "      <td>0</td>\n",
       "      <td>1</td>\n",
       "      <td>0</td>\n",
       "      <td>-0.026137</td>\n",
       "    </tr>\n",
       "    <tr>\n",
       "      <th>...</th>\n",
       "      <td>...</td>\n",
       "      <td>...</td>\n",
       "      <td>...</td>\n",
       "      <td>...</td>\n",
       "      <td>...</td>\n",
       "      <td>...</td>\n",
       "      <td>...</td>\n",
       "      <td>...</td>\n",
       "      <td>...</td>\n",
       "      <td>...</td>\n",
       "    </tr>\n",
       "    <tr>\n",
       "      <th>145</th>\n",
       "      <td>2387</td>\n",
       "      <td>145.0</td>\n",
       "      <td>2.797690</td>\n",
       "      <td>0.226162</td>\n",
       "      <td>1</td>\n",
       "      <td>16</td>\n",
       "      <td>0</td>\n",
       "      <td>0</td>\n",
       "      <td>0</td>\n",
       "      <td>0.053789</td>\n",
       "    </tr>\n",
       "    <tr>\n",
       "      <th>146</th>\n",
       "      <td>1920</td>\n",
       "      <td>143.0</td>\n",
       "      <td>3.864496</td>\n",
       "      <td>0.433098</td>\n",
       "      <td>0</td>\n",
       "      <td>18</td>\n",
       "      <td>0</td>\n",
       "      <td>0</td>\n",
       "      <td>0</td>\n",
       "      <td>-0.002981</td>\n",
       "    </tr>\n",
       "    <tr>\n",
       "      <th>147</th>\n",
       "      <td>2005</td>\n",
       "      <td>132.5</td>\n",
       "      <td>7.526427</td>\n",
       "      <td>0.559695</td>\n",
       "      <td>1</td>\n",
       "      <td>57</td>\n",
       "      <td>0</td>\n",
       "      <td>0</td>\n",
       "      <td>0</td>\n",
       "      <td>0.053789</td>\n",
       "    </tr>\n",
       "    <tr>\n",
       "      <th>148</th>\n",
       "      <td>1617</td>\n",
       "      <td>84.5</td>\n",
       "      <td>11.234195</td>\n",
       "      <td>1.075539</td>\n",
       "      <td>0</td>\n",
       "      <td>97</td>\n",
       "      <td>0</td>\n",
       "      <td>0</td>\n",
       "      <td>0</td>\n",
       "      <td>0.053789</td>\n",
       "    </tr>\n",
       "    <tr>\n",
       "      <th>149</th>\n",
       "      <td>2329</td>\n",
       "      <td>110.0</td>\n",
       "      <td>10.303408</td>\n",
       "      <td>0.379530</td>\n",
       "      <td>0</td>\n",
       "      <td>129</td>\n",
       "      <td>0</td>\n",
       "      <td>0</td>\n",
       "      <td>0</td>\n",
       "      <td>0.053789</td>\n",
       "    </tr>\n",
       "  </tbody>\n",
       "</table>\n",
       "<p>150 rows × 10 columns</p>\n",
       "</div>"
      ],
      "text/plain": [
       "     movie_id   rank  model1_score  model2_score  is_comedy  #users_watched  \\\n",
       "0           1   16.0     12.930397      1.687722          1             215   \n",
       "1           6   43.0     12.080826      0.945642          0             102   \n",
       "2          47   17.0     12.920485      0.741415          0             203   \n",
       "3          50    6.0     13.635176      0.871874          0             204   \n",
       "4         110    1.0     14.060660      1.408157          0             237   \n",
       "..        ...    ...           ...           ...        ...             ...   \n",
       "145      2387  145.0      2.797690      0.226162          1              16   \n",
       "146      1920  143.0      3.864496      0.433098          0              18   \n",
       "147      2005  132.5      7.526427      0.559695          1              57   \n",
       "148      1617   84.5     11.234195      1.075539          0              97   \n",
       "149      2329  110.0     10.303408      0.379530          0             129   \n",
       "\n",
       "     train_label  test_label  label_val  LGBM Score  \n",
       "0              1           0          0   -0.048622  \n",
       "1              0           0          1   -0.048622  \n",
       "2              0           0          0   -0.048622  \n",
       "3              1           0          0   -0.048622  \n",
       "4              0           1          0   -0.026137  \n",
       "..           ...         ...        ...         ...  \n",
       "145            0           0          0    0.053789  \n",
       "146            0           0          0   -0.002981  \n",
       "147            0           0          0    0.053789  \n",
       "148            0           0          0    0.053789  \n",
       "149            0           0          0    0.053789  \n",
       "\n",
       "[150 rows x 10 columns]"
      ]
     },
     "execution_count": 137,
     "metadata": {},
     "output_type": "execute_result"
    }
   ],
   "source": [
    "excel1_df"
   ]
  },
  {
   "cell_type": "code",
   "execution_count": 138,
   "metadata": {
    "ExecuteTime": {
     "end_time": "2020-08-24T13:26:12.373191Z",
     "start_time": "2020-08-24T13:26:12.335121Z"
    }
   },
   "outputs": [
    {
     "data": {
      "text/html": [
       "<div>\n",
       "<style scoped>\n",
       "    .dataframe tbody tr th:only-of-type {\n",
       "        vertical-align: middle;\n",
       "    }\n",
       "\n",
       "    .dataframe tbody tr th {\n",
       "        vertical-align: top;\n",
       "    }\n",
       "\n",
       "    .dataframe thead th {\n",
       "        text-align: right;\n",
       "    }\n",
       "</style>\n",
       "<table border=\"1\" class=\"dataframe\">\n",
       "  <thead>\n",
       "    <tr style=\"text-align: right;\">\n",
       "      <th></th>\n",
       "      <th>movie_id</th>\n",
       "      <th>rank</th>\n",
       "      <th>model1_score</th>\n",
       "      <th>model2_score</th>\n",
       "      <th>is_comedy</th>\n",
       "      <th>#users_watched</th>\n",
       "      <th>train_label</th>\n",
       "      <th>test_label</th>\n",
       "      <th>label_val</th>\n",
       "      <th>LGBM Score</th>\n",
       "    </tr>\n",
       "  </thead>\n",
       "  <tbody>\n",
       "    <tr>\n",
       "      <th>55</th>\n",
       "      <td>39</td>\n",
       "      <td>56.0</td>\n",
       "      <td>11.711348</td>\n",
       "      <td>0.858214</td>\n",
       "      <td>1</td>\n",
       "      <td>104</td>\n",
       "      <td>0</td>\n",
       "      <td>0</td>\n",
       "      <td>0</td>\n",
       "      <td>0.056010</td>\n",
       "    </tr>\n",
       "    <tr>\n",
       "      <th>61</th>\n",
       "      <td>344</td>\n",
       "      <td>25.0</td>\n",
       "      <td>12.708571</td>\n",
       "      <td>0.975342</td>\n",
       "      <td>1</td>\n",
       "      <td>161</td>\n",
       "      <td>0</td>\n",
       "      <td>1</td>\n",
       "      <td>0</td>\n",
       "      <td>0.056010</td>\n",
       "    </tr>\n",
       "    <tr>\n",
       "      <th>133</th>\n",
       "      <td>2542</td>\n",
       "      <td>126.0</td>\n",
       "      <td>8.528108</td>\n",
       "      <td>0.686182</td>\n",
       "      <td>1</td>\n",
       "      <td>67</td>\n",
       "      <td>0</td>\n",
       "      <td>0</td>\n",
       "      <td>0</td>\n",
       "      <td>0.056010</td>\n",
       "    </tr>\n",
       "    <tr>\n",
       "      <th>54</th>\n",
       "      <td>34</td>\n",
       "      <td>10.0</td>\n",
       "      <td>13.194886</td>\n",
       "      <td>1.124944</td>\n",
       "      <td>0</td>\n",
       "      <td>128</td>\n",
       "      <td>0</td>\n",
       "      <td>0</td>\n",
       "      <td>0</td>\n",
       "      <td>0.056010</td>\n",
       "    </tr>\n",
       "    <tr>\n",
       "      <th>142</th>\n",
       "      <td>1676</td>\n",
       "      <td>115.0</td>\n",
       "      <td>9.805775</td>\n",
       "      <td>0.617682</td>\n",
       "      <td>0</td>\n",
       "      <td>80</td>\n",
       "      <td>0</td>\n",
       "      <td>1</td>\n",
       "      <td>0</td>\n",
       "      <td>0.056010</td>\n",
       "    </tr>\n",
       "    <tr>\n",
       "      <th>128</th>\n",
       "      <td>2716</td>\n",
       "      <td>113.5</td>\n",
       "      <td>9.945359</td>\n",
       "      <td>1.171627</td>\n",
       "      <td>1</td>\n",
       "      <td>120</td>\n",
       "      <td>0</td>\n",
       "      <td>1</td>\n",
       "      <td>0</td>\n",
       "      <td>0.056010</td>\n",
       "    </tr>\n",
       "    <tr>\n",
       "      <th>75</th>\n",
       "      <td>185</td>\n",
       "      <td>20.0</td>\n",
       "      <td>12.789496</td>\n",
       "      <td>0.792830</td>\n",
       "      <td>0</td>\n",
       "      <td>112</td>\n",
       "      <td>0</td>\n",
       "      <td>0</td>\n",
       "      <td>0</td>\n",
       "      <td>0.053789</td>\n",
       "    </tr>\n",
       "    <tr>\n",
       "      <th>98</th>\n",
       "      <td>420</td>\n",
       "      <td>82.0</td>\n",
       "      <td>11.264041</td>\n",
       "      <td>0.431758</td>\n",
       "      <td>1</td>\n",
       "      <td>59</td>\n",
       "      <td>0</td>\n",
       "      <td>0</td>\n",
       "      <td>0</td>\n",
       "      <td>0.053789</td>\n",
       "    </tr>\n",
       "    <tr>\n",
       "      <th>95</th>\n",
       "      <td>111</td>\n",
       "      <td>49.0</td>\n",
       "      <td>11.873243</td>\n",
       "      <td>0.763674</td>\n",
       "      <td>0</td>\n",
       "      <td>104</td>\n",
       "      <td>0</td>\n",
       "      <td>0</td>\n",
       "      <td>0</td>\n",
       "      <td>0.053789</td>\n",
       "    </tr>\n",
       "    <tr>\n",
       "      <th>96</th>\n",
       "      <td>1036</td>\n",
       "      <td>103.0</td>\n",
       "      <td>10.938148</td>\n",
       "      <td>1.003815</td>\n",
       "      <td>0</td>\n",
       "      <td>145</td>\n",
       "      <td>0</td>\n",
       "      <td>0</td>\n",
       "      <td>1</td>\n",
       "      <td>0.053789</td>\n",
       "    </tr>\n",
       "  </tbody>\n",
       "</table>\n",
       "</div>"
      ],
      "text/plain": [
       "     movie_id   rank  model1_score  model2_score  is_comedy  #users_watched  \\\n",
       "55         39   56.0     11.711348      0.858214          1             104   \n",
       "61        344   25.0     12.708571      0.975342          1             161   \n",
       "133      2542  126.0      8.528108      0.686182          1              67   \n",
       "54         34   10.0     13.194886      1.124944          0             128   \n",
       "142      1676  115.0      9.805775      0.617682          0              80   \n",
       "128      2716  113.5      9.945359      1.171627          1             120   \n",
       "75        185   20.0     12.789496      0.792830          0             112   \n",
       "98        420   82.0     11.264041      0.431758          1              59   \n",
       "95        111   49.0     11.873243      0.763674          0             104   \n",
       "96       1036  103.0     10.938148      1.003815          0             145   \n",
       "\n",
       "     train_label  test_label  label_val  LGBM Score  \n",
       "55             0           0          0    0.056010  \n",
       "61             0           1          0    0.056010  \n",
       "133            0           0          0    0.056010  \n",
       "54             0           0          0    0.056010  \n",
       "142            0           1          0    0.056010  \n",
       "128            0           1          0    0.056010  \n",
       "75             0           0          0    0.053789  \n",
       "98             0           0          0    0.053789  \n",
       "95             0           0          0    0.053789  \n",
       "96             0           0          1    0.053789  "
      ]
     },
     "execution_count": 138,
     "metadata": {},
     "output_type": "execute_result"
    }
   ],
   "source": [
    "excel1_df = excel1_df.sort_values('LGBM Score',ascending = False)\n",
    "excel1_df.head(10)"
   ]
  },
  {
   "cell_type": "code",
   "execution_count": 139,
   "metadata": {
    "ExecuteTime": {
     "end_time": "2020-08-24T13:26:12.384664Z",
     "start_time": "2020-08-24T13:26:12.376738Z"
    }
   },
   "outputs": [],
   "source": [
    "relevance_lgbm_firstUser = excel1_df['test_label'].values.tolist()"
   ]
  },
  {
   "cell_type": "code",
   "execution_count": 140,
   "metadata": {
    "ExecuteTime": {
     "end_time": "2020-08-24T13:26:12.406759Z",
     "start_time": "2020-08-24T13:26:12.385662Z"
    }
   },
   "outputs": [
    {
     "data": {
      "text/plain": [
       "0.5861399531071992"
      ]
     },
     "execution_count": 140,
     "metadata": {},
     "output_type": "execute_result"
    }
   ],
   "source": [
    "L1GBM_ndcg = NDCG_forUser(relevance_lgbm_firstUser)\n",
    "L1GBM_ndcg"
   ]
  },
  {
   "cell_type": "markdown",
   "metadata": {},
   "source": [
    "## NDCG Comparison"
   ]
  },
  {
   "cell_type": "code",
   "execution_count": 141,
   "metadata": {
    "ExecuteTime": {
     "end_time": "2020-08-24T13:26:12.420405Z",
     "start_time": "2020-08-24T13:26:12.411657Z"
    }
   },
   "outputs": [],
   "source": [
    "ndcg_df = pd.DataFrame({'LightGBM': lgbm_NDCG, 'IFM_this': IFM_NDCG,\n",
    "                        'SVD_this': SVD_NDCG})"
   ]
  },
  {
   "cell_type": "code",
   "execution_count": 142,
   "metadata": {
    "ExecuteTime": {
     "end_time": "2020-08-24T13:26:12.451225Z",
     "start_time": "2020-08-24T13:26:12.424450Z"
    }
   },
   "outputs": [
    {
     "data": {
      "text/html": [
       "<div>\n",
       "<style scoped>\n",
       "    .dataframe tbody tr th:only-of-type {\n",
       "        vertical-align: middle;\n",
       "    }\n",
       "\n",
       "    .dataframe tbody tr th {\n",
       "        vertical-align: top;\n",
       "    }\n",
       "\n",
       "    .dataframe thead th {\n",
       "        text-align: right;\n",
       "    }\n",
       "</style>\n",
       "<table border=\"1\" class=\"dataframe\">\n",
       "  <thead>\n",
       "    <tr style=\"text-align: right;\">\n",
       "      <th></th>\n",
       "      <th>LightGBM</th>\n",
       "      <th>IFM_this</th>\n",
       "      <th>SVD_this</th>\n",
       "    </tr>\n",
       "  </thead>\n",
       "  <tbody>\n",
       "    <tr>\n",
       "      <th>0</th>\n",
       "      <td>0.547769</td>\n",
       "      <td>0.601171</td>\n",
       "      <td>0.539188</td>\n",
       "    </tr>\n",
       "    <tr>\n",
       "      <th>1</th>\n",
       "      <td>0.432423</td>\n",
       "      <td>0.498520</td>\n",
       "      <td>0.477375</td>\n",
       "    </tr>\n",
       "    <tr>\n",
       "      <th>2</th>\n",
       "      <td>0.377640</td>\n",
       "      <td>0.455195</td>\n",
       "      <td>0.489637</td>\n",
       "    </tr>\n",
       "    <tr>\n",
       "      <th>3</th>\n",
       "      <td>0.474890</td>\n",
       "      <td>0.411468</td>\n",
       "      <td>0.568350</td>\n",
       "    </tr>\n",
       "    <tr>\n",
       "      <th>4</th>\n",
       "      <td>0.419022</td>\n",
       "      <td>0.459985</td>\n",
       "      <td>0.735264</td>\n",
       "    </tr>\n",
       "    <tr>\n",
       "      <th>...</th>\n",
       "      <td>...</td>\n",
       "      <td>...</td>\n",
       "      <td>...</td>\n",
       "    </tr>\n",
       "    <tr>\n",
       "      <th>605</th>\n",
       "      <td>0.419210</td>\n",
       "      <td>0.227617</td>\n",
       "      <td>0.751329</td>\n",
       "    </tr>\n",
       "    <tr>\n",
       "      <th>606</th>\n",
       "      <td>0.540816</td>\n",
       "      <td>0.527790</td>\n",
       "      <td>0.551151</td>\n",
       "    </tr>\n",
       "    <tr>\n",
       "      <th>607</th>\n",
       "      <td>0.693988</td>\n",
       "      <td>0.608562</td>\n",
       "      <td>0.621237</td>\n",
       "    </tr>\n",
       "    <tr>\n",
       "      <th>608</th>\n",
       "      <td>0.350087</td>\n",
       "      <td>0.366172</td>\n",
       "      <td>0.382403</td>\n",
       "    </tr>\n",
       "    <tr>\n",
       "      <th>609</th>\n",
       "      <td>0.540776</td>\n",
       "      <td>0.436574</td>\n",
       "      <td>0.502588</td>\n",
       "    </tr>\n",
       "  </tbody>\n",
       "</table>\n",
       "<p>610 rows × 3 columns</p>\n",
       "</div>"
      ],
      "text/plain": [
       "     LightGBM  IFM_this  SVD_this\n",
       "0    0.547769  0.601171  0.539188\n",
       "1    0.432423  0.498520  0.477375\n",
       "2    0.377640  0.455195  0.489637\n",
       "3    0.474890  0.411468  0.568350\n",
       "4    0.419022  0.459985  0.735264\n",
       "..        ...       ...       ...\n",
       "605  0.419210  0.227617  0.751329\n",
       "606  0.540816  0.527790  0.551151\n",
       "607  0.693988  0.608562  0.621237\n",
       "608  0.350087  0.366172  0.382403\n",
       "609  0.540776  0.436574  0.502588\n",
       "\n",
       "[610 rows x 3 columns]"
      ]
     },
     "execution_count": 142,
     "metadata": {},
     "output_type": "execute_result"
    }
   ],
   "source": [
    "ndcg_df"
   ]
  },
  {
   "cell_type": "code",
   "execution_count": 143,
   "metadata": {
    "ExecuteTime": {
     "end_time": "2020-08-24T13:26:12.462879Z",
     "start_time": "2020-08-24T13:26:12.454528Z"
    }
   },
   "outputs": [
    {
     "data": {
      "text/plain": [
       "0.504536132955611"
      ]
     },
     "execution_count": 143,
     "metadata": {},
     "output_type": "execute_result"
    }
   ],
   "source": [
    "lgbm_mean = ndcg_df['LightGBM'].mean()\n",
    "lgbm_mean"
   ]
  },
  {
   "cell_type": "code",
   "execution_count": 144,
   "metadata": {
    "ExecuteTime": {
     "end_time": "2020-08-24T13:26:12.475973Z",
     "start_time": "2020-08-24T13:26:12.466306Z"
    }
   },
   "outputs": [
    {
     "data": {
      "text/plain": [
       "0.5503619757848561"
      ]
     },
     "execution_count": 144,
     "metadata": {},
     "output_type": "execute_result"
    }
   ],
   "source": [
    "ifm_mean = ndcg_df['IFM_this'].mean()\n",
    "ifm_mean"
   ]
  },
  {
   "cell_type": "code",
   "execution_count": 145,
   "metadata": {
    "ExecuteTime": {
     "end_time": "2020-08-24T13:26:12.487100Z",
     "start_time": "2020-08-24T13:26:12.478824Z"
    },
    "scrolled": true
   },
   "outputs": [
    {
     "data": {
      "text/plain": [
       "0.5825800748994401"
      ]
     },
     "execution_count": 145,
     "metadata": {},
     "output_type": "execute_result"
    }
   ],
   "source": [
    "svd_mean = ndcg_df['SVD_this'].mean()\n",
    "svd_mean"
   ]
  },
  {
   "cell_type": "markdown",
   "metadata": {},
   "source": [
    "## Visualization"
   ]
  },
  {
   "cell_type": "code",
   "execution_count": 146,
   "metadata": {
    "ExecuteTime": {
     "end_time": "2020-08-24T13:26:12.753124Z",
     "start_time": "2020-08-24T13:26:12.489725Z"
    }
   },
   "outputs": [
    {
     "data": {
      "text/plain": [
       "<matplotlib.legend.Legend at 0x25fd090a288>"
      ]
     },
     "execution_count": 146,
     "metadata": {},
     "output_type": "execute_result"
    },
    {
     "data": {
      "image/png": "[encoded data removed]",
      "text/plain": [
       "<Figure size 432x288 with 1 Axes>"
      ]
     },
     "metadata": {
      "needs_background": "light"
     },
     "output_type": "display_data"
    }
   ],
   "source": [
    "plt.scatter(len(num_users),lgbm_mean,label = 'Light GBM')\n",
    "plt.scatter(len(num_users),svd_mean, label = 'SVD')\n",
    "plt.scatter(len(num_users),ifm_mean, label = 'Implicit FM')\n",
    "plt.xlabel('Number of Users')\n",
    "plt.ylabel('NDCG mean score')\n",
    "plt.title('LGBM - Mean NDCG score by number of users')\n",
    "plt.legend()"
   ]
  },
  {
   "cell_type": "code",
   "execution_count": 147,
   "metadata": {
    "ExecuteTime": {
     "end_time": "2020-08-24T13:26:12.765144Z",
     "start_time": "2020-08-24T13:26:12.753124Z"
    }
   },
   "outputs": [
    {
     "data": {
      "text/plain": [
       "array(['model1_score', 'model2_score', 'train_label', 'test_label',\n",
       "       'y_val', 'LGBM Score'], dtype=object)"
      ]
     },
     "execution_count": 147,
     "metadata": {},
     "output_type": "execute_result"
    }
   ],
   "source": [
    "a = excel_df.columns.values\n",
    "a[1:47]"
   ]
  },
  {
   "cell_type": "markdown",
   "metadata": {},
   "source": [
    "## Feature Importance"
   ]
  },
  {
   "cell_type": "code",
   "execution_count": 148,
   "metadata": {
    "ExecuteTime": {
     "end_time": "2020-08-24T13:26:12.826539Z",
     "start_time": "2020-08-24T13:26:12.767222Z"
    }
   },
   "outputs": [],
   "source": [
    "feature_names = excel_df.columns.values[1:47]\n",
    "feature_names = ['ifm', 'svd']"
   ]
  },
  {
   "cell_type": "code",
   "execution_count": 149,
   "metadata": {
    "ExecuteTime": {
     "end_time": "2020-08-24T13:26:13.011226Z",
     "start_time": "2020-08-24T13:26:12.832049Z"
    }
   },
   "outputs": [
    {
     "data": {
      "text/plain": [
       "Text(0.5, 1.0, 'Importance of Features')"
      ]
     },
     "execution_count": 149,
     "metadata": {},
     "output_type": "execute_result"
    },
    {
     "data": {
      "image/png": "[encoded data removed]",
      "text/plain": [
       "<Figure size 1000x400 with 1 Axes>"
      ]
     },
     "metadata": {
      "needs_background": "light"
     },
     "output_type": "display_data"
    }
   ],
   "source": [
    "from matplotlib.pyplot import figure\n",
    "figure(figsize=(10, 4),dpi=100)\n",
    "plt.bar(feature_names,gbm.feature_importances_)\n",
    "plt.xticks(rotation='vertical')\n",
    "plt.ylabel('Importance')\n",
    "plt.xlabel('Feature name')\n",
    "plt.title('Importance of Features')"
   ]
  },
  {
   "cell_type": "code",
   "execution_count": 150,
   "metadata": {
    "ExecuteTime": {
     "end_time": "2020-08-24T13:26:13.023652Z",
     "start_time": "2020-08-24T13:26:13.012262Z"
    }
   },
   "outputs": [
    {
     "data": {
      "text/plain": [
       "array([147.6512177 ,  14.32481003])"
      ]
     },
     "execution_count": 150,
     "metadata": {},
     "output_type": "execute_result"
    }
   ],
   "source": [
    "gbm.feature_importances_"
   ]
  },
  {
   "cell_type": "markdown",
   "metadata": {},
   "source": [
    "## Save comparison"
   ]
  },
  {
   "cell_type": "code",
   "execution_count": 151,
   "metadata": {
    "ExecuteTime": {
     "end_time": "2020-08-24T13:26:13.073015Z",
     "start_time": "2020-08-24T13:26:13.026625Z"
    }
   },
   "outputs": [],
   "source": [
    "#ndcg_df.to_pickle(\"./ndcg_f1-15_minus67_100k_negative_rank.pkl\")"
   ]
  },
  {
   "cell_type": "markdown",
   "metadata": {},
   "source": [
    "# Research Questions"
   ]
  },
  {
   "cell_type": "markdown",
   "metadata": {},
   "source": [
    "## What is the impact of genre features one the effectiveness of a model for movie recommendations?"
   ]
  },
  {
   "cell_type": "markdown",
   "metadata": {},
   "source": [
    "1. Post-hoc analysis\n",
    "2. Spearman correlation\n",
    "try different features, see what happens, and analyze it to explain. \n",
    "3. Which genre matter the most (biggest impact on performance)"
   ]
  },
  {
   "cell_type": "markdown",
   "metadata": {
    "ExecuteTime": {
     "end_time": "2020-08-13T18:16:18.212676Z",
     "start_time": "2020-08-13T18:16:18.181880Z"
    }
   },
   "source": [
    "### No genre features"
   ]
  },
  {
   "cell_type": "code",
   "execution_count": 152,
   "metadata": {
    "ExecuteTime": {
     "end_time": "2020-08-24T13:26:13.332310Z",
     "start_time": "2020-08-24T13:26:13.075757Z"
    }
   },
   "outputs": [],
   "source": [
    "no_genre_features = np.stack((feature1,feature2,feature3,feature5,\n",
    "                     feature7[0], feature7[1],feature7[2], feature7[3],\n",
    "                     feature7[4], feature7[5],feature7[6], feature7[7],\n",
    "                     feature7[8], feature7[9],feature7[10], feature7[11],\n",
    "                     feature7[12], feature7[13],feature7[14], feature7[15],\n",
    "                     feature7[16], feature7[17],feature7[18], feature7[19],\n",
    "                     feature7[20], feature7[21],feature7[22], feature7[23],\n",
    "                     feature7[24], feature7[25],feature7[26], feature7[27],\n",
    "                     feature7[28], feature7[29],feature7[30], feature7[31],feature47))"
   ]
  },
  {
   "cell_type": "code",
   "execution_count": 153,
   "metadata": {
    "ExecuteTime": {
     "end_time": "2020-08-24T13:26:13.363606Z",
     "start_time": "2020-08-24T13:26:13.335871Z"
    }
   },
   "outputs": [],
   "source": [
    "X_no_genre = np.array(no_genre_features)\n",
    "X_no_genre = X_no_genre.reshape(len(num_users)*k, len(no_genre_features))\n",
    "X_train_no_genre = X_no_genre\n",
    "X_test_no_genre = X_no_genre\n",
    "X_val_no_genre = X_no_genre"
   ]
  },
  {
   "cell_type": "code",
   "execution_count": 154,
   "metadata": {
    "ExecuteTime": {
     "end_time": "2020-08-24T13:26:22.604429Z",
     "start_time": "2020-08-24T13:26:13.366597Z"
    },
    "scrolled": true
   },
   "outputs": [
    {
     "name": "stdout",
     "output_type": "stream",
     "text": [
      "[1]\tvalid_0's ndcg@1: 0.0278689\tvalid_0's ndcg@3: 0.0817279\tvalid_0's ndcg@5: 0.0820389\tvalid_0's ndcg@10: 0.0963962\n",
      "[2]\tvalid_0's ndcg@1: 0.0360656\tvalid_0's ndcg@3: 0.0675883\tvalid_0's ndcg@5: 0.0743007\tvalid_0's ndcg@10: 0.0810475\n",
      "[3]\tvalid_0's ndcg@1: 0.0344262\tvalid_0's ndcg@3: 0.0588879\tvalid_0's ndcg@5: 0.0676168\tvalid_0's ndcg@10: 0.0797227\n",
      "[4]\tvalid_0's ndcg@1: 0.0311475\tvalid_0's ndcg@3: 0.0603623\tvalid_0's ndcg@5: 0.0664259\tvalid_0's ndcg@10: 0.0742543\n",
      "[5]\tvalid_0's ndcg@1: 0.0278689\tvalid_0's ndcg@3: 0.0563326\tvalid_0's ndcg@5: 0.0623295\tvalid_0's ndcg@10: 0.0732614\n",
      "[6]\tvalid_0's ndcg@1: 0.0327869\tvalid_0's ndcg@3: 0.0566807\tvalid_0's ndcg@5: 0.0626731\tvalid_0's ndcg@10: 0.0713456\n",
      "[7]\tvalid_0's ndcg@1: 0.0245902\tvalid_0's ndcg@3: 0.0558611\tvalid_0's ndcg@5: 0.0613667\tvalid_0's ndcg@10: 0.0716159\n",
      "[8]\tvalid_0's ndcg@1: 0.0245902\tvalid_0's ndcg@3: 0.0534203\tvalid_0's ndcg@5: 0.0548745\tvalid_0's ndcg@10: 0.0672337\n",
      "[9]\tvalid_0's ndcg@1: 0.0213115\tvalid_0's ndcg@3: 0.0518817\tvalid_0's ndcg@5: 0.0600423\tvalid_0's ndcg@10: 0.0668187\n",
      "[10]\tvalid_0's ndcg@1: 0.0180328\tvalid_0's ndcg@3: 0.0544553\tvalid_0's ndcg@5: 0.0596389\tvalid_0's ndcg@10: 0.0698729\n",
      "[11]\tvalid_0's ndcg@1: 0.0245902\tvalid_0's ndcg@3: 0.0544553\tvalid_0's ndcg@5: 0.0590574\tvalid_0's ndcg@10: 0.0694946\n",
      "[12]\tvalid_0's ndcg@1: 0.0163934\tvalid_0's ndcg@3: 0.0491708\tvalid_0's ndcg@5: 0.057646\tvalid_0's ndcg@10: 0.0685351\n",
      "[13]\tvalid_0's ndcg@1: 0.0180328\tvalid_0's ndcg@3: 0.0521838\tvalid_0's ndcg@5: 0.0598712\tvalid_0's ndcg@10: 0.0691098\n",
      "[14]\tvalid_0's ndcg@1: 0.0196721\tvalid_0's ndcg@3: 0.0543728\tvalid_0's ndcg@5: 0.0608443\tvalid_0's ndcg@10: 0.0683825\n",
      "[15]\tvalid_0's ndcg@1: 0.0229508\tvalid_0's ndcg@3: 0.0528342\tvalid_0's ndcg@5: 0.0614329\tvalid_0's ndcg@10: 0.0678104\n",
      "[16]\tvalid_0's ndcg@1: 0.0278689\tvalid_0's ndcg@3: 0.0569464\tvalid_0's ndcg@5: 0.0626666\tvalid_0's ndcg@10: 0.0687296\n",
      "[17]\tvalid_0's ndcg@1: 0.0278689\tvalid_0's ndcg@3: 0.0545925\tvalid_0's ndcg@5: 0.0615905\tvalid_0's ndcg@10: 0.0687196\n",
      "[18]\tvalid_0's ndcg@1: 0.0245902\tvalid_0's ndcg@3: 0.054556\tvalid_0's ndcg@5: 0.0606063\tvalid_0's ndcg@10: 0.0694204\n",
      "[19]\tvalid_0's ndcg@1: 0.0262295\tvalid_0's ndcg@3: 0.053686\tvalid_0's ndcg@5: 0.0595473\tvalid_0's ndcg@10: 0.0706343\n",
      "[20]\tvalid_0's ndcg@1: 0.0229508\tvalid_0's ndcg@3: 0.0525503\tvalid_0's ndcg@5: 0.0580645\tvalid_0's ndcg@10: 0.0702746\n",
      "[21]\tvalid_0's ndcg@1: 0.0213115\tvalid_0's ndcg@3: 0.0491891\tvalid_0's ndcg@5: 0.059472\tvalid_0's ndcg@10: 0.0698511\n",
      "[22]\tvalid_0's ndcg@1: 0.0180328\tvalid_0's ndcg@3: 0.04733\tvalid_0's ndcg@5: 0.0577226\tvalid_0's ndcg@10: 0.0679107\n",
      "[23]\tvalid_0's ndcg@1: 0.0196721\tvalid_0's ndcg@3: 0.0486855\tvalid_0's ndcg@5: 0.0576416\tvalid_0's ndcg@10: 0.0683507\n",
      "[24]\tvalid_0's ndcg@1: 0.0180328\tvalid_0's ndcg@3: 0.04733\tvalid_0's ndcg@5: 0.055055\tvalid_0's ndcg@10: 0.0663394\n",
      "[25]\tvalid_0's ndcg@1: 0.0147541\tvalid_0's ndcg@3: 0.0472293\tvalid_0's ndcg@5: 0.0545966\tvalid_0's ndcg@10: 0.0694216\n",
      "[26]\tvalid_0's ndcg@1: 0.0163934\tvalid_0's ndcg@3: 0.0458922\tvalid_0's ndcg@5: 0.0554971\tvalid_0's ndcg@10: 0.0685373\n",
      "[27]\tvalid_0's ndcg@1: 0.0147541\tvalid_0's ndcg@3: 0.0478337\tvalid_0's ndcg@5: 0.0554636\tvalid_0's ndcg@10: 0.0677971\n",
      "[28]\tvalid_0's ndcg@1: 0.0196721\tvalid_0's ndcg@3: 0.0490701\tvalid_0's ndcg@5: 0.0563328\tvalid_0's ndcg@10: 0.0678129\n",
      "[29]\tvalid_0's ndcg@1: 0.0196721\tvalid_0's ndcg@3: 0.0490519\tvalid_0's ndcg@5: 0.0555604\tvalid_0's ndcg@10: 0.0684317\n",
      "[30]\tvalid_0's ndcg@1: 0.0196721\tvalid_0's ndcg@3: 0.0468447\tvalid_0's ndcg@5: 0.0553859\tvalid_0's ndcg@10: 0.066693\n",
      "[31]\tvalid_0's ndcg@1: 0.0180328\tvalid_0's ndcg@3: 0.0467622\tvalid_0's ndcg@5: 0.0537232\tvalid_0's ndcg@10: 0.0660591\n",
      "[32]\tvalid_0's ndcg@1: 0.0163934\tvalid_0's ndcg@3: 0.048484\tvalid_0's ndcg@5: 0.0526462\tvalid_0's ndcg@10: 0.0665797\n",
      "[33]\tvalid_0's ndcg@1: 0.0163934\tvalid_0's ndcg@3: 0.0475315\tvalid_0's ndcg@5: 0.0561663\tvalid_0's ndcg@10: 0.0656132\n",
      "[34]\tvalid_0's ndcg@1: 0.0147541\tvalid_0's ndcg@3: 0.0465972\tvalid_0's ndcg@5: 0.0575731\tvalid_0's ndcg@10: 0.0658741\n",
      "[35]\tvalid_0's ndcg@1: 0.0163934\tvalid_0's ndcg@3: 0.0457914\tvalid_0's ndcg@5: 0.0570882\tvalid_0's ndcg@10: 0.064965\n",
      "[36]\tvalid_0's ndcg@1: 0.0196721\tvalid_0's ndcg@3: 0.0475132\tvalid_0's ndcg@5: 0.0559503\tvalid_0's ndcg@10: 0.0667137\n",
      "[37]\tvalid_0's ndcg@1: 0.0180328\tvalid_0's ndcg@3: 0.0462768\tvalid_0's ndcg@5: 0.0569155\tvalid_0's ndcg@10: 0.0666091\n",
      "[38]\tvalid_0's ndcg@1: 0.0196721\tvalid_0's ndcg@3: 0.04646\tvalid_0's ndcg@5: 0.0562201\tvalid_0's ndcg@10: 0.0647134\n",
      "[39]\tvalid_0's ndcg@1: 0.0163934\tvalid_0's ndcg@3: 0.0475315\tvalid_0's ndcg@5: 0.0561461\tvalid_0's ndcg@10: 0.0656224\n",
      "[40]\tvalid_0's ndcg@1: 0.0196721\tvalid_0's ndcg@3: 0.0472293\tvalid_0's ndcg@5: 0.0564148\tvalid_0's ndcg@10: 0.0663722\n",
      "[41]\tvalid_0's ndcg@1: 0.0196721\tvalid_0's ndcg@3: 0.04733\tvalid_0's ndcg@5: 0.055339\tvalid_0's ndcg@10: 0.0666354\n",
      "[42]\tvalid_0's ndcg@1: 0.0213115\tvalid_0's ndcg@3: 0.0488687\tvalid_0's ndcg@5: 0.0562603\tvalid_0's ndcg@10: 0.0657935\n",
      "[43]\tvalid_0's ndcg@1: 0.0180328\tvalid_0's ndcg@3: 0.0457732\tvalid_0's ndcg@5: 0.0551473\tvalid_0's ndcg@10: 0.0649143\n",
      "[44]\tvalid_0's ndcg@1: 0.0147541\tvalid_0's ndcg@3: 0.0460754\tvalid_0's ndcg@5: 0.0525208\tvalid_0's ndcg@10: 0.0647231\n",
      "[45]\tvalid_0's ndcg@1: 0.0180328\tvalid_0's ndcg@3: 0.0462768\tvalid_0's ndcg@5: 0.0535836\tvalid_0's ndcg@10: 0.0660251\n",
      "[46]\tvalid_0's ndcg@1: 0.0180328\tvalid_0's ndcg@3: 0.0473483\tvalid_0's ndcg@5: 0.0552346\tvalid_0's ndcg@10: 0.0662153\n",
      "[47]\tvalid_0's ndcg@1: 0.0163934\tvalid_0's ndcg@3: 0.0472476\tvalid_0's ndcg@5: 0.0555469\tvalid_0's ndcg@10: 0.0662959\n",
      "[48]\tvalid_0's ndcg@1: 0.0163934\tvalid_0's ndcg@3: 0.047614\tvalid_0's ndcg@5: 0.0549026\tvalid_0's ndcg@10: 0.0642831\n",
      "[49]\tvalid_0's ndcg@1: 0.0163934\tvalid_0's ndcg@3: 0.0460754\tvalid_0's ndcg@5: 0.0528874\tvalid_0's ndcg@10: 0.0648034\n",
      "[50]\tvalid_0's ndcg@1: 0.0163934\tvalid_0's ndcg@3: 0.0465607\tvalid_0's ndcg@5: 0.0546691\tvalid_0's ndcg@10: 0.0640044\n",
      "[51]\tvalid_0's ndcg@1: 0.0163934\tvalid_0's ndcg@3: 0.0456907\tvalid_0's ndcg@5: 0.0532287\tvalid_0's ndcg@10: 0.0645939\n",
      "[52]\tvalid_0's ndcg@1: 0.0196721\tvalid_0's ndcg@3: 0.0465425\tvalid_0's ndcg@5: 0.0555815\tvalid_0's ndcg@10: 0.0644591\n",
      "[53]\tvalid_0's ndcg@1: 0.0180328\tvalid_0's ndcg@3: 0.0453885\tvalid_0's ndcg@5: 0.0554902\tvalid_0's ndcg@10: 0.0644862\n",
      "[54]\tvalid_0's ndcg@1: 0.0196721\tvalid_0's ndcg@3: 0.0458739\tvalid_0's ndcg@5: 0.0558447\tvalid_0's ndcg@10: 0.0633933\n",
      "[55]\tvalid_0's ndcg@1: 0.0196721\tvalid_0's ndcg@3: 0.04559\tvalid_0's ndcg@5: 0.0539188\tvalid_0's ndcg@10: 0.0637046\n",
      "[56]\tvalid_0's ndcg@1: 0.0180328\tvalid_0's ndcg@3: 0.0457914\tvalid_0's ndcg@5: 0.0544013\tvalid_0's ndcg@10: 0.0636912\n",
      "[57]\tvalid_0's ndcg@1: 0.0180328\tvalid_0's ndcg@3: 0.0450039\tvalid_0's ndcg@5: 0.0534915\tvalid_0's ndcg@10: 0.0639073\n",
      "[58]\tvalid_0's ndcg@1: 0.0163934\tvalid_0's ndcg@3: 0.0444178\tvalid_0's ndcg@5: 0.0532788\tvalid_0's ndcg@10: 0.0630489\n",
      "[59]\tvalid_0's ndcg@1: 0.0180328\tvalid_0's ndcg@3: 0.0441338\tvalid_0's ndcg@5: 0.0544616\tvalid_0's ndcg@10: 0.0636315\n",
      "[60]\tvalid_0's ndcg@1: 0.0196721\tvalid_0's ndcg@3: 0.0451871\tvalid_0's ndcg@5: 0.0534814\tvalid_0's ndcg@10: 0.0628664\n",
      "[61]\tvalid_0's ndcg@1: 0.0163934\tvalid_0's ndcg@3: 0.0431813\tvalid_0's ndcg@5: 0.0539919\tvalid_0's ndcg@10: 0.0625322\n",
      "[62]\tvalid_0's ndcg@1: 0.0147541\tvalid_0's ndcg@3: 0.0420274\tvalid_0's ndcg@5: 0.0529672\tvalid_0's ndcg@10: 0.0625824\n",
      "[63]\tvalid_0's ndcg@1: 0.0147541\tvalid_0's ndcg@3: 0.0426135\tvalid_0's ndcg@5: 0.052824\tvalid_0's ndcg@10: 0.062228\n",
      "[64]\tvalid_0's ndcg@1: 0.0147541\tvalid_0's ndcg@3: 0.0408734\tvalid_0's ndcg@5: 0.0521089\tvalid_0's ndcg@10: 0.0619042\n",
      "[65]\tvalid_0's ndcg@1: 0.0147541\tvalid_0's ndcg@3: 0.0414413\tvalid_0's ndcg@5: 0.0517654\tvalid_0's ndcg@10: 0.0626527\n",
      "[66]\tvalid_0's ndcg@1: 0.0131148\tvalid_0's ndcg@3: 0.0407727\tvalid_0's ndcg@5: 0.0511757\tvalid_0's ndcg@10: 0.0630558\n",
      "[67]\tvalid_0's ndcg@1: 0.0131148\tvalid_0's ndcg@3: 0.0419449\tvalid_0's ndcg@5: 0.0518041\tvalid_0's ndcg@10: 0.0633101\n",
      "[68]\tvalid_0's ndcg@1: 0.0147541\tvalid_0's ndcg@3: 0.0416427\tvalid_0's ndcg@5: 0.0518289\tvalid_0's ndcg@10: 0.0624464\n",
      "[69]\tvalid_0's ndcg@1: 0.0163934\tvalid_0's ndcg@3: 0.0430806\tvalid_0's ndcg@5: 0.051817\tvalid_0's ndcg@10: 0.0627429\n",
      "[70]\tvalid_0's ndcg@1: 0.0147541\tvalid_0's ndcg@3: 0.040388\tvalid_0's ndcg@5: 0.0523588\tvalid_0's ndcg@10: 0.0628145\n",
      "[71]\tvalid_0's ndcg@1: 0.0131148\tvalid_0's ndcg@3: 0.0409741\tvalid_0's ndcg@5: 0.0523278\tvalid_0's ndcg@10: 0.0635539\n"
     ]
    },
    {
     "name": "stdout",
     "output_type": "stream",
     "text": [
      "[72]\tvalid_0's ndcg@1: 0.0147541\tvalid_0's ndcg@3: 0.0407727\tvalid_0's ndcg@5: 0.0520848\tvalid_0's ndcg@10: 0.0634871\n",
      "[73]\tvalid_0's ndcg@1: 0.0163934\tvalid_0's ndcg@3: 0.0407727\tvalid_0's ndcg@5: 0.0511068\tvalid_0's ndcg@10: 0.0626532\n",
      "[74]\tvalid_0's ndcg@1: 0.0163934\tvalid_0's ndcg@3: 0.041542\tvalid_0's ndcg@5: 0.0522837\tvalid_0's ndcg@10: 0.0627603\n",
      "[75]\tvalid_0's ndcg@1: 0.0163934\tvalid_0's ndcg@3: 0.0410566\tvalid_0's ndcg@5: 0.0509643\tvalid_0's ndcg@10: 0.0619363\n",
      "[76]\tvalid_0's ndcg@1: 0.0180328\tvalid_0's ndcg@3: 0.0413405\tvalid_0's ndcg@5: 0.0507787\tvalid_0's ndcg@10: 0.0627848\n",
      "[77]\tvalid_0's ndcg@1: 0.0180328\tvalid_0's ndcg@3: 0.0421098\tvalid_0's ndcg@5: 0.0519068\tvalid_0's ndcg@10: 0.0637984\n",
      "[78]\tvalid_0's ndcg@1: 0.0180328\tvalid_0's ndcg@3: 0.0423113\tvalid_0's ndcg@5: 0.0521457\tvalid_0's ndcg@10: 0.0636224\n",
      "[79]\tvalid_0's ndcg@1: 0.0163934\tvalid_0's ndcg@3: 0.0421098\tvalid_0's ndcg@5: 0.052928\tvalid_0's ndcg@10: 0.063132\n",
      "[80]\tvalid_0's ndcg@1: 0.0163934\tvalid_0's ndcg@3: 0.0420274\tvalid_0's ndcg@5: 0.0523801\tvalid_0's ndcg@10: 0.0648092\n",
      "[81]\tvalid_0's ndcg@1: 0.0163934\tvalid_0's ndcg@3: 0.0433645\tvalid_0's ndcg@5: 0.0521384\tvalid_0's ndcg@10: 0.0637129\n",
      "[82]\tvalid_0's ndcg@1: 0.0163934\tvalid_0's ndcg@3: 0.0412398\tvalid_0's ndcg@5: 0.0511061\tvalid_0's ndcg@10: 0.0635135\n",
      "[83]\tvalid_0's ndcg@1: 0.0180328\tvalid_0's ndcg@3: 0.0411391\tvalid_0's ndcg@5: 0.0514878\tvalid_0's ndcg@10: 0.0634527\n",
      "[84]\tvalid_0's ndcg@1: 0.0196721\tvalid_0's ndcg@3: 0.042293\tvalid_0's ndcg@5: 0.0520824\tvalid_0's ndcg@10: 0.0640258\n",
      "[85]\tvalid_0's ndcg@1: 0.0196721\tvalid_0's ndcg@3: 0.0430623\tvalid_0's ndcg@5: 0.0511571\tvalid_0's ndcg@10: 0.0637441\n",
      "[86]\tvalid_0's ndcg@1: 0.0180328\tvalid_0's ndcg@3: 0.0425952\tvalid_0's ndcg@5: 0.0513917\tvalid_0's ndcg@10: 0.0634629\n",
      "[87]\tvalid_0's ndcg@1: 0.0163934\tvalid_0's ndcg@3: 0.0413588\tvalid_0's ndcg@5: 0.0511921\tvalid_0's ndcg@10: 0.0635103\n",
      "[88]\tvalid_0's ndcg@1: 0.0180328\tvalid_0's ndcg@3: 0.0413588\tvalid_0's ndcg@5: 0.0505468\tvalid_0's ndcg@10: 0.0629564\n",
      "[89]\tvalid_0's ndcg@1: 0.0196721\tvalid_0's ndcg@3: 0.0438499\tvalid_0's ndcg@5: 0.0516288\tvalid_0's ndcg@10: 0.0626673\n",
      "[90]\tvalid_0's ndcg@1: 0.0180328\tvalid_0's ndcg@3: 0.0438499\tvalid_0's ndcg@5: 0.0523228\tvalid_0's ndcg@10: 0.0621221\n",
      "[91]\tvalid_0's ndcg@1: 0.0180328\tvalid_0's ndcg@3: 0.0424945\tvalid_0's ndcg@5: 0.0516314\tvalid_0's ndcg@10: 0.0619491\n",
      "[92]\tvalid_0's ndcg@1: 0.0180328\tvalid_0's ndcg@3: 0.0441338\tvalid_0's ndcg@5: 0.0515501\tvalid_0's ndcg@10: 0.06282\n",
      "[93]\tvalid_0's ndcg@1: 0.0180328\tvalid_0's ndcg@3: 0.0415237\tvalid_0's ndcg@5: 0.0502401\tvalid_0's ndcg@10: 0.0618947\n",
      "[94]\tvalid_0's ndcg@1: 0.0180328\tvalid_0's ndcg@3: 0.0421281\tvalid_0's ndcg@5: 0.0510339\tvalid_0's ndcg@10: 0.0622892\n",
      "[95]\tvalid_0's ndcg@1: 0.0163934\tvalid_0's ndcg@3: 0.0420274\tvalid_0's ndcg@5: 0.0508149\tvalid_0's ndcg@10: 0.0623695\n",
      "[96]\tvalid_0's ndcg@1: 0.0180328\tvalid_0's ndcg@3: 0.0445185\tvalid_0's ndcg@5: 0.0513995\tvalid_0's ndcg@10: 0.0631209\n",
      "[97]\tvalid_0's ndcg@1: 0.0163934\tvalid_0's ndcg@3: 0.0430806\tvalid_0's ndcg@5: 0.0505309\tvalid_0's ndcg@10: 0.0626067\n",
      "[98]\tvalid_0's ndcg@1: 0.0180328\tvalid_0's ndcg@3: 0.0431631\tvalid_0's ndcg@5: 0.0499897\tvalid_0's ndcg@10: 0.0622919\n",
      "[99]\tvalid_0's ndcg@1: 0.0196721\tvalid_0's ndcg@3: 0.0416245\tvalid_0's ndcg@5: 0.0511992\tvalid_0's ndcg@10: 0.062103\n",
      "[100]\tvalid_0's ndcg@1: 0.0163934\tvalid_0's ndcg@3: 0.0401866\tvalid_0's ndcg@5: 0.051254\tvalid_0's ndcg@10: 0.0615162\n"
     ]
    },
    {
     "data": {
      "text/plain": [
       "LGBMRanker(importance_type='gain', min_child_samples=1, min_child_weight=100,\n",
       "           n_jobs=2)"
      ]
     },
     "execution_count": 154,
     "metadata": {},
     "output_type": "execute_result"
    }
   ],
   "source": [
    "gbm1 = lgb.LGBMRanker(min_child_samples=1, learning_rate=.1, n_jobs=2, importance_type='gain',\n",
    "                     num_leaves=31, min_child_weight=100)\n",
    "gbm1.fit(X_train_no_genre, y_train, group=group_train,\n",
    "        eval_set=[(X_val_no_genre, y_val)], eval_group=[group_val],\n",
    "        eval_at=[1, 3, 5, 10], eval_metric='ndcg')"
   ]
  },
  {
   "cell_type": "code",
   "execution_count": 155,
   "metadata": {
    "ExecuteTime": {
     "end_time": "2020-08-24T13:26:23.278262Z",
     "start_time": "2020-08-24T13:26:22.607466Z"
    }
   },
   "outputs": [
    {
     "data": {
      "text/plain": [
       "Text(0.5, 1.0, 'Importance of Features')"
      ]
     },
     "execution_count": 155,
     "metadata": {},
     "output_type": "execute_result"
    },
    {
     "data": {
      "image/png": "[encoded data removed]",
      "text/plain": [
       "<Figure size 1000x400 with 1 Axes>"
      ]
     },
     "metadata": {
      "needs_background": "light"
     },
     "output_type": "display_data"
    }
   ],
   "source": [
    "feature_names_no_genre = ('implicit_score', 'implicit_rank', 'svd_score', '#users_watched',\n",
    "                 'emedding1', 'emedding2', 'emedding3',\n",
    "                 'emedding4', 'emedding5', 'emedding6',\n",
    "                 'emedding7', 'emedding8', 'emedding9',\n",
    "                 'emedding10', 'emedding11', 'emedding12',\n",
    "                 'emedding13', 'emedding14', 'emedding15',\n",
    "                 'emedding16', 'emedding17', 'emedding18',\n",
    "                 'emedding19', 'emedding20', 'emedding21',\n",
    "                 'emedding22', 'emedding23', 'emedding24',\n",
    "                 'emedding25', 'emedding26', 'emedding27',\n",
    "                 'emedding28', 'emedding29', 'emedding30',\n",
    "                 'emedding31', 'emedding32', 'SVD Rank')\n",
    "figure(figsize = (10, 4), dpi = 100)\n",
    "plt.bar(feature_names_no_genre, gbm1.feature_importances_)\n",
    "plt.xticks(rotation = 'vertical')\n",
    "plt.ylabel('Importance')\n",
    "plt.xlabel('Feature name')\n",
    "plt.title('Importance of Features')"
   ]
  },
  {
   "cell_type": "code",
   "execution_count": 156,
   "metadata": {
    "ExecuteTime": {
     "end_time": "2020-08-24T13:26:23.296954Z",
     "start_time": "2020-08-24T13:26:23.281687Z"
    }
   },
   "outputs": [
    {
     "data": {
      "text/plain": [
       "array([3404.01452935,  257.74028742,  131.50999117,   93.41462922,\n",
       "        160.83828312,  110.56928211,   52.24227536,   97.79822981,\n",
       "         81.09534717,  129.24540651,   93.16325301,   99.76372945,\n",
       "        101.84219724,   79.7821216 ,  134.99887735,   97.80555099,\n",
       "        121.31160587,  155.08243185,   93.97104108,  121.56874973,\n",
       "        102.87830476,  103.29091978,  156.21655279,  181.56745362,\n",
       "        121.38202429,  118.82486528,   91.20501965,   91.04583704,\n",
       "         74.12661976,  113.16160488,  110.66874081,   86.00393939,\n",
       "         96.62106878,   56.87423772,   89.99711293,  159.97711645,\n",
       "        121.87634683])"
      ]
     },
     "execution_count": 156,
     "metadata": {},
     "output_type": "execute_result"
    }
   ],
   "source": [
    "gbm1.feature_importances_"
   ]
  },
  {
   "cell_type": "code",
   "execution_count": 157,
   "metadata": {
    "ExecuteTime": {
     "end_time": "2020-08-24T13:26:23.402667Z",
     "start_time": "2020-08-24T13:26:23.301611Z"
    }
   },
   "outputs": [
    {
     "data": {
      "text/plain": [
       "SpearmanrResult(correlation=0.3740818868527498, pvalue=0.0)"
      ]
     },
     "execution_count": 157,
     "metadata": {},
     "output_type": "execute_result"
    }
   ],
   "source": [
    "st.spearmanr(np.array(feature1).reshape(len(num_users)*k,), np.array(feature3).reshape(len(num_users)*k,))"
   ]
  },
  {
   "cell_type": "code",
   "execution_count": 158,
   "metadata": {
    "ExecuteTime": {
     "end_time": "2020-08-24T13:26:24.503293Z",
     "start_time": "2020-08-24T13:26:23.404824Z"
    }
   },
   "outputs": [
    {
     "data": {
      "text/plain": [
       "SpearmanrResult(correlation=0.0027656297137522256, pvalue=0.40283735743935234)"
      ]
     },
     "execution_count": 158,
     "metadata": {},
     "output_type": "execute_result"
    }
   ],
   "source": [
    "st.spearmanr(np.array(feature9).reshape(len(num_users)*k,), gbm1.predict(X_test_no_genre).reshape(len(num_users)*k,))"
   ]
  },
  {
   "cell_type": "code",
   "execution_count": 159,
   "metadata": {
    "ExecuteTime": {
     "end_time": "2020-08-24T13:26:25.670202Z",
     "start_time": "2020-08-24T13:26:24.508229Z"
    }
   },
   "outputs": [
    {
     "data": {
      "text/plain": [
       "91500"
      ]
     },
     "execution_count": 159,
     "metadata": {},
     "output_type": "execute_result"
    }
   ],
   "source": [
    "pred_no_genre = gbm1.predict(X_test_no_genre)\n",
    "len(pred_no_genre)"
   ]
  },
  {
   "cell_type": "markdown",
   "metadata": {},
   "source": [
    "## What is the impact of items' embeddings features on the effectiveness of a model for item recommendations?"
   ]
  },
  {
   "cell_type": "markdown",
   "metadata": {},
   "source": [
    "1. Post-hoc analysis\n",
    "2. Spearman correlation\n",
    "try different features, see what happens, and analyze it to explain. \n"
   ]
  },
  {
   "cell_type": "markdown",
   "metadata": {
    "ExecuteTime": {
     "end_time": "2020-08-13T18:16:18.212676Z",
     "start_time": "2020-08-13T18:16:18.181880Z"
    }
   },
   "source": [
    "### No item embeddings features"
   ]
  },
  {
   "cell_type": "code",
   "execution_count": 160,
   "metadata": {
    "ExecuteTime": {
     "end_time": "2020-08-24T13:26:25.782807Z",
     "start_time": "2020-08-24T13:26:25.673860Z"
    }
   },
   "outputs": [],
   "source": [
    "no_embeddings_features = np.stack((feature1,feature2,feature3,feature4,feature5,feature8,\n",
    "                              feature9,feature10,feature11,feature12,feature13,\n",
    "                              feature14,feature15,feature47))"
   ]
  },
  {
   "cell_type": "code",
   "execution_count": 161,
   "metadata": {
    "ExecuteTime": {
     "end_time": "2020-08-24T13:26:25.799914Z",
     "start_time": "2020-08-24T13:26:25.782807Z"
    }
   },
   "outputs": [],
   "source": [
    "X_no_emb = np.array(no_embeddings_features)\n",
    "X_no_emb = X_no_emb.reshape(len(num_users)*k, len(no_embeddings_features))\n",
    "X_train_no_emb = X_no_emb\n",
    "X_test_no_emb = X_no_emb\n",
    "X_val_no_emb = X_no_emb"
   ]
  },
  {
   "cell_type": "code",
   "execution_count": 162,
   "metadata": {
    "ExecuteTime": {
     "end_time": "2020-08-24T13:26:29.439929Z",
     "start_time": "2020-08-24T13:26:25.799914Z"
    },
    "scrolled": true
   },
   "outputs": [
    {
     "name": "stdout",
     "output_type": "stream",
     "text": [
      "[1]\tvalid_0's ndcg@1: 0.0885246\tvalid_0's ndcg@3: 0.123445\tvalid_0's ndcg@5: 0.117752\tvalid_0's ndcg@10: 0.11493\n",
      "Training until validation scores don't improve for 50 rounds\n",
      "[2]\tvalid_0's ndcg@1: 0.0737705\tvalid_0's ndcg@3: 0.0903356\tvalid_0's ndcg@5: 0.0942139\tvalid_0's ndcg@10: 0.0944423\n",
      "[3]\tvalid_0's ndcg@1: 0.0688525\tvalid_0's ndcg@3: 0.0850511\tvalid_0's ndcg@5: 0.0861484\tvalid_0's ndcg@10: 0.085771\n",
      "[4]\tvalid_0's ndcg@1: 0.0868852\tvalid_0's ndcg@3: 0.0875078\tvalid_0's ndcg@5: 0.0864967\tvalid_0's ndcg@10: 0.0895519\n",
      "[5]\tvalid_0's ndcg@1: 0.0836066\tvalid_0's ndcg@3: 0.0817015\tvalid_0's ndcg@5: 0.0845197\tvalid_0's ndcg@10: 0.0874767\n",
      "[6]\tvalid_0's ndcg@1: 0.0836066\tvalid_0's ndcg@3: 0.0849802\tvalid_0's ndcg@5: 0.0847871\tvalid_0's ndcg@10: 0.0877985\n",
      "[7]\tvalid_0's ndcg@1: 0.0737705\tvalid_0's ndcg@3: 0.0847145\tvalid_0's ndcg@5: 0.0844231\tvalid_0's ndcg@10: 0.0878392\n",
      "[8]\tvalid_0's ndcg@1: 0.0770492\tvalid_0's ndcg@3: 0.0861524\tvalid_0's ndcg@5: 0.0837374\tvalid_0's ndcg@10: 0.0890992\n",
      "[9]\tvalid_0's ndcg@1: 0.0737705\tvalid_0's ndcg@3: 0.0818665\tvalid_0's ndcg@5: 0.0822858\tvalid_0's ndcg@10: 0.0878471\n",
      "[10]\tvalid_0's ndcg@1: 0.0721311\tvalid_0's ndcg@3: 0.0824708\tvalid_0's ndcg@5: 0.0828103\tvalid_0's ndcg@10: 0.0888646\n",
      "[11]\tvalid_0's ndcg@1: 0.0688525\tvalid_0's ndcg@3: 0.0796775\tvalid_0's ndcg@5: 0.0815962\tvalid_0's ndcg@10: 0.0878828\n",
      "[12]\tvalid_0's ndcg@1: 0.0704918\tvalid_0's ndcg@3: 0.0821869\tvalid_0's ndcg@5: 0.0826915\tvalid_0's ndcg@10: 0.0881756\n",
      "[13]\tvalid_0's ndcg@1: 0.0622951\tvalid_0's ndcg@3: 0.0802819\tvalid_0's ndcg@5: 0.0829948\tvalid_0's ndcg@10: 0.0874404\n",
      "[14]\tvalid_0's ndcg@1: 0.0622951\tvalid_0's ndcg@3: 0.0813351\tvalid_0's ndcg@5: 0.0821558\tvalid_0's ndcg@10: 0.0887002\n",
      "[15]\tvalid_0's ndcg@1: 0.0639344\tvalid_0's ndcg@3: 0.0834416\tvalid_0's ndcg@5: 0.083417\tvalid_0's ndcg@10: 0.088602\n",
      "[16]\tvalid_0's ndcg@1: 0.0737705\tvalid_0's ndcg@3: 0.082654\tvalid_0's ndcg@5: 0.0844063\tvalid_0's ndcg@10: 0.0888858\n",
      "[17]\tvalid_0's ndcg@1: 0.0557377\tvalid_0's ndcg@3: 0.0810512\tvalid_0's ndcg@5: 0.0832762\tvalid_0's ndcg@10: 0.0866433\n",
      "[18]\tvalid_0's ndcg@1: 0.0557377\tvalid_0's ndcg@3: 0.0767514\tvalid_0's ndcg@5: 0.0807114\tvalid_0's ndcg@10: 0.0857654\n",
      "[19]\tvalid_0's ndcg@1: 0.0590164\tvalid_0's ndcg@3: 0.0752128\tvalid_0's ndcg@5: 0.0816083\tvalid_0's ndcg@10: 0.0851351\n",
      "[20]\tvalid_0's ndcg@1: 0.0590164\tvalid_0's ndcg@3: 0.0756981\tvalid_0's ndcg@5: 0.0814071\tvalid_0's ndcg@10: 0.0849085\n",
      "[21]\tvalid_0's ndcg@1: 0.0639344\tvalid_0's ndcg@3: 0.0744252\tvalid_0's ndcg@5: 0.0831413\tvalid_0's ndcg@10: 0.0849432\n",
      "[22]\tvalid_0's ndcg@1: 0.0688525\tvalid_0's ndcg@3: 0.074123\tvalid_0's ndcg@5: 0.0834956\tvalid_0's ndcg@10: 0.0855511\n",
      "[23]\tvalid_0's ndcg@1: 0.0622951\tvalid_0's ndcg@3: 0.0733537\tvalid_0's ndcg@5: 0.0806748\tvalid_0's ndcg@10: 0.0859966\n",
      "[24]\tvalid_0's ndcg@1: 0.0606557\tvalid_0's ndcg@3: 0.0735552\tvalid_0's ndcg@5: 0.0805405\tvalid_0's ndcg@10: 0.0860476\n",
      "[25]\tvalid_0's ndcg@1: 0.0655738\tvalid_0's ndcg@3: 0.0756616\tvalid_0's ndcg@5: 0.0796238\tvalid_0's ndcg@10: 0.0859876\n",
      "[26]\tvalid_0's ndcg@1: 0.0655738\tvalid_0's ndcg@3: 0.0750755\tvalid_0's ndcg@5: 0.0809411\tvalid_0's ndcg@10: 0.0860906\n",
      "[27]\tvalid_0's ndcg@1: 0.0655738\tvalid_0's ndcg@3: 0.0751763\tvalid_0's ndcg@5: 0.0788143\tvalid_0's ndcg@10: 0.0866057\n",
      "[28]\tvalid_0's ndcg@1: 0.0672131\tvalid_0's ndcg@3: 0.0769163\tvalid_0's ndcg@5: 0.0791628\tvalid_0's ndcg@10: 0.0876009\n",
      "[29]\tvalid_0's ndcg@1: 0.0672131\tvalid_0's ndcg@3: 0.0767331\tvalid_0's ndcg@5: 0.0778129\tvalid_0's ndcg@10: 0.0876899\n",
      "[30]\tvalid_0's ndcg@1: 0.0639344\tvalid_0's ndcg@3: 0.0751945\tvalid_0's ndcg@5: 0.0775613\tvalid_0's ndcg@10: 0.0873064\n",
      "[31]\tvalid_0's ndcg@1: 0.0655738\tvalid_0's ndcg@3: 0.0763485\tvalid_0's ndcg@5: 0.078667\tvalid_0's ndcg@10: 0.0882653\n",
      "[32]\tvalid_0's ndcg@1: 0.0639344\tvalid_0's ndcg@3: 0.0759456\tvalid_0's ndcg@5: 0.0774948\tvalid_0's ndcg@10: 0.0872691\n",
      "[33]\tvalid_0's ndcg@1: 0.0655738\tvalid_0's ndcg@3: 0.075277\tvalid_0's ndcg@5: 0.077251\tvalid_0's ndcg@10: 0.0873119\n",
      "[34]\tvalid_0's ndcg@1: 0.0655738\tvalid_0's ndcg@3: 0.076431\tvalid_0's ndcg@5: 0.0776792\tvalid_0's ndcg@10: 0.0883162\n",
      "[35]\tvalid_0's ndcg@1: 0.0655738\tvalid_0's ndcg@3: 0.0749748\tvalid_0's ndcg@5: 0.0795448\tvalid_0's ndcg@10: 0.0888543\n",
      "[36]\tvalid_0's ndcg@1: 0.0639344\tvalid_0's ndcg@3: 0.0755427\tvalid_0's ndcg@5: 0.0776338\tvalid_0's ndcg@10: 0.088254\n",
      "[37]\tvalid_0's ndcg@1: 0.0622951\tvalid_0's ndcg@3: 0.0729005\tvalid_0's ndcg@5: 0.0776249\tvalid_0's ndcg@10: 0.0879236\n",
      "[38]\tvalid_0's ndcg@1: 0.0622951\tvalid_0's ndcg@3: 0.0739719\tvalid_0's ndcg@5: 0.0765811\tvalid_0's ndcg@10: 0.0876879\n",
      "[39]\tvalid_0's ndcg@1: 0.0606557\tvalid_0's ndcg@3: 0.0751763\tvalid_0's ndcg@5: 0.0774029\tvalid_0's ndcg@10: 0.0885031\n",
      "[40]\tvalid_0's ndcg@1: 0.0639344\tvalid_0's ndcg@3: 0.0754281\tvalid_0's ndcg@5: 0.0795937\tvalid_0's ndcg@10: 0.087676\n",
      "[41]\tvalid_0's ndcg@1: 0.0622951\tvalid_0's ndcg@3: 0.0763806\tvalid_0's ndcg@5: 0.0783011\tvalid_0's ndcg@10: 0.0875987\n",
      "[42]\tvalid_0's ndcg@1: 0.0606557\tvalid_0's ndcg@3: 0.0748099\tvalid_0's ndcg@5: 0.0783949\tvalid_0's ndcg@10: 0.0873156\n",
      "[43]\tvalid_0's ndcg@1: 0.0639344\tvalid_0's ndcg@3: 0.0766324\tvalid_0's ndcg@5: 0.0800454\tvalid_0's ndcg@10: 0.0870666\n",
      "[44]\tvalid_0's ndcg@1: 0.0590164\tvalid_0's ndcg@3: 0.0747274\tvalid_0's ndcg@5: 0.0783316\tvalid_0's ndcg@10: 0.0871293\n",
      "[45]\tvalid_0's ndcg@1: 0.0655738\tvalid_0's ndcg@3: 0.0748923\tvalid_0's ndcg@5: 0.0794087\tvalid_0's ndcg@10: 0.0879623\n",
      "[46]\tvalid_0's ndcg@1: 0.0622951\tvalid_0's ndcg@3: 0.0746084\tvalid_0's ndcg@5: 0.0787734\tvalid_0's ndcg@10: 0.087117\n",
      "[47]\tvalid_0's ndcg@1: 0.0622951\tvalid_0's ndcg@3: 0.0737887\tvalid_0's ndcg@5: 0.0795481\tvalid_0's ndcg@10: 0.0868172\n",
      "[48]\tvalid_0's ndcg@1: 0.0639344\tvalid_0's ndcg@3: 0.0753274\tvalid_0's ndcg@5: 0.0781828\tvalid_0's ndcg@10: 0.0871635\n",
      "[49]\tvalid_0's ndcg@1: 0.0655738\tvalid_0's ndcg@3: 0.0750252\tvalid_0's ndcg@5: 0.0783703\tvalid_0's ndcg@10: 0.0869382\n",
      "[50]\tvalid_0's ndcg@1: 0.0655738\tvalid_0's ndcg@3: 0.0737705\tvalid_0's ndcg@5: 0.0779424\tvalid_0's ndcg@10: 0.0862482\n",
      "[51]\tvalid_0's ndcg@1: 0.0672131\tvalid_0's ndcg@3: 0.0733676\tvalid_0's ndcg@5: 0.0791367\tvalid_0's ndcg@10: 0.0867927\n",
      "Early stopping, best iteration is:\n",
      "[1]\tvalid_0's ndcg@1: 0.0885246\tvalid_0's ndcg@3: 0.123445\tvalid_0's ndcg@5: 0.117752\tvalid_0's ndcg@10: 0.11493\n"
     ]
    },
    {
     "data": {
      "text/plain": [
       "LGBMRanker(importance_type='gain', min_child_samples=1, min_child_weight=100,\n",
       "           n_jobs=2)"
      ]
     },
     "execution_count": 162,
     "metadata": {},
     "output_type": "execute_result"
    }
   ],
   "source": [
    "gbm2 = lgb.LGBMRanker(min_child_samples=1, learning_rate=.1, n_jobs=2, importance_type='gain',\n",
    "                     num_leaves=31, min_child_weight=100)\n",
    "gbm2.fit(X_train_no_emb, y_train, group=group_train,\n",
    "        eval_set=[(X_val_no_emb, y_val)], eval_group=[group_val],\n",
    "        eval_at=[1, 3, 5, 10], early_stopping_rounds = 50, eval_metric='ndcg')"
   ]
  },
  {
   "cell_type": "code",
   "execution_count": 163,
   "metadata": {
    "ExecuteTime": {
     "end_time": "2020-08-24T13:26:29.450052Z",
     "start_time": "2020-08-24T13:26:29.441931Z"
    }
   },
   "outputs": [
    {
     "data": {
      "text/plain": [
       "14"
      ]
     },
     "execution_count": 163,
     "metadata": {},
     "output_type": "execute_result"
    }
   ],
   "source": [
    "len(gbm2.feature_importances_)"
   ]
  },
  {
   "cell_type": "code",
   "execution_count": 164,
   "metadata": {
    "ExecuteTime": {
     "end_time": "2020-08-24T13:26:29.826898Z",
     "start_time": "2020-08-24T13:26:29.451849Z"
    }
   },
   "outputs": [
    {
     "data": {
      "text/plain": [
       "Text(0.5, 1.0, 'Importance of Features')"
      ]
     },
     "execution_count": 164,
     "metadata": {},
     "output_type": "execute_result"
    },
    {
     "data": {
      "image/png": "[encoded data removed]",
      "text/plain": [
       "<Figure size 1000x400 with 1 Axes>"
      ]
     },
     "metadata": {
      "needs_background": "light"
     },
     "output_type": "display_data"
    }
   ],
   "source": [
    "feature_names_no_emb = ('implicit_score', 'implicit_rank', 'svd_score', 'is_comedy', '#users_watched',\n",
    "                        'is_adventure', 'is_drama', 'is_romance', 'is_fantasy', 'is_thriller',\n",
    "                        'is_animation', 'is_children', 'is_horror', 'SVD_rank')\n",
    "\n",
    "figure(figsize=(10, 4), dpi=100)\n",
    "plt.bar(feature_names_no_emb, gbm2.feature_importances_)\n",
    "plt.xticks(rotation='vertical')\n",
    "plt.ylabel('Importance')\n",
    "plt.xlabel('Feature name')\n",
    "plt.title('Importance of Features')"
   ]
  },
  {
   "cell_type": "code",
   "execution_count": 165,
   "metadata": {
    "ExecuteTime": {
     "end_time": "2020-08-24T13:26:29.839400Z",
     "start_time": "2020-08-24T13:26:29.830064Z"
    }
   },
   "outputs": [
    {
     "data": {
      "text/plain": [
       "array([ 83.50340271, 114.27200317,  15.55309963,   0.        ,\n",
       "         0.        ,   0.        ,  13.45069981,   0.        ,\n",
       "         0.        ,  48.21521044,  13.56639957,   0.        ,\n",
       "         0.        ,   3.17130995])"
      ]
     },
     "execution_count": 165,
     "metadata": {},
     "output_type": "execute_result"
    }
   ],
   "source": [
    "gbm2.feature_importances_"
   ]
  },
  {
   "cell_type": "code",
   "execution_count": 166,
   "metadata": {
    "ExecuteTime": {
     "end_time": "2020-08-24T13:26:30.101052Z",
     "start_time": "2020-08-24T13:26:29.842058Z"
    }
   },
   "outputs": [
    {
     "data": {
      "text/plain": [
       "SpearmanrResult(correlation=-0.006459348354761087, pvalue=0.05071542979316777)"
      ]
     },
     "execution_count": 166,
     "metadata": {},
     "output_type": "execute_result"
    }
   ],
   "source": [
    "st.spearmanr(np.array(feature9).reshape(len(num_users)*k,), gbm2.predict(X_test_no_emb).reshape(len(num_users)*k,))"
   ]
  },
  {
   "cell_type": "code",
   "execution_count": 167,
   "metadata": {
    "ExecuteTime": {
     "end_time": "2020-08-24T13:26:30.177570Z",
     "start_time": "2020-08-24T13:26:30.105045Z"
    }
   },
   "outputs": [
    {
     "data": {
      "text/plain": [
       "SpearmanrResult(correlation=0.028227891173856677, pvalue=1.3395440863505104e-17)"
      ]
     },
     "execution_count": 167,
     "metadata": {},
     "output_type": "execute_result"
    }
   ],
   "source": [
    "st.spearmanr(np.array(feature1).reshape(len(num_users)*k,), np.array(feature14).reshape(len(num_users)*k,))"
   ]
  },
  {
   "cell_type": "code",
   "execution_count": 168,
   "metadata": {
    "ExecuteTime": {
     "end_time": "2020-08-24T13:26:30.351949Z",
     "start_time": "2020-08-24T13:26:30.181991Z"
    }
   },
   "outputs": [],
   "source": [
    "pred_no_emb = gbm2.predict(X_test_no_emb)"
   ]
  },
  {
   "cell_type": "markdown",
   "metadata": {},
   "source": [
    "## What is the impact of the items’rank on the effectivenessof amodelfor item recommendations?"
   ]
  },
  {
   "cell_type": "markdown",
   "metadata": {},
   "source": [
    "1. Post-hoc analysis\n",
    "2. Spearman correlation\n",
    "try different features, see what happens, and analyze it to explain. \n"
   ]
  },
  {
   "cell_type": "markdown",
   "metadata": {
    "ExecuteTime": {
     "end_time": "2020-08-13T18:16:18.212676Z",
     "start_time": "2020-08-13T18:16:18.181880Z"
    }
   },
   "source": [
    "### No models' rank features"
   ]
  },
  {
   "cell_type": "code",
   "execution_count": 169,
   "metadata": {
    "ExecuteTime": {
     "end_time": "2020-08-24T13:26:30.711213Z",
     "start_time": "2020-08-24T13:26:30.353975Z"
    }
   },
   "outputs": [],
   "source": [
    "no_rank_features = np.stack((feature1, feature3, feature4, feature5, feature7[0],\n",
    "                             feature7[1], feature7[2], feature7[3],\n",
    "                             feature7[4], feature7[5], feature7[6], feature7[7],\n",
    "                             feature7[8], feature7[9], feature7[10], feature7[11],\n",
    "                             feature7[12], feature7[13], feature7[14], feature7[15],\n",
    "                             feature7[16], feature7[17], feature7[18], feature7[19],\n",
    "                             feature7[20], feature7[21], feature7[22], feature7[23],\n",
    "                             feature7[24], feature7[25], feature7[26], feature7[27],\n",
    "                             feature7[28], feature7[29], feature7[30], feature7[31],\n",
    "                             feature8, feature9, feature10, feature11, feature12, feature13,\n",
    "                             feature14, feature15))"
   ]
  },
  {
   "cell_type": "code",
   "execution_count": 170,
   "metadata": {
    "ExecuteTime": {
     "end_time": "2020-08-24T13:26:30.747239Z",
     "start_time": "2020-08-24T13:26:30.713762Z"
    }
   },
   "outputs": [],
   "source": [
    "X_no_rank = np.array(no_rank_features)\n",
    "X_no_rank = X_no_rank.reshape(len(num_users)*k, len(no_rank_features))\n",
    "X_train_no_rank = X_no_rank\n",
    "X_test_no_rank = X_no_rank\n",
    "X_val_no_rank = X_no_rank"
   ]
  },
  {
   "cell_type": "code",
   "execution_count": 171,
   "metadata": {
    "ExecuteTime": {
     "end_time": "2020-08-24T13:26:40.920085Z",
     "start_time": "2020-08-24T13:26:30.749359Z"
    },
    "scrolled": true
   },
   "outputs": [
    {
     "name": "stdout",
     "output_type": "stream",
     "text": [
      "[1]\tvalid_0's ndcg@1: 0.0311475\tvalid_0's ndcg@3: 0.0624688\tvalid_0's ndcg@5: 0.0752574\tvalid_0's ndcg@10: 0.0871847\n",
      "[2]\tvalid_0's ndcg@1: 0.0245902\tvalid_0's ndcg@3: 0.05571\tvalid_0's ndcg@5: 0.0663641\tvalid_0's ndcg@10: 0.0744533\n",
      "[3]\tvalid_0's ndcg@1: 0.0262295\tvalid_0's ndcg@3: 0.0561771\tvalid_0's ndcg@5: 0.0598983\tvalid_0's ndcg@10: 0.0728587\n",
      "[4]\tvalid_0's ndcg@1: 0.0278689\tvalid_0's ndcg@3: 0.0523948\tvalid_0's ndcg@5: 0.0581186\tvalid_0's ndcg@10: 0.0731884\n",
      "[5]\tvalid_0's ndcg@1: 0.0344262\tvalid_0's ndcg@3: 0.0516255\tvalid_0's ndcg@5: 0.0573531\tvalid_0's ndcg@10: 0.071656\n",
      "[6]\tvalid_0's ndcg@1: 0.0311475\tvalid_0's ndcg@3: 0.0495008\tvalid_0's ndcg@5: 0.0574475\tvalid_0's ndcg@10: 0.0708278\n",
      "[7]\tvalid_0's ndcg@1: 0.0311475\tvalid_0's ndcg@3: 0.0494825\tvalid_0's ndcg@5: 0.0561195\tvalid_0's ndcg@10: 0.0701686\n",
      "[8]\tvalid_0's ndcg@1: 0.0295082\tvalid_0's ndcg@3: 0.0446834\tvalid_0's ndcg@5: 0.0520789\tvalid_0's ndcg@10: 0.0680422\n",
      "[9]\tvalid_0's ndcg@1: 0.0295082\tvalid_0's ndcg@3: 0.0441981\tvalid_0's ndcg@5: 0.0523084\tvalid_0's ndcg@10: 0.0681802\n",
      "[10]\tvalid_0's ndcg@1: 0.0311475\tvalid_0's ndcg@3: 0.0447659\tvalid_0's ndcg@5: 0.0520654\tvalid_0's ndcg@10: 0.0685844\n",
      "[11]\tvalid_0's ndcg@1: 0.0311475\tvalid_0's ndcg@3: 0.043612\tvalid_0's ndcg@5: 0.0508499\tvalid_0's ndcg@10: 0.0683613\n",
      "[12]\tvalid_0's ndcg@1: 0.0278689\tvalid_0's ndcg@3: 0.0429434\tvalid_0's ndcg@5: 0.0525501\tvalid_0's ndcg@10: 0.0687009\n",
      "[13]\tvalid_0's ndcg@1: 0.0278689\tvalid_0's ndcg@3: 0.0414872\tvalid_0's ndcg@5: 0.0502803\tvalid_0's ndcg@10: 0.0667727\n",
      "[14]\tvalid_0's ndcg@1: 0.0278689\tvalid_0's ndcg@3: 0.0423573\tvalid_0's ndcg@5: 0.0515544\tvalid_0's ndcg@10: 0.0664018\n",
      "[15]\tvalid_0's ndcg@1: 0.0278689\tvalid_0's ndcg@3: 0.0420733\tvalid_0's ndcg@5: 0.0507521\tvalid_0's ndcg@10: 0.0681754\n",
      "[16]\tvalid_0's ndcg@1: 0.0278689\tvalid_0's ndcg@3: 0.043328\tvalid_0's ndcg@5: 0.0509405\tvalid_0's ndcg@10: 0.0657132\n",
      "[17]\tvalid_0's ndcg@1: 0.042623\tvalid_0's ndcg@3: 0.0470374\tvalid_0's ndcg@5: 0.0528155\tvalid_0's ndcg@10: 0.0682088\n",
      "[18]\tvalid_0's ndcg@1: 0.0393443\tvalid_0's ndcg@3: 0.0451141\tvalid_0's ndcg@5: 0.0522725\tvalid_0's ndcg@10: 0.0677168\n",
      "[19]\tvalid_0's ndcg@1: 0.0377049\tvalid_0's ndcg@3: 0.0432915\tvalid_0's ndcg@5: 0.0525474\tvalid_0's ndcg@10: 0.0657263\n",
      "[20]\tvalid_0's ndcg@1: 0.0344262\tvalid_0's ndcg@3: 0.0451506\tvalid_0's ndcg@5: 0.0500883\tvalid_0's ndcg@10: 0.0649305\n",
      "[21]\tvalid_0's ndcg@1: 0.0377049\tvalid_0's ndcg@3: 0.0449309\tvalid_0's ndcg@5: 0.0510537\tvalid_0's ndcg@10: 0.0648844\n",
      "[22]\tvalid_0's ndcg@1: 0.0393443\tvalid_0's ndcg@3: 0.0455995\tvalid_0's ndcg@5: 0.0513907\tvalid_0's ndcg@10: 0.0648874\n",
      "[23]\tvalid_0's ndcg@1: 0.0311475\tvalid_0's ndcg@3: 0.0449491\tvalid_0's ndcg@5: 0.0505989\tvalid_0's ndcg@10: 0.0648154\n",
      "[24]\tvalid_0's ndcg@1: 0.0327869\tvalid_0's ndcg@3: 0.045352\tvalid_0's ndcg@5: 0.0496483\tvalid_0's ndcg@10: 0.0650021\n",
      "[25]\tvalid_0's ndcg@1: 0.0377049\tvalid_0's ndcg@3: 0.046387\tvalid_0's ndcg@5: 0.0502879\tvalid_0's ndcg@10: 0.0656357\n",
      "[26]\tvalid_0's ndcg@1: 0.0393443\tvalid_0's ndcg@3: 0.0459016\tvalid_0's ndcg@5: 0.0509017\tvalid_0's ndcg@10: 0.0653173\n",
      "[27]\tvalid_0's ndcg@1: 0.0377049\tvalid_0's ndcg@3: 0.046387\tvalid_0's ndcg@5: 0.0511592\tvalid_0's ndcg@10: 0.0650228\n",
      "[28]\tvalid_0's ndcg@1: 0.0393443\tvalid_0's ndcg@3: 0.0462038\tvalid_0's ndcg@5: 0.0524636\tvalid_0's ndcg@10: 0.0660046\n",
      "[29]\tvalid_0's ndcg@1: 0.0393443\tvalid_0's ndcg@3: 0.0466892\tvalid_0's ndcg@5: 0.0512844\tvalid_0's ndcg@10: 0.0657042\n",
      "[30]\tvalid_0's ndcg@1: 0.0360656\tvalid_0's ndcg@3: 0.0464053\tvalid_0's ndcg@5: 0.0507666\tvalid_0's ndcg@10: 0.0656077\n",
      "[31]\tvalid_0's ndcg@1: 0.0344262\tvalid_0's ndcg@3: 0.0472753\tvalid_0's ndcg@5: 0.0520163\tvalid_0's ndcg@10: 0.0651163\n",
      "[32]\tvalid_0's ndcg@1: 0.0360656\tvalid_0's ndcg@3: 0.0470739\tvalid_0's ndcg@5: 0.0523496\tvalid_0's ndcg@10: 0.0640973\n",
      "[33]\tvalid_0's ndcg@1: 0.0377049\tvalid_0's ndcg@3: 0.0457184\tvalid_0's ndcg@5: 0.0512524\tvalid_0's ndcg@10: 0.0645068\n",
      "[34]\tvalid_0's ndcg@1: 0.0377049\tvalid_0's ndcg@3: 0.0465702\tvalid_0's ndcg@5: 0.0526553\tvalid_0's ndcg@10: 0.0648159\n",
      "[35]\tvalid_0's ndcg@1: 0.0360656\tvalid_0's ndcg@3: 0.0453155\tvalid_0's ndcg@5: 0.0523937\tvalid_0's ndcg@10: 0.0641622\n",
      "[36]\tvalid_0's ndcg@1: 0.0360656\tvalid_0's ndcg@3: 0.0454163\tvalid_0's ndcg@5: 0.0528967\tvalid_0's ndcg@10: 0.0645027\n",
      "[37]\tvalid_0's ndcg@1: 0.0327869\tvalid_0's ndcg@3: 0.0433098\tvalid_0's ndcg@5: 0.0513743\tvalid_0's ndcg@10: 0.0629152\n",
      "[38]\tvalid_0's ndcg@1: 0.0377049\tvalid_0's ndcg@3: 0.0446469\tvalid_0's ndcg@5: 0.0534649\tvalid_0's ndcg@10: 0.0645669\n",
      "[39]\tvalid_0's ndcg@1: 0.0377049\tvalid_0's ndcg@3: 0.0441616\tvalid_0's ndcg@5: 0.0533779\tvalid_0's ndcg@10: 0.0627957\n",
      "[40]\tvalid_0's ndcg@1: 0.0360656\tvalid_0's ndcg@3: 0.0449309\tvalid_0's ndcg@5: 0.0534105\tvalid_0's ndcg@10: 0.0626937\n",
      "[41]\tvalid_0's ndcg@1: 0.0327869\tvalid_0's ndcg@3: 0.0451323\tvalid_0's ndcg@5: 0.0507801\tvalid_0's ndcg@10: 0.0622083\n",
      "[42]\tvalid_0's ndcg@1: 0.0327869\tvalid_0's ndcg@3: 0.0447477\tvalid_0's ndcg@5: 0.0511473\tvalid_0's ndcg@10: 0.0621099\n",
      "[43]\tvalid_0's ndcg@1: 0.0295082\tvalid_0's ndcg@3: 0.0445645\tvalid_0's ndcg@5: 0.0494849\tvalid_0's ndcg@10: 0.061965\n",
      "[44]\tvalid_0's ndcg@1: 0.0278689\tvalid_0's ndcg@3: 0.0439966\tvalid_0's ndcg@5: 0.0506045\tvalid_0's ndcg@10: 0.0612898\n",
      "[45]\tvalid_0's ndcg@1: 0.0327869\tvalid_0's ndcg@3: 0.0440791\tvalid_0's ndcg@5: 0.0506885\tvalid_0's ndcg@10: 0.0618382\n",
      "[46]\tvalid_0's ndcg@1: 0.0344262\tvalid_0's ndcg@3: 0.0457184\tvalid_0's ndcg@5: 0.0496249\tvalid_0's ndcg@10: 0.0625954\n",
      "[47]\tvalid_0's ndcg@1: 0.0327869\tvalid_0's ndcg@3: 0.0450499\tvalid_0's ndcg@5: 0.0494056\tvalid_0's ndcg@10: 0.0613478\n",
      "[48]\tvalid_0's ndcg@1: 0.0327869\tvalid_0's ndcg@3: 0.0440973\tvalid_0's ndcg@5: 0.049848\tvalid_0's ndcg@10: 0.0623631\n",
      "[49]\tvalid_0's ndcg@1: 0.0311475\tvalid_0's ndcg@3: 0.044482\tvalid_0's ndcg@5: 0.0487623\tvalid_0's ndcg@10: 0.0620649\n",
      "[50]\tvalid_0's ndcg@1: 0.0311475\tvalid_0's ndcg@3: 0.0451506\tvalid_0's ndcg@5: 0.0485205\tvalid_0's ndcg@10: 0.0619339\n",
      "[51]\tvalid_0's ndcg@1: 0.0311475\tvalid_0's ndcg@3: 0.044482\tvalid_0's ndcg@5: 0.049401\tvalid_0's ndcg@10: 0.0616263\n",
      "[52]\tvalid_0's ndcg@1: 0.0327869\tvalid_0's ndcg@3: 0.045352\tvalid_0's ndcg@5: 0.0507238\tvalid_0's ndcg@10: 0.0625669\n",
      "[53]\tvalid_0's ndcg@1: 0.0311475\tvalid_0's ndcg@3: 0.0451506\tvalid_0's ndcg@5: 0.0514142\tvalid_0's ndcg@10: 0.061947\n",
      "[54]\tvalid_0's ndcg@1: 0.0360656\tvalid_0's ndcg@3: 0.0446469\tvalid_0's ndcg@5: 0.0508905\tvalid_0's ndcg@10: 0.0614287\n",
      "[55]\tvalid_0's ndcg@1: 0.0360656\tvalid_0's ndcg@3: 0.0449309\tvalid_0's ndcg@5: 0.0498051\tvalid_0's ndcg@10: 0.0621485\n",
      "[56]\tvalid_0's ndcg@1: 0.0360656\tvalid_0's ndcg@3: 0.0448302\tvalid_0's ndcg@5: 0.0503532\tvalid_0's ndcg@10: 0.0602856\n",
      "[57]\tvalid_0's ndcg@1: 0.0311475\tvalid_0's ndcg@3: 0.0427237\tvalid_0's ndcg@5: 0.0487066\tvalid_0's ndcg@10: 0.0610791\n",
      "[58]\tvalid_0's ndcg@1: 0.0327869\tvalid_0's ndcg@3: 0.0429069\tvalid_0's ndcg@5: 0.0491717\tvalid_0's ndcg@10: 0.0611508\n",
      "[59]\tvalid_0's ndcg@1: 0.0311475\tvalid_0's ndcg@3: 0.0430076\tvalid_0's ndcg@5: 0.0500116\tvalid_0's ndcg@10: 0.0606449\n",
      "[60]\tvalid_0's ndcg@1: 0.0311475\tvalid_0's ndcg@3: 0.0424397\tvalid_0's ndcg@5: 0.0501288\tvalid_0's ndcg@10: 0.0613283\n",
      "[61]\tvalid_0's ndcg@1: 0.0327869\tvalid_0's ndcg@3: 0.0442623\tvalid_0's ndcg@5: 0.0502487\tvalid_0's ndcg@10: 0.0618175\n",
      "[62]\tvalid_0's ndcg@1: 0.0327869\tvalid_0's ndcg@3: 0.0446469\tvalid_0's ndcg@5: 0.0502142\tvalid_0's ndcg@10: 0.0609494\n",
      "[63]\tvalid_0's ndcg@1: 0.0327869\tvalid_0's ndcg@3: 0.0436762\tvalid_0's ndcg@5: 0.0498805\tvalid_0's ndcg@10: 0.0612338\n",
      "[64]\tvalid_0's ndcg@1: 0.0344262\tvalid_0's ndcg@3: 0.0439601\tvalid_0's ndcg@5: 0.0492942\tvalid_0's ndcg@10: 0.0625971\n",
      "[65]\tvalid_0's ndcg@1: 0.0327869\tvalid_0's ndcg@3: 0.0440608\tvalid_0's ndcg@5: 0.0493427\tvalid_0's ndcg@10: 0.0624943\n",
      "[66]\tvalid_0's ndcg@1: 0.0295082\tvalid_0's ndcg@3: 0.0439784\tvalid_0's ndcg@5: 0.0484227\tvalid_0's ndcg@10: 0.0619798\n",
      "[67]\tvalid_0's ndcg@1: 0.0295082\tvalid_0's ndcg@3: 0.0438776\tvalid_0's ndcg@5: 0.0487557\tvalid_0's ndcg@10: 0.061499\n",
      "[68]\tvalid_0's ndcg@1: 0.0311475\tvalid_0's ndcg@3: 0.0438776\tvalid_0's ndcg@5: 0.0492346\tvalid_0's ndcg@10: 0.0614451\n",
      "[69]\tvalid_0's ndcg@1: 0.0295082\tvalid_0's ndcg@3: 0.044363\tvalid_0's ndcg@5: 0.0487251\tvalid_0's ndcg@10: 0.0608949\n",
      "[70]\tvalid_0's ndcg@1: 0.0295082\tvalid_0's ndcg@3: 0.0438776\tvalid_0's ndcg@5: 0.0490439\tvalid_0's ndcg@10: 0.0608002\n",
      "[71]\tvalid_0's ndcg@1: 0.0295082\tvalid_0's ndcg@3: 0.044363\tvalid_0's ndcg@5: 0.0491796\tvalid_0's ndcg@10: 0.0607127\n"
     ]
    },
    {
     "name": "stdout",
     "output_type": "stream",
     "text": [
      "[72]\tvalid_0's ndcg@1: 0.0295082\tvalid_0's ndcg@3: 0.0432091\tvalid_0's ndcg@5: 0.0498311\tvalid_0's ndcg@10: 0.0604774\n",
      "[73]\tvalid_0's ndcg@1: 0.0311475\tvalid_0's ndcg@3: 0.0427237\tvalid_0's ndcg@5: 0.0507952\tvalid_0's ndcg@10: 0.0601197\n",
      "[74]\tvalid_0's ndcg@1: 0.0311475\tvalid_0's ndcg@3: 0.042623\tvalid_0's ndcg@5: 0.0512013\tvalid_0's ndcg@10: 0.0606278\n",
      "[75]\tvalid_0's ndcg@1: 0.0311475\tvalid_0's ndcg@3: 0.0430076\tvalid_0's ndcg@5: 0.0502089\tvalid_0's ndcg@10: 0.0599322\n",
      "[76]\tvalid_0's ndcg@1: 0.0311475\tvalid_0's ndcg@3: 0.0425222\tvalid_0's ndcg@5: 0.0505521\tvalid_0's ndcg@10: 0.0594544\n",
      "[77]\tvalid_0's ndcg@1: 0.0327869\tvalid_0's ndcg@3: 0.0431908\tvalid_0's ndcg@5: 0.0497935\tvalid_0's ndcg@10: 0.0591908\n",
      "[78]\tvalid_0's ndcg@1: 0.0327869\tvalid_0's ndcg@3: 0.0424215\tvalid_0's ndcg@5: 0.0498341\tvalid_0's ndcg@10: 0.0591963\n",
      "[79]\tvalid_0's ndcg@1: 0.0327869\tvalid_0's ndcg@3: 0.0429069\tvalid_0's ndcg@5: 0.0501605\tvalid_0's ndcg@10: 0.0591768\n",
      "[80]\tvalid_0's ndcg@1: 0.0360656\tvalid_0's ndcg@3: 0.0439601\tvalid_0's ndcg@5: 0.050037\tvalid_0's ndcg@10: 0.0594136\n",
      "[81]\tvalid_0's ndcg@1: 0.0311475\tvalid_0's ndcg@3: 0.042623\tvalid_0's ndcg@5: 0.0504098\tvalid_0's ndcg@10: 0.0592992\n",
      "[82]\tvalid_0's ndcg@1: 0.0311475\tvalid_0's ndcg@3: 0.0430076\tvalid_0's ndcg@5: 0.0499695\tvalid_0's ndcg@10: 0.0591489\n",
      "[83]\tvalid_0's ndcg@1: 0.0327869\tvalid_0's ndcg@3: 0.0436762\tvalid_0's ndcg@5: 0.0498074\tvalid_0's ndcg@10: 0.0596433\n",
      "[84]\tvalid_0's ndcg@1: 0.0327869\tvalid_0's ndcg@3: 0.0432915\tvalid_0's ndcg@5: 0.0494563\tvalid_0's ndcg@10: 0.0598199\n",
      "[85]\tvalid_0's ndcg@1: 0.0327869\tvalid_0's ndcg@3: 0.0440608\tvalid_0's ndcg@5: 0.0512827\tvalid_0's ndcg@10: 0.0588429\n",
      "[86]\tvalid_0's ndcg@1: 0.0311475\tvalid_0's ndcg@3: 0.0438776\tvalid_0's ndcg@5: 0.0503588\tvalid_0's ndcg@10: 0.059529\n",
      "[87]\tvalid_0's ndcg@1: 0.0311475\tvalid_0's ndcg@3: 0.044363\tvalid_0's ndcg@5: 0.0503038\tvalid_0's ndcg@10: 0.0587334\n",
      "[88]\tvalid_0's ndcg@1: 0.0311475\tvalid_0's ndcg@3: 0.0437952\tvalid_0's ndcg@5: 0.0496539\tvalid_0's ndcg@10: 0.058837\n",
      "[89]\tvalid_0's ndcg@1: 0.0295082\tvalid_0's ndcg@3: 0.0447659\tvalid_0's ndcg@5: 0.0510008\tvalid_0's ndcg@10: 0.0588036\n",
      "[90]\tvalid_0's ndcg@1: 0.0311475\tvalid_0's ndcg@3: 0.0446652\tvalid_0's ndcg@5: 0.0503071\tvalid_0's ndcg@10: 0.0584204\n",
      "[91]\tvalid_0's ndcg@1: 0.0311475\tvalid_0's ndcg@3: 0.0453338\tvalid_0's ndcg@5: 0.0496174\tvalid_0's ndcg@10: 0.0589691\n",
      "[92]\tvalid_0's ndcg@1: 0.0311475\tvalid_0's ndcg@3: 0.0454345\tvalid_0's ndcg@5: 0.0497389\tvalid_0's ndcg@10: 0.0594169\n",
      "[93]\tvalid_0's ndcg@1: 0.0278689\tvalid_0's ndcg@3: 0.045352\tvalid_0's ndcg@5: 0.0495818\tvalid_0's ndcg@10: 0.0586665\n",
      "[94]\tvalid_0's ndcg@1: 0.0278689\tvalid_0's ndcg@3: 0.0443813\tvalid_0's ndcg@5: 0.0500044\tvalid_0's ndcg@10: 0.0587306\n",
      "[95]\tvalid_0's ndcg@1: 0.0262295\tvalid_0's ndcg@3: 0.0440973\tvalid_0's ndcg@5: 0.0495841\tvalid_0's ndcg@10: 0.0587733\n",
      "[96]\tvalid_0's ndcg@1: 0.0278689\tvalid_0's ndcg@3: 0.044482\tvalid_0's ndcg@5: 0.0496404\tvalid_0's ndcg@10: 0.0595128\n",
      "[97]\tvalid_0's ndcg@1: 0.0295082\tvalid_0's ndcg@3: 0.0437952\tvalid_0's ndcg@5: 0.0483568\tvalid_0's ndcg@10: 0.0593682\n",
      "[98]\tvalid_0's ndcg@1: 0.0295082\tvalid_0's ndcg@3: 0.0449491\tvalid_0's ndcg@5: 0.0484724\tvalid_0's ndcg@10: 0.0594297\n",
      "[99]\tvalid_0's ndcg@1: 0.0327869\tvalid_0's ndcg@3: 0.0446469\tvalid_0's ndcg@5: 0.0490723\tvalid_0's ndcg@10: 0.0588236\n",
      "[100]\tvalid_0's ndcg@1: 0.0344262\tvalid_0's ndcg@3: 0.0453155\tvalid_0's ndcg@5: 0.0482893\tvalid_0's ndcg@10: 0.0587994\n"
     ]
    },
    {
     "data": {
      "text/plain": [
       "LGBMRanker(importance_type='gain', min_child_samples=1, min_child_weight=100,\n",
       "           n_jobs=2)"
      ]
     },
     "execution_count": 171,
     "metadata": {},
     "output_type": "execute_result"
    }
   ],
   "source": [
    "gbm3 = lgb.LGBMRanker(min_child_samples=1, learning_rate=.1, n_jobs=2, importance_type='gain',\n",
    "                     num_leaves=31, min_child_weight=100)\n",
    "gbm3.fit(X_train_no_rank, y_train, group=group_train,\n",
    "        eval_set=[(X_val_no_rank, y_val)], eval_group=[group_val],\n",
    "        eval_at=[1, 3, 5, 10],eval_metric='ndcg')"
   ]
  },
  {
   "cell_type": "code",
   "execution_count": 172,
   "metadata": {
    "ExecuteTime": {
     "end_time": "2020-08-24T13:26:40.929546Z",
     "start_time": "2020-08-24T13:26:40.923127Z"
    }
   },
   "outputs": [],
   "source": [
    "#len(feature_names_no_rank)#"
   ]
  },
  {
   "cell_type": "code",
   "execution_count": 173,
   "metadata": {
    "ExecuteTime": {
     "end_time": "2020-08-24T13:26:41.845012Z",
     "start_time": "2020-08-24T13:26:40.933423Z"
    }
   },
   "outputs": [
    {
     "data": {
      "text/plain": [
       "Text(0.5, 1.0, 'Importance of Features')"
      ]
     },
     "execution_count": 173,
     "metadata": {},
     "output_type": "execute_result"
    },
    {
     "data": {
      "image/png": "[encoded data removed]",
      "text/plain": [
       "<Figure size 1000x400 with 1 Axes>"
      ]
     },
     "metadata": {
      "needs_background": "light"
     },
     "output_type": "display_data"
    }
   ],
   "source": [
    "feature_names_no_rank = ('implicit_score', 'svd_score', 'is_comedy', '#users_watched',\n",
    "                        'emedding1', 'emedding2', 'emedding3',\n",
    "                        'emedding4', 'emedding5', 'emedding6',\n",
    "                        'emedding7', 'emedding8', 'emedding9',\n",
    "                        'emedding10', 'emedding11', 'emedding12',\n",
    "                        'emedding13', 'emedding14', 'emedding15',\n",
    "                        'emedding16', 'emedding17', 'emedding18',\n",
    "                        'emedding19', 'emedding20', 'emedding21',\n",
    "                        'emedding22', 'emedding23', 'emedding24',\n",
    "                        'emedding25', 'emedding26', 'emedding27',\n",
    "                        'emedding28', 'emedding29', 'emedding30',\n",
    "                        'emedding31', 'emedding32',\n",
    "                        'is_adventure', 'is_drama', 'is_romance', 'is_fantasy', 'is_thriller',\n",
    "                        'is_animation', 'is_children', 'is_horror')\n",
    "\n",
    "figure(figsize=(10, 4), dpi=100)\n",
    "plt.bar(feature_names_no_rank, gbm3.feature_importances_)\n",
    "plt.xticks(rotation='vertical')\n",
    "plt.ylabel('Importance')\n",
    "plt.xlabel('Feature name')\n",
    "plt.title('Importance of Features')"
   ]
  },
  {
   "cell_type": "code",
   "execution_count": 174,
   "metadata": {
    "ExecuteTime": {
     "end_time": "2020-08-24T13:26:41.857426Z",
     "start_time": "2020-08-24T13:26:41.849123Z"
    }
   },
   "outputs": [
    {
     "data": {
      "text/plain": [
       "array([2842.39393256,  131.56816831,  103.27472371,   97.67209643,\n",
       "         55.27465868,   80.85358691,   39.00458831,   69.04575837,\n",
       "         78.05491132,   60.65203112,  155.92228776,   66.5403139 ,\n",
       "         72.5583545 ,   36.09971738,   40.84274432,   53.83344021,\n",
       "         58.97413859,   33.82782608,  381.06002361,  222.42826259,\n",
       "         39.21117598,   83.12411034,   59.18686807,   67.58745992,\n",
       "         68.32863718,   37.29111284,   40.03677885,   81.54149723,\n",
       "         42.21520099,  117.00836605,   87.1748302 ,   42.38363433,\n",
       "         62.56844288,  106.49760872,   45.55899769,   52.90326637,\n",
       "         42.67408314,   31.58000994,   28.33492023,   36.01396704,\n",
       "        129.14313658,   81.352843  ,   55.2045657 ,   81.55802846])"
      ]
     },
     "execution_count": 174,
     "metadata": {},
     "output_type": "execute_result"
    }
   ],
   "source": [
    "gbm3.feature_importances_"
   ]
  },
  {
   "cell_type": "code",
   "execution_count": 175,
   "metadata": {
    "ExecuteTime": {
     "end_time": "2020-08-24T13:26:43.099074Z",
     "start_time": "2020-08-24T13:26:41.860635Z"
    }
   },
   "outputs": [
    {
     "data": {
      "text/plain": [
       "SpearmanrResult(correlation=-0.0037465330364687068, pvalue=0.2570983529776087)"
      ]
     },
     "execution_count": 175,
     "metadata": {},
     "output_type": "execute_result"
    }
   ],
   "source": [
    "st.spearmanr(np.array(feature9).reshape(len(num_users)*k,), gbm3.predict(X_test_no_rank).reshape(len(num_users)*k,))"
   ]
  },
  {
   "cell_type": "code",
   "execution_count": 176,
   "metadata": {
    "ExecuteTime": {
     "end_time": "2020-08-24T13:26:43.179695Z",
     "start_time": "2020-08-24T13:26:43.102190Z"
    }
   },
   "outputs": [
    {
     "data": {
      "text/plain": [
       "SpearmanrResult(correlation=0.028227891173856677, pvalue=1.3395440863505104e-17)"
      ]
     },
     "execution_count": 176,
     "metadata": {},
     "output_type": "execute_result"
    }
   ],
   "source": [
    "st.spearmanr(np.array(feature1).reshape(len(num_users)*k,), np.array(feature14).reshape(len(num_users)*k,))"
   ]
  },
  {
   "cell_type": "code",
   "execution_count": 177,
   "metadata": {
    "ExecuteTime": {
     "end_time": "2020-08-24T13:26:44.334026Z",
     "start_time": "2020-08-24T13:26:43.183714Z"
    }
   },
   "outputs": [],
   "source": [
    "pred_no_rank = gbm3.predict(X_test_no_rank)"
   ]
  },
  {
   "cell_type": "markdown",
   "metadata": {},
   "source": [
    "# Draft"
   ]
  },
  {
   "cell_type": "markdown",
   "metadata": {
    "heading_collapsed": true
   },
   "source": [
    "## Excel-Like"
   ]
  },
  {
   "cell_type": "code",
   "execution_count": 178,
   "metadata": {
    "ExecuteTime": {
     "end_time": "2020-08-24T13:26:44.355715Z",
     "start_time": "2020-08-24T13:26:44.338991Z"
    },
    "hidden": true
   },
   "outputs": [],
   "source": [
    "excel1_df = pd.DataFrame({'movie_id': target_movies[0],'rank':feature2[0],'model1_score':feature1[0], 'model2_score':feature3[0],'is_comedy':feature4[0],\n",
    "                            '#users_watched':feature5[0], 'train_label':label_train[0], 'test_label':label_test[0],\n",
    "                            'label_val':label_val[0],'LGBM Score':lgbm_pred_per_user[0]})"
   ]
  },
  {
   "cell_type": "code",
   "execution_count": 179,
   "metadata": {
    "ExecuteTime": {
     "end_time": "2020-08-24T13:26:44.463635Z",
     "start_time": "2020-08-24T13:26:44.358782Z"
    },
    "hidden": true
   },
   "outputs": [
    {
     "data": {
      "text/html": [
       "<div>\n",
       "<style scoped>\n",
       "    .dataframe tbody tr th:only-of-type {\n",
       "        vertical-align: middle;\n",
       "    }\n",
       "\n",
       "    .dataframe tbody tr th {\n",
       "        vertical-align: top;\n",
       "    }\n",
       "\n",
       "    .dataframe thead th {\n",
       "        text-align: right;\n",
       "    }\n",
       "</style>\n",
       "<table border=\"1\" class=\"dataframe\">\n",
       "  <thead>\n",
       "    <tr style=\"text-align: right;\">\n",
       "      <th></th>\n",
       "      <th>movie_id</th>\n",
       "      <th>rank</th>\n",
       "      <th>model1_score</th>\n",
       "      <th>model2_score</th>\n",
       "      <th>is_comedy</th>\n",
       "      <th>#users_watched</th>\n",
       "      <th>train_label</th>\n",
       "      <th>test_label</th>\n",
       "      <th>label_val</th>\n",
       "      <th>LGBM Score</th>\n",
       "    </tr>\n",
       "  </thead>\n",
       "  <tbody>\n",
       "    <tr>\n",
       "      <th>0</th>\n",
       "      <td>1</td>\n",
       "      <td>16.0</td>\n",
       "      <td>12.930397</td>\n",
       "      <td>1.687722</td>\n",
       "      <td>1</td>\n",
       "      <td>215</td>\n",
       "      <td>1</td>\n",
       "      <td>0</td>\n",
       "      <td>0</td>\n",
       "      <td>0.048622</td>\n",
       "    </tr>\n",
       "    <tr>\n",
       "      <th>1</th>\n",
       "      <td>6</td>\n",
       "      <td>43.0</td>\n",
       "      <td>12.080826</td>\n",
       "      <td>0.945642</td>\n",
       "      <td>0</td>\n",
       "      <td>102</td>\n",
       "      <td>0</td>\n",
       "      <td>0</td>\n",
       "      <td>1</td>\n",
       "      <td>0.048622</td>\n",
       "    </tr>\n",
       "    <tr>\n",
       "      <th>2</th>\n",
       "      <td>47</td>\n",
       "      <td>17.0</td>\n",
       "      <td>12.920485</td>\n",
       "      <td>0.741415</td>\n",
       "      <td>0</td>\n",
       "      <td>203</td>\n",
       "      <td>0</td>\n",
       "      <td>0</td>\n",
       "      <td>0</td>\n",
       "      <td>0.048622</td>\n",
       "    </tr>\n",
       "    <tr>\n",
       "      <th>3</th>\n",
       "      <td>50</td>\n",
       "      <td>6.0</td>\n",
       "      <td>13.635176</td>\n",
       "      <td>0.871874</td>\n",
       "      <td>0</td>\n",
       "      <td>204</td>\n",
       "      <td>1</td>\n",
       "      <td>0</td>\n",
       "      <td>0</td>\n",
       "      <td>0.048622</td>\n",
       "    </tr>\n",
       "    <tr>\n",
       "      <th>4</th>\n",
       "      <td>110</td>\n",
       "      <td>1.0</td>\n",
       "      <td>14.060660</td>\n",
       "      <td>1.408157</td>\n",
       "      <td>0</td>\n",
       "      <td>237</td>\n",
       "      <td>0</td>\n",
       "      <td>1</td>\n",
       "      <td>0</td>\n",
       "      <td>0.026137</td>\n",
       "    </tr>\n",
       "    <tr>\n",
       "      <th>...</th>\n",
       "      <td>...</td>\n",
       "      <td>...</td>\n",
       "      <td>...</td>\n",
       "      <td>...</td>\n",
       "      <td>...</td>\n",
       "      <td>...</td>\n",
       "      <td>...</td>\n",
       "      <td>...</td>\n",
       "      <td>...</td>\n",
       "      <td>...</td>\n",
       "    </tr>\n",
       "    <tr>\n",
       "      <th>145</th>\n",
       "      <td>2387</td>\n",
       "      <td>145.0</td>\n",
       "      <td>2.797690</td>\n",
       "      <td>0.226162</td>\n",
       "      <td>1</td>\n",
       "      <td>16</td>\n",
       "      <td>0</td>\n",
       "      <td>0</td>\n",
       "      <td>0</td>\n",
       "      <td>-0.053789</td>\n",
       "    </tr>\n",
       "    <tr>\n",
       "      <th>146</th>\n",
       "      <td>1920</td>\n",
       "      <td>143.0</td>\n",
       "      <td>3.864496</td>\n",
       "      <td>0.433098</td>\n",
       "      <td>0</td>\n",
       "      <td>18</td>\n",
       "      <td>0</td>\n",
       "      <td>0</td>\n",
       "      <td>0</td>\n",
       "      <td>0.002981</td>\n",
       "    </tr>\n",
       "    <tr>\n",
       "      <th>147</th>\n",
       "      <td>2005</td>\n",
       "      <td>132.5</td>\n",
       "      <td>7.526427</td>\n",
       "      <td>0.559695</td>\n",
       "      <td>1</td>\n",
       "      <td>57</td>\n",
       "      <td>0</td>\n",
       "      <td>0</td>\n",
       "      <td>0</td>\n",
       "      <td>-0.053789</td>\n",
       "    </tr>\n",
       "    <tr>\n",
       "      <th>148</th>\n",
       "      <td>1617</td>\n",
       "      <td>84.5</td>\n",
       "      <td>11.234195</td>\n",
       "      <td>1.075539</td>\n",
       "      <td>0</td>\n",
       "      <td>97</td>\n",
       "      <td>0</td>\n",
       "      <td>0</td>\n",
       "      <td>0</td>\n",
       "      <td>-0.053789</td>\n",
       "    </tr>\n",
       "    <tr>\n",
       "      <th>149</th>\n",
       "      <td>2329</td>\n",
       "      <td>110.0</td>\n",
       "      <td>10.303408</td>\n",
       "      <td>0.379530</td>\n",
       "      <td>0</td>\n",
       "      <td>129</td>\n",
       "      <td>0</td>\n",
       "      <td>0</td>\n",
       "      <td>0</td>\n",
       "      <td>-0.053789</td>\n",
       "    </tr>\n",
       "  </tbody>\n",
       "</table>\n",
       "<p>150 rows × 10 columns</p>\n",
       "</div>"
      ],
      "text/plain": [
       "     movie_id   rank  model1_score  model2_score  is_comedy  #users_watched  \\\n",
       "0           1   16.0     12.930397      1.687722          1             215   \n",
       "1           6   43.0     12.080826      0.945642          0             102   \n",
       "2          47   17.0     12.920485      0.741415          0             203   \n",
       "3          50    6.0     13.635176      0.871874          0             204   \n",
       "4         110    1.0     14.060660      1.408157          0             237   \n",
       "..        ...    ...           ...           ...        ...             ...   \n",
       "145      2387  145.0      2.797690      0.226162          1              16   \n",
       "146      1920  143.0      3.864496      0.433098          0              18   \n",
       "147      2005  132.5      7.526427      0.559695          1              57   \n",
       "148      1617   84.5     11.234195      1.075539          0              97   \n",
       "149      2329  110.0     10.303408      0.379530          0             129   \n",
       "\n",
       "     train_label  test_label  label_val  LGBM Score  \n",
       "0              1           0          0    0.048622  \n",
       "1              0           0          1    0.048622  \n",
       "2              0           0          0    0.048622  \n",
       "3              1           0          0    0.048622  \n",
       "4              0           1          0    0.026137  \n",
       "..           ...         ...        ...         ...  \n",
       "145            0           0          0   -0.053789  \n",
       "146            0           0          0    0.002981  \n",
       "147            0           0          0   -0.053789  \n",
       "148            0           0          0   -0.053789  \n",
       "149            0           0          0   -0.053789  \n",
       "\n",
       "[150 rows x 10 columns]"
      ]
     },
     "execution_count": 179,
     "metadata": {},
     "output_type": "execute_result"
    }
   ],
   "source": [
    "excel1_df"
   ]
  },
  {
   "cell_type": "code",
   "execution_count": 180,
   "metadata": {
    "ExecuteTime": {
     "end_time": "2020-08-24T13:26:44.489046Z",
     "start_time": "2020-08-24T13:26:44.467619Z"
    },
    "hidden": true
   },
   "outputs": [
    {
     "data": {
      "text/html": [
       "<div>\n",
       "<style scoped>\n",
       "    .dataframe tbody tr th:only-of-type {\n",
       "        vertical-align: middle;\n",
       "    }\n",
       "\n",
       "    .dataframe tbody tr th {\n",
       "        vertical-align: top;\n",
       "    }\n",
       "\n",
       "    .dataframe thead th {\n",
       "        text-align: right;\n",
       "    }\n",
       "</style>\n",
       "<table border=\"1\" class=\"dataframe\">\n",
       "  <thead>\n",
       "    <tr style=\"text-align: right;\">\n",
       "      <th></th>\n",
       "      <th>movie_id</th>\n",
       "      <th>rank</th>\n",
       "      <th>model1_score</th>\n",
       "      <th>model2_score</th>\n",
       "      <th>is_comedy</th>\n",
       "      <th>#users_watched</th>\n",
       "      <th>train_label</th>\n",
       "      <th>test_label</th>\n",
       "      <th>label_val</th>\n",
       "      <th>LGBM Score</th>\n",
       "    </tr>\n",
       "  </thead>\n",
       "  <tbody>\n",
       "    <tr>\n",
       "      <th>0</th>\n",
       "      <td>1</td>\n",
       "      <td>16.0</td>\n",
       "      <td>12.930397</td>\n",
       "      <td>1.687722</td>\n",
       "      <td>1</td>\n",
       "      <td>215</td>\n",
       "      <td>1</td>\n",
       "      <td>0</td>\n",
       "      <td>0</td>\n",
       "      <td>0.048622</td>\n",
       "    </tr>\n",
       "    <tr>\n",
       "      <th>33</th>\n",
       "      <td>1214</td>\n",
       "      <td>73.0</td>\n",
       "      <td>11.361501</td>\n",
       "      <td>1.223359</td>\n",
       "      <td>0</td>\n",
       "      <td>146</td>\n",
       "      <td>0</td>\n",
       "      <td>1</td>\n",
       "      <td>0</td>\n",
       "      <td>0.048622</td>\n",
       "    </tr>\n",
       "    <tr>\n",
       "      <th>24</th>\n",
       "      <td>648</td>\n",
       "      <td>80.0</td>\n",
       "      <td>11.336709</td>\n",
       "      <td>1.185335</td>\n",
       "      <td>0</td>\n",
       "      <td>162</td>\n",
       "      <td>0</td>\n",
       "      <td>0</td>\n",
       "      <td>0</td>\n",
       "      <td>0.048622</td>\n",
       "    </tr>\n",
       "    <tr>\n",
       "      <th>25</th>\n",
       "      <td>733</td>\n",
       "      <td>69.5</td>\n",
       "      <td>11.412301</td>\n",
       "      <td>0.894807</td>\n",
       "      <td>0</td>\n",
       "      <td>121</td>\n",
       "      <td>0</td>\n",
       "      <td>0</td>\n",
       "      <td>0</td>\n",
       "      <td>0.048622</td>\n",
       "    </tr>\n",
       "    <tr>\n",
       "      <th>27</th>\n",
       "      <td>780</td>\n",
       "      <td>67.5</td>\n",
       "      <td>11.443278</td>\n",
       "      <td>1.348182</td>\n",
       "      <td>0</td>\n",
       "      <td>202</td>\n",
       "      <td>0</td>\n",
       "      <td>0</td>\n",
       "      <td>0</td>\n",
       "      <td>0.048622</td>\n",
       "    </tr>\n",
       "    <tr>\n",
       "      <th>28</th>\n",
       "      <td>1073</td>\n",
       "      <td>65.0</td>\n",
       "      <td>11.477365</td>\n",
       "      <td>1.267667</td>\n",
       "      <td>1</td>\n",
       "      <td>119</td>\n",
       "      <td>0</td>\n",
       "      <td>0</td>\n",
       "      <td>0</td>\n",
       "      <td>0.048622</td>\n",
       "    </tr>\n",
       "    <tr>\n",
       "      <th>29</th>\n",
       "      <td>1196</td>\n",
       "      <td>66.0</td>\n",
       "      <td>11.455667</td>\n",
       "      <td>1.362848</td>\n",
       "      <td>0</td>\n",
       "      <td>211</td>\n",
       "      <td>0</td>\n",
       "      <td>1</td>\n",
       "      <td>0</td>\n",
       "      <td>0.048622</td>\n",
       "    </tr>\n",
       "    <tr>\n",
       "      <th>30</th>\n",
       "      <td>1198</td>\n",
       "      <td>57.0</td>\n",
       "      <td>11.649925</td>\n",
       "      <td>1.273329</td>\n",
       "      <td>0</td>\n",
       "      <td>200</td>\n",
       "      <td>0</td>\n",
       "      <td>0</td>\n",
       "      <td>1</td>\n",
       "      <td>0.048622</td>\n",
       "    </tr>\n",
       "    <tr>\n",
       "      <th>31</th>\n",
       "      <td>1210</td>\n",
       "      <td>55.0</td>\n",
       "      <td>11.713925</td>\n",
       "      <td>1.265358</td>\n",
       "      <td>0</td>\n",
       "      <td>196</td>\n",
       "      <td>0</td>\n",
       "      <td>0</td>\n",
       "      <td>0</td>\n",
       "      <td>0.048622</td>\n",
       "    </tr>\n",
       "    <tr>\n",
       "      <th>32</th>\n",
       "      <td>1213</td>\n",
       "      <td>99.0</td>\n",
       "      <td>10.982478</td>\n",
       "      <td>1.116733</td>\n",
       "      <td>0</td>\n",
       "      <td>126</td>\n",
       "      <td>1</td>\n",
       "      <td>0</td>\n",
       "      <td>0</td>\n",
       "      <td>0.048622</td>\n",
       "    </tr>\n",
       "  </tbody>\n",
       "</table>\n",
       "</div>"
      ],
      "text/plain": [
       "    movie_id  rank  model1_score  model2_score  is_comedy  #users_watched  \\\n",
       "0          1  16.0     12.930397      1.687722          1             215   \n",
       "33      1214  73.0     11.361501      1.223359          0             146   \n",
       "24       648  80.0     11.336709      1.185335          0             162   \n",
       "25       733  69.5     11.412301      0.894807          0             121   \n",
       "27       780  67.5     11.443278      1.348182          0             202   \n",
       "28      1073  65.0     11.477365      1.267667          1             119   \n",
       "29      1196  66.0     11.455667      1.362848          0             211   \n",
       "30      1198  57.0     11.649925      1.273329          0             200   \n",
       "31      1210  55.0     11.713925      1.265358          0             196   \n",
       "32      1213  99.0     10.982478      1.116733          0             126   \n",
       "\n",
       "    train_label  test_label  label_val  LGBM Score  \n",
       "0             1           0          0    0.048622  \n",
       "33            0           1          0    0.048622  \n",
       "24            0           0          0    0.048622  \n",
       "25            0           0          0    0.048622  \n",
       "27            0           0          0    0.048622  \n",
       "28            0           0          0    0.048622  \n",
       "29            0           1          0    0.048622  \n",
       "30            0           0          1    0.048622  \n",
       "31            0           0          0    0.048622  \n",
       "32            1           0          0    0.048622  "
      ]
     },
     "execution_count": 180,
     "metadata": {},
     "output_type": "execute_result"
    }
   ],
   "source": [
    "excel1_df = excel1_df.sort_values('LGBM Score',ascending = False)\n",
    "excel1_df.head(10)"
   ]
  },
  {
   "cell_type": "code",
   "execution_count": 181,
   "metadata": {
    "ExecuteTime": {
     "end_time": "2020-08-24T13:26:44.498914Z",
     "start_time": "2020-08-24T13:26:44.491041Z"
    },
    "hidden": true
   },
   "outputs": [],
   "source": [
    "relevance_lgbm_firstUser = excel1_df['test_label'].values.tolist()"
   ]
  },
  {
   "cell_type": "code",
   "execution_count": 182,
   "metadata": {
    "ExecuteTime": {
     "end_time": "2020-08-24T13:26:44.513968Z",
     "start_time": "2020-08-24T13:26:44.500876Z"
    },
    "hidden": true
   },
   "outputs": [
    {
     "data": {
      "text/plain": [
       "0.5477691229553578"
      ]
     },
     "execution_count": 182,
     "metadata": {},
     "output_type": "execute_result"
    }
   ],
   "source": [
    "L1GBM_ndcg = NDCG_forUser(relevance_lgbm_firstUser)\n",
    "L1GBM_ndcg"
   ]
  },
  {
   "cell_type": "code",
   "execution_count": 183,
   "metadata": {
    "ExecuteTime": {
     "end_time": "2020-08-24T13:26:44.719293Z",
     "start_time": "2020-08-24T13:26:44.516963Z"
    },
    "hidden": true
   },
   "outputs": [
    {
     "ename": "NameError",
     "evalue": "name 'predicted_rank_svd' is not defined",
     "output_type": "error",
     "traceback": [
      "\u001b[1;31m---------------------------------------------------------------------------\u001b[0m",
      "\u001b[1;31mNameError\u001b[0m                                 Traceback (most recent call last)",
      "\u001b[1;32m<ipython-input-183-0219f8b9051f>\u001b[0m in \u001b[0;36m<module>\u001b[1;34m\u001b[0m\n\u001b[0;32m      1\u001b[0m \u001b[1;32mfrom\u001b[0m \u001b[0msklearn\u001b[0m\u001b[1;33m.\u001b[0m\u001b[0mmetrics\u001b[0m \u001b[1;32mimport\u001b[0m \u001b[0mdcg_score\u001b[0m\u001b[1;33m\u001b[0m\u001b[1;33m\u001b[0m\u001b[0m\n\u001b[0;32m      2\u001b[0m \u001b[0mtrue\u001b[0m \u001b[1;33m=\u001b[0m \u001b[0mnp\u001b[0m\u001b[1;33m.\u001b[0m\u001b[0masarray\u001b[0m\u001b[1;33m(\u001b[0m\u001b[1;33m[\u001b[0m\u001b[0mactual\u001b[0m\u001b[1;33m]\u001b[0m\u001b[1;33m)\u001b[0m\u001b[1;33m\u001b[0m\u001b[1;33m\u001b[0m\u001b[0m\n\u001b[1;32m----> 3\u001b[1;33m \u001b[0mpred\u001b[0m \u001b[1;33m=\u001b[0m \u001b[0mnp\u001b[0m\u001b[1;33m.\u001b[0m\u001b[0masarray\u001b[0m\u001b[1;33m(\u001b[0m\u001b[1;33m[\u001b[0m\u001b[0mpredicted_rank_svd\u001b[0m\u001b[1;33m]\u001b[0m\u001b[1;33m)\u001b[0m\u001b[1;33m\u001b[0m\u001b[1;33m\u001b[0m\u001b[0m\n\u001b[0m\u001b[0;32m      4\u001b[0m \u001b[0mdcg\u001b[0m \u001b[1;33m=\u001b[0m \u001b[0mdcg_score\u001b[0m\u001b[1;33m(\u001b[0m\u001b[0mtrue\u001b[0m\u001b[1;33m,\u001b[0m\u001b[0mpred\u001b[0m\u001b[1;33m)\u001b[0m\u001b[1;33m\u001b[0m\u001b[1;33m\u001b[0m\u001b[0m\n\u001b[0;32m      5\u001b[0m \u001b[0midcg\u001b[0m \u001b[1;33m=\u001b[0m \u001b[0mdcg_score\u001b[0m\u001b[1;33m(\u001b[0m\u001b[0mtrue\u001b[0m\u001b[1;33m,\u001b[0m\u001b[0mtrue\u001b[0m\u001b[1;33m)\u001b[0m\u001b[1;33m\u001b[0m\u001b[1;33m\u001b[0m\u001b[0m\n",
      "\u001b[1;31mNameError\u001b[0m: name 'predicted_rank_svd' is not defined"
     ]
    }
   ],
   "source": [
    "from sklearn.metrics import dcg_score\n",
    "true = np.asarray([actual])\n",
    "pred = np.asarray([predicted_rank_svd])\n",
    "dcg = dcg_score(true,pred)\n",
    "idcg = dcg_score(true,true)\n",
    "ndcg = dcg/idcg"
   ]
  },
  {
   "cell_type": "code",
   "execution_count": null,
   "metadata": {
    "ExecuteTime": {
     "end_time": "2020-08-24T13:26:44.723128Z",
     "start_time": "2020-08-24T12:53:21.785Z"
    },
    "hidden": true
   },
   "outputs": [],
   "source": [
    "ndcg"
   ]
  },
  {
   "cell_type": "code",
   "execution_count": null,
   "metadata": {
    "ExecuteTime": {
     "end_time": "2020-08-24T13:26:44.725122Z",
     "start_time": "2020-08-24T12:53:21.794Z"
    },
    "hidden": true
   },
   "outputs": [],
   "source": [
    "from sklearn.metrics import ndcg_score\n",
    "n = ndcg_score(true,pred)\n",
    "n"
   ]
  },
  {
   "cell_type": "code",
   "execution_count": null,
   "metadata": {
    "ExecuteTime": {
     "end_time": "2020-08-24T13:26:44.726888Z",
     "start_time": "2020-08-24T12:53:21.804Z"
    },
    "hidden": true
   },
   "outputs": [],
   "source": [
    "'''relevance = []\n",
    "for i in range(20,40):\n",
    "    if predicted_rank_svd[i] in actual:\n",
    "        relevance.append(1)\n",
    "    else:\n",
    "        relevance.append(0)'''"
   ]
  },
  {
   "cell_type": "code",
   "execution_count": null,
   "metadata": {
    "ExecuteTime": {
     "end_time": "2020-08-24T13:26:44.728176Z",
     "start_time": "2020-08-24T12:53:21.813Z"
    },
    "hidden": true
   },
   "outputs": [],
   "source": [
    "svd_rank_allUsers = []\n",
    "for i in range(1,len(num_users)+1):\n",
    "    already_rated, predictions = recommend_movies(svd_predictions_score_df, i, movies_df, ratings_df, 100)\n",
    "    svd_rank_allUsers.append(predictions['movieId'].index.tolist()) \n"
   ]
  },
  {
   "cell_type": "code",
   "execution_count": null,
   "metadata": {
    "ExecuteTime": {
     "end_time": "2020-08-24T13:26:44.729215Z",
     "start_time": "2020-08-24T12:53:21.821Z"
    },
    "hidden": true
   },
   "outputs": [],
   "source": [
    "'''def NDCG_forUser_SVD(user):\n",
    "    return dcg(svd_predictions[svd_predictions_df.index == user]) / ideal_dcg(svd_predictions[svd_predictions_df.index == user])'''"
   ]
  },
  {
   "cell_type": "code",
   "execution_count": null,
   "metadata": {
    "ExecuteTime": {
     "end_time": "2020-08-24T13:26:44.731590Z",
     "start_time": "2020-08-24T12:53:21.830Z"
    },
    "hidden": true
   },
   "outputs": [],
   "source": [
    "'''NDCG_SVD = NDCG_forUser_SVD(2)'''"
   ]
  },
  {
   "cell_type": "code",
   "execution_count": null,
   "metadata": {
    "ExecuteTime": {
     "end_time": "2020-08-24T13:26:44.733000Z",
     "start_time": "2020-08-24T12:53:21.840Z"
    },
    "hidden": true
   },
   "outputs": [],
   "source": [
    "'''NDCG_SVD'''"
   ]
  },
  {
   "cell_type": "markdown",
   "metadata": {
    "hidden": true
   },
   "source": [
    "Take as features the predicted ratings for the users of SVD and Implicit for the next step?"
   ]
  },
  {
   "cell_type": "markdown",
   "metadata": {},
   "source": [
    "## KNN"
   ]
  },
  {
   "cell_type": "markdown",
   "metadata": {},
   "source": [
    "Pivot is used to have a matrix that has as rows the userIDs and as columns the movieIDs. The unrated, by a user, movies are assigned the value 0 instead of null. Pivot organizes a DataFrame by giving index and column values. It is helpful in the recommender systems approach."
   ]
  },
  {
   "cell_type": "code",
   "execution_count": null,
   "metadata": {
    "ExecuteTime": {
     "end_time": "2020-08-24T13:26:44.735994Z",
     "start_time": "2020-08-24T12:53:21.857Z"
    }
   },
   "outputs": [],
   "source": [
    "df_movie_features = ratings_df.pivot(\n",
    "    index='userId',\n",
    "    columns='movieId',\n",
    "    values='rating'\n",
    ").fillna(0)"
   ]
  },
  {
   "cell_type": "code",
   "execution_count": null,
   "metadata": {
    "ExecuteTime": {
     "end_time": "2020-08-24T13:26:44.737593Z",
     "start_time": "2020-08-24T12:53:21.866Z"
    }
   },
   "outputs": [],
   "source": [
    "df_movie_features"
   ]
  },
  {
   "cell_type": "code",
   "execution_count": null,
   "metadata": {
    "ExecuteTime": {
     "end_time": "2020-08-24T13:26:44.739628Z",
     "start_time": "2020-08-24T12:53:21.875Z"
    }
   },
   "outputs": [],
   "source": [
    "height = [len(df_movie_features.values[df_movie_features.values== 0]),len(df_movie_features.values[df_movie_features.values==0.5]),\n",
    "          len(df_movie_features.values[df_movie_features.values== 1]),len(df_movie_features.values[df_movie_features.values==1.5]),\n",
    "          len(df_movie_features.values[df_movie_features.values== 2]),len(df_movie_features.values[df_movie_features.values==2.5]),\n",
    "          len(df_movie_features.values[df_movie_features.values== 3]),len(df_movie_features.values[df_movie_features.values==3.5]),\n",
    "          len(df_movie_features.values[df_movie_features.values== 4]),len(df_movie_features.values[df_movie_features.values==4.5]),\n",
    "          len(df_movie_features.values[df_movie_features.values== 5])]\n",
    "x = ('0','0.5', '1','1.5' ,'2','2.5', '3','3.5', '4','4.5','5')\n",
    "plt.bar(x, height)\n",
    "plt.xlabel('Rating')\n",
    "plt.ylabel('Number of users')\n",
    "plt.show()\n"
   ]
  },
  {
   "cell_type": "markdown",
   "metadata": {},
   "source": [
    "A lot of ratings in the user-movie matrix are zero, so the data are extremely sparse."
   ]
  },
  {
   "cell_type": "markdown",
   "metadata": {},
   "source": [
    "To makes sesne the idea of obtaining the taste of the users, they should have rated at least 20 movies. Otherwise, the taste of them is not clear. The users that have rated less than 20 movies will be excluded. Also the movies that have less than 20 ratings will be excluded too."
   ]
  },
  {
   "cell_type": "code",
   "execution_count": null,
   "metadata": {
    "ExecuteTime": {
     "end_time": "2020-08-24T13:26:44.741618Z",
     "start_time": "2020-08-24T12:53:21.889Z"
    }
   },
   "outputs": [],
   "source": [
    "popularity_thres = 20\n",
    "popular_movies = list(set(df_movies_cnt.query('count >= @popularity_thres').index))\n",
    "df_ratings_drop_movies = df_ratings[df_ratings.movieId.isin(popular_movies)]\n",
    "print('shape of original ratings data: ', df_ratings.shape)\n",
    "print('shape of ratings data after dropping unpopular movies: ', df_ratings_drop_movies.shape)\n",
    "# filter data to come to an approximation of user likings.\n",
    "ratings_thres = 20\n",
    "active_users = list(set(df_users_cnt.query('count >= @ratings_thres').index))\n",
    "df_ratings_drop_users = df_ratings_drop_movies[df_ratings_drop_movies.userId.isin(active_users)]\n",
    "print('shape of original ratings data: ', df_ratings.shape)\n",
    "print('shape of ratings data after dropping both unpopular movies and inactive users: ', df_ratings_drop_users.shape)"
   ]
  },
  {
   "cell_type": "code",
   "execution_count": null,
   "metadata": {
    "ExecuteTime": {
     "end_time": "2020-08-24T13:26:44.744240Z",
     "start_time": "2020-08-24T12:53:21.900Z"
    }
   },
   "outputs": [],
   "source": [
    "with pd.option_context('display.max_rows', None, 'display.max_columns', None):  # more options can be specified also\n",
    "    print(ratings_df)"
   ]
  },
  {
   "cell_type": "code",
   "execution_count": null,
   "metadata": {
    "ExecuteTime": {
     "end_time": "2020-08-24T13:26:44.745387Z",
     "start_time": "2020-08-24T12:53:21.909Z"
    }
   },
   "outputs": [],
   "source": [
    "ratings_df[24400:24450]"
   ]
  },
  {
   "cell_type": "code",
   "execution_count": null,
   "metadata": {
    "ExecuteTime": {
     "end_time": "2020-08-24T13:26:44.747766Z",
     "start_time": "2020-08-24T12:53:21.918Z"
    }
   },
   "outputs": [],
   "source": [
    "excel_df"
   ]
  },
  {
   "cell_type": "code",
   "execution_count": null,
   "metadata": {},
   "outputs": [],
   "source": []
  },
  {
   "cell_type": "markdown",
   "metadata": {},
   "source": [
    "## Implicit Sequence model"
   ]
  },
  {
   "cell_type": "code",
   "execution_count": null,
   "metadata": {
    "ExecuteTime": {
     "end_time": "2020-08-24T13:26:44.750029Z",
     "start_time": "2020-08-24T12:53:21.935Z"
    }
   },
   "outputs": [],
   "source": [
    "from spotlight.sequence.implicit import ImplicitSequenceModel\n",
    "from spotlight.evaluation import sequence_mrr_score\n",
    "from spotlight.sequence.implicit import ImplicitSequenceModel"
   ]
  },
  {
   "cell_type": "markdown",
   "metadata": {},
   "source": [
    "### Train Implicit Sequence model"
   ]
  },
  {
   "cell_type": "code",
   "execution_count": null,
   "metadata": {
    "ExecuteTime": {
     "end_time": "2020-08-24T13:26:44.751799Z",
     "start_time": "2020-08-24T12:53:21.946Z"
    }
   },
   "outputs": [],
   "source": [
    "'''sequence_model  = ImplicitSequenceModel(n_iter = 5)\n",
    "\n",
    "current = time.time()\n",
    "sequence_model.fit(interactions = implicit_train.to_sequence(),verbose = True)\n",
    "\n",
    "end = time.time()\n",
    "diff = end - current\n",
    "print('Training took %d second'%(diff))'''"
   ]
  },
  {
   "cell_type": "code",
   "execution_count": null,
   "metadata": {
    "ExecuteTime": {
     "end_time": "2020-08-24T13:26:44.753673Z",
     "start_time": "2020-08-24T12:53:21.955Z"
    }
   },
   "outputs": [],
   "source": [
    "#sequence_model.predict(sequences = 9724)"
   ]
  },
  {
   "cell_type": "markdown",
   "metadata": {},
   "source": [
    "### MRR Score"
   ]
  },
  {
   "cell_type": "code",
   "execution_count": null,
   "metadata": {
    "ExecuteTime": {
     "end_time": "2020-08-24T13:26:44.756060Z",
     "start_time": "2020-08-24T12:53:21.965Z"
    }
   },
   "outputs": [],
   "source": [
    "#print(sequence_mrr_score(sequence_model, implicit_test.to_sequence()).mean())"
   ]
  },
  {
   "cell_type": "markdown",
   "metadata": {},
   "source": [
    "### Top-K predictions for a user"
   ]
  },
  {
   "cell_type": "code",
   "execution_count": null,
   "metadata": {
    "ExecuteTime": {
     "end_time": "2020-08-24T13:26:44.758578Z",
     "start_time": "2020-08-24T12:53:21.977Z"
    }
   },
   "outputs": [],
   "source": [
    "#allUsers_topK_sequence = allUsers_topK_implicit(sequence_model)"
   ]
  },
  {
   "cell_type": "markdown",
   "metadata": {},
   "source": [
    "### NDCG Score"
   ]
  },
  {
   "cell_type": "code",
   "execution_count": null,
   "metadata": {
    "ExecuteTime": {
     "end_time": "2020-08-24T13:26:44.760157Z",
     "start_time": "2020-08-24T12:53:21.989Z"
    }
   },
   "outputs": [],
   "source": [
    "#relevance_sequence_full = relevance_spotlight_implicit(allUsers_topK_sequence)"
   ]
  },
  {
   "cell_type": "code",
   "execution_count": null,
   "metadata": {
    "ExecuteTime": {
     "end_time": "2020-08-24T13:26:44.762579Z",
     "start_time": "2020-08-24T12:53:21.998Z"
    }
   },
   "outputs": [],
   "source": [
    "#allUsers_sequence_ndcg = allUsers_ndcg(relevance_sequence_full)"
   ]
  },
  {
   "cell_type": "code",
   "execution_count": null,
   "metadata": {
    "ExecuteTime": {
     "end_time": "2020-08-24T13:26:44.765122Z",
     "start_time": "2020-08-24T12:53:22.007Z"
    }
   },
   "outputs": [],
   "source": [
    "#allUsers_sequence_ndcg = pd.Series(allUsers_sequence_ndcg).fillna(0).tolist()"
   ]
  },
  {
   "cell_type": "markdown",
   "metadata": {},
   "source": [
    "### MAP"
   ]
  },
  {
   "cell_type": "code",
   "execution_count": null,
   "metadata": {
    "ExecuteTime": {
     "end_time": "2020-08-24T13:26:44.767120Z",
     "start_time": "2020-08-24T12:53:22.018Z"
    }
   },
   "outputs": [],
   "source": [
    "'''ran = [1,0,1,1,0]\n",
    "ran = r2\n",
    "count_positive = 0\n",
    "positives = []\n",
    "ap_perUser = []\n",
    "count = 0\n",
    "for r in ran:\n",
    "    #for i in range(len(relevance[0])):\n",
    "    count += 1\n",
    "    if r == 1:\n",
    "        count_positive += 1\n",
    "        positives.append(count_positive/count)\n",
    "ap_perUser.append(np.array(positives).sum()/count_positive)\n",
    "count_positive = 0\n",
    "positives = []'''"
   ]
  },
  {
   "cell_type": "code",
   "execution_count": null,
   "metadata": {
    "ExecuteTime": {
     "end_time": "2020-08-24T13:26:44.770743Z",
     "start_time": "2020-08-24T12:53:22.027Z"
    }
   },
   "outputs": [],
   "source": [
    "#ap_perUser"
   ]
  },
  {
   "cell_type": "code",
   "execution_count": null,
   "metadata": {
    "ExecuteTime": {
     "end_time": "2020-08-24T13:26:44.772744Z",
     "start_time": "2020-08-24T12:53:22.036Z"
    }
   },
   "outputs": [],
   "source": [
    "r_f = []\n",
    "r_f.append([1,0,1,1,0])\n",
    "r_f.append([0,0,0,1,1])"
   ]
  },
  {
   "cell_type": "code",
   "execution_count": null,
   "metadata": {
    "ExecuteTime": {
     "end_time": "2020-08-24T13:26:44.776553Z",
     "start_time": "2020-08-24T12:53:22.046Z"
    }
   },
   "outputs": [],
   "source": [
    "r_f"
   ]
  },
  {
   "cell_type": "code",
   "execution_count": null,
   "metadata": {
    "ExecuteTime": {
     "end_time": "2020-08-24T13:26:44.779046Z",
     "start_time": "2020-08-24T12:53:22.055Z"
    }
   },
   "outputs": [],
   "source": [
    "rap = calculate_averagePrecision(r_f)"
   ]
  },
  {
   "cell_type": "code",
   "execution_count": null,
   "metadata": {
    "ExecuteTime": {
     "end_time": "2020-08-24T13:26:44.781665Z",
     "start_time": "2020-08-24T12:53:22.063Z"
    }
   },
   "outputs": [],
   "source": [
    "rap"
   ]
  },
  {
   "cell_type": "code",
   "execution_count": null,
   "metadata": {
    "ExecuteTime": {
     "end_time": "2020-08-24T13:26:44.783771Z",
     "start_time": "2020-08-24T12:53:22.072Z"
    }
   },
   "outputs": [],
   "source": [
    "rmap = calculate_MAP(rap)\n",
    "rmap"
   ]
  },
  {
   "cell_type": "markdown",
   "metadata": {},
   "source": [
    "### MRR"
   ]
  },
  {
   "cell_type": "code",
   "execution_count": null,
   "metadata": {
    "ExecuteTime": {
     "end_time": "2020-08-24T13:26:44.786797Z",
     "start_time": "2020-08-24T12:53:22.084Z"
    }
   },
   "outputs": [],
   "source": [
    "len(af)"
   ]
  },
  {
   "cell_type": "code",
   "execution_count": null,
   "metadata": {
    "ExecuteTime": {
     "end_time": "2020-08-24T13:26:44.788432Z",
     "start_time": "2020-08-24T12:53:22.094Z"
    }
   },
   "outputs": [],
   "source": [
    "afrr = RR_forUsers(af)\n",
    "mrr_af = calculate_mrr(afrr)"
   ]
  },
  {
   "cell_type": "code",
   "execution_count": null,
   "metadata": {
    "ExecuteTime": {
     "end_time": "2020-08-24T13:26:44.790811Z",
     "start_time": "2020-08-24T12:53:22.102Z"
    }
   },
   "outputs": [],
   "source": [
    "mrr_af"
   ]
  },
  {
   "cell_type": "markdown",
   "metadata": {},
   "source": [
    "### Built-in MRR score"
   ]
  },
  {
   "cell_type": "code",
   "execution_count": null,
   "metadata": {
    "ExecuteTime": {
     "end_time": "2020-08-24T13:26:44.793605Z",
     "start_time": "2020-08-24T12:53:22.112Z"
    }
   },
   "outputs": [],
   "source": [
    "from spotlight.evaluation import mrr_score\n",
    "print(mrr_score(implicit_model, implicit_test, train=implicit_train, k=100).mean())"
   ]
  },
  {
   "cell_type": "markdown",
   "metadata": {},
   "source": [
    "### Second NDCG Score"
   ]
  },
  {
   "cell_type": "markdown",
   "metadata": {},
   "source": [
    "Code used from https://github.com/nikitaa30/Recommender-Systems/blob/master/matrix_factorisation_svd.py\n",
    "\n",
    "Provide top-K predictions for a user"
   ]
  },
  {
   "cell_type": "code",
   "execution_count": null,
   "metadata": {
    "ExecuteTime": {
     "end_time": "2020-08-24T13:26:44.796115Z",
     "start_time": "2020-08-24T12:53:22.126Z"
    }
   },
   "outputs": [],
   "source": [
    "'''def recommend_movies(preds_df, userID, movies_df, original_ratings_df, num_recommendations):\n",
    "    # Get and sort the user's predictions\n",
    "    user_row_number = userID - 1 # UserID starts at 1, not 0\n",
    "    sorted_user_predictions = preds_df.iloc[user_row_number].sort_values(ascending=False) # UserID starts at 1\n",
    "    \n",
    "    # Get the user's data and merge in the movie information.\n",
    "    user_data = original_ratings_df[original_ratings_df.userId == (userID)]\n",
    "    user_full = (user_data.merge(movies_df, how = 'left', left_on = 'movieId', right_on = 'movieId').\n",
    "                     sort_values(['rating'], ascending=False)\n",
    "                 )\n",
    "    # Recommend the highest predicted rating movies that the user hasn't seen yet.\n",
    "    recommendations = (movies_df[~movies_df['movieId'].isin(user_full['movieId'])]).merge(pd.DataFrame(sorted_user_predictions).reset_index(), how = 'left', left_on = 'movieId',\n",
    "               right_on = 'movie_id').rename(columns = {user_row_number: 'Predictions'}).sort_values('Predictions', ascending = False).iloc[:num_recommendations, :-1]\n",
    "                      \n",
    "\n",
    "    return user_full, recommendations'''"
   ]
  },
  {
   "cell_type": "code",
   "execution_count": null,
   "metadata": {
    "ExecuteTime": {
     "end_time": "2020-08-24T13:26:44.798903Z",
     "start_time": "2020-08-24T12:53:22.136Z"
    }
   },
   "outputs": [],
   "source": [
    "'''already_rated, predictions = recommend_movies(svd_predictions_score_df, 1, movies_df, ratings_df, 100)\n",
    "predictions.head()'''"
   ]
  },
  {
   "cell_type": "markdown",
   "metadata": {},
   "source": [
    "The function SVD_topK_allUsers returens a list that contains the top-K recommendations for each user."
   ]
  },
  {
   "cell_type": "code",
   "execution_count": null,
   "metadata": {
    "ExecuteTime": {
     "end_time": "2020-08-24T13:26:44.801495Z",
     "start_time": "2020-08-24T12:53:22.148Z"
    }
   },
   "outputs": [],
   "source": [
    "'''def SVD_topK_allUsers():\n",
    "    allUsers_already_rated = []\n",
    "    allUsers_predictions = []\n",
    "    for i in range(1,len(num_users)+1):\n",
    "        already_rated, predictions = recommend_movies(svd_predictions_score_df, i, movies_df, ratings_df, 100)\n",
    "        allUsers_already_rated.append(already_rated)\n",
    "        allUsers_predictions.append(predictions)\n",
    "    return allUsers_predictions'''"
   ]
  },
  {
   "cell_type": "markdown",
   "metadata": {},
   "source": [
    "#### NDCG Score"
   ]
  },
  {
   "cell_type": "markdown",
   "metadata": {},
   "source": [
    "The function SVD_relevance returns a list that contains the relevance (0s and 1s) between the top-K recommendations and the movies that each user actually watched."
   ]
  },
  {
   "cell_type": "code",
   "execution_count": null,
   "metadata": {
    "ExecuteTime": {
     "end_time": "2020-08-24T13:26:44.802671Z",
     "start_time": "2020-08-24T12:53:22.162Z"
    }
   },
   "outputs": [],
   "source": [
    "'''def SVD_relevance():\n",
    "    svd_topK = SVD_topK_allUsers()\n",
    "    relevance_svd_full = []\n",
    "    helper = []\n",
    "    count = 0\n",
    "    for i in range(1,len(num_users)+1):\n",
    "        for j in range(len(svd_topK[count])):\n",
    "            if svd_topK[count]['movieId'].values[j] in test_df['movie_id'][test_df['user_id'] == i].values.tolist():\n",
    "                helper.append(1)\n",
    "            else:\n",
    "                helper.append(0)\n",
    "        relevance_svd_full.append(helper)\n",
    "        helper = []\n",
    "        count += 1\n",
    "    return relevance_svd_full'''"
   ]
  },
  {
   "cell_type": "code",
   "execution_count": null,
   "metadata": {
    "ExecuteTime": {
     "end_time": "2020-08-24T13:26:44.804931Z",
     "start_time": "2020-08-24T12:53:22.172Z"
    }
   },
   "outputs": [],
   "source": [
    "#svd_relevance = SVD_relevance()"
   ]
  },
  {
   "cell_type": "code",
   "execution_count": null,
   "metadata": {
    "ExecuteTime": {
     "end_time": "2020-08-24T13:26:44.807382Z",
     "start_time": "2020-08-24T12:53:22.182Z"
    }
   },
   "outputs": [],
   "source": [
    "#allUsers_svd_ndcg = allUsers_ndcg(svd_relevance)"
   ]
  },
  {
   "cell_type": "code",
   "execution_count": null,
   "metadata": {},
   "outputs": [],
   "source": []
  }
 ],
 "metadata": {
  "kernelspec": {
   "display_name": "Python 3",
   "language": "python",
   "name": "python3"
  },
  "language_info": {
   "codemirror_mode": {
    "name": "ipython",
    "version": 3
   },
   "file_extension": ".py",
   "mimetype": "text/x-python",
   "name": "python",
   "nbconvert_exporter": "python",
   "pygments_lexer": "ipython3",
   "version": "3.7.7"
  },
  "toc": {
   "base_numbering": 1,
   "nav_menu": {},
   "number_sections": true,
   "sideBar": true,
   "skip_h1_title": false,
   "title_cell": "Table of Contents",
   "title_sidebar": "Contents",
   "toc_cell": false,
   "toc_position": {
    "height": "calc(100% - 180px)",
    "left": "10px",
    "top": "150px",
    "width": "266.188px"
   },
   "toc_section_display": true,
   "toc_window_display": true
  },
  "toc-autonumbering": true,
  "toc-showmarkdowntxt": false,
  "toc-showtags": false,
  "varInspector": {
   "cols": {
    "lenName": 16,
    "lenType": 16,
    "lenVar": 40
   },
   "kernels_config": {
    "python": {
     "delete_cmd_postfix": "",
     "delete_cmd_prefix": "del ",
     "library": "var_list.py",
     "varRefreshCmd": "print(var_dic_list())"
    },
    "r": {
     "delete_cmd_postfix": ") ",
     "delete_cmd_prefix": "rm(",
     "library": "var_list.r",
     "varRefreshCmd": "cat(var_dic_list()) "
    }
   },
   "position": {
    "height": "200.4px",
    "left": "1102px",
    "right": "20px",
    "top": "24px",
    "width": "433px"
   },
   "types_to_exclude": [
    "module",
    "function",
    "builtin_function_or_method",
    "instance",
    "_Feature"
   ],
   "window_display": false
  }
 },
 "nbformat": 4,
 "nbformat_minor": 4
}
