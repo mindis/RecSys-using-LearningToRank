{
 "cells": [
  {
   "cell_type": "code",
   "execution_count": 1,
   "metadata": {
    "ExecuteTime": {
     "end_time": "2020-08-14T07:59:05.811915Z",
     "start_time": "2020-08-14T07:59:05.795612Z"
    }
   },
   "outputs": [],
   "source": [
    "%config IPCompleter.greedy=True"
   ]
  },
  {
   "cell_type": "code",
   "execution_count": 2,
   "metadata": {
    "ExecuteTime": {
     "end_time": "2020-08-14T07:59:10.119508Z",
     "start_time": "2020-08-14T07:59:05.813489Z"
    }
   },
   "outputs": [],
   "source": [
    "import pandas as pd\n",
    "import numpy as np\n",
    "import matplotlib.pyplot as plt\n",
    "from spotlight.factorization.implicit import ImplicitFactorizationModel\n",
    "from spotlight.interactions import Interactions\n",
    "from spotlight.cross_validation import random_train_test_split"
   ]
  },
  {
   "cell_type": "code",
   "execution_count": 3,
   "metadata": {
    "ExecuteTime": {
     "end_time": "2020-08-14T07:59:10.325782Z",
     "start_time": "2020-08-14T07:59:10.122500Z"
    }
   },
   "outputs": [],
   "source": [
    "ratings_df = pd.read_csv('C:/Users/papad/Desktop/ml-latest-small/ml-latest-small/ratings.csv')\n",
    "movies_df = pd.read_csv('C:/Users/papad/Desktop/ml-latest-small/ml-latest-small/movies.csv')\n",
    "tags_df = pd.read_csv('C:/Users/papad/Desktop/ml-latest-small/ml-latest-small/tags.csv')\n",
    "links_df = pd.read_csv('C:/Users/papad/Desktop/ml-latest-small/ml-latest-small/links.csv')"
   ]
  },
  {
   "cell_type": "code",
   "execution_count": 4,
   "metadata": {
    "ExecuteTime": {
     "end_time": "2020-08-14T07:59:10.353641Z",
     "start_time": "2020-08-14T07:59:10.329552Z"
    }
   },
   "outputs": [
    {
     "data": {
      "text/plain": [
       "\"ratings_df = pd.read_csv('C:/Users/papad/Desktop/ml-25m/ml-25m/ratings.csv')\\nmovies_df = pd.read_csv('C:/Users/papad/Desktop/ml-25m/ml-25m/movies.csv')\""
      ]
     },
     "execution_count": 4,
     "metadata": {},
     "output_type": "execute_result"
    }
   ],
   "source": [
    "'''ratings_df = pd.read_csv('C:/Users/papad/Desktop/ml-25m/ml-25m/ratings.csv')\n",
    "movies_df = pd.read_csv('C:/Users/papad/Desktop/ml-25m/ml-25m/movies.csv')'''"
   ]
  },
  {
   "cell_type": "markdown",
   "metadata": {},
   "source": [
    "# Dataset"
   ]
  },
  {
   "cell_type": "code",
   "execution_count": 5,
   "metadata": {
    "ExecuteTime": {
     "end_time": "2020-08-14T07:59:10.369332Z",
     "start_time": "2020-08-14T07:59:10.357631Z"
    }
   },
   "outputs": [
    {
     "data": {
      "text/plain": [
       "'percentage = 2\\n#movies_df = movies_df.head(int(len(movies_df)*(percentage/100)))\\nratings_df = ratings_df.head(int(len(ratings_df)*(percentage/100)))'"
      ]
     },
     "execution_count": 5,
     "metadata": {},
     "output_type": "execute_result"
    }
   ],
   "source": [
    "'''percentage = 2\n",
    "#movies_df = movies_df.head(int(len(movies_df)*(percentage/100)))\n",
    "ratings_df = ratings_df.head(int(len(ratings_df)*(percentage/100)))'''"
   ]
  },
  {
   "cell_type": "code",
   "execution_count": 6,
   "metadata": {
    "ExecuteTime": {
     "end_time": "2020-08-14T07:59:10.401736Z",
     "start_time": "2020-08-14T07:59:10.372866Z"
    },
    "cell_style": "split"
   },
   "outputs": [
    {
     "data": {
      "text/html": [
       "<div>\n",
       "<style scoped>\n",
       "    .dataframe tbody tr th:only-of-type {\n",
       "        vertical-align: middle;\n",
       "    }\n",
       "\n",
       "    .dataframe tbody tr th {\n",
       "        vertical-align: top;\n",
       "    }\n",
       "\n",
       "    .dataframe thead th {\n",
       "        text-align: right;\n",
       "    }\n",
       "</style>\n",
       "<table border=\"1\" class=\"dataframe\">\n",
       "  <thead>\n",
       "    <tr style=\"text-align: right;\">\n",
       "      <th></th>\n",
       "      <th>movieId</th>\n",
       "      <th>title</th>\n",
       "      <th>genres</th>\n",
       "    </tr>\n",
       "  </thead>\n",
       "  <tbody>\n",
       "    <tr>\n",
       "      <th>0</th>\n",
       "      <td>1</td>\n",
       "      <td>Toy Story (1995)</td>\n",
       "      <td>Adventure|Animation|Children|Comedy|Fantasy</td>\n",
       "    </tr>\n",
       "    <tr>\n",
       "      <th>1</th>\n",
       "      <td>2</td>\n",
       "      <td>Jumanji (1995)</td>\n",
       "      <td>Adventure|Children|Fantasy</td>\n",
       "    </tr>\n",
       "    <tr>\n",
       "      <th>2</th>\n",
       "      <td>3</td>\n",
       "      <td>Grumpier Old Men (1995)</td>\n",
       "      <td>Comedy|Romance</td>\n",
       "    </tr>\n",
       "    <tr>\n",
       "      <th>3</th>\n",
       "      <td>4</td>\n",
       "      <td>Waiting to Exhale (1995)</td>\n",
       "      <td>Comedy|Drama|Romance</td>\n",
       "    </tr>\n",
       "    <tr>\n",
       "      <th>4</th>\n",
       "      <td>5</td>\n",
       "      <td>Father of the Bride Part II (1995)</td>\n",
       "      <td>Comedy</td>\n",
       "    </tr>\n",
       "    <tr>\n",
       "      <th>...</th>\n",
       "      <td>...</td>\n",
       "      <td>...</td>\n",
       "      <td>...</td>\n",
       "    </tr>\n",
       "    <tr>\n",
       "      <th>9737</th>\n",
       "      <td>193581</td>\n",
       "      <td>Black Butler: Book of the Atlantic (2017)</td>\n",
       "      <td>Action|Animation|Comedy|Fantasy</td>\n",
       "    </tr>\n",
       "    <tr>\n",
       "      <th>9738</th>\n",
       "      <td>193583</td>\n",
       "      <td>No Game No Life: Zero (2017)</td>\n",
       "      <td>Animation|Comedy|Fantasy</td>\n",
       "    </tr>\n",
       "    <tr>\n",
       "      <th>9739</th>\n",
       "      <td>193585</td>\n",
       "      <td>Flint (2017)</td>\n",
       "      <td>Drama</td>\n",
       "    </tr>\n",
       "    <tr>\n",
       "      <th>9740</th>\n",
       "      <td>193587</td>\n",
       "      <td>Bungo Stray Dogs: Dead Apple (2018)</td>\n",
       "      <td>Action|Animation</td>\n",
       "    </tr>\n",
       "    <tr>\n",
       "      <th>9741</th>\n",
       "      <td>193609</td>\n",
       "      <td>Andrew Dice Clay: Dice Rules (1991)</td>\n",
       "      <td>Comedy</td>\n",
       "    </tr>\n",
       "  </tbody>\n",
       "</table>\n",
       "<p>9742 rows × 3 columns</p>\n",
       "</div>"
      ],
      "text/plain": [
       "      movieId                                      title  \\\n",
       "0           1                           Toy Story (1995)   \n",
       "1           2                             Jumanji (1995)   \n",
       "2           3                    Grumpier Old Men (1995)   \n",
       "3           4                   Waiting to Exhale (1995)   \n",
       "4           5         Father of the Bride Part II (1995)   \n",
       "...       ...                                        ...   \n",
       "9737   193581  Black Butler: Book of the Atlantic (2017)   \n",
       "9738   193583               No Game No Life: Zero (2017)   \n",
       "9739   193585                               Flint (2017)   \n",
       "9740   193587        Bungo Stray Dogs: Dead Apple (2018)   \n",
       "9741   193609        Andrew Dice Clay: Dice Rules (1991)   \n",
       "\n",
       "                                           genres  \n",
       "0     Adventure|Animation|Children|Comedy|Fantasy  \n",
       "1                      Adventure|Children|Fantasy  \n",
       "2                                  Comedy|Romance  \n",
       "3                            Comedy|Drama|Romance  \n",
       "4                                          Comedy  \n",
       "...                                           ...  \n",
       "9737              Action|Animation|Comedy|Fantasy  \n",
       "9738                     Animation|Comedy|Fantasy  \n",
       "9739                                        Drama  \n",
       "9740                             Action|Animation  \n",
       "9741                                       Comedy  \n",
       "\n",
       "[9742 rows x 3 columns]"
      ]
     },
     "execution_count": 6,
     "metadata": {},
     "output_type": "execute_result"
    }
   ],
   "source": [
    "movies_df"
   ]
  },
  {
   "cell_type": "code",
   "execution_count": 7,
   "metadata": {
    "ExecuteTime": {
     "end_time": "2020-08-14T07:59:10.442684Z",
     "start_time": "2020-08-14T07:59:10.404480Z"
    },
    "cell_style": "split"
   },
   "outputs": [
    {
     "data": {
      "text/html": [
       "<div>\n",
       "<style scoped>\n",
       "    .dataframe tbody tr th:only-of-type {\n",
       "        vertical-align: middle;\n",
       "    }\n",
       "\n",
       "    .dataframe tbody tr th {\n",
       "        vertical-align: top;\n",
       "    }\n",
       "\n",
       "    .dataframe thead th {\n",
       "        text-align: right;\n",
       "    }\n",
       "</style>\n",
       "<table border=\"1\" class=\"dataframe\">\n",
       "  <thead>\n",
       "    <tr style=\"text-align: right;\">\n",
       "      <th></th>\n",
       "      <th>userId</th>\n",
       "      <th>movieId</th>\n",
       "      <th>rating</th>\n",
       "      <th>timestamp</th>\n",
       "    </tr>\n",
       "  </thead>\n",
       "  <tbody>\n",
       "    <tr>\n",
       "      <th>0</th>\n",
       "      <td>1</td>\n",
       "      <td>1</td>\n",
       "      <td>4.0</td>\n",
       "      <td>964982703</td>\n",
       "    </tr>\n",
       "    <tr>\n",
       "      <th>1</th>\n",
       "      <td>1</td>\n",
       "      <td>3</td>\n",
       "      <td>4.0</td>\n",
       "      <td>964981247</td>\n",
       "    </tr>\n",
       "    <tr>\n",
       "      <th>2</th>\n",
       "      <td>1</td>\n",
       "      <td>6</td>\n",
       "      <td>4.0</td>\n",
       "      <td>964982224</td>\n",
       "    </tr>\n",
       "    <tr>\n",
       "      <th>3</th>\n",
       "      <td>1</td>\n",
       "      <td>47</td>\n",
       "      <td>5.0</td>\n",
       "      <td>964983815</td>\n",
       "    </tr>\n",
       "    <tr>\n",
       "      <th>4</th>\n",
       "      <td>1</td>\n",
       "      <td>50</td>\n",
       "      <td>5.0</td>\n",
       "      <td>964982931</td>\n",
       "    </tr>\n",
       "    <tr>\n",
       "      <th>...</th>\n",
       "      <td>...</td>\n",
       "      <td>...</td>\n",
       "      <td>...</td>\n",
       "      <td>...</td>\n",
       "    </tr>\n",
       "    <tr>\n",
       "      <th>100831</th>\n",
       "      <td>610</td>\n",
       "      <td>166534</td>\n",
       "      <td>4.0</td>\n",
       "      <td>1493848402</td>\n",
       "    </tr>\n",
       "    <tr>\n",
       "      <th>100832</th>\n",
       "      <td>610</td>\n",
       "      <td>168248</td>\n",
       "      <td>5.0</td>\n",
       "      <td>1493850091</td>\n",
       "    </tr>\n",
       "    <tr>\n",
       "      <th>100833</th>\n",
       "      <td>610</td>\n",
       "      <td>168250</td>\n",
       "      <td>5.0</td>\n",
       "      <td>1494273047</td>\n",
       "    </tr>\n",
       "    <tr>\n",
       "      <th>100834</th>\n",
       "      <td>610</td>\n",
       "      <td>168252</td>\n",
       "      <td>5.0</td>\n",
       "      <td>1493846352</td>\n",
       "    </tr>\n",
       "    <tr>\n",
       "      <th>100835</th>\n",
       "      <td>610</td>\n",
       "      <td>170875</td>\n",
       "      <td>3.0</td>\n",
       "      <td>1493846415</td>\n",
       "    </tr>\n",
       "  </tbody>\n",
       "</table>\n",
       "<p>100836 rows × 4 columns</p>\n",
       "</div>"
      ],
      "text/plain": [
       "        userId  movieId  rating   timestamp\n",
       "0            1        1     4.0   964982703\n",
       "1            1        3     4.0   964981247\n",
       "2            1        6     4.0   964982224\n",
       "3            1       47     5.0   964983815\n",
       "4            1       50     5.0   964982931\n",
       "...        ...      ...     ...         ...\n",
       "100831     610   166534     4.0  1493848402\n",
       "100832     610   168248     5.0  1493850091\n",
       "100833     610   168250     5.0  1494273047\n",
       "100834     610   168252     5.0  1493846352\n",
       "100835     610   170875     3.0  1493846415\n",
       "\n",
       "[100836 rows x 4 columns]"
      ]
     },
     "execution_count": 7,
     "metadata": {},
     "output_type": "execute_result"
    }
   ],
   "source": [
    "ratings_df"
   ]
  },
  {
   "cell_type": "code",
   "execution_count": 8,
   "metadata": {
    "ExecuteTime": {
     "end_time": "2020-08-14T07:59:10.458208Z",
     "start_time": "2020-08-14T07:59:10.450777Z"
    }
   },
   "outputs": [],
   "source": [
    "#ratings_df.columns = ['userId', 'movieId', 'rating', 'timestamp']"
   ]
  },
  {
   "cell_type": "code",
   "execution_count": 9,
   "metadata": {
    "ExecuteTime": {
     "end_time": "2020-08-14T07:59:10.490254Z",
     "start_time": "2020-08-14T07:59:10.464164Z"
    }
   },
   "outputs": [
    {
     "name": "stdout",
     "output_type": "stream",
     "text": [
      "610\n",
      "9724\n"
     ]
    }
   ],
   "source": [
    "num_users = ratings_df['userId'].unique()\n",
    "print(len(num_users))\n",
    "num_items = ratings_df['movieId'].unique()\n",
    "print(len(num_items))"
   ]
  },
  {
   "cell_type": "markdown",
   "metadata": {},
   "source": [
    "# Spotlight"
   ]
  },
  {
   "cell_type": "markdown",
   "metadata": {},
   "source": [
    "## Data preperation for Spotlight"
   ]
  },
  {
   "cell_type": "markdown",
   "metadata": {},
   "source": [
    "The ids are not consecutive. For examples the id of a movies is shown multiple times. For this reason the procedure below is implemented. The reversed map is still saved to be used when needed."
   ]
  },
  {
   "cell_type": "code",
   "execution_count": 186,
   "metadata": {
    "ExecuteTime": {
     "end_time": "2020-08-14T12:30:34.037227Z",
     "start_time": "2020-08-14T12:30:33.934193Z"
    }
   },
   "outputs": [
    {
     "name": "stdout",
     "output_type": "stream",
     "text": [
      "userId 1 got uid 2\n",
      "movieId 54001 got iid 2518\n"
     ]
    }
   ],
   "source": [
    "from collections import defaultdict\n",
    "from itertools import count\n",
    "uid_map = defaultdict(count().__next__)\n",
    "iid_map = defaultdict(count().__next__)\n",
    "uids = np.array([uid_map[uid] for uid in ratings_df[\"userId\"].values ], dtype=np.int32)\n",
    "iids = np.array([iid_map[iid] for iid in ratings_df[\"movieId\"].values ], dtype=np.int32)\n",
    "\n",
    "uid_rev_map = {v: k for k, v in uid_map.items()}\n",
    "iid_rev_map = {v: k for k, v in iid_map.items()}\n",
    "\n",
    "ratings = ratings_df[\"rating\"].values.astype(np.float32)\n",
    "timestamps = ratings_df[\"timestamp\"].values.astype(np.int32)\n",
    "\n",
    "print(\"userId %d got uid %d\" % (1, uid_map[3]))\n",
    "print(\"movieId %d got iid %d\" % (54001, iid_map[54001]))"
   ]
  },
  {
   "cell_type": "code",
   "execution_count": 188,
   "metadata": {
    "ExecuteTime": {
     "end_time": "2020-08-14T12:32:40.915107Z",
     "start_time": "2020-08-14T12:32:40.870254Z"
    }
   },
   "outputs": [
    {
     "data": {
      "text/plain": [
       "defaultdict(<method-wrapper '__next__' of itertools.count object at 0x0000026333312CC8>,\n",
       "            {1: 0,\n",
       "             3: 1,\n",
       "             6: 2,\n",
       "             47: 3,\n",
       "             50: 4,\n",
       "             70: 5,\n",
       "             101: 6,\n",
       "             110: 7,\n",
       "             151: 8,\n",
       "             157: 9,\n",
       "             163: 10,\n",
       "             216: 11,\n",
       "             223: 12,\n",
       "             231: 13,\n",
       "             235: 14,\n",
       "             260: 15,\n",
       "             296: 16,\n",
       "             316: 17,\n",
       "             333: 18,\n",
       "             349: 19,\n",
       "             356: 20,\n",
       "             362: 21,\n",
       "             367: 22,\n",
       "             423: 23,\n",
       "             441: 24,\n",
       "             457: 25,\n",
       "             480: 26,\n",
       "             500: 27,\n",
       "             527: 28,\n",
       "             543: 29,\n",
       "             552: 30,\n",
       "             553: 31,\n",
       "             590: 32,\n",
       "             592: 33,\n",
       "             593: 34,\n",
       "             596: 35,\n",
       "             608: 36,\n",
       "             648: 37,\n",
       "             661: 38,\n",
       "             673: 39,\n",
       "             733: 40,\n",
       "             736: 41,\n",
       "             780: 42,\n",
       "             804: 43,\n",
       "             919: 44,\n",
       "             923: 45,\n",
       "             940: 46,\n",
       "             943: 47,\n",
       "             954: 48,\n",
       "             1009: 49,\n",
       "             1023: 50,\n",
       "             1024: 51,\n",
       "             1025: 52,\n",
       "             1029: 53,\n",
       "             1030: 54,\n",
       "             1031: 55,\n",
       "             1032: 56,\n",
       "             1042: 57,\n",
       "             1049: 58,\n",
       "             1060: 59,\n",
       "             1073: 60,\n",
       "             1080: 61,\n",
       "             1089: 62,\n",
       "             1090: 63,\n",
       "             1092: 64,\n",
       "             1097: 65,\n",
       "             1127: 66,\n",
       "             1136: 67,\n",
       "             1196: 68,\n",
       "             1197: 69,\n",
       "             1198: 70,\n",
       "             1206: 71,\n",
       "             1208: 72,\n",
       "             1210: 73,\n",
       "             1213: 74,\n",
       "             1214: 75,\n",
       "             1219: 76,\n",
       "             1220: 77,\n",
       "             1222: 78,\n",
       "             1224: 79,\n",
       "             1226: 80,\n",
       "             1240: 81,\n",
       "             1256: 82,\n",
       "             1258: 83,\n",
       "             1265: 84,\n",
       "             1270: 85,\n",
       "             1275: 86,\n",
       "             1278: 87,\n",
       "             1282: 88,\n",
       "             1291: 89,\n",
       "             1298: 90,\n",
       "             1348: 91,\n",
       "             1377: 92,\n",
       "             1396: 93,\n",
       "             1408: 94,\n",
       "             1445: 95,\n",
       "             1473: 96,\n",
       "             1500: 97,\n",
       "             1517: 98,\n",
       "             1552: 99,\n",
       "             1573: 100,\n",
       "             1580: 101,\n",
       "             1587: 102,\n",
       "             1617: 103,\n",
       "             1620: 104,\n",
       "             1625: 105,\n",
       "             1644: 106,\n",
       "             1676: 107,\n",
       "             1732: 108,\n",
       "             1777: 109,\n",
       "             1793: 110,\n",
       "             1804: 111,\n",
       "             1805: 112,\n",
       "             1920: 113,\n",
       "             1927: 114,\n",
       "             1954: 115,\n",
       "             1967: 116,\n",
       "             2000: 117,\n",
       "             2005: 118,\n",
       "             2012: 119,\n",
       "             2018: 120,\n",
       "             2028: 121,\n",
       "             2033: 122,\n",
       "             2046: 123,\n",
       "             2048: 124,\n",
       "             2054: 125,\n",
       "             2058: 126,\n",
       "             2078: 127,\n",
       "             2090: 128,\n",
       "             2093: 129,\n",
       "             2094: 130,\n",
       "             2096: 131,\n",
       "             2099: 132,\n",
       "             2105: 133,\n",
       "             2115: 134,\n",
       "             2116: 135,\n",
       "             2137: 136,\n",
       "             2139: 137,\n",
       "             2141: 138,\n",
       "             2143: 139,\n",
       "             2161: 140,\n",
       "             2174: 141,\n",
       "             2193: 142,\n",
       "             2253: 143,\n",
       "             2268: 144,\n",
       "             2273: 145,\n",
       "             2291: 146,\n",
       "             2329: 147,\n",
       "             2338: 148,\n",
       "             2353: 149,\n",
       "             2366: 150,\n",
       "             2387: 151,\n",
       "             2389: 152,\n",
       "             2395: 153,\n",
       "             2406: 154,\n",
       "             2414: 155,\n",
       "             2427: 156,\n",
       "             2450: 157,\n",
       "             2459: 158,\n",
       "             2470: 159,\n",
       "             2478: 160,\n",
       "             2492: 161,\n",
       "             2502: 162,\n",
       "             2528: 163,\n",
       "             2529: 164,\n",
       "             2542: 165,\n",
       "             2571: 166,\n",
       "             2580: 167,\n",
       "             2596: 168,\n",
       "             2616: 169,\n",
       "             2617: 170,\n",
       "             2628: 171,\n",
       "             2640: 172,\n",
       "             2641: 173,\n",
       "             2644: 174,\n",
       "             2648: 175,\n",
       "             2654: 176,\n",
       "             2657: 177,\n",
       "             2692: 178,\n",
       "             2700: 179,\n",
       "             2716: 180,\n",
       "             2761: 181,\n",
       "             2797: 182,\n",
       "             2826: 183,\n",
       "             2858: 184,\n",
       "             2872: 185,\n",
       "             2899: 186,\n",
       "             2916: 187,\n",
       "             2944: 188,\n",
       "             2947: 189,\n",
       "             2948: 190,\n",
       "             2949: 191,\n",
       "             2959: 192,\n",
       "             2985: 193,\n",
       "             2987: 194,\n",
       "             2991: 195,\n",
       "             2993: 196,\n",
       "             2997: 197,\n",
       "             3033: 198,\n",
       "             3034: 199,\n",
       "             3052: 200,\n",
       "             3053: 201,\n",
       "             3062: 202,\n",
       "             3147: 203,\n",
       "             3168: 204,\n",
       "             3176: 205,\n",
       "             3243: 206,\n",
       "             3247: 207,\n",
       "             3253: 208,\n",
       "             3273: 209,\n",
       "             3386: 210,\n",
       "             3439: 211,\n",
       "             3440: 212,\n",
       "             3441: 213,\n",
       "             3448: 214,\n",
       "             3450: 215,\n",
       "             3479: 216,\n",
       "             3489: 217,\n",
       "             3527: 218,\n",
       "             3578: 219,\n",
       "             3617: 220,\n",
       "             3639: 221,\n",
       "             3671: 222,\n",
       "             3702: 223,\n",
       "             3703: 224,\n",
       "             3729: 225,\n",
       "             3740: 226,\n",
       "             3744: 227,\n",
       "             3793: 228,\n",
       "             3809: 229,\n",
       "             4006: 230,\n",
       "             5060: 231,\n",
       "             318: 232,\n",
       "             1704: 233,\n",
       "             6874: 234,\n",
       "             8798: 235,\n",
       "             46970: 236,\n",
       "             48516: 237,\n",
       "             58559: 238,\n",
       "             60756: 239,\n",
       "             68157: 240,\n",
       "             71535: 241,\n",
       "             74458: 242,\n",
       "             77455: 243,\n",
       "             79132: 244,\n",
       "             80489: 245,\n",
       "             80906: 246,\n",
       "             86345: 247,\n",
       "             89774: 248,\n",
       "             91529: 249,\n",
       "             91658: 250,\n",
       "             99114: 251,\n",
       "             106782: 252,\n",
       "             109487: 253,\n",
       "             112552: 254,\n",
       "             114060: 255,\n",
       "             115713: 256,\n",
       "             122882: 257,\n",
       "             131724: 258,\n",
       "             31: 259,\n",
       "             647: 260,\n",
       "             688: 261,\n",
       "             720: 262,\n",
       "             849: 263,\n",
       "             914: 264,\n",
       "             1093: 265,\n",
       "             1124: 266,\n",
       "             1263: 267,\n",
       "             1272: 268,\n",
       "             1302: 269,\n",
       "             1371: 270,\n",
       "             2080: 271,\n",
       "             2288: 272,\n",
       "             2424: 273,\n",
       "             2851: 274,\n",
       "             3024: 275,\n",
       "             3210: 276,\n",
       "             3949: 277,\n",
       "             4518: 278,\n",
       "             5048: 279,\n",
       "             5181: 280,\n",
       "             5746: 281,\n",
       "             5764: 282,\n",
       "             5919: 283,\n",
       "             6238: 284,\n",
       "             6835: 285,\n",
       "             7899: 286,\n",
       "             7991: 287,\n",
       "             26409: 288,\n",
       "             70946: 289,\n",
       "             72378: 290,\n",
       "             21: 291,\n",
       "             32: 292,\n",
       "             45: 293,\n",
       "             52: 294,\n",
       "             58: 295,\n",
       "             106: 296,\n",
       "             125: 297,\n",
       "             126: 298,\n",
       "             162: 299,\n",
       "             171: 300,\n",
       "             176: 301,\n",
       "             190: 302,\n",
       "             215: 303,\n",
       "             222: 304,\n",
       "             232: 305,\n",
       "             247: 306,\n",
       "             265: 307,\n",
       "             319: 308,\n",
       "             342: 309,\n",
       "             345: 310,\n",
       "             348: 311,\n",
       "             351: 312,\n",
       "             357: 313,\n",
       "             368: 314,\n",
       "             417: 315,\n",
       "             450: 316,\n",
       "             475: 317,\n",
       "             492: 318,\n",
       "             509: 319,\n",
       "             538: 320,\n",
       "             539: 321,\n",
       "             588: 322,\n",
       "             595: 323,\n",
       "             599: 324,\n",
       "             708: 325,\n",
       "             759: 326,\n",
       "             800: 327,\n",
       "             892: 328,\n",
       "             898: 329,\n",
       "             899: 330,\n",
       "             902: 331,\n",
       "             904: 332,\n",
       "             908: 333,\n",
       "             910: 334,\n",
       "             912: 335,\n",
       "             920: 336,\n",
       "             930: 337,\n",
       "             937: 338,\n",
       "             1046: 339,\n",
       "             1057: 340,\n",
       "             1077: 341,\n",
       "             1079: 342,\n",
       "             1084: 343,\n",
       "             1086: 344,\n",
       "             1094: 345,\n",
       "             1103: 346,\n",
       "             1179: 347,\n",
       "             1183: 348,\n",
       "             1188: 349,\n",
       "             1199: 350,\n",
       "             1203: 351,\n",
       "             1211: 352,\n",
       "             1225: 353,\n",
       "             1250: 354,\n",
       "             1259: 355,\n",
       "             1266: 356,\n",
       "             1279: 357,\n",
       "             1283: 358,\n",
       "             1288: 359,\n",
       "             1304: 360,\n",
       "             1391: 361,\n",
       "             1449: 362,\n",
       "             1466: 363,\n",
       "             1597: 364,\n",
       "             1641: 365,\n",
       "             1719: 366,\n",
       "             1733: 367,\n",
       "             1734: 368,\n",
       "             1834: 369,\n",
       "             1860: 370,\n",
       "             1883: 371,\n",
       "             1885: 372,\n",
       "             1892: 373,\n",
       "             1895: 374,\n",
       "             1907: 375,\n",
       "             1914: 376,\n",
       "             1916: 377,\n",
       "             1923: 378,\n",
       "             1947: 379,\n",
       "             1966: 380,\n",
       "             1968: 381,\n",
       "             2019: 382,\n",
       "             2076: 383,\n",
       "             2109: 384,\n",
       "             2145: 385,\n",
       "             2150: 386,\n",
       "             2186: 387,\n",
       "             2203: 388,\n",
       "             2204: 389,\n",
       "             2282: 390,\n",
       "             2324: 391,\n",
       "             2336: 392,\n",
       "             2351: 393,\n",
       "             2359: 394,\n",
       "             2390: 395,\n",
       "             2467: 396,\n",
       "             2583: 397,\n",
       "             2599: 398,\n",
       "             2683: 399,\n",
       "             2712: 400,\n",
       "             2762: 401,\n",
       "             2763: 402,\n",
       "             2770: 403,\n",
       "             2791: 404,\n",
       "             2843: 405,\n",
       "             2874: 406,\n",
       "             2921: 407,\n",
       "             2926: 408,\n",
       "             2973: 409,\n",
       "             3044: 410,\n",
       "             3060: 411,\n",
       "             3079: 412,\n",
       "             3083: 413,\n",
       "             3160: 414,\n",
       "             3175: 415,\n",
       "             3204: 416,\n",
       "             3255: 417,\n",
       "             3317: 418,\n",
       "             3358: 419,\n",
       "             3365: 420,\n",
       "             3408: 421,\n",
       "             3481: 422,\n",
       "             3508: 423,\n",
       "             3538: 424,\n",
       "             3591: 425,\n",
       "             3788: 426,\n",
       "             3851: 427,\n",
       "             3897: 428,\n",
       "             3911: 429,\n",
       "             3967: 430,\n",
       "             3996: 431,\n",
       "             4002: 432,\n",
       "             4014: 433,\n",
       "             4020: 434,\n",
       "             4021: 435,\n",
       "             4027: 436,\n",
       "             4029: 437,\n",
       "             4033: 438,\n",
       "             4034: 439,\n",
       "             4074: 440,\n",
       "             4121: 441,\n",
       "             4144: 442,\n",
       "             4166: 443,\n",
       "             4226: 444,\n",
       "             4239: 445,\n",
       "             4246: 446,\n",
       "             4252: 447,\n",
       "             4260: 448,\n",
       "             4273: 449,\n",
       "             4308: 450,\n",
       "             4347: 451,\n",
       "             4381: 452,\n",
       "             4641: 453,\n",
       "             4741: 454,\n",
       "             4765: 455,\n",
       "             4881: 456,\n",
       "             4896: 457,\n",
       "             4902: 458,\n",
       "             4967: 459,\n",
       "             34: 460,\n",
       "             36: 461,\n",
       "             39: 462,\n",
       "             150: 463,\n",
       "             153: 464,\n",
       "             253: 465,\n",
       "             261: 466,\n",
       "             266: 467,\n",
       "             290: 468,\n",
       "             300: 469,\n",
       "             344: 470,\n",
       "             364: 471,\n",
       "             380: 472,\n",
       "             410: 473,\n",
       "             474: 474,\n",
       "             515: 475,\n",
       "             531: 476,\n",
       "             534: 477,\n",
       "             589: 478,\n",
       "             594: 479,\n",
       "             597: 480,\n",
       "             2: 481,\n",
       "             4: 482,\n",
       "             5: 483,\n",
       "             7: 484,\n",
       "             8: 485,\n",
       "             10: 486,\n",
       "             11: 487,\n",
       "             13: 488,\n",
       "             15: 489,\n",
       "             16: 490,\n",
       "             17: 491,\n",
       "             19: 492,\n",
       "             22: 493,\n",
       "             24: 494,\n",
       "             25: 495,\n",
       "             26: 496,\n",
       "             27: 497,\n",
       "             41: 498,\n",
       "             43: 499,\n",
       "             46: 500,\n",
       "             54: 501,\n",
       "             60: 502,\n",
       "             61: 503,\n",
       "             62: 504,\n",
       "             65: 505,\n",
       "             66: 506,\n",
       "             76: 507,\n",
       "             79: 508,\n",
       "             86: 509,\n",
       "             87: 510,\n",
       "             88: 511,\n",
       "             89: 512,\n",
       "             92: 513,\n",
       "             93: 514,\n",
       "             95: 515,\n",
       "             100: 516,\n",
       "             102: 517,\n",
       "             104: 518,\n",
       "             105: 519,\n",
       "             112: 520,\n",
       "             113: 521,\n",
       "             135: 522,\n",
       "             140: 523,\n",
       "             141: 524,\n",
       "             145: 525,\n",
       "             146: 526,\n",
       "             158: 527,\n",
       "             159: 528,\n",
       "             160: 529,\n",
       "             161: 530,\n",
       "             165: 531,\n",
       "             168: 532,\n",
       "             170: 533,\n",
       "             174: 534,\n",
       "             177: 535,\n",
       "             179: 536,\n",
       "             180: 537,\n",
       "             181: 538,\n",
       "             185: 539,\n",
       "             186: 540,\n",
       "             189: 541,\n",
       "             191: 542,\n",
       "             195: 543,\n",
       "             196: 544,\n",
       "             201: 545,\n",
       "             204: 546,\n",
       "             205: 547,\n",
       "             207: 548,\n",
       "             208: 549,\n",
       "             209: 550,\n",
       "             210: 551,\n",
       "             212: 552,\n",
       "             217: 553,\n",
       "             218: 554,\n",
       "             219: 555,\n",
       "             224: 556,\n",
       "             225: 557,\n",
       "             230: 558,\n",
       "             234: 559,\n",
       "             236: 560,\n",
       "             237: 561,\n",
       "             239: 562,\n",
       "             240: 563,\n",
       "             243: 564,\n",
       "             248: 565,\n",
       "             250: 566,\n",
       "             251: 567,\n",
       "             252: 568,\n",
       "             254: 569,\n",
       "             256: 570,\n",
       "             257: 571,\n",
       "             258: 572,\n",
       "             262: 573,\n",
       "             267: 574,\n",
       "             270: 575,\n",
       "             271: 576,\n",
       "             273: 577,\n",
       "             274: 578,\n",
       "             276: 579,\n",
       "             277: 580,\n",
       "             279: 581,\n",
       "             281: 582,\n",
       "             282: 583,\n",
       "             288: 584,\n",
       "             289: 585,\n",
       "             291: 586,\n",
       "             292: 587,\n",
       "             293: 588,\n",
       "             302: 589,\n",
       "             303: 590,\n",
       "             304: 591,\n",
       "             310: 592,\n",
       "             312: 593,\n",
       "             313: 594,\n",
       "             314: 595,\n",
       "             315: 596,\n",
       "             317: 597,\n",
       "             327: 598,\n",
       "             329: 599,\n",
       "             330: 600,\n",
       "             332: 601,\n",
       "             336: 602,\n",
       "             337: 603,\n",
       "             339: 604,\n",
       "             340: 605,\n",
       "             343: 606,\n",
       "             347: 607,\n",
       "             350: 608,\n",
       "             352: 609,\n",
       "             353: 610,\n",
       "             354: 611,\n",
       "             355: 612,\n",
       "             358: 613,\n",
       "             359: 614,\n",
       "             360: 615,\n",
       "             361: 616,\n",
       "             366: 617,\n",
       "             370: 618,\n",
       "             371: 619,\n",
       "             374: 620,\n",
       "             377: 621,\n",
       "             378: 622,\n",
       "             381: 623,\n",
       "             382: 624,\n",
       "             383: 625,\n",
       "             405: 626,\n",
       "             412: 627,\n",
       "             415: 628,\n",
       "             416: 629,\n",
       "             419: 630,\n",
       "             426: 631,\n",
       "             432: 632,\n",
       "             434: 633,\n",
       "             435: 634,\n",
       "             437: 635,\n",
       "             440: 636,\n",
       "             445: 637,\n",
       "             454: 638,\n",
       "             455: 639,\n",
       "             458: 640,\n",
       "             460: 641,\n",
       "             466: 642,\n",
       "             468: 643,\n",
       "             469: 644,\n",
       "             472: 645,\n",
       "             477: 646,\n",
       "             485: 647,\n",
       "             489: 648,\n",
       "             490: 649,\n",
       "             491: 650,\n",
       "             493: 651,\n",
       "             494: 652,\n",
       "             497: 653,\n",
       "             502: 654,\n",
       "             505: 655,\n",
       "             508: 656,\n",
       "             510: 657,\n",
       "             516: 658,\n",
       "             520: 659,\n",
       "             524: 660,\n",
       "             532: 661,\n",
       "             536: 662,\n",
       "             537: 663,\n",
       "             540: 664,\n",
       "             542: 665,\n",
       "             546: 666,\n",
       "             548: 667,\n",
       "             569: 668,\n",
       "             575: 669,\n",
       "             587: 670,\n",
       "             606: 671,\n",
       "             609: 672,\n",
       "             616: 673,\n",
       "             628: 674,\n",
       "             631: 675,\n",
       "             637: 676,\n",
       "             640: 677,\n",
       "             662: 678,\n",
       "             667: 679,\n",
       "             694: 680,\n",
       "             697: 681,\n",
       "             700: 682,\n",
       "             704: 683,\n",
       "             709: 684,\n",
       "             710: 685,\n",
       "             711: 686,\n",
       "             719: 687,\n",
       "             747: 688,\n",
       "             762: 689,\n",
       "             765: 690,\n",
       "             775: 691,\n",
       "             783: 692,\n",
       "             795: 693,\n",
       "             799: 694,\n",
       "             801: 695,\n",
       "             802: 696,\n",
       "             818: 697,\n",
       "             830: 698,\n",
       "             835: 699,\n",
       "             837: 700,\n",
       "             838: 701,\n",
       "             839: 702,\n",
       "             842: 703,\n",
       "             848: 704,\n",
       "             852: 705,\n",
       "             867: 706,\n",
       "             880: 707,\n",
       "             881: 708,\n",
       "             888: 709,\n",
       "             891: 710,\n",
       "             979: 711,\n",
       "             981: 712,\n",
       "             986: 713,\n",
       "             991: 714,\n",
       "             996: 715,\n",
       "             999: 716,\n",
       "             1004: 717,\n",
       "             1006: 718,\n",
       "             1061: 719,\n",
       "             1064: 720,\n",
       "             1082: 721,\n",
       "             750: 722,\n",
       "             924: 723,\n",
       "             1101: 724,\n",
       "             1246: 725,\n",
       "             1584: 726,\n",
       "             1610: 727,\n",
       "             1682: 728,\n",
       "             1784: 729,\n",
       "             1917: 730,\n",
       "             2671: 731,\n",
       "             2688: 732,\n",
       "             2701: 733,\n",
       "             2717: 734,\n",
       "             3114: 735,\n",
       "             3354: 736,\n",
       "             3623: 737,\n",
       "             3869: 738,\n",
       "             3916: 739,\n",
       "             3977: 740,\n",
       "             3994: 741,\n",
       "             4018: 742,\n",
       "             4223: 743,\n",
       "             4306: 744,\n",
       "             4310: 745,\n",
       "             4370: 746,\n",
       "             4643: 747,\n",
       "             4700: 748,\n",
       "             4844: 749,\n",
       "             4874: 750,\n",
       "             4886: 751,\n",
       "             4963: 752,\n",
       "             4993: 753,\n",
       "             4995: 754,\n",
       "             5218: 755,\n",
       "             5349: 756,\n",
       "             5378: 757,\n",
       "             5445: 758,\n",
       "             5459: 759,\n",
       "             5464: 760,\n",
       "             5502: 761,\n",
       "             5618: 762,\n",
       "             5816: 763,\n",
       "             5952: 764,\n",
       "             5989: 765,\n",
       "             5991: 766,\n",
       "             6333: 767,\n",
       "             6365: 768,\n",
       "             6534: 769,\n",
       "             6539: 770,\n",
       "             6863: 771,\n",
       "             6934: 772,\n",
       "             7143: 773,\n",
       "             7153: 774,\n",
       "             7155: 775,\n",
       "             7445: 776,\n",
       "             8207: 777,\n",
       "             8360: 778,\n",
       "             8368: 779,\n",
       "             8373: 780,\n",
       "             8528: 781,\n",
       "             8636: 782,\n",
       "             8665: 783,\n",
       "             8666: 784,\n",
       "             8783: 785,\n",
       "             8808: 786,\n",
       "             8865: 787,\n",
       "             8870: 788,\n",
       "             8907: 789,\n",
       "             8908: 790,\n",
       "             8949: 791,\n",
       "             8957: 792,\n",
       "             8958: 793,\n",
       "             8961: 794,\n",
       "             8965: 795,\n",
       "             8970: 796,\n",
       "             8972: 797,\n",
       "             8984: 798,\n",
       "             27741: 799,\n",
       "             30812: 800,\n",
       "             30816: 801,\n",
       "             31878: 802,\n",
       "             32029: 803,\n",
       "             32031: 804,\n",
       "             32296: 805,\n",
       "             32587: 806,\n",
       "             33162: 807,\n",
       "             33493: 808,\n",
       "             33794: 809,\n",
       "             33836: 810,\n",
       "             34048: 811,\n",
       "             34319: 812,\n",
       "             37741: 813,\n",
       "             38388: 814,\n",
       "             42002: 815,\n",
       "             45499: 816,\n",
       "             45517: 817,\n",
       "             45668: 818,\n",
       "             45730: 819,\n",
       "             46530: 820,\n",
       "             48783: 821,\n",
       "             48997: 822,\n",
       "             49272: 823,\n",
       "             49278: 824,\n",
       "             49286: 825,\n",
       "             49824: 826,\n",
       "             586: 827,\n",
       "             187: 828,\n",
       "             627: 829,\n",
       "             922: 830,\n",
       "             1037: 831,\n",
       "             1095: 832,\n",
       "             1674: 833,\n",
       "             1987: 834,\n",
       "             2011: 835,\n",
       "             2023: 836,\n",
       "             2300: 837,\n",
       "             2877: 838,\n",
       "             2901: 839,\n",
       "             3173: 840,\n",
       "             3328: 841,\n",
       "             3735: 842,\n",
       "             4131: 843,\n",
       "             4558: 844,\n",
       "             5447: 845,\n",
       "             5451: 846,\n",
       "             5481: 847,\n",
       "             5507: 848,\n",
       "             5841: 849,\n",
       "             5843: 850,\n",
       "             5872: 851,\n",
       "             5890: 852,\n",
       "             5891: 853,\n",
       "             5893: 854,\n",
       "             5902: 855,\n",
       "             5956: 856,\n",
       "             5962: 857,\n",
       "             5965: 858,\n",
       "             5988: 859,\n",
       "             6001: 860,\n",
       "             6044: 861,\n",
       "             1028: 862,\n",
       "             1088: 863,\n",
       "             1247: 864,\n",
       "             1307: 865,\n",
       "             3882: 866,\n",
       "             4447: 867,\n",
       "             5066: 868,\n",
       "             5377: 869,\n",
       "             5620: 870,\n",
       "             5943: 871,\n",
       "             5957: 872,\n",
       "             6155: 873,\n",
       "             6266: 874,\n",
       "             6377: 875,\n",
       "             6535: 876,\n",
       "             6942: 877,\n",
       "             7149: 878,\n",
       "             7151: 879,\n",
       "             7154: 880,\n",
       "             7169: 881,\n",
       "             7293: 882,\n",
       "             7375: 883,\n",
       "             7451: 884,\n",
       "             7458: 885,\n",
       "             8529: 886,\n",
       "             8533: 887,\n",
       "             8869: 888,\n",
       "             8969: 889,\n",
       "             30749: 890,\n",
       "             31433: 891,\n",
       "             31685: 892,\n",
       "             33145: 893,\n",
       "             33679: 894,\n",
       "             40629: 895,\n",
       "             40819: 896,\n",
       "             41285: 897,\n",
       "             47099: 898,\n",
       "             51662: 899,\n",
       "             51705: 900,\n",
       "             51834: 901,\n",
       "             54286: 902,\n",
       "             56367: 903,\n",
       "             56949: 904,\n",
       "             58047: 905,\n",
       "             59333: 906,\n",
       "             59421: 907,\n",
       "             60397: 908,\n",
       "             60950: 909,\n",
       "             61250: 910,\n",
       "             63113: 911,\n",
       "             63992: 912,\n",
       "             64969: 913,\n",
       "             66203: 914,\n",
       "             68954: 915,\n",
       "             69406: 916,\n",
       "             69844: 917,\n",
       "             70183: 918,\n",
       "             70293: 919,\n",
       "             71579: 920,\n",
       "             72011: 921,\n",
       "             72330: 922,\n",
       "             72407: 923,\n",
       "             72720: 924,\n",
       "             72737: 925,\n",
       "             72998: 926,\n",
       "             73017: 927,\n",
       "             74450: 928,\n",
       "             77841: 929,\n",
       "             78772: 930,\n",
       "             79091: 931,\n",
       "             80549: 932,\n",
       "             81784: 933,\n",
       "             81845: 934,\n",
       "             81847: 935,\n",
       "             82167: 936,\n",
       "             82499: 937,\n",
       "             84374: 938,\n",
       "             86548: 939,\n",
       "             87222: 940,\n",
       "             88163: 941,\n",
       "             88810: 942,\n",
       "             91104: 943,\n",
       "             92259: 944,\n",
       "             94070: 945,\n",
       "             95167: 946,\n",
       "             95449: 947,\n",
       "             95510: 948,\n",
       "             95543: 949,\n",
       "             96079: 950,\n",
       "             97024: 951,\n",
       "             97938: 952,\n",
       "             98203: 953,\n",
       "             103335: 954,\n",
       "             103339: 955,\n",
       "             104374: 956,\n",
       "             105211: 957,\n",
       "             106489: 958,\n",
       "             106696: 959,\n",
       "             107141: 960,\n",
       "             109374: 961,\n",
       "             109853: 962,\n",
       "             112006: 963,\n",
       "             113275: 964,\n",
       "             113394: 965,\n",
       "             119145: 966,\n",
       "             129428: 967,\n",
       "             136020: 968,\n",
       "             137595: 969,\n",
       "             140110: 970,\n",
       "             44: 971,\n",
       "             376: 972,\n",
       "             511: 973,\n",
       "             529: 974,\n",
       "             1100: 975,\n",
       "             1358: 976,\n",
       "             1370: 977,\n",
       "             1385: 978,\n",
       "             1438: 979,\n",
       "             1518: 980,\n",
       "             1586: 981,\n",
       "             1604: 982,\n",
       "             1608: 983,\n",
       "             1616: 984,\n",
       "             1687: 985,\n",
       "             1693: 986,\n",
       "             1721: 987,\n",
       "             1840: 988,\n",
       "             1882: 989,\n",
       "             1918: 990,\n",
       "             2002: 991,\n",
       "             2027: 992,\n",
       "             1357: 993,\n",
       "             1405: 994,\n",
       "             1876: 995,\n",
       "             2072: 996,\n",
       "             2100: 997,\n",
       "             2421: 998,\n",
       "             2485: 999,\n",
       "             ...})"
      ]
     },
     "execution_count": 188,
     "metadata": {},
     "output_type": "execute_result"
    }
   ],
   "source": [
    "iid_map"
   ]
  },
  {
   "cell_type": "markdown",
   "metadata": {},
   "source": [
    "Create the dataset variable representing the dataset prepared for use to create a recommendation systems using the Spotlight platform."
   ]
  },
  {
   "cell_type": "markdown",
   "metadata": {},
   "source": [
    "## Implicit Factorization model"
   ]
  },
  {
   "cell_type": "code",
   "execution_count": 12,
   "metadata": {
    "ExecuteTime": {
     "end_time": "2020-08-14T07:59:10.700140Z",
     "start_time": "2020-08-14T07:59:10.663264Z"
    },
    "code_folding": []
   },
   "outputs": [],
   "source": [
    "from spotlight.interactions import Interactions\n",
    "from spotlight.cross_validation import random_train_test_split\n",
    "from spotlight.factorization.implicit import ImplicitFactorizationModel\n",
    "import time  \n",
    "\n",
    "\n",
    "#pecify the ids of the users and items for all the pairs of user-item interactions\n",
    "implicit_interaction = Interactions(user_ids=uids,\n",
    "                                   item_ids=iids,\n",
    "                                   timestamps = timestamps)\n",
    "\n",
    "\n",
    "#lets initialise the seed, so that its repeatable and reproducible \n",
    "implicit_train_tmp, implicit_test = random_train_test_split(implicit_interaction, random_state=np.random.seed(42))\n",
    "implicit_train, implicit_val = random_train_test_split(implicit_train_tmp, random_state=np.random.seed(42))\n",
    "implicit_train_features, implicit_train_labels = random_train_test_split(implicit_train, random_state=np.random.seed(42))"
   ]
  },
  {
   "cell_type": "code",
   "execution_count": 13,
   "metadata": {
    "ExecuteTime": {
     "end_time": "2020-08-14T07:59:10.716721Z",
     "start_time": "2020-08-14T07:59:10.702136Z"
    }
   },
   "outputs": [
    {
     "name": "stdout",
     "output_type": "stream",
     "text": [
      "<Interactions dataset (610 users x 9724 items x 64534 interactions)>\n",
      "<Interactions dataset (610 users x 9724 items x 20168 interactions)>\n",
      "<Interactions dataset (610 users x 9724 items x 16134 interactions)>\n",
      "<Interactions dataset (610 users x 9724 items x 51627 interactions)>\n",
      "<Interactions dataset (610 users x 9724 items x 12907 interactions)>\n"
     ]
    }
   ],
   "source": [
    "print(implicit_train)\n",
    "print(implicit_test)\n",
    "print(implicit_val)\n",
    "print(implicit_train_features)\n",
    "print(implicit_train_labels)"
   ]
  },
  {
   "cell_type": "markdown",
   "metadata": {},
   "source": [
    "### Train-test split to DataFrame"
   ]
  },
  {
   "cell_type": "markdown",
   "metadata": {},
   "source": [
    "Train and test interaction datasets are converted to dataframes, in order to be used from other models too and provide consistent and fair results."
   ]
  },
  {
   "cell_type": "code",
   "execution_count": 14,
   "metadata": {
    "ExecuteTime": {
     "end_time": "2020-08-14T07:59:10.732220Z",
     "start_time": "2020-08-14T07:59:10.719713Z"
    },
    "code_folding": []
   },
   "outputs": [],
   "source": [
    "def interactionToDataFrame(dataset):\n",
    "    converted_users = []\n",
    "    converted_movies = []\n",
    "    rating = []\n",
    "    #FOR EACH INTERACTION\n",
    "    for i in range(len(dataset.user_ids)):\n",
    "        converted_users.append(uid_rev_map[dataset.user_ids[i]])\n",
    "        converted_movies.append(iid_rev_map[dataset.item_ids[i]])\n",
    "        rating.append(float(ratings_df['rating'][(ratings_df['movieId'] == converted_movies[i]) & (\n",
    "            ratings_df['userId'] == converted_users[i])].values))\n",
    "\n",
    "    df = pd.DataFrame({'user_id': converted_users,\n",
    "                       'movie_id': converted_movies, 'rating': rating})\n",
    "    return df"
   ]
  },
  {
   "cell_type": "code",
   "execution_count": 15,
   "metadata": {
    "ExecuteTime": {
     "end_time": "2020-08-14T08:04:32.239790Z",
     "start_time": "2020-08-14T07:59:10.735208Z"
    }
   },
   "outputs": [],
   "source": [
    "train_df = interactionToDataFrame(implicit_train)\n",
    "val_df = interactionToDataFrame(implicit_val)\n",
    "test_df = interactionToDataFrame(implicit_test)\n",
    "train_features_df = interactionToDataFrame(implicit_train_features)\n",
    "train_labels_df = interactionToDataFrame(implicit_train_labels)"
   ]
  },
  {
   "cell_type": "markdown",
   "metadata": {},
   "source": [
    "### Pickle "
   ]
  },
  {
   "cell_type": "markdown",
   "metadata": {},
   "source": [
    "Save"
   ]
  },
  {
   "cell_type": "code",
   "execution_count": 16,
   "metadata": {
    "ExecuteTime": {
     "end_time": "2020-08-14T08:04:32.257777Z",
     "start_time": "2020-08-14T08:04:32.244829Z"
    }
   },
   "outputs": [
    {
     "data": {
      "text/plain": [
       "'train_df.to_pickle(\"./train_df.pkl\")\\ntest_df.to_pickle(\"./test_df.pkl\")\\nval_df.to_pickle(\"./val_df.pkl\")'"
      ]
     },
     "execution_count": 16,
     "metadata": {},
     "output_type": "execute_result"
    }
   ],
   "source": [
    "'''train_df.to_pickle(\"./train_df.pkl\")\n",
    "test_df.to_pickle(\"./test_df.pkl\")\n",
    "val_df.to_pickle(\"./val_df.pkl\")'''"
   ]
  },
  {
   "cell_type": "markdown",
   "metadata": {},
   "source": [
    "Load"
   ]
  },
  {
   "cell_type": "code",
   "execution_count": 17,
   "metadata": {
    "ExecuteTime": {
     "end_time": "2020-08-14T08:04:32.327913Z",
     "start_time": "2020-08-14T08:04:32.262182Z"
    }
   },
   "outputs": [
    {
     "data": {
      "text/plain": [
       "'train_df = pd.read_pickle(\"./train_df.pkl\")\\ntest_df = pd.read_pickle(\"./test_df.pkl\")\\nval_df = pd.read_pickle(\"./val_df.pkl\")'"
      ]
     },
     "execution_count": 17,
     "metadata": {},
     "output_type": "execute_result"
    }
   ],
   "source": [
    "'''train_df = pd.read_pickle(\"./train_df.pkl\")\n",
    "test_df = pd.read_pickle(\"./test_df.pkl\")\n",
    "val_df = pd.read_pickle(\"./val_df.pkl\")'''"
   ]
  },
  {
   "cell_type": "markdown",
   "metadata": {},
   "source": [
    "### Train Implicit Factorization model "
   ]
  },
  {
   "cell_type": "code",
   "execution_count": 18,
   "metadata": {
    "ExecuteTime": {
     "end_time": "2020-08-14T08:05:20.427347Z",
     "start_time": "2020-08-14T08:04:32.331341Z"
    }
   },
   "outputs": [
    {
     "name": "stdout",
     "output_type": "stream",
     "text": [
      "Epoch 0: loss 0.7727972939315992\n",
      "Epoch 1: loss 0.44629176567665674\n",
      "Epoch 2: loss 0.39687337682181195\n",
      "Epoch 3: loss 0.3601803479222912\n",
      "Epoch 4: loss 0.3237792207553924\n",
      "Training took 48 second\n"
     ]
    }
   ],
   "source": [
    "implicit_model = ImplicitFactorizationModel(n_iter=5)\n",
    "\n",
    "current = time.time()\n",
    "\n",
    "implicit_model.fit(implicit_train, verbose=True)\n",
    "\n",
    "end = time.time()\n",
    "diff = end - current\n",
    "print('Training took %d second' % (diff))"
   ]
  },
  {
   "cell_type": "markdown",
   "metadata": {},
   "source": [
    "### MRR score"
   ]
  },
  {
   "cell_type": "code",
   "execution_count": 19,
   "metadata": {
    "ExecuteTime": {
     "end_time": "2020-08-14T08:05:25.194017Z",
     "start_time": "2020-08-14T08:05:20.431817Z"
    }
   },
   "outputs": [
    {
     "name": "stdout",
     "output_type": "stream",
     "text": [
      "0.27662204135526713\n"
     ]
    }
   ],
   "source": [
    "from spotlight.evaluation import mrr_score\n",
    "print(mrr_score(implicit_model, implicit_test, train=implicit_train, k=100).mean())"
   ]
  },
  {
   "cell_type": "markdown",
   "metadata": {},
   "source": [
    "Distribution of scores for a user"
   ]
  },
  {
   "cell_type": "code",
   "execution_count": 20,
   "metadata": {
    "ExecuteTime": {
     "end_time": "2020-08-14T08:05:26.018411Z",
     "start_time": "2020-08-14T08:05:25.194017Z"
    }
   },
   "outputs": [
    {
     "data": {
      "text/plain": [
       "(array([4.000e+00, 6.000e+00, 3.100e+01, 7.900e+01, 2.130e+02, 4.550e+02,\n",
       "        9.800e+02, 1.478e+03, 1.343e+03, 9.470e+02, 6.040e+02, 4.000e+02,\n",
       "        2.960e+02, 2.230e+02, 2.160e+02, 1.850e+02, 1.620e+02, 1.530e+02,\n",
       "        1.290e+02, 1.390e+02, 1.270e+02, 1.290e+02, 9.600e+01, 1.100e+02,\n",
       "        8.500e+01, 9.800e+01, 9.100e+01, 9.100e+01, 1.220e+02, 1.040e+02,\n",
       "        1.120e+02, 1.220e+02, 1.260e+02, 9.900e+01, 8.800e+01, 4.800e+01,\n",
       "        2.100e+01, 1.000e+01, 1.000e+00, 1.000e+00]),\n",
       " array([-13.502271  , -12.847301  , -12.192329  , -11.537359  ,\n",
       "        -10.882388  , -10.227418  ,  -9.572448  ,  -8.917477  ,\n",
       "         -8.2625065 ,  -7.607536  ,  -6.952565  ,  -6.2975945 ,\n",
       "         -5.642624  ,  -4.9876537 ,  -4.332683  ,  -3.6777124 ,\n",
       "         -3.0227418 ,  -2.3677714 ,  -1.7128007 ,  -1.0578302 ,\n",
       "         -0.4028597 ,   0.25211087,   0.9070814 ,   1.562052  ,\n",
       "          2.2170224 ,   2.871993  ,   3.5269637 ,   4.1819344 ,\n",
       "          4.8369045 ,   5.491875  ,   6.146846  ,   6.8018165 ,\n",
       "          7.456787  ,   8.111757  ,   8.766728  ,   9.421699  ,\n",
       "         10.076669  ,  10.73164   ,  11.38661   ,  12.041581  ,\n",
       "         12.696551  ], dtype=float32),\n",
       " <a list of 40 Patch objects>)"
      ]
     },
     "execution_count": 20,
     "metadata": {},
     "output_type": "execute_result"
    },
    {
     "data": {
      "image/png": "[encoded data removed]",
      "text/plain": [
       "<Figure size 432x288 with 1 Axes>"
      ]
     },
     "metadata": {
      "needs_background": "light"
     },
     "output_type": "display_data"
    }
   ],
   "source": [
    "plt.hist(implicit_model.predict(0), color = 'blue', edgecolor = 'black',\n",
    "         bins = 40)"
   ]
  },
  {
   "cell_type": "markdown",
   "metadata": {},
   "source": [
    "Not a lot items with high score"
   ]
  },
  {
   "cell_type": "markdown",
   "metadata": {},
   "source": [
    "### Top-K predictions for a user"
   ]
  },
  {
   "cell_type": "markdown",
   "metadata": {},
   "source": [
    "The function below (allUsers_topK_implicit) returns a list that contains the top-K recommendations for each user."
   ]
  },
  {
   "cell_type": "code",
   "execution_count": 21,
   "metadata": {
    "ExecuteTime": {
     "end_time": "2020-08-14T08:05:26.055354Z",
     "start_time": "2020-08-14T08:05:26.018411Z"
    },
    "cell_style": "split",
    "scrolled": true
   },
   "outputs": [
    {
     "name": "stdout",
     "output_type": "stream",
     "text": [
      "[1, 47, 50, 70, 110, 151, 223, 260, 296, 316, 333, 349, 356, 367, 457, 527, 552, 590, 592, 593, 608, 648, 661, 733, 736, 780, 1042, 1073, 1196, 1197, 1198, 1208, 1210, 1240, 1258, 1265, 1500, 1617, 2000, 2028, 2571, 2640, 2797, 21, 32, 708, 908, 920, 1183, 3897, 39, 150, 261, 344, 589, 597, 10, 17, 25, 95, 141, 165, 168, 185, 208, 292, 293, 317, 337, 339, 377, 434, 454, 494, 520, 587, 1061, 924, 586, 2100, 784, 858, 1527, 1909, 111, 541, 1221, 653, 778, 173, 420, 785, 788, 2248, 2710, 471, 786, 805, 1673, 69]\n"
     ]
    }
   ],
   "source": [
    "import scipy.stats as st\n",
    "k = 100\n",
    "def topK_implicit(user, model, k=100):\n",
    "  a= list()\n",
    "  ranks = st.rankdata(-model.predict(user))   \n",
    "  for iid in np.argwhere(ranks <= k):\n",
    "    #print(iid_rev_map[iid.item(0)])\n",
    "    a.append(iid_rev_map[iid.item(0)])\n",
    "  return a\n",
    "\n",
    "rec_forUser = topK_implicit(0,implicit_model)\n",
    "print(rec_forUser)"
   ]
  },
  {
   "cell_type": "code",
   "execution_count": 22,
   "metadata": {
    "ExecuteTime": {
     "end_time": "2020-08-14T08:05:26.086226Z",
     "start_time": "2020-08-14T08:05:26.055354Z"
    },
    "cell_style": "split"
   },
   "outputs": [],
   "source": [
    "def allUsers_topK_implicit(model):\n",
    "    a = []\n",
    "    for i in range(len(num_users)):\n",
    "       a.append(topK_implicit(i,model))\n",
    "    return a"
   ]
  },
  {
   "cell_type": "code",
   "execution_count": 23,
   "metadata": {
    "ExecuteTime": {
     "end_time": "2020-08-14T08:05:26.149807Z",
     "start_time": "2020-08-14T08:05:26.094181Z"
    },
    "scrolled": true
   },
   "outputs": [
    {
     "data": {
      "text/html": [
       "<div>\n",
       "<style scoped>\n",
       "    .dataframe tbody tr th:only-of-type {\n",
       "        vertical-align: middle;\n",
       "    }\n",
       "\n",
       "    .dataframe tbody tr th {\n",
       "        vertical-align: top;\n",
       "    }\n",
       "\n",
       "    .dataframe thead th {\n",
       "        text-align: right;\n",
       "    }\n",
       "</style>\n",
       "<table border=\"1\" class=\"dataframe\">\n",
       "  <thead>\n",
       "    <tr style=\"text-align: right;\">\n",
       "      <th></th>\n",
       "      <th>movieId</th>\n",
       "      <th>title</th>\n",
       "      <th>genres</th>\n",
       "    </tr>\n",
       "  </thead>\n",
       "  <tbody>\n",
       "    <tr>\n",
       "      <th>0</th>\n",
       "      <td>1</td>\n",
       "      <td>Toy Story (1995)</td>\n",
       "      <td>Adventure|Animation|Children|Comedy|Fantasy</td>\n",
       "    </tr>\n",
       "    <tr>\n",
       "      <th>9</th>\n",
       "      <td>10</td>\n",
       "      <td>GoldenEye (1995)</td>\n",
       "      <td>Action|Adventure|Thriller</td>\n",
       "    </tr>\n",
       "    <tr>\n",
       "      <th>16</th>\n",
       "      <td>17</td>\n",
       "      <td>Sense and Sensibility (1995)</td>\n",
       "      <td>Drama|Romance</td>\n",
       "    </tr>\n",
       "    <tr>\n",
       "      <th>20</th>\n",
       "      <td>21</td>\n",
       "      <td>Get Shorty (1995)</td>\n",
       "      <td>Comedy|Crime|Thriller</td>\n",
       "    </tr>\n",
       "    <tr>\n",
       "      <th>24</th>\n",
       "      <td>25</td>\n",
       "      <td>Leaving Las Vegas (1995)</td>\n",
       "      <td>Drama|Romance</td>\n",
       "    </tr>\n",
       "    <tr>\n",
       "      <th>...</th>\n",
       "      <td>...</td>\n",
       "      <td>...</td>\n",
       "      <td>...</td>\n",
       "    </tr>\n",
       "    <tr>\n",
       "      <th>1939</th>\n",
       "      <td>2571</td>\n",
       "      <td>Matrix, The (1999)</td>\n",
       "      <td>Action|Sci-Fi|Thriller</td>\n",
       "    </tr>\n",
       "    <tr>\n",
       "      <th>1986</th>\n",
       "      <td>2640</td>\n",
       "      <td>Superman (1978)</td>\n",
       "      <td>Action|Adventure|Sci-Fi</td>\n",
       "    </tr>\n",
       "    <tr>\n",
       "      <th>2035</th>\n",
       "      <td>2710</td>\n",
       "      <td>Blair Witch Project, The (1999)</td>\n",
       "      <td>Drama|Horror|Thriller</td>\n",
       "    </tr>\n",
       "    <tr>\n",
       "      <th>2103</th>\n",
       "      <td>2797</td>\n",
       "      <td>Big (1988)</td>\n",
       "      <td>Comedy|Drama|Fantasy|Romance</td>\n",
       "    </tr>\n",
       "    <tr>\n",
       "      <th>2907</th>\n",
       "      <td>3897</td>\n",
       "      <td>Almost Famous (2000)</td>\n",
       "      <td>Drama</td>\n",
       "    </tr>\n",
       "  </tbody>\n",
       "</table>\n",
       "<p>100 rows × 3 columns</p>\n",
       "</div>"
      ],
      "text/plain": [
       "      movieId                            title  \\\n",
       "0           1                 Toy Story (1995)   \n",
       "9          10                 GoldenEye (1995)   \n",
       "16         17     Sense and Sensibility (1995)   \n",
       "20         21                Get Shorty (1995)   \n",
       "24         25         Leaving Las Vegas (1995)   \n",
       "...       ...                              ...   \n",
       "1939     2571               Matrix, The (1999)   \n",
       "1986     2640                  Superman (1978)   \n",
       "2035     2710  Blair Witch Project, The (1999)   \n",
       "2103     2797                       Big (1988)   \n",
       "2907     3897             Almost Famous (2000)   \n",
       "\n",
       "                                           genres  \n",
       "0     Adventure|Animation|Children|Comedy|Fantasy  \n",
       "9                       Action|Adventure|Thriller  \n",
       "16                                  Drama|Romance  \n",
       "20                          Comedy|Crime|Thriller  \n",
       "24                                  Drama|Romance  \n",
       "...                                           ...  \n",
       "1939                       Action|Sci-Fi|Thriller  \n",
       "1986                      Action|Adventure|Sci-Fi  \n",
       "2035                        Drama|Horror|Thriller  \n",
       "2103                 Comedy|Drama|Fantasy|Romance  \n",
       "2907                                        Drama  \n",
       "\n",
       "[100 rows x 3 columns]"
      ]
     },
     "execution_count": 23,
     "metadata": {},
     "output_type": "execute_result"
    }
   ],
   "source": [
    "movies_df.loc[movies_df['movieId'].isin(rec_forUser)]"
   ]
  },
  {
   "cell_type": "code",
   "execution_count": 24,
   "metadata": {
    "ExecuteTime": {
     "end_time": "2020-08-14T08:05:26.187638Z",
     "start_time": "2020-08-14T08:05:26.157802Z"
    }
   },
   "outputs": [],
   "source": [
    "movies_pred = movies_df['movieId'][movies_df['movieId'].isin(rec_forUser)]"
   ]
  },
  {
   "cell_type": "markdown",
   "metadata": {},
   "source": [
    "### Μovies watched from a user"
   ]
  },
  {
   "cell_type": "code",
   "execution_count": 25,
   "metadata": {
    "ExecuteTime": {
     "end_time": "2020-08-14T08:05:26.221617Z",
     "start_time": "2020-08-14T08:05:26.187638Z"
    }
   },
   "outputs": [],
   "source": [
    "actual = ratings_df[ratings_df[\"userId\"]==uid_rev_map.get(0)].groupby(\"movieId\")[\"movieId\"].count().sort_values(ascending=False).head(100)"
   ]
  },
  {
   "cell_type": "code",
   "execution_count": 26,
   "metadata": {
    "ExecuteTime": {
     "end_time": "2020-08-14T08:05:26.237355Z",
     "start_time": "2020-08-14T08:05:26.221617Z"
    }
   },
   "outputs": [],
   "source": [
    "actual = actual.index.tolist()"
   ]
  },
  {
   "cell_type": "code",
   "execution_count": 27,
   "metadata": {
    "ExecuteTime": {
     "end_time": "2020-08-14T08:05:26.275877Z",
     "start_time": "2020-08-14T08:05:26.238353Z"
    },
    "scrolled": true
   },
   "outputs": [
    {
     "data": {
      "text/html": [
       "<div>\n",
       "<style scoped>\n",
       "    .dataframe tbody tr th:only-of-type {\n",
       "        vertical-align: middle;\n",
       "    }\n",
       "\n",
       "    .dataframe tbody tr th {\n",
       "        vertical-align: top;\n",
       "    }\n",
       "\n",
       "    .dataframe thead th {\n",
       "        text-align: right;\n",
       "    }\n",
       "</style>\n",
       "<table border=\"1\" class=\"dataframe\">\n",
       "  <thead>\n",
       "    <tr style=\"text-align: right;\">\n",
       "      <th></th>\n",
       "      <th>movieId</th>\n",
       "      <th>title</th>\n",
       "      <th>genres</th>\n",
       "    </tr>\n",
       "  </thead>\n",
       "  <tbody>\n",
       "    <tr>\n",
       "      <th>2</th>\n",
       "      <td>3</td>\n",
       "      <td>Grumpier Old Men (1995)</td>\n",
       "      <td>Comedy|Romance</td>\n",
       "    </tr>\n",
       "    <tr>\n",
       "      <th>5</th>\n",
       "      <td>6</td>\n",
       "      <td>Heat (1995)</td>\n",
       "      <td>Action|Crime|Thriller</td>\n",
       "    </tr>\n",
       "    <tr>\n",
       "      <th>43</th>\n",
       "      <td>47</td>\n",
       "      <td>Seven (a.k.a. Se7en) (1995)</td>\n",
       "      <td>Mystery|Thriller</td>\n",
       "    </tr>\n",
       "    <tr>\n",
       "      <th>46</th>\n",
       "      <td>50</td>\n",
       "      <td>Usual Suspects, The (1995)</td>\n",
       "      <td>Crime|Mystery|Thriller</td>\n",
       "    </tr>\n",
       "    <tr>\n",
       "      <th>62</th>\n",
       "      <td>70</td>\n",
       "      <td>From Dusk Till Dawn (1996)</td>\n",
       "      <td>Action|Comedy|Horror|Thriller</td>\n",
       "    </tr>\n",
       "    <tr>\n",
       "      <th>...</th>\n",
       "      <td>...</td>\n",
       "      <td>...</td>\n",
       "      <td>...</td>\n",
       "    </tr>\n",
       "    <tr>\n",
       "      <th>1332</th>\n",
       "      <td>1804</td>\n",
       "      <td>Newton Boys, The (1998)</td>\n",
       "      <td>Crime|Drama</td>\n",
       "    </tr>\n",
       "    <tr>\n",
       "      <th>1333</th>\n",
       "      <td>1805</td>\n",
       "      <td>Wild Things (1998)</td>\n",
       "      <td>Crime|Drama|Mystery|Thriller</td>\n",
       "    </tr>\n",
       "    <tr>\n",
       "      <th>1401</th>\n",
       "      <td>1920</td>\n",
       "      <td>Small Soldiers (1998)</td>\n",
       "      <td>Animation|Children|Fantasy|War</td>\n",
       "    </tr>\n",
       "    <tr>\n",
       "      <th>2991</th>\n",
       "      <td>4006</td>\n",
       "      <td>Transformers: The Movie (1986)</td>\n",
       "      <td>Adventure|Animation|Children|Sci-Fi</td>\n",
       "    </tr>\n",
       "    <tr>\n",
       "      <th>3673</th>\n",
       "      <td>5060</td>\n",
       "      <td>M*A*S*H (a.k.a. MASH) (1970)</td>\n",
       "      <td>Comedy|Drama|War</td>\n",
       "    </tr>\n",
       "  </tbody>\n",
       "</table>\n",
       "<p>100 rows × 3 columns</p>\n",
       "</div>"
      ],
      "text/plain": [
       "      movieId                           title  \\\n",
       "2           3         Grumpier Old Men (1995)   \n",
       "5           6                     Heat (1995)   \n",
       "43         47     Seven (a.k.a. Se7en) (1995)   \n",
       "46         50      Usual Suspects, The (1995)   \n",
       "62         70      From Dusk Till Dawn (1996)   \n",
       "...       ...                             ...   \n",
       "1332     1804         Newton Boys, The (1998)   \n",
       "1333     1805              Wild Things (1998)   \n",
       "1401     1920           Small Soldiers (1998)   \n",
       "2991     4006  Transformers: The Movie (1986)   \n",
       "3673     5060    M*A*S*H (a.k.a. MASH) (1970)   \n",
       "\n",
       "                                   genres  \n",
       "2                          Comedy|Romance  \n",
       "5                   Action|Crime|Thriller  \n",
       "43                       Mystery|Thriller  \n",
       "46                 Crime|Mystery|Thriller  \n",
       "62          Action|Comedy|Horror|Thriller  \n",
       "...                                   ...  \n",
       "1332                          Crime|Drama  \n",
       "1333         Crime|Drama|Mystery|Thriller  \n",
       "1401       Animation|Children|Fantasy|War  \n",
       "2991  Adventure|Animation|Children|Sci-Fi  \n",
       "3673                     Comedy|Drama|War  \n",
       "\n",
       "[100 rows x 3 columns]"
      ]
     },
     "execution_count": 27,
     "metadata": {},
     "output_type": "execute_result"
    }
   ],
   "source": [
    "movies_df.loc[movies_df['movieId'].isin(actual)]"
   ]
  },
  {
   "cell_type": "code",
   "execution_count": 28,
   "metadata": {
    "ExecuteTime": {
     "end_time": "2020-08-14T08:05:26.293454Z",
     "start_time": "2020-08-14T08:05:26.276910Z"
    }
   },
   "outputs": [],
   "source": [
    "movies_watched = movies_df['movieId'][movies_df['movieId'].isin(actual)]"
   ]
  },
  {
   "cell_type": "markdown",
   "metadata": {},
   "source": [
    "### NDCG Score"
   ]
  },
  {
   "cell_type": "code",
   "execution_count": 29,
   "metadata": {
    "ExecuteTime": {
     "end_time": "2020-08-14T08:05:30.981100Z",
     "start_time": "2020-08-14T08:05:26.293454Z"
    }
   },
   "outputs": [],
   "source": [
    "allUsers_topK_imp = allUsers_topK_implicit(implicit_model)"
   ]
  },
  {
   "cell_type": "code",
   "execution_count": 30,
   "metadata": {
    "ExecuteTime": {
     "end_time": "2020-08-14T08:05:30.997248Z",
     "start_time": "2020-08-14T08:05:30.981100Z"
    }
   },
   "outputs": [
    {
     "data": {
      "text/plain": [
       "True"
      ]
     },
     "execution_count": 30,
     "metadata": {},
     "output_type": "execute_result"
    }
   ],
   "source": [
    "rec_forUser == allUsers_topK_imp[0]"
   ]
  },
  {
   "cell_type": "code",
   "execution_count": 31,
   "metadata": {
    "ExecuteTime": {
     "end_time": "2020-08-14T08:05:31.198877Z",
     "start_time": "2020-08-14T08:05:31.003173Z"
    }
   },
   "outputs": [],
   "source": [
    "relevance_implicit = []\n",
    "for i in range(len(rec_forUser)):\n",
    "    if rec_forUser[i] in test_df['movie_id'][test_df['user_id'] == 1].values.tolist():\n",
    "        relevance_implicit.append(1)\n",
    "    else:\n",
    "        relevance_implicit.append(0)\n",
    "    "
   ]
  },
  {
   "cell_type": "markdown",
   "metadata": {},
   "source": [
    "Compute the relevance for each user. The relevance containes 0s and 1s based on which movies each has watched. For every recommended movie that the user has actually watched, the value of 1 is assigned. There is a relevance list for each user."
   ]
  },
  {
   "cell_type": "code",
   "execution_count": 32,
   "metadata": {
    "ExecuteTime": {
     "end_time": "2020-08-14T08:05:31.216592Z",
     "start_time": "2020-08-14T08:05:31.199910Z"
    }
   },
   "outputs": [],
   "source": [
    "def relevance_spotlight_implicit(allUsers_topK):\n",
    "    relevance_implicit_full = []\n",
    "    helper = []\n",
    "    count = 0\n",
    "    for i in range(1,len(num_users)+1):\n",
    "        for j in range(len(allUsers_topK[count])):\n",
    "            if allUsers_topK[count][j] in test_df['movie_id'][test_df['user_id'] == i].values.tolist():\n",
    "                helper.append(1)\n",
    "            else:\n",
    "                helper.append(0)\n",
    "        relevance_implicit_full.append(helper)\n",
    "        helper = []\n",
    "        count += 1\n",
    "    return relevance_implicit_full"
   ]
  },
  {
   "cell_type": "code",
   "execution_count": 33,
   "metadata": {
    "ExecuteTime": {
     "end_time": "2020-08-14T08:06:26.093176Z",
     "start_time": "2020-08-14T08:05:31.219030Z"
    }
   },
   "outputs": [],
   "source": [
    "relevance_implicit_full = relevance_spotlight_implicit(allUsers_topK_imp)"
   ]
  },
  {
   "cell_type": "code",
   "execution_count": 34,
   "metadata": {
    "ExecuteTime": {
     "end_time": "2020-08-14T08:06:26.112298Z",
     "start_time": "2020-08-14T08:06:26.097073Z"
    }
   },
   "outputs": [
    {
     "data": {
      "text/plain": [
       "True"
      ]
     },
     "execution_count": 34,
     "metadata": {},
     "output_type": "execute_result"
    }
   ],
   "source": [
    "relevance_implicit == relevance_implicit_full[0]"
   ]
  },
  {
   "cell_type": "markdown",
   "metadata": {},
   "source": [
    "The dcg and ideal_dcg functions are taken form https://github.com/lezzago/LambdaMart/blob/master/lambdamart.py. They are necessary to compute the desired NDCG evaluation metric."
   ]
  },
  {
   "cell_type": "code",
   "execution_count": 35,
   "metadata": {
    "ExecuteTime": {
     "end_time": "2020-08-14T08:06:26.191602Z",
     "start_time": "2020-08-14T08:06:26.116952Z"
    }
   },
   "outputs": [],
   "source": [
    "def dcg(scores):\n",
    "    \"\"\"\n",
    "    Returns the DCG value of the list of scores.\n",
    "    Parameters\n",
    "    ----------\n",
    "    scores : list\n",
    "        Contains labels in a certain ranked order\n",
    "\n",
    "    Returns\n",
    "    -------\n",
    "    DCG_val: int\n",
    "        This is the value of the DCG on the given scores\n",
    "    \"\"\"\n",
    "    return np.sum([\n",
    "                    (np.power(2, scores[i]) - 1) / np.log2(i + 2)\n",
    "                    for i in range(len(scores))\n",
    "                ])"
   ]
  },
  {
   "cell_type": "code",
   "execution_count": 36,
   "metadata": {
    "ExecuteTime": {
     "end_time": "2020-08-14T08:06:26.207280Z",
     "start_time": "2020-08-14T08:06:26.195991Z"
    }
   },
   "outputs": [],
   "source": [
    "def ideal_dcg(scores):\n",
    "    \"\"\"\n",
    "    Returns the Ideal DCG value of the list of scores.\n",
    "    Parameters\n",
    "    ----------\n",
    "    scores : list\n",
    "        Contains labels in a certain ranked order\n",
    "\n",
    "    Returns\n",
    "    -------\n",
    "    Ideal_DCG_val: int\n",
    "        This is the value of the Ideal DCG on the given scores\n",
    "    \"\"\"\n",
    "    scores = [score for score in sorted(scores)[::-1]]\n",
    "    return dcg(scores)"
   ]
  },
  {
   "cell_type": "code",
   "execution_count": 37,
   "metadata": {
    "ExecuteTime": {
     "end_time": "2020-08-14T08:06:26.220409Z",
     "start_time": "2020-08-14T08:06:26.211325Z"
    }
   },
   "outputs": [],
   "source": [
    "def NDCG_forUser(relevance):\n",
    "    return dcg(relevance) / ideal_dcg(relevance)"
   ]
  },
  {
   "cell_type": "code",
   "execution_count": 38,
   "metadata": {
    "ExecuteTime": {
     "end_time": "2020-08-14T08:06:26.243833Z",
     "start_time": "2020-08-14T08:06:26.225156Z"
    }
   },
   "outputs": [
    {
     "name": "stdout",
     "output_type": "stream",
     "text": [
      "0.4676080222659298\n",
      "0.4676080222659298\n"
     ]
    }
   ],
   "source": [
    "ndcg = NDCG_forUser(relevance_implicit_full[0])\n",
    "print(ndcg)\n",
    "ndcg = NDCG_forUser(relevance_implicit)\n",
    "print(ndcg)"
   ]
  },
  {
   "cell_type": "code",
   "execution_count": 181,
   "metadata": {
    "ExecuteTime": {
     "end_time": "2020-08-14T12:24:46.611670Z",
     "start_time": "2020-08-14T12:24:46.599701Z"
    }
   },
   "outputs": [
    {
     "data": {
      "text/plain": [
       "[0,\n",
       " 0,\n",
       " 0,\n",
       " 0,\n",
       " 1,\n",
       " 0,\n",
       " 0,\n",
       " 0,\n",
       " 1,\n",
       " 0,\n",
       " 0,\n",
       " 0,\n",
       " 0,\n",
       " 1,\n",
       " 0,\n",
       " 0,\n",
       " 0,\n",
       " 0,\n",
       " 0,\n",
       " 0,\n",
       " 1,\n",
       " 0,\n",
       " 0,\n",
       " 0,\n",
       " 0,\n",
       " 0,\n",
       " 0,\n",
       " 0,\n",
       " 0,\n",
       " 0,\n",
       " 0,\n",
       " 0,\n",
       " 0,\n",
       " 0,\n",
       " 0,\n",
       " 0,\n",
       " 1,\n",
       " 0,\n",
       " 0,\n",
       " 1,\n",
       " 0,\n",
       " 0,\n",
       " 0,\n",
       " 0,\n",
       " 0,\n",
       " 0,\n",
       " 0,\n",
       " 0,\n",
       " 0,\n",
       " 0,\n",
       " 0,\n",
       " 0,\n",
       " 0,\n",
       " 0,\n",
       " 0,\n",
       " 0,\n",
       " 0,\n",
       " 0,\n",
       " 0,\n",
       " 0,\n",
       " 0,\n",
       " 0,\n",
       " 0,\n",
       " 0,\n",
       " 0,\n",
       " 0,\n",
       " 0,\n",
       " 0,\n",
       " 0,\n",
       " 0,\n",
       " 0,\n",
       " 0,\n",
       " 0,\n",
       " 0,\n",
       " 0,\n",
       " 0,\n",
       " 0,\n",
       " 0,\n",
       " 0,\n",
       " 0,\n",
       " 0,\n",
       " 0,\n",
       " 0,\n",
       " 0,\n",
       " 0,\n",
       " 0,\n",
       " 0,\n",
       " 0,\n",
       " 0,\n",
       " 0,\n",
       " 0,\n",
       " 0,\n",
       " 0,\n",
       " 0,\n",
       " 0,\n",
       " 0,\n",
       " 0,\n",
       " 0,\n",
       " 0,\n",
       " 0]"
      ]
     },
     "execution_count": 181,
     "metadata": {},
     "output_type": "execute_result"
    }
   ],
   "source": [
    "relevance_implicit_full[0]"
   ]
  },
  {
   "cell_type": "markdown",
   "metadata": {},
   "source": [
    "Creation of a list (allUsers_implicit_ndcg) that contains the NDCG score for each user."
   ]
  },
  {
   "cell_type": "code",
   "execution_count": 39,
   "metadata": {
    "ExecuteTime": {
     "end_time": "2020-08-14T08:06:26.262993Z",
     "start_time": "2020-08-14T08:06:26.246568Z"
    }
   },
   "outputs": [],
   "source": [
    "def allUsers_ndcg(relevance):\n",
    "    allUsers_implicit_ndcg = []\n",
    "    for i in range(len(num_users)):\n",
    "        allUsers_implicit_ndcg.append(NDCG_forUser(relevance[i]))\n",
    "    return allUsers_implicit_ndcg"
   ]
  },
  {
   "cell_type": "code",
   "execution_count": 40,
   "metadata": {
    "ExecuteTime": {
     "end_time": "2020-08-14T08:06:27.841357Z",
     "start_time": "2020-08-14T08:06:26.262993Z"
    }
   },
   "outputs": [
    {
     "name": "stderr",
     "output_type": "stream",
     "text": [
      "C:\\Users\\papad\\Anaconda3\\lib\\site-packages\\ipykernel_launcher.py:2: RuntimeWarning: invalid value encountered in double_scalars\n",
      "  \n"
     ]
    }
   ],
   "source": [
    "allUsers_implicit_ndcg = allUsers_ndcg(relevance_implicit_full)"
   ]
  },
  {
   "cell_type": "markdown",
   "metadata": {},
   "source": [
    "Fill the nan values with 0s."
   ]
  },
  {
   "cell_type": "code",
   "execution_count": 41,
   "metadata": {
    "ExecuteTime": {
     "end_time": "2020-08-14T08:06:27.859021Z",
     "start_time": "2020-08-14T08:06:27.846204Z"
    }
   },
   "outputs": [],
   "source": [
    "allUsers_implicit_ndcg = pd.Series(allUsers_implicit_ndcg).fillna(0).tolist()"
   ]
  },
  {
   "cell_type": "markdown",
   "metadata": {},
   "source": [
    "## Implicit Sequence model"
   ]
  },
  {
   "cell_type": "code",
   "execution_count": 42,
   "metadata": {
    "ExecuteTime": {
     "end_time": "2020-08-14T08:06:27.880498Z",
     "start_time": "2020-08-14T08:06:27.861313Z"
    }
   },
   "outputs": [],
   "source": [
    "from spotlight.sequence.implicit import ImplicitSequenceModel\n",
    "from spotlight.evaluation import sequence_mrr_score\n",
    "from spotlight.sequence.implicit import ImplicitSequenceModel"
   ]
  },
  {
   "cell_type": "markdown",
   "metadata": {},
   "source": [
    "### Train Implicit Sequence model"
   ]
  },
  {
   "cell_type": "code",
   "execution_count": 43,
   "metadata": {
    "ExecuteTime": {
     "end_time": "2020-08-14T08:06:27.896285Z",
     "start_time": "2020-08-14T08:06:27.880498Z"
    }
   },
   "outputs": [
    {
     "data": {
      "text/plain": [
       "\"sequence_model  = ImplicitSequenceModel(n_iter = 5)\\n\\ncurrent = time.time()\\nsequence_model.fit(interactions = implicit_train.to_sequence(),verbose = True)\\n\\nend = time.time()\\ndiff = end - current\\nprint('Training took %d second'%(diff))\""
      ]
     },
     "execution_count": 43,
     "metadata": {},
     "output_type": "execute_result"
    }
   ],
   "source": [
    "'''sequence_model  = ImplicitSequenceModel(n_iter = 5)\n",
    "\n",
    "current = time.time()\n",
    "sequence_model.fit(interactions = implicit_train.to_sequence(),verbose = True)\n",
    "\n",
    "end = time.time()\n",
    "diff = end - current\n",
    "print('Training took %d second'%(diff))'''"
   ]
  },
  {
   "cell_type": "code",
   "execution_count": 44,
   "metadata": {
    "ExecuteTime": {
     "end_time": "2020-08-14T08:06:27.918872Z",
     "start_time": "2020-08-14T08:06:27.897911Z"
    }
   },
   "outputs": [],
   "source": [
    "#sequence_model.predict(sequences = 9724)"
   ]
  },
  {
   "cell_type": "markdown",
   "metadata": {},
   "source": [
    "### MRR Score"
   ]
  },
  {
   "cell_type": "code",
   "execution_count": 45,
   "metadata": {
    "ExecuteTime": {
     "end_time": "2020-08-14T08:06:27.940927Z",
     "start_time": "2020-08-14T08:06:27.921323Z"
    }
   },
   "outputs": [],
   "source": [
    "#print(sequence_mrr_score(sequence_model, implicit_test.to_sequence()).mean())"
   ]
  },
  {
   "cell_type": "markdown",
   "metadata": {},
   "source": [
    "### Top-K predictions for a user"
   ]
  },
  {
   "cell_type": "code",
   "execution_count": 46,
   "metadata": {
    "ExecuteTime": {
     "end_time": "2020-08-14T08:06:27.950640Z",
     "start_time": "2020-08-14T08:06:27.942384Z"
    }
   },
   "outputs": [],
   "source": [
    "#allUsers_topK_sequence = allUsers_topK_implicit(sequence_model)"
   ]
  },
  {
   "cell_type": "markdown",
   "metadata": {},
   "source": [
    "### NDCG Score"
   ]
  },
  {
   "cell_type": "code",
   "execution_count": 47,
   "metadata": {
    "ExecuteTime": {
     "end_time": "2020-08-14T08:06:27.958741Z",
     "start_time": "2020-08-14T08:06:27.954655Z"
    }
   },
   "outputs": [],
   "source": [
    "#relevance_sequence_full = relevance_spotlight_implicit(allUsers_topK_sequence)"
   ]
  },
  {
   "cell_type": "code",
   "execution_count": 48,
   "metadata": {
    "ExecuteTime": {
     "end_time": "2020-08-14T08:06:27.974379Z",
     "start_time": "2020-08-14T08:06:27.963624Z"
    }
   },
   "outputs": [],
   "source": [
    "#allUsers_sequence_ndcg = allUsers_ndcg(relevance_sequence_full)"
   ]
  },
  {
   "cell_type": "code",
   "execution_count": 49,
   "metadata": {
    "ExecuteTime": {
     "end_time": "2020-08-14T08:06:27.985278Z",
     "start_time": "2020-08-14T08:06:27.979266Z"
    }
   },
   "outputs": [],
   "source": [
    "#allUsers_sequence_ndcg = pd.Series(allUsers_sequence_ndcg).fillna(0).tolist()"
   ]
  },
  {
   "cell_type": "markdown",
   "metadata": {},
   "source": [
    "# SVD"
   ]
  },
  {
   "cell_type": "markdown",
   "metadata": {},
   "source": [
    "Pivot is used to have a matrix that has as rows the userIDs and as columns the movieIDs. The unrated, by a user, movies are assigned the value 0 instead of null. Pivot organizes a DataFrame by giving index and column values. It is helpful in the recommender systems approach."
   ]
  },
  {
   "cell_type": "code",
   "execution_count": 50,
   "metadata": {
    "ExecuteTime": {
     "end_time": "2020-08-14T08:06:28.246933Z",
     "start_time": "2020-08-14T08:06:27.988739Z"
    }
   },
   "outputs": [],
   "source": [
    "df_movie_features = train_df.pivot(\n",
    "    index='user_id',\n",
    "    columns='movie_id',\n",
    "    values='rating'\n",
    ").fillna(0)"
   ]
  },
  {
   "cell_type": "code",
   "execution_count": 51,
   "metadata": {
    "ExecuteTime": {
     "end_time": "2020-08-14T08:06:28.317532Z",
     "start_time": "2020-08-14T08:06:28.246933Z"
    }
   },
   "outputs": [
    {
     "data": {
      "text/html": [
       "<div>\n",
       "<style scoped>\n",
       "    .dataframe tbody tr th:only-of-type {\n",
       "        vertical-align: middle;\n",
       "    }\n",
       "\n",
       "    .dataframe tbody tr th {\n",
       "        vertical-align: top;\n",
       "    }\n",
       "\n",
       "    .dataframe thead th {\n",
       "        text-align: right;\n",
       "    }\n",
       "</style>\n",
       "<table border=\"1\" class=\"dataframe\">\n",
       "  <thead>\n",
       "    <tr style=\"text-align: right;\">\n",
       "      <th>movie_id</th>\n",
       "      <th>1</th>\n",
       "      <th>2</th>\n",
       "      <th>3</th>\n",
       "      <th>4</th>\n",
       "      <th>5</th>\n",
       "      <th>6</th>\n",
       "      <th>7</th>\n",
       "      <th>8</th>\n",
       "      <th>9</th>\n",
       "      <th>10</th>\n",
       "      <th>...</th>\n",
       "      <th>191005</th>\n",
       "      <th>193565</th>\n",
       "      <th>193567</th>\n",
       "      <th>193571</th>\n",
       "      <th>193573</th>\n",
       "      <th>193579</th>\n",
       "      <th>193581</th>\n",
       "      <th>193583</th>\n",
       "      <th>193585</th>\n",
       "      <th>193609</th>\n",
       "    </tr>\n",
       "    <tr>\n",
       "      <th>user_id</th>\n",
       "      <th></th>\n",
       "      <th></th>\n",
       "      <th></th>\n",
       "      <th></th>\n",
       "      <th></th>\n",
       "      <th></th>\n",
       "      <th></th>\n",
       "      <th></th>\n",
       "      <th></th>\n",
       "      <th></th>\n",
       "      <th></th>\n",
       "      <th></th>\n",
       "      <th></th>\n",
       "      <th></th>\n",
       "      <th></th>\n",
       "      <th></th>\n",
       "      <th></th>\n",
       "      <th></th>\n",
       "      <th></th>\n",
       "      <th></th>\n",
       "      <th></th>\n",
       "    </tr>\n",
       "  </thead>\n",
       "  <tbody>\n",
       "    <tr>\n",
       "      <th>1</th>\n",
       "      <td>4.0</td>\n",
       "      <td>0.0</td>\n",
       "      <td>0.0</td>\n",
       "      <td>0.0</td>\n",
       "      <td>0.0</td>\n",
       "      <td>4.0</td>\n",
       "      <td>0.0</td>\n",
       "      <td>0.0</td>\n",
       "      <td>0.0</td>\n",
       "      <td>0.0</td>\n",
       "      <td>...</td>\n",
       "      <td>0.0</td>\n",
       "      <td>0.0</td>\n",
       "      <td>0.0</td>\n",
       "      <td>0.0</td>\n",
       "      <td>0.0</td>\n",
       "      <td>0.0</td>\n",
       "      <td>0.0</td>\n",
       "      <td>0.0</td>\n",
       "      <td>0.0</td>\n",
       "      <td>0.0</td>\n",
       "    </tr>\n",
       "    <tr>\n",
       "      <th>2</th>\n",
       "      <td>0.0</td>\n",
       "      <td>0.0</td>\n",
       "      <td>0.0</td>\n",
       "      <td>0.0</td>\n",
       "      <td>0.0</td>\n",
       "      <td>0.0</td>\n",
       "      <td>0.0</td>\n",
       "      <td>0.0</td>\n",
       "      <td>0.0</td>\n",
       "      <td>0.0</td>\n",
       "      <td>...</td>\n",
       "      <td>0.0</td>\n",
       "      <td>0.0</td>\n",
       "      <td>0.0</td>\n",
       "      <td>0.0</td>\n",
       "      <td>0.0</td>\n",
       "      <td>0.0</td>\n",
       "      <td>0.0</td>\n",
       "      <td>0.0</td>\n",
       "      <td>0.0</td>\n",
       "      <td>0.0</td>\n",
       "    </tr>\n",
       "    <tr>\n",
       "      <th>3</th>\n",
       "      <td>0.0</td>\n",
       "      <td>0.0</td>\n",
       "      <td>0.0</td>\n",
       "      <td>0.0</td>\n",
       "      <td>0.0</td>\n",
       "      <td>0.0</td>\n",
       "      <td>0.0</td>\n",
       "      <td>0.0</td>\n",
       "      <td>0.0</td>\n",
       "      <td>0.0</td>\n",
       "      <td>...</td>\n",
       "      <td>0.0</td>\n",
       "      <td>0.0</td>\n",
       "      <td>0.0</td>\n",
       "      <td>0.0</td>\n",
       "      <td>0.0</td>\n",
       "      <td>0.0</td>\n",
       "      <td>0.0</td>\n",
       "      <td>0.0</td>\n",
       "      <td>0.0</td>\n",
       "      <td>0.0</td>\n",
       "    </tr>\n",
       "    <tr>\n",
       "      <th>4</th>\n",
       "      <td>0.0</td>\n",
       "      <td>0.0</td>\n",
       "      <td>0.0</td>\n",
       "      <td>0.0</td>\n",
       "      <td>0.0</td>\n",
       "      <td>0.0</td>\n",
       "      <td>0.0</td>\n",
       "      <td>0.0</td>\n",
       "      <td>0.0</td>\n",
       "      <td>0.0</td>\n",
       "      <td>...</td>\n",
       "      <td>0.0</td>\n",
       "      <td>0.0</td>\n",
       "      <td>0.0</td>\n",
       "      <td>0.0</td>\n",
       "      <td>0.0</td>\n",
       "      <td>0.0</td>\n",
       "      <td>0.0</td>\n",
       "      <td>0.0</td>\n",
       "      <td>0.0</td>\n",
       "      <td>0.0</td>\n",
       "    </tr>\n",
       "    <tr>\n",
       "      <th>5</th>\n",
       "      <td>4.0</td>\n",
       "      <td>0.0</td>\n",
       "      <td>0.0</td>\n",
       "      <td>0.0</td>\n",
       "      <td>0.0</td>\n",
       "      <td>0.0</td>\n",
       "      <td>0.0</td>\n",
       "      <td>0.0</td>\n",
       "      <td>0.0</td>\n",
       "      <td>0.0</td>\n",
       "      <td>...</td>\n",
       "      <td>0.0</td>\n",
       "      <td>0.0</td>\n",
       "      <td>0.0</td>\n",
       "      <td>0.0</td>\n",
       "      <td>0.0</td>\n",
       "      <td>0.0</td>\n",
       "      <td>0.0</td>\n",
       "      <td>0.0</td>\n",
       "      <td>0.0</td>\n",
       "      <td>0.0</td>\n",
       "    </tr>\n",
       "    <tr>\n",
       "      <th>...</th>\n",
       "      <td>...</td>\n",
       "      <td>...</td>\n",
       "      <td>...</td>\n",
       "      <td>...</td>\n",
       "      <td>...</td>\n",
       "      <td>...</td>\n",
       "      <td>...</td>\n",
       "      <td>...</td>\n",
       "      <td>...</td>\n",
       "      <td>...</td>\n",
       "      <td>...</td>\n",
       "      <td>...</td>\n",
       "      <td>...</td>\n",
       "      <td>...</td>\n",
       "      <td>...</td>\n",
       "      <td>...</td>\n",
       "      <td>...</td>\n",
       "      <td>...</td>\n",
       "      <td>...</td>\n",
       "      <td>...</td>\n",
       "      <td>...</td>\n",
       "    </tr>\n",
       "    <tr>\n",
       "      <th>606</th>\n",
       "      <td>0.0</td>\n",
       "      <td>0.0</td>\n",
       "      <td>0.0</td>\n",
       "      <td>0.0</td>\n",
       "      <td>0.0</td>\n",
       "      <td>0.0</td>\n",
       "      <td>0.0</td>\n",
       "      <td>0.0</td>\n",
       "      <td>0.0</td>\n",
       "      <td>0.0</td>\n",
       "      <td>...</td>\n",
       "      <td>0.0</td>\n",
       "      <td>0.0</td>\n",
       "      <td>0.0</td>\n",
       "      <td>0.0</td>\n",
       "      <td>0.0</td>\n",
       "      <td>0.0</td>\n",
       "      <td>0.0</td>\n",
       "      <td>0.0</td>\n",
       "      <td>0.0</td>\n",
       "      <td>0.0</td>\n",
       "    </tr>\n",
       "    <tr>\n",
       "      <th>607</th>\n",
       "      <td>4.0</td>\n",
       "      <td>0.0</td>\n",
       "      <td>0.0</td>\n",
       "      <td>0.0</td>\n",
       "      <td>0.0</td>\n",
       "      <td>0.0</td>\n",
       "      <td>0.0</td>\n",
       "      <td>0.0</td>\n",
       "      <td>0.0</td>\n",
       "      <td>0.0</td>\n",
       "      <td>...</td>\n",
       "      <td>0.0</td>\n",
       "      <td>0.0</td>\n",
       "      <td>0.0</td>\n",
       "      <td>0.0</td>\n",
       "      <td>0.0</td>\n",
       "      <td>0.0</td>\n",
       "      <td>0.0</td>\n",
       "      <td>0.0</td>\n",
       "      <td>0.0</td>\n",
       "      <td>0.0</td>\n",
       "    </tr>\n",
       "    <tr>\n",
       "      <th>608</th>\n",
       "      <td>2.5</td>\n",
       "      <td>2.0</td>\n",
       "      <td>0.0</td>\n",
       "      <td>0.0</td>\n",
       "      <td>0.0</td>\n",
       "      <td>0.0</td>\n",
       "      <td>0.0</td>\n",
       "      <td>0.0</td>\n",
       "      <td>0.0</td>\n",
       "      <td>4.0</td>\n",
       "      <td>...</td>\n",
       "      <td>0.0</td>\n",
       "      <td>0.0</td>\n",
       "      <td>0.0</td>\n",
       "      <td>0.0</td>\n",
       "      <td>0.0</td>\n",
       "      <td>0.0</td>\n",
       "      <td>0.0</td>\n",
       "      <td>0.0</td>\n",
       "      <td>0.0</td>\n",
       "      <td>0.0</td>\n",
       "    </tr>\n",
       "    <tr>\n",
       "      <th>609</th>\n",
       "      <td>3.0</td>\n",
       "      <td>0.0</td>\n",
       "      <td>0.0</td>\n",
       "      <td>0.0</td>\n",
       "      <td>0.0</td>\n",
       "      <td>0.0</td>\n",
       "      <td>0.0</td>\n",
       "      <td>0.0</td>\n",
       "      <td>0.0</td>\n",
       "      <td>0.0</td>\n",
       "      <td>...</td>\n",
       "      <td>0.0</td>\n",
       "      <td>0.0</td>\n",
       "      <td>0.0</td>\n",
       "      <td>0.0</td>\n",
       "      <td>0.0</td>\n",
       "      <td>0.0</td>\n",
       "      <td>0.0</td>\n",
       "      <td>0.0</td>\n",
       "      <td>0.0</td>\n",
       "      <td>0.0</td>\n",
       "    </tr>\n",
       "    <tr>\n",
       "      <th>610</th>\n",
       "      <td>0.0</td>\n",
       "      <td>0.0</td>\n",
       "      <td>0.0</td>\n",
       "      <td>0.0</td>\n",
       "      <td>0.0</td>\n",
       "      <td>0.0</td>\n",
       "      <td>0.0</td>\n",
       "      <td>0.0</td>\n",
       "      <td>0.0</td>\n",
       "      <td>0.0</td>\n",
       "      <td>...</td>\n",
       "      <td>0.0</td>\n",
       "      <td>0.0</td>\n",
       "      <td>0.0</td>\n",
       "      <td>0.0</td>\n",
       "      <td>0.0</td>\n",
       "      <td>0.0</td>\n",
       "      <td>0.0</td>\n",
       "      <td>0.0</td>\n",
       "      <td>0.0</td>\n",
       "      <td>0.0</td>\n",
       "    </tr>\n",
       "  </tbody>\n",
       "</table>\n",
       "<p>610 rows × 8292 columns</p>\n",
       "</div>"
      ],
      "text/plain": [
       "movie_id  1       2       3       4       5       6       7       8       \\\n",
       "user_id                                                                    \n",
       "1            4.0     0.0     0.0     0.0     0.0     4.0     0.0     0.0   \n",
       "2            0.0     0.0     0.0     0.0     0.0     0.0     0.0     0.0   \n",
       "3            0.0     0.0     0.0     0.0     0.0     0.0     0.0     0.0   \n",
       "4            0.0     0.0     0.0     0.0     0.0     0.0     0.0     0.0   \n",
       "5            4.0     0.0     0.0     0.0     0.0     0.0     0.0     0.0   \n",
       "...          ...     ...     ...     ...     ...     ...     ...     ...   \n",
       "606          0.0     0.0     0.0     0.0     0.0     0.0     0.0     0.0   \n",
       "607          4.0     0.0     0.0     0.0     0.0     0.0     0.0     0.0   \n",
       "608          2.5     2.0     0.0     0.0     0.0     0.0     0.0     0.0   \n",
       "609          3.0     0.0     0.0     0.0     0.0     0.0     0.0     0.0   \n",
       "610          0.0     0.0     0.0     0.0     0.0     0.0     0.0     0.0   \n",
       "\n",
       "movie_id  9       10      ...  191005  193565  193567  193571  193573  193579  \\\n",
       "user_id                   ...                                                   \n",
       "1            0.0     0.0  ...     0.0     0.0     0.0     0.0     0.0     0.0   \n",
       "2            0.0     0.0  ...     0.0     0.0     0.0     0.0     0.0     0.0   \n",
       "3            0.0     0.0  ...     0.0     0.0     0.0     0.0     0.0     0.0   \n",
       "4            0.0     0.0  ...     0.0     0.0     0.0     0.0     0.0     0.0   \n",
       "5            0.0     0.0  ...     0.0     0.0     0.0     0.0     0.0     0.0   \n",
       "...          ...     ...  ...     ...     ...     ...     ...     ...     ...   \n",
       "606          0.0     0.0  ...     0.0     0.0     0.0     0.0     0.0     0.0   \n",
       "607          0.0     0.0  ...     0.0     0.0     0.0     0.0     0.0     0.0   \n",
       "608          0.0     4.0  ...     0.0     0.0     0.0     0.0     0.0     0.0   \n",
       "609          0.0     0.0  ...     0.0     0.0     0.0     0.0     0.0     0.0   \n",
       "610          0.0     0.0  ...     0.0     0.0     0.0     0.0     0.0     0.0   \n",
       "\n",
       "movie_id  193581  193583  193585  193609  \n",
       "user_id                                   \n",
       "1            0.0     0.0     0.0     0.0  \n",
       "2            0.0     0.0     0.0     0.0  \n",
       "3            0.0     0.0     0.0     0.0  \n",
       "4            0.0     0.0     0.0     0.0  \n",
       "5            0.0     0.0     0.0     0.0  \n",
       "...          ...     ...     ...     ...  \n",
       "606          0.0     0.0     0.0     0.0  \n",
       "607          0.0     0.0     0.0     0.0  \n",
       "608          0.0     0.0     0.0     0.0  \n",
       "609          0.0     0.0     0.0     0.0  \n",
       "610          0.0     0.0     0.0     0.0  \n",
       "\n",
       "[610 rows x 8292 columns]"
      ]
     },
     "execution_count": 51,
     "metadata": {},
     "output_type": "execute_result"
    }
   ],
   "source": [
    "df_movie_features"
   ]
  },
  {
   "cell_type": "markdown",
   "metadata": {},
   "source": [
    "## SVD implementation"
   ]
  },
  {
   "cell_type": "code",
   "execution_count": 52,
   "metadata": {
    "ExecuteTime": {
     "end_time": "2020-08-14T08:06:28.803392Z",
     "start_time": "2020-08-14T08:06:28.317532Z"
    }
   },
   "outputs": [],
   "source": [
    "from scipy.sparse.linalg import svds\n",
    "U, sigma, Vt = svds(df_movie_features, k = 10)"
   ]
  },
  {
   "cell_type": "markdown",
   "metadata": {},
   "source": [
    "## Predictions"
   ]
  },
  {
   "cell_type": "markdown",
   "metadata": {},
   "source": [
    "To get the prediction of a rating of an item dj, we can calculate the dot product of the two vectors.\n",
    "The sigma variable has just the values, so I have to convert to a diagonal matrix in orded to implement the matrix multiplication."
   ]
  },
  {
   "cell_type": "code",
   "execution_count": 53,
   "metadata": {
    "ExecuteTime": {
     "end_time": "2020-08-14T08:06:28.881377Z",
     "start_time": "2020-08-14T08:06:28.804918Z"
    }
   },
   "outputs": [],
   "source": [
    "sigma = np.diag(sigma)\n",
    "svd_predictions_score = np.dot(np.dot(U, sigma), Vt)\n",
    "svd_predictions_score_df = pd.DataFrame(svd_predictions_score, columns = df_movie_features.columns)\n"
   ]
  },
  {
   "cell_type": "code",
   "execution_count": 54,
   "metadata": {
    "ExecuteTime": {
     "end_time": "2020-08-14T08:06:28.897243Z",
     "start_time": "2020-08-14T08:06:28.881377Z"
    }
   },
   "outputs": [
    {
     "data": {
      "text/plain": [
       "array([ 0.02451746, -0.01244209, -0.0170505 , ...,  0.00356973,\n",
       "        0.00356973,  0.005989  ])"
      ]
     },
     "execution_count": 54,
     "metadata": {},
     "output_type": "execute_result"
    }
   ],
   "source": [
    "svd_predictions_score[1]"
   ]
  },
  {
   "cell_type": "code",
   "execution_count": 55,
   "metadata": {
    "ExecuteTime": {
     "end_time": "2020-08-14T08:06:28.961341Z",
     "start_time": "2020-08-14T08:06:28.899237Z"
    }
   },
   "outputs": [
    {
     "data": {
      "text/html": [
       "<div>\n",
       "<style scoped>\n",
       "    .dataframe tbody tr th:only-of-type {\n",
       "        vertical-align: middle;\n",
       "    }\n",
       "\n",
       "    .dataframe tbody tr th {\n",
       "        vertical-align: top;\n",
       "    }\n",
       "\n",
       "    .dataframe thead th {\n",
       "        text-align: right;\n",
       "    }\n",
       "</style>\n",
       "<table border=\"1\" class=\"dataframe\">\n",
       "  <thead>\n",
       "    <tr style=\"text-align: right;\">\n",
       "      <th>movie_id</th>\n",
       "      <th>1</th>\n",
       "      <th>2</th>\n",
       "      <th>3</th>\n",
       "      <th>4</th>\n",
       "      <th>5</th>\n",
       "      <th>6</th>\n",
       "      <th>7</th>\n",
       "      <th>8</th>\n",
       "      <th>9</th>\n",
       "      <th>10</th>\n",
       "      <th>...</th>\n",
       "      <th>191005</th>\n",
       "      <th>193565</th>\n",
       "      <th>193567</th>\n",
       "      <th>193571</th>\n",
       "      <th>193573</th>\n",
       "      <th>193579</th>\n",
       "      <th>193581</th>\n",
       "      <th>193583</th>\n",
       "      <th>193585</th>\n",
       "      <th>193609</th>\n",
       "    </tr>\n",
       "  </thead>\n",
       "  <tbody>\n",
       "    <tr>\n",
       "      <th>0</th>\n",
       "      <td>2.040661</td>\n",
       "      <td>0.892280</td>\n",
       "      <td>0.617109</td>\n",
       "      <td>0.017691</td>\n",
       "      <td>0.212900</td>\n",
       "      <td>1.195460</td>\n",
       "      <td>0.215630</td>\n",
       "      <td>0.019031</td>\n",
       "      <td>0.111706</td>\n",
       "      <td>1.552077</td>\n",
       "      <td>...</td>\n",
       "      <td>-0.005068</td>\n",
       "      <td>-0.003942</td>\n",
       "      <td>-0.003379</td>\n",
       "      <td>-0.004505</td>\n",
       "      <td>-0.004505</td>\n",
       "      <td>-0.003942</td>\n",
       "      <td>-0.004505</td>\n",
       "      <td>-0.003942</td>\n",
       "      <td>-0.003942</td>\n",
       "      <td>-0.020412</td>\n",
       "    </tr>\n",
       "    <tr>\n",
       "      <th>1</th>\n",
       "      <td>0.024517</td>\n",
       "      <td>-0.012442</td>\n",
       "      <td>-0.017051</td>\n",
       "      <td>-0.009332</td>\n",
       "      <td>0.007718</td>\n",
       "      <td>0.070573</td>\n",
       "      <td>-0.017636</td>\n",
       "      <td>-0.010118</td>\n",
       "      <td>-0.008187</td>\n",
       "      <td>0.010539</td>\n",
       "      <td>...</td>\n",
       "      <td>0.004590</td>\n",
       "      <td>0.003570</td>\n",
       "      <td>0.003060</td>\n",
       "      <td>0.004080</td>\n",
       "      <td>0.004080</td>\n",
       "      <td>0.003570</td>\n",
       "      <td>0.004080</td>\n",
       "      <td>0.003570</td>\n",
       "      <td>0.003570</td>\n",
       "      <td>0.005989</td>\n",
       "    </tr>\n",
       "    <tr>\n",
       "      <th>2</th>\n",
       "      <td>0.049721</td>\n",
       "      <td>0.025048</td>\n",
       "      <td>0.024995</td>\n",
       "      <td>-0.000694</td>\n",
       "      <td>-0.007919</td>\n",
       "      <td>0.050052</td>\n",
       "      <td>-0.002062</td>\n",
       "      <td>0.006981</td>\n",
       "      <td>0.003767</td>\n",
       "      <td>0.020407</td>\n",
       "      <td>...</td>\n",
       "      <td>0.000257</td>\n",
       "      <td>0.000200</td>\n",
       "      <td>0.000172</td>\n",
       "      <td>0.000229</td>\n",
       "      <td>0.000229</td>\n",
       "      <td>0.000200</td>\n",
       "      <td>0.000229</td>\n",
       "      <td>0.000200</td>\n",
       "      <td>0.000200</td>\n",
       "      <td>-0.001786</td>\n",
       "    </tr>\n",
       "    <tr>\n",
       "      <th>3</th>\n",
       "      <td>0.733336</td>\n",
       "      <td>0.217520</td>\n",
       "      <td>0.215315</td>\n",
       "      <td>0.054716</td>\n",
       "      <td>0.080936</td>\n",
       "      <td>0.289391</td>\n",
       "      <td>0.095081</td>\n",
       "      <td>-0.023955</td>\n",
       "      <td>0.007672</td>\n",
       "      <td>0.223204</td>\n",
       "      <td>...</td>\n",
       "      <td>-0.004235</td>\n",
       "      <td>-0.003294</td>\n",
       "      <td>-0.002823</td>\n",
       "      <td>-0.003764</td>\n",
       "      <td>-0.003764</td>\n",
       "      <td>-0.003294</td>\n",
       "      <td>-0.003764</td>\n",
       "      <td>-0.003294</td>\n",
       "      <td>-0.003294</td>\n",
       "      <td>-0.009829</td>\n",
       "    </tr>\n",
       "    <tr>\n",
       "      <th>4</th>\n",
       "      <td>0.976920</td>\n",
       "      <td>0.878619</td>\n",
       "      <td>0.350346</td>\n",
       "      <td>0.096718</td>\n",
       "      <td>0.509524</td>\n",
       "      <td>0.476752</td>\n",
       "      <td>0.484305</td>\n",
       "      <td>0.014931</td>\n",
       "      <td>0.101136</td>\n",
       "      <td>0.933944</td>\n",
       "      <td>...</td>\n",
       "      <td>-0.001843</td>\n",
       "      <td>-0.001433</td>\n",
       "      <td>-0.001228</td>\n",
       "      <td>-0.001638</td>\n",
       "      <td>-0.001638</td>\n",
       "      <td>-0.001433</td>\n",
       "      <td>-0.001638</td>\n",
       "      <td>-0.001433</td>\n",
       "      <td>-0.001433</td>\n",
       "      <td>-0.001769</td>\n",
       "    </tr>\n",
       "    <tr>\n",
       "      <th>...</th>\n",
       "      <td>...</td>\n",
       "      <td>...</td>\n",
       "      <td>...</td>\n",
       "      <td>...</td>\n",
       "      <td>...</td>\n",
       "      <td>...</td>\n",
       "      <td>...</td>\n",
       "      <td>...</td>\n",
       "      <td>...</td>\n",
       "      <td>...</td>\n",
       "      <td>...</td>\n",
       "      <td>...</td>\n",
       "      <td>...</td>\n",
       "      <td>...</td>\n",
       "      <td>...</td>\n",
       "      <td>...</td>\n",
       "      <td>...</td>\n",
       "      <td>...</td>\n",
       "      <td>...</td>\n",
       "      <td>...</td>\n",
       "      <td>...</td>\n",
       "    </tr>\n",
       "    <tr>\n",
       "      <th>605</th>\n",
       "      <td>1.508478</td>\n",
       "      <td>0.044629</td>\n",
       "      <td>0.116838</td>\n",
       "      <td>0.323967</td>\n",
       "      <td>0.617661</td>\n",
       "      <td>-2.767050</td>\n",
       "      <td>-0.008600</td>\n",
       "      <td>-0.057709</td>\n",
       "      <td>-0.299133</td>\n",
       "      <td>-1.424921</td>\n",
       "      <td>...</td>\n",
       "      <td>-0.027656</td>\n",
       "      <td>-0.021510</td>\n",
       "      <td>-0.018437</td>\n",
       "      <td>-0.024583</td>\n",
       "      <td>-0.024583</td>\n",
       "      <td>-0.021510</td>\n",
       "      <td>-0.024583</td>\n",
       "      <td>-0.021510</td>\n",
       "      <td>-0.021510</td>\n",
       "      <td>0.025615</td>\n",
       "    </tr>\n",
       "    <tr>\n",
       "      <th>606</th>\n",
       "      <td>1.382032</td>\n",
       "      <td>0.741581</td>\n",
       "      <td>0.443869</td>\n",
       "      <td>0.042342</td>\n",
       "      <td>0.224120</td>\n",
       "      <td>0.788028</td>\n",
       "      <td>0.263451</td>\n",
       "      <td>0.011827</td>\n",
       "      <td>0.088013</td>\n",
       "      <td>1.039269</td>\n",
       "      <td>...</td>\n",
       "      <td>-0.004861</td>\n",
       "      <td>-0.003781</td>\n",
       "      <td>-0.003241</td>\n",
       "      <td>-0.004321</td>\n",
       "      <td>-0.004321</td>\n",
       "      <td>-0.003781</td>\n",
       "      <td>-0.004321</td>\n",
       "      <td>-0.003781</td>\n",
       "      <td>-0.003781</td>\n",
       "      <td>-0.016631</td>\n",
       "    </tr>\n",
       "    <tr>\n",
       "      <th>607</th>\n",
       "      <td>3.494060</td>\n",
       "      <td>1.480158</td>\n",
       "      <td>0.297595</td>\n",
       "      <td>-0.048183</td>\n",
       "      <td>0.028618</td>\n",
       "      <td>1.485793</td>\n",
       "      <td>0.233359</td>\n",
       "      <td>0.337648</td>\n",
       "      <td>0.068143</td>\n",
       "      <td>2.793548</td>\n",
       "      <td>...</td>\n",
       "      <td>-0.050920</td>\n",
       "      <td>-0.039604</td>\n",
       "      <td>-0.033947</td>\n",
       "      <td>-0.045262</td>\n",
       "      <td>-0.045262</td>\n",
       "      <td>-0.039604</td>\n",
       "      <td>-0.045262</td>\n",
       "      <td>-0.039604</td>\n",
       "      <td>-0.039604</td>\n",
       "      <td>0.016628</td>\n",
       "    </tr>\n",
       "    <tr>\n",
       "      <th>608</th>\n",
       "      <td>0.360716</td>\n",
       "      <td>0.321253</td>\n",
       "      <td>0.150927</td>\n",
       "      <td>0.029685</td>\n",
       "      <td>0.192965</td>\n",
       "      <td>0.249299</td>\n",
       "      <td>0.176740</td>\n",
       "      <td>0.004323</td>\n",
       "      <td>0.044299</td>\n",
       "      <td>0.417237</td>\n",
       "      <td>...</td>\n",
       "      <td>0.000443</td>\n",
       "      <td>0.000344</td>\n",
       "      <td>0.000295</td>\n",
       "      <td>0.000393</td>\n",
       "      <td>0.000393</td>\n",
       "      <td>0.000344</td>\n",
       "      <td>0.000393</td>\n",
       "      <td>0.000344</td>\n",
       "      <td>0.000344</td>\n",
       "      <td>-0.000891</td>\n",
       "    </tr>\n",
       "    <tr>\n",
       "      <th>609</th>\n",
       "      <td>-0.419998</td>\n",
       "      <td>3.122410</td>\n",
       "      <td>-0.146116</td>\n",
       "      <td>0.128619</td>\n",
       "      <td>0.076492</td>\n",
       "      <td>1.768072</td>\n",
       "      <td>0.017538</td>\n",
       "      <td>0.432487</td>\n",
       "      <td>-0.014376</td>\n",
       "      <td>-0.084982</td>\n",
       "      <td>...</td>\n",
       "      <td>0.071499</td>\n",
       "      <td>0.055610</td>\n",
       "      <td>0.047666</td>\n",
       "      <td>0.063554</td>\n",
       "      <td>0.063554</td>\n",
       "      <td>0.055610</td>\n",
       "      <td>0.063554</td>\n",
       "      <td>0.055610</td>\n",
       "      <td>0.055610</td>\n",
       "      <td>0.033664</td>\n",
       "    </tr>\n",
       "  </tbody>\n",
       "</table>\n",
       "<p>610 rows × 8292 columns</p>\n",
       "</div>"
      ],
      "text/plain": [
       "movie_id    1         2         3         4         5         6       \\\n",
       "0         2.040661  0.892280  0.617109  0.017691  0.212900  1.195460   \n",
       "1         0.024517 -0.012442 -0.017051 -0.009332  0.007718  0.070573   \n",
       "2         0.049721  0.025048  0.024995 -0.000694 -0.007919  0.050052   \n",
       "3         0.733336  0.217520  0.215315  0.054716  0.080936  0.289391   \n",
       "4         0.976920  0.878619  0.350346  0.096718  0.509524  0.476752   \n",
       "..             ...       ...       ...       ...       ...       ...   \n",
       "605       1.508478  0.044629  0.116838  0.323967  0.617661 -2.767050   \n",
       "606       1.382032  0.741581  0.443869  0.042342  0.224120  0.788028   \n",
       "607       3.494060  1.480158  0.297595 -0.048183  0.028618  1.485793   \n",
       "608       0.360716  0.321253  0.150927  0.029685  0.192965  0.249299   \n",
       "609      -0.419998  3.122410 -0.146116  0.128619  0.076492  1.768072   \n",
       "\n",
       "movie_id    7         8         9         10      ...    191005    193565  \\\n",
       "0         0.215630  0.019031  0.111706  1.552077  ... -0.005068 -0.003942   \n",
       "1        -0.017636 -0.010118 -0.008187  0.010539  ...  0.004590  0.003570   \n",
       "2        -0.002062  0.006981  0.003767  0.020407  ...  0.000257  0.000200   \n",
       "3         0.095081 -0.023955  0.007672  0.223204  ... -0.004235 -0.003294   \n",
       "4         0.484305  0.014931  0.101136  0.933944  ... -0.001843 -0.001433   \n",
       "..             ...       ...       ...       ...  ...       ...       ...   \n",
       "605      -0.008600 -0.057709 -0.299133 -1.424921  ... -0.027656 -0.021510   \n",
       "606       0.263451  0.011827  0.088013  1.039269  ... -0.004861 -0.003781   \n",
       "607       0.233359  0.337648  0.068143  2.793548  ... -0.050920 -0.039604   \n",
       "608       0.176740  0.004323  0.044299  0.417237  ...  0.000443  0.000344   \n",
       "609       0.017538  0.432487 -0.014376 -0.084982  ...  0.071499  0.055610   \n",
       "\n",
       "movie_id    193567    193571    193573    193579    193581    193583  \\\n",
       "0        -0.003379 -0.004505 -0.004505 -0.003942 -0.004505 -0.003942   \n",
       "1         0.003060  0.004080  0.004080  0.003570  0.004080  0.003570   \n",
       "2         0.000172  0.000229  0.000229  0.000200  0.000229  0.000200   \n",
       "3        -0.002823 -0.003764 -0.003764 -0.003294 -0.003764 -0.003294   \n",
       "4        -0.001228 -0.001638 -0.001638 -0.001433 -0.001638 -0.001433   \n",
       "..             ...       ...       ...       ...       ...       ...   \n",
       "605      -0.018437 -0.024583 -0.024583 -0.021510 -0.024583 -0.021510   \n",
       "606      -0.003241 -0.004321 -0.004321 -0.003781 -0.004321 -0.003781   \n",
       "607      -0.033947 -0.045262 -0.045262 -0.039604 -0.045262 -0.039604   \n",
       "608       0.000295  0.000393  0.000393  0.000344  0.000393  0.000344   \n",
       "609       0.047666  0.063554  0.063554  0.055610  0.063554  0.055610   \n",
       "\n",
       "movie_id    193585    193609  \n",
       "0        -0.003942 -0.020412  \n",
       "1         0.003570  0.005989  \n",
       "2         0.000200 -0.001786  \n",
       "3        -0.003294 -0.009829  \n",
       "4        -0.001433 -0.001769  \n",
       "..             ...       ...  \n",
       "605      -0.021510  0.025615  \n",
       "606      -0.003781 -0.016631  \n",
       "607      -0.039604  0.016628  \n",
       "608       0.000344 -0.000891  \n",
       "609       0.055610  0.033664  \n",
       "\n",
       "[610 rows x 8292 columns]"
      ]
     },
     "execution_count": 55,
     "metadata": {},
     "output_type": "execute_result"
    }
   ],
   "source": [
    "svd_predictions_score_df"
   ]
  },
  {
   "cell_type": "code",
   "execution_count": 56,
   "metadata": {
    "ExecuteTime": {
     "end_time": "2020-08-14T08:06:29.039121Z",
     "start_time": "2020-08-14T08:06:28.961341Z"
    }
   },
   "outputs": [
    {
     "data": {
      "text/html": [
       "<div>\n",
       "<style scoped>\n",
       "    .dataframe tbody tr th:only-of-type {\n",
       "        vertical-align: middle;\n",
       "    }\n",
       "\n",
       "    .dataframe tbody tr th {\n",
       "        vertical-align: top;\n",
       "    }\n",
       "\n",
       "    .dataframe thead th {\n",
       "        text-align: right;\n",
       "    }\n",
       "</style>\n",
       "<table border=\"1\" class=\"dataframe\">\n",
       "  <thead>\n",
       "    <tr style=\"text-align: right;\">\n",
       "      <th>movie_id</th>\n",
       "      <th>1</th>\n",
       "      <th>2</th>\n",
       "      <th>3</th>\n",
       "      <th>4</th>\n",
       "      <th>5</th>\n",
       "      <th>6</th>\n",
       "      <th>7</th>\n",
       "      <th>8</th>\n",
       "      <th>9</th>\n",
       "      <th>10</th>\n",
       "      <th>...</th>\n",
       "      <th>191005</th>\n",
       "      <th>193565</th>\n",
       "      <th>193567</th>\n",
       "      <th>193571</th>\n",
       "      <th>193573</th>\n",
       "      <th>193579</th>\n",
       "      <th>193581</th>\n",
       "      <th>193583</th>\n",
       "      <th>193585</th>\n",
       "      <th>193609</th>\n",
       "    </tr>\n",
       "  </thead>\n",
       "  <tbody>\n",
       "    <tr>\n",
       "      <th>609</th>\n",
       "      <td>-0.419998</td>\n",
       "      <td>3.12241</td>\n",
       "      <td>-0.146116</td>\n",
       "      <td>0.128619</td>\n",
       "      <td>0.076492</td>\n",
       "      <td>1.768072</td>\n",
       "      <td>0.017538</td>\n",
       "      <td>0.432487</td>\n",
       "      <td>-0.014376</td>\n",
       "      <td>-0.084982</td>\n",
       "      <td>...</td>\n",
       "      <td>0.071499</td>\n",
       "      <td>0.05561</td>\n",
       "      <td>0.047666</td>\n",
       "      <td>0.063554</td>\n",
       "      <td>0.063554</td>\n",
       "      <td>0.05561</td>\n",
       "      <td>0.063554</td>\n",
       "      <td>0.05561</td>\n",
       "      <td>0.05561</td>\n",
       "      <td>0.033664</td>\n",
       "    </tr>\n",
       "  </tbody>\n",
       "</table>\n",
       "<p>1 rows × 8292 columns</p>\n",
       "</div>"
      ],
      "text/plain": [
       "movie_id    1        2         3         4         5         6         7       \\\n",
       "609      -0.419998  3.12241 -0.146116  0.128619  0.076492  1.768072  0.017538   \n",
       "\n",
       "movie_id    8         9         10      ...    191005   193565    193567  \\\n",
       "609       0.432487 -0.014376 -0.084982  ...  0.071499  0.05561  0.047666   \n",
       "\n",
       "movie_id    193571    193573   193579    193581   193583   193585    193609  \n",
       "609       0.063554  0.063554  0.05561  0.063554  0.05561  0.05561  0.033664  \n",
       "\n",
       "[1 rows x 8292 columns]"
      ]
     },
     "execution_count": 56,
     "metadata": {},
     "output_type": "execute_result"
    }
   ],
   "source": [
    "svd_predictions_score_df[svd_predictions_score_df.index == 609]"
   ]
  },
  {
   "cell_type": "markdown",
   "metadata": {},
   "source": [
    "## Top-K recommendations"
   ]
  },
  {
   "cell_type": "markdown",
   "metadata": {},
   "source": [
    "### First"
   ]
  },
  {
   "cell_type": "markdown",
   "metadata": {},
   "source": [
    "The function below returns a list that contains the top-100 recommendations for each user"
   ]
  },
  {
   "cell_type": "code",
   "execution_count": 57,
   "metadata": {
    "ExecuteTime": {
     "end_time": "2020-08-14T08:06:29.057523Z",
     "start_time": "2020-08-14T08:06:29.039121Z"
    }
   },
   "outputs": [
    {
     "data": {
      "text/plain": [
       "array([ 2.04066137,  0.89227966,  0.61710882, ..., -0.00394193,\n",
       "       -0.00394193, -0.0204123 ])"
      ]
     },
     "execution_count": 57,
     "metadata": {},
     "output_type": "execute_result"
    }
   ],
   "source": [
    "svd_predictions_score_df[svd_predictions_score_df.index == 0].values[0]"
   ]
  },
  {
   "cell_type": "code",
   "execution_count": 58,
   "metadata": {
    "ExecuteTime": {
     "end_time": "2020-08-14T08:06:29.084281Z",
     "start_time": "2020-08-14T08:06:29.060499Z"
    }
   },
   "outputs": [],
   "source": [
    "def SVD_topK_first(score_df):\n",
    "    topK_svd_rec = []\n",
    "    for i in range(len(num_users)):\n",
    "        svd_h_df = pd.DataFrame({'movie_id': score_df[score_df.index == i].columns,\n",
    "                                 'score': score_df[score_df.index == i].values[0]})\n",
    "        svd_h_df = svd_h_df.sort_values('score', ascending=False)\n",
    "        svd_h_df = svd_h_df.head(100)\n",
    "        topK_svd_rec.append(svd_h_df['movie_id'].values)\n",
    "    return topK_svd_rec"
   ]
  },
  {
   "cell_type": "code",
   "execution_count": 59,
   "metadata": {
    "ExecuteTime": {
     "end_time": "2020-08-14T08:06:32.752889Z",
     "start_time": "2020-08-14T08:06:29.084281Z"
    }
   },
   "outputs": [],
   "source": [
    "a = SVD_topK_first(svd_predictions_score_df)"
   ]
  },
  {
   "cell_type": "code",
   "execution_count": 180,
   "metadata": {
    "ExecuteTime": {
     "end_time": "2020-08-14T12:20:52.523268Z",
     "start_time": "2020-08-14T12:20:52.515304Z"
    }
   },
   "outputs": [
    {
     "data": {
      "text/plain": [
       "'movie_id'"
      ]
     },
     "execution_count": 180,
     "metadata": {},
     "output_type": "execute_result"
    }
   ],
   "source": [
    "a[0]"
   ]
  },
  {
   "cell_type": "markdown",
   "metadata": {},
   "source": [
    "#### NDCG Score"
   ]
  },
  {
   "cell_type": "markdown",
   "metadata": {},
   "source": [
    "The function below returns the relevance list of a list of movies."
   ]
  },
  {
   "cell_type": "code",
   "execution_count": 61,
   "metadata": {
    "ExecuteTime": {
     "end_time": "2020-08-14T08:06:32.851927Z",
     "start_time": "2020-08-14T08:06:32.776296Z"
    }
   },
   "outputs": [],
   "source": [
    "def SVD_relevance_first(score_df):\n",
    "    svd_topK = SVD_topK_first(score_df)\n",
    "    relevance_svd_full = []\n",
    "    helper = []\n",
    "    count = 0\n",
    "    for i in range(1,len(num_users)+1):\n",
    "        for j in range(len(svd_topK[count])):\n",
    "            if svd_topK[count][j] in test_df['movie_id'][test_df['user_id'] == i].values.tolist():\n",
    "                helper.append(1)\n",
    "            else:\n",
    "                helper.append(0)\n",
    "        relevance_svd_full.append(helper)\n",
    "        helper = []\n",
    "        count += 1\n",
    "    return relevance_svd_full"
   ]
  },
  {
   "cell_type": "code",
   "execution_count": 62,
   "metadata": {
    "ExecuteTime": {
     "end_time": "2020-08-14T08:07:30.533643Z",
     "start_time": "2020-08-14T08:06:32.851927Z"
    }
   },
   "outputs": [],
   "source": [
    "relevance_first = SVD_relevance_first(svd_predictions_score_df)"
   ]
  },
  {
   "cell_type": "code",
   "execution_count": 63,
   "metadata": {
    "ExecuteTime": {
     "end_time": "2020-08-14T08:07:30.559756Z",
     "start_time": "2020-08-14T08:07:30.535007Z"
    }
   },
   "outputs": [
    {
     "data": {
      "text/plain": [
       "(610, 100)"
      ]
     },
     "execution_count": 63,
     "metadata": {},
     "output_type": "execute_result"
    }
   ],
   "source": [
    "np.asarray(relevance_first).shape"
   ]
  },
  {
   "cell_type": "code",
   "execution_count": 64,
   "metadata": {
    "ExecuteTime": {
     "end_time": "2020-08-14T08:07:30.576714Z",
     "start_time": "2020-08-14T08:07:30.562893Z"
    }
   },
   "outputs": [],
   "source": [
    "n_f = NDCG_forUser(relevance_first[0])"
   ]
  },
  {
   "cell_type": "code",
   "execution_count": 65,
   "metadata": {
    "ExecuteTime": {
     "end_time": "2020-08-14T08:07:30.592670Z",
     "start_time": "2020-08-14T08:07:30.581700Z"
    }
   },
   "outputs": [
    {
     "data": {
      "text/plain": [
       "0.4029104627706743"
      ]
     },
     "execution_count": 65,
     "metadata": {},
     "output_type": "execute_result"
    }
   ],
   "source": [
    "n_f"
   ]
  },
  {
   "cell_type": "markdown",
   "metadata": {},
   "source": [
    "Below is the NDCG scores of each user"
   ]
  },
  {
   "cell_type": "code",
   "execution_count": 66,
   "metadata": {
    "ExecuteTime": {
     "end_time": "2020-08-14T08:07:32.385680Z",
     "start_time": "2020-08-14T08:07:30.594665Z"
    }
   },
   "outputs": [
    {
     "name": "stderr",
     "output_type": "stream",
     "text": [
      "C:\\Users\\papad\\Anaconda3\\lib\\site-packages\\ipykernel_launcher.py:2: RuntimeWarning: invalid value encountered in double_scalars\n",
      "  \n"
     ]
    }
   ],
   "source": [
    "all_ndcg_f = allUsers_ndcg(relevance_first)"
   ]
  },
  {
   "cell_type": "code",
   "execution_count": 67,
   "metadata": {
    "ExecuteTime": {
     "end_time": "2020-08-14T08:07:32.417923Z",
     "start_time": "2020-08-14T08:07:32.387987Z"
    }
   },
   "outputs": [],
   "source": [
    "all_ndcg_f = pd.Series(all_ndcg_f).fillna(0).tolist()"
   ]
  },
  {
   "cell_type": "code",
   "execution_count": 68,
   "metadata": {
    "ExecuteTime": {
     "end_time": "2020-08-14T08:07:32.496719Z",
     "start_time": "2020-08-14T08:07:32.469946Z"
    }
   },
   "outputs": [
    {
     "data": {
      "text/plain": [
       "0.3923596929327617"
      ]
     },
     "execution_count": 68,
     "metadata": {},
     "output_type": "execute_result"
    }
   ],
   "source": [
    "np.asarray(all_ndcg_f).mean()"
   ]
  },
  {
   "cell_type": "markdown",
   "metadata": {},
   "source": [
    "### Second"
   ]
  },
  {
   "cell_type": "markdown",
   "metadata": {},
   "source": [
    "Code used from https://github.com/nikitaa30/Recommender-Systems/blob/master/matrix_factorisation_svd.py\n",
    "\n",
    "Provide top-K predictions for a user"
   ]
  },
  {
   "cell_type": "code",
   "execution_count": 69,
   "metadata": {
    "ExecuteTime": {
     "end_time": "2020-08-14T08:07:32.520708Z",
     "start_time": "2020-08-14T08:07:32.509221Z"
    }
   },
   "outputs": [
    {
     "data": {
      "text/plain": [
       "\"def recommend_movies(preds_df, userID, movies_df, original_ratings_df, num_recommendations):\\n    # Get and sort the user's predictions\\n    user_row_number = userID - 1 # UserID starts at 1, not 0\\n    sorted_user_predictions = preds_df.iloc[user_row_number].sort_values(ascending=False) # UserID starts at 1\\n    \\n    # Get the user's data and merge in the movie information.\\n    user_data = original_ratings_df[original_ratings_df.userId == (userID)]\\n    user_full = (user_data.merge(movies_df, how = 'left', left_on = 'movieId', right_on = 'movieId').\\n                     sort_values(['rating'], ascending=False)\\n                 )\\n    # Recommend the highest predicted rating movies that the user hasn't seen yet.\\n    recommendations = (movies_df[~movies_df['movieId'].isin(user_full['movieId'])]).merge(pd.DataFrame(sorted_user_predictions).reset_index(), how = 'left', left_on = 'movieId',\\n               right_on = 'movie_id').rename(columns = {user_row_number: 'Predictions'}).sort_values('Predictions', ascending = False).iloc[:num_recommendations, :-1]\\n                      \\n\\n    return user_full, recommendations\""
      ]
     },
     "execution_count": 69,
     "metadata": {},
     "output_type": "execute_result"
    }
   ],
   "source": [
    "'''def recommend_movies(preds_df, userID, movies_df, original_ratings_df, num_recommendations):\n",
    "    # Get and sort the user's predictions\n",
    "    user_row_number = userID - 1 # UserID starts at 1, not 0\n",
    "    sorted_user_predictions = preds_df.iloc[user_row_number].sort_values(ascending=False) # UserID starts at 1\n",
    "    \n",
    "    # Get the user's data and merge in the movie information.\n",
    "    user_data = original_ratings_df[original_ratings_df.userId == (userID)]\n",
    "    user_full = (user_data.merge(movies_df, how = 'left', left_on = 'movieId', right_on = 'movieId').\n",
    "                     sort_values(['rating'], ascending=False)\n",
    "                 )\n",
    "    # Recommend the highest predicted rating movies that the user hasn't seen yet.\n",
    "    recommendations = (movies_df[~movies_df['movieId'].isin(user_full['movieId'])]).merge(pd.DataFrame(sorted_user_predictions).reset_index(), how = 'left', left_on = 'movieId',\n",
    "               right_on = 'movie_id').rename(columns = {user_row_number: 'Predictions'}).sort_values('Predictions', ascending = False).iloc[:num_recommendations, :-1]\n",
    "                      \n",
    "\n",
    "    return user_full, recommendations'''"
   ]
  },
  {
   "cell_type": "code",
   "execution_count": 70,
   "metadata": {
    "ExecuteTime": {
     "end_time": "2020-08-14T08:07:32.536293Z",
     "start_time": "2020-08-14T08:07:32.525902Z"
    }
   },
   "outputs": [
    {
     "data": {
      "text/plain": [
       "'already_rated, predictions = recommend_movies(svd_predictions_score_df, 1, movies_df, ratings_df, 100)\\npredictions.head()'"
      ]
     },
     "execution_count": 70,
     "metadata": {},
     "output_type": "execute_result"
    }
   ],
   "source": [
    "'''already_rated, predictions = recommend_movies(svd_predictions_score_df, 1, movies_df, ratings_df, 100)\n",
    "predictions.head()'''"
   ]
  },
  {
   "cell_type": "markdown",
   "metadata": {},
   "source": [
    "The function SVD_topK_allUsers returens a list that contains the top-K recommendations for each user."
   ]
  },
  {
   "cell_type": "code",
   "execution_count": 71,
   "metadata": {
    "ExecuteTime": {
     "end_time": "2020-08-14T08:07:32.552804Z",
     "start_time": "2020-08-14T08:07:32.538288Z"
    }
   },
   "outputs": [
    {
     "data": {
      "text/plain": [
       "'def SVD_topK_allUsers():\\n    allUsers_already_rated = []\\n    allUsers_predictions = []\\n    for i in range(1,len(num_users)+1):\\n        already_rated, predictions = recommend_movies(svd_predictions_score_df, i, movies_df, ratings_df, 100)\\n        allUsers_already_rated.append(already_rated)\\n        allUsers_predictions.append(predictions)\\n    return allUsers_predictions'"
      ]
     },
     "execution_count": 71,
     "metadata": {},
     "output_type": "execute_result"
    }
   ],
   "source": [
    "'''def SVD_topK_allUsers():\n",
    "    allUsers_already_rated = []\n",
    "    allUsers_predictions = []\n",
    "    for i in range(1,len(num_users)+1):\n",
    "        already_rated, predictions = recommend_movies(svd_predictions_score_df, i, movies_df, ratings_df, 100)\n",
    "        allUsers_already_rated.append(already_rated)\n",
    "        allUsers_predictions.append(predictions)\n",
    "    return allUsers_predictions'''"
   ]
  },
  {
   "cell_type": "markdown",
   "metadata": {},
   "source": [
    "#### NDCG Score"
   ]
  },
  {
   "cell_type": "markdown",
   "metadata": {},
   "source": [
    "The function SVD_relevance returns a list that contains the relevance (0s and 1s) between the top-K recommendations and the movies that each user actually watched."
   ]
  },
  {
   "cell_type": "code",
   "execution_count": 72,
   "metadata": {
    "ExecuteTime": {
     "end_time": "2020-08-14T08:07:32.567984Z",
     "start_time": "2020-08-14T08:07:32.555199Z"
    }
   },
   "outputs": [
    {
     "data": {
      "text/plain": [
       "\"def SVD_relevance():\\n    svd_topK = SVD_topK_allUsers()\\n    relevance_svd_full = []\\n    helper = []\\n    count = 0\\n    for i in range(1,len(num_users)+1):\\n        for j in range(len(svd_topK[count])):\\n            if svd_topK[count]['movieId'].values[j] in test_df['movie_id'][test_df['user_id'] == i].values.tolist():\\n                helper.append(1)\\n            else:\\n                helper.append(0)\\n        relevance_svd_full.append(helper)\\n        helper = []\\n        count += 1\\n    return relevance_svd_full\""
      ]
     },
     "execution_count": 72,
     "metadata": {},
     "output_type": "execute_result"
    }
   ],
   "source": [
    "'''def SVD_relevance():\n",
    "    svd_topK = SVD_topK_allUsers()\n",
    "    relevance_svd_full = []\n",
    "    helper = []\n",
    "    count = 0\n",
    "    for i in range(1,len(num_users)+1):\n",
    "        for j in range(len(svd_topK[count])):\n",
    "            if svd_topK[count]['movieId'].values[j] in test_df['movie_id'][test_df['user_id'] == i].values.tolist():\n",
    "                helper.append(1)\n",
    "            else:\n",
    "                helper.append(0)\n",
    "        relevance_svd_full.append(helper)\n",
    "        helper = []\n",
    "        count += 1\n",
    "    return relevance_svd_full'''"
   ]
  },
  {
   "cell_type": "code",
   "execution_count": 73,
   "metadata": {
    "ExecuteTime": {
     "end_time": "2020-08-14T08:07:32.576473Z",
     "start_time": "2020-08-14T08:07:32.570812Z"
    }
   },
   "outputs": [],
   "source": [
    "#svd_relevance = SVD_relevance()"
   ]
  },
  {
   "cell_type": "code",
   "execution_count": 74,
   "metadata": {
    "ExecuteTime": {
     "end_time": "2020-08-14T08:07:32.584145Z",
     "start_time": "2020-08-14T08:07:32.577471Z"
    }
   },
   "outputs": [],
   "source": [
    "#allUsers_svd_ndcg = allUsers_ndcg(svd_relevance)"
   ]
  },
  {
   "cell_type": "code",
   "execution_count": null,
   "metadata": {},
   "outputs": [],
   "source": []
  },
  {
   "cell_type": "markdown",
   "metadata": {},
   "source": [
    "# LightGBM Baseline"
   ]
  },
  {
   "cell_type": "markdown",
   "metadata": {},
   "source": [
    "##  Feature 1 (Implicit factorization model scores)"
   ]
  },
  {
   "cell_type": "markdown",
   "metadata": {},
   "source": [
    "Train an implicit factorization model using the train_features dataset"
   ]
  },
  {
   "cell_type": "code",
   "execution_count": 76,
   "metadata": {
    "ExecuteTime": {
     "end_time": "2020-08-14T08:08:15.463028Z",
     "start_time": "2020-08-14T08:07:32.594197Z"
    }
   },
   "outputs": [
    {
     "name": "stdout",
     "output_type": "stream",
     "text": [
      "Epoch 0: loss 0.808980467443419\n",
      "Epoch 1: loss 0.46292580767433245\n",
      "Epoch 2: loss 0.41202140223271777\n",
      "Epoch 3: loss 0.374163293012298\n",
      "Epoch 4: loss 0.330868722336127\n",
      "Training took 42 second\n"
     ]
    }
   ],
   "source": [
    "f1_model = ImplicitFactorizationModel(n_iter = 5)\n",
    "\n",
    "current = time.time()\n",
    "\n",
    "f1_model.fit(implicit_train_features,verbose = True)\n",
    "\n",
    "end = time.time()\n",
    "diff = end - current\n",
    "print('Training took %d second'%(diff))"
   ]
  },
  {
   "cell_type": "markdown",
   "metadata": {},
   "source": [
    "### Target Movies"
   ]
  },
  {
   "cell_type": "code",
   "execution_count": 77,
   "metadata": {
    "ExecuteTime": {
     "end_time": "2020-08-14T08:08:20.994559Z",
     "start_time": "2020-08-14T08:08:15.468905Z"
    }
   },
   "outputs": [],
   "source": [
    "allUsers_topK_f1 = allUsers_topK_implicit(f1_model)\n",
    "target_positive = allUsers_topK_f1"
   ]
  },
  {
   "cell_type": "markdown",
   "metadata": {},
   "source": [
    "Add negative samples to the target movies"
   ]
  },
  {
   "cell_type": "code",
   "execution_count": 78,
   "metadata": {
    "ExecuteTime": {
     "end_time": "2020-08-14T08:08:21.841579Z",
     "start_time": "2020-08-14T08:08:21.000546Z"
    }
   },
   "outputs": [],
   "source": [
    "import random\n",
    "target_negative = []\n",
    "for i in range(1,len(num_users)+1):\n",
    "    target_negative.append(random.choices(train_features_df[train_features_df['user_id']==i]['movie_id'].values, k = 50))"
   ]
  },
  {
   "cell_type": "code",
   "execution_count": 79,
   "metadata": {
    "ExecuteTime": {
     "end_time": "2020-08-14T08:08:21.857267Z",
     "start_time": "2020-08-14T08:08:21.845224Z"
    }
   },
   "outputs": [],
   "source": [
    "target_movies = []\n",
    "for i in range(len(num_users)):\n",
    "    target_movies.append(target_positive[i] + target_negative[i])"
   ]
  },
  {
   "cell_type": "markdown",
   "metadata": {},
   "source": [
    "Map the target movies to pick the correct predictions based on the item id"
   ]
  },
  {
   "cell_type": "code",
   "execution_count": 80,
   "metadata": {
    "ExecuteTime": {
     "end_time": "2020-08-14T08:08:21.931639Z",
     "start_time": "2020-08-14T08:08:21.861170Z"
    }
   },
   "outputs": [],
   "source": [
    "def map_movies(target_movies):\n",
    "    map_target_movies = []\n",
    "    map_help = []\n",
    "    for movies in target_movies:\n",
    "        for movie in movies:\n",
    "            map_help.append(iid_map[movie])\n",
    "        map_target_movies.append(map_help)\n",
    "        map_help = []\n",
    "    return map_target_movies"
   ]
  },
  {
   "cell_type": "markdown",
   "metadata": {},
   "source": [
    "Implicit Factorization model Scores"
   ]
  },
  {
   "cell_type": "markdown",
   "metadata": {},
   "source": [
    "Train implicit on implicit_features_train! and take these scores."
   ]
  },
  {
   "cell_type": "code",
   "execution_count": 81,
   "metadata": {
    "ExecuteTime": {
     "end_time": "2020-08-14T08:08:21.947722Z",
     "start_time": "2020-08-14T08:08:21.935266Z"
    }
   },
   "outputs": [],
   "source": [
    "def give_movies_implicit_scores(map_movies):\n",
    "    implicit_scores = 0\n",
    "    feature = []\n",
    "    for i in range(len(num_users)):\n",
    "        #for movies in map_target_movies:\n",
    "        my_list = map_movies[i]\n",
    "        my_array = np.array(my_list)\n",
    "        implicit_scores = f1_model.predict(user_ids = i,item_ids = my_array)\n",
    "        feature.append(implicit_scores)\n",
    "    return feature"
   ]
  },
  {
   "cell_type": "code",
   "execution_count": 82,
   "metadata": {
    "ExecuteTime": {
     "end_time": "2020-08-14T08:08:22.327794Z",
     "start_time": "2020-08-14T08:08:21.950867Z"
    }
   },
   "outputs": [
    {
     "data": {
      "text/plain": [
       "(610, 150)"
      ]
     },
     "execution_count": 82,
     "metadata": {},
     "output_type": "execute_result"
    }
   ],
   "source": [
    "map_target_movies = map_movies(target_movies)\n",
    "feature1 = give_movies_implicit_scores(map_target_movies)\n",
    "feature1 = np.asarray(feature1)\n",
    "feature1.shape"
   ]
  },
  {
   "cell_type": "markdown",
   "metadata": {},
   "source": [
    "## Feature 2 (Implicit Rank)"
   ]
  },
  {
   "cell_type": "code",
   "execution_count": 84,
   "metadata": {
    "ExecuteTime": {
     "end_time": "2020-08-14T08:08:22.836984Z",
     "start_time": "2020-08-14T08:08:22.350942Z"
    }
   },
   "outputs": [],
   "source": [
    "feature2 = []\n",
    "for i in range(len(num_users)):\n",
    "    my_list = map_target_movies[i]\n",
    "    my_array = np.array(my_list)\n",
    "    feature2.append(st.rankdata(f1_model.predict(i,my_array)))"
   ]
  },
  {
   "cell_type": "code",
   "execution_count": 85,
   "metadata": {
    "ExecuteTime": {
     "end_time": "2020-08-14T08:08:22.852421Z",
     "start_time": "2020-08-14T08:08:22.839271Z"
    }
   },
   "outputs": [
    {
     "data": {
      "text/plain": [
       "(610, 150)"
      ]
     },
     "execution_count": 85,
     "metadata": {},
     "output_type": "execute_result"
    }
   ],
   "source": [
    "np.array(feature2).shape"
   ]
  },
  {
   "cell_type": "code",
   "execution_count": 167,
   "metadata": {
    "ExecuteTime": {
     "end_time": "2020-08-14T10:37:39.283634Z",
     "start_time": "2020-08-14T10:37:39.274611Z"
    }
   },
   "outputs": [
    {
     "data": {
      "text/plain": [
       "array([124. ,  51. , 142. , 120. ,  63. , 112. ,  78. , 121.5, 144. ,\n",
       "       131. , 129. , 125. , 114. ,  97. ,  99. , 150. , 115. ,  94.5,\n",
       "       123. , 148. , 133. ,  74. ,  87. ,  84. ,  85. ,  56.5, 141. ,\n",
       "        79. ,  66. ,  67. , 127. ,  70. ,  92. ,  72. ,  73. ,  52. ,\n",
       "        82. , 111. ,  81. , 108. ,  59. ,  53. ,  76. ,  46. ,  89. ,\n",
       "        86. , 149. , 102. ,  54. ,  61. ,  90. ,  65. , 146. , 139. ,\n",
       "       137. ,  50. , 118. , 143. , 138. , 130. , 117. , 104. , 134. ,\n",
       "       105. ,  71. , 140. ,  77. , 136. , 101. , 147. , 110. , 132. ,\n",
       "       106. ,  60. , 135. , 107. ,  88. , 145. ,  80. , 119. ,  91. ,\n",
       "        75. ,  98. , 113. , 116. , 103. , 109. ,  55. ,  96. ,  48. ,\n",
       "        69. ,  62. ,  64. ,  83. , 100. ,  93. ,  58. ,  47. ,  68. ,\n",
       "        49. ,  12. ,  26. ,  21. ,  28. ,   6.5,  36.5, 127. ,  24. ,\n",
       "        31. ,  10.5,  14.5,  33. ,  25. ,  10.5,   6.5,  38. ,  41. ,\n",
       "        56.5,  39. ,  17. ,  14.5,   3. ,  22. ,   1. ,  41. ,  44.5,\n",
       "        36.5,  44.5,  34. ,  19. ,  23. ,   9. ,  16. ,   4. ,  32. ,\n",
       "        94.5,  13. ,  35. ,  43. ,  27. ,   2. ,   8. , 121.5,  20. ,\n",
       "        30. , 127. ,   5. ,  29. ,  18. ,  41. ])"
      ]
     },
     "execution_count": 167,
     "metadata": {},
     "output_type": "execute_result"
    }
   ],
   "source": [
    "feature2[0]"
   ]
  },
  {
   "cell_type": "markdown",
   "metadata": {},
   "source": [
    "## Feature 3 (SVD scores)"
   ]
  },
  {
   "cell_type": "markdown",
   "metadata": {},
   "source": [
    "SVD model Scores. Take advantage of the DataFrame containing the scores to extract the predicted scores for the desired movies."
   ]
  },
  {
   "cell_type": "code",
   "execution_count": 87,
   "metadata": {
    "ExecuteTime": {
     "end_time": "2020-08-14T08:08:24.311053Z",
     "start_time": "2020-08-14T08:08:24.148033Z"
    }
   },
   "outputs": [],
   "source": [
    "df_movie_features1 = train_features_df.pivot(\n",
    "    index='user_id',\n",
    "    columns='movie_id',\n",
    "    values='rating'\n",
    ").fillna(0)"
   ]
  },
  {
   "cell_type": "code",
   "execution_count": 88,
   "metadata": {
    "ExecuteTime": {
     "end_time": "2020-08-14T08:08:24.745530Z",
     "start_time": "2020-08-14T08:08:24.313080Z"
    }
   },
   "outputs": [],
   "source": [
    "U1, sigma1, Vt1 = svds(df_movie_features1)\n",
    "sigma1 = np.diag(sigma1)\n",
    "svd_predictions_score1 = np.dot(np.dot(U1, sigma1), Vt1)\n",
    "svd_predictions_score_df1 = pd.DataFrame(svd_predictions_score1, columns = df_movie_features1.columns)"
   ]
  },
  {
   "cell_type": "code",
   "execution_count": 89,
   "metadata": {
    "ExecuteTime": {
     "end_time": "2020-08-14T08:08:24.762195Z",
     "start_time": "2020-08-14T08:08:24.746808Z"
    }
   },
   "outputs": [
    {
     "data": {
      "text/plain": [
       "50"
      ]
     },
     "execution_count": 89,
     "metadata": {},
     "output_type": "execute_result"
    }
   ],
   "source": [
    "target_movies[0][2]"
   ]
  },
  {
   "cell_type": "code",
   "execution_count": 90,
   "metadata": {
    "ExecuteTime": {
     "end_time": "2020-08-14T08:08:24.836529Z",
     "start_time": "2020-08-14T08:08:24.764189Z"
    }
   },
   "outputs": [
    {
     "data": {
      "text/html": [
       "<div>\n",
       "<style scoped>\n",
       "    .dataframe tbody tr th:only-of-type {\n",
       "        vertical-align: middle;\n",
       "    }\n",
       "\n",
       "    .dataframe tbody tr th {\n",
       "        vertical-align: top;\n",
       "    }\n",
       "\n",
       "    .dataframe thead th {\n",
       "        text-align: right;\n",
       "    }\n",
       "</style>\n",
       "<table border=\"1\" class=\"dataframe\">\n",
       "  <thead>\n",
       "    <tr style=\"text-align: right;\">\n",
       "      <th>movie_id</th>\n",
       "      <th>1</th>\n",
       "      <th>2</th>\n",
       "      <th>3</th>\n",
       "      <th>4</th>\n",
       "      <th>5</th>\n",
       "      <th>6</th>\n",
       "      <th>7</th>\n",
       "      <th>8</th>\n",
       "      <th>9</th>\n",
       "      <th>10</th>\n",
       "      <th>...</th>\n",
       "      <th>190215</th>\n",
       "      <th>190219</th>\n",
       "      <th>193565</th>\n",
       "      <th>193567</th>\n",
       "      <th>193571</th>\n",
       "      <th>193573</th>\n",
       "      <th>193581</th>\n",
       "      <th>193583</th>\n",
       "      <th>193585</th>\n",
       "      <th>193609</th>\n",
       "    </tr>\n",
       "  </thead>\n",
       "  <tbody>\n",
       "    <tr>\n",
       "      <th>0</th>\n",
       "      <td>1.70961</td>\n",
       "      <td>0.985088</td>\n",
       "      <td>0.532766</td>\n",
       "      <td>0.013699</td>\n",
       "      <td>0.327299</td>\n",
       "      <td>1.039689</td>\n",
       "      <td>0.308421</td>\n",
       "      <td>0.048371</td>\n",
       "      <td>0.079361</td>\n",
       "      <td>1.348522</td>\n",
       "      <td>...</td>\n",
       "      <td>-0.001391</td>\n",
       "      <td>-0.000927</td>\n",
       "      <td>-0.005166</td>\n",
       "      <td>-0.004428</td>\n",
       "      <td>-0.005903</td>\n",
       "      <td>-0.005903</td>\n",
       "      <td>-0.005903</td>\n",
       "      <td>-0.005166</td>\n",
       "      <td>-0.005166</td>\n",
       "      <td>-0.015981</td>\n",
       "    </tr>\n",
       "  </tbody>\n",
       "</table>\n",
       "<p>1 rows × 7611 columns</p>\n",
       "</div>"
      ],
      "text/plain": [
       "movie_id   1         2         3         4         5         6         7       \\\n",
       "0         1.70961  0.985088  0.532766  0.013699  0.327299  1.039689  0.308421   \n",
       "\n",
       "movie_id    8         9         10      ...    190215    190219    193565  \\\n",
       "0         0.048371  0.079361  1.348522  ... -0.001391 -0.000927 -0.005166   \n",
       "\n",
       "movie_id    193567    193571    193573    193581    193583    193585    193609  \n",
       "0        -0.004428 -0.005903 -0.005903 -0.005903 -0.005166 -0.005166 -0.015981  \n",
       "\n",
       "[1 rows x 7611 columns]"
      ]
     },
     "execution_count": 90,
     "metadata": {},
     "output_type": "execute_result"
    }
   ],
   "source": [
    "svd_predictions_score_df1[svd_predictions_score_df1.index == 0]"
   ]
  },
  {
   "cell_type": "code",
   "execution_count": 91,
   "metadata": {
    "ExecuteTime": {
     "end_time": "2020-08-14T08:08:24.852219Z",
     "start_time": "2020-08-14T08:08:24.839644Z"
    }
   },
   "outputs": [
    {
     "data": {
      "text/plain": [
       "1.7096095206750834"
      ]
     },
     "execution_count": 91,
     "metadata": {},
     "output_type": "execute_result"
    }
   ],
   "source": [
    "float(svd_predictions_score_df1[svd_predictions_score_df1.index == 0][target_movies[0][0]].values)"
   ]
  },
  {
   "cell_type": "code",
   "execution_count": 92,
   "metadata": {
    "ExecuteTime": {
     "end_time": "2020-08-14T08:10:09.497406Z",
     "start_time": "2020-08-14T08:08:24.854213Z"
    }
   },
   "outputs": [],
   "source": [
    "feature3 = []\n",
    "feature3_user = []\n",
    "for i in range(len(num_users)):\n",
    "    for j in range(len(target_movies[i])):\n",
    "        feature3_user.append(float(svd_predictions_score_df1[svd_predictions_score_df1.index == i][target_movies[i][j]].values))\n",
    "    feature3.append(feature3_user)\n",
    "    feature3_user = []"
   ]
  },
  {
   "cell_type": "code",
   "execution_count": 93,
   "metadata": {
    "ExecuteTime": {
     "end_time": "2020-08-14T08:10:09.538066Z",
     "start_time": "2020-08-14T08:10:09.505317Z"
    }
   },
   "outputs": [
    {
     "data": {
      "text/plain": [
       "(610, 150)"
      ]
     },
     "execution_count": 93,
     "metadata": {},
     "output_type": "execute_result"
    }
   ],
   "source": [
    "np.array(feature3).shape"
   ]
  },
  {
   "cell_type": "markdown",
   "metadata": {},
   "source": [
    "## Feature 4 (Genre)"
   ]
  },
  {
   "cell_type": "code",
   "execution_count": 94,
   "metadata": {
    "ExecuteTime": {
     "end_time": "2020-08-14T08:10:09.570266Z",
     "start_time": "2020-08-14T08:10:09.547154Z"
    }
   },
   "outputs": [],
   "source": [
    "def create_genre_feature(genre):\n",
    "    feature = []\n",
    "    genre_per_user = []\n",
    "    for i in range(len(num_users)):\n",
    "        for j in range(len(target_movies[i])):\n",
    "            a =  movies_df[movies_df['movieId'] == target_movies[i][j]]['genres']\n",
    "            a = a.tolist()\n",
    "            a = str(a[0])\n",
    "            a = a.split('|')\n",
    "            if genre in a:\n",
    "                genre_per_user.append(1)\n",
    "            else:\n",
    "                genre_per_user.append(0)\n",
    "        feature.append(genre_per_user)\n",
    "        genre_per_user = []\n",
    "    return feature"
   ]
  },
  {
   "cell_type": "code",
   "execution_count": 95,
   "metadata": {
    "ExecuteTime": {
     "end_time": "2020-08-14T08:12:37.419835Z",
     "start_time": "2020-08-14T08:10:09.576050Z"
    }
   },
   "outputs": [
    {
     "data": {
      "text/plain": [
       "(610, 150)"
      ]
     },
     "execution_count": 95,
     "metadata": {},
     "output_type": "execute_result"
    }
   ],
   "source": [
    "feature4 = create_genre_feature('Comedy')\n",
    "np.array(feature4).shape"
   ]
  },
  {
   "cell_type": "markdown",
   "metadata": {},
   "source": [
    "### Features 8-15 (genres)"
   ]
  },
  {
   "cell_type": "code",
   "execution_count": 96,
   "metadata": {
    "ExecuteTime": {
     "end_time": "2020-08-14T08:29:49.464487Z",
     "start_time": "2020-08-14T08:12:37.424717Z"
    }
   },
   "outputs": [],
   "source": [
    "feature8 = create_genre_feature('Adventure')\n",
    "feature9 = create_genre_feature('Drama')\n",
    "feature10 = create_genre_feature('Romance')\n",
    "feature11 = create_genre_feature('Fantasy')\n",
    "feature12 = create_genre_feature('Thriller')\n",
    "feature13 = create_genre_feature('Animation')\n",
    "feature14 = create_genre_feature('Children')\n",
    "feature15 = create_genre_feature('Horror')"
   ]
  },
  {
   "cell_type": "markdown",
   "metadata": {},
   "source": [
    "## Feature 5 (#Users watched each target movie)"
   ]
  },
  {
   "cell_type": "code",
   "execution_count": 97,
   "metadata": {
    "ExecuteTime": {
     "end_time": "2020-08-14T08:32:03.217684Z",
     "start_time": "2020-08-14T08:29:49.468847Z"
    }
   },
   "outputs": [],
   "source": [
    "number_views = []\n",
    "number_view_per_movie = []\n",
    "for i in range(len(num_users)):\n",
    "    for j in range(len(target_movies[i])):\n",
    "        a = len(ratings_df[ratings_df['movieId'] == target_movies[i][j]]['userId'])\n",
    "        number_view_per_movie.append(a)\n",
    "    number_views.append(number_view_per_movie)\n",
    "    number_view_per_movie = []\n"
   ]
  },
  {
   "cell_type": "code",
   "execution_count": 98,
   "metadata": {
    "ExecuteTime": {
     "end_time": "2020-08-14T08:32:03.233690Z",
     "start_time": "2020-08-14T08:32:03.221855Z"
    }
   },
   "outputs": [],
   "source": [
    "feature5 = number_views"
   ]
  },
  {
   "cell_type": "code",
   "execution_count": 99,
   "metadata": {
    "ExecuteTime": {
     "end_time": "2020-08-14T08:32:03.290249Z",
     "start_time": "2020-08-14T08:32:03.237679Z"
    }
   },
   "outputs": [
    {
     "data": {
      "text/plain": [
       "(610, 150)"
      ]
     },
     "execution_count": 99,
     "metadata": {},
     "output_type": "execute_result"
    }
   ],
   "source": [
    "np.array(feature5).shape"
   ]
  },
  {
   "cell_type": "markdown",
   "metadata": {},
   "source": [
    "## Feature 6 (New user)"
   ]
  },
  {
   "cell_type": "code",
   "execution_count": 100,
   "metadata": {
    "ExecuteTime": {
     "end_time": "2020-08-14T08:32:03.314967Z",
     "start_time": "2020-08-14T08:32:03.296358Z"
    }
   },
   "outputs": [
    {
     "data": {
      "text/plain": [
       "False"
      ]
     },
     "execution_count": 100,
     "metadata": {},
     "output_type": "execute_result"
    }
   ],
   "source": [
    "len(ratings_df[ratings_df['userId']==1]) < 20"
   ]
  },
  {
   "cell_type": "code",
   "execution_count": 101,
   "metadata": {
    "ExecuteTime": {
     "end_time": "2020-08-14T08:34:08.484510Z",
     "start_time": "2020-08-14T08:32:03.318853Z"
    }
   },
   "outputs": [],
   "source": [
    "new_users_binary = []\n",
    "binary_per_user = []\n",
    "for i in range(len(num_users)):\n",
    "    for j in range(len(target_movies[i])):\n",
    "        a = len(ratings_df[ratings_df['userId']==1]) < 20\n",
    "        if a:\n",
    "            binary_per_user.append(a)\n",
    "        else:\n",
    "            binary_per_user.append(a)\n",
    "    new_users_binary.append(binary_per_user)\n",
    "    binary_per_user = []"
   ]
  },
  {
   "cell_type": "code",
   "execution_count": 102,
   "metadata": {
    "ExecuteTime": {
     "end_time": "2020-08-14T08:34:08.499690Z",
     "start_time": "2020-08-14T08:34:08.488154Z"
    }
   },
   "outputs": [],
   "source": [
    "#rankings of old/new users"
   ]
  },
  {
   "cell_type": "code",
   "execution_count": 103,
   "metadata": {
    "ExecuteTime": {
     "end_time": "2020-08-14T08:34:08.560294Z",
     "start_time": "2020-08-14T08:34:08.504917Z"
    }
   },
   "outputs": [],
   "source": [
    "feature6 = new_users_binary"
   ]
  },
  {
   "cell_type": "code",
   "execution_count": 104,
   "metadata": {
    "ExecuteTime": {
     "end_time": "2020-08-14T08:34:08.591173Z",
     "start_time": "2020-08-14T08:34:08.564227Z"
    }
   },
   "outputs": [
    {
     "data": {
      "text/plain": [
       "(610, 150)"
      ]
     },
     "execution_count": 104,
     "metadata": {},
     "output_type": "execute_result"
    }
   ],
   "source": [
    "np.array(feature6).shape"
   ]
  },
  {
   "cell_type": "markdown",
   "metadata": {},
   "source": [
    "## Feature 7(Embeddings) x32"
   ]
  },
  {
   "cell_type": "code",
   "execution_count": 105,
   "metadata": {
    "ExecuteTime": {
     "end_time": "2020-08-14T08:34:08.607116Z",
     "start_time": "2020-08-14T08:34:08.591173Z"
    }
   },
   "outputs": [],
   "source": [
    "emb = f1_model._net.item_embeddings"
   ]
  },
  {
   "cell_type": "code",
   "execution_count": 106,
   "metadata": {
    "ExecuteTime": {
     "end_time": "2020-08-14T08:34:15.564061Z",
     "start_time": "2020-08-14T08:34:08.611194Z"
    }
   },
   "outputs": [],
   "source": [
    "emb_features = []\n",
    "helper = []\n",
    "for i in range(32):\n",
    "    for j in range(len(num_items)):\n",
    "        helper.append(emb.weight[j][i].item())\n",
    "    emb_features.append(helper)\n",
    "    helper = []"
   ]
  },
  {
   "cell_type": "code",
   "execution_count": 107,
   "metadata": {
    "ExecuteTime": {
     "end_time": "2020-08-14T08:34:17.082085Z",
     "start_time": "2020-08-14T08:34:15.565526Z"
    }
   },
   "outputs": [],
   "source": [
    "a = []\n",
    "b = []\n",
    "feature7 = []\n",
    "for i in range(32):\n",
    "    for user in range(len(num_users)):\n",
    "        for movie in map_target_movies[user]:\n",
    "            a.append(emb_features[0][movie])\n",
    "        b.append(a)\n",
    "        a = []\n",
    "    feature7.append(b)\n",
    "    b = []"
   ]
  },
  {
   "cell_type": "code",
   "execution_count": 108,
   "metadata": {
    "ExecuteTime": {
     "end_time": "2020-08-14T08:34:17.410686Z",
     "start_time": "2020-08-14T08:34:17.083135Z"
    }
   },
   "outputs": [
    {
     "data": {
      "text/plain": [
       "(32, 610, 150)"
      ]
     },
     "execution_count": 108,
     "metadata": {},
     "output_type": "execute_result"
    }
   ],
   "source": [
    "np.array(feature7).shape"
   ]
  },
  {
   "cell_type": "code",
   "execution_count": 109,
   "metadata": {
    "ExecuteTime": {
     "end_time": "2020-08-14T08:34:17.437436Z",
     "start_time": "2020-08-14T08:34:17.410686Z"
    }
   },
   "outputs": [
    {
     "data": {
      "text/plain": [
       "(610, 150)"
      ]
     },
     "execution_count": 109,
     "metadata": {},
     "output_type": "execute_result"
    }
   ],
   "source": [
    "np.array(feature7[0]).shape"
   ]
  },
  {
   "cell_type": "markdown",
   "metadata": {},
   "source": [
    "## Feature 47 (SVD Rank)"
   ]
  },
  {
   "cell_type": "code",
   "execution_count": 110,
   "metadata": {
    "ExecuteTime": {
     "end_time": "2020-08-14T08:35:34.661067Z",
     "start_time": "2020-08-14T08:34:17.440282Z"
    }
   },
   "outputs": [],
   "source": [
    "feature47 = []\n",
    "feature47_user = []\n",
    "for i in range(len(num_users)):\n",
    "    for j in range(len(target_movies[i])):\n",
    "        feature47_user.append(float(svd_predictions_score_df1[svd_predictions_score_df1.index == i][target_movies[i][j]].values))\n",
    "    feature47.append(st.rankdata(feature47_user))\n",
    "    feature47_user = []"
   ]
  },
  {
   "cell_type": "code",
   "execution_count": 111,
   "metadata": {
    "ExecuteTime": {
     "end_time": "2020-08-14T08:35:34.677533Z",
     "start_time": "2020-08-14T08:35:34.665184Z"
    }
   },
   "outputs": [
    {
     "data": {
      "text/plain": [
       "(610, 150)"
      ]
     },
     "execution_count": 111,
     "metadata": {},
     "output_type": "execute_result"
    }
   ],
   "source": [
    "np.array(feature47).shape"
   ]
  },
  {
   "cell_type": "markdown",
   "metadata": {},
   "source": [
    "## Features stack"
   ]
  },
  {
   "cell_type": "code",
   "execution_count": 112,
   "metadata": {
    "ExecuteTime": {
     "end_time": "2020-08-14T08:35:35.323619Z",
     "start_time": "2020-08-14T08:35:34.682702Z"
    }
   },
   "outputs": [],
   "source": [
    "features = np.stack((feature1,feature2,feature3,feature4,feature5,\n",
    "                     feature7[0], feature7[1],feature7[2], feature7[3],\n",
    "                     feature7[4], feature7[5],feature7[6], feature7[7],\n",
    "                     feature7[8], feature7[9],feature7[10], feature7[11],\n",
    "                     feature7[12], feature7[13],feature7[14], feature7[15],\n",
    "                     feature7[16], feature7[17],feature7[18], feature7[19],\n",
    "                     feature7[20], feature7[21],feature7[22], feature7[23],\n",
    "                     feature7[24], feature7[25],feature7[26], feature7[27],\n",
    "                     feature7[28], feature7[29],feature7[30], feature7[31],\n",
    "                     feature8,feature9,feature10,feature11,feature12,\n",
    "                    feature13,feature14,feature15,feature47))"
   ]
  },
  {
   "cell_type": "code",
   "execution_count": 113,
   "metadata": {
    "ExecuteTime": {
     "end_time": "2020-08-14T08:35:35.339570Z",
     "start_time": "2020-08-14T08:35:35.323619Z"
    }
   },
   "outputs": [
    {
     "data": {
      "text/plain": [
       "46"
      ]
     },
     "execution_count": 113,
     "metadata": {},
     "output_type": "execute_result"
    }
   ],
   "source": [
    "len(features)"
   ]
  },
  {
   "cell_type": "markdown",
   "metadata": {},
   "source": [
    "## Labels"
   ]
  },
  {
   "cell_type": "markdown",
   "metadata": {},
   "source": [
    "Below are the movies that each user watched"
   ]
  },
  {
   "cell_type": "markdown",
   "metadata": {},
   "source": [
    "### CHECK!!"
   ]
  },
  {
   "cell_type": "code",
   "execution_count": 114,
   "metadata": {
    "ExecuteTime": {
     "end_time": "2020-08-14T08:35:35.416116Z",
     "start_time": "2020-08-14T08:35:35.344982Z"
    }
   },
   "outputs": [],
   "source": [
    "def watched_movies(df):\n",
    "    watched = []\n",
    "    for i in range(len(num_users)):\n",
    "        watched.append(df[df[\"user_id\"]==uid_rev_map.get(i)].groupby(\"movie_id\")[\"movie_id\"].count().index)  \n",
    "    return watched"
   ]
  },
  {
   "cell_type": "code",
   "execution_count": 115,
   "metadata": {
    "ExecuteTime": {
     "end_time": "2020-08-14T08:35:40.161389Z",
     "start_time": "2020-08-14T08:35:35.421622Z"
    }
   },
   "outputs": [],
   "source": [
    "#train_labels_df\n",
    "#test_df\n",
    "#val_df\n",
    "train_watched = watched_movies(train_labels_df)\n",
    "test_watched = watched_movies(test_df)\n",
    "val_watched = watched_movies(val_df)"
   ]
  },
  {
   "cell_type": "markdown",
   "metadata": {},
   "source": [
    "Creation of the target list. It containes 0s and 1s for the 100 recommended movies for each user. Based on the watched movies it assigns the values. If the user watched the recommended movie, then the value of the target is equal to 1, otherwise it is 0."
   ]
  },
  {
   "cell_type": "code",
   "execution_count": 116,
   "metadata": {
    "ExecuteTime": {
     "end_time": "2020-08-14T08:35:40.187977Z",
     "start_time": "2020-08-14T08:35:40.161389Z"
    }
   },
   "outputs": [],
   "source": [
    "def create_target(watched):\n",
    "    user_target = []\n",
    "    target = []\n",
    "    for i in range(len(num_users)):\n",
    "        for target_movie in target_movies[i]:\n",
    "            if target_movie in watched[i]:\n",
    "                user_target.append(1)\n",
    "            else:\n",
    "                user_target.append(0)\n",
    "        target.append(user_target)\n",
    "        user_target = []\n",
    "    return target"
   ]
  },
  {
   "cell_type": "code",
   "execution_count": 117,
   "metadata": {
    "ExecuteTime": {
     "end_time": "2020-08-14T08:35:40.731615Z",
     "start_time": "2020-08-14T08:35:40.187977Z"
    }
   },
   "outputs": [],
   "source": [
    "label_train = create_target(train_watched)\n",
    "label_test = create_target(test_watched)\n",
    "label_val = create_target(val_watched)\n",
    "#y_train = y_test = y_val"
   ]
  },
  {
   "cell_type": "markdown",
   "metadata": {},
   "source": [
    "## LightGBM model"
   ]
  },
  {
   "cell_type": "code",
   "execution_count": 118,
   "metadata": {
    "ExecuteTime": {
     "end_time": "2020-08-14T08:35:40.822991Z",
     "start_time": "2020-08-14T08:35:40.732963Z"
    }
   },
   "outputs": [],
   "source": [
    "X = np.array(features)\n",
    "label_train = np.array(label_train)\n",
    "label_test = np.array(label_test)\n",
    "label_val = np.array(label_val)"
   ]
  },
  {
   "cell_type": "code",
   "execution_count": 119,
   "metadata": {
    "ExecuteTime": {
     "end_time": "2020-08-14T08:35:40.840411Z",
     "start_time": "2020-08-14T08:35:40.822991Z"
    }
   },
   "outputs": [],
   "source": [
    "k = len(target_movies[0])\n",
    "X = X.reshape(len(num_users)*k, len(features))\n",
    "y_train = label_train.reshape(len(num_users)*k,)\n",
    "y_test = label_test.reshape(len(num_users)*k,)\n",
    "y_val = label_val.reshape(len(num_users)*k,)"
   ]
  },
  {
   "cell_type": "code",
   "execution_count": 120,
   "metadata": {
    "ExecuteTime": {
     "end_time": "2020-08-14T08:35:41.032725Z",
     "start_time": "2020-08-14T08:35:40.843993Z"
    }
   },
   "outputs": [],
   "source": [
    "import lightgbm as lgb\n",
    "gbm = lgb.LGBMRanker(min_child_samples=1, learning_rate=.1, n_jobs=2, importance_type='gain',\n",
    "                     num_leaves=31, min_child_weight=100)"
   ]
  },
  {
   "cell_type": "code",
   "execution_count": 121,
   "metadata": {
    "ExecuteTime": {
     "end_time": "2020-08-14T08:35:41.054989Z",
     "start_time": "2020-08-14T08:35:41.033725Z"
    }
   },
   "outputs": [],
   "source": [
    "X_train = X\n",
    "X_test = X\n",
    "X_val = X"
   ]
  },
  {
   "cell_type": "code",
   "execution_count": 172,
   "metadata": {
    "ExecuteTime": {
     "end_time": "2020-08-14T10:41:20.305938Z",
     "start_time": "2020-08-14T10:41:20.292973Z"
    }
   },
   "outputs": [
    {
     "name": "stdout",
     "output_type": "stream",
     "text": [
      "610\n",
      "609\n",
      "609\n",
      "610\n",
      "605\n"
     ]
    }
   ],
   "source": [
    "print(len(train_df.user_id.unique()))\n",
    "print(len(test_df.user_id.unique()))\n",
    "print(len(val_df.user_id.unique()))\n",
    "print(len(train_features_df.user_id.unique()))\n",
    "print(len(train_labels_df.user_id.unique()))"
   ]
  },
  {
   "cell_type": "code",
   "execution_count": 122,
   "metadata": {
    "ExecuteTime": {
     "end_time": "2020-08-14T08:35:41.070832Z",
     "start_time": "2020-08-14T08:35:41.054989Z"
    }
   },
   "outputs": [
    {
     "name": "stdout",
     "output_type": "stream",
     "text": [
      "[91500]\n",
      "[91500]\n",
      "[91500]\n"
     ]
    }
   ],
   "source": [
    "query_train = [X_train.shape[0]]\n",
    "query_val = [X_val.shape[0]]\n",
    "query_test = [X_test.shape[0]]\n",
    "group_train = []\n",
    "group_val = []\n",
    "print(query_train)\n",
    "print(query_val)\n",
    "print(query_test)\n",
    "\n",
    "for i in range(len(num_users)):\n",
    "    group_train.append(k)\n",
    "    group_val.append(k)"
   ]
  },
  {
   "cell_type": "code",
   "execution_count": 190,
   "metadata": {
    "ExecuteTime": {
     "end_time": "2020-08-14T12:34:46.994992Z",
     "start_time": "2020-08-14T12:34:46.977038Z"
    }
   },
   "outputs": [
    {
     "data": {
      "text/plain": [
       "[150,\n",
       " 150,\n",
       " 150,\n",
       " 150,\n",
       " 150,\n",
       " 150,\n",
       " 150,\n",
       " 150,\n",
       " 150,\n",
       " 150,\n",
       " 150,\n",
       " 150,\n",
       " 150,\n",
       " 150,\n",
       " 150,\n",
       " 150,\n",
       " 150,\n",
       " 150,\n",
       " 150,\n",
       " 150,\n",
       " 150,\n",
       " 150,\n",
       " 150,\n",
       " 150,\n",
       " 150,\n",
       " 150,\n",
       " 150,\n",
       " 150,\n",
       " 150,\n",
       " 150,\n",
       " 150,\n",
       " 150,\n",
       " 150,\n",
       " 150,\n",
       " 150,\n",
       " 150,\n",
       " 150,\n",
       " 150,\n",
       " 150,\n",
       " 150,\n",
       " 150,\n",
       " 150,\n",
       " 150,\n",
       " 150,\n",
       " 150,\n",
       " 150,\n",
       " 150,\n",
       " 150,\n",
       " 150,\n",
       " 150,\n",
       " 150,\n",
       " 150,\n",
       " 150,\n",
       " 150,\n",
       " 150,\n",
       " 150,\n",
       " 150,\n",
       " 150,\n",
       " 150,\n",
       " 150,\n",
       " 150,\n",
       " 150,\n",
       " 150,\n",
       " 150,\n",
       " 150,\n",
       " 150,\n",
       " 150,\n",
       " 150,\n",
       " 150,\n",
       " 150,\n",
       " 150,\n",
       " 150,\n",
       " 150,\n",
       " 150,\n",
       " 150,\n",
       " 150,\n",
       " 150,\n",
       " 150,\n",
       " 150,\n",
       " 150,\n",
       " 150,\n",
       " 150,\n",
       " 150,\n",
       " 150,\n",
       " 150,\n",
       " 150,\n",
       " 150,\n",
       " 150,\n",
       " 150,\n",
       " 150,\n",
       " 150,\n",
       " 150,\n",
       " 150,\n",
       " 150,\n",
       " 150,\n",
       " 150,\n",
       " 150,\n",
       " 150,\n",
       " 150,\n",
       " 150,\n",
       " 150,\n",
       " 150,\n",
       " 150,\n",
       " 150,\n",
       " 150,\n",
       " 150,\n",
       " 150,\n",
       " 150,\n",
       " 150,\n",
       " 150,\n",
       " 150,\n",
       " 150,\n",
       " 150,\n",
       " 150,\n",
       " 150,\n",
       " 150,\n",
       " 150,\n",
       " 150,\n",
       " 150,\n",
       " 150,\n",
       " 150,\n",
       " 150,\n",
       " 150,\n",
       " 150,\n",
       " 150,\n",
       " 150,\n",
       " 150,\n",
       " 150,\n",
       " 150,\n",
       " 150,\n",
       " 150,\n",
       " 150,\n",
       " 150,\n",
       " 150,\n",
       " 150,\n",
       " 150,\n",
       " 150,\n",
       " 150,\n",
       " 150,\n",
       " 150,\n",
       " 150,\n",
       " 150,\n",
       " 150,\n",
       " 150,\n",
       " 150,\n",
       " 150,\n",
       " 150,\n",
       " 150,\n",
       " 150,\n",
       " 150,\n",
       " 150,\n",
       " 150,\n",
       " 150,\n",
       " 150,\n",
       " 150,\n",
       " 150,\n",
       " 150,\n",
       " 150,\n",
       " 150,\n",
       " 150,\n",
       " 150,\n",
       " 150,\n",
       " 150,\n",
       " 150,\n",
       " 150,\n",
       " 150,\n",
       " 150,\n",
       " 150,\n",
       " 150,\n",
       " 150,\n",
       " 150,\n",
       " 150,\n",
       " 150,\n",
       " 150,\n",
       " 150,\n",
       " 150,\n",
       " 150,\n",
       " 150,\n",
       " 150,\n",
       " 150,\n",
       " 150,\n",
       " 150,\n",
       " 150,\n",
       " 150,\n",
       " 150,\n",
       " 150,\n",
       " 150,\n",
       " 150,\n",
       " 150,\n",
       " 150,\n",
       " 150,\n",
       " 150,\n",
       " 150,\n",
       " 150,\n",
       " 150,\n",
       " 150,\n",
       " 150,\n",
       " 150,\n",
       " 150,\n",
       " 150,\n",
       " 150,\n",
       " 150,\n",
       " 150,\n",
       " 150,\n",
       " 150,\n",
       " 150,\n",
       " 150,\n",
       " 150,\n",
       " 150,\n",
       " 150,\n",
       " 150,\n",
       " 150,\n",
       " 150,\n",
       " 150,\n",
       " 150,\n",
       " 150,\n",
       " 150,\n",
       " 150,\n",
       " 150,\n",
       " 150,\n",
       " 150,\n",
       " 150,\n",
       " 150,\n",
       " 150,\n",
       " 150,\n",
       " 150,\n",
       " 150,\n",
       " 150,\n",
       " 150,\n",
       " 150,\n",
       " 150,\n",
       " 150,\n",
       " 150,\n",
       " 150,\n",
       " 150,\n",
       " 150,\n",
       " 150,\n",
       " 150,\n",
       " 150,\n",
       " 150,\n",
       " 150,\n",
       " 150,\n",
       " 150,\n",
       " 150,\n",
       " 150,\n",
       " 150,\n",
       " 150,\n",
       " 150,\n",
       " 150,\n",
       " 150,\n",
       " 150,\n",
       " 150,\n",
       " 150,\n",
       " 150,\n",
       " 150,\n",
       " 150,\n",
       " 150,\n",
       " 150,\n",
       " 150,\n",
       " 150,\n",
       " 150,\n",
       " 150,\n",
       " 150,\n",
       " 150,\n",
       " 150,\n",
       " 150,\n",
       " 150,\n",
       " 150,\n",
       " 150,\n",
       " 150,\n",
       " 150,\n",
       " 150,\n",
       " 150,\n",
       " 150,\n",
       " 150,\n",
       " 150,\n",
       " 150,\n",
       " 150,\n",
       " 150,\n",
       " 150,\n",
       " 150,\n",
       " 150,\n",
       " 150,\n",
       " 150,\n",
       " 150,\n",
       " 150,\n",
       " 150,\n",
       " 150,\n",
       " 150,\n",
       " 150,\n",
       " 150,\n",
       " 150,\n",
       " 150,\n",
       " 150,\n",
       " 150,\n",
       " 150,\n",
       " 150,\n",
       " 150,\n",
       " 150,\n",
       " 150,\n",
       " 150,\n",
       " 150,\n",
       " 150,\n",
       " 150,\n",
       " 150,\n",
       " 150,\n",
       " 150,\n",
       " 150,\n",
       " 150,\n",
       " 150,\n",
       " 150,\n",
       " 150,\n",
       " 150,\n",
       " 150,\n",
       " 150,\n",
       " 150,\n",
       " 150,\n",
       " 150,\n",
       " 150,\n",
       " 150,\n",
       " 150,\n",
       " 150,\n",
       " 150,\n",
       " 150,\n",
       " 150,\n",
       " 150,\n",
       " 150,\n",
       " 150,\n",
       " 150,\n",
       " 150,\n",
       " 150,\n",
       " 150,\n",
       " 150,\n",
       " 150,\n",
       " 150,\n",
       " 150,\n",
       " 150,\n",
       " 150,\n",
       " 150,\n",
       " 150,\n",
       " 150,\n",
       " 150,\n",
       " 150,\n",
       " 150,\n",
       " 150,\n",
       " 150,\n",
       " 150,\n",
       " 150,\n",
       " 150,\n",
       " 150,\n",
       " 150,\n",
       " 150,\n",
       " 150,\n",
       " 150,\n",
       " 150,\n",
       " 150,\n",
       " 150,\n",
       " 150,\n",
       " 150,\n",
       " 150,\n",
       " 150,\n",
       " 150,\n",
       " 150,\n",
       " 150,\n",
       " 150,\n",
       " 150,\n",
       " 150,\n",
       " 150,\n",
       " 150,\n",
       " 150,\n",
       " 150,\n",
       " 150,\n",
       " 150,\n",
       " 150,\n",
       " 150,\n",
       " 150,\n",
       " 150,\n",
       " 150,\n",
       " 150,\n",
       " 150,\n",
       " 150,\n",
       " 150,\n",
       " 150,\n",
       " 150,\n",
       " 150,\n",
       " 150,\n",
       " 150,\n",
       " 150,\n",
       " 150,\n",
       " 150,\n",
       " 150,\n",
       " 150,\n",
       " 150,\n",
       " 150,\n",
       " 150,\n",
       " 150,\n",
       " 150,\n",
       " 150,\n",
       " 150,\n",
       " 150,\n",
       " 150,\n",
       " 150,\n",
       " 150,\n",
       " 150,\n",
       " 150,\n",
       " 150,\n",
       " 150,\n",
       " 150,\n",
       " 150,\n",
       " 150,\n",
       " 150,\n",
       " 150,\n",
       " 150,\n",
       " 150,\n",
       " 150,\n",
       " 150,\n",
       " 150,\n",
       " 150,\n",
       " 150,\n",
       " 150,\n",
       " 150,\n",
       " 150,\n",
       " 150,\n",
       " 150,\n",
       " 150,\n",
       " 150,\n",
       " 150,\n",
       " 150,\n",
       " 150,\n",
       " 150,\n",
       " 150,\n",
       " 150,\n",
       " 150,\n",
       " 150,\n",
       " 150,\n",
       " 150,\n",
       " 150,\n",
       " 150,\n",
       " 150,\n",
       " 150,\n",
       " 150,\n",
       " 150,\n",
       " 150,\n",
       " 150,\n",
       " 150,\n",
       " 150,\n",
       " 150,\n",
       " 150,\n",
       " 150,\n",
       " 150,\n",
       " 150,\n",
       " 150,\n",
       " 150,\n",
       " 150,\n",
       " 150,\n",
       " 150,\n",
       " 150,\n",
       " 150,\n",
       " 150,\n",
       " 150,\n",
       " 150,\n",
       " 150,\n",
       " 150,\n",
       " 150,\n",
       " 150,\n",
       " 150,\n",
       " 150,\n",
       " 150,\n",
       " 150,\n",
       " 150,\n",
       " 150,\n",
       " 150,\n",
       " 150,\n",
       " 150,\n",
       " 150,\n",
       " 150,\n",
       " 150,\n",
       " 150,\n",
       " 150,\n",
       " 150,\n",
       " 150,\n",
       " 150,\n",
       " 150,\n",
       " 150,\n",
       " 150,\n",
       " 150,\n",
       " 150,\n",
       " 150,\n",
       " 150,\n",
       " 150,\n",
       " 150,\n",
       " 150,\n",
       " 150,\n",
       " 150,\n",
       " 150,\n",
       " 150,\n",
       " 150,\n",
       " 150,\n",
       " 150,\n",
       " 150,\n",
       " 150,\n",
       " 150,\n",
       " 150,\n",
       " 150,\n",
       " 150,\n",
       " 150,\n",
       " 150,\n",
       " 150,\n",
       " 150,\n",
       " 150,\n",
       " 150,\n",
       " 150,\n",
       " 150,\n",
       " 150,\n",
       " 150,\n",
       " 150,\n",
       " 150,\n",
       " 150,\n",
       " 150,\n",
       " 150,\n",
       " 150,\n",
       " 150,\n",
       " 150,\n",
       " 150,\n",
       " 150,\n",
       " 150,\n",
       " 150,\n",
       " 150,\n",
       " 150,\n",
       " 150,\n",
       " 150,\n",
       " 150,\n",
       " 150,\n",
       " 150,\n",
       " 150,\n",
       " 150,\n",
       " 150,\n",
       " 150,\n",
       " 150,\n",
       " 150,\n",
       " 150,\n",
       " 150,\n",
       " 150,\n",
       " 150,\n",
       " 150,\n",
       " 150,\n",
       " 150,\n",
       " 150,\n",
       " 150,\n",
       " 150,\n",
       " 150,\n",
       " 150,\n",
       " 150,\n",
       " 150,\n",
       " 150,\n",
       " 150,\n",
       " 150,\n",
       " 150,\n",
       " 150,\n",
       " 150,\n",
       " 150,\n",
       " 150,\n",
       " 150,\n",
       " 150,\n",
       " 150,\n",
       " 150,\n",
       " 150,\n",
       " 150,\n",
       " 150,\n",
       " 150,\n",
       " 150,\n",
       " 150,\n",
       " 150,\n",
       " 150,\n",
       " 150,\n",
       " 150,\n",
       " 150,\n",
       " 150,\n",
       " 150,\n",
       " 150,\n",
       " 150,\n",
       " 150,\n",
       " 150,\n",
       " 150,\n",
       " 150,\n",
       " 150,\n",
       " 150,\n",
       " 150,\n",
       " 150,\n",
       " 150,\n",
       " 150,\n",
       " 150,\n",
       " 150,\n",
       " 150,\n",
       " 150,\n",
       " 150,\n",
       " 150,\n",
       " 150,\n",
       " 150,\n",
       " 150,\n",
       " 150,\n",
       " 150,\n",
       " 150,\n",
       " 150,\n",
       " 150,\n",
       " 150,\n",
       " 150,\n",
       " 150,\n",
       " 150,\n",
       " 150]"
      ]
     },
     "execution_count": 190,
     "metadata": {},
     "output_type": "execute_result"
    }
   ],
   "source": [
    "group_train"
   ]
  },
  {
   "cell_type": "code",
   "execution_count": 123,
   "metadata": {
    "ExecuteTime": {
     "end_time": "2020-08-14T08:35:49.070529Z",
     "start_time": "2020-08-14T08:35:41.074742Z"
    },
    "code_folding": [],
    "scrolled": true
   },
   "outputs": [
    {
     "name": "stdout",
     "output_type": "stream",
     "text": [
      "[1]\tvalid_0's ndcg@1: 0.183607\tvalid_0's ndcg@3: 0.185055\tvalid_0's ndcg@5: 0.190427\tvalid_0's ndcg@10: 0.203983\n",
      "[2]\tvalid_0's ndcg@1: 0.17541\tvalid_0's ndcg@3: 0.176473\tvalid_0's ndcg@5: 0.179953\tvalid_0's ndcg@10: 0.190823\n",
      "[3]\tvalid_0's ndcg@1: 0.170492\tvalid_0's ndcg@3: 0.167047\tvalid_0's ndcg@5: 0.173656\tvalid_0's ndcg@10: 0.183339\n",
      "[4]\tvalid_0's ndcg@1: 0.17541\tvalid_0's ndcg@3: 0.166916\tvalid_0's ndcg@5: 0.170092\tvalid_0's ndcg@10: 0.18041\n",
      "[5]\tvalid_0's ndcg@1: 0.178689\tvalid_0's ndcg@3: 0.170378\tvalid_0's ndcg@5: 0.17348\tvalid_0's ndcg@10: 0.187374\n",
      "[6]\tvalid_0's ndcg@1: 0.162295\tvalid_0's ndcg@3: 0.167797\tvalid_0's ndcg@5: 0.171245\tvalid_0's ndcg@10: 0.184028\n",
      "[7]\tvalid_0's ndcg@1: 0.162295\tvalid_0's ndcg@3: 0.171426\tvalid_0's ndcg@5: 0.17406\tvalid_0's ndcg@10: 0.183372\n",
      "[8]\tvalid_0's ndcg@1: 0.157377\tvalid_0's ndcg@3: 0.167077\tvalid_0's ndcg@5: 0.173908\tvalid_0's ndcg@10: 0.182947\n",
      "[9]\tvalid_0's ndcg@1: 0.159016\tvalid_0's ndcg@3: 0.170306\tvalid_0's ndcg@5: 0.172399\tvalid_0's ndcg@10: 0.184048\n",
      "[10]\tvalid_0's ndcg@1: 0.160656\tvalid_0's ndcg@3: 0.16495\tvalid_0's ndcg@5: 0.169345\tvalid_0's ndcg@10: 0.183909\n",
      "[11]\tvalid_0's ndcg@1: 0.163934\tvalid_0's ndcg@3: 0.167158\tvalid_0's ndcg@5: 0.171617\tvalid_0's ndcg@10: 0.182383\n",
      "[12]\tvalid_0's ndcg@1: 0.163934\tvalid_0's ndcg@3: 0.168965\tvalid_0's ndcg@5: 0.171896\tvalid_0's ndcg@10: 0.182253\n",
      "[13]\tvalid_0's ndcg@1: 0.162295\tvalid_0's ndcg@3: 0.166635\tvalid_0's ndcg@5: 0.171625\tvalid_0's ndcg@10: 0.182895\n",
      "[14]\tvalid_0's ndcg@1: 0.160656\tvalid_0's ndcg@3: 0.166417\tvalid_0's ndcg@5: 0.171382\tvalid_0's ndcg@10: 0.181526\n",
      "[15]\tvalid_0's ndcg@1: 0.159016\tvalid_0's ndcg@3: 0.163928\tvalid_0's ndcg@5: 0.168352\tvalid_0's ndcg@10: 0.180025\n",
      "[16]\tvalid_0's ndcg@1: 0.162295\tvalid_0's ndcg@3: 0.168294\tvalid_0's ndcg@5: 0.173802\tvalid_0's ndcg@10: 0.182709\n",
      "[17]\tvalid_0's ndcg@1: 0.160656\tvalid_0's ndcg@3: 0.168599\tvalid_0's ndcg@5: 0.17293\tvalid_0's ndcg@10: 0.182583\n",
      "[18]\tvalid_0's ndcg@1: 0.163934\tvalid_0's ndcg@3: 0.168235\tvalid_0's ndcg@5: 0.170352\tvalid_0's ndcg@10: 0.184284\n",
      "[19]\tvalid_0's ndcg@1: 0.157377\tvalid_0's ndcg@3: 0.164468\tvalid_0's ndcg@5: 0.166897\tvalid_0's ndcg@10: 0.180111\n",
      "[20]\tvalid_0's ndcg@1: 0.155738\tvalid_0's ndcg@3: 0.164596\tvalid_0's ndcg@5: 0.169136\tvalid_0's ndcg@10: 0.1795\n",
      "[21]\tvalid_0's ndcg@1: 0.155738\tvalid_0's ndcg@3: 0.164902\tvalid_0's ndcg@5: 0.16991\tvalid_0's ndcg@10: 0.181224\n",
      "[22]\tvalid_0's ndcg@1: 0.152459\tvalid_0's ndcg@3: 0.164065\tvalid_0's ndcg@5: 0.169566\tvalid_0's ndcg@10: 0.180545\n",
      "[23]\tvalid_0's ndcg@1: 0.157377\tvalid_0's ndcg@3: 0.160768\tvalid_0's ndcg@5: 0.168655\tvalid_0's ndcg@10: 0.179823\n",
      "[24]\tvalid_0's ndcg@1: 0.157377\tvalid_0's ndcg@3: 0.163297\tvalid_0's ndcg@5: 0.170002\tvalid_0's ndcg@10: 0.181162\n",
      "[25]\tvalid_0's ndcg@1: 0.165574\tvalid_0's ndcg@3: 0.165767\tvalid_0's ndcg@5: 0.171063\tvalid_0's ndcg@10: 0.182002\n",
      "[26]\tvalid_0's ndcg@1: 0.160656\tvalid_0's ndcg@3: 0.163979\tvalid_0's ndcg@5: 0.168814\tvalid_0's ndcg@10: 0.179908\n",
      "[27]\tvalid_0's ndcg@1: 0.160656\tvalid_0's ndcg@3: 0.165285\tvalid_0's ndcg@5: 0.168899\tvalid_0's ndcg@10: 0.179199\n",
      "[28]\tvalid_0's ndcg@1: 0.162295\tvalid_0's ndcg@3: 0.165747\tvalid_0's ndcg@5: 0.16901\tvalid_0's ndcg@10: 0.178606\n",
      "[29]\tvalid_0's ndcg@1: 0.167213\tvalid_0's ndcg@3: 0.16612\tvalid_0's ndcg@5: 0.168902\tvalid_0's ndcg@10: 0.179451\n",
      "[30]\tvalid_0's ndcg@1: 0.167213\tvalid_0's ndcg@3: 0.1645\tvalid_0's ndcg@5: 0.169952\tvalid_0's ndcg@10: 0.179698\n",
      "[31]\tvalid_0's ndcg@1: 0.163934\tvalid_0's ndcg@3: 0.162339\tvalid_0's ndcg@5: 0.168242\tvalid_0's ndcg@10: 0.180621\n",
      "[32]\tvalid_0's ndcg@1: 0.163934\tvalid_0's ndcg@3: 0.163864\tvalid_0's ndcg@5: 0.167866\tvalid_0's ndcg@10: 0.180847\n",
      "[33]\tvalid_0's ndcg@1: 0.165574\tvalid_0's ndcg@3: 0.162741\tvalid_0's ndcg@5: 0.167732\tvalid_0's ndcg@10: 0.179835\n",
      "[34]\tvalid_0's ndcg@1: 0.160656\tvalid_0's ndcg@3: 0.163047\tvalid_0's ndcg@5: 0.168442\tvalid_0's ndcg@10: 0.179169\n",
      "[35]\tvalid_0's ndcg@1: 0.165574\tvalid_0's ndcg@3: 0.164253\tvalid_0's ndcg@5: 0.170059\tvalid_0's ndcg@10: 0.178567\n",
      "[36]\tvalid_0's ndcg@1: 0.162295\tvalid_0's ndcg@3: 0.164715\tvalid_0's ndcg@5: 0.169463\tvalid_0's ndcg@10: 0.181191\n",
      "[37]\tvalid_0's ndcg@1: 0.163934\tvalid_0's ndcg@3: 0.167841\tvalid_0's ndcg@5: 0.169188\tvalid_0's ndcg@10: 0.180136\n",
      "[38]\tvalid_0's ndcg@1: 0.165574\tvalid_0's ndcg@3: 0.167026\tvalid_0's ndcg@5: 0.167112\tvalid_0's ndcg@10: 0.179581\n",
      "[39]\tvalid_0's ndcg@1: 0.167213\tvalid_0's ndcg@3: 0.166843\tvalid_0's ndcg@5: 0.166846\tvalid_0's ndcg@10: 0.179545\n",
      "[40]\tvalid_0's ndcg@1: 0.162295\tvalid_0's ndcg@3: 0.163952\tvalid_0's ndcg@5: 0.167157\tvalid_0's ndcg@10: 0.180077\n",
      "[41]\tvalid_0's ndcg@1: 0.162295\tvalid_0's ndcg@3: 0.165995\tvalid_0's ndcg@5: 0.167146\tvalid_0's ndcg@10: 0.180905\n",
      "[42]\tvalid_0's ndcg@1: 0.165574\tvalid_0's ndcg@3: 0.166961\tvalid_0's ndcg@5: 0.168156\tvalid_0's ndcg@10: 0.180234\n",
      "[43]\tvalid_0's ndcg@1: 0.160656\tvalid_0's ndcg@3: 0.166643\tvalid_0's ndcg@5: 0.16821\tvalid_0's ndcg@10: 0.181091\n",
      "[44]\tvalid_0's ndcg@1: 0.167213\tvalid_0's ndcg@3: 0.167261\tvalid_0's ndcg@5: 0.171022\tvalid_0's ndcg@10: 0.182404\n",
      "[45]\tvalid_0's ndcg@1: 0.165574\tvalid_0's ndcg@3: 0.168035\tvalid_0's ndcg@5: 0.171739\tvalid_0's ndcg@10: 0.182537\n",
      "[46]\tvalid_0's ndcg@1: 0.163934\tvalid_0's ndcg@3: 0.167312\tvalid_0's ndcg@5: 0.171727\tvalid_0's ndcg@10: 0.1809\n",
      "[47]\tvalid_0's ndcg@1: 0.167213\tvalid_0's ndcg@3: 0.168461\tvalid_0's ndcg@5: 0.172383\tvalid_0's ndcg@10: 0.182876\n",
      "[48]\tvalid_0's ndcg@1: 0.165574\tvalid_0's ndcg@3: 0.167863\tvalid_0's ndcg@5: 0.170807\tvalid_0's ndcg@10: 0.182293\n",
      "[49]\tvalid_0's ndcg@1: 0.170492\tvalid_0's ndcg@3: 0.167102\tvalid_0's ndcg@5: 0.172285\tvalid_0's ndcg@10: 0.182699\n",
      "[50]\tvalid_0's ndcg@1: 0.170492\tvalid_0's ndcg@3: 0.167744\tvalid_0's ndcg@5: 0.171455\tvalid_0's ndcg@10: 0.183301\n",
      "[51]\tvalid_0's ndcg@1: 0.168852\tvalid_0's ndcg@3: 0.167692\tvalid_0's ndcg@5: 0.171942\tvalid_0's ndcg@10: 0.182575\n",
      "[52]\tvalid_0's ndcg@1: 0.168852\tvalid_0's ndcg@3: 0.168128\tvalid_0's ndcg@5: 0.172158\tvalid_0's ndcg@10: 0.182551\n",
      "[53]\tvalid_0's ndcg@1: 0.167213\tvalid_0's ndcg@3: 0.169936\tvalid_0's ndcg@5: 0.172322\tvalid_0's ndcg@10: 0.182921\n",
      "[54]\tvalid_0's ndcg@1: 0.168852\tvalid_0's ndcg@3: 0.169501\tvalid_0's ndcg@5: 0.172906\tvalid_0's ndcg@10: 0.182615\n",
      "[55]\tvalid_0's ndcg@1: 0.163934\tvalid_0's ndcg@3: 0.167362\tvalid_0's ndcg@5: 0.170599\tvalid_0's ndcg@10: 0.181666\n",
      "[56]\tvalid_0's ndcg@1: 0.163934\tvalid_0's ndcg@3: 0.16609\tvalid_0's ndcg@5: 0.169852\tvalid_0's ndcg@10: 0.181156\n",
      "[57]\tvalid_0's ndcg@1: 0.165574\tvalid_0's ndcg@3: 0.166322\tvalid_0's ndcg@5: 0.168334\tvalid_0's ndcg@10: 0.181262\n",
      "[58]\tvalid_0's ndcg@1: 0.165574\tvalid_0's ndcg@3: 0.167381\tvalid_0's ndcg@5: 0.168918\tvalid_0's ndcg@10: 0.181643\n",
      "[59]\tvalid_0's ndcg@1: 0.163934\tvalid_0's ndcg@3: 0.166606\tvalid_0's ndcg@5: 0.168906\tvalid_0's ndcg@10: 0.182252\n",
      "[60]\tvalid_0's ndcg@1: 0.163934\tvalid_0's ndcg@3: 0.163582\tvalid_0's ndcg@5: 0.168141\tvalid_0's ndcg@10: 0.180721\n",
      "[61]\tvalid_0's ndcg@1: 0.163934\tvalid_0's ndcg@3: 0.165802\tvalid_0's ndcg@5: 0.168468\tvalid_0's ndcg@10: 0.181133\n",
      "[62]\tvalid_0's ndcg@1: 0.160656\tvalid_0's ndcg@3: 0.164918\tvalid_0's ndcg@5: 0.168704\tvalid_0's ndcg@10: 0.180188\n",
      "[63]\tvalid_0's ndcg@1: 0.160656\tvalid_0's ndcg@3: 0.164096\tvalid_0's ndcg@5: 0.169124\tvalid_0's ndcg@10: 0.179693\n",
      "[64]\tvalid_0's ndcg@1: 0.163934\tvalid_0's ndcg@3: 0.163901\tvalid_0's ndcg@5: 0.168696\tvalid_0's ndcg@10: 0.180827\n",
      "[65]\tvalid_0's ndcg@1: 0.167213\tvalid_0's ndcg@3: 0.164438\tvalid_0's ndcg@5: 0.167865\tvalid_0's ndcg@10: 0.181229\n",
      "[66]\tvalid_0's ndcg@1: 0.167213\tvalid_0's ndcg@3: 0.164249\tvalid_0's ndcg@5: 0.167708\tvalid_0's ndcg@10: 0.181149\n",
      "[67]\tvalid_0's ndcg@1: 0.163934\tvalid_0's ndcg@3: 0.164603\tvalid_0's ndcg@5: 0.168304\tvalid_0's ndcg@10: 0.180445\n",
      "[68]\tvalid_0's ndcg@1: 0.163934\tvalid_0's ndcg@3: 0.16283\tvalid_0's ndcg@5: 0.167158\tvalid_0's ndcg@10: 0.179225\n",
      "[69]\tvalid_0's ndcg@1: 0.165574\tvalid_0's ndcg@3: 0.16276\tvalid_0's ndcg@5: 0.16777\tvalid_0's ndcg@10: 0.179512\n",
      "[70]\tvalid_0's ndcg@1: 0.162295\tvalid_0's ndcg@3: 0.162948\tvalid_0's ndcg@5: 0.167052\tvalid_0's ndcg@10: 0.178401\n",
      "[71]\tvalid_0's ndcg@1: 0.160656\tvalid_0's ndcg@3: 0.162046\tvalid_0's ndcg@5: 0.16694\tvalid_0's ndcg@10: 0.178951\n",
      "[72]\tvalid_0's ndcg@1: 0.160656\tvalid_0's ndcg@3: 0.161692\tvalid_0's ndcg@5: 0.168421\tvalid_0's ndcg@10: 0.178672\n",
      "[73]\tvalid_0's ndcg@1: 0.162295\tvalid_0's ndcg@3: 0.161976\tvalid_0's ndcg@5: 0.167783\tvalid_0's ndcg@10: 0.179908\n",
      "[74]\tvalid_0's ndcg@1: 0.160656\tvalid_0's ndcg@3: 0.161925\tvalid_0's ndcg@5: 0.167453\tvalid_0's ndcg@10: 0.179828\n",
      "[75]\tvalid_0's ndcg@1: 0.160656\tvalid_0's ndcg@3: 0.16129\tvalid_0's ndcg@5: 0.167313\tvalid_0's ndcg@10: 0.178658\n"
     ]
    },
    {
     "name": "stdout",
     "output_type": "stream",
     "text": [
      "[76]\tvalid_0's ndcg@1: 0.159016\tvalid_0's ndcg@3: 0.162361\tvalid_0's ndcg@5: 0.166102\tvalid_0's ndcg@10: 0.178799\n",
      "[77]\tvalid_0's ndcg@1: 0.160656\tvalid_0's ndcg@3: 0.163364\tvalid_0's ndcg@5: 0.167194\tvalid_0's ndcg@10: 0.179201\n",
      "[78]\tvalid_0's ndcg@1: 0.160656\tvalid_0's ndcg@3: 0.163415\tvalid_0's ndcg@5: 0.165587\tvalid_0's ndcg@10: 0.179082\n",
      "[79]\tvalid_0's ndcg@1: 0.159016\tvalid_0's ndcg@3: 0.162396\tvalid_0's ndcg@5: 0.166056\tvalid_0's ndcg@10: 0.178512\n",
      "[80]\tvalid_0's ndcg@1: 0.159016\tvalid_0's ndcg@3: 0.16191\tvalid_0's ndcg@5: 0.16615\tvalid_0's ndcg@10: 0.178976\n",
      "[81]\tvalid_0's ndcg@1: 0.159016\tvalid_0's ndcg@3: 0.163215\tvalid_0's ndcg@5: 0.166869\tvalid_0's ndcg@10: 0.179432\n",
      "[82]\tvalid_0's ndcg@1: 0.159016\tvalid_0's ndcg@3: 0.163934\tvalid_0's ndcg@5: 0.166996\tvalid_0's ndcg@10: 0.179298\n",
      "[83]\tvalid_0's ndcg@1: 0.157377\tvalid_0's ndcg@3: 0.16261\tvalid_0's ndcg@5: 0.167921\tvalid_0's ndcg@10: 0.180118\n",
      "[84]\tvalid_0's ndcg@1: 0.159016\tvalid_0's ndcg@3: 0.16169\tvalid_0's ndcg@5: 0.166806\tvalid_0's ndcg@10: 0.180076\n",
      "[85]\tvalid_0's ndcg@1: 0.157377\tvalid_0's ndcg@3: 0.162377\tvalid_0's ndcg@5: 0.165577\tvalid_0's ndcg@10: 0.17878\n",
      "[86]\tvalid_0's ndcg@1: 0.155738\tvalid_0's ndcg@3: 0.162446\tvalid_0's ndcg@5: 0.165481\tvalid_0's ndcg@10: 0.178113\n",
      "[87]\tvalid_0's ndcg@1: 0.157377\tvalid_0's ndcg@3: 0.162798\tvalid_0's ndcg@5: 0.165747\tvalid_0's ndcg@10: 0.177581\n",
      "[88]\tvalid_0's ndcg@1: 0.155738\tvalid_0's ndcg@3: 0.160844\tvalid_0's ndcg@5: 0.164774\tvalid_0's ndcg@10: 0.177484\n",
      "[89]\tvalid_0's ndcg@1: 0.157377\tvalid_0's ndcg@3: 0.16136\tvalid_0's ndcg@5: 0.164393\tvalid_0's ndcg@10: 0.178289\n",
      "[90]\tvalid_0's ndcg@1: 0.159016\tvalid_0's ndcg@3: 0.161744\tvalid_0's ndcg@5: 0.164543\tvalid_0's ndcg@10: 0.178323\n",
      "[91]\tvalid_0's ndcg@1: 0.159016\tvalid_0's ndcg@3: 0.162563\tvalid_0's ndcg@5: 0.165396\tvalid_0's ndcg@10: 0.178375\n",
      "[92]\tvalid_0's ndcg@1: 0.159016\tvalid_0's ndcg@3: 0.163301\tvalid_0's ndcg@5: 0.164655\tvalid_0's ndcg@10: 0.179014\n",
      "[93]\tvalid_0's ndcg@1: 0.157377\tvalid_0's ndcg@3: 0.162633\tvalid_0's ndcg@5: 0.164556\tvalid_0's ndcg@10: 0.179602\n",
      "[94]\tvalid_0's ndcg@1: 0.155738\tvalid_0's ndcg@3: 0.161562\tvalid_0's ndcg@5: 0.16386\tvalid_0's ndcg@10: 0.178782\n",
      "[95]\tvalid_0's ndcg@1: 0.155738\tvalid_0's ndcg@3: 0.161077\tvalid_0's ndcg@5: 0.165364\tvalid_0's ndcg@10: 0.17813\n",
      "[96]\tvalid_0's ndcg@1: 0.157377\tvalid_0's ndcg@3: 0.160474\tvalid_0's ndcg@5: 0.165816\tvalid_0's ndcg@10: 0.179114\n",
      "[97]\tvalid_0's ndcg@1: 0.160656\tvalid_0's ndcg@3: 0.161609\tvalid_0's ndcg@5: 0.166507\tvalid_0's ndcg@10: 0.178952\n",
      "[98]\tvalid_0's ndcg@1: 0.157377\tvalid_0's ndcg@3: 0.161628\tvalid_0's ndcg@5: 0.164954\tvalid_0's ndcg@10: 0.177607\n",
      "[99]\tvalid_0's ndcg@1: 0.160656\tvalid_0's ndcg@3: 0.161696\tvalid_0's ndcg@5: 0.165297\tvalid_0's ndcg@10: 0.177867\n",
      "[100]\tvalid_0's ndcg@1: 0.160656\tvalid_0's ndcg@3: 0.159956\tvalid_0's ndcg@5: 0.164726\tvalid_0's ndcg@10: 0.177841\n"
     ]
    },
    {
     "data": {
      "text/plain": [
       "LGBMRanker(importance_type='gain', min_child_samples=1, min_child_weight=100,\n",
       "           n_jobs=2)"
      ]
     },
     "execution_count": 123,
     "metadata": {},
     "output_type": "execute_result"
    }
   ],
   "source": [
    "gbm.fit(X_train, y_train, group=group_train,\n",
    "        eval_set=[(X_val, y_val)], eval_group=[group_val],\n",
    "        eval_at=[1, 3, 5, 10],  eval_metric='ndcg')"
   ]
  },
  {
   "cell_type": "code",
   "execution_count": 124,
   "metadata": {
    "ExecuteTime": {
     "end_time": "2020-08-14T08:35:50.077761Z",
     "start_time": "2020-08-14T08:35:49.071573Z"
    }
   },
   "outputs": [
    {
     "data": {
      "text/plain": [
       "(91500,)"
      ]
     },
     "execution_count": 124,
     "metadata": {},
     "output_type": "execute_result"
    }
   ],
   "source": [
    "test_pred = gbm.predict(X_test)\n",
    "np.array(test_pred).shape"
   ]
  },
  {
   "cell_type": "markdown",
   "metadata": {},
   "source": [
    "## NDCG Score"
   ]
  },
  {
   "cell_type": "code",
   "execution_count": 125,
   "metadata": {
    "ExecuteTime": {
     "end_time": "2020-08-14T08:35:50.093857Z",
     "start_time": "2020-08-14T08:35:50.077761Z"
    }
   },
   "outputs": [
    {
     "data": {
      "text/plain": [
       "-0.22622076227822488"
      ]
     },
     "execution_count": 125,
     "metadata": {},
     "output_type": "execute_result"
    }
   ],
   "source": [
    "test_pred[150]"
   ]
  },
  {
   "cell_type": "code",
   "execution_count": 126,
   "metadata": {
    "ExecuteTime": {
     "end_time": "2020-08-14T08:35:50.170466Z",
     "start_time": "2020-08-14T08:35:50.099024Z"
    }
   },
   "outputs": [],
   "source": [
    "p = 0\n",
    "m = k\n",
    "lgbm_pred_per_user = []\n",
    "for i in range(len(num_users)):\n",
    "    lgbm_pred_per_user.append(test_pred[p:m])\n",
    "    p += k\n",
    "    m += k"
   ]
  },
  {
   "cell_type": "markdown",
   "metadata": {},
   "source": [
    "### NDCG IFM on this data"
   ]
  },
  {
   "cell_type": "code",
   "execution_count": 127,
   "metadata": {
    "ExecuteTime": {
     "end_time": "2020-08-14T08:35:50.187523Z",
     "start_time": "2020-08-14T08:35:50.174469Z"
    }
   },
   "outputs": [
    {
     "data": {
      "text/plain": [
       "(150,)"
      ]
     },
     "execution_count": 127,
     "metadata": {},
     "output_type": "execute_result"
    }
   ],
   "source": [
    "np.array(feature7[0][609]).shape"
   ]
  },
  {
   "cell_type": "code",
   "execution_count": 128,
   "metadata": {
    "ExecuteTime": {
     "end_time": "2020-08-14T08:35:50.210172Z",
     "start_time": "2020-08-14T08:35:50.192702Z"
    }
   },
   "outputs": [
    {
     "data": {
      "text/plain": [
       "(610, 150)"
      ]
     },
     "execution_count": 128,
     "metadata": {},
     "output_type": "execute_result"
    }
   ],
   "source": [
    "feature1.shape"
   ]
  },
  {
   "cell_type": "code",
   "execution_count": 129,
   "metadata": {
    "ExecuteTime": {
     "end_time": "2020-08-14T08:36:05.398404Z",
     "start_time": "2020-08-14T08:35:50.213281Z"
    }
   },
   "outputs": [
    {
     "name": "stderr",
     "output_type": "stream",
     "text": [
      "C:\\Users\\papad\\Anaconda3\\lib\\site-packages\\ipykernel_launcher.py:2: RuntimeWarning: invalid value encountered in double_scalars\n",
      "  \n"
     ]
    }
   ],
   "source": [
    "lgbm_NDCG = []\n",
    "IFM_NDCG = []\n",
    "SVD_NDCG = []\n",
    "for i in range(len(num_users)):\n",
    "    excel_df = pd.DataFrame({'movie_id': target_movies[i], 'model1_score': feature1[i],\n",
    "                             'rank': feature2[i], 'model2_score': feature3[i],\n",
    "                             'is_comedy': feature4[i], '#users_watched': feature5[i],\n",
    "                             #'new_user': feature6[i],\n",
    "                             'emedding1': feature7[0][i], 'emedding2': feature7[1][i], 'emedding3': feature7[2][i],\n",
    "                             'emedding4': feature7[3][i], 'emedding5': feature7[4][i], 'emedding6': feature7[5][i],\n",
    "                             'emedding7': feature7[6][i], 'emedding8': feature7[7][i], 'emedding9': feature7[8][i],\n",
    "                             'emedding10': feature7[9][i], 'emedding11': feature7[10][i], 'emedding12': feature7[11][i],\n",
    "                             'emedding13': feature7[12][i], 'emedding14': feature7[13][i], 'emedding15': feature7[14][i],\n",
    "                             'emedding16': feature7[15][i], 'emedding17': feature7[16][i], 'emedding18': feature7[17][i],\n",
    "                             'emedding19': feature7[18][i], 'emedding20': feature7[19][i], 'emedding21': feature7[20][i],\n",
    "                             'emedding22': feature7[21][i], 'emedding23': feature7[22][i], 'emedding24': feature7[23][i],\n",
    "                             'emedding25': feature7[24][i], 'emedding26': feature7[25][i], 'emedding27': feature7[26][i],\n",
    "                             'emedding28': feature7[27][i], 'emedding29': feature7[28][i], 'emedding30': feature7[29][i],\n",
    "                             'emedding31': feature7[30][i], 'emedding32': feature7[31][i],\n",
    "                             'is_adventure': feature8[i], 'is_drama': feature9[i], 'is_romance': feature10[i],\n",
    "                             'is_fantasy': feature11[i], 'is_thriller': feature12[i], 'is_animation': feature13[i],\n",
    "                             'is_children': feature14[i], 'is_horror': feature15[i], 'SVD Rank':feature47[i],\n",
    "                             'train_label': label_train[i], 'test_label': label_test[i],\n",
    "                             'y_val': label_val[i], 'LGBM Score': lgbm_pred_per_user[i]})\n",
    "    excel_df = excel_df.sort_values('LGBM Score', ascending=False)\n",
    "    relevance_lgbm_user = excel_df['test_label'].values.tolist()\n",
    "    lgbm_NDCG.append(NDCG_forUser(relevance_lgbm_user))\n",
    "    excel_df = excel_df.sort_values('model1_score', ascending=False)\n",
    "    ifm_relevance = excel_df['test_label'].values.tolist()\n",
    "    IFM_NDCG.append(NDCG_forUser(ifm_relevance))\n",
    "    excel_df = excel_df.sort_values('model2_score', ascending=False)\n",
    "    svd_relevance_h = excel_df['test_label'].values.tolist()\n",
    "    SVD_NDCG.append(NDCG_forUser(svd_relevance_h))"
   ]
  },
  {
   "cell_type": "code",
   "execution_count": 130,
   "metadata": {
    "ExecuteTime": {
     "end_time": "2020-08-14T08:36:05.421158Z",
     "start_time": "2020-08-14T08:36:05.402716Z"
    }
   },
   "outputs": [],
   "source": [
    "lgbm_NDCG = pd.Series(lgbm_NDCG).fillna(0).tolist()\n",
    "IFM_NDCG = pd.Series(IFM_NDCG).fillna(0).tolist()\n",
    "SVD_NDCG = pd.Series(SVD_NDCG).fillna(0).tolist()"
   ]
  },
  {
   "cell_type": "markdown",
   "metadata": {},
   "source": [
    "## Excel-Like"
   ]
  },
  {
   "cell_type": "code",
   "execution_count": 131,
   "metadata": {
    "ExecuteTime": {
     "end_time": "2020-08-14T08:36:05.452104Z",
     "start_time": "2020-08-14T08:36:05.422536Z"
    }
   },
   "outputs": [],
   "source": [
    "ind = 609\n",
    "excel1_df = pd.DataFrame({'movie_id': target_movies[ind],'rank':feature2[ind],'model1_score':feature1[ind], 'model2_score':feature3[ind],'is_comedy':feature4[ind],\n",
    "                            '#users_watched':feature5[ind], 'train_label':label_train[ind], 'test_label':label_test[ind],\n",
    "                            'label_val':label_val[ind],'LGBM Score':-lgbm_pred_per_user[ind]})"
   ]
  },
  {
   "cell_type": "code",
   "execution_count": 132,
   "metadata": {
    "ExecuteTime": {
     "end_time": "2020-08-14T08:36:05.506900Z",
     "start_time": "2020-08-14T08:36:05.452104Z"
    }
   },
   "outputs": [
    {
     "data": {
      "text/html": [
       "<div>\n",
       "<style scoped>\n",
       "    .dataframe tbody tr th:only-of-type {\n",
       "        vertical-align: middle;\n",
       "    }\n",
       "\n",
       "    .dataframe tbody tr th {\n",
       "        vertical-align: top;\n",
       "    }\n",
       "\n",
       "    .dataframe thead th {\n",
       "        text-align: right;\n",
       "    }\n",
       "</style>\n",
       "<table border=\"1\" class=\"dataframe\">\n",
       "  <thead>\n",
       "    <tr style=\"text-align: right;\">\n",
       "      <th></th>\n",
       "      <th>movie_id</th>\n",
       "      <th>rank</th>\n",
       "      <th>model1_score</th>\n",
       "      <th>model2_score</th>\n",
       "      <th>is_comedy</th>\n",
       "      <th>#users_watched</th>\n",
       "      <th>train_label</th>\n",
       "      <th>test_label</th>\n",
       "      <th>label_val</th>\n",
       "      <th>LGBM Score</th>\n",
       "    </tr>\n",
       "  </thead>\n",
       "  <tbody>\n",
       "    <tr>\n",
       "      <th>0</th>\n",
       "      <td>71535</td>\n",
       "      <td>67.0</td>\n",
       "      <td>10.824522</td>\n",
       "      <td>2.949162</td>\n",
       "      <td>1</td>\n",
       "      <td>53</td>\n",
       "      <td>0</td>\n",
       "      <td>1</td>\n",
       "      <td>0</td>\n",
       "      <td>-0.022333</td>\n",
       "    </tr>\n",
       "    <tr>\n",
       "      <th>1</th>\n",
       "      <td>91529</td>\n",
       "      <td>150.0</td>\n",
       "      <td>15.614038</td>\n",
       "      <td>2.464663</td>\n",
       "      <td>0</td>\n",
       "      <td>76</td>\n",
       "      <td>0</td>\n",
       "      <td>1</td>\n",
       "      <td>0</td>\n",
       "      <td>0.030668</td>\n",
       "    </tr>\n",
       "    <tr>\n",
       "      <th>2</th>\n",
       "      <td>106782</td>\n",
       "      <td>73.0</td>\n",
       "      <td>10.992192</td>\n",
       "      <td>2.638554</td>\n",
       "      <td>1</td>\n",
       "      <td>54</td>\n",
       "      <td>0</td>\n",
       "      <td>0</td>\n",
       "      <td>0</td>\n",
       "      <td>0.108127</td>\n",
       "    </tr>\n",
       "    <tr>\n",
       "      <th>3</th>\n",
       "      <td>122882</td>\n",
       "      <td>84.0</td>\n",
       "      <td>11.228768</td>\n",
       "      <td>3.415342</td>\n",
       "      <td>0</td>\n",
       "      <td>47</td>\n",
       "      <td>0</td>\n",
       "      <td>0</td>\n",
       "      <td>0</td>\n",
       "      <td>0.177376</td>\n",
       "    </tr>\n",
       "    <tr>\n",
       "      <th>4</th>\n",
       "      <td>4226</td>\n",
       "      <td>79.0</td>\n",
       "      <td>11.138525</td>\n",
       "      <td>3.089396</td>\n",
       "      <td>0</td>\n",
       "      <td>159</td>\n",
       "      <td>0</td>\n",
       "      <td>0</td>\n",
       "      <td>0</td>\n",
       "      <td>0.366532</td>\n",
       "    </tr>\n",
       "    <tr>\n",
       "      <th>...</th>\n",
       "      <td>...</td>\n",
       "      <td>...</td>\n",
       "      <td>...</td>\n",
       "      <td>...</td>\n",
       "      <td>...</td>\n",
       "      <td>...</td>\n",
       "      <td>...</td>\n",
       "      <td>...</td>\n",
       "      <td>...</td>\n",
       "      <td>...</td>\n",
       "    </tr>\n",
       "    <tr>\n",
       "      <th>145</th>\n",
       "      <td>56367</td>\n",
       "      <td>41.0</td>\n",
       "      <td>8.383044</td>\n",
       "      <td>2.982466</td>\n",
       "      <td>1</td>\n",
       "      <td>65</td>\n",
       "      <td>0</td>\n",
       "      <td>0</td>\n",
       "      <td>0</td>\n",
       "      <td>0.146934</td>\n",
       "    </tr>\n",
       "    <tr>\n",
       "      <th>146</th>\n",
       "      <td>1213</td>\n",
       "      <td>10.0</td>\n",
       "      <td>5.274220</td>\n",
       "      <td>2.414592</td>\n",
       "      <td>0</td>\n",
       "      <td>126</td>\n",
       "      <td>0</td>\n",
       "      <td>0</td>\n",
       "      <td>0</td>\n",
       "      <td>-0.042348</td>\n",
       "    </tr>\n",
       "    <tr>\n",
       "      <th>147</th>\n",
       "      <td>6383</td>\n",
       "      <td>31.0</td>\n",
       "      <td>7.251142</td>\n",
       "      <td>0.767328</td>\n",
       "      <td>0</td>\n",
       "      <td>19</td>\n",
       "      <td>0</td>\n",
       "      <td>0</td>\n",
       "      <td>0</td>\n",
       "      <td>0.366255</td>\n",
       "    </tr>\n",
       "    <tr>\n",
       "      <th>148</th>\n",
       "      <td>113862</td>\n",
       "      <td>5.0</td>\n",
       "      <td>4.696408</td>\n",
       "      <td>0.725649</td>\n",
       "      <td>0</td>\n",
       "      <td>1</td>\n",
       "      <td>0</td>\n",
       "      <td>0</td>\n",
       "      <td>0</td>\n",
       "      <td>0.229527</td>\n",
       "    </tr>\n",
       "    <tr>\n",
       "      <th>149</th>\n",
       "      <td>3108</td>\n",
       "      <td>12.0</td>\n",
       "      <td>5.362975</td>\n",
       "      <td>2.167906</td>\n",
       "      <td>1</td>\n",
       "      <td>36</td>\n",
       "      <td>0</td>\n",
       "      <td>0</td>\n",
       "      <td>0</td>\n",
       "      <td>0.461846</td>\n",
       "    </tr>\n",
       "  </tbody>\n",
       "</table>\n",
       "<p>150 rows × 10 columns</p>\n",
       "</div>"
      ],
      "text/plain": [
       "     movie_id   rank  model1_score  model2_score  is_comedy  #users_watched  \\\n",
       "0       71535   67.0     10.824522      2.949162          1              53   \n",
       "1       91529  150.0     15.614038      2.464663          0              76   \n",
       "2      106782   73.0     10.992192      2.638554          1              54   \n",
       "3      122882   84.0     11.228768      3.415342          0              47   \n",
       "4        4226   79.0     11.138525      3.089396          0             159   \n",
       "..        ...    ...           ...           ...        ...             ...   \n",
       "145     56367   41.0      8.383044      2.982466          1              65   \n",
       "146      1213   10.0      5.274220      2.414592          0             126   \n",
       "147      6383   31.0      7.251142      0.767328          0              19   \n",
       "148    113862    5.0      4.696408      0.725649          0               1   \n",
       "149      3108   12.0      5.362975      2.167906          1              36   \n",
       "\n",
       "     train_label  test_label  label_val  LGBM Score  \n",
       "0              0           1          0   -0.022333  \n",
       "1              0           1          0    0.030668  \n",
       "2              0           0          0    0.108127  \n",
       "3              0           0          0    0.177376  \n",
       "4              0           0          0    0.366532  \n",
       "..           ...         ...        ...         ...  \n",
       "145            0           0          0    0.146934  \n",
       "146            0           0          0   -0.042348  \n",
       "147            0           0          0    0.366255  \n",
       "148            0           0          0    0.229527  \n",
       "149            0           0          0    0.461846  \n",
       "\n",
       "[150 rows x 10 columns]"
      ]
     },
     "execution_count": 132,
     "metadata": {},
     "output_type": "execute_result"
    }
   ],
   "source": [
    "excel1_df"
   ]
  },
  {
   "cell_type": "code",
   "execution_count": 133,
   "metadata": {
    "ExecuteTime": {
     "end_time": "2020-08-14T08:36:05.546348Z",
     "start_time": "2020-08-14T08:36:05.506900Z"
    }
   },
   "outputs": [
    {
     "data": {
      "text/html": [
       "<div>\n",
       "<style scoped>\n",
       "    .dataframe tbody tr th:only-of-type {\n",
       "        vertical-align: middle;\n",
       "    }\n",
       "\n",
       "    .dataframe tbody tr th {\n",
       "        vertical-align: top;\n",
       "    }\n",
       "\n",
       "    .dataframe thead th {\n",
       "        text-align: right;\n",
       "    }\n",
       "</style>\n",
       "<table border=\"1\" class=\"dataframe\">\n",
       "  <thead>\n",
       "    <tr style=\"text-align: right;\">\n",
       "      <th></th>\n",
       "      <th>movie_id</th>\n",
       "      <th>rank</th>\n",
       "      <th>model1_score</th>\n",
       "      <th>model2_score</th>\n",
       "      <th>is_comedy</th>\n",
       "      <th>#users_watched</th>\n",
       "      <th>train_label</th>\n",
       "      <th>test_label</th>\n",
       "      <th>label_val</th>\n",
       "      <th>LGBM Score</th>\n",
       "    </tr>\n",
       "  </thead>\n",
       "  <tbody>\n",
       "    <tr>\n",
       "      <th>9</th>\n",
       "      <td>31878</td>\n",
       "      <td>78.0</td>\n",
       "      <td>11.116215</td>\n",
       "      <td>2.020159</td>\n",
       "      <td>1</td>\n",
       "      <td>19</td>\n",
       "      <td>0</td>\n",
       "      <td>0</td>\n",
       "      <td>0</td>\n",
       "      <td>0.847936</td>\n",
       "    </tr>\n",
       "    <tr>\n",
       "      <th>51</th>\n",
       "      <td>103772</td>\n",
       "      <td>106.5</td>\n",
       "      <td>11.782988</td>\n",
       "      <td>2.122305</td>\n",
       "      <td>0</td>\n",
       "      <td>16</td>\n",
       "      <td>0</td>\n",
       "      <td>0</td>\n",
       "      <td>0</td>\n",
       "      <td>0.759925</td>\n",
       "    </tr>\n",
       "    <tr>\n",
       "      <th>29</th>\n",
       "      <td>4878</td>\n",
       "      <td>146.0</td>\n",
       "      <td>14.176178</td>\n",
       "      <td>2.366664</td>\n",
       "      <td>0</td>\n",
       "      <td>109</td>\n",
       "      <td>0</td>\n",
       "      <td>0</td>\n",
       "      <td>1</td>\n",
       "      <td>0.699416</td>\n",
       "    </tr>\n",
       "    <tr>\n",
       "      <th>101</th>\n",
       "      <td>150401</td>\n",
       "      <td>15.0</td>\n",
       "      <td>5.693315</td>\n",
       "      <td>0.831631</td>\n",
       "      <td>0</td>\n",
       "      <td>2</td>\n",
       "      <td>0</td>\n",
       "      <td>0</td>\n",
       "      <td>0</td>\n",
       "      <td>0.591893</td>\n",
       "    </tr>\n",
       "    <tr>\n",
       "      <th>37</th>\n",
       "      <td>8784</td>\n",
       "      <td>111.0</td>\n",
       "      <td>11.879091</td>\n",
       "      <td>0.792712</td>\n",
       "      <td>1</td>\n",
       "      <td>48</td>\n",
       "      <td>1</td>\n",
       "      <td>0</td>\n",
       "      <td>0</td>\n",
       "      <td>0.579881</td>\n",
       "    </tr>\n",
       "    <tr>\n",
       "      <th>130</th>\n",
       "      <td>4718</td>\n",
       "      <td>4.0</td>\n",
       "      <td>4.639854</td>\n",
       "      <td>1.539216</td>\n",
       "      <td>1</td>\n",
       "      <td>45</td>\n",
       "      <td>0</td>\n",
       "      <td>0</td>\n",
       "      <td>0</td>\n",
       "      <td>0.532728</td>\n",
       "    </tr>\n",
       "    <tr>\n",
       "      <th>15</th>\n",
       "      <td>69844</td>\n",
       "      <td>75.0</td>\n",
       "      <td>11.031794</td>\n",
       "      <td>0.502845</td>\n",
       "      <td>0</td>\n",
       "      <td>58</td>\n",
       "      <td>0</td>\n",
       "      <td>0</td>\n",
       "      <td>1</td>\n",
       "      <td>0.532674</td>\n",
       "    </tr>\n",
       "    <tr>\n",
       "      <th>71</th>\n",
       "      <td>8983</td>\n",
       "      <td>147.0</td>\n",
       "      <td>14.496237</td>\n",
       "      <td>1.877547</td>\n",
       "      <td>0</td>\n",
       "      <td>25</td>\n",
       "      <td>0</td>\n",
       "      <td>0</td>\n",
       "      <td>0</td>\n",
       "      <td>0.523538</td>\n",
       "    </tr>\n",
       "    <tr>\n",
       "      <th>149</th>\n",
       "      <td>3108</td>\n",
       "      <td>12.0</td>\n",
       "      <td>5.362975</td>\n",
       "      <td>2.167906</td>\n",
       "      <td>1</td>\n",
       "      <td>36</td>\n",
       "      <td>0</td>\n",
       "      <td>0</td>\n",
       "      <td>0</td>\n",
       "      <td>0.461846</td>\n",
       "    </tr>\n",
       "    <tr>\n",
       "      <th>97</th>\n",
       "      <td>57504</td>\n",
       "      <td>137.0</td>\n",
       "      <td>12.757427</td>\n",
       "      <td>1.382177</td>\n",
       "      <td>1</td>\n",
       "      <td>10</td>\n",
       "      <td>0</td>\n",
       "      <td>0</td>\n",
       "      <td>0</td>\n",
       "      <td>0.422936</td>\n",
       "    </tr>\n",
       "  </tbody>\n",
       "</table>\n",
       "</div>"
      ],
      "text/plain": [
       "     movie_id   rank  model1_score  model2_score  is_comedy  #users_watched  \\\n",
       "9       31878   78.0     11.116215      2.020159          1              19   \n",
       "51     103772  106.5     11.782988      2.122305          0              16   \n",
       "29       4878  146.0     14.176178      2.366664          0             109   \n",
       "101    150401   15.0      5.693315      0.831631          0               2   \n",
       "37       8784  111.0     11.879091      0.792712          1              48   \n",
       "130      4718    4.0      4.639854      1.539216          1              45   \n",
       "15      69844   75.0     11.031794      0.502845          0              58   \n",
       "71       8983  147.0     14.496237      1.877547          0              25   \n",
       "149      3108   12.0      5.362975      2.167906          1              36   \n",
       "97      57504  137.0     12.757427      1.382177          1              10   \n",
       "\n",
       "     train_label  test_label  label_val  LGBM Score  \n",
       "9              0           0          0    0.847936  \n",
       "51             0           0          0    0.759925  \n",
       "29             0           0          1    0.699416  \n",
       "101            0           0          0    0.591893  \n",
       "37             1           0          0    0.579881  \n",
       "130            0           0          0    0.532728  \n",
       "15             0           0          1    0.532674  \n",
       "71             0           0          0    0.523538  \n",
       "149            0           0          0    0.461846  \n",
       "97             0           0          0    0.422936  "
      ]
     },
     "execution_count": 133,
     "metadata": {},
     "output_type": "execute_result"
    }
   ],
   "source": [
    "excel1_df = excel1_df.sort_values('LGBM Score',ascending = False)\n",
    "excel1_df.head(10)"
   ]
  },
  {
   "cell_type": "code",
   "execution_count": 134,
   "metadata": {
    "ExecuteTime": {
     "end_time": "2020-08-14T08:36:05.569270Z",
     "start_time": "2020-08-14T08:36:05.550295Z"
    }
   },
   "outputs": [],
   "source": [
    "relevance_lgbm_firstUser = excel1_df['test_label'].values.tolist()"
   ]
  },
  {
   "cell_type": "code",
   "execution_count": 135,
   "metadata": {
    "ExecuteTime": {
     "end_time": "2020-08-14T08:36:05.596885Z",
     "start_time": "2020-08-14T08:36:05.569270Z"
    }
   },
   "outputs": [
    {
     "data": {
      "text/plain": [
       "0.40637601039286614"
      ]
     },
     "execution_count": 135,
     "metadata": {},
     "output_type": "execute_result"
    }
   ],
   "source": [
    "L1GBM_ndcg = NDCG_forUser(relevance_lgbm_firstUser)\n",
    "L1GBM_ndcg"
   ]
  },
  {
   "cell_type": "markdown",
   "metadata": {},
   "source": [
    "## NDCG Comparison"
   ]
  },
  {
   "cell_type": "code",
   "execution_count": 136,
   "metadata": {
    "ExecuteTime": {
     "end_time": "2020-08-14T08:36:05.612677Z",
     "start_time": "2020-08-14T08:36:05.596885Z"
    }
   },
   "outputs": [],
   "source": [
    "ndcg_df = pd.DataFrame({'LightGBM': lgbm_NDCG, 'IFM_this': IFM_NDCG,\n",
    "                        'SVD_this': SVD_NDCG})"
   ]
  },
  {
   "cell_type": "code",
   "execution_count": 137,
   "metadata": {
    "ExecuteTime": {
     "end_time": "2020-08-14T08:36:05.649318Z",
     "start_time": "2020-08-14T08:36:05.614048Z"
    }
   },
   "outputs": [
    {
     "data": {
      "text/html": [
       "<div>\n",
       "<style scoped>\n",
       "    .dataframe tbody tr th:only-of-type {\n",
       "        vertical-align: middle;\n",
       "    }\n",
       "\n",
       "    .dataframe tbody tr th {\n",
       "        vertical-align: top;\n",
       "    }\n",
       "\n",
       "    .dataframe thead th {\n",
       "        text-align: right;\n",
       "    }\n",
       "</style>\n",
       "<table border=\"1\" class=\"dataframe\">\n",
       "  <thead>\n",
       "    <tr style=\"text-align: right;\">\n",
       "      <th></th>\n",
       "      <th>LightGBM</th>\n",
       "      <th>IFM_this</th>\n",
       "      <th>SVD_this</th>\n",
       "    </tr>\n",
       "  </thead>\n",
       "  <tbody>\n",
       "    <tr>\n",
       "      <th>0</th>\n",
       "      <td>0.396768</td>\n",
       "      <td>0.371701</td>\n",
       "      <td>0.376626</td>\n",
       "    </tr>\n",
       "    <tr>\n",
       "      <th>1</th>\n",
       "      <td>0.182233</td>\n",
       "      <td>0.281563</td>\n",
       "      <td>0.518887</td>\n",
       "    </tr>\n",
       "    <tr>\n",
       "      <th>2</th>\n",
       "      <td>0.000000</td>\n",
       "      <td>0.000000</td>\n",
       "      <td>0.000000</td>\n",
       "    </tr>\n",
       "    <tr>\n",
       "      <th>3</th>\n",
       "      <td>0.226777</td>\n",
       "      <td>0.230174</td>\n",
       "      <td>0.241912</td>\n",
       "    </tr>\n",
       "    <tr>\n",
       "      <th>4</th>\n",
       "      <td>0.185449</td>\n",
       "      <td>0.146900</td>\n",
       "      <td>0.262650</td>\n",
       "    </tr>\n",
       "    <tr>\n",
       "      <th>...</th>\n",
       "      <td>...</td>\n",
       "      <td>...</td>\n",
       "      <td>...</td>\n",
       "    </tr>\n",
       "    <tr>\n",
       "      <th>605</th>\n",
       "      <td>0.513181</td>\n",
       "      <td>0.370157</td>\n",
       "      <td>0.379917</td>\n",
       "    </tr>\n",
       "    <tr>\n",
       "      <th>606</th>\n",
       "      <td>0.375678</td>\n",
       "      <td>0.438916</td>\n",
       "      <td>0.722010</td>\n",
       "    </tr>\n",
       "    <tr>\n",
       "      <th>607</th>\n",
       "      <td>0.420549</td>\n",
       "      <td>0.497850</td>\n",
       "      <td>0.500952</td>\n",
       "    </tr>\n",
       "    <tr>\n",
       "      <th>608</th>\n",
       "      <td>0.257541</td>\n",
       "      <td>0.302992</td>\n",
       "      <td>0.343273</td>\n",
       "    </tr>\n",
       "    <tr>\n",
       "      <th>609</th>\n",
       "      <td>0.382100</td>\n",
       "      <td>0.626801</td>\n",
       "      <td>0.385911</td>\n",
       "    </tr>\n",
       "  </tbody>\n",
       "</table>\n",
       "<p>610 rows × 3 columns</p>\n",
       "</div>"
      ],
      "text/plain": [
       "     LightGBM  IFM_this  SVD_this\n",
       "0    0.396768  0.371701  0.376626\n",
       "1    0.182233  0.281563  0.518887\n",
       "2    0.000000  0.000000  0.000000\n",
       "3    0.226777  0.230174  0.241912\n",
       "4    0.185449  0.146900  0.262650\n",
       "..        ...       ...       ...\n",
       "605  0.513181  0.370157  0.379917\n",
       "606  0.375678  0.438916  0.722010\n",
       "607  0.420549  0.497850  0.500952\n",
       "608  0.257541  0.302992  0.343273\n",
       "609  0.382100  0.626801  0.385911\n",
       "\n",
       "[610 rows x 3 columns]"
      ]
     },
     "execution_count": 137,
     "metadata": {},
     "output_type": "execute_result"
    }
   ],
   "source": [
    "ndcg_df"
   ]
  },
  {
   "cell_type": "code",
   "execution_count": 138,
   "metadata": {
    "ExecuteTime": {
     "end_time": "2020-08-14T08:36:05.674200Z",
     "start_time": "2020-08-14T08:36:05.653280Z"
    }
   },
   "outputs": [
    {
     "data": {
      "text/plain": [
       "0.2854083984834854"
      ]
     },
     "execution_count": 138,
     "metadata": {},
     "output_type": "execute_result"
    }
   ],
   "source": [
    "lgbm_mean = ndcg_df['LightGBM'].mean()\n",
    "lgbm_mean"
   ]
  },
  {
   "cell_type": "code",
   "execution_count": 139,
   "metadata": {
    "ExecuteTime": {
     "end_time": "2020-08-14T08:36:05.689917Z",
     "start_time": "2020-08-14T08:36:05.674200Z"
    }
   },
   "outputs": [
    {
     "data": {
      "text/plain": [
       "0.32996441300496276"
      ]
     },
     "execution_count": 139,
     "metadata": {},
     "output_type": "execute_result"
    }
   ],
   "source": [
    "ifm_mean = ndcg_df['IFM_this'].mean()\n",
    "ifm_mean"
   ]
  },
  {
   "cell_type": "code",
   "execution_count": 140,
   "metadata": {
    "ExecuteTime": {
     "end_time": "2020-08-14T08:36:05.706500Z",
     "start_time": "2020-08-14T08:36:05.689917Z"
    },
    "scrolled": true
   },
   "outputs": [
    {
     "data": {
      "text/plain": [
       "0.35284445166406964"
      ]
     },
     "execution_count": 140,
     "metadata": {},
     "output_type": "execute_result"
    }
   ],
   "source": [
    "svd_mean = ndcg_df['SVD_this'].mean()\n",
    "svd_mean"
   ]
  },
  {
   "cell_type": "markdown",
   "metadata": {},
   "source": [
    "## Visualization"
   ]
  },
  {
   "cell_type": "code",
   "execution_count": 141,
   "metadata": {
    "ExecuteTime": {
     "end_time": "2020-08-14T08:36:06.118810Z",
     "start_time": "2020-08-14T08:36:05.707926Z"
    }
   },
   "outputs": [
    {
     "data": {
      "text/plain": [
       "<matplotlib.legend.Legend at 0x26326362588>"
      ]
     },
     "execution_count": 141,
     "metadata": {},
     "output_type": "execute_result"
    },
    {
     "data": {
      "image/png": "[encoded data removed]",
      "text/plain": [
       "<Figure size 432x288 with 1 Axes>"
      ]
     },
     "metadata": {
      "needs_background": "light"
     },
     "output_type": "display_data"
    }
   ],
   "source": [
    "plt.scatter(len(num_users),lgbm_mean,label = 'Light GBM')\n",
    "plt.scatter(len(num_users),svd_mean, label = 'SVD')\n",
    "plt.scatter(len(num_users),ifm_mean, label = 'Implicit FM')\n",
    "plt.xlabel('Number of Users')\n",
    "plt.ylabel('NDCG mean score')\n",
    "plt.title('LGBM - Mean NDCG score by number of users')\n",
    "plt.legend()"
   ]
  },
  {
   "cell_type": "code",
   "execution_count": 142,
   "metadata": {
    "ExecuteTime": {
     "end_time": "2020-08-14T08:36:06.140499Z",
     "start_time": "2020-08-14T08:36:06.118810Z"
    }
   },
   "outputs": [
    {
     "data": {
      "text/plain": [
       "array(['model1_score', 'rank', 'model2_score', 'is_comedy',\n",
       "       '#users_watched', 'emedding1', 'emedding2', 'emedding3',\n",
       "       'emedding4', 'emedding5', 'emedding6', 'emedding7', 'emedding8',\n",
       "       'emedding9', 'emedding10', 'emedding11', 'emedding12',\n",
       "       'emedding13', 'emedding14', 'emedding15', 'emedding16',\n",
       "       'emedding17', 'emedding18', 'emedding19', 'emedding20',\n",
       "       'emedding21', 'emedding22', 'emedding23', 'emedding24',\n",
       "       'emedding25', 'emedding26', 'emedding27', 'emedding28',\n",
       "       'emedding29', 'emedding30', 'emedding31', 'emedding32',\n",
       "       'is_adventure', 'is_drama', 'is_romance', 'is_fantasy',\n",
       "       'is_thriller', 'is_animation', 'is_children', 'is_horror',\n",
       "       'SVD Rank'], dtype=object)"
      ]
     },
     "execution_count": 142,
     "metadata": {},
     "output_type": "execute_result"
    }
   ],
   "source": [
    "a = excel_df.columns.values\n",
    "a[1:47]"
   ]
  },
  {
   "cell_type": "markdown",
   "metadata": {},
   "source": [
    "## Feature Importance"
   ]
  },
  {
   "cell_type": "code",
   "execution_count": 143,
   "metadata": {
    "ExecuteTime": {
     "end_time": "2020-08-14T08:36:06.163627Z",
     "start_time": "2020-08-14T08:36:06.144819Z"
    }
   },
   "outputs": [],
   "source": [
    "feature_names = excel_df.columns.values[1:47]"
   ]
  },
  {
   "cell_type": "code",
   "execution_count": 144,
   "metadata": {
    "ExecuteTime": {
     "end_time": "2020-08-14T08:36:07.372391Z",
     "start_time": "2020-08-14T08:36:06.163627Z"
    }
   },
   "outputs": [
    {
     "data": {
      "text/plain": [
       "Text(0.5, 1.0, 'Importance of Features')"
      ]
     },
     "execution_count": 144,
     "metadata": {},
     "output_type": "execute_result"
    },
    {
     "data": {
      "image/png": "[encoded data removed]",
      "text/plain": [
       "<Figure size 1000x400 with 1 Axes>"
      ]
     },
     "metadata": {
      "needs_background": "light"
     },
     "output_type": "display_data"
    }
   ],
   "source": [
    "from matplotlib.pyplot import figure\n",
    "figure(figsize=(10, 4),dpi=100)\n",
    "plt.bar(feature_names,gbm.feature_importances_)\n",
    "plt.xticks(rotation='vertical')\n",
    "plt.ylabel('Importance')\n",
    "plt.xlabel('Feature name')\n",
    "plt.title('Importance of Features')"
   ]
  },
  {
   "cell_type": "code",
   "execution_count": 145,
   "metadata": {
    "ExecuteTime": {
     "end_time": "2020-08-14T08:36:07.388354Z",
     "start_time": "2020-08-14T08:36:07.372391Z"
    }
   },
   "outputs": [
    {
     "data": {
      "text/plain": [
       "array([254.53113043, 168.64592159, 174.84091139, 165.91207886,\n",
       "       268.62748921, 165.70471954,  84.74623001, 183.56178832,\n",
       "       124.27221072, 158.08515871, 120.37177968, 121.46657085,\n",
       "        88.8861613 , 217.01028571, 154.52250981, 219.30154991,\n",
       "       177.14843023, 143.69112849,  97.78471556, 249.03595078,\n",
       "       238.38671148, 168.75822961, 141.73662996, 178.9474567 ,\n",
       "       143.2147516 , 109.03731966, 117.8186307 ,  89.46332061,\n",
       "       121.62260067, 165.66860974,  76.17609954, 159.33714914,\n",
       "       149.07803917, 181.97788095, 191.63240123, 172.80567861,\n",
       "        88.74101114, 165.13659024, 217.73826981, 146.85204077,\n",
       "       144.7932291 , 135.25060034, 218.13230884, 127.90425134,\n",
       "       171.10225916, 117.29637027])"
      ]
     },
     "execution_count": 145,
     "metadata": {},
     "output_type": "execute_result"
    }
   ],
   "source": [
    "gbm.feature_importances_"
   ]
  },
  {
   "cell_type": "markdown",
   "metadata": {},
   "source": [
    "## Save comparison"
   ]
  },
  {
   "cell_type": "code",
   "execution_count": 146,
   "metadata": {
    "ExecuteTime": {
     "end_time": "2020-08-14T08:36:07.449598Z",
     "start_time": "2020-08-14T08:36:07.393383Z"
    }
   },
   "outputs": [],
   "source": [
    "#ndcg_df.to_pickle(\"./ndcg_f1-15_minus67_100k_negative_rank.pkl\")"
   ]
  },
  {
   "cell_type": "markdown",
   "metadata": {},
   "source": [
    "# Research Questions"
   ]
  },
  {
   "cell_type": "markdown",
   "metadata": {},
   "source": [
    "## What is the impact of genre features one the effectiveness of a model for movie recommendations?"
   ]
  },
  {
   "cell_type": "markdown",
   "metadata": {},
   "source": [
    "1. Post-hoc analysis\n",
    "2. Spearman correlation\n",
    "try different features, see what happens, and analyze it to explain. \n",
    "3. Which genre matter the most (biggest impact on performance)"
   ]
  },
  {
   "cell_type": "markdown",
   "metadata": {
    "ExecuteTime": {
     "end_time": "2020-08-13T18:16:18.212676Z",
     "start_time": "2020-08-13T18:16:18.181880Z"
    }
   },
   "source": [
    "### No genre features"
   ]
  },
  {
   "cell_type": "code",
   "execution_count": 147,
   "metadata": {
    "ExecuteTime": {
     "end_time": "2020-08-14T08:36:07.783864Z",
     "start_time": "2020-08-14T08:36:07.454343Z"
    }
   },
   "outputs": [],
   "source": [
    "no_genre_features = np.stack((feature1,feature2,feature3,feature5,\n",
    "                     feature7[0], feature7[1],feature7[2], feature7[3],\n",
    "                     feature7[4], feature7[5],feature7[6], feature7[7],\n",
    "                     feature7[8], feature7[9],feature7[10], feature7[11],\n",
    "                     feature7[12], feature7[13],feature7[14], feature7[15],\n",
    "                     feature7[16], feature7[17],feature7[18], feature7[19],\n",
    "                     feature7[20], feature7[21],feature7[22], feature7[23],\n",
    "                     feature7[24], feature7[25],feature7[26], feature7[27],\n",
    "                     feature7[28], feature7[29],feature7[30], feature7[31],feature47))"
   ]
  },
  {
   "cell_type": "code",
   "execution_count": 148,
   "metadata": {
    "ExecuteTime": {
     "end_time": "2020-08-14T08:36:07.824150Z",
     "start_time": "2020-08-14T08:36:07.783864Z"
    }
   },
   "outputs": [],
   "source": [
    "X_no_genre = np.array(no_genre_features)\n",
    "X_no_genre = X_no_genre.reshape(len(num_users)*k, len(no_genre_features))\n",
    "X_train_no_genre = X_no_genre\n",
    "X_test_no_genre = X_no_genre\n",
    "X_val_no_genre = X_no_genre"
   ]
  },
  {
   "cell_type": "code",
   "execution_count": 173,
   "metadata": {
    "ExecuteTime": {
     "end_time": "2020-08-14T10:45:06.889838Z",
     "start_time": "2020-08-14T10:45:03.535202Z"
    },
    "scrolled": true
   },
   "outputs": [
    {
     "name": "stdout",
     "output_type": "stream",
     "text": [
      "[1]\tvalid_0's ndcg@1: 0.172131\tvalid_0's ndcg@3: 0.180464\tvalid_0's ndcg@5: 0.183187\tvalid_0's ndcg@10: 0.194367\n",
      "[2]\tvalid_0's ndcg@1: 0.170492\tvalid_0's ndcg@3: 0.171512\tvalid_0's ndcg@5: 0.172013\tvalid_0's ndcg@10: 0.183054\n",
      "[3]\tvalid_0's ndcg@1: 0.160656\tvalid_0's ndcg@3: 0.163853\tvalid_0's ndcg@5: 0.169048\tvalid_0's ndcg@10: 0.179493\n",
      "[4]\tvalid_0's ndcg@1: 0.162295\tvalid_0's ndcg@3: 0.165964\tvalid_0's ndcg@5: 0.166901\tvalid_0's ndcg@10: 0.179929\n",
      "[5]\tvalid_0's ndcg@1: 0.157377\tvalid_0's ndcg@3: 0.16268\tvalid_0's ndcg@5: 0.165924\tvalid_0's ndcg@10: 0.177515\n",
      "[6]\tvalid_0's ndcg@1: 0.152459\tvalid_0's ndcg@3: 0.158681\tvalid_0's ndcg@5: 0.161143\tvalid_0's ndcg@10: 0.172762\n",
      "[7]\tvalid_0's ndcg@1: 0.155738\tvalid_0's ndcg@3: 0.157478\tvalid_0's ndcg@5: 0.161899\tvalid_0's ndcg@10: 0.172178\n",
      "[8]\tvalid_0's ndcg@1: 0.159016\tvalid_0's ndcg@3: 0.163048\tvalid_0's ndcg@5: 0.16545\tvalid_0's ndcg@10: 0.174835\n",
      "[9]\tvalid_0's ndcg@1: 0.163934\tvalid_0's ndcg@3: 0.165338\tvalid_0's ndcg@5: 0.166669\tvalid_0's ndcg@10: 0.175068\n",
      "[10]\tvalid_0's ndcg@1: 0.163934\tvalid_0's ndcg@3: 0.16576\tvalid_0's ndcg@5: 0.167166\tvalid_0's ndcg@10: 0.176217\n",
      "[11]\tvalid_0's ndcg@1: 0.163934\tvalid_0's ndcg@3: 0.165591\tvalid_0's ndcg@5: 0.167428\tvalid_0's ndcg@10: 0.177034\n",
      "[12]\tvalid_0's ndcg@1: 0.165574\tvalid_0's ndcg@3: 0.166039\tvalid_0's ndcg@5: 0.167179\tvalid_0's ndcg@10: 0.177965\n",
      "[13]\tvalid_0's ndcg@1: 0.165574\tvalid_0's ndcg@3: 0.164218\tvalid_0's ndcg@5: 0.166012\tvalid_0's ndcg@10: 0.177386\n",
      "[14]\tvalid_0's ndcg@1: 0.170492\tvalid_0's ndcg@3: 0.163632\tvalid_0's ndcg@5: 0.165484\tvalid_0's ndcg@10: 0.177978\n",
      "[15]\tvalid_0's ndcg@1: 0.167213\tvalid_0's ndcg@3: 0.165154\tvalid_0's ndcg@5: 0.165435\tvalid_0's ndcg@10: 0.177043\n",
      "[16]\tvalid_0's ndcg@1: 0.160656\tvalid_0's ndcg@3: 0.162731\tvalid_0's ndcg@5: 0.16632\tvalid_0's ndcg@10: 0.173859\n",
      "[17]\tvalid_0's ndcg@1: 0.154098\tvalid_0's ndcg@3: 0.162094\tvalid_0's ndcg@5: 0.164484\tvalid_0's ndcg@10: 0.174239\n",
      "[18]\tvalid_0's ndcg@1: 0.155738\tvalid_0's ndcg@3: 0.160519\tvalid_0's ndcg@5: 0.165379\tvalid_0's ndcg@10: 0.174079\n",
      "[19]\tvalid_0's ndcg@1: 0.157377\tvalid_0's ndcg@3: 0.161893\tvalid_0's ndcg@5: 0.16777\tvalid_0's ndcg@10: 0.174609\n",
      "[20]\tvalid_0's ndcg@1: 0.154098\tvalid_0's ndcg@3: 0.160825\tvalid_0's ndcg@5: 0.164459\tvalid_0's ndcg@10: 0.173966\n",
      "[21]\tvalid_0's ndcg@1: 0.154098\tvalid_0's ndcg@3: 0.162748\tvalid_0's ndcg@5: 0.167034\tvalid_0's ndcg@10: 0.174138\n",
      "[22]\tvalid_0's ndcg@1: 0.157377\tvalid_0's ndcg@3: 0.162849\tvalid_0's ndcg@5: 0.168031\tvalid_0's ndcg@10: 0.176715\n",
      "[23]\tvalid_0's ndcg@1: 0.159016\tvalid_0's ndcg@3: 0.162046\tvalid_0's ndcg@5: 0.167694\tvalid_0's ndcg@10: 0.177216\n",
      "[24]\tvalid_0's ndcg@1: 0.157377\tvalid_0's ndcg@3: 0.161222\tvalid_0's ndcg@5: 0.166782\tvalid_0's ndcg@10: 0.176399\n",
      "[25]\tvalid_0's ndcg@1: 0.157377\tvalid_0's ndcg@3: 0.163752\tvalid_0's ndcg@5: 0.16776\tvalid_0's ndcg@10: 0.177093\n",
      "[26]\tvalid_0's ndcg@1: 0.159016\tvalid_0's ndcg@3: 0.163469\tvalid_0's ndcg@5: 0.166878\tvalid_0's ndcg@10: 0.17747\n",
      "[27]\tvalid_0's ndcg@1: 0.162295\tvalid_0's ndcg@3: 0.163062\tvalid_0's ndcg@5: 0.168351\tvalid_0's ndcg@10: 0.176786\n",
      "[28]\tvalid_0's ndcg@1: 0.162295\tvalid_0's ndcg@3: 0.161826\tvalid_0's ndcg@5: 0.16637\tvalid_0's ndcg@10: 0.17592\n",
      "[29]\tvalid_0's ndcg@1: 0.160656\tvalid_0's ndcg@3: 0.16208\tvalid_0's ndcg@5: 0.166262\tvalid_0's ndcg@10: 0.176388\n",
      "[30]\tvalid_0's ndcg@1: 0.160656\tvalid_0's ndcg@3: 0.162347\tvalid_0's ndcg@5: 0.165293\tvalid_0's ndcg@10: 0.17623\n",
      "[31]\tvalid_0's ndcg@1: 0.157377\tvalid_0's ndcg@3: 0.161411\tvalid_0's ndcg@5: 0.165504\tvalid_0's ndcg@10: 0.176897\n",
      "[32]\tvalid_0's ndcg@1: 0.159016\tvalid_0's ndcg@3: 0.162328\tvalid_0's ndcg@5: 0.164581\tvalid_0's ndcg@10: 0.175417\n",
      "[33]\tvalid_0's ndcg@1: 0.159016\tvalid_0's ndcg@3: 0.161256\tvalid_0's ndcg@5: 0.165411\tvalid_0's ndcg@10: 0.176377\n",
      "[34]\tvalid_0's ndcg@1: 0.162295\tvalid_0's ndcg@3: 0.161033\tvalid_0's ndcg@5: 0.16589\tvalid_0's ndcg@10: 0.175157\n",
      "[35]\tvalid_0's ndcg@1: 0.162295\tvalid_0's ndcg@3: 0.161775\tvalid_0's ndcg@5: 0.165295\tvalid_0's ndcg@10: 0.173589\n",
      "[36]\tvalid_0's ndcg@1: 0.159016\tvalid_0's ndcg@3: 0.159284\tvalid_0's ndcg@5: 0.163276\tvalid_0's ndcg@10: 0.173868\n",
      "[37]\tvalid_0's ndcg@1: 0.160656\tvalid_0's ndcg@3: 0.161544\tvalid_0's ndcg@5: 0.163856\tvalid_0's ndcg@10: 0.174011\n",
      "[38]\tvalid_0's ndcg@1: 0.159016\tvalid_0's ndcg@3: 0.162231\tvalid_0's ndcg@5: 0.163817\tvalid_0's ndcg@10: 0.173719\n",
      "[39]\tvalid_0's ndcg@1: 0.162295\tvalid_0's ndcg@3: 0.162045\tvalid_0's ndcg@5: 0.164418\tvalid_0's ndcg@10: 0.1735\n",
      "[40]\tvalid_0's ndcg@1: 0.162295\tvalid_0's ndcg@3: 0.161459\tvalid_0's ndcg@5: 0.16421\tvalid_0's ndcg@10: 0.174052\n",
      "[41]\tvalid_0's ndcg@1: 0.162295\tvalid_0's ndcg@3: 0.159435\tvalid_0's ndcg@5: 0.162631\tvalid_0's ndcg@10: 0.174498\n",
      "[42]\tvalid_0's ndcg@1: 0.162295\tvalid_0's ndcg@3: 0.159418\tvalid_0's ndcg@5: 0.162697\tvalid_0's ndcg@10: 0.174064\n",
      "[43]\tvalid_0's ndcg@1: 0.160656\tvalid_0's ndcg@3: 0.159083\tvalid_0's ndcg@5: 0.162509\tvalid_0's ndcg@10: 0.173353\n",
      "[44]\tvalid_0's ndcg@1: 0.160656\tvalid_0's ndcg@3: 0.159536\tvalid_0's ndcg@5: 0.161906\tvalid_0's ndcg@10: 0.174494\n",
      "[45]\tvalid_0's ndcg@1: 0.163934\tvalid_0's ndcg@3: 0.16015\tvalid_0's ndcg@5: 0.162137\tvalid_0's ndcg@10: 0.174751\n",
      "[46]\tvalid_0's ndcg@1: 0.160656\tvalid_0's ndcg@3: 0.158397\tvalid_0's ndcg@5: 0.161159\tvalid_0's ndcg@10: 0.174465\n",
      "[47]\tvalid_0's ndcg@1: 0.159016\tvalid_0's ndcg@3: 0.15704\tvalid_0's ndcg@5: 0.161023\tvalid_0's ndcg@10: 0.17382\n",
      "[48]\tvalid_0's ndcg@1: 0.159016\tvalid_0's ndcg@3: 0.157759\tvalid_0's ndcg@5: 0.160392\tvalid_0's ndcg@10: 0.174396\n",
      "[49]\tvalid_0's ndcg@1: 0.159016\tvalid_0's ndcg@3: 0.15858\tvalid_0's ndcg@5: 0.161013\tvalid_0's ndcg@10: 0.174188\n",
      "[50]\tvalid_0's ndcg@1: 0.157377\tvalid_0's ndcg@3: 0.156791\tvalid_0's ndcg@5: 0.160492\tvalid_0's ndcg@10: 0.174145\n",
      "[51]\tvalid_0's ndcg@1: 0.157377\tvalid_0's ndcg@3: 0.158063\tvalid_0's ndcg@5: 0.159909\tvalid_0's ndcg@10: 0.173667\n",
      "[52]\tvalid_0's ndcg@1: 0.152459\tvalid_0's ndcg@3: 0.156223\tvalid_0's ndcg@5: 0.159135\tvalid_0's ndcg@10: 0.172969\n",
      "[53]\tvalid_0's ndcg@1: 0.152459\tvalid_0's ndcg@3: 0.15701\tvalid_0's ndcg@5: 0.158597\tvalid_0's ndcg@10: 0.17294\n",
      "[54]\tvalid_0's ndcg@1: 0.15082\tvalid_0's ndcg@3: 0.158532\tvalid_0's ndcg@5: 0.159997\tvalid_0's ndcg@10: 0.173609\n",
      "[55]\tvalid_0's ndcg@1: 0.15082\tvalid_0's ndcg@3: 0.158129\tvalid_0's ndcg@5: 0.160446\tvalid_0's ndcg@10: 0.173302\n",
      "[56]\tvalid_0's ndcg@1: 0.15082\tvalid_0's ndcg@3: 0.157141\tvalid_0's ndcg@5: 0.159041\tvalid_0's ndcg@10: 0.173603\n",
      "[57]\tvalid_0's ndcg@1: 0.152459\tvalid_0's ndcg@3: 0.158112\tvalid_0's ndcg@5: 0.160129\tvalid_0's ndcg@10: 0.174555\n",
      "[58]\tvalid_0's ndcg@1: 0.155738\tvalid_0's ndcg@3: 0.158094\tvalid_0's ndcg@5: 0.160057\tvalid_0's ndcg@10: 0.17391\n",
      "[59]\tvalid_0's ndcg@1: 0.154098\tvalid_0's ndcg@3: 0.157526\tvalid_0's ndcg@5: 0.160395\tvalid_0's ndcg@10: 0.173657\n",
      "[60]\tvalid_0's ndcg@1: 0.155738\tvalid_0's ndcg@3: 0.158478\tvalid_0's ndcg@5: 0.159317\tvalid_0's ndcg@10: 0.173192\n",
      "[61]\tvalid_0's ndcg@1: 0.152459\tvalid_0's ndcg@3: 0.156757\tvalid_0's ndcg@5: 0.159292\tvalid_0's ndcg@10: 0.174055\n",
      "[62]\tvalid_0's ndcg@1: 0.152459\tvalid_0's ndcg@3: 0.155987\tvalid_0's ndcg@5: 0.158099\tvalid_0's ndcg@10: 0.171525\n",
      "[63]\tvalid_0's ndcg@1: 0.152459\tvalid_0's ndcg@3: 0.158064\tvalid_0's ndcg@5: 0.159456\tvalid_0's ndcg@10: 0.17083\n",
      "[64]\tvalid_0's ndcg@1: 0.15082\tvalid_0's ndcg@3: 0.157609\tvalid_0's ndcg@5: 0.159464\tvalid_0's ndcg@10: 0.171054\n",
      "[65]\tvalid_0's ndcg@1: 0.14918\tvalid_0's ndcg@3: 0.156722\tvalid_0's ndcg@5: 0.158921\tvalid_0's ndcg@10: 0.172101\n",
      "[66]\tvalid_0's ndcg@1: 0.14918\tvalid_0's ndcg@3: 0.154365\tvalid_0's ndcg@5: 0.158849\tvalid_0's ndcg@10: 0.17289\n",
      "[67]\tvalid_0's ndcg@1: 0.147541\tvalid_0's ndcg@3: 0.154414\tvalid_0's ndcg@5: 0.159841\tvalid_0's ndcg@10: 0.173111\n",
      "[68]\tvalid_0's ndcg@1: 0.147541\tvalid_0's ndcg@3: 0.154484\tvalid_0's ndcg@5: 0.158697\tvalid_0's ndcg@10: 0.17345\n",
      "[69]\tvalid_0's ndcg@1: 0.15082\tvalid_0's ndcg@3: 0.154283\tvalid_0's ndcg@5: 0.159482\tvalid_0's ndcg@10: 0.174296\n",
      "[70]\tvalid_0's ndcg@1: 0.14918\tvalid_0's ndcg@3: 0.153181\tvalid_0's ndcg@5: 0.15925\tvalid_0's ndcg@10: 0.17354\n",
      "[71]\tvalid_0's ndcg@1: 0.147541\tvalid_0's ndcg@3: 0.153615\tvalid_0's ndcg@5: 0.160205\tvalid_0's ndcg@10: 0.175025\n",
      "[72]\tvalid_0's ndcg@1: 0.14918\tvalid_0's ndcg@3: 0.153597\tvalid_0's ndcg@5: 0.16038\tvalid_0's ndcg@10: 0.173002\n",
      "[73]\tvalid_0's ndcg@1: 0.152459\tvalid_0's ndcg@3: 0.155574\tvalid_0's ndcg@5: 0.161002\tvalid_0's ndcg@10: 0.17321\n",
      "[74]\tvalid_0's ndcg@1: 0.154098\tvalid_0's ndcg@3: 0.155858\tvalid_0's ndcg@5: 0.162236\tvalid_0's ndcg@10: 0.173547\n",
      "[75]\tvalid_0's ndcg@1: 0.15082\tvalid_0's ndcg@3: 0.153716\tvalid_0's ndcg@5: 0.160869\tvalid_0's ndcg@10: 0.173618\n",
      "[76]\tvalid_0's ndcg@1: 0.15082\tvalid_0's ndcg@3: 0.152896\tvalid_0's ndcg@5: 0.160431\tvalid_0's ndcg@10: 0.172849\n",
      "[77]\tvalid_0's ndcg@1: 0.15082\tvalid_0's ndcg@3: 0.153163\tvalid_0's ndcg@5: 0.15986\tvalid_0's ndcg@10: 0.172806\n",
      "[78]\tvalid_0's ndcg@1: 0.15082\tvalid_0's ndcg@3: 0.153548\tvalid_0's ndcg@5: 0.158202\tvalid_0's ndcg@10: 0.174478\n",
      "[79]\tvalid_0's ndcg@1: 0.14918\tvalid_0's ndcg@3: 0.152342\tvalid_0's ndcg@5: 0.159132\tvalid_0's ndcg@10: 0.174179\n"
     ]
    },
    {
     "name": "stdout",
     "output_type": "stream",
     "text": [
      "[80]\tvalid_0's ndcg@1: 0.15082\tvalid_0's ndcg@3: 0.152626\tvalid_0's ndcg@5: 0.159838\tvalid_0's ndcg@10: 0.175092\n",
      "[81]\tvalid_0's ndcg@1: 0.147541\tvalid_0's ndcg@3: 0.152159\tvalid_0's ndcg@5: 0.158313\tvalid_0's ndcg@10: 0.173748\n",
      "[82]\tvalid_0's ndcg@1: 0.15082\tvalid_0's ndcg@3: 0.153981\tvalid_0's ndcg@5: 0.15858\tvalid_0's ndcg@10: 0.174861\n",
      "[83]\tvalid_0's ndcg@1: 0.15082\tvalid_0's ndcg@3: 0.153597\tvalid_0's ndcg@5: 0.157331\tvalid_0's ndcg@10: 0.173749\n",
      "[84]\tvalid_0's ndcg@1: 0.15082\tvalid_0's ndcg@3: 0.154467\tvalid_0's ndcg@5: 0.158256\tvalid_0's ndcg@10: 0.17445\n",
      "[85]\tvalid_0's ndcg@1: 0.15082\tvalid_0's ndcg@3: 0.154852\tvalid_0's ndcg@5: 0.158089\tvalid_0's ndcg@10: 0.173288\n",
      "[86]\tvalid_0's ndcg@1: 0.14918\tvalid_0's ndcg@3: 0.154852\tvalid_0's ndcg@5: 0.158235\tvalid_0's ndcg@10: 0.174916\n",
      "[87]\tvalid_0's ndcg@1: 0.15082\tvalid_0's ndcg@3: 0.154751\tvalid_0's ndcg@5: 0.158833\tvalid_0's ndcg@10: 0.173513\n",
      "[88]\tvalid_0's ndcg@1: 0.14918\tvalid_0's ndcg@3: 0.154852\tvalid_0's ndcg@5: 0.158954\tvalid_0's ndcg@10: 0.174927\n",
      "[89]\tvalid_0's ndcg@1: 0.14918\tvalid_0's ndcg@3: 0.154751\tvalid_0's ndcg@5: 0.15899\tvalid_0's ndcg@10: 0.17298\n",
      "[90]\tvalid_0's ndcg@1: 0.152459\tvalid_0's ndcg@3: 0.154833\tvalid_0's ndcg@5: 0.159733\tvalid_0's ndcg@10: 0.172914\n",
      "[91]\tvalid_0's ndcg@1: 0.147541\tvalid_0's ndcg@3: 0.153376\tvalid_0's ndcg@5: 0.15763\tvalid_0's ndcg@10: 0.171875\n",
      "[92]\tvalid_0's ndcg@1: 0.147541\tvalid_0's ndcg@3: 0.153376\tvalid_0's ndcg@5: 0.156895\tvalid_0's ndcg@10: 0.171349\n",
      "[93]\tvalid_0's ndcg@1: 0.147541\tvalid_0's ndcg@3: 0.153043\tvalid_0's ndcg@5: 0.156818\tvalid_0's ndcg@10: 0.171318\n",
      "[94]\tvalid_0's ndcg@1: 0.145902\tvalid_0's ndcg@3: 0.152624\tvalid_0's ndcg@5: 0.157483\tvalid_0's ndcg@10: 0.171619\n",
      "[95]\tvalid_0's ndcg@1: 0.145902\tvalid_0's ndcg@3: 0.152708\tvalid_0's ndcg@5: 0.157465\tvalid_0's ndcg@10: 0.172025\n",
      "[96]\tvalid_0's ndcg@1: 0.144262\tvalid_0's ndcg@3: 0.151304\tvalid_0's ndcg@5: 0.157348\tvalid_0's ndcg@10: 0.171308\n",
      "[97]\tvalid_0's ndcg@1: 0.147541\tvalid_0's ndcg@3: 0.152358\tvalid_0's ndcg@5: 0.158792\tvalid_0's ndcg@10: 0.171888\n",
      "[98]\tvalid_0's ndcg@1: 0.147541\tvalid_0's ndcg@3: 0.153164\tvalid_0's ndcg@5: 0.160003\tvalid_0's ndcg@10: 0.172725\n",
      "[99]\tvalid_0's ndcg@1: 0.147541\tvalid_0's ndcg@3: 0.155168\tvalid_0's ndcg@5: 0.160563\tvalid_0's ndcg@10: 0.172372\n",
      "[100]\tvalid_0's ndcg@1: 0.14918\tvalid_0's ndcg@3: 0.155919\tvalid_0's ndcg@5: 0.16139\tvalid_0's ndcg@10: 0.173205\n"
     ]
    },
    {
     "data": {
      "text/plain": [
       "LGBMRanker(importance_type='gain', min_child_samples=1, min_child_weight=100,\n",
       "           n_jobs=2)"
      ]
     },
     "execution_count": 173,
     "metadata": {},
     "output_type": "execute_result"
    }
   ],
   "source": [
    "gbm1 = lgb.LGBMRanker(min_child_samples=1, learning_rate=.1, n_jobs=2, importance_type='gain',\n",
    "                     num_leaves=31, min_child_weight=100)\n",
    "gbm1.fit(X_train_no_genre, y_train, group=group_train,\n",
    "        eval_set=[(X_val_no_genre, y_val)], eval_group=[group_val],\n",
    "        eval_at=[1, 3, 5, 10], eval_metric='ndcg')"
   ]
  },
  {
   "cell_type": "code",
   "execution_count": 174,
   "metadata": {
    "ExecuteTime": {
     "end_time": "2020-08-14T10:45:07.246885Z",
     "start_time": "2020-08-14T10:45:06.891833Z"
    }
   },
   "outputs": [
    {
     "data": {
      "text/plain": [
       "Text(0.5, 1.0, 'Importance of Features')"
      ]
     },
     "execution_count": 174,
     "metadata": {},
     "output_type": "execute_result"
    },
    {
     "data": {
      "image/png": "[encoded data removed]",
      "text/plain": [
       "<Figure size 1000x400 with 1 Axes>"
      ]
     },
     "metadata": {
      "needs_background": "light"
     },
     "output_type": "display_data"
    }
   ],
   "source": [
    "feature_names_no_genre = ('implicit_score', 'implicit_rank', 'svd_score', '#users_watched',\n",
    "                 'emedding1', 'emedding2', 'emedding3',\n",
    "                 'emedding4', 'emedding5', 'emedding6',\n",
    "                 'emedding7', 'emedding8', 'emedding9',\n",
    "                 'emedding10', 'emedding11', 'emedding12',\n",
    "                 'emedding13', 'emedding14', 'emedding15',\n",
    "                 'emedding16', 'emedding17', 'emedding18',\n",
    "                 'emedding19', 'emedding20', 'emedding21',\n",
    "                 'emedding22', 'emedding23', 'emedding24',\n",
    "                 'emedding25', 'emedding26', 'emedding27',\n",
    "                 'emedding28', 'emedding29', 'emedding30',\n",
    "                 'emedding31', 'emedding32', 'SVD Rank')\n",
    "figure(figsize = (10, 4), dpi = 100)\n",
    "plt.bar(feature_names_no_genre, gbm1.feature_importances_)\n",
    "plt.xticks(rotation = 'vertical')\n",
    "plt.ylabel('Importance')\n",
    "plt.xlabel('Feature name')\n",
    "plt.title('Importance of Features')"
   ]
  },
  {
   "cell_type": "code",
   "execution_count": 175,
   "metadata": {
    "ExecuteTime": {
     "end_time": "2020-08-14T10:45:07.254864Z",
     "start_time": "2020-08-14T10:45:07.248880Z"
    }
   },
   "outputs": [
    {
     "data": {
      "text/plain": [
       "array([316.93022156, 228.0668788 , 249.5440408 , 196.02455902,\n",
       "       194.74373007, 207.7073704 , 193.29485893, 300.06416082,\n",
       "       147.52258098, 191.49094069, 337.37848854, 240.20685005,\n",
       "       274.36656153, 262.12353051, 226.27074897, 233.8915205 ,\n",
       "       233.16579187, 228.04151177, 203.3786912 , 274.50618148,\n",
       "       269.00950098, 102.18787026, 215.95119762, 215.8585788 ,\n",
       "       179.03860044, 154.97067904, 298.33708799, 250.65404963,\n",
       "       179.75777006, 137.58089924, 231.86169076, 200.39797974,\n",
       "       295.23442078, 107.22415018, 227.15125024, 181.20224237,\n",
       "       227.30938256])"
      ]
     },
     "execution_count": 175,
     "metadata": {},
     "output_type": "execute_result"
    }
   ],
   "source": [
    "gbm1.feature_importances_"
   ]
  },
  {
   "cell_type": "code",
   "execution_count": 177,
   "metadata": {
    "ExecuteTime": {
     "end_time": "2020-08-14T11:30:28.609331Z",
     "start_time": "2020-08-14T11:30:28.570436Z"
    }
   },
   "outputs": [
    {
     "data": {
      "text/plain": [
       "SpearmanrResult(correlation=0.42897414539429335, pvalue=0.0)"
      ]
     },
     "execution_count": 177,
     "metadata": {},
     "output_type": "execute_result"
    }
   ],
   "source": [
    "st.spearmanr(np.array(feature1).reshape(len(num_users)*k,), np.array(feature3).reshape(len(num_users)*k,))"
   ]
  },
  {
   "cell_type": "code",
   "execution_count": 178,
   "metadata": {
    "ExecuteTime": {
     "end_time": "2020-08-14T11:30:30.367089Z",
     "start_time": "2020-08-14T11:30:29.960470Z"
    }
   },
   "outputs": [
    {
     "data": {
      "text/plain": [
       "SpearmanrResult(correlation=-0.004585555103938499, pvalue=0.1654199953238047)"
      ]
     },
     "execution_count": 178,
     "metadata": {},
     "output_type": "execute_result"
    }
   ],
   "source": [
    "st.spearmanr(np.array(feature9).reshape(len(num_users)*k,), gbm1.predict(X_test_no_genre).reshape(len(num_users)*k,))"
   ]
  },
  {
   "cell_type": "code",
   "execution_count": 191,
   "metadata": {
    "ExecuteTime": {
     "end_time": "2020-08-14T12:46:26.973988Z",
     "start_time": "2020-08-14T12:46:26.355642Z"
    }
   },
   "outputs": [
    {
     "data": {
      "text/plain": [
       "91500"
      ]
     },
     "execution_count": 191,
     "metadata": {},
     "output_type": "execute_result"
    }
   ],
   "source": [
    "pred_no_genre = gbm1.predict(X_test_no_genre)\n",
    "len(pred_no_genre)"
   ]
  },
  {
   "cell_type": "markdown",
   "metadata": {},
   "source": [
    "## What is the impact of items' embeddings features on the effectiveness of a model for item recommendations?"
   ]
  },
  {
   "cell_type": "markdown",
   "metadata": {},
   "source": [
    "1. Post-hoc analysis\n",
    "2. Spearman correlation\n",
    "try different features, see what happens, and analyze it to explain. \n"
   ]
  },
  {
   "cell_type": "markdown",
   "metadata": {
    "ExecuteTime": {
     "end_time": "2020-08-13T18:16:18.212676Z",
     "start_time": "2020-08-13T18:16:18.181880Z"
    }
   },
   "source": [
    "### No item embeddings features"
   ]
  },
  {
   "cell_type": "code",
   "execution_count": 154,
   "metadata": {
    "ExecuteTime": {
     "end_time": "2020-08-14T08:36:13.925490Z",
     "start_time": "2020-08-14T08:36:13.735389Z"
    }
   },
   "outputs": [],
   "source": [
    "no_embeddings_features = np.stack((feature1,feature2,feature3,feature4,feature5,feature8,\n",
    "                              feature9,feature10,feature11,feature12,feature13,\n",
    "                              feature14,feature15,feature47))"
   ]
  },
  {
   "cell_type": "code",
   "execution_count": 155,
   "metadata": {
    "ExecuteTime": {
     "end_time": "2020-08-14T08:36:13.949256Z",
     "start_time": "2020-08-14T08:36:13.925490Z"
    }
   },
   "outputs": [],
   "source": [
    "X_no_emb = np.array(no_embeddings_features)\n",
    "X_no_emb = X_no_emb.reshape(len(num_users)*k, len(no_embeddings_features))\n",
    "X_train_no_emb = X_no_emb\n",
    "X_test_no_emb = X_no_emb\n",
    "X_val_no_emb = X_no_emb"
   ]
  },
  {
   "cell_type": "code",
   "execution_count": 156,
   "metadata": {
    "ExecuteTime": {
     "end_time": "2020-08-14T08:36:16.641498Z",
     "start_time": "2020-08-14T08:36:13.950259Z"
    },
    "scrolled": true
   },
   "outputs": [
    {
     "name": "stdout",
     "output_type": "stream",
     "text": [
      "[1]\tvalid_0's ndcg@1: 0.185246\tvalid_0's ndcg@3: 0.182387\tvalid_0's ndcg@5: 0.186362\tvalid_0's ndcg@10: 0.196917\n",
      "Training until validation scores don't improve for 50 rounds\n",
      "[2]\tvalid_0's ndcg@1: 0.167213\tvalid_0's ndcg@3: 0.171353\tvalid_0's ndcg@5: 0.179177\tvalid_0's ndcg@10: 0.189001\n",
      "[3]\tvalid_0's ndcg@1: 0.160656\tvalid_0's ndcg@3: 0.169253\tvalid_0's ndcg@5: 0.171067\tvalid_0's ndcg@10: 0.180929\n",
      "[4]\tvalid_0's ndcg@1: 0.160656\tvalid_0's ndcg@3: 0.165959\tvalid_0's ndcg@5: 0.169377\tvalid_0's ndcg@10: 0.179946\n",
      "[5]\tvalid_0's ndcg@1: 0.160656\tvalid_0's ndcg@3: 0.165859\tvalid_0's ndcg@5: 0.171759\tvalid_0's ndcg@10: 0.183764\n",
      "[6]\tvalid_0's ndcg@1: 0.157377\tvalid_0's ndcg@3: 0.170572\tvalid_0's ndcg@5: 0.173512\tvalid_0's ndcg@10: 0.180795\n",
      "[7]\tvalid_0's ndcg@1: 0.163934\tvalid_0's ndcg@3: 0.166842\tvalid_0's ndcg@5: 0.171692\tvalid_0's ndcg@10: 0.180933\n",
      "[8]\tvalid_0's ndcg@1: 0.159016\tvalid_0's ndcg@3: 0.165373\tvalid_0's ndcg@5: 0.170522\tvalid_0's ndcg@10: 0.178681\n",
      "[9]\tvalid_0's ndcg@1: 0.165574\tvalid_0's ndcg@3: 0.168838\tvalid_0's ndcg@5: 0.170447\tvalid_0's ndcg@10: 0.178194\n",
      "[10]\tvalid_0's ndcg@1: 0.157377\tvalid_0's ndcg@3: 0.165503\tvalid_0's ndcg@5: 0.168763\tvalid_0's ndcg@10: 0.17841\n",
      "[11]\tvalid_0's ndcg@1: 0.160656\tvalid_0's ndcg@3: 0.166543\tvalid_0's ndcg@5: 0.17024\tvalid_0's ndcg@10: 0.177924\n",
      "[12]\tvalid_0's ndcg@1: 0.160656\tvalid_0's ndcg@3: 0.165388\tvalid_0's ndcg@5: 0.16644\tvalid_0's ndcg@10: 0.177231\n",
      "[13]\tvalid_0's ndcg@1: 0.157377\tvalid_0's ndcg@3: 0.167812\tvalid_0's ndcg@5: 0.17018\tvalid_0's ndcg@10: 0.177649\n",
      "[14]\tvalid_0's ndcg@1: 0.160656\tvalid_0's ndcg@3: 0.170487\tvalid_0's ndcg@5: 0.17222\tvalid_0's ndcg@10: 0.179649\n",
      "[15]\tvalid_0's ndcg@1: 0.168852\tvalid_0's ndcg@3: 0.168448\tvalid_0's ndcg@5: 0.169751\tvalid_0's ndcg@10: 0.17941\n",
      "[16]\tvalid_0's ndcg@1: 0.162295\tvalid_0's ndcg@3: 0.166109\tvalid_0's ndcg@5: 0.169618\tvalid_0's ndcg@10: 0.178482\n",
      "[17]\tvalid_0's ndcg@1: 0.162295\tvalid_0's ndcg@3: 0.166525\tvalid_0's ndcg@5: 0.169419\tvalid_0's ndcg@10: 0.18176\n",
      "[18]\tvalid_0's ndcg@1: 0.162295\tvalid_0's ndcg@3: 0.16672\tvalid_0's ndcg@5: 0.169955\tvalid_0's ndcg@10: 0.17869\n",
      "[19]\tvalid_0's ndcg@1: 0.159016\tvalid_0's ndcg@3: 0.166876\tvalid_0's ndcg@5: 0.170964\tvalid_0's ndcg@10: 0.1796\n",
      "[20]\tvalid_0's ndcg@1: 0.160656\tvalid_0's ndcg@3: 0.166001\tvalid_0's ndcg@5: 0.170402\tvalid_0's ndcg@10: 0.180222\n",
      "[21]\tvalid_0's ndcg@1: 0.159016\tvalid_0's ndcg@3: 0.167732\tvalid_0's ndcg@5: 0.171096\tvalid_0's ndcg@10: 0.179937\n",
      "[22]\tvalid_0's ndcg@1: 0.162295\tvalid_0's ndcg@3: 0.169065\tvalid_0's ndcg@5: 0.170143\tvalid_0's ndcg@10: 0.179434\n",
      "[23]\tvalid_0's ndcg@1: 0.162295\tvalid_0's ndcg@3: 0.166844\tvalid_0's ndcg@5: 0.169637\tvalid_0's ndcg@10: 0.180167\n",
      "[24]\tvalid_0's ndcg@1: 0.165574\tvalid_0's ndcg@3: 0.168962\tvalid_0's ndcg@5: 0.17137\tvalid_0's ndcg@10: 0.180308\n",
      "[25]\tvalid_0's ndcg@1: 0.165574\tvalid_0's ndcg@3: 0.169336\tvalid_0's ndcg@5: 0.172564\tvalid_0's ndcg@10: 0.179978\n",
      "[26]\tvalid_0's ndcg@1: 0.159016\tvalid_0's ndcg@3: 0.168353\tvalid_0's ndcg@5: 0.172183\tvalid_0's ndcg@10: 0.179351\n",
      "[27]\tvalid_0's ndcg@1: 0.165574\tvalid_0's ndcg@3: 0.167849\tvalid_0's ndcg@5: 0.170906\tvalid_0's ndcg@10: 0.180382\n",
      "[28]\tvalid_0's ndcg@1: 0.162295\tvalid_0's ndcg@3: 0.16964\tvalid_0's ndcg@5: 0.172665\tvalid_0's ndcg@10: 0.181149\n",
      "[29]\tvalid_0's ndcg@1: 0.159016\tvalid_0's ndcg@3: 0.165925\tvalid_0's ndcg@5: 0.170033\tvalid_0's ndcg@10: 0.179923\n",
      "[30]\tvalid_0's ndcg@1: 0.160656\tvalid_0's ndcg@3: 0.165523\tvalid_0's ndcg@5: 0.170306\tvalid_0's ndcg@10: 0.179851\n",
      "[31]\tvalid_0's ndcg@1: 0.159016\tvalid_0's ndcg@3: 0.167047\tvalid_0's ndcg@5: 0.170763\tvalid_0's ndcg@10: 0.180616\n",
      "[32]\tvalid_0's ndcg@1: 0.165574\tvalid_0's ndcg@3: 0.166578\tvalid_0's ndcg@5: 0.170231\tvalid_0's ndcg@10: 0.18048\n",
      "[33]\tvalid_0's ndcg@1: 0.165574\tvalid_0's ndcg@3: 0.166123\tvalid_0's ndcg@5: 0.171218\tvalid_0's ndcg@10: 0.180298\n",
      "[34]\tvalid_0's ndcg@1: 0.163934\tvalid_0's ndcg@3: 0.166893\tvalid_0's ndcg@5: 0.171703\tvalid_0's ndcg@10: 0.180326\n",
      "[35]\tvalid_0's ndcg@1: 0.160656\tvalid_0's ndcg@3: 0.164671\tvalid_0's ndcg@5: 0.170033\tvalid_0's ndcg@10: 0.179403\n",
      "[36]\tvalid_0's ndcg@1: 0.160656\tvalid_0's ndcg@3: 0.165791\tvalid_0's ndcg@5: 0.170217\tvalid_0's ndcg@10: 0.17982\n",
      "[37]\tvalid_0's ndcg@1: 0.160656\tvalid_0's ndcg@3: 0.165709\tvalid_0's ndcg@5: 0.169802\tvalid_0's ndcg@10: 0.180176\n",
      "[38]\tvalid_0's ndcg@1: 0.155738\tvalid_0's ndcg@3: 0.161305\tvalid_0's ndcg@5: 0.168282\tvalid_0's ndcg@10: 0.179321\n",
      "[39]\tvalid_0's ndcg@1: 0.155738\tvalid_0's ndcg@3: 0.160655\tvalid_0's ndcg@5: 0.167936\tvalid_0's ndcg@10: 0.179301\n",
      "[40]\tvalid_0's ndcg@1: 0.159016\tvalid_0's ndcg@3: 0.162276\tvalid_0's ndcg@5: 0.169076\tvalid_0's ndcg@10: 0.180851\n",
      "[41]\tvalid_0's ndcg@1: 0.159016\tvalid_0's ndcg@3: 0.16385\tvalid_0's ndcg@5: 0.171612\tvalid_0's ndcg@10: 0.181279\n",
      "[42]\tvalid_0's ndcg@1: 0.160656\tvalid_0's ndcg@3: 0.164201\tvalid_0's ndcg@5: 0.170862\tvalid_0's ndcg@10: 0.180028\n",
      "[43]\tvalid_0's ndcg@1: 0.157377\tvalid_0's ndcg@3: 0.162847\tvalid_0's ndcg@5: 0.170713\tvalid_0's ndcg@10: 0.181493\n",
      "[44]\tvalid_0's ndcg@1: 0.159016\tvalid_0's ndcg@3: 0.163883\tvalid_0's ndcg@5: 0.170533\tvalid_0's ndcg@10: 0.182079\n",
      "[45]\tvalid_0's ndcg@1: 0.159016\tvalid_0's ndcg@3: 0.163278\tvalid_0's ndcg@5: 0.171303\tvalid_0's ndcg@10: 0.181259\n",
      "[46]\tvalid_0's ndcg@1: 0.160656\tvalid_0's ndcg@3: 0.162308\tvalid_0's ndcg@5: 0.1693\tvalid_0's ndcg@10: 0.180687\n",
      "[47]\tvalid_0's ndcg@1: 0.160656\tvalid_0's ndcg@3: 0.162907\tvalid_0's ndcg@5: 0.169219\tvalid_0's ndcg@10: 0.180886\n",
      "[48]\tvalid_0's ndcg@1: 0.159016\tvalid_0's ndcg@3: 0.162392\tvalid_0's ndcg@5: 0.168251\tvalid_0's ndcg@10: 0.180663\n",
      "[49]\tvalid_0's ndcg@1: 0.160656\tvalid_0's ndcg@3: 0.160387\tvalid_0's ndcg@5: 0.169345\tvalid_0's ndcg@10: 0.179899\n",
      "[50]\tvalid_0's ndcg@1: 0.159016\tvalid_0's ndcg@3: 0.159731\tvalid_0's ndcg@5: 0.168648\tvalid_0's ndcg@10: 0.179029\n",
      "[51]\tvalid_0's ndcg@1: 0.160656\tvalid_0's ndcg@3: 0.159631\tvalid_0's ndcg@5: 0.167061\tvalid_0's ndcg@10: 0.1799\n",
      "Early stopping, best iteration is:\n",
      "[1]\tvalid_0's ndcg@1: 0.185246\tvalid_0's ndcg@3: 0.182387\tvalid_0's ndcg@5: 0.186362\tvalid_0's ndcg@10: 0.196917\n"
     ]
    },
    {
     "data": {
      "text/plain": [
       "LGBMRanker(importance_type='gain', min_child_samples=1, min_child_weight=100,\n",
       "           n_jobs=2)"
      ]
     },
     "execution_count": 156,
     "metadata": {},
     "output_type": "execute_result"
    }
   ],
   "source": [
    "gbm2 = lgb.LGBMRanker(min_child_samples=1, learning_rate=.1, n_jobs=2, importance_type='gain',\n",
    "                     num_leaves=31, min_child_weight=100)\n",
    "gbm2.fit(X_train_no_emb, y_train, group=group_train,\n",
    "        eval_set=[(X_val_no_emb, y_val)], eval_group=[group_val],\n",
    "        eval_at=[1, 3, 5, 10], early_stopping_rounds = 50, eval_metric='ndcg')"
   ]
  },
  {
   "cell_type": "code",
   "execution_count": 157,
   "metadata": {
    "ExecuteTime": {
     "end_time": "2020-08-14T08:36:16.659495Z",
     "start_time": "2020-08-14T08:36:16.646453Z"
    }
   },
   "outputs": [
    {
     "data": {
      "text/plain": [
       "14"
      ]
     },
     "execution_count": 157,
     "metadata": {},
     "output_type": "execute_result"
    }
   ],
   "source": [
    "len(gbm2.feature_importances_)"
   ]
  },
  {
   "cell_type": "code",
   "execution_count": 158,
   "metadata": {
    "ExecuteTime": {
     "end_time": "2020-08-14T08:36:17.166141Z",
     "start_time": "2020-08-14T08:36:16.663807Z"
    }
   },
   "outputs": [
    {
     "data": {
      "text/plain": [
       "Text(0.5, 1.0, 'Importance of Features')"
      ]
     },
     "execution_count": 158,
     "metadata": {},
     "output_type": "execute_result"
    },
    {
     "data": {
      "image/png": "[encoded data removed]",
      "text/plain": [
       "<Figure size 1000x400 with 1 Axes>"
      ]
     },
     "metadata": {
      "needs_background": "light"
     },
     "output_type": "display_data"
    }
   ],
   "source": [
    "feature_names_no_emb = ('implicit_score', 'implicit_rank', 'svd_score', 'is_comedy', '#users_watched',\n",
    "                        'is_adventure', 'is_drama', 'is_romance', 'is_fantasy', 'is_thriller',\n",
    "                        'is_animation', 'is_children', 'is_horror', 'SVD_rank')\n",
    "\n",
    "figure(figsize=(10, 4), dpi=100)\n",
    "plt.bar(feature_names_no_emb, gbm2.feature_importances_)\n",
    "plt.xticks(rotation='vertical')\n",
    "plt.ylabel('Importance')\n",
    "plt.xlabel('Feature name')\n",
    "plt.title('Importance of Features')"
   ]
  },
  {
   "cell_type": "code",
   "execution_count": 159,
   "metadata": {
    "ExecuteTime": {
     "end_time": "2020-08-14T08:36:17.182602Z",
     "start_time": "2020-08-14T08:36:17.166141Z"
    }
   },
   "outputs": [
    {
     "data": {
      "text/plain": [
       "array([4.23787022, 0.        , 0.        , 0.        , 0.        ,\n",
       "       0.        , 0.        , 0.        , 0.        , 8.30962014,\n",
       "       4.2290802 , 3.86019993, 0.        , 0.        ])"
      ]
     },
     "execution_count": 159,
     "metadata": {},
     "output_type": "execute_result"
    }
   ],
   "source": [
    "gbm2.feature_importances_"
   ]
  },
  {
   "cell_type": "code",
   "execution_count": 160,
   "metadata": {
    "ExecuteTime": {
     "end_time": "2020-08-14T08:36:17.416287Z",
     "start_time": "2020-08-14T08:36:17.186801Z"
    }
   },
   "outputs": [
    {
     "data": {
      "text/plain": [
       "SpearmanrResult(correlation=-0.0016214399295007207, pvalue=0.6238066949260361)"
      ]
     },
     "execution_count": 160,
     "metadata": {},
     "output_type": "execute_result"
    }
   ],
   "source": [
    "st.spearmanr(np.array(feature9).reshape(len(num_users)*k,), gbm2.predict(X_test_no_emb).reshape(len(num_users)*k,))"
   ]
  },
  {
   "cell_type": "code",
   "execution_count": 161,
   "metadata": {
    "ExecuteTime": {
     "end_time": "2020-08-14T08:36:17.534251Z",
     "start_time": "2020-08-14T08:36:17.418290Z"
    }
   },
   "outputs": [
    {
     "data": {
      "text/plain": [
       "SpearmanrResult(correlation=0.027241815166327413, pvalue=1.6966093307268865e-16)"
      ]
     },
     "execution_count": 161,
     "metadata": {},
     "output_type": "execute_result"
    }
   ],
   "source": [
    "st.spearmanr(np.array(feature1).reshape(len(num_users)*k,), np.array(feature14).reshape(len(num_users)*k,))"
   ]
  },
  {
   "cell_type": "code",
   "execution_count": 162,
   "metadata": {
    "ExecuteTime": {
     "end_time": "2020-08-14T08:36:17.700085Z",
     "start_time": "2020-08-14T08:36:17.534251Z"
    }
   },
   "outputs": [],
   "source": [
    "pred_no_emb = gbm2.predict(X_test_no_emb)"
   ]
  },
  {
   "cell_type": "markdown",
   "metadata": {},
   "source": [
    "## What is the impact of the items’rank on the effectivenessof amodelfor item recommendations?"
   ]
  },
  {
   "cell_type": "markdown",
   "metadata": {},
   "source": [
    "1. Post-hoc analysis\n",
    "2. Spearman correlation\n",
    "try different features, see what happens, and analyze it to explain. \n"
   ]
  },
  {
   "cell_type": "markdown",
   "metadata": {
    "ExecuteTime": {
     "end_time": "2020-08-13T18:16:18.212676Z",
     "start_time": "2020-08-13T18:16:18.181880Z"
    }
   },
   "source": [
    "### No models' rank features"
   ]
  },
  {
   "cell_type": "code",
   "execution_count": 163,
   "metadata": {
    "ExecuteTime": {
     "end_time": "2020-08-14T08:36:18.284710Z",
     "start_time": "2020-08-14T08:36:17.700085Z"
    }
   },
   "outputs": [],
   "source": [
    "no_rank_features = np.stack((feature1, feature3, feature4, feature5, feature7[0],\n",
    "                             feature7[1], feature7[2], feature7[3],\n",
    "                             feature7[4], feature7[5], feature7[6], feature7[7],\n",
    "                             feature7[8], feature7[9], feature7[10], feature7[11],\n",
    "                             feature7[12], feature7[13], feature7[14], feature7[15],\n",
    "                             feature7[16], feature7[17], feature7[18], feature7[19],\n",
    "                             feature7[20], feature7[21], feature7[22], feature7[23],\n",
    "                             feature7[24], feature7[25], feature7[26], feature7[27],\n",
    "                             feature7[28], feature7[29], feature7[30], feature7[31],\n",
    "                             feature8, feature9, feature10, feature11, feature12, feature13,\n",
    "                             feature14, feature15))"
   ]
  },
  {
   "cell_type": "code",
   "execution_count": 164,
   "metadata": {
    "ExecuteTime": {
     "end_time": "2020-08-14T08:36:18.346559Z",
     "start_time": "2020-08-14T08:36:18.284710Z"
    }
   },
   "outputs": [],
   "source": [
    "X_no_rank = np.array(no_rank_features)\n",
    "X_no_rank = X_no_rank.reshape(len(num_users)*k, len(no_rank_features))\n",
    "X_train_no_rank = X_no_rank\n",
    "X_test_no_rank = X_no_rank\n",
    "X_val_no_rank = X_no_rank"
   ]
  },
  {
   "cell_type": "code",
   "execution_count": 165,
   "metadata": {
    "ExecuteTime": {
     "end_time": "2020-08-14T08:36:26.269251Z",
     "start_time": "2020-08-14T08:36:18.347556Z"
    },
    "scrolled": true
   },
   "outputs": [
    {
     "name": "stdout",
     "output_type": "stream",
     "text": [
      "[1]\tvalid_0's ndcg@1: 0.188525\tvalid_0's ndcg@3: 0.18966\tvalid_0's ndcg@5: 0.195114\tvalid_0's ndcg@10: 0.209495\n",
      "[2]\tvalid_0's ndcg@1: 0.183607\tvalid_0's ndcg@3: 0.176419\tvalid_0's ndcg@5: 0.179125\tvalid_0's ndcg@10: 0.188119\n",
      "[3]\tvalid_0's ndcg@1: 0.165574\tvalid_0's ndcg@3: 0.170495\tvalid_0's ndcg@5: 0.17075\tvalid_0's ndcg@10: 0.17855\n",
      "[4]\tvalid_0's ndcg@1: 0.165574\tvalid_0's ndcg@3: 0.168551\tvalid_0's ndcg@5: 0.168899\tvalid_0's ndcg@10: 0.178261\n",
      "[5]\tvalid_0's ndcg@1: 0.163934\tvalid_0's ndcg@3: 0.165955\tvalid_0's ndcg@5: 0.167429\tvalid_0's ndcg@10: 0.175337\n",
      "[6]\tvalid_0's ndcg@1: 0.165574\tvalid_0's ndcg@3: 0.167914\tvalid_0's ndcg@5: 0.16784\tvalid_0's ndcg@10: 0.176283\n",
      "[7]\tvalid_0's ndcg@1: 0.163934\tvalid_0's ndcg@3: 0.16261\tvalid_0's ndcg@5: 0.168945\tvalid_0's ndcg@10: 0.176237\n",
      "[8]\tvalid_0's ndcg@1: 0.170492\tvalid_0's ndcg@3: 0.169718\tvalid_0's ndcg@5: 0.169457\tvalid_0's ndcg@10: 0.177497\n",
      "[9]\tvalid_0's ndcg@1: 0.168852\tvalid_0's ndcg@3: 0.167663\tvalid_0's ndcg@5: 0.169962\tvalid_0's ndcg@10: 0.17701\n",
      "[10]\tvalid_0's ndcg@1: 0.168852\tvalid_0's ndcg@3: 0.164887\tvalid_0's ndcg@5: 0.166309\tvalid_0's ndcg@10: 0.175501\n",
      "[11]\tvalid_0's ndcg@1: 0.170492\tvalid_0's ndcg@3: 0.167764\tvalid_0's ndcg@5: 0.169574\tvalid_0's ndcg@10: 0.176533\n",
      "[12]\tvalid_0's ndcg@1: 0.167213\tvalid_0's ndcg@3: 0.166107\tvalid_0's ndcg@5: 0.167036\tvalid_0's ndcg@10: 0.175483\n",
      "[13]\tvalid_0's ndcg@1: 0.165574\tvalid_0's ndcg@3: 0.16564\tvalid_0's ndcg@5: 0.169075\tvalid_0's ndcg@10: 0.178219\n",
      "[14]\tvalid_0's ndcg@1: 0.180328\tvalid_0's ndcg@3: 0.170187\tvalid_0's ndcg@5: 0.171632\tvalid_0's ndcg@10: 0.180658\n",
      "[15]\tvalid_0's ndcg@1: 0.172131\tvalid_0's ndcg@3: 0.168969\tvalid_0's ndcg@5: 0.171105\tvalid_0's ndcg@10: 0.179659\n",
      "[16]\tvalid_0's ndcg@1: 0.172131\tvalid_0's ndcg@3: 0.167278\tvalid_0's ndcg@5: 0.168047\tvalid_0's ndcg@10: 0.179424\n",
      "[17]\tvalid_0's ndcg@1: 0.168852\tvalid_0's ndcg@3: 0.168198\tvalid_0's ndcg@5: 0.16808\tvalid_0's ndcg@10: 0.18021\n",
      "[18]\tvalid_0's ndcg@1: 0.168852\tvalid_0's ndcg@3: 0.167396\tvalid_0's ndcg@5: 0.167728\tvalid_0's ndcg@10: 0.178471\n",
      "[19]\tvalid_0's ndcg@1: 0.162295\tvalid_0's ndcg@3: 0.163646\tvalid_0's ndcg@5: 0.166151\tvalid_0's ndcg@10: 0.176662\n",
      "[20]\tvalid_0's ndcg@1: 0.163934\tvalid_0's ndcg@3: 0.163999\tvalid_0's ndcg@5: 0.167217\tvalid_0's ndcg@10: 0.17692\n",
      "[21]\tvalid_0's ndcg@1: 0.168852\tvalid_0's ndcg@3: 0.165835\tvalid_0's ndcg@5: 0.168717\tvalid_0's ndcg@10: 0.178694\n",
      "[22]\tvalid_0's ndcg@1: 0.170492\tvalid_0's ndcg@3: 0.164165\tvalid_0's ndcg@5: 0.167698\tvalid_0's ndcg@10: 0.178118\n",
      "[23]\tvalid_0's ndcg@1: 0.168852\tvalid_0's ndcg@3: 0.163479\tvalid_0's ndcg@5: 0.166918\tvalid_0's ndcg@10: 0.177799\n",
      "[24]\tvalid_0's ndcg@1: 0.170492\tvalid_0's ndcg@3: 0.165201\tvalid_0's ndcg@5: 0.167281\tvalid_0's ndcg@10: 0.179497\n",
      "[25]\tvalid_0's ndcg@1: 0.170492\tvalid_0's ndcg@3: 0.163864\tvalid_0's ndcg@5: 0.168233\tvalid_0's ndcg@10: 0.180085\n",
      "[26]\tvalid_0's ndcg@1: 0.167213\tvalid_0's ndcg@3: 0.16281\tvalid_0's ndcg@5: 0.168017\tvalid_0's ndcg@10: 0.179103\n",
      "[27]\tvalid_0's ndcg@1: 0.165574\tvalid_0's ndcg@3: 0.165237\tvalid_0's ndcg@5: 0.169387\tvalid_0's ndcg@10: 0.179102\n",
      "[28]\tvalid_0's ndcg@1: 0.167213\tvalid_0's ndcg@3: 0.164901\tvalid_0's ndcg@5: 0.170578\tvalid_0's ndcg@10: 0.18017\n",
      "[29]\tvalid_0's ndcg@1: 0.165574\tvalid_0's ndcg@3: 0.165154\tvalid_0's ndcg@5: 0.169389\tvalid_0's ndcg@10: 0.17981\n",
      "[30]\tvalid_0's ndcg@1: 0.167213\tvalid_0's ndcg@3: 0.166456\tvalid_0's ndcg@5: 0.170527\tvalid_0's ndcg@10: 0.178499\n",
      "[31]\tvalid_0's ndcg@1: 0.165574\tvalid_0's ndcg@3: 0.165355\tvalid_0's ndcg@5: 0.168253\tvalid_0's ndcg@10: 0.178546\n",
      "[32]\tvalid_0's ndcg@1: 0.163934\tvalid_0's ndcg@3: 0.165001\tvalid_0's ndcg@5: 0.169612\tvalid_0's ndcg@10: 0.178382\n",
      "[33]\tvalid_0's ndcg@1: 0.165574\tvalid_0's ndcg@3: 0.164031\tvalid_0's ndcg@5: 0.167862\tvalid_0's ndcg@10: 0.178386\n",
      "[34]\tvalid_0's ndcg@1: 0.168852\tvalid_0's ndcg@3: 0.16458\tvalid_0's ndcg@5: 0.166366\tvalid_0's ndcg@10: 0.177207\n",
      "[35]\tvalid_0's ndcg@1: 0.167213\tvalid_0's ndcg@3: 0.163344\tvalid_0's ndcg@5: 0.16778\tvalid_0's ndcg@10: 0.178147\n",
      "[36]\tvalid_0's ndcg@1: 0.165574\tvalid_0's ndcg@3: 0.162256\tvalid_0's ndcg@5: 0.166186\tvalid_0's ndcg@10: 0.178255\n",
      "[37]\tvalid_0's ndcg@1: 0.167213\tvalid_0's ndcg@3: 0.162373\tvalid_0's ndcg@5: 0.164198\tvalid_0's ndcg@10: 0.176271\n",
      "[38]\tvalid_0's ndcg@1: 0.163934\tvalid_0's ndcg@3: 0.163947\tvalid_0's ndcg@5: 0.164694\tvalid_0's ndcg@10: 0.176046\n",
      "[39]\tvalid_0's ndcg@1: 0.165574\tvalid_0's ndcg@3: 0.163077\tvalid_0's ndcg@5: 0.163811\tvalid_0's ndcg@10: 0.175839\n",
      "[40]\tvalid_0's ndcg@1: 0.167213\tvalid_0's ndcg@3: 0.163493\tvalid_0's ndcg@5: 0.164945\tvalid_0's ndcg@10: 0.176006\n",
      "[41]\tvalid_0's ndcg@1: 0.165574\tvalid_0's ndcg@3: 0.162692\tvalid_0's ndcg@5: 0.166161\tvalid_0's ndcg@10: 0.176763\n",
      "[42]\tvalid_0's ndcg@1: 0.165574\tvalid_0's ndcg@3: 0.164531\tvalid_0's ndcg@5: 0.166131\tvalid_0's ndcg@10: 0.177185\n",
      "[43]\tvalid_0's ndcg@1: 0.162295\tvalid_0's ndcg@3: 0.161803\tvalid_0's ndcg@5: 0.164998\tvalid_0's ndcg@10: 0.176226\n",
      "[44]\tvalid_0's ndcg@1: 0.165574\tvalid_0's ndcg@3: 0.16249\tvalid_0's ndcg@5: 0.165787\tvalid_0's ndcg@10: 0.174903\n",
      "[45]\tvalid_0's ndcg@1: 0.163934\tvalid_0's ndcg@3: 0.16336\tvalid_0's ndcg@5: 0.165741\tvalid_0's ndcg@10: 0.175509\n",
      "[46]\tvalid_0's ndcg@1: 0.162295\tvalid_0's ndcg@3: 0.162741\tvalid_0's ndcg@5: 0.165132\tvalid_0's ndcg@10: 0.17633\n",
      "[47]\tvalid_0's ndcg@1: 0.163934\tvalid_0's ndcg@3: 0.164281\tvalid_0's ndcg@5: 0.16458\tvalid_0's ndcg@10: 0.175177\n",
      "[48]\tvalid_0's ndcg@1: 0.163934\tvalid_0's ndcg@3: 0.163379\tvalid_0's ndcg@5: 0.164357\tvalid_0's ndcg@10: 0.174919\n",
      "[49]\tvalid_0's ndcg@1: 0.162295\tvalid_0's ndcg@3: 0.1643\tvalid_0's ndcg@5: 0.164219\tvalid_0's ndcg@10: 0.173296\n",
      "[50]\tvalid_0's ndcg@1: 0.165574\tvalid_0's ndcg@3: 0.163596\tvalid_0's ndcg@5: 0.164805\tvalid_0's ndcg@10: 0.175283\n",
      "[51]\tvalid_0's ndcg@1: 0.162295\tvalid_0's ndcg@3: 0.163293\tvalid_0's ndcg@5: 0.164612\tvalid_0's ndcg@10: 0.174006\n",
      "[52]\tvalid_0's ndcg@1: 0.162295\tvalid_0's ndcg@3: 0.16207\tvalid_0's ndcg@5: 0.165326\tvalid_0's ndcg@10: 0.174838\n",
      "[53]\tvalid_0's ndcg@1: 0.160656\tvalid_0's ndcg@3: 0.161387\tvalid_0's ndcg@5: 0.16557\tvalid_0's ndcg@10: 0.174854\n",
      "[54]\tvalid_0's ndcg@1: 0.160656\tvalid_0's ndcg@3: 0.162459\tvalid_0's ndcg@5: 0.164065\tvalid_0's ndcg@10: 0.174338\n",
      "[55]\tvalid_0's ndcg@1: 0.160656\tvalid_0's ndcg@3: 0.162206\tvalid_0's ndcg@5: 0.164529\tvalid_0's ndcg@10: 0.174879\n",
      "[56]\tvalid_0's ndcg@1: 0.160656\tvalid_0's ndcg@3: 0.161288\tvalid_0's ndcg@5: 0.165206\tvalid_0's ndcg@10: 0.173886\n",
      "[57]\tvalid_0's ndcg@1: 0.159016\tvalid_0's ndcg@3: 0.160969\tvalid_0's ndcg@5: 0.16387\tvalid_0's ndcg@10: 0.174657\n",
      "[58]\tvalid_0's ndcg@1: 0.157377\tvalid_0's ndcg@3: 0.160851\tvalid_0's ndcg@5: 0.164062\tvalid_0's ndcg@10: 0.173932\n",
      "[59]\tvalid_0's ndcg@1: 0.155738\tvalid_0's ndcg@3: 0.160287\tvalid_0's ndcg@5: 0.164591\tvalid_0's ndcg@10: 0.174635\n",
      "[60]\tvalid_0's ndcg@1: 0.157377\tvalid_0's ndcg@3: 0.1602\tvalid_0's ndcg@5: 0.164496\tvalid_0's ndcg@10: 0.175269\n",
      "[61]\tvalid_0's ndcg@1: 0.157377\tvalid_0's ndcg@3: 0.158896\tvalid_0's ndcg@5: 0.164283\tvalid_0's ndcg@10: 0.174868\n",
      "[62]\tvalid_0's ndcg@1: 0.157377\tvalid_0's ndcg@3: 0.158997\tvalid_0's ndcg@5: 0.164611\tvalid_0's ndcg@10: 0.174102\n",
      "[63]\tvalid_0's ndcg@1: 0.159016\tvalid_0's ndcg@3: 0.159949\tvalid_0's ndcg@5: 0.165003\tvalid_0's ndcg@10: 0.176267\n",
      "[64]\tvalid_0's ndcg@1: 0.155738\tvalid_0's ndcg@3: 0.159797\tvalid_0's ndcg@5: 0.164681\tvalid_0's ndcg@10: 0.175758\n",
      "[65]\tvalid_0's ndcg@1: 0.154098\tvalid_0's ndcg@3: 0.160819\tvalid_0's ndcg@5: 0.164863\tvalid_0's ndcg@10: 0.176392\n",
      "[66]\tvalid_0's ndcg@1: 0.154098\tvalid_0's ndcg@3: 0.158997\tvalid_0's ndcg@5: 0.164718\tvalid_0's ndcg@10: 0.177034\n",
      "[67]\tvalid_0's ndcg@1: 0.155738\tvalid_0's ndcg@3: 0.157738\tvalid_0's ndcg@5: 0.164763\tvalid_0's ndcg@10: 0.177656\n",
      "[68]\tvalid_0's ndcg@1: 0.155738\tvalid_0's ndcg@3: 0.158293\tvalid_0's ndcg@5: 0.164746\tvalid_0's ndcg@10: 0.176325\n",
      "[69]\tvalid_0's ndcg@1: 0.155738\tvalid_0's ndcg@3: 0.158678\tvalid_0's ndcg@5: 0.165472\tvalid_0's ndcg@10: 0.176703\n",
      "[70]\tvalid_0's ndcg@1: 0.159016\tvalid_0's ndcg@3: 0.158476\tvalid_0's ndcg@5: 0.165508\tvalid_0's ndcg@10: 0.177899\n",
      "[71]\tvalid_0's ndcg@1: 0.157377\tvalid_0's ndcg@3: 0.159548\tvalid_0's ndcg@5: 0.166284\tvalid_0's ndcg@10: 0.177151\n",
      "[72]\tvalid_0's ndcg@1: 0.154098\tvalid_0's ndcg@3: 0.160252\tvalid_0's ndcg@5: 0.166313\tvalid_0's ndcg@10: 0.17628\n",
      "[73]\tvalid_0's ndcg@1: 0.155738\tvalid_0's ndcg@3: 0.161051\tvalid_0's ndcg@5: 0.166386\tvalid_0's ndcg@10: 0.175795\n",
      "[74]\tvalid_0's ndcg@1: 0.157377\tvalid_0's ndcg@3: 0.159561\tvalid_0's ndcg@5: 0.165791\tvalid_0's ndcg@10: 0.175901\n",
      "[75]\tvalid_0's ndcg@1: 0.157377\tvalid_0's ndcg@3: 0.16172\tvalid_0's ndcg@5: 0.165863\tvalid_0's ndcg@10: 0.176357\n"
     ]
    },
    {
     "name": "stdout",
     "output_type": "stream",
     "text": [
      "[76]\tvalid_0's ndcg@1: 0.157377\tvalid_0's ndcg@3: 0.160618\tvalid_0's ndcg@5: 0.165161\tvalid_0's ndcg@10: 0.176049\n",
      "[77]\tvalid_0's ndcg@1: 0.157377\tvalid_0's ndcg@3: 0.160282\tvalid_0's ndcg@5: 0.165417\tvalid_0's ndcg@10: 0.176045\n",
      "[78]\tvalid_0's ndcg@1: 0.157377\tvalid_0's ndcg@3: 0.160168\tvalid_0's ndcg@5: 0.1666\tvalid_0's ndcg@10: 0.175476\n",
      "[79]\tvalid_0's ndcg@1: 0.157377\tvalid_0's ndcg@3: 0.161755\tvalid_0's ndcg@5: 0.166443\tvalid_0's ndcg@10: 0.17551\n",
      "[80]\tvalid_0's ndcg@1: 0.157377\tvalid_0's ndcg@3: 0.161939\tvalid_0's ndcg@5: 0.166003\tvalid_0's ndcg@10: 0.175163\n",
      "[81]\tvalid_0's ndcg@1: 0.155738\tvalid_0's ndcg@3: 0.161755\tvalid_0's ndcg@5: 0.166284\tvalid_0's ndcg@10: 0.175012\n",
      "[82]\tvalid_0's ndcg@1: 0.155738\tvalid_0's ndcg@3: 0.163728\tvalid_0's ndcg@5: 0.167299\tvalid_0's ndcg@10: 0.175538\n",
      "[83]\tvalid_0's ndcg@1: 0.159016\tvalid_0's ndcg@3: 0.163412\tvalid_0's ndcg@5: 0.167199\tvalid_0's ndcg@10: 0.175553\n",
      "[84]\tvalid_0's ndcg@1: 0.159016\tvalid_0's ndcg@3: 0.16398\tvalid_0's ndcg@5: 0.167049\tvalid_0's ndcg@10: 0.175323\n",
      "[85]\tvalid_0's ndcg@1: 0.159016\tvalid_0's ndcg@3: 0.163696\tvalid_0's ndcg@5: 0.167053\tvalid_0's ndcg@10: 0.176076\n",
      "[86]\tvalid_0's ndcg@1: 0.155738\tvalid_0's ndcg@3: 0.161924\tvalid_0's ndcg@5: 0.166207\tvalid_0's ndcg@10: 0.175553\n",
      "[87]\tvalid_0's ndcg@1: 0.155738\tvalid_0's ndcg@3: 0.162025\tvalid_0's ndcg@5: 0.166817\tvalid_0's ndcg@10: 0.175873\n",
      "[88]\tvalid_0's ndcg@1: 0.154098\tvalid_0's ndcg@3: 0.162912\tvalid_0's ndcg@5: 0.166509\tvalid_0's ndcg@10: 0.175685\n",
      "[89]\tvalid_0's ndcg@1: 0.155738\tvalid_0's ndcg@3: 0.162628\tvalid_0's ndcg@5: 0.166545\tvalid_0's ndcg@10: 0.175314\n",
      "[90]\tvalid_0's ndcg@1: 0.155738\tvalid_0's ndcg@3: 0.162074\tvalid_0's ndcg@5: 0.166609\tvalid_0's ndcg@10: 0.175496\n",
      "[91]\tvalid_0's ndcg@1: 0.155738\tvalid_0's ndcg@3: 0.162611\tvalid_0's ndcg@5: 0.167299\tvalid_0's ndcg@10: 0.17546\n",
      "[92]\tvalid_0's ndcg@1: 0.157377\tvalid_0's ndcg@3: 0.163563\tvalid_0's ndcg@5: 0.166948\tvalid_0's ndcg@10: 0.174841\n",
      "[93]\tvalid_0's ndcg@1: 0.155738\tvalid_0's ndcg@3: 0.163228\tvalid_0's ndcg@5: 0.166987\tvalid_0's ndcg@10: 0.175426\n",
      "[94]\tvalid_0's ndcg@1: 0.157377\tvalid_0's ndcg@3: 0.165101\tvalid_0's ndcg@5: 0.166968\tvalid_0's ndcg@10: 0.175085\n",
      "[95]\tvalid_0's ndcg@1: 0.157377\tvalid_0's ndcg@3: 0.165971\tvalid_0's ndcg@5: 0.166884\tvalid_0's ndcg@10: 0.175487\n",
      "[96]\tvalid_0's ndcg@1: 0.157377\tvalid_0's ndcg@3: 0.164969\tvalid_0's ndcg@5: 0.166743\tvalid_0's ndcg@10: 0.17525\n",
      "[97]\tvalid_0's ndcg@1: 0.159016\tvalid_0's ndcg@3: 0.165655\tvalid_0's ndcg@5: 0.167032\tvalid_0's ndcg@10: 0.176367\n",
      "[98]\tvalid_0's ndcg@1: 0.159016\tvalid_0's ndcg@3: 0.167207\tvalid_0's ndcg@5: 0.168175\tvalid_0's ndcg@10: 0.176746\n",
      "[99]\tvalid_0's ndcg@1: 0.160656\tvalid_0's ndcg@3: 0.166186\tvalid_0's ndcg@5: 0.167739\tvalid_0's ndcg@10: 0.175595\n",
      "[100]\tvalid_0's ndcg@1: 0.159016\tvalid_0's ndcg@3: 0.166455\tvalid_0's ndcg@5: 0.166993\tvalid_0's ndcg@10: 0.176404\n"
     ]
    },
    {
     "data": {
      "text/plain": [
       "LGBMRanker(importance_type='gain', min_child_samples=1, min_child_weight=100,\n",
       "           n_jobs=2)"
      ]
     },
     "execution_count": 165,
     "metadata": {},
     "output_type": "execute_result"
    }
   ],
   "source": [
    "gbm3 = lgb.LGBMRanker(min_child_samples=1, learning_rate=.1, n_jobs=2, importance_type='gain',\n",
    "                     num_leaves=31, min_child_weight=100)\n",
    "gbm3.fit(X_train_no_rank, y_train, group=group_train,\n",
    "        eval_set=[(X_val_no_rank, y_val)], eval_group=[group_val],\n",
    "        eval_at=[1, 3, 5, 10],eval_metric='ndcg')"
   ]
  },
  {
   "cell_type": "code",
   "execution_count": 166,
   "metadata": {
    "ExecuteTime": {
     "end_time": "2020-08-14T08:36:26.608478Z",
     "start_time": "2020-08-14T08:36:26.269251Z"
    }
   },
   "outputs": [
    {
     "ename": "NameError",
     "evalue": "name 'feature_names_no_rank' is not defined",
     "output_type": "error",
     "traceback": [
      "\u001b[1;31m---------------------------------------------------------------------------\u001b[0m",
      "\u001b[1;31mNameError\u001b[0m                                 Traceback (most recent call last)",
      "\u001b[1;32m<ipython-input-166-b75c0c1441f8>\u001b[0m in \u001b[0;36m<module>\u001b[1;34m\u001b[0m\n\u001b[1;32m----> 1\u001b[1;33m \u001b[0mlen\u001b[0m\u001b[1;33m(\u001b[0m\u001b[0mfeature_names_no_rank\u001b[0m\u001b[1;33m)\u001b[0m\u001b[1;33m\u001b[0m\u001b[1;33m\u001b[0m\u001b[0m\n\u001b[0m",
      "\u001b[1;31mNameError\u001b[0m: name 'feature_names_no_rank' is not defined"
     ]
    }
   ],
   "source": [
    "len(feature_names_no_rank)"
   ]
  },
  {
   "cell_type": "code",
   "execution_count": null,
   "metadata": {
    "ExecuteTime": {
     "end_time": "2020-08-14T08:36:26.613390Z",
     "start_time": "2020-08-14T07:59:06.792Z"
    }
   },
   "outputs": [],
   "source": [
    "feature_names_no_rank = ('implicit_score', 'svd_score', 'is_comedy', '#users_watched',\n",
    "                        'emedding1', 'emedding2', 'emedding3',\n",
    "                        'emedding4', 'emedding5', 'emedding6',\n",
    "                        'emedding7', 'emedding8', 'emedding9',\n",
    "                        'emedding10', 'emedding11', 'emedding12',\n",
    "                        'emedding13', 'emedding14', 'emedding15',\n",
    "                        'emedding16', 'emedding17', 'emedding18',\n",
    "                        'emedding19', 'emedding20', 'emedding21',\n",
    "                        'emedding22', 'emedding23', 'emedding24',\n",
    "                        'emedding25', 'emedding26', 'emedding27',\n",
    "                        'emedding28', 'emedding29', 'emedding30',\n",
    "                        'emedding31', 'emedding32',\n",
    "                        'is_adventure', 'is_drama', 'is_romance', 'is_fantasy', 'is_thriller',\n",
    "                        'is_animation', 'is_children', 'is_horror')\n",
    "\n",
    "figure(figsize=(10, 4), dpi=100)\n",
    "plt.bar(feature_names_no_rank, gbm3.feature_importances_)\n",
    "plt.xticks(rotation='vertical')\n",
    "plt.ylabel('Importance')\n",
    "plt.xlabel('Feature name')\n",
    "plt.title('Importance of Features')"
   ]
  },
  {
   "cell_type": "code",
   "execution_count": null,
   "metadata": {
    "ExecuteTime": {
     "end_time": "2020-08-14T08:36:26.614637Z",
     "start_time": "2020-08-14T07:59:06.798Z"
    }
   },
   "outputs": [],
   "source": [
    "gbm3.feature_importances_"
   ]
  },
  {
   "cell_type": "code",
   "execution_count": null,
   "metadata": {
    "ExecuteTime": {
     "end_time": "2020-08-14T08:36:26.615635Z",
     "start_time": "2020-08-14T07:59:06.803Z"
    }
   },
   "outputs": [],
   "source": [
    "st.spearmanr(np.array(feature9).reshape(len(num_users)*k,), gbm3.predict(X_test_no_rank).reshape(len(num_users)*k,))"
   ]
  },
  {
   "cell_type": "code",
   "execution_count": null,
   "metadata": {
    "ExecuteTime": {
     "end_time": "2020-08-14T08:36:26.615635Z",
     "start_time": "2020-08-14T07:59:06.809Z"
    }
   },
   "outputs": [],
   "source": [
    "st.spearmanr(np.array(feature1).reshape(len(num_users)*k,), np.array(feature14).reshape(len(num_users)*k,))"
   ]
  },
  {
   "cell_type": "code",
   "execution_count": null,
   "metadata": {
    "ExecuteTime": {
     "end_time": "2020-08-14T08:36:26.623910Z",
     "start_time": "2020-08-14T07:59:06.814Z"
    }
   },
   "outputs": [],
   "source": [
    "pred_no_rank = gbm3.predict(X_test_no_rank)"
   ]
  },
  {
   "cell_type": "markdown",
   "metadata": {},
   "source": [
    "# Draft"
   ]
  },
  {
   "cell_type": "markdown",
   "metadata": {
    "heading_collapsed": true
   },
   "source": [
    "## Excel-Like"
   ]
  },
  {
   "cell_type": "code",
   "execution_count": null,
   "metadata": {
    "ExecuteTime": {
     "end_time": "2020-08-14T08:36:26.624909Z",
     "start_time": "2020-08-14T07:59:06.823Z"
    },
    "hidden": true
   },
   "outputs": [],
   "source": [
    "excel1_df = pd.DataFrame({'movie_id': target_movies[0],'rank':feature2[0],'model1_score':feature1[0], 'model2_score':feature3[0],'is_comedy':feature4[0],\n",
    "                            '#users_watched':feature5[0], 'train_label':label_train[0], 'test_label':label_test[0],\n",
    "                            'label_val':label_val[0],'LGBM Score':lgbm_pred_per_user[0]})"
   ]
  },
  {
   "cell_type": "code",
   "execution_count": null,
   "metadata": {
    "ExecuteTime": {
     "end_time": "2020-08-14T08:36:26.624909Z",
     "start_time": "2020-08-14T07:59:06.829Z"
    },
    "hidden": true
   },
   "outputs": [],
   "source": [
    "excel1_df"
   ]
  },
  {
   "cell_type": "code",
   "execution_count": null,
   "metadata": {
    "ExecuteTime": {
     "end_time": "2020-08-14T08:36:26.624909Z",
     "start_time": "2020-08-14T07:59:06.835Z"
    },
    "hidden": true
   },
   "outputs": [],
   "source": [
    "excel1_df = excel1_df.sort_values('LGBM Score',ascending = False)\n",
    "excel1_df.head(10)"
   ]
  },
  {
   "cell_type": "code",
   "execution_count": null,
   "metadata": {
    "ExecuteTime": {
     "end_time": "2020-08-14T08:36:26.634344Z",
     "start_time": "2020-08-14T07:59:06.842Z"
    },
    "hidden": true
   },
   "outputs": [],
   "source": [
    "relevance_lgbm_firstUser = excel1_df['test_label'].values.tolist()"
   ]
  },
  {
   "cell_type": "code",
   "execution_count": null,
   "metadata": {
    "ExecuteTime": {
     "end_time": "2020-08-14T08:36:26.635462Z",
     "start_time": "2020-08-14T07:59:06.849Z"
    },
    "hidden": true
   },
   "outputs": [],
   "source": [
    "L1GBM_ndcg = NDCG_forUser(relevance_lgbm_firstUser)\n",
    "L1GBM_ndcg"
   ]
  },
  {
   "cell_type": "code",
   "execution_count": null,
   "metadata": {
    "ExecuteTime": {
     "end_time": "2020-08-14T08:36:26.638113Z",
     "start_time": "2020-08-14T07:59:06.856Z"
    },
    "hidden": true
   },
   "outputs": [],
   "source": [
    "from sklearn.metrics import dcg_score\n",
    "true = np.asarray([actual])\n",
    "pred = np.asarray([predicted_rank_svd])\n",
    "dcg = dcg_score(true,pred)\n",
    "idcg = dcg_score(true,true)\n",
    "ndcg = dcg/idcg"
   ]
  },
  {
   "cell_type": "code",
   "execution_count": null,
   "metadata": {
    "ExecuteTime": {
     "end_time": "2020-08-14T08:36:26.640483Z",
     "start_time": "2020-08-14T07:59:06.865Z"
    },
    "hidden": true
   },
   "outputs": [],
   "source": [
    "ndcg"
   ]
  },
  {
   "cell_type": "code",
   "execution_count": null,
   "metadata": {
    "ExecuteTime": {
     "end_time": "2020-08-14T08:36:26.641480Z",
     "start_time": "2020-08-14T07:59:06.874Z"
    },
    "hidden": true
   },
   "outputs": [],
   "source": [
    "from sklearn.metrics import ndcg_score\n",
    "n = ndcg_score(true,pred)\n",
    "n"
   ]
  },
  {
   "cell_type": "code",
   "execution_count": null,
   "metadata": {
    "ExecuteTime": {
     "end_time": "2020-08-14T08:36:26.641480Z",
     "start_time": "2020-08-14T07:59:06.882Z"
    },
    "hidden": true
   },
   "outputs": [],
   "source": [
    "'''relevance = []\n",
    "for i in range(20,40):\n",
    "    if predicted_rank_svd[i] in actual:\n",
    "        relevance.append(1)\n",
    "    else:\n",
    "        relevance.append(0)'''"
   ]
  },
  {
   "cell_type": "code",
   "execution_count": null,
   "metadata": {
    "ExecuteTime": {
     "end_time": "2020-08-14T08:36:26.649520Z",
     "start_time": "2020-08-14T07:59:06.891Z"
    },
    "hidden": true
   },
   "outputs": [],
   "source": [
    "svd_rank_allUsers = []\n",
    "for i in range(1,len(num_users)+1):\n",
    "    already_rated, predictions = recommend_movies(svd_predictions_score_df, i, movies_df, ratings_df, 100)\n",
    "    svd_rank_allUsers.append(predictions['movieId'].index.tolist()) \n"
   ]
  },
  {
   "cell_type": "code",
   "execution_count": null,
   "metadata": {
    "ExecuteTime": {
     "end_time": "2020-08-14T08:36:26.649520Z",
     "start_time": "2020-08-14T07:59:06.899Z"
    },
    "hidden": true
   },
   "outputs": [],
   "source": [
    "'''def NDCG_forUser_SVD(user):\n",
    "    return dcg(svd_predictions[svd_predictions_df.index == user]) / ideal_dcg(svd_predictions[svd_predictions_df.index == user])'''"
   ]
  },
  {
   "cell_type": "code",
   "execution_count": null,
   "metadata": {
    "ExecuteTime": {
     "end_time": "2020-08-14T08:36:26.649520Z",
     "start_time": "2020-08-14T07:59:06.907Z"
    },
    "hidden": true
   },
   "outputs": [],
   "source": [
    "'''NDCG_SVD = NDCG_forUser_SVD(2)'''"
   ]
  },
  {
   "cell_type": "code",
   "execution_count": null,
   "metadata": {
    "ExecuteTime": {
     "end_time": "2020-08-14T08:36:26.649520Z",
     "start_time": "2020-08-14T07:59:06.916Z"
    },
    "hidden": true
   },
   "outputs": [],
   "source": [
    "'''NDCG_SVD'''"
   ]
  },
  {
   "cell_type": "markdown",
   "metadata": {
    "hidden": true
   },
   "source": [
    "Take as features the predicted ratings for the users of SVD and Implicit for the next step?"
   ]
  },
  {
   "cell_type": "markdown",
   "metadata": {},
   "source": [
    "## KNN"
   ]
  },
  {
   "cell_type": "markdown",
   "metadata": {},
   "source": [
    "Pivot is used to have a matrix that has as rows the userIDs and as columns the movieIDs. The unrated, by a user, movies are assigned the value 0 instead of null. Pivot organizes a DataFrame by giving index and column values. It is helpful in the recommender systems approach."
   ]
  },
  {
   "cell_type": "code",
   "execution_count": null,
   "metadata": {
    "ExecuteTime": {
     "end_time": "2020-08-14T08:36:26.665514Z",
     "start_time": "2020-08-14T07:59:06.954Z"
    }
   },
   "outputs": [],
   "source": [
    "df_movie_features = ratings_df.pivot(\n",
    "    index='userId',\n",
    "    columns='movieId',\n",
    "    values='rating'\n",
    ").fillna(0)"
   ]
  },
  {
   "cell_type": "code",
   "execution_count": null,
   "metadata": {
    "ExecuteTime": {
     "end_time": "2020-08-14T08:36:26.665514Z",
     "start_time": "2020-08-14T07:59:06.960Z"
    }
   },
   "outputs": [],
   "source": [
    "df_movie_features"
   ]
  },
  {
   "cell_type": "code",
   "execution_count": null,
   "metadata": {
    "ExecuteTime": {
     "end_time": "2020-08-14T08:36:26.673915Z",
     "start_time": "2020-08-14T07:59:06.967Z"
    }
   },
   "outputs": [],
   "source": [
    "height = [len(df_movie_features.values[df_movie_features.values== 0]),len(df_movie_features.values[df_movie_features.values==0.5]),\n",
    "          len(df_movie_features.values[df_movie_features.values== 1]),len(df_movie_features.values[df_movie_features.values==1.5]),\n",
    "          len(df_movie_features.values[df_movie_features.values== 2]),len(df_movie_features.values[df_movie_features.values==2.5]),\n",
    "          len(df_movie_features.values[df_movie_features.values== 3]),len(df_movie_features.values[df_movie_features.values==3.5]),\n",
    "          len(df_movie_features.values[df_movie_features.values== 4]),len(df_movie_features.values[df_movie_features.values==4.5]),\n",
    "          len(df_movie_features.values[df_movie_features.values== 5])]\n",
    "x = ('0','0.5', '1','1.5' ,'2','2.5', '3','3.5', '4','4.5','5')\n",
    "plt.bar(x, height)\n",
    "plt.xlabel('Rating')\n",
    "plt.ylabel('Number of users')\n",
    "plt.show()\n"
   ]
  },
  {
   "cell_type": "markdown",
   "metadata": {},
   "source": [
    "A lot of ratings in the user-movie matrix are zero, so the data are extremely sparse."
   ]
  },
  {
   "cell_type": "markdown",
   "metadata": {},
   "source": [
    "To makes sesne the idea of obtaining the taste of the users, they should have rated at least 20 movies. Otherwise, the taste of them is not clear. The users that have rated less than 20 movies will be excluded. Also the movies that have less than 20 ratings will be excluded too."
   ]
  },
  {
   "cell_type": "code",
   "execution_count": null,
   "metadata": {
    "ExecuteTime": {
     "end_time": "2020-08-14T08:36:26.677548Z",
     "start_time": "2020-08-14T07:59:06.977Z"
    }
   },
   "outputs": [],
   "source": [
    "popularity_thres = 20\n",
    "popular_movies = list(set(df_movies_cnt.query('count >= @popularity_thres').index))\n",
    "df_ratings_drop_movies = df_ratings[df_ratings.movieId.isin(popular_movies)]\n",
    "print('shape of original ratings data: ', df_ratings.shape)\n",
    "print('shape of ratings data after dropping unpopular movies: ', df_ratings_drop_movies.shape)\n",
    "# filter data to come to an approximation of user likings.\n",
    "ratings_thres = 20\n",
    "active_users = list(set(df_users_cnt.query('count >= @ratings_thres').index))\n",
    "df_ratings_drop_users = df_ratings_drop_movies[df_ratings_drop_movies.userId.isin(active_users)]\n",
    "print('shape of original ratings data: ', df_ratings.shape)\n",
    "print('shape of ratings data after dropping both unpopular movies and inactive users: ', df_ratings_drop_users.shape)"
   ]
  },
  {
   "cell_type": "code",
   "execution_count": null,
   "metadata": {
    "ExecuteTime": {
     "end_time": "2020-08-14T08:36:26.677548Z",
     "start_time": "2020-08-14T07:59:06.983Z"
    }
   },
   "outputs": [],
   "source": [
    "with pd.option_context('display.max_rows', None, 'display.max_columns', None):  # more options can be specified also\n",
    "    print(ratings_df)"
   ]
  },
  {
   "cell_type": "code",
   "execution_count": null,
   "metadata": {
    "ExecuteTime": {
     "end_time": "2020-08-14T08:36:26.685725Z",
     "start_time": "2020-08-14T07:59:06.990Z"
    }
   },
   "outputs": [],
   "source": [
    "ratings_df[24400:24450]"
   ]
  },
  {
   "cell_type": "code",
   "execution_count": null,
   "metadata": {
    "ExecuteTime": {
     "end_time": "2020-08-14T08:36:26.687721Z",
     "start_time": "2020-08-14T07:59:06.996Z"
    }
   },
   "outputs": [],
   "source": [
    "excel_df"
   ]
  }
 ],
 "metadata": {
  "kernelspec": {
   "display_name": "Python 3",
   "language": "python",
   "name": "python3"
  },
  "language_info": {
   "codemirror_mode": {
    "name": "ipython",
    "version": 3
   },
   "file_extension": ".py",
   "mimetype": "text/x-python",
   "name": "python",
   "nbconvert_exporter": "python",
   "pygments_lexer": "ipython3",
   "version": "3.7.7"
  },
  "toc": {
   "base_numbering": 1,
   "nav_menu": {},
   "number_sections": true,
   "sideBar": true,
   "skip_h1_title": false,
   "title_cell": "Table of Contents",
   "title_sidebar": "Contents",
   "toc_cell": false,
   "toc_position": {
    "height": "calc(100% - 180px)",
    "left": "10px",
    "top": "150px",
    "width": "266.2px"
   },
   "toc_section_display": true,
   "toc_window_display": true
  },
  "toc-autonumbering": true,
  "toc-showmarkdowntxt": false,
  "toc-showtags": false,
  "varInspector": {
   "cols": {
    "lenName": 16,
    "lenType": 16,
    "lenVar": 40
   },
   "kernels_config": {
    "python": {
     "delete_cmd_postfix": "",
     "delete_cmd_prefix": "del ",
     "library": "var_list.py",
     "varRefreshCmd": "print(var_dic_list())"
    },
    "r": {
     "delete_cmd_postfix": ") ",
     "delete_cmd_prefix": "rm(",
     "library": "var_list.r",
     "varRefreshCmd": "cat(var_dic_list()) "
    }
   },
   "position": {
    "height": "200.4px",
    "left": "1102px",
    "right": "20px",
    "top": "24px",
    "width": "433px"
   },
   "types_to_exclude": [
    "module",
    "function",
    "builtin_function_or_method",
    "instance",
    "_Feature"
   ],
   "window_display": false
  }
 },
 "nbformat": 4,
 "nbformat_minor": 4
}
